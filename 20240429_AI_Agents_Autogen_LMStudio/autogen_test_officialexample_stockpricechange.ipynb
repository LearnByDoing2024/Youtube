{
 "cells": [
  {
   "cell_type": "markdown",
   "metadata": {},
   "source": [
    "https://microsoft.github.io/autogen/docs/topics/non-openai-models/local-lm-studio/"
   ]
  },
  {
   "cell_type": "code",
   "execution_count": 4,
   "metadata": {},
   "outputs": [],
   "source": [
    "gemma = {\n",
    "    \"config_list\": [\n",
    "        {\n",
    "            \"model\": \"lmstudio-ai/gemma-2b-it-GGUF/gemma-2b-it-q8_0.gguf:0\",\n",
    "            \"base_url\": \"http://localhost:1234/v1\",\n",
    "            \"api_key\": \"lm-studio\",\n",
    "        },\n",
    "    ],\n",
    "    \"cache_seed\": None,  # Disable caching.\n",
    "}\n",
    "\n",
    "phi2 = {\n",
    "    \"config_list\": [\n",
    "        {\n",
    "            \"model\": \"TheBloke/phi-2-GGUF/phi-2.Q4_K_S.gguf:0\",\n",
    "            \"base_url\": \"http://localhost:1234/v1\",\n",
    "            \"api_key\": \"lm-studio\",\n",
    "        },\n",
    "    ],\n",
    "    \"cache_seed\": None,  # Disable caching.\n",
    "}"
   ]
  },
  {
   "cell_type": "code",
   "execution_count": 5,
   "metadata": {},
   "outputs": [],
   "source": [
    "from autogen import ConversableAgent\n",
    "\n",
    "jack = ConversableAgent(\n",
    "    \"Jack (Phi-2)\",\n",
    "    llm_config=phi2,\n",
    "    system_message=\"Your name is Jack and you are a comedian in a two-person comedy show.\",\n",
    ")\n",
    "emma = ConversableAgent(\n",
    "    \"Emma (Gemma)\",\n",
    "    llm_config=gemma,\n",
    "    system_message=\"Your name is Emma and you are a comedian in two-person comedy show.\",\n",
    ")"
   ]
  },
  {
   "cell_type": "code",
   "execution_count": 6,
   "metadata": {},
   "outputs": [
    {
     "name": "stdout",
     "output_type": "stream",
     "text": [
      "\u001b[33mJack (Phi-2)\u001b[0m (to Emma (Gemma)):\n",
      "\n",
      "Emma, tell me a joke.\n",
      "\n",
      "--------------------------------------------------------------------------------\n",
      "\u001b[31m\n",
      ">>>>>>>> USING AUTO REPLY...\u001b[0m\n",
      "\u001b[33mEmma (Gemma)\u001b[0m (to Jack (Phi-2)):\n",
      "\n",
      " Of course! Here's a light-hearted joke for you:\n",
      "\n",
      "Why don't scientists trust atoms?\n",
      "\n",
      "Because they make up everything!\n",
      "\n",
      "I hope that brought a smile to your face. Do you have any other questions or topics you'd like me to tackle in this two-person comedy show? Let me know and we can explore the world of humor together!\n",
      "\n",
      "--------------------------------------------------------------------------------\n",
      "\u001b[31m\n",
      ">>>>>>>> USING AUTO REPLY...\u001b[0m\n",
      "\u001b[33mJack (Phi-2)\u001b[0m (to Emma (Gemma)):\n",
      "\n",
      "Jack, that was a great joke! I'm glad it brought a smile to your face as well.\n",
      "\n",
      "As for topics in our two-person comedy show, how about we touch on the absurdity of everyday life? We could talk about things like traffic jams, long lines at the grocery store, or the confusion of using technology. What do you think?\n",
      "\n",
      "Or perhaps we could discuss the quirks and oddities of human behavior and relationships? The silliness and inconsistencies of social norms and societal expectations? Let me know what you think would be fun to explore!\n",
      "\n",
      "--------------------------------------------------------------------------------\n",
      "\u001b[31m\n",
      ">>>>>>>> USING AUTO REPLY...\u001b[0m\n",
      "\u001b[33mEmma (Gemma)\u001b[0m (to Jack (Phi-2)):\n",
      "\n",
      " I absolutely agree, Emma! The absurdity of everyday life is a rich vein of humor to mine. Traffic jams, long lines, and technology malfunctions are all relatable experiences that can provide plenty of comedic fodder.\n",
      "\n",
      "And, yes, the quirks and oddities of human behavior and relationships are another fascinating area of exploration. Let's not forget about the strange social norms and societal expectations that often leave us scratching our heads and laughing at the world around us! I'm excited to delve into these topics with you in our two-person comedy show. What say you? Which direction would you like to start with?\n",
      "\n",
      "--------------------------------------------------------------------------------\n"
     ]
    }
   ],
   "source": [
    "chat_result = jack.initiate_chat(emma, message=\"Emma, tell me a joke.\", max_turns=2)"
   ]
  }
 ],
 "metadata": {
  "kernelspec": {
   "display_name": "tg",
   "language": "python",
   "name": "python3"
  },
  "language_info": {
   "codemirror_mode": {
    "name": "ipython",
    "version": 3
   },
   "file_extension": ".py",
   "mimetype": "text/x-python",
   "name": "python",
   "nbconvert_exporter": "python",
   "pygments_lexer": "ipython3",
   "version": "3.12.3"
  }
 },
 "nbformat": 4,
 "nbformat_minor": 2
}
