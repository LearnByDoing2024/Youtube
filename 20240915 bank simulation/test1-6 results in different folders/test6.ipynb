version https://git-lfs.github.com/spec/v1
oid sha256:27fda12deb8b7a8a872169970be021eb6df50929e52c8c9f81544ff180c798e6
size 31250
