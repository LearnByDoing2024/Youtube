version https://git-lfs.github.com/spec/v1
oid sha256:6956c6a0e06837e81b6d4c1c9bbe4f500552c52cacf04d62b55f879c7430b1fa
size 307577
