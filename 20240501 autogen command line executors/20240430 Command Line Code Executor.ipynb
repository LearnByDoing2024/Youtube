version https://git-lfs.github.com/spec/v1
oid sha256:ec47be69c7b6e16a305ac684960d22315c2e3a2e4335f60e8c8e96f7274aa46b
size 85200
