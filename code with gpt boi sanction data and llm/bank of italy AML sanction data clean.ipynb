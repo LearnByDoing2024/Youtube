{
 "cells": [
  {
   "cell_type": "markdown",
   "metadata": {},
   "source": [
    "# save pdf to csv success"
   ]
  },
  {
   "cell_type": "code",
   "execution_count": 30,
   "metadata": {},
   "outputs": [],
   "source": [
    "import requests\n",
    "from bs4 import BeautifulSoup\n",
    "import PyPDF2\n",
    "import pandas as pd\n",
    "from urllib.parse import urljoin\n",
    "\n",
    "# Base URL of the webpage with PDF links\n",
    "base_url = \"https://www.bancaditalia.it/compiti/vigilanza/provvedimenti-sanzionatori/index.html?page=\"\n",
    "\n",
    "# Initialize an empty list to store all PDF links\n",
    "all_pdf_links = []\n",
    "\n",
    "# Loop through all pages\n",
    "for page_num in range(1, 19):  # Assuming there are 18 pages(be 19 for next try)\n",
    "    # Construct the URL for the current page\n",
    "    page_url = base_url + str(page_num)\n",
    "\n",
    "    # Send a GET request to the webpage\n",
    "    response = requests.get(page_url)\n",
    "\n",
    "    # Parse the HTML content using BeautifulSoup\n",
    "    soup = BeautifulSoup(response.content, 'html.parser')\n",
    "\n",
    "    # Find all PDF links on the current page\n",
    "    for link in soup.find_all('a', href=True):\n",
    "        pdf_link = link['href']\n",
    "        if pdf_link.startswith('/compiti/vigilanza/provvedimenti-sanzionatori/documenti/'):\n",
    "            # Join the relative URL with the base URL\n",
    "            pdf_link = urljoin('https://www.bancaditalia.it', pdf_link)\n",
    "            all_pdf_links.append(pdf_link)\n",
    "\n",
    "# Create a Pandas DataFrame to store the extracted text content\n",
    "df = pd.DataFrame(columns=['PDF_Link', 'Text_Content'])\n",
    "\n",
    "# Loop through each PDF link and extract text content\n",
    "for pdf_link in all_pdf_links:\n",
    "    # Send a GET request to the PDF link\n",
    "    pdf_response = requests.get(pdf_link, stream=True)\n",
    "\n",
    "    # Open the PDF file in binary mode\n",
    "    with open('temp.pdf', 'wb') as f:\n",
    "        f.write(pdf_response.content)\n",
    "\n",
    "    # Read the PDF file using PyPDF2\n",
    "    with open('temp.pdf', 'rb') as f:\n",
    "        pdf = PyPDF2.PdfReader(f)\n",
    "        text_content = ''\n",
    "        for page in pdf.pages:\n",
    "            text_content += page.extract_text()\n",
    "\n",
    "    # Add the extracted text content to the DataFrame\n",
    "    new_row = {'PDF_Link': pdf_link, 'Text_Content': text_content}\n",
    "    df.loc[len(df)] = new_row\n",
    "\n",
    "    # Remove the temporary PDF file\n",
    "    import os\n",
    "    os.remove('temp.pdf')\n",
    "\n",
    "# Save the DataFrame to a CSV file with utf-8 encoding\n",
    "df.to_csv('pdf_text_content.csv', index=False, encoding='utf-8-sig')\n",
    "\n",
    "# df.to_json('pdf_text_content.json', orient='records', lines=True, force_ascii=False)\n"
   ]
  },
  {
   "cell_type": "markdown",
   "metadata": {},
   "source": [
    "# local llmFull code without date"
   ]
  },
  {
   "cell_type": "code",
   "execution_count": 18,
   "metadata": {},
   "outputs": [
    {
     "name": "stdout",
     "output_type": "stream",
     "text": [
      "                                            PDF_Link  \\\n",
      "0  https://www.bancaditalia.it/compiti/vigilanza/...   \n",
      "1  https://www.bancaditalia.it/compiti/vigilanza/...   \n",
      "2  https://www.bancaditalia.it/compiti/vigilanza/...   \n",
      "3  https://www.bancaditalia.it/compiti/vigilanza/...   \n",
      "4  https://www.bancaditalia.it/compiti/vigilanza/...   \n",
      "5  https://www.bancaditalia.it/compiti/vigilanza/...   \n",
      "6  https://www.bancaditalia.it/compiti/vigilanza/...   \n",
      "7  https://www.bancaditalia.it/compiti/vigilanza/...   \n",
      "8  https://www.bancaditalia.it/compiti/vigilanza/...   \n",
      "9  https://www.bancaditalia.it/compiti/vigilanza/...   \n",
      "\n",
      "                                        Text_Content  \\\n",
      "0                                                ...   \n",
      "1                                                ...   \n",
      "2                                                ...   \n",
      "3                                                ...   \n",
      "4                                                ...   \n",
      "5                                                ...   \n",
      "6                                                ...   \n",
      "7                                                ...   \n",
      "8                                                ...   \n",
      "9                                                ...   \n",
      "\n",
      "                                       Sanction_Info  \n",
      "0  [Generalfinance Spa, € 30,000, Irregularities ...  \n",
      "1  [Generalfinance Spa, €30,000, Irregularities i...  \n",
      "2  [Solution Bank Spa, €35,000, Irregularities in...  \n",
      "3                                                 []  \n",
      "4  [Banca Popolare del Mediterraneo Scpa, € 75,00...  \n",
      "5  [Prelios Credit Servicing Spa, €30,000, Irregu...  \n",
      "6                                                 []  \n",
      "7                                                 []  \n",
      "8                                                 []  \n",
      "9  [FRAMONT & PARTNERS MANAGEMENT LIMITED (Succur...  \n"
     ]
    }
   ],
   "source": [
    "import pandas as pd\n",
    "import requests\n",
    "\n",
    "# Set the LM Studio server URL and port\n",
    "lmstudio_url = \"http://localhost:1234/v1\"\n",
    "\n",
    "# Define a function to send a request to the LM Studio server with token limit\n",
    "def extract_sanction_info(text):\n",
    "    max_tokens = 200  # Appropriate token limit based on previous tests\n",
    "    sanction_info = []\n",
    "\n",
    "    url = f\"{lmstudio_url}/chat/completions\"\n",
    "    prompt = f\"Please provide a concise, structured format: Sanctioned entity, amount, and reason based on the following text: \\n\\n{text}\"\n",
    "    payload = {\n",
    "        \"model\": \"lmstudio-community/Meta-Llama-3-8B-Instruct-GGUF\",\n",
    "        \"messages\": [{\"role\": \"user\", \"content\": prompt}],\n",
    "        \"temperature\": 0,\n",
    "        \"max_tokens\": max_tokens\n",
    "    }\n",
    "\n",
    "    try:\n",
    "        response = requests.post(url, json=payload, headers={\"Authorization\": \"Bearer lm-studio\"})\n",
    "        response_json = response.json()\n",
    "    except requests.RequestException as e:\n",
    "        print(\"Request failed:\", e)\n",
    "        return sanction_info  # Return empty list if there is a request issue\n",
    "\n",
    "    if \"choices\" in response_json and len(response_json[\"choices\"]) > 0:\n",
    "        completion_text = response_json[\"choices\"][0][\"message\"][\"content\"]\n",
    "        for line in completion_text.splitlines():\n",
    "            line = line.strip()\n",
    "            if line.startswith(\"* Sanctioned Entity:\"):\n",
    "                sanction_info.append(line.split(\":\")[1].strip())\n",
    "            elif line.startswith(\"* Amount:\"):\n",
    "                sanction_info.append(line.split(\":\")[1].strip())\n",
    "            elif line.startswith(\"* Reason:\"):\n",
    "                reason = line.split(\":\")[1].strip()\n",
    "                sanction_info.append(reason)\n",
    "\n",
    "    return sanction_info\n",
    "\n",
    "# Load the CSV file\n",
    "df = pd.read_csv('pdf_text_content.csv')\n",
    "\n",
    "# Apply the extraction function to each row in the DataFrame\n",
    "# Assuming the relevant text is in the second column of the DataFrame\n",
    "df['Sanction_Info'] = df.iloc[:, 1].apply(extract_sanction_info)\n",
    "\n",
    "# Print the resulting DataFrame with extracted information\n",
    "print(df)\n"
   ]
  },
  {
   "cell_type": "markdown",
   "metadata": {},
   "source": [
    "make last column in separate columns"
   ]
  },
  {
   "cell_type": "code",
   "execution_count": 29,
   "metadata": {},
   "outputs": [
    {
     "name": "stdout",
     "output_type": "stream",
     "text": [
      "                                            PDF_Link  \\\n",
      "0  https://www.bancaditalia.it/compiti/vigilanza/...   \n",
      "1  https://www.bancaditalia.it/compiti/vigilanza/...   \n",
      "2  https://www.bancaditalia.it/compiti/vigilanza/...   \n",
      "3  https://www.bancaditalia.it/compiti/vigilanza/...   \n",
      "4  https://www.bancaditalia.it/compiti/vigilanza/...   \n",
      "5  https://www.bancaditalia.it/compiti/vigilanza/...   \n",
      "6  https://www.bancaditalia.it/compiti/vigilanza/...   \n",
      "7  https://www.bancaditalia.it/compiti/vigilanza/...   \n",
      "8  https://www.bancaditalia.it/compiti/vigilanza/...   \n",
      "9  https://www.bancaditalia.it/compiti/vigilanza/...   \n",
      "\n",
      "                                        Text_Content  \\\n",
      "0                                                ...   \n",
      "1                                                ...   \n",
      "2                                                ...   \n",
      "3                                                ...   \n",
      "4                                                ...   \n",
      "5                                                ...   \n",
      "6                                                ...   \n",
      "7                                                ...   \n",
      "8                                                ...   \n",
      "9                                                ...   \n",
      "\n",
      "                                   Sanctioned_Entity  Sanctioned_Amount  \\\n",
      "0                                 Generalfinance Spa            30000.0   \n",
      "1                                 Generalfinance Spa            30000.0   \n",
      "2                                                                   0.0   \n",
      "3               Banca Popolare del Mediterraneo Scpa            75000.0   \n",
      "4                                  Solution Bank Spa            35000.0   \n",
      "5                       Prelios Credit Servicing Spa            30000.0   \n",
      "6                                                                   0.0   \n",
      "7                                                                   0.0   \n",
      "8                                                                   0.0   \n",
      "9  FRAMONT & PARTNERS MANAGEMENT LIMITED (Succurs...            30000.0   \n",
      "\n",
      "                                     Sanction_Reason  \n",
      "0  Irregularities in verifying, profiling, and ac...  \n",
      "1  Irregularities in reporting to the Organismo d...  \n",
      "2                                                     \n",
      "3                 Irregularities in organization and  \n",
      "4  Irregolarities in profiling, adequate verifica...  \n",
      "5  Irregularities in organization and internal co...  \n",
      "6                                                     \n",
      "7                                                     \n",
      "8                                                     \n",
      "9  Irregolarities in assetti organizzativi e cont...  \n"
     ]
    }
   ],
   "source": [
    "import pandas as pd\n",
    "import requests\n",
    "from concurrent.futures import ThreadPoolExecutor, as_completed\n",
    "\n",
    "lmstudio_url = \"http://localhost:1234/v1\"\n",
    "\n",
    "def extract_sanction_info(text):\n",
    "    max_tokens = 200\n",
    "    url = f\"{lmstudio_url}/chat/completions\"\n",
    "    prompt = f\"Please provide a concise, structured format: Sanctioned entity, amount, and reason based on the following text: \\n\\n{text}\"\n",
    "    payload = {\n",
    "        \"model\": \"lmstudio-community/Meta-Llama-3-8B-Instruct-GGUF\",\n",
    "        \"messages\": [{\"role\": \"user\", \"content\": prompt}],\n",
    "        \"temperature\": 0,\n",
    "        \"max_tokens\": max_tokens\n",
    "    }\n",
    "    try:\n",
    "        response = requests.post(url, json=payload, headers={\"Authorization\": \"Bearer lm-studio\"})\n",
    "        response_json = response.json()\n",
    "        return response_json\n",
    "    except requests.RequestException as e:\n",
    "        print(f\"Request failed for {text[:30]}...: {str(e)}\")\n",
    "        return None\n",
    "\n",
    "def process_text_data(text_data):\n",
    "    entity = \"\"\n",
    "    amount = 0\n",
    "    reason = \"\"\n",
    "    if text_data:\n",
    "        for choice in text_data.get(\"choices\", []):\n",
    "            completion_text = choice[\"message\"][\"content\"]\n",
    "            for line in completion_text.splitlines():\n",
    "                line = line.strip()\n",
    "                if line.startswith(\"* Sanctioned Entity:\"):\n",
    "                    entity = line.split(\":\")[1].strip()\n",
    "                elif line.startswith(\"* Amount:\"):\n",
    "                    # Remove currency symbols and convert to float\n",
    "                    amount_str = line.split(\":\")[1].strip()\n",
    "                    amount = float(amount_str.replace('€', '').replace(',', '').strip())\n",
    "                elif line.startswith(\"* Reason:\"):\n",
    "                    reason = line.split(\":\")[1].strip()\n",
    "    return entity, amount, reason\n",
    "\n",
    "df = pd.read_csv('pdf_text_content.csv')\n",
    "texts = df.iloc[:, 1].tolist()\n",
    "\n",
    "results = []\n",
    "\n",
    "with ThreadPoolExecutor(max_workers=5) as executor:\n",
    "    futures = {executor.submit(extract_sanction_info, text): text for text in texts}\n",
    "    for future in as_completed(futures):\n",
    "        response_data = future.result()\n",
    "        entity, amount, reason = process_text_data(response_data)\n",
    "        results.append((entity, amount, reason))\n",
    "\n",
    "# Assuming results is a list of tuples (entity, amount, reason)\n",
    "df_result = pd.DataFrame(results, columns=['Sanctioned_Entity', 'Sanctioned_Amount', 'Sanction_Reason'])\n",
    "# Combine the original DataFrame with the results\n",
    "df_final = pd.concat([df, df_result], axis=1)\n",
    "\n",
    "print(df_final)\n"
   ]
  },
  {
   "cell_type": "markdown",
   "metadata": {},
   "source": [
    "# local llmFull code with date(to retry)"
   ]
  },
  {
   "cell_type": "code",
   "execution_count": 39,
   "metadata": {},
   "outputs": [
    {
     "name": "stdout",
     "output_type": "stream",
     "text": [
      "Response Data: {'id': 'chatcmpl-rratssoq3zssfaydwvz6q9', 'object': 'chat.completion', 'created': 1714056634, 'model': 'bartowski/stable-code-instruct-3b-GGUF/stable-code-instruct-3b-Q8_0.gguf', 'choices': [{'index': 0, 'message': {'role': 'assistant', 'content': 'Date of Sanction: 6.2.2024\\nSanctioned Entity: Generalfinance Spa\\nAmount: € 3 0.000\\nReason of Sanction (less than 20 words): Violation of anti-money laundering rules\\nAll the required information has been extracted and returned.'}, 'finish_reason': 'stop'}], 'usage': {'prompt_tokens': 59, 'completion_tokens': 59, 'total_tokens': 118}}\n",
      "Completion Text: Date of Sanction: 6.2.2024\n",
      "Sanctioned Entity: Generalfinance Spa\n",
      "Amount: € 3 0.000\n",
      "Reason of Sanction (less than 20 words): Violation of anti-money laundering rules\n",
      "All the required information has been extracted and returned.\n",
      "Parsed Date of Sanction: 2024-02-06 00:00:00\n",
      "Parsed Sanctioned Entity: Generalfinance Spa\n",
      "Original Amount String: € 3 0.000\n",
      "Aggregated Amount: 30000\n",
      "Parsed Reason of Sanction: Violation of anti-money laundering rules\n",
      "Processed Result: ('Generalfinance Spa', 30000, 'Violation of anti-money laundering rules', datetime.datetime(2024, 2, 6, 0, 0))\n",
      "Response Data: {'id': 'chatcmpl-jozk90b7srpu3dlpt0l4xg', 'object': 'chat.completion', 'created': 1714056634, 'model': 'bartowski/stable-code-instruct-3b-GGUF/stable-code-instruct-3b-Q8_0.gguf', 'choices': [{'index': 0, 'message': {'role': 'assistant', 'content': 'Date of Sanction: 23.1.2024\\nSanctioned Entity: Solution Bank Spa\\nAmount: € 3 5.000\\nReason of Sanction (less than 20 words): \"Disposizioni in materia di organizzazione, procedure e controlli interni in \\nmateria  antiriciclaggio\"; Provvedimento B.I. del 30.07.2019 “Disposizioni in materia di adeguata ver'}, 'finish_reason': 'stop'}], 'usage': {'prompt_tokens': 99, 'completion_tokens': 99, 'total_tokens': 198}}\n",
      "Completion Text: Date of Sanction: 23.1.2024\n",
      "Sanctioned Entity: Solution Bank Spa\n",
      "Amount: € 3 5.000\n",
      "Reason of Sanction (less than 20 words): \"Disposizioni in materia di organizzazione, procedure e controlli interni in \n",
      "materia  antiriciclaggio\"; Provvedimento B.I. del 30.07.2019 “Disposizioni in materia di adeguata ver\n",
      "Parsed Date of Sanction: 2024-01-23 00:00:00\n",
      "Parsed Sanctioned Entity: Solution Bank Spa\n",
      "Original Amount String: € 3 5.000\n",
      "Aggregated Amount: 35000\n",
      "Parsed Reason of Sanction: \"Disposizioni in materia di organizzazione, procedure e controlli interni in\n",
      "Processed Result: ('Solution Bank Spa', 35000, '\"Disposizioni in materia di organizzazione, procedure e controlli interni in', datetime.datetime(2024, 1, 23, 0, 0))\n",
      "Response Data: {'id': 'chatcmpl-ma5dvmcljmo7rqo4hn51', 'object': 'chat.completion', 'created': 1714056634, 'model': 'bartowski/stable-code-instruct-3b-GGUF/stable-code-instruct-3b-Q8_0.gguf', 'choices': [{'index': 0, 'message': {'role': 'assistant', 'content': 'Extracted Information:\\n\\n1. Date of Sanction: 6.2.2024\\n2. Sanctioned Entity: Generalfinance Spa\\n3. Amount: € 30.000\\n4. Reason of Sanction (less than 20 words): Oversight by the Governor\\n\\nNote: The information provided is based on the given text and may not be accurate or complete.'}, 'finish_reason': 'stop'}], 'usage': {'prompt_tokens': 81, 'completion_tokens': 81, 'total_tokens': 162}}\n",
      "Completion Text: Extracted Information:\n",
      "\n",
      "1. Date of Sanction: 6.2.2024\n",
      "2. Sanctioned Entity: Generalfinance Spa\n",
      "3. Amount: € 30.000\n",
      "4. Reason of Sanction (less than 20 words): Oversight by the Governor\n",
      "\n",
      "Note: The information provided is based on the given text and may not be accurate or complete.\n",
      "Parsed Date of Sanction: 2024-02-06 00:00:00\n",
      "Parsed Sanctioned Entity: Generalfinance Spa\n",
      "Original Amount String: € 30.000\n",
      "Aggregated Amount: 30000\n",
      "Parsed Reason of Sanction: Oversight by the Governor\n",
      "Processed Result: ('Generalfinance Spa', 30000, 'Oversight by the Governor', datetime.datetime(2024, 2, 6, 0, 0))\n",
      "Response Data: {'id': 'chatcmpl-qito06ktgbl6hao2c4gfsy', 'object': 'chat.completion', 'created': 1714056634, 'model': 'bartowski/stable-code-instruct-3b-GGUF/stable-code-instruct-3b-Q8_0.gguf', 'choices': [{'index': 0, 'message': {'role': 'assistant', 'content': 'Extracted Information:\\n\\n1. Date of Sanction: 9.1.2024\\n2. Sanctioned Entity: Banca Popolare del Mediterraneo Scpa\\n3. Amount: € 75.000\\n4. Reason of Sanction (less than 20 words): Inflationary stress due to the increase in cost of living and services.\\n\\nNote: The information provided is based on the given text and may not be accurate or complete.'}, 'finish_reason': 'stop'}], 'usage': {'prompt_tokens': 98, 'completion_tokens': 98, 'total_tokens': 196}}\n",
      "Completion Text: Extracted Information:\n",
      "\n",
      "1. Date of Sanction: 9.1.2024\n",
      "2. Sanctioned Entity: Banca Popolare del Mediterraneo Scpa\n",
      "3. Amount: € 75.000\n",
      "4. Reason of Sanction (less than 20 words): Inflationary stress due to the increase in cost of living and services.\n",
      "\n",
      "Note: The information provided is based on the given text and may not be accurate or complete.\n",
      "Parsed Date of Sanction: 2024-01-09 00:00:00\n",
      "Parsed Sanctioned Entity: Banca Popolare del Mediterraneo Scpa\n",
      "Original Amount String: € 75.000\n",
      "Aggregated Amount: 75000\n",
      "Parsed Reason of Sanction: Inflationary stress due to the increase in cost of living and services.\n",
      "Processed Result: ('Banca Popolare del Mediterraneo Scpa', 75000, 'Inflationary stress due to the increase in cost of living and services.', datetime.datetime(2024, 1, 9, 0, 0))\n",
      "Response Data: {'id': 'chatcmpl-oq21gvxddioyqb4yxcfc', 'object': 'chat.completion', 'created': 1714056634, 'model': 'bartowski/stable-code-instruct-3b-GGUF/stable-code-instruct-3b-Q8_0.gguf', 'choices': [{'index': 0, 'message': {'role': 'assistant', 'content': 'Extracted Information:\\n\\n1) Date of Sanction: 01/03/2024\\n\\n2) Sanctioned Entity: Banca Popolare del Mediterraneo Scpa\\n\\n3) Amount: € 19.000 (for Giovanni Castellano) and € 14.000 (for the other mentioned individuals))\\n\\n4) Reason of Sanction (less than 20 words): ProvvediatePrecëÃÃÂ�ÃÃÃÃÃÃ'}, 'finish_reason': 'stop'}], 'usage': {'prompt_tokens': 99, 'completion_tokens': 98, 'total_tokens': 197}}\n",
      "Completion Text: Extracted Information:\n",
      "\n",
      "1) Date of Sanction: 01/03/2024\n",
      "\n",
      "2) Sanctioned Entity: Banca Popolare del Mediterraneo Scpa\n",
      "\n",
      "3) Amount: € 19.000 (for Giovanni Castellano) and € 14.000 (for the other mentioned individuals))\n",
      "\n",
      "4) Reason of Sanction (less than 20 words): ProvvediatePrecëÃÃÂ�ÃÃÃÃÃÃ\n",
      "Date parsing error: time data '01/03/2024' does not match format '%d.%m.%Y'\n",
      "Parsed Sanctioned Entity: Banca Popolare del Mediterraneo Scpa\n",
      "Original Amount String: € 19.000 (for Giovanni Castellano) and € 14.000 (for the other mentioned individuals))\n",
      "Aggregated Amount: 14019\n",
      "Parsed Reason of Sanction: ProvvediatePrecëÃÃÂ�ÃÃÃÃÃÃ\n",
      "Processed Result: ('Banca Popolare del Mediterraneo Scpa', 14019, 'ProvvediatePrecëÃÃÂ�ÃÃÃÃÃÃ', None)\n",
      "Response Data: {'id': 'chatcmpl-o2rai8loi1mds13k3glww9', 'object': 'chat.completion', 'created': 1714056637, 'model': 'bartowski/stable-code-instruct-3b-GGUF/stable-code-instruct-3b-Q8_0.gguf', 'choices': [{'index': 0, 'message': {'role': 'assistant', 'content': 'Extracted Information:\\n\\n1. Date of Sanction: 5.12.2023\\n2. Sanctioned Entity: Prelios Credit Servicing Spa\\n3. Amount: € 3 0.000\\n4. Reason of Sanction (less than 20 words): Possession of fraudulent assets and/or liabilities\\n\\nNote: The information provided is based on the given text and may not be accurate or complete.'}, 'finish_reason': 'stop'}], 'usage': {'prompt_tokens': 88, 'completion_tokens': 88, 'total_tokens': 176}}\n",
      "Completion Text: Extracted Information:\n",
      "\n",
      "1. Date of Sanction: 5.12.2023\n",
      "2. Sanctioned Entity: Prelios Credit Servicing Spa\n",
      "3. Amount: € 3 0.000\n",
      "4. Reason of Sanction (less than 20 words): Possession of fraudulent assets and/or liabilities\n",
      "\n",
      "Note: The information provided is based on the given text and may not be accurate or complete.\n",
      "Parsed Date of Sanction: 2023-12-05 00:00:00\n",
      "Parsed Sanctioned Entity: Prelios Credit Servicing Spa\n",
      "Original Amount String: € 3 0.000\n",
      "Aggregated Amount: 30000\n",
      "Parsed Reason of Sanction: Possession of fraudulent assets and/or liabilities\n",
      "Processed Result: ('Prelios Credit Servicing Spa', 30000, 'Possession of fraudulent assets and/or liabilities', datetime.datetime(2023, 12, 5, 0, 0))\n",
      "Response Data: {'id': 'chatcmpl-3s02rdwdjzyw1rt0rhinm', 'object': 'chat.completion', 'created': 1714056640, 'model': 'bartowski/stable-code-instruct-3b-GGUF/stable-code-instruct-3b-Q8_0.gguf', 'choices': [{'index': 0, 'message': {'role': 'assistant', 'content': 'Date of Sanction: 28.11.2023\\nSanctioned Entity: Bank of Italy SGR Spa\\nAmount: € 48,000\\nReason of Sanction (less than 20 words): Violation of anti-money laundering rules\\nNote: The information provided is based on the available data and may not be accurate or complete.'}, 'finish_reason': 'stop'}], 'usage': {'prompt_tokens': 69, 'completion_tokens': 69, 'total_tokens': 138}}\n",
      "Completion Text: Date of Sanction: 28.11.2023\n",
      "Sanctioned Entity: Bank of Italy SGR Spa\n",
      "Amount: € 48,000\n",
      "Reason of Sanction (less than 20 words): Violation of anti-money laundering rules\n",
      "Note: The information provided is based on the available data and may not be accurate or complete.\n",
      "Parsed Date of Sanction: 2023-11-28 00:00:00\n",
      "Parsed Sanctioned Entity: Bank of Italy SGR Spa\n",
      "Original Amount String: € 48,000\n",
      "Aggregated Amount: 48000\n",
      "Parsed Reason of Sanction: Violation of anti-money laundering rules\n",
      "Processed Result: ('Bank of Italy SGR Spa', 48000, 'Violation of anti-money laundering rules', datetime.datetime(2023, 11, 28, 0, 0))\n",
      "Response Data: {'id': 'chatcmpl-o86wdgror3dhn0hh3281', 'object': 'chat.completion', 'created': 1714056642, 'model': 'bartowski/stable-code-instruct-3b-GGUF/stable-code-instruct-3b-Q8_0.gguf', 'choices': [{'index': 0, 'message': {'role': 'assistant', 'content': 'Extracted Information:\\n\\n1. Date of Sanction: 28.11.2023\\n2. Sanctioned Entity: Value Italy SGR Spa\\n3. Amount: € 6,000.000\\n4. Reason of Sanction (less than 20 words): Extreme irregularities in the governance, control and management of risks with reflected on the process of valuation.\\n\\nNote: The information provided is based on publicly available data and may not be accurate or complete.'}, 'finish_reason': 'stop'}], 'usage': {'prompt_tokens': 99, 'completion_tokens': 99, 'total_tokens': 198}}\n",
      "Completion Text: Extracted Information:\n",
      "\n",
      "1. Date of Sanction: 28.11.2023\n",
      "2. Sanctioned Entity: Value Italy SGR Spa\n",
      "3. Amount: € 6,000.000\n",
      "4. Reason of Sanction (less than 20 words): Extreme irregularities in the governance, control and management of risks with reflected on the process of valuation.\n",
      "\n",
      "Note: The information provided is based on publicly available data and may not be accurate or complete.\n",
      "Parsed Date of Sanction: 2023-11-28 00:00:00\n",
      "Parsed Sanctioned Entity: Value Italy SGR Spa\n",
      "Original Amount String: € 6,000.000\n",
      "Aggregated Amount: 6000\n",
      "Parsed Reason of Sanction: Extreme irregularities in the governance, control and management of risks with reflected on the process of valuation.\n",
      "Processed Result: ('Value Italy SGR Spa', 6000, 'Extreme irregularities in the governance, control and management of risks with reflected on the process of valuation.', datetime.datetime(2023, 11, 28, 0, 0))\n",
      "Response Data: {'id': 'chatcmpl-zhq63o9qk39gzej4a23yvt', 'object': 'chat.completion', 'created': 1714056645, 'model': 'bartowski/stable-code-instruct-3b-GGUF/stable-code-instruct-3b-Q8_0.gguf', 'choices': [{'index': 0, 'message': {'role': 'assistant', 'content': 'Extracted Information:\\n\\n1. Date of Sanction: 11th November 2023\\n2. Sanctioned Entity: Framont & Partners Management Limited\\n3. Amount: € 23,000\\n4. Reason of Sanction (less than 20 words): Violation of anti-money laundering rules.\\n\\nPlease let me know if you need any further assistance.'}, 'finish_reason': 'stop'}], 'usage': {'prompt_tokens': 78, 'completion_tokens': 78, 'total_tokens': 156}}\n",
      "Completion Text: Extracted Information:\n",
      "\n",
      "1. Date of Sanction: 11th November 2023\n",
      "2. Sanctioned Entity: Framont & Partners Management Limited\n",
      "3. Amount: € 23,000\n",
      "4. Reason of Sanction (less than 20 words): Violation of anti-money laundering rules.\n",
      "\n",
      "Please let me know if you need any further assistance.\n",
      "Date parsing error: time data '11th November 2023' does not match format '%d.%m.%Y'\n",
      "Parsed Sanctioned Entity: Framont & Partners Management Limited\n",
      "Original Amount String: € 23,000\n",
      "Aggregated Amount: 23000\n",
      "Parsed Reason of Sanction: Violation of anti-money laundering rules.\n",
      "Processed Result: ('Framont & Partners Management Limited', 23000, 'Violation of anti-money laundering rules.', None)\n",
      "Response Data: {'id': 'chatcmpl-ntu9ewb3trthxwv32g9qsp', 'object': 'chat.completion', 'created': 1714056648, 'model': 'bartowski/stable-code-instruct-3b-GGUF/stable-code-instruct-3b-Q8_0.gguf', 'choices': [{'index': 0, 'message': {'role': 'assistant', 'content': 'To extract the required information, I will analyze the provided documents and extract the necessary details.\\n\\nHere is the extracted information:\\n\\n- Date of Sanction: 7.11.2023\\n- Sanctioned Entity: Framont & Partners Management Limited (Italian: Framont & Partneri Management Limited))\\n- Amount: € 3,000.00\\n- Reason of Sanction (less than 20 words): violation of anti-money laundering rules\\n\\nPlease'}, 'finish_reason': 'stop'}], 'usage': {'prompt_tokens': 99, 'completion_tokens': 99, 'total_tokens': 198}}\n",
      "Completion Text: To extract the required information, I will analyze the provided documents and extract the necessary details.\n",
      "\n",
      "Here is the extracted information:\n",
      "\n",
      "- Date of Sanction: 7.11.2023\n",
      "- Sanctioned Entity: Framont & Partners Management Limited (Italian: Framont & Partneri Management Limited))\n",
      "- Amount: € 3,000.00\n",
      "- Reason of Sanction (less than 20 words): violation of anti-money laundering rules\n",
      "\n",
      "Please\n",
      "Parsed Date of Sanction: 2023-11-07 00:00:00\n",
      "Parsed Sanctioned Entity: Framont & Partners Management Limited (Italian\n",
      "Original Amount String: € 3,000.00\n",
      "Aggregated Amount: 3000\n",
      "Parsed Reason of Sanction: violation of anti-money laundering rules\n",
      "Processed Result: ('Framont & Partners Management Limited (Italian', 3000, 'violation of anti-money laundering rules', datetime.datetime(2023, 11, 7, 0, 0))\n",
      "Response Data: {'id': 'chatcmpl-07q3gk471hyqre8y6aud59a', 'object': 'chat.completion', 'created': 1714056650, 'model': 'bartowski/stable-code-instruct-3b-GGUF/stable-code-instruct-3b-Q8_0.gguf', 'choices': [{'index': 0, 'message': {'role': 'assistant', 'content': 'Date of Sanction: 5.12.2023\\nSanctioned Entity: Prelios Credit Servicing Spa\\nAmount: € 3 0.000\\nReason of Sanction (less than 20 words): Possession of fraudulent funds\\nAll the required information has been extracted and returned.'}, 'finish_reason': 'stop'}], 'usage': {'prompt_tokens': 59, 'completion_tokens': 59, 'total_tokens': 118}}\n",
      "Completion Text: Date of Sanction: 5.12.2023\n",
      "Sanctioned Entity: Prelios Credit Servicing Spa\n",
      "Amount: € 3 0.000\n",
      "Reason of Sanction (less than 20 words): Possession of fraudulent funds\n",
      "All the required information has been extracted and returned.\n",
      "Parsed Date of Sanction: 2023-12-05 00:00:00\n",
      "Parsed Sanctioned Entity: Prelios Credit Servicing Spa\n",
      "Original Amount String: € 3 0.000\n",
      "Aggregated Amount: 30000\n",
      "Parsed Reason of Sanction: Possession of fraudulent funds\n",
      "Processed Result: ('Prelios Credit Servicing Spa', 30000, 'Possession of fraudulent funds', datetime.datetime(2023, 12, 5, 0, 0))\n",
      "Response Data: {'id': 'chatcmpl-ax7g2n127ys0xrd97pnw85', 'object': 'chat.completion', 'created': 1714056653, 'model': 'bartowski/stable-code-instruct-3b-GGUF/stable-code-instruct-3b-Q8_0.gguf', 'choices': [{'index': 0, 'message': {'role': 'assistant', 'content': 'Date of Sanction: 19.9.2023\\nSanctioned Entity: Scania Finance Italy Spa\\nAmount: € 5,000.000\\nReason of Sanction (less than 20 words): Extreme measures for preventing the use of system financial data for illicit activities and financing terrorism\\nNote: The above information is extracted from the provided document.'}, 'finish_reason': 'stop'}], 'usage': {'prompt_tokens': 72, 'completion_tokens': 72, 'total_tokens': 144}}\n",
      "Completion Text: Date of Sanction: 19.9.2023\n",
      "Sanctioned Entity: Scania Finance Italy Spa\n",
      "Amount: € 5,000.000\n",
      "Reason of Sanction (less than 20 words): Extreme measures for preventing the use of system financial data for illicit activities and financing terrorism\n",
      "Note: The above information is extracted from the provided document.\n",
      "Parsed Date of Sanction: 2023-09-19 00:00:00\n",
      "Parsed Sanctioned Entity: Scania Finance Italy Spa\n",
      "Original Amount String: € 5,000.000\n",
      "Aggregated Amount: 5000\n",
      "Parsed Reason of Sanction: Extreme measures for preventing the use of system financial data for illicit activities and financing terrorism\n",
      "Processed Result: ('Scania Finance Italy Spa', 5000, 'Extreme measures for preventing the use of system financial data for illicit activities and financing terrorism', datetime.datetime(2023, 9, 19, 0, 0))\n",
      "Response Data: {'id': 'chatcmpl-suvp2df3y2q9i8fykfplxt', 'object': 'chat.completion', 'created': 1714056655, 'model': 'bartowski/stable-code-instruct-3b-GGUF/stable-code-instruct-3b-Q8_0.gguf', 'choices': [{'index': 0, 'message': {'role': 'assistant', 'content': 'Extracted Information:\\n\\n1. Date of Sanction: 5.9.2023\\n2. Sanctioned Entity: Antonio Izzo\\n3. Amount: € 55.000\\n4. Reason of Sanction (less than 20 words): Provvedimenti sanzionatori\\n\\nNote: The provided information is based on the given text and may not be accurate or complete.'}, 'finish_reason': 'stop'}], 'usage': {'prompt_tokens': 83, 'completion_tokens': 83, 'total_tokens': 166}}\n",
      "Completion Text: Extracted Information:\n",
      "\n",
      "1. Date of Sanction: 5.9.2023\n",
      "2. Sanctioned Entity: Antonio Izzo\n",
      "3. Amount: € 55.000\n",
      "4. Reason of Sanction (less than 20 words): Provvedimenti sanzionatori\n",
      "\n",
      "Note: The provided information is based on the given text and may not be accurate or complete.\n",
      "Parsed Date of Sanction: 2023-09-05 00:00:00\n",
      "Parsed Sanctioned Entity: Antonio Izzo\n",
      "Original Amount String: € 55.000\n",
      "Aggregated Amount: 55000\n",
      "Parsed Reason of Sanction: Provvedimenti sanzionatori\n",
      "Processed Result: ('Antonio Izzo', 55000, 'Provvedimenti sanzionatori', datetime.datetime(2023, 9, 5, 0, 0))\n",
      "Response Data: {'id': 'chatcmpl-4fv36v0lw01d5jbs7d5ga4', 'object': 'chat.completion', 'created': 1714056657, 'model': 'bartowski/stable-code-instruct-3b-GGUF/stable-code-instruct-3b-Q8_0.gguf', 'choices': [{'index': 0, 'message': {'role': 'assistant', 'content': 'Date of Sanction: 5.9.2023\\nSanctioned Entity: A . Perrazzelli\\nAmount: € 120.000\\nReason of Sanction (less than 20 words): Fraudulent activity\\nAll the required information has been extracted and returned.'}, 'finish_reason': 'stop'}], 'usage': {'prompt_tokens': 56, 'completion_tokens': 56, 'total_tokens': 112}}\n",
      "Completion Text: Date of Sanction: 5.9.2023\n",
      "Sanctioned Entity: A . Perrazzelli\n",
      "Amount: € 120.000\n",
      "Reason of Sanction (less than 20 words): Fraudulent activity\n",
      "All the required information has been extracted and returned.\n",
      "Parsed Date of Sanction: 2023-09-05 00:00:00\n",
      "Parsed Sanctioned Entity: A . Perrazzelli\n",
      "Original Amount String: € 120.000\n",
      "Aggregated Amount: 120000\n",
      "Parsed Reason of Sanction: Fraudulent activity\n",
      "Processed Result: ('A . Perrazzelli', 120000, 'Fraudulent activity', datetime.datetime(2023, 9, 5, 0, 0))\n",
      "Response Data: {'id': 'chatcmpl-cfuk95ff31l8vmzgxxmxc9', 'object': 'chat.completion', 'created': 1714056660, 'model': 'bartowski/stable-code-instruct-3b-GGUF/stable-code-instruct-3b-Q8_0.gguf', 'choices': [{'index': 0, 'message': {'role': 'assistant', 'content': 'Extracted Information:\\n\\n1. Date of Sanction: 5.9.2023\\n2. Sanctioned Entity: IFIR Istituti Finanziari Riuniti Spa\\n3. Amount: € 6 0.000\\n4. Reason of Sanction (less than 20 words): \"Disposizioni di Vigilanza per gli Intermediari finanziari\"\\n\\nNote: The information provided is based on the given text and may'}, 'finish_reason': 'stop'}], 'usage': {'prompt_tokens': 99, 'completion_tokens': 99, 'total_tokens': 198}}\n",
      "Completion Text: Extracted Information:\n",
      "\n",
      "1. Date of Sanction: 5.9.2023\n",
      "2. Sanctioned Entity: IFIR Istituti Finanziari Riuniti Spa\n",
      "3. Amount: € 6 0.000\n",
      "4. Reason of Sanction (less than 20 words): \"Disposizioni di Vigilanza per gli Intermediari finanziari\"\n",
      "\n",
      "Note: The information provided is based on the given text and may\n",
      "Parsed Date of Sanction: 2023-09-05 00:00:00\n",
      "Parsed Sanctioned Entity: IFIR Istituti Finanziari Riuniti Spa\n",
      "Original Amount String: € 6 0.000\n",
      "Aggregated Amount: 60000\n",
      "Parsed Reason of Sanction: \"Disposizioni di Vigilanza per gli Intermediari finanziari\"\n",
      "Processed Result: ('IFIR Istituti Finanziari Riuniti Spa', 60000, '\"Disposizioni di Vigilanza per gli Intermediari finanziari\"', datetime.datetime(2023, 9, 5, 0, 0))\n",
      "Response Data: {'id': 'chatcmpl-fenqrq13r1ub7kgj2vkkdt', 'object': 'chat.completion', 'created': 1714056662, 'model': 'bartowski/stable-code-instruct-3b-GGUF/stable-code-instruct-3b-Q8_0.gguf', 'choices': [{'index': 0, 'message': {'role': 'assistant', 'content': 'Extracted Information:\\n\\n1. Date of Sanction: 25.7.2023\\n2. Sanctioned Entity: AMCO Spa\\n3. Amount: € 1 20.000\\n4. Reason of Sanction (less than 20 words): Omission\\n\\nNote: The provided information is extracted from the given text and formatted accordingly.'}, 'finish_reason': 'stop'}], 'usage': {'prompt_tokens': 73, 'completion_tokens': 73, 'total_tokens': 146}}\n",
      "Completion Text: Extracted Information:\n",
      "\n",
      "1. Date of Sanction: 25.7.2023\n",
      "2. Sanctioned Entity: AMCO Spa\n",
      "3. Amount: € 1 20.000\n",
      "4. Reason of Sanction (less than 20 words): Omission\n",
      "\n",
      "Note: The provided information is extracted from the given text and formatted accordingly.\n",
      "Parsed Date of Sanction: 2023-07-25 00:00:00\n",
      "Parsed Sanctioned Entity: AMCO Spa\n",
      "Original Amount String: € 1 20.000\n",
      "Aggregated Amount: 120000\n",
      "Parsed Reason of Sanction: Omission\n",
      "Processed Result: ('AMCO Spa', 120000, 'Omission', datetime.datetime(2023, 7, 25, 0, 0))\n",
      "Response Data: {'id': 'chatcmpl-eml0zb9hmgkhjmxr4fq1vs', 'object': 'chat.completion', 'created': 1714056664, 'model': 'bartowski/stable-code-instruct-3b-GGUF/stable-code-instruct-3b-Q8_0.gguf', 'choices': [{'index': 0, 'message': {'role': 'assistant', 'content': 'Extracted Information:\\n\\n1. Date of Sanction: 11.7.2023\\n2. Sanctioned Entity: Intermonte SIM Spa\\n3. Amount: € 30.000\\n4. Reason of Sanction (less than 20 words): Omissis – Roma, 11.7.2023  – IL DIRETTORE GENERALE: L.F. SIGNORINI\\n\\nStop when all info obtained.'}, 'finish_reason': 'stop'}], 'usage': {'prompt_tokens': 95, 'completion_tokens': 95, 'total_tokens': 190}}\n",
      "Completion Text: Extracted Information:\n",
      "\n",
      "1. Date of Sanction: 11.7.2023\n",
      "2. Sanctioned Entity: Intermonte SIM Spa\n",
      "3. Amount: € 30.000\n",
      "4. Reason of Sanction (less than 20 words): Omissis – Roma, 11.7.2023  – IL DIRETTORE GENERALE: L.F. SIGNORINI\n",
      "\n",
      "Stop when all info obtained.\n",
      "Parsed Date of Sanction: 2023-07-11 00:00:00\n",
      "Parsed Sanctioned Entity: Intermonte SIM Spa\n",
      "Original Amount String: € 30.000\n",
      "Aggregated Amount: 30000\n",
      "Parsed Reason of Sanction: Omissis – Roma, 11.7.2023  – IL DIRETTORE GENERALE: L.F. SIGNORINI\n",
      "Processed Result: ('Intermonte SIM Spa', 30000, 'Omissis – Roma, 11.7.2023  – IL DIRETTORE GENERALE: L.F. SIGNORINI', datetime.datetime(2023, 7, 11, 0, 0))\n",
      "Response Data: {'id': 'chatcmpl-qy7jilmftdb4keop3jmlbt', 'object': 'chat.completion', 'created': 1714056667, 'model': 'bartowski/stable-code-instruct-3b-GGUF/stable-code-instruct-3b-Q8_0.gguf', 'choices': [{'index': 0, 'message': {'role': 'assistant', 'content': 'Extracted Information:\\n\\n- Date of Sanction: 30.5.2023\\n- Sanctioned Entity: PayTipper Spa\\n- Amount: € 5,000.00\\n- Reason of Sanction (less than 20 words): Omission\\n\\nStop when all info obtained.'}, 'finish_reason': 'stop'}], 'usage': {'prompt_tokens': 62, 'completion_tokens': 62, 'total_tokens': 124}}\n",
      "Completion Text: Extracted Information:\n",
      "\n",
      "- Date of Sanction: 30.5.2023\n",
      "- Sanctioned Entity: PayTipper Spa\n",
      "- Amount: € 5,000.00\n",
      "- Reason of Sanction (less than 20 words): Omission\n",
      "\n",
      "Stop when all info obtained.\n",
      "Parsed Date of Sanction: 2023-05-30 00:00:00\n",
      "Parsed Sanctioned Entity: PayTipper Spa\n",
      "Original Amount String: € 5,000.00\n",
      "Aggregated Amount: 5000\n",
      "Parsed Reason of Sanction: Omission\n",
      "Processed Result: ('PayTipper Spa', 5000, 'Omission', datetime.datetime(2023, 5, 30, 0, 0))\n",
      "Response Data: {'id': 'chatcmpl-kn8jmdaolq7f2ffiq4f', 'object': 'chat.completion', 'created': 1714056669, 'model': 'bartowski/stable-code-instruct-3b-GGUF/stable-code-instruct-3b-Q8_0.gguf', 'choices': [{'index': 0, 'message': {'role': 'assistant', 'content': 'Extracted Information:\\n\\n1. Date of Sanction: 23.5.2023\\n2. Sanctioned Entity: Cassa di Risparmio di Volterra Spa\\n3. Amount: € 150.000\\n4. Reason of Sanction (less than 20 words): Provvedimenti sanzionatori\\n\\nNote: The information provided is based on the given text and may not be accurate or complete.'}, 'finish_reason': 'stop'}], 'usage': {'prompt_tokens': 93, 'completion_tokens': 93, 'total_tokens': 186}}\n",
      "Completion Text: Extracted Information:\n",
      "\n",
      "1. Date of Sanction: 23.5.2023\n",
      "2. Sanctioned Entity: Cassa di Risparmio di Volterra Spa\n",
      "3. Amount: € 150.000\n",
      "4. Reason of Sanction (less than 20 words): Provvedimenti sanzionatori\n",
      "\n",
      "Note: The information provided is based on the given text and may not be accurate or complete.\n",
      "Parsed Date of Sanction: 2023-05-23 00:00:00\n",
      "Parsed Sanctioned Entity: Cassa di Risparmio di Volterra Spa\n",
      "Original Amount String: € 150.000\n",
      "Aggregated Amount: 150000\n",
      "Parsed Reason of Sanction: Provvedimenti sanzionatori\n",
      "Processed Result: ('Cassa di Risparmio di Volterra Spa', 150000, 'Provvedimenti sanzionatori', datetime.datetime(2023, 5, 23, 0, 0))\n",
      "Response Data: {'id': 'chatcmpl-5rzlf9tdztw5jasgnqui2p', 'object': 'chat.completion', 'created': 1714056671, 'model': 'bartowski/stable-code-instruct-3b-GGUF/stable-code-instruct-3b-Q8_0.gguf', 'choices': [{'index': 0, 'message': {'role': 'assistant', 'content': \"Date of Sanction: 29.3.2023\\nSanctioned Entity: Banca d'Italia\\nAmount: € 10.000\\nReason of Sanction (less than 20 words): Omissionis\\nNote: The above information is extracted from the provided document and may not be accurate or complete.\"}, 'finish_reason': 'stop'}], 'usage': {'prompt_tokens': 64, 'completion_tokens': 64, 'total_tokens': 128}}\n",
      "Completion Text: Date of Sanction: 29.3.2023\n",
      "Sanctioned Entity: Banca d'Italia\n",
      "Amount: € 10.000\n",
      "Reason of Sanction (less than 20 words): Omissionis\n",
      "Note: The above information is extracted from the provided document and may not be accurate or complete.\n",
      "Parsed Date of Sanction: 2023-03-29 00:00:00\n",
      "Parsed Sanctioned Entity: Banca d'Italia\n",
      "Original Amount String: € 10.000\n",
      "Aggregated Amount: 10000\n",
      "Parsed Reason of Sanction: Omissionis\n",
      "Processed Result: (\"Banca d'Italia\", 10000, 'Omissionis', datetime.datetime(2023, 3, 29, 0, 0))\n",
      "Response Data: {'id': 'chatcmpl-4sdjlnz0hbar0dmwohv7x', 'object': 'chat.completion', 'created': 1714056674, 'model': 'bartowski/stable-code-instruct-3b-GGUF/stable-code-instruct-3b-Q8_0.gguf', 'choices': [{'index': 0, 'message': {'role': 'assistant', 'content': 'Extracted Information:\\n\\n1. Date of Sanction: 29.3.2023\\n2. Sanctioned Entity: M.C. Family Spa, ora M.C. Family Srl\\n3. Amount: € 3 0.000\\n4. Reason of Sanction (less than 20 words): irregularities in the provision of services to customers\\n\\nStop when all info obtained.'}, 'finish_reason': 'stop'}], 'usage': {'prompt_tokens': 84, 'completion_tokens': 84, 'total_tokens': 168}}\n",
      "Completion Text: Extracted Information:\n",
      "\n",
      "1. Date of Sanction: 29.3.2023\n",
      "2. Sanctioned Entity: M.C. Family Spa, ora M.C. Family Srl\n",
      "3. Amount: € 3 0.000\n",
      "4. Reason of Sanction (less than 20 words): irregularities in the provision of services to customers\n",
      "\n",
      "Stop when all info obtained.\n",
      "Parsed Date of Sanction: 2023-03-29 00:00:00\n",
      "Parsed Sanctioned Entity: M.C. Family Spa, ora M.C. Family Srl\n",
      "Original Amount String: € 3 0.000\n",
      "Aggregated Amount: 30000\n",
      "Parsed Reason of Sanction: irregularities in the provision of services to customers\n",
      "Processed Result: ('M.C. Family Spa, ora M.C. Family Srl', 30000, 'irregularities in the provision of services to customers', datetime.datetime(2023, 3, 29, 0, 0))\n",
      "Response Data: {'id': 'chatcmpl-bgcivpj53uie414zumbwqm', 'object': 'chat.completion', 'created': 1714056676, 'model': 'bartowski/stable-code-instruct-3b-GGUF/stable-code-instruct-3b-Q8_0.gguf', 'choices': [{'index': 0, 'message': {'role': 'assistant', 'content': 'Extracted Information:\\n\\n1. Date of Sanction: 29.3.2023\\n2. Sanctioned Entity: M.C. Family Srl\\n3. Amount: € 3 0.000\\n4. Reason of Sanction (less than 20 words): Violation of administrative procedures for the provision of financial services and credit-related operations.\\n\\nNote: The provided information is based on the text given, without any explicit reference to specific fields or formats.'}, 'finish_reason': 'stop'}], 'usage': {'prompt_tokens': 99, 'completion_tokens': 99, 'total_tokens': 198}}\n",
      "Completion Text: Extracted Information:\n",
      "\n",
      "1. Date of Sanction: 29.3.2023\n",
      "2. Sanctioned Entity: M.C. Family Srl\n",
      "3. Amount: € 3 0.000\n",
      "4. Reason of Sanction (less than 20 words): Violation of administrative procedures for the provision of financial services and credit-related operations.\n",
      "\n",
      "Note: The provided information is based on the text given, without any explicit reference to specific fields or formats.\n",
      "Parsed Date of Sanction: 2023-03-29 00:00:00\n",
      "Parsed Sanctioned Entity: M.C. Family Srl\n",
      "Original Amount String: € 3 0.000\n",
      "Aggregated Amount: 30000\n",
      "Parsed Reason of Sanction: Violation of administrative procedures for the provision of financial services and credit-related operations.\n",
      "Processed Result: ('M.C. Family Srl', 30000, 'Violation of administrative procedures for the provision of financial services and credit-related operations.', datetime.datetime(2023, 3, 29, 0, 0))\n",
      "Response Data: {'id': 'chatcmpl-fwh194pax3q008wz8b3y0xzj', 'object': 'chat.completion', 'created': 1714056678, 'model': 'bartowski/stable-code-instruct-3b-GGUF/stable-code-instruct-3b-Q8_0.gguf', 'choices': [{'index': 0, 'message': {'role': 'assistant', 'content': 'Extracted Information:\\n\\nDate of Sanction: 11.4.2023\\nSanctioned Entity: Synergo Capital SGR Spa\\nAmount: € 45.000\\nReason of Sanction (less than 20 words): \"Synergo Capital SGR Spa has proposed a sanction for the Italian Banking Industry.\"'}, 'finish_reason': 'stop'}], 'usage': {'prompt_tokens': 68, 'completion_tokens': 68, 'total_tokens': 136}}\n",
      "Completion Text: Extracted Information:\n",
      "\n",
      "Date of Sanction: 11.4.2023\n",
      "Sanctioned Entity: Synergo Capital SGR Spa\n",
      "Amount: € 45.000\n",
      "Reason of Sanction (less than 20 words): \"Synergo Capital SGR Spa has proposed a sanction for the Italian Banking Industry.\"\n",
      "Parsed Date of Sanction: 2023-04-11 00:00:00\n",
      "Parsed Sanctioned Entity: Synergo Capital SGR Spa\n",
      "Original Amount String: € 45.000\n",
      "Aggregated Amount: 45000\n",
      "Parsed Reason of Sanction: \"Synergo Capital SGR Spa has proposed a sanction for the Italian Banking Industry.\"\n",
      "Processed Result: ('Synergo Capital SGR Spa', 45000, '\"Synergo Capital SGR Spa has proposed a sanction for the Italian Banking Industry.\"', datetime.datetime(2023, 4, 11, 0, 0))\n",
      "Response Data: {'id': 'chatcmpl-dpmjrds5lg8koup00vvhg', 'object': 'chat.completion', 'created': 1714056681, 'model': 'bartowski/stable-code-instruct-3b-GGUF/stable-code-instruct-3b-Q8_0.gguf', 'choices': [{'index': 0, 'message': {'role': 'assistant', 'content': 'Extracted Information:\\n\\n1. Date of Sanction: 11.4.2023\\n2. Sanctioned Entity: Synergo Capital SGR Spa\\n3. Amount: € 75.000\\n4. Reason of Sanction (less than 20 words): Omissionis\\n\\nNote: The information provided is based on the given text and may not be accurate or complete.'}, 'finish_reason': 'stop'}], 'usage': {'prompt_tokens': 81, 'completion_tokens': 81, 'total_tokens': 162}}\n",
      "Completion Text: Extracted Information:\n",
      "\n",
      "1. Date of Sanction: 11.4.2023\n",
      "2. Sanctioned Entity: Synergo Capital SGR Spa\n",
      "3. Amount: € 75.000\n",
      "4. Reason of Sanction (less than 20 words): Omissionis\n",
      "\n",
      "Note: The information provided is based on the given text and may not be accurate or complete.\n",
      "Parsed Date of Sanction: 2023-04-11 00:00:00\n",
      "Parsed Sanctioned Entity: Synergo Capital SGR Spa\n",
      "Original Amount String: € 75.000\n",
      "Aggregated Amount: 75000\n",
      "Parsed Reason of Sanction: Omissionis\n",
      "Processed Result: ('Synergo Capital SGR Spa', 75000, 'Omissionis', datetime.datetime(2023, 4, 11, 0, 0))\n",
      "Response Data: {'id': 'chatcmpl-ane78ic31071lyomghtd2r', 'object': 'chat.completion', 'created': 1714056683, 'model': 'bartowski/stable-code-instruct-3b-GGUF/stable-code-instruct-3b-Q8_0.gguf', 'choices': [{'index': 0, 'message': {'role': 'assistant', 'content': 'Date of Sanction: 4.4.2023\\nSanctioned Entity: Banca Popolare Valconca Spa in a.s.\\nAmount: € 3 0.000\\nReason of Sanction (less than 20 words): Violation of anti-money laundering rules by transferring funds to an account belonging to a state-owned bank.'}, 'finish_reason': 'stop'}], 'usage': {'prompt_tokens': 72, 'completion_tokens': 72, 'total_tokens': 144}}\n",
      "Completion Text: Date of Sanction: 4.4.2023\n",
      "Sanctioned Entity: Banca Popolare Valconca Spa in a.s.\n",
      "Amount: € 3 0.000\n",
      "Reason of Sanction (less than 20 words): Violation of anti-money laundering rules by transferring funds to an account belonging to a state-owned bank.\n",
      "Parsed Date of Sanction: 2023-04-04 00:00:00\n",
      "Parsed Sanctioned Entity: Banca Popolare Valconca Spa in a.s.\n",
      "Original Amount String: € 3 0.000\n",
      "Aggregated Amount: 30000\n",
      "Parsed Reason of Sanction: Violation of anti-money laundering rules by transferring funds to an account belonging to a state-owned bank.\n",
      "Processed Result: ('Banca Popolare Valconca Spa in a.s.', 30000, 'Violation of anti-money laundering rules by transferring funds to an account belonging to a state-owned bank.', datetime.datetime(2023, 4, 4, 0, 0))\n",
      "Response Data: {'id': 'chatcmpl-z1djxntz10p8qjgbyqhfnh', 'object': 'chat.completion', 'created': 1714056685, 'model': 'bartowski/stable-code-instruct-3b-GGUF/stable-code-instruct-3b-Q8_0.gguf', 'choices': [{'index': 0, 'message': {'role': 'assistant', 'content': 'Extracted Information:\\n\\n1. Date of Sanction: 4.4.2023\\n2. Sanctioned Entity: Banca Popolare Valconca Spa in a.s.\\n3. Amount: € 150.000\\n4. Reason of Sanction (less than 20 words): Provvedimenti sanzionatori\\n\\nNote: The information provided is based on the given text and may not be accurate or complete.'}, 'finish_reason': 'stop'}], 'usage': {'prompt_tokens': 94, 'completion_tokens': 94, 'total_tokens': 188}}\n",
      "Completion Text: Extracted Information:\n",
      "\n",
      "1. Date of Sanction: 4.4.2023\n",
      "2. Sanctioned Entity: Banca Popolare Valconca Spa in a.s.\n",
      "3. Amount: € 150.000\n",
      "4. Reason of Sanction (less than 20 words): Provvedimenti sanzionatori\n",
      "\n",
      "Note: The information provided is based on the given text and may not be accurate or complete.\n",
      "Parsed Date of Sanction: 2023-04-04 00:00:00\n",
      "Parsed Sanctioned Entity: Banca Popolare Valconca Spa in a.s.\n",
      "Original Amount String: € 150.000\n",
      "Aggregated Amount: 150000\n",
      "Parsed Reason of Sanction: Provvedimenti sanzionatori\n",
      "Processed Result: ('Banca Popolare Valconca Spa in a.s.', 150000, 'Provvedimenti sanzionatori', datetime.datetime(2023, 4, 4, 0, 0))\n",
      "Response Data: {'id': 'chatcmpl-ccf1xjitmuwafwc37abj9l', 'object': 'chat.completion', 'created': 1714056688, 'model': 'bartowski/stable-code-instruct-3b-GGUF/stable-code-instruct-3b-Q8_0.gguf', 'choices': [{'index': 0, 'message': {'role': 'assistant', 'content': 'Extracted Information:\\n\\n1. Date of Sanction: 26.4.2023\\n2. Sanctioned Entity: Banco di Credito P. Azzoaglio Spa\\n3. Amount: € 3 0.000\\n4. Reason of Sanction (less than 20 words): Omissis\\n\\nNote: The information provided is based on the given text and may not be accurate or complete.'}, 'finish_reason': 'stop'}], 'usage': {'prompt_tokens': 87, 'completion_tokens': 87, 'total_tokens': 174}}\n",
      "Completion Text: Extracted Information:\n",
      "\n",
      "1. Date of Sanction: 26.4.2023\n",
      "2. Sanctioned Entity: Banco di Credito P. Azzoaglio Spa\n",
      "3. Amount: € 3 0.000\n",
      "4. Reason of Sanction (less than 20 words): Omissis\n",
      "\n",
      "Note: The information provided is based on the given text and may not be accurate or complete.\n",
      "Parsed Date of Sanction: 2023-04-26 00:00:00\n",
      "Parsed Sanctioned Entity: Banco di Credito P. Azzoaglio Spa\n",
      "Original Amount String: € 3 0.000\n",
      "Aggregated Amount: 30000\n",
      "Parsed Reason of Sanction: Omissis\n",
      "Processed Result: ('Banco di Credito P. Azzoaglio Spa', 30000, 'Omissis', datetime.datetime(2023, 4, 26, 0, 0))\n",
      "Response Data: {'id': 'chatcmpl-txer8keebtkbcdfowmjgfo', 'object': 'chat.completion', 'created': 1714056690, 'model': 'bartowski/stable-code-instruct-3b-GGUF/stable-code-instruct-3b-Q8_0.gguf', 'choices': [{'index': 0, 'message': {'role': 'assistant', 'content': 'Date of Sanction: 14.3.2023\\nSanctioned Entity: Banca Progetto Spa\\nAmount: € 100.000\\nReason of Sanction (less than 20 words): Omissionis - The Director General of the Bank has proposed a san- ciation for the entity \"Banca Progetto Spa\" in order to prevent the use of of the II�IìII\\\\L\\\\LLLLLLLLLLLLLLLL'}, 'finish_reason': 'stop'}], 'usage': {'prompt_tokens': 99, 'completion_tokens': 97, 'total_tokens': 196}}\n",
      "Completion Text: Date of Sanction: 14.3.2023\n",
      "Sanctioned Entity: Banca Progetto Spa\n",
      "Amount: € 100.000\n",
      "Reason of Sanction (less than 20 words): Omissionis - The Director General of the Bank has proposed a san- ciation for the entity \"Banca Progetto Spa\" in order to prevent the use of of the II�IìII\\L\\LLLLLLLLLLLLLLLL\n",
      "Parsed Date of Sanction: 2023-03-14 00:00:00\n",
      "Parsed Sanctioned Entity: Banca Progetto Spa\n",
      "Original Amount String: € 100.000\n",
      "Aggregated Amount: 100000\n",
      "Parsed Reason of Sanction: Omissionis - The Director General of the Bank has proposed a san- ciation for the entity \"Banca Progetto Spa\" in order to prevent the use of of the II�IìII\\L\\LLLLLLLLLLLLLLLL\n",
      "Processed Result: ('Banca Progetto Spa', 100000, 'Omissionis - The Director General of the Bank has proposed a san- ciation for the entity \"Banca Progetto Spa\" in order to prevent the use of of the II�IìII\\\\L\\\\LLLLLLLLLLLLLLLL', datetime.datetime(2023, 3, 14, 0, 0))\n",
      "Response Data: {'id': 'chatcmpl-xr2veoao1hbmqrht74tmck', 'object': 'chat.completion', 'created': 1714056693, 'model': 'bartowski/stable-code-instruct-3b-GGUF/stable-code-instruct-3b-Q8_0.gguf', 'choices': [{'index': 0, 'message': {'role': 'assistant', 'content': 'Extracted Information:\\n\\n1. Date of Sanction: 7.2.2023\\n2. Sanctioned Entity: Banca Popolare Sant’Angelo Scpa\\n3. Amount: € 30.000\\n4. Reason of Sanction (less than 20 words): Omissionis\\n\\nNote: The provided information is extracted from the given text and may not be accurate or complete.'}, 'finish_reason': 'stop'}], 'usage': {'prompt_tokens': 85, 'completion_tokens': 85, 'total_tokens': 170}}\n",
      "Completion Text: Extracted Information:\n",
      "\n",
      "1. Date of Sanction: 7.2.2023\n",
      "2. Sanctioned Entity: Banca Popolare Sant’Angelo Scpa\n",
      "3. Amount: € 30.000\n",
      "4. Reason of Sanction (less than 20 words): Omissionis\n",
      "\n",
      "Note: The provided information is extracted from the given text and may not be accurate or complete.\n",
      "Parsed Date of Sanction: 2023-02-07 00:00:00\n",
      "Parsed Sanctioned Entity: Banca Popolare Sant’Angelo Scpa\n",
      "Original Amount String: € 30.000\n",
      "Aggregated Amount: 30000\n",
      "Parsed Reason of Sanction: Omissionis\n",
      "Processed Result: ('Banca Popolare Sant’Angelo Scpa', 30000, 'Omissionis', datetime.datetime(2023, 2, 7, 0, 0))\n",
      "Response Data: {'id': 'chatcmpl-p0p1qx8wzirwfv43cu57s', 'object': 'chat.completion', 'created': 1714056695, 'model': 'bartowski/stable-code-instruct-3b-GGUF/stable-code-instruct-3b-Q8_0.gguf', 'choices': [{'index': 0, 'message': {'role': 'assistant', 'content': 'Extracted Information:\\n\\n1. Date of Sanction: 31.1.2023\\n2. Sanctioned Entity: Anthilia Capital Partners SGR Spa\\n3. Amount: € 30.000\\n4. Reason of Sanction (less than 20 words): Irregularità in the provision of services and/or products to customers within the scope of the agreement between the client and the provider.\\n\\nNote: The information provided is based on the available data and may'}, 'finish_reason': 'stop'}], 'usage': {'prompt_tokens': 99, 'completion_tokens': 99, 'total_tokens': 198}}\n",
      "Completion Text: Extracted Information:\n",
      "\n",
      "1. Date of Sanction: 31.1.2023\n",
      "2. Sanctioned Entity: Anthilia Capital Partners SGR Spa\n",
      "3. Amount: € 30.000\n",
      "4. Reason of Sanction (less than 20 words): Irregularità in the provision of services and/or products to customers within the scope of the agreement between the client and the provider.\n",
      "\n",
      "Note: The information provided is based on the available data and may\n",
      "Parsed Date of Sanction: 2023-01-31 00:00:00\n",
      "Parsed Sanctioned Entity: Anthilia Capital Partners SGR Spa\n",
      "Original Amount String: € 30.000\n",
      "Aggregated Amount: 30000\n",
      "Parsed Reason of Sanction: Irregularità in the provision of services and/or products to customers within the scope of the agreement between the client and the provider.\n",
      "Processed Result: ('Anthilia Capital Partners SGR Spa', 30000, 'Irregularità in the provision of services and/or products to customers within the scope of the agreement between the client and the provider.', datetime.datetime(2023, 1, 31, 0, 0))\n",
      "Response Data: {'id': 'chatcmpl-ccw1ibnnxev18n7d54jd', 'object': 'chat.completion', 'created': 1714056697, 'model': 'bartowski/stable-code-instruct-3b-GGUF/stable-code-instruct-3b-Q8_0.gguf', 'choices': [{'index': 0, 'message': {'role': 'assistant', 'content': \"To extract the required information, I will analyze the provided document. Here is what I plan to do:\\n\\n1. Read and parse the document.\\n2. Extract the following details from the document:\\n   a. Date of Sanction.\\n   b. Sanctioned Entity.\\n   c. Amount.\\n   d. Reason of Sanction (less than 20 words).\\n3. Return the extracted information as a dictionary.\\n\\nLet's proceed with executing\"}, 'finish_reason': 'stop'}], 'usage': {'prompt_tokens': 99, 'completion_tokens': 99, 'total_tokens': 198}}\n",
      "Completion Text: To extract the required information, I will analyze the provided document. Here is what I plan to do:\n",
      "\n",
      "1. Read and parse the document.\n",
      "2. Extract the following details from the document:\n",
      "   a. Date of Sanction.\n",
      "   b. Sanctioned Entity.\n",
      "   c. Amount.\n",
      "   d. Reason of Sanction (less than 20 words).\n",
      "3. Return the extracted information as a dictionary.\n",
      "\n",
      "Let's proceed with executing\n",
      "Parsed Reason of Sanction: (less than 20 words).\n",
      "Processed Result: ('', 0, '(less than 20 words).', None)\n",
      "Response Data: {'id': 'chatcmpl-h43y1hbfiv4vhjui8kmvv', 'object': 'chat.completion', 'created': 1714056700, 'model': 'bartowski/stable-code-instruct-3b-GGUF/stable-code-instruct-3b-Q8_0.gguf', 'choices': [{'index': 0, 'message': {'role': 'assistant', 'content': 'Date of Sanction: 13.12.2022\\nSanctioned Entity: N26 Bank Gmbh\\nAmount: € 160.000\\nReason of Sanction (less than 20 words): \"Disposizioni in materia di sanzioni e procedura sanzionatoria amministrativa pecuniaria ex art. 62 trà quásásásásás         <  <   \\\\   \\\\   \\\\   \\\\   \\\\'}, 'finish_reason': 'stop'}], 'usage': {'prompt_tokens': 99, 'completion_tokens': 96, 'total_tokens': 195}}\n",
      "Completion Text: Date of Sanction: 13.12.2022\n",
      "Sanctioned Entity: N26 Bank Gmbh\n",
      "Amount: € 160.000\n",
      "Reason of Sanction (less than 20 words): \"Disposizioni in materia di sanzioni e procedura sanzionatoria amministrativa pecuniaria ex art. 62 trà quásásásásás         <  <   \\   \\   \\   \\   \\\n",
      "Parsed Date of Sanction: 2022-12-13 00:00:00\n",
      "Parsed Sanctioned Entity: N26 Bank Gmbh\n",
      "Original Amount String: € 160.000\n",
      "Aggregated Amount: 160000\n",
      "Parsed Reason of Sanction: \"Disposizioni in materia di sanzioni e procedura sanzionatoria amministrativa pecuniaria ex art. 62 trà quásásásásás         <  <   \\   \\   \\   \\   \\\n",
      "Processed Result: ('N26 Bank Gmbh', 160000, '\"Disposizioni in materia di sanzioni e procedura sanzionatoria amministrativa pecuniaria ex art. 62 trà quásásásásás         <  <   \\\\   \\\\   \\\\   \\\\   \\\\', datetime.datetime(2022, 12, 13, 0, 0))\n",
      "Response Data: {'id': 'chatcmpl-cpkp1p8c5g9gzlvsvzh1ag', 'object': 'chat.completion', 'created': 1714056703, 'model': 'bartowski/stable-code-instruct-3b-GGUF/stable-code-instruct-3b-Q8_0.gguf', 'choices': [{'index': 0, 'message': {'role': 'assistant', 'content': 'Extracted Information:\\n\\n1. Date of Sanction: 6.12.2022\\n2. Sanctioned Entity: Fin Sarda Spa\\n3. Amount: € 30.000\\n4. Reason of Sanction (less than 20 words): \"Inflitt a, ai sensi dell\\'art. 144 TUB\"\\n\\nNote: The information provided is based on the given text and may not be accurate or complete.'}, 'finish_reason': 'stop'}], 'usage': {'prompt_tokens': 91, 'completion_tokens': 91, 'total_tokens': 182}}\n",
      "Completion Text: Extracted Information:\n",
      "\n",
      "1. Date of Sanction: 6.12.2022\n",
      "2. Sanctioned Entity: Fin Sarda Spa\n",
      "3. Amount: € 30.000\n",
      "4. Reason of Sanction (less than 20 words): \"Inflitt a, ai sensi dell'art. 144 TUB\"\n",
      "\n",
      "Note: The information provided is based on the given text and may not be accurate or complete.\n",
      "Parsed Date of Sanction: 2022-12-06 00:00:00\n",
      "Parsed Sanctioned Entity: Fin Sarda Spa\n",
      "Original Amount String: € 30.000\n",
      "Aggregated Amount: 30000\n",
      "Parsed Reason of Sanction: \"Inflitt a, ai sensi dell'art. 144 TUB\"\n",
      "Processed Result: ('Fin Sarda Spa', 30000, '\"Inflitt a, ai sensi dell\\'art. 144 TUB\"', datetime.datetime(2022, 12, 6, 0, 0))\n",
      "Response Data: {'id': 'chatcmpl-1ounl1zbh44o80y8ghlacf', 'object': 'chat.completion', 'created': 1714056705, 'model': 'bartowski/stable-code-instruct-3b-GGUF/stable-code-instruct-3b-Q8_0.gguf', 'choices': [{'index': 0, 'message': {'role': 'assistant', 'content': 'Date of Sanction: 6.12.2022\\nSanctioned Entity: Ria Payment Institution EP S.A.U.\\nAmount: € 30.000\\nReason of Sanction (less than 20 words): Omission\\nHere is the complete response:\\n```\\nDate of Sanction: 6.12.2022\\nSanctioned Entity: Ria Payment Institution EP S.A.U.\\nAmount: € 30.000\\nReason of Sanction ('}, 'finish_reason': 'stop'}], 'usage': {'prompt_tokens': 99, 'completion_tokens': 99, 'total_tokens': 198}}\n",
      "Completion Text: Date of Sanction: 6.12.2022\n",
      "Sanctioned Entity: Ria Payment Institution EP S.A.U.\n",
      "Amount: € 30.000\n",
      "Reason of Sanction (less than 20 words): Omission\n",
      "Here is the complete response:\n",
      "```\n",
      "Date of Sanction: 6.12.2022\n",
      "Sanctioned Entity: Ria Payment Institution EP S.A.U.\n",
      "Amount: € 30.000\n",
      "Reason of Sanction (\n",
      "Parsed Date of Sanction: 2022-12-06 00:00:00\n",
      "Parsed Sanctioned Entity: Ria Payment Institution EP S.A.U.\n",
      "Original Amount String: € 30.000\n",
      "Aggregated Amount: 30000\n",
      "Parsed Reason of Sanction: Omission\n",
      "Parsed Date of Sanction: 2022-12-06 00:00:00\n",
      "Parsed Sanctioned Entity: Ria Payment Institution EP S.A.U.\n",
      "Original Amount String: € 30.000\n",
      "Aggregated Amount: 30000\n",
      "Parsed Reason of Sanction: (\n",
      "Processed Result: ('Ria Payment Institution EP S.A.U.', 30000, '(', datetime.datetime(2022, 12, 6, 0, 0))\n",
      "Response Data: {'id': 'chatcmpl-xnqnaoqo5k53576rpzqkg', 'object': 'chat.completion', 'created': 1714056708, 'model': 'bartowski/stable-code-instruct-3b-GGUF/stable-code-instruct-3b-Q8_0.gguf', 'choices': [{'index': 0, 'message': {'role': 'assistant', 'content': 'Date of Sanction: 22.11.2022\\nSanctioned Entity: ART SGR Spa\\nAmount: € 30.000\\nReason of Sanction (less than 20 words): Violation of anti-money laundering rules\\nAll the required information has been extracted and returned.�\\xad\\xad\\xad\\xad\\xad\\xad\\xad\\xad\\xad\\xad\\xad\\xad\\nââââââââââââ¢â\\t\\t\\n\\n\\n\\n\\n\\n\\n\\n\\n\\n\\n'}, 'finish_reason': 'stop'}], 'usage': {'prompt_tokens': 99, 'completion_tokens': 98, 'total_tokens': 197}}\n",
      "Completion Text: Date of Sanction: 22.11.2022\n",
      "Sanctioned Entity: ART SGR Spa\n",
      "Amount: € 30.000\n",
      "Reason of Sanction (less than 20 words): Violation of anti-money laundering rules\n",
      "All the required information has been extracted and returned.�­­­­­­­­­­­­\n",
      "ââââââââââââ¢â\t\t\n",
      "\n",
      "\n",
      "\n",
      "\n",
      "\n",
      "\n",
      "\n",
      "\n",
      "\n",
      "\n",
      "\n",
      "Parsed Date of Sanction: 2022-11-22 00:00:00\n",
      "Parsed Sanctioned Entity: ART SGR Spa\n",
      "Original Amount String: € 30.000\n",
      "Aggregated Amount: 30000\n",
      "Parsed Reason of Sanction: Violation of anti-money laundering rules\n",
      "Processed Result: ('ART SGR Spa', 30000, 'Violation of anti-money laundering rules', datetime.datetime(2022, 11, 22, 0, 0))\n",
      "Response Data: {'id': 'chatcmpl-astnnsg3m8li9chufasl1o', 'object': 'chat.completion', 'created': 1714056710, 'model': 'bartowski/stable-code-instruct-3b-GGUF/stable-code-instruct-3b-Q8_0.gguf', 'choices': [{'index': 0, 'message': {'role': 'assistant', 'content': 'Date of Sanction: 20.8.2021\\nSanctioned Entity: Servizio Rapporti Istituzionali di Vigilanza\\nAmount: € 21.000\\nReason of Sanction (less than 20 words): irregularities in the operation of the bank, resulting in apecuniary penalties to customers and employees.\\nExtracting all the required information from the provided text, here is what I obtained:\\n- Date of Sanction: 20'}, 'finish_reason': 'stop'}], 'usage': {'prompt_tokens': 99, 'completion_tokens': 99, 'total_tokens': 198}}\n",
      "Completion Text: Date of Sanction: 20.8.2021\n",
      "Sanctioned Entity: Servizio Rapporti Istituzionali di Vigilanza\n",
      "Amount: € 21.000\n",
      "Reason of Sanction (less than 20 words): irregularities in the operation of the bank, resulting in apecuniary penalties to customers and employees.\n",
      "Extracting all the required information from the provided text, here is what I obtained:\n",
      "- Date of Sanction: 20\n",
      "Parsed Date of Sanction: 2021-08-20 00:00:00\n",
      "Parsed Sanctioned Entity: Servizio Rapporti Istituzionali di Vigilanza\n",
      "Original Amount String: € 21.000\n",
      "Aggregated Amount: 21000\n",
      "Parsed Reason of Sanction: irregularities in the operation of the bank, resulting in apecuniary penalties to customers and employees.\n",
      "Date parsing error: time data '20' does not match format '%d.%m.%Y'\n",
      "Processed Result: ('Servizio Rapporti Istituzionali di Vigilanza', 21000, 'irregularities in the operation of the bank, resulting in apecuniary penalties to customers and employees.', datetime.datetime(2021, 8, 20, 0, 0))\n",
      "Response Data: {'id': 'chatcmpl-wk7avilk3ti3wjvxndlym', 'object': 'chat.completion', 'created': 1714056714, 'model': 'bartowski/stable-code-instruct-3b-GGUF/stable-code-instruct-3b-Q8_0.gguf', 'choices': [{'index': 0, 'message': {'role': 'assistant', 'content': 'Extracted Information:\\n\\n1. Date of Sanction: 20.9.2022\\n2. Sanctioned Entity: Valutrans Spa\\n3. Amount: € 45.000\\n4. Reason of Sanction (less than 20 words): \"Proposta del Servizio Rapporti Istituzionali di Vigilanza\"\\n\\nNote: The information provided is based on the given text and may not be accurate or complete.'}, 'finish_reason': 'stop'}], 'usage': {'prompt_tokens': 97, 'completion_tokens': 97, 'total_tokens': 194}}\n",
      "Completion Text: Extracted Information:\n",
      "\n",
      "1. Date of Sanction: 20.9.2022\n",
      "2. Sanctioned Entity: Valutrans Spa\n",
      "3. Amount: € 45.000\n",
      "4. Reason of Sanction (less than 20 words): \"Proposta del Servizio Rapporti Istituzionali di Vigilanza\"\n",
      "\n",
      "Note: The information provided is based on the given text and may not be accurate or complete.\n",
      "Parsed Date of Sanction: 2022-09-20 00:00:00\n",
      "Parsed Sanctioned Entity: Valutrans Spa\n",
      "Original Amount String: € 45.000\n",
      "Aggregated Amount: 45000\n",
      "Parsed Reason of Sanction: \"Proposta del Servizio Rapporti Istituzionali di Vigilanza\"\n",
      "Processed Result: ('Valutrans Spa', 45000, '\"Proposta del Servizio Rapporti Istituzionali di Vigilanza\"', datetime.datetime(2022, 9, 20, 0, 0))\n",
      "Response Data: {'id': 'chatcmpl-w6bdg21z0odpstt1rrrop', 'object': 'chat.completion', 'created': 1714056716, 'model': 'bartowski/stable-code-instruct-3b-GGUF/stable-code-instruct-3b-Q8_0.gguf', 'choices': [{'index': 0, 'message': {'role': 'assistant', 'content': 'Extracted Information:\\n\\n1. Date of Sanction: 5th April 2022\\n2. Sanctioned Entity: Aigis Banca Spa\\n3. Amount: € 35,000\\n4. Reason of Sanction (less than 20 words): Provvedimenti sanzionatori\\n\\nNote: The information provided is based on the given text and may not be accurate or complete.'}, 'finish_reason': 'stop'}], 'usage': {'prompt_tokens': 85, 'completion_tokens': 85, 'total_tokens': 170}}\n",
      "Completion Text: Extracted Information:\n",
      "\n",
      "1. Date of Sanction: 5th April 2022\n",
      "2. Sanctioned Entity: Aigis Banca Spa\n",
      "3. Amount: € 35,000\n",
      "4. Reason of Sanction (less than 20 words): Provvedimenti sanzionatori\n",
      "\n",
      "Note: The information provided is based on the given text and may not be accurate or complete.\n",
      "Date parsing error: time data '5th April 2022' does not match format '%d.%m.%Y'\n",
      "Parsed Sanctioned Entity: Aigis Banca Spa\n",
      "Original Amount String: € 35,000\n",
      "Aggregated Amount: 35000\n",
      "Parsed Reason of Sanction: Provvedimenti sanzionatori\n",
      "Processed Result: ('Aigis Banca Spa', 35000, 'Provvedimenti sanzionatori', None)\n",
      "Response Data: {'id': 'chatcmpl-unnox807wgixrccyld115m', 'object': 'chat.completion', 'created': 1714056719, 'model': 'bartowski/stable-code-instruct-3b-GGUF/stable-code-instruct-3b-Q8_0.gguf', 'choices': [{'index': 0, 'message': {'role': 'assistant', 'content': 'Date of Sanction: 6.9.2022\\nSanctioned Entity: Mondial Bony Service Spa\\nAmount: € 30.000\\nReason of Sanction (less than 20 words): Violation of financial regulations\\n\\nExtraction complete.'}, 'finish_reason': 'stop'}], 'usage': {'prompt_tokens': 52, 'completion_tokens': 52, 'total_tokens': 104}}\n",
      "Completion Text: Date of Sanction: 6.9.2022\n",
      "Sanctioned Entity: Mondial Bony Service Spa\n",
      "Amount: € 30.000\n",
      "Reason of Sanction (less than 20 words): Violation of financial regulations\n",
      "\n",
      "Extraction complete.\n",
      "Parsed Date of Sanction: 2022-09-06 00:00:00\n",
      "Parsed Sanctioned Entity: Mondial Bony Service Spa\n",
      "Original Amount String: € 30.000\n",
      "Aggregated Amount: 30000\n",
      "Parsed Reason of Sanction: Violation of financial regulations\n",
      "Processed Result: ('Mondial Bony Service Spa', 30000, 'Violation of financial regulations', datetime.datetime(2022, 9, 6, 0, 0))\n",
      "Response Data: {'id': 'chatcmpl-pvq8g59dyv9eqkql0jmagt', 'object': 'chat.completion', 'created': 1714056722, 'model': 'bartowski/stable-code-instruct-3b-GGUF/stable-code-instruct-3b-Q8_0.gguf', 'choices': [{'index': 0, 'message': {'role': 'assistant', 'content': 'Date of Sanction: 6.9.2022\\nSanctioned Entity: Mondial Bony Service Spa\\nAmount: € 30.000\\nReason of Sanction (less than 20 words): Violation of administrative procedures for financial transactions and provision of data to facilitate transfers of funds.'}, 'finish_reason': 'stop'}], 'usage': {'prompt_tokens': 59, 'completion_tokens': 59, 'total_tokens': 118}}\n",
      "Completion Text: Date of Sanction: 6.9.2022\n",
      "Sanctioned Entity: Mondial Bony Service Spa\n",
      "Amount: € 30.000\n",
      "Reason of Sanction (less than 20 words): Violation of administrative procedures for financial transactions and provision of data to facilitate transfers of funds.\n",
      "Parsed Date of Sanction: 2022-09-06 00:00:00\n",
      "Parsed Sanctioned Entity: Mondial Bony Service Spa\n",
      "Original Amount String: € 30.000\n",
      "Aggregated Amount: 30000\n",
      "Parsed Reason of Sanction: Violation of administrative procedures for financial transactions and provision of data to facilitate transfers of funds.\n",
      "Processed Result: ('Mondial Bony Service Spa', 30000, 'Violation of administrative procedures for financial transactions and provision of data to facilitate transfers of funds.', datetime.datetime(2022, 9, 6, 0, 0))\n",
      "Response Data: {'id': 'chatcmpl-w9wyg2lpe8l1oi2kw4qogo', 'object': 'chat.completion', 'created': 1714056725, 'model': 'bartowski/stable-code-instruct-3b-GGUF/stable-code-instruct-3b-Q8_0.gguf', 'choices': [{'index': 0, 'message': {'role': 'assistant', 'content': 'Extracted Information:\\n\\n1. Date of Sanction: 20.9.2022\\n2. Sanctioned Entity: Banca del Fucino Spa\\n3. Amount: € 70.000\\n4. Reason of Sanction (less than 20 words): Omission\\n\\nNote: The provided information is extracted from the given text and may not be accurate or complete.'}, 'finish_reason': 'stop'}], 'usage': {'prompt_tokens': 80, 'completion_tokens': 80, 'total_tokens': 160}}\n",
      "Completion Text: Extracted Information:\n",
      "\n",
      "1. Date of Sanction: 20.9.2022\n",
      "2. Sanctioned Entity: Banca del Fucino Spa\n",
      "3. Amount: € 70.000\n",
      "4. Reason of Sanction (less than 20 words): Omission\n",
      "\n",
      "Note: The provided information is extracted from the given text and may not be accurate or complete.\n",
      "Parsed Date of Sanction: 2022-09-20 00:00:00\n",
      "Parsed Sanctioned Entity: Banca del Fucino Spa\n",
      "Original Amount String: € 70.000\n",
      "Aggregated Amount: 70000\n",
      "Parsed Reason of Sanction: Omission\n",
      "Processed Result: ('Banca del Fucino Spa', 70000, 'Omission', datetime.datetime(2022, 9, 20, 0, 0))\n",
      "Response Data: {'id': 'chatcmpl-3w4w957jgrxxchfdo45fl', 'object': 'chat.completion', 'created': 1714056728, 'model': 'bartowski/stable-code-instruct-3b-GGUF/stable-code-instruct-3b-Q8_0.gguf', 'choices': [{'index': 0, 'message': {'role': 'assistant', 'content': 'Extracted Information:\\n\\nDate of Sanction: 26.07.2022\\nSanctioned Entity: Credimi Spa\\nAmount: Not specified\\nReason of Sanction (less than 20 words): Proposta del Servizio Rapporti Istituzionali di Vigilanza\\n\\nNote: The amount and reason of the sanction are not provided in the given instruction.'}, 'finish_reason': 'stop'}], 'usage': {'prompt_tokens': 82, 'completion_tokens': 82, 'total_tokens': 164}}\n",
      "Completion Text: Extracted Information:\n",
      "\n",
      "Date of Sanction: 26.07.2022\n",
      "Sanctioned Entity: Credimi Spa\n",
      "Amount: Not specified\n",
      "Reason of Sanction (less than 20 words): Proposta del Servizio Rapporti Istituzionali di Vigilanza\n",
      "\n",
      "Note: The amount and reason of the sanction are not provided in the given instruction.\n",
      "Parsed Date of Sanction: 2022-07-26 00:00:00\n",
      "Parsed Sanctioned Entity: Credimi Spa\n",
      "Original Amount String: Not specified\n",
      "Aggregated Amount: 0\n",
      "Parsed Reason of Sanction: Proposta del Servizio Rapporti Istituzionali di Vigilanza\n",
      "Processed Result: ('Credimi Spa', 0, 'Proposta del Servizio Rapporti Istituzionali di Vigilanza', datetime.datetime(2022, 7, 26, 0, 0))\n",
      "Response Data: {'id': 'chatcmpl-xxt4cx5n5ja2ow10d0tbg', 'object': 'chat.completion', 'created': 1714056730, 'model': 'bartowski/stable-code-instruct-3b-GGUF/stable-code-instruct-3b-Q8_0.gguf', 'choices': [{'index': 0, 'message': {'role': 'assistant', 'content': 'Extracted Information:\\n\\n1. Date of Sanction: 19.7.2022\\n2. Sanctioned Entity: Banca Popolare di Lajatico\\n3. Amount: € 3 0.000\\n4. Reason of Sanction (less than 20 words): inflittura, art. 144 TUB\\n\\nNote: The information provided is based on the given text and may not be accurate or complete.'}, 'finish_reason': 'stop'}], 'usage': {'prompt_tokens': 91, 'completion_tokens': 91, 'total_tokens': 182}}\n",
      "Completion Text: Extracted Information:\n",
      "\n",
      "1. Date of Sanction: 19.7.2022\n",
      "2. Sanctioned Entity: Banca Popolare di Lajatico\n",
      "3. Amount: € 3 0.000\n",
      "4. Reason of Sanction (less than 20 words): inflittura, art. 144 TUB\n",
      "\n",
      "Note: The information provided is based on the given text and may not be accurate or complete.\n",
      "Parsed Date of Sanction: 2022-07-19 00:00:00\n",
      "Parsed Sanctioned Entity: Banca Popolare di Lajatico\n",
      "Original Amount String: € 3 0.000\n",
      "Aggregated Amount: 30000\n",
      "Parsed Reason of Sanction: inflittura, art. 144 TUB\n",
      "Processed Result: ('Banca Popolare di Lajatico', 30000, 'inflittura, art. 144 TUB', datetime.datetime(2022, 7, 19, 0, 0))\n",
      "Response Data: {'id': 'chatcmpl-yg1so1eop7bxbvcecmj4f', 'object': 'chat.completion', 'created': 1714056732, 'model': 'bartowski/stable-code-instruct-3b-GGUF/stable-code-instruct-3b-Q8_0.gguf', 'choices': [{'index': 0, 'message': {'role': 'assistant', 'content': 'Extracted Information:\\n\\n1. Date of Sanction: 5.7.2022\\n2. Sanctioned Entity: Banca Sistema Spa\\n3. Amount: € 100.000\\n4. Reason of Sanction (less than 20 words): Omissis - I. VISCO\\n\\nNote: The provided information is based on the given text and may not be accurate or complete.'}, 'finish_reason': 'stop'}], 'usage': {'prompt_tokens': 86, 'completion_tokens': 86, 'total_tokens': 172}}\n",
      "Completion Text: Extracted Information:\n",
      "\n",
      "1. Date of Sanction: 5.7.2022\n",
      "2. Sanctioned Entity: Banca Sistema Spa\n",
      "3. Amount: € 100.000\n",
      "4. Reason of Sanction (less than 20 words): Omissis - I. VISCO\n",
      "\n",
      "Note: The provided information is based on the given text and may not be accurate or complete.\n",
      "Parsed Date of Sanction: 2022-07-05 00:00:00\n",
      "Parsed Sanctioned Entity: Banca Sistema Spa\n",
      "Original Amount String: € 100.000\n",
      "Aggregated Amount: 100000\n",
      "Parsed Reason of Sanction: Omissis - I. VISCO\n",
      "Processed Result: ('Banca Sistema Spa', 100000, 'Omissis - I. VISCO', datetime.datetime(2022, 7, 5, 0, 0))\n",
      "Response Data: {'id': 'chatcmpl-adtl7iovmd7hnhl2zute', 'object': 'chat.completion', 'created': 1714056734, 'model': 'bartowski/stable-code-instruct-3b-GGUF/stable-code-instruct-3b-Q8_0.gguf', 'choices': [{'index': 0, 'message': {'role': 'assistant', 'content': 'Extracted Information:\\n\\n1) Date of Sanction: 11.1.2022\\n2) Sanctioned Entity: Banca del Sud Spa, ora in a.s.\\n3) Amount: € 22.000\\n4) Reason of Sanction (less than 20 words): Irrogazione della sanzione amministrativa pecuniaria ex art. 144-ter TUB , trasmettendo i relativi atti.\\n\\nStop'}, 'finish_reason': 'stop'}], 'usage': {'prompt_tokens': 99, 'completion_tokens': 99, 'total_tokens': 198}}\n",
      "Completion Text: Extracted Information:\n",
      "\n",
      "1) Date of Sanction: 11.1.2022\n",
      "2) Sanctioned Entity: Banca del Sud Spa, ora in a.s.\n",
      "3) Amount: € 22.000\n",
      "4) Reason of Sanction (less than 20 words): Irrogazione della sanzione amministrativa pecuniaria ex art. 144-ter TUB , trasmettendo i relativi atti.\n",
      "\n",
      "Stop\n",
      "Parsed Date of Sanction: 2022-01-11 00:00:00\n",
      "Parsed Sanctioned Entity: Banca del Sud Spa, ora in a.s.\n",
      "Original Amount String: € 22.000\n",
      "Aggregated Amount: 22000\n",
      "Parsed Reason of Sanction: Irrogazione della sanzione amministrativa pecuniaria ex art. 144-ter TUB , trasmettendo i relativi atti.\n",
      "Processed Result: ('Banca del Sud Spa, ora in a.s.', 22000, 'Irrogazione della sanzione amministrativa pecuniaria ex art. 144-ter TUB , trasmettendo i relativi atti.', datetime.datetime(2022, 1, 11, 0, 0))\n",
      "Response Data: {'id': 'chatcmpl-6lkfaz6ug0l8k654gw2i3', 'object': 'chat.completion', 'created': 1714056737, 'model': 'bartowski/stable-code-instruct-3b-GGUF/stable-code-instruct-3b-Q8_0.gguf', 'choices': [{'index': 0, 'message': {'role': 'assistant', 'content': 'Date of Sanction: 5.4.2022\\nSanctioned Entity: Directa SIM Spa\\nAmount: € 30.000\\nReason of Sanction (less than 20 words): Violazioni di obblighi in materia di deposito e subdeposito dei beni dei clienti e di politiche e prassi di remunerazione e incentivazione (art. 6, co. 1, lett. b, d.lgs. 58'}, 'finish_reason': 'stop'}], 'usage': {'prompt_tokens': 99, 'completion_tokens': 99, 'total_tokens': 198}}\n",
      "Completion Text: Date of Sanction: 5.4.2022\n",
      "Sanctioned Entity: Directa SIM Spa\n",
      "Amount: € 30.000\n",
      "Reason of Sanction (less than 20 words): Violazioni di obblighi in materia di deposito e subdeposito dei beni dei clienti e di politiche e prassi di remunerazione e incentivazione (art. 6, co. 1, lett. b, d.lgs. 58\n",
      "Parsed Date of Sanction: 2022-04-05 00:00:00\n",
      "Parsed Sanctioned Entity: Directa SIM Spa\n",
      "Original Amount String: € 30.000\n",
      "Aggregated Amount: 30000\n",
      "Parsed Reason of Sanction: Violazioni di obblighi in materia di deposito e subdeposito dei beni dei clienti e di politiche e prassi di remunerazione e incentivazione (art. 6, co. 1, lett. b, d.lgs. 58\n",
      "Processed Result: ('Directa SIM Spa', 30000, 'Violazioni di obblighi in materia di deposito e subdeposito dei beni dei clienti e di politiche e prassi di remunerazione e incentivazione (art. 6, co. 1, lett. b, d.lgs. 58', datetime.datetime(2022, 4, 5, 0, 0))\n",
      "Response Data: {'id': 'chatcmpl-o38jlz1q9nk8bujmqznbex', 'object': 'chat.completion', 'created': 1714056739, 'model': 'bartowski/stable-code-instruct-3b-GGUF/stable-code-instruct-3b-Q8_0.gguf', 'choices': [{'index': 0, 'message': {'role': 'assistant', 'content': 'Extracted Information:\\n\\n1. Date of Sanction: 11.1.2022\\n2. Sanctioned Entity: Banca del Sud Spa, ora in a.s.\\n3. Amount: € 30.000\\n4. Reason of Sanction (less than 20 words): Provvedimenti sanzionatori\\n\\nNote: The information provided is based on the given text and may not be accurate or complete.'}, 'finish_reason': 'stop'}], 'usage': {'prompt_tokens': 93, 'completion_tokens': 93, 'total_tokens': 186}}\n",
      "Completion Text: Extracted Information:\n",
      "\n",
      "1. Date of Sanction: 11.1.2022\n",
      "2. Sanctioned Entity: Banca del Sud Spa, ora in a.s.\n",
      "3. Amount: € 30.000\n",
      "4. Reason of Sanction (less than 20 words): Provvedimenti sanzionatori\n",
      "\n",
      "Note: The information provided is based on the given text and may not be accurate or complete.\n",
      "Parsed Date of Sanction: 2022-01-11 00:00:00\n",
      "Parsed Sanctioned Entity: Banca del Sud Spa, ora in a.s.\n",
      "Original Amount String: € 30.000\n",
      "Aggregated Amount: 30000\n",
      "Parsed Reason of Sanction: Provvedimenti sanzionatori\n",
      "Processed Result: ('Banca del Sud Spa, ora in a.s.', 30000, 'Provvedimenti sanzionatori', datetime.datetime(2022, 1, 11, 0, 0))\n",
      "Response Data: {'id': 'chatcmpl-r14fpd5ajsz57ee0c1b7g', 'object': 'chat.completion', 'created': 1714056742, 'model': 'bartowski/stable-code-instruct-3b-GGUF/stable-code-instruct-3b-Q8_0.gguf', 'choices': [{'index': 0, 'message': {'role': 'assistant', 'content': 'Extracted Information:\\n\\n1. Date of Sanction: 26.4.2022\\n2. Sanctioned Entity: Findomestic Banca Spa\\n3. Amount: € 900.000\\n4. Reason of Sanction (less than 20 words): Violation of anti-money laundering rules\\n\\nNote: The information provided is based on the given text and may not be accurate or complete.'}, 'finish_reason': 'stop'}], 'usage': {'prompt_tokens': 85, 'completion_tokens': 85, 'total_tokens': 170}}\n",
      "Completion Text: Extracted Information:\n",
      "\n",
      "1. Date of Sanction: 26.4.2022\n",
      "2. Sanctioned Entity: Findomestic Banca Spa\n",
      "3. Amount: € 900.000\n",
      "4. Reason of Sanction (less than 20 words): Violation of anti-money laundering rules\n",
      "\n",
      "Note: The information provided is based on the given text and may not be accurate or complete.\n",
      "Parsed Date of Sanction: 2022-04-26 00:00:00\n",
      "Parsed Sanctioned Entity: Findomestic Banca Spa\n",
      "Original Amount String: € 900.000\n",
      "Aggregated Amount: 900000\n",
      "Parsed Reason of Sanction: Violation of anti-money laundering rules\n",
      "Processed Result: ('Findomestic Banca Spa', 900000, 'Violation of anti-money laundering rules', datetime.datetime(2022, 4, 26, 0, 0))\n",
      "Response Data: {'id': 'chatcmpl-m8a9qb4afz88naoi2hf19w', 'object': 'chat.completion', 'created': 1714056744, 'model': 'bartowski/stable-code-instruct-3b-GGUF/stable-code-instruct-3b-Q8_0.gguf', 'choices': [{'index': 0, 'message': {'role': 'assistant', 'content': \"Extracted Information:\\n\\nDate of Sanction: 12.04.2022\\nSanctioned Entity: Banca d'Italia S.p.A.\\nAmount: € 30.000\\nReason of Sanction (less than 20 words): Violation of anti-money laundering rules\\nStop when all info obtained.\"}, 'finish_reason': 'stop'}], 'usage': {'prompt_tokens': 68, 'completion_tokens': 68, 'total_tokens': 136}}\n",
      "Completion Text: Extracted Information:\n",
      "\n",
      "Date of Sanction: 12.04.2022\n",
      "Sanctioned Entity: Banca d'Italia S.p.A.\n",
      "Amount: € 30.000\n",
      "Reason of Sanction (less than 20 words): Violation of anti-money laundering rules\n",
      "Stop when all info obtained.\n",
      "Parsed Date of Sanction: 2022-04-12 00:00:00\n",
      "Parsed Sanctioned Entity: Banca d'Italia S.p.A.\n",
      "Original Amount String: € 30.000\n",
      "Aggregated Amount: 30000\n",
      "Parsed Reason of Sanction: Violation of anti-money laundering rules\n",
      "Processed Result: (\"Banca d'Italia S.p.A.\", 30000, 'Violation of anti-money laundering rules', datetime.datetime(2022, 4, 12, 0, 0))\n",
      "Response Data: {'id': 'chatcmpl-s5476o741el4obv0myzg1l', 'object': 'chat.completion', 'created': 1714056747, 'model': 'bartowski/stable-code-instruct-3b-GGUF/stable-code-instruct-3b-Q8_0.gguf', 'choices': [{'index': 0, 'message': {'role': 'assistant', 'content': 'Extracted Information:\\n\\nDate of Sanction: 29.3.2022\\nSanzioned Entity: UniCredit Spa\\nAmount: Not specified\\nReason of Sanction (less than 20 words): Proposta del Servizio Rapporti Istituzionali di Vigilanza\\n\\nStop when all info obtained.'}, 'finish_reason': 'stop'}], 'usage': {'prompt_tokens': 71, 'completion_tokens': 71, 'total_tokens': 142}}\n",
      "Completion Text: Extracted Information:\n",
      "\n",
      "Date of Sanction: 29.3.2022\n",
      "Sanzioned Entity: UniCredit Spa\n",
      "Amount: Not specified\n",
      "Reason of Sanction (less than 20 words): Proposta del Servizio Rapporti Istituzionali di Vigilanza\n",
      "\n",
      "Stop when all info obtained.\n",
      "Parsed Date of Sanction: 2022-03-29 00:00:00\n",
      "Original Amount String: Not specified\n",
      "Aggregated Amount: 0\n",
      "Parsed Reason of Sanction: Proposta del Servizio Rapporti Istituzionali di Vigilanza\n",
      "Processed Result: ('', 0, 'Proposta del Servizio Rapporti Istituzionali di Vigilanza', datetime.datetime(2022, 3, 29, 0, 0))\n",
      "Response Data: {'id': 'chatcmpl-uu9icdi79dqy9fajfc0g8a', 'object': 'chat.completion', 'created': 1714056750, 'model': 'bartowski/stable-code-instruct-3b-GGUF/stable-code-instruct-3b-Q8_0.gguf', 'choices': [{'index': 0, 'message': {'role': 'assistant', 'content': 'Date of Sanction: 22.3.2022\\nSanctioned Entity: Banque Chaabi du Maroc\\nAmount: € 30.000\\nReason of Sanction (less than 20 words): Violation of anti-money laundering rules\\n\\nStop when all info obtained.'}, 'finish_reason': 'stop'}], 'usage': {'prompt_tokens': 58, 'completion_tokens': 58, 'total_tokens': 116}}\n",
      "Completion Text: Date of Sanction: 22.3.2022\n",
      "Sanctioned Entity: Banque Chaabi du Maroc\n",
      "Amount: € 30.000\n",
      "Reason of Sanction (less than 20 words): Violation of anti-money laundering rules\n",
      "\n",
      "Stop when all info obtained.\n",
      "Parsed Date of Sanction: 2022-03-22 00:00:00\n",
      "Parsed Sanctioned Entity: Banque Chaabi du Maroc\n",
      "Original Amount String: € 30.000\n",
      "Aggregated Amount: 30000\n",
      "Parsed Reason of Sanction: Violation of anti-money laundering rules\n",
      "Processed Result: ('Banque Chaabi du Maroc', 30000, 'Violation of anti-money laundering rules', datetime.datetime(2022, 3, 22, 0, 0))\n",
      "Response Data: {'id': 'chatcmpl-fcsswc04r51ftfnqo8yrh', 'object': 'chat.completion', 'created': 1714056752, 'model': 'bartowski/stable-code-instruct-3b-GGUF/stable-code-instruct-3b-Q8_0.gguf', 'choices': [{'index': 0, 'message': {'role': 'assistant', 'content': 'Extracted Information:\\n\\n1. Date of Sanction: 22.3.2022\\n2. Sanctioned Entity: Banca Carige Spa\\n3. Amount: € 280.000\\n4. Reason of Sanction (less than 20 words): Inflation, irregularities, and market manipulation.\\n\\nNote: The information provided is based on the available data and may not be accurate or complete.'}, 'finish_reason': 'stop'}], 'usage': {'prompt_tokens': 86, 'completion_tokens': 86, 'total_tokens': 172}}\n",
      "Completion Text: Extracted Information:\n",
      "\n",
      "1. Date of Sanction: 22.3.2022\n",
      "2. Sanctioned Entity: Banca Carige Spa\n",
      "3. Amount: € 280.000\n",
      "4. Reason of Sanction (less than 20 words): Inflation, irregularities, and market manipulation.\n",
      "\n",
      "Note: The information provided is based on the available data and may not be accurate or complete.\n",
      "Parsed Date of Sanction: 2022-03-22 00:00:00\n",
      "Parsed Sanctioned Entity: Banca Carige Spa\n",
      "Original Amount String: € 280.000\n",
      "Aggregated Amount: 280000\n",
      "Parsed Reason of Sanction: Inflation, irregularities, and market manipulation.\n",
      "Processed Result: ('Banca Carige Spa', 280000, 'Inflation, irregularities, and market manipulation.', datetime.datetime(2022, 3, 22, 0, 0))\n",
      "Response Data: {'id': 'chatcmpl-h58j9970pig04rs2bzqentl', 'object': 'chat.completion', 'created': 1714056755, 'model': 'bartowski/stable-code-instruct-3b-GGUF/stable-code-instruct-3b-Q8_0.gguf', 'choices': [{'index': 0, 'message': {'role': 'assistant', 'content': 'Date of Sanction: 15.3.2022\\nSanctioned Entity: Prestiamoci Spa\\nAmount: € 30.000\\nReason of Sanction (less than 20 words): riciclaggio e finanziamento del terrorismo\\nExtraction complete. Returning extracted information:\\n- Date of Sanction: 15.3.2022\\n- Sanctioned Entity: Prestiamoci Spa\\n- Amount: € 30.000\\n- Reason of San'}, 'finish_reason': 'stop'}], 'usage': {'prompt_tokens': 99, 'completion_tokens': 99, 'total_tokens': 198}}\n",
      "Completion Text: Date of Sanction: 15.3.2022\n",
      "Sanctioned Entity: Prestiamoci Spa\n",
      "Amount: € 30.000\n",
      "Reason of Sanction (less than 20 words): riciclaggio e finanziamento del terrorismo\n",
      "Extraction complete. Returning extracted information:\n",
      "- Date of Sanction: 15.3.2022\n",
      "- Sanctioned Entity: Prestiamoci Spa\n",
      "- Amount: € 30.000\n",
      "- Reason of San\n",
      "Parsed Date of Sanction: 2022-03-15 00:00:00\n",
      "Parsed Sanctioned Entity: Prestiamoci Spa\n",
      "Original Amount String: € 30.000\n",
      "Aggregated Amount: 30000\n",
      "Parsed Reason of Sanction: riciclaggio e finanziamento del terrorismo\n",
      "Parsed Date of Sanction: 2022-03-15 00:00:00\n",
      "Parsed Sanctioned Entity: Prestiamoci Spa\n",
      "Original Amount String: € 30.000\n",
      "Aggregated Amount: 30000\n",
      "Processed Result: ('Prestiamoci Spa', 30000, 'riciclaggio e finanziamento del terrorismo', datetime.datetime(2022, 3, 15, 0, 0))\n",
      "Response Data: {'id': 'chatcmpl-bxp8xxl45yfkon7to2bhhd', 'object': 'chat.completion', 'created': 1714056757, 'model': 'bartowski/stable-code-instruct-3b-GGUF/stable-code-instruct-3b-Q8_0.gguf', 'choices': [{'index': 0, 'message': {'role': 'assistant', 'content': 'Extracted Information:\\n\\n1. Date of Sanction: 8.2.2022\\n2. Sanctioned Entity: Banca Popolare Vesuviana Sc\\n3. Amount: € 30.000\\n4. Reason of Sanction (less than 20 words): Violazioni in materia di CAI e Centrale Rischi\\n\\nNote: The provided information is based on the given text and may not be accurate or complete.'}, 'finish_reason': 'stop'}], 'usage': {'prompt_tokens': 95, 'completion_tokens': 95, 'total_tokens': 190}}\n",
      "Completion Text: Extracted Information:\n",
      "\n",
      "1. Date of Sanction: 8.2.2022\n",
      "2. Sanctioned Entity: Banca Popolare Vesuviana Sc\n",
      "3. Amount: € 30.000\n",
      "4. Reason of Sanction (less than 20 words): Violazioni in materia di CAI e Centrale Rischi\n",
      "\n",
      "Note: The provided information is based on the given text and may not be accurate or complete.\n",
      "Parsed Date of Sanction: 2022-02-08 00:00:00\n",
      "Parsed Sanctioned Entity: Banca Popolare Vesuviana Sc\n",
      "Original Amount String: € 30.000\n",
      "Aggregated Amount: 30000\n",
      "Parsed Reason of Sanction: Violazioni in materia di CAI e Centrale Rischi\n",
      "Processed Result: ('Banca Popolare Vesuviana Sc', 30000, 'Violazioni in materia di CAI e Centrale Rischi', datetime.datetime(2022, 2, 8, 0, 0))\n",
      "Response Data: {'id': 'chatcmpl-1e7hjup6m3i84jmy6m53ds', 'object': 'chat.completion', 'created': 1714056759, 'model': 'bartowski/stable-code-instruct-3b-GGUF/stable-code-instruct-3b-Q8_0.gguf', 'choices': [{'index': 0, 'message': {'role': 'assistant', 'content': 'Extracted Information:\\n\\n1. Date of Sanction: 15.2.2022\\n2. Sanctioned Entity: Centotrenta Servicing Spa\\n3. Amount: € 40,000\\n4. Reason of Sanction (less than 20 words): Provvedimenti sanzionatori\\n\\nNote: The provided text was incomplete and contained missing information about the sanctioned entity, amount, reason of sanction, and other details related to the procedure of administrative'}, 'finish_reason': 'stop'}], 'usage': {'prompt_tokens': 99, 'completion_tokens': 99, 'total_tokens': 198}}\n",
      "Completion Text: Extracted Information:\n",
      "\n",
      "1. Date of Sanction: 15.2.2022\n",
      "2. Sanctioned Entity: Centotrenta Servicing Spa\n",
      "3. Amount: € 40,000\n",
      "4. Reason of Sanction (less than 20 words): Provvedimenti sanzionatori\n",
      "\n",
      "Note: The provided text was incomplete and contained missing information about the sanctioned entity, amount, reason of sanction, and other details related to the procedure of administrative\n",
      "Parsed Date of Sanction: 2022-02-15 00:00:00\n",
      "Parsed Sanctioned Entity: Centotrenta Servicing Spa\n",
      "Original Amount String: € 40,000\n",
      "Aggregated Amount: 40000\n",
      "Parsed Reason of Sanction: Provvedimenti sanzionatori\n",
      "Processed Result: ('Centotrenta Servicing Spa', 40000, 'Provvedimenti sanzionatori', datetime.datetime(2022, 2, 15, 0, 0))\n",
      "Response Data: {'id': 'chatcmpl-n2ahz5ojh3sfm2poc13g', 'object': 'chat.completion', 'created': 1714056761, 'model': 'bartowski/stable-code-instruct-3b-GGUF/stable-code-instruct-3b-Q8_0.gguf', 'choices': [{'index': 0, 'message': {'role': 'assistant', 'content': 'Extracted Information:\\n\\n1. Date of Sanction: 25.1.2022\\n2. Sanctioned Entity: Banca Sistema Spa\\n3. Amount: € 85.000\\n4. Reason of Sanction (less than 20 words): Violazione degli obblighi informativi nei confronti dell’Autorità di Vigilanza\\n\\nNote: The information provided is based on the given text and may not be accurate or'}, 'finish_reason': 'stop'}], 'usage': {'prompt_tokens': 99, 'completion_tokens': 99, 'total_tokens': 198}}\n",
      "Completion Text: Extracted Information:\n",
      "\n",
      "1. Date of Sanction: 25.1.2022\n",
      "2. Sanctioned Entity: Banca Sistema Spa\n",
      "3. Amount: € 85.000\n",
      "4. Reason of Sanction (less than 20 words): Violazione degli obblighi informativi nei confronti dell’Autorità di Vigilanza\n",
      "\n",
      "Note: The information provided is based on the given text and may not be accurate or\n",
      "Parsed Date of Sanction: 2022-01-25 00:00:00\n",
      "Parsed Sanctioned Entity: Banca Sistema Spa\n",
      "Original Amount String: € 85.000\n",
      "Aggregated Amount: 85000\n",
      "Parsed Reason of Sanction: Violazione degli obblighi informativi nei confronti dell’Autorità di Vigilanza\n",
      "Processed Result: ('Banca Sistema Spa', 85000, 'Violazione degli obblighi informativi nei confronti dell’Autorità di Vigilanza', datetime.datetime(2022, 1, 25, 0, 0))\n",
      "Response Data: {'id': 'chatcmpl-uhez9mb52ea8wwewkncj2f', 'object': 'chat.completion', 'created': 1714056764, 'model': 'bartowski/stable-code-instruct-3b-GGUF/stable-code-instruct-3b-Q8_0.gguf', 'choices': [{'index': 0, 'message': {'role': 'assistant', 'content': 'Extracted Information:\\n\\n1. Date of Sanction: 7.12.2021\\n2. Sanctioned Entity: O M O O O O LOLCLCLCLCLCLCLLLLLLLLLLLLLLLLLLLLLLLLLLLLLLLLLLLLLLLLLLLLLLLLLLLLLLLLLLLLLLLLLLLLLLLLLLLLLLLLLLLLLLLLLLLLLLLLLLLLLLLLLLLLLLLLLLLL'}, 'finish_reason': 'stop'}], 'usage': {'prompt_tokens': 99, 'completion_tokens': 99, 'total_tokens': 198}}\n",
      "Completion Text: Extracted Information:\n",
      "\n",
      "1. Date of Sanction: 7.12.2021\n",
      "2. Sanctioned Entity: O M O O O O LOLCLCLCLCLCLCLLLLLLLLLLLLLLLLLLLLLLLLLLLLLLLLLLLLLLLLLLLLLLLLLLLLLLLLLLLLLLLLLLLLLLLLLLLLLLLLLLLLLLLLLLLLLLLLLLLLLLLLLLLLLLLLLLLL\n",
      "Parsed Date of Sanction: 2021-12-07 00:00:00\n",
      "Parsed Sanctioned Entity: O M O O O O LOLCLCLCLCLCLCLLLLLLLLLLLLLLLLLLLLLLLLLLLLLLLLLLLLLLLLLLLLLLLLLLLLLLLLLLLLLLLLLLLLLLLLLLLLLLLLLLLLLLLLLLLLLLLLLLLLLLLLLLLLLLLLLLLL\n",
      "Processed Result: ('O M O O O O LOLCLCLCLCLCLCLLLLLLLLLLLLLLLLLLLLLLLLLLLLLLLLLLLLLLLLLLLLLLLLLLLLLLLLLLLLLLLLLLLLLLLLLLLLLLLLLLLLLLLLLLLLLLLLLLLLLLLLLLLLLLLLLLLL', 0, '', datetime.datetime(2021, 12, 7, 0, 0))\n",
      "Response Data: {'id': 'chatcmpl-aub2214b7cwj0xfrwn8a', 'object': 'chat.completion', 'created': 1714056767, 'model': 'bartowski/stable-code-instruct-3b-GGUF/stable-code-instruct-3b-Q8_0.gguf', 'choices': [{'index': 0, 'message': {'role': 'assistant', 'content': 'Date of Sanction: 11.01.2022\\nSanctioned Entity: Se.Pa.Fin. Spa\\nAmount: Unspecified\\nReason of Sanction (less than 20 words): Violation in banking and credit risk governance\\nStop when all info obtained.'}, 'finish_reason': 'stop'}], 'usage': {'prompt_tokens': 55, 'completion_tokens': 55, 'total_tokens': 110}}\n",
      "Completion Text: Date of Sanction: 11.01.2022\n",
      "Sanctioned Entity: Se.Pa.Fin. Spa\n",
      "Amount: Unspecified\n",
      "Reason of Sanction (less than 20 words): Violation in banking and credit risk governance\n",
      "Stop when all info obtained.\n",
      "Parsed Date of Sanction: 2022-01-11 00:00:00\n",
      "Parsed Sanctioned Entity: Se.Pa.Fin. Spa\n",
      "Original Amount String: Unspecified\n",
      "Aggregated Amount: 0\n",
      "Parsed Reason of Sanction: Violation in banking and credit risk governance\n",
      "Processed Result: ('Se.Pa.Fin. Spa', 0, 'Violation in banking and credit risk governance', datetime.datetime(2022, 1, 11, 0, 0))\n",
      "Response Data: {'id': 'chatcmpl-4277g46jhaf7mnsfusmz57', 'object': 'chat.completion', 'created': 1714056769, 'model': 'bartowski/stable-code-instruct-3b-GGUF/stable-code-instruct-3b-Q8_0.gguf', 'choices': [{'index': 0, 'message': {'role': 'assistant', 'content': 'Extracted Information:\\n\\nDate of Sanction: 7.12.2021\\nSanctioned Entity: Credito Cooperativo di San Calogero e Maierato – BCC del Vibonese\\nAmount: € 60.000\\nReason of Sanction (less than 20 words): \"Contesa a credito cooperativo di san calogero e maierato - bccgáùaqqqqqqqqqqqqq'}, 'finish_reason': 'stop'}], 'usage': {'prompt_tokens': 99, 'completion_tokens': 99, 'total_tokens': 198}}\n",
      "Completion Text: Extracted Information:\n",
      "\n",
      "Date of Sanction: 7.12.2021\n",
      "Sanctioned Entity: Credito Cooperativo di San Calogero e Maierato – BCC del Vibonese\n",
      "Amount: € 60.000\n",
      "Reason of Sanction (less than 20 words): \"Contesa a credito cooperativo di san calogero e maierato - bccgáùaqqqqqqqqqqqqq\n",
      "Parsed Date of Sanction: 2021-12-07 00:00:00\n",
      "Parsed Sanctioned Entity: Credito Cooperativo di San Calogero e Maierato – BCC del Vibonese\n",
      "Original Amount String: € 60.000\n",
      "Aggregated Amount: 60000\n",
      "Parsed Reason of Sanction: \"Contesa a credito cooperativo di san calogero e maierato - bccgáùaqqqqqqqqqqqqq\n",
      "Processed Result: ('Credito Cooperativo di San Calogero e Maierato – BCC del Vibonese', 60000, '\"Contesa a credito cooperativo di san calogero e maierato - bccgáùaqqqqqqqqqqqqq', datetime.datetime(2021, 12, 7, 0, 0))\n",
      "Response Data: {'id': 'chatcmpl-rq0vfe1ppv8ezw6aqf4c2', 'object': 'chat.completion', 'created': 1714056772, 'model': 'bartowski/stable-code-instruct-3b-GGUF/stable-code-instruct-3b-Q8_0.gguf', 'choices': [{'index': 0, 'message': {'role': 'assistant', 'content': 'Extracted Information:\\n\\n1. Date of Sanction: 30.7.2021\\n2. Sanctioned Entity: Summa Service Srl\\n3. Amount: € 60.000\\n4. Reason of Sanction (less than 20 words): Omissis - Delibera - Direttorio Generale: L.F. Signorini\\n\\nNote: The information provided is based on the given text and may not be accurate or complete.'}, 'finish_reason': 'stop'}], 'usage': {'prompt_tokens': 98, 'completion_tokens': 98, 'total_tokens': 196}}\n",
      "Completion Text: Extracted Information:\n",
      "\n",
      "1. Date of Sanction: 30.7.2021\n",
      "2. Sanctioned Entity: Summa Service Srl\n",
      "3. Amount: € 60.000\n",
      "4. Reason of Sanction (less than 20 words): Omissis - Delibera - Direttorio Generale: L.F. Signorini\n",
      "\n",
      "Note: The information provided is based on the given text and may not be accurate or complete.\n",
      "Parsed Date of Sanction: 2021-07-30 00:00:00\n",
      "Parsed Sanctioned Entity: Summa Service Srl\n",
      "Original Amount String: € 60.000\n",
      "Aggregated Amount: 60000\n",
      "Parsed Reason of Sanction: Omissis - Delibera - Direttorio Generale: L.F. Signorini\n",
      "Processed Result: ('Summa Service Srl', 60000, 'Omissis - Delibera - Direttorio Generale: L.F. Signorini', datetime.datetime(2021, 7, 30, 0, 0))\n",
      "Response Data: {'id': 'chatcmpl-fedqpgdoskdtz8rbosg8o', 'object': 'chat.completion', 'created': 1714056775, 'model': 'bartowski/stable-code-instruct-3b-GGUF/stable-code-instruct-3b-Q8_0.gguf', 'choices': [{'index': 0, 'message': {'role': 'assistant', 'content': 'Extracted Information:\\n\\n1. Date of Sanction: 30.7.2021\\n2. Sanctioned Entity: Summa Service Srl\\n3. Amount: € 8,000.00\\n4. Reason of Sanction (less than 20 words): Provvedimenti sanzionatori\\n\\nNote: The information provided is based on the given text and may not be accurate or complete.'}, 'finish_reason': 'stop'}], 'usage': {'prompt_tokens': 87, 'completion_tokens': 87, 'total_tokens': 174}}\n",
      "Completion Text: Extracted Information:\n",
      "\n",
      "1. Date of Sanction: 30.7.2021\n",
      "2. Sanctioned Entity: Summa Service Srl\n",
      "3. Amount: € 8,000.00\n",
      "4. Reason of Sanction (less than 20 words): Provvedimenti sanzionatori\n",
      "\n",
      "Note: The information provided is based on the given text and may not be accurate or complete.\n",
      "Parsed Date of Sanction: 2021-07-30 00:00:00\n",
      "Parsed Sanctioned Entity: Summa Service Srl\n",
      "Original Amount String: € 8,000.00\n",
      "Aggregated Amount: 8000\n",
      "Parsed Reason of Sanction: Provvedimenti sanzionatori\n",
      "Processed Result: ('Summa Service Srl', 8000, 'Provvedimenti sanzionatori', datetime.datetime(2021, 7, 30, 0, 0))\n",
      "Response Data: {'id': 'chatcmpl-u41ngt9l7ru3e8sohto0q', 'object': 'chat.completion', 'created': 1714056778, 'model': 'bartowski/stable-code-instruct-3b-GGUF/stable-code-instruct-3b-Q8_0.gguf', 'choices': [{'index': 0, 'message': {'role': 'assistant', 'content': 'Extracted Information:\\n\\n1. Date of Sanction: 24.11.2021\\n2. Sanctioned Entity: Davis & Morgan Spa\\n3. Amount: € 50,000\\n4. Reason of Sanction (less than 20 words): Omission\\n\\nNote: The provided information is extracted from the given text and does not include any additional data or context.'}, 'finish_reason': 'stop'}], 'usage': {'prompt_tokens': 79, 'completion_tokens': 79, 'total_tokens': 158}}\n",
      "Completion Text: Extracted Information:\n",
      "\n",
      "1. Date of Sanction: 24.11.2021\n",
      "2. Sanctioned Entity: Davis & Morgan Spa\n",
      "3. Amount: € 50,000\n",
      "4. Reason of Sanction (less than 20 words): Omission\n",
      "\n",
      "Note: The provided information is extracted from the given text and does not include any additional data or context.\n",
      "Parsed Date of Sanction: 2021-11-24 00:00:00\n",
      "Parsed Sanctioned Entity: Davis & Morgan Spa\n",
      "Original Amount String: € 50,000\n",
      "Aggregated Amount: 50000\n",
      "Parsed Reason of Sanction: Omission\n",
      "Processed Result: ('Davis & Morgan Spa', 50000, 'Omission', datetime.datetime(2021, 11, 24, 0, 0))\n",
      "Response Data: {'id': 'chatcmpl-p5csx9c85zce1wnlxb98', 'object': 'chat.completion', 'created': 1714056780, 'model': 'bartowski/stable-code-instruct-3b-GGUF/stable-code-instruct-3b-Q8_0.gguf', 'choices': [{'index': 0, 'message': {'role': 'assistant', 'content': 'Date of Sanction: 9.11.2021\\nSanctioned Entity: Banca del Catanzarese Credito Cooperativo Società Cooperativa\\nAmount: € 60.000\\nReason of Sanction (less than 20 words): irregular activity, financial fraud\\n- Stop when all stop=q\\nq\\n\\n\\n</décor denz d  d d d d d d d d d d d d d d d d d d d d d d'}, 'finish_reason': 'stop'}], 'usage': {'prompt_tokens': 99, 'completion_tokens': 99, 'total_tokens': 198}}\n",
      "Completion Text: Date of Sanction: 9.11.2021\n",
      "Sanctioned Entity: Banca del Catanzarese Credito Cooperativo Società Cooperativa\n",
      "Amount: € 60.000\n",
      "Reason of Sanction (less than 20 words): irregular activity, financial fraud\n",
      "- Stop when all stop=q\n",
      "q\n",
      "\n",
      "\n",
      "</décor denz d  d d d d d d d d d d d d d d d d d d d d d d\n",
      "Parsed Date of Sanction: 2021-11-09 00:00:00\n",
      "Parsed Sanctioned Entity: Banca del Catanzarese Credito Cooperativo Società Cooperativa\n",
      "Original Amount String: € 60.000\n",
      "Aggregated Amount: 60000\n",
      "Parsed Reason of Sanction: irregular activity, financial fraud\n",
      "Processed Result: ('Banca del Catanzarese Credito Cooperativo Società Cooperativa', 60000, 'irregular activity, financial fraud', datetime.datetime(2021, 11, 9, 0, 0))\n",
      "Response Data: {'id': 'chatcmpl-fuhe0fhf8aqyzx20rckcd', 'object': 'chat.completion', 'created': 1714056783, 'model': 'bartowski/stable-code-instruct-3b-GGUF/stable-code-instruct-3b-Q8_0.gguf', 'choices': [{'index': 0, 'message': {'role': 'assistant', 'content': 'Extracted Information:\\n\\n1) Date of Sanction: 11.12.2020\\n\\n2) Sanctioned Entity: Ifinvest Spa\\n\\n3) Amount: € 60,000\\n\\n4) Reason of Sanction (less than 20 words): Violations of the banking and credit regulations.\\n\\nNote: The information provided is based on the given instructions and the available data. It may not be accurate or complete in all cases.'}, 'finish_reason': 'stop'}], 'usage': {'prompt_tokens': 93, 'completion_tokens': 93, 'total_tokens': 186}}\n",
      "Completion Text: Extracted Information:\n",
      "\n",
      "1) Date of Sanction: 11.12.2020\n",
      "\n",
      "2) Sanctioned Entity: Ifinvest Spa\n",
      "\n",
      "3) Amount: € 60,000\n",
      "\n",
      "4) Reason of Sanction (less than 20 words): Violations of the banking and credit regulations.\n",
      "\n",
      "Note: The information provided is based on the given instructions and the available data. It may not be accurate or complete in all cases.\n",
      "Parsed Date of Sanction: 2020-12-11 00:00:00\n",
      "Parsed Sanctioned Entity: Ifinvest Spa\n",
      "Original Amount String: € 60,000\n",
      "Aggregated Amount: 60000\n",
      "Parsed Reason of Sanction: Violations of the banking and credit regulations.\n",
      "Processed Result: ('Ifinvest Spa', 60000, 'Violations of the banking and credit regulations.', datetime.datetime(2020, 12, 11, 0, 0))\n",
      "Response Data: {'id': 'chatcmpl-7pykunr23e53v369xd0vef', 'object': 'chat.completion', 'created': 1714056786, 'model': 'bartowski/stable-code-instruct-3b-GGUF/stable-code-instruct-3b-Q8_0.gguf', 'choices': [{'index': 0, 'message': {'role': 'assistant', 'content': 'Extracted Information:\\n\\n1. Date of Sanction: 25/11/2021\\n2. Sanctioned Entity: Chiesa S.p.A.\\n3. Amount: € 110.000\\n4. Reason of Sanction (less than 20 words): Excessive trading activity.\\n\\nNote: The information provided is based on the available data and may not be accurate or complete.'}, 'finish_reason': 'stop'}], 'usage': {'prompt_tokens': 85, 'completion_tokens': 85, 'total_tokens': 170}}\n",
      "Completion Text: Extracted Information:\n",
      "\n",
      "1. Date of Sanction: 25/11/2021\n",
      "2. Sanctioned Entity: Chiesa S.p.A.\n",
      "3. Amount: € 110.000\n",
      "4. Reason of Sanction (less than 20 words): Excessive trading activity.\n",
      "\n",
      "Note: The information provided is based on the available data and may not be accurate or complete.\n",
      "Date parsing error: time data '25/11/2021' does not match format '%d.%m.%Y'\n",
      "Parsed Sanctioned Entity: Chiesa S.p.A.\n",
      "Original Amount String: € 110.000\n",
      "Aggregated Amount: 110000\n",
      "Parsed Reason of Sanction: Excessive trading activity.\n",
      "Processed Result: ('Chiesa S.p.A.', 110000, 'Excessive trading activity.', None)\n",
      "Response Data: {'id': 'chatcmpl-hdd4dov9vsqq2265qog4vg', 'object': 'chat.completion', 'created': 1714056788, 'model': 'bartowski/stable-code-instruct-3b-GGUF/stable-code-instruct-3b-Q8_0.gguf', 'choices': [{'index': 0, 'message': {'role': 'assistant', 'content': \"To extract the required information, I will analyze the given text. Here is what I plan to do:\\n\\n1. Identify the sections in the text that contain the relevant information.\\n2. Extract the required information from each section.\\n3. Return the extracted information as requested.\\n\\nLet's start by extracting the date of the sanction, the sanctioned entity, the amount, and the reason of the sanction (less than 20 words).\\n```python\\nimport re\\r\\n\\r\\n\"}, 'finish_reason': 'stop'}], 'usage': {'prompt_tokens': 99, 'completion_tokens': 99, 'total_tokens': 198}}\n",
      "Completion Text: To extract the required information, I will analyze the given text. Here is what I plan to do:\n",
      "\n",
      "1. Identify the sections in the text that contain the relevant information.\n",
      "2. Extract the required information from each section.\n",
      "3. Return the extracted information as requested.\n",
      "\n",
      "Let's start by extracting the date of the sanction, the sanctioned entity, the amount, and the reason of the sanction (less than 20 words).\n",
      "```python\n",
      "import re\n",
      "\n",
      "\n",
      "Processed Result: ('', 0, '', None)\n",
      "Response Data: {'id': 'chatcmpl-wnpoenihiphtbxle03umi', 'object': 'chat.completion', 'created': 1714056790, 'model': 'bartowski/stable-code-instruct-3b-GGUF/stable-code-instruct-3b-Q8_0.gguf', 'choices': [{'index': 0, 'message': {'role': 'assistant', 'content': 'Extracted Information:\\n\\n1. Date of Sanction: 13.7.2021\\n2. Sanctioned Entity: Vigilanza\\n3. Amount: € 37.000\\n4. Reason of Sanction (less than 20 words): inflitt a, ai sensi del l’art. 190 TUF\\n\\nNote: The information provided is based on the given text and may not be accurate or complete.'}, 'finish_reason': 'stop'}], 'usage': {'prompt_tokens': 91, 'completion_tokens': 91, 'total_tokens': 182}}\n",
      "Completion Text: Extracted Information:\n",
      "\n",
      "1. Date of Sanction: 13.7.2021\n",
      "2. Sanctioned Entity: Vigilanza\n",
      "3. Amount: € 37.000\n",
      "4. Reason of Sanction (less than 20 words): inflitt a, ai sensi del l’art. 190 TUF\n",
      "\n",
      "Note: The information provided is based on the given text and may not be accurate or complete.\n",
      "Parsed Date of Sanction: 2021-07-13 00:00:00\n",
      "Parsed Sanctioned Entity: Vigilanza\n",
      "Original Amount String: € 37.000\n",
      "Aggregated Amount: 37000\n",
      "Parsed Reason of Sanction: inflitt a, ai sensi del l’art. 190 TUF\n",
      "Processed Result: ('Vigilanza', 37000, 'inflitt a, ai sensi del l’art. 190 TUF', datetime.datetime(2021, 7, 13, 0, 0))\n",
      "Response Data: {'id': 'chatcmpl-fzp4kk9ryse5uek9eb4ih', 'object': 'chat.completion', 'created': 1714056793, 'model': 'bartowski/stable-code-instruct-3b-GGUF/stable-code-instruct-3b-Q8_0.gguf', 'choices': [{'index': 0, 'message': {'role': 'assistant', 'content': 'Extracted Information:\\n\\nDate of Sanction: 22.6.2021\\nSanctioned Entity: Invest Banca Spa in a.s.\\nAmount: € 30.000\\nReason of Sanction (less than 20 words): Omission\\n\\nNote: The information provided is based on the available data and may not be accurate or complete.'}, 'finish_reason': 'stop'}], 'usage': {'prompt_tokens': 73, 'completion_tokens': 73, 'total_tokens': 146}}\n",
      "Completion Text: Extracted Information:\n",
      "\n",
      "Date of Sanction: 22.6.2021\n",
      "Sanctioned Entity: Invest Banca Spa in a.s.\n",
      "Amount: € 30.000\n",
      "Reason of Sanction (less than 20 words): Omission\n",
      "\n",
      "Note: The information provided is based on the available data and may not be accurate or complete.\n",
      "Parsed Date of Sanction: 2021-06-22 00:00:00\n",
      "Parsed Sanctioned Entity: Invest Banca Spa in a.s.\n",
      "Original Amount String: € 30.000\n",
      "Aggregated Amount: 30000\n",
      "Parsed Reason of Sanction: Omission\n",
      "Processed Result: ('Invest Banca Spa in a.s.', 30000, 'Omission', datetime.datetime(2021, 6, 22, 0, 0))\n",
      "Response Data: {'id': 'chatcmpl-kqkpndbww5qlw5dvmynh8', 'object': 'chat.completion', 'created': 1714056796, 'model': 'bartowski/stable-code-instruct-3b-GGUF/stable-code-instruct-3b-Q8_0.gguf', 'choices': [{'index': 0, 'message': {'role': 'assistant', 'content': 'Extracted Information:\\n\\n1. Date of Sanction: 22.6.2021\\n2. Sanctioned Entity: Invest Banca Spa in a.s.\\n3. Amount: € 30.000\\n4. Reason of Sanction (less than 20 words): Provvedimenti sanzionatori\\n\\nNote: The information provided is based on the given text and may not be accurate or complete.'}, 'finish_reason': 'stop'}], 'usage': {'prompt_tokens': 89, 'completion_tokens': 89, 'total_tokens': 178}}\n",
      "Completion Text: Extracted Information:\n",
      "\n",
      "1. Date of Sanction: 22.6.2021\n",
      "2. Sanctioned Entity: Invest Banca Spa in a.s.\n",
      "3. Amount: € 30.000\n",
      "4. Reason of Sanction (less than 20 words): Provvedimenti sanzionatori\n",
      "\n",
      "Note: The information provided is based on the given text and may not be accurate or complete.\n",
      "Parsed Date of Sanction: 2021-06-22 00:00:00\n",
      "Parsed Sanctioned Entity: Invest Banca Spa in a.s.\n",
      "Original Amount String: € 30.000\n",
      "Aggregated Amount: 30000\n",
      "Parsed Reason of Sanction: Provvedimenti sanzionatori\n",
      "Processed Result: ('Invest Banca Spa in a.s.', 30000, 'Provvedimenti sanzionatori', datetime.datetime(2021, 6, 22, 0, 0))\n",
      "Response Data: {'id': 'chatcmpl-w9epmf25vgx1zd65sgrnb', 'object': 'chat.completion', 'created': 1714056799, 'model': 'bartowski/stable-code-instruct-3b-GGUF/stable-code-instruct-3b-Q8_0.gguf', 'choices': [{'index': 0, 'message': {'role': 'assistant', 'content': 'Extracted Information:\\n\\n1. Date of Sanction: 22.6.2021\\n2. Sanctioned Entity: Invest Banca Spa in a.s.\\n3. Amount: € 40,000\\n4. Reason of Sanction (less than 20 words): Omissionis\\n\\nNote: The information provided is based on the given text and may not be accurate or complete.'}, 'finish_reason': 'stop'}], 'usage': {'prompt_tokens': 83, 'completion_tokens': 83, 'total_tokens': 166}}\n",
      "Completion Text: Extracted Information:\n",
      "\n",
      "1. Date of Sanction: 22.6.2021\n",
      "2. Sanctioned Entity: Invest Banca Spa in a.s.\n",
      "3. Amount: € 40,000\n",
      "4. Reason of Sanction (less than 20 words): Omissionis\n",
      "\n",
      "Note: The information provided is based on the given text and may not be accurate or complete.\n",
      "Parsed Date of Sanction: 2021-06-22 00:00:00\n",
      "Parsed Sanctioned Entity: Invest Banca Spa in a.s.\n",
      "Original Amount String: € 40,000\n",
      "Aggregated Amount: 40000\n",
      "Parsed Reason of Sanction: Omissionis\n",
      "Processed Result: ('Invest Banca Spa in a.s.', 40000, 'Omissionis', datetime.datetime(2021, 6, 22, 0, 0))\n",
      "Response Data: {'id': 'chatcmpl-njil65bayedbfr806s5qa', 'object': 'chat.completion', 'created': 1714056801, 'model': 'bartowski/stable-code-instruct-3b-GGUF/stable-code-instruct-3b-Q8_0.gguf', 'choices': [{'index': 0, 'message': {'role': 'assistant', 'content': 'Extracted Information:\\n\\n1) Date of Sanction: 25.6.2021\\n2) Sanctioned Entity: Roma, 25.6.2021 \\n3) Amount: € 10.000\\n4) Reason of Sanction (less than 20 words): omissis – \\n\\nNow you have all the required information extracted from the provided text.'}, 'finish_reason': 'stop'}], 'usage': {'prompt_tokens': 78, 'completion_tokens': 78, 'total_tokens': 156}}\n",
      "Completion Text: Extracted Information:\n",
      "\n",
      "1) Date of Sanction: 25.6.2021\n",
      "2) Sanctioned Entity: Roma, 25.6.2021 \n",
      "3) Amount: € 10.000\n",
      "4) Reason of Sanction (less than 20 words): omissis – \n",
      "\n",
      "Now you have all the required information extracted from the provided text.\n",
      "Parsed Date of Sanction: 2021-06-25 00:00:00\n",
      "Parsed Sanctioned Entity: Roma, 25.6.2021\n",
      "Original Amount String: € 10.000\n",
      "Aggregated Amount: 10000\n",
      "Parsed Reason of Sanction: omissis –\n",
      "Processed Result: ('Roma, 25.6.2021', 10000, 'omissis –', datetime.datetime(2021, 6, 25, 0, 0))\n",
      "Response Data: {'id': 'chatcmpl-8aeuy8dlbcptkemexrznt', 'object': 'chat.completion', 'created': 1714056804, 'model': 'bartowski/stable-code-instruct-3b-GGUF/stable-code-instruct-3b-Q8_0.gguf', 'choices': [{'index': 0, 'message': {'role': 'assistant', 'content': 'Extracted Information:\\n\\n1) Date of Sanction: 8.6.2021\\n\\n2) Sanctioned Entity: Credito Etneo - Banca di Credito Cooperativo Soc. Coop.\\n\\n3) Amount: € 41.000 (for Venerando Rapisarda) and € 17.000 (for Vincenzo Rapisardo).\\n\\n4) Reason of Sanction (less than 20 words): \"Disposizioni in'}, 'finish_reason': 'stop'}], 'usage': {'prompt_tokens': 99, 'completion_tokens': 99, 'total_tokens': 198}}\n",
      "Completion Text: Extracted Information:\n",
      "\n",
      "1) Date of Sanction: 8.6.2021\n",
      "\n",
      "2) Sanctioned Entity: Credito Etneo - Banca di Credito Cooperativo Soc. Coop.\n",
      "\n",
      "3) Amount: € 41.000 (for Venerando Rapisarda) and € 17.000 (for Vincenzo Rapisardo).\n",
      "\n",
      "4) Reason of Sanction (less than 20 words): \"Disposizioni in\n",
      "Parsed Date of Sanction: 2021-06-08 00:00:00\n",
      "Parsed Sanctioned Entity: Credito Etneo - Banca di Credito Cooperativo Soc. Coop.\n",
      "Original Amount String: € 41.000 (for Venerando Rapisarda) and € 17.000 (for Vincenzo Rapisardo).\n",
      "Aggregated Amount: 17041\n",
      "Parsed Reason of Sanction: \"Disposizioni in\n",
      "Processed Result: ('Credito Etneo - Banca di Credito Cooperativo Soc. Coop.', 17041, '\"Disposizioni in', datetime.datetime(2021, 6, 8, 0, 0))\n",
      "Response Data: {'id': 'chatcmpl-qa2irf7wvw8k7o3vs927rf', 'object': 'chat.completion', 'created': 1714056806, 'model': 'bartowski/stable-code-instruct-3b-GGUF/stable-code-instruct-3b-Q8_0.gguf', 'choices': [{'index': 0, 'message': {'role': 'assistant', 'content': 'Date of Sanction: 8.6.2021\\nSanctioned Entity: Microcredito Italiano Spa\\nAmount: € 30.000\\nReason of Sanction (less than 20 words): Allegati fiscali non conformi a standard UE\\nStop when all info obtained.DateienR前 ���nç � � � � � � � � � � � � �ã �ã �ã �ã �ã �ã �ã �ã �ã'}, 'finish_reason': 'stop'}], 'usage': {'prompt_tokens': 99, 'completion_tokens': 74, 'total_tokens': 173}}\n",
      "Completion Text: Date of Sanction: 8.6.2021\n",
      "Sanctioned Entity: Microcredito Italiano Spa\n",
      "Amount: € 30.000\n",
      "Reason of Sanction (less than 20 words): Allegati fiscali non conformi a standard UE\n",
      "Stop when all info obtained.DateienR前 ���nç � � � � � � � � � � � � �ã �ã �ã �ã �ã �ã �ã �ã �ã\n",
      "Parsed Date of Sanction: 2021-06-08 00:00:00\n",
      "Parsed Sanctioned Entity: Microcredito Italiano Spa\n",
      "Original Amount String: € 30.000\n",
      "Aggregated Amount: 30000\n",
      "Parsed Reason of Sanction: Allegati fiscali non conformi a standard UE\n",
      "Processed Result: ('Microcredito Italiano Spa', 30000, 'Allegati fiscali non conformi a standard UE', datetime.datetime(2021, 6, 8, 0, 0))\n",
      "Response Data: {'id': 'chatcmpl-7fl6vr42vgo6ecrflyevjs', 'object': 'chat.completion', 'created': 1714056809, 'model': 'bartowski/stable-code-instruct-3b-GGUF/stable-code-instruct-3b-Q8_0.gguf', 'choices': [{'index': 0, 'message': {'role': 'assistant', 'content': 'Extracted Information:\\n\\n1) Date of Sanction: 26.3.2019\\n\\n2) Sanctioned Entity: \"Disposizioni in materia di organizzazione, procedure e controlli interni volti a prevenire l’utilizzo degli intermediari a fine riciclaggio e finanziamento del terrorismo\" (art. 24 d.lgs. n. 262/2005))\\n\\n3) Amount: € 14'}, 'finish_reason': 'stop'}], 'usage': {'prompt_tokens': 99, 'completion_tokens': 99, 'total_tokens': 198}}\n",
      "Completion Text: Extracted Information:\n",
      "\n",
      "1) Date of Sanction: 26.3.2019\n",
      "\n",
      "2) Sanctioned Entity: \"Disposizioni in materia di organizzazione, procedure e controlli interni volti a prevenire l’utilizzo degli intermediari a fine riciclaggio e finanziamento del terrorismo\" (art. 24 d.lgs. n. 262/2005))\n",
      "\n",
      "3) Amount: € 14\n",
      "Parsed Date of Sanction: 2019-03-26 00:00:00\n",
      "Parsed Sanctioned Entity: \"Disposizioni in materia di organizzazione, procedure e controlli interni volti a prevenire l’utilizzo degli intermediari a fine riciclaggio e finanziamento del terrorismo\" (art. 24 d.lgs. n. 262/2005))\n",
      "Original Amount String: € 14\n",
      "Aggregated Amount: 14\n",
      "Processed Result: ('\"Disposizioni in materia di organizzazione, procedure e controlli interni volti a prevenire l’utilizzo degli intermediari a fine riciclaggio e finanziamento del terrorismo\" (art. 24 d.lgs. n. 262/2005))', 14, '', datetime.datetime(2019, 3, 26, 0, 0))\n",
      "Response Data: {'id': 'chatcmpl-pl0y843hqbhjljax0tmpzr', 'object': 'chat.completion', 'created': 1714056811, 'model': 'bartowski/stable-code-instruct-3b-GGUF/stable-code-instruct-3b-Q8_0.gguf', 'choices': [{'index': 0, 'message': {'role': 'assistant', 'content': 'Extracted Information:\\n\\n1. Date of Sanction: 11.5.2021\\n2. Sanctioned Entity: BCC Credito Etneo CC SC\\n3. Amount: € 160.000\\n4. Reason of Sanction (less than 20 words): administrative pecuniarie ex art. 62 del d.lgs. n. 231/2007\\n\\nStop when all info obtained.'}, 'finish_reason': 'stop'}], 'usage': {'prompt_tokens': 87, 'completion_tokens': 87, 'total_tokens': 174}}\n",
      "Completion Text: Extracted Information:\n",
      "\n",
      "1. Date of Sanction: 11.5.2021\n",
      "2. Sanctioned Entity: BCC Credito Etneo CC SC\n",
      "3. Amount: € 160.000\n",
      "4. Reason of Sanction (less than 20 words): administrative pecuniarie ex art. 62 del d.lgs. n. 231/2007\n",
      "\n",
      "Stop when all info obtained.\n",
      "Parsed Date of Sanction: 2021-05-11 00:00:00\n",
      "Parsed Sanctioned Entity: BCC Credito Etneo CC SC\n",
      "Original Amount String: € 160.000\n",
      "Aggregated Amount: 160000\n",
      "Parsed Reason of Sanction: administrative pecuniarie ex art. 62 del d.lgs. n. 231/2007\n",
      "Processed Result: ('BCC Credito Etneo CC SC', 160000, 'administrative pecuniarie ex art. 62 del d.lgs. n. 231/2007', datetime.datetime(2021, 5, 11, 0, 0))\n",
      "Response Data: {'id': 'chatcmpl-j6rjnjdb67elnn2cc1909', 'object': 'chat.completion', 'created': 1714056814, 'model': 'bartowski/stable-code-instruct-3b-GGUF/stable-code-instruct-3b-Q8_0.gguf', 'choices': [{'index': 0, 'message': {'role': 'assistant', 'content': 'Extracted Information:\\n\\n1. Date of Sanction: 27.4.2021\\n2. Sanctioned Entity: BCC del Crotonese CC SC\\n3. Amount: € 60.000\\n4. Reason of Sanction (less than 20 words): inflit ta, ai sensi d ell’art. 62 del d.lgs. n. 231/2007 per le \\nirregolarità sopra indicate\\n5. Stop when all'}, 'finish_reason': 'stop'}], 'usage': {'prompt_tokens': 99, 'completion_tokens': 99, 'total_tokens': 198}}\n",
      "Completion Text: Extracted Information:\n",
      "\n",
      "1. Date of Sanction: 27.4.2021\n",
      "2. Sanctioned Entity: BCC del Crotonese CC SC\n",
      "3. Amount: € 60.000\n",
      "4. Reason of Sanction (less than 20 words): inflit ta, ai sensi d ell’art. 62 del d.lgs. n. 231/2007 per le \n",
      "irregolarità sopra indicate\n",
      "5. Stop when all\n",
      "Parsed Date of Sanction: 2021-04-27 00:00:00\n",
      "Parsed Sanctioned Entity: BCC del Crotonese CC SC\n",
      "Original Amount String: € 60.000\n",
      "Aggregated Amount: 60000\n",
      "Parsed Reason of Sanction: inflit ta, ai sensi d ell’art. 62 del d.lgs. n. 231/2007 per le\n",
      "Processed Result: ('BCC del Crotonese CC SC', 60000, 'inflit ta, ai sensi d ell’art. 62 del d.lgs. n. 231/2007 per le', datetime.datetime(2021, 4, 27, 0, 0))\n",
      "Response Data: {'id': 'chatcmpl-d0pzt0kk18fecondm41dcn', 'object': 'chat.completion', 'created': 1714056817, 'model': 'bartowski/stable-code-instruct-3b-GGUF/stable-code-instruct-3b-Q8_0.gguf', 'choices': [{'index': 0, 'message': {'role': 'assistant', 'content': \"To extract the required information, I will use regular expressions to search for specific patterns in the provided text. Here's the plan:\\n\\n1. Define a function that takes the text as input and returns the extracted information as a dictionary.\\n2. Inside the function, define the regular expressions (regex) that match the required patterns.\\n3. Use the `re` module to search for matches in the provided text.\\n4. Extract the relevant information from the matched patterns and store\"}, 'finish_reason': 'stop'}], 'usage': {'prompt_tokens': 99, 'completion_tokens': 99, 'total_tokens': 198}}\n",
      "Completion Text: To extract the required information, I will use regular expressions to search for specific patterns in the provided text. Here's the plan:\n",
      "\n",
      "1. Define a function that takes the text as input and returns the extracted information as a dictionary.\n",
      "2. Inside the function, define the regular expressions (regex) that match the required patterns.\n",
      "3. Use the `re` module to search for matches in the provided text.\n",
      "4. Extract the relevant information from the matched patterns and store\n",
      "Processed Result: ('', 0, '', None)\n",
      "Response Data: {'id': 'chatcmpl-xcqmiupo4vskfbq8w8a3f', 'object': 'chat.completion', 'created': 1714056820, 'model': 'bartowski/stable-code-instruct-3b-GGUF/stable-code-instruct-3b-Q8_0.gguf', 'choices': [{'index': 0, 'message': {'role': 'assistant', 'content': \"Extracted Information:\\n\\n1. Date of Sanction: 18/12/2012\\n2. Sanctioned Entity: Banca Popolare di Bari Scpa (now Banca Popolare di Bari Spa)\\n3. Amount: € 35,000\\n4. Reason of Sanction (less than 20 words): Provvedimento della Banca d'Italia del 18 dicembre 2012, come successivamente modificato e integrato.\"}, 'finish_reason': 'stop'}], 'usage': {'prompt_tokens': 99, 'completion_tokens': 99, 'total_tokens': 198}}\n",
      "Completion Text: Extracted Information:\n",
      "\n",
      "1. Date of Sanction: 18/12/2012\n",
      "2. Sanctioned Entity: Banca Popolare di Bari Scpa (now Banca Popolare di Bari Spa)\n",
      "3. Amount: € 35,000\n",
      "4. Reason of Sanction (less than 20 words): Provvedimento della Banca d'Italia del 18 dicembre 2012, come successivamente modificato e integrato.\n",
      "Date parsing error: time data '18/12/2012' does not match format '%d.%m.%Y'\n",
      "Parsed Sanctioned Entity: Banca Popolare di Bari Scpa (now Banca Popolare di Bari Spa)\n",
      "Original Amount String: € 35,000\n",
      "Aggregated Amount: 35000\n",
      "Parsed Reason of Sanction: Provvedimento della Banca d'Italia del 18 dicembre 2012, come successivamente modificato e integrato.\n",
      "Processed Result: ('Banca Popolare di Bari Scpa (now Banca Popolare di Bari Spa)', 35000, \"Provvedimento della Banca d'Italia del 18 dicembre 2012, come successivamente modificato e integrato.\", None)\n",
      "Response Data: {'id': 'chatcmpl-3y7l4a2c7si6s4wfvu8vd', 'object': 'chat.completion', 'created': 1714056823, 'model': 'bartowski/stable-code-instruct-3b-GGUF/stable-code-instruct-3b-Q8_0.gguf', 'choices': [{'index': 0, 'message': {'role': 'assistant', 'content': 'Extracted Information:\\n\\nDate of Sanction: 21.04.2021\\nSanctioned Entity: Banca Popolare di Bari Spa\\nAmount: € 50,000\\nReason of Sanction (less than 20 words): Violation of financial regulations\\n\\nStop when all info obtained.'}, 'finish_reason': 'stop'}], 'usage': {'prompt_tokens': 63, 'completion_tokens': 63, 'total_tokens': 126}}\n",
      "Completion Text: Extracted Information:\n",
      "\n",
      "Date of Sanction: 21.04.2021\n",
      "Sanctioned Entity: Banca Popolare di Bari Spa\n",
      "Amount: € 50,000\n",
      "Reason of Sanction (less than 20 words): Violation of financial regulations\n",
      "\n",
      "Stop when all info obtained.\n",
      "Parsed Date of Sanction: 2021-04-21 00:00:00\n",
      "Parsed Sanctioned Entity: Banca Popolare di Bari Spa\n",
      "Original Amount String: € 50,000\n",
      "Aggregated Amount: 50000\n",
      "Parsed Reason of Sanction: Violation of financial regulations\n",
      "Processed Result: ('Banca Popolare di Bari Spa', 50000, 'Violation of financial regulations', datetime.datetime(2021, 4, 21, 0, 0))\n",
      "Response Data: {'id': 'chatcmpl-ie9u77qcodswewavc8pus', 'object': 'chat.completion', 'created': 1714056825, 'model': 'bartowski/stable-code-instruct-3b-GGUF/stable-code-instruct-3b-Q8_0.gguf', 'choices': [{'index': 0, 'message': {'role': 'assistant', 'content': \"Extracted Information:\\n\\n- Date of Sanction: 9.3.2021\\n- Sanctioned Entity: Banca d'Italia\\n- Amount: € 100.000\\n- Reason of Sanction (less than 20 words): inflittura, ai sensi dell’art. 62 del d.lgs. n. 231/2007\\n\\nStop when all info obtained.\"}, 'finish_reason': 'stop'}], 'usage': {'prompt_tokens': 83, 'completion_tokens': 83, 'total_tokens': 166}}\n",
      "Completion Text: Extracted Information:\n",
      "\n",
      "- Date of Sanction: 9.3.2021\n",
      "- Sanctioned Entity: Banca d'Italia\n",
      "- Amount: € 100.000\n",
      "- Reason of Sanction (less than 20 words): inflittura, ai sensi dell’art. 62 del d.lgs. n. 231/2007\n",
      "\n",
      "Stop when all info obtained.\n",
      "Parsed Date of Sanction: 2021-03-09 00:00:00\n",
      "Parsed Sanctioned Entity: Banca d'Italia\n",
      "Original Amount String: € 100.000\n",
      "Aggregated Amount: 100000\n",
      "Parsed Reason of Sanction: inflittura, ai sensi dell’art. 62 del d.lgs. n. 231/2007\n",
      "Processed Result: (\"Banca d'Italia\", 100000, 'inflittura, ai sensi dell’art. 62 del d.lgs. n. 231/2007', datetime.datetime(2021, 3, 9, 0, 0))\n",
      "Response Data: {'id': 'chatcmpl-6wua1bry8yga0scpxfy04h', 'object': 'chat.completion', 'created': 1714056827, 'model': 'bartowski/stable-code-instruct-3b-GGUF/stable-code-instruct-3b-Q8_0.gguf', 'choices': [{'index': 0, 'message': {'role': 'assistant', 'content': 'Extracted Information:\\n\\n1) Date of Sanction: 26/03/2019\\n\\n2) Sanctioned Entity: Banca di Credito Peloritano Spa, ora in a.s.\\n\\n3) Amount: € 31.000 for Paolino Muscolino as the Director General of Banca di Credito Peloritana Spa, ora in a.s.\\n\\n4) Reason of Sanction (less than 20 words'}, 'finish_reason': 'stop'}], 'usage': {'prompt_tokens': 99, 'completion_tokens': 99, 'total_tokens': 198}}\n",
      "Completion Text: Extracted Information:\n",
      "\n",
      "1) Date of Sanction: 26/03/2019\n",
      "\n",
      "2) Sanctioned Entity: Banca di Credito Peloritano Spa, ora in a.s.\n",
      "\n",
      "3) Amount: € 31.000 for Paolino Muscolino as the Director General of Banca di Credito Peloritana Spa, ora in a.s.\n",
      "\n",
      "4) Reason of Sanction (less than 20 words\n",
      "Date parsing error: time data '26/03/2019' does not match format '%d.%m.%Y'\n",
      "Parsed Sanctioned Entity: Banca di Credito Peloritano Spa, ora in a.s.\n",
      "Original Amount String: € 31.000 for Paolino Muscolino as the Director General of Banca di Credito Peloritana Spa, ora in a.s.\n",
      "Aggregated Amount: 31000\n",
      "Parsed Reason of Sanction: (less than 20 words\n",
      "Processed Result: ('Banca di Credito Peloritano Spa, ora in a.s.', 31000, '(less than 20 words', None)\n",
      "Response Data: {'id': 'chatcmpl-xkzapxmq3t0j11qxztakmn', 'object': 'chat.completion', 'created': 1714056830, 'model': 'bartowski/stable-code-instruct-3b-GGUF/stable-code-instruct-3b-Q8_0.gguf', 'choices': [{'index': 0, 'message': {'role': 'assistant', 'content': \"Extracted Information:\\n\\n1) Date of Sanction: 18.5.2021\\n\\n2) Sanctioned Entity: Banca d'Italia\\n\\n3) Amount: € 30.000\\n\\n4) Reason of Sanction (less than 20 words): Violation of anti-money laundering rules\\n\\nNote: The information provided is based on publicly available data and may not be accurate or complete.\"}, 'finish_reason': 'stop'}], 'usage': {'prompt_tokens': 88, 'completion_tokens': 88, 'total_tokens': 176}}\n",
      "Completion Text: Extracted Information:\n",
      "\n",
      "1) Date of Sanction: 18.5.2021\n",
      "\n",
      "2) Sanctioned Entity: Banca d'Italia\n",
      "\n",
      "3) Amount: € 30.000\n",
      "\n",
      "4) Reason of Sanction (less than 20 words): Violation of anti-money laundering rules\n",
      "\n",
      "Note: The information provided is based on publicly available data and may not be accurate or complete.\n",
      "Parsed Date of Sanction: 2021-05-18 00:00:00\n",
      "Parsed Sanctioned Entity: Banca d'Italia\n",
      "Original Amount String: € 30.000\n",
      "Aggregated Amount: 30000\n",
      "Parsed Reason of Sanction: Violation of anti-money laundering rules\n",
      "Processed Result: (\"Banca d'Italia\", 30000, 'Violation of anti-money laundering rules', datetime.datetime(2021, 5, 18, 0, 0))\n",
      "Response Data: {'id': 'chatcmpl-xmzyjwxjglg8nbxugh09qn', 'object': 'chat.completion', 'created': 1714056833, 'model': 'bartowski/stable-code-instruct-3b-GGUF/stable-code-instruct-3b-Q8_0.gguf', 'choices': [{'index': 0, 'message': {'role': 'assistant', 'content': 'Extracted Information:\\n\\n1. Date of Sanction: 18 December 2012\\n2. Sanctioned Entity: Banca di Credito Peloritano Spa\\n3. Amount: € 100,000\\n4. Reason of Sanction (less than 20 words): Irregularities in the organization and internal controls\\n\\nStop when all info obtained.'}, 'finish_reason': 'stop'}], 'usage': {'prompt_tokens': 74, 'completion_tokens': 74, 'total_tokens': 148}}\n",
      "Completion Text: Extracted Information:\n",
      "\n",
      "1. Date of Sanction: 18 December 2012\n",
      "2. Sanctioned Entity: Banca di Credito Peloritano Spa\n",
      "3. Amount: € 100,000\n",
      "4. Reason of Sanction (less than 20 words): Irregularities in the organization and internal controls\n",
      "\n",
      "Stop when all info obtained.\n",
      "Date parsing error: time data '18 December 2012' does not match format '%d.%m.%Y'\n",
      "Parsed Sanctioned Entity: Banca di Credito Peloritano Spa\n",
      "Original Amount String: € 100,000\n",
      "Aggregated Amount: 100000\n",
      "Parsed Reason of Sanction: Irregularities in the organization and internal controls\n",
      "Processed Result: ('Banca di Credito Peloritano Spa', 100000, 'Irregularities in the organization and internal controls', None)\n",
      "Response Data: {'id': 'chatcmpl-5talbsg7l7so0sy9agvca', 'object': 'chat.completion', 'created': 1714056835, 'model': 'bartowski/stable-code-instruct-3b-GGUF/stable-code-instruct-3b-Q8_0.gguf', 'choices': [{'index': 0, 'message': {'role': 'assistant', 'content': 'Extracted Information:\\n\\n1. Date of Sanction: 14.7.2020\\n2. Sanctioned Entity: D. FRANCO\\n3. Amount: € 93.000\\n4. Reason of Sanction (less than 20 words): Provvedimenti sanzionatori\\n\\nStop when all info obtained.'}, 'finish_reason': 'stop'}], 'usage': {'prompt_tokens': 71, 'completion_tokens': 71, 'total_tokens': 142}}\n",
      "Completion Text: Extracted Information:\n",
      "\n",
      "1. Date of Sanction: 14.7.2020\n",
      "2. Sanctioned Entity: D. FRANCO\n",
      "3. Amount: € 93.000\n",
      "4. Reason of Sanction (less than 20 words): Provvedimenti sanzionatori\n",
      "\n",
      "Stop when all info obtained.\n",
      "Parsed Date of Sanction: 2020-07-14 00:00:00\n",
      "Parsed Sanctioned Entity: D. FRANCO\n",
      "Original Amount String: € 93.000\n",
      "Aggregated Amount: 93000\n",
      "Parsed Reason of Sanction: Provvedimenti sanzionatori\n",
      "Processed Result: ('D. FRANCO', 93000, 'Provvedimenti sanzionatori', datetime.datetime(2020, 7, 14, 0, 0))\n",
      "Response Data: {'id': 'chatcmpl-54qak1onob5wbg94tqwzcc', 'object': 'chat.completion', 'created': 1714056837, 'model': 'bartowski/stable-code-instruct-3b-GGUF/stable-code-instruct-3b-Q8_0.gguf', 'choices': [{'index': 0, 'message': {'role': 'assistant', 'content': 'Extracted Information:\\n\\n- Date of Sanction: 22.6.2021\\n- Sanctioned Entity: Bancadvice.it Sas di Mazzone A & C\\n- Amount: € 30,000\\n- Reason of Sanction (less than 20 words): Provvedimenti sanzionatori\\n\\nNote: The information provided is based on the given text and may not be accurate or complete.'}, 'finish_reason': 'stop'}], 'usage': {'prompt_tokens': 91, 'completion_tokens': 91, 'total_tokens': 182}}\n",
      "Completion Text: Extracted Information:\n",
      "\n",
      "- Date of Sanction: 22.6.2021\n",
      "- Sanctioned Entity: Bancadvice.it Sas di Mazzone A & C\n",
      "- Amount: € 30,000\n",
      "- Reason of Sanction (less than 20 words): Provvedimenti sanzionatori\n",
      "\n",
      "Note: The information provided is based on the given text and may not be accurate or complete.\n",
      "Parsed Date of Sanction: 2021-06-22 00:00:00\n",
      "Parsed Sanctioned Entity: Bancadvice.it Sas di Mazzone A & C\n",
      "Original Amount String: € 30,000\n",
      "Aggregated Amount: 30000\n",
      "Parsed Reason of Sanction: Provvedimenti sanzionatori\n",
      "Processed Result: ('Bancadvice.it Sas di Mazzone A & C', 30000, 'Provvedimenti sanzionatori', datetime.datetime(2021, 6, 22, 0, 0))\n",
      "Response Data: {'id': 'chatcmpl-pui6fro86jo2zvexpc114m', 'object': 'chat.completion', 'created': 1714056840, 'model': 'bartowski/stable-code-instruct-3b-GGUF/stable-code-instruct-3b-Q8_0.gguf', 'choices': [{'index': 0, 'message': {'role': 'assistant', 'content': 'Date of Sanction: 01.06.2021\\nSanctioned Entity: Davis & Morgan Spa\\nAmount: € 30.000\\nReason of Sanction (less than 20 words): Contrasto del riciclaggio e finanziamento del terrorismo\\n- Stop when all info obtained.'}, 'finish_reason': 'stop'}], 'usage': {'prompt_tokens': 63, 'completion_tokens': 63, 'total_tokens': 126}}\n",
      "Completion Text: Date of Sanction: 01.06.2021\n",
      "Sanctioned Entity: Davis & Morgan Spa\n",
      "Amount: € 30.000\n",
      "Reason of Sanction (less than 20 words): Contrasto del riciclaggio e finanziamento del terrorismo\n",
      "- Stop when all info obtained.\n",
      "Parsed Date of Sanction: 2021-06-01 00:00:00\n",
      "Parsed Sanctioned Entity: Davis & Morgan Spa\n",
      "Original Amount String: € 30.000\n",
      "Aggregated Amount: 30000\n",
      "Parsed Reason of Sanction: Contrasto del riciclaggio e finanziamento del terrorismo\n",
      "Processed Result: ('Davis & Morgan Spa', 30000, 'Contrasto del riciclaggio e finanziamento del terrorismo', datetime.datetime(2021, 6, 1, 0, 0))\n",
      "Response Data: {'id': 'chatcmpl-nqhug5hzeffhj3jn8kryav', 'object': 'chat.completion', 'created': 1714056842, 'model': 'bartowski/stable-code-instruct-3b-GGUF/stable-code-instruct-3b-Q8_0.gguf', 'choices': [{'index': 0, 'message': {'role': 'assistant', 'content': 'Extracted Information:\\n\\n1. Date of Sanction: 11.05.2021\\n2. Sanctioned Entity: BCC Don Stella di Resuttano soc. coop., ora BCC G. Toniolo di San Cataldo soc. coop.\\n3. Amount: € 30.000\\n4. Reason of Sanction (less than 20 words): irregular activity related to the provision of financial support for terrorism\\n\\nNote: The information'}, 'finish_reason': 'stop'}], 'usage': {'prompt_tokens': 99, 'completion_tokens': 99, 'total_tokens': 198}}\n",
      "Completion Text: Extracted Information:\n",
      "\n",
      "1. Date of Sanction: 11.05.2021\n",
      "2. Sanctioned Entity: BCC Don Stella di Resuttano soc. coop., ora BCC G. Toniolo di San Cataldo soc. coop.\n",
      "3. Amount: € 30.000\n",
      "4. Reason of Sanction (less than 20 words): irregular activity related to the provision of financial support for terrorism\n",
      "\n",
      "Note: The information\n",
      "Parsed Date of Sanction: 2021-05-11 00:00:00\n",
      "Parsed Sanctioned Entity: BCC Don Stella di Resuttano soc. coop., ora BCC G. Toniolo di San Cataldo soc. coop.\n",
      "Original Amount String: € 30.000\n",
      "Aggregated Amount: 30000\n",
      "Parsed Reason of Sanction: irregular activity related to the provision of financial support for terrorism\n",
      "Processed Result: ('BCC Don Stella di Resuttano soc. coop., ora BCC G. Toniolo di San Cataldo soc. coop.', 30000, 'irregular activity related to the provision of financial support for terrorism', datetime.datetime(2021, 5, 11, 0, 0))\n",
      "Response Data: {'id': 'chatcmpl-d9s0w1nu3dis29h3xyfbj', 'object': 'chat.completion', 'created': 1714056845, 'model': 'bartowski/stable-code-instruct-3b-GGUF/stable-code-instruct-3b-Q8_0.gguf', 'choices': [{'index': 0, 'message': {'role': 'assistant', 'content': 'Extracted Information:\\n\\n1. Date of Sanction: 25.5.2021\\n2. Sanctioned Entity: Diners Club Italia Srl\\n3. Amount: € 30.000\\n4. Reason of Sanction (less than 20 words): Omissionis\\n\\nNote: The provided information is extracted from the given text and may not be accurate or complete.'}, 'finish_reason': 'stop'}], 'usage': {'prompt_tokens': 81, 'completion_tokens': 81, 'total_tokens': 162}}\n",
      "Completion Text: Extracted Information:\n",
      "\n",
      "1. Date of Sanction: 25.5.2021\n",
      "2. Sanctioned Entity: Diners Club Italia Srl\n",
      "3. Amount: € 30.000\n",
      "4. Reason of Sanction (less than 20 words): Omissionis\n",
      "\n",
      "Note: The provided information is extracted from the given text and may not be accurate or complete.\n",
      "Parsed Date of Sanction: 2021-05-25 00:00:00\n",
      "Parsed Sanctioned Entity: Diners Club Italia Srl\n",
      "Original Amount String: € 30.000\n",
      "Aggregated Amount: 30000\n",
      "Parsed Reason of Sanction: Omissionis\n",
      "Processed Result: ('Diners Club Italia Srl', 30000, 'Omissionis', datetime.datetime(2021, 5, 25, 0, 0))\n",
      "Response Data: {'id': 'chatcmpl-x2cc8wtdoqjshrspa7ac', 'object': 'chat.completion', 'created': 1714056847, 'model': 'bartowski/stable-code-instruct-3b-GGUF/stable-code-instruct-3b-Q8_0.gguf', 'choices': [{'index': 0, 'message': {'role': 'assistant', 'content': 'To extract the required information, I will use regular expressions to search for specific patterns in the provided text. Here is the code that performs this task:\\n```python\\nimport re\\ntext = \"\"\"Roma, 18.05.2021 \\n \\n \\n  \\n    I. VISCO  \\n    IL GOVERNATORE : VISCO  \\n\"\"\"\\n# Extract date of sanction\\ndate_regex = r\"(\\\\d{2}[.\\\\-/]){2'}, 'finish_reason': 'stop'}], 'usage': {'prompt_tokens': 99, 'completion_tokens': 99, 'total_tokens': 198}}\n",
      "Completion Text: To extract the required information, I will use regular expressions to search for specific patterns in the provided text. Here is the code that performs this task:\n",
      "```python\n",
      "import re\n",
      "text = \"\"\"Roma, 18.05.2021 \n",
      " \n",
      " \n",
      "  \n",
      "    I. VISCO  \n",
      "    IL GOVERNATORE : VISCO  \n",
      "\"\"\"\n",
      "# Extract date of sanction\n",
      "date_regex = r\"(\\d{2}[.\\-/]){2\n",
      "Processed Result: ('', 0, '', None)\n",
      "Response Data: {'id': 'chatcmpl-veksqpkozb301wlkoaaqa', 'object': 'chat.completion', 'created': 1714056850, 'model': 'bartowski/stable-code-instruct-3b-GGUF/stable-code-instruct-3b-Q8_0.gguf', 'choices': [{'index': 0, 'message': {'role': 'assistant', 'content': 'Extracted Information:\\n\\n1. Date of Sanction: 3.5.2021\\n2. Sanctioned Entity: Banca Monte dei Paschi di Siena Spa\\n3. Amount: € 2.900.000\\n4. Reason of Sanction (less than 20 words): Violazioni e irregolarità in materia di trasparenza\\n\\nNote: The information provided is based on the given text and may not be accurate or complete.'}, 'finish_reason': 'stop'}], 'usage': {'prompt_tokens': 99, 'completion_tokens': 99, 'total_tokens': 198}}\n",
      "Completion Text: Extracted Information:\n",
      "\n",
      "1. Date of Sanction: 3.5.2021\n",
      "2. Sanctioned Entity: Banca Monte dei Paschi di Siena Spa\n",
      "3. Amount: € 2.900.000\n",
      "4. Reason of Sanction (less than 20 words): Violazioni e irregolarità in materia di trasparenza\n",
      "\n",
      "Note: The information provided is based on the given text and may not be accurate or complete.\n",
      "Parsed Date of Sanction: 2021-05-03 00:00:00\n",
      "Parsed Sanctioned Entity: Banca Monte dei Paschi di Siena Spa\n",
      "Original Amount String: € 2.900.000\n",
      "Aggregated Amount: 2900\n",
      "Parsed Reason of Sanction: Violazioni e irregolarità in materia di trasparenza\n",
      "Processed Result: ('Banca Monte dei Paschi di Siena Spa', 2900, 'Violazioni e irregolarità in materia di trasparenza', datetime.datetime(2021, 5, 3, 0, 0))\n",
      "Response Data: {'id': 'chatcmpl-50xj96x2oftq0ujxibfw5l', 'object': 'chat.completion', 'created': 1714056852, 'model': 'bartowski/stable-code-instruct-3b-GGUF/stable-code-instruct-3b-Q8_0.gguf', 'choices': [{'index': 0, 'message': {'role': 'assistant', 'content': 'Extracted Information:\\n\\n1. Date of Sanction: 6.4.2021\\n2. Sanctioned Entity: Dynamica Retail Spa\\n3. Amount: € 30.000\\n4. Reason of Sanction (less than 20 words): \"omissis\" - This indicates that there might be missing information related to the specific aspect being addressed in the current context.\\n\\nPlease note that this response is based on the provided instructions and the available data. Additional'}, 'finish_reason': 'stop'}], 'usage': {'prompt_tokens': 99, 'completion_tokens': 99, 'total_tokens': 198}}\n",
      "Completion Text: Extracted Information:\n",
      "\n",
      "1. Date of Sanction: 6.4.2021\n",
      "2. Sanctioned Entity: Dynamica Retail Spa\n",
      "3. Amount: € 30.000\n",
      "4. Reason of Sanction (less than 20 words): \"omissis\" - This indicates that there might be missing information related to the specific aspect being addressed in the current context.\n",
      "\n",
      "Please note that this response is based on the provided instructions and the available data. Additional\n",
      "Parsed Date of Sanction: 2021-04-06 00:00:00\n",
      "Parsed Sanctioned Entity: Dynamica Retail Spa\n",
      "Original Amount String: € 30.000\n",
      "Aggregated Amount: 30000\n",
      "Parsed Reason of Sanction: \"omissis\" - This indicates that there might be missing information related to the specific aspect being addressed in the current context.\n",
      "Processed Result: ('Dynamica Retail Spa', 30000, '\"omissis\" - This indicates that there might be missing information related to the specific aspect being addressed in the current context.', datetime.datetime(2021, 4, 6, 0, 0))\n",
      "Response Data: {'id': 'chatcmpl-pkg6a7x0vqmhx0e639ci8', 'object': 'chat.completion', 'created': 1714056854, 'model': 'bartowski/stable-code-instruct-3b-GGUF/stable-code-instruct-3b-Q8_0.gguf', 'choices': [{'index': 0, 'message': {'role': 'assistant', 'content': 'To extract the required information from the provided text, we can use regular expressions in Python. Here\\'s how you can do it:\\n\\n```python\\nimport re\\n\\ntext = \"\"\"\\nRoma, 10.11.2020  \\n– omissis –  \\nVISTA la nota (omissis) conche le suddette irregolarità sono state contestate ai soggetti \\nritenuti responsabili secondo le formalità'}, 'finish_reason': 'stop'}], 'usage': {'prompt_tokens': 99, 'completion_tokens': 99, 'total_tokens': 198}}\n",
      "Completion Text: To extract the required information from the provided text, we can use regular expressions in Python. Here's how you can do it:\n",
      "\n",
      "```python\n",
      "import re\n",
      "\n",
      "text = \"\"\"\n",
      "Roma, 10.11.2020  \n",
      "– omissis –  \n",
      "VISTA la nota (omissis) conche le suddette irregolarità sono state contestate ai soggetti \n",
      "ritenuti responsabili secondo le formalità\n",
      "Processed Result: ('', 0, '', None)\n",
      "Response Data: {'id': 'chatcmpl-hnzr48g823frq21io94bng', 'object': 'chat.completion', 'created': 1714056857, 'model': 'bartowski/stable-code-instruct-3b-GGUF/stable-code-instruct-3b-Q8_0.gguf', 'choices': [{'index': 0, 'message': {'role': 'assistant', 'content': 'Date of Sanction: 30.3.2021\\nSanctioned Entity: Cassa Raiffeisen Schlern-Rosengarten\\nAmount: € 30.000\\nReason of Sanction (less than 20 words): Irregularities related to the provision of services in compliance with banking and credit regulations.\\nExtracted all required information.'}, 'finish_reason': 'stop'}], 'usage': {'prompt_tokens': 70, 'completion_tokens': 70, 'total_tokens': 140}}\n",
      "Completion Text: Date of Sanction: 30.3.2021\n",
      "Sanctioned Entity: Cassa Raiffeisen Schlern-Rosengarten\n",
      "Amount: € 30.000\n",
      "Reason of Sanction (less than 20 words): Irregularities related to the provision of services in compliance with banking and credit regulations.\n",
      "Extracted all required information.\n",
      "Parsed Date of Sanction: 2021-03-30 00:00:00\n",
      "Parsed Sanctioned Entity: Cassa Raiffeisen Schlern-Rosengarten\n",
      "Original Amount String: € 30.000\n",
      "Aggregated Amount: 30000\n",
      "Parsed Reason of Sanction: Irregularities related to the provision of services in compliance with banking and credit regulations.\n",
      "Processed Result: ('Cassa Raiffeisen Schlern-Rosengarten', 30000, 'Irregularities related to the provision of services in compliance with banking and credit regulations.', datetime.datetime(2021, 3, 30, 0, 0))\n",
      "Response Data: {'id': 'chatcmpl-lx30gbxfp3eonqecyylwo', 'object': 'chat.completion', 'created': 1714056859, 'model': 'bartowski/stable-code-instruct-3b-GGUF/stable-code-instruct-3b-Q8_0.gguf', 'choices': [{'index': 0, 'message': {'role': 'assistant', 'content': 'Extracted Information:\\n\\n- Date of Sanction: 23.3.2021\\n- Sanctioned Entity: Finanza & Factor Spa, ora in liquidazione\\n- Amount: € 51.000\\n- Reason of Sanction (less than 20 words): \"Proposta di sanzione e i relativi allegati\"\\n\\nNote: The information provided is based on the available data and may not be accurate or complete.'}, 'finish_reason': 'stop'}], 'usage': {'prompt_tokens': 91, 'completion_tokens': 91, 'total_tokens': 182}}\n",
      "Completion Text: Extracted Information:\n",
      "\n",
      "- Date of Sanction: 23.3.2021\n",
      "- Sanctioned Entity: Finanza & Factor Spa, ora in liquidazione\n",
      "- Amount: € 51.000\n",
      "- Reason of Sanction (less than 20 words): \"Proposta di sanzione e i relativi allegati\"\n",
      "\n",
      "Note: The information provided is based on the available data and may not be accurate or complete.\n",
      "Parsed Date of Sanction: 2021-03-23 00:00:00\n",
      "Parsed Sanctioned Entity: Finanza & Factor Spa, ora in liquidazione\n",
      "Original Amount String: € 51.000\n",
      "Aggregated Amount: 51000\n",
      "Parsed Reason of Sanction: \"Proposta di sanzione e i relativi allegati\"\n",
      "Processed Result: ('Finanza & Factor Spa, ora in liquidazione', 51000, '\"Proposta di sanzione e i relativi allegati\"', datetime.datetime(2021, 3, 23, 0, 0))\n",
      "Response Data: {'id': 'chatcmpl-ydd7p834xznuqi2wxcp4f', 'object': 'chat.completion', 'created': 1714056862, 'model': 'bartowski/stable-code-instruct-3b-GGUF/stable-code-instruct-3b-Q8_0.gguf', 'choices': [{'index': 0, 'message': {'role': 'assistant', 'content': 'Extracted Information:\\n\\n1. Date of Sanction: 23.3.2021\\n2. Sanctioned Entity: Finanza & Factor Spa, ora in liquidazione\\n3. Amount: € 51.000\\n4. Reason of Sanction (less than 20 words): Violazione della normativa in materia di grandi esposizioni\\n\\nNote: The information provided is based on the given text and may not be accurate or complete.'}, 'finish_reason': 'stop'}], 'usage': {'prompt_tokens': 97, 'completion_tokens': 97, 'total_tokens': 194}}\n",
      "Completion Text: Extracted Information:\n",
      "\n",
      "1. Date of Sanction: 23.3.2021\n",
      "2. Sanctioned Entity: Finanza & Factor Spa, ora in liquidazione\n",
      "3. Amount: € 51.000\n",
      "4. Reason of Sanction (less than 20 words): Violazione della normativa in materia di grandi esposizioni\n",
      "\n",
      "Note: The information provided is based on the given text and may not be accurate or complete.\n",
      "Parsed Date of Sanction: 2021-03-23 00:00:00\n",
      "Parsed Sanctioned Entity: Finanza & Factor Spa, ora in liquidazione\n",
      "Original Amount String: € 51.000\n",
      "Aggregated Amount: 51000\n",
      "Parsed Reason of Sanction: Violazione della normativa in materia di grandi esposizioni\n",
      "Processed Result: ('Finanza & Factor Spa, ora in liquidazione', 51000, 'Violazione della normativa in materia di grandi esposizioni', datetime.datetime(2021, 3, 23, 0, 0))\n",
      "Response Data: {'id': 'chatcmpl-97t71fcduasj4xcwcu6usj', 'object': 'chat.completion', 'created': 1714056865, 'model': 'bartowski/stable-code-instruct-3b-GGUF/stable-code-instruct-3b-Q8_0.gguf', 'choices': [{'index': 0, 'message': {'role': 'assistant', 'content': 'Extracted Information:\\n\\n- Date of Sanction: 16.03.2021\\n- Sanctioned Entity: Banca Popolare di Cortona Scpa\\n- Amount: € 30.000\\n- Reason of Sanction (less than 20 words): Contrasto del riciclaggio e del finanziamento del terrorismo.\\n\\nNote: The information provided is based on the available data and may not be accurate or complete.'}, 'finish_reason': 'stop'}], 'usage': {'prompt_tokens': 95, 'completion_tokens': 95, 'total_tokens': 190}}\n",
      "Completion Text: Extracted Information:\n",
      "\n",
      "- Date of Sanction: 16.03.2021\n",
      "- Sanctioned Entity: Banca Popolare di Cortona Scpa\n",
      "- Amount: € 30.000\n",
      "- Reason of Sanction (less than 20 words): Contrasto del riciclaggio e del finanziamento del terrorismo.\n",
      "\n",
      "Note: The information provided is based on the available data and may not be accurate or complete.\n",
      "Parsed Date of Sanction: 2021-03-16 00:00:00\n",
      "Parsed Sanctioned Entity: Banca Popolare di Cortona Scpa\n",
      "Original Amount String: € 30.000\n",
      "Aggregated Amount: 30000\n",
      "Parsed Reason of Sanction: Contrasto del riciclaggio e del finanziamento del terrorismo.\n",
      "Processed Result: ('Banca Popolare di Cortona Scpa', 30000, 'Contrasto del riciclaggio e del finanziamento del terrorismo.', datetime.datetime(2021, 3, 16, 0, 0))\n",
      "Response Data: {'id': 'chatcmpl-9ahnn5mujmkccpmkke8wre', 'object': 'chat.completion', 'created': 1714056867, 'model': 'bartowski/stable-code-instruct-3b-GGUF/stable-code-instruct-3b-Q8_0.gguf', 'choices': [{'index': 0, 'message': {'role': 'assistant', 'content': 'Extracted Information:\\n\\n1. Date of Sanction: 16.3.2021\\n2. Sanctioned Entity: Banca Popolare di Cortona Scpa\\n3. Amount: € 30.000\\n4. Reason of Sanction (less than 20 words): Provvedimenti sanzionatori\\n\\nNote: The provided information is extracted from the given text and may not be accurate or complete.'}, 'finish_reason': 'stop'}], 'usage': {'prompt_tokens': 90, 'completion_tokens': 90, 'total_tokens': 180}}\n",
      "Completion Text: Extracted Information:\n",
      "\n",
      "1. Date of Sanction: 16.3.2021\n",
      "2. Sanctioned Entity: Banca Popolare di Cortona Scpa\n",
      "3. Amount: € 30.000\n",
      "4. Reason of Sanction (less than 20 words): Provvedimenti sanzionatori\n",
      "\n",
      "Note: The provided information is extracted from the given text and may not be accurate or complete.\n",
      "Parsed Date of Sanction: 2021-03-16 00:00:00\n",
      "Parsed Sanctioned Entity: Banca Popolare di Cortona Scpa\n",
      "Original Amount String: € 30.000\n",
      "Aggregated Amount: 30000\n",
      "Parsed Reason of Sanction: Provvedimenti sanzionatori\n",
      "Processed Result: ('Banca Popolare di Cortona Scpa', 30000, 'Provvedimenti sanzionatori', datetime.datetime(2021, 3, 16, 0, 0))\n",
      "Response Data: {'id': 'chatcmpl-ul9s4b47o3jc4leya1yris', 'object': 'chat.completion', 'created': 1714056870, 'model': 'bartowski/stable-code-instruct-3b-GGUF/stable-code-instruct-3b-Q8_0.gguf', 'choices': [{'index': 0, 'message': {'role': 'assistant', 'content': 'Extracted Information:\\n\\n- Date of Sanction: 27.10.2020\\n- Sanctioned Entity: Banca del Piemonte Spa\\n- Amount: € 30.000\\n- Reason of Sanction (less than 20 words): Mancata ottemperanza agli obblighi in materia di adeguata verifica della clientela e di segnalazione di operazioni sospette.'}, 'finish_reason': 'stop'}], 'usage': {'prompt_tokens': 92, 'completion_tokens': 92, 'total_tokens': 184}}\n",
      "Completion Text: Extracted Information:\n",
      "\n",
      "- Date of Sanction: 27.10.2020\n",
      "- Sanctioned Entity: Banca del Piemonte Spa\n",
      "- Amount: € 30.000\n",
      "- Reason of Sanction (less than 20 words): Mancata ottemperanza agli obblighi in materia di adeguata verifica della clientela e di segnalazione di operazioni sospette.\n",
      "Parsed Date of Sanction: 2020-10-27 00:00:00\n",
      "Parsed Sanctioned Entity: Banca del Piemonte Spa\n",
      "Original Amount String: € 30.000\n",
      "Aggregated Amount: 30000\n",
      "Parsed Reason of Sanction: Mancata ottemperanza agli obblighi in materia di adeguata verifica della clientela e di segnalazione di operazioni sospette.\n",
      "Processed Result: ('Banca del Piemonte Spa', 30000, 'Mancata ottemperanza agli obblighi in materia di adeguata verifica della clientela e di segnalazione di operazioni sospette.', datetime.datetime(2020, 10, 27, 0, 0))\n",
      "Response Data: {'id': 'chatcmpl-s9ek839lgscvupb9k98ik', 'object': 'chat.completion', 'created': 1714056872, 'model': 'bartowski/stable-code-instruct-3b-GGUF/stable-code-instruct-3b-Q8_0.gguf', 'choices': [{'index': 0, 'message': {'role': 'assistant', 'content': \"Date of Sanction: 10.11.2020\\nSanctioned Entity: SGR Spa\\nAmount: € 30.000\\nReason of Sanction (less than 20 words): Extreme measures for the prevention of illicit use of financial systems and credit-based activities, as well as the financing of terrorism, by the Direttorio of the Banca d'Italia.\\nNote: The above information is provided for informational purposes only and should not be used to make any decisions\"}, 'finish_reason': 'stop'}], 'usage': {'prompt_tokens': 99, 'completion_tokens': 99, 'total_tokens': 198}}\n",
      "Completion Text: Date of Sanction: 10.11.2020\n",
      "Sanctioned Entity: SGR Spa\n",
      "Amount: € 30.000\n",
      "Reason of Sanction (less than 20 words): Extreme measures for the prevention of illicit use of financial systems and credit-based activities, as well as the financing of terrorism, by the Direttorio of the Banca d'Italia.\n",
      "Note: The above information is provided for informational purposes only and should not be used to make any decisions\n",
      "Parsed Date of Sanction: 2020-11-10 00:00:00\n",
      "Parsed Sanctioned Entity: SGR Spa\n",
      "Original Amount String: € 30.000\n",
      "Aggregated Amount: 30000\n",
      "Parsed Reason of Sanction: Extreme measures for the prevention of illicit use of financial systems and credit-based activities, as well as the financing of terrorism, by the Direttorio of the Banca d'Italia.\n",
      "Processed Result: ('SGR Spa', 30000, \"Extreme measures for the prevention of illicit use of financial systems and credit-based activities, as well as the financing of terrorism, by the Direttorio of the Banca d'Italia.\", datetime.datetime(2020, 11, 10, 0, 0))\n",
      "Response Data: {'id': 'chatcmpl-y0x02exobhl61jrfxf0mjm', 'object': 'chat.completion', 'created': 1714056875, 'model': 'bartowski/stable-code-instruct-3b-GGUF/stable-code-instruct-3b-Q8_0.gguf', 'choices': [{'index': 0, 'message': {'role': 'assistant', 'content': 'Extracting the required information from the provided text, here are the details related to the sanction against Ipagoo LLP:\\n\\n- Date of Sanction: 17.11.2020\\n- Sanctioned Entity: Ipagoo LLP\\n- Amount: € 30.000\\n- Reason of Sanction (less than 20 words): \"Disposizioni in materia di sanzioni e procedura sanzionatoria amministrativa pecuniaria ex'}, 'finish_reason': 'stop'}], 'usage': {'prompt_tokens': 99, 'completion_tokens': 99, 'total_tokens': 198}}\n",
      "Completion Text: Extracting the required information from the provided text, here are the details related to the sanction against Ipagoo LLP:\n",
      "\n",
      "- Date of Sanction: 17.11.2020\n",
      "- Sanctioned Entity: Ipagoo LLP\n",
      "- Amount: € 30.000\n",
      "- Reason of Sanction (less than 20 words): \"Disposizioni in materia di sanzioni e procedura sanzionatoria amministrativa pecuniaria ex\n",
      "Parsed Date of Sanction: 2020-11-17 00:00:00\n",
      "Parsed Sanctioned Entity: Ipagoo LLP\n",
      "Original Amount String: € 30.000\n",
      "Aggregated Amount: 30000\n",
      "Parsed Reason of Sanction: \"Disposizioni in materia di sanzioni e procedura sanzionatoria amministrativa pecuniaria ex\n",
      "Processed Result: ('Ipagoo LLP', 30000, '\"Disposizioni in materia di sanzioni e procedura sanzionatoria amministrativa pecuniaria ex', datetime.datetime(2020, 11, 17, 0, 0))\n",
      "Response Data: {'id': 'chatcmpl-6ilzxgekjo792n9bk5m7yl', 'object': 'chat.completion', 'created': 1714056878, 'model': 'bartowski/stable-code-instruct-3b-GGUF/stable-code-instruct-3b-Q8_0.gguf', 'choices': [{'index': 0, 'message': {'role': 'assistant', 'content': 'Date of Sanction: 24.11.2020\\nSanctioned Entity: Invest Banca Spa, ora in a.s.\\nAmount: € 30.000\\nReason of Sanction (less than 20 words): irregularities related to administrative sanctions\\nAll the required information has been extracted and returned.'}, 'finish_reason': 'stop'}], 'usage': {'prompt_tokens': 63, 'completion_tokens': 63, 'total_tokens': 126}}\n",
      "Completion Text: Date of Sanction: 24.11.2020\n",
      "Sanctioned Entity: Invest Banca Spa, ora in a.s.\n",
      "Amount: € 30.000\n",
      "Reason of Sanction (less than 20 words): irregularities related to administrative sanctions\n",
      "All the required information has been extracted and returned.\n",
      "Parsed Date of Sanction: 2020-11-24 00:00:00\n",
      "Parsed Sanctioned Entity: Invest Banca Spa, ora in a.s.\n",
      "Original Amount String: € 30.000\n",
      "Aggregated Amount: 30000\n",
      "Parsed Reason of Sanction: irregularities related to administrative sanctions\n",
      "Processed Result: ('Invest Banca Spa, ora in a.s.', 30000, 'irregularities related to administrative sanctions', datetime.datetime(2020, 11, 24, 0, 0))\n",
      "Response Data: {'id': 'chatcmpl-j065usdr9aj170jmzz88i7', 'object': 'chat.completion', 'created': 1714056880, 'model': 'bartowski/stable-code-instruct-3b-GGUF/stable-code-instruct-3b-Q8_0.gguf', 'choices': [{'index': 0, 'message': {'role': 'assistant', 'content': 'Based on the information provided, here are the details extracted from the procedure:\\n\\n- Date of Sanction: 15.12.2020\\n- Sanctioned Entity: Giotto SIM Spa (Giotto Cellino Sim Spa)\\n- Amount: € 30.000\\n- Reason of Sanction (less than 20 words): Extreme measures for the misuse of the banking system towards criminal activities and financing of terrorism\\n\\nPlease note that these details are based on the provided'}, 'finish_reason': 'stop'}], 'usage': {'prompt_tokens': 99, 'completion_tokens': 99, 'total_tokens': 198}}\n",
      "Completion Text: Based on the information provided, here are the details extracted from the procedure:\n",
      "\n",
      "- Date of Sanction: 15.12.2020\n",
      "- Sanctioned Entity: Giotto SIM Spa (Giotto Cellino Sim Spa)\n",
      "- Amount: € 30.000\n",
      "- Reason of Sanction (less than 20 words): Extreme measures for the misuse of the banking system towards criminal activities and financing of terrorism\n",
      "\n",
      "Please note that these details are based on the provided\n",
      "Parsed Date of Sanction: 2020-12-15 00:00:00\n",
      "Parsed Sanctioned Entity: Giotto SIM Spa (Giotto Cellino Sim Spa)\n",
      "Original Amount String: € 30.000\n",
      "Aggregated Amount: 30000\n",
      "Parsed Reason of Sanction: Extreme measures for the misuse of the banking system towards criminal activities and financing of terrorism\n",
      "Processed Result: ('Giotto SIM Spa (Giotto Cellino Sim Spa)', 30000, 'Extreme measures for the misuse of the banking system towards criminal activities and financing of terrorism', datetime.datetime(2020, 12, 15, 0, 0))\n",
      "Response Data: {'id': 'chatcmpl-l8h2vffu82hnjrkg3fjef', 'object': 'chat.completion', 'created': 1714056883, 'model': 'bartowski/stable-code-instruct-3b-GGUF/stable-code-instruct-3b-Q8_0.gguf', 'choices': [{'index': 0, 'message': {'role': 'assistant', 'content': 'Based on the information provided, here are the details related to the sanctioned entity \"Cordusio SIM Spa\":\\n\\n- Date of Sanction: 22 December 2020\\n- Sanctioned Entity: Cordusio SIM Spa\\n- Amount: € 30.000\\n- Reason of Sanction (less than 20 words): Extreme measures for the irregularity of the sanction in administrative pecuniary amounts, as indicated in the deliberation (omissis).\\n'}, 'finish_reason': 'stop'}], 'usage': {'prompt_tokens': 99, 'completion_tokens': 99, 'total_tokens': 198}}\n",
      "Completion Text: Based on the information provided, here are the details related to the sanctioned entity \"Cordusio SIM Spa\":\n",
      "\n",
      "- Date of Sanction: 22 December 2020\n",
      "- Sanctioned Entity: Cordusio SIM Spa\n",
      "- Amount: € 30.000\n",
      "- Reason of Sanction (less than 20 words): Extreme measures for the irregularity of the sanction in administrative pecuniary amounts, as indicated in the deliberation (omissis).\n",
      "\n",
      "Date parsing error: time data '22 December 2020' does not match format '%d.%m.%Y'\n",
      "Parsed Sanctioned Entity: Cordusio SIM Spa\n",
      "Original Amount String: € 30.000\n",
      "Aggregated Amount: 30000\n",
      "Parsed Reason of Sanction: Extreme measures for the irregularity of the sanction in administrative pecuniary amounts, as indicated in the deliberation (omissis).\n",
      "Processed Result: ('Cordusio SIM Spa', 30000, 'Extreme measures for the irregularity of the sanction in administrative pecuniary amounts, as indicated in the deliberation (omissis).', None)\n",
      "Response Data: {'id': 'chatcmpl-hp1quovll2aqnhwszrdxji', 'object': 'chat.completion', 'created': 1714056886, 'model': 'bartowski/stable-code-instruct-3b-GGUF/stable-code-instruct-3b-Q8_0.gguf', 'choices': [{'index': 0, 'message': {'role': 'assistant', 'content': 'Extracted Information:\\n\\n1. Date of Sanction: 19.01.2021\\n2. Sanctioned Entity: Société Générale Securitie s Services Spa\\n3. Amount: € 55.000\\n4. Reason of Sanction (less than 20 words): Iscrizione aerea fallita\\n\\nNote: The information provided is based on the given text and may not be accurate or complete.'}, 'finish_reason': 'stop'}], 'usage': {'prompt_tokens': 93, 'completion_tokens': 93, 'total_tokens': 186}}\n",
      "Completion Text: Extracted Information:\n",
      "\n",
      "1. Date of Sanction: 19.01.2021\n",
      "2. Sanctioned Entity: Société Générale Securitie s Services Spa\n",
      "3. Amount: € 55.000\n",
      "4. Reason of Sanction (less than 20 words): Iscrizione aerea fallita\n",
      "\n",
      "Note: The information provided is based on the given text and may not be accurate or complete.\n",
      "Parsed Date of Sanction: 2021-01-19 00:00:00\n",
      "Parsed Sanctioned Entity: Société Générale Securitie s Services Spa\n",
      "Original Amount String: € 55.000\n",
      "Aggregated Amount: 55000\n",
      "Parsed Reason of Sanction: Iscrizione aerea fallita\n",
      "Processed Result: ('Société Générale Securitie s Services Spa', 55000, 'Iscrizione aerea fallita', datetime.datetime(2021, 1, 19, 0, 0))\n",
      "Response Data: {'id': 'chatcmpl-03dywihzh826gd6rabaf3q', 'object': 'chat.completion', 'created': 1714056889, 'model': 'bartowski/stable-code-instruct-3b-GGUF/stable-code-instruct-3b-Q8_0.gguf', 'choices': [{'index': 0, 'message': {'role': 'assistant', 'content': 'Date of Sanction: 21.07.2020\\nSanctioned Entity: Istituto Finanziario Europeo Spa\\nAmount: € 37.000\\nReason of Sanction (less than 20 words): Violation of anti-money laundering rules\\nAll the required information has been extracted and returned.'}, 'finish_reason': 'stop'}], 'usage': {'prompt_tokens': 63, 'completion_tokens': 63, 'total_tokens': 126}}\n",
      "Completion Text: Date of Sanction: 21.07.2020\n",
      "Sanctioned Entity: Istituto Finanziario Europeo Spa\n",
      "Amount: € 37.000\n",
      "Reason of Sanction (less than 20 words): Violation of anti-money laundering rules\n",
      "All the required information has been extracted and returned.\n",
      "Parsed Date of Sanction: 2020-07-21 00:00:00\n",
      "Parsed Sanctioned Entity: Istituto Finanziario Europeo Spa\n",
      "Original Amount String: € 37.000\n",
      "Aggregated Amount: 37000\n",
      "Parsed Reason of Sanction: Violation of anti-money laundering rules\n",
      "Processed Result: ('Istituto Finanziario Europeo Spa', 37000, 'Violation of anti-money laundering rules', datetime.datetime(2020, 7, 21, 0, 0))\n",
      "Response Data: {'id': 'chatcmpl-mzp9cbxknbzcmfpzbdm9e', 'object': 'chat.completion', 'created': 1714056891, 'model': 'bartowski/stable-code-instruct-3b-GGUF/stable-code-instruct-3b-Q8_0.gguf', 'choices': [{'index': 0, 'message': {'role': 'assistant', 'content': 'Extracted Information:\\n\\n1. Date of Sanction: 21.07.2020\\n2. Sanctioned Entity: Direttore generale Claudia Nicolò\\n3. Amount: € 17.000\\n4. Reason of Sanction (less than 20 words): VISCO\\n\\nNote: The provided information is based on the given text and may not be accurate or complete.'}, 'finish_reason': 'stop'}], 'usage': {'prompt_tokens': 83, 'completion_tokens': 83, 'total_tokens': 166}}\n",
      "Completion Text: Extracted Information:\n",
      "\n",
      "1. Date of Sanction: 21.07.2020\n",
      "2. Sanctioned Entity: Direttore generale Claudia Nicolò\n",
      "3. Amount: € 17.000\n",
      "4. Reason of Sanction (less than 20 words): VISCO\n",
      "\n",
      "Note: The provided information is based on the given text and may not be accurate or complete.\n",
      "Parsed Date of Sanction: 2020-07-21 00:00:00\n",
      "Parsed Sanctioned Entity: Direttore generale Claudia Nicolò\n",
      "Original Amount String: € 17.000\n",
      "Aggregated Amount: 17000\n",
      "Parsed Reason of Sanction: VISCO\n",
      "Processed Result: ('Direttore generale Claudia Nicolò', 17000, 'VISCO', datetime.datetime(2020, 7, 21, 0, 0))\n",
      "Response Data: {'id': 'chatcmpl-n3m3zomnkjeh7zga0ylbjh', 'object': 'chat.completion', 'created': 1714056894, 'model': 'bartowski/stable-code-instruct-3b-GGUF/stable-code-instruct-3b-Q8_0.gguf', 'choices': [{'index': 0, 'message': {'role': 'assistant', 'content': 'Extracted Information:\\n\\n1. Date of Sanction: 06.10.2020\\n2. Sanctioned Entity: Namira SGR Spa\\n3. Amount: € 60.000\\n4. Reason of Sanction (less than 20 words): Irrigarità sub 2) € 30.000\\n\\nNote: The information provided is based on the given text and may not be accurate or complete.'}, 'finish_reason': 'stop'}], 'usage': {'prompt_tokens': 87, 'completion_tokens': 87, 'total_tokens': 174}}\n",
      "Completion Text: Extracted Information:\n",
      "\n",
      "1. Date of Sanction: 06.10.2020\n",
      "2. Sanctioned Entity: Namira SGR Spa\n",
      "3. Amount: € 60.000\n",
      "4. Reason of Sanction (less than 20 words): Irrigarità sub 2) € 30.000\n",
      "\n",
      "Note: The information provided is based on the given text and may not be accurate or complete.\n",
      "Parsed Date of Sanction: 2020-10-06 00:00:00\n",
      "Parsed Sanctioned Entity: Namira SGR Spa\n",
      "Original Amount String: € 60.000\n",
      "Aggregated Amount: 60000\n",
      "Parsed Reason of Sanction: Irrigarità sub 2) € 30.000\n",
      "Processed Result: ('Namira SGR Spa', 60000, 'Irrigarità sub 2) € 30.000', datetime.datetime(2020, 10, 6, 0, 0))\n",
      "Response Data: {'id': 'chatcmpl-uw8hzouirzamdp4au0ien', 'object': 'chat.completion', 'created': 1714056897, 'model': 'bartowski/stable-code-instruct-3b-GGUF/stable-code-instruct-3b-Q8_0.gguf', 'choices': [{'index': 0, 'message': {'role': 'assistant', 'content': 'Based on the information provided, here are the details related to the sanctions proposed against Namira SGR Spa:\\n\\n- Date of Sanction: 06.10.2020\\n- Sanctioned Entity: Namira SGR Spa\\n- Amount: € 30.000\\n- Reason of Sanction (less than 20 words): Extreme measures for the prevention of illicit use of the financial system, in order to facilitate riciclaggio of funds derived from criminal activity and terrorism'}, 'finish_reason': 'stop'}], 'usage': {'prompt_tokens': 99, 'completion_tokens': 99, 'total_tokens': 198}}\n",
      "Completion Text: Based on the information provided, here are the details related to the sanctions proposed against Namira SGR Spa:\n",
      "\n",
      "- Date of Sanction: 06.10.2020\n",
      "- Sanctioned Entity: Namira SGR Spa\n",
      "- Amount: € 30.000\n",
      "- Reason of Sanction (less than 20 words): Extreme measures for the prevention of illicit use of the financial system, in order to facilitate riciclaggio of funds derived from criminal activity and terrorism\n",
      "Parsed Date of Sanction: 2020-10-06 00:00:00\n",
      "Parsed Sanctioned Entity: Namira SGR Spa\n",
      "Original Amount String: € 30.000\n",
      "Aggregated Amount: 30000\n",
      "Parsed Reason of Sanction: Extreme measures for the prevention of illicit use of the financial system, in order to facilitate riciclaggio of funds derived from criminal activity and terrorism\n",
      "Processed Result: ('Namira SGR Spa', 30000, 'Extreme measures for the prevention of illicit use of the financial system, in order to facilitate riciclaggio of funds derived from criminal activity and terrorism', datetime.datetime(2020, 10, 6, 0, 0))\n",
      "Response Data: {'id': 'chatcmpl-9ocxz1jm9ebgxxc1ev0a5t', 'object': 'chat.completion', 'created': 1714056899, 'model': 'bartowski/stable-code-instruct-3b-GGUF/stable-code-instruct-3b-Q8_0.gguf', 'choices': [{'index': 0, 'message': {'role': 'assistant', 'content': \"Date of Sanction: 13.10.2020\\nSanctioned Entity: Banca d'Italia S.p.A.\\nAmount: € 30.000\\nReason of Sanction (less than 20 words): Proposta di sanzione amministrativa pecuniaria ex art. 144 TUB.\\nExtraction complete. Returning extracted information:\\n- Date of Sanction: 13.10.2020\\n- Sanctioned Entity: Banca d\"}, 'finish_reason': 'stop'}], 'usage': {'prompt_tokens': 99, 'completion_tokens': 99, 'total_tokens': 198}}\n",
      "Completion Text: Date of Sanction: 13.10.2020\n",
      "Sanctioned Entity: Banca d'Italia S.p.A.\n",
      "Amount: € 30.000\n",
      "Reason of Sanction (less than 20 words): Proposta di sanzione amministrativa pecuniaria ex art. 144 TUB.\n",
      "Extraction complete. Returning extracted information:\n",
      "- Date of Sanction: 13.10.2020\n",
      "- Sanctioned Entity: Banca d\n",
      "Parsed Date of Sanction: 2020-10-13 00:00:00\n",
      "Parsed Sanctioned Entity: Banca d'Italia S.p.A.\n",
      "Original Amount String: € 30.000\n",
      "Aggregated Amount: 30000\n",
      "Parsed Reason of Sanction: Proposta di sanzione amministrativa pecuniaria ex art. 144 TUB.\n",
      "Parsed Date of Sanction: 2020-10-13 00:00:00\n",
      "Parsed Sanctioned Entity: Banca d\n",
      "Processed Result: ('Banca d', 30000, 'Proposta di sanzione amministrativa pecuniaria ex art. 144 TUB.', datetime.datetime(2020, 10, 13, 0, 0))\n",
      "Response Data: {'id': 'chatcmpl-q4frkhk9swai873fjxgg1', 'object': 'chat.completion', 'created': 1714056902, 'model': 'bartowski/stable-code-instruct-3b-GGUF/stable-code-instruct-3b-Q8_0.gguf', 'choices': [{'index': 0, 'message': {'role': 'assistant', 'content': 'Extracted Information:\\n\\n1. Date of Sanction: 20.10.2020\\n2. Sanctioned Entity: Races Finanziaria Spa\\n3. Amount: € 30.000\\n4. Reason of Sanction (less than 20 words): Provvedimenti sanzionatori\\n\\nNote: The provided information is extracted from the given text and may not be accurate or complete.'}, 'finish_reason': 'stop'}], 'usage': {'prompt_tokens': 86, 'completion_tokens': 86, 'total_tokens': 172}}\n",
      "Completion Text: Extracted Information:\n",
      "\n",
      "1. Date of Sanction: 20.10.2020\n",
      "2. Sanctioned Entity: Races Finanziaria Spa\n",
      "3. Amount: € 30.000\n",
      "4. Reason of Sanction (less than 20 words): Provvedimenti sanzionatori\n",
      "\n",
      "Note: The provided information is extracted from the given text and may not be accurate or complete.\n",
      "Parsed Date of Sanction: 2020-10-20 00:00:00\n",
      "Parsed Sanctioned Entity: Races Finanziaria Spa\n",
      "Original Amount String: € 30.000\n",
      "Aggregated Amount: 30000\n",
      "Parsed Reason of Sanction: Provvedimenti sanzionatori\n",
      "Processed Result: ('Races Finanziaria Spa', 30000, 'Provvedimenti sanzionatori', datetime.datetime(2020, 10, 20, 0, 0))\n",
      "Response Data: {'id': 'chatcmpl-kputz19373bh2lnh24kf', 'object': 'chat.completion', 'created': 1714056904, 'model': 'bartowski/stable-code-instruct-3b-GGUF/stable-code-instruct-3b-Q8_0.gguf', 'choices': [{'index': 0, 'message': {'role': 'assistant', 'content': 'Extracted Information:\\n\\n1. Date of Sanction: 27.10.2020\\n2. Sanctioned Entity: Banca Popolare di Puglia e Basilicata Scpa\\n3. Amount: € 30.000\\n4. Reason of Sanction (less than 20 words): Provvedimenti sanzionatori\\n\\nNote: The information provided is based on the given text and may not be accurate or complete.'}, 'finish_reason': 'stop'}], 'usage': {'prompt_tokens': 94, 'completion_tokens': 94, 'total_tokens': 188}}\n",
      "Completion Text: Extracted Information:\n",
      "\n",
      "1. Date of Sanction: 27.10.2020\n",
      "2. Sanctioned Entity: Banca Popolare di Puglia e Basilicata Scpa\n",
      "3. Amount: € 30.000\n",
      "4. Reason of Sanction (less than 20 words): Provvedimenti sanzionatori\n",
      "\n",
      "Note: The information provided is based on the given text and may not be accurate or complete.\n",
      "Parsed Date of Sanction: 2020-10-27 00:00:00\n",
      "Parsed Sanctioned Entity: Banca Popolare di Puglia e Basilicata Scpa\n",
      "Original Amount String: € 30.000\n",
      "Aggregated Amount: 30000\n",
      "Parsed Reason of Sanction: Provvedimenti sanzionatori\n",
      "Processed Result: ('Banca Popolare di Puglia e Basilicata Scpa', 30000, 'Provvedimenti sanzionatori', datetime.datetime(2020, 10, 27, 0, 0))\n",
      "Response Data: {'id': 'chatcmpl-if6y24xu645n7dfc8xz2y', 'object': 'chat.completion', 'created': 1714056907, 'model': 'bartowski/stable-code-instruct-3b-GGUF/stable-code-instruct-3b-Q8_0.gguf', 'choices': [{'index': 0, 'message': {'role': 'assistant', 'content': 'Extracting the required information from the provided documents, here are the details related to the sanctions against the entity \"Vigilanza\":\\n\\n- Date of Sanction: 29 September 2020\\n- Sanctioned Entity: Vigilanza\\n- Amount: € 41,000\\n- Reason of Sanction (less than 20 words): Unauthorized action in relation to financial transactions.\\n\\nPlease note that the information provided is based on the documents and their contents as they are'}, 'finish_reason': 'stop'}], 'usage': {'prompt_tokens': 99, 'completion_tokens': 99, 'total_tokens': 198}}\n",
      "Completion Text: Extracting the required information from the provided documents, here are the details related to the sanctions against the entity \"Vigilanza\":\n",
      "\n",
      "- Date of Sanction: 29 September 2020\n",
      "- Sanctioned Entity: Vigilanza\n",
      "- Amount: € 41,000\n",
      "- Reason of Sanction (less than 20 words): Unauthorized action in relation to financial transactions.\n",
      "\n",
      "Please note that the information provided is based on the documents and their contents as they are\n",
      "Date parsing error: time data '29 September 2020' does not match format '%d.%m.%Y'\n",
      "Parsed Sanctioned Entity: Vigilanza\n",
      "Original Amount String: € 41,000\n",
      "Aggregated Amount: 41000\n",
      "Parsed Reason of Sanction: Unauthorized action in relation to financial transactions.\n",
      "Processed Result: ('Vigilanza', 41000, 'Unauthorized action in relation to financial transactions.', None)\n",
      "Response Data: {'id': 'chatcmpl-3x4j84rky39eukqvj7tpd', 'object': 'chat.completion', 'created': 1714056910, 'model': 'bartowski/stable-code-instruct-3b-GGUF/stable-code-instruct-3b-Q8_0.gguf', 'choices': [{'index': 0, 'message': {'role': 'assistant', 'content': 'Extracted Information:\\n\\n- Date of Sanction: 29.09.2020\\n- Sanctioned Entity: BNP Paribas Real Estate Investment Management Italy SGR\\n- Amount: € 73.000\\n- Reason of Sanction (less than 20 words): \"Ineffiziente e unreglementare la gestione del rischio, come evidenziata dalle analisi eseguite dal Direttorio della Banca d\\'It'}, 'finish_reason': 'stop'}], 'usage': {'prompt_tokens': 99, 'completion_tokens': 99, 'total_tokens': 198}}\n",
      "Completion Text: Extracted Information:\n",
      "\n",
      "- Date of Sanction: 29.09.2020\n",
      "- Sanctioned Entity: BNP Paribas Real Estate Investment Management Italy SGR\n",
      "- Amount: € 73.000\n",
      "- Reason of Sanction (less than 20 words): \"Ineffiziente e unreglementare la gestione del rischio, come evidenziata dalle analisi eseguite dal Direttorio della Banca d'It\n",
      "Parsed Date of Sanction: 2020-09-29 00:00:00\n",
      "Parsed Sanctioned Entity: BNP Paribas Real Estate Investment Management Italy SGR\n",
      "Original Amount String: € 73.000\n",
      "Aggregated Amount: 73000\n",
      "Parsed Reason of Sanction: \"Ineffiziente e unreglementare la gestione del rischio, come evidenziata dalle analisi eseguite dal Direttorio della Banca d'It\n",
      "Processed Result: ('BNP Paribas Real Estate Investment Management Italy SGR', 73000, '\"Ineffiziente e unreglementare la gestione del rischio, come evidenziata dalle analisi eseguite dal Direttorio della Banca d\\'It', datetime.datetime(2020, 9, 29, 0, 0))\n",
      "Response Data: {'id': 'chatcmpl-6difrbejjg6gkzvvvqacc', 'object': 'chat.completion', 'created': 1714056912, 'model': 'bartowski/stable-code-instruct-3b-GGUF/stable-code-instruct-3b-Q8_0.gguf', 'choices': [{'index': 0, 'message': {'role': 'assistant', 'content': 'Extracted Information:\\n\\n1. Date of Sanction: 22.9.2020\\n2. Sanctioned Entity: Banca Popolare dell’Alto Adige Spa\\n3. Amount: € 145.000\\n4. Reason of Sanction (less than 20 words): Provvedimenti sanzionatori\\n\\nNote: The information provided is based on the given text and may not be accurate or complete.'}, 'finish_reason': 'stop'}], 'usage': {'prompt_tokens': 91, 'completion_tokens': 91, 'total_tokens': 182}}\n",
      "Completion Text: Extracted Information:\n",
      "\n",
      "1. Date of Sanction: 22.9.2020\n",
      "2. Sanctioned Entity: Banca Popolare dell’Alto Adige Spa\n",
      "3. Amount: € 145.000\n",
      "4. Reason of Sanction (less than 20 words): Provvedimenti sanzionatori\n",
      "\n",
      "Note: The information provided is based on the given text and may not be accurate or complete.\n",
      "Parsed Date of Sanction: 2020-09-22 00:00:00\n",
      "Parsed Sanctioned Entity: Banca Popolare dell’Alto Adige Spa\n",
      "Original Amount String: € 145.000\n",
      "Aggregated Amount: 145000\n",
      "Parsed Reason of Sanction: Provvedimenti sanzionatori\n",
      "Processed Result: ('Banca Popolare dell’Alto Adige Spa', 145000, 'Provvedimenti sanzionatori', datetime.datetime(2020, 9, 22, 0, 0))\n",
      "Response Data: {'id': 'chatcmpl-jnutux6d1tit2q0gn94ar', 'object': 'chat.completion', 'created': 1714056915, 'model': 'bartowski/stable-code-instruct-3b-GGUF/stable-code-instruct-3b-Q8_0.gguf', 'choices': [{'index': 0, 'message': {'role': 'assistant', 'content': 'Extracted Information:\\n\\n1. Date of Sanction: 15.9.2020\\n2. Sanctioned Entity: Banca Popolare del Cassinate Scpa\\n3. Amount: € 30.000\\n4. Reason of Sanction (less than 20 words): Provvedimenti sanzionatori\\n\\nNote: The provided information is extracted from the given text and may not be accurate or complete.'}, 'finish_reason': 'stop'}], 'usage': {'prompt_tokens': 89, 'completion_tokens': 89, 'total_tokens': 178}}\n",
      "Completion Text: Extracted Information:\n",
      "\n",
      "1. Date of Sanction: 15.9.2020\n",
      "2. Sanctioned Entity: Banca Popolare del Cassinate Scpa\n",
      "3. Amount: € 30.000\n",
      "4. Reason of Sanction (less than 20 words): Provvedimenti sanzionatori\n",
      "\n",
      "Note: The provided information is extracted from the given text and may not be accurate or complete.\n",
      "Parsed Date of Sanction: 2020-09-15 00:00:00\n",
      "Parsed Sanctioned Entity: Banca Popolare del Cassinate Scpa\n",
      "Original Amount String: € 30.000\n",
      "Aggregated Amount: 30000\n",
      "Parsed Reason of Sanction: Provvedimenti sanzionatori\n",
      "Processed Result: ('Banca Popolare del Cassinate Scpa', 30000, 'Provvedimenti sanzionatori', datetime.datetime(2020, 9, 15, 0, 0))\n",
      "Response Data: {'id': 'chatcmpl-pym4r1cvkps991vob7gopw', 'object': 'chat.completion', 'created': 1714056918, 'model': 'bartowski/stable-code-instruct-3b-GGUF/stable-code-instruct-3b-Q8_0.gguf', 'choices': [{'index': 0, 'message': {'role': 'assistant', 'content': 'Extracted Information:\\n\\nDate of Sanction: 8.9.2020\\nSanctioned Entity: Attijariwafa Bank Europe, Succursale italiana\\nAmount: € 30.000\\nReason of the is is is is is\\n\\n'}, 'finish_reason': 'stop'}], 'usage': {'prompt_tokens': 54, 'completion_tokens': 54, 'total_tokens': 108}}\n",
      "Completion Text: Extracted Information:\n",
      "\n",
      "Date of Sanction: 8.9.2020\n",
      "Sanctioned Entity: Attijariwafa Bank Europe, Succursale italiana\n",
      "Amount: € 30.000\n",
      "Reason of the is is is is is\n",
      "\n",
      "\n",
      "Parsed Date of Sanction: 2020-09-08 00:00:00\n",
      "Parsed Sanctioned Entity: Attijariwafa Bank Europe, Succursale italiana\n",
      "Original Amount String: € 30.000\n",
      "Aggregated Amount: 30000\n",
      "Processed Result: ('Attijariwafa Bank Europe, Succursale italiana', 30000, '', datetime.datetime(2020, 9, 8, 0, 0))\n",
      "Response Data: {'id': 'chatcmpl-lolzio0x851g82i1potdp', 'object': 'chat.completion', 'created': 1714056921, 'model': 'bartowski/stable-code-instruct-3b-GGUF/stable-code-instruct-3b-Q8_0.gguf', 'choices': [{'index': 0, 'message': {'role': 'assistant', 'content': 'Extracted Information:\\n\\n1. Date of Sanction: 8.9.2020\\n2. Sanctioned Entity: Attijariwafa Bank Europe, Succursale italiana\\n3. Amount: € 35.000\\n4. Reason of Sanction (less than 20 words): \"Disposizioni in materia di trasparenza \\ndelle operazioni dei servizi bancari e finanziari. Correttezza delle relazioni'}, 'finish_reason': 'stop'}], 'usage': {'prompt_tokens': 99, 'completion_tokens': 99, 'total_tokens': 198}}\n",
      "Completion Text: Extracted Information:\n",
      "\n",
      "1. Date of Sanction: 8.9.2020\n",
      "2. Sanctioned Entity: Attijariwafa Bank Europe, Succursale italiana\n",
      "3. Amount: € 35.000\n",
      "4. Reason of Sanction (less than 20 words): \"Disposizioni in materia di trasparenza \n",
      "delle operazioni dei servizi bancari e finanziari. Correttezza delle relazioni\n",
      "Parsed Date of Sanction: 2020-09-08 00:00:00\n",
      "Parsed Sanctioned Entity: Attijariwafa Bank Europe, Succursale italiana\n",
      "Original Amount String: € 35.000\n",
      "Aggregated Amount: 35000\n",
      "Parsed Reason of Sanction: \"Disposizioni in materia di trasparenza\n",
      "Processed Result: ('Attijariwafa Bank Europe, Succursale italiana', 35000, '\"Disposizioni in materia di trasparenza', datetime.datetime(2020, 9, 8, 0, 0))\n",
      "Response Data: {'id': 'chatcmpl-j8gyf98sj7aa3v4milftzi', 'object': 'chat.completion', 'created': 1714056924, 'model': 'bartowski/stable-code-instruct-3b-GGUF/stable-code-instruct-3b-Q8_0.gguf', 'choices': [{'index': 0, 'message': {'role': 'assistant', 'content': 'Extracted Information:\\n\\n1. Date of Sanction: 18th December 2012\\n2. Sanctioned Entity: Advam Partners SGR Spa, in liquidazione coatta ammi nistrativa\\n3. Amount: € 70.000\\n4. Reason of Sanction (less than 20 words): \"Disposizioni per la tutela del risparmio e la disciplina dei mercati finanziari\" (TUF)\\n\\nNote'}, 'finish_reason': 'stop'}], 'usage': {'prompt_tokens': 99, 'completion_tokens': 99, 'total_tokens': 198}}\n",
      "Completion Text: Extracted Information:\n",
      "\n",
      "1. Date of Sanction: 18th December 2012\n",
      "2. Sanctioned Entity: Advam Partners SGR Spa, in liquidazione coatta ammi nistrativa\n",
      "3. Amount: € 70.000\n",
      "4. Reason of Sanction (less than 20 words): \"Disposizioni per la tutela del risparmio e la disciplina dei mercati finanziari\" (TUF)\n",
      "\n",
      "Note\n",
      "Date parsing error: time data '18th December 2012' does not match format '%d.%m.%Y'\n",
      "Parsed Sanctioned Entity: Advam Partners SGR Spa, in liquidazione coatta ammi nistrativa\n",
      "Original Amount String: € 70.000\n",
      "Aggregated Amount: 70000\n",
      "Parsed Reason of Sanction: \"Disposizioni per la tutela del risparmio e la disciplina dei mercati finanziari\" (TUF)\n",
      "Processed Result: ('Advam Partners SGR Spa, in liquidazione coatta ammi nistrativa', 70000, '\"Disposizioni per la tutela del risparmio e la disciplina dei mercati finanziari\" (TUF)', None)\n",
      "Response Data: {'id': 'chatcmpl-44o7a6hst613sr45ashofq', 'object': 'chat.completion', 'created': 1714056926, 'model': 'bartowski/stable-code-instruct-3b-GGUF/stable-code-instruct-3b-Q8_0.gguf', 'choices': [{'index': 0, 'message': {'role': 'assistant', 'content': 'Extracting the required information from the given text, here are the details related to the sanctions against Advam Partners SGR Spa:\\n\\n- Date of Sanction: 11.2.2020\\n- Sanctioned Entity: Advam Partners SGR Spa\\n- Amount: € 30.000\\n- Reason of Sanction (less than 20 words): \"Advam Partners SGR Spa , in liquidazione coatta amministrativa, non ha presentato contra deduz'}, 'finish_reason': 'stop'}], 'usage': {'prompt_tokens': 99, 'completion_tokens': 99, 'total_tokens': 198}}\n",
      "Completion Text: Extracting the required information from the given text, here are the details related to the sanctions against Advam Partners SGR Spa:\n",
      "\n",
      "- Date of Sanction: 11.2.2020\n",
      "- Sanctioned Entity: Advam Partners SGR Spa\n",
      "- Amount: € 30.000\n",
      "- Reason of Sanction (less than 20 words): \"Advam Partners SGR Spa , in liquidazione coatta amministrativa, non ha presentato contra deduz\n",
      "Parsed Date of Sanction: 2020-02-11 00:00:00\n",
      "Parsed Sanctioned Entity: Advam Partners SGR Spa\n",
      "Original Amount String: € 30.000\n",
      "Aggregated Amount: 30000\n",
      "Parsed Reason of Sanction: \"Advam Partners SGR Spa , in liquidazione coatta amministrativa, non ha presentato contra deduz\n",
      "Processed Result: ('Advam Partners SGR Spa', 30000, '\"Advam Partners SGR Spa , in liquidazione coatta amministrativa, non ha presentato contra deduz', datetime.datetime(2020, 2, 11, 0, 0))\n",
      "Response Data: {'id': 'chatcmpl-vn7c6qtd0b7gmn65wjgxt7', 'object': 'chat.completion', 'created': 1714056929, 'model': 'bartowski/stable-code-instruct-3b-GGUF/stable-code-instruct-3b-Q8_0.gguf', 'choices': [{'index': 0, 'message': {'role': 'assistant', 'content': 'Extracted Information:\\n\\n1. Date of Sanction: 23.06.2020\\n2. Sanctioned Entity: Advance Sim Spa in Liquidazione Coata Amministrativa di Sanzioni Amministrative Pecuniarie ex Art. 190 TUF\\n3. Amount: € 4 0.000\\n4. Reason of Sanction (less than 20 words): Omissis\\n\\nNote: The provided information is based on the given text and may'}, 'finish_reason': 'stop'}], 'usage': {'prompt_tokens': 99, 'completion_tokens': 99, 'total_tokens': 198}}\n",
      "Completion Text: Extracted Information:\n",
      "\n",
      "1. Date of Sanction: 23.06.2020\n",
      "2. Sanctioned Entity: Advance Sim Spa in Liquidazione Coata Amministrativa di Sanzioni Amministrative Pecuniarie ex Art. 190 TUF\n",
      "3. Amount: € 4 0.000\n",
      "4. Reason of Sanction (less than 20 words): Omissis\n",
      "\n",
      "Note: The provided information is based on the given text and may\n",
      "Parsed Date of Sanction: 2020-06-23 00:00:00\n",
      "Parsed Sanctioned Entity: Advance Sim Spa in Liquidazione Coata Amministrativa di Sanzioni Amministrative Pecuniarie ex Art. 190 TUF\n",
      "Original Amount String: € 4 0.000\n",
      "Aggregated Amount: 40000\n",
      "Parsed Reason of Sanction: Omissis\n",
      "Processed Result: ('Advance Sim Spa in Liquidazione Coata Amministrativa di Sanzioni Amministrative Pecuniarie ex Art. 190 TUF', 40000, 'Omissis', datetime.datetime(2020, 6, 23, 0, 0))\n",
      "Response Data: {'id': 'chatcmpl-0odsygnchhh9s6izpjwhfss', 'object': 'chat.completion', 'created': 1714056931, 'model': 'bartowski/stable-code-instruct-3b-GGUF/stable-code-instruct-3b-Q8_0.gguf', 'choices': [{'index': 0, 'message': {'role': 'assistant', 'content': 'Extracted Information:\\n\\nDate of Sanction:€ill'}, 'finish_reason': 'stop'}], 'usage': {'prompt_tokens': 13, 'completion_tokens': 13, 'total_tokens': 26}}\n",
      "Completion Text: Extracted Information:\n",
      "\n",
      "Date of Sanction:€ill\n",
      "Date parsing error: time data '€ill' does not match format '%d.%m.%Y'\n",
      "Processed Result: ('', 0, '', None)\n",
      "Response Data: {'id': 'chatcmpl-w7qunz5myrmn6dfc126gbg', 'object': 'chat.completion', 'created': 1714056934, 'model': 'bartowski/stable-code-instruct-3b-GGUF/stable-code-instruct-3b-Q8_0.gguf', 'choices': [{'index': 0, 'message': {'role': 'assistant', 'content': 'Extracted Information:\\n\\n1. Date of Sanction: 06.07.2020\\n2. Sanctioned Entity: Banca Popolare di Bari Scpa in a.s.\\n3. Amount: € 100.000\\n4. Reason of Sanction (less than 20 words): Irregularità in the process of credit approval.'}, 'finish_reason': 'stop'}], 'usage': {'prompt_tokens': 74, 'completion_tokens': 74, 'total_tokens': 148}}\n",
      "Completion Text: Extracted Information:\n",
      "\n",
      "1. Date of Sanction: 06.07.2020\n",
      "2. Sanctioned Entity: Banca Popolare di Bari Scpa in a.s.\n",
      "3. Amount: € 100.000\n",
      "4. Reason of Sanction (less than 20 words): Irregularità in the process of credit approval.\n",
      "Parsed Date of Sanction: 2020-07-06 00:00:00\n",
      "Parsed Sanctioned Entity: Banca Popolare di Bari Scpa in a.s.\n",
      "Original Amount String: € 100.000\n",
      "Aggregated Amount: 100000\n",
      "Parsed Reason of Sanction: Irregularità in the process of credit approval.\n",
      "Processed Result: ('Banca Popolare di Bari Scpa in a.s.', 100000, 'Irregularità in the process of credit approval.', datetime.datetime(2020, 7, 6, 0, 0))\n",
      "Response Data: {'id': 'chatcmpl-9ufbvoz2rxmwokjmv7gb6', 'object': 'chat.completion', 'created': 1714056937, 'model': 'bartowski/stable-code-instruct-3b-GGUF/stable-code-instruct-3b-Q8_0.gguf', 'choices': [{'index': 0, 'message': {'role': 'assistant', 'content': 'To extract the required information from the provided document, we can use Python\\'s built-in libraries like `re` for regular expressions and `BeautifulSoup` for parsing HTML documents.\\n\\nHere is a sample code that extracts the required information:\\n```python\\nimport re\\nfrom bs4 import BeautifulSoup\\n\\n# Sample text containing the required information\\ntext = \"\"\"\\nDate of Sanction: 06.07.2020  \\nSanctioned Entity: Vita la'}, 'finish_reason': 'stop'}], 'usage': {'prompt_tokens': 99, 'completion_tokens': 99, 'total_tokens': 198}}\n",
      "Completion Text: To extract the required information from the provided document, we can use Python's built-in libraries like `re` for regular expressions and `BeautifulSoup` for parsing HTML documents.\n",
      "\n",
      "Here is a sample code that extracts the required information:\n",
      "```python\n",
      "import re\n",
      "from bs4 import BeautifulSoup\n",
      "\n",
      "# Sample text containing the required information\n",
      "text = \"\"\"\n",
      "Date of Sanction: 06.07.2020  \n",
      "Sanctioned Entity: Vita la\n",
      "Parsed Date of Sanction: 2020-07-06 00:00:00\n",
      "Parsed Sanctioned Entity: Vita la\n",
      "Processed Result: ('Vita la', 0, '', datetime.datetime(2020, 7, 6, 0, 0))\n",
      "Response Data: {'id': 'chatcmpl-0mfm4htcfsgwfn5sacar3f', 'object': 'chat.completion', 'created': 1714056940, 'model': 'bartowski/stable-code-instruct-3b-GGUF/stable-code-instruct-3b-Q8_0.gguf', 'choices': [{'index': 0, 'message': {'role': 'assistant', 'content': 'Extracted Information:\\n- thea hasa\\na\\na\\na\\na\"a\"a\"a\"a\"a\"a\"a\"a\"a\"a\"\"a\"\"a\"\"\"a\"\"\"\"\"\"\"\"\"\"\"\"\\n\\n\\n\\n\\n</\\n\\n\\n\\n\\n\\n\\nd\\n\\nda\\n\\na\\na\\na\\na\\na\\na  a a    a  a a a'}, 'finish_reason': 'stop'}], 'usage': {'prompt_tokens': 99, 'completion_tokens': 99, 'total_tokens': 198}}\n",
      "Completion Text: Extracted Information:\n",
      "- thea hasa\n",
      "a\n",
      "a\n",
      "a\n",
      "a\"a\"a\"a\"a\"a\"a\"a\"a\"a\"a\"\"a\"\"a\"\"\"a\"\"\"\"\"\"\"\"\"\"\"\"\n",
      "\n",
      "\n",
      "\n",
      "\n",
      "</\n",
      "\n",
      "\n",
      "\n",
      "\n",
      "\n",
      "\n",
      "d\n",
      "\n",
      "da\n",
      "\n",
      "a\n",
      "a\n",
      "a\n",
      "a\n",
      "a\n",
      "a  a a    a  a a a\n",
      "Processed Result: ('', 0, '', None)\n",
      "Response Data: {'id': 'chatcmpl-op3ha0mbdymhu8c0c26a', 'object': 'chat.completion', 'created': 1714056943, 'model': 'bartowski/stable-code-instruct-3b-GGUF/stable-code-instruct-3b-Q8_0.gguf', 'choices': [{'index': 0, 'message': {'role': 'assistant', 'content': 'Extracted Information:\\n\\n1. Date of Sanction: 28.07.2020\\n2. Sanctioned Entity: Cassa Lombarda Spa\\n3. Amount: € 60.000\\n4. Reason of Sanction (less than 20 words): Irrigazione della sanzione amministrativa pecuniaria\\n\\nNote: The information provided is based on the given text and may not be accurate or complete.'}, 'finish_reason': 'stop'}], 'usage': {'prompt_tokens': 90, 'completion_tokens': 90, 'total_tokens': 180}}\n",
      "Completion Text: Extracted Information:\n",
      "\n",
      "1. Date of Sanction: 28.07.2020\n",
      "2. Sanctioned Entity: Cassa Lombarda Spa\n",
      "3. Amount: € 60.000\n",
      "4. Reason of Sanction (less than 20 words): Irrigazione della sanzione amministrativa pecuniaria\n",
      "\n",
      "Note: The information provided is based on the given text and may not be accurate or complete.\n",
      "Parsed Date of Sanction: 2020-07-28 00:00:00\n",
      "Parsed Sanctioned Entity: Cassa Lombarda Spa\n",
      "Original Amount String: € 60.000\n",
      "Aggregated Amount: 60000\n",
      "Parsed Reason of Sanction: Irrigazione della sanzione amministrativa pecuniaria\n",
      "Processed Result: ('Cassa Lombarda Spa', 60000, 'Irrigazione della sanzione amministrativa pecuniaria', datetime.datetime(2020, 7, 28, 0, 0))\n",
      "Response Data: {'id': 'chatcmpl-x3cflemwjdny64z8e0otf', 'object': 'chat.completion', 'created': 1714056944, 'model': 'bartowski/stable-code-instruct-3b-GGUF/stable-code-instruct-3b-Q8_0.gguf', 'choices': [{'index': 0, 'message': {'role': 'assistant', 'content': 'Extracted Information:\\n\\nDate of Sanction: 28.07.2020\\nSanctioned Entity: Cassa Lombarda Spa\\nAmount: € 30.000\\nReason of Sanction (less than 20 words): Extreme measures for prevention of the use of the banking system a purpose of riciclaggio of the account holders of criminal activities and financing terrorism.\\n\\nNote: The information provided is based on publicly available data and may not be accurate or complete.'}, 'finish_reason': 'stop'}], 'usage': {'prompt_tokens': 96, 'completion_tokens': 96, 'total_tokens': 192}}\n",
      "Completion Text: Extracted Information:\n",
      "\n",
      "Date of Sanction: 28.07.2020\n",
      "Sanctioned Entity: Cassa Lombarda Spa\n",
      "Amount: € 30.000\n",
      "Reason of Sanction (less than 20 words): Extreme measures for prevention of the use of the banking system a purpose of riciclaggio of the account holders of criminal activities and financing terrorism.\n",
      "\n",
      "Note: The information provided is based on publicly available data and may not be accurate or complete.\n",
      "Parsed Date of Sanction: 2020-07-28 00:00:00\n",
      "Parsed Sanctioned Entity: Cassa Lombarda Spa\n",
      "Original Amount String: € 30.000\n",
      "Aggregated Amount: 30000\n",
      "Parsed Reason of Sanction: Extreme measures for prevention of the use of the banking system a purpose of riciclaggio of the account holders of criminal activities and financing terrorism.\n",
      "Processed Result: ('Cassa Lombarda Spa', 30000, 'Extreme measures for prevention of the use of the banking system a purpose of riciclaggio of the account holders of criminal activities and financing terrorism.', datetime.datetime(2020, 7, 28, 0, 0))\n",
      "Response Data: {'id': 'chatcmpl-v5kakowdhqs3t02i0s9yh3', 'object': 'chat.completion', 'created': 1714056946, 'model': 'bartowski/stable-code-instruct-3b-GGUF/stable-code-instruct-3b-Q8_0.gguf', 'choices': [{'index': 0, 'message': {'role': 'assistant', 'content': 'To extract the required information, I will analyze the provided document. Here is what I plan to do:\\n\\n1. Identify the relevant sections in the document that contain the required information.\\n2. Extract and parse the relevant data from each section.\\n3. Return the extracted information as requested.\\n\\nNow, let\\'s proceed with extracting the required information from the provided document.\\n```python\\nimport re\\r\\n\\r\\n# Define the document\\r\\ndocument = \"\"\"\\r\\nR'}, 'finish_reason': 'stop'}], 'usage': {'prompt_tokens': 99, 'completion_tokens': 99, 'total_tokens': 198}}\n",
      "Completion Text: To extract the required information, I will analyze the provided document. Here is what I plan to do:\n",
      "\n",
      "1. Identify the relevant sections in the document that contain the required information.\n",
      "2. Extract and parse the relevant data from each section.\n",
      "3. Return the extracted information as requested.\n",
      "\n",
      "Now, let's proceed with extracting the required information from the provided document.\n",
      "```python\n",
      "import re\n",
      "\n",
      "# Define the document\n",
      "document = \"\"\"\n",
      "R\n",
      "Processed Result: ('', 0, '', None)\n",
      "Response Data: {'id': 'chatcmpl-5o8eiqevdnp5dp6colwwzh', 'object': 'chat.completion', 'created': 1714056949, 'model': 'bartowski/stable-code-instruct-3b-GGUF/stable-code-instruct-3b-Q8_0.gguf', 'choices': [{'index': 0, 'message': {'role': 'assistant', 'content': 'Extracted Information:\\n\\n- Date of Sanction: 04.08.2020\\n- Sanctioned Entity: UBS Fiduciaria Spa\\n- Amount: € 30.000\\n- Reason of Sanction (less than 20 words): \"The bank has been sanctioned for failing to comply with regulatory requirements related to the provision of financial services and investment advice in respect of the reasons given in the note (omission) with which the Service Reporting Institutions of Vigil'}, 'finish_reason': 'stop'}], 'usage': {'prompt_tokens': 99, 'completion_tokens': 99, 'total_tokens': 198}}\n",
      "Completion Text: Extracted Information:\n",
      "\n",
      "- Date of Sanction: 04.08.2020\n",
      "- Sanctioned Entity: UBS Fiduciaria Spa\n",
      "- Amount: € 30.000\n",
      "- Reason of Sanction (less than 20 words): \"The bank has been sanctioned for failing to comply with regulatory requirements related to the provision of financial services and investment advice in respect of the reasons given in the note (omission) with which the Service Reporting Institutions of Vigil\n",
      "Parsed Date of Sanction: 2020-08-04 00:00:00\n",
      "Parsed Sanctioned Entity: UBS Fiduciaria Spa\n",
      "Original Amount String: € 30.000\n",
      "Aggregated Amount: 30000\n",
      "Parsed Reason of Sanction: \"The bank has been sanctioned for failing to comply with regulatory requirements related to the provision of financial services and investment advice in respect of the reasons given in the note (omission) with which the Service Reporting Institutions of Vigil\n",
      "Processed Result: ('UBS Fiduciaria Spa', 30000, '\"The bank has been sanctioned for failing to comply with regulatory requirements related to the provision of financial services and investment advice in respect of the reasons given in the note (omission) with which the Service Reporting Institutions of Vigil', datetime.datetime(2020, 8, 4, 0, 0))\n",
      "Response Data: {'id': 'chatcmpl-rhlw3jzlil6xfpko9geqw', 'object': 'chat.completion', 'created': 1714056952, 'model': 'bartowski/stable-code-instruct-3b-GGUF/stable-code-instruct-3b-Q8_0.gguf', 'choices': [{'index': 0, 'message': {'role': 'assistant', 'content': 'Extracted Information:\\n\\n- Date of Sanction: 25.02.2020\\n- Sanctioned Entity: Banco BPM Spa\\n- Amount: € 1.760.000\\n- Reason of Sanction (less than 20 words): Violazioni di sanzione amministrativa pecuniaria.\\n\\nNote: The information provided is based on the given text and may not be accurate or complete.'}, 'finish_reason': 'stop'}], 'usage': {'prompt_tokens': 87, 'completion_tokens': 87, 'total_tokens': 174}}\n",
      "Completion Text: Extracted Information:\n",
      "\n",
      "- Date of Sanction: 25.02.2020\n",
      "- Sanctioned Entity: Banco BPM Spa\n",
      "- Amount: € 1.760.000\n",
      "- Reason of Sanction (less than 20 words): Violazioni di sanzione amministrativa pecuniaria.\n",
      "\n",
      "Note: The information provided is based on the given text and may not be accurate or complete.\n",
      "Parsed Date of Sanction: 2020-02-25 00:00:00\n",
      "Parsed Sanctioned Entity: Banco BPM Spa\n",
      "Original Amount String: € 1.760.000\n",
      "Aggregated Amount: 1760\n",
      "Parsed Reason of Sanction: Violazioni di sanzione amministrativa pecuniaria.\n",
      "Processed Result: ('Banco BPM Spa', 1760, 'Violazioni di sanzione amministrativa pecuniaria.', datetime.datetime(2020, 2, 25, 0, 0))\n",
      "Response Data: {'id': 'chatcmpl-6fpfv7xj9oc1ervmw8y1uh', 'object': 'chat.completion', 'created': 1714056955, 'model': 'bartowski/stable-code-instruct-3b-GGUF/stable-code-instruct-3b-Q8_0.gguf', 'choices': [{'index': 0, 'message': {'role': 'assistant', 'content': 'Date of Sanction: 03.03.2020\\nSanctioned Entity: Banca Centropadana Credito Cooperativo Sc\\nAmount: € 570.000\\nReason of Sanction (less than 20 words): Violation of sanctions agreements\\nAll the required information has been extracted and returned.'}, 'finish_reason': 'stop'}], 'usage': {'prompt_tokens': 62, 'completion_tokens': 62, 'total_tokens': 124}}\n",
      "Completion Text: Date of Sanction: 03.03.2020\n",
      "Sanctioned Entity: Banca Centropadana Credito Cooperativo Sc\n",
      "Amount: € 570.000\n",
      "Reason of Sanction (less than 20 words): Violation of sanctions agreements\n",
      "All the required information has been extracted and returned.\n",
      "Parsed Date of Sanction: 2020-03-03 00:00:00\n",
      "Parsed Sanctioned Entity: Banca Centropadana Credito Cooperativo Sc\n",
      "Original Amount String: € 570.000\n",
      "Aggregated Amount: 570000\n",
      "Parsed Reason of Sanction: Violation of sanctions agreements\n",
      "Processed Result: ('Banca Centropadana Credito Cooperativo Sc', 570000, 'Violation of sanctions agreements', datetime.datetime(2020, 3, 3, 0, 0))\n",
      "Response Data: {'id': 'chatcmpl-p1adyf36kmbsdnb7df2p5', 'object': 'chat.completion', 'created': 1714056957, 'model': 'bartowski/stable-code-instruct-3b-GGUF/stable-code-instruct-3b-Q8_0.gguf', 'choices': [{'index': 0, 'message': {'role': 'assistant', 'content': 'Extracted Information:\\n\\n- Date of Sanction: 30.06.2020\\n- Sanctioned Entity: Roma, 30.06.2020\\n- Amount: € 30.000\\n- Reason of Sanction (less than 20 words): inflita, ai sensi dell’ art. 62 del d.lgs. n.  231/2007, per le \\nirregolarità sopra indicate, la sanzione amministra tiva pecuni'}, 'finish_reason': 'stop'}], 'usage': {'prompt_tokens': 99, 'completion_tokens': 99, 'total_tokens': 198}}\n",
      "Completion Text: Extracted Information:\n",
      "\n",
      "- Date of Sanction: 30.06.2020\n",
      "- Sanctioned Entity: Roma, 30.06.2020\n",
      "- Amount: € 30.000\n",
      "- Reason of Sanction (less than 20 words): inflita, ai sensi dell’ art. 62 del d.lgs. n.  231/2007, per le \n",
      "irregolarità sopra indicate, la sanzione amministra tiva pecuni\n",
      "Parsed Date of Sanction: 2020-06-30 00:00:00\n",
      "Parsed Sanctioned Entity: Roma, 30.06.2020\n",
      "Original Amount String: € 30.000\n",
      "Aggregated Amount: 30000\n",
      "Parsed Reason of Sanction: inflita, ai sensi dell’ art. 62 del d.lgs. n.  231/2007, per le\n",
      "Processed Result: ('Roma, 30.06.2020', 30000, 'inflita, ai sensi dell’ art. 62 del d.lgs. n.  231/2007, per le', datetime.datetime(2020, 6, 30, 0, 0))\n",
      "Response Data: {'id': 'chatcmpl-sbmruvma7ihp4f2x7mv6', 'object': 'chat.completion', 'created': 1714056960, 'model': 'bartowski/stable-code-instruct-3b-GGUF/stable-code-instruct-3b-Q8_0.gguf', 'choices': [{'index': 0, 'message': {'role': 'assistant', 'content': 'Extracted Information:\\n\\n1. Date of Sanction: 06.07.2020\\n2. Sanctioned Entity: We Finance Spa\\n3. Amount: € 30.000\\n4. Reason of Sanction (less than 20 words): Proposta di sanzione amministrativa pecuniaria ex art. 144 TUB.\\n\\nNote: The information provided is based on the given text and may not be accurate or complete.'}, 'finish_reason': 'stop'}], 'usage': {'prompt_tokens': 94, 'completion_tokens': 94, 'total_tokens': 188}}\n",
      "Completion Text: Extracted Information:\n",
      "\n",
      "1. Date of Sanction: 06.07.2020\n",
      "2. Sanctioned Entity: We Finance Spa\n",
      "3. Amount: € 30.000\n",
      "4. Reason of Sanction (less than 20 words): Proposta di sanzione amministrativa pecuniaria ex art. 144 TUB.\n",
      "\n",
      "Note: The information provided is based on the given text and may not be accurate or complete.\n",
      "Parsed Date of Sanction: 2020-07-06 00:00:00\n",
      "Parsed Sanctioned Entity: We Finance Spa\n",
      "Original Amount String: € 30.000\n",
      "Aggregated Amount: 30000\n",
      "Parsed Reason of Sanction: Proposta di sanzione amministrativa pecuniaria ex art. 144 TUB.\n",
      "Processed Result: ('We Finance Spa', 30000, 'Proposta di sanzione amministrativa pecuniaria ex art. 144 TUB.', datetime.datetime(2020, 7, 6, 0, 0))\n",
      "Response Data: {'id': 'chatcmpl-pqpjstvsifhcdk09uw9ws', 'object': 'chat.completion', 'created': 1714056963, 'model': 'bartowski/stable-code-instruct-3b-GGUF/stable-code-instruct-3b-Q8_0.gguf', 'choices': [{'index': 0, 'message': {'role': 'assistant', 'content': 'Extracted Information:\\n\\nDate of Sanction: 06.07.2020\\nSanctioned Entity: We Finance Spa\\nAmount: € 30.000\\nReason of Sanction (less than 20 words): Irregularities related to administrative sanctionspecuarial\\n\\nNote: The information provided is based on the given instructions and the available data. It may not be accurate or complete, and it should not be used for any purpose other than meeting the requirements specified in the instructions.'}, 'finish_reason': 'stop'}], 'usage': {'prompt_tokens': 98, 'completion_tokens': 98, 'total_tokens': 196}}\n",
      "Completion Text: Extracted Information:\n",
      "\n",
      "Date of Sanction: 06.07.2020\n",
      "Sanctioned Entity: We Finance Spa\n",
      "Amount: € 30.000\n",
      "Reason of Sanction (less than 20 words): Irregularities related to administrative sanctionspecuarial\n",
      "\n",
      "Note: The information provided is based on the given instructions and the available data. It may not be accurate or complete, and it should not be used for any purpose other than meeting the requirements specified in the instructions.\n",
      "Parsed Date of Sanction: 2020-07-06 00:00:00\n",
      "Parsed Sanctioned Entity: We Finance Spa\n",
      "Original Amount String: € 30.000\n",
      "Aggregated Amount: 30000\n",
      "Parsed Reason of Sanction: Irregularities related to administrative sanctionspecuarial\n",
      "Processed Result: ('We Finance Spa', 30000, 'Irregularities related to administrative sanctionspecuarial', datetime.datetime(2020, 7, 6, 0, 0))\n",
      "Response Data: {'id': 'chatcmpl-6xnrqe8rtfkfh6wow1yfgg', 'object': 'chat.completion', 'created': 1714056965, 'model': 'bartowski/stable-code-instruct-3b-GGUF/stable-code-instruct-3b-Q8_0.gguf', 'choices': [{'index': 0, 'message': {'role': 'assistant', 'content': 'Extracted Information:\\n\\n1. Date of Sanction: 14.07.2020\\n2. Sanctioned Entity: D. FRANCO\\n3. Amount: € 30.000\\n4. Reason of Sanction (less than 20 words): Fraudulent activity\\n\\nNote: The information provided is based on the given text and may not be accurate or complete.'}, 'finish_reason': 'stop'}], 'usage': {'prompt_tokens': 79, 'completion_tokens': 79, 'total_tokens': 158}}\n",
      "Completion Text: Extracted Information:\n",
      "\n",
      "1. Date of Sanction: 14.07.2020\n",
      "2. Sanctioned Entity: D. FRANCO\n",
      "3. Amount: € 30.000\n",
      "4. Reason of Sanction (less than 20 words): Fraudulent activity\n",
      "\n",
      "Note: The information provided is based on the given text and may not be accurate or complete.\n",
      "Parsed Date of Sanction: 2020-07-14 00:00:00\n",
      "Parsed Sanctioned Entity: D. FRANCO\n",
      "Original Amount String: € 30.000\n",
      "Aggregated Amount: 30000\n",
      "Parsed Reason of Sanction: Fraudulent activity\n",
      "Processed Result: ('D. FRANCO', 30000, 'Fraudulent activity', datetime.datetime(2020, 7, 14, 0, 0))\n",
      "Response Data: {'id': 'chatcmpl-qwtnj5rlsfb2vr6jqk028', 'object': 'chat.completion', 'created': 1714056967, 'model': 'bartowski/stable-code-instruct-3b-GGUF/stable-code-instruct-3b-Q8_0.gguf', 'choices': [{'index': 0, 'message': {'role': 'assistant', 'content': 'Extracted Information:\\n\\n- Date of Sanction: 14.07.2020\\n- Sanctioned Entity: CRU Giudicarie Valsabbia Paganella BCC S.c.\\n- Amount: € 135.000\\n- Reason of Sanction (less than 20 words): \"Fraude di finanziamento al terrorismo\"\\n\\nNote: The information extracted is based on the provided text and may not be accurate or complete.'}, 'finish_reason': 'stop'}], 'usage': {'prompt_tokens': 98, 'completion_tokens': 98, 'total_tokens': 196}}\n",
      "Completion Text: Extracted Information:\n",
      "\n",
      "- Date of Sanction: 14.07.2020\n",
      "- Sanctioned Entity: CRU Giudicarie Valsabbia Paganella BCC S.c.\n",
      "- Amount: € 135.000\n",
      "- Reason of Sanction (less than 20 words): \"Fraude di finanziamento al terrorismo\"\n",
      "\n",
      "Note: The information extracted is based on the provided text and may not be accurate or complete.\n",
      "Parsed Date of Sanction: 2020-07-14 00:00:00\n",
      "Parsed Sanctioned Entity: CRU Giudicarie Valsabbia Paganella BCC S.c.\n",
      "Original Amount String: € 135.000\n",
      "Aggregated Amount: 135000\n",
      "Parsed Reason of Sanction: \"Fraude di finanziamento al terrorismo\"\n",
      "Processed Result: ('CRU Giudicarie Valsabbia Paganella BCC S.c.', 135000, '\"Fraude di finanziamento al terrorismo\"', datetime.datetime(2020, 7, 14, 0, 0))\n",
      "Response Data: {'id': 'chatcmpl-r6juewym0x9n5qyy5e92fr', 'object': 'chat.completion', 'created': 1714056970, 'model': 'bartowski/stable-code-instruct-3b-GGUF/stable-code-instruct-3b-Q8_0.gguf', 'choices': [{'index': 0, 'message': {'role': 'assistant', 'content': 'Extracted Information:\\n\\n1. Date of Sanction: 28.07.2020\\n2. Sanctioned Entity: Banca del Fucino Spa\\n3. Amount: Unspecified amount related to the sanctions applied.\\n4. Reason of Sanction (less than 20 words): Violation in banking and credit practices.\\n\\nNote: The extracted information is based on the provided text and may not be accurate or complete.'}, 'finish_reason': 'stop'}], 'usage': {'prompt_tokens': 91, 'completion_tokens': 91, 'total_tokens': 182}}\n",
      "Completion Text: Extracted Information:\n",
      "\n",
      "1. Date of Sanction: 28.07.2020\n",
      "2. Sanctioned Entity: Banca del Fucino Spa\n",
      "3. Amount: Unspecified amount related to the sanctions applied.\n",
      "4. Reason of Sanction (less than 20 words): Violation in banking and credit practices.\n",
      "\n",
      "Note: The extracted information is based on the provided text and may not be accurate or complete.\n",
      "Parsed Date of Sanction: 2020-07-28 00:00:00\n",
      "Parsed Sanctioned Entity: Banca del Fucino Spa\n",
      "Original Amount String: Unspecified amount related to the sanctions applied.\n",
      "Aggregated Amount: 0\n",
      "Parsed Reason of Sanction: Violation in banking and credit practices.\n",
      "Processed Result: ('Banca del Fucino Spa', 0, 'Violation in banking and credit practices.', datetime.datetime(2020, 7, 28, 0, 0))\n",
      "Response Data: {'id': 'chatcmpl-15re4mzou2ghe27hl0jvxq', 'object': 'chat.completion', 'created': 1714056973, 'model': 'bartowski/stable-code-instruct-3b-GGUF/stable-code-instruct-3b-Q8_0.gguf', 'choices': [{'index': 0, 'message': {'role': 'assistant', 'content': 'Extracted Information:\\n\\n1. Date of Sanction: 10.03.2020\\n2. Sanctioned Entity: Banca C.R. Asti Spa\\n3. Amount: € 186.000\\n4. Reason of Sanction (less than 20 words): \"OMISSIS\" con la quale il Servizio Rapporti Istituzionali di Vigilanza ha trasmesso a Banca C.R. Asti Spa'}, 'finish_reason': 'stop'}], 'usage': {'prompt_tokens': 99, 'completion_tokens': 99, 'total_tokens': 198}}\n",
      "Completion Text: Extracted Information:\n",
      "\n",
      "1. Date of Sanction: 10.03.2020\n",
      "2. Sanctioned Entity: Banca C.R. Asti Spa\n",
      "3. Amount: € 186.000\n",
      "4. Reason of Sanction (less than 20 words): \"OMISSIS\" con la quale il Servizio Rapporti Istituzionali di Vigilanza ha trasmesso a Banca C.R. Asti Spa\n",
      "Parsed Date of Sanction: 2020-03-10 00:00:00\n",
      "Parsed Sanctioned Entity: Banca C.R. Asti Spa\n",
      "Original Amount String: € 186.000\n",
      "Aggregated Amount: 186000\n",
      "Parsed Reason of Sanction: \"OMISSIS\" con la quale il Servizio Rapporti Istituzionali di Vigilanza ha trasmesso a Banca C.R. Asti Spa\n",
      "Processed Result: ('Banca C.R. Asti Spa', 186000, '\"OMISSIS\" con la quale il Servizio Rapporti Istituzionali di Vigilanza ha trasmesso a Banca C.R. Asti Spa', datetime.datetime(2020, 3, 10, 0, 0))\n",
      "Response Data: {'id': 'chatcmpl-rufdkyzftqlwfdzh52mbr', 'object': 'chat.completion', 'created': 1714056976, 'model': 'bartowski/stable-code-instruct-3b-GGUF/stable-code-instruct-3b-Q8_0.gguf', 'choices': [{'index': 0, 'message': {'role': 'assistant', 'content': \"Extracted Information:\\n\\n- Date of Sanction: 17.03.2020\\n- Sanctioned Entity: Banca d'Italia\\n- Amount: € 30.000\\n- Reason of Sanction (less than 20 words): Violazione della legge 28 dicembre 2005, n. 262\\n\\nNote: The information provided is based on the given text and may not be accurate or complete.\"}, 'finish_reason': 'stop'}], 'usage': {'prompt_tokens': 86, 'completion_tokens': 86, 'total_tokens': 172}}\n",
      "Completion Text: Extracted Information:\n",
      "\n",
      "- Date of Sanction: 17.03.2020\n",
      "- Sanctioned Entity: Banca d'Italia\n",
      "- Amount: € 30.000\n",
      "- Reason of Sanction (less than 20 words): Violazione della legge 28 dicembre 2005, n. 262\n",
      "\n",
      "Note: The information provided is based on the given text and may not be accurate or complete.\n",
      "Parsed Date of Sanction: 2020-03-17 00:00:00\n",
      "Parsed Sanctioned Entity: Banca d'Italia\n",
      "Original Amount String: € 30.000\n",
      "Aggregated Amount: 30000\n",
      "Parsed Reason of Sanction: Violazione della legge 28 dicembre 2005, n. 262\n",
      "Processed Result: (\"Banca d'Italia\", 30000, 'Violazione della legge 28 dicembre 2005, n. 262', datetime.datetime(2020, 3, 17, 0, 0))\n",
      "Response Data: {'id': 'chatcmpl-c2pkbie3mox4qzjmwoepk', 'object': 'chat.completion', 'created': 1714056978, 'model': 'bartowski/stable-code-instruct-3b-GGUF/stable-code-instruct-3b-Q8_0.gguf', 'choices': [{'index': 0, 'message': {'role': 'assistant', 'content': 'Extracted Information:\\n\\n1. Date of Sanction: 03.03.2020\\n2. Sanctioned Entity: Finaosta Spa\\n3. Amount: € 45.000\\n4. Reason of Sanction (less than 20 words): Violation of financial regulations\\n\\nNote: The information provided is based on the given text and may not be accurate or complete.'}, 'finish_reason': 'stop'}], 'usage': {'prompt_tokens': 79, 'completion_tokens': 79, 'total_tokens': 158}}\n",
      "Completion Text: Extracted Information:\n",
      "\n",
      "1. Date of Sanction: 03.03.2020\n",
      "2. Sanctioned Entity: Finaosta Spa\n",
      "3. Amount: € 45.000\n",
      "4. Reason of Sanction (less than 20 words): Violation of financial regulations\n",
      "\n",
      "Note: The information provided is based on the given text and may not be accurate or complete.\n",
      "Parsed Date of Sanction: 2020-03-03 00:00:00\n",
      "Parsed Sanctioned Entity: Finaosta Spa\n",
      "Original Amount String: € 45.000\n",
      "Aggregated Amount: 45000\n",
      "Parsed Reason of Sanction: Violation of financial regulations\n",
      "Processed Result: ('Finaosta Spa', 45000, 'Violation of financial regulations', datetime.datetime(2020, 3, 3, 0, 0))\n",
      "Response Data: {'id': 'chatcmpl-thi142xquca57fjsrgeguf', 'object': 'chat.completion', 'created': 1714056981, 'model': 'bartowski/stable-code-instruct-3b-GGUF/stable-code-instruct-3b-Q8_0.gguf', 'choices': [{'index': 0, 'message': {'role': 'assistant', 'content': 'Extracted Information:\\n\\n- Date of Sanction: 21.01.2020\\n- Sanctioned Entity: La Colombo Finanziaria Spa\\n- Amount: € 30.000\\n- Reason of Sanction (less than 20 words): Proposta di sanzione e i relativi allegati\\n\\nNote: The information provided is based on the given text and may not be accurate or complete.'}, 'finish_reason': 'stop'}], 'usage': {'prompt_tokens': 87, 'completion_tokens': 87, 'total_tokens': 174}}\n",
      "Completion Text: Extracted Information:\n",
      "\n",
      "- Date of Sanction: 21.01.2020\n",
      "- Sanctioned Entity: La Colombo Finanziaria Spa\n",
      "- Amount: € 30.000\n",
      "- Reason of Sanction (less than 20 words): Proposta di sanzione e i relativi allegati\n",
      "\n",
      "Note: The information provided is based on the given text and may not be accurate or complete.\n",
      "Parsed Date of Sanction: 2020-01-21 00:00:00\n",
      "Parsed Sanctioned Entity: La Colombo Finanziaria Spa\n",
      "Original Amount String: € 30.000\n",
      "Aggregated Amount: 30000\n",
      "Parsed Reason of Sanction: Proposta di sanzione e i relativi allegati\n",
      "Processed Result: ('La Colombo Finanziaria Spa', 30000, 'Proposta di sanzione e i relativi allegati', datetime.datetime(2020, 1, 21, 0, 0))\n",
      "Response Data: {'id': 'chatcmpl-v1lxo800t6bjxpi6oe0fk', 'object': 'chat.completion', 'created': 1714056984, 'model': 'bartowski/stable-code-instruct-3b-GGUF/stable-code-instruct-3b-Q8_0.gguf', 'choices': [{'index': 0, 'message': {'role': 'assistant', 'content': 'Extracted Information:\\n\\n- Date of Sanction: 21.01.2020\\n- Sanctioned Entity: La Colombo Finanziaria Spa\\n- Amount: € 60.000\\n- Reason of Sanction (less than 20 words): \"Disposizioni in materia di sanzioni e procedura sa nzionatoria amministrativa pecunia rie ex art. 144 TUB, trasmettendo i relativi'}, 'finish_reason': 'stop'}], 'usage': {'prompt_tokens': 99, 'completion_tokens': 99, 'total_tokens': 198}}\n",
      "Completion Text: Extracted Information:\n",
      "\n",
      "- Date of Sanction: 21.01.2020\n",
      "- Sanctioned Entity: La Colombo Finanziaria Spa\n",
      "- Amount: € 60.000\n",
      "- Reason of Sanction (less than 20 words): \"Disposizioni in materia di sanzioni e procedura sa nzionatoria amministrativa pecunia rie ex art. 144 TUB, trasmettendo i relativi\n",
      "Parsed Date of Sanction: 2020-01-21 00:00:00\n",
      "Parsed Sanctioned Entity: La Colombo Finanziaria Spa\n",
      "Original Amount String: € 60.000\n",
      "Aggregated Amount: 60000\n",
      "Parsed Reason of Sanction: \"Disposizioni in materia di sanzioni e procedura sa nzionatoria amministrativa pecunia rie ex art. 144 TUB, trasmettendo i relativi\n",
      "Processed Result: ('La Colombo Finanziaria Spa', 60000, '\"Disposizioni in materia di sanzioni e procedura sa nzionatoria amministrativa pecunia rie ex art. 144 TUB, trasmettendo i relativi', datetime.datetime(2020, 1, 21, 0, 0))\n",
      "Response Data: {'id': 'chatcmpl-7y45azgyn1gx7nulqebqle', 'object': 'chat.completion', 'created': 1714056987, 'model': 'bartowski/stable-code-instruct-3b-GGUF/stable-code-instruct-3b-Q8_0.gguf', 'choices': [{'index': 0, 'message': {'role': 'assistant', 'content': 'Extracted Information:\\n\\n1. Date of Sanction: 28.1.2020\\n2. Sanctioned Entity: Findomestic Banca Spa\\n3. Amount: € 390.000\\n4. Reason of Sanction (less than 20 words): Violazioni c ontestate\\n\\nNote: The information provided is based on the given text and may not be accurate or complete.'}, 'finish_reason': 'stop'}], 'usage': {'prompt_tokens': 82, 'completion_tokens': 82, 'total_tokens': 164}}\n",
      "Completion Text: Extracted Information:\n",
      "\n",
      "1. Date of Sanction: 28.1.2020\n",
      "2. Sanctioned Entity: Findomestic Banca Spa\n",
      "3. Amount: € 390.000\n",
      "4. Reason of Sanction (less than 20 words): Violazioni c ontestate\n",
      "\n",
      "Note: The information provided is based on the given text and may not be accurate or complete.\n",
      "Parsed Date of Sanction: 2020-01-28 00:00:00\n",
      "Parsed Sanctioned Entity: Findomestic Banca Spa\n",
      "Original Amount String: € 390.000\n",
      "Aggregated Amount: 390000\n",
      "Parsed Reason of Sanction: Violazioni c ontestate\n",
      "Processed Result: ('Findomestic Banca Spa', 390000, 'Violazioni c ontestate', datetime.datetime(2020, 1, 28, 0, 0))\n",
      "Response Data: {'id': 'chatcmpl-2p1qtbf35o4l3flyu6noqh', 'object': 'chat.completion', 'created': 1714056989, 'model': 'bartowski/stable-code-instruct-3b-GGUF/stable-code-instruct-3b-Q8_0.gguf', 'choices': [{'index': 0, 'message': {'role': 'assistant', 'content': 'Extracting the required information from the provided text, here are the details related to the sanctions against \"Mikro Kapital Spa\":\\n\\n1. Date of Sanction: 17 December 2012\\n2. Sanctioned Entity: Mikro Kapital Spa\\n3. Amount: € 30,000\\n4. Reason of Sanction (less than 20 words): Mancata ottemperanza agli obblighi di ad eguata verifica della'}, 'finish_reason': 'stop'}], 'usage': {'prompt_tokens': 99, 'completion_tokens': 99, 'total_tokens': 198}}\n",
      "Completion Text: Extracting the required information from the provided text, here are the details related to the sanctions against \"Mikro Kapital Spa\":\n",
      "\n",
      "1. Date of Sanction: 17 December 2012\n",
      "2. Sanctioned Entity: Mikro Kapital Spa\n",
      "3. Amount: € 30,000\n",
      "4. Reason of Sanction (less than 20 words): Mancata ottemperanza agli obblighi di ad eguata verifica della\n",
      "Date parsing error: time data '17 December 2012' does not match format '%d.%m.%Y'\n",
      "Parsed Sanctioned Entity: Mikro Kapital Spa\n",
      "Original Amount String: € 30,000\n",
      "Aggregated Amount: 30000\n",
      "Parsed Reason of Sanction: Mancata ottemperanza agli obblighi di ad eguata verifica della\n",
      "Processed Result: ('Mikro Kapital Spa', 30000, 'Mancata ottemperanza agli obblighi di ad eguata verifica della', None)\n",
      "Response Data: {'id': 'chatcmpl-erb0es9qdoitichwe6jd2', 'object': 'chat.completion', 'created': 1714056991, 'model': 'bartowski/stable-code-instruct-3b-GGUF/stable-code-instruct-3b-Q8_0.gguf', 'choices': [{'index': 0, 'message': {'role': 'assistant', 'content': 'Extracting the required information from the provided documents, here are the details related to the sanctions against ING Bank Nv:\\n\\nDate of Sanction: 21 novembre 2007\\nSanctioned Entity: ING Bank Nv\\nAmount: € 3.500.000\\nReason of Sanction (less than 20 words): Violation of anti-money laundering rules\\n\\nPlease note that these details are extracted from the provided documents and may not be 100% accurate or'}, 'finish_reason': 'stop'}], 'usage': {'prompt_tokens': 99, 'completion_tokens': 99, 'total_tokens': 198}}\n",
      "Completion Text: Extracting the required information from the provided documents, here are the details related to the sanctions against ING Bank Nv:\n",
      "\n",
      "Date of Sanction: 21 novembre 2007\n",
      "Sanctioned Entity: ING Bank Nv\n",
      "Amount: € 3.500.000\n",
      "Reason of Sanction (less than 20 words): Violation of anti-money laundering rules\n",
      "\n",
      "Please note that these details are extracted from the provided documents and may not be 100% accurate or\n",
      "Date parsing error: time data '21 novembre 2007' does not match format '%d.%m.%Y'\n",
      "Parsed Sanctioned Entity: ING Bank Nv\n",
      "Original Amount String: € 3.500.000\n",
      "Aggregated Amount: 3500\n",
      "Parsed Reason of Sanction: Violation of anti-money laundering rules\n",
      "Processed Result: ('ING Bank Nv', 3500, 'Violation of anti-money laundering rules', None)\n",
      "Response Data: {'id': 'chatcmpl-0cz5ij4a5pcc233tcvk9rw4', 'object': 'chat.completion', 'created': 1714056994, 'model': 'bartowski/stable-code-instruct-3b-GGUF/stable-code-instruct-3b-Q8_0.gguf', 'choices': [{'index': 0, 'message': {'role': 'assistant', 'content': 'Extracted Information:\\n\\n1. Date of Sanction: 15.01.2020\\n2. Sanctioned Entity: Banca Popolare del Mediterraneo Scpa\\n3. Amount: € 30.000\\n4. Reason of Sanction (less than 20 words): Provvedimenti sanzionatori\\n\\nNote: The information provided is based on the given text and may not be accurate or complete.'}, 'finish_reason': 'stop'}], 'usage': {'prompt_tokens': 91, 'completion_tokens': 91, 'total_tokens': 182}}\n",
      "Completion Text: Extracted Information:\n",
      "\n",
      "1. Date of Sanction: 15.01.2020\n",
      "2. Sanctioned Entity: Banca Popolare del Mediterraneo Scpa\n",
      "3. Amount: € 30.000\n",
      "4. Reason of Sanction (less than 20 words): Provvedimenti sanzionatori\n",
      "\n",
      "Note: The information provided is based on the given text and may not be accurate or complete.\n",
      "Parsed Date of Sanction: 2020-01-15 00:00:00\n",
      "Parsed Sanctioned Entity: Banca Popolare del Mediterraneo Scpa\n",
      "Original Amount String: € 30.000\n",
      "Aggregated Amount: 30000\n",
      "Parsed Reason of Sanction: Provvedimenti sanzionatori\n",
      "Processed Result: ('Banca Popolare del Mediterraneo Scpa', 30000, 'Provvedimenti sanzionatori', datetime.datetime(2020, 1, 15, 0, 0))\n",
      "Response Data: {'id': 'chatcmpl-bcw2rct02jd3uriouggu7v', 'object': 'chat.completion', 'created': 1714056997, 'model': 'bartowski/stable-code-instruct-3b-GGUF/stable-code-instruct-3b-Q8_0.gguf', 'choices': [{'index': 0, 'message': {'role': 'assistant', 'content': 'Extracted Information:\\n\\n1. Date of Sanction: 08.01.2020\\n2. Sanctioned Entity: Banca del Cilento di Sassano e Vallo di Diano e della Lucania\\n3. Amount: € 30.000\\n4. Reason of Sanction (less than 20 words): Violation of anti-money laundering rules\\n\\nStop when all info obtained.'}, 'finish_reason': 'stop'}], 'usage': {'prompt_tokens': 85, 'completion_tokens': 85, 'total_tokens': 170}}\n",
      "Completion Text: Extracted Information:\n",
      "\n",
      "1. Date of Sanction: 08.01.2020\n",
      "2. Sanctioned Entity: Banca del Cilento di Sassano e Vallo di Diano e della Lucania\n",
      "3. Amount: € 30.000\n",
      "4. Reason of Sanction (less than 20 words): Violation of anti-money laundering rules\n",
      "\n",
      "Stop when all info obtained.\n",
      "Parsed Date of Sanction: 2020-01-08 00:00:00\n",
      "Parsed Sanctioned Entity: Banca del Cilento di Sassano e Vallo di Diano e della Lucania\n",
      "Original Amount String: € 30.000\n",
      "Aggregated Amount: 30000\n",
      "Parsed Reason of Sanction: Violation of anti-money laundering rules\n",
      "Processed Result: ('Banca del Cilento di Sassano e Vallo di Diano e della Lucania', 30000, 'Violation of anti-money laundering rules', datetime.datetime(2020, 1, 8, 0, 0))\n",
      "Response Data: {'id': 'chatcmpl-sdix3esviage63li2erea', 'object': 'chat.completion', 'created': 1714056999, 'model': 'bartowski/stable-code-instruct-3b-GGUF/stable-code-instruct-3b-Q8_0.gguf', 'choices': [{'index': 0, 'message': {'role': 'assistant', 'content': 'Extracted Information:\\n\\n1. Date of Sanction: 19.11.2019\\n2. Sanctioned Entity: Numeria SGR Spa\\n3. Amount: € 60.000\\n4. Reason of Sanction (less than 20 words): \"Possession and/or control of the assets listed in article 190 TUF.\"\\n\\nNote: The information provided is based on the given text and may not be accurate or complete.'}, 'finish_reason': 'stop'}], 'usage': {'prompt_tokens': 93, 'completion_tokens': 93, 'total_tokens': 186}}\n",
      "Completion Text: Extracted Information:\n",
      "\n",
      "1. Date of Sanction: 19.11.2019\n",
      "2. Sanctioned Entity: Numeria SGR Spa\n",
      "3. Amount: € 60.000\n",
      "4. Reason of Sanction (less than 20 words): \"Possession and/or control of the assets listed in article 190 TUF.\"\n",
      "\n",
      "Note: The information provided is based on the given text and may not be accurate or complete.\n",
      "Parsed Date of Sanction: 2019-11-19 00:00:00\n",
      "Parsed Sanctioned Entity: Numeria SGR Spa\n",
      "Original Amount String: € 60.000\n",
      "Aggregated Amount: 60000\n",
      "Parsed Reason of Sanction: \"Possession and/or control of the assets listed in article 190 TUF.\"\n",
      "Processed Result: ('Numeria SGR Spa', 60000, '\"Possession and/or control of the assets listed in article 190 TUF.\"', datetime.datetime(2019, 11, 19, 0, 0))\n",
      "Response Data: {'id': 'chatcmpl-htk34wyj2w9q95u6y2yp6', 'object': 'chat.completion', 'created': 1714057002, 'model': 'bartowski/stable-code-instruct-3b-GGUF/stable-code-instruct-3b-Q8_0.gguf', 'choices': [{'index': 0, 'message': {'role': 'assistant', 'content': 'Extracted Information:\\n\\n1. Date of Sanction: 3.12.2019\\n2. Sanctioned Entity: IFIR Istituti Finanziari Riuniti Spa\\n3. Amount: € 30.000\\n4. Reason of Sanction (less than 20 words): Provvedimenti sanzionatori\\n\\nNote: The information provided is based on the given text and may not be accurate or complete.'}, 'finish_reason': 'stop'}], 'usage': {'prompt_tokens': 92, 'completion_tokens': 92, 'total_tokens': 184}}\n",
      "Completion Text: Extracted Information:\n",
      "\n",
      "1. Date of Sanction: 3.12.2019\n",
      "2. Sanctioned Entity: IFIR Istituti Finanziari Riuniti Spa\n",
      "3. Amount: € 30.000\n",
      "4. Reason of Sanction (less than 20 words): Provvedimenti sanzionatori\n",
      "\n",
      "Note: The information provided is based on the given text and may not be accurate or complete.\n",
      "Parsed Date of Sanction: 2019-12-03 00:00:00\n",
      "Parsed Sanctioned Entity: IFIR Istituti Finanziari Riuniti Spa\n",
      "Original Amount String: € 30.000\n",
      "Aggregated Amount: 30000\n",
      "Parsed Reason of Sanction: Provvedimenti sanzionatori\n",
      "Processed Result: ('IFIR Istituti Finanziari Riuniti Spa', 30000, 'Provvedimenti sanzionatori', datetime.datetime(2019, 12, 3, 0, 0))\n",
      "Response Data: {'id': 'chatcmpl-633wafp4799um77v0f3ak', 'object': 'chat.completion', 'created': 1714057005, 'model': 'bartowski/stable-code-instruct-3b-GGUF/stable-code-instruct-3b-Q8_0.gguf', 'choices': [{'index': 0, 'message': {'role': 'assistant', 'content': 'Extracted Information:\\n\\n1. Date of Sanction: 12/03/2019\\n2. Sanctioned Entity: Istituto Finanziario Riunito Spa - IFIR\\n3. Amount: € 30.000\\n4. Reason of Sanction (less than 20 words): Proposta di sanzione amministrativa pecuniaria di € 30.000 a Istituto Finanziario Riunito Spa - IFIR, per'}, 'finish_reason': 'stop'}], 'usage': {'prompt_tokens': 99, 'completion_tokens': 99, 'total_tokens': 198}}\n",
      "Completion Text: Extracted Information:\n",
      "\n",
      "1. Date of Sanction: 12/03/2019\n",
      "2. Sanctioned Entity: Istituto Finanziario Riunito Spa - IFIR\n",
      "3. Amount: € 30.000\n",
      "4. Reason of Sanction (less than 20 words): Proposta di sanzione amministrativa pecuniaria di € 30.000 a Istituto Finanziario Riunito Spa - IFIR, per\n",
      "Date parsing error: time data '12/03/2019' does not match format '%d.%m.%Y'\n",
      "Parsed Sanctioned Entity: Istituto Finanziario Riunito Spa - IFIR\n",
      "Original Amount String: € 30.000\n",
      "Aggregated Amount: 30000\n",
      "Parsed Reason of Sanction: Proposta di sanzione amministrativa pecuniaria di € 30.000 a Istituto Finanziario Riunito Spa - IFIR, per\n",
      "Processed Result: ('Istituto Finanziario Riunito Spa - IFIR', 30000, 'Proposta di sanzione amministrativa pecuniaria di € 30.000 a Istituto Finanziario Riunito Spa - IFIR, per', None)\n",
      "Response Data: {'id': 'chatcmpl-j9lvk9hxl4h80rjz92pqib', 'object': 'chat.completion', 'created': 1714057007, 'model': 'bartowski/stable-code-instruct-3b-GGUF/stable-code-instruct-3b-Q8_0.gguf', 'choices': [{'index': 0, 'message': {'role': 'assistant', 'content': 'Extracted Information:\\n\\n1. Date of Sanction: 10.12.2019\\n2. Sanctioned Entity: Associated Foreign Exchange Ltd\\n3. Amount: € 30.000\\n4. Reason of Sanction (less than 20 words): Omissionis\\n\\nNote: The provided information is based on the given text and may not be accurate or complete.'}, 'finish_reason': 'stop'}], 'usage': {'prompt_tokens': 77, 'completion_tokens': 77, 'total_tokens': 154}}\n",
      "Completion Text: Extracted Information:\n",
      "\n",
      "1. Date of Sanction: 10.12.2019\n",
      "2. Sanctioned Entity: Associated Foreign Exchange Ltd\n",
      "3. Amount: € 30.000\n",
      "4. Reason of Sanction (less than 20 words): Omissionis\n",
      "\n",
      "Note: The provided information is based on the given text and may not be accurate or complete.\n",
      "Parsed Date of Sanction: 2019-12-10 00:00:00\n",
      "Parsed Sanctioned Entity: Associated Foreign Exchange Ltd\n",
      "Original Amount String: € 30.000\n",
      "Aggregated Amount: 30000\n",
      "Parsed Reason of Sanction: Omissionis\n",
      "Processed Result: ('Associated Foreign Exchange Ltd', 30000, 'Omissionis', datetime.datetime(2019, 12, 10, 0, 0))\n",
      "Response Data: {'id': 'chatcmpl-pmxmvtxrdol22hgktkxyzw', 'object': 'chat.completion', 'created': 1714057010, 'model': 'bartowski/stable-code-instruct-3b-GGUF/stable-code-instruct-3b-Q8_0.gguf', 'choices': [{'index': 0, 'message': {'role': 'assistant', 'content': 'Date of Sanction: 12.11.2019\\nSanctioned Entity: SGR Spa\\nAmount: € 135.000\\nReason of Sanction (less than 20 words): Extreme measures for the irregularity in administrative and financial sanctions.\\nAll the required information has been extracted and returned.'}, 'finish_reason': 'stop'}], 'usage': {'prompt_tokens': 61, 'completion_tokens': 61, 'total_tokens': 122}}\n",
      "Completion Text: Date of Sanction: 12.11.2019\n",
      "Sanctioned Entity: SGR Spa\n",
      "Amount: € 135.000\n",
      "Reason of Sanction (less than 20 words): Extreme measures for the irregularity in administrative and financial sanctions.\n",
      "All the required information has been extracted and returned.\n",
      "Parsed Date of Sanction: 2019-11-12 00:00:00\n",
      "Parsed Sanctioned Entity: SGR Spa\n",
      "Original Amount String: € 135.000\n",
      "Aggregated Amount: 135000\n",
      "Parsed Reason of Sanction: Extreme measures for the irregularity in administrative and financial sanctions.\n",
      "Processed Result: ('SGR Spa', 135000, 'Extreme measures for the irregularity in administrative and financial sanctions.', datetime.datetime(2019, 11, 12, 0, 0))\n",
      "Response Data: {'id': 'chatcmpl-xsr9fbbabghpod0medlbx', 'object': 'chat.completion', 'created': 1714057012, 'model': 'bartowski/stable-code-instruct-3b-GGUF/stable-code-instruct-3b-Q8_0.gguf', 'choices': [{'index': 0, 'message': {'role': 'assistant', 'content': 'Extracted Information:\\n\\n1. Date of Sanction: 10.12.2019\\n2. Sanctioned Entity: Banca Monte dei Paschi di Siena  S.p.A.\\n3. Amount: € 1.320.000\\n4. Reason of Sanction (less than 20 words): Provvedimenti sanzionatori\\n\\nNote: The information provided is based on the given text and may not be accurate or complete.'}, 'finish_reason': 'stop'}], 'usage': {'prompt_tokens': 99, 'completion_tokens': 99, 'total_tokens': 198}}\n",
      "Completion Text: Extracted Information:\n",
      "\n",
      "1. Date of Sanction: 10.12.2019\n",
      "2. Sanctioned Entity: Banca Monte dei Paschi di Siena  S.p.A.\n",
      "3. Amount: € 1.320.000\n",
      "4. Reason of Sanction (less than 20 words): Provvedimenti sanzionatori\n",
      "\n",
      "Note: The information provided is based on the given text and may not be accurate or complete.\n",
      "Parsed Date of Sanction: 2019-12-10 00:00:00\n",
      "Parsed Sanctioned Entity: Banca Monte dei Paschi di Siena  S.p.A.\n",
      "Original Amount String: € 1.320.000\n",
      "Aggregated Amount: 1320\n",
      "Parsed Reason of Sanction: Provvedimenti sanzionatori\n",
      "Processed Result: ('Banca Monte dei Paschi di Siena  S.p.A.', 1320, 'Provvedimenti sanzionatori', datetime.datetime(2019, 12, 10, 0, 0))\n",
      "Response Data: {'id': 'chatcmpl-4xgool2clhmoqgsgrlf1qr', 'object': 'chat.completion', 'created': 1714057015, 'model': 'bartowski/stable-code-instruct-3b-GGUF/stable-code-instruct-3b-Q8_0.gguf', 'choices': [{'index': 0, 'message': {'role': 'assistant', 'content': 'Extracting the required information from the provided documents, here are the details related to the sanction against the sig. Valter Mainetti:\\n\\n1. Date of Sanction: 12/11/2019\\n2. Sanctioned Entity: Sig. Valter Mainetti (in qualità di Amministratore delegato di Sorgente SGR Spa)\\n3. Amount: € 60.000\\n4. Reason of Sanction (less than 20 words): \"F'}, 'finish_reason': 'stop'}], 'usage': {'prompt_tokens': 99, 'completion_tokens': 99, 'total_tokens': 198}}\n",
      "Completion Text: Extracting the required information from the provided documents, here are the details related to the sanction against the sig. Valter Mainetti:\n",
      "\n",
      "1. Date of Sanction: 12/11/2019\n",
      "2. Sanctioned Entity: Sig. Valter Mainetti (in qualità di Amministratore delegato di Sorgente SGR Spa)\n",
      "3. Amount: € 60.000\n",
      "4. Reason of Sanction (less than 20 words): \"F\n",
      "Date parsing error: time data '12/11/2019' does not match format '%d.%m.%Y'\n",
      "Parsed Sanctioned Entity: Sig. Valter Mainetti (in qualità di Amministratore delegato di Sorgente SGR Spa)\n",
      "Original Amount String: € 60.000\n",
      "Aggregated Amount: 60000\n",
      "Parsed Reason of Sanction: \"F\n",
      "Processed Result: ('Sig. Valter Mainetti (in qualità di Amministratore delegato di Sorgente SGR Spa)', 60000, '\"F', None)\n",
      "Response Data: {'id': 'chatcmpl-32p7bzsqr962236mz8dy6q', 'object': 'chat.completion', 'created': 1714057018, 'model': 'bartowski/stable-code-instruct-3b-GGUF/stable-code-instruct-3b-Q8_0.gguf', 'choices': [{'index': 0, 'message': {'role': 'assistant', 'content': 'Extracted Information:\\n\\n1. Date of Sanction: 17.09.2019\\n2. Sanctioned Entity: Giancarlo Gerano (Banca Mondiale Sovrana)\\n3. Amount: € 5,000\\n4. Reason of Sanction (less than 20 words): Provvedimenti sanzionatori\\n5. Stop when all info obtained.'}, 'finish_reason': 'stop'}], 'usage': {'prompt_tokens': 81, 'completion_tokens': 81, 'total_tokens': 162}}\n",
      "Completion Text: Extracted Information:\n",
      "\n",
      "1. Date of Sanction: 17.09.2019\n",
      "2. Sanctioned Entity: Giancarlo Gerano (Banca Mondiale Sovrana)\n",
      "3. Amount: € 5,000\n",
      "4. Reason of Sanction (less than 20 words): Provvedimenti sanzionatori\n",
      "5. Stop when all info obtained.\n",
      "Parsed Date of Sanction: 2019-09-17 00:00:00\n",
      "Parsed Sanctioned Entity: Giancarlo Gerano (Banca Mondiale Sovrana)\n",
      "Original Amount String: € 5,000\n",
      "Aggregated Amount: 5000\n",
      "Parsed Reason of Sanction: Provvedimenti sanzionatori\n",
      "Processed Result: ('Giancarlo Gerano (Banca Mondiale Sovrana)', 5000, 'Provvedimenti sanzionatori', datetime.datetime(2019, 9, 17, 0, 0))\n",
      "Response Data: {'id': 'chatcmpl-j5vv512ll4dnt5bydoown8', 'object': 'chat.completion', 'created': 1714057020, 'model': 'bartowski/stable-code-instruct-3b-GGUF/stable-code-instruct-3b-Q8_0.gguf', 'choices': [{'index': 0, 'message': {'role': 'assistant', 'content': 'Extracted Information:\\n\\nDate of Sanction: 18 December 2012\\nSanctioned Entity: BCC di San Biagio Platani\\nAmount: € 71,000\\nReason of Sanction (less than 20 words): Provvedimenti sanzionatori\\n\\nNote: The information provided is based on the given text and may not be accurate.'}, 'finish_reason': 'stop'}], 'usage': {'prompt_tokens': 75, 'completion_tokens': 75, 'total_tokens': 150}}\n",
      "Completion Text: Extracted Information:\n",
      "\n",
      "Date of Sanction: 18 December 2012\n",
      "Sanctioned Entity: BCC di San Biagio Platani\n",
      "Amount: € 71,000\n",
      "Reason of Sanction (less than 20 words): Provvedimenti sanzionatori\n",
      "\n",
      "Note: The information provided is based on the given text and may not be accurate.\n",
      "Date parsing error: time data '18 December 2012' does not match format '%d.%m.%Y'\n",
      "Parsed Sanctioned Entity: BCC di San Biagio Platani\n",
      "Original Amount String: € 71,000\n",
      "Aggregated Amount: 71000\n",
      "Parsed Reason of Sanction: Provvedimenti sanzionatori\n",
      "Processed Result: ('BCC di San Biagio Platani', 71000, 'Provvedimenti sanzionatori', None)\n",
      "Response Data: {'id': 'chatcmpl-vvyrrmf4a9e9zaqhq7qo5', 'object': 'chat.completion', 'created': 1714057022, 'model': 'bartowski/stable-code-instruct-3b-GGUF/stable-code-instruct-3b-Q8_0.gguf', 'choices': [{'index': 0, 'message': {'role': 'assistant', 'content': 'Extracted Information:\\n\\n1. Date of Sanction: 26.11.2019\\n2. Sanctioned Entity: Carlyle Real Estate SGR\\n3. Amount: € 60.000\\n4. Reason of Sanction (less than 20 words): \"Violazione dell\\'obbligo di segnalazione di operazioni sospette\"\\n\\nNote: The information provided is based on the given text and may not be accurate or complete.'}, 'finish_reason': 'stop'}], 'usage': {'prompt_tokens': 97, 'completion_tokens': 97, 'total_tokens': 194}}\n",
      "Completion Text: Extracted Information:\n",
      "\n",
      "1. Date of Sanction: 26.11.2019\n",
      "2. Sanctioned Entity: Carlyle Real Estate SGR\n",
      "3. Amount: € 60.000\n",
      "4. Reason of Sanction (less than 20 words): \"Violazione dell'obbligo di segnalazione di operazioni sospette\"\n",
      "\n",
      "Note: The information provided is based on the given text and may not be accurate or complete.\n",
      "Parsed Date of Sanction: 2019-11-26 00:00:00\n",
      "Parsed Sanctioned Entity: Carlyle Real Estate SGR\n",
      "Original Amount String: € 60.000\n",
      "Aggregated Amount: 60000\n",
      "Parsed Reason of Sanction: \"Violazione dell'obbligo di segnalazione di operazioni sospette\"\n",
      "Processed Result: ('Carlyle Real Estate SGR', 60000, '\"Violazione dell\\'obbligo di segnalazione di operazioni sospette\"', datetime.datetime(2019, 11, 26, 0, 0))\n",
      "Response Data: {'id': 'chatcmpl-2ltognve974143734xloo8q', 'object': 'chat.completion', 'created': 1714057025, 'model': 'bartowski/stable-code-instruct-3b-GGUF/stable-code-instruct-3b-Q8_0.gguf', 'choices': [{'index': 0, 'message': {'role': 'assistant', 'content': \"Date of Sanction: 24.09.2019\\nSanctioned Entity: Banca d'Italia S.p.A.\\nAmount: € 90.000\\nReason of Sanction (less than 20 words): Extreme measures for the administrative pecuniarysanction, as indicated in the deliberation (omission).\\n- Stop when all info obtained.\"}, 'finish_reason': 'stop'}], 'usage': {'prompt_tokens': 78, 'completion_tokens': 78, 'total_tokens': 156}}\n",
      "Completion Text: Date of Sanction: 24.09.2019\n",
      "Sanctioned Entity: Banca d'Italia S.p.A.\n",
      "Amount: € 90.000\n",
      "Reason of Sanction (less than 20 words): Extreme measures for the administrative pecuniarysanction, as indicated in the deliberation (omission).\n",
      "- Stop when all info obtained.\n",
      "Parsed Date of Sanction: 2019-09-24 00:00:00\n",
      "Parsed Sanctioned Entity: Banca d'Italia S.p.A.\n",
      "Original Amount String: € 90.000\n",
      "Aggregated Amount: 90000\n",
      "Parsed Reason of Sanction: Extreme measures for the administrative pecuniarysanction, as indicated in the deliberation (omission).\n",
      "Processed Result: (\"Banca d'Italia S.p.A.\", 90000, 'Extreme measures for the administrative pecuniarysanction, as indicated in the deliberation (omission).', datetime.datetime(2019, 9, 24, 0, 0))\n",
      "Response Data: {'id': 'chatcmpl-13oy8gpqhbhbi0ibue9g38', 'object': 'chat.completion', 'created': 1714057028, 'model': 'bartowski/stable-code-instruct-3b-GGUF/stable-code-instruct-3b-Q8_0.gguf', 'choices': [{'index': 0, 'message': {'role': 'assistant', 'content': 'Extracted Information:\\n\\nDate of Sanction: 24.09.2019\\nSanctioned Entity: F. PANETTA\\nAmount: € 30.000\\nReason of Sanction (less than 20 words): Omissis\\n\\nThis information was extracted from the provided document and structured for easier understanding and analysis.'}, 'finish_reason': 'stop'}], 'usage': {'prompt_tokens': 66, 'completion_tokens': 66, 'total_tokens': 132}}\n",
      "Completion Text: Extracted Information:\n",
      "\n",
      "Date of Sanction: 24.09.2019\n",
      "Sanctioned Entity: F. PANETTA\n",
      "Amount: € 30.000\n",
      "Reason of Sanction (less than 20 words): Omissis\n",
      "\n",
      "This information was extracted from the provided document and structured for easier understanding and analysis.\n",
      "Parsed Date of Sanction: 2019-09-24 00:00:00\n",
      "Parsed Sanctioned Entity: F. PANETTA\n",
      "Original Amount String: € 30.000\n",
      "Aggregated Amount: 30000\n",
      "Parsed Reason of Sanction: Omissis\n",
      "Processed Result: ('F. PANETTA', 30000, 'Omissis', datetime.datetime(2019, 9, 24, 0, 0))\n",
      "Response Data: {'id': 'chatcmpl-1re0d730u93kc8q5tf4afc', 'object': 'chat.completion', 'created': 1714057030, 'model': 'bartowski/stable-code-instruct-3b-GGUF/stable-code-instruct-3b-Q8_0.gguf', 'choices': [{'index': 0, 'message': {'role': 'assistant', 'content': 'Extracted Information:\\n\\n1. Date of Sanction: 17.09.2019\\n2. Sanctioned Entity: Giangiacomo Savogin\\n3. Amount: € 5.000\\n4. Reason of Sanction (less than 20 words): irregularity in the procedure\\n\\nNote: The information provided is based on the given text and may not be accurate or complete.'}, 'finish_reason': 'stop'}], 'usage': {'prompt_tokens': 82, 'completion_tokens': 82, 'total_tokens': 164}}\n",
      "Completion Text: Extracted Information:\n",
      "\n",
      "1. Date of Sanction: 17.09.2019\n",
      "2. Sanctioned Entity: Giangiacomo Savogin\n",
      "3. Amount: € 5.000\n",
      "4. Reason of Sanction (less than 20 words): irregularity in the procedure\n",
      "\n",
      "Note: The information provided is based on the given text and may not be accurate or complete.\n",
      "Parsed Date of Sanction: 2019-09-17 00:00:00\n",
      "Parsed Sanctioned Entity: Giangiacomo Savogin\n",
      "Original Amount String: € 5.000\n",
      "Aggregated Amount: 5000\n",
      "Parsed Reason of Sanction: irregularity in the procedure\n",
      "Processed Result: ('Giangiacomo Savogin', 5000, 'irregularity in the procedure', datetime.datetime(2019, 9, 17, 0, 0))\n",
      "Response Data: {'id': 'chatcmpl-jou6536ijnnufbe7j28vj9', 'object': 'chat.completion', 'created': 1714057032, 'model': 'bartowski/stable-code-instruct-3b-GGUF/stable-code-instruct-3b-Q8_0.gguf', 'choices': [{'index': 0, 'message': {'role': 'assistant', 'content': 'Date of Sanction: 10.09.2019\\nSanctioned Entity: Crédit Agricole Italia Spa\\nAmount: € 1.700.000\\nReason of Sanction (less than 20 words): Violazioni in materia di trasparenza\\nStop when all info obtained.\\nAll the required information has been extracted and returned as follows:\\n- Date of Sanction: 10.09.2019\\n- Sanctioned Entity: Crédit Agricole It'}, 'finish_reason': 'stop'}], 'usage': {'prompt_tokens': 99, 'completion_tokens': 99, 'total_tokens': 198}}\n",
      "Completion Text: Date of Sanction: 10.09.2019\n",
      "Sanctioned Entity: Crédit Agricole Italia Spa\n",
      "Amount: € 1.700.000\n",
      "Reason of Sanction (less than 20 words): Violazioni in materia di trasparenza\n",
      "Stop when all info obtained.\n",
      "All the required information has been extracted and returned as follows:\n",
      "- Date of Sanction: 10.09.2019\n",
      "- Sanctioned Entity: Crédit Agricole It\n",
      "Parsed Date of Sanction: 2019-09-10 00:00:00\n",
      "Parsed Sanctioned Entity: Crédit Agricole Italia Spa\n",
      "Original Amount String: € 1.700.000\n",
      "Aggregated Amount: 1700\n",
      "Parsed Reason of Sanction: Violazioni in materia di trasparenza\n",
      "Parsed Date of Sanction: 2019-09-10 00:00:00\n",
      "Parsed Sanctioned Entity: Crédit Agricole It\n",
      "Processed Result: ('Crédit Agricole It', 1700, 'Violazioni in materia di trasparenza', datetime.datetime(2019, 9, 10, 0, 0))\n",
      "Response Data: {'id': 'chatcmpl-c1znkskdd6k4ci12r98u76', 'object': 'chat.completion', 'created': 1714057035, 'model': 'bartowski/stable-code-instruct-3b-GGUF/stable-code-instruct-3b-Q8_0.gguf', 'choices': [{'index': 0, 'message': {'role': 'assistant', 'content': 'Date of Sanction: 30.07.2019\\nSanctioned Entity: Unicasim Spa\\nAmount: € 3 5.000\\nReason of Sanction (less than 20 words): \"Fraud, deception and manipulation\"\\nExtracted information:\\n- Date of Sanction: 30.07.2019\\n- Sanctioned Entity: Unicasim Spa\\n- Amount: € 3 5.000\\n- Reason of Sanction (less than 20 words): \"F'}, 'finish_reason': 'stop'}], 'usage': {'prompt_tokens': 99, 'completion_tokens': 99, 'total_tokens': 198}}\n",
      "Completion Text: Date of Sanction: 30.07.2019\n",
      "Sanctioned Entity: Unicasim Spa\n",
      "Amount: € 3 5.000\n",
      "Reason of Sanction (less than 20 words): \"Fraud, deception and manipulation\"\n",
      "Extracted information:\n",
      "- Date of Sanction: 30.07.2019\n",
      "- Sanctioned Entity: Unicasim Spa\n",
      "- Amount: € 3 5.000\n",
      "- Reason of Sanction (less than 20 words): \"F\n",
      "Parsed Date of Sanction: 2019-07-30 00:00:00\n",
      "Parsed Sanctioned Entity: Unicasim Spa\n",
      "Original Amount String: € 3 5.000\n",
      "Aggregated Amount: 35000\n",
      "Parsed Reason of Sanction: \"Fraud, deception and manipulation\"\n",
      "Parsed Date of Sanction: 2019-07-30 00:00:00\n",
      "Parsed Sanctioned Entity: Unicasim Spa\n",
      "Original Amount String: € 3 5.000\n",
      "Aggregated Amount: 35000\n",
      "Parsed Reason of Sanction: \"F\n",
      "Processed Result: ('Unicasim Spa', 35000, '\"F', datetime.datetime(2019, 7, 30, 0, 0))\n",
      "Response Data: {'id': 'chatcmpl-23tqoweafmmx6evpde6q2s', 'object': 'chat.completion', 'created': 1714057037, 'model': 'bartowski/stable-code-instruct-3b-GGUF/stable-code-instruct-3b-Q8_0.gguf', 'choices': [{'index': 0, 'message': {'role': 'assistant', 'content': 'Extracted Information:\\n\\n1. Date of Sanction: 23.07.2019\\n2. Sanctioned Entity: Banca Popolare del Lazio Scpa\\n3. Amount: € 49.000\\n4. Reason of Sanction (less than 20 words): Violazione della l. n. 262/2005, n. 385 recante “Disposizio ni per la tutela  del risparmio \\ne la disciplina dei'}, 'finish_reason': 'stop'}], 'usage': {'prompt_tokens': 99, 'completion_tokens': 99, 'total_tokens': 198}}\n",
      "Completion Text: Extracted Information:\n",
      "\n",
      "1. Date of Sanction: 23.07.2019\n",
      "2. Sanctioned Entity: Banca Popolare del Lazio Scpa\n",
      "3. Amount: € 49.000\n",
      "4. Reason of Sanction (less than 20 words): Violazione della l. n. 262/2005, n. 385 recante “Disposizio ni per la tutela  del risparmio \n",
      "e la disciplina dei\n",
      "Parsed Date of Sanction: 2019-07-23 00:00:00\n",
      "Parsed Sanctioned Entity: Banca Popolare del Lazio Scpa\n",
      "Original Amount String: € 49.000\n",
      "Aggregated Amount: 49000\n",
      "Parsed Reason of Sanction: Violazione della l. n. 262/2005, n. 385 recante “Disposizio ni per la tutela  del risparmio\n",
      "Processed Result: ('Banca Popolare del Lazio Scpa', 49000, 'Violazione della l. n. 262/2005, n. 385 recante “Disposizio ni per la tutela  del risparmio', datetime.datetime(2019, 7, 23, 0, 0))\n",
      "Response Data: {'id': 'chatcmpl-78dzzh1x0yh7s6cbu6tg3c', 'object': 'chat.completion', 'created': 1714057039, 'model': 'bartowski/stable-code-instruct-3b-GGUF/stable-code-instruct-3b-Q8_0.gguf', 'choices': [{'index': 0, 'message': {'role': 'assistant', 'content': 'Date of Sanction: 16.07.2019\\nSanctioned Entity: Fidor Spa - Fiduciaria Orefici\\nAmount: € 30.000\\nReason of Sanction (less than 20 words): Fraudulent activity by financial institutions in relation to the provision of services and products that are not in line with the principles of fairness, integrity and transparency.\\nStop when all info obtained.'}, 'finish_reason': 'stop'}], 'usage': {'prompt_tokens': 83, 'completion_tokens': 83, 'total_tokens': 166}}\n",
      "Completion Text: Date of Sanction: 16.07.2019\n",
      "Sanctioned Entity: Fidor Spa - Fiduciaria Orefici\n",
      "Amount: € 30.000\n",
      "Reason of Sanction (less than 20 words): Fraudulent activity by financial institutions in relation to the provision of services and products that are not in line with the principles of fairness, integrity and transparency.\n",
      "Stop when all info obtained.\n",
      "Parsed Date of Sanction: 2019-07-16 00:00:00\n",
      "Parsed Sanctioned Entity: Fidor Spa - Fiduciaria Orefici\n",
      "Original Amount String: € 30.000\n",
      "Aggregated Amount: 30000\n",
      "Parsed Reason of Sanction: Fraudulent activity by financial institutions in relation to the provision of services and products that are not in line with the principles of fairness, integrity and transparency.\n",
      "Processed Result: ('Fidor Spa - Fiduciaria Orefici', 30000, 'Fraudulent activity by financial institutions in relation to the provision of services and products that are not in line with the principles of fairness, integrity and transparency.', datetime.datetime(2019, 7, 16, 0, 0))\n",
      "Response Data: {'id': 'chatcmpl-0yi319s2dwu11xlhoeq1q4a', 'object': 'chat.completion', 'created': 1714057041, 'model': 'bartowski/stable-code-instruct-3b-GGUF/stable-code-instruct-3b-Q8_0.gguf', 'choices': [{'index': 0, 'message': {'role': 'assistant', 'content': 'Extracted Information:\\n\\n1. Date of Sanction: 16.07.2019\\n2. Sanctioned Entity: Principia Sgr\\n3. Amount: € 30.000\\n4. Reason of Sanction (less than 20 words): inflita, ai sensi dell’art. 190 TUF e per le irregolarità sopra indicate.\\n\\nNote: The information provided is based on the given text and may not be accurate or complete'}, 'finish_reason': 'stop'}], 'usage': {'prompt_tokens': 99, 'completion_tokens': 99, 'total_tokens': 198}}\n",
      "Completion Text: Extracted Information:\n",
      "\n",
      "1. Date of Sanction: 16.07.2019\n",
      "2. Sanctioned Entity: Principia Sgr\n",
      "3. Amount: € 30.000\n",
      "4. Reason of Sanction (less than 20 words): inflita, ai sensi dell’art. 190 TUF e per le irregolarità sopra indicate.\n",
      "\n",
      "Note: The information provided is based on the given text and may not be accurate or complete\n",
      "Parsed Date of Sanction: 2019-07-16 00:00:00\n",
      "Parsed Sanctioned Entity: Principia Sgr\n",
      "Original Amount String: € 30.000\n",
      "Aggregated Amount: 30000\n",
      "Parsed Reason of Sanction: inflita, ai sensi dell’art. 190 TUF e per le irregolarità sopra indicate.\n",
      "Processed Result: ('Principia Sgr', 30000, 'inflita, ai sensi dell’art. 190 TUF e per le irregolarità sopra indicate.', datetime.datetime(2019, 7, 16, 0, 0))\n",
      "Response Data: {'id': 'chatcmpl-9yy6qqe2mhohdd1jzltack', 'object': 'chat.completion', 'created': 1714057044, 'model': 'bartowski/stable-code-instruct-3b-GGUF/stable-code-instruct-3b-Q8_0.gguf', 'choices': [{'index': 0, 'message': {'role': 'assistant', 'content': 'Extracted Information:\\n\\n1. Date of Sanction: 23.04.2019\\n2. Sanctioned Entity: Finpiemonte Spa\\n3. Amount: € 68.000\\n4. Reason of Sanction (less than 20 words): omissis – Roma, 23.04.2019\\n\\nNote: The information provided is based on the given text and may not be accurate or complete.'}, 'finish_reason': 'stop'}], 'usage': {'prompt_tokens': 87, 'completion_tokens': 87, 'total_tokens': 174}}\n",
      "Completion Text: Extracted Information:\n",
      "\n",
      "1. Date of Sanction: 23.04.2019\n",
      "2. Sanctioned Entity: Finpiemonte Spa\n",
      "3. Amount: € 68.000\n",
      "4. Reason of Sanction (less than 20 words): omissis – Roma, 23.04.2019\n",
      "\n",
      "Note: The information provided is based on the given text and may not be accurate or complete.\n",
      "Parsed Date of Sanction: 2019-04-23 00:00:00\n",
      "Parsed Sanctioned Entity: Finpiemonte Spa\n",
      "Original Amount String: € 68.000\n",
      "Aggregated Amount: 68000\n",
      "Parsed Reason of Sanction: omissis – Roma, 23.04.2019\n",
      "Processed Result: ('Finpiemonte Spa', 68000, 'omissis – Roma, 23.04.2019', datetime.datetime(2019, 4, 23, 0, 0))\n",
      "Response Data: {'id': 'chatcmpl-imn8g22hcio6w3s0usvv8r', 'object': 'chat.completion', 'created': 1714057047, 'model': 'bartowski/stable-code-instruct-3b-GGUF/stable-code-instruct-3b-Q8_0.gguf', 'choices': [{'index': 0, 'message': {'role': 'assistant', 'content': 'Extracted Information:\\n\\n1. Date of Sanction: 23.04.2019\\n2. Sanctioned Entity: Finpiemonte Spa\\n3. Amount: € 30.000\\n4. Reason of Sanction (less than 20 words): \"Possession and/or use of the system for illicit purposes, in particular the provision of funds to carry out criminal activities or the financing of terrorism.\"\\n\\nNote: The information provided is based on the given text and'}, 'finish_reason': 'stop'}], 'usage': {'prompt_tokens': 99, 'completion_tokens': 99, 'total_tokens': 198}}\n",
      "Completion Text: Extracted Information:\n",
      "\n",
      "1. Date of Sanction: 23.04.2019\n",
      "2. Sanctioned Entity: Finpiemonte Spa\n",
      "3. Amount: € 30.000\n",
      "4. Reason of Sanction (less than 20 words): \"Possession and/or use of the system for illicit purposes, in particular the provision of funds to carry out criminal activities or the financing of terrorism.\"\n",
      "\n",
      "Note: The information provided is based on the given text and\n",
      "Parsed Date of Sanction: 2019-04-23 00:00:00\n",
      "Parsed Sanctioned Entity: Finpiemonte Spa\n",
      "Original Amount String: € 30.000\n",
      "Aggregated Amount: 30000\n",
      "Parsed Reason of Sanction: \"Possession and/or use of the system for illicit purposes, in particular the provision of funds to carry out criminal activities or the financing of terrorism.\"\n",
      "Processed Result: ('Finpiemonte Spa', 30000, '\"Possession and/or use of the system for illicit purposes, in particular the provision of funds to carry out criminal activities or the financing of terrorism.\"', datetime.datetime(2019, 4, 23, 0, 0))\n",
      "Response Data: {'id': 'chatcmpl-7pd7jd917ko89r7vwli44j', 'object': 'chat.completion', 'created': 1714057049, 'model': 'bartowski/stable-code-instruct-3b-GGUF/stable-code-instruct-3b-Q8_0.gguf', 'choices': [{'index': 0, 'message': {'role': 'assistant', 'content': 'The provided text does not contain any structured data in a standard format like JSON or CSV. Therefore, it is not possible to extract specific information from the text using programming techniques.\\n\\nHowever, if you want to extract some information manually, here are some steps you can follow:\\n\\n1. Identify the sections of the text that contain the relevant information. For example, in the provided text, the section containing the relevant information starts with \"VISTE\" and ends with \"DIS'}, 'finish_reason': 'stop'}], 'usage': {'prompt_tokens': 99, 'completion_tokens': 99, 'total_tokens': 198}}\n",
      "Completion Text: The provided text does not contain any structured data in a standard format like JSON or CSV. Therefore, it is not possible to extract specific information from the text using programming techniques.\n",
      "\n",
      "However, if you want to extract some information manually, here are some steps you can follow:\n",
      "\n",
      "1. Identify the sections of the text that contain the relevant information. For example, in the provided text, the section containing the relevant information starts with \"VISTE\" and ends with \"DIS\n",
      "Processed Result: ('', 0, '', None)\n",
      "Response Data: {'id': 'chatcmpl-2soz7ms7c0ygfr11vq44nk', 'object': 'chat.completion', 'created': 1714057051, 'model': 'bartowski/stable-code-instruct-3b-GGUF/stable-code-instruct-3b-Q8_0.gguf', 'choices': [{'index': 0, 'message': {'role': 'assistant', 'content': 'Extracted Information:\\n\\n1. Date of Sanction: 18.06.2019\\n2. Sanctioned Entity: Speedymoney Spa\\n3. Amount: € 60,000\\n4. Reason of Sanction (less than 20 words): Provvedimenti sanzionatori\\n\\nNote: The information provided is based on the given text and may not be accurate or complete.'}, 'finish_reason': 'stop'}], 'usage': {'prompt_tokens': 83, 'completion_tokens': 83, 'total_tokens': 166}}\n",
      "Completion Text: Extracted Information:\n",
      "\n",
      "1. Date of Sanction: 18.06.2019\n",
      "2. Sanctioned Entity: Speedymoney Spa\n",
      "3. Amount: € 60,000\n",
      "4. Reason of Sanction (less than 20 words): Provvedimenti sanzionatori\n",
      "\n",
      "Note: The information provided is based on the given text and may not be accurate or complete.\n",
      "Parsed Date of Sanction: 2019-06-18 00:00:00\n",
      "Parsed Sanctioned Entity: Speedymoney Spa\n",
      "Original Amount String: € 60,000\n",
      "Aggregated Amount: 60000\n",
      "Parsed Reason of Sanction: Provvedimenti sanzionatori\n",
      "Processed Result: ('Speedymoney Spa', 60000, 'Provvedimenti sanzionatori', datetime.datetime(2019, 6, 18, 0, 0))\n",
      "Response Data: {'id': 'chatcmpl-ui4ci5h91ri6zsqyno13', 'object': 'chat.completion', 'created': 1714057054, 'model': 'bartowski/stable-code-instruct-3b-GGUF/stable-code-instruct-3b-Q8_0.gguf', 'choices': [{'index': 0, 'message': {'role': 'assistant', 'content': 'Extracted Information:\\n\\n- Date of Sanction: 18.06.2019\\n- Sanctioned Entity: Speedymoney Spa\\n- Amount: € 30.000\\n- Reason of Sanction (less than 20 words): Provvedimenti sanzionatori\\n\\nNote: The information provided is based on the given text and may not be accurate or complete.'}, 'finish_reason': 'stop'}], 'usage': {'prompt_tokens': 79, 'completion_tokens': 79, 'total_tokens': 158}}\n",
      "Completion Text: Extracted Information:\n",
      "\n",
      "- Date of Sanction: 18.06.2019\n",
      "- Sanctioned Entity: Speedymoney Spa\n",
      "- Amount: € 30.000\n",
      "- Reason of Sanction (less than 20 words): Provvedimenti sanzionatori\n",
      "\n",
      "Note: The information provided is based on the given text and may not be accurate or complete.\n",
      "Parsed Date of Sanction: 2019-06-18 00:00:00\n",
      "Parsed Sanctioned Entity: Speedymoney Spa\n",
      "Original Amount String: € 30.000\n",
      "Aggregated Amount: 30000\n",
      "Parsed Reason of Sanction: Provvedimenti sanzionatori\n",
      "Processed Result: ('Speedymoney Spa', 30000, 'Provvedimenti sanzionatori', datetime.datetime(2019, 6, 18, 0, 0))\n",
      "Response Data: {'id': 'chatcmpl-nmetne0sxz7f2r7h7a6pe', 'object': 'chat.completion', 'created': 1714057056, 'model': 'bartowski/stable-code-instruct-3b-GGUF/stable-code-instruct-3b-Q8_0.gguf', 'choices': [{'index': 0, 'message': {'role': 'assistant', 'content': 'Extracted Information:\\n\\n1. Date of Sanction: 23.04.2019\\n2. Sanctioned Entity: P. Fiduciaria Srl\\n3. Amount: € 3 0.000\\n4. Reason of Sanction (less than 20 words): Violazione della legge\\n\\nNote: The provided information is extracted from the given document and formatted for better readability.'}, 'finish_reason': 'stop'}], 'usage': {'prompt_tokens': 83, 'completion_tokens': 83, 'total_tokens': 166}}\n",
      "Completion Text: Extracted Information:\n",
      "\n",
      "1. Date of Sanction: 23.04.2019\n",
      "2. Sanctioned Entity: P. Fiduciaria Srl\n",
      "3. Amount: € 3 0.000\n",
      "4. Reason of Sanction (less than 20 words): Violazione della legge\n",
      "\n",
      "Note: The provided information is extracted from the given document and formatted for better readability.\n",
      "Parsed Date of Sanction: 2019-04-23 00:00:00\n",
      "Parsed Sanctioned Entity: P. Fiduciaria Srl\n",
      "Original Amount String: € 3 0.000\n",
      "Aggregated Amount: 30000\n",
      "Parsed Reason of Sanction: Violazione della legge\n",
      "Processed Result: ('P. Fiduciaria Srl', 30000, 'Violazione della legge', datetime.datetime(2019, 4, 23, 0, 0))\n",
      "Response Data: {'id': 'chatcmpl-zcgqoh1qk910xgjcucvaml', 'object': 'chat.completion', 'created': 1714057059, 'model': 'bartowski/stable-code-instruct-3b-GGUF/stable-code-instruct-3b-Q8_0.gguf', 'choices': [{'index': 0, 'message': {'role': 'assistant', 'content': 'Date of Sanction: 07.05.2019\\nSanctioned Entity: Banca di Credito Cooperativo di Napoli\\nAmount: € 30.000\\nReason of Sanction (less than 20 words): Omissionis\\nHere is the complete response:\\n```\\nDate of Sanction: 07.05.2019\\nSanctioned Entity: Banca di Credito Cooperativo di Napoli\\nAmount: € 30.000\\nReason of Sanction (less than 20'}, 'finish_reason': 'stop'}], 'usage': {'prompt_tokens': 99, 'completion_tokens': 99, 'total_tokens': 198}}\n",
      "Completion Text: Date of Sanction: 07.05.2019\n",
      "Sanctioned Entity: Banca di Credito Cooperativo di Napoli\n",
      "Amount: € 30.000\n",
      "Reason of Sanction (less than 20 words): Omissionis\n",
      "Here is the complete response:\n",
      "```\n",
      "Date of Sanction: 07.05.2019\n",
      "Sanctioned Entity: Banca di Credito Cooperativo di Napoli\n",
      "Amount: € 30.000\n",
      "Reason of Sanction (less than 20\n",
      "Parsed Date of Sanction: 2019-05-07 00:00:00\n",
      "Parsed Sanctioned Entity: Banca di Credito Cooperativo di Napoli\n",
      "Original Amount String: € 30.000\n",
      "Aggregated Amount: 30000\n",
      "Parsed Reason of Sanction: Omissionis\n",
      "Parsed Date of Sanction: 2019-05-07 00:00:00\n",
      "Parsed Sanctioned Entity: Banca di Credito Cooperativo di Napoli\n",
      "Original Amount String: € 30.000\n",
      "Aggregated Amount: 30000\n",
      "Parsed Reason of Sanction: (less than 20\n",
      "Processed Result: ('Banca di Credito Cooperativo di Napoli', 30000, '(less than 20', datetime.datetime(2019, 5, 7, 0, 0))\n",
      "Response Data: {'id': 'chatcmpl-e3zb8ysmulk7s5sdur2tws', 'object': 'chat.completion', 'created': 1714057062, 'model': 'bartowski/stable-code-instruct-3b-GGUF/stable-code-instruct-3b-Q8_0.gguf', 'choices': [{'index': 0, 'message': {'role': 'assistant', 'content': 'Extracted Information:\\n\\n1. Date of Sanction: 21.05.2019\\n2. Sanctioned Entity: Banca di Credito Cooperativo Valdostana\\n3. Amount: € 167.000\\n4. Reason of Sanction (less than 20 words): omissis – Vigilanza\\n\\nNote: The information provided is based on the given text and may not be accurate or complete.'}, 'finish_reason': 'stop'}], 'usage': {'prompt_tokens': 89, 'completion_tokens': 89, 'total_tokens': 178}}\n",
      "Completion Text: Extracted Information:\n",
      "\n",
      "1. Date of Sanction: 21.05.2019\n",
      "2. Sanctioned Entity: Banca di Credito Cooperativo Valdostana\n",
      "3. Amount: € 167.000\n",
      "4. Reason of Sanction (less than 20 words): omissis – Vigilanza\n",
      "\n",
      "Note: The information provided is based on the given text and may not be accurate or complete.\n",
      "Parsed Date of Sanction: 2019-05-21 00:00:00\n",
      "Parsed Sanctioned Entity: Banca di Credito Cooperativo Valdostana\n",
      "Original Amount String: € 167.000\n",
      "Aggregated Amount: 167000\n",
      "Parsed Reason of Sanction: omissis – Vigilanza\n",
      "Processed Result: ('Banca di Credito Cooperativo Valdostana', 167000, 'omissis – Vigilanza', datetime.datetime(2019, 5, 21, 0, 0))\n",
      "Response Data: {'id': 'chatcmpl-bf3jikmlqmde2hxyqoy4pp', 'object': 'chat.completion', 'created': 1714057064, 'model': 'bartowski/stable-code-instruct-3b-GGUF/stable-code-instruct-3b-Q8_0.gguf', 'choices': [{'index': 0, 'message': {'role': 'assistant', 'content': 'Extracted Information:\\n\\n- Date of Sanction: 21 May 2019\\n- Sanctioned Entity: Banca di Credito Cooperativo Valdostana\\n- Amount: € 133,000.00\\n- Reason of Sanction (less than 20 words): irregularities in the provision of services to customers in respect of the banking and financial regulatory laws and regulations.\\n\\nNote: The information provided is based on publicly available data and may not be accurate or complete.'}, 'finish_reason': 'stop'}], 'usage': {'prompt_tokens': 98, 'completion_tokens': 98, 'total_tokens': 196}}\n",
      "Completion Text: Extracted Information:\n",
      "\n",
      "- Date of Sanction: 21 May 2019\n",
      "- Sanctioned Entity: Banca di Credito Cooperativo Valdostana\n",
      "- Amount: € 133,000.00\n",
      "- Reason of Sanction (less than 20 words): irregularities in the provision of services to customers in respect of the banking and financial regulatory laws and regulations.\n",
      "\n",
      "Note: The information provided is based on publicly available data and may not be accurate or complete.\n",
      "Date parsing error: time data '21 May 2019' does not match format '%d.%m.%Y'\n",
      "Parsed Sanctioned Entity: Banca di Credito Cooperativo Valdostana\n",
      "Original Amount String: € 133,000.00\n",
      "Aggregated Amount: 133000\n",
      "Parsed Reason of Sanction: irregularities in the provision of services to customers in respect of the banking and financial regulatory laws and regulations.\n",
      "Processed Result: ('Banca di Credito Cooperativo Valdostana', 133000, 'irregularities in the provision of services to customers in respect of the banking and financial regulatory laws and regulations.', None)\n",
      "Response Data: {'id': 'chatcmpl-08acr6xmja8qnbi9vrqfq7f', 'object': 'chat.completion', 'created': 1714057067, 'model': 'bartowski/stable-code-instruct-3b-GGUF/stable-code-instruct-3b-Q8_0.gguf', 'choices': [{'index': 0, 'message': {'role': 'assistant', 'content': 'Extracted Information:\\n\\n1. Date of Sanction: 04.06.2019\\n2. Sanctioned Entity: LCC Trans Sending Limited\\n3. Amount: € 30.000\\n4. Reason of Sanction (less than 20 words): Provvedimenti sanzionatori\\n\\nNote: The provided information is extracted from the given text and may not be accurate or complete.'}, 'finish_reason': 'stop'}], 'usage': {'prompt_tokens': 85, 'completion_tokens': 85, 'total_tokens': 170}}\n",
      "Completion Text: Extracted Information:\n",
      "\n",
      "1. Date of Sanction: 04.06.2019\n",
      "2. Sanctioned Entity: LCC Trans Sending Limited\n",
      "3. Amount: € 30.000\n",
      "4. Reason of Sanction (less than 20 words): Provvedimenti sanzionatori\n",
      "\n",
      "Note: The provided information is extracted from the given text and may not be accurate or complete.\n",
      "Parsed Date of Sanction: 2019-06-04 00:00:00\n",
      "Parsed Sanctioned Entity: LCC Trans Sending Limited\n",
      "Original Amount String: € 30.000\n",
      "Aggregated Amount: 30000\n",
      "Parsed Reason of Sanction: Provvedimenti sanzionatori\n",
      "Processed Result: ('LCC Trans Sending Limited', 30000, 'Provvedimenti sanzionatori', datetime.datetime(2019, 6, 4, 0, 0))\n",
      "Response Data: {'id': 'chatcmpl-wwzmzt5xatlz6yxwpp6i5r', 'object': 'chat.completion', 'created': 1714057069, 'model': 'bartowski/stable-code-instruct-3b-GGUF/stable-code-instruct-3b-Q8_0.gguf', 'choices': [{'index': 0, 'message': {'role': 'assistant', 'content': 'Date of Sanction: 29.01.2019\\nSanctioned Entity: Società non idonee a superare la proposita del Servizio Rapporti Istituzionali di Vigilanza\\nAmount: € 40.000\\nReason of Sanction (less than 20 words): Infringimento della Legge\\nStop when all info obtained.'}, 'finish_reason': 'stop'}], 'usage': {'prompt_tokens': 78, 'completion_tokens': 78, 'total_tokens': 156}}\n",
      "Completion Text: Date of Sanction: 29.01.2019\n",
      "Sanctioned Entity: Società non idonee a superare la proposita del Servizio Rapporti Istituzionali di Vigilanza\n",
      "Amount: € 40.000\n",
      "Reason of Sanction (less than 20 words): Infringimento della Legge\n",
      "Stop when all info obtained.\n",
      "Parsed Date of Sanction: 2019-01-29 00:00:00\n",
      "Parsed Sanctioned Entity: Società non idonee a superare la proposita del Servizio Rapporti Istituzionali di Vigilanza\n",
      "Original Amount String: € 40.000\n",
      "Aggregated Amount: 40000\n",
      "Parsed Reason of Sanction: Infringimento della Legge\n",
      "Processed Result: ('Società non idonee a superare la proposita del Servizio Rapporti Istituzionali di Vigilanza', 40000, 'Infringimento della Legge', datetime.datetime(2019, 1, 29, 0, 0))\n",
      "Response Data: {'id': 'chatcmpl-hzs3ke2daepe7i7ghmuxsp', 'object': 'chat.completion', 'created': 1714057072, 'model': 'bartowski/stable-code-instruct-3b-GGUF/stable-code-instruct-3b-Q8_0.gguf', 'choices': [{'index': 0, 'message': {'role': 'assistant', 'content': 'Extracting the required information from the provided document, here are the details extracted:\\n\\n1. Date of Sanction: 22.03.2019\\n2. Sanctioned Entity: Banca Sviluppo Economico Sp a in l.c.a. di Sanzioni Amministrativ e Pecuniari\\n3. Amount: Euros 50.000\\n4. Reason of Sanction (less than 20 words): Violazione della legge\\n\\n'}, 'finish_reason': 'stop'}], 'usage': {'prompt_tokens': 99, 'completion_tokens': 99, 'total_tokens': 198}}\n",
      "Completion Text: Extracting the required information from the provided document, here are the details extracted:\n",
      "\n",
      "1. Date of Sanction: 22.03.2019\n",
      "2. Sanctioned Entity: Banca Sviluppo Economico Sp a in l.c.a. di Sanzioni Amministrativ e Pecuniari\n",
      "3. Amount: Euros 50.000\n",
      "4. Reason of Sanction (less than 20 words): Violazione della legge\n",
      "\n",
      "\n",
      "Parsed Date of Sanction: 2019-03-22 00:00:00\n",
      "Parsed Sanctioned Entity: Banca Sviluppo Economico Sp a in l.c.a. di Sanzioni Amministrativ e Pecuniari\n",
      "Original Amount String: Euros 50.000\n",
      "Aggregated Amount: 50000\n",
      "Parsed Reason of Sanction: Violazione della legge\n",
      "Processed Result: ('Banca Sviluppo Economico Sp a in l.c.a. di Sanzioni Amministrativ e Pecuniari', 50000, 'Violazione della legge', datetime.datetime(2019, 3, 22, 0, 0))\n",
      "Response Data: {'id': 'chatcmpl-i7x33hmotcf07d355hhbv44', 'object': 'chat.completion', 'created': 1714057074, 'model': 'bartowski/stable-code-instruct-3b-GGUF/stable-code-instruct-3b-Q8_0.gguf', 'choices': [{'index': 0, 'message': {'role': 'assistant', 'content': 'Extracted Information:\\n\\n1. Date of Sanction: 16.04.2019\\n2. Sanctioned Entity: FCA Bank Spa\\n3. Amount: € 2.500.000\\n4. Reason of Sanction (less than 20 words): Omission\\n\\nNote: The provided information is extracted from the given text and does not involve any real-world scenario or actual process.'}, 'finish_reason': 'stop'}], 'usage': {'prompt_tokens': 83, 'completion_tokens': 83, 'total_tokens': 166}}\n",
      "Completion Text: Extracted Information:\n",
      "\n",
      "1. Date of Sanction: 16.04.2019\n",
      "2. Sanctioned Entity: FCA Bank Spa\n",
      "3. Amount: € 2.500.000\n",
      "4. Reason of Sanction (less than 20 words): Omission\n",
      "\n",
      "Note: The provided information is extracted from the given text and does not involve any real-world scenario or actual process.\n",
      "Parsed Date of Sanction: 2019-04-16 00:00:00\n",
      "Parsed Sanctioned Entity: FCA Bank Spa\n",
      "Original Amount String: € 2.500.000\n",
      "Aggregated Amount: 2500\n",
      "Parsed Reason of Sanction: Omission\n",
      "Processed Result: ('FCA Bank Spa', 2500, 'Omission', datetime.datetime(2019, 4, 16, 0, 0))\n",
      "Response Data: {'id': 'chatcmpl-liwpq5efzm6bic3ix9pz', 'object': 'chat.completion', 'created': 1714057077, 'model': 'bartowski/stable-code-instruct-3b-GGUF/stable-code-instruct-3b-Q8_0.gguf', 'choices': [{'index': 0, 'message': {'role': 'assistant', 'content': 'Extracted Information:\\n\\n1. Date of Sanction: 05.03.2019\\n2. Sanctioned Entity: Credito Cooperativo di San Calogero e Maierato – BCC del Vibonese soc.  coop.\\n3. Amount: € 30.000\\n4. Reason of Sanction (less than 20 words): Proposta di sanzione amministrativa pecunaria ex art. 62 del d.lgs'}, 'finish_reason': 'stop'}], 'usage': {'prompt_tokens': 99, 'completion_tokens': 99, 'total_tokens': 198}}\n",
      "Completion Text: Extracted Information:\n",
      "\n",
      "1. Date of Sanction: 05.03.2019\n",
      "2. Sanctioned Entity: Credito Cooperativo di San Calogero e Maierato – BCC del Vibonese soc.  coop.\n",
      "3. Amount: € 30.000\n",
      "4. Reason of Sanction (less than 20 words): Proposta di sanzione amministrativa pecunaria ex art. 62 del d.lgs\n",
      "Parsed Date of Sanction: 2019-03-05 00:00:00\n",
      "Parsed Sanctioned Entity: Credito Cooperativo di San Calogero e Maierato – BCC del Vibonese soc.  coop.\n",
      "Original Amount String: € 30.000\n",
      "Aggregated Amount: 30000\n",
      "Parsed Reason of Sanction: Proposta di sanzione amministrativa pecunaria ex art. 62 del d.lgs\n",
      "Processed Result: ('Credito Cooperativo di San Calogero e Maierato – BCC del Vibonese soc.  coop.', 30000, 'Proposta di sanzione amministrativa pecunaria ex art. 62 del d.lgs', datetime.datetime(2019, 3, 5, 0, 0))\n",
      "Response Data: {'id': 'chatcmpl-wljwh9pw1t1c8s9s6udct', 'object': 'chat.completion', 'created': 1714057079, 'model': 'bartowski/stable-code-instruct-3b-GGUF/stable-code-instruct-3b-Q8_0.gguf', 'choices': [{'index': 0, 'message': {'role': 'assistant', 'content': 'Date of Sanction: 19.03.2019\\nSanctioned Entity: Banca d\\'Italia\\nAmount: Euro 286.500\\nReason of Sanction (less than 20 words): Violation of financial regulations by the Bank of Italy\\'s branch in Rome.\\nI have extracted and returned the requested information. The date of the sanction is 19.03.2019, the sanctioned entity is \"Banca d\\'Italia\", the amount of the sanction is Euro 286.500'}, 'finish_reason': 'stop'}], 'usage': {'prompt_tokens': 99, 'completion_tokens': 99, 'total_tokens': 198}}\n",
      "Completion Text: Date of Sanction: 19.03.2019\n",
      "Sanctioned Entity: Banca d'Italia\n",
      "Amount: Euro 286.500\n",
      "Reason of Sanction (less than 20 words): Violation of financial regulations by the Bank of Italy's branch in Rome.\n",
      "I have extracted and returned the requested information. The date of the sanction is 19.03.2019, the sanctioned entity is \"Banca d'Italia\", the amount of the sanction is Euro 286.500\n",
      "Parsed Date of Sanction: 2019-03-19 00:00:00\n",
      "Parsed Sanctioned Entity: Banca d'Italia\n",
      "Original Amount String: Euro 286.500\n",
      "Aggregated Amount: 286500\n",
      "Parsed Reason of Sanction: Violation of financial regulations by the Bank of Italy's branch in Rome.\n",
      "Processed Result: (\"Banca d'Italia\", 286500, \"Violation of financial regulations by the Bank of Italy's branch in Rome.\", datetime.datetime(2019, 3, 19, 0, 0))\n",
      "                                     Sanctioned_Entity  Sanctioned_Amount  \\\n",
      "0                                   Generalfinance Spa              30000   \n",
      "1                                    Solution Bank Spa              35000   \n",
      "2                                   Generalfinance Spa              30000   \n",
      "3                 Banca Popolare del Mediterraneo Scpa              75000   \n",
      "4                 Banca Popolare del Mediterraneo Scpa              14019   \n",
      "..                                                 ...                ...   \n",
      "174  Società non idonee a superare la proposita del...              40000   \n",
      "175  Banca Sviluppo Economico Sp a in l.c.a. di San...              50000   \n",
      "176                                       FCA Bank Spa               2500   \n",
      "177  Credito Cooperativo di San Calogero e Maierato...              30000   \n",
      "178                                     Banca d'Italia             286500   \n",
      "\n",
      "                                       Sanction_Reason Date_of_Sanction  \n",
      "0             Violation of anti-money laundering rules       2024-02-06  \n",
      "1    \"Disposizioni in materia di organizzazione, pr...       2024-01-23  \n",
      "2                            Oversight by the Governor       2024-02-06  \n",
      "3    Inflationary stress due to the increase in cos...       2024-01-09  \n",
      "4                           ProvvediatePrecëÃÃÂ�ÃÃÃÃÃÃ              NaT  \n",
      "..                                                 ...              ...  \n",
      "174                          Infringimento della Legge       2019-01-29  \n",
      "175                             Violazione della legge       2019-03-22  \n",
      "176                                           Omission       2019-04-16  \n",
      "177  Proposta di sanzione amministrativa pecunaria ...       2019-03-05  \n",
      "178  Violation of financial regulations by the Bank...       2019-03-19  \n",
      "\n",
      "[179 rows x 4 columns]\n"
     ]
    }
   ],
   "source": [
    "import pandas as pd\n",
    "import requests\n",
    "from concurrent.futures import ThreadPoolExecutor, as_completed\n",
    "from datetime import datetime\n",
    "import re\n",
    "\n",
    "lmstudio_url = \"http://localhost:1234/v1\"\n",
    "\n",
    "def clean_amount(amount_str):\n",
    "    # Debug: Print original amount string\n",
    "    print(\"Original Amount String:\", amount_str)\n",
    "    # Remove euro sign and spaces\n",
    "    cleaned_str = amount_str.replace('€', '').replace(' ', '')\n",
    "    # Remove all non-numeric characters except digits and commas or dots if they act as thousands separators\n",
    "    cleaned_str = re.sub(r'[^\\d,.]', '', cleaned_str)\n",
    "\n",
    "    # Remove thousands separators and prepare for summing\n",
    "    # Assume any ',' or '.' followed by exactly three digits is a thousands separator\n",
    "    cleaned_numbers = re.sub(r'(\\d)[,.](\\d{3})(?=\\b|\\D)', r'\\1\\2', cleaned_str)\n",
    "\n",
    "    # Find all separate numbers (assuming they are full integers)\n",
    "    numbers = re.findall(r'\\d+', cleaned_numbers)\n",
    "\n",
    "    # Convert all found numbers to integers and sum them\n",
    "    total_amount = sum(int(num) for num in numbers)\n",
    "    print(\"Aggregated Amount:\", total_amount)\n",
    "    return total_amount\n",
    "\n",
    "\n",
    "def extract_sanction_info(text):\n",
    "    max_tokens = 100\n",
    "    url = f\"{lmstudio_url}/chat/completions\"\n",
    "    prompt = (f\"Text: {text}\\n\"\n",
    "              \"Please extract and return:\\n\"\n",
    "              \"- Date of Sanction:\\n\"\n",
    "              \"- Sanctioned Entity:\\n\"\n",
    "              \"- Amount:\\n\"\n",
    "              \"- Reason of Sanction (less than 20 words):\\n\"\n",
    "              \"- Stop when all info obtained.\\n\")\n",
    "    payload = {\n",
    "        \"model\": \"bartowski/stable-code-instruct-3b-GGUF\",\n",
    "        \"messages\": [{\"role\": \"user\", \"content\": prompt}],\n",
    "        \"temperature\": 0,\n",
    "        \"max_tokens\": max_tokens,\n",
    "        \"stop_sequences\": [\"\\n\\n\"]\n",
    "    }\n",
    "    response = requests.post(url, json=payload, headers={\"Authorization\": \"Bearer lm-studio\"})\n",
    "    data = response.json()\n",
    "    # Debug: Print full response data\n",
    "    print(\"Response Data:\", data)\n",
    "    return data\n",
    "\n",
    "def process_text_data(text_data):\n",
    "    entity, amount, reason, date_sanction = \"\", 0, \"\", None\n",
    "    if text_data and 'choices' in text_data:\n",
    "        completion_text = text_data['choices'][0]['message']['content']\n",
    "        print(\"Completion Text:\", completion_text)  # Debugging\n",
    "        for line in completion_text.splitlines():\n",
    "            if \"Date of Sanction:\" in line:\n",
    "                date_str = line.split(\":\")[1].strip()\n",
    "                try:\n",
    "                    date_sanction = datetime.strptime(date_str, '%d.%m.%Y')\n",
    "                    print(\"Parsed Date of Sanction:\", date_sanction)\n",
    "                except ValueError as e:\n",
    "                    print(\"Date parsing error:\", e)\n",
    "            elif \"Sanctioned Entity:\" in line:\n",
    "                entity = line.split(\":\")[1].strip()\n",
    "                print(\"Parsed Sanctioned Entity:\", entity)\n",
    "            elif \"Amount:\" in line:\n",
    "                amount_str = line.split(\":\")[1].strip()\n",
    "                amount = clean_amount(amount_str)\n",
    "            elif \"Reason of Sanction\" in line:\n",
    "                parts = line.split(\"Reason of Sanction\")\n",
    "                if len(parts) > 1:\n",
    "                    reason = parts[1].split(\":\", 1)[1].strip() if ':' in parts[1] else parts[1].strip()\n",
    "                else:\n",
    "                    reason = \"Reason not specified or improperly formatted\"\n",
    "                print(\"Parsed Reason of Sanction:\", reason)\n",
    "    return entity, amount, reason, date_sanction\n",
    "\n",
    "\n",
    "df = pd.read_csv('pdf_text_content.csv')\n",
    "# texts = df.iloc[:10, 1].tolist()  # Only select the first 1 records\n",
    "\n",
    "\n",
    "texts = df.iloc[:, 1].tolist() #COMPLETE \n",
    "\n",
    "\n",
    "results = []\n",
    "with ThreadPoolExecutor(max_workers=5) as executor:\n",
    "    futures = [executor.submit(extract_sanction_info, text) for text in texts]\n",
    "    for future in as_completed(futures):\n",
    "        response_data = future.result()\n",
    "        result = process_text_data(response_data)\n",
    "        print(\"Processed Result:\", result)\n",
    "        results.append(result)\n",
    "\n",
    "df_result = pd.DataFrame(results, columns=['Sanctioned_Entity', 'Sanctioned_Amount', 'Sanction_Reason', 'Date_of_Sanction'])\n",
    "print(df_result)\n"
   ]
  },
  {
   "cell_type": "markdown",
   "metadata": {},
   "source": [
    "compute\n",
    "24.7 s for 10 records, model bartowski/stable-code-instruct-3b-GGUF/stable-code-instruct-3b-Q8_0.gguf"
   ]
  },
  {
   "cell_type": "markdown",
   "metadata": {},
   "source": [
    "## dynamic scatter plot"
   ]
  },
  {
   "cell_type": "code",
   "execution_count": 43,
   "metadata": {},
   "outputs": [
    {
     "data": {
      "application/vnd.plotly.v1+json": {
       "config": {
        "plotlyServerURL": "https://plot.ly"
       },
       "data": [
        {
         "hovertemplate": "<b>%{hovertext}</b><br><br>Sanctioned_Entity=Generalfinance Spa<br>Date of Sanction=%{x}<br>Sanctioned Amount (€)=%{marker.size}<extra></extra>",
         "hovertext": [
          "Generalfinance Spa",
          "Generalfinance Spa"
         ],
         "legendgroup": "Generalfinance Spa",
         "marker": {
          "color": "#636efa",
          "line": {
           "color": "DarkSlateGrey",
           "width": 2
          },
          "size": [
           30000,
           30000
          ],
          "sizemode": "area",
          "sizeref": 250,
          "symbol": "circle"
         },
         "mode": "markers",
         "name": "Generalfinance Spa",
         "orientation": "v",
         "showlegend": true,
         "type": "scatter",
         "x": [
          "2024-02-06T00:00:00",
          "2024-02-06T00:00:00"
         ],
         "xaxis": "x",
         "y": [
          30000,
          30000
         ],
         "yaxis": "y"
        },
        {
         "hovertemplate": "<b>%{hovertext}</b><br><br>Sanctioned_Entity=Solution Bank Spa<br>Date of Sanction=%{x}<br>Sanctioned Amount (€)=%{marker.size}<extra></extra>",
         "hovertext": [
          "Solution Bank Spa"
         ],
         "legendgroup": "Solution Bank Spa",
         "marker": {
          "color": "#EF553B",
          "line": {
           "color": "DarkSlateGrey",
           "width": 2
          },
          "size": [
           35000
          ],
          "sizemode": "area",
          "sizeref": 250,
          "symbol": "circle"
         },
         "mode": "markers",
         "name": "Solution Bank Spa",
         "orientation": "v",
         "showlegend": true,
         "type": "scatter",
         "x": [
          "2024-01-23T00:00:00"
         ],
         "xaxis": "x",
         "y": [
          35000
         ],
         "yaxis": "y"
        },
        {
         "hovertemplate": "<b>%{hovertext}</b><br><br>Sanctioned_Entity=Banca Popolare del Mediterraneo Scpa<br>Date of Sanction=%{x}<br>Sanctioned Amount (€)=%{marker.size}<extra></extra>",
         "hovertext": [
          "Banca Popolare del Mediterraneo Scpa",
          "Banca Popolare del Mediterraneo Scpa",
          "Banca Popolare del Mediterraneo Scpa"
         ],
         "legendgroup": "Banca Popolare del Mediterraneo Scpa",
         "marker": {
          "color": "#00cc96",
          "line": {
           "color": "DarkSlateGrey",
           "width": 2
          },
          "size": [
           75000,
           14019,
           30000
          ],
          "sizemode": "area",
          "sizeref": 250,
          "symbol": "circle"
         },
         "mode": "markers",
         "name": "Banca Popolare del Mediterraneo Scpa",
         "orientation": "v",
         "showlegend": true,
         "type": "scatter",
         "x": [
          "2024-01-09T00:00:00",
          null,
          "2020-01-15T00:00:00"
         ],
         "xaxis": "x",
         "y": [
          75000,
          14019,
          30000
         ],
         "yaxis": "y"
        },
        {
         "hovertemplate": "<b>%{hovertext}</b><br><br>Sanctioned_Entity=Prelios Credit Servicing Spa<br>Date of Sanction=%{x}<br>Sanctioned Amount (€)=%{marker.size}<extra></extra>",
         "hovertext": [
          "Prelios Credit Servicing Spa",
          "Prelios Credit Servicing Spa"
         ],
         "legendgroup": "Prelios Credit Servicing Spa",
         "marker": {
          "color": "#ab63fa",
          "line": {
           "color": "DarkSlateGrey",
           "width": 2
          },
          "size": [
           30000,
           30000
          ],
          "sizemode": "area",
          "sizeref": 250,
          "symbol": "circle"
         },
         "mode": "markers",
         "name": "Prelios Credit Servicing Spa",
         "orientation": "v",
         "showlegend": true,
         "type": "scatter",
         "x": [
          "2023-12-05T00:00:00",
          "2023-12-05T00:00:00"
         ],
         "xaxis": "x",
         "y": [
          30000,
          30000
         ],
         "yaxis": "y"
        },
        {
         "hovertemplate": "<b>%{hovertext}</b><br><br>Sanctioned_Entity=Bank of Italy SGR Spa<br>Date of Sanction=%{x}<br>Sanctioned Amount (€)=%{marker.size}<extra></extra>",
         "hovertext": [
          "Bank of Italy SGR Spa"
         ],
         "legendgroup": "Bank of Italy SGR Spa",
         "marker": {
          "color": "#FFA15A",
          "line": {
           "color": "DarkSlateGrey",
           "width": 2
          },
          "size": [
           48000
          ],
          "sizemode": "area",
          "sizeref": 250,
          "symbol": "circle"
         },
         "mode": "markers",
         "name": "Bank of Italy SGR Spa",
         "orientation": "v",
         "showlegend": true,
         "type": "scatter",
         "x": [
          "2023-11-28T00:00:00"
         ],
         "xaxis": "x",
         "y": [
          48000
         ],
         "yaxis": "y"
        },
        {
         "hovertemplate": "<b>%{hovertext}</b><br><br>Sanctioned_Entity=Value Italy SGR Spa<br>Date of Sanction=%{x}<br>Sanctioned Amount (€)=%{marker.size}<extra></extra>",
         "hovertext": [
          "Value Italy SGR Spa"
         ],
         "legendgroup": "Value Italy SGR Spa",
         "marker": {
          "color": "#19d3f3",
          "line": {
           "color": "DarkSlateGrey",
           "width": 2
          },
          "size": [
           6000
          ],
          "sizemode": "area",
          "sizeref": 250,
          "symbol": "circle"
         },
         "mode": "markers",
         "name": "Value Italy SGR Spa",
         "orientation": "v",
         "showlegend": true,
         "type": "scatter",
         "x": [
          "2023-11-28T00:00:00"
         ],
         "xaxis": "x",
         "y": [
          6000
         ],
         "yaxis": "y"
        },
        {
         "hovertemplate": "<b>%{hovertext}</b><br><br>Sanctioned_Entity=Framont & Partners Management Limited<br>Date of Sanction=%{x}<br>Sanctioned Amount (€)=%{marker.size}<extra></extra>",
         "hovertext": [
          "Framont & Partners Management Limited"
         ],
         "legendgroup": "Framont & Partners Management Limited",
         "marker": {
          "color": "#FF6692",
          "line": {
           "color": "DarkSlateGrey",
           "width": 2
          },
          "size": [
           23000
          ],
          "sizemode": "area",
          "sizeref": 250,
          "symbol": "circle"
         },
         "mode": "markers",
         "name": "Framont & Partners Management Limited",
         "orientation": "v",
         "showlegend": true,
         "type": "scatter",
         "x": [
          null
         ],
         "xaxis": "x",
         "y": [
          23000
         ],
         "yaxis": "y"
        },
        {
         "hovertemplate": "<b>%{hovertext}</b><br><br>Sanctioned_Entity=Framont & Partners Management Limited (Italian<br>Date of Sanction=%{x}<br>Sanctioned Amount (€)=%{marker.size}<extra></extra>",
         "hovertext": [
          "Framont & Partners Management Limited (Italian"
         ],
         "legendgroup": "Framont & Partners Management Limited (Italian",
         "marker": {
          "color": "#B6E880",
          "line": {
           "color": "DarkSlateGrey",
           "width": 2
          },
          "size": [
           3000
          ],
          "sizemode": "area",
          "sizeref": 250,
          "symbol": "circle"
         },
         "mode": "markers",
         "name": "Framont & Partners Management Limited (Italian",
         "orientation": "v",
         "showlegend": true,
         "type": "scatter",
         "x": [
          "2023-11-07T00:00:00"
         ],
         "xaxis": "x",
         "y": [
          3000
         ],
         "yaxis": "y"
        },
        {
         "hovertemplate": "<b>%{hovertext}</b><br><br>Sanctioned_Entity=Scania Finance Italy Spa<br>Date of Sanction=%{x}<br>Sanctioned Amount (€)=%{marker.size}<extra></extra>",
         "hovertext": [
          "Scania Finance Italy Spa"
         ],
         "legendgroup": "Scania Finance Italy Spa",
         "marker": {
          "color": "#FF97FF",
          "line": {
           "color": "DarkSlateGrey",
           "width": 2
          },
          "size": [
           5000
          ],
          "sizemode": "area",
          "sizeref": 250,
          "symbol": "circle"
         },
         "mode": "markers",
         "name": "Scania Finance Italy Spa",
         "orientation": "v",
         "showlegend": true,
         "type": "scatter",
         "x": [
          "2023-09-19T00:00:00"
         ],
         "xaxis": "x",
         "y": [
          5000
         ],
         "yaxis": "y"
        },
        {
         "hovertemplate": "<b>%{hovertext}</b><br><br>Sanctioned_Entity=Antonio Izzo<br>Date of Sanction=%{x}<br>Sanctioned Amount (€)=%{marker.size}<extra></extra>",
         "hovertext": [
          "Antonio Izzo"
         ],
         "legendgroup": "Antonio Izzo",
         "marker": {
          "color": "#FECB52",
          "line": {
           "color": "DarkSlateGrey",
           "width": 2
          },
          "size": [
           55000
          ],
          "sizemode": "area",
          "sizeref": 250,
          "symbol": "circle"
         },
         "mode": "markers",
         "name": "Antonio Izzo",
         "orientation": "v",
         "showlegend": true,
         "type": "scatter",
         "x": [
          "2023-09-05T00:00:00"
         ],
         "xaxis": "x",
         "y": [
          55000
         ],
         "yaxis": "y"
        },
        {
         "hovertemplate": "<b>%{hovertext}</b><br><br>Sanctioned_Entity=A . Perrazzelli<br>Date of Sanction=%{x}<br>Sanctioned Amount (€)=%{marker.size}<extra></extra>",
         "hovertext": [
          "A . Perrazzelli"
         ],
         "legendgroup": "A . Perrazzelli",
         "marker": {
          "color": "#636efa",
          "line": {
           "color": "DarkSlateGrey",
           "width": 2
          },
          "size": [
           120000
          ],
          "sizemode": "area",
          "sizeref": 250,
          "symbol": "circle"
         },
         "mode": "markers",
         "name": "A . Perrazzelli",
         "orientation": "v",
         "showlegend": true,
         "type": "scatter",
         "x": [
          "2023-09-05T00:00:00"
         ],
         "xaxis": "x",
         "y": [
          120000
         ],
         "yaxis": "y"
        },
        {
         "hovertemplate": "<b>%{hovertext}</b><br><br>Sanctioned_Entity=IFIR Istituti Finanziari Riuniti Spa<br>Date of Sanction=%{x}<br>Sanctioned Amount (€)=%{marker.size}<extra></extra>",
         "hovertext": [
          "IFIR Istituti Finanziari Riuniti Spa",
          "IFIR Istituti Finanziari Riuniti Spa"
         ],
         "legendgroup": "IFIR Istituti Finanziari Riuniti Spa",
         "marker": {
          "color": "#EF553B",
          "line": {
           "color": "DarkSlateGrey",
           "width": 2
          },
          "size": [
           60000,
           30000
          ],
          "sizemode": "area",
          "sizeref": 250,
          "symbol": "circle"
         },
         "mode": "markers",
         "name": "IFIR Istituti Finanziari Riuniti Spa",
         "orientation": "v",
         "showlegend": true,
         "type": "scatter",
         "x": [
          "2023-09-05T00:00:00",
          "2019-12-03T00:00:00"
         ],
         "xaxis": "x",
         "y": [
          60000,
          30000
         ],
         "yaxis": "y"
        },
        {
         "hovertemplate": "<b>%{hovertext}</b><br><br>Sanctioned_Entity=AMCO Spa<br>Date of Sanction=%{x}<br>Sanctioned Amount (€)=%{marker.size}<extra></extra>",
         "hovertext": [
          "AMCO Spa"
         ],
         "legendgroup": "AMCO Spa",
         "marker": {
          "color": "#00cc96",
          "line": {
           "color": "DarkSlateGrey",
           "width": 2
          },
          "size": [
           120000
          ],
          "sizemode": "area",
          "sizeref": 250,
          "symbol": "circle"
         },
         "mode": "markers",
         "name": "AMCO Spa",
         "orientation": "v",
         "showlegend": true,
         "type": "scatter",
         "x": [
          "2023-07-25T00:00:00"
         ],
         "xaxis": "x",
         "y": [
          120000
         ],
         "yaxis": "y"
        },
        {
         "hovertemplate": "<b>%{hovertext}</b><br><br>Sanctioned_Entity=Intermonte SIM Spa<br>Date of Sanction=%{x}<br>Sanctioned Amount (€)=%{marker.size}<extra></extra>",
         "hovertext": [
          "Intermonte SIM Spa"
         ],
         "legendgroup": "Intermonte SIM Spa",
         "marker": {
          "color": "#ab63fa",
          "line": {
           "color": "DarkSlateGrey",
           "width": 2
          },
          "size": [
           30000
          ],
          "sizemode": "area",
          "sizeref": 250,
          "symbol": "circle"
         },
         "mode": "markers",
         "name": "Intermonte SIM Spa",
         "orientation": "v",
         "showlegend": true,
         "type": "scatter",
         "x": [
          "2023-07-11T00:00:00"
         ],
         "xaxis": "x",
         "y": [
          30000
         ],
         "yaxis": "y"
        },
        {
         "hovertemplate": "<b>%{hovertext}</b><br><br>Sanctioned_Entity=PayTipper Spa<br>Date of Sanction=%{x}<br>Sanctioned Amount (€)=%{marker.size}<extra></extra>",
         "hovertext": [
          "PayTipper Spa"
         ],
         "legendgroup": "PayTipper Spa",
         "marker": {
          "color": "#FFA15A",
          "line": {
           "color": "DarkSlateGrey",
           "width": 2
          },
          "size": [
           5000
          ],
          "sizemode": "area",
          "sizeref": 250,
          "symbol": "circle"
         },
         "mode": "markers",
         "name": "PayTipper Spa",
         "orientation": "v",
         "showlegend": true,
         "type": "scatter",
         "x": [
          "2023-05-30T00:00:00"
         ],
         "xaxis": "x",
         "y": [
          5000
         ],
         "yaxis": "y"
        },
        {
         "hovertemplate": "<b>%{hovertext}</b><br><br>Sanctioned_Entity=Cassa di Risparmio di Volterra Spa<br>Date of Sanction=%{x}<br>Sanctioned Amount (€)=%{marker.size}<extra></extra>",
         "hovertext": [
          "Cassa di Risparmio di Volterra Spa"
         ],
         "legendgroup": "Cassa di Risparmio di Volterra Spa",
         "marker": {
          "color": "#19d3f3",
          "line": {
           "color": "DarkSlateGrey",
           "width": 2
          },
          "size": [
           150000
          ],
          "sizemode": "area",
          "sizeref": 250,
          "symbol": "circle"
         },
         "mode": "markers",
         "name": "Cassa di Risparmio di Volterra Spa",
         "orientation": "v",
         "showlegend": true,
         "type": "scatter",
         "x": [
          "2023-05-23T00:00:00"
         ],
         "xaxis": "x",
         "y": [
          150000
         ],
         "yaxis": "y"
        },
        {
         "hovertemplate": "<b>%{hovertext}</b><br><br>Sanctioned_Entity=Banca d'Italia<br>Date of Sanction=%{x}<br>Sanctioned Amount (€)=%{marker.size}<extra></extra>",
         "hovertext": [
          "Banca d'Italia",
          "Banca d'Italia",
          "Banca d'Italia",
          "Banca d'Italia",
          "Banca d'Italia"
         ],
         "legendgroup": "Banca d'Italia",
         "marker": {
          "color": "#FF6692",
          "line": {
           "color": "DarkSlateGrey",
           "width": 2
          },
          "size": [
           10000,
           100000,
           30000,
           30000,
           286500
          ],
          "sizemode": "area",
          "sizeref": 250,
          "symbol": "circle"
         },
         "mode": "markers",
         "name": "Banca d'Italia",
         "orientation": "v",
         "showlegend": true,
         "type": "scatter",
         "x": [
          "2023-03-29T00:00:00",
          "2021-03-09T00:00:00",
          "2021-05-18T00:00:00",
          "2020-03-17T00:00:00",
          "2019-03-19T00:00:00"
         ],
         "xaxis": "x",
         "y": [
          10000,
          100000,
          30000,
          30000,
          286500
         ],
         "yaxis": "y"
        },
        {
         "hovertemplate": "<b>%{hovertext}</b><br><br>Sanctioned_Entity=M.C. Family Spa, ora M.C. Family Srl<br>Date of Sanction=%{x}<br>Sanctioned Amount (€)=%{marker.size}<extra></extra>",
         "hovertext": [
          "M.C. Family Spa, ora M.C. Family Srl"
         ],
         "legendgroup": "M.C. Family Spa, ora M.C. Family Srl",
         "marker": {
          "color": "#B6E880",
          "line": {
           "color": "DarkSlateGrey",
           "width": 2
          },
          "size": [
           30000
          ],
          "sizemode": "area",
          "sizeref": 250,
          "symbol": "circle"
         },
         "mode": "markers",
         "name": "M.C. Family Spa, ora M.C. Family Srl",
         "orientation": "v",
         "showlegend": true,
         "type": "scatter",
         "x": [
          "2023-03-29T00:00:00"
         ],
         "xaxis": "x",
         "y": [
          30000
         ],
         "yaxis": "y"
        },
        {
         "hovertemplate": "<b>%{hovertext}</b><br><br>Sanctioned_Entity=M.C. Family Srl<br>Date of Sanction=%{x}<br>Sanctioned Amount (€)=%{marker.size}<extra></extra>",
         "hovertext": [
          "M.C. Family Srl"
         ],
         "legendgroup": "M.C. Family Srl",
         "marker": {
          "color": "#FF97FF",
          "line": {
           "color": "DarkSlateGrey",
           "width": 2
          },
          "size": [
           30000
          ],
          "sizemode": "area",
          "sizeref": 250,
          "symbol": "circle"
         },
         "mode": "markers",
         "name": "M.C. Family Srl",
         "orientation": "v",
         "showlegend": true,
         "type": "scatter",
         "x": [
          "2023-03-29T00:00:00"
         ],
         "xaxis": "x",
         "y": [
          30000
         ],
         "yaxis": "y"
        },
        {
         "hovertemplate": "<b>%{hovertext}</b><br><br>Sanctioned_Entity=Synergo Capital SGR Spa<br>Date of Sanction=%{x}<br>Sanctioned Amount (€)=%{marker.size}<extra></extra>",
         "hovertext": [
          "Synergo Capital SGR Spa",
          "Synergo Capital SGR Spa"
         ],
         "legendgroup": "Synergo Capital SGR Spa",
         "marker": {
          "color": "#FECB52",
          "line": {
           "color": "DarkSlateGrey",
           "width": 2
          },
          "size": [
           45000,
           75000
          ],
          "sizemode": "area",
          "sizeref": 250,
          "symbol": "circle"
         },
         "mode": "markers",
         "name": "Synergo Capital SGR Spa",
         "orientation": "v",
         "showlegend": true,
         "type": "scatter",
         "x": [
          "2023-04-11T00:00:00",
          "2023-04-11T00:00:00"
         ],
         "xaxis": "x",
         "y": [
          45000,
          75000
         ],
         "yaxis": "y"
        },
        {
         "hovertemplate": "<b>%{hovertext}</b><br><br>Sanctioned_Entity=Banca Popolare Valconca Spa in a.s.<br>Date of Sanction=%{x}<br>Sanctioned Amount (€)=%{marker.size}<extra></extra>",
         "hovertext": [
          "Banca Popolare Valconca Spa in a.s.",
          "Banca Popolare Valconca Spa in a.s."
         ],
         "legendgroup": "Banca Popolare Valconca Spa in a.s.",
         "marker": {
          "color": "#636efa",
          "line": {
           "color": "DarkSlateGrey",
           "width": 2
          },
          "size": [
           30000,
           150000
          ],
          "sizemode": "area",
          "sizeref": 250,
          "symbol": "circle"
         },
         "mode": "markers",
         "name": "Banca Popolare Valconca Spa in a.s.",
         "orientation": "v",
         "showlegend": true,
         "type": "scatter",
         "x": [
          "2023-04-04T00:00:00",
          "2023-04-04T00:00:00"
         ],
         "xaxis": "x",
         "y": [
          30000,
          150000
         ],
         "yaxis": "y"
        },
        {
         "hovertemplate": "<b>%{hovertext}</b><br><br>Sanctioned_Entity=Banco di Credito P. Azzoaglio Spa<br>Date of Sanction=%{x}<br>Sanctioned Amount (€)=%{marker.size}<extra></extra>",
         "hovertext": [
          "Banco di Credito P. Azzoaglio Spa"
         ],
         "legendgroup": "Banco di Credito P. Azzoaglio Spa",
         "marker": {
          "color": "#EF553B",
          "line": {
           "color": "DarkSlateGrey",
           "width": 2
          },
          "size": [
           30000
          ],
          "sizemode": "area",
          "sizeref": 250,
          "symbol": "circle"
         },
         "mode": "markers",
         "name": "Banco di Credito P. Azzoaglio Spa",
         "orientation": "v",
         "showlegend": true,
         "type": "scatter",
         "x": [
          "2023-04-26T00:00:00"
         ],
         "xaxis": "x",
         "y": [
          30000
         ],
         "yaxis": "y"
        },
        {
         "hovertemplate": "<b>%{hovertext}</b><br><br>Sanctioned_Entity=Banca Progetto Spa<br>Date of Sanction=%{x}<br>Sanctioned Amount (€)=%{marker.size}<extra></extra>",
         "hovertext": [
          "Banca Progetto Spa"
         ],
         "legendgroup": "Banca Progetto Spa",
         "marker": {
          "color": "#00cc96",
          "line": {
           "color": "DarkSlateGrey",
           "width": 2
          },
          "size": [
           100000
          ],
          "sizemode": "area",
          "sizeref": 250,
          "symbol": "circle"
         },
         "mode": "markers",
         "name": "Banca Progetto Spa",
         "orientation": "v",
         "showlegend": true,
         "type": "scatter",
         "x": [
          "2023-03-14T00:00:00"
         ],
         "xaxis": "x",
         "y": [
          100000
         ],
         "yaxis": "y"
        },
        {
         "hovertemplate": "<b>%{hovertext}</b><br><br>Sanctioned_Entity=Banca Popolare Sant’Angelo Scpa<br>Date of Sanction=%{x}<br>Sanctioned Amount (€)=%{marker.size}<extra></extra>",
         "hovertext": [
          "Banca Popolare Sant’Angelo Scpa"
         ],
         "legendgroup": "Banca Popolare Sant’Angelo Scpa",
         "marker": {
          "color": "#ab63fa",
          "line": {
           "color": "DarkSlateGrey",
           "width": 2
          },
          "size": [
           30000
          ],
          "sizemode": "area",
          "sizeref": 250,
          "symbol": "circle"
         },
         "mode": "markers",
         "name": "Banca Popolare Sant’Angelo Scpa",
         "orientation": "v",
         "showlegend": true,
         "type": "scatter",
         "x": [
          "2023-02-07T00:00:00"
         ],
         "xaxis": "x",
         "y": [
          30000
         ],
         "yaxis": "y"
        },
        {
         "hovertemplate": "<b>%{hovertext}</b><br><br>Sanctioned_Entity=Anthilia Capital Partners SGR Spa<br>Date of Sanction=%{x}<br>Sanctioned Amount (€)=%{marker.size}<extra></extra>",
         "hovertext": [
          "Anthilia Capital Partners SGR Spa"
         ],
         "legendgroup": "Anthilia Capital Partners SGR Spa",
         "marker": {
          "color": "#FFA15A",
          "line": {
           "color": "DarkSlateGrey",
           "width": 2
          },
          "size": [
           30000
          ],
          "sizemode": "area",
          "sizeref": 250,
          "symbol": "circle"
         },
         "mode": "markers",
         "name": "Anthilia Capital Partners SGR Spa",
         "orientation": "v",
         "showlegend": true,
         "type": "scatter",
         "x": [
          "2023-01-31T00:00:00"
         ],
         "xaxis": "x",
         "y": [
          30000
         ],
         "yaxis": "y"
        },
        {
         "hovertemplate": "<b>%{hovertext}</b><br><br>Sanctioned_Entity=<br>Date of Sanction=%{x}<br>Sanctioned Amount (€)=%{marker.size}<extra></extra>",
         "hovertext": [
          "",
          "",
          "",
          "",
          "",
          "",
          "",
          "",
          "",
          ""
         ],
         "legendgroup": "",
         "marker": {
          "color": "#19d3f3",
          "line": {
           "color": "DarkSlateGrey",
           "width": 2
          },
          "size": [
           0,
           0,
           0,
           0,
           0,
           0,
           0,
           0,
           0,
           0
          ],
          "sizemode": "area",
          "sizeref": 250,
          "symbol": "circle"
         },
         "mode": "markers",
         "name": "",
         "orientation": "v",
         "showlegend": false,
         "type": "scatter",
         "x": [
          null,
          "2022-03-29T00:00:00",
          null,
          null,
          null,
          null,
          null,
          null,
          null,
          null
         ],
         "xaxis": "x",
         "y": [
          0,
          0,
          0,
          0,
          0,
          0,
          0,
          0,
          0,
          0
         ],
         "yaxis": "y"
        },
        {
         "hovertemplate": "<b>%{hovertext}</b><br><br>Sanctioned_Entity=N26 Bank Gmbh<br>Date of Sanction=%{x}<br>Sanctioned Amount (€)=%{marker.size}<extra></extra>",
         "hovertext": [
          "N26 Bank Gmbh"
         ],
         "legendgroup": "N26 Bank Gmbh",
         "marker": {
          "color": "#FF6692",
          "line": {
           "color": "DarkSlateGrey",
           "width": 2
          },
          "size": [
           160000
          ],
          "sizemode": "area",
          "sizeref": 250,
          "symbol": "circle"
         },
         "mode": "markers",
         "name": "N26 Bank Gmbh",
         "orientation": "v",
         "showlegend": true,
         "type": "scatter",
         "x": [
          "2022-12-13T00:00:00"
         ],
         "xaxis": "x",
         "y": [
          160000
         ],
         "yaxis": "y"
        },
        {
         "hovertemplate": "<b>%{hovertext}</b><br><br>Sanctioned_Entity=Fin Sarda Spa<br>Date of Sanction=%{x}<br>Sanctioned Amount (€)=%{marker.size}<extra></extra>",
         "hovertext": [
          "Fin Sarda Spa"
         ],
         "legendgroup": "Fin Sarda Spa",
         "marker": {
          "color": "#B6E880",
          "line": {
           "color": "DarkSlateGrey",
           "width": 2
          },
          "size": [
           30000
          ],
          "sizemode": "area",
          "sizeref": 250,
          "symbol": "circle"
         },
         "mode": "markers",
         "name": "Fin Sarda Spa",
         "orientation": "v",
         "showlegend": true,
         "type": "scatter",
         "x": [
          "2022-12-06T00:00:00"
         ],
         "xaxis": "x",
         "y": [
          30000
         ],
         "yaxis": "y"
        },
        {
         "hovertemplate": "<b>%{hovertext}</b><br><br>Sanctioned_Entity=Ria Payment Institution EP S.A.U.<br>Date of Sanction=%{x}<br>Sanctioned Amount (€)=%{marker.size}<extra></extra>",
         "hovertext": [
          "Ria Payment Institution EP S.A.U."
         ],
         "legendgroup": "Ria Payment Institution EP S.A.U.",
         "marker": {
          "color": "#FF97FF",
          "line": {
           "color": "DarkSlateGrey",
           "width": 2
          },
          "size": [
           30000
          ],
          "sizemode": "area",
          "sizeref": 250,
          "symbol": "circle"
         },
         "mode": "markers",
         "name": "Ria Payment Institution EP S.A.U.",
         "orientation": "v",
         "showlegend": true,
         "type": "scatter",
         "x": [
          "2022-12-06T00:00:00"
         ],
         "xaxis": "x",
         "y": [
          30000
         ],
         "yaxis": "y"
        },
        {
         "hovertemplate": "<b>%{hovertext}</b><br><br>Sanctioned_Entity=ART SGR Spa<br>Date of Sanction=%{x}<br>Sanctioned Amount (€)=%{marker.size}<extra></extra>",
         "hovertext": [
          "ART SGR Spa"
         ],
         "legendgroup": "ART SGR Spa",
         "marker": {
          "color": "#FECB52",
          "line": {
           "color": "DarkSlateGrey",
           "width": 2
          },
          "size": [
           30000
          ],
          "sizemode": "area",
          "sizeref": 250,
          "symbol": "circle"
         },
         "mode": "markers",
         "name": "ART SGR Spa",
         "orientation": "v",
         "showlegend": true,
         "type": "scatter",
         "x": [
          "2022-11-22T00:00:00"
         ],
         "xaxis": "x",
         "y": [
          30000
         ],
         "yaxis": "y"
        },
        {
         "hovertemplate": "<b>%{hovertext}</b><br><br>Sanctioned_Entity=Servizio Rapporti Istituzionali di Vigilanza<br>Date of Sanction=%{x}<br>Sanctioned Amount (€)=%{marker.size}<extra></extra>",
         "hovertext": [
          "Servizio Rapporti Istituzionali di Vigilanza"
         ],
         "legendgroup": "Servizio Rapporti Istituzionali di Vigilanza",
         "marker": {
          "color": "#636efa",
          "line": {
           "color": "DarkSlateGrey",
           "width": 2
          },
          "size": [
           21000
          ],
          "sizemode": "area",
          "sizeref": 250,
          "symbol": "circle"
         },
         "mode": "markers",
         "name": "Servizio Rapporti Istituzionali di Vigilanza",
         "orientation": "v",
         "showlegend": true,
         "type": "scatter",
         "x": [
          "2021-08-20T00:00:00"
         ],
         "xaxis": "x",
         "y": [
          21000
         ],
         "yaxis": "y"
        },
        {
         "hovertemplate": "<b>%{hovertext}</b><br><br>Sanctioned_Entity=Valutrans Spa<br>Date of Sanction=%{x}<br>Sanctioned Amount (€)=%{marker.size}<extra></extra>",
         "hovertext": [
          "Valutrans Spa"
         ],
         "legendgroup": "Valutrans Spa",
         "marker": {
          "color": "#EF553B",
          "line": {
           "color": "DarkSlateGrey",
           "width": 2
          },
          "size": [
           45000
          ],
          "sizemode": "area",
          "sizeref": 250,
          "symbol": "circle"
         },
         "mode": "markers",
         "name": "Valutrans Spa",
         "orientation": "v",
         "showlegend": true,
         "type": "scatter",
         "x": [
          "2022-09-20T00:00:00"
         ],
         "xaxis": "x",
         "y": [
          45000
         ],
         "yaxis": "y"
        },
        {
         "hovertemplate": "<b>%{hovertext}</b><br><br>Sanctioned_Entity=Aigis Banca Spa<br>Date of Sanction=%{x}<br>Sanctioned Amount (€)=%{marker.size}<extra></extra>",
         "hovertext": [
          "Aigis Banca Spa"
         ],
         "legendgroup": "Aigis Banca Spa",
         "marker": {
          "color": "#00cc96",
          "line": {
           "color": "DarkSlateGrey",
           "width": 2
          },
          "size": [
           35000
          ],
          "sizemode": "area",
          "sizeref": 250,
          "symbol": "circle"
         },
         "mode": "markers",
         "name": "Aigis Banca Spa",
         "orientation": "v",
         "showlegend": true,
         "type": "scatter",
         "x": [
          null
         ],
         "xaxis": "x",
         "y": [
          35000
         ],
         "yaxis": "y"
        },
        {
         "hovertemplate": "<b>%{hovertext}</b><br><br>Sanctioned_Entity=Mondial Bony Service Spa<br>Date of Sanction=%{x}<br>Sanctioned Amount (€)=%{marker.size}<extra></extra>",
         "hovertext": [
          "Mondial Bony Service Spa",
          "Mondial Bony Service Spa"
         ],
         "legendgroup": "Mondial Bony Service Spa",
         "marker": {
          "color": "#ab63fa",
          "line": {
           "color": "DarkSlateGrey",
           "width": 2
          },
          "size": [
           30000,
           30000
          ],
          "sizemode": "area",
          "sizeref": 250,
          "symbol": "circle"
         },
         "mode": "markers",
         "name": "Mondial Bony Service Spa",
         "orientation": "v",
         "showlegend": true,
         "type": "scatter",
         "x": [
          "2022-09-06T00:00:00",
          "2022-09-06T00:00:00"
         ],
         "xaxis": "x",
         "y": [
          30000,
          30000
         ],
         "yaxis": "y"
        },
        {
         "hovertemplate": "<b>%{hovertext}</b><br><br>Sanctioned_Entity=Banca del Fucino Spa<br>Date of Sanction=%{x}<br>Sanctioned Amount (€)=%{marker.size}<extra></extra>",
         "hovertext": [
          "Banca del Fucino Spa",
          "Banca del Fucino Spa"
         ],
         "legendgroup": "Banca del Fucino Spa",
         "marker": {
          "color": "#FFA15A",
          "line": {
           "color": "DarkSlateGrey",
           "width": 2
          },
          "size": [
           70000,
           0
          ],
          "sizemode": "area",
          "sizeref": 250,
          "symbol": "circle"
         },
         "mode": "markers",
         "name": "Banca del Fucino Spa",
         "orientation": "v",
         "showlegend": true,
         "type": "scatter",
         "x": [
          "2022-09-20T00:00:00",
          "2020-07-28T00:00:00"
         ],
         "xaxis": "x",
         "y": [
          70000,
          0
         ],
         "yaxis": "y"
        },
        {
         "hovertemplate": "<b>%{hovertext}</b><br><br>Sanctioned_Entity=Credimi Spa<br>Date of Sanction=%{x}<br>Sanctioned Amount (€)=%{marker.size}<extra></extra>",
         "hovertext": [
          "Credimi Spa"
         ],
         "legendgroup": "Credimi Spa",
         "marker": {
          "color": "#19d3f3",
          "line": {
           "color": "DarkSlateGrey",
           "width": 2
          },
          "size": [
           0
          ],
          "sizemode": "area",
          "sizeref": 250,
          "symbol": "circle"
         },
         "mode": "markers",
         "name": "Credimi Spa",
         "orientation": "v",
         "showlegend": true,
         "type": "scatter",
         "x": [
          "2022-07-26T00:00:00"
         ],
         "xaxis": "x",
         "y": [
          0
         ],
         "yaxis": "y"
        },
        {
         "hovertemplate": "<b>%{hovertext}</b><br><br>Sanctioned_Entity=Banca Popolare di Lajatico<br>Date of Sanction=%{x}<br>Sanctioned Amount (€)=%{marker.size}<extra></extra>",
         "hovertext": [
          "Banca Popolare di Lajatico"
         ],
         "legendgroup": "Banca Popolare di Lajatico",
         "marker": {
          "color": "#FF6692",
          "line": {
           "color": "DarkSlateGrey",
           "width": 2
          },
          "size": [
           30000
          ],
          "sizemode": "area",
          "sizeref": 250,
          "symbol": "circle"
         },
         "mode": "markers",
         "name": "Banca Popolare di Lajatico",
         "orientation": "v",
         "showlegend": true,
         "type": "scatter",
         "x": [
          "2022-07-19T00:00:00"
         ],
         "xaxis": "x",
         "y": [
          30000
         ],
         "yaxis": "y"
        },
        {
         "hovertemplate": "<b>%{hovertext}</b><br><br>Sanctioned_Entity=Banca Sistema Spa<br>Date of Sanction=%{x}<br>Sanctioned Amount (€)=%{marker.size}<extra></extra>",
         "hovertext": [
          "Banca Sistema Spa",
          "Banca Sistema Spa"
         ],
         "legendgroup": "Banca Sistema Spa",
         "marker": {
          "color": "#B6E880",
          "line": {
           "color": "DarkSlateGrey",
           "width": 2
          },
          "size": [
           100000,
           85000
          ],
          "sizemode": "area",
          "sizeref": 250,
          "symbol": "circle"
         },
         "mode": "markers",
         "name": "Banca Sistema Spa",
         "orientation": "v",
         "showlegend": true,
         "type": "scatter",
         "x": [
          "2022-07-05T00:00:00",
          "2022-01-25T00:00:00"
         ],
         "xaxis": "x",
         "y": [
          100000,
          85000
         ],
         "yaxis": "y"
        },
        {
         "hovertemplate": "<b>%{hovertext}</b><br><br>Sanctioned_Entity=Banca del Sud Spa, ora in a.s.<br>Date of Sanction=%{x}<br>Sanctioned Amount (€)=%{marker.size}<extra></extra>",
         "hovertext": [
          "Banca del Sud Spa, ora in a.s.",
          "Banca del Sud Spa, ora in a.s."
         ],
         "legendgroup": "Banca del Sud Spa, ora in a.s.",
         "marker": {
          "color": "#FF97FF",
          "line": {
           "color": "DarkSlateGrey",
           "width": 2
          },
          "size": [
           22000,
           30000
          ],
          "sizemode": "area",
          "sizeref": 250,
          "symbol": "circle"
         },
         "mode": "markers",
         "name": "Banca del Sud Spa, ora in a.s.",
         "orientation": "v",
         "showlegend": true,
         "type": "scatter",
         "x": [
          "2022-01-11T00:00:00",
          "2022-01-11T00:00:00"
         ],
         "xaxis": "x",
         "y": [
          22000,
          30000
         ],
         "yaxis": "y"
        },
        {
         "hovertemplate": "<b>%{hovertext}</b><br><br>Sanctioned_Entity=Directa SIM Spa<br>Date of Sanction=%{x}<br>Sanctioned Amount (€)=%{marker.size}<extra></extra>",
         "hovertext": [
          "Directa SIM Spa"
         ],
         "legendgroup": "Directa SIM Spa",
         "marker": {
          "color": "#FECB52",
          "line": {
           "color": "DarkSlateGrey",
           "width": 2
          },
          "size": [
           30000
          ],
          "sizemode": "area",
          "sizeref": 250,
          "symbol": "circle"
         },
         "mode": "markers",
         "name": "Directa SIM Spa",
         "orientation": "v",
         "showlegend": true,
         "type": "scatter",
         "x": [
          "2022-04-05T00:00:00"
         ],
         "xaxis": "x",
         "y": [
          30000
         ],
         "yaxis": "y"
        },
        {
         "hovertemplate": "<b>%{hovertext}</b><br><br>Sanctioned_Entity=Findomestic Banca Spa<br>Date of Sanction=%{x}<br>Sanctioned Amount (€)=%{marker.size}<extra></extra>",
         "hovertext": [
          "Findomestic Banca Spa",
          "Findomestic Banca Spa"
         ],
         "legendgroup": "Findomestic Banca Spa",
         "marker": {
          "color": "#636efa",
          "line": {
           "color": "DarkSlateGrey",
           "width": 2
          },
          "size": [
           900000,
           390000
          ],
          "sizemode": "area",
          "sizeref": 250,
          "symbol": "circle"
         },
         "mode": "markers",
         "name": "Findomestic Banca Spa",
         "orientation": "v",
         "showlegend": true,
         "type": "scatter",
         "x": [
          "2022-04-26T00:00:00",
          "2020-01-28T00:00:00"
         ],
         "xaxis": "x",
         "y": [
          900000,
          390000
         ],
         "yaxis": "y"
        },
        {
         "hovertemplate": "<b>%{hovertext}</b><br><br>Sanctioned_Entity=Banca d'Italia S.p.A.<br>Date of Sanction=%{x}<br>Sanctioned Amount (€)=%{marker.size}<extra></extra>",
         "hovertext": [
          "Banca d'Italia S.p.A.",
          "Banca d'Italia S.p.A."
         ],
         "legendgroup": "Banca d'Italia S.p.A.",
         "marker": {
          "color": "#EF553B",
          "line": {
           "color": "DarkSlateGrey",
           "width": 2
          },
          "size": [
           30000,
           90000
          ],
          "sizemode": "area",
          "sizeref": 250,
          "symbol": "circle"
         },
         "mode": "markers",
         "name": "Banca d'Italia S.p.A.",
         "orientation": "v",
         "showlegend": true,
         "type": "scatter",
         "x": [
          "2022-04-12T00:00:00",
          "2019-09-24T00:00:00"
         ],
         "xaxis": "x",
         "y": [
          30000,
          90000
         ],
         "yaxis": "y"
        },
        {
         "hovertemplate": "<b>%{hovertext}</b><br><br>Sanctioned_Entity=Banque Chaabi du Maroc<br>Date of Sanction=%{x}<br>Sanctioned Amount (€)=%{marker.size}<extra></extra>",
         "hovertext": [
          "Banque Chaabi du Maroc"
         ],
         "legendgroup": "Banque Chaabi du Maroc",
         "marker": {
          "color": "#00cc96",
          "line": {
           "color": "DarkSlateGrey",
           "width": 2
          },
          "size": [
           30000
          ],
          "sizemode": "area",
          "sizeref": 250,
          "symbol": "circle"
         },
         "mode": "markers",
         "name": "Banque Chaabi du Maroc",
         "orientation": "v",
         "showlegend": true,
         "type": "scatter",
         "x": [
          "2022-03-22T00:00:00"
         ],
         "xaxis": "x",
         "y": [
          30000
         ],
         "yaxis": "y"
        },
        {
         "hovertemplate": "<b>%{hovertext}</b><br><br>Sanctioned_Entity=Banca Carige Spa<br>Date of Sanction=%{x}<br>Sanctioned Amount (€)=%{marker.size}<extra></extra>",
         "hovertext": [
          "Banca Carige Spa"
         ],
         "legendgroup": "Banca Carige Spa",
         "marker": {
          "color": "#ab63fa",
          "line": {
           "color": "DarkSlateGrey",
           "width": 2
          },
          "size": [
           280000
          ],
          "sizemode": "area",
          "sizeref": 250,
          "symbol": "circle"
         },
         "mode": "markers",
         "name": "Banca Carige Spa",
         "orientation": "v",
         "showlegend": true,
         "type": "scatter",
         "x": [
          "2022-03-22T00:00:00"
         ],
         "xaxis": "x",
         "y": [
          280000
         ],
         "yaxis": "y"
        },
        {
         "hovertemplate": "<b>%{hovertext}</b><br><br>Sanctioned_Entity=Prestiamoci Spa<br>Date of Sanction=%{x}<br>Sanctioned Amount (€)=%{marker.size}<extra></extra>",
         "hovertext": [
          "Prestiamoci Spa"
         ],
         "legendgroup": "Prestiamoci Spa",
         "marker": {
          "color": "#FFA15A",
          "line": {
           "color": "DarkSlateGrey",
           "width": 2
          },
          "size": [
           30000
          ],
          "sizemode": "area",
          "sizeref": 250,
          "symbol": "circle"
         },
         "mode": "markers",
         "name": "Prestiamoci Spa",
         "orientation": "v",
         "showlegend": true,
         "type": "scatter",
         "x": [
          "2022-03-15T00:00:00"
         ],
         "xaxis": "x",
         "y": [
          30000
         ],
         "yaxis": "y"
        },
        {
         "hovertemplate": "<b>%{hovertext}</b><br><br>Sanctioned_Entity=Banca Popolare Vesuviana Sc<br>Date of Sanction=%{x}<br>Sanctioned Amount (€)=%{marker.size}<extra></extra>",
         "hovertext": [
          "Banca Popolare Vesuviana Sc"
         ],
         "legendgroup": "Banca Popolare Vesuviana Sc",
         "marker": {
          "color": "#19d3f3",
          "line": {
           "color": "DarkSlateGrey",
           "width": 2
          },
          "size": [
           30000
          ],
          "sizemode": "area",
          "sizeref": 250,
          "symbol": "circle"
         },
         "mode": "markers",
         "name": "Banca Popolare Vesuviana Sc",
         "orientation": "v",
         "showlegend": true,
         "type": "scatter",
         "x": [
          "2022-02-08T00:00:00"
         ],
         "xaxis": "x",
         "y": [
          30000
         ],
         "yaxis": "y"
        },
        {
         "hovertemplate": "<b>%{hovertext}</b><br><br>Sanctioned_Entity=Centotrenta Servicing Spa<br>Date of Sanction=%{x}<br>Sanctioned Amount (€)=%{marker.size}<extra></extra>",
         "hovertext": [
          "Centotrenta Servicing Spa"
         ],
         "legendgroup": "Centotrenta Servicing Spa",
         "marker": {
          "color": "#FF6692",
          "line": {
           "color": "DarkSlateGrey",
           "width": 2
          },
          "size": [
           40000
          ],
          "sizemode": "area",
          "sizeref": 250,
          "symbol": "circle"
         },
         "mode": "markers",
         "name": "Centotrenta Servicing Spa",
         "orientation": "v",
         "showlegend": true,
         "type": "scatter",
         "x": [
          "2022-02-15T00:00:00"
         ],
         "xaxis": "x",
         "y": [
          40000
         ],
         "yaxis": "y"
        },
        {
         "hovertemplate": "<b>%{hovertext}</b><br><br>Sanctioned_Entity=O M O O O O LOLCLCLCLCLCLCLLLLLLLLLLLLLLLLLLLLLLLLLLLLLLLLLLLLLLLLLLLLLLLLLLLLLLLLLLLLLLLLLLLLLLLLLLLLLLLLLLLLLLLLLLLLLLLLLLLLLLLLLLLLLLLLLLLL<br>Date of Sanction=%{x}<br>Sanctioned Amount (€)=%{marker.size}<extra></extra>",
         "hovertext": [
          "O M O O O O LOLCLCLCLCLCLCLLLLLLLLLLLLLLLLLLLLLLLLLLLLLLLLLLLLLLLLLLLLLLLLLLLLLLLLLLLLLLLLLLLLLLLLLLLLLLLLLLLLLLLLLLLLLLLLLLLLLLLLLLLLLLLLLLLL"
         ],
         "legendgroup": "O M O O O O LOLCLCLCLCLCLCLLLLLLLLLLLLLLLLLLLLLLLLLLLLLLLLLLLLLLLLLLLLLLLLLLLLLLLLLLLLLLLLLLLLLLLLLLLLLLLLLLLLLLLLLLLLLLLLLLLLLLLLLLLLLLLLLLLL",
         "marker": {
          "color": "#B6E880",
          "line": {
           "color": "DarkSlateGrey",
           "width": 2
          },
          "size": [
           0
          ],
          "sizemode": "area",
          "sizeref": 250,
          "symbol": "circle"
         },
         "mode": "markers",
         "name": "O M O O O O LOLCLCLCLCLCLCLLLLLLLLLLLLLLLLLLLLLLLLLLLLLLLLLLLLLLLLLLLLLLLLLLLLLLLLLLLLLLLLLLLLLLLLLLLLLLLLLLLLLLLLLLLLLLLLLLLLLLLLLLLLLLLLLLLL",
         "orientation": "v",
         "showlegend": true,
         "type": "scatter",
         "x": [
          "2021-12-07T00:00:00"
         ],
         "xaxis": "x",
         "y": [
          0
         ],
         "yaxis": "y"
        },
        {
         "hovertemplate": "<b>%{hovertext}</b><br><br>Sanctioned_Entity=Se.Pa.Fin. Spa<br>Date of Sanction=%{x}<br>Sanctioned Amount (€)=%{marker.size}<extra></extra>",
         "hovertext": [
          "Se.Pa.Fin. Spa"
         ],
         "legendgroup": "Se.Pa.Fin. Spa",
         "marker": {
          "color": "#FF97FF",
          "line": {
           "color": "DarkSlateGrey",
           "width": 2
          },
          "size": [
           0
          ],
          "sizemode": "area",
          "sizeref": 250,
          "symbol": "circle"
         },
         "mode": "markers",
         "name": "Se.Pa.Fin. Spa",
         "orientation": "v",
         "showlegend": true,
         "type": "scatter",
         "x": [
          "2022-01-11T00:00:00"
         ],
         "xaxis": "x",
         "y": [
          0
         ],
         "yaxis": "y"
        },
        {
         "hovertemplate": "<b>%{hovertext}</b><br><br>Sanctioned_Entity=Credito Cooperativo di San Calogero e Maierato – BCC del Vibonese<br>Date of Sanction=%{x}<br>Sanctioned Amount (€)=%{marker.size}<extra></extra>",
         "hovertext": [
          "Credito Cooperativo di San Calogero e Maierato – BCC del Vibonese"
         ],
         "legendgroup": "Credito Cooperativo di San Calogero e Maierato – BCC del Vibonese",
         "marker": {
          "color": "#FECB52",
          "line": {
           "color": "DarkSlateGrey",
           "width": 2
          },
          "size": [
           60000
          ],
          "sizemode": "area",
          "sizeref": 250,
          "symbol": "circle"
         },
         "mode": "markers",
         "name": "Credito Cooperativo di San Calogero e Maierato – BCC del Vibonese",
         "orientation": "v",
         "showlegend": true,
         "type": "scatter",
         "x": [
          "2021-12-07T00:00:00"
         ],
         "xaxis": "x",
         "y": [
          60000
         ],
         "yaxis": "y"
        },
        {
         "hovertemplate": "<b>%{hovertext}</b><br><br>Sanctioned_Entity=Summa Service Srl<br>Date of Sanction=%{x}<br>Sanctioned Amount (€)=%{marker.size}<extra></extra>",
         "hovertext": [
          "Summa Service Srl",
          "Summa Service Srl"
         ],
         "legendgroup": "Summa Service Srl",
         "marker": {
          "color": "#636efa",
          "line": {
           "color": "DarkSlateGrey",
           "width": 2
          },
          "size": [
           60000,
           8000
          ],
          "sizemode": "area",
          "sizeref": 250,
          "symbol": "circle"
         },
         "mode": "markers",
         "name": "Summa Service Srl",
         "orientation": "v",
         "showlegend": true,
         "type": "scatter",
         "x": [
          "2021-07-30T00:00:00",
          "2021-07-30T00:00:00"
         ],
         "xaxis": "x",
         "y": [
          60000,
          8000
         ],
         "yaxis": "y"
        },
        {
         "hovertemplate": "<b>%{hovertext}</b><br><br>Sanctioned_Entity=Davis & Morgan Spa<br>Date of Sanction=%{x}<br>Sanctioned Amount (€)=%{marker.size}<extra></extra>",
         "hovertext": [
          "Davis & Morgan Spa",
          "Davis & Morgan Spa"
         ],
         "legendgroup": "Davis & Morgan Spa",
         "marker": {
          "color": "#EF553B",
          "line": {
           "color": "DarkSlateGrey",
           "width": 2
          },
          "size": [
           50000,
           30000
          ],
          "sizemode": "area",
          "sizeref": 250,
          "symbol": "circle"
         },
         "mode": "markers",
         "name": "Davis & Morgan Spa",
         "orientation": "v",
         "showlegend": true,
         "type": "scatter",
         "x": [
          "2021-11-24T00:00:00",
          "2021-06-01T00:00:00"
         ],
         "xaxis": "x",
         "y": [
          50000,
          30000
         ],
         "yaxis": "y"
        },
        {
         "hovertemplate": "<b>%{hovertext}</b><br><br>Sanctioned_Entity=Banca del Catanzarese Credito Cooperativo Società Cooperativa<br>Date of Sanction=%{x}<br>Sanctioned Amount (€)=%{marker.size}<extra></extra>",
         "hovertext": [
          "Banca del Catanzarese Credito Cooperativo Società Cooperativa"
         ],
         "legendgroup": "Banca del Catanzarese Credito Cooperativo Società Cooperativa",
         "marker": {
          "color": "#00cc96",
          "line": {
           "color": "DarkSlateGrey",
           "width": 2
          },
          "size": [
           60000
          ],
          "sizemode": "area",
          "sizeref": 250,
          "symbol": "circle"
         },
         "mode": "markers",
         "name": "Banca del Catanzarese Credito Cooperativo Società Cooperativa",
         "orientation": "v",
         "showlegend": true,
         "type": "scatter",
         "x": [
          "2021-11-09T00:00:00"
         ],
         "xaxis": "x",
         "y": [
          60000
         ],
         "yaxis": "y"
        },
        {
         "hovertemplate": "<b>%{hovertext}</b><br><br>Sanctioned_Entity=Ifinvest Spa<br>Date of Sanction=%{x}<br>Sanctioned Amount (€)=%{marker.size}<extra></extra>",
         "hovertext": [
          "Ifinvest Spa"
         ],
         "legendgroup": "Ifinvest Spa",
         "marker": {
          "color": "#ab63fa",
          "line": {
           "color": "DarkSlateGrey",
           "width": 2
          },
          "size": [
           60000
          ],
          "sizemode": "area",
          "sizeref": 250,
          "symbol": "circle"
         },
         "mode": "markers",
         "name": "Ifinvest Spa",
         "orientation": "v",
         "showlegend": true,
         "type": "scatter",
         "x": [
          "2020-12-11T00:00:00"
         ],
         "xaxis": "x",
         "y": [
          60000
         ],
         "yaxis": "y"
        },
        {
         "hovertemplate": "<b>%{hovertext}</b><br><br>Sanctioned_Entity=Chiesa S.p.A.<br>Date of Sanction=%{x}<br>Sanctioned Amount (€)=%{marker.size}<extra></extra>",
         "hovertext": [
          "Chiesa S.p.A."
         ],
         "legendgroup": "Chiesa S.p.A.",
         "marker": {
          "color": "#FFA15A",
          "line": {
           "color": "DarkSlateGrey",
           "width": 2
          },
          "size": [
           110000
          ],
          "sizemode": "area",
          "sizeref": 250,
          "symbol": "circle"
         },
         "mode": "markers",
         "name": "Chiesa S.p.A.",
         "orientation": "v",
         "showlegend": true,
         "type": "scatter",
         "x": [
          null
         ],
         "xaxis": "x",
         "y": [
          110000
         ],
         "yaxis": "y"
        },
        {
         "hovertemplate": "<b>%{hovertext}</b><br><br>Sanctioned_Entity=Vigilanza<br>Date of Sanction=%{x}<br>Sanctioned Amount (€)=%{marker.size}<extra></extra>",
         "hovertext": [
          "Vigilanza",
          "Vigilanza"
         ],
         "legendgroup": "Vigilanza",
         "marker": {
          "color": "#19d3f3",
          "line": {
           "color": "DarkSlateGrey",
           "width": 2
          },
          "size": [
           37000,
           41000
          ],
          "sizemode": "area",
          "sizeref": 250,
          "symbol": "circle"
         },
         "mode": "markers",
         "name": "Vigilanza",
         "orientation": "v",
         "showlegend": true,
         "type": "scatter",
         "x": [
          "2021-07-13T00:00:00",
          null
         ],
         "xaxis": "x",
         "y": [
          37000,
          41000
         ],
         "yaxis": "y"
        },
        {
         "hovertemplate": "<b>%{hovertext}</b><br><br>Sanctioned_Entity=Invest Banca Spa in a.s.<br>Date of Sanction=%{x}<br>Sanctioned Amount (€)=%{marker.size}<extra></extra>",
         "hovertext": [
          "Invest Banca Spa in a.s.",
          "Invest Banca Spa in a.s.",
          "Invest Banca Spa in a.s."
         ],
         "legendgroup": "Invest Banca Spa in a.s.",
         "marker": {
          "color": "#FF6692",
          "line": {
           "color": "DarkSlateGrey",
           "width": 2
          },
          "size": [
           30000,
           30000,
           40000
          ],
          "sizemode": "area",
          "sizeref": 250,
          "symbol": "circle"
         },
         "mode": "markers",
         "name": "Invest Banca Spa in a.s.",
         "orientation": "v",
         "showlegend": true,
         "type": "scatter",
         "x": [
          "2021-06-22T00:00:00",
          "2021-06-22T00:00:00",
          "2021-06-22T00:00:00"
         ],
         "xaxis": "x",
         "y": [
          30000,
          30000,
          40000
         ],
         "yaxis": "y"
        },
        {
         "hovertemplate": "<b>%{hovertext}</b><br><br>Sanctioned_Entity=Roma, 25.6.2021<br>Date of Sanction=%{x}<br>Sanctioned Amount (€)=%{marker.size}<extra></extra>",
         "hovertext": [
          "Roma, 25.6.2021"
         ],
         "legendgroup": "Roma, 25.6.2021",
         "marker": {
          "color": "#B6E880",
          "line": {
           "color": "DarkSlateGrey",
           "width": 2
          },
          "size": [
           10000
          ],
          "sizemode": "area",
          "sizeref": 250,
          "symbol": "circle"
         },
         "mode": "markers",
         "name": "Roma, 25.6.2021",
         "orientation": "v",
         "showlegend": true,
         "type": "scatter",
         "x": [
          "2021-06-25T00:00:00"
         ],
         "xaxis": "x",
         "y": [
          10000
         ],
         "yaxis": "y"
        },
        {
         "hovertemplate": "<b>%{hovertext}</b><br><br>Sanctioned_Entity=Credito Etneo - Banca di Credito Cooperativo Soc. Coop.<br>Date of Sanction=%{x}<br>Sanctioned Amount (€)=%{marker.size}<extra></extra>",
         "hovertext": [
          "Credito Etneo - Banca di Credito Cooperativo Soc. Coop."
         ],
         "legendgroup": "Credito Etneo - Banca di Credito Cooperativo Soc. Coop.",
         "marker": {
          "color": "#FF97FF",
          "line": {
           "color": "DarkSlateGrey",
           "width": 2
          },
          "size": [
           17041
          ],
          "sizemode": "area",
          "sizeref": 250,
          "symbol": "circle"
         },
         "mode": "markers",
         "name": "Credito Etneo - Banca di Credito Cooperativo Soc. Coop.",
         "orientation": "v",
         "showlegend": true,
         "type": "scatter",
         "x": [
          "2021-06-08T00:00:00"
         ],
         "xaxis": "x",
         "y": [
          17041
         ],
         "yaxis": "y"
        },
        {
         "hovertemplate": "<b>%{hovertext}</b><br><br>Sanctioned_Entity=Microcredito Italiano Spa<br>Date of Sanction=%{x}<br>Sanctioned Amount (€)=%{marker.size}<extra></extra>",
         "hovertext": [
          "Microcredito Italiano Spa"
         ],
         "legendgroup": "Microcredito Italiano Spa",
         "marker": {
          "color": "#FECB52",
          "line": {
           "color": "DarkSlateGrey",
           "width": 2
          },
          "size": [
           30000
          ],
          "sizemode": "area",
          "sizeref": 250,
          "symbol": "circle"
         },
         "mode": "markers",
         "name": "Microcredito Italiano Spa",
         "orientation": "v",
         "showlegend": true,
         "type": "scatter",
         "x": [
          "2021-06-08T00:00:00"
         ],
         "xaxis": "x",
         "y": [
          30000
         ],
         "yaxis": "y"
        },
        {
         "hovertemplate": "<b>%{hovertext}</b><br><br>Sanctioned_Entity=\"Disposizioni in materia di organizzazione, procedure e controlli interni volti a prevenire l’utilizzo degli intermediari a fine riciclaggio e finanziamento del terrorismo\" (art. 24 d.lgs. n. 262/2005))<br>Date of Sanction=%{x}<br>Sanctioned Amount (€)=%{marker.size}<extra></extra>",
         "hovertext": [
          "\"Disposizioni in materia di organizzazione, procedure e controlli interni volti a prevenire l’utilizzo degli intermediari a fine riciclaggio e finanziamento del terrorismo\" (art. 24 d.lgs. n. 262/2005))"
         ],
         "legendgroup": "\"Disposizioni in materia di organizzazione, procedure e controlli interni volti a prevenire l’utilizzo degli intermediari a fine riciclaggio e finanziamento del terrorismo\" (art. 24 d.lgs. n. 262/2005))",
         "marker": {
          "color": "#636efa",
          "line": {
           "color": "DarkSlateGrey",
           "width": 2
          },
          "size": [
           14
          ],
          "sizemode": "area",
          "sizeref": 250,
          "symbol": "circle"
         },
         "mode": "markers",
         "name": "\"Disposizioni in materia di organizzazione, procedure e controlli interni volti a prevenire l’utilizzo degli intermediari a fine riciclaggio e finanziamento del terrorismo\" (art. 24 d.lgs. n. 262/2005))",
         "orientation": "v",
         "showlegend": true,
         "type": "scatter",
         "x": [
          "2019-03-26T00:00:00"
         ],
         "xaxis": "x",
         "y": [
          14
         ],
         "yaxis": "y"
        },
        {
         "hovertemplate": "<b>%{hovertext}</b><br><br>Sanctioned_Entity=BCC Credito Etneo CC SC<br>Date of Sanction=%{x}<br>Sanctioned Amount (€)=%{marker.size}<extra></extra>",
         "hovertext": [
          "BCC Credito Etneo CC SC"
         ],
         "legendgroup": "BCC Credito Etneo CC SC",
         "marker": {
          "color": "#EF553B",
          "line": {
           "color": "DarkSlateGrey",
           "width": 2
          },
          "size": [
           160000
          ],
          "sizemode": "area",
          "sizeref": 250,
          "symbol": "circle"
         },
         "mode": "markers",
         "name": "BCC Credito Etneo CC SC",
         "orientation": "v",
         "showlegend": true,
         "type": "scatter",
         "x": [
          "2021-05-11T00:00:00"
         ],
         "xaxis": "x",
         "y": [
          160000
         ],
         "yaxis": "y"
        },
        {
         "hovertemplate": "<b>%{hovertext}</b><br><br>Sanctioned_Entity=BCC del Crotonese CC SC<br>Date of Sanction=%{x}<br>Sanctioned Amount (€)=%{marker.size}<extra></extra>",
         "hovertext": [
          "BCC del Crotonese CC SC"
         ],
         "legendgroup": "BCC del Crotonese CC SC",
         "marker": {
          "color": "#00cc96",
          "line": {
           "color": "DarkSlateGrey",
           "width": 2
          },
          "size": [
           60000
          ],
          "sizemode": "area",
          "sizeref": 250,
          "symbol": "circle"
         },
         "mode": "markers",
         "name": "BCC del Crotonese CC SC",
         "orientation": "v",
         "showlegend": true,
         "type": "scatter",
         "x": [
          "2021-04-27T00:00:00"
         ],
         "xaxis": "x",
         "y": [
          60000
         ],
         "yaxis": "y"
        },
        {
         "hovertemplate": "<b>%{hovertext}</b><br><br>Sanctioned_Entity=Banca Popolare di Bari Scpa (now Banca Popolare di Bari Spa)<br>Date of Sanction=%{x}<br>Sanctioned Amount (€)=%{marker.size}<extra></extra>",
         "hovertext": [
          "Banca Popolare di Bari Scpa (now Banca Popolare di Bari Spa)"
         ],
         "legendgroup": "Banca Popolare di Bari Scpa (now Banca Popolare di Bari Spa)",
         "marker": {
          "color": "#ab63fa",
          "line": {
           "color": "DarkSlateGrey",
           "width": 2
          },
          "size": [
           35000
          ],
          "sizemode": "area",
          "sizeref": 250,
          "symbol": "circle"
         },
         "mode": "markers",
         "name": "Banca Popolare di Bari Scpa (now Banca Popolare di Bari Spa)",
         "orientation": "v",
         "showlegend": true,
         "type": "scatter",
         "x": [
          null
         ],
         "xaxis": "x",
         "y": [
          35000
         ],
         "yaxis": "y"
        },
        {
         "hovertemplate": "<b>%{hovertext}</b><br><br>Sanctioned_Entity=Banca Popolare di Bari Spa<br>Date of Sanction=%{x}<br>Sanctioned Amount (€)=%{marker.size}<extra></extra>",
         "hovertext": [
          "Banca Popolare di Bari Spa"
         ],
         "legendgroup": "Banca Popolare di Bari Spa",
         "marker": {
          "color": "#FFA15A",
          "line": {
           "color": "DarkSlateGrey",
           "width": 2
          },
          "size": [
           50000
          ],
          "sizemode": "area",
          "sizeref": 250,
          "symbol": "circle"
         },
         "mode": "markers",
         "name": "Banca Popolare di Bari Spa",
         "orientation": "v",
         "showlegend": true,
         "type": "scatter",
         "x": [
          "2021-04-21T00:00:00"
         ],
         "xaxis": "x",
         "y": [
          50000
         ],
         "yaxis": "y"
        },
        {
         "hovertemplate": "<b>%{hovertext}</b><br><br>Sanctioned_Entity=Banca di Credito Peloritano Spa, ora in a.s.<br>Date of Sanction=%{x}<br>Sanctioned Amount (€)=%{marker.size}<extra></extra>",
         "hovertext": [
          "Banca di Credito Peloritano Spa, ora in a.s."
         ],
         "legendgroup": "Banca di Credito Peloritano Spa, ora in a.s.",
         "marker": {
          "color": "#19d3f3",
          "line": {
           "color": "DarkSlateGrey",
           "width": 2
          },
          "size": [
           31000
          ],
          "sizemode": "area",
          "sizeref": 250,
          "symbol": "circle"
         },
         "mode": "markers",
         "name": "Banca di Credito Peloritano Spa, ora in a.s.",
         "orientation": "v",
         "showlegend": true,
         "type": "scatter",
         "x": [
          null
         ],
         "xaxis": "x",
         "y": [
          31000
         ],
         "yaxis": "y"
        },
        {
         "hovertemplate": "<b>%{hovertext}</b><br><br>Sanctioned_Entity=Banca di Credito Peloritano Spa<br>Date of Sanction=%{x}<br>Sanctioned Amount (€)=%{marker.size}<extra></extra>",
         "hovertext": [
          "Banca di Credito Peloritano Spa"
         ],
         "legendgroup": "Banca di Credito Peloritano Spa",
         "marker": {
          "color": "#FF6692",
          "line": {
           "color": "DarkSlateGrey",
           "width": 2
          },
          "size": [
           100000
          ],
          "sizemode": "area",
          "sizeref": 250,
          "symbol": "circle"
         },
         "mode": "markers",
         "name": "Banca di Credito Peloritano Spa",
         "orientation": "v",
         "showlegend": true,
         "type": "scatter",
         "x": [
          null
         ],
         "xaxis": "x",
         "y": [
          100000
         ],
         "yaxis": "y"
        },
        {
         "hovertemplate": "<b>%{hovertext}</b><br><br>Sanctioned_Entity=D. FRANCO<br>Date of Sanction=%{x}<br>Sanctioned Amount (€)=%{marker.size}<extra></extra>",
         "hovertext": [
          "D. FRANCO",
          "D. FRANCO"
         ],
         "legendgroup": "D. FRANCO",
         "marker": {
          "color": "#B6E880",
          "line": {
           "color": "DarkSlateGrey",
           "width": 2
          },
          "size": [
           93000,
           30000
          ],
          "sizemode": "area",
          "sizeref": 250,
          "symbol": "circle"
         },
         "mode": "markers",
         "name": "D. FRANCO",
         "orientation": "v",
         "showlegend": true,
         "type": "scatter",
         "x": [
          "2020-07-14T00:00:00",
          "2020-07-14T00:00:00"
         ],
         "xaxis": "x",
         "y": [
          93000,
          30000
         ],
         "yaxis": "y"
        },
        {
         "hovertemplate": "<b>%{hovertext}</b><br><br>Sanctioned_Entity=Bancadvice.it Sas di Mazzone A & C<br>Date of Sanction=%{x}<br>Sanctioned Amount (€)=%{marker.size}<extra></extra>",
         "hovertext": [
          "Bancadvice.it Sas di Mazzone A & C"
         ],
         "legendgroup": "Bancadvice.it Sas di Mazzone A & C",
         "marker": {
          "color": "#FF97FF",
          "line": {
           "color": "DarkSlateGrey",
           "width": 2
          },
          "size": [
           30000
          ],
          "sizemode": "area",
          "sizeref": 250,
          "symbol": "circle"
         },
         "mode": "markers",
         "name": "Bancadvice.it Sas di Mazzone A & C",
         "orientation": "v",
         "showlegend": true,
         "type": "scatter",
         "x": [
          "2021-06-22T00:00:00"
         ],
         "xaxis": "x",
         "y": [
          30000
         ],
         "yaxis": "y"
        },
        {
         "hovertemplate": "<b>%{hovertext}</b><br><br>Sanctioned_Entity=BCC Don Stella di Resuttano soc. coop., ora BCC G. Toniolo di San Cataldo soc. coop.<br>Date of Sanction=%{x}<br>Sanctioned Amount (€)=%{marker.size}<extra></extra>",
         "hovertext": [
          "BCC Don Stella di Resuttano soc. coop., ora BCC G. Toniolo di San Cataldo soc. coop."
         ],
         "legendgroup": "BCC Don Stella di Resuttano soc. coop., ora BCC G. Toniolo di San Cataldo soc. coop.",
         "marker": {
          "color": "#FECB52",
          "line": {
           "color": "DarkSlateGrey",
           "width": 2
          },
          "size": [
           30000
          ],
          "sizemode": "area",
          "sizeref": 250,
          "symbol": "circle"
         },
         "mode": "markers",
         "name": "BCC Don Stella di Resuttano soc. coop., ora BCC G. Toniolo di San Cataldo soc. coop.",
         "orientation": "v",
         "showlegend": true,
         "type": "scatter",
         "x": [
          "2021-05-11T00:00:00"
         ],
         "xaxis": "x",
         "y": [
          30000
         ],
         "yaxis": "y"
        },
        {
         "hovertemplate": "<b>%{hovertext}</b><br><br>Sanctioned_Entity=Diners Club Italia Srl<br>Date of Sanction=%{x}<br>Sanctioned Amount (€)=%{marker.size}<extra></extra>",
         "hovertext": [
          "Diners Club Italia Srl"
         ],
         "legendgroup": "Diners Club Italia Srl",
         "marker": {
          "color": "#636efa",
          "line": {
           "color": "DarkSlateGrey",
           "width": 2
          },
          "size": [
           30000
          ],
          "sizemode": "area",
          "sizeref": 250,
          "symbol": "circle"
         },
         "mode": "markers",
         "name": "Diners Club Italia Srl",
         "orientation": "v",
         "showlegend": true,
         "type": "scatter",
         "x": [
          "2021-05-25T00:00:00"
         ],
         "xaxis": "x",
         "y": [
          30000
         ],
         "yaxis": "y"
        },
        {
         "hovertemplate": "<b>%{hovertext}</b><br><br>Sanctioned_Entity=Banca Monte dei Paschi di Siena Spa<br>Date of Sanction=%{x}<br>Sanctioned Amount (€)=%{marker.size}<extra></extra>",
         "hovertext": [
          "Banca Monte dei Paschi di Siena Spa"
         ],
         "legendgroup": "Banca Monte dei Paschi di Siena Spa",
         "marker": {
          "color": "#EF553B",
          "line": {
           "color": "DarkSlateGrey",
           "width": 2
          },
          "size": [
           2900
          ],
          "sizemode": "area",
          "sizeref": 250,
          "symbol": "circle"
         },
         "mode": "markers",
         "name": "Banca Monte dei Paschi di Siena Spa",
         "orientation": "v",
         "showlegend": true,
         "type": "scatter",
         "x": [
          "2021-05-03T00:00:00"
         ],
         "xaxis": "x",
         "y": [
          2900
         ],
         "yaxis": "y"
        },
        {
         "hovertemplate": "<b>%{hovertext}</b><br><br>Sanctioned_Entity=Dynamica Retail Spa<br>Date of Sanction=%{x}<br>Sanctioned Amount (€)=%{marker.size}<extra></extra>",
         "hovertext": [
          "Dynamica Retail Spa"
         ],
         "legendgroup": "Dynamica Retail Spa",
         "marker": {
          "color": "#00cc96",
          "line": {
           "color": "DarkSlateGrey",
           "width": 2
          },
          "size": [
           30000
          ],
          "sizemode": "area",
          "sizeref": 250,
          "symbol": "circle"
         },
         "mode": "markers",
         "name": "Dynamica Retail Spa",
         "orientation": "v",
         "showlegend": true,
         "type": "scatter",
         "x": [
          "2021-04-06T00:00:00"
         ],
         "xaxis": "x",
         "y": [
          30000
         ],
         "yaxis": "y"
        },
        {
         "hovertemplate": "<b>%{hovertext}</b><br><br>Sanctioned_Entity=Cassa Raiffeisen Schlern-Rosengarten<br>Date of Sanction=%{x}<br>Sanctioned Amount (€)=%{marker.size}<extra></extra>",
         "hovertext": [
          "Cassa Raiffeisen Schlern-Rosengarten"
         ],
         "legendgroup": "Cassa Raiffeisen Schlern-Rosengarten",
         "marker": {
          "color": "#ab63fa",
          "line": {
           "color": "DarkSlateGrey",
           "width": 2
          },
          "size": [
           30000
          ],
          "sizemode": "area",
          "sizeref": 250,
          "symbol": "circle"
         },
         "mode": "markers",
         "name": "Cassa Raiffeisen Schlern-Rosengarten",
         "orientation": "v",
         "showlegend": true,
         "type": "scatter",
         "x": [
          "2021-03-30T00:00:00"
         ],
         "xaxis": "x",
         "y": [
          30000
         ],
         "yaxis": "y"
        },
        {
         "hovertemplate": "<b>%{hovertext}</b><br><br>Sanctioned_Entity=Finanza & Factor Spa, ora in liquidazione<br>Date of Sanction=%{x}<br>Sanctioned Amount (€)=%{marker.size}<extra></extra>",
         "hovertext": [
          "Finanza & Factor Spa, ora in liquidazione",
          "Finanza & Factor Spa, ora in liquidazione"
         ],
         "legendgroup": "Finanza & Factor Spa, ora in liquidazione",
         "marker": {
          "color": "#FFA15A",
          "line": {
           "color": "DarkSlateGrey",
           "width": 2
          },
          "size": [
           51000,
           51000
          ],
          "sizemode": "area",
          "sizeref": 250,
          "symbol": "circle"
         },
         "mode": "markers",
         "name": "Finanza & Factor Spa, ora in liquidazione",
         "orientation": "v",
         "showlegend": true,
         "type": "scatter",
         "x": [
          "2021-03-23T00:00:00",
          "2021-03-23T00:00:00"
         ],
         "xaxis": "x",
         "y": [
          51000,
          51000
         ],
         "yaxis": "y"
        },
        {
         "hovertemplate": "<b>%{hovertext}</b><br><br>Sanctioned_Entity=Banca Popolare di Cortona Scpa<br>Date of Sanction=%{x}<br>Sanctioned Amount (€)=%{marker.size}<extra></extra>",
         "hovertext": [
          "Banca Popolare di Cortona Scpa",
          "Banca Popolare di Cortona Scpa"
         ],
         "legendgroup": "Banca Popolare di Cortona Scpa",
         "marker": {
          "color": "#19d3f3",
          "line": {
           "color": "DarkSlateGrey",
           "width": 2
          },
          "size": [
           30000,
           30000
          ],
          "sizemode": "area",
          "sizeref": 250,
          "symbol": "circle"
         },
         "mode": "markers",
         "name": "Banca Popolare di Cortona Scpa",
         "orientation": "v",
         "showlegend": true,
         "type": "scatter",
         "x": [
          "2021-03-16T00:00:00",
          "2021-03-16T00:00:00"
         ],
         "xaxis": "x",
         "y": [
          30000,
          30000
         ],
         "yaxis": "y"
        },
        {
         "hovertemplate": "<b>%{hovertext}</b><br><br>Sanctioned_Entity=Banca del Piemonte Spa<br>Date of Sanction=%{x}<br>Sanctioned Amount (€)=%{marker.size}<extra></extra>",
         "hovertext": [
          "Banca del Piemonte Spa"
         ],
         "legendgroup": "Banca del Piemonte Spa",
         "marker": {
          "color": "#FF6692",
          "line": {
           "color": "DarkSlateGrey",
           "width": 2
          },
          "size": [
           30000
          ],
          "sizemode": "area",
          "sizeref": 250,
          "symbol": "circle"
         },
         "mode": "markers",
         "name": "Banca del Piemonte Spa",
         "orientation": "v",
         "showlegend": true,
         "type": "scatter",
         "x": [
          "2020-10-27T00:00:00"
         ],
         "xaxis": "x",
         "y": [
          30000
         ],
         "yaxis": "y"
        },
        {
         "hovertemplate": "<b>%{hovertext}</b><br><br>Sanctioned_Entity=SGR Spa<br>Date of Sanction=%{x}<br>Sanctioned Amount (€)=%{marker.size}<extra></extra>",
         "hovertext": [
          "SGR Spa",
          "SGR Spa"
         ],
         "legendgroup": "SGR Spa",
         "marker": {
          "color": "#B6E880",
          "line": {
           "color": "DarkSlateGrey",
           "width": 2
          },
          "size": [
           30000,
           135000
          ],
          "sizemode": "area",
          "sizeref": 250,
          "symbol": "circle"
         },
         "mode": "markers",
         "name": "SGR Spa",
         "orientation": "v",
         "showlegend": true,
         "type": "scatter",
         "x": [
          "2020-11-10T00:00:00",
          "2019-11-12T00:00:00"
         ],
         "xaxis": "x",
         "y": [
          30000,
          135000
         ],
         "yaxis": "y"
        },
        {
         "hovertemplate": "<b>%{hovertext}</b><br><br>Sanctioned_Entity=Ipagoo LLP<br>Date of Sanction=%{x}<br>Sanctioned Amount (€)=%{marker.size}<extra></extra>",
         "hovertext": [
          "Ipagoo LLP"
         ],
         "legendgroup": "Ipagoo LLP",
         "marker": {
          "color": "#FF97FF",
          "line": {
           "color": "DarkSlateGrey",
           "width": 2
          },
          "size": [
           30000
          ],
          "sizemode": "area",
          "sizeref": 250,
          "symbol": "circle"
         },
         "mode": "markers",
         "name": "Ipagoo LLP",
         "orientation": "v",
         "showlegend": true,
         "type": "scatter",
         "x": [
          "2020-11-17T00:00:00"
         ],
         "xaxis": "x",
         "y": [
          30000
         ],
         "yaxis": "y"
        },
        {
         "hovertemplate": "<b>%{hovertext}</b><br><br>Sanctioned_Entity=Invest Banca Spa, ora in a.s.<br>Date of Sanction=%{x}<br>Sanctioned Amount (€)=%{marker.size}<extra></extra>",
         "hovertext": [
          "Invest Banca Spa, ora in a.s."
         ],
         "legendgroup": "Invest Banca Spa, ora in a.s.",
         "marker": {
          "color": "#FECB52",
          "line": {
           "color": "DarkSlateGrey",
           "width": 2
          },
          "size": [
           30000
          ],
          "sizemode": "area",
          "sizeref": 250,
          "symbol": "circle"
         },
         "mode": "markers",
         "name": "Invest Banca Spa, ora in a.s.",
         "orientation": "v",
         "showlegend": true,
         "type": "scatter",
         "x": [
          "2020-11-24T00:00:00"
         ],
         "xaxis": "x",
         "y": [
          30000
         ],
         "yaxis": "y"
        },
        {
         "hovertemplate": "<b>%{hovertext}</b><br><br>Sanctioned_Entity=Giotto SIM Spa (Giotto Cellino Sim Spa)<br>Date of Sanction=%{x}<br>Sanctioned Amount (€)=%{marker.size}<extra></extra>",
         "hovertext": [
          "Giotto SIM Spa (Giotto Cellino Sim Spa)"
         ],
         "legendgroup": "Giotto SIM Spa (Giotto Cellino Sim Spa)",
         "marker": {
          "color": "#636efa",
          "line": {
           "color": "DarkSlateGrey",
           "width": 2
          },
          "size": [
           30000
          ],
          "sizemode": "area",
          "sizeref": 250,
          "symbol": "circle"
         },
         "mode": "markers",
         "name": "Giotto SIM Spa (Giotto Cellino Sim Spa)",
         "orientation": "v",
         "showlegend": true,
         "type": "scatter",
         "x": [
          "2020-12-15T00:00:00"
         ],
         "xaxis": "x",
         "y": [
          30000
         ],
         "yaxis": "y"
        },
        {
         "hovertemplate": "<b>%{hovertext}</b><br><br>Sanctioned_Entity=Cordusio SIM Spa<br>Date of Sanction=%{x}<br>Sanctioned Amount (€)=%{marker.size}<extra></extra>",
         "hovertext": [
          "Cordusio SIM Spa"
         ],
         "legendgroup": "Cordusio SIM Spa",
         "marker": {
          "color": "#EF553B",
          "line": {
           "color": "DarkSlateGrey",
           "width": 2
          },
          "size": [
           30000
          ],
          "sizemode": "area",
          "sizeref": 250,
          "symbol": "circle"
         },
         "mode": "markers",
         "name": "Cordusio SIM Spa",
         "orientation": "v",
         "showlegend": true,
         "type": "scatter",
         "x": [
          null
         ],
         "xaxis": "x",
         "y": [
          30000
         ],
         "yaxis": "y"
        },
        {
         "hovertemplate": "<b>%{hovertext}</b><br><br>Sanctioned_Entity=Société Générale Securitie s Services Spa<br>Date of Sanction=%{x}<br>Sanctioned Amount (€)=%{marker.size}<extra></extra>",
         "hovertext": [
          "Société Générale Securitie s Services Spa"
         ],
         "legendgroup": "Société Générale Securitie s Services Spa",
         "marker": {
          "color": "#00cc96",
          "line": {
           "color": "DarkSlateGrey",
           "width": 2
          },
          "size": [
           55000
          ],
          "sizemode": "area",
          "sizeref": 250,
          "symbol": "circle"
         },
         "mode": "markers",
         "name": "Société Générale Securitie s Services Spa",
         "orientation": "v",
         "showlegend": true,
         "type": "scatter",
         "x": [
          "2021-01-19T00:00:00"
         ],
         "xaxis": "x",
         "y": [
          55000
         ],
         "yaxis": "y"
        },
        {
         "hovertemplate": "<b>%{hovertext}</b><br><br>Sanctioned_Entity=Istituto Finanziario Europeo Spa<br>Date of Sanction=%{x}<br>Sanctioned Amount (€)=%{marker.size}<extra></extra>",
         "hovertext": [
          "Istituto Finanziario Europeo Spa"
         ],
         "legendgroup": "Istituto Finanziario Europeo Spa",
         "marker": {
          "color": "#ab63fa",
          "line": {
           "color": "DarkSlateGrey",
           "width": 2
          },
          "size": [
           37000
          ],
          "sizemode": "area",
          "sizeref": 250,
          "symbol": "circle"
         },
         "mode": "markers",
         "name": "Istituto Finanziario Europeo Spa",
         "orientation": "v",
         "showlegend": true,
         "type": "scatter",
         "x": [
          "2020-07-21T00:00:00"
         ],
         "xaxis": "x",
         "y": [
          37000
         ],
         "yaxis": "y"
        },
        {
         "hovertemplate": "<b>%{hovertext}</b><br><br>Sanctioned_Entity=Direttore generale Claudia Nicolò<br>Date of Sanction=%{x}<br>Sanctioned Amount (€)=%{marker.size}<extra></extra>",
         "hovertext": [
          "Direttore generale Claudia Nicolò"
         ],
         "legendgroup": "Direttore generale Claudia Nicolò",
         "marker": {
          "color": "#FFA15A",
          "line": {
           "color": "DarkSlateGrey",
           "width": 2
          },
          "size": [
           17000
          ],
          "sizemode": "area",
          "sizeref": 250,
          "symbol": "circle"
         },
         "mode": "markers",
         "name": "Direttore generale Claudia Nicolò",
         "orientation": "v",
         "showlegend": true,
         "type": "scatter",
         "x": [
          "2020-07-21T00:00:00"
         ],
         "xaxis": "x",
         "y": [
          17000
         ],
         "yaxis": "y"
        },
        {
         "hovertemplate": "<b>%{hovertext}</b><br><br>Sanctioned_Entity=Namira SGR Spa<br>Date of Sanction=%{x}<br>Sanctioned Amount (€)=%{marker.size}<extra></extra>",
         "hovertext": [
          "Namira SGR Spa",
          "Namira SGR Spa"
         ],
         "legendgroup": "Namira SGR Spa",
         "marker": {
          "color": "#19d3f3",
          "line": {
           "color": "DarkSlateGrey",
           "width": 2
          },
          "size": [
           60000,
           30000
          ],
          "sizemode": "area",
          "sizeref": 250,
          "symbol": "circle"
         },
         "mode": "markers",
         "name": "Namira SGR Spa",
         "orientation": "v",
         "showlegend": true,
         "type": "scatter",
         "x": [
          "2020-10-06T00:00:00",
          "2020-10-06T00:00:00"
         ],
         "xaxis": "x",
         "y": [
          60000,
          30000
         ],
         "yaxis": "y"
        },
        {
         "hovertemplate": "<b>%{hovertext}</b><br><br>Sanctioned_Entity=Banca d<br>Date of Sanction=%{x}<br>Sanctioned Amount (€)=%{marker.size}<extra></extra>",
         "hovertext": [
          "Banca d"
         ],
         "legendgroup": "Banca d",
         "marker": {
          "color": "#FF6692",
          "line": {
           "color": "DarkSlateGrey",
           "width": 2
          },
          "size": [
           30000
          ],
          "sizemode": "area",
          "sizeref": 250,
          "symbol": "circle"
         },
         "mode": "markers",
         "name": "Banca d",
         "orientation": "v",
         "showlegend": true,
         "type": "scatter",
         "x": [
          "2020-10-13T00:00:00"
         ],
         "xaxis": "x",
         "y": [
          30000
         ],
         "yaxis": "y"
        },
        {
         "hovertemplate": "<b>%{hovertext}</b><br><br>Sanctioned_Entity=Races Finanziaria Spa<br>Date of Sanction=%{x}<br>Sanctioned Amount (€)=%{marker.size}<extra></extra>",
         "hovertext": [
          "Races Finanziaria Spa"
         ],
         "legendgroup": "Races Finanziaria Spa",
         "marker": {
          "color": "#B6E880",
          "line": {
           "color": "DarkSlateGrey",
           "width": 2
          },
          "size": [
           30000
          ],
          "sizemode": "area",
          "sizeref": 250,
          "symbol": "circle"
         },
         "mode": "markers",
         "name": "Races Finanziaria Spa",
         "orientation": "v",
         "showlegend": true,
         "type": "scatter",
         "x": [
          "2020-10-20T00:00:00"
         ],
         "xaxis": "x",
         "y": [
          30000
         ],
         "yaxis": "y"
        },
        {
         "hovertemplate": "<b>%{hovertext}</b><br><br>Sanctioned_Entity=Banca Popolare di Puglia e Basilicata Scpa<br>Date of Sanction=%{x}<br>Sanctioned Amount (€)=%{marker.size}<extra></extra>",
         "hovertext": [
          "Banca Popolare di Puglia e Basilicata Scpa"
         ],
         "legendgroup": "Banca Popolare di Puglia e Basilicata Scpa",
         "marker": {
          "color": "#FF97FF",
          "line": {
           "color": "DarkSlateGrey",
           "width": 2
          },
          "size": [
           30000
          ],
          "sizemode": "area",
          "sizeref": 250,
          "symbol": "circle"
         },
         "mode": "markers",
         "name": "Banca Popolare di Puglia e Basilicata Scpa",
         "orientation": "v",
         "showlegend": true,
         "type": "scatter",
         "x": [
          "2020-10-27T00:00:00"
         ],
         "xaxis": "x",
         "y": [
          30000
         ],
         "yaxis": "y"
        },
        {
         "hovertemplate": "<b>%{hovertext}</b><br><br>Sanctioned_Entity=BNP Paribas Real Estate Investment Management Italy SGR<br>Date of Sanction=%{x}<br>Sanctioned Amount (€)=%{marker.size}<extra></extra>",
         "hovertext": [
          "BNP Paribas Real Estate Investment Management Italy SGR"
         ],
         "legendgroup": "BNP Paribas Real Estate Investment Management Italy SGR",
         "marker": {
          "color": "#FECB52",
          "line": {
           "color": "DarkSlateGrey",
           "width": 2
          },
          "size": [
           73000
          ],
          "sizemode": "area",
          "sizeref": 250,
          "symbol": "circle"
         },
         "mode": "markers",
         "name": "BNP Paribas Real Estate Investment Management Italy SGR",
         "orientation": "v",
         "showlegend": true,
         "type": "scatter",
         "x": [
          "2020-09-29T00:00:00"
         ],
         "xaxis": "x",
         "y": [
          73000
         ],
         "yaxis": "y"
        },
        {
         "hovertemplate": "<b>%{hovertext}</b><br><br>Sanctioned_Entity=Banca Popolare dell’Alto Adige Spa<br>Date of Sanction=%{x}<br>Sanctioned Amount (€)=%{marker.size}<extra></extra>",
         "hovertext": [
          "Banca Popolare dell’Alto Adige Spa"
         ],
         "legendgroup": "Banca Popolare dell’Alto Adige Spa",
         "marker": {
          "color": "#636efa",
          "line": {
           "color": "DarkSlateGrey",
           "width": 2
          },
          "size": [
           145000
          ],
          "sizemode": "area",
          "sizeref": 250,
          "symbol": "circle"
         },
         "mode": "markers",
         "name": "Banca Popolare dell’Alto Adige Spa",
         "orientation": "v",
         "showlegend": true,
         "type": "scatter",
         "x": [
          "2020-09-22T00:00:00"
         ],
         "xaxis": "x",
         "y": [
          145000
         ],
         "yaxis": "y"
        },
        {
         "hovertemplate": "<b>%{hovertext}</b><br><br>Sanctioned_Entity=Banca Popolare del Cassinate Scpa<br>Date of Sanction=%{x}<br>Sanctioned Amount (€)=%{marker.size}<extra></extra>",
         "hovertext": [
          "Banca Popolare del Cassinate Scpa"
         ],
         "legendgroup": "Banca Popolare del Cassinate Scpa",
         "marker": {
          "color": "#EF553B",
          "line": {
           "color": "DarkSlateGrey",
           "width": 2
          },
          "size": [
           30000
          ],
          "sizemode": "area",
          "sizeref": 250,
          "symbol": "circle"
         },
         "mode": "markers",
         "name": "Banca Popolare del Cassinate Scpa",
         "orientation": "v",
         "showlegend": true,
         "type": "scatter",
         "x": [
          "2020-09-15T00:00:00"
         ],
         "xaxis": "x",
         "y": [
          30000
         ],
         "yaxis": "y"
        },
        {
         "hovertemplate": "<b>%{hovertext}</b><br><br>Sanctioned_Entity=Attijariwafa Bank Europe, Succursale italiana<br>Date of Sanction=%{x}<br>Sanctioned Amount (€)=%{marker.size}<extra></extra>",
         "hovertext": [
          "Attijariwafa Bank Europe, Succursale italiana",
          "Attijariwafa Bank Europe, Succursale italiana"
         ],
         "legendgroup": "Attijariwafa Bank Europe, Succursale italiana",
         "marker": {
          "color": "#00cc96",
          "line": {
           "color": "DarkSlateGrey",
           "width": 2
          },
          "size": [
           30000,
           35000
          ],
          "sizemode": "area",
          "sizeref": 250,
          "symbol": "circle"
         },
         "mode": "markers",
         "name": "Attijariwafa Bank Europe, Succursale italiana",
         "orientation": "v",
         "showlegend": true,
         "type": "scatter",
         "x": [
          "2020-09-08T00:00:00",
          "2020-09-08T00:00:00"
         ],
         "xaxis": "x",
         "y": [
          30000,
          35000
         ],
         "yaxis": "y"
        },
        {
         "hovertemplate": "<b>%{hovertext}</b><br><br>Sanctioned_Entity=Advam Partners SGR Spa, in liquidazione coatta ammi nistrativa<br>Date of Sanction=%{x}<br>Sanctioned Amount (€)=%{marker.size}<extra></extra>",
         "hovertext": [
          "Advam Partners SGR Spa, in liquidazione coatta ammi nistrativa"
         ],
         "legendgroup": "Advam Partners SGR Spa, in liquidazione coatta ammi nistrativa",
         "marker": {
          "color": "#ab63fa",
          "line": {
           "color": "DarkSlateGrey",
           "width": 2
          },
          "size": [
           70000
          ],
          "sizemode": "area",
          "sizeref": 250,
          "symbol": "circle"
         },
         "mode": "markers",
         "name": "Advam Partners SGR Spa, in liquidazione coatta ammi nistrativa",
         "orientation": "v",
         "showlegend": true,
         "type": "scatter",
         "x": [
          null
         ],
         "xaxis": "x",
         "y": [
          70000
         ],
         "yaxis": "y"
        },
        {
         "hovertemplate": "<b>%{hovertext}</b><br><br>Sanctioned_Entity=Advam Partners SGR Spa<br>Date of Sanction=%{x}<br>Sanctioned Amount (€)=%{marker.size}<extra></extra>",
         "hovertext": [
          "Advam Partners SGR Spa"
         ],
         "legendgroup": "Advam Partners SGR Spa",
         "marker": {
          "color": "#FFA15A",
          "line": {
           "color": "DarkSlateGrey",
           "width": 2
          },
          "size": [
           30000
          ],
          "sizemode": "area",
          "sizeref": 250,
          "symbol": "circle"
         },
         "mode": "markers",
         "name": "Advam Partners SGR Spa",
         "orientation": "v",
         "showlegend": true,
         "type": "scatter",
         "x": [
          "2020-02-11T00:00:00"
         ],
         "xaxis": "x",
         "y": [
          30000
         ],
         "yaxis": "y"
        },
        {
         "hovertemplate": "<b>%{hovertext}</b><br><br>Sanctioned_Entity=Advance Sim Spa in Liquidazione Coata Amministrativa di Sanzioni Amministrative Pecuniarie ex Art. 190 TUF<br>Date of Sanction=%{x}<br>Sanctioned Amount (€)=%{marker.size}<extra></extra>",
         "hovertext": [
          "Advance Sim Spa in Liquidazione Coata Amministrativa di Sanzioni Amministrative Pecuniarie ex Art. 190 TUF"
         ],
         "legendgroup": "Advance Sim Spa in Liquidazione Coata Amministrativa di Sanzioni Amministrative Pecuniarie ex Art. 190 TUF",
         "marker": {
          "color": "#19d3f3",
          "line": {
           "color": "DarkSlateGrey",
           "width": 2
          },
          "size": [
           40000
          ],
          "sizemode": "area",
          "sizeref": 250,
          "symbol": "circle"
         },
         "mode": "markers",
         "name": "Advance Sim Spa in Liquidazione Coata Amministrativa di Sanzioni Amministrative Pecuniarie ex Art. 190 TUF",
         "orientation": "v",
         "showlegend": true,
         "type": "scatter",
         "x": [
          "2020-06-23T00:00:00"
         ],
         "xaxis": "x",
         "y": [
          40000
         ],
         "yaxis": "y"
        },
        {
         "hovertemplate": "<b>%{hovertext}</b><br><br>Sanctioned_Entity=Banca Popolare di Bari Scpa in a.s.<br>Date of Sanction=%{x}<br>Sanctioned Amount (€)=%{marker.size}<extra></extra>",
         "hovertext": [
          "Banca Popolare di Bari Scpa in a.s."
         ],
         "legendgroup": "Banca Popolare di Bari Scpa in a.s.",
         "marker": {
          "color": "#FF6692",
          "line": {
           "color": "DarkSlateGrey",
           "width": 2
          },
          "size": [
           100000
          ],
          "sizemode": "area",
          "sizeref": 250,
          "symbol": "circle"
         },
         "mode": "markers",
         "name": "Banca Popolare di Bari Scpa in a.s.",
         "orientation": "v",
         "showlegend": true,
         "type": "scatter",
         "x": [
          "2020-07-06T00:00:00"
         ],
         "xaxis": "x",
         "y": [
          100000
         ],
         "yaxis": "y"
        },
        {
         "hovertemplate": "<b>%{hovertext}</b><br><br>Sanctioned_Entity=Vita la<br>Date of Sanction=%{x}<br>Sanctioned Amount (€)=%{marker.size}<extra></extra>",
         "hovertext": [
          "Vita la"
         ],
         "legendgroup": "Vita la",
         "marker": {
          "color": "#B6E880",
          "line": {
           "color": "DarkSlateGrey",
           "width": 2
          },
          "size": [
           0
          ],
          "sizemode": "area",
          "sizeref": 250,
          "symbol": "circle"
         },
         "mode": "markers",
         "name": "Vita la",
         "orientation": "v",
         "showlegend": true,
         "type": "scatter",
         "x": [
          "2020-07-06T00:00:00"
         ],
         "xaxis": "x",
         "y": [
          0
         ],
         "yaxis": "y"
        },
        {
         "hovertemplate": "<b>%{hovertext}</b><br><br>Sanctioned_Entity=Cassa Lombarda Spa<br>Date of Sanction=%{x}<br>Sanctioned Amount (€)=%{marker.size}<extra></extra>",
         "hovertext": [
          "Cassa Lombarda Spa",
          "Cassa Lombarda Spa"
         ],
         "legendgroup": "Cassa Lombarda Spa",
         "marker": {
          "color": "#FF97FF",
          "line": {
           "color": "DarkSlateGrey",
           "width": 2
          },
          "size": [
           60000,
           30000
          ],
          "sizemode": "area",
          "sizeref": 250,
          "symbol": "circle"
         },
         "mode": "markers",
         "name": "Cassa Lombarda Spa",
         "orientation": "v",
         "showlegend": true,
         "type": "scatter",
         "x": [
          "2020-07-28T00:00:00",
          "2020-07-28T00:00:00"
         ],
         "xaxis": "x",
         "y": [
          60000,
          30000
         ],
         "yaxis": "y"
        },
        {
         "hovertemplate": "<b>%{hovertext}</b><br><br>Sanctioned_Entity=UBS Fiduciaria Spa<br>Date of Sanction=%{x}<br>Sanctioned Amount (€)=%{marker.size}<extra></extra>",
         "hovertext": [
          "UBS Fiduciaria Spa"
         ],
         "legendgroup": "UBS Fiduciaria Spa",
         "marker": {
          "color": "#FECB52",
          "line": {
           "color": "DarkSlateGrey",
           "width": 2
          },
          "size": [
           30000
          ],
          "sizemode": "area",
          "sizeref": 250,
          "symbol": "circle"
         },
         "mode": "markers",
         "name": "UBS Fiduciaria Spa",
         "orientation": "v",
         "showlegend": true,
         "type": "scatter",
         "x": [
          "2020-08-04T00:00:00"
         ],
         "xaxis": "x",
         "y": [
          30000
         ],
         "yaxis": "y"
        },
        {
         "hovertemplate": "<b>%{hovertext}</b><br><br>Sanctioned_Entity=Banco BPM Spa<br>Date of Sanction=%{x}<br>Sanctioned Amount (€)=%{marker.size}<extra></extra>",
         "hovertext": [
          "Banco BPM Spa"
         ],
         "legendgroup": "Banco BPM Spa",
         "marker": {
          "color": "#636efa",
          "line": {
           "color": "DarkSlateGrey",
           "width": 2
          },
          "size": [
           1760
          ],
          "sizemode": "area",
          "sizeref": 250,
          "symbol": "circle"
         },
         "mode": "markers",
         "name": "Banco BPM Spa",
         "orientation": "v",
         "showlegend": true,
         "type": "scatter",
         "x": [
          "2020-02-25T00:00:00"
         ],
         "xaxis": "x",
         "y": [
          1760
         ],
         "yaxis": "y"
        },
        {
         "hovertemplate": "<b>%{hovertext}</b><br><br>Sanctioned_Entity=Banca Centropadana Credito Cooperativo Sc<br>Date of Sanction=%{x}<br>Sanctioned Amount (€)=%{marker.size}<extra></extra>",
         "hovertext": [
          "Banca Centropadana Credito Cooperativo Sc"
         ],
         "legendgroup": "Banca Centropadana Credito Cooperativo Sc",
         "marker": {
          "color": "#EF553B",
          "line": {
           "color": "DarkSlateGrey",
           "width": 2
          },
          "size": [
           570000
          ],
          "sizemode": "area",
          "sizeref": 250,
          "symbol": "circle"
         },
         "mode": "markers",
         "name": "Banca Centropadana Credito Cooperativo Sc",
         "orientation": "v",
         "showlegend": true,
         "type": "scatter",
         "x": [
          "2020-03-03T00:00:00"
         ],
         "xaxis": "x",
         "y": [
          570000
         ],
         "yaxis": "y"
        },
        {
         "hovertemplate": "<b>%{hovertext}</b><br><br>Sanctioned_Entity=Roma, 30.06.2020<br>Date of Sanction=%{x}<br>Sanctioned Amount (€)=%{marker.size}<extra></extra>",
         "hovertext": [
          "Roma, 30.06.2020"
         ],
         "legendgroup": "Roma, 30.06.2020",
         "marker": {
          "color": "#00cc96",
          "line": {
           "color": "DarkSlateGrey",
           "width": 2
          },
          "size": [
           30000
          ],
          "sizemode": "area",
          "sizeref": 250,
          "symbol": "circle"
         },
         "mode": "markers",
         "name": "Roma, 30.06.2020",
         "orientation": "v",
         "showlegend": true,
         "type": "scatter",
         "x": [
          "2020-06-30T00:00:00"
         ],
         "xaxis": "x",
         "y": [
          30000
         ],
         "yaxis": "y"
        },
        {
         "hovertemplate": "<b>%{hovertext}</b><br><br>Sanctioned_Entity=We Finance Spa<br>Date of Sanction=%{x}<br>Sanctioned Amount (€)=%{marker.size}<extra></extra>",
         "hovertext": [
          "We Finance Spa",
          "We Finance Spa"
         ],
         "legendgroup": "We Finance Spa",
         "marker": {
          "color": "#ab63fa",
          "line": {
           "color": "DarkSlateGrey",
           "width": 2
          },
          "size": [
           30000,
           30000
          ],
          "sizemode": "area",
          "sizeref": 250,
          "symbol": "circle"
         },
         "mode": "markers",
         "name": "We Finance Spa",
         "orientation": "v",
         "showlegend": true,
         "type": "scatter",
         "x": [
          "2020-07-06T00:00:00",
          "2020-07-06T00:00:00"
         ],
         "xaxis": "x",
         "y": [
          30000,
          30000
         ],
         "yaxis": "y"
        },
        {
         "hovertemplate": "<b>%{hovertext}</b><br><br>Sanctioned_Entity=CRU Giudicarie Valsabbia Paganella BCC S.c.<br>Date of Sanction=%{x}<br>Sanctioned Amount (€)=%{marker.size}<extra></extra>",
         "hovertext": [
          "CRU Giudicarie Valsabbia Paganella BCC S.c."
         ],
         "legendgroup": "CRU Giudicarie Valsabbia Paganella BCC S.c.",
         "marker": {
          "color": "#FFA15A",
          "line": {
           "color": "DarkSlateGrey",
           "width": 2
          },
          "size": [
           135000
          ],
          "sizemode": "area",
          "sizeref": 250,
          "symbol": "circle"
         },
         "mode": "markers",
         "name": "CRU Giudicarie Valsabbia Paganella BCC S.c.",
         "orientation": "v",
         "showlegend": true,
         "type": "scatter",
         "x": [
          "2020-07-14T00:00:00"
         ],
         "xaxis": "x",
         "y": [
          135000
         ],
         "yaxis": "y"
        },
        {
         "hovertemplate": "<b>%{hovertext}</b><br><br>Sanctioned_Entity=Banca C.R. Asti Spa<br>Date of Sanction=%{x}<br>Sanctioned Amount (€)=%{marker.size}<extra></extra>",
         "hovertext": [
          "Banca C.R. Asti Spa"
         ],
         "legendgroup": "Banca C.R. Asti Spa",
         "marker": {
          "color": "#19d3f3",
          "line": {
           "color": "DarkSlateGrey",
           "width": 2
          },
          "size": [
           186000
          ],
          "sizemode": "area",
          "sizeref": 250,
          "symbol": "circle"
         },
         "mode": "markers",
         "name": "Banca C.R. Asti Spa",
         "orientation": "v",
         "showlegend": true,
         "type": "scatter",
         "x": [
          "2020-03-10T00:00:00"
         ],
         "xaxis": "x",
         "y": [
          186000
         ],
         "yaxis": "y"
        },
        {
         "hovertemplate": "<b>%{hovertext}</b><br><br>Sanctioned_Entity=Finaosta Spa<br>Date of Sanction=%{x}<br>Sanctioned Amount (€)=%{marker.size}<extra></extra>",
         "hovertext": [
          "Finaosta Spa"
         ],
         "legendgroup": "Finaosta Spa",
         "marker": {
          "color": "#FF6692",
          "line": {
           "color": "DarkSlateGrey",
           "width": 2
          },
          "size": [
           45000
          ],
          "sizemode": "area",
          "sizeref": 250,
          "symbol": "circle"
         },
         "mode": "markers",
         "name": "Finaosta Spa",
         "orientation": "v",
         "showlegend": true,
         "type": "scatter",
         "x": [
          "2020-03-03T00:00:00"
         ],
         "xaxis": "x",
         "y": [
          45000
         ],
         "yaxis": "y"
        },
        {
         "hovertemplate": "<b>%{hovertext}</b><br><br>Sanctioned_Entity=La Colombo Finanziaria Spa<br>Date of Sanction=%{x}<br>Sanctioned Amount (€)=%{marker.size}<extra></extra>",
         "hovertext": [
          "La Colombo Finanziaria Spa",
          "La Colombo Finanziaria Spa"
         ],
         "legendgroup": "La Colombo Finanziaria Spa",
         "marker": {
          "color": "#B6E880",
          "line": {
           "color": "DarkSlateGrey",
           "width": 2
          },
          "size": [
           30000,
           60000
          ],
          "sizemode": "area",
          "sizeref": 250,
          "symbol": "circle"
         },
         "mode": "markers",
         "name": "La Colombo Finanziaria Spa",
         "orientation": "v",
         "showlegend": true,
         "type": "scatter",
         "x": [
          "2020-01-21T00:00:00",
          "2020-01-21T00:00:00"
         ],
         "xaxis": "x",
         "y": [
          30000,
          60000
         ],
         "yaxis": "y"
        },
        {
         "hovertemplate": "<b>%{hovertext}</b><br><br>Sanctioned_Entity=Mikro Kapital Spa<br>Date of Sanction=%{x}<br>Sanctioned Amount (€)=%{marker.size}<extra></extra>",
         "hovertext": [
          "Mikro Kapital Spa"
         ],
         "legendgroup": "Mikro Kapital Spa",
         "marker": {
          "color": "#FF97FF",
          "line": {
           "color": "DarkSlateGrey",
           "width": 2
          },
          "size": [
           30000
          ],
          "sizemode": "area",
          "sizeref": 250,
          "symbol": "circle"
         },
         "mode": "markers",
         "name": "Mikro Kapital Spa",
         "orientation": "v",
         "showlegend": true,
         "type": "scatter",
         "x": [
          null
         ],
         "xaxis": "x",
         "y": [
          30000
         ],
         "yaxis": "y"
        },
        {
         "hovertemplate": "<b>%{hovertext}</b><br><br>Sanctioned_Entity=ING Bank Nv<br>Date of Sanction=%{x}<br>Sanctioned Amount (€)=%{marker.size}<extra></extra>",
         "hovertext": [
          "ING Bank Nv"
         ],
         "legendgroup": "ING Bank Nv",
         "marker": {
          "color": "#FECB52",
          "line": {
           "color": "DarkSlateGrey",
           "width": 2
          },
          "size": [
           3500
          ],
          "sizemode": "area",
          "sizeref": 250,
          "symbol": "circle"
         },
         "mode": "markers",
         "name": "ING Bank Nv",
         "orientation": "v",
         "showlegend": true,
         "type": "scatter",
         "x": [
          null
         ],
         "xaxis": "x",
         "y": [
          3500
         ],
         "yaxis": "y"
        },
        {
         "hovertemplate": "<b>%{hovertext}</b><br><br>Sanctioned_Entity=Banca del Cilento di Sassano e Vallo di Diano e della Lucania<br>Date of Sanction=%{x}<br>Sanctioned Amount (€)=%{marker.size}<extra></extra>",
         "hovertext": [
          "Banca del Cilento di Sassano e Vallo di Diano e della Lucania"
         ],
         "legendgroup": "Banca del Cilento di Sassano e Vallo di Diano e della Lucania",
         "marker": {
          "color": "#636efa",
          "line": {
           "color": "DarkSlateGrey",
           "width": 2
          },
          "size": [
           30000
          ],
          "sizemode": "area",
          "sizeref": 250,
          "symbol": "circle"
         },
         "mode": "markers",
         "name": "Banca del Cilento di Sassano e Vallo di Diano e della Lucania",
         "orientation": "v",
         "showlegend": true,
         "type": "scatter",
         "x": [
          "2020-01-08T00:00:00"
         ],
         "xaxis": "x",
         "y": [
          30000
         ],
         "yaxis": "y"
        },
        {
         "hovertemplate": "<b>%{hovertext}</b><br><br>Sanctioned_Entity=Numeria SGR Spa<br>Date of Sanction=%{x}<br>Sanctioned Amount (€)=%{marker.size}<extra></extra>",
         "hovertext": [
          "Numeria SGR Spa"
         ],
         "legendgroup": "Numeria SGR Spa",
         "marker": {
          "color": "#EF553B",
          "line": {
           "color": "DarkSlateGrey",
           "width": 2
          },
          "size": [
           60000
          ],
          "sizemode": "area",
          "sizeref": 250,
          "symbol": "circle"
         },
         "mode": "markers",
         "name": "Numeria SGR Spa",
         "orientation": "v",
         "showlegend": true,
         "type": "scatter",
         "x": [
          "2019-11-19T00:00:00"
         ],
         "xaxis": "x",
         "y": [
          60000
         ],
         "yaxis": "y"
        },
        {
         "hovertemplate": "<b>%{hovertext}</b><br><br>Sanctioned_Entity=Istituto Finanziario Riunito Spa - IFIR<br>Date of Sanction=%{x}<br>Sanctioned Amount (€)=%{marker.size}<extra></extra>",
         "hovertext": [
          "Istituto Finanziario Riunito Spa - IFIR"
         ],
         "legendgroup": "Istituto Finanziario Riunito Spa - IFIR",
         "marker": {
          "color": "#00cc96",
          "line": {
           "color": "DarkSlateGrey",
           "width": 2
          },
          "size": [
           30000
          ],
          "sizemode": "area",
          "sizeref": 250,
          "symbol": "circle"
         },
         "mode": "markers",
         "name": "Istituto Finanziario Riunito Spa - IFIR",
         "orientation": "v",
         "showlegend": true,
         "type": "scatter",
         "x": [
          null
         ],
         "xaxis": "x",
         "y": [
          30000
         ],
         "yaxis": "y"
        },
        {
         "hovertemplate": "<b>%{hovertext}</b><br><br>Sanctioned_Entity=Associated Foreign Exchange Ltd<br>Date of Sanction=%{x}<br>Sanctioned Amount (€)=%{marker.size}<extra></extra>",
         "hovertext": [
          "Associated Foreign Exchange Ltd"
         ],
         "legendgroup": "Associated Foreign Exchange Ltd",
         "marker": {
          "color": "#ab63fa",
          "line": {
           "color": "DarkSlateGrey",
           "width": 2
          },
          "size": [
           30000
          ],
          "sizemode": "area",
          "sizeref": 250,
          "symbol": "circle"
         },
         "mode": "markers",
         "name": "Associated Foreign Exchange Ltd",
         "orientation": "v",
         "showlegend": true,
         "type": "scatter",
         "x": [
          "2019-12-10T00:00:00"
         ],
         "xaxis": "x",
         "y": [
          30000
         ],
         "yaxis": "y"
        },
        {
         "hovertemplate": "<b>%{hovertext}</b><br><br>Sanctioned_Entity=Banca Monte dei Paschi di Siena  S.p.A.<br>Date of Sanction=%{x}<br>Sanctioned Amount (€)=%{marker.size}<extra></extra>",
         "hovertext": [
          "Banca Monte dei Paschi di Siena  S.p.A."
         ],
         "legendgroup": "Banca Monte dei Paschi di Siena  S.p.A.",
         "marker": {
          "color": "#FFA15A",
          "line": {
           "color": "DarkSlateGrey",
           "width": 2
          },
          "size": [
           1320
          ],
          "sizemode": "area",
          "sizeref": 250,
          "symbol": "circle"
         },
         "mode": "markers",
         "name": "Banca Monte dei Paschi di Siena  S.p.A.",
         "orientation": "v",
         "showlegend": true,
         "type": "scatter",
         "x": [
          "2019-12-10T00:00:00"
         ],
         "xaxis": "x",
         "y": [
          1320
         ],
         "yaxis": "y"
        },
        {
         "hovertemplate": "<b>%{hovertext}</b><br><br>Sanctioned_Entity=Sig. Valter Mainetti (in qualità di Amministratore delegato di Sorgente SGR Spa)<br>Date of Sanction=%{x}<br>Sanctioned Amount (€)=%{marker.size}<extra></extra>",
         "hovertext": [
          "Sig. Valter Mainetti (in qualità di Amministratore delegato di Sorgente SGR Spa)"
         ],
         "legendgroup": "Sig. Valter Mainetti (in qualità di Amministratore delegato di Sorgente SGR Spa)",
         "marker": {
          "color": "#19d3f3",
          "line": {
           "color": "DarkSlateGrey",
           "width": 2
          },
          "size": [
           60000
          ],
          "sizemode": "area",
          "sizeref": 250,
          "symbol": "circle"
         },
         "mode": "markers",
         "name": "Sig. Valter Mainetti (in qualità di Amministratore delegato di Sorgente SGR Spa)",
         "orientation": "v",
         "showlegend": true,
         "type": "scatter",
         "x": [
          null
         ],
         "xaxis": "x",
         "y": [
          60000
         ],
         "yaxis": "y"
        },
        {
         "hovertemplate": "<b>%{hovertext}</b><br><br>Sanctioned_Entity=Giancarlo Gerano (Banca Mondiale Sovrana)<br>Date of Sanction=%{x}<br>Sanctioned Amount (€)=%{marker.size}<extra></extra>",
         "hovertext": [
          "Giancarlo Gerano (Banca Mondiale Sovrana)"
         ],
         "legendgroup": "Giancarlo Gerano (Banca Mondiale Sovrana)",
         "marker": {
          "color": "#FF6692",
          "line": {
           "color": "DarkSlateGrey",
           "width": 2
          },
          "size": [
           5000
          ],
          "sizemode": "area",
          "sizeref": 250,
          "symbol": "circle"
         },
         "mode": "markers",
         "name": "Giancarlo Gerano (Banca Mondiale Sovrana)",
         "orientation": "v",
         "showlegend": true,
         "type": "scatter",
         "x": [
          "2019-09-17T00:00:00"
         ],
         "xaxis": "x",
         "y": [
          5000
         ],
         "yaxis": "y"
        },
        {
         "hovertemplate": "<b>%{hovertext}</b><br><br>Sanctioned_Entity=BCC di San Biagio Platani<br>Date of Sanction=%{x}<br>Sanctioned Amount (€)=%{marker.size}<extra></extra>",
         "hovertext": [
          "BCC di San Biagio Platani"
         ],
         "legendgroup": "BCC di San Biagio Platani",
         "marker": {
          "color": "#B6E880",
          "line": {
           "color": "DarkSlateGrey",
           "width": 2
          },
          "size": [
           71000
          ],
          "sizemode": "area",
          "sizeref": 250,
          "symbol": "circle"
         },
         "mode": "markers",
         "name": "BCC di San Biagio Platani",
         "orientation": "v",
         "showlegend": true,
         "type": "scatter",
         "x": [
          null
         ],
         "xaxis": "x",
         "y": [
          71000
         ],
         "yaxis": "y"
        },
        {
         "hovertemplate": "<b>%{hovertext}</b><br><br>Sanctioned_Entity=Carlyle Real Estate SGR<br>Date of Sanction=%{x}<br>Sanctioned Amount (€)=%{marker.size}<extra></extra>",
         "hovertext": [
          "Carlyle Real Estate SGR"
         ],
         "legendgroup": "Carlyle Real Estate SGR",
         "marker": {
          "color": "#FF97FF",
          "line": {
           "color": "DarkSlateGrey",
           "width": 2
          },
          "size": [
           60000
          ],
          "sizemode": "area",
          "sizeref": 250,
          "symbol": "circle"
         },
         "mode": "markers",
         "name": "Carlyle Real Estate SGR",
         "orientation": "v",
         "showlegend": true,
         "type": "scatter",
         "x": [
          "2019-11-26T00:00:00"
         ],
         "xaxis": "x",
         "y": [
          60000
         ],
         "yaxis": "y"
        },
        {
         "hovertemplate": "<b>%{hovertext}</b><br><br>Sanctioned_Entity=F. PANETTA<br>Date of Sanction=%{x}<br>Sanctioned Amount (€)=%{marker.size}<extra></extra>",
         "hovertext": [
          "F. PANETTA"
         ],
         "legendgroup": "F. PANETTA",
         "marker": {
          "color": "#FECB52",
          "line": {
           "color": "DarkSlateGrey",
           "width": 2
          },
          "size": [
           30000
          ],
          "sizemode": "area",
          "sizeref": 250,
          "symbol": "circle"
         },
         "mode": "markers",
         "name": "F. PANETTA",
         "orientation": "v",
         "showlegend": true,
         "type": "scatter",
         "x": [
          "2019-09-24T00:00:00"
         ],
         "xaxis": "x",
         "y": [
          30000
         ],
         "yaxis": "y"
        },
        {
         "hovertemplate": "<b>%{hovertext}</b><br><br>Sanctioned_Entity=Giangiacomo Savogin<br>Date of Sanction=%{x}<br>Sanctioned Amount (€)=%{marker.size}<extra></extra>",
         "hovertext": [
          "Giangiacomo Savogin"
         ],
         "legendgroup": "Giangiacomo Savogin",
         "marker": {
          "color": "#636efa",
          "line": {
           "color": "DarkSlateGrey",
           "width": 2
          },
          "size": [
           5000
          ],
          "sizemode": "area",
          "sizeref": 250,
          "symbol": "circle"
         },
         "mode": "markers",
         "name": "Giangiacomo Savogin",
         "orientation": "v",
         "showlegend": true,
         "type": "scatter",
         "x": [
          "2019-09-17T00:00:00"
         ],
         "xaxis": "x",
         "y": [
          5000
         ],
         "yaxis": "y"
        },
        {
         "hovertemplate": "<b>%{hovertext}</b><br><br>Sanctioned_Entity=Crédit Agricole It<br>Date of Sanction=%{x}<br>Sanctioned Amount (€)=%{marker.size}<extra></extra>",
         "hovertext": [
          "Crédit Agricole It"
         ],
         "legendgroup": "Crédit Agricole It",
         "marker": {
          "color": "#EF553B",
          "line": {
           "color": "DarkSlateGrey",
           "width": 2
          },
          "size": [
           1700
          ],
          "sizemode": "area",
          "sizeref": 250,
          "symbol": "circle"
         },
         "mode": "markers",
         "name": "Crédit Agricole It",
         "orientation": "v",
         "showlegend": true,
         "type": "scatter",
         "x": [
          "2019-09-10T00:00:00"
         ],
         "xaxis": "x",
         "y": [
          1700
         ],
         "yaxis": "y"
        },
        {
         "hovertemplate": "<b>%{hovertext}</b><br><br>Sanctioned_Entity=Unicasim Spa<br>Date of Sanction=%{x}<br>Sanctioned Amount (€)=%{marker.size}<extra></extra>",
         "hovertext": [
          "Unicasim Spa"
         ],
         "legendgroup": "Unicasim Spa",
         "marker": {
          "color": "#00cc96",
          "line": {
           "color": "DarkSlateGrey",
           "width": 2
          },
          "size": [
           35000
          ],
          "sizemode": "area",
          "sizeref": 250,
          "symbol": "circle"
         },
         "mode": "markers",
         "name": "Unicasim Spa",
         "orientation": "v",
         "showlegend": true,
         "type": "scatter",
         "x": [
          "2019-07-30T00:00:00"
         ],
         "xaxis": "x",
         "y": [
          35000
         ],
         "yaxis": "y"
        },
        {
         "hovertemplate": "<b>%{hovertext}</b><br><br>Sanctioned_Entity=Banca Popolare del Lazio Scpa<br>Date of Sanction=%{x}<br>Sanctioned Amount (€)=%{marker.size}<extra></extra>",
         "hovertext": [
          "Banca Popolare del Lazio Scpa"
         ],
         "legendgroup": "Banca Popolare del Lazio Scpa",
         "marker": {
          "color": "#ab63fa",
          "line": {
           "color": "DarkSlateGrey",
           "width": 2
          },
          "size": [
           49000
          ],
          "sizemode": "area",
          "sizeref": 250,
          "symbol": "circle"
         },
         "mode": "markers",
         "name": "Banca Popolare del Lazio Scpa",
         "orientation": "v",
         "showlegend": true,
         "type": "scatter",
         "x": [
          "2019-07-23T00:00:00"
         ],
         "xaxis": "x",
         "y": [
          49000
         ],
         "yaxis": "y"
        },
        {
         "hovertemplate": "<b>%{hovertext}</b><br><br>Sanctioned_Entity=Fidor Spa - Fiduciaria Orefici<br>Date of Sanction=%{x}<br>Sanctioned Amount (€)=%{marker.size}<extra></extra>",
         "hovertext": [
          "Fidor Spa - Fiduciaria Orefici"
         ],
         "legendgroup": "Fidor Spa - Fiduciaria Orefici",
         "marker": {
          "color": "#FFA15A",
          "line": {
           "color": "DarkSlateGrey",
           "width": 2
          },
          "size": [
           30000
          ],
          "sizemode": "area",
          "sizeref": 250,
          "symbol": "circle"
         },
         "mode": "markers",
         "name": "Fidor Spa - Fiduciaria Orefici",
         "orientation": "v",
         "showlegend": true,
         "type": "scatter",
         "x": [
          "2019-07-16T00:00:00"
         ],
         "xaxis": "x",
         "y": [
          30000
         ],
         "yaxis": "y"
        },
        {
         "hovertemplate": "<b>%{hovertext}</b><br><br>Sanctioned_Entity=Principia Sgr<br>Date of Sanction=%{x}<br>Sanctioned Amount (€)=%{marker.size}<extra></extra>",
         "hovertext": [
          "Principia Sgr"
         ],
         "legendgroup": "Principia Sgr",
         "marker": {
          "color": "#19d3f3",
          "line": {
           "color": "DarkSlateGrey",
           "width": 2
          },
          "size": [
           30000
          ],
          "sizemode": "area",
          "sizeref": 250,
          "symbol": "circle"
         },
         "mode": "markers",
         "name": "Principia Sgr",
         "orientation": "v",
         "showlegend": true,
         "type": "scatter",
         "x": [
          "2019-07-16T00:00:00"
         ],
         "xaxis": "x",
         "y": [
          30000
         ],
         "yaxis": "y"
        },
        {
         "hovertemplate": "<b>%{hovertext}</b><br><br>Sanctioned_Entity=Finpiemonte Spa<br>Date of Sanction=%{x}<br>Sanctioned Amount (€)=%{marker.size}<extra></extra>",
         "hovertext": [
          "Finpiemonte Spa",
          "Finpiemonte Spa"
         ],
         "legendgroup": "Finpiemonte Spa",
         "marker": {
          "color": "#FF6692",
          "line": {
           "color": "DarkSlateGrey",
           "width": 2
          },
          "size": [
           68000,
           30000
          ],
          "sizemode": "area",
          "sizeref": 250,
          "symbol": "circle"
         },
         "mode": "markers",
         "name": "Finpiemonte Spa",
         "orientation": "v",
         "showlegend": true,
         "type": "scatter",
         "x": [
          "2019-04-23T00:00:00",
          "2019-04-23T00:00:00"
         ],
         "xaxis": "x",
         "y": [
          68000,
          30000
         ],
         "yaxis": "y"
        },
        {
         "hovertemplate": "<b>%{hovertext}</b><br><br>Sanctioned_Entity=Speedymoney Spa<br>Date of Sanction=%{x}<br>Sanctioned Amount (€)=%{marker.size}<extra></extra>",
         "hovertext": [
          "Speedymoney Spa",
          "Speedymoney Spa"
         ],
         "legendgroup": "Speedymoney Spa",
         "marker": {
          "color": "#B6E880",
          "line": {
           "color": "DarkSlateGrey",
           "width": 2
          },
          "size": [
           60000,
           30000
          ],
          "sizemode": "area",
          "sizeref": 250,
          "symbol": "circle"
         },
         "mode": "markers",
         "name": "Speedymoney Spa",
         "orientation": "v",
         "showlegend": true,
         "type": "scatter",
         "x": [
          "2019-06-18T00:00:00",
          "2019-06-18T00:00:00"
         ],
         "xaxis": "x",
         "y": [
          60000,
          30000
         ],
         "yaxis": "y"
        },
        {
         "hovertemplate": "<b>%{hovertext}</b><br><br>Sanctioned_Entity=P. Fiduciaria Srl<br>Date of Sanction=%{x}<br>Sanctioned Amount (€)=%{marker.size}<extra></extra>",
         "hovertext": [
          "P. Fiduciaria Srl"
         ],
         "legendgroup": "P. Fiduciaria Srl",
         "marker": {
          "color": "#FF97FF",
          "line": {
           "color": "DarkSlateGrey",
           "width": 2
          },
          "size": [
           30000
          ],
          "sizemode": "area",
          "sizeref": 250,
          "symbol": "circle"
         },
         "mode": "markers",
         "name": "P. Fiduciaria Srl",
         "orientation": "v",
         "showlegend": true,
         "type": "scatter",
         "x": [
          "2019-04-23T00:00:00"
         ],
         "xaxis": "x",
         "y": [
          30000
         ],
         "yaxis": "y"
        },
        {
         "hovertemplate": "<b>%{hovertext}</b><br><br>Sanctioned_Entity=Banca di Credito Cooperativo di Napoli<br>Date of Sanction=%{x}<br>Sanctioned Amount (€)=%{marker.size}<extra></extra>",
         "hovertext": [
          "Banca di Credito Cooperativo di Napoli"
         ],
         "legendgroup": "Banca di Credito Cooperativo di Napoli",
         "marker": {
          "color": "#FECB52",
          "line": {
           "color": "DarkSlateGrey",
           "width": 2
          },
          "size": [
           30000
          ],
          "sizemode": "area",
          "sizeref": 250,
          "symbol": "circle"
         },
         "mode": "markers",
         "name": "Banca di Credito Cooperativo di Napoli",
         "orientation": "v",
         "showlegend": true,
         "type": "scatter",
         "x": [
          "2019-05-07T00:00:00"
         ],
         "xaxis": "x",
         "y": [
          30000
         ],
         "yaxis": "y"
        },
        {
         "hovertemplate": "<b>%{hovertext}</b><br><br>Sanctioned_Entity=Banca di Credito Cooperativo Valdostana<br>Date of Sanction=%{x}<br>Sanctioned Amount (€)=%{marker.size}<extra></extra>",
         "hovertext": [
          "Banca di Credito Cooperativo Valdostana",
          "Banca di Credito Cooperativo Valdostana"
         ],
         "legendgroup": "Banca di Credito Cooperativo Valdostana",
         "marker": {
          "color": "#636efa",
          "line": {
           "color": "DarkSlateGrey",
           "width": 2
          },
          "size": [
           167000,
           133000
          ],
          "sizemode": "area",
          "sizeref": 250,
          "symbol": "circle"
         },
         "mode": "markers",
         "name": "Banca di Credito Cooperativo Valdostana",
         "orientation": "v",
         "showlegend": true,
         "type": "scatter",
         "x": [
          "2019-05-21T00:00:00",
          null
         ],
         "xaxis": "x",
         "y": [
          167000,
          133000
         ],
         "yaxis": "y"
        },
        {
         "hovertemplate": "<b>%{hovertext}</b><br><br>Sanctioned_Entity=LCC Trans Sending Limited<br>Date of Sanction=%{x}<br>Sanctioned Amount (€)=%{marker.size}<extra></extra>",
         "hovertext": [
          "LCC Trans Sending Limited"
         ],
         "legendgroup": "LCC Trans Sending Limited",
         "marker": {
          "color": "#EF553B",
          "line": {
           "color": "DarkSlateGrey",
           "width": 2
          },
          "size": [
           30000
          ],
          "sizemode": "area",
          "sizeref": 250,
          "symbol": "circle"
         },
         "mode": "markers",
         "name": "LCC Trans Sending Limited",
         "orientation": "v",
         "showlegend": true,
         "type": "scatter",
         "x": [
          "2019-06-04T00:00:00"
         ],
         "xaxis": "x",
         "y": [
          30000
         ],
         "yaxis": "y"
        },
        {
         "hovertemplate": "<b>%{hovertext}</b><br><br>Sanctioned_Entity=Società non idonee a superare la proposita del Servizio Rapporti Istituzionali di Vigilanza<br>Date of Sanction=%{x}<br>Sanctioned Amount (€)=%{marker.size}<extra></extra>",
         "hovertext": [
          "Società non idonee a superare la proposita del Servizio Rapporti Istituzionali di Vigilanza"
         ],
         "legendgroup": "Società non idonee a superare la proposita del Servizio Rapporti Istituzionali di Vigilanza",
         "marker": {
          "color": "#00cc96",
          "line": {
           "color": "DarkSlateGrey",
           "width": 2
          },
          "size": [
           40000
          ],
          "sizemode": "area",
          "sizeref": 250,
          "symbol": "circle"
         },
         "mode": "markers",
         "name": "Società non idonee a superare la proposita del Servizio Rapporti Istituzionali di Vigilanza",
         "orientation": "v",
         "showlegend": true,
         "type": "scatter",
         "x": [
          "2019-01-29T00:00:00"
         ],
         "xaxis": "x",
         "y": [
          40000
         ],
         "yaxis": "y"
        },
        {
         "hovertemplate": "<b>%{hovertext}</b><br><br>Sanctioned_Entity=Banca Sviluppo Economico Sp a in l.c.a. di Sanzioni Amministrativ e Pecuniari<br>Date of Sanction=%{x}<br>Sanctioned Amount (€)=%{marker.size}<extra></extra>",
         "hovertext": [
          "Banca Sviluppo Economico Sp a in l.c.a. di Sanzioni Amministrativ e Pecuniari"
         ],
         "legendgroup": "Banca Sviluppo Economico Sp a in l.c.a. di Sanzioni Amministrativ e Pecuniari",
         "marker": {
          "color": "#ab63fa",
          "line": {
           "color": "DarkSlateGrey",
           "width": 2
          },
          "size": [
           50000
          ],
          "sizemode": "area",
          "sizeref": 250,
          "symbol": "circle"
         },
         "mode": "markers",
         "name": "Banca Sviluppo Economico Sp a in l.c.a. di Sanzioni Amministrativ e Pecuniari",
         "orientation": "v",
         "showlegend": true,
         "type": "scatter",
         "x": [
          "2019-03-22T00:00:00"
         ],
         "xaxis": "x",
         "y": [
          50000
         ],
         "yaxis": "y"
        },
        {
         "hovertemplate": "<b>%{hovertext}</b><br><br>Sanctioned_Entity=FCA Bank Spa<br>Date of Sanction=%{x}<br>Sanctioned Amount (€)=%{marker.size}<extra></extra>",
         "hovertext": [
          "FCA Bank Spa"
         ],
         "legendgroup": "FCA Bank Spa",
         "marker": {
          "color": "#FFA15A",
          "line": {
           "color": "DarkSlateGrey",
           "width": 2
          },
          "size": [
           2500
          ],
          "sizemode": "area",
          "sizeref": 250,
          "symbol": "circle"
         },
         "mode": "markers",
         "name": "FCA Bank Spa",
         "orientation": "v",
         "showlegend": true,
         "type": "scatter",
         "x": [
          "2019-04-16T00:00:00"
         ],
         "xaxis": "x",
         "y": [
          2500
         ],
         "yaxis": "y"
        },
        {
         "hovertemplate": "<b>%{hovertext}</b><br><br>Sanctioned_Entity=Credito Cooperativo di San Calogero e Maierato – BCC del Vibonese soc.  coop.<br>Date of Sanction=%{x}<br>Sanctioned Amount (€)=%{marker.size}<extra></extra>",
         "hovertext": [
          "Credito Cooperativo di San Calogero e Maierato – BCC del Vibonese soc.  coop."
         ],
         "legendgroup": "Credito Cooperativo di San Calogero e Maierato – BCC del Vibonese soc.  coop.",
         "marker": {
          "color": "#19d3f3",
          "line": {
           "color": "DarkSlateGrey",
           "width": 2
          },
          "size": [
           30000
          ],
          "sizemode": "area",
          "sizeref": 250,
          "symbol": "circle"
         },
         "mode": "markers",
         "name": "Credito Cooperativo di San Calogero e Maierato – BCC del Vibonese soc.  coop.",
         "orientation": "v",
         "showlegend": true,
         "type": "scatter",
         "x": [
          "2019-03-05T00:00:00"
         ],
         "xaxis": "x",
         "y": [
          30000
         ],
         "yaxis": "y"
        }
       ],
       "layout": {
        "height": 500,
        "legend": {
         "itemsizing": "constant",
         "title": {
          "text": "Sanctioned_Entity"
         },
         "tracegroupgap": 0
        },
        "template": {
         "data": {
          "bar": [
           {
            "error_x": {
             "color": "#2a3f5f"
            },
            "error_y": {
             "color": "#2a3f5f"
            },
            "marker": {
             "line": {
              "color": "#E5ECF6",
              "width": 0.5
             },
             "pattern": {
              "fillmode": "overlay",
              "size": 10,
              "solidity": 0.2
             }
            },
            "type": "bar"
           }
          ],
          "barpolar": [
           {
            "marker": {
             "line": {
              "color": "#E5ECF6",
              "width": 0.5
             },
             "pattern": {
              "fillmode": "overlay",
              "size": 10,
              "solidity": 0.2
             }
            },
            "type": "barpolar"
           }
          ],
          "carpet": [
           {
            "aaxis": {
             "endlinecolor": "#2a3f5f",
             "gridcolor": "white",
             "linecolor": "white",
             "minorgridcolor": "white",
             "startlinecolor": "#2a3f5f"
            },
            "baxis": {
             "endlinecolor": "#2a3f5f",
             "gridcolor": "white",
             "linecolor": "white",
             "minorgridcolor": "white",
             "startlinecolor": "#2a3f5f"
            },
            "type": "carpet"
           }
          ],
          "choropleth": [
           {
            "colorbar": {
             "outlinewidth": 0,
             "ticks": ""
            },
            "type": "choropleth"
           }
          ],
          "contour": [
           {
            "colorbar": {
             "outlinewidth": 0,
             "ticks": ""
            },
            "colorscale": [
             [
              0,
              "#0d0887"
             ],
             [
              0.1111111111111111,
              "#46039f"
             ],
             [
              0.2222222222222222,
              "#7201a8"
             ],
             [
              0.3333333333333333,
              "#9c179e"
             ],
             [
              0.4444444444444444,
              "#bd3786"
             ],
             [
              0.5555555555555556,
              "#d8576b"
             ],
             [
              0.6666666666666666,
              "#ed7953"
             ],
             [
              0.7777777777777778,
              "#fb9f3a"
             ],
             [
              0.8888888888888888,
              "#fdca26"
             ],
             [
              1,
              "#f0f921"
             ]
            ],
            "type": "contour"
           }
          ],
          "contourcarpet": [
           {
            "colorbar": {
             "outlinewidth": 0,
             "ticks": ""
            },
            "type": "contourcarpet"
           }
          ],
          "heatmap": [
           {
            "colorbar": {
             "outlinewidth": 0,
             "ticks": ""
            },
            "colorscale": [
             [
              0,
              "#0d0887"
             ],
             [
              0.1111111111111111,
              "#46039f"
             ],
             [
              0.2222222222222222,
              "#7201a8"
             ],
             [
              0.3333333333333333,
              "#9c179e"
             ],
             [
              0.4444444444444444,
              "#bd3786"
             ],
             [
              0.5555555555555556,
              "#d8576b"
             ],
             [
              0.6666666666666666,
              "#ed7953"
             ],
             [
              0.7777777777777778,
              "#fb9f3a"
             ],
             [
              0.8888888888888888,
              "#fdca26"
             ],
             [
              1,
              "#f0f921"
             ]
            ],
            "type": "heatmap"
           }
          ],
          "heatmapgl": [
           {
            "colorbar": {
             "outlinewidth": 0,
             "ticks": ""
            },
            "colorscale": [
             [
              0,
              "#0d0887"
             ],
             [
              0.1111111111111111,
              "#46039f"
             ],
             [
              0.2222222222222222,
              "#7201a8"
             ],
             [
              0.3333333333333333,
              "#9c179e"
             ],
             [
              0.4444444444444444,
              "#bd3786"
             ],
             [
              0.5555555555555556,
              "#d8576b"
             ],
             [
              0.6666666666666666,
              "#ed7953"
             ],
             [
              0.7777777777777778,
              "#fb9f3a"
             ],
             [
              0.8888888888888888,
              "#fdca26"
             ],
             [
              1,
              "#f0f921"
             ]
            ],
            "type": "heatmapgl"
           }
          ],
          "histogram": [
           {
            "marker": {
             "pattern": {
              "fillmode": "overlay",
              "size": 10,
              "solidity": 0.2
             }
            },
            "type": "histogram"
           }
          ],
          "histogram2d": [
           {
            "colorbar": {
             "outlinewidth": 0,
             "ticks": ""
            },
            "colorscale": [
             [
              0,
              "#0d0887"
             ],
             [
              0.1111111111111111,
              "#46039f"
             ],
             [
              0.2222222222222222,
              "#7201a8"
             ],
             [
              0.3333333333333333,
              "#9c179e"
             ],
             [
              0.4444444444444444,
              "#bd3786"
             ],
             [
              0.5555555555555556,
              "#d8576b"
             ],
             [
              0.6666666666666666,
              "#ed7953"
             ],
             [
              0.7777777777777778,
              "#fb9f3a"
             ],
             [
              0.8888888888888888,
              "#fdca26"
             ],
             [
              1,
              "#f0f921"
             ]
            ],
            "type": "histogram2d"
           }
          ],
          "histogram2dcontour": [
           {
            "colorbar": {
             "outlinewidth": 0,
             "ticks": ""
            },
            "colorscale": [
             [
              0,
              "#0d0887"
             ],
             [
              0.1111111111111111,
              "#46039f"
             ],
             [
              0.2222222222222222,
              "#7201a8"
             ],
             [
              0.3333333333333333,
              "#9c179e"
             ],
             [
              0.4444444444444444,
              "#bd3786"
             ],
             [
              0.5555555555555556,
              "#d8576b"
             ],
             [
              0.6666666666666666,
              "#ed7953"
             ],
             [
              0.7777777777777778,
              "#fb9f3a"
             ],
             [
              0.8888888888888888,
              "#fdca26"
             ],
             [
              1,
              "#f0f921"
             ]
            ],
            "type": "histogram2dcontour"
           }
          ],
          "mesh3d": [
           {
            "colorbar": {
             "outlinewidth": 0,
             "ticks": ""
            },
            "type": "mesh3d"
           }
          ],
          "parcoords": [
           {
            "line": {
             "colorbar": {
              "outlinewidth": 0,
              "ticks": ""
             }
            },
            "type": "parcoords"
           }
          ],
          "pie": [
           {
            "automargin": true,
            "type": "pie"
           }
          ],
          "scatter": [
           {
            "fillpattern": {
             "fillmode": "overlay",
             "size": 10,
             "solidity": 0.2
            },
            "type": "scatter"
           }
          ],
          "scatter3d": [
           {
            "line": {
             "colorbar": {
              "outlinewidth": 0,
              "ticks": ""
             }
            },
            "marker": {
             "colorbar": {
              "outlinewidth": 0,
              "ticks": ""
             }
            },
            "type": "scatter3d"
           }
          ],
          "scattercarpet": [
           {
            "marker": {
             "colorbar": {
              "outlinewidth": 0,
              "ticks": ""
             }
            },
            "type": "scattercarpet"
           }
          ],
          "scattergeo": [
           {
            "marker": {
             "colorbar": {
              "outlinewidth": 0,
              "ticks": ""
             }
            },
            "type": "scattergeo"
           }
          ],
          "scattergl": [
           {
            "marker": {
             "colorbar": {
              "outlinewidth": 0,
              "ticks": ""
             }
            },
            "type": "scattergl"
           }
          ],
          "scattermapbox": [
           {
            "marker": {
             "colorbar": {
              "outlinewidth": 0,
              "ticks": ""
             }
            },
            "type": "scattermapbox"
           }
          ],
          "scatterpolar": [
           {
            "marker": {
             "colorbar": {
              "outlinewidth": 0,
              "ticks": ""
             }
            },
            "type": "scatterpolar"
           }
          ],
          "scatterpolargl": [
           {
            "marker": {
             "colorbar": {
              "outlinewidth": 0,
              "ticks": ""
             }
            },
            "type": "scatterpolargl"
           }
          ],
          "scatterternary": [
           {
            "marker": {
             "colorbar": {
              "outlinewidth": 0,
              "ticks": ""
             }
            },
            "type": "scatterternary"
           }
          ],
          "surface": [
           {
            "colorbar": {
             "outlinewidth": 0,
             "ticks": ""
            },
            "colorscale": [
             [
              0,
              "#0d0887"
             ],
             [
              0.1111111111111111,
              "#46039f"
             ],
             [
              0.2222222222222222,
              "#7201a8"
             ],
             [
              0.3333333333333333,
              "#9c179e"
             ],
             [
              0.4444444444444444,
              "#bd3786"
             ],
             [
              0.5555555555555556,
              "#d8576b"
             ],
             [
              0.6666666666666666,
              "#ed7953"
             ],
             [
              0.7777777777777778,
              "#fb9f3a"
             ],
             [
              0.8888888888888888,
              "#fdca26"
             ],
             [
              1,
              "#f0f921"
             ]
            ],
            "type": "surface"
           }
          ],
          "table": [
           {
            "cells": {
             "fill": {
              "color": "#EBF0F8"
             },
             "line": {
              "color": "white"
             }
            },
            "header": {
             "fill": {
              "color": "#C8D4E3"
             },
             "line": {
              "color": "white"
             }
            },
            "type": "table"
           }
          ]
         },
         "layout": {
          "annotationdefaults": {
           "arrowcolor": "#2a3f5f",
           "arrowhead": 0,
           "arrowwidth": 1
          },
          "autotypenumbers": "strict",
          "coloraxis": {
           "colorbar": {
            "outlinewidth": 0,
            "ticks": ""
           }
          },
          "colorscale": {
           "diverging": [
            [
             0,
             "#8e0152"
            ],
            [
             0.1,
             "#c51b7d"
            ],
            [
             0.2,
             "#de77ae"
            ],
            [
             0.3,
             "#f1b6da"
            ],
            [
             0.4,
             "#fde0ef"
            ],
            [
             0.5,
             "#f7f7f7"
            ],
            [
             0.6,
             "#e6f5d0"
            ],
            [
             0.7,
             "#b8e186"
            ],
            [
             0.8,
             "#7fbc41"
            ],
            [
             0.9,
             "#4d9221"
            ],
            [
             1,
             "#276419"
            ]
           ],
           "sequential": [
            [
             0,
             "#0d0887"
            ],
            [
             0.1111111111111111,
             "#46039f"
            ],
            [
             0.2222222222222222,
             "#7201a8"
            ],
            [
             0.3333333333333333,
             "#9c179e"
            ],
            [
             0.4444444444444444,
             "#bd3786"
            ],
            [
             0.5555555555555556,
             "#d8576b"
            ],
            [
             0.6666666666666666,
             "#ed7953"
            ],
            [
             0.7777777777777778,
             "#fb9f3a"
            ],
            [
             0.8888888888888888,
             "#fdca26"
            ],
            [
             1,
             "#f0f921"
            ]
           ],
           "sequentialminus": [
            [
             0,
             "#0d0887"
            ],
            [
             0.1111111111111111,
             "#46039f"
            ],
            [
             0.2222222222222222,
             "#7201a8"
            ],
            [
             0.3333333333333333,
             "#9c179e"
            ],
            [
             0.4444444444444444,
             "#bd3786"
            ],
            [
             0.5555555555555556,
             "#d8576b"
            ],
            [
             0.6666666666666666,
             "#ed7953"
            ],
            [
             0.7777777777777778,
             "#fb9f3a"
            ],
            [
             0.8888888888888888,
             "#fdca26"
            ],
            [
             1,
             "#f0f921"
            ]
           ]
          },
          "colorway": [
           "#636efa",
           "#EF553B",
           "#00cc96",
           "#ab63fa",
           "#FFA15A",
           "#19d3f3",
           "#FF6692",
           "#B6E880",
           "#FF97FF",
           "#FECB52"
          ],
          "font": {
           "color": "#2a3f5f"
          },
          "geo": {
           "bgcolor": "white",
           "lakecolor": "white",
           "landcolor": "#E5ECF6",
           "showlakes": true,
           "showland": true,
           "subunitcolor": "white"
          },
          "hoverlabel": {
           "align": "left"
          },
          "hovermode": "closest",
          "mapbox": {
           "style": "light"
          },
          "paper_bgcolor": "white",
          "plot_bgcolor": "#E5ECF6",
          "polar": {
           "angularaxis": {
            "gridcolor": "white",
            "linecolor": "white",
            "ticks": ""
           },
           "bgcolor": "#E5ECF6",
           "radialaxis": {
            "gridcolor": "white",
            "linecolor": "white",
            "ticks": ""
           }
          },
          "scene": {
           "xaxis": {
            "backgroundcolor": "#E5ECF6",
            "gridcolor": "white",
            "gridwidth": 2,
            "linecolor": "white",
            "showbackground": true,
            "ticks": "",
            "zerolinecolor": "white"
           },
           "yaxis": {
            "backgroundcolor": "#E5ECF6",
            "gridcolor": "white",
            "gridwidth": 2,
            "linecolor": "white",
            "showbackground": true,
            "ticks": "",
            "zerolinecolor": "white"
           },
           "zaxis": {
            "backgroundcolor": "#E5ECF6",
            "gridcolor": "white",
            "gridwidth": 2,
            "linecolor": "white",
            "showbackground": true,
            "ticks": "",
            "zerolinecolor": "white"
           }
          },
          "shapedefaults": {
           "line": {
            "color": "#2a3f5f"
           }
          },
          "ternary": {
           "aaxis": {
            "gridcolor": "white",
            "linecolor": "white",
            "ticks": ""
           },
           "baxis": {
            "gridcolor": "white",
            "linecolor": "white",
            "ticks": ""
           },
           "bgcolor": "#E5ECF6",
           "caxis": {
            "gridcolor": "white",
            "linecolor": "white",
            "ticks": ""
           }
          },
          "title": {
           "x": 0.05
          },
          "xaxis": {
           "automargin": true,
           "gridcolor": "white",
           "linecolor": "white",
           "ticks": "",
           "title": {
            "standoff": 15
           },
           "zerolinecolor": "white",
           "zerolinewidth": 2
          },
          "yaxis": {
           "automargin": true,
           "gridcolor": "white",
           "linecolor": "white",
           "ticks": "",
           "title": {
            "standoff": 15
           },
           "zerolinecolor": "white",
           "zerolinewidth": 2
          }
         }
        },
        "title": {
         "text": "Sanction Amounts Over Time by Entity"
        },
        "width": 1600,
        "xaxis": {
         "anchor": "y",
         "domain": [
          0,
          1
         ],
         "title": {
          "text": "Date of Sanction"
         }
        },
        "yaxis": {
         "anchor": "x",
         "domain": [
          0,
          1
         ],
         "title": {
          "text": "Sanctioned Amount (€)"
         }
        }
       }
      }
     },
     "metadata": {},
     "output_type": "display_data"
    }
   ],
   "source": [
    "import plotly.express as px\n",
    "\n",
    "fig = px.scatter(df_result, x='Date_of_Sanction', y='Sanctioned_Amount',\n",
    "                 size='Sanctioned_Amount', \n",
    "                 color='Sanctioned_Entity',\n",
    "                 hover_name='Sanctioned_Entity', size_max=60,\n",
    "                 title=\"Sanction Amounts Over Time by Entity\",\n",
    "                 labels={\"Date_of_Sanction\": \"Date of Sanction\", \"Sanctioned_Amount\": \"Sanctioned Amount (€)\"})\n",
    "fig.update_traces(marker=dict(line=dict(width=2, color='DarkSlateGrey')))\n",
    "fig.update_layout(\n",
    "    width=1600,  # Set a fixed width\n",
    "    height=500  # Set a fixed height\n",
    ")\n",
    "fig.show()\n"
   ]
  },
  {
   "cell_type": "markdown",
   "metadata": {},
   "source": [
    "## monthly trend data"
   ]
  },
  {
   "cell_type": "code",
   "execution_count": 68,
   "metadata": {},
   "outputs": [
    {
     "data": {
      "application/vnd.plotly.v1+json": {
       "config": {
        "plotlyServerURL": "https://plot.ly"
       },
       "data": [
        {
         "alignmentgroup": "True",
         "hovertemplate": "Sanctioned_Entity=Società non idonee a superare la proposita del Servizio Rapporti Istituzionali di Vigilanza<br>Month of Sanction=%{x}<br>Sanctioned Amount (€)=%{y}<extra></extra>",
         "legendgroup": "Società non idonee a superare la proposita del Servizio Rapporti Istituzionali di Vigilanza",
         "marker": {
          "color": "#636efa",
          "pattern": {
           "shape": ""
          }
         },
         "name": "Società non idonee a...",
         "offsetgroup": "Società non idonee a superare la proposita del Servizio Rapporti Istituzionali di Vigilanza",
         "orientation": "v",
         "showlegend": true,
         "textposition": "auto",
         "type": "bar",
         "x": [
          "2019-01"
         ],
         "xaxis": "x",
         "y": [
          40000
         ],
         "yaxis": "y"
        },
        {
         "alignmentgroup": "True",
         "hovertemplate": "Sanctioned_Entity=\"Disposizioni in materia di organizzazione, procedure e controlli interni volti a prevenire l’utilizzo degli intermediari a fine riciclaggio e finanziamento del terrorismo\" (art. 24 d.lgs. n. 262/2005))<br>Month of Sanction=%{x}<br>Sanctioned Amount (€)=%{y}<extra></extra>",
         "legendgroup": "\"Disposizioni in materia di organizzazione, procedure e controlli interni volti a prevenire l’utilizzo degli intermediari a fine riciclaggio e finanziamento del terrorismo\" (art. 24 d.lgs. n. 262/2005))",
         "marker": {
          "color": "#EF553B",
          "pattern": {
           "shape": ""
          }
         },
         "name": "\"Disposizioni in mat...",
         "offsetgroup": "\"Disposizioni in materia di organizzazione, procedure e controlli interni volti a prevenire l’utilizzo degli intermediari a fine riciclaggio e finanziamento del terrorismo\" (art. 24 d.lgs. n. 262/2005))",
         "orientation": "v",
         "showlegend": true,
         "textposition": "auto",
         "type": "bar",
         "x": [
          "2019-03"
         ],
         "xaxis": "x",
         "y": [
          14
         ],
         "yaxis": "y"
        },
        {
         "alignmentgroup": "True",
         "hovertemplate": "Sanctioned_Entity=Banca Sviluppo Economico Sp a in l.c.a. di Sanzioni Amministrativ e Pecuniari<br>Month of Sanction=%{x}<br>Sanctioned Amount (€)=%{y}<extra></extra>",
         "legendgroup": "Banca Sviluppo Economico Sp a in l.c.a. di Sanzioni Amministrativ e Pecuniari",
         "marker": {
          "color": "#00cc96",
          "pattern": {
           "shape": ""
          }
         },
         "name": "Banca Sviluppo Econo...",
         "offsetgroup": "Banca Sviluppo Economico Sp a in l.c.a. di Sanzioni Amministrativ e Pecuniari",
         "orientation": "v",
         "showlegend": true,
         "textposition": "auto",
         "type": "bar",
         "x": [
          "2019-03"
         ],
         "xaxis": "x",
         "y": [
          50000
         ],
         "yaxis": "y"
        },
        {
         "alignmentgroup": "True",
         "hovertemplate": "Sanctioned_Entity=Banca d'Italia<br>Month of Sanction=%{x}<br>Sanctioned Amount (€)=%{y}<extra></extra>",
         "legendgroup": "Banca d'Italia",
         "marker": {
          "color": "#ab63fa",
          "pattern": {
           "shape": ""
          }
         },
         "name": "Banca d'Italia",
         "offsetgroup": "Banca d'Italia",
         "orientation": "v",
         "showlegend": true,
         "textposition": "auto",
         "type": "bar",
         "x": [
          "2019-03",
          "2020-03",
          "2021-03",
          "2021-05",
          "2023-03"
         ],
         "xaxis": "x",
         "y": [
          286500,
          30000,
          100000,
          30000,
          10000
         ],
         "yaxis": "y"
        },
        {
         "alignmentgroup": "True",
         "hovertemplate": "Sanctioned_Entity=Credito Cooperativo di San Calogero e Maierato – BCC del Vibonese soc.  coop.<br>Month of Sanction=%{x}<br>Sanctioned Amount (€)=%{y}<extra></extra>",
         "legendgroup": "Credito Cooperativo di San Calogero e Maierato – BCC del Vibonese soc.  coop.",
         "marker": {
          "color": "#FFA15A",
          "pattern": {
           "shape": ""
          }
         },
         "name": "Credito Cooperativo ...",
         "offsetgroup": "Credito Cooperativo di San Calogero e Maierato – BCC del Vibonese soc.  coop.",
         "orientation": "v",
         "showlegend": true,
         "textposition": "auto",
         "type": "bar",
         "x": [
          "2019-03"
         ],
         "xaxis": "x",
         "y": [
          30000
         ],
         "yaxis": "y"
        },
        {
         "alignmentgroup": "True",
         "hovertemplate": "Sanctioned_Entity=FCA Bank Spa<br>Month of Sanction=%{x}<br>Sanctioned Amount (€)=%{y}<extra></extra>",
         "legendgroup": "FCA Bank Spa",
         "marker": {
          "color": "#19d3f3",
          "pattern": {
           "shape": ""
          }
         },
         "name": "FCA Bank Spa",
         "offsetgroup": "FCA Bank Spa",
         "orientation": "v",
         "showlegend": true,
         "textposition": "auto",
         "type": "bar",
         "x": [
          "2019-04"
         ],
         "xaxis": "x",
         "y": [
          2500
         ],
         "yaxis": "y"
        },
        {
         "alignmentgroup": "True",
         "hovertemplate": "Sanctioned_Entity=Finpiemonte Spa<br>Month of Sanction=%{x}<br>Sanctioned Amount (€)=%{y}<extra></extra>",
         "legendgroup": "Finpiemonte Spa",
         "marker": {
          "color": "#FF6692",
          "pattern": {
           "shape": ""
          }
         },
         "name": "Finpiemonte Spa",
         "offsetgroup": "Finpiemonte Spa",
         "orientation": "v",
         "showlegend": true,
         "textposition": "auto",
         "type": "bar",
         "x": [
          "2019-04"
         ],
         "xaxis": "x",
         "y": [
          98000
         ],
         "yaxis": "y"
        },
        {
         "alignmentgroup": "True",
         "hovertemplate": "Sanctioned_Entity=P. Fiduciaria Srl<br>Month of Sanction=%{x}<br>Sanctioned Amount (€)=%{y}<extra></extra>",
         "legendgroup": "P. Fiduciaria Srl",
         "marker": {
          "color": "#B6E880",
          "pattern": {
           "shape": ""
          }
         },
         "name": "P. Fiduciaria Srl",
         "offsetgroup": "P. Fiduciaria Srl",
         "orientation": "v",
         "showlegend": true,
         "textposition": "auto",
         "type": "bar",
         "x": [
          "2019-04"
         ],
         "xaxis": "x",
         "y": [
          30000
         ],
         "yaxis": "y"
        },
        {
         "alignmentgroup": "True",
         "hovertemplate": "Sanctioned_Entity=Banca di Credito Cooperativo Valdostana<br>Month of Sanction=%{x}<br>Sanctioned Amount (€)=%{y}<extra></extra>",
         "legendgroup": "Banca di Credito Cooperativo Valdostana",
         "marker": {
          "color": "#FF97FF",
          "pattern": {
           "shape": ""
          }
         },
         "name": "Banca di Credito Coo...",
         "offsetgroup": "Banca di Credito Cooperativo Valdostana",
         "orientation": "v",
         "showlegend": true,
         "textposition": "auto",
         "type": "bar",
         "x": [
          "2019-05"
         ],
         "xaxis": "x",
         "y": [
          167000
         ],
         "yaxis": "y"
        },
        {
         "alignmentgroup": "True",
         "hovertemplate": "Sanctioned_Entity=Banca di Credito Cooperativo di Napoli<br>Month of Sanction=%{x}<br>Sanctioned Amount (€)=%{y}<extra></extra>",
         "legendgroup": "Banca di Credito Cooperativo di Napoli",
         "marker": {
          "color": "#FECB52",
          "pattern": {
           "shape": ""
          }
         },
         "name": "Banca di Credito Coo...",
         "offsetgroup": "Banca di Credito Cooperativo di Napoli",
         "orientation": "v",
         "showlegend": true,
         "textposition": "auto",
         "type": "bar",
         "x": [
          "2019-05"
         ],
         "xaxis": "x",
         "y": [
          30000
         ],
         "yaxis": "y"
        },
        {
         "alignmentgroup": "True",
         "hovertemplate": "Sanctioned_Entity=LCC Trans Sending Limited<br>Month of Sanction=%{x}<br>Sanctioned Amount (€)=%{y}<extra></extra>",
         "legendgroup": "LCC Trans Sending Limited",
         "marker": {
          "color": "#636efa",
          "pattern": {
           "shape": ""
          }
         },
         "name": "LCC Trans Sending Li...",
         "offsetgroup": "LCC Trans Sending Limited",
         "orientation": "v",
         "showlegend": true,
         "textposition": "auto",
         "type": "bar",
         "x": [
          "2019-06"
         ],
         "xaxis": "x",
         "y": [
          30000
         ],
         "yaxis": "y"
        },
        {
         "alignmentgroup": "True",
         "hovertemplate": "Sanctioned_Entity=Speedymoney Spa<br>Month of Sanction=%{x}<br>Sanctioned Amount (€)=%{y}<extra></extra>",
         "legendgroup": "Speedymoney Spa",
         "marker": {
          "color": "#EF553B",
          "pattern": {
           "shape": ""
          }
         },
         "name": "Speedymoney Spa",
         "offsetgroup": "Speedymoney Spa",
         "orientation": "v",
         "showlegend": true,
         "textposition": "auto",
         "type": "bar",
         "x": [
          "2019-06"
         ],
         "xaxis": "x",
         "y": [
          90000
         ],
         "yaxis": "y"
        },
        {
         "alignmentgroup": "True",
         "hovertemplate": "Sanctioned_Entity=Banca Popolare del Lazio Scpa<br>Month of Sanction=%{x}<br>Sanctioned Amount (€)=%{y}<extra></extra>",
         "legendgroup": "Banca Popolare del Lazio Scpa",
         "marker": {
          "color": "#00cc96",
          "pattern": {
           "shape": ""
          }
         },
         "name": "Banca Popolare del L...",
         "offsetgroup": "Banca Popolare del Lazio Scpa",
         "orientation": "v",
         "showlegend": true,
         "textposition": "auto",
         "type": "bar",
         "x": [
          "2019-07"
         ],
         "xaxis": "x",
         "y": [
          49000
         ],
         "yaxis": "y"
        },
        {
         "alignmentgroup": "True",
         "hovertemplate": "Sanctioned_Entity=Fidor Spa - Fiduciaria Orefici<br>Month of Sanction=%{x}<br>Sanctioned Amount (€)=%{y}<extra></extra>",
         "legendgroup": "Fidor Spa - Fiduciaria Orefici",
         "marker": {
          "color": "#ab63fa",
          "pattern": {
           "shape": ""
          }
         },
         "name": "Fidor Spa - Fiduciar...",
         "offsetgroup": "Fidor Spa - Fiduciaria Orefici",
         "orientation": "v",
         "showlegend": true,
         "textposition": "auto",
         "type": "bar",
         "x": [
          "2019-07"
         ],
         "xaxis": "x",
         "y": [
          30000
         ],
         "yaxis": "y"
        },
        {
         "alignmentgroup": "True",
         "hovertemplate": "Sanctioned_Entity=Principia Sgr<br>Month of Sanction=%{x}<br>Sanctioned Amount (€)=%{y}<extra></extra>",
         "legendgroup": "Principia Sgr",
         "marker": {
          "color": "#FFA15A",
          "pattern": {
           "shape": ""
          }
         },
         "name": "Principia Sgr",
         "offsetgroup": "Principia Sgr",
         "orientation": "v",
         "showlegend": true,
         "textposition": "auto",
         "type": "bar",
         "x": [
          "2019-07"
         ],
         "xaxis": "x",
         "y": [
          30000
         ],
         "yaxis": "y"
        },
        {
         "alignmentgroup": "True",
         "hovertemplate": "Sanctioned_Entity=Unicasim Spa<br>Month of Sanction=%{x}<br>Sanctioned Amount (€)=%{y}<extra></extra>",
         "legendgroup": "Unicasim Spa",
         "marker": {
          "color": "#19d3f3",
          "pattern": {
           "shape": ""
          }
         },
         "name": "Unicasim Spa",
         "offsetgroup": "Unicasim Spa",
         "orientation": "v",
         "showlegend": true,
         "textposition": "auto",
         "type": "bar",
         "x": [
          "2019-07"
         ],
         "xaxis": "x",
         "y": [
          35000
         ],
         "yaxis": "y"
        },
        {
         "alignmentgroup": "True",
         "hovertemplate": "Sanctioned_Entity=Banca d'Italia S.p.A.<br>Month of Sanction=%{x}<br>Sanctioned Amount (€)=%{y}<extra></extra>",
         "legendgroup": "Banca d'Italia S.p.A.",
         "marker": {
          "color": "#FF6692",
          "pattern": {
           "shape": ""
          }
         },
         "name": "Banca d'Italia S.p.A...",
         "offsetgroup": "Banca d'Italia S.p.A.",
         "orientation": "v",
         "showlegend": true,
         "textposition": "auto",
         "type": "bar",
         "x": [
          "2019-09",
          "2022-04"
         ],
         "xaxis": "x",
         "y": [
          90000,
          30000
         ],
         "yaxis": "y"
        },
        {
         "alignmentgroup": "True",
         "hovertemplate": "Sanctioned_Entity=Crédit Agricole It<br>Month of Sanction=%{x}<br>Sanctioned Amount (€)=%{y}<extra></extra>",
         "legendgroup": "Crédit Agricole It",
         "marker": {
          "color": "#B6E880",
          "pattern": {
           "shape": ""
          }
         },
         "name": "Crédit Agricole It",
         "offsetgroup": "Crédit Agricole It",
         "orientation": "v",
         "showlegend": true,
         "textposition": "auto",
         "type": "bar",
         "x": [
          "2019-09"
         ],
         "xaxis": "x",
         "y": [
          1700
         ],
         "yaxis": "y"
        },
        {
         "alignmentgroup": "True",
         "hovertemplate": "Sanctioned_Entity=F. PANETTA<br>Month of Sanction=%{x}<br>Sanctioned Amount (€)=%{y}<extra></extra>",
         "legendgroup": "F. PANETTA",
         "marker": {
          "color": "#FF97FF",
          "pattern": {
           "shape": ""
          }
         },
         "name": "F. PANETTA",
         "offsetgroup": "F. PANETTA",
         "orientation": "v",
         "showlegend": true,
         "textposition": "auto",
         "type": "bar",
         "x": [
          "2019-09"
         ],
         "xaxis": "x",
         "y": [
          30000
         ],
         "yaxis": "y"
        },
        {
         "alignmentgroup": "True",
         "hovertemplate": "Sanctioned_Entity=Giancarlo Gerano (Banca Mondiale Sovrana)<br>Month of Sanction=%{x}<br>Sanctioned Amount (€)=%{y}<extra></extra>",
         "legendgroup": "Giancarlo Gerano (Banca Mondiale Sovrana)",
         "marker": {
          "color": "#FECB52",
          "pattern": {
           "shape": ""
          }
         },
         "name": "Giancarlo Gerano (Ba...",
         "offsetgroup": "Giancarlo Gerano (Banca Mondiale Sovrana)",
         "orientation": "v",
         "showlegend": true,
         "textposition": "auto",
         "type": "bar",
         "x": [
          "2019-09"
         ],
         "xaxis": "x",
         "y": [
          5000
         ],
         "yaxis": "y"
        },
        {
         "alignmentgroup": "True",
         "hovertemplate": "Sanctioned_Entity=Giangiacomo Savogin<br>Month of Sanction=%{x}<br>Sanctioned Amount (€)=%{y}<extra></extra>",
         "legendgroup": "Giangiacomo Savogin",
         "marker": {
          "color": "#636efa",
          "pattern": {
           "shape": ""
          }
         },
         "name": "Giangiacomo Savogin",
         "offsetgroup": "Giangiacomo Savogin",
         "orientation": "v",
         "showlegend": true,
         "textposition": "auto",
         "type": "bar",
         "x": [
          "2019-09"
         ],
         "xaxis": "x",
         "y": [
          5000
         ],
         "yaxis": "y"
        },
        {
         "alignmentgroup": "True",
         "hovertemplate": "Sanctioned_Entity=Carlyle Real Estate SGR<br>Month of Sanction=%{x}<br>Sanctioned Amount (€)=%{y}<extra></extra>",
         "legendgroup": "Carlyle Real Estate SGR",
         "marker": {
          "color": "#EF553B",
          "pattern": {
           "shape": ""
          }
         },
         "name": "Carlyle Real Estate ...",
         "offsetgroup": "Carlyle Real Estate SGR",
         "orientation": "v",
         "showlegend": true,
         "textposition": "auto",
         "type": "bar",
         "x": [
          "2019-11"
         ],
         "xaxis": "x",
         "y": [
          60000
         ],
         "yaxis": "y"
        },
        {
         "alignmentgroup": "True",
         "hovertemplate": "Sanctioned_Entity=Numeria SGR Spa<br>Month of Sanction=%{x}<br>Sanctioned Amount (€)=%{y}<extra></extra>",
         "legendgroup": "Numeria SGR Spa",
         "marker": {
          "color": "#00cc96",
          "pattern": {
           "shape": ""
          }
         },
         "name": "Numeria SGR Spa",
         "offsetgroup": "Numeria SGR Spa",
         "orientation": "v",
         "showlegend": true,
         "textposition": "auto",
         "type": "bar",
         "x": [
          "2019-11"
         ],
         "xaxis": "x",
         "y": [
          60000
         ],
         "yaxis": "y"
        },
        {
         "alignmentgroup": "True",
         "hovertemplate": "Sanctioned_Entity=SGR Spa<br>Month of Sanction=%{x}<br>Sanctioned Amount (€)=%{y}<extra></extra>",
         "legendgroup": "SGR Spa",
         "marker": {
          "color": "#ab63fa",
          "pattern": {
           "shape": ""
          }
         },
         "name": "SGR Spa",
         "offsetgroup": "SGR Spa",
         "orientation": "v",
         "showlegend": true,
         "textposition": "auto",
         "type": "bar",
         "x": [
          "2019-11",
          "2020-11"
         ],
         "xaxis": "x",
         "y": [
          135000,
          30000
         ],
         "yaxis": "y"
        },
        {
         "alignmentgroup": "True",
         "hovertemplate": "Sanctioned_Entity=Associated Foreign Exchange Ltd<br>Month of Sanction=%{x}<br>Sanctioned Amount (€)=%{y}<extra></extra>",
         "legendgroup": "Associated Foreign Exchange Ltd",
         "marker": {
          "color": "#FFA15A",
          "pattern": {
           "shape": ""
          }
         },
         "name": "Associated Foreign E...",
         "offsetgroup": "Associated Foreign Exchange Ltd",
         "orientation": "v",
         "showlegend": true,
         "textposition": "auto",
         "type": "bar",
         "x": [
          "2019-12"
         ],
         "xaxis": "x",
         "y": [
          30000
         ],
         "yaxis": "y"
        },
        {
         "alignmentgroup": "True",
         "hovertemplate": "Sanctioned_Entity=Banca Monte dei Paschi di Siena  S.p.A.<br>Month of Sanction=%{x}<br>Sanctioned Amount (€)=%{y}<extra></extra>",
         "legendgroup": "Banca Monte dei Paschi di Siena  S.p.A.",
         "marker": {
          "color": "#19d3f3",
          "pattern": {
           "shape": ""
          }
         },
         "name": "Banca Monte dei Pasc...",
         "offsetgroup": "Banca Monte dei Paschi di Siena  S.p.A.",
         "orientation": "v",
         "showlegend": true,
         "textposition": "auto",
         "type": "bar",
         "x": [
          "2019-12"
         ],
         "xaxis": "x",
         "y": [
          1320
         ],
         "yaxis": "y"
        },
        {
         "alignmentgroup": "True",
         "hovertemplate": "Sanctioned_Entity=IFIR Istituti Finanziari Riuniti Spa<br>Month of Sanction=%{x}<br>Sanctioned Amount (€)=%{y}<extra></extra>",
         "legendgroup": "IFIR Istituti Finanziari Riuniti Spa",
         "marker": {
          "color": "#FF6692",
          "pattern": {
           "shape": ""
          }
         },
         "name": "IFIR Istituti Finanz...",
         "offsetgroup": "IFIR Istituti Finanziari Riuniti Spa",
         "orientation": "v",
         "showlegend": true,
         "textposition": "auto",
         "type": "bar",
         "x": [
          "2019-12",
          "2023-09"
         ],
         "xaxis": "x",
         "y": [
          30000,
          60000
         ],
         "yaxis": "y"
        },
        {
         "alignmentgroup": "True",
         "hovertemplate": "Sanctioned_Entity=Banca Popolare del Mediterraneo Scpa<br>Month of Sanction=%{x}<br>Sanctioned Amount (€)=%{y}<extra></extra>",
         "legendgroup": "Banca Popolare del Mediterraneo Scpa",
         "marker": {
          "color": "#B6E880",
          "pattern": {
           "shape": ""
          }
         },
         "name": "Banca Popolare del M...",
         "offsetgroup": "Banca Popolare del Mediterraneo Scpa",
         "orientation": "v",
         "showlegend": true,
         "textposition": "auto",
         "type": "bar",
         "x": [
          "2020-01",
          "2024-01"
         ],
         "xaxis": "x",
         "y": [
          30000,
          75000
         ],
         "yaxis": "y"
        },
        {
         "alignmentgroup": "True",
         "hovertemplate": "Sanctioned_Entity=Banca del Cilento di Sassano e Vallo di Diano e della Lucania<br>Month of Sanction=%{x}<br>Sanctioned Amount (€)=%{y}<extra></extra>",
         "legendgroup": "Banca del Cilento di Sassano e Vallo di Diano e della Lucania",
         "marker": {
          "color": "#FF97FF",
          "pattern": {
           "shape": ""
          }
         },
         "name": "Banca del Cilento di...",
         "offsetgroup": "Banca del Cilento di Sassano e Vallo di Diano e della Lucania",
         "orientation": "v",
         "showlegend": true,
         "textposition": "auto",
         "type": "bar",
         "x": [
          "2020-01"
         ],
         "xaxis": "x",
         "y": [
          30000
         ],
         "yaxis": "y"
        },
        {
         "alignmentgroup": "True",
         "hovertemplate": "Sanctioned_Entity=Findomestic Banca Spa<br>Month of Sanction=%{x}<br>Sanctioned Amount (€)=%{y}<extra></extra>",
         "legendgroup": "Findomestic Banca Spa",
         "marker": {
          "color": "#FECB52",
          "pattern": {
           "shape": ""
          }
         },
         "name": "Findomestic Banca Sp...",
         "offsetgroup": "Findomestic Banca Spa",
         "orientation": "v",
         "showlegend": true,
         "textposition": "auto",
         "type": "bar",
         "x": [
          "2020-01",
          "2022-04"
         ],
         "xaxis": "x",
         "y": [
          390000,
          900000
         ],
         "yaxis": "y"
        },
        {
         "alignmentgroup": "True",
         "hovertemplate": "Sanctioned_Entity=La Colombo Finanziaria Spa<br>Month of Sanction=%{x}<br>Sanctioned Amount (€)=%{y}<extra></extra>",
         "legendgroup": "La Colombo Finanziaria Spa",
         "marker": {
          "color": "#636efa",
          "pattern": {
           "shape": ""
          }
         },
         "name": "La Colombo Finanziar...",
         "offsetgroup": "La Colombo Finanziaria Spa",
         "orientation": "v",
         "showlegend": true,
         "textposition": "auto",
         "type": "bar",
         "x": [
          "2020-01"
         ],
         "xaxis": "x",
         "y": [
          90000
         ],
         "yaxis": "y"
        },
        {
         "alignmentgroup": "True",
         "hovertemplate": "Sanctioned_Entity=Advam Partners SGR Spa<br>Month of Sanction=%{x}<br>Sanctioned Amount (€)=%{y}<extra></extra>",
         "legendgroup": "Advam Partners SGR Spa",
         "marker": {
          "color": "#EF553B",
          "pattern": {
           "shape": ""
          }
         },
         "name": "Advam Partners SGR S...",
         "offsetgroup": "Advam Partners SGR Spa",
         "orientation": "v",
         "showlegend": true,
         "textposition": "auto",
         "type": "bar",
         "x": [
          "2020-02"
         ],
         "xaxis": "x",
         "y": [
          30000
         ],
         "yaxis": "y"
        },
        {
         "alignmentgroup": "True",
         "hovertemplate": "Sanctioned_Entity=Banco BPM Spa<br>Month of Sanction=%{x}<br>Sanctioned Amount (€)=%{y}<extra></extra>",
         "legendgroup": "Banco BPM Spa",
         "marker": {
          "color": "#00cc96",
          "pattern": {
           "shape": ""
          }
         },
         "name": "Banco BPM Spa",
         "offsetgroup": "Banco BPM Spa",
         "orientation": "v",
         "showlegend": true,
         "textposition": "auto",
         "type": "bar",
         "x": [
          "2020-02"
         ],
         "xaxis": "x",
         "y": [
          1760
         ],
         "yaxis": "y"
        },
        {
         "alignmentgroup": "True",
         "hovertemplate": "Sanctioned_Entity=Banca C.R. Asti Spa<br>Month of Sanction=%{x}<br>Sanctioned Amount (€)=%{y}<extra></extra>",
         "legendgroup": "Banca C.R. Asti Spa",
         "marker": {
          "color": "#ab63fa",
          "pattern": {
           "shape": ""
          }
         },
         "name": "Banca C.R. Asti Spa",
         "offsetgroup": "Banca C.R. Asti Spa",
         "orientation": "v",
         "showlegend": true,
         "textposition": "auto",
         "type": "bar",
         "x": [
          "2020-03"
         ],
         "xaxis": "x",
         "y": [
          186000
         ],
         "yaxis": "y"
        },
        {
         "alignmentgroup": "True",
         "hovertemplate": "Sanctioned_Entity=Banca Centropadana Credito Cooperativo Sc<br>Month of Sanction=%{x}<br>Sanctioned Amount (€)=%{y}<extra></extra>",
         "legendgroup": "Banca Centropadana Credito Cooperativo Sc",
         "marker": {
          "color": "#FFA15A",
          "pattern": {
           "shape": ""
          }
         },
         "name": "Banca Centropadana C...",
         "offsetgroup": "Banca Centropadana Credito Cooperativo Sc",
         "orientation": "v",
         "showlegend": true,
         "textposition": "auto",
         "type": "bar",
         "x": [
          "2020-03"
         ],
         "xaxis": "x",
         "y": [
          570000
         ],
         "yaxis": "y"
        },
        {
         "alignmentgroup": "True",
         "hovertemplate": "Sanctioned_Entity=Finaosta Spa<br>Month of Sanction=%{x}<br>Sanctioned Amount (€)=%{y}<extra></extra>",
         "legendgroup": "Finaosta Spa",
         "marker": {
          "color": "#19d3f3",
          "pattern": {
           "shape": ""
          }
         },
         "name": "Finaosta Spa",
         "offsetgroup": "Finaosta Spa",
         "orientation": "v",
         "showlegend": true,
         "textposition": "auto",
         "type": "bar",
         "x": [
          "2020-03"
         ],
         "xaxis": "x",
         "y": [
          45000
         ],
         "yaxis": "y"
        },
        {
         "alignmentgroup": "True",
         "hovertemplate": "Sanctioned_Entity=Advance Sim Spa in Liquidazione Coata Amministrativa di Sanzioni Amministrative Pecuniarie ex Art. 190 TUF<br>Month of Sanction=%{x}<br>Sanctioned Amount (€)=%{y}<extra></extra>",
         "legendgroup": "Advance Sim Spa in Liquidazione Coata Amministrativa di Sanzioni Amministrative Pecuniarie ex Art. 190 TUF",
         "marker": {
          "color": "#FF6692",
          "pattern": {
           "shape": ""
          }
         },
         "name": "Advance Sim Spa in L...",
         "offsetgroup": "Advance Sim Spa in Liquidazione Coata Amministrativa di Sanzioni Amministrative Pecuniarie ex Art. 190 TUF",
         "orientation": "v",
         "showlegend": true,
         "textposition": "auto",
         "type": "bar",
         "x": [
          "2020-06"
         ],
         "xaxis": "x",
         "y": [
          40000
         ],
         "yaxis": "y"
        },
        {
         "alignmentgroup": "True",
         "hovertemplate": "Sanctioned_Entity=Roma, 30.06.2020<br>Month of Sanction=%{x}<br>Sanctioned Amount (€)=%{y}<extra></extra>",
         "legendgroup": "Roma, 30.06.2020",
         "marker": {
          "color": "#B6E880",
          "pattern": {
           "shape": ""
          }
         },
         "name": "Roma, 30.06.2020",
         "offsetgroup": "Roma, 30.06.2020",
         "orientation": "v",
         "showlegend": true,
         "textposition": "auto",
         "type": "bar",
         "x": [
          "2020-06"
         ],
         "xaxis": "x",
         "y": [
          30000
         ],
         "yaxis": "y"
        },
        {
         "alignmentgroup": "True",
         "hovertemplate": "Sanctioned_Entity=Banca Popolare di Bari Scpa in a.s.<br>Month of Sanction=%{x}<br>Sanctioned Amount (€)=%{y}<extra></extra>",
         "legendgroup": "Banca Popolare di Bari Scpa in a.s.",
         "marker": {
          "color": "#FF97FF",
          "pattern": {
           "shape": ""
          }
         },
         "name": "Banca Popolare di Ba...",
         "offsetgroup": "Banca Popolare di Bari Scpa in a.s.",
         "orientation": "v",
         "showlegend": true,
         "textposition": "auto",
         "type": "bar",
         "x": [
          "2020-07"
         ],
         "xaxis": "x",
         "y": [
          100000
         ],
         "yaxis": "y"
        },
        {
         "alignmentgroup": "True",
         "hovertemplate": "Sanctioned_Entity=Banca del Fucino Spa<br>Month of Sanction=%{x}<br>Sanctioned Amount (€)=%{y}<extra></extra>",
         "legendgroup": "Banca del Fucino Spa",
         "marker": {
          "color": "#FECB52",
          "pattern": {
           "shape": ""
          }
         },
         "name": "Banca del Fucino Spa",
         "offsetgroup": "Banca del Fucino Spa",
         "orientation": "v",
         "showlegend": true,
         "textposition": "auto",
         "type": "bar",
         "x": [
          "2020-07",
          "2022-09"
         ],
         "xaxis": "x",
         "y": [
          0,
          70000
         ],
         "yaxis": "y"
        },
        {
         "alignmentgroup": "True",
         "hovertemplate": "Sanctioned_Entity=CRU Giudicarie Valsabbia Paganella BCC S.c.<br>Month of Sanction=%{x}<br>Sanctioned Amount (€)=%{y}<extra></extra>",
         "legendgroup": "CRU Giudicarie Valsabbia Paganella BCC S.c.",
         "marker": {
          "color": "#636efa",
          "pattern": {
           "shape": ""
          }
         },
         "name": "CRU Giudicarie Valsa...",
         "offsetgroup": "CRU Giudicarie Valsabbia Paganella BCC S.c.",
         "orientation": "v",
         "showlegend": true,
         "textposition": "auto",
         "type": "bar",
         "x": [
          "2020-07"
         ],
         "xaxis": "x",
         "y": [
          135000
         ],
         "yaxis": "y"
        },
        {
         "alignmentgroup": "True",
         "hovertemplate": "Sanctioned_Entity=Cassa Lombarda Spa<br>Month of Sanction=%{x}<br>Sanctioned Amount (€)=%{y}<extra></extra>",
         "legendgroup": "Cassa Lombarda Spa",
         "marker": {
          "color": "#EF553B",
          "pattern": {
           "shape": ""
          }
         },
         "name": "Cassa Lombarda Spa",
         "offsetgroup": "Cassa Lombarda Spa",
         "orientation": "v",
         "showlegend": true,
         "textposition": "auto",
         "type": "bar",
         "x": [
          "2020-07"
         ],
         "xaxis": "x",
         "y": [
          90000
         ],
         "yaxis": "y"
        },
        {
         "alignmentgroup": "True",
         "hovertemplate": "Sanctioned_Entity=D. FRANCO<br>Month of Sanction=%{x}<br>Sanctioned Amount (€)=%{y}<extra></extra>",
         "legendgroup": "D. FRANCO",
         "marker": {
          "color": "#00cc96",
          "pattern": {
           "shape": ""
          }
         },
         "name": "D. FRANCO",
         "offsetgroup": "D. FRANCO",
         "orientation": "v",
         "showlegend": true,
         "textposition": "auto",
         "type": "bar",
         "x": [
          "2020-07"
         ],
         "xaxis": "x",
         "y": [
          123000
         ],
         "yaxis": "y"
        },
        {
         "alignmentgroup": "True",
         "hovertemplate": "Sanctioned_Entity=Direttore generale Claudia Nicolò<br>Month of Sanction=%{x}<br>Sanctioned Amount (€)=%{y}<extra></extra>",
         "legendgroup": "Direttore generale Claudia Nicolò",
         "marker": {
          "color": "#ab63fa",
          "pattern": {
           "shape": ""
          }
         },
         "name": "Direttore generale C...",
         "offsetgroup": "Direttore generale Claudia Nicolò",
         "orientation": "v",
         "showlegend": true,
         "textposition": "auto",
         "type": "bar",
         "x": [
          "2020-07"
         ],
         "xaxis": "x",
         "y": [
          17000
         ],
         "yaxis": "y"
        },
        {
         "alignmentgroup": "True",
         "hovertemplate": "Sanctioned_Entity=Istituto Finanziario Europeo Spa<br>Month of Sanction=%{x}<br>Sanctioned Amount (€)=%{y}<extra></extra>",
         "legendgroup": "Istituto Finanziario Europeo Spa",
         "marker": {
          "color": "#FFA15A",
          "pattern": {
           "shape": ""
          }
         },
         "name": "Istituto Finanziario...",
         "offsetgroup": "Istituto Finanziario Europeo Spa",
         "orientation": "v",
         "showlegend": true,
         "textposition": "auto",
         "type": "bar",
         "x": [
          "2020-07"
         ],
         "xaxis": "x",
         "y": [
          37000
         ],
         "yaxis": "y"
        },
        {
         "alignmentgroup": "True",
         "hovertemplate": "Sanctioned_Entity=Vita la<br>Month of Sanction=%{x}<br>Sanctioned Amount (€)=%{y}<extra></extra>",
         "legendgroup": "Vita la",
         "marker": {
          "color": "#19d3f3",
          "pattern": {
           "shape": ""
          }
         },
         "name": "Vita la",
         "offsetgroup": "Vita la",
         "orientation": "v",
         "showlegend": true,
         "textposition": "auto",
         "type": "bar",
         "x": [
          "2020-07"
         ],
         "xaxis": "x",
         "y": [
          0
         ],
         "yaxis": "y"
        },
        {
         "alignmentgroup": "True",
         "hovertemplate": "Sanctioned_Entity=We Finance Spa<br>Month of Sanction=%{x}<br>Sanctioned Amount (€)=%{y}<extra></extra>",
         "legendgroup": "We Finance Spa",
         "marker": {
          "color": "#FF6692",
          "pattern": {
           "shape": ""
          }
         },
         "name": "We Finance Spa",
         "offsetgroup": "We Finance Spa",
         "orientation": "v",
         "showlegend": true,
         "textposition": "auto",
         "type": "bar",
         "x": [
          "2020-07"
         ],
         "xaxis": "x",
         "y": [
          60000
         ],
         "yaxis": "y"
        },
        {
         "alignmentgroup": "True",
         "hovertemplate": "Sanctioned_Entity=UBS Fiduciaria Spa<br>Month of Sanction=%{x}<br>Sanctioned Amount (€)=%{y}<extra></extra>",
         "legendgroup": "UBS Fiduciaria Spa",
         "marker": {
          "color": "#B6E880",
          "pattern": {
           "shape": ""
          }
         },
         "name": "UBS Fiduciaria Spa",
         "offsetgroup": "UBS Fiduciaria Spa",
         "orientation": "v",
         "showlegend": true,
         "textposition": "auto",
         "type": "bar",
         "x": [
          "2020-08"
         ],
         "xaxis": "x",
         "y": [
          30000
         ],
         "yaxis": "y"
        },
        {
         "alignmentgroup": "True",
         "hovertemplate": "Sanctioned_Entity=Attijariwafa Bank Europe, Succursale italiana<br>Month of Sanction=%{x}<br>Sanctioned Amount (€)=%{y}<extra></extra>",
         "legendgroup": "Attijariwafa Bank Europe, Succursale italiana",
         "marker": {
          "color": "#FF97FF",
          "pattern": {
           "shape": ""
          }
         },
         "name": "Attijariwafa Bank Eu...",
         "offsetgroup": "Attijariwafa Bank Europe, Succursale italiana",
         "orientation": "v",
         "showlegend": true,
         "textposition": "auto",
         "type": "bar",
         "x": [
          "2020-09"
         ],
         "xaxis": "x",
         "y": [
          65000
         ],
         "yaxis": "y"
        },
        {
         "alignmentgroup": "True",
         "hovertemplate": "Sanctioned_Entity=BNP Paribas Real Estate Investment Management Italy SGR<br>Month of Sanction=%{x}<br>Sanctioned Amount (€)=%{y}<extra></extra>",
         "legendgroup": "BNP Paribas Real Estate Investment Management Italy SGR",
         "marker": {
          "color": "#FECB52",
          "pattern": {
           "shape": ""
          }
         },
         "name": "BNP Paribas Real Est...",
         "offsetgroup": "BNP Paribas Real Estate Investment Management Italy SGR",
         "orientation": "v",
         "showlegend": true,
         "textposition": "auto",
         "type": "bar",
         "x": [
          "2020-09"
         ],
         "xaxis": "x",
         "y": [
          73000
         ],
         "yaxis": "y"
        },
        {
         "alignmentgroup": "True",
         "hovertemplate": "Sanctioned_Entity=Banca Popolare del Cassinate Scpa<br>Month of Sanction=%{x}<br>Sanctioned Amount (€)=%{y}<extra></extra>",
         "legendgroup": "Banca Popolare del Cassinate Scpa",
         "marker": {
          "color": "#636efa",
          "pattern": {
           "shape": ""
          }
         },
         "name": "Banca Popolare del C...",
         "offsetgroup": "Banca Popolare del Cassinate Scpa",
         "orientation": "v",
         "showlegend": true,
         "textposition": "auto",
         "type": "bar",
         "x": [
          "2020-09"
         ],
         "xaxis": "x",
         "y": [
          30000
         ],
         "yaxis": "y"
        },
        {
         "alignmentgroup": "True",
         "hovertemplate": "Sanctioned_Entity=Banca Popolare dell’Alto Adige Spa<br>Month of Sanction=%{x}<br>Sanctioned Amount (€)=%{y}<extra></extra>",
         "legendgroup": "Banca Popolare dell’Alto Adige Spa",
         "marker": {
          "color": "#EF553B",
          "pattern": {
           "shape": ""
          }
         },
         "name": "Banca Popolare dell’...",
         "offsetgroup": "Banca Popolare dell’Alto Adige Spa",
         "orientation": "v",
         "showlegend": true,
         "textposition": "auto",
         "type": "bar",
         "x": [
          "2020-09"
         ],
         "xaxis": "x",
         "y": [
          145000
         ],
         "yaxis": "y"
        },
        {
         "alignmentgroup": "True",
         "hovertemplate": "Sanctioned_Entity=Banca Popolare di Puglia e Basilicata Scpa<br>Month of Sanction=%{x}<br>Sanctioned Amount (€)=%{y}<extra></extra>",
         "legendgroup": "Banca Popolare di Puglia e Basilicata Scpa",
         "marker": {
          "color": "#00cc96",
          "pattern": {
           "shape": ""
          }
         },
         "name": "Banca Popolare di Pu...",
         "offsetgroup": "Banca Popolare di Puglia e Basilicata Scpa",
         "orientation": "v",
         "showlegend": true,
         "textposition": "auto",
         "type": "bar",
         "x": [
          "2020-10"
         ],
         "xaxis": "x",
         "y": [
          30000
         ],
         "yaxis": "y"
        },
        {
         "alignmentgroup": "True",
         "hovertemplate": "Sanctioned_Entity=Banca d<br>Month of Sanction=%{x}<br>Sanctioned Amount (€)=%{y}<extra></extra>",
         "legendgroup": "Banca d",
         "marker": {
          "color": "#ab63fa",
          "pattern": {
           "shape": ""
          }
         },
         "name": "Banca d",
         "offsetgroup": "Banca d",
         "orientation": "v",
         "showlegend": true,
         "textposition": "auto",
         "type": "bar",
         "x": [
          "2020-10"
         ],
         "xaxis": "x",
         "y": [
          30000
         ],
         "yaxis": "y"
        },
        {
         "alignmentgroup": "True",
         "hovertemplate": "Sanctioned_Entity=Banca del Piemonte Spa<br>Month of Sanction=%{x}<br>Sanctioned Amount (€)=%{y}<extra></extra>",
         "legendgroup": "Banca del Piemonte Spa",
         "marker": {
          "color": "#FFA15A",
          "pattern": {
           "shape": ""
          }
         },
         "name": "Banca del Piemonte S...",
         "offsetgroup": "Banca del Piemonte Spa",
         "orientation": "v",
         "showlegend": true,
         "textposition": "auto",
         "type": "bar",
         "x": [
          "2020-10"
         ],
         "xaxis": "x",
         "y": [
          30000
         ],
         "yaxis": "y"
        },
        {
         "alignmentgroup": "True",
         "hovertemplate": "Sanctioned_Entity=Namira SGR Spa<br>Month of Sanction=%{x}<br>Sanctioned Amount (€)=%{y}<extra></extra>",
         "legendgroup": "Namira SGR Spa",
         "marker": {
          "color": "#19d3f3",
          "pattern": {
           "shape": ""
          }
         },
         "name": "Namira SGR Spa",
         "offsetgroup": "Namira SGR Spa",
         "orientation": "v",
         "showlegend": true,
         "textposition": "auto",
         "type": "bar",
         "x": [
          "2020-10"
         ],
         "xaxis": "x",
         "y": [
          90000
         ],
         "yaxis": "y"
        },
        {
         "alignmentgroup": "True",
         "hovertemplate": "Sanctioned_Entity=Races Finanziaria Spa<br>Month of Sanction=%{x}<br>Sanctioned Amount (€)=%{y}<extra></extra>",
         "legendgroup": "Races Finanziaria Spa",
         "marker": {
          "color": "#FF6692",
          "pattern": {
           "shape": ""
          }
         },
         "name": "Races Finanziaria Sp...",
         "offsetgroup": "Races Finanziaria Spa",
         "orientation": "v",
         "showlegend": true,
         "textposition": "auto",
         "type": "bar",
         "x": [
          "2020-10"
         ],
         "xaxis": "x",
         "y": [
          30000
         ],
         "yaxis": "y"
        },
        {
         "alignmentgroup": "True",
         "hovertemplate": "Sanctioned_Entity=Invest Banca Spa, ora in a.s.<br>Month of Sanction=%{x}<br>Sanctioned Amount (€)=%{y}<extra></extra>",
         "legendgroup": "Invest Banca Spa, ora in a.s.",
         "marker": {
          "color": "#B6E880",
          "pattern": {
           "shape": ""
          }
         },
         "name": "Invest Banca Spa, or...",
         "offsetgroup": "Invest Banca Spa, ora in a.s.",
         "orientation": "v",
         "showlegend": true,
         "textposition": "auto",
         "type": "bar",
         "x": [
          "2020-11"
         ],
         "xaxis": "x",
         "y": [
          30000
         ],
         "yaxis": "y"
        },
        {
         "alignmentgroup": "True",
         "hovertemplate": "Sanctioned_Entity=Ipagoo LLP<br>Month of Sanction=%{x}<br>Sanctioned Amount (€)=%{y}<extra></extra>",
         "legendgroup": "Ipagoo LLP",
         "marker": {
          "color": "#FF97FF",
          "pattern": {
           "shape": ""
          }
         },
         "name": "Ipagoo LLP",
         "offsetgroup": "Ipagoo LLP",
         "orientation": "v",
         "showlegend": true,
         "textposition": "auto",
         "type": "bar",
         "x": [
          "2020-11"
         ],
         "xaxis": "x",
         "y": [
          30000
         ],
         "yaxis": "y"
        },
        {
         "alignmentgroup": "True",
         "hovertemplate": "Sanctioned_Entity=Giotto SIM Spa (Giotto Cellino Sim Spa)<br>Month of Sanction=%{x}<br>Sanctioned Amount (€)=%{y}<extra></extra>",
         "legendgroup": "Giotto SIM Spa (Giotto Cellino Sim Spa)",
         "marker": {
          "color": "#FECB52",
          "pattern": {
           "shape": ""
          }
         },
         "name": "Giotto SIM Spa (Giot...",
         "offsetgroup": "Giotto SIM Spa (Giotto Cellino Sim Spa)",
         "orientation": "v",
         "showlegend": true,
         "textposition": "auto",
         "type": "bar",
         "x": [
          "2020-12"
         ],
         "xaxis": "x",
         "y": [
          30000
         ],
         "yaxis": "y"
        },
        {
         "alignmentgroup": "True",
         "hovertemplate": "Sanctioned_Entity=Ifinvest Spa<br>Month of Sanction=%{x}<br>Sanctioned Amount (€)=%{y}<extra></extra>",
         "legendgroup": "Ifinvest Spa",
         "marker": {
          "color": "#636efa",
          "pattern": {
           "shape": ""
          }
         },
         "name": "Ifinvest Spa",
         "offsetgroup": "Ifinvest Spa",
         "orientation": "v",
         "showlegend": true,
         "textposition": "auto",
         "type": "bar",
         "x": [
          "2020-12"
         ],
         "xaxis": "x",
         "y": [
          60000
         ],
         "yaxis": "y"
        },
        {
         "alignmentgroup": "True",
         "hovertemplate": "Sanctioned_Entity=Société Générale Securitie s Services Spa<br>Month of Sanction=%{x}<br>Sanctioned Amount (€)=%{y}<extra></extra>",
         "legendgroup": "Société Générale Securitie s Services Spa",
         "marker": {
          "color": "#EF553B",
          "pattern": {
           "shape": ""
          }
         },
         "name": "Société Générale Sec...",
         "offsetgroup": "Société Générale Securitie s Services Spa",
         "orientation": "v",
         "showlegend": true,
         "textposition": "auto",
         "type": "bar",
         "x": [
          "2021-01"
         ],
         "xaxis": "x",
         "y": [
          55000
         ],
         "yaxis": "y"
        },
        {
         "alignmentgroup": "True",
         "hovertemplate": "Sanctioned_Entity=Banca Popolare di Cortona Scpa<br>Month of Sanction=%{x}<br>Sanctioned Amount (€)=%{y}<extra></extra>",
         "legendgroup": "Banca Popolare di Cortona Scpa",
         "marker": {
          "color": "#00cc96",
          "pattern": {
           "shape": ""
          }
         },
         "name": "Banca Popolare di Co...",
         "offsetgroup": "Banca Popolare di Cortona Scpa",
         "orientation": "v",
         "showlegend": true,
         "textposition": "auto",
         "type": "bar",
         "x": [
          "2021-03"
         ],
         "xaxis": "x",
         "y": [
          60000
         ],
         "yaxis": "y"
        },
        {
         "alignmentgroup": "True",
         "hovertemplate": "Sanctioned_Entity=Cassa Raiffeisen Schlern-Rosengarten<br>Month of Sanction=%{x}<br>Sanctioned Amount (€)=%{y}<extra></extra>",
         "legendgroup": "Cassa Raiffeisen Schlern-Rosengarten",
         "marker": {
          "color": "#ab63fa",
          "pattern": {
           "shape": ""
          }
         },
         "name": "Cassa Raiffeisen Sch...",
         "offsetgroup": "Cassa Raiffeisen Schlern-Rosengarten",
         "orientation": "v",
         "showlegend": true,
         "textposition": "auto",
         "type": "bar",
         "x": [
          "2021-03"
         ],
         "xaxis": "x",
         "y": [
          30000
         ],
         "yaxis": "y"
        },
        {
         "alignmentgroup": "True",
         "hovertemplate": "Sanctioned_Entity=Finanza & Factor Spa, ora in liquidazione<br>Month of Sanction=%{x}<br>Sanctioned Amount (€)=%{y}<extra></extra>",
         "legendgroup": "Finanza & Factor Spa, ora in liquidazione",
         "marker": {
          "color": "#FFA15A",
          "pattern": {
           "shape": ""
          }
         },
         "name": "Finanza & Factor Spa...",
         "offsetgroup": "Finanza & Factor Spa, ora in liquidazione",
         "orientation": "v",
         "showlegend": true,
         "textposition": "auto",
         "type": "bar",
         "x": [
          "2021-03"
         ],
         "xaxis": "x",
         "y": [
          102000
         ],
         "yaxis": "y"
        },
        {
         "alignmentgroup": "True",
         "hovertemplate": "Sanctioned_Entity=BCC del Crotonese CC SC<br>Month of Sanction=%{x}<br>Sanctioned Amount (€)=%{y}<extra></extra>",
         "legendgroup": "BCC del Crotonese CC SC",
         "marker": {
          "color": "#19d3f3",
          "pattern": {
           "shape": ""
          }
         },
         "name": "BCC del Crotonese CC...",
         "offsetgroup": "BCC del Crotonese CC SC",
         "orientation": "v",
         "showlegend": true,
         "textposition": "auto",
         "type": "bar",
         "x": [
          "2021-04"
         ],
         "xaxis": "x",
         "y": [
          60000
         ],
         "yaxis": "y"
        },
        {
         "alignmentgroup": "True",
         "hovertemplate": "Sanctioned_Entity=Banca Popolare di Bari Spa<br>Month of Sanction=%{x}<br>Sanctioned Amount (€)=%{y}<extra></extra>",
         "legendgroup": "Banca Popolare di Bari Spa",
         "marker": {
          "color": "#FF6692",
          "pattern": {
           "shape": ""
          }
         },
         "name": "Banca Popolare di Ba...",
         "offsetgroup": "Banca Popolare di Bari Spa",
         "orientation": "v",
         "showlegend": true,
         "textposition": "auto",
         "type": "bar",
         "x": [
          "2021-04"
         ],
         "xaxis": "x",
         "y": [
          50000
         ],
         "yaxis": "y"
        },
        {
         "alignmentgroup": "True",
         "hovertemplate": "Sanctioned_Entity=Dynamica Retail Spa<br>Month of Sanction=%{x}<br>Sanctioned Amount (€)=%{y}<extra></extra>",
         "legendgroup": "Dynamica Retail Spa",
         "marker": {
          "color": "#B6E880",
          "pattern": {
           "shape": ""
          }
         },
         "name": "Dynamica Retail Spa",
         "offsetgroup": "Dynamica Retail Spa",
         "orientation": "v",
         "showlegend": true,
         "textposition": "auto",
         "type": "bar",
         "x": [
          "2021-04"
         ],
         "xaxis": "x",
         "y": [
          30000
         ],
         "yaxis": "y"
        },
        {
         "alignmentgroup": "True",
         "hovertemplate": "Sanctioned_Entity=BCC Credito Etneo CC SC<br>Month of Sanction=%{x}<br>Sanctioned Amount (€)=%{y}<extra></extra>",
         "legendgroup": "BCC Credito Etneo CC SC",
         "marker": {
          "color": "#FF97FF",
          "pattern": {
           "shape": ""
          }
         },
         "name": "BCC Credito Etneo CC...",
         "offsetgroup": "BCC Credito Etneo CC SC",
         "orientation": "v",
         "showlegend": true,
         "textposition": "auto",
         "type": "bar",
         "x": [
          "2021-05"
         ],
         "xaxis": "x",
         "y": [
          160000
         ],
         "yaxis": "y"
        },
        {
         "alignmentgroup": "True",
         "hovertemplate": "Sanctioned_Entity=BCC Don Stella di Resuttano soc. coop., ora BCC G. Toniolo di San Cataldo soc. coop.<br>Month of Sanction=%{x}<br>Sanctioned Amount (€)=%{y}<extra></extra>",
         "legendgroup": "BCC Don Stella di Resuttano soc. coop., ora BCC G. Toniolo di San Cataldo soc. coop.",
         "marker": {
          "color": "#FECB52",
          "pattern": {
           "shape": ""
          }
         },
         "name": "BCC Don Stella di Re...",
         "offsetgroup": "BCC Don Stella di Resuttano soc. coop., ora BCC G. Toniolo di San Cataldo soc. coop.",
         "orientation": "v",
         "showlegend": true,
         "textposition": "auto",
         "type": "bar",
         "x": [
          "2021-05"
         ],
         "xaxis": "x",
         "y": [
          30000
         ],
         "yaxis": "y"
        },
        {
         "alignmentgroup": "True",
         "hovertemplate": "Sanctioned_Entity=Banca Monte dei Paschi di Siena Spa<br>Month of Sanction=%{x}<br>Sanctioned Amount (€)=%{y}<extra></extra>",
         "legendgroup": "Banca Monte dei Paschi di Siena Spa",
         "marker": {
          "color": "#636efa",
          "pattern": {
           "shape": ""
          }
         },
         "name": "Banca Monte dei Pasc...",
         "offsetgroup": "Banca Monte dei Paschi di Siena Spa",
         "orientation": "v",
         "showlegend": true,
         "textposition": "auto",
         "type": "bar",
         "x": [
          "2021-05"
         ],
         "xaxis": "x",
         "y": [
          2900
         ],
         "yaxis": "y"
        },
        {
         "alignmentgroup": "True",
         "hovertemplate": "Sanctioned_Entity=Diners Club Italia Srl<br>Month of Sanction=%{x}<br>Sanctioned Amount (€)=%{y}<extra></extra>",
         "legendgroup": "Diners Club Italia Srl",
         "marker": {
          "color": "#EF553B",
          "pattern": {
           "shape": ""
          }
         },
         "name": "Diners Club Italia S...",
         "offsetgroup": "Diners Club Italia Srl",
         "orientation": "v",
         "showlegend": true,
         "textposition": "auto",
         "type": "bar",
         "x": [
          "2021-05"
         ],
         "xaxis": "x",
         "y": [
          30000
         ],
         "yaxis": "y"
        },
        {
         "alignmentgroup": "True",
         "hovertemplate": "Sanctioned_Entity=Bancadvice.it Sas di Mazzone A & C<br>Month of Sanction=%{x}<br>Sanctioned Amount (€)=%{y}<extra></extra>",
         "legendgroup": "Bancadvice.it Sas di Mazzone A & C",
         "marker": {
          "color": "#00cc96",
          "pattern": {
           "shape": ""
          }
         },
         "name": "Bancadvice.it Sas di...",
         "offsetgroup": "Bancadvice.it Sas di Mazzone A & C",
         "orientation": "v",
         "showlegend": true,
         "textposition": "auto",
         "type": "bar",
         "x": [
          "2021-06"
         ],
         "xaxis": "x",
         "y": [
          30000
         ],
         "yaxis": "y"
        },
        {
         "alignmentgroup": "True",
         "hovertemplate": "Sanctioned_Entity=Credito Etneo - Banca di Credito Cooperativo Soc. Coop.<br>Month of Sanction=%{x}<br>Sanctioned Amount (€)=%{y}<extra></extra>",
         "legendgroup": "Credito Etneo - Banca di Credito Cooperativo Soc. Coop.",
         "marker": {
          "color": "#ab63fa",
          "pattern": {
           "shape": ""
          }
         },
         "name": "Credito Etneo - Banc...",
         "offsetgroup": "Credito Etneo - Banca di Credito Cooperativo Soc. Coop.",
         "orientation": "v",
         "showlegend": true,
         "textposition": "auto",
         "type": "bar",
         "x": [
          "2021-06"
         ],
         "xaxis": "x",
         "y": [
          17041
         ],
         "yaxis": "y"
        },
        {
         "alignmentgroup": "True",
         "hovertemplate": "Sanctioned_Entity=Davis & Morgan Spa<br>Month of Sanction=%{x}<br>Sanctioned Amount (€)=%{y}<extra></extra>",
         "legendgroup": "Davis & Morgan Spa",
         "marker": {
          "color": "#FFA15A",
          "pattern": {
           "shape": ""
          }
         },
         "name": "Davis & Morgan Spa",
         "offsetgroup": "Davis & Morgan Spa",
         "orientation": "v",
         "showlegend": true,
         "textposition": "auto",
         "type": "bar",
         "x": [
          "2021-06",
          "2021-11"
         ],
         "xaxis": "x",
         "y": [
          30000,
          50000
         ],
         "yaxis": "y"
        },
        {
         "alignmentgroup": "True",
         "hovertemplate": "Sanctioned_Entity=Invest Banca Spa in a.s.<br>Month of Sanction=%{x}<br>Sanctioned Amount (€)=%{y}<extra></extra>",
         "legendgroup": "Invest Banca Spa in a.s.",
         "marker": {
          "color": "#19d3f3",
          "pattern": {
           "shape": ""
          }
         },
         "name": "Invest Banca Spa in ...",
         "offsetgroup": "Invest Banca Spa in a.s.",
         "orientation": "v",
         "showlegend": true,
         "textposition": "auto",
         "type": "bar",
         "x": [
          "2021-06"
         ],
         "xaxis": "x",
         "y": [
          100000
         ],
         "yaxis": "y"
        },
        {
         "alignmentgroup": "True",
         "hovertemplate": "Sanctioned_Entity=Microcredito Italiano Spa<br>Month of Sanction=%{x}<br>Sanctioned Amount (€)=%{y}<extra></extra>",
         "legendgroup": "Microcredito Italiano Spa",
         "marker": {
          "color": "#FF6692",
          "pattern": {
           "shape": ""
          }
         },
         "name": "Microcredito Italian...",
         "offsetgroup": "Microcredito Italiano Spa",
         "orientation": "v",
         "showlegend": true,
         "textposition": "auto",
         "type": "bar",
         "x": [
          "2021-06"
         ],
         "xaxis": "x",
         "y": [
          30000
         ],
         "yaxis": "y"
        },
        {
         "alignmentgroup": "True",
         "hovertemplate": "Sanctioned_Entity=Roma, 25.6.2021<br>Month of Sanction=%{x}<br>Sanctioned Amount (€)=%{y}<extra></extra>",
         "legendgroup": "Roma, 25.6.2021",
         "marker": {
          "color": "#B6E880",
          "pattern": {
           "shape": ""
          }
         },
         "name": "Roma, 25.6.2021",
         "offsetgroup": "Roma, 25.6.2021",
         "orientation": "v",
         "showlegend": true,
         "textposition": "auto",
         "type": "bar",
         "x": [
          "2021-06"
         ],
         "xaxis": "x",
         "y": [
          10000
         ],
         "yaxis": "y"
        },
        {
         "alignmentgroup": "True",
         "hovertemplate": "Sanctioned_Entity=Summa Service Srl<br>Month of Sanction=%{x}<br>Sanctioned Amount (€)=%{y}<extra></extra>",
         "legendgroup": "Summa Service Srl",
         "marker": {
          "color": "#FF97FF",
          "pattern": {
           "shape": ""
          }
         },
         "name": "Summa Service Srl",
         "offsetgroup": "Summa Service Srl",
         "orientation": "v",
         "showlegend": true,
         "textposition": "auto",
         "type": "bar",
         "x": [
          "2021-07"
         ],
         "xaxis": "x",
         "y": [
          68000
         ],
         "yaxis": "y"
        },
        {
         "alignmentgroup": "True",
         "hovertemplate": "Sanctioned_Entity=Vigilanza<br>Month of Sanction=%{x}<br>Sanctioned Amount (€)=%{y}<extra></extra>",
         "legendgroup": "Vigilanza",
         "marker": {
          "color": "#FECB52",
          "pattern": {
           "shape": ""
          }
         },
         "name": "Vigilanza",
         "offsetgroup": "Vigilanza",
         "orientation": "v",
         "showlegend": true,
         "textposition": "auto",
         "type": "bar",
         "x": [
          "2021-07"
         ],
         "xaxis": "x",
         "y": [
          37000
         ],
         "yaxis": "y"
        },
        {
         "alignmentgroup": "True",
         "hovertemplate": "Sanctioned_Entity=Servizio Rapporti Istituzionali di Vigilanza<br>Month of Sanction=%{x}<br>Sanctioned Amount (€)=%{y}<extra></extra>",
         "legendgroup": "Servizio Rapporti Istituzionali di Vigilanza",
         "marker": {
          "color": "#636efa",
          "pattern": {
           "shape": ""
          }
         },
         "name": "Servizio Rapporti Is...",
         "offsetgroup": "Servizio Rapporti Istituzionali di Vigilanza",
         "orientation": "v",
         "showlegend": true,
         "textposition": "auto",
         "type": "bar",
         "x": [
          "2021-08"
         ],
         "xaxis": "x",
         "y": [
          21000
         ],
         "yaxis": "y"
        },
        {
         "alignmentgroup": "True",
         "hovertemplate": "Sanctioned_Entity=Banca del Catanzarese Credito Cooperativo Società Cooperativa<br>Month of Sanction=%{x}<br>Sanctioned Amount (€)=%{y}<extra></extra>",
         "legendgroup": "Banca del Catanzarese Credito Cooperativo Società Cooperativa",
         "marker": {
          "color": "#EF553B",
          "pattern": {
           "shape": ""
          }
         },
         "name": "Banca del Catanzares...",
         "offsetgroup": "Banca del Catanzarese Credito Cooperativo Società Cooperativa",
         "orientation": "v",
         "showlegend": true,
         "textposition": "auto",
         "type": "bar",
         "x": [
          "2021-11"
         ],
         "xaxis": "x",
         "y": [
          60000
         ],
         "yaxis": "y"
        },
        {
         "alignmentgroup": "True",
         "hovertemplate": "Sanctioned_Entity=Credito Cooperativo di San Calogero e Maierato – BCC del Vibonese<br>Month of Sanction=%{x}<br>Sanctioned Amount (€)=%{y}<extra></extra>",
         "legendgroup": "Credito Cooperativo di San Calogero e Maierato – BCC del Vibonese",
         "marker": {
          "color": "#00cc96",
          "pattern": {
           "shape": ""
          }
         },
         "name": "Credito Cooperativo ...",
         "offsetgroup": "Credito Cooperativo di San Calogero e Maierato – BCC del Vibonese",
         "orientation": "v",
         "showlegend": true,
         "textposition": "auto",
         "type": "bar",
         "x": [
          "2021-12"
         ],
         "xaxis": "x",
         "y": [
          60000
         ],
         "yaxis": "y"
        },
        {
         "alignmentgroup": "True",
         "hovertemplate": "Sanctioned_Entity=O M O O O O LOLCLCLCLCLCLCLLLLLLLLLLLLLLLLLLLLLLLLLLLLLLLLLLLLLLLLLLLLLLLLLLLLLLLLLLLLLLLLLLLLLLLLLLLLLLLLLLLLLLLLLLLLLLLLLLLLLLLLLLLLLLLLLLLL<br>Month of Sanction=%{x}<br>Sanctioned Amount (€)=%{y}<extra></extra>",
         "legendgroup": "O M O O O O LOLCLCLCLCLCLCLLLLLLLLLLLLLLLLLLLLLLLLLLLLLLLLLLLLLLLLLLLLLLLLLLLLLLLLLLLLLLLLLLLLLLLLLLLLLLLLLLLLLLLLLLLLLLLLLLLLLLLLLLLLLLLLLLLL",
         "marker": {
          "color": "#ab63fa",
          "pattern": {
           "shape": ""
          }
         },
         "name": "O M O O O O LOLCLCLC...",
         "offsetgroup": "O M O O O O LOLCLCLCLCLCLCLLLLLLLLLLLLLLLLLLLLLLLLLLLLLLLLLLLLLLLLLLLLLLLLLLLLLLLLLLLLLLLLLLLLLLLLLLLLLLLLLLLLLLLLLLLLLLLLLLLLLLLLLLLLLLLLLLLL",
         "orientation": "v",
         "showlegend": true,
         "textposition": "auto",
         "type": "bar",
         "x": [
          "2021-12"
         ],
         "xaxis": "x",
         "y": [
          0
         ],
         "yaxis": "y"
        },
        {
         "alignmentgroup": "True",
         "hovertemplate": "Sanctioned_Entity=Banca Sistema Spa<br>Month of Sanction=%{x}<br>Sanctioned Amount (€)=%{y}<extra></extra>",
         "legendgroup": "Banca Sistema Spa",
         "marker": {
          "color": "#FFA15A",
          "pattern": {
           "shape": ""
          }
         },
         "name": "Banca Sistema Spa",
         "offsetgroup": "Banca Sistema Spa",
         "orientation": "v",
         "showlegend": true,
         "textposition": "auto",
         "type": "bar",
         "x": [
          "2022-01",
          "2022-07"
         ],
         "xaxis": "x",
         "y": [
          85000,
          100000
         ],
         "yaxis": "y"
        },
        {
         "alignmentgroup": "True",
         "hovertemplate": "Sanctioned_Entity=Banca del Sud Spa, ora in a.s.<br>Month of Sanction=%{x}<br>Sanctioned Amount (€)=%{y}<extra></extra>",
         "legendgroup": "Banca del Sud Spa, ora in a.s.",
         "marker": {
          "color": "#19d3f3",
          "pattern": {
           "shape": ""
          }
         },
         "name": "Banca del Sud Spa, o...",
         "offsetgroup": "Banca del Sud Spa, ora in a.s.",
         "orientation": "v",
         "showlegend": true,
         "textposition": "auto",
         "type": "bar",
         "x": [
          "2022-01"
         ],
         "xaxis": "x",
         "y": [
          52000
         ],
         "yaxis": "y"
        },
        {
         "alignmentgroup": "True",
         "hovertemplate": "Sanctioned_Entity=Se.Pa.Fin. Spa<br>Month of Sanction=%{x}<br>Sanctioned Amount (€)=%{y}<extra></extra>",
         "legendgroup": "Se.Pa.Fin. Spa",
         "marker": {
          "color": "#FF6692",
          "pattern": {
           "shape": ""
          }
         },
         "name": "Se.Pa.Fin. Spa",
         "offsetgroup": "Se.Pa.Fin. Spa",
         "orientation": "v",
         "showlegend": true,
         "textposition": "auto",
         "type": "bar",
         "x": [
          "2022-01"
         ],
         "xaxis": "x",
         "y": [
          0
         ],
         "yaxis": "y"
        },
        {
         "alignmentgroup": "True",
         "hovertemplate": "Sanctioned_Entity=Banca Popolare Vesuviana Sc<br>Month of Sanction=%{x}<br>Sanctioned Amount (€)=%{y}<extra></extra>",
         "legendgroup": "Banca Popolare Vesuviana Sc",
         "marker": {
          "color": "#B6E880",
          "pattern": {
           "shape": ""
          }
         },
         "name": "Banca Popolare Vesuv...",
         "offsetgroup": "Banca Popolare Vesuviana Sc",
         "orientation": "v",
         "showlegend": true,
         "textposition": "auto",
         "type": "bar",
         "x": [
          "2022-02"
         ],
         "xaxis": "x",
         "y": [
          30000
         ],
         "yaxis": "y"
        },
        {
         "alignmentgroup": "True",
         "hovertemplate": "Sanctioned_Entity=Centotrenta Servicing Spa<br>Month of Sanction=%{x}<br>Sanctioned Amount (€)=%{y}<extra></extra>",
         "legendgroup": "Centotrenta Servicing Spa",
         "marker": {
          "color": "#FF97FF",
          "pattern": {
           "shape": ""
          }
         },
         "name": "Centotrenta Servicin...",
         "offsetgroup": "Centotrenta Servicing Spa",
         "orientation": "v",
         "showlegend": true,
         "textposition": "auto",
         "type": "bar",
         "x": [
          "2022-02"
         ],
         "xaxis": "x",
         "y": [
          40000
         ],
         "yaxis": "y"
        },
        {
         "alignmentgroup": "True",
         "hovertemplate": "Sanctioned_Entity=<br>Month of Sanction=%{x}<br>Sanctioned Amount (€)=%{y}<extra></extra>",
         "legendgroup": "",
         "marker": {
          "color": "#FECB52",
          "pattern": {
           "shape": ""
          }
         },
         "name": "",
         "offsetgroup": "",
         "orientation": "v",
         "showlegend": false,
         "textposition": "auto",
         "type": "bar",
         "x": [
          "2022-03"
         ],
         "xaxis": "x",
         "y": [
          0
         ],
         "yaxis": "y"
        },
        {
         "alignmentgroup": "True",
         "hovertemplate": "Sanctioned_Entity=Banca Carige Spa<br>Month of Sanction=%{x}<br>Sanctioned Amount (€)=%{y}<extra></extra>",
         "legendgroup": "Banca Carige Spa",
         "marker": {
          "color": "#636efa",
          "pattern": {
           "shape": ""
          }
         },
         "name": "Banca Carige Spa",
         "offsetgroup": "Banca Carige Spa",
         "orientation": "v",
         "showlegend": true,
         "textposition": "auto",
         "type": "bar",
         "x": [
          "2022-03"
         ],
         "xaxis": "x",
         "y": [
          280000
         ],
         "yaxis": "y"
        },
        {
         "alignmentgroup": "True",
         "hovertemplate": "Sanctioned_Entity=Banque Chaabi du Maroc<br>Month of Sanction=%{x}<br>Sanctioned Amount (€)=%{y}<extra></extra>",
         "legendgroup": "Banque Chaabi du Maroc",
         "marker": {
          "color": "#EF553B",
          "pattern": {
           "shape": ""
          }
         },
         "name": "Banque Chaabi du Mar...",
         "offsetgroup": "Banque Chaabi du Maroc",
         "orientation": "v",
         "showlegend": true,
         "textposition": "auto",
         "type": "bar",
         "x": [
          "2022-03"
         ],
         "xaxis": "x",
         "y": [
          30000
         ],
         "yaxis": "y"
        },
        {
         "alignmentgroup": "True",
         "hovertemplate": "Sanctioned_Entity=Prestiamoci Spa<br>Month of Sanction=%{x}<br>Sanctioned Amount (€)=%{y}<extra></extra>",
         "legendgroup": "Prestiamoci Spa",
         "marker": {
          "color": "#00cc96",
          "pattern": {
           "shape": ""
          }
         },
         "name": "Prestiamoci Spa",
         "offsetgroup": "Prestiamoci Spa",
         "orientation": "v",
         "showlegend": true,
         "textposition": "auto",
         "type": "bar",
         "x": [
          "2022-03"
         ],
         "xaxis": "x",
         "y": [
          30000
         ],
         "yaxis": "y"
        },
        {
         "alignmentgroup": "True",
         "hovertemplate": "Sanctioned_Entity=Directa SIM Spa<br>Month of Sanction=%{x}<br>Sanctioned Amount (€)=%{y}<extra></extra>",
         "legendgroup": "Directa SIM Spa",
         "marker": {
          "color": "#ab63fa",
          "pattern": {
           "shape": ""
          }
         },
         "name": "Directa SIM Spa",
         "offsetgroup": "Directa SIM Spa",
         "orientation": "v",
         "showlegend": true,
         "textposition": "auto",
         "type": "bar",
         "x": [
          "2022-04"
         ],
         "xaxis": "x",
         "y": [
          30000
         ],
         "yaxis": "y"
        },
        {
         "alignmentgroup": "True",
         "hovertemplate": "Sanctioned_Entity=Banca Popolare di Lajatico<br>Month of Sanction=%{x}<br>Sanctioned Amount (€)=%{y}<extra></extra>",
         "legendgroup": "Banca Popolare di Lajatico",
         "marker": {
          "color": "#FFA15A",
          "pattern": {
           "shape": ""
          }
         },
         "name": "Banca Popolare di La...",
         "offsetgroup": "Banca Popolare di Lajatico",
         "orientation": "v",
         "showlegend": true,
         "textposition": "auto",
         "type": "bar",
         "x": [
          "2022-07"
         ],
         "xaxis": "x",
         "y": [
          30000
         ],
         "yaxis": "y"
        },
        {
         "alignmentgroup": "True",
         "hovertemplate": "Sanctioned_Entity=Credimi Spa<br>Month of Sanction=%{x}<br>Sanctioned Amount (€)=%{y}<extra></extra>",
         "legendgroup": "Credimi Spa",
         "marker": {
          "color": "#19d3f3",
          "pattern": {
           "shape": ""
          }
         },
         "name": "Credimi Spa",
         "offsetgroup": "Credimi Spa",
         "orientation": "v",
         "showlegend": true,
         "textposition": "auto",
         "type": "bar",
         "x": [
          "2022-07"
         ],
         "xaxis": "x",
         "y": [
          0
         ],
         "yaxis": "y"
        },
        {
         "alignmentgroup": "True",
         "hovertemplate": "Sanctioned_Entity=Mondial Bony Service Spa<br>Month of Sanction=%{x}<br>Sanctioned Amount (€)=%{y}<extra></extra>",
         "legendgroup": "Mondial Bony Service Spa",
         "marker": {
          "color": "#FF6692",
          "pattern": {
           "shape": ""
          }
         },
         "name": "Mondial Bony Service...",
         "offsetgroup": "Mondial Bony Service Spa",
         "orientation": "v",
         "showlegend": true,
         "textposition": "auto",
         "type": "bar",
         "x": [
          "2022-09"
         ],
         "xaxis": "x",
         "y": [
          60000
         ],
         "yaxis": "y"
        },
        {
         "alignmentgroup": "True",
         "hovertemplate": "Sanctioned_Entity=Valutrans Spa<br>Month of Sanction=%{x}<br>Sanctioned Amount (€)=%{y}<extra></extra>",
         "legendgroup": "Valutrans Spa",
         "marker": {
          "color": "#B6E880",
          "pattern": {
           "shape": ""
          }
         },
         "name": "Valutrans Spa",
         "offsetgroup": "Valutrans Spa",
         "orientation": "v",
         "showlegend": true,
         "textposition": "auto",
         "type": "bar",
         "x": [
          "2022-09"
         ],
         "xaxis": "x",
         "y": [
          45000
         ],
         "yaxis": "y"
        },
        {
         "alignmentgroup": "True",
         "hovertemplate": "Sanctioned_Entity=ART SGR Spa<br>Month of Sanction=%{x}<br>Sanctioned Amount (€)=%{y}<extra></extra>",
         "legendgroup": "ART SGR Spa",
         "marker": {
          "color": "#FF97FF",
          "pattern": {
           "shape": ""
          }
         },
         "name": "ART SGR Spa",
         "offsetgroup": "ART SGR Spa",
         "orientation": "v",
         "showlegend": true,
         "textposition": "auto",
         "type": "bar",
         "x": [
          "2022-11"
         ],
         "xaxis": "x",
         "y": [
          30000
         ],
         "yaxis": "y"
        },
        {
         "alignmentgroup": "True",
         "hovertemplate": "Sanctioned_Entity=Fin Sarda Spa<br>Month of Sanction=%{x}<br>Sanctioned Amount (€)=%{y}<extra></extra>",
         "legendgroup": "Fin Sarda Spa",
         "marker": {
          "color": "#FECB52",
          "pattern": {
           "shape": ""
          }
         },
         "name": "Fin Sarda Spa",
         "offsetgroup": "Fin Sarda Spa",
         "orientation": "v",
         "showlegend": true,
         "textposition": "auto",
         "type": "bar",
         "x": [
          "2022-12"
         ],
         "xaxis": "x",
         "y": [
          30000
         ],
         "yaxis": "y"
        },
        {
         "alignmentgroup": "True",
         "hovertemplate": "Sanctioned_Entity=N26 Bank Gmbh<br>Month of Sanction=%{x}<br>Sanctioned Amount (€)=%{y}<extra></extra>",
         "legendgroup": "N26 Bank Gmbh",
         "marker": {
          "color": "#636efa",
          "pattern": {
           "shape": ""
          }
         },
         "name": "N26 Bank Gmbh",
         "offsetgroup": "N26 Bank Gmbh",
         "orientation": "v",
         "showlegend": true,
         "textposition": "auto",
         "type": "bar",
         "x": [
          "2022-12"
         ],
         "xaxis": "x",
         "y": [
          160000
         ],
         "yaxis": "y"
        },
        {
         "alignmentgroup": "True",
         "hovertemplate": "Sanctioned_Entity=Ria Payment Institution EP S.A.U.<br>Month of Sanction=%{x}<br>Sanctioned Amount (€)=%{y}<extra></extra>",
         "legendgroup": "Ria Payment Institution EP S.A.U.",
         "marker": {
          "color": "#EF553B",
          "pattern": {
           "shape": ""
          }
         },
         "name": "Ria Payment Institut...",
         "offsetgroup": "Ria Payment Institution EP S.A.U.",
         "orientation": "v",
         "showlegend": true,
         "textposition": "auto",
         "type": "bar",
         "x": [
          "2022-12"
         ],
         "xaxis": "x",
         "y": [
          30000
         ],
         "yaxis": "y"
        },
        {
         "alignmentgroup": "True",
         "hovertemplate": "Sanctioned_Entity=Anthilia Capital Partners SGR Spa<br>Month of Sanction=%{x}<br>Sanctioned Amount (€)=%{y}<extra></extra>",
         "legendgroup": "Anthilia Capital Partners SGR Spa",
         "marker": {
          "color": "#00cc96",
          "pattern": {
           "shape": ""
          }
         },
         "name": "Anthilia Capital Par...",
         "offsetgroup": "Anthilia Capital Partners SGR Spa",
         "orientation": "v",
         "showlegend": true,
         "textposition": "auto",
         "type": "bar",
         "x": [
          "2023-01"
         ],
         "xaxis": "x",
         "y": [
          30000
         ],
         "yaxis": "y"
        },
        {
         "alignmentgroup": "True",
         "hovertemplate": "Sanctioned_Entity=Banca Popolare Sant’Angelo Scpa<br>Month of Sanction=%{x}<br>Sanctioned Amount (€)=%{y}<extra></extra>",
         "legendgroup": "Banca Popolare Sant’Angelo Scpa",
         "marker": {
          "color": "#ab63fa",
          "pattern": {
           "shape": ""
          }
         },
         "name": "Banca Popolare Sant’...",
         "offsetgroup": "Banca Popolare Sant’Angelo Scpa",
         "orientation": "v",
         "showlegend": true,
         "textposition": "auto",
         "type": "bar",
         "x": [
          "2023-02"
         ],
         "xaxis": "x",
         "y": [
          30000
         ],
         "yaxis": "y"
        },
        {
         "alignmentgroup": "True",
         "hovertemplate": "Sanctioned_Entity=Banca Progetto Spa<br>Month of Sanction=%{x}<br>Sanctioned Amount (€)=%{y}<extra></extra>",
         "legendgroup": "Banca Progetto Spa",
         "marker": {
          "color": "#FFA15A",
          "pattern": {
           "shape": ""
          }
         },
         "name": "Banca Progetto Spa",
         "offsetgroup": "Banca Progetto Spa",
         "orientation": "v",
         "showlegend": true,
         "textposition": "auto",
         "type": "bar",
         "x": [
          "2023-03"
         ],
         "xaxis": "x",
         "y": [
          100000
         ],
         "yaxis": "y"
        },
        {
         "alignmentgroup": "True",
         "hovertemplate": "Sanctioned_Entity=M.C. Family Spa, ora M.C. Family Srl<br>Month of Sanction=%{x}<br>Sanctioned Amount (€)=%{y}<extra></extra>",
         "legendgroup": "M.C. Family Spa, ora M.C. Family Srl",
         "marker": {
          "color": "#19d3f3",
          "pattern": {
           "shape": ""
          }
         },
         "name": "M.C. Family Spa, ora...",
         "offsetgroup": "M.C. Family Spa, ora M.C. Family Srl",
         "orientation": "v",
         "showlegend": true,
         "textposition": "auto",
         "type": "bar",
         "x": [
          "2023-03"
         ],
         "xaxis": "x",
         "y": [
          30000
         ],
         "yaxis": "y"
        },
        {
         "alignmentgroup": "True",
         "hovertemplate": "Sanctioned_Entity=M.C. Family Srl<br>Month of Sanction=%{x}<br>Sanctioned Amount (€)=%{y}<extra></extra>",
         "legendgroup": "M.C. Family Srl",
         "marker": {
          "color": "#FF6692",
          "pattern": {
           "shape": ""
          }
         },
         "name": "M.C. Family Srl",
         "offsetgroup": "M.C. Family Srl",
         "orientation": "v",
         "showlegend": true,
         "textposition": "auto",
         "type": "bar",
         "x": [
          "2023-03"
         ],
         "xaxis": "x",
         "y": [
          30000
         ],
         "yaxis": "y"
        },
        {
         "alignmentgroup": "True",
         "hovertemplate": "Sanctioned_Entity=Banca Popolare Valconca Spa in a.s.<br>Month of Sanction=%{x}<br>Sanctioned Amount (€)=%{y}<extra></extra>",
         "legendgroup": "Banca Popolare Valconca Spa in a.s.",
         "marker": {
          "color": "#B6E880",
          "pattern": {
           "shape": ""
          }
         },
         "name": "Banca Popolare Valco...",
         "offsetgroup": "Banca Popolare Valconca Spa in a.s.",
         "orientation": "v",
         "showlegend": true,
         "textposition": "auto",
         "type": "bar",
         "x": [
          "2023-04"
         ],
         "xaxis": "x",
         "y": [
          180000
         ],
         "yaxis": "y"
        },
        {
         "alignmentgroup": "True",
         "hovertemplate": "Sanctioned_Entity=Banco di Credito P. Azzoaglio Spa<br>Month of Sanction=%{x}<br>Sanctioned Amount (€)=%{y}<extra></extra>",
         "legendgroup": "Banco di Credito P. Azzoaglio Spa",
         "marker": {
          "color": "#FF97FF",
          "pattern": {
           "shape": ""
          }
         },
         "name": "Banco di Credito P. ...",
         "offsetgroup": "Banco di Credito P. Azzoaglio Spa",
         "orientation": "v",
         "showlegend": true,
         "textposition": "auto",
         "type": "bar",
         "x": [
          "2023-04"
         ],
         "xaxis": "x",
         "y": [
          30000
         ],
         "yaxis": "y"
        },
        {
         "alignmentgroup": "True",
         "hovertemplate": "Sanctioned_Entity=Synergo Capital SGR Spa<br>Month of Sanction=%{x}<br>Sanctioned Amount (€)=%{y}<extra></extra>",
         "legendgroup": "Synergo Capital SGR Spa",
         "marker": {
          "color": "#FECB52",
          "pattern": {
           "shape": ""
          }
         },
         "name": "Synergo Capital SGR ...",
         "offsetgroup": "Synergo Capital SGR Spa",
         "orientation": "v",
         "showlegend": true,
         "textposition": "auto",
         "type": "bar",
         "x": [
          "2023-04"
         ],
         "xaxis": "x",
         "y": [
          120000
         ],
         "yaxis": "y"
        },
        {
         "alignmentgroup": "True",
         "hovertemplate": "Sanctioned_Entity=Cassa di Risparmio di Volterra Spa<br>Month of Sanction=%{x}<br>Sanctioned Amount (€)=%{y}<extra></extra>",
         "legendgroup": "Cassa di Risparmio di Volterra Spa",
         "marker": {
          "color": "#636efa",
          "pattern": {
           "shape": ""
          }
         },
         "name": "Cassa di Risparmio d...",
         "offsetgroup": "Cassa di Risparmio di Volterra Spa",
         "orientation": "v",
         "showlegend": true,
         "textposition": "auto",
         "type": "bar",
         "x": [
          "2023-05"
         ],
         "xaxis": "x",
         "y": [
          150000
         ],
         "yaxis": "y"
        },
        {
         "alignmentgroup": "True",
         "hovertemplate": "Sanctioned_Entity=PayTipper Spa<br>Month of Sanction=%{x}<br>Sanctioned Amount (€)=%{y}<extra></extra>",
         "legendgroup": "PayTipper Spa",
         "marker": {
          "color": "#EF553B",
          "pattern": {
           "shape": ""
          }
         },
         "name": "PayTipper Spa",
         "offsetgroup": "PayTipper Spa",
         "orientation": "v",
         "showlegend": true,
         "textposition": "auto",
         "type": "bar",
         "x": [
          "2023-05"
         ],
         "xaxis": "x",
         "y": [
          5000
         ],
         "yaxis": "y"
        },
        {
         "alignmentgroup": "True",
         "hovertemplate": "Sanctioned_Entity=AMCO Spa<br>Month of Sanction=%{x}<br>Sanctioned Amount (€)=%{y}<extra></extra>",
         "legendgroup": "AMCO Spa",
         "marker": {
          "color": "#00cc96",
          "pattern": {
           "shape": ""
          }
         },
         "name": "AMCO Spa",
         "offsetgroup": "AMCO Spa",
         "orientation": "v",
         "showlegend": true,
         "textposition": "auto",
         "type": "bar",
         "x": [
          "2023-07"
         ],
         "xaxis": "x",
         "y": [
          120000
         ],
         "yaxis": "y"
        },
        {
         "alignmentgroup": "True",
         "hovertemplate": "Sanctioned_Entity=Intermonte SIM Spa<br>Month of Sanction=%{x}<br>Sanctioned Amount (€)=%{y}<extra></extra>",
         "legendgroup": "Intermonte SIM Spa",
         "marker": {
          "color": "#ab63fa",
          "pattern": {
           "shape": ""
          }
         },
         "name": "Intermonte SIM Spa",
         "offsetgroup": "Intermonte SIM Spa",
         "orientation": "v",
         "showlegend": true,
         "textposition": "auto",
         "type": "bar",
         "x": [
          "2023-07"
         ],
         "xaxis": "x",
         "y": [
          30000
         ],
         "yaxis": "y"
        },
        {
         "alignmentgroup": "True",
         "hovertemplate": "Sanctioned_Entity=A . Perrazzelli<br>Month of Sanction=%{x}<br>Sanctioned Amount (€)=%{y}<extra></extra>",
         "legendgroup": "A . Perrazzelli",
         "marker": {
          "color": "#FFA15A",
          "pattern": {
           "shape": ""
          }
         },
         "name": "A . Perrazzelli",
         "offsetgroup": "A . Perrazzelli",
         "orientation": "v",
         "showlegend": true,
         "textposition": "auto",
         "type": "bar",
         "x": [
          "2023-09"
         ],
         "xaxis": "x",
         "y": [
          120000
         ],
         "yaxis": "y"
        },
        {
         "alignmentgroup": "True",
         "hovertemplate": "Sanctioned_Entity=Antonio Izzo<br>Month of Sanction=%{x}<br>Sanctioned Amount (€)=%{y}<extra></extra>",
         "legendgroup": "Antonio Izzo",
         "marker": {
          "color": "#19d3f3",
          "pattern": {
           "shape": ""
          }
         },
         "name": "Antonio Izzo",
         "offsetgroup": "Antonio Izzo",
         "orientation": "v",
         "showlegend": true,
         "textposition": "auto",
         "type": "bar",
         "x": [
          "2023-09"
         ],
         "xaxis": "x",
         "y": [
          55000
         ],
         "yaxis": "y"
        },
        {
         "alignmentgroup": "True",
         "hovertemplate": "Sanctioned_Entity=Scania Finance Italy Spa<br>Month of Sanction=%{x}<br>Sanctioned Amount (€)=%{y}<extra></extra>",
         "legendgroup": "Scania Finance Italy Spa",
         "marker": {
          "color": "#FF6692",
          "pattern": {
           "shape": ""
          }
         },
         "name": "Scania Finance Italy...",
         "offsetgroup": "Scania Finance Italy Spa",
         "orientation": "v",
         "showlegend": true,
         "textposition": "auto",
         "type": "bar",
         "x": [
          "2023-09"
         ],
         "xaxis": "x",
         "y": [
          5000
         ],
         "yaxis": "y"
        },
        {
         "alignmentgroup": "True",
         "hovertemplate": "Sanctioned_Entity=Bank of Italy SGR Spa<br>Month of Sanction=%{x}<br>Sanctioned Amount (€)=%{y}<extra></extra>",
         "legendgroup": "Bank of Italy SGR Spa",
         "marker": {
          "color": "#B6E880",
          "pattern": {
           "shape": ""
          }
         },
         "name": "Bank of Italy SGR Sp...",
         "offsetgroup": "Bank of Italy SGR Spa",
         "orientation": "v",
         "showlegend": true,
         "textposition": "auto",
         "type": "bar",
         "x": [
          "2023-11"
         ],
         "xaxis": "x",
         "y": [
          48000
         ],
         "yaxis": "y"
        },
        {
         "alignmentgroup": "True",
         "hovertemplate": "Sanctioned_Entity=Framont & Partners Management Limited (Italian<br>Month of Sanction=%{x}<br>Sanctioned Amount (€)=%{y}<extra></extra>",
         "legendgroup": "Framont & Partners Management Limited (Italian",
         "marker": {
          "color": "#FF97FF",
          "pattern": {
           "shape": ""
          }
         },
         "name": "Framont & Partners M...",
         "offsetgroup": "Framont & Partners Management Limited (Italian",
         "orientation": "v",
         "showlegend": true,
         "textposition": "auto",
         "type": "bar",
         "x": [
          "2023-11"
         ],
         "xaxis": "x",
         "y": [
          3000
         ],
         "yaxis": "y"
        },
        {
         "alignmentgroup": "True",
         "hovertemplate": "Sanctioned_Entity=Value Italy SGR Spa<br>Month of Sanction=%{x}<br>Sanctioned Amount (€)=%{y}<extra></extra>",
         "legendgroup": "Value Italy SGR Spa",
         "marker": {
          "color": "#FECB52",
          "pattern": {
           "shape": ""
          }
         },
         "name": "Value Italy SGR Spa",
         "offsetgroup": "Value Italy SGR Spa",
         "orientation": "v",
         "showlegend": true,
         "textposition": "auto",
         "type": "bar",
         "x": [
          "2023-11"
         ],
         "xaxis": "x",
         "y": [
          6000
         ],
         "yaxis": "y"
        },
        {
         "alignmentgroup": "True",
         "hovertemplate": "Sanctioned_Entity=Prelios Credit Servicing Spa<br>Month of Sanction=%{x}<br>Sanctioned Amount (€)=%{y}<extra></extra>",
         "legendgroup": "Prelios Credit Servicing Spa",
         "marker": {
          "color": "#636efa",
          "pattern": {
           "shape": ""
          }
         },
         "name": "Prelios Credit Servi...",
         "offsetgroup": "Prelios Credit Servicing Spa",
         "orientation": "v",
         "showlegend": true,
         "textposition": "auto",
         "type": "bar",
         "x": [
          "2023-12"
         ],
         "xaxis": "x",
         "y": [
          60000
         ],
         "yaxis": "y"
        },
        {
         "alignmentgroup": "True",
         "hovertemplate": "Sanctioned_Entity=Solution Bank Spa<br>Month of Sanction=%{x}<br>Sanctioned Amount (€)=%{y}<extra></extra>",
         "legendgroup": "Solution Bank Spa",
         "marker": {
          "color": "#EF553B",
          "pattern": {
           "shape": ""
          }
         },
         "name": "Solution Bank Spa",
         "offsetgroup": "Solution Bank Spa",
         "orientation": "v",
         "showlegend": true,
         "textposition": "auto",
         "type": "bar",
         "x": [
          "2024-01"
         ],
         "xaxis": "x",
         "y": [
          35000
         ],
         "yaxis": "y"
        },
        {
         "alignmentgroup": "True",
         "hovertemplate": "Sanctioned_Entity=Generalfinance Spa<br>Month of Sanction=%{x}<br>Sanctioned Amount (€)=%{y}<extra></extra>",
         "legendgroup": "Generalfinance Spa",
         "marker": {
          "color": "#00cc96",
          "pattern": {
           "shape": ""
          }
         },
         "name": "Generalfinance Spa",
         "offsetgroup": "Generalfinance Spa",
         "orientation": "v",
         "showlegend": true,
         "textposition": "auto",
         "type": "bar",
         "x": [
          "2024-02"
         ],
         "xaxis": "x",
         "y": [
          60000
         ],
         "yaxis": "y"
        },
        {
         "mode": "lines",
         "name": "Sanction Count",
         "type": "scatter",
         "x": [
          "2019-01",
          "2019-03",
          "2019-04",
          "2019-05",
          "2019-06",
          "2019-07",
          "2019-09",
          "2019-11",
          "2019-12",
          "2020-01",
          "2020-02",
          "2020-03",
          "2020-06",
          "2020-07",
          "2020-08",
          "2020-09",
          "2020-10",
          "2020-11",
          "2020-12",
          "2021-01",
          "2021-03",
          "2021-04",
          "2021-05",
          "2021-06",
          "2021-07",
          "2021-08",
          "2021-11",
          "2021-12",
          "2022-01",
          "2022-02",
          "2022-03",
          "2022-04",
          "2022-07",
          "2022-09",
          "2022-11",
          "2022-12",
          "2023-01",
          "2023-02",
          "2023-03",
          "2023-04",
          "2023-05",
          "2023-07",
          "2023-09",
          "2023-11",
          "2023-12",
          "2024-01",
          "2024-02"
         ],
         "y": [
          1,
          4,
          4,
          2,
          3,
          4,
          5,
          3,
          3,
          5,
          2,
          4,
          2,
          12,
          1,
          5,
          6,
          3,
          2,
          1,
          6,
          3,
          5,
          8,
          3,
          1,
          2,
          2,
          4,
          2,
          4,
          3,
          3,
          4,
          1,
          3,
          1,
          1,
          4,
          5,
          2,
          2,
          4,
          3,
          2,
          2,
          2
         ],
         "yaxis": "y2"
        }
       ],
       "layout": {
        "barmode": "relative",
        "height": 500,
        "legend": {
         "title": {
          "text": "Sanctioned_Entity"
         },
         "tracegroupgap": 0
        },
        "template": {
         "data": {
          "bar": [
           {
            "error_x": {
             "color": "#2a3f5f"
            },
            "error_y": {
             "color": "#2a3f5f"
            },
            "marker": {
             "line": {
              "color": "#E5ECF6",
              "width": 0.5
             },
             "pattern": {
              "fillmode": "overlay",
              "size": 10,
              "solidity": 0.2
             }
            },
            "type": "bar"
           }
          ],
          "barpolar": [
           {
            "marker": {
             "line": {
              "color": "#E5ECF6",
              "width": 0.5
             },
             "pattern": {
              "fillmode": "overlay",
              "size": 10,
              "solidity": 0.2
             }
            },
            "type": "barpolar"
           }
          ],
          "carpet": [
           {
            "aaxis": {
             "endlinecolor": "#2a3f5f",
             "gridcolor": "white",
             "linecolor": "white",
             "minorgridcolor": "white",
             "startlinecolor": "#2a3f5f"
            },
            "baxis": {
             "endlinecolor": "#2a3f5f",
             "gridcolor": "white",
             "linecolor": "white",
             "minorgridcolor": "white",
             "startlinecolor": "#2a3f5f"
            },
            "type": "carpet"
           }
          ],
          "choropleth": [
           {
            "colorbar": {
             "outlinewidth": 0,
             "ticks": ""
            },
            "type": "choropleth"
           }
          ],
          "contour": [
           {
            "colorbar": {
             "outlinewidth": 0,
             "ticks": ""
            },
            "colorscale": [
             [
              0,
              "#0d0887"
             ],
             [
              0.1111111111111111,
              "#46039f"
             ],
             [
              0.2222222222222222,
              "#7201a8"
             ],
             [
              0.3333333333333333,
              "#9c179e"
             ],
             [
              0.4444444444444444,
              "#bd3786"
             ],
             [
              0.5555555555555556,
              "#d8576b"
             ],
             [
              0.6666666666666666,
              "#ed7953"
             ],
             [
              0.7777777777777778,
              "#fb9f3a"
             ],
             [
              0.8888888888888888,
              "#fdca26"
             ],
             [
              1,
              "#f0f921"
             ]
            ],
            "type": "contour"
           }
          ],
          "contourcarpet": [
           {
            "colorbar": {
             "outlinewidth": 0,
             "ticks": ""
            },
            "type": "contourcarpet"
           }
          ],
          "heatmap": [
           {
            "colorbar": {
             "outlinewidth": 0,
             "ticks": ""
            },
            "colorscale": [
             [
              0,
              "#0d0887"
             ],
             [
              0.1111111111111111,
              "#46039f"
             ],
             [
              0.2222222222222222,
              "#7201a8"
             ],
             [
              0.3333333333333333,
              "#9c179e"
             ],
             [
              0.4444444444444444,
              "#bd3786"
             ],
             [
              0.5555555555555556,
              "#d8576b"
             ],
             [
              0.6666666666666666,
              "#ed7953"
             ],
             [
              0.7777777777777778,
              "#fb9f3a"
             ],
             [
              0.8888888888888888,
              "#fdca26"
             ],
             [
              1,
              "#f0f921"
             ]
            ],
            "type": "heatmap"
           }
          ],
          "heatmapgl": [
           {
            "colorbar": {
             "outlinewidth": 0,
             "ticks": ""
            },
            "colorscale": [
             [
              0,
              "#0d0887"
             ],
             [
              0.1111111111111111,
              "#46039f"
             ],
             [
              0.2222222222222222,
              "#7201a8"
             ],
             [
              0.3333333333333333,
              "#9c179e"
             ],
             [
              0.4444444444444444,
              "#bd3786"
             ],
             [
              0.5555555555555556,
              "#d8576b"
             ],
             [
              0.6666666666666666,
              "#ed7953"
             ],
             [
              0.7777777777777778,
              "#fb9f3a"
             ],
             [
              0.8888888888888888,
              "#fdca26"
             ],
             [
              1,
              "#f0f921"
             ]
            ],
            "type": "heatmapgl"
           }
          ],
          "histogram": [
           {
            "marker": {
             "pattern": {
              "fillmode": "overlay",
              "size": 10,
              "solidity": 0.2
             }
            },
            "type": "histogram"
           }
          ],
          "histogram2d": [
           {
            "colorbar": {
             "outlinewidth": 0,
             "ticks": ""
            },
            "colorscale": [
             [
              0,
              "#0d0887"
             ],
             [
              0.1111111111111111,
              "#46039f"
             ],
             [
              0.2222222222222222,
              "#7201a8"
             ],
             [
              0.3333333333333333,
              "#9c179e"
             ],
             [
              0.4444444444444444,
              "#bd3786"
             ],
             [
              0.5555555555555556,
              "#d8576b"
             ],
             [
              0.6666666666666666,
              "#ed7953"
             ],
             [
              0.7777777777777778,
              "#fb9f3a"
             ],
             [
              0.8888888888888888,
              "#fdca26"
             ],
             [
              1,
              "#f0f921"
             ]
            ],
            "type": "histogram2d"
           }
          ],
          "histogram2dcontour": [
           {
            "colorbar": {
             "outlinewidth": 0,
             "ticks": ""
            },
            "colorscale": [
             [
              0,
              "#0d0887"
             ],
             [
              0.1111111111111111,
              "#46039f"
             ],
             [
              0.2222222222222222,
              "#7201a8"
             ],
             [
              0.3333333333333333,
              "#9c179e"
             ],
             [
              0.4444444444444444,
              "#bd3786"
             ],
             [
              0.5555555555555556,
              "#d8576b"
             ],
             [
              0.6666666666666666,
              "#ed7953"
             ],
             [
              0.7777777777777778,
              "#fb9f3a"
             ],
             [
              0.8888888888888888,
              "#fdca26"
             ],
             [
              1,
              "#f0f921"
             ]
            ],
            "type": "histogram2dcontour"
           }
          ],
          "mesh3d": [
           {
            "colorbar": {
             "outlinewidth": 0,
             "ticks": ""
            },
            "type": "mesh3d"
           }
          ],
          "parcoords": [
           {
            "line": {
             "colorbar": {
              "outlinewidth": 0,
              "ticks": ""
             }
            },
            "type": "parcoords"
           }
          ],
          "pie": [
           {
            "automargin": true,
            "type": "pie"
           }
          ],
          "scatter": [
           {
            "fillpattern": {
             "fillmode": "overlay",
             "size": 10,
             "solidity": 0.2
            },
            "type": "scatter"
           }
          ],
          "scatter3d": [
           {
            "line": {
             "colorbar": {
              "outlinewidth": 0,
              "ticks": ""
             }
            },
            "marker": {
             "colorbar": {
              "outlinewidth": 0,
              "ticks": ""
             }
            },
            "type": "scatter3d"
           }
          ],
          "scattercarpet": [
           {
            "marker": {
             "colorbar": {
              "outlinewidth": 0,
              "ticks": ""
             }
            },
            "type": "scattercarpet"
           }
          ],
          "scattergeo": [
           {
            "marker": {
             "colorbar": {
              "outlinewidth": 0,
              "ticks": ""
             }
            },
            "type": "scattergeo"
           }
          ],
          "scattergl": [
           {
            "marker": {
             "colorbar": {
              "outlinewidth": 0,
              "ticks": ""
             }
            },
            "type": "scattergl"
           }
          ],
          "scattermapbox": [
           {
            "marker": {
             "colorbar": {
              "outlinewidth": 0,
              "ticks": ""
             }
            },
            "type": "scattermapbox"
           }
          ],
          "scatterpolar": [
           {
            "marker": {
             "colorbar": {
              "outlinewidth": 0,
              "ticks": ""
             }
            },
            "type": "scatterpolar"
           }
          ],
          "scatterpolargl": [
           {
            "marker": {
             "colorbar": {
              "outlinewidth": 0,
              "ticks": ""
             }
            },
            "type": "scatterpolargl"
           }
          ],
          "scatterternary": [
           {
            "marker": {
             "colorbar": {
              "outlinewidth": 0,
              "ticks": ""
             }
            },
            "type": "scatterternary"
           }
          ],
          "surface": [
           {
            "colorbar": {
             "outlinewidth": 0,
             "ticks": ""
            },
            "colorscale": [
             [
              0,
              "#0d0887"
             ],
             [
              0.1111111111111111,
              "#46039f"
             ],
             [
              0.2222222222222222,
              "#7201a8"
             ],
             [
              0.3333333333333333,
              "#9c179e"
             ],
             [
              0.4444444444444444,
              "#bd3786"
             ],
             [
              0.5555555555555556,
              "#d8576b"
             ],
             [
              0.6666666666666666,
              "#ed7953"
             ],
             [
              0.7777777777777778,
              "#fb9f3a"
             ],
             [
              0.8888888888888888,
              "#fdca26"
             ],
             [
              1,
              "#f0f921"
             ]
            ],
            "type": "surface"
           }
          ],
          "table": [
           {
            "cells": {
             "fill": {
              "color": "#EBF0F8"
             },
             "line": {
              "color": "white"
             }
            },
            "header": {
             "fill": {
              "color": "#C8D4E3"
             },
             "line": {
              "color": "white"
             }
            },
            "type": "table"
           }
          ]
         },
         "layout": {
          "annotationdefaults": {
           "arrowcolor": "#2a3f5f",
           "arrowhead": 0,
           "arrowwidth": 1
          },
          "autotypenumbers": "strict",
          "coloraxis": {
           "colorbar": {
            "outlinewidth": 0,
            "ticks": ""
           }
          },
          "colorscale": {
           "diverging": [
            [
             0,
             "#8e0152"
            ],
            [
             0.1,
             "#c51b7d"
            ],
            [
             0.2,
             "#de77ae"
            ],
            [
             0.3,
             "#f1b6da"
            ],
            [
             0.4,
             "#fde0ef"
            ],
            [
             0.5,
             "#f7f7f7"
            ],
            [
             0.6,
             "#e6f5d0"
            ],
            [
             0.7,
             "#b8e186"
            ],
            [
             0.8,
             "#7fbc41"
            ],
            [
             0.9,
             "#4d9221"
            ],
            [
             1,
             "#276419"
            ]
           ],
           "sequential": [
            [
             0,
             "#0d0887"
            ],
            [
             0.1111111111111111,
             "#46039f"
            ],
            [
             0.2222222222222222,
             "#7201a8"
            ],
            [
             0.3333333333333333,
             "#9c179e"
            ],
            [
             0.4444444444444444,
             "#bd3786"
            ],
            [
             0.5555555555555556,
             "#d8576b"
            ],
            [
             0.6666666666666666,
             "#ed7953"
            ],
            [
             0.7777777777777778,
             "#fb9f3a"
            ],
            [
             0.8888888888888888,
             "#fdca26"
            ],
            [
             1,
             "#f0f921"
            ]
           ],
           "sequentialminus": [
            [
             0,
             "#0d0887"
            ],
            [
             0.1111111111111111,
             "#46039f"
            ],
            [
             0.2222222222222222,
             "#7201a8"
            ],
            [
             0.3333333333333333,
             "#9c179e"
            ],
            [
             0.4444444444444444,
             "#bd3786"
            ],
            [
             0.5555555555555556,
             "#d8576b"
            ],
            [
             0.6666666666666666,
             "#ed7953"
            ],
            [
             0.7777777777777778,
             "#fb9f3a"
            ],
            [
             0.8888888888888888,
             "#fdca26"
            ],
            [
             1,
             "#f0f921"
            ]
           ]
          },
          "colorway": [
           "#636efa",
           "#EF553B",
           "#00cc96",
           "#ab63fa",
           "#FFA15A",
           "#19d3f3",
           "#FF6692",
           "#B6E880",
           "#FF97FF",
           "#FECB52"
          ],
          "font": {
           "color": "#2a3f5f"
          },
          "geo": {
           "bgcolor": "white",
           "lakecolor": "white",
           "landcolor": "#E5ECF6",
           "showlakes": true,
           "showland": true,
           "subunitcolor": "white"
          },
          "hoverlabel": {
           "align": "left"
          },
          "hovermode": "closest",
          "mapbox": {
           "style": "light"
          },
          "paper_bgcolor": "white",
          "plot_bgcolor": "#E5ECF6",
          "polar": {
           "angularaxis": {
            "gridcolor": "white",
            "linecolor": "white",
            "ticks": ""
           },
           "bgcolor": "#E5ECF6",
           "radialaxis": {
            "gridcolor": "white",
            "linecolor": "white",
            "ticks": ""
           }
          },
          "scene": {
           "xaxis": {
            "backgroundcolor": "#E5ECF6",
            "gridcolor": "white",
            "gridwidth": 2,
            "linecolor": "white",
            "showbackground": true,
            "ticks": "",
            "zerolinecolor": "white"
           },
           "yaxis": {
            "backgroundcolor": "#E5ECF6",
            "gridcolor": "white",
            "gridwidth": 2,
            "linecolor": "white",
            "showbackground": true,
            "ticks": "",
            "zerolinecolor": "white"
           },
           "zaxis": {
            "backgroundcolor": "#E5ECF6",
            "gridcolor": "white",
            "gridwidth": 2,
            "linecolor": "white",
            "showbackground": true,
            "ticks": "",
            "zerolinecolor": "white"
           }
          },
          "shapedefaults": {
           "line": {
            "color": "#2a3f5f"
           }
          },
          "ternary": {
           "aaxis": {
            "gridcolor": "white",
            "linecolor": "white",
            "ticks": ""
           },
           "baxis": {
            "gridcolor": "white",
            "linecolor": "white",
            "ticks": ""
           },
           "bgcolor": "#E5ECF6",
           "caxis": {
            "gridcolor": "white",
            "linecolor": "white",
            "ticks": ""
           }
          },
          "title": {
           "x": 0.05
          },
          "xaxis": {
           "automargin": true,
           "gridcolor": "white",
           "linecolor": "white",
           "ticks": "",
           "title": {
            "standoff": 15
           },
           "zerolinecolor": "white",
           "zerolinewidth": 2
          },
          "yaxis": {
           "automargin": true,
           "gridcolor": "white",
           "linecolor": "white",
           "ticks": "",
           "title": {
            "standoff": 15
           },
           "zerolinecolor": "white",
           "zerolinewidth": 2
          }
         }
        },
        "title": {
         "text": "Monthly Sanctioned Amounts by Entity"
        },
        "width": 800,
        "xaxis": {
         "anchor": "y",
         "domain": [
          0,
          1
         ],
         "title": {
          "text": "Month of Sanction"
         }
        },
        "yaxis": {
         "anchor": "x",
         "domain": [
          0,
          1
         ],
         "title": {
          "text": "Sanctioned Amount (€)"
         }
        },
        "yaxis2": {
         "overlaying": "y",
         "side": "right",
         "title": {
          "text": "Sanction Count"
         }
        }
       }
      }
     },
     "metadata": {},
     "output_type": "display_data"
    }
   ],
   "source": [
    "import plotly.express as px\n",
    "\n",
    "def truncate_legend(label):\n",
    "    max_length = 20\n",
    "    return label[:max_length] + '...' if len(label) > max_length else label\n",
    "\n",
    "# Convert 'Date_of_Sanction' column to datetime\n",
    "df_result['Date_of_Sanction'] = pd.to_datetime(df_result['Date_of_Sanction'])\n",
    "\n",
    "# Extract month and year from 'Date_of_Sanction' column\n",
    "df_result['Month'] = df_result['Date_of_Sanction'].dt.strftime('%Y-%m')\n",
    "\n",
    "# Group by month and entity, summing the sanctioned amounts\n",
    "df_monthly = df_result.groupby(['Month', 'Sanctioned_Entity'])['Sanctioned_Amount'].sum().reset_index()\n",
    "\n",
    "# Group by month and count the number of sanctions\n",
    "sanction_count = df_result.groupby('Month').size().reset_index(name='Sanction_Count')\n",
    "\n",
    "# Plot the stacked bar chart\n",
    "fig = px.bar(df_monthly, x='Month', y='Sanctioned_Amount', color='Sanctioned_Entity',\n",
    "             title=\"Monthly Sanctioned Amounts by Entity\",\n",
    "             labels={\"Month\": \"Month of Sanction\", \"Sanctioned_Amount\": \"Sanctioned Amount (€)\"})\n",
    "fig.update_layout(\n",
    "    width=800,  # Set a fixed width of 800 pixels\n",
    "    height=500,  # Set a fixed height\n",
    ")\n",
    "\n",
    "# Add line chart for monthly count on the right side\n",
    "fig.add_trace(\n",
    "    go.Scatter(x=sanction_count['Month'], y=sanction_count['Sanction_Count'], \n",
    "               mode='lines', name='Sanction Count', yaxis='y2')\n",
    ")\n",
    "\n",
    "# Update layout to include secondary y-axis\n",
    "fig.update_layout(\n",
    "    yaxis2=dict(\n",
    "        title='Sanction Count',  # Label for secondary y-axis\n",
    "        overlaying='y',  # Overlay the secondary y-axis on the primary one\n",
    "        side='right'  # Position the secondary y-axis on the right side\n",
    "    )\n",
    ")\n",
    "\n",
    "# Truncate legend labels\n",
    "fig.for_each_trace(lambda trace: trace.update(name=truncate_legend(trace.name)))\n",
    "\n",
    "fig.show()\n"
   ]
  },
  {
   "cell_type": "markdown",
   "metadata": {},
   "source": [
    "## yearly trend data"
   ]
  },
  {
   "cell_type": "code",
   "execution_count": 66,
   "metadata": {},
   "outputs": [
    {
     "data": {
      "application/vnd.plotly.v1+json": {
       "config": {
        "plotlyServerURL": "https://plot.ly"
       },
       "data": [
        {
         "alignmentgroup": "True",
         "hovertemplate": "Sanctioned_Entity=\"Disposizioni in materia di organizzazione, procedure e controlli interni volti a prevenire l’utilizzo degli intermediari a fine riciclaggio e finanziamento del terrorismo\" (art. 24 d.lgs. n. 262/2005))<br>Year of Sanction=%{x}<br>Sanctioned Amount (€)=%{y}<extra></extra>",
         "legendgroup": "\"Disposizioni in materia di organizzazione, procedure e controlli interni volti a prevenire l’utilizzo degli intermediari a fine riciclaggio e finanziamento del terrorismo\" (art. 24 d.lgs. n. 262/2005))",
         "marker": {
          "color": "#636efa",
          "pattern": {
           "shape": ""
          }
         },
         "name": "\"Disposizioni in mat...",
         "offsetgroup": "\"Disposizioni in materia di organizzazione, procedure e controlli interni volti a prevenire l’utilizzo degli intermediari a fine riciclaggio e finanziamento del terrorismo\" (art. 24 d.lgs. n. 262/2005))",
         "orientation": "v",
         "showlegend": true,
         "textposition": "auto",
         "type": "bar",
         "x": [
          2019
         ],
         "xaxis": "x",
         "y": [
          14
         ],
         "yaxis": "y"
        },
        {
         "alignmentgroup": "True",
         "hovertemplate": "Sanctioned_Entity=Unicasim Spa<br>Year of Sanction=%{x}<br>Sanctioned Amount (€)=%{y}<extra></extra>",
         "legendgroup": "Unicasim Spa",
         "marker": {
          "color": "#EF553B",
          "pattern": {
           "shape": ""
          }
         },
         "name": "Unicasim Spa",
         "offsetgroup": "Unicasim Spa",
         "orientation": "v",
         "showlegend": true,
         "textposition": "auto",
         "type": "bar",
         "x": [
          2019
         ],
         "xaxis": "x",
         "y": [
          35000
         ],
         "yaxis": "y"
        },
        {
         "alignmentgroup": "True",
         "hovertemplate": "Sanctioned_Entity=Speedymoney Spa<br>Year of Sanction=%{x}<br>Sanctioned Amount (€)=%{y}<extra></extra>",
         "legendgroup": "Speedymoney Spa",
         "marker": {
          "color": "#00cc96",
          "pattern": {
           "shape": ""
          }
         },
         "name": "Speedymoney Spa",
         "offsetgroup": "Speedymoney Spa",
         "orientation": "v",
         "showlegend": true,
         "textposition": "auto",
         "type": "bar",
         "x": [
          2019
         ],
         "xaxis": "x",
         "y": [
          90000
         ],
         "yaxis": "y"
        },
        {
         "alignmentgroup": "True",
         "hovertemplate": "Sanctioned_Entity=Società non idonee a superare la proposita del Servizio Rapporti Istituzionali di Vigilanza<br>Year of Sanction=%{x}<br>Sanctioned Amount (€)=%{y}<extra></extra>",
         "legendgroup": "Società non idonee a superare la proposita del Servizio Rapporti Istituzionali di Vigilanza",
         "marker": {
          "color": "#ab63fa",
          "pattern": {
           "shape": ""
          }
         },
         "name": "Società non idonee a...",
         "offsetgroup": "Società non idonee a superare la proposita del Servizio Rapporti Istituzionali di Vigilanza",
         "orientation": "v",
         "showlegend": true,
         "textposition": "auto",
         "type": "bar",
         "x": [
          2019
         ],
         "xaxis": "x",
         "y": [
          40000
         ],
         "yaxis": "y"
        },
        {
         "alignmentgroup": "True",
         "hovertemplate": "Sanctioned_Entity=SGR Spa<br>Year of Sanction=%{x}<br>Sanctioned Amount (€)=%{y}<extra></extra>",
         "legendgroup": "SGR Spa",
         "marker": {
          "color": "#FFA15A",
          "pattern": {
           "shape": ""
          }
         },
         "name": "SGR Spa",
         "offsetgroup": "SGR Spa",
         "orientation": "v",
         "showlegend": true,
         "textposition": "auto",
         "type": "bar",
         "x": [
          2019,
          2020
         ],
         "xaxis": "x",
         "y": [
          135000,
          30000
         ],
         "yaxis": "y"
        },
        {
         "alignmentgroup": "True",
         "hovertemplate": "Sanctioned_Entity=P. Fiduciaria Srl<br>Year of Sanction=%{x}<br>Sanctioned Amount (€)=%{y}<extra></extra>",
         "legendgroup": "P. Fiduciaria Srl",
         "marker": {
          "color": "#19d3f3",
          "pattern": {
           "shape": ""
          }
         },
         "name": "P. Fiduciaria Srl",
         "offsetgroup": "P. Fiduciaria Srl",
         "orientation": "v",
         "showlegend": true,
         "textposition": "auto",
         "type": "bar",
         "x": [
          2019
         ],
         "xaxis": "x",
         "y": [
          30000
         ],
         "yaxis": "y"
        },
        {
         "alignmentgroup": "True",
         "hovertemplate": "Sanctioned_Entity=Numeria SGR Spa<br>Year of Sanction=%{x}<br>Sanctioned Amount (€)=%{y}<extra></extra>",
         "legendgroup": "Numeria SGR Spa",
         "marker": {
          "color": "#FF6692",
          "pattern": {
           "shape": ""
          }
         },
         "name": "Numeria SGR Spa",
         "offsetgroup": "Numeria SGR Spa",
         "orientation": "v",
         "showlegend": true,
         "textposition": "auto",
         "type": "bar",
         "x": [
          2019
         ],
         "xaxis": "x",
         "y": [
          60000
         ],
         "yaxis": "y"
        },
        {
         "alignmentgroup": "True",
         "hovertemplate": "Sanctioned_Entity=LCC Trans Sending Limited<br>Year of Sanction=%{x}<br>Sanctioned Amount (€)=%{y}<extra></extra>",
         "legendgroup": "LCC Trans Sending Limited",
         "marker": {
          "color": "#B6E880",
          "pattern": {
           "shape": ""
          }
         },
         "name": "LCC Trans Sending Li...",
         "offsetgroup": "LCC Trans Sending Limited",
         "orientation": "v",
         "showlegend": true,
         "textposition": "auto",
         "type": "bar",
         "x": [
          2019
         ],
         "xaxis": "x",
         "y": [
          30000
         ],
         "yaxis": "y"
        },
        {
         "alignmentgroup": "True",
         "hovertemplate": "Sanctioned_Entity=IFIR Istituti Finanziari Riuniti Spa<br>Year of Sanction=%{x}<br>Sanctioned Amount (€)=%{y}<extra></extra>",
         "legendgroup": "IFIR Istituti Finanziari Riuniti Spa",
         "marker": {
          "color": "#FF97FF",
          "pattern": {
           "shape": ""
          }
         },
         "name": "IFIR Istituti Finanz...",
         "offsetgroup": "IFIR Istituti Finanziari Riuniti Spa",
         "orientation": "v",
         "showlegend": true,
         "textposition": "auto",
         "type": "bar",
         "x": [
          2019,
          2023
         ],
         "xaxis": "x",
         "y": [
          30000,
          60000
         ],
         "yaxis": "y"
        },
        {
         "alignmentgroup": "True",
         "hovertemplate": "Sanctioned_Entity=Giangiacomo Savogin<br>Year of Sanction=%{x}<br>Sanctioned Amount (€)=%{y}<extra></extra>",
         "legendgroup": "Giangiacomo Savogin",
         "marker": {
          "color": "#FECB52",
          "pattern": {
           "shape": ""
          }
         },
         "name": "Giangiacomo Savogin",
         "offsetgroup": "Giangiacomo Savogin",
         "orientation": "v",
         "showlegend": true,
         "textposition": "auto",
         "type": "bar",
         "x": [
          2019
         ],
         "xaxis": "x",
         "y": [
          5000
         ],
         "yaxis": "y"
        },
        {
         "alignmentgroup": "True",
         "hovertemplate": "Sanctioned_Entity=Giancarlo Gerano (Banca Mondiale Sovrana)<br>Year of Sanction=%{x}<br>Sanctioned Amount (€)=%{y}<extra></extra>",
         "legendgroup": "Giancarlo Gerano (Banca Mondiale Sovrana)",
         "marker": {
          "color": "#636efa",
          "pattern": {
           "shape": ""
          }
         },
         "name": "Giancarlo Gerano (Ba...",
         "offsetgroup": "Giancarlo Gerano (Banca Mondiale Sovrana)",
         "orientation": "v",
         "showlegend": true,
         "textposition": "auto",
         "type": "bar",
         "x": [
          2019
         ],
         "xaxis": "x",
         "y": [
          5000
         ],
         "yaxis": "y"
        },
        {
         "alignmentgroup": "True",
         "hovertemplate": "Sanctioned_Entity=Finpiemonte Spa<br>Year of Sanction=%{x}<br>Sanctioned Amount (€)=%{y}<extra></extra>",
         "legendgroup": "Finpiemonte Spa",
         "marker": {
          "color": "#EF553B",
          "pattern": {
           "shape": ""
          }
         },
         "name": "Finpiemonte Spa",
         "offsetgroup": "Finpiemonte Spa",
         "orientation": "v",
         "showlegend": true,
         "textposition": "auto",
         "type": "bar",
         "x": [
          2019
         ],
         "xaxis": "x",
         "y": [
          98000
         ],
         "yaxis": "y"
        },
        {
         "alignmentgroup": "True",
         "hovertemplate": "Sanctioned_Entity=Fidor Spa - Fiduciaria Orefici<br>Year of Sanction=%{x}<br>Sanctioned Amount (€)=%{y}<extra></extra>",
         "legendgroup": "Fidor Spa - Fiduciaria Orefici",
         "marker": {
          "color": "#00cc96",
          "pattern": {
           "shape": ""
          }
         },
         "name": "Fidor Spa - Fiduciar...",
         "offsetgroup": "Fidor Spa - Fiduciaria Orefici",
         "orientation": "v",
         "showlegend": true,
         "textposition": "auto",
         "type": "bar",
         "x": [
          2019
         ],
         "xaxis": "x",
         "y": [
          30000
         ],
         "yaxis": "y"
        },
        {
         "alignmentgroup": "True",
         "hovertemplate": "Sanctioned_Entity=Principia Sgr<br>Year of Sanction=%{x}<br>Sanctioned Amount (€)=%{y}<extra></extra>",
         "legendgroup": "Principia Sgr",
         "marker": {
          "color": "#ab63fa",
          "pattern": {
           "shape": ""
          }
         },
         "name": "Principia Sgr",
         "offsetgroup": "Principia Sgr",
         "orientation": "v",
         "showlegend": true,
         "textposition": "auto",
         "type": "bar",
         "x": [
          2019
         ],
         "xaxis": "x",
         "y": [
          30000
         ],
         "yaxis": "y"
        },
        {
         "alignmentgroup": "True",
         "hovertemplate": "Sanctioned_Entity=F. PANETTA<br>Year of Sanction=%{x}<br>Sanctioned Amount (€)=%{y}<extra></extra>",
         "legendgroup": "F. PANETTA",
         "marker": {
          "color": "#FFA15A",
          "pattern": {
           "shape": ""
          }
         },
         "name": "F. PANETTA",
         "offsetgroup": "F. PANETTA",
         "orientation": "v",
         "showlegend": true,
         "textposition": "auto",
         "type": "bar",
         "x": [
          2019
         ],
         "xaxis": "x",
         "y": [
          30000
         ],
         "yaxis": "y"
        },
        {
         "alignmentgroup": "True",
         "hovertemplate": "Sanctioned_Entity=FCA Bank Spa<br>Year of Sanction=%{x}<br>Sanctioned Amount (€)=%{y}<extra></extra>",
         "legendgroup": "FCA Bank Spa",
         "marker": {
          "color": "#19d3f3",
          "pattern": {
           "shape": ""
          }
         },
         "name": "FCA Bank Spa",
         "offsetgroup": "FCA Bank Spa",
         "orientation": "v",
         "showlegend": true,
         "textposition": "auto",
         "type": "bar",
         "x": [
          2019
         ],
         "xaxis": "x",
         "y": [
          2500
         ],
         "yaxis": "y"
        },
        {
         "alignmentgroup": "True",
         "hovertemplate": "Sanctioned_Entity=Associated Foreign Exchange Ltd<br>Year of Sanction=%{x}<br>Sanctioned Amount (€)=%{y}<extra></extra>",
         "legendgroup": "Associated Foreign Exchange Ltd",
         "marker": {
          "color": "#FF6692",
          "pattern": {
           "shape": ""
          }
         },
         "name": "Associated Foreign E...",
         "offsetgroup": "Associated Foreign Exchange Ltd",
         "orientation": "v",
         "showlegend": true,
         "textposition": "auto",
         "type": "bar",
         "x": [
          2019
         ],
         "xaxis": "x",
         "y": [
          30000
         ],
         "yaxis": "y"
        },
        {
         "alignmentgroup": "True",
         "hovertemplate": "Sanctioned_Entity=Banca Monte dei Paschi di Siena  S.p.A.<br>Year of Sanction=%{x}<br>Sanctioned Amount (€)=%{y}<extra></extra>",
         "legendgroup": "Banca Monte dei Paschi di Siena  S.p.A.",
         "marker": {
          "color": "#B6E880",
          "pattern": {
           "shape": ""
          }
         },
         "name": "Banca Monte dei Pasc...",
         "offsetgroup": "Banca Monte dei Paschi di Siena  S.p.A.",
         "orientation": "v",
         "showlegend": true,
         "textposition": "auto",
         "type": "bar",
         "x": [
          2019
         ],
         "xaxis": "x",
         "y": [
          1320
         ],
         "yaxis": "y"
        },
        {
         "alignmentgroup": "True",
         "hovertemplate": "Sanctioned_Entity=Banca Sviluppo Economico Sp a in l.c.a. di Sanzioni Amministrativ e Pecuniari<br>Year of Sanction=%{x}<br>Sanctioned Amount (€)=%{y}<extra></extra>",
         "legendgroup": "Banca Sviluppo Economico Sp a in l.c.a. di Sanzioni Amministrativ e Pecuniari",
         "marker": {
          "color": "#FF97FF",
          "pattern": {
           "shape": ""
          }
         },
         "name": "Banca Sviluppo Econo...",
         "offsetgroup": "Banca Sviluppo Economico Sp a in l.c.a. di Sanzioni Amministrativ e Pecuniari",
         "orientation": "v",
         "showlegend": true,
         "textposition": "auto",
         "type": "bar",
         "x": [
          2019
         ],
         "xaxis": "x",
         "y": [
          50000
         ],
         "yaxis": "y"
        },
        {
         "alignmentgroup": "True",
         "hovertemplate": "Sanctioned_Entity=Banca d'Italia<br>Year of Sanction=%{x}<br>Sanctioned Amount (€)=%{y}<extra></extra>",
         "legendgroup": "Banca d'Italia",
         "marker": {
          "color": "#FECB52",
          "pattern": {
           "shape": ""
          }
         },
         "name": "Banca d'Italia",
         "offsetgroup": "Banca d'Italia",
         "orientation": "v",
         "showlegend": true,
         "textposition": "auto",
         "type": "bar",
         "x": [
          2019,
          2020,
          2021,
          2023
         ],
         "xaxis": "x",
         "y": [
          286500,
          30000,
          130000,
          10000
         ],
         "yaxis": "y"
        },
        {
         "alignmentgroup": "True",
         "hovertemplate": "Sanctioned_Entity=Banca Popolare del Lazio Scpa<br>Year of Sanction=%{x}<br>Sanctioned Amount (€)=%{y}<extra></extra>",
         "legendgroup": "Banca Popolare del Lazio Scpa",
         "marker": {
          "color": "#636efa",
          "pattern": {
           "shape": ""
          }
         },
         "name": "Banca Popolare del L...",
         "offsetgroup": "Banca Popolare del Lazio Scpa",
         "orientation": "v",
         "showlegend": true,
         "textposition": "auto",
         "type": "bar",
         "x": [
          2019
         ],
         "xaxis": "x",
         "y": [
          49000
         ],
         "yaxis": "y"
        },
        {
         "alignmentgroup": "True",
         "hovertemplate": "Sanctioned_Entity=Banca di Credito Cooperativo Valdostana<br>Year of Sanction=%{x}<br>Sanctioned Amount (€)=%{y}<extra></extra>",
         "legendgroup": "Banca di Credito Cooperativo Valdostana",
         "marker": {
          "color": "#EF553B",
          "pattern": {
           "shape": ""
          }
         },
         "name": "Banca di Credito Coo...",
         "offsetgroup": "Banca di Credito Cooperativo Valdostana",
         "orientation": "v",
         "showlegend": true,
         "textposition": "auto",
         "type": "bar",
         "x": [
          2019
         ],
         "xaxis": "x",
         "y": [
          167000
         ],
         "yaxis": "y"
        },
        {
         "alignmentgroup": "True",
         "hovertemplate": "Sanctioned_Entity=Banca di Credito Cooperativo di Napoli<br>Year of Sanction=%{x}<br>Sanctioned Amount (€)=%{y}<extra></extra>",
         "legendgroup": "Banca di Credito Cooperativo di Napoli",
         "marker": {
          "color": "#00cc96",
          "pattern": {
           "shape": ""
          }
         },
         "name": "Banca di Credito Coo...",
         "offsetgroup": "Banca di Credito Cooperativo di Napoli",
         "orientation": "v",
         "showlegend": true,
         "textposition": "auto",
         "type": "bar",
         "x": [
          2019
         ],
         "xaxis": "x",
         "y": [
          30000
         ],
         "yaxis": "y"
        },
        {
         "alignmentgroup": "True",
         "hovertemplate": "Sanctioned_Entity=Carlyle Real Estate SGR<br>Year of Sanction=%{x}<br>Sanctioned Amount (€)=%{y}<extra></extra>",
         "legendgroup": "Carlyle Real Estate SGR",
         "marker": {
          "color": "#ab63fa",
          "pattern": {
           "shape": ""
          }
         },
         "name": "Carlyle Real Estate ...",
         "offsetgroup": "Carlyle Real Estate SGR",
         "orientation": "v",
         "showlegend": true,
         "textposition": "auto",
         "type": "bar",
         "x": [
          2019
         ],
         "xaxis": "x",
         "y": [
          60000
         ],
         "yaxis": "y"
        },
        {
         "alignmentgroup": "True",
         "hovertemplate": "Sanctioned_Entity=Credito Cooperativo di San Calogero e Maierato – BCC del Vibonese soc.  coop.<br>Year of Sanction=%{x}<br>Sanctioned Amount (€)=%{y}<extra></extra>",
         "legendgroup": "Credito Cooperativo di San Calogero e Maierato – BCC del Vibonese soc.  coop.",
         "marker": {
          "color": "#FFA15A",
          "pattern": {
           "shape": ""
          }
         },
         "name": "Credito Cooperativo ...",
         "offsetgroup": "Credito Cooperativo di San Calogero e Maierato – BCC del Vibonese soc.  coop.",
         "orientation": "v",
         "showlegend": true,
         "textposition": "auto",
         "type": "bar",
         "x": [
          2019
         ],
         "xaxis": "x",
         "y": [
          30000
         ],
         "yaxis": "y"
        },
        {
         "alignmentgroup": "True",
         "hovertemplate": "Sanctioned_Entity=Crédit Agricole It<br>Year of Sanction=%{x}<br>Sanctioned Amount (€)=%{y}<extra></extra>",
         "legendgroup": "Crédit Agricole It",
         "marker": {
          "color": "#19d3f3",
          "pattern": {
           "shape": ""
          }
         },
         "name": "Crédit Agricole It",
         "offsetgroup": "Crédit Agricole It",
         "orientation": "v",
         "showlegend": true,
         "textposition": "auto",
         "type": "bar",
         "x": [
          2019
         ],
         "xaxis": "x",
         "y": [
          1700
         ],
         "yaxis": "y"
        },
        {
         "alignmentgroup": "True",
         "hovertemplate": "Sanctioned_Entity=Banca d'Italia S.p.A.<br>Year of Sanction=%{x}<br>Sanctioned Amount (€)=%{y}<extra></extra>",
         "legendgroup": "Banca d'Italia S.p.A.",
         "marker": {
          "color": "#FF6692",
          "pattern": {
           "shape": ""
          }
         },
         "name": "Banca d'Italia S.p.A...",
         "offsetgroup": "Banca d'Italia S.p.A.",
         "orientation": "v",
         "showlegend": true,
         "textposition": "auto",
         "type": "bar",
         "x": [
          2019,
          2022
         ],
         "xaxis": "x",
         "y": [
          90000,
          30000
         ],
         "yaxis": "y"
        },
        {
         "alignmentgroup": "True",
         "hovertemplate": "Sanctioned_Entity=Direttore generale Claudia Nicolò<br>Year of Sanction=%{x}<br>Sanctioned Amount (€)=%{y}<extra></extra>",
         "legendgroup": "Direttore generale Claudia Nicolò",
         "marker": {
          "color": "#B6E880",
          "pattern": {
           "shape": ""
          }
         },
         "name": "Direttore generale C...",
         "offsetgroup": "Direttore generale Claudia Nicolò",
         "orientation": "v",
         "showlegend": true,
         "textposition": "auto",
         "type": "bar",
         "x": [
          2020
         ],
         "xaxis": "x",
         "y": [
          17000
         ],
         "yaxis": "y"
        },
        {
         "alignmentgroup": "True",
         "hovertemplate": "Sanctioned_Entity=Ipagoo LLP<br>Year of Sanction=%{x}<br>Sanctioned Amount (€)=%{y}<extra></extra>",
         "legendgroup": "Ipagoo LLP",
         "marker": {
          "color": "#FF97FF",
          "pattern": {
           "shape": ""
          }
         },
         "name": "Ipagoo LLP",
         "offsetgroup": "Ipagoo LLP",
         "orientation": "v",
         "showlegend": true,
         "textposition": "auto",
         "type": "bar",
         "x": [
          2020
         ],
         "xaxis": "x",
         "y": [
          30000
         ],
         "yaxis": "y"
        },
        {
         "alignmentgroup": "True",
         "hovertemplate": "Sanctioned_Entity=Finaosta Spa<br>Year of Sanction=%{x}<br>Sanctioned Amount (€)=%{y}<extra></extra>",
         "legendgroup": "Finaosta Spa",
         "marker": {
          "color": "#FECB52",
          "pattern": {
           "shape": ""
          }
         },
         "name": "Finaosta Spa",
         "offsetgroup": "Finaosta Spa",
         "orientation": "v",
         "showlegend": true,
         "textposition": "auto",
         "type": "bar",
         "x": [
          2020
         ],
         "xaxis": "x",
         "y": [
          45000
         ],
         "yaxis": "y"
        },
        {
         "alignmentgroup": "True",
         "hovertemplate": "Sanctioned_Entity=Findomestic Banca Spa<br>Year of Sanction=%{x}<br>Sanctioned Amount (€)=%{y}<extra></extra>",
         "legendgroup": "Findomestic Banca Spa",
         "marker": {
          "color": "#636efa",
          "pattern": {
           "shape": ""
          }
         },
         "name": "Findomestic Banca Sp...",
         "offsetgroup": "Findomestic Banca Spa",
         "orientation": "v",
         "showlegend": true,
         "textposition": "auto",
         "type": "bar",
         "x": [
          2020,
          2022
         ],
         "xaxis": "x",
         "y": [
          390000,
          900000
         ],
         "yaxis": "y"
        },
        {
         "alignmentgroup": "True",
         "hovertemplate": "Sanctioned_Entity=Giotto SIM Spa (Giotto Cellino Sim Spa)<br>Year of Sanction=%{x}<br>Sanctioned Amount (€)=%{y}<extra></extra>",
         "legendgroup": "Giotto SIM Spa (Giotto Cellino Sim Spa)",
         "marker": {
          "color": "#EF553B",
          "pattern": {
           "shape": ""
          }
         },
         "name": "Giotto SIM Spa (Giot...",
         "offsetgroup": "Giotto SIM Spa (Giotto Cellino Sim Spa)",
         "orientation": "v",
         "showlegend": true,
         "textposition": "auto",
         "type": "bar",
         "x": [
          2020
         ],
         "xaxis": "x",
         "y": [
          30000
         ],
         "yaxis": "y"
        },
        {
         "alignmentgroup": "True",
         "hovertemplate": "Sanctioned_Entity=Ifinvest Spa<br>Year of Sanction=%{x}<br>Sanctioned Amount (€)=%{y}<extra></extra>",
         "legendgroup": "Ifinvest Spa",
         "marker": {
          "color": "#00cc96",
          "pattern": {
           "shape": ""
          }
         },
         "name": "Ifinvest Spa",
         "offsetgroup": "Ifinvest Spa",
         "orientation": "v",
         "showlegend": true,
         "textposition": "auto",
         "type": "bar",
         "x": [
          2020
         ],
         "xaxis": "x",
         "y": [
          60000
         ],
         "yaxis": "y"
        },
        {
         "alignmentgroup": "True",
         "hovertemplate": "Sanctioned_Entity=Invest Banca Spa, ora in a.s.<br>Year of Sanction=%{x}<br>Sanctioned Amount (€)=%{y}<extra></extra>",
         "legendgroup": "Invest Banca Spa, ora in a.s.",
         "marker": {
          "color": "#ab63fa",
          "pattern": {
           "shape": ""
          }
         },
         "name": "Invest Banca Spa, or...",
         "offsetgroup": "Invest Banca Spa, ora in a.s.",
         "orientation": "v",
         "showlegend": true,
         "textposition": "auto",
         "type": "bar",
         "x": [
          2020
         ],
         "xaxis": "x",
         "y": [
          30000
         ],
         "yaxis": "y"
        },
        {
         "alignmentgroup": "True",
         "hovertemplate": "Sanctioned_Entity=Istituto Finanziario Europeo Spa<br>Year of Sanction=%{x}<br>Sanctioned Amount (€)=%{y}<extra></extra>",
         "legendgroup": "Istituto Finanziario Europeo Spa",
         "marker": {
          "color": "#FFA15A",
          "pattern": {
           "shape": ""
          }
         },
         "name": "Istituto Finanziario...",
         "offsetgroup": "Istituto Finanziario Europeo Spa",
         "orientation": "v",
         "showlegend": true,
         "textposition": "auto",
         "type": "bar",
         "x": [
          2020
         ],
         "xaxis": "x",
         "y": [
          37000
         ],
         "yaxis": "y"
        },
        {
         "alignmentgroup": "True",
         "hovertemplate": "Sanctioned_Entity=UBS Fiduciaria Spa<br>Year of Sanction=%{x}<br>Sanctioned Amount (€)=%{y}<extra></extra>",
         "legendgroup": "UBS Fiduciaria Spa",
         "marker": {
          "color": "#19d3f3",
          "pattern": {
           "shape": ""
          }
         },
         "name": "UBS Fiduciaria Spa",
         "offsetgroup": "UBS Fiduciaria Spa",
         "orientation": "v",
         "showlegend": true,
         "textposition": "auto",
         "type": "bar",
         "x": [
          2020
         ],
         "xaxis": "x",
         "y": [
          30000
         ],
         "yaxis": "y"
        },
        {
         "alignmentgroup": "True",
         "hovertemplate": "Sanctioned_Entity=Namira SGR Spa<br>Year of Sanction=%{x}<br>Sanctioned Amount (€)=%{y}<extra></extra>",
         "legendgroup": "Namira SGR Spa",
         "marker": {
          "color": "#FF6692",
          "pattern": {
           "shape": ""
          }
         },
         "name": "Namira SGR Spa",
         "offsetgroup": "Namira SGR Spa",
         "orientation": "v",
         "showlegend": true,
         "textposition": "auto",
         "type": "bar",
         "x": [
          2020
         ],
         "xaxis": "x",
         "y": [
          90000
         ],
         "yaxis": "y"
        },
        {
         "alignmentgroup": "True",
         "hovertemplate": "Sanctioned_Entity=Races Finanziaria Spa<br>Year of Sanction=%{x}<br>Sanctioned Amount (€)=%{y}<extra></extra>",
         "legendgroup": "Races Finanziaria Spa",
         "marker": {
          "color": "#B6E880",
          "pattern": {
           "shape": ""
          }
         },
         "name": "Races Finanziaria Sp...",
         "offsetgroup": "Races Finanziaria Spa",
         "orientation": "v",
         "showlegend": true,
         "textposition": "auto",
         "type": "bar",
         "x": [
          2020
         ],
         "xaxis": "x",
         "y": [
          30000
         ],
         "yaxis": "y"
        },
        {
         "alignmentgroup": "True",
         "hovertemplate": "Sanctioned_Entity=Roma, 30.06.2020<br>Year of Sanction=%{x}<br>Sanctioned Amount (€)=%{y}<extra></extra>",
         "legendgroup": "Roma, 30.06.2020",
         "marker": {
          "color": "#FF97FF",
          "pattern": {
           "shape": ""
          }
         },
         "name": "Roma, 30.06.2020",
         "offsetgroup": "Roma, 30.06.2020",
         "orientation": "v",
         "showlegend": true,
         "textposition": "auto",
         "type": "bar",
         "x": [
          2020
         ],
         "xaxis": "x",
         "y": [
          30000
         ],
         "yaxis": "y"
        },
        {
         "alignmentgroup": "True",
         "hovertemplate": "Sanctioned_Entity=Vita la<br>Year of Sanction=%{x}<br>Sanctioned Amount (€)=%{y}<extra></extra>",
         "legendgroup": "Vita la",
         "marker": {
          "color": "#FECB52",
          "pattern": {
           "shape": ""
          }
         },
         "name": "Vita la",
         "offsetgroup": "Vita la",
         "orientation": "v",
         "showlegend": true,
         "textposition": "auto",
         "type": "bar",
         "x": [
          2020
         ],
         "xaxis": "x",
         "y": [
          0
         ],
         "yaxis": "y"
        },
        {
         "alignmentgroup": "True",
         "hovertemplate": "Sanctioned_Entity=We Finance Spa<br>Year of Sanction=%{x}<br>Sanctioned Amount (€)=%{y}<extra></extra>",
         "legendgroup": "We Finance Spa",
         "marker": {
          "color": "#636efa",
          "pattern": {
           "shape": ""
          }
         },
         "name": "We Finance Spa",
         "offsetgroup": "We Finance Spa",
         "orientation": "v",
         "showlegend": true,
         "textposition": "auto",
         "type": "bar",
         "x": [
          2020
         ],
         "xaxis": "x",
         "y": [
          60000
         ],
         "yaxis": "y"
        },
        {
         "alignmentgroup": "True",
         "hovertemplate": "Sanctioned_Entity=D. FRANCO<br>Year of Sanction=%{x}<br>Sanctioned Amount (€)=%{y}<extra></extra>",
         "legendgroup": "D. FRANCO",
         "marker": {
          "color": "#EF553B",
          "pattern": {
           "shape": ""
          }
         },
         "name": "D. FRANCO",
         "offsetgroup": "D. FRANCO",
         "orientation": "v",
         "showlegend": true,
         "textposition": "auto",
         "type": "bar",
         "x": [
          2020
         ],
         "xaxis": "x",
         "y": [
          123000
         ],
         "yaxis": "y"
        },
        {
         "alignmentgroup": "True",
         "hovertemplate": "Sanctioned_Entity=La Colombo Finanziaria Spa<br>Year of Sanction=%{x}<br>Sanctioned Amount (€)=%{y}<extra></extra>",
         "legendgroup": "La Colombo Finanziaria Spa",
         "marker": {
          "color": "#00cc96",
          "pattern": {
           "shape": ""
          }
         },
         "name": "La Colombo Finanziar...",
         "offsetgroup": "La Colombo Finanziaria Spa",
         "orientation": "v",
         "showlegend": true,
         "textposition": "auto",
         "type": "bar",
         "x": [
          2020
         ],
         "xaxis": "x",
         "y": [
          90000
         ],
         "yaxis": "y"
        },
        {
         "alignmentgroup": "True",
         "hovertemplate": "Sanctioned_Entity=Cassa Lombarda Spa<br>Year of Sanction=%{x}<br>Sanctioned Amount (€)=%{y}<extra></extra>",
         "legendgroup": "Cassa Lombarda Spa",
         "marker": {
          "color": "#ab63fa",
          "pattern": {
           "shape": ""
          }
         },
         "name": "Cassa Lombarda Spa",
         "offsetgroup": "Cassa Lombarda Spa",
         "orientation": "v",
         "showlegend": true,
         "textposition": "auto",
         "type": "bar",
         "x": [
          2020
         ],
         "xaxis": "x",
         "y": [
          90000
         ],
         "yaxis": "y"
        },
        {
         "alignmentgroup": "True",
         "hovertemplate": "Sanctioned_Entity=Banca Popolare di Puglia e Basilicata Scpa<br>Year of Sanction=%{x}<br>Sanctioned Amount (€)=%{y}<extra></extra>",
         "legendgroup": "Banca Popolare di Puglia e Basilicata Scpa",
         "marker": {
          "color": "#FFA15A",
          "pattern": {
           "shape": ""
          }
         },
         "name": "Banca Popolare di Pu...",
         "offsetgroup": "Banca Popolare di Puglia e Basilicata Scpa",
         "orientation": "v",
         "showlegend": true,
         "textposition": "auto",
         "type": "bar",
         "x": [
          2020
         ],
         "xaxis": "x",
         "y": [
          30000
         ],
         "yaxis": "y"
        },
        {
         "alignmentgroup": "True",
         "hovertemplate": "Sanctioned_Entity=Banco BPM Spa<br>Year of Sanction=%{x}<br>Sanctioned Amount (€)=%{y}<extra></extra>",
         "legendgroup": "Banco BPM Spa",
         "marker": {
          "color": "#19d3f3",
          "pattern": {
           "shape": ""
          }
         },
         "name": "Banco BPM Spa",
         "offsetgroup": "Banco BPM Spa",
         "orientation": "v",
         "showlegend": true,
         "textposition": "auto",
         "type": "bar",
         "x": [
          2020
         ],
         "xaxis": "x",
         "y": [
          1760
         ],
         "yaxis": "y"
        },
        {
         "alignmentgroup": "True",
         "hovertemplate": "Sanctioned_Entity=Advam Partners SGR Spa<br>Year of Sanction=%{x}<br>Sanctioned Amount (€)=%{y}<extra></extra>",
         "legendgroup": "Advam Partners SGR Spa",
         "marker": {
          "color": "#FF6692",
          "pattern": {
           "shape": ""
          }
         },
         "name": "Advam Partners SGR S...",
         "offsetgroup": "Advam Partners SGR Spa",
         "orientation": "v",
         "showlegend": true,
         "textposition": "auto",
         "type": "bar",
         "x": [
          2020
         ],
         "xaxis": "x",
         "y": [
          30000
         ],
         "yaxis": "y"
        },
        {
         "alignmentgroup": "True",
         "hovertemplate": "Sanctioned_Entity=Advance Sim Spa in Liquidazione Coata Amministrativa di Sanzioni Amministrative Pecuniarie ex Art. 190 TUF<br>Year of Sanction=%{x}<br>Sanctioned Amount (€)=%{y}<extra></extra>",
         "legendgroup": "Advance Sim Spa in Liquidazione Coata Amministrativa di Sanzioni Amministrative Pecuniarie ex Art. 190 TUF",
         "marker": {
          "color": "#B6E880",
          "pattern": {
           "shape": ""
          }
         },
         "name": "Advance Sim Spa in L...",
         "offsetgroup": "Advance Sim Spa in Liquidazione Coata Amministrativa di Sanzioni Amministrative Pecuniarie ex Art. 190 TUF",
         "orientation": "v",
         "showlegend": true,
         "textposition": "auto",
         "type": "bar",
         "x": [
          2020
         ],
         "xaxis": "x",
         "y": [
          40000
         ],
         "yaxis": "y"
        },
        {
         "alignmentgroup": "True",
         "hovertemplate": "Sanctioned_Entity=CRU Giudicarie Valsabbia Paganella BCC S.c.<br>Year of Sanction=%{x}<br>Sanctioned Amount (€)=%{y}<extra></extra>",
         "legendgroup": "CRU Giudicarie Valsabbia Paganella BCC S.c.",
         "marker": {
          "color": "#FF97FF",
          "pattern": {
           "shape": ""
          }
         },
         "name": "CRU Giudicarie Valsa...",
         "offsetgroup": "CRU Giudicarie Valsabbia Paganella BCC S.c.",
         "orientation": "v",
         "showlegend": true,
         "textposition": "auto",
         "type": "bar",
         "x": [
          2020
         ],
         "xaxis": "x",
         "y": [
          135000
         ],
         "yaxis": "y"
        },
        {
         "alignmentgroup": "True",
         "hovertemplate": "Sanctioned_Entity=BNP Paribas Real Estate Investment Management Italy SGR<br>Year of Sanction=%{x}<br>Sanctioned Amount (€)=%{y}<extra></extra>",
         "legendgroup": "BNP Paribas Real Estate Investment Management Italy SGR",
         "marker": {
          "color": "#FECB52",
          "pattern": {
           "shape": ""
          }
         },
         "name": "BNP Paribas Real Est...",
         "offsetgroup": "BNP Paribas Real Estate Investment Management Italy SGR",
         "orientation": "v",
         "showlegend": true,
         "textposition": "auto",
         "type": "bar",
         "x": [
          2020
         ],
         "xaxis": "x",
         "y": [
          73000
         ],
         "yaxis": "y"
        },
        {
         "alignmentgroup": "True",
         "hovertemplate": "Sanctioned_Entity=Banca C.R. Asti Spa<br>Year of Sanction=%{x}<br>Sanctioned Amount (€)=%{y}<extra></extra>",
         "legendgroup": "Banca C.R. Asti Spa",
         "marker": {
          "color": "#636efa",
          "pattern": {
           "shape": ""
          }
         },
         "name": "Banca C.R. Asti Spa",
         "offsetgroup": "Banca C.R. Asti Spa",
         "orientation": "v",
         "showlegend": true,
         "textposition": "auto",
         "type": "bar",
         "x": [
          2020
         ],
         "xaxis": "x",
         "y": [
          186000
         ],
         "yaxis": "y"
        },
        {
         "alignmentgroup": "True",
         "hovertemplate": "Sanctioned_Entity=Banca Centropadana Credito Cooperativo Sc<br>Year of Sanction=%{x}<br>Sanctioned Amount (€)=%{y}<extra></extra>",
         "legendgroup": "Banca Centropadana Credito Cooperativo Sc",
         "marker": {
          "color": "#EF553B",
          "pattern": {
           "shape": ""
          }
         },
         "name": "Banca Centropadana C...",
         "offsetgroup": "Banca Centropadana Credito Cooperativo Sc",
         "orientation": "v",
         "showlegend": true,
         "textposition": "auto",
         "type": "bar",
         "x": [
          2020
         ],
         "xaxis": "x",
         "y": [
          570000
         ],
         "yaxis": "y"
        },
        {
         "alignmentgroup": "True",
         "hovertemplate": "Sanctioned_Entity=Banca Popolare del Cassinate Scpa<br>Year of Sanction=%{x}<br>Sanctioned Amount (€)=%{y}<extra></extra>",
         "legendgroup": "Banca Popolare del Cassinate Scpa",
         "marker": {
          "color": "#00cc96",
          "pattern": {
           "shape": ""
          }
         },
         "name": "Banca Popolare del C...",
         "offsetgroup": "Banca Popolare del Cassinate Scpa",
         "orientation": "v",
         "showlegend": true,
         "textposition": "auto",
         "type": "bar",
         "x": [
          2020
         ],
         "xaxis": "x",
         "y": [
          30000
         ],
         "yaxis": "y"
        },
        {
         "alignmentgroup": "True",
         "hovertemplate": "Sanctioned_Entity=Banca Popolare del Mediterraneo Scpa<br>Year of Sanction=%{x}<br>Sanctioned Amount (€)=%{y}<extra></extra>",
         "legendgroup": "Banca Popolare del Mediterraneo Scpa",
         "marker": {
          "color": "#ab63fa",
          "pattern": {
           "shape": ""
          }
         },
         "name": "Banca Popolare del M...",
         "offsetgroup": "Banca Popolare del Mediterraneo Scpa",
         "orientation": "v",
         "showlegend": true,
         "textposition": "auto",
         "type": "bar",
         "x": [
          2020,
          2024
         ],
         "xaxis": "x",
         "y": [
          30000,
          75000
         ],
         "yaxis": "y"
        },
        {
         "alignmentgroup": "True",
         "hovertemplate": "Sanctioned_Entity=Attijariwafa Bank Europe, Succursale italiana<br>Year of Sanction=%{x}<br>Sanctioned Amount (€)=%{y}<extra></extra>",
         "legendgroup": "Attijariwafa Bank Europe, Succursale italiana",
         "marker": {
          "color": "#FFA15A",
          "pattern": {
           "shape": ""
          }
         },
         "name": "Attijariwafa Bank Eu...",
         "offsetgroup": "Attijariwafa Bank Europe, Succursale italiana",
         "orientation": "v",
         "showlegend": true,
         "textposition": "auto",
         "type": "bar",
         "x": [
          2020
         ],
         "xaxis": "x",
         "y": [
          65000
         ],
         "yaxis": "y"
        },
        {
         "alignmentgroup": "True",
         "hovertemplate": "Sanctioned_Entity=Banca Popolare di Bari Scpa in a.s.<br>Year of Sanction=%{x}<br>Sanctioned Amount (€)=%{y}<extra></extra>",
         "legendgroup": "Banca Popolare di Bari Scpa in a.s.",
         "marker": {
          "color": "#19d3f3",
          "pattern": {
           "shape": ""
          }
         },
         "name": "Banca Popolare di Ba...",
         "offsetgroup": "Banca Popolare di Bari Scpa in a.s.",
         "orientation": "v",
         "showlegend": true,
         "textposition": "auto",
         "type": "bar",
         "x": [
          2020
         ],
         "xaxis": "x",
         "y": [
          100000
         ],
         "yaxis": "y"
        },
        {
         "alignmentgroup": "True",
         "hovertemplate": "Sanctioned_Entity=Banca d<br>Year of Sanction=%{x}<br>Sanctioned Amount (€)=%{y}<extra></extra>",
         "legendgroup": "Banca d",
         "marker": {
          "color": "#FF6692",
          "pattern": {
           "shape": ""
          }
         },
         "name": "Banca d",
         "offsetgroup": "Banca d",
         "orientation": "v",
         "showlegend": true,
         "textposition": "auto",
         "type": "bar",
         "x": [
          2020
         ],
         "xaxis": "x",
         "y": [
          30000
         ],
         "yaxis": "y"
        },
        {
         "alignmentgroup": "True",
         "hovertemplate": "Sanctioned_Entity=Banca del Cilento di Sassano e Vallo di Diano e della Lucania<br>Year of Sanction=%{x}<br>Sanctioned Amount (€)=%{y}<extra></extra>",
         "legendgroup": "Banca del Cilento di Sassano e Vallo di Diano e della Lucania",
         "marker": {
          "color": "#B6E880",
          "pattern": {
           "shape": ""
          }
         },
         "name": "Banca del Cilento di...",
         "offsetgroup": "Banca del Cilento di Sassano e Vallo di Diano e della Lucania",
         "orientation": "v",
         "showlegend": true,
         "textposition": "auto",
         "type": "bar",
         "x": [
          2020
         ],
         "xaxis": "x",
         "y": [
          30000
         ],
         "yaxis": "y"
        },
        {
         "alignmentgroup": "True",
         "hovertemplate": "Sanctioned_Entity=Banca del Fucino Spa<br>Year of Sanction=%{x}<br>Sanctioned Amount (€)=%{y}<extra></extra>",
         "legendgroup": "Banca del Fucino Spa",
         "marker": {
          "color": "#FF97FF",
          "pattern": {
           "shape": ""
          }
         },
         "name": "Banca del Fucino Spa",
         "offsetgroup": "Banca del Fucino Spa",
         "orientation": "v",
         "showlegend": true,
         "textposition": "auto",
         "type": "bar",
         "x": [
          2020,
          2022
         ],
         "xaxis": "x",
         "y": [
          0,
          70000
         ],
         "yaxis": "y"
        },
        {
         "alignmentgroup": "True",
         "hovertemplate": "Sanctioned_Entity=Banca del Piemonte Spa<br>Year of Sanction=%{x}<br>Sanctioned Amount (€)=%{y}<extra></extra>",
         "legendgroup": "Banca del Piemonte Spa",
         "marker": {
          "color": "#FECB52",
          "pattern": {
           "shape": ""
          }
         },
         "name": "Banca del Piemonte S...",
         "offsetgroup": "Banca del Piemonte Spa",
         "orientation": "v",
         "showlegend": true,
         "textposition": "auto",
         "type": "bar",
         "x": [
          2020
         ],
         "xaxis": "x",
         "y": [
          30000
         ],
         "yaxis": "y"
        },
        {
         "alignmentgroup": "True",
         "hovertemplate": "Sanctioned_Entity=Banca Popolare dell’Alto Adige Spa<br>Year of Sanction=%{x}<br>Sanctioned Amount (€)=%{y}<extra></extra>",
         "legendgroup": "Banca Popolare dell’Alto Adige Spa",
         "marker": {
          "color": "#636efa",
          "pattern": {
           "shape": ""
          }
         },
         "name": "Banca Popolare dell’...",
         "offsetgroup": "Banca Popolare dell’Alto Adige Spa",
         "orientation": "v",
         "showlegend": true,
         "textposition": "auto",
         "type": "bar",
         "x": [
          2020
         ],
         "xaxis": "x",
         "y": [
          145000
         ],
         "yaxis": "y"
        },
        {
         "alignmentgroup": "True",
         "hovertemplate": "Sanctioned_Entity=Dynamica Retail Spa<br>Year of Sanction=%{x}<br>Sanctioned Amount (€)=%{y}<extra></extra>",
         "legendgroup": "Dynamica Retail Spa",
         "marker": {
          "color": "#EF553B",
          "pattern": {
           "shape": ""
          }
         },
         "name": "Dynamica Retail Spa",
         "offsetgroup": "Dynamica Retail Spa",
         "orientation": "v",
         "showlegend": true,
         "textposition": "auto",
         "type": "bar",
         "x": [
          2021
         ],
         "xaxis": "x",
         "y": [
          30000
         ],
         "yaxis": "y"
        },
        {
         "alignmentgroup": "True",
         "hovertemplate": "Sanctioned_Entity=Finanza & Factor Spa, ora in liquidazione<br>Year of Sanction=%{x}<br>Sanctioned Amount (€)=%{y}<extra></extra>",
         "legendgroup": "Finanza & Factor Spa, ora in liquidazione",
         "marker": {
          "color": "#00cc96",
          "pattern": {
           "shape": ""
          }
         },
         "name": "Finanza & Factor Spa...",
         "offsetgroup": "Finanza & Factor Spa, ora in liquidazione",
         "orientation": "v",
         "showlegend": true,
         "textposition": "auto",
         "type": "bar",
         "x": [
          2021
         ],
         "xaxis": "x",
         "y": [
          102000
         ],
         "yaxis": "y"
        },
        {
         "alignmentgroup": "True",
         "hovertemplate": "Sanctioned_Entity=Invest Banca Spa in a.s.<br>Year of Sanction=%{x}<br>Sanctioned Amount (€)=%{y}<extra></extra>",
         "legendgroup": "Invest Banca Spa in a.s.",
         "marker": {
          "color": "#ab63fa",
          "pattern": {
           "shape": ""
          }
         },
         "name": "Invest Banca Spa in ...",
         "offsetgroup": "Invest Banca Spa in a.s.",
         "orientation": "v",
         "showlegend": true,
         "textposition": "auto",
         "type": "bar",
         "x": [
          2021
         ],
         "xaxis": "x",
         "y": [
          100000
         ],
         "yaxis": "y"
        },
        {
         "alignmentgroup": "True",
         "hovertemplate": "Sanctioned_Entity=Microcredito Italiano Spa<br>Year of Sanction=%{x}<br>Sanctioned Amount (€)=%{y}<extra></extra>",
         "legendgroup": "Microcredito Italiano Spa",
         "marker": {
          "color": "#FFA15A",
          "pattern": {
           "shape": ""
          }
         },
         "name": "Microcredito Italian...",
         "offsetgroup": "Microcredito Italiano Spa",
         "orientation": "v",
         "showlegend": true,
         "textposition": "auto",
         "type": "bar",
         "x": [
          2021
         ],
         "xaxis": "x",
         "y": [
          30000
         ],
         "yaxis": "y"
        },
        {
         "alignmentgroup": "True",
         "hovertemplate": "Sanctioned_Entity=O M O O O O LOLCLCLCLCLCLCLLLLLLLLLLLLLLLLLLLLLLLLLLLLLLLLLLLLLLLLLLLLLLLLLLLLLLLLLLLLLLLLLLLLLLLLLLLLLLLLLLLLLLLLLLLLLLLLLLLLLLLLLLLLLLLLLLLL<br>Year of Sanction=%{x}<br>Sanctioned Amount (€)=%{y}<extra></extra>",
         "legendgroup": "O M O O O O LOLCLCLCLCLCLCLLLLLLLLLLLLLLLLLLLLLLLLLLLLLLLLLLLLLLLLLLLLLLLLLLLLLLLLLLLLLLLLLLLLLLLLLLLLLLLLLLLLLLLLLLLLLLLLLLLLLLLLLLLLLLLLLLLL",
         "marker": {
          "color": "#19d3f3",
          "pattern": {
           "shape": ""
          }
         },
         "name": "O M O O O O LOLCLCLC...",
         "offsetgroup": "O M O O O O LOLCLCLCLCLCLCLLLLLLLLLLLLLLLLLLLLLLLLLLLLLLLLLLLLLLLLLLLLLLLLLLLLLLLLLLLLLLLLLLLLLLLLLLLLLLLLLLLLLLLLLLLLLLLLLLLLLLLLLLLLLLLLLLLL",
         "orientation": "v",
         "showlegend": true,
         "textposition": "auto",
         "type": "bar",
         "x": [
          2021
         ],
         "xaxis": "x",
         "y": [
          0
         ],
         "yaxis": "y"
        },
        {
         "alignmentgroup": "True",
         "hovertemplate": "Sanctioned_Entity=Société Générale Securitie s Services Spa<br>Year of Sanction=%{x}<br>Sanctioned Amount (€)=%{y}<extra></extra>",
         "legendgroup": "Société Générale Securitie s Services Spa",
         "marker": {
          "color": "#FF6692",
          "pattern": {
           "shape": ""
          }
         },
         "name": "Société Générale Sec...",
         "offsetgroup": "Société Générale Securitie s Services Spa",
         "orientation": "v",
         "showlegend": true,
         "textposition": "auto",
         "type": "bar",
         "x": [
          2021
         ],
         "xaxis": "x",
         "y": [
          55000
         ],
         "yaxis": "y"
        },
        {
         "alignmentgroup": "True",
         "hovertemplate": "Sanctioned_Entity=Servizio Rapporti Istituzionali di Vigilanza<br>Year of Sanction=%{x}<br>Sanctioned Amount (€)=%{y}<extra></extra>",
         "legendgroup": "Servizio Rapporti Istituzionali di Vigilanza",
         "marker": {
          "color": "#B6E880",
          "pattern": {
           "shape": ""
          }
         },
         "name": "Servizio Rapporti Is...",
         "offsetgroup": "Servizio Rapporti Istituzionali di Vigilanza",
         "orientation": "v",
         "showlegend": true,
         "textposition": "auto",
         "type": "bar",
         "x": [
          2021
         ],
         "xaxis": "x",
         "y": [
          21000
         ],
         "yaxis": "y"
        },
        {
         "alignmentgroup": "True",
         "hovertemplate": "Sanctioned_Entity=Summa Service Srl<br>Year of Sanction=%{x}<br>Sanctioned Amount (€)=%{y}<extra></extra>",
         "legendgroup": "Summa Service Srl",
         "marker": {
          "color": "#FF97FF",
          "pattern": {
           "shape": ""
          }
         },
         "name": "Summa Service Srl",
         "offsetgroup": "Summa Service Srl",
         "orientation": "v",
         "showlegend": true,
         "textposition": "auto",
         "type": "bar",
         "x": [
          2021
         ],
         "xaxis": "x",
         "y": [
          68000
         ],
         "yaxis": "y"
        },
        {
         "alignmentgroup": "True",
         "hovertemplate": "Sanctioned_Entity=Vigilanza<br>Year of Sanction=%{x}<br>Sanctioned Amount (€)=%{y}<extra></extra>",
         "legendgroup": "Vigilanza",
         "marker": {
          "color": "#FECB52",
          "pattern": {
           "shape": ""
          }
         },
         "name": "Vigilanza",
         "offsetgroup": "Vigilanza",
         "orientation": "v",
         "showlegend": true,
         "textposition": "auto",
         "type": "bar",
         "x": [
          2021
         ],
         "xaxis": "x",
         "y": [
          37000
         ],
         "yaxis": "y"
        },
        {
         "alignmentgroup": "True",
         "hovertemplate": "Sanctioned_Entity=Diners Club Italia Srl<br>Year of Sanction=%{x}<br>Sanctioned Amount (€)=%{y}<extra></extra>",
         "legendgroup": "Diners Club Italia Srl",
         "marker": {
          "color": "#636efa",
          "pattern": {
           "shape": ""
          }
         },
         "name": "Diners Club Italia S...",
         "offsetgroup": "Diners Club Italia Srl",
         "orientation": "v",
         "showlegend": true,
         "textposition": "auto",
         "type": "bar",
         "x": [
          2021
         ],
         "xaxis": "x",
         "y": [
          30000
         ],
         "yaxis": "y"
        },
        {
         "alignmentgroup": "True",
         "hovertemplate": "Sanctioned_Entity=Roma, 25.6.2021<br>Year of Sanction=%{x}<br>Sanctioned Amount (€)=%{y}<extra></extra>",
         "legendgroup": "Roma, 25.6.2021",
         "marker": {
          "color": "#EF553B",
          "pattern": {
           "shape": ""
          }
         },
         "name": "Roma, 25.6.2021",
         "offsetgroup": "Roma, 25.6.2021",
         "orientation": "v",
         "showlegend": true,
         "textposition": "auto",
         "type": "bar",
         "x": [
          2021
         ],
         "xaxis": "x",
         "y": [
          10000
         ],
         "yaxis": "y"
        },
        {
         "alignmentgroup": "True",
         "hovertemplate": "Sanctioned_Entity=Davis & Morgan Spa<br>Year of Sanction=%{x}<br>Sanctioned Amount (€)=%{y}<extra></extra>",
         "legendgroup": "Davis & Morgan Spa",
         "marker": {
          "color": "#00cc96",
          "pattern": {
           "shape": ""
          }
         },
         "name": "Davis & Morgan Spa",
         "offsetgroup": "Davis & Morgan Spa",
         "orientation": "v",
         "showlegend": true,
         "textposition": "auto",
         "type": "bar",
         "x": [
          2021
         ],
         "xaxis": "x",
         "y": [
          80000
         ],
         "yaxis": "y"
        },
        {
         "alignmentgroup": "True",
         "hovertemplate": "Sanctioned_Entity=BCC del Crotonese CC SC<br>Year of Sanction=%{x}<br>Sanctioned Amount (€)=%{y}<extra></extra>",
         "legendgroup": "BCC del Crotonese CC SC",
         "marker": {
          "color": "#ab63fa",
          "pattern": {
           "shape": ""
          }
         },
         "name": "BCC del Crotonese CC...",
         "offsetgroup": "BCC del Crotonese CC SC",
         "orientation": "v",
         "showlegend": true,
         "textposition": "auto",
         "type": "bar",
         "x": [
          2021
         ],
         "xaxis": "x",
         "y": [
          60000
         ],
         "yaxis": "y"
        },
        {
         "alignmentgroup": "True",
         "hovertemplate": "Sanctioned_Entity=Credito Cooperativo di San Calogero e Maierato – BCC del Vibonese<br>Year of Sanction=%{x}<br>Sanctioned Amount (€)=%{y}<extra></extra>",
         "legendgroup": "Credito Cooperativo di San Calogero e Maierato – BCC del Vibonese",
         "marker": {
          "color": "#FFA15A",
          "pattern": {
           "shape": ""
          }
         },
         "name": "Credito Cooperativo ...",
         "offsetgroup": "Credito Cooperativo di San Calogero e Maierato – BCC del Vibonese",
         "orientation": "v",
         "showlegend": true,
         "textposition": "auto",
         "type": "bar",
         "x": [
          2021
         ],
         "xaxis": "x",
         "y": [
          60000
         ],
         "yaxis": "y"
        },
        {
         "alignmentgroup": "True",
         "hovertemplate": "Sanctioned_Entity=Credito Etneo - Banca di Credito Cooperativo Soc. Coop.<br>Year of Sanction=%{x}<br>Sanctioned Amount (€)=%{y}<extra></extra>",
         "legendgroup": "Credito Etneo - Banca di Credito Cooperativo Soc. Coop.",
         "marker": {
          "color": "#19d3f3",
          "pattern": {
           "shape": ""
          }
         },
         "name": "Credito Etneo - Banc...",
         "offsetgroup": "Credito Etneo - Banca di Credito Cooperativo Soc. Coop.",
         "orientation": "v",
         "showlegend": true,
         "textposition": "auto",
         "type": "bar",
         "x": [
          2021
         ],
         "xaxis": "x",
         "y": [
          17041
         ],
         "yaxis": "y"
        },
        {
         "alignmentgroup": "True",
         "hovertemplate": "Sanctioned_Entity=BCC Don Stella di Resuttano soc. coop., ora BCC G. Toniolo di San Cataldo soc. coop.<br>Year of Sanction=%{x}<br>Sanctioned Amount (€)=%{y}<extra></extra>",
         "legendgroup": "BCC Don Stella di Resuttano soc. coop., ora BCC G. Toniolo di San Cataldo soc. coop.",
         "marker": {
          "color": "#FF6692",
          "pattern": {
           "shape": ""
          }
         },
         "name": "BCC Don Stella di Re...",
         "offsetgroup": "BCC Don Stella di Resuttano soc. coop., ora BCC G. Toniolo di San Cataldo soc. coop.",
         "orientation": "v",
         "showlegend": true,
         "textposition": "auto",
         "type": "bar",
         "x": [
          2021
         ],
         "xaxis": "x",
         "y": [
          30000
         ],
         "yaxis": "y"
        },
        {
         "alignmentgroup": "True",
         "hovertemplate": "Sanctioned_Entity=Banca Monte dei Paschi di Siena Spa<br>Year of Sanction=%{x}<br>Sanctioned Amount (€)=%{y}<extra></extra>",
         "legendgroup": "Banca Monte dei Paschi di Siena Spa",
         "marker": {
          "color": "#B6E880",
          "pattern": {
           "shape": ""
          }
         },
         "name": "Banca Monte dei Pasc...",
         "offsetgroup": "Banca Monte dei Paschi di Siena Spa",
         "orientation": "v",
         "showlegend": true,
         "textposition": "auto",
         "type": "bar",
         "x": [
          2021
         ],
         "xaxis": "x",
         "y": [
          2900
         ],
         "yaxis": "y"
        },
        {
         "alignmentgroup": "True",
         "hovertemplate": "Sanctioned_Entity=Banca Popolare di Bari Spa<br>Year of Sanction=%{x}<br>Sanctioned Amount (€)=%{y}<extra></extra>",
         "legendgroup": "Banca Popolare di Bari Spa",
         "marker": {
          "color": "#FF97FF",
          "pattern": {
           "shape": ""
          }
         },
         "name": "Banca Popolare di Ba...",
         "offsetgroup": "Banca Popolare di Bari Spa",
         "orientation": "v",
         "showlegend": true,
         "textposition": "auto",
         "type": "bar",
         "x": [
          2021
         ],
         "xaxis": "x",
         "y": [
          50000
         ],
         "yaxis": "y"
        },
        {
         "alignmentgroup": "True",
         "hovertemplate": "Sanctioned_Entity=BCC Credito Etneo CC SC<br>Year of Sanction=%{x}<br>Sanctioned Amount (€)=%{y}<extra></extra>",
         "legendgroup": "BCC Credito Etneo CC SC",
         "marker": {
          "color": "#FECB52",
          "pattern": {
           "shape": ""
          }
         },
         "name": "BCC Credito Etneo CC...",
         "offsetgroup": "BCC Credito Etneo CC SC",
         "orientation": "v",
         "showlegend": true,
         "textposition": "auto",
         "type": "bar",
         "x": [
          2021
         ],
         "xaxis": "x",
         "y": [
          160000
         ],
         "yaxis": "y"
        },
        {
         "alignmentgroup": "True",
         "hovertemplate": "Sanctioned_Entity=Banca del Catanzarese Credito Cooperativo Società Cooperativa<br>Year of Sanction=%{x}<br>Sanctioned Amount (€)=%{y}<extra></extra>",
         "legendgroup": "Banca del Catanzarese Credito Cooperativo Società Cooperativa",
         "marker": {
          "color": "#636efa",
          "pattern": {
           "shape": ""
          }
         },
         "name": "Banca del Catanzares...",
         "offsetgroup": "Banca del Catanzarese Credito Cooperativo Società Cooperativa",
         "orientation": "v",
         "showlegend": true,
         "textposition": "auto",
         "type": "bar",
         "x": [
          2021
         ],
         "xaxis": "x",
         "y": [
          60000
         ],
         "yaxis": "y"
        },
        {
         "alignmentgroup": "True",
         "hovertemplate": "Sanctioned_Entity=Bancadvice.it Sas di Mazzone A & C<br>Year of Sanction=%{x}<br>Sanctioned Amount (€)=%{y}<extra></extra>",
         "legendgroup": "Bancadvice.it Sas di Mazzone A & C",
         "marker": {
          "color": "#EF553B",
          "pattern": {
           "shape": ""
          }
         },
         "name": "Bancadvice.it Sas di...",
         "offsetgroup": "Bancadvice.it Sas di Mazzone A & C",
         "orientation": "v",
         "showlegend": true,
         "textposition": "auto",
         "type": "bar",
         "x": [
          2021
         ],
         "xaxis": "x",
         "y": [
          30000
         ],
         "yaxis": "y"
        },
        {
         "alignmentgroup": "True",
         "hovertemplate": "Sanctioned_Entity=Cassa Raiffeisen Schlern-Rosengarten<br>Year of Sanction=%{x}<br>Sanctioned Amount (€)=%{y}<extra></extra>",
         "legendgroup": "Cassa Raiffeisen Schlern-Rosengarten",
         "marker": {
          "color": "#00cc96",
          "pattern": {
           "shape": ""
          }
         },
         "name": "Cassa Raiffeisen Sch...",
         "offsetgroup": "Cassa Raiffeisen Schlern-Rosengarten",
         "orientation": "v",
         "showlegend": true,
         "textposition": "auto",
         "type": "bar",
         "x": [
          2021
         ],
         "xaxis": "x",
         "y": [
          30000
         ],
         "yaxis": "y"
        },
        {
         "alignmentgroup": "True",
         "hovertemplate": "Sanctioned_Entity=Banca Popolare di Cortona Scpa<br>Year of Sanction=%{x}<br>Sanctioned Amount (€)=%{y}<extra></extra>",
         "legendgroup": "Banca Popolare di Cortona Scpa",
         "marker": {
          "color": "#ab63fa",
          "pattern": {
           "shape": ""
          }
         },
         "name": "Banca Popolare di Co...",
         "offsetgroup": "Banca Popolare di Cortona Scpa",
         "orientation": "v",
         "showlegend": true,
         "textposition": "auto",
         "type": "bar",
         "x": [
          2021
         ],
         "xaxis": "x",
         "y": [
          60000
         ],
         "yaxis": "y"
        },
        {
         "alignmentgroup": "True",
         "hovertemplate": "Sanctioned_Entity=Valutrans Spa<br>Year of Sanction=%{x}<br>Sanctioned Amount (€)=%{y}<extra></extra>",
         "legendgroup": "Valutrans Spa",
         "marker": {
          "color": "#FFA15A",
          "pattern": {
           "shape": ""
          }
         },
         "name": "Valutrans Spa",
         "offsetgroup": "Valutrans Spa",
         "orientation": "v",
         "showlegend": true,
         "textposition": "auto",
         "type": "bar",
         "x": [
          2022
         ],
         "xaxis": "x",
         "y": [
          45000
         ],
         "yaxis": "y"
        },
        {
         "alignmentgroup": "True",
         "hovertemplate": "Sanctioned_Entity=Credimi Spa<br>Year of Sanction=%{x}<br>Sanctioned Amount (€)=%{y}<extra></extra>",
         "legendgroup": "Credimi Spa",
         "marker": {
          "color": "#19d3f3",
          "pattern": {
           "shape": ""
          }
         },
         "name": "Credimi Spa",
         "offsetgroup": "Credimi Spa",
         "orientation": "v",
         "showlegend": true,
         "textposition": "auto",
         "type": "bar",
         "x": [
          2022
         ],
         "xaxis": "x",
         "y": [
          0
         ],
         "yaxis": "y"
        },
        {
         "alignmentgroup": "True",
         "hovertemplate": "Sanctioned_Entity=Se.Pa.Fin. Spa<br>Year of Sanction=%{x}<br>Sanctioned Amount (€)=%{y}<extra></extra>",
         "legendgroup": "Se.Pa.Fin. Spa",
         "marker": {
          "color": "#FF6692",
          "pattern": {
           "shape": ""
          }
         },
         "name": "Se.Pa.Fin. Spa",
         "offsetgroup": "Se.Pa.Fin. Spa",
         "orientation": "v",
         "showlegend": true,
         "textposition": "auto",
         "type": "bar",
         "x": [
          2022
         ],
         "xaxis": "x",
         "y": [
          0
         ],
         "yaxis": "y"
        },
        {
         "alignmentgroup": "True",
         "hovertemplate": "Sanctioned_Entity=Ria Payment Institution EP S.A.U.<br>Year of Sanction=%{x}<br>Sanctioned Amount (€)=%{y}<extra></extra>",
         "legendgroup": "Ria Payment Institution EP S.A.U.",
         "marker": {
          "color": "#B6E880",
          "pattern": {
           "shape": ""
          }
         },
         "name": "Ria Payment Institut...",
         "offsetgroup": "Ria Payment Institution EP S.A.U.",
         "orientation": "v",
         "showlegend": true,
         "textposition": "auto",
         "type": "bar",
         "x": [
          2022
         ],
         "xaxis": "x",
         "y": [
          30000
         ],
         "yaxis": "y"
        },
        {
         "alignmentgroup": "True",
         "hovertemplate": "Sanctioned_Entity=Prestiamoci Spa<br>Year of Sanction=%{x}<br>Sanctioned Amount (€)=%{y}<extra></extra>",
         "legendgroup": "Prestiamoci Spa",
         "marker": {
          "color": "#FF97FF",
          "pattern": {
           "shape": ""
          }
         },
         "name": "Prestiamoci Spa",
         "offsetgroup": "Prestiamoci Spa",
         "orientation": "v",
         "showlegend": true,
         "textposition": "auto",
         "type": "bar",
         "x": [
          2022
         ],
         "xaxis": "x",
         "y": [
          30000
         ],
         "yaxis": "y"
        },
        {
         "alignmentgroup": "True",
         "hovertemplate": "Sanctioned_Entity=Mondial Bony Service Spa<br>Year of Sanction=%{x}<br>Sanctioned Amount (€)=%{y}<extra></extra>",
         "legendgroup": "Mondial Bony Service Spa",
         "marker": {
          "color": "#FECB52",
          "pattern": {
           "shape": ""
          }
         },
         "name": "Mondial Bony Service...",
         "offsetgroup": "Mondial Bony Service Spa",
         "orientation": "v",
         "showlegend": true,
         "textposition": "auto",
         "type": "bar",
         "x": [
          2022
         ],
         "xaxis": "x",
         "y": [
          60000
         ],
         "yaxis": "y"
        },
        {
         "alignmentgroup": "True",
         "hovertemplate": "Sanctioned_Entity=Fin Sarda Spa<br>Year of Sanction=%{x}<br>Sanctioned Amount (€)=%{y}<extra></extra>",
         "legendgroup": "Fin Sarda Spa",
         "marker": {
          "color": "#636efa",
          "pattern": {
           "shape": ""
          }
         },
         "name": "Fin Sarda Spa",
         "offsetgroup": "Fin Sarda Spa",
         "orientation": "v",
         "showlegend": true,
         "textposition": "auto",
         "type": "bar",
         "x": [
          2022
         ],
         "xaxis": "x",
         "y": [
          30000
         ],
         "yaxis": "y"
        },
        {
         "alignmentgroup": "True",
         "hovertemplate": "Sanctioned_Entity=Directa SIM Spa<br>Year of Sanction=%{x}<br>Sanctioned Amount (€)=%{y}<extra></extra>",
         "legendgroup": "Directa SIM Spa",
         "marker": {
          "color": "#EF553B",
          "pattern": {
           "shape": ""
          }
         },
         "name": "Directa SIM Spa",
         "offsetgroup": "Directa SIM Spa",
         "orientation": "v",
         "showlegend": true,
         "textposition": "auto",
         "type": "bar",
         "x": [
          2022
         ],
         "xaxis": "x",
         "y": [
          30000
         ],
         "yaxis": "y"
        },
        {
         "alignmentgroup": "True",
         "hovertemplate": "Sanctioned_Entity=Centotrenta Servicing Spa<br>Year of Sanction=%{x}<br>Sanctioned Amount (€)=%{y}<extra></extra>",
         "legendgroup": "Centotrenta Servicing Spa",
         "marker": {
          "color": "#00cc96",
          "pattern": {
           "shape": ""
          }
         },
         "name": "Centotrenta Servicin...",
         "offsetgroup": "Centotrenta Servicing Spa",
         "orientation": "v",
         "showlegend": true,
         "textposition": "auto",
         "type": "bar",
         "x": [
          2022
         ],
         "xaxis": "x",
         "y": [
          40000
         ],
         "yaxis": "y"
        },
        {
         "alignmentgroup": "True",
         "hovertemplate": "Sanctioned_Entity=N26 Bank Gmbh<br>Year of Sanction=%{x}<br>Sanctioned Amount (€)=%{y}<extra></extra>",
         "legendgroup": "N26 Bank Gmbh",
         "marker": {
          "color": "#ab63fa",
          "pattern": {
           "shape": ""
          }
         },
         "name": "N26 Bank Gmbh",
         "offsetgroup": "N26 Bank Gmbh",
         "orientation": "v",
         "showlegend": true,
         "textposition": "auto",
         "type": "bar",
         "x": [
          2022
         ],
         "xaxis": "x",
         "y": [
          160000
         ],
         "yaxis": "y"
        },
        {
         "alignmentgroup": "True",
         "hovertemplate": "Sanctioned_Entity=Banca del Sud Spa, ora in a.s.<br>Year of Sanction=%{x}<br>Sanctioned Amount (€)=%{y}<extra></extra>",
         "legendgroup": "Banca del Sud Spa, ora in a.s.",
         "marker": {
          "color": "#FFA15A",
          "pattern": {
           "shape": ""
          }
         },
         "name": "Banca del Sud Spa, o...",
         "offsetgroup": "Banca del Sud Spa, ora in a.s.",
         "orientation": "v",
         "showlegend": true,
         "textposition": "auto",
         "type": "bar",
         "x": [
          2022
         ],
         "xaxis": "x",
         "y": [
          52000
         ],
         "yaxis": "y"
        },
        {
         "alignmentgroup": "True",
         "hovertemplate": "Sanctioned_Entity=Banca Sistema Spa<br>Year of Sanction=%{x}<br>Sanctioned Amount (€)=%{y}<extra></extra>",
         "legendgroup": "Banca Sistema Spa",
         "marker": {
          "color": "#19d3f3",
          "pattern": {
           "shape": ""
          }
         },
         "name": "Banca Sistema Spa",
         "offsetgroup": "Banca Sistema Spa",
         "orientation": "v",
         "showlegend": true,
         "textposition": "auto",
         "type": "bar",
         "x": [
          2022
         ],
         "xaxis": "x",
         "y": [
          185000
         ],
         "yaxis": "y"
        },
        {
         "alignmentgroup": "True",
         "hovertemplate": "Sanctioned_Entity=Banca Popolare di Lajatico<br>Year of Sanction=%{x}<br>Sanctioned Amount (€)=%{y}<extra></extra>",
         "legendgroup": "Banca Popolare di Lajatico",
         "marker": {
          "color": "#FF6692",
          "pattern": {
           "shape": ""
          }
         },
         "name": "Banca Popolare di La...",
         "offsetgroup": "Banca Popolare di Lajatico",
         "orientation": "v",
         "showlegend": true,
         "textposition": "auto",
         "type": "bar",
         "x": [
          2022
         ],
         "xaxis": "x",
         "y": [
          30000
         ],
         "yaxis": "y"
        },
        {
         "alignmentgroup": "True",
         "hovertemplate": "Sanctioned_Entity=Banca Popolare Vesuviana Sc<br>Year of Sanction=%{x}<br>Sanctioned Amount (€)=%{y}<extra></extra>",
         "legendgroup": "Banca Popolare Vesuviana Sc",
         "marker": {
          "color": "#B6E880",
          "pattern": {
           "shape": ""
          }
         },
         "name": "Banca Popolare Vesuv...",
         "offsetgroup": "Banca Popolare Vesuviana Sc",
         "orientation": "v",
         "showlegend": true,
         "textposition": "auto",
         "type": "bar",
         "x": [
          2022
         ],
         "xaxis": "x",
         "y": [
          30000
         ],
         "yaxis": "y"
        },
        {
         "alignmentgroup": "True",
         "hovertemplate": "Sanctioned_Entity=Banca Carige Spa<br>Year of Sanction=%{x}<br>Sanctioned Amount (€)=%{y}<extra></extra>",
         "legendgroup": "Banca Carige Spa",
         "marker": {
          "color": "#FF97FF",
          "pattern": {
           "shape": ""
          }
         },
         "name": "Banca Carige Spa",
         "offsetgroup": "Banca Carige Spa",
         "orientation": "v",
         "showlegend": true,
         "textposition": "auto",
         "type": "bar",
         "x": [
          2022
         ],
         "xaxis": "x",
         "y": [
          280000
         ],
         "yaxis": "y"
        },
        {
         "alignmentgroup": "True",
         "hovertemplate": "Sanctioned_Entity=ART SGR Spa<br>Year of Sanction=%{x}<br>Sanctioned Amount (€)=%{y}<extra></extra>",
         "legendgroup": "ART SGR Spa",
         "marker": {
          "color": "#FECB52",
          "pattern": {
           "shape": ""
          }
         },
         "name": "ART SGR Spa",
         "offsetgroup": "ART SGR Spa",
         "orientation": "v",
         "showlegend": true,
         "textposition": "auto",
         "type": "bar",
         "x": [
          2022
         ],
         "xaxis": "x",
         "y": [
          30000
         ],
         "yaxis": "y"
        },
        {
         "alignmentgroup": "True",
         "hovertemplate": "Sanctioned_Entity=<br>Year of Sanction=%{x}<br>Sanctioned Amount (€)=%{y}<extra></extra>",
         "legendgroup": "",
         "marker": {
          "color": "#636efa",
          "pattern": {
           "shape": ""
          }
         },
         "name": "",
         "offsetgroup": "",
         "orientation": "v",
         "showlegend": false,
         "textposition": "auto",
         "type": "bar",
         "x": [
          2022
         ],
         "xaxis": "x",
         "y": [
          0
         ],
         "yaxis": "y"
        },
        {
         "alignmentgroup": "True",
         "hovertemplate": "Sanctioned_Entity=Banque Chaabi du Maroc<br>Year of Sanction=%{x}<br>Sanctioned Amount (€)=%{y}<extra></extra>",
         "legendgroup": "Banque Chaabi du Maroc",
         "marker": {
          "color": "#EF553B",
          "pattern": {
           "shape": ""
          }
         },
         "name": "Banque Chaabi du Mar...",
         "offsetgroup": "Banque Chaabi du Maroc",
         "orientation": "v",
         "showlegend": true,
         "textposition": "auto",
         "type": "bar",
         "x": [
          2022
         ],
         "xaxis": "x",
         "y": [
          30000
         ],
         "yaxis": "y"
        },
        {
         "alignmentgroup": "True",
         "hovertemplate": "Sanctioned_Entity=Intermonte SIM Spa<br>Year of Sanction=%{x}<br>Sanctioned Amount (€)=%{y}<extra></extra>",
         "legendgroup": "Intermonte SIM Spa",
         "marker": {
          "color": "#00cc96",
          "pattern": {
           "shape": ""
          }
         },
         "name": "Intermonte SIM Spa",
         "offsetgroup": "Intermonte SIM Spa",
         "orientation": "v",
         "showlegend": true,
         "textposition": "auto",
         "type": "bar",
         "x": [
          2023
         ],
         "xaxis": "x",
         "y": [
          30000
         ],
         "yaxis": "y"
        },
        {
         "alignmentgroup": "True",
         "hovertemplate": "Sanctioned_Entity=M.C. Family Spa, ora M.C. Family Srl<br>Year of Sanction=%{x}<br>Sanctioned Amount (€)=%{y}<extra></extra>",
         "legendgroup": "M.C. Family Spa, ora M.C. Family Srl",
         "marker": {
          "color": "#ab63fa",
          "pattern": {
           "shape": ""
          }
         },
         "name": "M.C. Family Spa, ora...",
         "offsetgroup": "M.C. Family Spa, ora M.C. Family Srl",
         "orientation": "v",
         "showlegend": true,
         "textposition": "auto",
         "type": "bar",
         "x": [
          2023
         ],
         "xaxis": "x",
         "y": [
          30000
         ],
         "yaxis": "y"
        },
        {
         "alignmentgroup": "True",
         "hovertemplate": "Sanctioned_Entity=M.C. Family Srl<br>Year of Sanction=%{x}<br>Sanctioned Amount (€)=%{y}<extra></extra>",
         "legendgroup": "M.C. Family Srl",
         "marker": {
          "color": "#FFA15A",
          "pattern": {
           "shape": ""
          }
         },
         "name": "M.C. Family Srl",
         "offsetgroup": "M.C. Family Srl",
         "orientation": "v",
         "showlegend": true,
         "textposition": "auto",
         "type": "bar",
         "x": [
          2023
         ],
         "xaxis": "x",
         "y": [
          30000
         ],
         "yaxis": "y"
        },
        {
         "alignmentgroup": "True",
         "hovertemplate": "Sanctioned_Entity=Value Italy SGR Spa<br>Year of Sanction=%{x}<br>Sanctioned Amount (€)=%{y}<extra></extra>",
         "legendgroup": "Value Italy SGR Spa",
         "marker": {
          "color": "#19d3f3",
          "pattern": {
           "shape": ""
          }
         },
         "name": "Value Italy SGR Spa",
         "offsetgroup": "Value Italy SGR Spa",
         "orientation": "v",
         "showlegend": true,
         "textposition": "auto",
         "type": "bar",
         "x": [
          2023
         ],
         "xaxis": "x",
         "y": [
          6000
         ],
         "yaxis": "y"
        },
        {
         "alignmentgroup": "True",
         "hovertemplate": "Sanctioned_Entity=Prelios Credit Servicing Spa<br>Year of Sanction=%{x}<br>Sanctioned Amount (€)=%{y}<extra></extra>",
         "legendgroup": "Prelios Credit Servicing Spa",
         "marker": {
          "color": "#FF6692",
          "pattern": {
           "shape": ""
          }
         },
         "name": "Prelios Credit Servi...",
         "offsetgroup": "Prelios Credit Servicing Spa",
         "orientation": "v",
         "showlegend": true,
         "textposition": "auto",
         "type": "bar",
         "x": [
          2023
         ],
         "xaxis": "x",
         "y": [
          60000
         ],
         "yaxis": "y"
        },
        {
         "alignmentgroup": "True",
         "hovertemplate": "Sanctioned_Entity=Scania Finance Italy Spa<br>Year of Sanction=%{x}<br>Sanctioned Amount (€)=%{y}<extra></extra>",
         "legendgroup": "Scania Finance Italy Spa",
         "marker": {
          "color": "#B6E880",
          "pattern": {
           "shape": ""
          }
         },
         "name": "Scania Finance Italy...",
         "offsetgroup": "Scania Finance Italy Spa",
         "orientation": "v",
         "showlegend": true,
         "textposition": "auto",
         "type": "bar",
         "x": [
          2023
         ],
         "xaxis": "x",
         "y": [
          5000
         ],
         "yaxis": "y"
        },
        {
         "alignmentgroup": "True",
         "hovertemplate": "Sanctioned_Entity=Synergo Capital SGR Spa<br>Year of Sanction=%{x}<br>Sanctioned Amount (€)=%{y}<extra></extra>",
         "legendgroup": "Synergo Capital SGR Spa",
         "marker": {
          "color": "#FF97FF",
          "pattern": {
           "shape": ""
          }
         },
         "name": "Synergo Capital SGR ...",
         "offsetgroup": "Synergo Capital SGR Spa",
         "orientation": "v",
         "showlegend": true,
         "textposition": "auto",
         "type": "bar",
         "x": [
          2023
         ],
         "xaxis": "x",
         "y": [
          120000
         ],
         "yaxis": "y"
        },
        {
         "alignmentgroup": "True",
         "hovertemplate": "Sanctioned_Entity=PayTipper Spa<br>Year of Sanction=%{x}<br>Sanctioned Amount (€)=%{y}<extra></extra>",
         "legendgroup": "PayTipper Spa",
         "marker": {
          "color": "#FECB52",
          "pattern": {
           "shape": ""
          }
         },
         "name": "PayTipper Spa",
         "offsetgroup": "PayTipper Spa",
         "orientation": "v",
         "showlegend": true,
         "textposition": "auto",
         "type": "bar",
         "x": [
          2023
         ],
         "xaxis": "x",
         "y": [
          5000
         ],
         "yaxis": "y"
        },
        {
         "alignmentgroup": "True",
         "hovertemplate": "Sanctioned_Entity=Framont & Partners Management Limited (Italian<br>Year of Sanction=%{x}<br>Sanctioned Amount (€)=%{y}<extra></extra>",
         "legendgroup": "Framont & Partners Management Limited (Italian",
         "marker": {
          "color": "#636efa",
          "pattern": {
           "shape": ""
          }
         },
         "name": "Framont & Partners M...",
         "offsetgroup": "Framont & Partners Management Limited (Italian",
         "orientation": "v",
         "showlegend": true,
         "textposition": "auto",
         "type": "bar",
         "x": [
          2023
         ],
         "xaxis": "x",
         "y": [
          3000
         ],
         "yaxis": "y"
        },
        {
         "alignmentgroup": "True",
         "hovertemplate": "Sanctioned_Entity=Banca Progetto Spa<br>Year of Sanction=%{x}<br>Sanctioned Amount (€)=%{y}<extra></extra>",
         "legendgroup": "Banca Progetto Spa",
         "marker": {
          "color": "#EF553B",
          "pattern": {
           "shape": ""
          }
         },
         "name": "Banca Progetto Spa",
         "offsetgroup": "Banca Progetto Spa",
         "orientation": "v",
         "showlegend": true,
         "textposition": "auto",
         "type": "bar",
         "x": [
          2023
         ],
         "xaxis": "x",
         "y": [
          100000
         ],
         "yaxis": "y"
        },
        {
         "alignmentgroup": "True",
         "hovertemplate": "Sanctioned_Entity=Bank of Italy SGR Spa<br>Year of Sanction=%{x}<br>Sanctioned Amount (€)=%{y}<extra></extra>",
         "legendgroup": "Bank of Italy SGR Spa",
         "marker": {
          "color": "#00cc96",
          "pattern": {
           "shape": ""
          }
         },
         "name": "Bank of Italy SGR Sp...",
         "offsetgroup": "Bank of Italy SGR Spa",
         "orientation": "v",
         "showlegend": true,
         "textposition": "auto",
         "type": "bar",
         "x": [
          2023
         ],
         "xaxis": "x",
         "y": [
          48000
         ],
         "yaxis": "y"
        },
        {
         "alignmentgroup": "True",
         "hovertemplate": "Sanctioned_Entity=Banco di Credito P. Azzoaglio Spa<br>Year of Sanction=%{x}<br>Sanctioned Amount (€)=%{y}<extra></extra>",
         "legendgroup": "Banco di Credito P. Azzoaglio Spa",
         "marker": {
          "color": "#ab63fa",
          "pattern": {
           "shape": ""
          }
         },
         "name": "Banco di Credito P. ...",
         "offsetgroup": "Banco di Credito P. Azzoaglio Spa",
         "orientation": "v",
         "showlegend": true,
         "textposition": "auto",
         "type": "bar",
         "x": [
          2023
         ],
         "xaxis": "x",
         "y": [
          30000
         ],
         "yaxis": "y"
        },
        {
         "alignmentgroup": "True",
         "hovertemplate": "Sanctioned_Entity=Banca Popolare Valconca Spa in a.s.<br>Year of Sanction=%{x}<br>Sanctioned Amount (€)=%{y}<extra></extra>",
         "legendgroup": "Banca Popolare Valconca Spa in a.s.",
         "marker": {
          "color": "#FFA15A",
          "pattern": {
           "shape": ""
          }
         },
         "name": "Banca Popolare Valco...",
         "offsetgroup": "Banca Popolare Valconca Spa in a.s.",
         "orientation": "v",
         "showlegend": true,
         "textposition": "auto",
         "type": "bar",
         "x": [
          2023
         ],
         "xaxis": "x",
         "y": [
          180000
         ],
         "yaxis": "y"
        },
        {
         "alignmentgroup": "True",
         "hovertemplate": "Sanctioned_Entity=Banca Popolare Sant’Angelo Scpa<br>Year of Sanction=%{x}<br>Sanctioned Amount (€)=%{y}<extra></extra>",
         "legendgroup": "Banca Popolare Sant’Angelo Scpa",
         "marker": {
          "color": "#19d3f3",
          "pattern": {
           "shape": ""
          }
         },
         "name": "Banca Popolare Sant’...",
         "offsetgroup": "Banca Popolare Sant’Angelo Scpa",
         "orientation": "v",
         "showlegend": true,
         "textposition": "auto",
         "type": "bar",
         "x": [
          2023
         ],
         "xaxis": "x",
         "y": [
          30000
         ],
         "yaxis": "y"
        },
        {
         "alignmentgroup": "True",
         "hovertemplate": "Sanctioned_Entity=Antonio Izzo<br>Year of Sanction=%{x}<br>Sanctioned Amount (€)=%{y}<extra></extra>",
         "legendgroup": "Antonio Izzo",
         "marker": {
          "color": "#FF6692",
          "pattern": {
           "shape": ""
          }
         },
         "name": "Antonio Izzo",
         "offsetgroup": "Antonio Izzo",
         "orientation": "v",
         "showlegend": true,
         "textposition": "auto",
         "type": "bar",
         "x": [
          2023
         ],
         "xaxis": "x",
         "y": [
          55000
         ],
         "yaxis": "y"
        },
        {
         "alignmentgroup": "True",
         "hovertemplate": "Sanctioned_Entity=Anthilia Capital Partners SGR Spa<br>Year of Sanction=%{x}<br>Sanctioned Amount (€)=%{y}<extra></extra>",
         "legendgroup": "Anthilia Capital Partners SGR Spa",
         "marker": {
          "color": "#B6E880",
          "pattern": {
           "shape": ""
          }
         },
         "name": "Anthilia Capital Par...",
         "offsetgroup": "Anthilia Capital Partners SGR Spa",
         "orientation": "v",
         "showlegend": true,
         "textposition": "auto",
         "type": "bar",
         "x": [
          2023
         ],
         "xaxis": "x",
         "y": [
          30000
         ],
         "yaxis": "y"
        },
        {
         "alignmentgroup": "True",
         "hovertemplate": "Sanctioned_Entity=AMCO Spa<br>Year of Sanction=%{x}<br>Sanctioned Amount (€)=%{y}<extra></extra>",
         "legendgroup": "AMCO Spa",
         "marker": {
          "color": "#FF97FF",
          "pattern": {
           "shape": ""
          }
         },
         "name": "AMCO Spa",
         "offsetgroup": "AMCO Spa",
         "orientation": "v",
         "showlegend": true,
         "textposition": "auto",
         "type": "bar",
         "x": [
          2023
         ],
         "xaxis": "x",
         "y": [
          120000
         ],
         "yaxis": "y"
        },
        {
         "alignmentgroup": "True",
         "hovertemplate": "Sanctioned_Entity=A . Perrazzelli<br>Year of Sanction=%{x}<br>Sanctioned Amount (€)=%{y}<extra></extra>",
         "legendgroup": "A . Perrazzelli",
         "marker": {
          "color": "#FECB52",
          "pattern": {
           "shape": ""
          }
         },
         "name": "A . Perrazzelli",
         "offsetgroup": "A . Perrazzelli",
         "orientation": "v",
         "showlegend": true,
         "textposition": "auto",
         "type": "bar",
         "x": [
          2023
         ],
         "xaxis": "x",
         "y": [
          120000
         ],
         "yaxis": "y"
        },
        {
         "alignmentgroup": "True",
         "hovertemplate": "Sanctioned_Entity=Cassa di Risparmio di Volterra Spa<br>Year of Sanction=%{x}<br>Sanctioned Amount (€)=%{y}<extra></extra>",
         "legendgroup": "Cassa di Risparmio di Volterra Spa",
         "marker": {
          "color": "#636efa",
          "pattern": {
           "shape": ""
          }
         },
         "name": "Cassa di Risparmio d...",
         "offsetgroup": "Cassa di Risparmio di Volterra Spa",
         "orientation": "v",
         "showlegend": true,
         "textposition": "auto",
         "type": "bar",
         "x": [
          2023
         ],
         "xaxis": "x",
         "y": [
          150000
         ],
         "yaxis": "y"
        },
        {
         "alignmentgroup": "True",
         "hovertemplate": "Sanctioned_Entity=Generalfinance Spa<br>Year of Sanction=%{x}<br>Sanctioned Amount (€)=%{y}<extra></extra>",
         "legendgroup": "Generalfinance Spa",
         "marker": {
          "color": "#EF553B",
          "pattern": {
           "shape": ""
          }
         },
         "name": "Generalfinance Spa",
         "offsetgroup": "Generalfinance Spa",
         "orientation": "v",
         "showlegend": true,
         "textposition": "auto",
         "type": "bar",
         "x": [
          2024
         ],
         "xaxis": "x",
         "y": [
          60000
         ],
         "yaxis": "y"
        },
        {
         "alignmentgroup": "True",
         "hovertemplate": "Sanctioned_Entity=Solution Bank Spa<br>Year of Sanction=%{x}<br>Sanctioned Amount (€)=%{y}<extra></extra>",
         "legendgroup": "Solution Bank Spa",
         "marker": {
          "color": "#00cc96",
          "pattern": {
           "shape": ""
          }
         },
         "name": "Solution Bank Spa",
         "offsetgroup": "Solution Bank Spa",
         "orientation": "v",
         "showlegend": true,
         "textposition": "auto",
         "type": "bar",
         "x": [
          2024
         ],
         "xaxis": "x",
         "y": [
          35000
         ],
         "yaxis": "y"
        },
        {
         "mode": "lines",
         "name": "Sanction Count",
         "type": "scatter",
         "x": [
          "2019",
          "2020",
          "2021",
          "2022",
          "2023",
          "2024"
         ],
         "y": [
          29,
          42,
          31,
          24,
          24,
          4
         ],
         "yaxis": "y2"
        }
       ],
       "layout": {
        "barmode": "relative",
        "height": 500,
        "legend": {
         "title": {
          "text": "Sanctioned_Entity"
         },
         "tracegroupgap": 0
        },
        "template": {
         "data": {
          "bar": [
           {
            "error_x": {
             "color": "#2a3f5f"
            },
            "error_y": {
             "color": "#2a3f5f"
            },
            "marker": {
             "line": {
              "color": "#E5ECF6",
              "width": 0.5
             },
             "pattern": {
              "fillmode": "overlay",
              "size": 10,
              "solidity": 0.2
             }
            },
            "type": "bar"
           }
          ],
          "barpolar": [
           {
            "marker": {
             "line": {
              "color": "#E5ECF6",
              "width": 0.5
             },
             "pattern": {
              "fillmode": "overlay",
              "size": 10,
              "solidity": 0.2
             }
            },
            "type": "barpolar"
           }
          ],
          "carpet": [
           {
            "aaxis": {
             "endlinecolor": "#2a3f5f",
             "gridcolor": "white",
             "linecolor": "white",
             "minorgridcolor": "white",
             "startlinecolor": "#2a3f5f"
            },
            "baxis": {
             "endlinecolor": "#2a3f5f",
             "gridcolor": "white",
             "linecolor": "white",
             "minorgridcolor": "white",
             "startlinecolor": "#2a3f5f"
            },
            "type": "carpet"
           }
          ],
          "choropleth": [
           {
            "colorbar": {
             "outlinewidth": 0,
             "ticks": ""
            },
            "type": "choropleth"
           }
          ],
          "contour": [
           {
            "colorbar": {
             "outlinewidth": 0,
             "ticks": ""
            },
            "colorscale": [
             [
              0,
              "#0d0887"
             ],
             [
              0.1111111111111111,
              "#46039f"
             ],
             [
              0.2222222222222222,
              "#7201a8"
             ],
             [
              0.3333333333333333,
              "#9c179e"
             ],
             [
              0.4444444444444444,
              "#bd3786"
             ],
             [
              0.5555555555555556,
              "#d8576b"
             ],
             [
              0.6666666666666666,
              "#ed7953"
             ],
             [
              0.7777777777777778,
              "#fb9f3a"
             ],
             [
              0.8888888888888888,
              "#fdca26"
             ],
             [
              1,
              "#f0f921"
             ]
            ],
            "type": "contour"
           }
          ],
          "contourcarpet": [
           {
            "colorbar": {
             "outlinewidth": 0,
             "ticks": ""
            },
            "type": "contourcarpet"
           }
          ],
          "heatmap": [
           {
            "colorbar": {
             "outlinewidth": 0,
             "ticks": ""
            },
            "colorscale": [
             [
              0,
              "#0d0887"
             ],
             [
              0.1111111111111111,
              "#46039f"
             ],
             [
              0.2222222222222222,
              "#7201a8"
             ],
             [
              0.3333333333333333,
              "#9c179e"
             ],
             [
              0.4444444444444444,
              "#bd3786"
             ],
             [
              0.5555555555555556,
              "#d8576b"
             ],
             [
              0.6666666666666666,
              "#ed7953"
             ],
             [
              0.7777777777777778,
              "#fb9f3a"
             ],
             [
              0.8888888888888888,
              "#fdca26"
             ],
             [
              1,
              "#f0f921"
             ]
            ],
            "type": "heatmap"
           }
          ],
          "heatmapgl": [
           {
            "colorbar": {
             "outlinewidth": 0,
             "ticks": ""
            },
            "colorscale": [
             [
              0,
              "#0d0887"
             ],
             [
              0.1111111111111111,
              "#46039f"
             ],
             [
              0.2222222222222222,
              "#7201a8"
             ],
             [
              0.3333333333333333,
              "#9c179e"
             ],
             [
              0.4444444444444444,
              "#bd3786"
             ],
             [
              0.5555555555555556,
              "#d8576b"
             ],
             [
              0.6666666666666666,
              "#ed7953"
             ],
             [
              0.7777777777777778,
              "#fb9f3a"
             ],
             [
              0.8888888888888888,
              "#fdca26"
             ],
             [
              1,
              "#f0f921"
             ]
            ],
            "type": "heatmapgl"
           }
          ],
          "histogram": [
           {
            "marker": {
             "pattern": {
              "fillmode": "overlay",
              "size": 10,
              "solidity": 0.2
             }
            },
            "type": "histogram"
           }
          ],
          "histogram2d": [
           {
            "colorbar": {
             "outlinewidth": 0,
             "ticks": ""
            },
            "colorscale": [
             [
              0,
              "#0d0887"
             ],
             [
              0.1111111111111111,
              "#46039f"
             ],
             [
              0.2222222222222222,
              "#7201a8"
             ],
             [
              0.3333333333333333,
              "#9c179e"
             ],
             [
              0.4444444444444444,
              "#bd3786"
             ],
             [
              0.5555555555555556,
              "#d8576b"
             ],
             [
              0.6666666666666666,
              "#ed7953"
             ],
             [
              0.7777777777777778,
              "#fb9f3a"
             ],
             [
              0.8888888888888888,
              "#fdca26"
             ],
             [
              1,
              "#f0f921"
             ]
            ],
            "type": "histogram2d"
           }
          ],
          "histogram2dcontour": [
           {
            "colorbar": {
             "outlinewidth": 0,
             "ticks": ""
            },
            "colorscale": [
             [
              0,
              "#0d0887"
             ],
             [
              0.1111111111111111,
              "#46039f"
             ],
             [
              0.2222222222222222,
              "#7201a8"
             ],
             [
              0.3333333333333333,
              "#9c179e"
             ],
             [
              0.4444444444444444,
              "#bd3786"
             ],
             [
              0.5555555555555556,
              "#d8576b"
             ],
             [
              0.6666666666666666,
              "#ed7953"
             ],
             [
              0.7777777777777778,
              "#fb9f3a"
             ],
             [
              0.8888888888888888,
              "#fdca26"
             ],
             [
              1,
              "#f0f921"
             ]
            ],
            "type": "histogram2dcontour"
           }
          ],
          "mesh3d": [
           {
            "colorbar": {
             "outlinewidth": 0,
             "ticks": ""
            },
            "type": "mesh3d"
           }
          ],
          "parcoords": [
           {
            "line": {
             "colorbar": {
              "outlinewidth": 0,
              "ticks": ""
             }
            },
            "type": "parcoords"
           }
          ],
          "pie": [
           {
            "automargin": true,
            "type": "pie"
           }
          ],
          "scatter": [
           {
            "fillpattern": {
             "fillmode": "overlay",
             "size": 10,
             "solidity": 0.2
            },
            "type": "scatter"
           }
          ],
          "scatter3d": [
           {
            "line": {
             "colorbar": {
              "outlinewidth": 0,
              "ticks": ""
             }
            },
            "marker": {
             "colorbar": {
              "outlinewidth": 0,
              "ticks": ""
             }
            },
            "type": "scatter3d"
           }
          ],
          "scattercarpet": [
           {
            "marker": {
             "colorbar": {
              "outlinewidth": 0,
              "ticks": ""
             }
            },
            "type": "scattercarpet"
           }
          ],
          "scattergeo": [
           {
            "marker": {
             "colorbar": {
              "outlinewidth": 0,
              "ticks": ""
             }
            },
            "type": "scattergeo"
           }
          ],
          "scattergl": [
           {
            "marker": {
             "colorbar": {
              "outlinewidth": 0,
              "ticks": ""
             }
            },
            "type": "scattergl"
           }
          ],
          "scattermapbox": [
           {
            "marker": {
             "colorbar": {
              "outlinewidth": 0,
              "ticks": ""
             }
            },
            "type": "scattermapbox"
           }
          ],
          "scatterpolar": [
           {
            "marker": {
             "colorbar": {
              "outlinewidth": 0,
              "ticks": ""
             }
            },
            "type": "scatterpolar"
           }
          ],
          "scatterpolargl": [
           {
            "marker": {
             "colorbar": {
              "outlinewidth": 0,
              "ticks": ""
             }
            },
            "type": "scatterpolargl"
           }
          ],
          "scatterternary": [
           {
            "marker": {
             "colorbar": {
              "outlinewidth": 0,
              "ticks": ""
             }
            },
            "type": "scatterternary"
           }
          ],
          "surface": [
           {
            "colorbar": {
             "outlinewidth": 0,
             "ticks": ""
            },
            "colorscale": [
             [
              0,
              "#0d0887"
             ],
             [
              0.1111111111111111,
              "#46039f"
             ],
             [
              0.2222222222222222,
              "#7201a8"
             ],
             [
              0.3333333333333333,
              "#9c179e"
             ],
             [
              0.4444444444444444,
              "#bd3786"
             ],
             [
              0.5555555555555556,
              "#d8576b"
             ],
             [
              0.6666666666666666,
              "#ed7953"
             ],
             [
              0.7777777777777778,
              "#fb9f3a"
             ],
             [
              0.8888888888888888,
              "#fdca26"
             ],
             [
              1,
              "#f0f921"
             ]
            ],
            "type": "surface"
           }
          ],
          "table": [
           {
            "cells": {
             "fill": {
              "color": "#EBF0F8"
             },
             "line": {
              "color": "white"
             }
            },
            "header": {
             "fill": {
              "color": "#C8D4E3"
             },
             "line": {
              "color": "white"
             }
            },
            "type": "table"
           }
          ]
         },
         "layout": {
          "annotationdefaults": {
           "arrowcolor": "#2a3f5f",
           "arrowhead": 0,
           "arrowwidth": 1
          },
          "autotypenumbers": "strict",
          "coloraxis": {
           "colorbar": {
            "outlinewidth": 0,
            "ticks": ""
           }
          },
          "colorscale": {
           "diverging": [
            [
             0,
             "#8e0152"
            ],
            [
             0.1,
             "#c51b7d"
            ],
            [
             0.2,
             "#de77ae"
            ],
            [
             0.3,
             "#f1b6da"
            ],
            [
             0.4,
             "#fde0ef"
            ],
            [
             0.5,
             "#f7f7f7"
            ],
            [
             0.6,
             "#e6f5d0"
            ],
            [
             0.7,
             "#b8e186"
            ],
            [
             0.8,
             "#7fbc41"
            ],
            [
             0.9,
             "#4d9221"
            ],
            [
             1,
             "#276419"
            ]
           ],
           "sequential": [
            [
             0,
             "#0d0887"
            ],
            [
             0.1111111111111111,
             "#46039f"
            ],
            [
             0.2222222222222222,
             "#7201a8"
            ],
            [
             0.3333333333333333,
             "#9c179e"
            ],
            [
             0.4444444444444444,
             "#bd3786"
            ],
            [
             0.5555555555555556,
             "#d8576b"
            ],
            [
             0.6666666666666666,
             "#ed7953"
            ],
            [
             0.7777777777777778,
             "#fb9f3a"
            ],
            [
             0.8888888888888888,
             "#fdca26"
            ],
            [
             1,
             "#f0f921"
            ]
           ],
           "sequentialminus": [
            [
             0,
             "#0d0887"
            ],
            [
             0.1111111111111111,
             "#46039f"
            ],
            [
             0.2222222222222222,
             "#7201a8"
            ],
            [
             0.3333333333333333,
             "#9c179e"
            ],
            [
             0.4444444444444444,
             "#bd3786"
            ],
            [
             0.5555555555555556,
             "#d8576b"
            ],
            [
             0.6666666666666666,
             "#ed7953"
            ],
            [
             0.7777777777777778,
             "#fb9f3a"
            ],
            [
             0.8888888888888888,
             "#fdca26"
            ],
            [
             1,
             "#f0f921"
            ]
           ]
          },
          "colorway": [
           "#636efa",
           "#EF553B",
           "#00cc96",
           "#ab63fa",
           "#FFA15A",
           "#19d3f3",
           "#FF6692",
           "#B6E880",
           "#FF97FF",
           "#FECB52"
          ],
          "font": {
           "color": "#2a3f5f"
          },
          "geo": {
           "bgcolor": "white",
           "lakecolor": "white",
           "landcolor": "#E5ECF6",
           "showlakes": true,
           "showland": true,
           "subunitcolor": "white"
          },
          "hoverlabel": {
           "align": "left"
          },
          "hovermode": "closest",
          "mapbox": {
           "style": "light"
          },
          "paper_bgcolor": "white",
          "plot_bgcolor": "#E5ECF6",
          "polar": {
           "angularaxis": {
            "gridcolor": "white",
            "linecolor": "white",
            "ticks": ""
           },
           "bgcolor": "#E5ECF6",
           "radialaxis": {
            "gridcolor": "white",
            "linecolor": "white",
            "ticks": ""
           }
          },
          "scene": {
           "xaxis": {
            "backgroundcolor": "#E5ECF6",
            "gridcolor": "white",
            "gridwidth": 2,
            "linecolor": "white",
            "showbackground": true,
            "ticks": "",
            "zerolinecolor": "white"
           },
           "yaxis": {
            "backgroundcolor": "#E5ECF6",
            "gridcolor": "white",
            "gridwidth": 2,
            "linecolor": "white",
            "showbackground": true,
            "ticks": "",
            "zerolinecolor": "white"
           },
           "zaxis": {
            "backgroundcolor": "#E5ECF6",
            "gridcolor": "white",
            "gridwidth": 2,
            "linecolor": "white",
            "showbackground": true,
            "ticks": "",
            "zerolinecolor": "white"
           }
          },
          "shapedefaults": {
           "line": {
            "color": "#2a3f5f"
           }
          },
          "ternary": {
           "aaxis": {
            "gridcolor": "white",
            "linecolor": "white",
            "ticks": ""
           },
           "baxis": {
            "gridcolor": "white",
            "linecolor": "white",
            "ticks": ""
           },
           "bgcolor": "#E5ECF6",
           "caxis": {
            "gridcolor": "white",
            "linecolor": "white",
            "ticks": ""
           }
          },
          "title": {
           "x": 0.05
          },
          "xaxis": {
           "automargin": true,
           "gridcolor": "white",
           "linecolor": "white",
           "ticks": "",
           "title": {
            "standoff": 15
           },
           "zerolinecolor": "white",
           "zerolinewidth": 2
          },
          "yaxis": {
           "automargin": true,
           "gridcolor": "white",
           "linecolor": "white",
           "ticks": "",
           "title": {
            "standoff": 15
           },
           "zerolinecolor": "white",
           "zerolinewidth": 2
          }
         }
        },
        "title": {
         "text": "Yearly Sanctioned Amounts by Entity"
        },
        "width": 800,
        "xaxis": {
         "anchor": "y",
         "domain": [
          0,
          1
         ],
         "title": {
          "text": "Year of Sanction"
         }
        },
        "yaxis": {
         "anchor": "x",
         "domain": [
          0,
          1
         ],
         "title": {
          "text": "Sanctioned Amount (€)"
         }
        },
        "yaxis2": {
         "overlaying": "y",
         "side": "right",
         "title": {
          "text": "Sanction Count"
         }
        }
       }
      }
     },
     "metadata": {},
     "output_type": "display_data"
    }
   ],
   "source": [
    "import plotly.express as px\n",
    "from natsort import natsorted  # Import natural sorting function\n",
    "\n",
    "def truncate_legend(label):\n",
    "    max_length = 20\n",
    "    return label[:max_length] + '...' if len(label) > max_length else label\n",
    "\n",
    "# Convert 'Date_of_Sanction' column to datetime\n",
    "df_result['Date_of_Sanction'] = pd.to_datetime(df_result['Date_of_Sanction'])\n",
    "\n",
    "# Extract year from 'Date_of_Sanction' column\n",
    "df_result['Year'] = df_result['Date_of_Sanction'].dt.strftime('%Y')\n",
    "\n",
    "# Group by year and entity, summing the sanctioned amounts\n",
    "df_yearly = df_result.groupby(['Year', 'Sanctioned_Entity'])['Sanctioned_Amount'].sum().reset_index()\n",
    "\n",
    "# Convert 'Year' column to integers\n",
    "df_yearly['Year'] = df_yearly['Year'].astype(int)\n",
    "\n",
    "# Sort the DataFrame by the 'Year' column\n",
    "df_yearly = df_yearly.sort_values(by='Year')\n",
    "\n",
    "# Group by year and count the number of sanctions\n",
    "sanction_count = df_result.groupby('Year').size().reset_index(name='Sanction_Count')\n",
    "\n",
    "# Plot the stacked bar chart\n",
    "fig = px.bar(df_yearly, x='Year', y='Sanctioned_Amount', color='Sanctioned_Entity',\n",
    "             title=\"Yearly Sanctioned Amounts by Entity\",\n",
    "             labels={\"Year\": \"Year of Sanction\", \"Sanctioned_Amount\": \"Sanctioned Amount (€)\"})\n",
    "\n",
    "# Add line chart for yearly count\n",
    "fig.add_scatter(x=sanction_count['Year'], y=sanction_count['Sanction_Count'], \n",
    "                mode='lines', name='Sanction Count', yaxis='y2')  # Specify y2 for secondary y-axis\n",
    "\n",
    "fig.update_layout(\n",
    "    width=800,  # Set a fixed width of 400 pixels\n",
    "    height=500,  # Set a fixed height\n",
    "    yaxis2=dict(\n",
    "        title='Sanction Count',  # Label for secondary y-axis\n",
    "        overlaying='y',  # Overlay the secondary y-axis on the primary one\n",
    "        side='right'  # Position the secondary y-axis on the right side\n",
    "    )\n",
    ")\n",
    "\n",
    "# Truncate legend labels\n",
    "fig.for_each_trace(lambda trace: trace.update(name=truncate_legend(trace.name)))\n",
    "\n",
    "fig.show()\n"
   ]
  },
  {
   "cell_type": "markdown",
   "metadata": {},
   "source": [
    "# option of text searching"
   ]
  },
  {
   "cell_type": "code",
   "execution_count": 1,
   "metadata": {},
   "outputs": [
    {
     "data": {
      "text/plain": [
       "(                                            PDF_Link  \\\n",
       " 0  https://www.bancaditalia.it/compiti/vigilanza/...   \n",
       " 1  https://www.bancaditalia.it/compiti/vigilanza/...   \n",
       " 2  https://www.bancaditalia.it/compiti/vigilanza/...   \n",
       " 3  https://www.bancaditalia.it/compiti/vigilanza/...   \n",
       " 4  https://www.bancaditalia.it/compiti/vigilanza/...   \n",
       " \n",
       "                                         Text_Content  \n",
       " 0                                                ...  \n",
       " 1                                                ...  \n",
       " 2                                                ...  \n",
       " 3                                                ...  \n",
       " 4                                                ...  ,\n",
       " Index(['PDF_Link', 'Text_Content'], dtype='object'))"
      ]
     },
     "execution_count": 1,
     "metadata": {},
     "output_type": "execute_result"
    }
   ],
   "source": [
    "import pandas as pd\n",
    "\n",
    "# Load the CSV file to examine its contents\n",
    "data = pd.read_csv('pdf_text_content.csv')\n",
    "\n",
    "# Display the first few rows of the dataframe and the column names to understand its structure\n",
    "data.head(), data.columns\n"
   ]
  },
  {
   "cell_type": "code",
   "execution_count": 3,
   "metadata": {},
   "outputs": [],
   "source": [
    "import re\n"
   ]
  },
  {
   "cell_type": "code",
   "execution_count": 10,
   "metadata": {},
   "outputs": [
    {
     "data": {
      "text/plain": [
       "(    Sanctioned Entity  Sanction Amount  \\\n",
       " 0  GENERALFINANCE SPA              3.0   \n",
       " 1  GENERALFINANCE SPA          30000.0   \n",
       " 2   SOLUTION BANK SPA              3.0   \n",
       " 3                None             14.0   \n",
       " 4                None          75000.0   \n",
       " \n",
       "                                      Sanction Reason Sanction Date  \n",
       " 0  : \\n- carenze in materia di adeguata verifica,...    2019-03-26  \n",
       " 1  : \\n- omesse/errate segnalazioni all’Organismo...    2024-02-06  \n",
       " 2                                               None    2019-03-26  \n",
       " 3  : \\n- carenze nell’organizzazione e nei contro...    2024-03-01  \n",
       " 4                                               None    2024-01-09  ,\n",
       " Sanctioned Entity    75\n",
       " Sanction Amount      21\n",
       " Sanction Reason      95\n",
       " Sanction Date         5\n",
       " dtype: int64,\n",
       " 'Sanction_Details_with_Date.csv')"
      ]
     },
     "execution_count": 10,
     "metadata": {},
     "output_type": "execute_result"
    }
   ],
   "source": [
    "import datetime\n",
    "\n",
    "# Function to normalize date format to YYYY-MM-DD\n",
    "def normalize_date(date_str):\n",
    "    for fmt in (\"%d.%m.%Y\", \"%d/%m/%Y\", \"%d-%m-%Y\"):\n",
    "        try:\n",
    "            return datetime.datetime.strptime(date_str, fmt).strftime(\"%Y-%m-%d\")\n",
    "        except ValueError:\n",
    "            continue\n",
    "    return None  # Return None if no format matches\n",
    "\n",
    "# Revised function to handle amount conversion and ensure proper date formatting\n",
    "def extract_sanction_details_revised(text):\n",
    "    # Regex pattern to extract the sanctioned entity, sanction amount, and sanction date\n",
    "    entity_pattern = re.compile(r\"(\\b[A-Z\\s]+ SPA\\b)\")\n",
    "    amount_pattern = re.compile(r\"€\\s?([\\d.,]+)\")\n",
    "    reason_pattern = re.compile(r\"irregolarità(?:\\sdi\\sseguito\\sindicate|:\\s|sopra\\sindicate)(?:\\sdi\\sseguito\\sindicate|:\\s|sopra\\sindicate)?\\s([^–]+)\")\n",
    "    date_pattern = re.compile(r\"(\\b\\d{1,2}[./-]\\d{1,2}[./-]\\d{2,4}\\b)\")\n",
    "\n",
    "    # Extracting data using regex\n",
    "    entity = re.search(entity_pattern, text)\n",
    "    amount = re.search(amount_pattern, text)\n",
    "    reason = re.search(reason_pattern, text)\n",
    "    date = re.search(date_pattern, text)\n",
    "\n",
    "    # Extract entity, amount, reason, and date if available\n",
    "    entity = entity.group(1).strip() if entity else None\n",
    "    amount = amount.group(1).replace(' ', '').replace(',', '.') if amount else None\n",
    "    amount = float(amount.replace('.', '', amount.count('.') - 1).strip('.')) if amount else None  # Remove thousands separator, keep decimal\n",
    "    reason = reason.group(1).strip() if reason else None\n",
    "    date = normalize_date(date.group(1).strip()) if date else None\n",
    "\n",
    "    return entity, amount, reason, date\n",
    "\n",
    "# Apply the revised extraction function to the dataframe\n",
    "extracted_data_revised = data['Text_Content'].apply(lambda x: extract_sanction_details_revised(x))\n",
    "\n",
    "# Create a new dataframe with the extracted information\n",
    "sanction_details_df_revised = pd.DataFrame(extracted_data_revised.tolist(), columns=['Sanctioned Entity', 'Sanction Amount', 'Sanction Reason', 'Sanction Date'])\n",
    "\n",
    "# Save the new dataframe to a CSV file\n",
    "output_file_path_revised = 'Sanction_Details_with_Date.csv'\n",
    "sanction_details_df_revised.to_csv(output_file_path_revised, index=False)\n",
    "\n",
    "sanction_details_df_revised.head(), sanction_details_df_revised.isnull().sum(), output_file_path_revised\n"
   ]
  }
 ],
 "metadata": {
  "kernelspec": {
   "display_name": "tg",
   "language": "python",
   "name": "python3"
  },
  "language_info": {
   "codemirror_mode": {
    "name": "ipython",
    "version": 3
   },
   "file_extension": ".py",
   "mimetype": "text/x-python",
   "name": "python",
   "nbconvert_exporter": "python",
   "pygments_lexer": "ipython3",
   "version": "3.12.3"
  }
 },
 "nbformat": 4,
 "nbformat_minor": 2
}
