{
 "cells": [
  {
   "cell_type": "markdown",
   "metadata": {},
   "source": [
    "# save pdf to csv success"
   ]
  },
  {
   "cell_type": "code",
   "execution_count": 30,
   "metadata": {},
   "outputs": [],
   "source": [
    "import requests\n",
    "from bs4 import BeautifulSoup\n",
    "import PyPDF2\n",
    "import pandas as pd\n",
    "from urllib.parse import urljoin\n",
    "\n",
    "# Base URL of the webpage with PDF links\n",
    "base_url = \"https://www.bancaditalia.it/compiti/vigilanza/provvedimenti-sanzionatori/index.html?page=\"\n",
    "\n",
    "# Initialize an empty list to store all PDF links\n",
    "all_pdf_links = []\n",
    "\n",
    "# Loop through all pages\n",
    "for page_num in range(1, 19):  # Assuming there are 18 pages(be 19 for next try)\n",
    "    # Construct the URL for the current page\n",
    "    page_url = base_url + str(page_num)\n",
    "\n",
    "    # Send a GET request to the webpage\n",
    "    response = requests.get(page_url)\n",
    "\n",
    "    # Parse the HTML content using BeautifulSoup\n",
    "    soup = BeautifulSoup(response.content, 'html.parser')\n",
    "\n",
    "    # Find all PDF links on the current page\n",
    "    for link in soup.find_all('a', href=True):\n",
    "        pdf_link = link['href']\n",
    "        if pdf_link.startswith('/compiti/vigilanza/provvedimenti-sanzionatori/documenti/'):\n",
    "            # Join the relative URL with the base URL\n",
    "            pdf_link = urljoin('https://www.bancaditalia.it', pdf_link)\n",
    "            all_pdf_links.append(pdf_link)\n",
    "\n",
    "# Create a Pandas DataFrame to store the extracted text content\n",
    "df = pd.DataFrame(columns=['PDF_Link', 'Text_Content'])\n",
    "\n",
    "# Loop through each PDF link and extract text content\n",
    "for pdf_link in all_pdf_links:\n",
    "    # Send a GET request to the PDF link\n",
    "    pdf_response = requests.get(pdf_link, stream=True)\n",
    "\n",
    "    # Open the PDF file in binary mode\n",
    "    with open('temp.pdf', 'wb') as f:\n",
    "        f.write(pdf_response.content)\n",
    "\n",
    "    # Read the PDF file using PyPDF2\n",
    "    with open('temp.pdf', 'rb') as f:\n",
    "        pdf = PyPDF2.PdfReader(f)\n",
    "        text_content = ''\n",
    "        for page in pdf.pages:\n",
    "            text_content += page.extract_text()\n",
    "\n",
    "    # Add the extracted text content to the DataFrame\n",
    "    new_row = {'PDF_Link': pdf_link, 'Text_Content': text_content}\n",
    "    df.loc[len(df)] = new_row\n",
    "\n",
    "    # Remove the temporary PDF file\n",
    "    import os\n",
    "    os.remove('temp.pdf')\n",
    "\n",
    "# Save the DataFrame to a CSV file with utf-8 encoding\n",
    "df.to_csv('pdf_text_content.csv', index=False, encoding='utf-8-sig')\n",
    "\n",
    "# df.to_json('pdf_text_content.json', orient='records', lines=True, force_ascii=False)\n"
   ]
  },
  {
   "cell_type": "markdown",
   "metadata": {},
   "source": [
    "# local llmFull code without date"
   ]
  },
  {
   "cell_type": "code",
   "execution_count": 18,
   "metadata": {},
   "outputs": [
    {
     "name": "stdout",
     "output_type": "stream",
     "text": [
      "                                            PDF_Link  \\\n",
      "0  https://www.bancaditalia.it/compiti/vigilanza/...   \n",
      "1  https://www.bancaditalia.it/compiti/vigilanza/...   \n",
      "2  https://www.bancaditalia.it/compiti/vigilanza/...   \n",
      "3  https://www.bancaditalia.it/compiti/vigilanza/...   \n",
      "4  https://www.bancaditalia.it/compiti/vigilanza/...   \n",
      "5  https://www.bancaditalia.it/compiti/vigilanza/...   \n",
      "6  https://www.bancaditalia.it/compiti/vigilanza/...   \n",
      "7  https://www.bancaditalia.it/compiti/vigilanza/...   \n",
      "8  https://www.bancaditalia.it/compiti/vigilanza/...   \n",
      "9  https://www.bancaditalia.it/compiti/vigilanza/...   \n",
      "\n",
      "                                        Text_Content  \\\n",
      "0                                                ...   \n",
      "1                                                ...   \n",
      "2                                                ...   \n",
      "3                                                ...   \n",
      "4                                                ...   \n",
      "5                                                ...   \n",
      "6                                                ...   \n",
      "7                                                ...   \n",
      "8                                                ...   \n",
      "9                                                ...   \n",
      "\n",
      "                                       Sanction_Info  \n",
      "0  [Generalfinance Spa, € 30,000, Irregularities ...  \n",
      "1  [Generalfinance Spa, €30,000, Irregularities i...  \n",
      "2  [Solution Bank Spa, €35,000, Irregularities in...  \n",
      "3                                                 []  \n",
      "4  [Banca Popolare del Mediterraneo Scpa, € 75,00...  \n",
      "5  [Prelios Credit Servicing Spa, €30,000, Irregu...  \n",
      "6                                                 []  \n",
      "7                                                 []  \n",
      "8                                                 []  \n",
      "9  [FRAMONT & PARTNERS MANAGEMENT LIMITED (Succur...  \n"
     ]
    }
   ],
   "source": [
    "import pandas as pd\n",
    "import requests\n",
    "\n",
    "# Set the LM Studio server URL and port\n",
    "lmstudio_url = \"http://localhost:1234/v1\"\n",
    "\n",
    "# Define a function to send a request to the LM Studio server with token limit\n",
    "def extract_sanction_info(text):\n",
    "    max_tokens = 200  # Appropriate token limit based on previous tests\n",
    "    sanction_info = []\n",
    "\n",
    "    url = f\"{lmstudio_url}/chat/completions\"\n",
    "    prompt = f\"Please provide a concise, structured format: Sanctioned entity, amount, and reason based on the following text: \\n\\n{text}\"\n",
    "    payload = {\n",
    "        \"model\": \"lmstudio-community/Meta-Llama-3-8B-Instruct-GGUF\",\n",
    "        \"messages\": [{\"role\": \"user\", \"content\": prompt}],\n",
    "        \"temperature\": 0,\n",
    "        \"max_tokens\": max_tokens\n",
    "    }\n",
    "\n",
    "    try:\n",
    "        response = requests.post(url, json=payload, headers={\"Authorization\": \"Bearer lm-studio\"})\n",
    "        response_json = response.json()\n",
    "    except requests.RequestException as e:\n",
    "        print(\"Request failed:\", e)\n",
    "        return sanction_info  # Return empty list if there is a request issue\n",
    "\n",
    "    if \"choices\" in response_json and len(response_json[\"choices\"]) > 0:\n",
    "        completion_text = response_json[\"choices\"][0][\"message\"][\"content\"]\n",
    "        for line in completion_text.splitlines():\n",
    "            line = line.strip()\n",
    "            if line.startswith(\"* Sanctioned Entity:\"):\n",
    "                sanction_info.append(line.split(\":\")[1].strip())\n",
    "            elif line.startswith(\"* Amount:\"):\n",
    "                sanction_info.append(line.split(\":\")[1].strip())\n",
    "            elif line.startswith(\"* Reason:\"):\n",
    "                reason = line.split(\":\")[1].strip()\n",
    "                sanction_info.append(reason)\n",
    "\n",
    "    return sanction_info\n",
    "\n",
    "# Load the CSV file\n",
    "df = pd.read_csv('pdf_text_content.csv')\n",
    "\n",
    "# Apply the extraction function to each row in the DataFrame\n",
    "# Assuming the relevant text is in the second column of the DataFrame\n",
    "df['Sanction_Info'] = df.iloc[:, 1].apply(extract_sanction_info)\n",
    "\n",
    "# Print the resulting DataFrame with extracted information\n",
    "print(df)\n"
   ]
  },
  {
   "cell_type": "markdown",
   "metadata": {},
   "source": [
    "make last column in separate columns"
   ]
  },
  {
   "cell_type": "code",
   "execution_count": 29,
   "metadata": {},
   "outputs": [
    {
     "name": "stdout",
     "output_type": "stream",
     "text": [
      "                                            PDF_Link  \\\n",
      "0  https://www.bancaditalia.it/compiti/vigilanza/...   \n",
      "1  https://www.bancaditalia.it/compiti/vigilanza/...   \n",
      "2  https://www.bancaditalia.it/compiti/vigilanza/...   \n",
      "3  https://www.bancaditalia.it/compiti/vigilanza/...   \n",
      "4  https://www.bancaditalia.it/compiti/vigilanza/...   \n",
      "5  https://www.bancaditalia.it/compiti/vigilanza/...   \n",
      "6  https://www.bancaditalia.it/compiti/vigilanza/...   \n",
      "7  https://www.bancaditalia.it/compiti/vigilanza/...   \n",
      "8  https://www.bancaditalia.it/compiti/vigilanza/...   \n",
      "9  https://www.bancaditalia.it/compiti/vigilanza/...   \n",
      "\n",
      "                                        Text_Content  \\\n",
      "0                                                ...   \n",
      "1                                                ...   \n",
      "2                                                ...   \n",
      "3                                                ...   \n",
      "4                                                ...   \n",
      "5                                                ...   \n",
      "6                                                ...   \n",
      "7                                                ...   \n",
      "8                                                ...   \n",
      "9                                                ...   \n",
      "\n",
      "                                   Sanctioned_Entity  Sanctioned_Amount  \\\n",
      "0                                 Generalfinance Spa            30000.0   \n",
      "1                                 Generalfinance Spa            30000.0   \n",
      "2                                                                   0.0   \n",
      "3               Banca Popolare del Mediterraneo Scpa            75000.0   \n",
      "4                                  Solution Bank Spa            35000.0   \n",
      "5                       Prelios Credit Servicing Spa            30000.0   \n",
      "6                                                                   0.0   \n",
      "7                                                                   0.0   \n",
      "8                                                                   0.0   \n",
      "9  FRAMONT & PARTNERS MANAGEMENT LIMITED (Succurs...            30000.0   \n",
      "\n",
      "                                     Sanction_Reason  \n",
      "0  Irregularities in verifying, profiling, and ac...  \n",
      "1  Irregularities in reporting to the Organismo d...  \n",
      "2                                                     \n",
      "3                 Irregularities in organization and  \n",
      "4  Irregolarities in profiling, adequate verifica...  \n",
      "5  Irregularities in organization and internal co...  \n",
      "6                                                     \n",
      "7                                                     \n",
      "8                                                     \n",
      "9  Irregolarities in assetti organizzativi e cont...  \n"
     ]
    }
   ],
   "source": [
    "import pandas as pd\n",
    "import requests\n",
    "from concurrent.futures import ThreadPoolExecutor, as_completed\n",
    "\n",
    "lmstudio_url = \"http://localhost:1234/v1\"\n",
    "\n",
    "def extract_sanction_info(text):\n",
    "    max_tokens = 200\n",
    "    url = f\"{lmstudio_url}/chat/completions\"\n",
    "    prompt = f\"Please provide a concise, structured format: Sanctioned entity, amount, and reason based on the following text: \\n\\n{text}\"\n",
    "    payload = {\n",
    "        \"model\": \"lmstudio-community/Meta-Llama-3-8B-Instruct-GGUF\",\n",
    "        \"messages\": [{\"role\": \"user\", \"content\": prompt}],\n",
    "        \"temperature\": 0,\n",
    "        \"max_tokens\": max_tokens\n",
    "    }\n",
    "    try:\n",
    "        response = requests.post(url, json=payload, headers={\"Authorization\": \"Bearer lm-studio\"})\n",
    "        response_json = response.json()\n",
    "        return response_json\n",
    "    except requests.RequestException as e:\n",
    "        print(f\"Request failed for {text[:30]}...: {str(e)}\")\n",
    "        return None\n",
    "\n",
    "def process_text_data(text_data):\n",
    "    entity = \"\"\n",
    "    amount = 0\n",
    "    reason = \"\"\n",
    "    if text_data:\n",
    "        for choice in text_data.get(\"choices\", []):\n",
    "            completion_text = choice[\"message\"][\"content\"]\n",
    "            for line in completion_text.splitlines():\n",
    "                line = line.strip()\n",
    "                if line.startswith(\"* Sanctioned Entity:\"):\n",
    "                    entity = line.split(\":\")[1].strip()\n",
    "                elif line.startswith(\"* Amount:\"):\n",
    "                    # Remove currency symbols and convert to float\n",
    "                    amount_str = line.split(\":\")[1].strip()\n",
    "                    amount = float(amount_str.replace('€', '').replace(',', '').strip())\n",
    "                elif line.startswith(\"* Reason:\"):\n",
    "                    reason = line.split(\":\")[1].strip()\n",
    "    return entity, amount, reason\n",
    "\n",
    "df = pd.read_csv('pdf_text_content.csv')\n",
    "texts = df.iloc[:, 1].tolist()\n",
    "\n",
    "results = []\n",
    "\n",
    "with ThreadPoolExecutor(max_workers=5) as executor:\n",
    "    futures = {executor.submit(extract_sanction_info, text): text for text in texts}\n",
    "    for future in as_completed(futures):\n",
    "        response_data = future.result()\n",
    "        entity, amount, reason = process_text_data(response_data)\n",
    "        results.append((entity, amount, reason))\n",
    "\n",
    "# Assuming results is a list of tuples (entity, amount, reason)\n",
    "df_result = pd.DataFrame(results, columns=['Sanctioned_Entity', 'Sanctioned_Amount', 'Sanction_Reason'])\n",
    "# Combine the original DataFrame with the results\n",
    "df_final = pd.concat([df, df_result], axis=1)\n",
    "\n",
    "print(df_final)\n"
   ]
  },
  {
   "cell_type": "markdown",
   "metadata": {},
   "source": [
    "# local llmFull code with date(to retry)"
   ]
  },
  {
   "cell_type": "code",
   "execution_count": 18,
   "metadata": {},
   "outputs": [
    {
     "name": "stdout",
     "output_type": "stream",
     "text": [
      "Response Data: {'id': 'chatcmpl-g8g4fk46cf7v87bcd7kk9j', 'object': 'chat.completion', 'created': 1714064651, 'model': 'TheBloke/Mistral-7B-Instruct-v0.2-GGUF/mistral-7b-instruct-v0.2.Q2_K.gguf', 'choices': [{'index': 0, 'message': {'role': 'assistant', 'content': ' Date of Sanction: 6.2.2024\\nSanctioned Entity: Generalfinance SpA\\nAmount: €30,000\\nReason of Sanction: Violations of anti-money laundering and counter-terrorist financing regulations\\nCategory of Reason: Anti-Money Laundering/Counter-Terrorist Financing (AML/CTF)'}, 'finish_reason': 'stop'}], 'usage': {'prompt_tokens': 88, 'completion_tokens': 88, 'total_tokens': 176}}\n",
      "Completion Text:  Date of Sanction: 6.2.2024\n",
      "Sanctioned Entity: Generalfinance SpA\n",
      "Amount: €30,000\n",
      "Reason of Sanction: Violations of anti-money laundering and counter-terrorist financing regulations\n",
      "Category of Reason: Anti-Money Laundering/Counter-Terrorist Financing (AML/CTF)\n",
      "Parsed Date of Sanction: 2024-02-06 00:00:00\n",
      "Parsed Sanctioned Entity: Generalfinance SpA\n",
      "Original Amount String: €30,000\n",
      "Aggregated Amount: 30000\n",
      "Parsed Reason of Sanction: Violations of anti-money laundering and counter-terrorist financing regulations\n",
      "Parsed Category of Reason: Anti-Money Laundering/Counter-Terrorist Financing (AML/CTF)\n",
      "Processed Result: ('Generalfinance SpA', 30000, 'Violations of anti-money laundering and counter-terrorist financing regulations', datetime.datetime(2024, 2, 6, 0, 0), 'Anti-Money Laundering/Counter-Terrorist Financing (AML/CTF)')\n",
      "Response Data: {'id': 'chatcmpl-nxvzni26fsgbz8v5zdwuo', 'object': 'chat.completion', 'created': 1714064651, 'model': 'TheBloke/Mistral-7B-Instruct-v0.2-GGUF/mistral-7b-instruct-v0.2.Q2_K.gguf', 'choices': [{'index': 0, 'message': {'role': 'assistant', 'content': ' Date of Sanction: 6.2.2024\\nSanctioned Entity: Generalfinance SpA\\nAmount: €30,000\\nReason of Sanction: Failure to make required reports to the regulatory authority\\nCategory of Reason: Reporting Violations'}, 'finish_reason': 'stop'}], 'usage': {'prompt_tokens': 63, 'completion_tokens': 63, 'total_tokens': 126}}\n",
      "Completion Text:  Date of Sanction: 6.2.2024\n",
      "Sanctioned Entity: Generalfinance SpA\n",
      "Amount: €30,000\n",
      "Reason of Sanction: Failure to make required reports to the regulatory authority\n",
      "Category of Reason: Reporting Violations\n",
      "Parsed Date of Sanction: 2024-02-06 00:00:00\n",
      "Parsed Sanctioned Entity: Generalfinance SpA\n",
      "Original Amount String: €30,000\n",
      "Aggregated Amount: 30000\n",
      "Parsed Reason of Sanction: Failure to make required reports to the regulatory authority\n",
      "Parsed Category of Reason: Reporting Violations\n",
      "Processed Result: ('Generalfinance SpA', 30000, 'Failure to make required reports to the regulatory authority', datetime.datetime(2024, 2, 6, 0, 0), 'Reporting Violations')\n",
      "Response Data: {'id': 'chatcmpl-j9mcr4iptufr8x7w1q25xa', 'object': 'chat.completion', 'created': 1714064651, 'model': 'TheBloke/Mistral-7B-Instruct-v0.2-GGUF/mistral-7b-instruct-v0.2.Q2_K.gguf', 'choices': [{'index': 0, 'message': {'role': 'assistant', 'content': ' Date of Sanction: 23.1.2024\\nSanctioned Entity: Solution Bank SpA\\nAmount: €35,000\\nReason of Sanction: Violation of anti-money laundering and counter-terrorist financing regulations\\nCategory of Reason: Anti-Money Laundering/Counter-Terrorist Financing (AML/CTF)'}, 'finish_reason': 'stop'}], 'usage': {'prompt_tokens': 86, 'completion_tokens': 86, 'total_tokens': 172}}\n",
      "Completion Text:  Date of Sanction: 23.1.2024\n",
      "Sanctioned Entity: Solution Bank SpA\n",
      "Amount: €35,000\n",
      "Reason of Sanction: Violation of anti-money laundering and counter-terrorist financing regulations\n",
      "Category of Reason: Anti-Money Laundering/Counter-Terrorist Financing (AML/CTF)\n",
      "Parsed Date of Sanction: 2024-01-23 00:00:00\n",
      "Parsed Sanctioned Entity: Solution Bank SpA\n",
      "Original Amount String: €35,000\n",
      "Aggregated Amount: 35000\n",
      "Parsed Reason of Sanction: Violation of anti-money laundering and counter-terrorist financing regulations\n",
      "Parsed Category of Reason: Anti-Money Laundering/Counter-Terrorist Financing (AML/CTF)\n",
      "Processed Result: ('Solution Bank SpA', 35000, 'Violation of anti-money laundering and counter-terrorist financing regulations', datetime.datetime(2024, 1, 23, 0, 0), 'Anti-Money Laundering/Counter-Terrorist Financing (AML/CTF)')\n",
      "Response Data: {'id': 'chatcmpl-a8vyew3pnda3nmmx4y8kyz', 'object': 'chat.completion', 'created': 1714064651, 'model': 'TheBloke/Mistral-7B-Instruct-v0.2-GGUF/mistral-7b-instruct-v0.2.Q2_K.gguf', 'choices': [{'index': 0, 'message': {'role': 'assistant', 'content': ' Date of Sanction: 9.1.2024\\nSanctioned Entity: Banca Popolare del Mediterraneano SCPA\\nAmount: Various fines for individuals (€14,000 to €8,000 each) and the bank itself (not specified)\\nReason of Sanction: Violations of organizational and internal control requirements as per Italian banking legislation.\\nCategory of Reason: Organizational Controls/'}, 'finish_reason': 'stop'}], 'usage': {'prompt_tokens': 99, 'completion_tokens': 99, 'total_tokens': 198}}\n",
      "Completion Text:  Date of Sanction: 9.1.2024\n",
      "Sanctioned Entity: Banca Popolare del Mediterraneano SCPA\n",
      "Amount: Various fines for individuals (€14,000 to €8,000 each) and the bank itself (not specified)\n",
      "Reason of Sanction: Violations of organizational and internal control requirements as per Italian banking legislation.\n",
      "Category of Reason: Organizational Controls/\n",
      "Parsed Date of Sanction: 2024-01-09 00:00:00\n",
      "Parsed Sanctioned Entity: Banca Popolare del Mediterraneano SCPA\n",
      "Original Amount String: Various fines for individuals (€14,000 to €8,000 each) and the bank itself (not specified)\n",
      "Aggregated Amount: 8014\n",
      "Parsed Reason of Sanction: Violations of organizational and internal control requirements as per Italian banking legislation.\n",
      "Parsed Category of Reason: Organizational Controls/\n",
      "Processed Result: ('Banca Popolare del Mediterraneano SCPA', 8014, 'Violations of organizational and internal control requirements as per Italian banking legislation.', datetime.datetime(2024, 1, 9, 0, 0), 'Organizational Controls/')\n",
      "Response Data: {'id': 'chatcmpl-1gcmzpx8yzz3nxa8us8st7', 'object': 'chat.completion', 'created': 1714064651, 'model': 'TheBloke/Mistral-7B-Instruct-v0.2-GGUF/mistral-7b-instruct-v0.2.Q2_K.gguf', 'choices': [{'index': 0, 'message': {'role': 'assistant', 'content': ' Date of Sanction: 9.1.2024\\nSanctioned Entity: Banca Popolare del Mediterraneo Scpa\\nAmount: €75,000\\nReason of Sanction: Violations of organizational and internal control requirements\\nCategory of Reason: Compliance (Organizational and Internal Controls)'}, 'finish_reason': 'stop'}], 'usage': {'prompt_tokens': 74, 'completion_tokens': 74, 'total_tokens': 148}}\n",
      "Completion Text:  Date of Sanction: 9.1.2024\n",
      "Sanctioned Entity: Banca Popolare del Mediterraneo Scpa\n",
      "Amount: €75,000\n",
      "Reason of Sanction: Violations of organizational and internal control requirements\n",
      "Category of Reason: Compliance (Organizational and Internal Controls)\n",
      "Parsed Date of Sanction: 2024-01-09 00:00:00\n",
      "Parsed Sanctioned Entity: Banca Popolare del Mediterraneo Scpa\n",
      "Original Amount String: €75,000\n",
      "Aggregated Amount: 75000\n",
      "Parsed Reason of Sanction: Violations of organizational and internal control requirements\n",
      "Parsed Category of Reason: Compliance (Organizational and Internal Controls)\n",
      "Processed Result: ('Banca Popolare del Mediterraneo Scpa', 75000, 'Violations of organizational and internal control requirements', datetime.datetime(2024, 1, 9, 0, 0), 'Compliance (Organizational and Internal Controls)')\n",
      "Response Data: {'id': 'chatcmpl-hu8uobbhxplagfraaqk929', 'object': 'chat.completion', 'created': 1714064655, 'model': 'TheBloke/Mistral-7B-Instruct-v0.2-GGUF/mistral-7b-instruct-v0.2.Q2_K.gguf', 'choices': [{'index': 0, 'message': {'role': 'assistant', 'content': ' Date of Sanction: 5.12.2023\\nSanctioned Entity: Prelios Credit Servicing SpA\\nAmount: €30,000\\nReason of Sanction: Violations of organizational and internal control requirements (art. 108, d.lgs. 385/93)\\nCategory of Reason: Organizational and Internal Controls'}, 'finish_reason': 'stop'}], 'usage': {'prompt_tokens': 89, 'completion_tokens': 89, 'total_tokens': 178}}\n",
      "Completion Text:  Date of Sanction: 5.12.2023\n",
      "Sanctioned Entity: Prelios Credit Servicing SpA\n",
      "Amount: €30,000\n",
      "Reason of Sanction: Violations of organizational and internal control requirements (art. 108, d.lgs. 385/93)\n",
      "Category of Reason: Organizational and Internal Controls\n",
      "Parsed Date of Sanction: 2023-12-05 00:00:00\n",
      "Parsed Sanctioned Entity: Prelios Credit Servicing SpA\n",
      "Original Amount String: €30,000\n",
      "Aggregated Amount: 30000\n",
      "Parsed Reason of Sanction: Violations of organizational and internal control requirements (art. 108, d.lgs. 385/93)\n",
      "Parsed Category of Reason: Organizational and Internal Controls\n",
      "Processed Result: ('Prelios Credit Servicing SpA', 30000, 'Violations of organizational and internal control requirements (art. 108, d.lgs. 385/93)', datetime.datetime(2023, 12, 5, 0, 0), 'Organizational and Internal Controls')\n",
      "Response Data: {'id': 'chatcmpl-lty36ex5bojhdw3vb2x4', 'object': 'chat.completion', 'created': 1714064658, 'model': 'TheBloke/Mistral-7B-Instruct-v0.2-GGUF/mistral-7b-instruct-v0.2.Q2_K.gguf', 'choices': [{'index': 0, 'message': {'role': 'assistant', 'content': ' Date of Sanction: 28.11.2023\\nSanctioned Entity: Value Italy SGR SpA\\nAmount: Euros 81,000 (€48,000 for Marco Canale + €28,000 for Folco Goggioli + €22,000 for Claudio Rumazza + €5,000 for Vittorio Emanuele Terzi +'}, 'finish_reason': 'stop'}], 'usage': {'prompt_tokens': 99, 'completion_tokens': 99, 'total_tokens': 198}}\n",
      "Completion Text:  Date of Sanction: 28.11.2023\n",
      "Sanctioned Entity: Value Italy SGR SpA\n",
      "Amount: Euros 81,000 (€48,000 for Marco Canale + €28,000 for Folco Goggioli + €22,000 for Claudio Rumazza + €5,000 for Vittorio Emanuele Terzi +\n",
      "Parsed Date of Sanction: 2023-11-28 00:00:00\n",
      "Parsed Sanctioned Entity: Value Italy SGR SpA\n",
      "Original Amount String: Euros 81,000 (€48,000 for Marco Canale + €28,000 for Folco Goggioli + €22,000 for Claudio Rumazza + €5,000 for Vittorio Emanuele Terzi +\n",
      "Aggregated Amount: 5179\n",
      "Processed Result: ('Value Italy SGR SpA', 5179, '', datetime.datetime(2023, 11, 28, 0, 0), '')\n",
      "Response Data: {'id': 'chatcmpl-11hj7oz3l8o9lix0sgmoe', 'object': 'chat.completion', 'created': 1714064663, 'model': 'TheBloke/Mistral-7B-Instruct-v0.2-GGUF/mistral-7b-instruct-v0.2.Q2_K.gguf', 'choices': [{'index': 0, 'message': {'role': 'assistant', 'content': ' Date of Sanction: 28.11.2023\\nSanctioned Entity: Value Italy SGR Spa\\nAmount: €60,000\\nReason of Sanction: Violation of financial intermediary regulations\\nCategory of Reason: Regulatory compliance'}, 'finish_reason': 'stop'}], 'usage': {'prompt_tokens': 62, 'completion_tokens': 62, 'total_tokens': 124}}\n",
      "Completion Text:  Date of Sanction: 28.11.2023\n",
      "Sanctioned Entity: Value Italy SGR Spa\n",
      "Amount: €60,000\n",
      "Reason of Sanction: Violation of financial intermediary regulations\n",
      "Category of Reason: Regulatory compliance\n",
      "Parsed Date of Sanction: 2023-11-28 00:00:00\n",
      "Parsed Sanctioned Entity: Value Italy SGR Spa\n",
      "Original Amount String: €60,000\n",
      "Aggregated Amount: 60000\n",
      "Parsed Reason of Sanction: Violation of financial intermediary regulations\n",
      "Parsed Category of Reason: Regulatory compliance\n",
      "Processed Result: ('Value Italy SGR Spa', 60000, 'Violation of financial intermediary regulations', datetime.datetime(2023, 11, 28, 0, 0), 'Regulatory compliance')\n",
      "Response Data: {'id': 'chatcmpl-a3yvml08ufrqcsjme0uj0p', 'object': 'chat.completion', 'created': 1714064667, 'model': 'TheBloke/Mistral-7B-Instruct-v0.2-GGUF/mistral-7b-instruct-v0.2.Q2_K.gguf', 'choices': [{'index': 0, 'message': {'role': 'assistant', 'content': ' - Date of Sanction: 7 November 2023\\n- Sanctioned Entity: Framont & Partners Management Limited, Italian subsidiary of\\n- Amount: €23,000\\n- Reason of Sanction: Violation of anti-money laundering regulations and failure to ensure adequate customer verification for anti-money laundering and terrorism financing.\\n- Category of Reason: Anti-Money Laundering/'}, 'finish_reason': 'stop'}], 'usage': {'prompt_tokens': 99, 'completion_tokens': 99, 'total_tokens': 198}}\n",
      "Completion Text:  - Date of Sanction: 7 November 2023\n",
      "- Sanctioned Entity: Framont & Partners Management Limited, Italian subsidiary of\n",
      "- Amount: €23,000\n",
      "- Reason of Sanction: Violation of anti-money laundering regulations and failure to ensure adequate customer verification for anti-money laundering and terrorism financing.\n",
      "- Category of Reason: Anti-Money Laundering/\n",
      "Date parsing error: time data '7 November 2023' does not match format '%d.%m.%Y'\n",
      "Parsed Sanctioned Entity: Framont & Partners Management Limited, Italian subsidiary of\n",
      "Original Amount String: €23,000\n",
      "Aggregated Amount: 23000\n",
      "Parsed Reason of Sanction: Violation of anti-money laundering regulations and failure to ensure adequate customer verification for anti-money laundering and terrorism financing.\n",
      "Parsed Category of Reason: Anti-Money Laundering/\n",
      "Processed Result: ('Framont & Partners Management Limited, Italian subsidiary of', 23000, 'Violation of anti-money laundering regulations and failure to ensure adequate customer verification for anti-money laundering and terrorism financing.', None, 'Anti-Money Laundering/')\n",
      "Response Data: {'id': 'chatcmpl-nhi4d8oe7ucj3iv3f1w0kn', 'object': 'chat.completion', 'created': 1714064671, 'model': 'TheBloke/Mistral-7B-Instruct-v0.2-GGUF/mistral-7b-instruct-v0.2.Q2_K.gguf', 'choices': [{'index': 0, 'message': {'role': 'assistant', 'content': ' Date of Sanction: 7 Nov 2023\\n\\nExtract and\\n\\n1. 2.2.2.2.2.2.2.2.2.2.2.2.2.2.2.2.2.2.2.2.2.2.2.2.2.2.2.2.2.2.2.2.2.2.2.2.2.2.2'}, 'finish_reason': 'stop'}], 'usage': {'prompt_tokens': 99, 'completion_tokens': 99, 'total_tokens': 198}}\n",
      "Completion Text:  Date of Sanction: 7 Nov 2023\n",
      "\n",
      "Extract and\n",
      "\n",
      "1. 2.2.2.2.2.2.2.2.2.2.2.2.2.2.2.2.2.2.2.2.2.2.2.2.2.2.2.2.2.2.2.2.2.2.2.2.2.2.2\n",
      "Date parsing error: time data '7 Nov 2023' does not match format '%d.%m.%Y'\n",
      "Processed Result: ('', 0, '', None, '')\n",
      "Response Data: {'id': 'chatcmpl-vhnc32azvzt8xetacirfp', 'object': 'chat.completion', 'created': 1714064675, 'model': 'TheBloke/Mistral-7B-Instruct-v0.2-GGUF/mistral-7b-instruct-v0.2.Q2_K.gguf', 'choices': [{'index': 0, 'message': {'role': 'assistant', 'content': ' Date of Sanction: 5 December 2023\\nSanctioned Entity: Prelios Credit Servicing SpA\\nAmount: €30,000\\nReason of Sanction: Violations of anti-money laundering and counter-terrorist financing regulations\\nCategory of Reason: Compliance/Regulatory non-compliance.'}, 'finish_reason': 'stop'}], 'usage': {'prompt_tokens': 80, 'completion_tokens': 80, 'total_tokens': 160}}\n",
      "Completion Text:  Date of Sanction: 5 December 2023\n",
      "Sanctioned Entity: Prelios Credit Servicing SpA\n",
      "Amount: €30,000\n",
      "Reason of Sanction: Violations of anti-money laundering and counter-terrorist financing regulations\n",
      "Category of Reason: Compliance/Regulatory non-compliance.\n",
      "Date parsing error: time data '5 December 2023' does not match format '%d.%m.%Y'\n",
      "Parsed Sanctioned Entity: Prelios Credit Servicing SpA\n",
      "Original Amount String: €30,000\n",
      "Aggregated Amount: 30000\n",
      "Parsed Reason of Sanction: Violations of anti-money laundering and counter-terrorist financing regulations\n",
      "Parsed Category of Reason: Compliance/Regulatory non-compliance.\n",
      "Processed Result: ('Prelios Credit Servicing SpA', 30000, 'Violations of anti-money laundering and counter-terrorist financing regulations', None, 'Compliance/Regulatory non-compliance.')\n",
      "Response Data: {'id': 'chatcmpl-6dgsnyogpq88jypqf8bxzy', 'object': 'chat.completion', 'created': 1714064679, 'model': 'TheBloke/Mistral-7B-Instruct-v0.2-GGUF/mistral-7b-instruct-v0.2.Q2_K.gguf', 'choices': [{'index': 0, 'message': {'role': 'assistant', 'content': ' Date of Sanction: 19.9.2023\\nSanctioned Entity: Scania Finance Italy Spa\\nAmount: €50,000\\nReason of Sanction: Violation of anti-money laundering and counter-terrorist financing regulations\\nCategory of Reason: Anti-Money Laundering/Counter-Terrorist Financing (AML/CTF)'}, 'finish_reason': 'stop'}], 'usage': {'prompt_tokens': 88, 'completion_tokens': 88, 'total_tokens': 176}}\n",
      "Completion Text:  Date of Sanction: 19.9.2023\n",
      "Sanctioned Entity: Scania Finance Italy Spa\n",
      "Amount: €50,000\n",
      "Reason of Sanction: Violation of anti-money laundering and counter-terrorist financing regulations\n",
      "Category of Reason: Anti-Money Laundering/Counter-Terrorist Financing (AML/CTF)\n",
      "Parsed Date of Sanction: 2023-09-19 00:00:00\n",
      "Parsed Sanctioned Entity: Scania Finance Italy Spa\n",
      "Original Amount String: €50,000\n",
      "Aggregated Amount: 50000\n",
      "Parsed Reason of Sanction: Violation of anti-money laundering and counter-terrorist financing regulations\n",
      "Parsed Category of Reason: Anti-Money Laundering/Counter-Terrorist Financing (AML/CTF)\n",
      "Processed Result: ('Scania Finance Italy Spa', 50000, 'Violation of anti-money laundering and counter-terrorist financing regulations', datetime.datetime(2023, 9, 19, 0, 0), 'Anti-Money Laundering/Counter-Terrorist Financing (AML/CTF)')\n",
      "Response Data: {'id': 'chatcmpl-zr46eg5v9cfr5edw91vnli', 'object': 'chat.completion', 'created': 1714064682, 'model': 'TheBloke/Mistral-7B-Instruct-v0.2-GGUF/mistral-7b-instruct-v0.2.Q2_K.gguf', 'choices': [{'index': 0, 'message': {'role': 'assistant', 'content': ' Date of Sanction: 5.9.2023\\nSanctioned Entity: IFIR Istituti Finanziari Riuniti SpA\\nAmount: €55,000 (primary sanction) + Interdiction from performing administrative, directorial, and controlling functions at authorized intermediaries for a period of 18 months (secondary sanction)\\nReason of Sanction: Violation of duties related to credit granting and conflict'}, 'finish_reason': 'stop'}], 'usage': {'prompt_tokens': 99, 'completion_tokens': 99, 'total_tokens': 198}}\n",
      "Completion Text:  Date of Sanction: 5.9.2023\n",
      "Sanctioned Entity: IFIR Istituti Finanziari Riuniti SpA\n",
      "Amount: €55,000 (primary sanction) + Interdiction from performing administrative, directorial, and controlling functions at authorized intermediaries for a period of 18 months (secondary sanction)\n",
      "Reason of Sanction: Violation of duties related to credit granting and conflict\n",
      "Parsed Date of Sanction: 2023-09-05 00:00:00\n",
      "Parsed Sanctioned Entity: IFIR Istituti Finanziari Riuniti SpA\n",
      "Original Amount String: €55,000 (primary sanction) + Interdiction from performing administrative, directorial, and controlling functions at authorized intermediaries for a period of 18 months (secondary sanction)\n",
      "Aggregated Amount: 55018\n",
      "Parsed Reason of Sanction: Violation of duties related to credit granting and conflict\n",
      "Processed Result: ('IFIR Istituti Finanziari Riuniti SpA', 55018, 'Violation of duties related to credit granting and conflict', datetime.datetime(2023, 9, 5, 0, 0), '')\n",
      "Response Data: {'id': 'chatcmpl-ufzttt6uf57kb0o7fqr0t', 'object': 'chat.completion', 'created': 1714064686, 'model': 'TheBloke/Mistral-7B-Instruct-v0.2-GGUF/mistral-7b-instruct-v0.2.Q2_K.gguf', 'choices': [{'index': 0, 'message': {'role': 'assistant', 'content': ' Date of Sanction: 5.9.2023\\nSanctioned Entity: IFIR Istituti Finanziari Riuniti SpA\\nAmount: €120,000\\nReason of Sanction: Violation of anti-money laundering and counter-terrorist financing regulations\\nCategory of Reason: Compliance/Regulatory non-compliance (aggregated)\\n\\nExtract and\\n\\n'}, 'finish_reason': 'stop'}], 'usage': {'prompt_tokens': 99, 'completion_tokens': 99, 'total_tokens': 198}}\n",
      "Completion Text:  Date of Sanction: 5.9.2023\n",
      "Sanctioned Entity: IFIR Istituti Finanziari Riuniti SpA\n",
      "Amount: €120,000\n",
      "Reason of Sanction: Violation of anti-money laundering and counter-terrorist financing regulations\n",
      "Category of Reason: Compliance/Regulatory non-compliance (aggregated)\n",
      "\n",
      "Extract and\n",
      "\n",
      "\n",
      "Parsed Date of Sanction: 2023-09-05 00:00:00\n",
      "Parsed Sanctioned Entity: IFIR Istituti Finanziari Riuniti SpA\n",
      "Original Amount String: €120,000\n",
      "Aggregated Amount: 120000\n",
      "Parsed Reason of Sanction: Violation of anti-money laundering and counter-terrorist financing regulations\n",
      "Parsed Category of Reason: Compliance/Regulatory non-compliance (aggregated)\n",
      "Processed Result: ('IFIR Istituti Finanziari Riuniti SpA', 120000, 'Violation of anti-money laundering and counter-terrorist financing regulations', datetime.datetime(2023, 9, 5, 0, 0), 'Compliance/Regulatory non-compliance (aggregated)')\n",
      "Response Data: {'id': 'chatcmpl-2h2klfhjh2hze6pw11zn1', 'object': 'chat.completion', 'created': 1714064691, 'model': 'TheBloke/Mistral-7B-Instruct-v0.2-GGUF/mistral-7b-instruct-v0.2.Q2_K.gguf', 'choices': [{'index': 0, 'message': {'role': 'assistant', 'content': ' Date of Sanction: 5.9.2023\\nSanctioned Entity: IFIR Istituti Finanziari Riuniti SpA\\nAmount: €60,000\\nReason of Sanction: Violations related to organization and control, conflicts of interest in financial intermediary business.\\nCategory of Reason: Regulatory compliance (organizational and conflict of interest violations)'}, 'finish_reason': 'stop'}], 'usage': {'prompt_tokens': 92, 'completion_tokens': 92, 'total_tokens': 184}}\n",
      "Completion Text:  Date of Sanction: 5.9.2023\n",
      "Sanctioned Entity: IFIR Istituti Finanziari Riuniti SpA\n",
      "Amount: €60,000\n",
      "Reason of Sanction: Violations related to organization and control, conflicts of interest in financial intermediary business.\n",
      "Category of Reason: Regulatory compliance (organizational and conflict of interest violations)\n",
      "Parsed Date of Sanction: 2023-09-05 00:00:00\n",
      "Parsed Sanctioned Entity: IFIR Istituti Finanziari Riuniti SpA\n",
      "Original Amount String: €60,000\n",
      "Aggregated Amount: 60000\n",
      "Parsed Reason of Sanction: Violations related to organization and control, conflicts of interest in financial intermediary business.\n",
      "Parsed Category of Reason: Regulatory compliance (organizational and conflict of interest violations)\n",
      "Processed Result: ('IFIR Istituti Finanziari Riuniti SpA', 60000, 'Violations related to organization and control, conflicts of interest in financial intermediary business.', datetime.datetime(2023, 9, 5, 0, 0), 'Regulatory compliance (organizational and conflict of interest violations)')\n",
      "Response Data: {'id': 'chatcmpl-nhc3if6kbtgumk7y67yq1', 'object': 'chat.completion', 'created': 1714064696, 'model': 'TheBloke/Mistral-7B-Instruct-v0.2-GGUF/mistral-7b-instruct-v0.2.Q2_K.gguf', 'choices': [{'index': 0, 'message': {'role': 'assistant', 'content': ' Date of Sanction: 25.7.2023\\nSanctioned Entity: AMCO Spa\\nAmount: €120,000\\nReason of Sanction: Violations in organizational and internal control issues related to credit processes (Art. 108, d.lgs. 385/93)\\nCategory of Reason: Organizational Controls/Compliance.'}, 'finish_reason': 'stop'}], 'usage': {'prompt_tokens': 93, 'completion_tokens': 93, 'total_tokens': 186}}\n",
      "Completion Text:  Date of Sanction: 25.7.2023\n",
      "Sanctioned Entity: AMCO Spa\n",
      "Amount: €120,000\n",
      "Reason of Sanction: Violations in organizational and internal control issues related to credit processes (Art. 108, d.lgs. 385/93)\n",
      "Category of Reason: Organizational Controls/Compliance.\n",
      "Parsed Date of Sanction: 2023-07-25 00:00:00\n",
      "Parsed Sanctioned Entity: AMCO Spa\n",
      "Original Amount String: €120,000\n",
      "Aggregated Amount: 120000\n",
      "Parsed Reason of Sanction: Violations in organizational and internal control issues related to credit processes (Art. 108, d.lgs. 385/93)\n",
      "Parsed Category of Reason: Organizational Controls/Compliance.\n",
      "Processed Result: ('AMCO Spa', 120000, 'Violations in organizational and internal control issues related to credit processes (Art. 108, d.lgs. 385/93)', datetime.datetime(2023, 7, 25, 0, 0), 'Organizational Controls/Compliance.')\n",
      "Response Data: {'id': 'chatcmpl-o7prkr3oz1imtsl0aibenl', 'object': 'chat.completion', 'created': 1714064700, 'model': 'TheBloke/Mistral-7B-Instruct-v0.2-GGUF/mistral-7b-instruct-v0.2.Q2_K.gguf', 'choices': [{'index': 0, 'message': {'role': 'assistant', 'content': ' Date of Sanction: 11.7.2023\\nSanctioned Entity: Intermonte SIM Spa\\nAmount: €30,000\\nReason of Sanction: Violation of organizational and internal control requirements\\nCategory of Reason: Compliance (Organizational and Internal Controls)'}, 'finish_reason': 'stop'}], 'usage': {'prompt_tokens': 71, 'completion_tokens': 71, 'total_tokens': 142}}\n",
      "Completion Text:  Date of Sanction: 11.7.2023\n",
      "Sanctioned Entity: Intermonte SIM Spa\n",
      "Amount: €30,000\n",
      "Reason of Sanction: Violation of organizational and internal control requirements\n",
      "Category of Reason: Compliance (Organizational and Internal Controls)\n",
      "Parsed Date of Sanction: 2023-07-11 00:00:00\n",
      "Parsed Sanctioned Entity: Intermonte SIM Spa\n",
      "Original Amount String: €30,000\n",
      "Aggregated Amount: 30000\n",
      "Parsed Reason of Sanction: Violation of organizational and internal control requirements\n",
      "Parsed Category of Reason: Compliance (Organizational and Internal Controls)\n",
      "Processed Result: ('Intermonte SIM Spa', 30000, 'Violation of organizational and internal control requirements', datetime.datetime(2023, 7, 11, 0, 0), 'Compliance (Organizational and Internal Controls)')\n",
      "Response Data: {'id': 'chatcmpl-j6hwmh5b4jmqt98wpdk3', 'object': 'chat.completion', 'created': 1714064705, 'model': 'TheBloke/Mistral-7B-Instruct-v0.2-GGUF/mistral-7b-instruct-v0.2.Q2_K.gguf', 'choices': [{'index': 0, 'message': {'role': 'assistant', 'content': ' Date of Sanction: 30.5.2023\\nSanctioned Entity: PayTipper Spa\\nAmount: €50,000\\nReason of Sanction: Violations of transparency and correctness in client relations\\nCategory of Reason: Transparency and Correctness (regarding banking and financial services)'}, 'finish_reason': 'stop'}], 'usage': {'prompt_tokens': 74, 'completion_tokens': 74, 'total_tokens': 148}}\n",
      "Completion Text:  Date of Sanction: 30.5.2023\n",
      "Sanctioned Entity: PayTipper Spa\n",
      "Amount: €50,000\n",
      "Reason of Sanction: Violations of transparency and correctness in client relations\n",
      "Category of Reason: Transparency and Correctness (regarding banking and financial services)\n",
      "Parsed Date of Sanction: 2023-05-30 00:00:00\n",
      "Parsed Sanctioned Entity: PayTipper Spa\n",
      "Original Amount String: €50,000\n",
      "Aggregated Amount: 50000\n",
      "Parsed Reason of Sanction: Violations of transparency and correctness in client relations\n",
      "Parsed Category of Reason: Transparency and Correctness (regarding banking and financial services)\n",
      "Processed Result: ('PayTipper Spa', 50000, 'Violations of transparency and correctness in client relations', datetime.datetime(2023, 5, 30, 0, 0), 'Transparency and Correctness (regarding banking and financial services)')\n",
      "Response Data: {'id': 'chatcmpl-3mp40nbqw8te7xd2juz0m', 'object': 'chat.completion', 'created': 1714064709, 'model': 'TheBloke/Mistral-7B-Instruct-v0.2-GGUF/mistral-7b-instruct-v0.2.Q2_K.gguf', 'choices': [{'index': 0, 'message': {'role': 'assistant', 'content': ' Date of Sanction: 23.5.2023\\nSanctioned Entity: Cassa di Risparmio di Volterra SpA\\nAmount: €150,000\\nReason of Sanction: Violations related to risk management and internal controls in the credit process (art. 53, co.1, lett. b and d)\\nCategory of Reason: Risk Management/Internal Controls'}, 'finish_reason': 'stop'}], 'usage': {'prompt_tokens': 94, 'completion_tokens': 94, 'total_tokens': 188}}\n",
      "Completion Text:  Date of Sanction: 23.5.2023\n",
      "Sanctioned Entity: Cassa di Risparmio di Volterra SpA\n",
      "Amount: €150,000\n",
      "Reason of Sanction: Violations related to risk management and internal controls in the credit process (art. 53, co.1, lett. b and d)\n",
      "Category of Reason: Risk Management/Internal Controls\n",
      "Parsed Date of Sanction: 2023-05-23 00:00:00\n",
      "Parsed Sanctioned Entity: Cassa di Risparmio di Volterra SpA\n",
      "Original Amount String: €150,000\n",
      "Aggregated Amount: 150000\n",
      "Parsed Reason of Sanction: Violations related to risk management and internal controls in the credit process (art. 53, co.1, lett. b and d)\n",
      "Parsed Category of Reason: Risk Management/Internal Controls\n",
      "Processed Result: ('Cassa di Risparmio di Volterra SpA', 150000, 'Violations related to risk management and internal controls in the credit process (art. 53, co.1, lett. b and d)', datetime.datetime(2023, 5, 23, 0, 0), 'Risk Management/Internal Controls')\n",
      "Response Data: {'id': 'chatcmpl-9swfafnssdhidsfom1r0c', 'object': 'chat.completion', 'created': 1714064713, 'model': 'TheBloke/Mistral-7B-Instruct-v0.2-GGUF/mistral-7b-instruct-v0.2.Q2_K.gguf', 'choices': [{'index': 0, 'message': {'role': 'assistant', 'content': ' Date of Sanction: 29.3.2023\\nSanctioned Entity: M.C. Family Spa (now M.C. Family Srl)\\nAmount: €10,000 for Elena Pipia (AML function), €7,500 each for Francesco Pane (internal audit) and Francesco Cafagna (compliance)\\nReason of Sanction: Violations of anti-money laund'}, 'finish_reason': 'stop'}], 'usage': {'prompt_tokens': 99, 'completion_tokens': 99, 'total_tokens': 198}}\n",
      "Completion Text:  Date of Sanction: 29.3.2023\n",
      "Sanctioned Entity: M.C. Family Spa (now M.C. Family Srl)\n",
      "Amount: €10,000 for Elena Pipia (AML function), €7,500 each for Francesco Pane (internal audit) and Francesco Cafagna (compliance)\n",
      "Reason of Sanction: Violations of anti-money laund\n",
      "Parsed Date of Sanction: 2023-03-29 00:00:00\n",
      "Parsed Sanctioned Entity: M.C. Family Spa (now M.C. Family Srl)\n",
      "Original Amount String: €10,000 for Elena Pipia (AML function), €7,500 each for Francesco Pane (internal audit) and Francesco Cafagna (compliance)\n",
      "Aggregated Amount: 17500\n",
      "Parsed Reason of Sanction: Violations of anti-money laund\n",
      "Processed Result: ('M.C. Family Spa (now M.C. Family Srl)', 17500, 'Violations of anti-money laund', datetime.datetime(2023, 3, 29, 0, 0), '')\n",
      "Response Data: {'id': 'chatcmpl-tig88d3ctmrf5sh1iwrjlw', 'object': 'chat.completion', 'created': 1714064718, 'model': 'TheBloke/Mistral-7B-Instruct-v0.2-GGUF/mistral-7b-instruct-v0.2.Q2_K.gguf', 'choices': [{'index': 0, 'message': {'role': 'assistant', 'content': ' Date of Sanction: 29.3.2023\\nSanctioned Entity: M.C. Family Spa, now M.C. Family Srl\\n\\nReason (ob):):):):\":\":\":\":\":\":\":\":\":\":\":\";\"\"\":\"\"\"\"\"\"\"\"\"\"\"\"\"\"\"\"\"\"\"\"\"\"\"\"\"\"\"\"\"\"\"\"\"\"\"\"\"\"\"\"\"\"\"\"\"\"\"\"\"\"\"\"\"\"\"\"\"\"\"\"\"\"\"\"\"\"\"\"\"\"\"\"\"\"\"\"\"\"'}, 'finish_reason': 'stop'}], 'usage': {'prompt_tokens': 99, 'completion_tokens': 99, 'total_tokens': 198}}\n",
      "Completion Text:  Date of Sanction: 29.3.2023\n",
      "Sanctioned Entity: M.C. Family Spa, now M.C. Family Srl\n",
      "\n",
      "Reason (ob):):):):\":\":\":\":\":\":\":\":\":\":\":\";\"\"\":\"\"\"\"\"\"\"\"\"\"\"\"\"\"\"\"\"\"\"\"\"\"\"\"\"\"\"\"\"\"\"\"\"\"\"\"\"\"\"\"\"\"\"\"\"\"\"\"\"\"\"\"\"\"\"\"\"\"\"\"\"\"\"\"\"\"\"\"\"\"\"\"\"\"\"\"\"\"\n",
      "Parsed Date of Sanction: 2023-03-29 00:00:00\n",
      "Parsed Sanctioned Entity: M.C. Family Spa, now M.C. Family Srl\n",
      "Processed Result: ('M.C. Family Spa, now M.C. Family Srl', 0, '', datetime.datetime(2023, 3, 29, 0, 0), '')\n",
      "Response Data: {'id': 'chatcmpl-wp6ez98t9u7rda3oprzw', 'object': 'chat.completion', 'created': 1714064721, 'model': 'TheBloke/Mistral-7B-Instruct-v0.2-GGUF/mistral-7b-instruct-v0.2.Q2_K.gguf', 'choices': [{'index': 0, 'message': {'role': 'assistant', 'content': ' Date of Sanction: 29.3.2023\\nSanctioned Entity: M.C. Family Spa, now M.C. Family Srl\\nAmount: €30,000\\nReason of Sanction: Violations related to risk management and internal controls in credit transactions\\nCategory of Reason: Risk Management/Internal Controls (Financial Institutions)'}, 'finish_reason': 'stop'}], 'usage': {'prompt_tokens': 85, 'completion_tokens': 85, 'total_tokens': 170}}\n",
      "Completion Text:  Date of Sanction: 29.3.2023\n",
      "Sanctioned Entity: M.C. Family Spa, now M.C. Family Srl\n",
      "Amount: €30,000\n",
      "Reason of Sanction: Violations related to risk management and internal controls in credit transactions\n",
      "Category of Reason: Risk Management/Internal Controls (Financial Institutions)\n",
      "Parsed Date of Sanction: 2023-03-29 00:00:00\n",
      "Parsed Sanctioned Entity: M.C. Family Spa, now M.C. Family Srl\n",
      "Original Amount String: €30,000\n",
      "Aggregated Amount: 30000\n",
      "Parsed Reason of Sanction: Violations related to risk management and internal controls in credit transactions\n",
      "Parsed Category of Reason: Risk Management/Internal Controls (Financial Institutions)\n",
      "Processed Result: ('M.C. Family Spa, now M.C. Family Srl', 30000, 'Violations related to risk management and internal controls in credit transactions', datetime.datetime(2023, 3, 29, 0, 0), 'Risk Management/Internal Controls (Financial Institutions)')\n",
      "Response Data: {'id': 'chatcmpl-4xh4m9xrhv9pyf1llq5hnh', 'object': 'chat.completion', 'created': 1714064724, 'model': 'TheBloke/Mistral-7B-Instruct-v0.2-GGUF/mistral-7b-instruct-v0.2.Q2_K.gguf', 'choices': [{'index': 0, 'message': {'role': 'assistant', 'content': ' Date of Sanction: 11.4.2023\\nSanctioned Entity: Synergo Capital SGR SpA\\nAmount: €45,000\\nReason of Sanction: Violation of anti-money laundering and terrorist financing regulations\\nCategory of Reason: Anti-Money Laundering/Terrorist Financing'}, 'finish_reason': 'stop'}], 'usage': {'prompt_tokens': 77, 'completion_tokens': 77, 'total_tokens': 154}}\n",
      "Completion Text:  Date of Sanction: 11.4.2023\n",
      "Sanctioned Entity: Synergo Capital SGR SpA\n",
      "Amount: €45,000\n",
      "Reason of Sanction: Violation of anti-money laundering and terrorist financing regulations\n",
      "Category of Reason: Anti-Money Laundering/Terrorist Financing\n",
      "Parsed Date of Sanction: 2023-04-11 00:00:00\n",
      "Parsed Sanctioned Entity: Synergo Capital SGR SpA\n",
      "Original Amount String: €45,000\n",
      "Aggregated Amount: 45000\n",
      "Parsed Reason of Sanction: Violation of anti-money laundering and terrorist financing regulations\n",
      "Parsed Category of Reason: Anti-Money Laundering/Terrorist Financing\n",
      "Processed Result: ('Synergo Capital SGR SpA', 45000, 'Violation of anti-money laundering and terrorist financing regulations', datetime.datetime(2023, 4, 11, 0, 0), 'Anti-Money Laundering/Terrorist Financing')\n",
      "Response Data: {'id': 'chatcmpl-w2ogbrxetai9s0eyqfzj49', 'object': 'chat.completion', 'created': 1714064729, 'model': 'TheBloke/Mistral-7B-Instruct-v0.2-GGUF/mistral-7b-instruct-v0.2.Q2_K.gguf', 'choices': [{'index': 0, 'message': {'role': 'assistant', 'content': ' Date of Sanction: 11.4.2023\\nSanctioned Entity: Synergo Capital SGR SpA\\nAmount: €75,000\\nReason of Sanction: Violation of financial intermediary regulations and risk management duties.\\nCategory of Reason: Regulatory compliance / Risk management'}, 'finish_reason': 'stop'}], 'usage': {'prompt_tokens': 72, 'completion_tokens': 72, 'total_tokens': 144}}\n",
      "Completion Text:  Date of Sanction: 11.4.2023\n",
      "Sanctioned Entity: Synergo Capital SGR SpA\n",
      "Amount: €75,000\n",
      "Reason of Sanction: Violation of financial intermediary regulations and risk management duties.\n",
      "Category of Reason: Regulatory compliance / Risk management\n",
      "Parsed Date of Sanction: 2023-04-11 00:00:00\n",
      "Parsed Sanctioned Entity: Synergo Capital SGR SpA\n",
      "Original Amount String: €75,000\n",
      "Aggregated Amount: 75000\n",
      "Parsed Reason of Sanction: Violation of financial intermediary regulations and risk management duties.\n",
      "Parsed Category of Reason: Regulatory compliance / Risk management\n",
      "Processed Result: ('Synergo Capital SGR SpA', 75000, 'Violation of financial intermediary regulations and risk management duties.', datetime.datetime(2023, 4, 11, 0, 0), 'Regulatory compliance / Risk management')\n",
      "Response Data: {'id': 'chatcmpl-3afqnz640xneqn0anb0bmh', 'object': 'chat.completion', 'created': 1714064733, 'model': 'TheBloke/Mistral-7B-Instruct-v0.2-GGUF/mistral-7b-instruct-v0.2.Q2_K.gguf', 'choices': [{'index': 0, 'message': {'role': 'assistant', 'content': ' Date of Sanction: 4.4.2023\\nSanctioned Entity: Banca Popolare Valconca Spa\\nAmount: €30,000\\nReason of Sanction: Violation of anti-money laundering and counter-terrorist financing regulations\\nCategory of Reason: Compliance/AML/CTF'}, 'finish_reason': 'stop'}], 'usage': {'prompt_tokens': 77, 'completion_tokens': 77, 'total_tokens': 154}}\n",
      "Completion Text:  Date of Sanction: 4.4.2023\n",
      "Sanctioned Entity: Banca Popolare Valconca Spa\n",
      "Amount: €30,000\n",
      "Reason of Sanction: Violation of anti-money laundering and counter-terrorist financing regulations\n",
      "Category of Reason: Compliance/AML/CTF\n",
      "Parsed Date of Sanction: 2023-04-04 00:00:00\n",
      "Parsed Sanctioned Entity: Banca Popolare Valconca Spa\n",
      "Original Amount String: €30,000\n",
      "Aggregated Amount: 30000\n",
      "Parsed Reason of Sanction: Violation of anti-money laundering and counter-terrorist financing regulations\n",
      "Parsed Category of Reason: Compliance/AML/CTF\n",
      "Processed Result: ('Banca Popolare Valconca Spa', 30000, 'Violation of anti-money laundering and counter-terrorist financing regulations', datetime.datetime(2023, 4, 4, 0, 0), 'Compliance/AML/CTF')\n",
      "Response Data: {'id': 'chatcmpl-c6s37jq0nmhd8dtti2qa9i', 'object': 'chat.completion', 'created': 1714064738, 'model': 'TheBloke/Mistral-7B-Instruct-v0.2-GGUF/mistral-7b-instruct-v0.2.Q2_K.gguf', 'choices': [{'index': 0, 'message': {'role': 'assistant', 'content': ' Date of Sanction: 4.4.2023\\nSanctioned Entity: Banca Popolare Valconca Spa in a.s. (Banca Popolare Valconca)\\nAmount: €150,000\\nReason of Sanction: Violations related to risk management, organization, and internal controls, affecting the credit process\\nCategory of Reason: Risk Management/Governance'}, 'finish_reason': 'stop'}], 'usage': {'prompt_tokens': 91, 'completion_tokens': 91, 'total_tokens': 182}}\n",
      "Completion Text:  Date of Sanction: 4.4.2023\n",
      "Sanctioned Entity: Banca Popolare Valconca Spa in a.s. (Banca Popolare Valconca)\n",
      "Amount: €150,000\n",
      "Reason of Sanction: Violations related to risk management, organization, and internal controls, affecting the credit process\n",
      "Category of Reason: Risk Management/Governance\n",
      "Parsed Date of Sanction: 2023-04-04 00:00:00\n",
      "Parsed Sanctioned Entity: Banca Popolare Valconca Spa in a.s. (Banca Popolare Valconca)\n",
      "Original Amount String: €150,000\n",
      "Aggregated Amount: 150000\n",
      "Parsed Reason of Sanction: Violations related to risk management, organization, and internal controls, affecting the credit process\n",
      "Parsed Category of Reason: Risk Management/Governance\n",
      "Processed Result: ('Banca Popolare Valconca Spa in a.s. (Banca Popolare Valconca)', 150000, 'Violations related to risk management, organization, and internal controls, affecting the credit process', datetime.datetime(2023, 4, 4, 0, 0), 'Risk Management/Governance')\n",
      "Response Data: {'id': 'chatcmpl-vdc6ydk5wffgyk89qufeco', 'object': 'chat.completion', 'created': 1714064742, 'model': 'TheBloke/Mistral-7B-Instruct-v0.2-GGUF/mistral-7b-instruct-v0.2.Q2_K.gguf', 'choices': [{'index': 0, 'message': {'role': 'assistant', 'content': ' Date of Sanction: 26.4.2023\\nSanctioned Entity: Banco di Credito P. Azzoaglio SpA\\nAmount: €30,000\\nReason of Sanction: Violations related to credit process and second-level controls\\nCategory of Reason: Compliance (Banking regulations)'}, 'finish_reason': 'stop'}], 'usage': {'prompt_tokens': 77, 'completion_tokens': 77, 'total_tokens': 154}}\n",
      "Completion Text:  Date of Sanction: 26.4.2023\n",
      "Sanctioned Entity: Banco di Credito P. Azzoaglio SpA\n",
      "Amount: €30,000\n",
      "Reason of Sanction: Violations related to credit process and second-level controls\n",
      "Category of Reason: Compliance (Banking regulations)\n",
      "Parsed Date of Sanction: 2023-04-26 00:00:00\n",
      "Parsed Sanctioned Entity: Banco di Credito P. Azzoaglio SpA\n",
      "Original Amount String: €30,000\n",
      "Aggregated Amount: 30000\n",
      "Parsed Reason of Sanction: Violations related to credit process and second-level controls\n",
      "Parsed Category of Reason: Compliance (Banking regulations)\n",
      "Processed Result: ('Banco di Credito P. Azzoaglio SpA', 30000, 'Violations related to credit process and second-level controls', datetime.datetime(2023, 4, 26, 0, 0), 'Compliance (Banking regulations)')\n",
      "Response Data: {'id': 'chatcmpl-6wbqwikcdra9c58yob0eg6', 'object': 'chat.completion', 'created': 1714064746, 'model': 'TheBloke/Mistral-7B-Instruct-v0.2-GGUF/mistral-7b-instruct-v0.2.Q2_K.gguf', 'choices': [{'index': 0, 'message': {'role': 'assistant', 'content': ' Date of Sanction: 14.3.2023\\nSanctioned Entity: Banca Progetto SpA\\nAmount: €100,000\\nReason of Sanction: Violation of anti-money laundering and counter-terrorist financing regulations\\nCategory of Reason: Compliance/AML/CTF'}, 'finish_reason': 'stop'}], 'usage': {'prompt_tokens': 77, 'completion_tokens': 77, 'total_tokens': 154}}\n",
      "Completion Text:  Date of Sanction: 14.3.2023\n",
      "Sanctioned Entity: Banca Progetto SpA\n",
      "Amount: €100,000\n",
      "Reason of Sanction: Violation of anti-money laundering and counter-terrorist financing regulations\n",
      "Category of Reason: Compliance/AML/CTF\n",
      "Parsed Date of Sanction: 2023-03-14 00:00:00\n",
      "Parsed Sanctioned Entity: Banca Progetto SpA\n",
      "Original Amount String: €100,000\n",
      "Aggregated Amount: 100000\n",
      "Parsed Reason of Sanction: Violation of anti-money laundering and counter-terrorist financing regulations\n",
      "Parsed Category of Reason: Compliance/AML/CTF\n",
      "Processed Result: ('Banca Progetto SpA', 100000, 'Violation of anti-money laundering and counter-terrorist financing regulations', datetime.datetime(2023, 3, 14, 0, 0), 'Compliance/AML/CTF')\n",
      "Response Data: {'id': 'chatcmpl-kwebzdvpzk37l0pa9vghv', 'object': 'chat.completion', 'created': 1714064750, 'model': 'TheBloke/Mistral-7B-Instruct-v0.2-GGUF/mistral-7b-instruct-v0.2.Q2_K.gguf', 'choices': [{'index': 0, 'message': {'role': 'assistant', 'content': ' Date of Sanction: 7.2.2023\\nSanctioned Entity: Banca Popolare Sant’Angelo Scpa\\nAmount: €30,000\\nReason of Sanction: Violation of banking and credit regulations\\nCategory of Reason: Regulatory compliance (banking)'}, 'finish_reason': 'stop'}], 'usage': {'prompt_tokens': 67, 'completion_tokens': 67, 'total_tokens': 134}}\n",
      "Completion Text:  Date of Sanction: 7.2.2023\n",
      "Sanctioned Entity: Banca Popolare Sant’Angelo Scpa\n",
      "Amount: €30,000\n",
      "Reason of Sanction: Violation of banking and credit regulations\n",
      "Category of Reason: Regulatory compliance (banking)\n",
      "Parsed Date of Sanction: 2023-02-07 00:00:00\n",
      "Parsed Sanctioned Entity: Banca Popolare Sant’Angelo Scpa\n",
      "Original Amount String: €30,000\n",
      "Aggregated Amount: 30000\n",
      "Parsed Reason of Sanction: Violation of banking and credit regulations\n",
      "Parsed Category of Reason: Regulatory compliance (banking)\n",
      "Processed Result: ('Banca Popolare Sant’Angelo Scpa', 30000, 'Violation of banking and credit regulations', datetime.datetime(2023, 2, 7, 0, 0), 'Regulatory compliance (banking)')\n",
      "Response Data: {'id': 'chatcmpl-qzap0qrb3cbqjnfy4azx', 'object': 'chat.completion', 'created': 1714064754, 'model': 'TheBloke/Mistral-7B-Instruct-v0.2-GGUF/mistral-7b-instruct-v0.2.Q2_K.gguf', 'choices': [{'index': 0, 'message': {'role': 'assistant', 'content': ' Date of Sanction: 31.1.2023\\nSanctioned Entity: Anthilia Capital Partners SGR SpA\\nAmount: €30,000\\nReason of Sanction: Violation of remuneration policies (Art. 6, co. 1, lett. c-bis)\\nCategory of Reason: Regulatory Compliance'}, 'finish_reason': 'stop'}], 'usage': {'prompt_tokens': 83, 'completion_tokens': 83, 'total_tokens': 166}}\n",
      "Completion Text:  Date of Sanction: 31.1.2023\n",
      "Sanctioned Entity: Anthilia Capital Partners SGR SpA\n",
      "Amount: €30,000\n",
      "Reason of Sanction: Violation of remuneration policies (Art. 6, co. 1, lett. c-bis)\n",
      "Category of Reason: Regulatory Compliance\n",
      "Parsed Date of Sanction: 2023-01-31 00:00:00\n",
      "Parsed Sanctioned Entity: Anthilia Capital Partners SGR SpA\n",
      "Original Amount String: €30,000\n",
      "Aggregated Amount: 30000\n",
      "Parsed Reason of Sanction: Violation of remuneration policies (Art. 6, co. 1, lett. c-bis)\n",
      "Parsed Category of Reason: Regulatory Compliance\n",
      "Processed Result: ('Anthilia Capital Partners SGR SpA', 30000, 'Violation of remuneration policies (Art. 6, co. 1, lett. c-bis)', datetime.datetime(2023, 1, 31, 0, 0), 'Regulatory Compliance')\n",
      "Response Data: {'id': 'chatcmpl-3k7v7ntsgt47spjthtv7c9', 'object': 'chat.completion', 'created': 1714064758, 'model': 'TheBloke/Mistral-7B-Instruct-v0.2-GGUF/mistral-7b-instruct-v0.2.Q2_K.gguf', 'choices': [{'index': 0, 'message': {'role': 'assistant', 'content': ' - Date of Sanction: September 27, 2022\\n- Sanctioned Entity: Banca Spa\\n- Amount: €130,000 (Filippo Maria Cortesi), €36,000 (Giorgio Salvo), €27,000 (Nicola Bonito Oliva), €27,000 (Giovanni Miele), €27,000'}, 'finish_reason': 'stop'}], 'usage': {'prompt_tokens': 99, 'completion_tokens': 99, 'total_tokens': 198}}\n",
      "Completion Text:  - Date of Sanction: September 27, 2022\n",
      "- Sanctioned Entity: Banca Spa\n",
      "- Amount: €130,000 (Filippo Maria Cortesi), €36,000 (Giorgio Salvo), €27,000 (Nicola Bonito Oliva), €27,000 (Giovanni Miele), €27,000\n",
      "Date parsing error: time data 'September 27, 2022' does not match format '%d.%m.%Y'\n",
      "Parsed Sanctioned Entity: Banca Spa\n",
      "Original Amount String: €130,000 (Filippo Maria Cortesi), €36,000 (Giorgio Salvo), €27,000 (Nicola Bonito Oliva), €27,000 (Giovanni Miele), €27,000\n",
      "Aggregated Amount: 247000\n",
      "Processed Result: ('Banca Spa', 247000, '', None, '')\n",
      "Response Data: {'id': 'chatcmpl-5s4etoac7vx3o5mzat9652', 'object': 'chat.completion', 'created': 1714064761, 'model': 'TheBloke/Mistral-7B-Instruct-v0.2-GGUF/mistral-7b-instruct-v0.2.Q2_K.gguf', 'choices': [{'index': 0, 'message': {'role': 'assistant', 'content': ' Date of Sanction: 13.12.2022\\nSanctioned Entity: N26 Bank GmbH\\nAmount: €160,000\\nReason of Sanction: Violations related to anti-money laundering and counter-terrorist financing regulations\\nCategory of Reason: Compliance/Regulatory non-compliance.'}, 'finish_reason': 'stop'}], 'usage': {'prompt_tokens': 84, 'completion_tokens': 84, 'total_tokens': 168}}\n",
      "Completion Text:  Date of Sanction: 13.12.2022\n",
      "Sanctioned Entity: N26 Bank GmbH\n",
      "Amount: €160,000\n",
      "Reason of Sanction: Violations related to anti-money laundering and counter-terrorist financing regulations\n",
      "Category of Reason: Compliance/Regulatory non-compliance.\n",
      "Parsed Date of Sanction: 2022-12-13 00:00:00\n",
      "Parsed Sanctioned Entity: N26 Bank GmbH\n",
      "Original Amount String: €160,000\n",
      "Aggregated Amount: 160000\n",
      "Parsed Reason of Sanction: Violations related to anti-money laundering and counter-terrorist financing regulations\n",
      "Parsed Category of Reason: Compliance/Regulatory non-compliance.\n",
      "Processed Result: ('N26 Bank GmbH', 160000, 'Violations related to anti-money laundering and counter-terrorist financing regulations', datetime.datetime(2022, 12, 13, 0, 0), 'Compliance/Regulatory non-compliance.')\n",
      "Response Data: {'id': 'chatcmpl-cvf1o819mzhse75hek0fa9', 'object': 'chat.completion', 'created': 1714064766, 'model': 'TheBloke/Mistral-7B-Instruct-v0.2-GGUF/mistral-7b-instruct-v0.2.Q2_K.gguf', 'choices': [{'index': 0, 'message': {'role': 'assistant', 'content': ' Date of Sanction: 6.12.2022\\nSanctioned Entity: Fin Sarda Spa\\nAmount: €30,000\\nReason of Sanction: Violations of organizational and internal control requirements\\nCategory of Reason: Compliance (Organizational and Internal Controls)'}, 'finish_reason': 'stop'}], 'usage': {'prompt_tokens': 71, 'completion_tokens': 71, 'total_tokens': 142}}\n",
      "Completion Text:  Date of Sanction: 6.12.2022\n",
      "Sanctioned Entity: Fin Sarda Spa\n",
      "Amount: €30,000\n",
      "Reason of Sanction: Violations of organizational and internal control requirements\n",
      "Category of Reason: Compliance (Organizational and Internal Controls)\n",
      "Parsed Date of Sanction: 2022-12-06 00:00:00\n",
      "Parsed Sanctioned Entity: Fin Sarda Spa\n",
      "Original Amount String: €30,000\n",
      "Aggregated Amount: 30000\n",
      "Parsed Reason of Sanction: Violations of organizational and internal control requirements\n",
      "Parsed Category of Reason: Compliance (Organizational and Internal Controls)\n",
      "Processed Result: ('Fin Sarda Spa', 30000, 'Violations of organizational and internal control requirements', datetime.datetime(2022, 12, 6, 0, 0), 'Compliance (Organizational and Internal Controls)')\n",
      "Response Data: {'id': 'chatcmpl-os6xkisl3mybi0odf0c8j', 'object': 'chat.completion', 'created': 1714064769, 'model': 'TheBloke/Mistral-7B-Instruct-v0.2-GGUF/mistral-7b-instruct-v0.2.Q2_K.gguf', 'choices': [{'index': 0, 'message': {'role': 'assistant', 'content': ' Date of Sanction: 6 December 2022\\nSanctioned Entity: Ria Payment Institution EP S.A.U.\\nAmount: €30,000\\nReason of Sanction: Violations of anti-money laundering and terrorist financing regulations.\\nCategory of Reason: Anti-Money Laundering/Counter Terrorist Financing (AML/CTF) Compliance.'}, 'finish_reason': 'stop'}], 'usage': {'prompt_tokens': 93, 'completion_tokens': 93, 'total_tokens': 186}}\n",
      "Completion Text:  Date of Sanction: 6 December 2022\n",
      "Sanctioned Entity: Ria Payment Institution EP S.A.U.\n",
      "Amount: €30,000\n",
      "Reason of Sanction: Violations of anti-money laundering and terrorist financing regulations.\n",
      "Category of Reason: Anti-Money Laundering/Counter Terrorist Financing (AML/CTF) Compliance.\n",
      "Date parsing error: time data '6 December 2022' does not match format '%d.%m.%Y'\n",
      "Parsed Sanctioned Entity: Ria Payment Institution EP S.A.U.\n",
      "Original Amount String: €30,000\n",
      "Aggregated Amount: 30000\n",
      "Parsed Reason of Sanction: Violations of anti-money laundering and terrorist financing regulations.\n",
      "Parsed Category of Reason: Anti-Money Laundering/Counter Terrorist Financing (AML/CTF) Compliance.\n",
      "Processed Result: ('Ria Payment Institution EP S.A.U.', 30000, 'Violations of anti-money laundering and terrorist financing regulations.', None, 'Anti-Money Laundering/Counter Terrorist Financing (AML/CTF) Compliance.')\n",
      "Response Data: {'id': 'chatcmpl-0f2not5b9oejwr06usxul', 'object': 'chat.completion', 'created': 1714064773, 'model': 'TheBloke/Mistral-7B-Instruct-v0.2-GGUF/mistral-7b-instruct-v0.2.Q2_K.gguf', 'choices': [{'index': 0, 'message': {'role': 'assistant', 'content': ' Date of Sanction: 22.11.2022\\nSanctioned Entity: ART SGR Spa\\nAmount: €30,000\\nReason of Sanction: Violations of anti-money laundering and terrorist financing regulations\\nCategory of Reason: Anti-Money Laundering/Counter Terrorist Financing (AML/CTF)'}, 'finish_reason': 'stop'}], 'usage': {'prompt_tokens': 85, 'completion_tokens': 85, 'total_tokens': 170}}\n",
      "Completion Text:  Date of Sanction: 22.11.2022\n",
      "Sanctioned Entity: ART SGR Spa\n",
      "Amount: €30,000\n",
      "Reason of Sanction: Violations of anti-money laundering and terrorist financing regulations\n",
      "Category of Reason: Anti-Money Laundering/Counter Terrorist Financing (AML/CTF)\n",
      "Parsed Date of Sanction: 2022-11-22 00:00:00\n",
      "Parsed Sanctioned Entity: ART SGR Spa\n",
      "Original Amount String: €30,000\n",
      "Aggregated Amount: 30000\n",
      "Parsed Reason of Sanction: Violations of anti-money laundering and terrorist financing regulations\n",
      "Parsed Category of Reason: Anti-Money Laundering/Counter Terrorist Financing (AML/CTF)\n",
      "Processed Result: ('ART SGR Spa', 30000, 'Violations of anti-money laundering and terrorist financing regulations', datetime.datetime(2022, 11, 22, 0, 0), 'Anti-Money Laundering/Counter Terrorist Financing (AML/CTF)')\n",
      "Response Data: {'id': 'chatcmpl-oqqwnmjar9ofx6bai97d1', 'object': 'chat.completion', 'created': 1714064777, 'model': 'TheBloke/Mistral-7B-Instruct-v0.2-GGUF/mistral-7b-instruct-v0.2.Q2_K.gguf', 'choices': [{'index': 0, 'message': {'role': 'assistant', 'content': ' Date of Sanction: 20 August 2021\\n\\nExtract and following the Investient<cap>\\xa0<cap>\\xa0<cap>\\xa0<cap>\\xa0<cap>\\xa0<cap>\\xa0<cap>\\xa0<cap>\\xa0<cap>\\xa0<cap>\\xa0<cap>\\xa0<cap>\\xa0<cap>\\xa0<cap>\\xa0<cap>\\xa0<cap>\\xa0<cap>\\xa0<cap>\\xa0<cap>'}, 'finish_reason': 'stop'}], 'usage': {'prompt_tokens': 99, 'completion_tokens': 99, 'total_tokens': 198}}\n",
      "Completion Text:  Date of Sanction: 20 August 2021\n",
      "\n",
      "Extract and following the Investient<cap> <cap> <cap> <cap> <cap> <cap> <cap> <cap> <cap> <cap> <cap> <cap> <cap> <cap> <cap> <cap> <cap> <cap> <cap>\n",
      "Date parsing error: time data '20 August 2021' does not match format '%d.%m.%Y'\n",
      "Processed Result: ('', 0, '', None, '')\n",
      "Response Data: {'id': 'chatcmpl-vkgefs5rsjq7yycdqhsfln', 'object': 'chat.completion', 'created': 1714064782, 'model': 'TheBloke/Mistral-7B-Instruct-v0.2-GGUF/mistral-7b-instruct-v0.2.Q2_K.gguf', 'choices': [{'index': 0, 'message': {'role': 'assistant', 'content': ' Date of Sanction: September 20, 2022\\nSanctioned Entity: Valutrans SpA\\nAmount: €45,000\\nReason of Sanction: Violations related to risk management, organization, and internal controls (Art. 114-quaterdecies, d.lgs. 385/93)\\nCategory of Reason: Regulatory Compliance'}, 'finish_reason': 'stop'}], 'usage': {'prompt_tokens': 94, 'completion_tokens': 94, 'total_tokens': 188}}\n",
      "Completion Text:  Date of Sanction: September 20, 2022\n",
      "Sanctioned Entity: Valutrans SpA\n",
      "Amount: €45,000\n",
      "Reason of Sanction: Violations related to risk management, organization, and internal controls (Art. 114-quaterdecies, d.lgs. 385/93)\n",
      "Category of Reason: Regulatory Compliance\n",
      "Date parsing error: time data 'September 20, 2022' does not match format '%d.%m.%Y'\n",
      "Parsed Sanctioned Entity: Valutrans SpA\n",
      "Original Amount String: €45,000\n",
      "Aggregated Amount: 45000\n",
      "Parsed Reason of Sanction: Violations related to risk management, organization, and internal controls (Art. 114-quaterdecies, d.lgs. 385/93)\n",
      "Parsed Category of Reason: Regulatory Compliance\n",
      "Processed Result: ('Valutrans SpA', 45000, 'Violations related to risk management, organization, and internal controls (Art. 114-quaterdecies, d.lgs. 385/93)', None, 'Regulatory Compliance')\n",
      "Response Data: {'id': 'chatcmpl-obv3rmhdjhddkqyt5og3uq', 'object': 'chat.completion', 'created': 1714064785, 'model': 'TheBloke/Mistral-7B-Instruct-v0.2-GGUF/mistral-7b-instruct-v0.2.Q2_K.gguf', 'choices': [{'index': 0, 'message': {'role': 'assistant', 'content': ' Date of Sanction: 5.4.2022\\nSanctioned Entity: Aigis Banca Spa (in liquidation coatta amministrativa)\\nAmount: €35,000\\nReason of Sanction: Irregularities in governance, risk management, and control identified during a supervisory examination.\\nCategory of Reason: Governance/Risk Management/Control\\n\\n(Note: The text provided contains some missing parts'}, 'finish_reason': 'stop'}], 'usage': {'prompt_tokens': 99, 'completion_tokens': 99, 'total_tokens': 198}}\n",
      "Completion Text:  Date of Sanction: 5.4.2022\n",
      "Sanctioned Entity: Aigis Banca Spa (in liquidation coatta amministrativa)\n",
      "Amount: €35,000\n",
      "Reason of Sanction: Irregularities in governance, risk management, and control identified during a supervisory examination.\n",
      "Category of Reason: Governance/Risk Management/Control\n",
      "\n",
      "(Note: The text provided contains some missing parts\n",
      "Parsed Date of Sanction: 2022-04-05 00:00:00\n",
      "Parsed Sanctioned Entity: Aigis Banca Spa (in liquidation coatta amministrativa)\n",
      "Original Amount String: €35,000\n",
      "Aggregated Amount: 35000\n",
      "Parsed Reason of Sanction: Irregularities in governance, risk management, and control identified during a supervisory examination.\n",
      "Parsed Category of Reason: Governance/Risk Management/Control\n",
      "Processed Result: ('Aigis Banca Spa (in liquidation coatta amministrativa)', 35000, 'Irregularities in governance, risk management, and control identified during a supervisory examination.', datetime.datetime(2022, 4, 5, 0, 0), 'Governance/Risk Management/Control')\n",
      "Response Data: {'id': 'chatcmpl-8mg96mg2w8lgrtmgi1209u', 'object': 'chat.completion', 'created': 1714064790, 'model': 'TheBloke/Mistral-7B-Instruct-v0.2-GGUF/mistral-7b-instruct-v0.2.Q2_K.gguf', 'choices': [{'index': 0, 'message': {'role': 'assistant', 'content': ' Date of Sanction: 6.9.2022\\nSanctioned Entity: Mondial Bony Service Spa\\nAmount: €30,000\\nReason of Sanction: Violations related to risk management and internal controls\\nCategory of Reason: Regulatory compliance (banking)'}, 'finish_reason': 'stop'}], 'usage': {'prompt_tokens': 67, 'completion_tokens': 67, 'total_tokens': 134}}\n",
      "Completion Text:  Date of Sanction: 6.9.2022\n",
      "Sanctioned Entity: Mondial Bony Service Spa\n",
      "Amount: €30,000\n",
      "Reason of Sanction: Violations related to risk management and internal controls\n",
      "Category of Reason: Regulatory compliance (banking)\n",
      "Parsed Date of Sanction: 2022-09-06 00:00:00\n",
      "Parsed Sanctioned Entity: Mondial Bony Service Spa\n",
      "Original Amount String: €30,000\n",
      "Aggregated Amount: 30000\n",
      "Parsed Reason of Sanction: Violations related to risk management and internal controls\n",
      "Parsed Category of Reason: Regulatory compliance (banking)\n",
      "Processed Result: ('Mondial Bony Service Spa', 30000, 'Violations related to risk management and internal controls', datetime.datetime(2022, 9, 6, 0, 0), 'Regulatory compliance (banking)')\n",
      "Response Data: {'id': 'chatcmpl-ulcg6m5vsvy83b995py2', 'object': 'chat.completion', 'created': 1714064795, 'model': 'TheBloke/Mistral-7B-Instruct-v0.2-GGUF/mistral-7b-instruct-v0.2.Q2_K.gguf', 'choices': [{'index': 0, 'message': {'role': 'assistant', 'content': ' Date of Sanction: 6.9.2022\\nSanctioned Entity: Mondial Bony Service Spa\\nAmount: €30,000\\nReason of Sanction: Violations of anti-money laundering and counter-terrorist financing regulations\\nCategory of Reason: Compliance (Anti-Money Laundering/Counter-Terrorist Financing)'}, 'finish_reason': 'stop'}], 'usage': {'prompt_tokens': 88, 'completion_tokens': 88, 'total_tokens': 176}}\n",
      "Completion Text:  Date of Sanction: 6.9.2022\n",
      "Sanctioned Entity: Mondial Bony Service Spa\n",
      "Amount: €30,000\n",
      "Reason of Sanction: Violations of anti-money laundering and counter-terrorist financing regulations\n",
      "Category of Reason: Compliance (Anti-Money Laundering/Counter-Terrorist Financing)\n",
      "Parsed Date of Sanction: 2022-09-06 00:00:00\n",
      "Parsed Sanctioned Entity: Mondial Bony Service Spa\n",
      "Original Amount String: €30,000\n",
      "Aggregated Amount: 30000\n",
      "Parsed Reason of Sanction: Violations of anti-money laundering and counter-terrorist financing regulations\n",
      "Parsed Category of Reason: Compliance (Anti-Money Laundering/Counter-Terrorist Financing)\n",
      "Processed Result: ('Mondial Bony Service Spa', 30000, 'Violations of anti-money laundering and counter-terrorist financing regulations', datetime.datetime(2022, 9, 6, 0, 0), 'Compliance (Anti-Money Laundering/Counter-Terrorist Financing)')\n",
      "Response Data: {'id': 'chatcmpl-zkakt4jthyj11sgorlv3', 'object': 'chat.completion', 'created': 1714064800, 'model': 'TheBloke/Mistral-7B-Instruct-v0.2-GGUF/mistral-7b-instruct-v0.2.Q2_K.gguf', 'choices': [{'index': 0, 'message': {'role': 'assistant', 'content': ' Date of Sanction: September 20, 2022\\nSanctioned Entity: Banca del Fucino Spa\\nAmount: €70,000\\nReason of Sanction: Violations in banking and credit practices\\nCategory of Reason: Regulatory compliance (banking)'}, 'finish_reason': 'stop'}], 'usage': {'prompt_tokens': 67, 'completion_tokens': 67, 'total_tokens': 134}}\n",
      "Completion Text:  Date of Sanction: September 20, 2022\n",
      "Sanctioned Entity: Banca del Fucino Spa\n",
      "Amount: €70,000\n",
      "Reason of Sanction: Violations in banking and credit practices\n",
      "Category of Reason: Regulatory compliance (banking)\n",
      "Date parsing error: time data 'September 20, 2022' does not match format '%d.%m.%Y'\n",
      "Parsed Sanctioned Entity: Banca del Fucino Spa\n",
      "Original Amount String: €70,000\n",
      "Aggregated Amount: 70000\n",
      "Parsed Reason of Sanction: Violations in banking and credit practices\n",
      "Parsed Category of Reason: Regulatory compliance (banking)\n",
      "Processed Result: ('Banca del Fucino Spa', 70000, 'Violations in banking and credit practices', None, 'Regulatory compliance (banking)')\n",
      "Response Data: {'id': 'chatcmpl-4yt9ug1oz1c32spp0omybj', 'object': 'chat.completion', 'created': 1714064804, 'model': 'TheBloke/Mistral-7B-Instruct-v0.2-GGUF/mistral-7b-instruct-v0.2.Q2_K.gguf', 'choices': [{'index': 0, 'message': {'role': 'assistant', 'content': ' Date of Sanction: 26.07.2022\\nSanctioned Entity: Credimi SpA\\nReason of Sanction: Violation of anti-money laundering and counter-terrorist financing regulations\\nCategory of Reason: Anti-Money Laundering/Counter-Terrorist Financing\\nNo amount specified in the text.'}, 'finish_reason': 'stop'}], 'usage': {'prompt_tokens': 79, 'completion_tokens': 79, 'total_tokens': 158}}\n",
      "Completion Text:  Date of Sanction: 26.07.2022\n",
      "Sanctioned Entity: Credimi SpA\n",
      "Reason of Sanction: Violation of anti-money laundering and counter-terrorist financing regulations\n",
      "Category of Reason: Anti-Money Laundering/Counter-Terrorist Financing\n",
      "No amount specified in the text.\n",
      "Parsed Date of Sanction: 2022-07-26 00:00:00\n",
      "Parsed Sanctioned Entity: Credimi SpA\n",
      "Parsed Reason of Sanction: Violation of anti-money laundering and counter-terrorist financing regulations\n",
      "Parsed Category of Reason: Anti-Money Laundering/Counter-Terrorist Financing\n",
      "Processed Result: ('Credimi SpA', 0, 'Violation of anti-money laundering and counter-terrorist financing regulations', datetime.datetime(2022, 7, 26, 0, 0), 'Anti-Money Laundering/Counter-Terrorist Financing')\n",
      "Response Data: {'id': 'chatcmpl-ukmae64babjo0ez5cwlz', 'object': 'chat.completion', 'created': 1714064809, 'model': 'TheBloke/Mistral-7B-Instruct-v0.2-GGUF/mistral-7b-instruct-v0.2.Q2_K.gguf', 'choices': [{'index': 0, 'message': {'role': 'assistant', 'content': ' Date of Sanction: 19.7.2022\\nSanctioned Entity: Banca Popolare di Lajatico\\nAmount: €30,000\\nReason of Sanction: Irregularities in risk management\\nCategory of Reason: Compliance (Risk Management)'}, 'finish_reason': 'stop'}], 'usage': {'prompt_tokens': 66, 'completion_tokens': 66, 'total_tokens': 132}}\n",
      "Completion Text:  Date of Sanction: 19.7.2022\n",
      "Sanctioned Entity: Banca Popolare di Lajatico\n",
      "Amount: €30,000\n",
      "Reason of Sanction: Irregularities in risk management\n",
      "Category of Reason: Compliance (Risk Management)\n",
      "Parsed Date of Sanction: 2022-07-19 00:00:00\n",
      "Parsed Sanctioned Entity: Banca Popolare di Lajatico\n",
      "Original Amount String: €30,000\n",
      "Aggregated Amount: 30000\n",
      "Parsed Reason of Sanction: Irregularities in risk management\n",
      "Parsed Category of Reason: Compliance (Risk Management)\n",
      "Processed Result: ('Banca Popolare di Lajatico', 30000, 'Irregularities in risk management', datetime.datetime(2022, 7, 19, 0, 0), 'Compliance (Risk Management)')\n",
      "Response Data: {'id': 'chatcmpl-xa9joq02oip99tmzlxu42e', 'object': 'chat.completion', 'created': 1714064812, 'model': 'TheBloke/Mistral-7B-Instruct-v0.2-GGUF/mistral-7b-instruct-v0.2.Q2_K.gguf', 'choices': [{'index': 0, 'message': {'role': 'assistant', 'content': ' Date of Sanction: 5.7.2022\\nSanctioned Entity: Banca Sistema SpA\\nAmount: €100,000\\nReason of Sanction: Violation of banking regulations and credit risk management\\nCategory of Reason: Banking Regulations, Credit Risk Management'}, 'finish_reason': 'stop'}], 'usage': {'prompt_tokens': 68, 'completion_tokens': 68, 'total_tokens': 136}}\n",
      "Completion Text:  Date of Sanction: 5.7.2022\n",
      "Sanctioned Entity: Banca Sistema SpA\n",
      "Amount: €100,000\n",
      "Reason of Sanction: Violation of banking regulations and credit risk management\n",
      "Category of Reason: Banking Regulations, Credit Risk Management\n",
      "Parsed Date of Sanction: 2022-07-05 00:00:00\n",
      "Parsed Sanctioned Entity: Banca Sistema SpA\n",
      "Original Amount String: €100,000\n",
      "Aggregated Amount: 100000\n",
      "Parsed Reason of Sanction: Violation of banking regulations and credit risk management\n",
      "Parsed Category of Reason: Banking Regulations, Credit Risk Management\n",
      "Processed Result: ('Banca Sistema SpA', 100000, 'Violation of banking regulations and credit risk management', datetime.datetime(2022, 7, 5, 0, 0), 'Banking Regulations, Credit Risk Management')\n",
      "Response Data: {'id': 'chatcmpl-07yqkslcis4oa788zv5a9ts', 'object': 'chat.completion', 'created': 1714064817, 'model': 'TheBloke/Mistral-7B-Instruct-v0.2-GGUF/mistral-7b-instruct-v0.2.Q2_K.gguf', 'choices': [{'index': 0, 'message': {'role': 'assistant', 'content': ' - Date of Sanction: 11.1.2022\\n- Sanctioned Entity: Banca del Sud Spa (in administration)\\n- Amount: Marco Pochetti - €20,000; Valter Lozza - €11,000; Antonello Caretti - €15,000; Luigi Maria Caretti - €10,000; Fortuna Fiore - €1'}, 'finish_reason': 'stop'}], 'usage': {'prompt_tokens': 99, 'completion_tokens': 99, 'total_tokens': 198}}\n",
      "Completion Text:  - Date of Sanction: 11.1.2022\n",
      "- Sanctioned Entity: Banca del Sud Spa (in administration)\n",
      "- Amount: Marco Pochetti - €20,000; Valter Lozza - €11,000; Antonello Caretti - €15,000; Luigi Maria Caretti - €10,000; Fortuna Fiore - €1\n",
      "Parsed Date of Sanction: 2022-01-11 00:00:00\n",
      "Parsed Sanctioned Entity: Banca del Sud Spa (in administration)\n",
      "Original Amount String: Marco Pochetti - €20,000; Valter Lozza - €11,000; Antonello Caretti - €15,000; Luigi Maria Caretti - €10,000; Fortuna Fiore - €1\n",
      "Aggregated Amount: 57\n",
      "Processed Result: ('Banca del Sud Spa (in administration)', 57, '', datetime.datetime(2022, 1, 11, 0, 0), '')\n",
      "Response Data: {'id': 'chatcmpl-ozaxbxzf1kw011dgt9rvg', 'object': 'chat.completion', 'created': 1714064820, 'model': 'TheBloke/Mistral-7B-Instruct-v0.2-GGUF/mistral-7b-instruct-v0.2.Q2_K.gguf', 'choices': [{'index': 0, 'message': {'role': 'assistant', 'content': ' Date of Sanction: 5.4.2022\\nSanctioned Entity: Directa SIM SpA\\nAmount: €30,000\\nReason of Sanction: Violations of client deposit and subdeposit obligations, policies, and incentives regulations.\\nCategory of Reason: Regulatory compliance (financial services)'}, 'finish_reason': 'stop'}], 'usage': {'prompt_tokens': 77, 'completion_tokens': 77, 'total_tokens': 154}}\n",
      "Completion Text:  Date of Sanction: 5.4.2022\n",
      "Sanctioned Entity: Directa SIM SpA\n",
      "Amount: €30,000\n",
      "Reason of Sanction: Violations of client deposit and subdeposit obligations, policies, and incentives regulations.\n",
      "Category of Reason: Regulatory compliance (financial services)\n",
      "Parsed Date of Sanction: 2022-04-05 00:00:00\n",
      "Parsed Sanctioned Entity: Directa SIM SpA\n",
      "Original Amount String: €30,000\n",
      "Aggregated Amount: 30000\n",
      "Parsed Reason of Sanction: Violations of client deposit and subdeposit obligations, policies, and incentives regulations.\n",
      "Parsed Category of Reason: Regulatory compliance (financial services)\n",
      "Processed Result: ('Directa SIM SpA', 30000, 'Violations of client deposit and subdeposit obligations, policies, and incentives regulations.', datetime.datetime(2022, 4, 5, 0, 0), 'Regulatory compliance (financial services)')\n",
      "Response Data: {'id': 'chatcmpl-8i823ojq82cijl43oe0vzb', 'object': 'chat.completion', 'created': 1714064824, 'model': 'TheBloke/Mistral-7B-Instruct-v0.2-GGUF/mistral-7b-instruct-v0.2.Q2_K.gguf', 'choices': [{'index': 0, 'message': {'role': 'assistant', 'content': ' Date of Sanction: 11.1.2022\\nSanctioned Entity: Banca del Sud Spa (now in administration)\\nAmount: €30,000\\nReason of Sanction: Violations related to organizational deficiencies and internal control issues\\nCategory of Reason: Regulatory compliance (specifically banking regulations)'}, 'finish_reason': 'stop'}], 'usage': {'prompt_tokens': 78, 'completion_tokens': 78, 'total_tokens': 156}}\n",
      "Completion Text:  Date of Sanction: 11.1.2022\n",
      "Sanctioned Entity: Banca del Sud Spa (now in administration)\n",
      "Amount: €30,000\n",
      "Reason of Sanction: Violations related to organizational deficiencies and internal control issues\n",
      "Category of Reason: Regulatory compliance (specifically banking regulations)\n",
      "Parsed Date of Sanction: 2022-01-11 00:00:00\n",
      "Parsed Sanctioned Entity: Banca del Sud Spa (now in administration)\n",
      "Original Amount String: €30,000\n",
      "Aggregated Amount: 30000\n",
      "Parsed Reason of Sanction: Violations related to organizational deficiencies and internal control issues\n",
      "Parsed Category of Reason: Regulatory compliance (specifically banking regulations)\n",
      "Processed Result: ('Banca del Sud Spa (now in administration)', 30000, 'Violations related to organizational deficiencies and internal control issues', datetime.datetime(2022, 1, 11, 0, 0), 'Regulatory compliance (specifically banking regulations)')\n",
      "Response Data: {'id': 'chatcmpl-572ws6g3vuvvkztfm8jqrs', 'object': 'chat.completion', 'created': 1714064828, 'model': 'TheBloke/Mistral-7B-Instruct-v0.2-GGUF/mistral-7b-instruct-v0.2.Q2_K.gguf', 'choices': [{'index': 0, 'message': {'role': 'assistant', 'content': ' Date of Sanction: 26.4.2022\\nSanctioned Entity: Findomestic Banca Spa\\nAmount: €900,000\\nReason of Sanction: Violations of transparency and correctness in customer relationships\\nCategory of Reason: Transparency and Correctness (regarding banking and financial services)'}, 'finish_reason': 'stop'}], 'usage': {'prompt_tokens': 77, 'completion_tokens': 77, 'total_tokens': 154}}\n",
      "Completion Text:  Date of Sanction: 26.4.2022\n",
      "Sanctioned Entity: Findomestic Banca Spa\n",
      "Amount: €900,000\n",
      "Reason of Sanction: Violations of transparency and correctness in customer relationships\n",
      "Category of Reason: Transparency and Correctness (regarding banking and financial services)\n",
      "Parsed Date of Sanction: 2022-04-26 00:00:00\n",
      "Parsed Sanctioned Entity: Findomestic Banca Spa\n",
      "Original Amount String: €900,000\n",
      "Aggregated Amount: 900000\n",
      "Parsed Reason of Sanction: Violations of transparency and correctness in customer relationships\n",
      "Parsed Category of Reason: Transparency and Correctness (regarding banking and financial services)\n",
      "Processed Result: ('Findomestic Banca Spa', 900000, 'Violations of transparency and correctness in customer relationships', datetime.datetime(2022, 4, 26, 0, 0), 'Transparency and Correctness (regarding banking and financial services)')\n",
      "Response Data: {'id': 'chatcmpl-4juk2wpqsknqwqbpz9sml', 'object': 'chat.completion', 'created': 1714064831, 'model': 'TheBloke/Mistral-7B-Instruct-v0.2-GGUF/mistral-7b-instruct-v0.2.Q2_K.gguf', 'choices': [{'index': 0, 'message': {'role': 'assistant', 'content': ' Date of Sanction: 12.04.2022\\nSanctioned Entity: BCC dei Colli Albani\\nAmount: €30,000\\nReason of Sanction: Violations of anti-money laundering and counter-terrorist financing regulations.\\nCategory of Reason: Anti-Money Laundering/Counter-Terrorist Financing (AML/CTF)'}, 'finish_reason': 'stop'}], 'usage': {'prompt_tokens': 92, 'completion_tokens': 92, 'total_tokens': 184}}\n",
      "Completion Text:  Date of Sanction: 12.04.2022\n",
      "Sanctioned Entity: BCC dei Colli Albani\n",
      "Amount: €30,000\n",
      "Reason of Sanction: Violations of anti-money laundering and counter-terrorist financing regulations.\n",
      "Category of Reason: Anti-Money Laundering/Counter-Terrorist Financing (AML/CTF)\n",
      "Parsed Date of Sanction: 2022-04-12 00:00:00\n",
      "Parsed Sanctioned Entity: BCC dei Colli Albani\n",
      "Original Amount String: €30,000\n",
      "Aggregated Amount: 30000\n",
      "Parsed Reason of Sanction: Violations of anti-money laundering and counter-terrorist financing regulations.\n",
      "Parsed Category of Reason: Anti-Money Laundering/Counter-Terrorist Financing (AML/CTF)\n",
      "Processed Result: ('BCC dei Colli Albani', 30000, 'Violations of anti-money laundering and counter-terrorist financing regulations.', datetime.datetime(2022, 4, 12, 0, 0), 'Anti-Money Laundering/Counter-Terrorist Financing (AML/CTF)')\n",
      "Response Data: {'id': 'chatcmpl-4vxxbtebsv3wcphc8lr64h', 'object': 'chat.completion', 'created': 1714064835, 'model': 'TheBloke/Mistral-7B-Instruct-v0.2-GGUF/mistral-7b-instruct-v0.2.Q2_K.gguf', 'choices': [{'index': 0, 'message': {'role': 'assistant', 'content': ' Date of Sanction: 29.3.2022\\nSanctioned Entity: UniCredit SpA\\nReason of Sanction: Failure to comply with client verification and reporting obligations\\nCategory of Reason: Anti-Money Laundering/Know Your Customer (AML/KYC) regulations\\nAmount: N/A (non-monetary sanction)'}, 'finish_reason': 'stop'}], 'usage': {'prompt_tokens': 84, 'completion_tokens': 84, 'total_tokens': 168}}\n",
      "Completion Text:  Date of Sanction: 29.3.2022\n",
      "Sanctioned Entity: UniCredit SpA\n",
      "Reason of Sanction: Failure to comply with client verification and reporting obligations\n",
      "Category of Reason: Anti-Money Laundering/Know Your Customer (AML/KYC) regulations\n",
      "Amount: N/A (non-monetary sanction)\n",
      "Parsed Date of Sanction: 2022-03-29 00:00:00\n",
      "Parsed Sanctioned Entity: UniCredit SpA\n",
      "Parsed Reason of Sanction: Failure to comply with client verification and reporting obligations\n",
      "Parsed Category of Reason: Anti-Money Laundering/Know Your Customer (AML/KYC) regulations\n",
      "Original Amount String: N/A (non-monetary sanction)\n",
      "Aggregated Amount: 0\n",
      "Processed Result: ('UniCredit SpA', 0, 'Failure to comply with client verification and reporting obligations', datetime.datetime(2022, 3, 29, 0, 0), 'Anti-Money Laundering/Know Your Customer (AML/KYC) regulations')\n",
      "Response Data: {'id': 'chatcmpl-6qrka9cueoy0fl5559e83g', 'object': 'chat.completion', 'created': 1714064839, 'model': 'TheBloke/Mistral-7B-Instruct-v0.2-GGUF/mistral-7b-instruct-v0.2.Q2_K.gguf', 'choices': [{'index': 0, 'message': {'role': 'assistant', 'content': ' Date of Sanction: 22.3.2022\\nSanctioned Entity: Banque Chaabi du Maroc\\nAmount: €30,000\\nReason of Sanction: Violations related to transparency and compliance in banking operations.\\nCategory of Reason: Transparency/Compliance (Banking)'}, 'finish_reason': 'stop'}], 'usage': {'prompt_tokens': 73, 'completion_tokens': 73, 'total_tokens': 146}}\n",
      "Completion Text:  Date of Sanction: 22.3.2022\n",
      "Sanctioned Entity: Banque Chaabi du Maroc\n",
      "Amount: €30,000\n",
      "Reason of Sanction: Violations related to transparency and compliance in banking operations.\n",
      "Category of Reason: Transparency/Compliance (Banking)\n",
      "Parsed Date of Sanction: 2022-03-22 00:00:00\n",
      "Parsed Sanctioned Entity: Banque Chaabi du Maroc\n",
      "Original Amount String: €30,000\n",
      "Aggregated Amount: 30000\n",
      "Parsed Reason of Sanction: Violations related to transparency and compliance in banking operations.\n",
      "Parsed Category of Reason: Transparency/Compliance (Banking)\n",
      "Processed Result: ('Banque Chaabi du Maroc', 30000, 'Violations related to transparency and compliance in banking operations.', datetime.datetime(2022, 3, 22, 0, 0), 'Transparency/Compliance (Banking)')\n",
      "Response Data: {'id': 'chatcmpl-sszprxo5gkm60uijujduas', 'object': 'chat.completion', 'created': 1714064843, 'model': 'TheBloke/Mistral-7B-Instruct-v0.2-GGUF/mistral-7b-instruct-v0.2.Q2_K.gguf', 'choices': [{'index': 0, 'message': {'role': 'assistant', 'content': ' Date of Sanction: 22.3.2022\\nSanctioned Entity: Banca Carige SpA\\nAmount: €280,000\\nReason of Sanction: Violations of transparency regulations and corruption in banking services.\\nCategory of Reason: Transparency, Corruption (Financial Services)'}, 'finish_reason': 'stop'}], 'usage': {'prompt_tokens': 73, 'completion_tokens': 73, 'total_tokens': 146}}\n",
      "Completion Text:  Date of Sanction: 22.3.2022\n",
      "Sanctioned Entity: Banca Carige SpA\n",
      "Amount: €280,000\n",
      "Reason of Sanction: Violations of transparency regulations and corruption in banking services.\n",
      "Category of Reason: Transparency, Corruption (Financial Services)\n",
      "Parsed Date of Sanction: 2022-03-22 00:00:00\n",
      "Parsed Sanctioned Entity: Banca Carige SpA\n",
      "Original Amount String: €280,000\n",
      "Aggregated Amount: 280000\n",
      "Parsed Reason of Sanction: Violations of transparency regulations and corruption in banking services.\n",
      "Parsed Category of Reason: Transparency, Corruption (Financial Services)\n",
      "Processed Result: ('Banca Carige SpA', 280000, 'Violations of transparency regulations and corruption in banking services.', datetime.datetime(2022, 3, 22, 0, 0), 'Transparency, Corruption (Financial Services)')\n",
      "Response Data: {'id': 'chatcmpl-55v61cggm0dbff49b3qf0m', 'object': 'chat.completion', 'created': 1714064847, 'model': 'TheBloke/Mistral-7B-Instruct-v0.2-GGUF/mistral-7b-instruct-v0.2.Q2_K.gguf', 'choices': [{'index': 0, 'message': {'role': 'assistant', 'content': ' Date of Sanction: 15.3.2022\\nSanctioned Entity: Prestiamoci Spa\\nAmount: €30,000\\nReason of Sanction: Violations of anti-money laundering and terrorist financing regulations\\nCategory of Reason: Anti-Money Laundering/Counter Terrorist Financing (AML/CTF)'}, 'finish_reason': 'stop'}], 'usage': {'prompt_tokens': 83, 'completion_tokens': 83, 'total_tokens': 166}}\n",
      "Completion Text:  Date of Sanction: 15.3.2022\n",
      "Sanctioned Entity: Prestiamoci Spa\n",
      "Amount: €30,000\n",
      "Reason of Sanction: Violations of anti-money laundering and terrorist financing regulations\n",
      "Category of Reason: Anti-Money Laundering/Counter Terrorist Financing (AML/CTF)\n",
      "Parsed Date of Sanction: 2022-03-15 00:00:00\n",
      "Parsed Sanctioned Entity: Prestiamoci Spa\n",
      "Original Amount String: €30,000\n",
      "Aggregated Amount: 30000\n",
      "Parsed Reason of Sanction: Violations of anti-money laundering and terrorist financing regulations\n",
      "Parsed Category of Reason: Anti-Money Laundering/Counter Terrorist Financing (AML/CTF)\n",
      "Processed Result: ('Prestiamoci Spa', 30000, 'Violations of anti-money laundering and terrorist financing regulations', datetime.datetime(2022, 3, 15, 0, 0), 'Anti-Money Laundering/Counter Terrorist Financing (AML/CTF)')\n",
      "Response Data: {'id': 'chatcmpl-q4ifxl94481fenx55j9qr', 'object': 'chat.completion', 'created': 1714064852, 'model': 'TheBloke/Mistral-7B-Instruct-v0.2-GGUF/mistral-7b-instruct-v0.2.Q2_K.gguf', 'choices': [{'index': 0, 'message': {'role': 'assistant', 'content': ' Date of Sanction: 8.2.2022\\nSanctioned Entity: Banca Popolare Vesuviana Sc\\nAmount: €30,000\\nReason of Sanction: Violations in matter of CAI and Centrale Rischi\\nCategory of Reason: Compliance (specifically, violations related to CAI and Centrale Rischi regulations)'}, 'finish_reason': 'stop'}], 'usage': {'prompt_tokens': 86, 'completion_tokens': 86, 'total_tokens': 172}}\n",
      "Completion Text:  Date of Sanction: 8.2.2022\n",
      "Sanctioned Entity: Banca Popolare Vesuviana Sc\n",
      "Amount: €30,000\n",
      "Reason of Sanction: Violations in matter of CAI and Centrale Rischi\n",
      "Category of Reason: Compliance (specifically, violations related to CAI and Centrale Rischi regulations)\n",
      "Parsed Date of Sanction: 2022-02-08 00:00:00\n",
      "Parsed Sanctioned Entity: Banca Popolare Vesuviana Sc\n",
      "Original Amount String: €30,000\n",
      "Aggregated Amount: 30000\n",
      "Parsed Reason of Sanction: Violations in matter of CAI and Centrale Rischi\n",
      "Parsed Category of Reason: Compliance (specifically, violations related to CAI and Centrale Rischi regulations)\n",
      "Processed Result: ('Banca Popolare Vesuviana Sc', 30000, 'Violations in matter of CAI and Centrale Rischi', datetime.datetime(2022, 2, 8, 0, 0), 'Compliance (specifically, violations related to CAI and Centrale Rischi regulations)')\n",
      "Response Data: {'id': 'chatcmpl-1hhn4s5djjwmesemqbpyoj', 'object': 'chat.completion', 'created': 1714064856, 'model': 'TheBloke/Mistral-7B-Instruct-v0.2-GGUF/mistral-7b-instruct-v0.2.Q2_K.gguf', 'choices': [{'index': 0, 'message': {'role': 'assistant', 'content': ' Date of Sanction: 15.2.2022\\nSanctioned Entity: Centotrenta Servicing Spa\\nAmount: €40,000\\nReason of Sanction: Violations related to organization and controls\\nCategory of Reason: Regulatory compliance (organizational and control violations)'}, 'finish_reason': 'stop'}], 'usage': {'prompt_tokens': 72, 'completion_tokens': 72, 'total_tokens': 144}}\n",
      "Completion Text:  Date of Sanction: 15.2.2022\n",
      "Sanctioned Entity: Centotrenta Servicing Spa\n",
      "Amount: €40,000\n",
      "Reason of Sanction: Violations related to organization and controls\n",
      "Category of Reason: Regulatory compliance (organizational and control violations)\n",
      "Parsed Date of Sanction: 2022-02-15 00:00:00\n",
      "Parsed Sanctioned Entity: Centotrenta Servicing Spa\n",
      "Original Amount String: €40,000\n",
      "Aggregated Amount: 40000\n",
      "Parsed Reason of Sanction: Violations related to organization and controls\n",
      "Parsed Category of Reason: Regulatory compliance (organizational and control violations)\n",
      "Processed Result: ('Centotrenta Servicing Spa', 40000, 'Violations related to organization and controls', datetime.datetime(2022, 2, 15, 0, 0), 'Regulatory compliance (organizational and control violations)')\n",
      "Response Data: {'id': 'chatcmpl-sj1cbnp15dpsj68mp5xkb', 'object': 'chat.completion', 'created': 1714064860, 'model': 'TheBloke/Mistral-7B-Instruct-v0.2-GGUF/mistral-7b-instruct-v0.2.Q2_K.gguf', 'choices': [{'index': 0, 'message': {'role': 'assistant', 'content': ' Date of Sanction: 25.1.2022\\nSanctioned Entity: Banca Sistema SpA\\nAmount: €185,000 (€100,000 for violation of limit in materia di grandi esposizioni; €85,000 for violation of obligations to inform the Supervisory Authority)\\nReason of Sanction: Violation of regulatory limits and failure to provide required information to'}, 'finish_reason': 'stop'}], 'usage': {'prompt_tokens': 99, 'completion_tokens': 99, 'total_tokens': 198}}\n",
      "Completion Text:  Date of Sanction: 25.1.2022\n",
      "Sanctioned Entity: Banca Sistema SpA\n",
      "Amount: €185,000 (€100,000 for violation of limit in materia di grandi esposizioni; €85,000 for violation of obligations to inform the Supervisory Authority)\n",
      "Reason of Sanction: Violation of regulatory limits and failure to provide required information to\n",
      "Parsed Date of Sanction: 2022-01-25 00:00:00\n",
      "Parsed Sanctioned Entity: Banca Sistema SpA\n",
      "Original Amount String: €185,000 (€100,000 for violation of limit in materia di grandi esposizioni; €85,000 for violation of obligations to inform the Supervisory Authority)\n",
      "Aggregated Amount: 85285\n",
      "Parsed Reason of Sanction: Violation of regulatory limits and failure to provide required information to\n",
      "Processed Result: ('Banca Sistema SpA', 85285, 'Violation of regulatory limits and failure to provide required information to', datetime.datetime(2022, 1, 25, 0, 0), '')\n",
      "Response Data: {'id': 'chatcmpl-awlfwly4aegye7bzizdq', 'object': 'chat.completion', 'created': 1714064864, 'model': 'TheBloke/Mistral-7B-Instruct-v0.2-GGUF/mistral-7b-instruct-v0.2.Q2_K.gguf', 'choices': [{'index': 0, 'message': {'role': 'assistant', 'content': ' Date of Sanction: 7 December 2021\\nSanctioned Entity: Credito Cooperativo di San Calogero e Maierato – BCC del Vibonese\\nAmount: €27,000\\nReason::)\\n  . . . . . . . . . . . . . . . . . . . . . . . . . . . .>. . . .>. .>. .>. .>.>.>.'}, 'finish_reason': 'stop'}], 'usage': {'prompt_tokens': 99, 'completion_tokens': 99, 'total_tokens': 198}}\n",
      "Completion Text:  Date of Sanction: 7 December 2021\n",
      "Sanctioned Entity: Credito Cooperativo di San Calogero e Maierato – BCC del Vibonese\n",
      "Amount: €27,000\n",
      "Reason::)\n",
      "  . . . . . . . . . . . . . . . . . . . . . . . . . . . .>. . . .>. .>. .>. .>.>.>.\n",
      "Date parsing error: time data '7 December 2021' does not match format '%d.%m.%Y'\n",
      "Parsed Sanctioned Entity: Credito Cooperativo di San Calogero e Maierato – BCC del Vibonese\n",
      "Original Amount String: €27,000\n",
      "Aggregated Amount: 27000\n",
      "Processed Result: ('Credito Cooperativo di San Calogero e Maierato – BCC del Vibonese', 27000, '', None, '')\n",
      "Response Data: {'id': 'chatcmpl-kfa2i9oeaa88ywuqubx7y', 'object': 'chat.completion', 'created': 1714064868, 'model': 'TheBloke/Mistral-7B-Instruct-v0.2-GGUF/mistral-7b-instruct-v0.2.Q2_K.gguf', 'choices': [{'index': 0, 'message': {'role': 'assistant', 'content': ' Date of Sanction: 11.01.2022\\nSanctioned Entity: Se.Pa.Fin. Spa\\nReason of Sanction: Violations in matters of risk governance and internal controls, including antiriciclaging presidio.\\nCategory of Reason: Risk Governance, Internal Controls, Anti-Money Laundering.'}, 'finish_reason': 'stop'}], 'usage': {'prompt_tokens': 82, 'completion_tokens': 82, 'total_tokens': 164}}\n",
      "Completion Text:  Date of Sanction: 11.01.2022\n",
      "Sanctioned Entity: Se.Pa.Fin. Spa\n",
      "Reason of Sanction: Violations in matters of risk governance and internal controls, including antiriciclaging presidio.\n",
      "Category of Reason: Risk Governance, Internal Controls, Anti-Money Laundering.\n",
      "Parsed Date of Sanction: 2022-01-11 00:00:00\n",
      "Parsed Sanctioned Entity: Se.Pa.Fin. Spa\n",
      "Parsed Reason of Sanction: Violations in matters of risk governance and internal controls, including antiriciclaging presidio.\n",
      "Parsed Category of Reason: Risk Governance, Internal Controls, Anti-Money Laundering.\n",
      "Processed Result: ('Se.Pa.Fin. Spa', 0, 'Violations in matters of risk governance and internal controls, including antiriciclaging presidio.', datetime.datetime(2022, 1, 11, 0, 0), 'Risk Governance, Internal Controls, Anti-Money Laundering.')\n",
      "Response Data: {'id': 'chatcmpl-ir9twhnxh2d4j2wwkxi10m', 'object': 'chat.completion', 'created': 1714064872, 'model': 'TheBloke/Mistral-7B-Instruct-v0.2-GGUF/mistral-7b-instruct-v0.2.Q2_K.gguf', 'choices': [{'index': 0, 'message': {'role': 'assistant', 'content': ' Date of Sanction: 7 December 2021\\nSanctioned Entity: Credito Cooperativo di San Calogero e Maierato – BCC del Vibonese\\nAmount: €60,000\\nReason of Sanction: Violations of anti-money laundering and counter-terrorist financing regulations.\\nCategory of Reason: Anti-Money Laundering/Counter-Terrorist Financing (AM'}, 'finish_reason': 'stop'}], 'usage': {'prompt_tokens': 99, 'completion_tokens': 99, 'total_tokens': 198}}\n",
      "Completion Text:  Date of Sanction: 7 December 2021\n",
      "Sanctioned Entity: Credito Cooperativo di San Calogero e Maierato – BCC del Vibonese\n",
      "Amount: €60,000\n",
      "Reason of Sanction: Violations of anti-money laundering and counter-terrorist financing regulations.\n",
      "Category of Reason: Anti-Money Laundering/Counter-Terrorist Financing (AM\n",
      "Date parsing error: time data '7 December 2021' does not match format '%d.%m.%Y'\n",
      "Parsed Sanctioned Entity: Credito Cooperativo di San Calogero e Maierato – BCC del Vibonese\n",
      "Original Amount String: €60,000\n",
      "Aggregated Amount: 60000\n",
      "Parsed Reason of Sanction: Violations of anti-money laundering and counter-terrorist financing regulations.\n",
      "Parsed Category of Reason: Anti-Money Laundering/Counter-Terrorist Financing (AM\n",
      "Processed Result: ('Credito Cooperativo di San Calogero e Maierato – BCC del Vibonese', 60000, 'Violations of anti-money laundering and counter-terrorist financing regulations.', None, 'Anti-Money Laundering/Counter-Terrorist Financing (AM')\n",
      "Response Data: {'id': 'chatcmpl-yajs8rxaqlw5n174t37d9', 'object': 'chat.completion', 'created': 1714064876, 'model': 'TheBloke/Mistral-7B-Instruct-v0.2-GGUF/mistral-7b-instruct-v0.2.Q2_K.gguf', 'choices': [{'index': 0, 'message': {'role': 'assistant', 'content': ' - Date of Sanction: 30.7.2021\\n- Sanctioned Entity: Summa Service Srl\\n- Amount: €60,000\\n- Reason of Sanction: Violation of regulatory requirements in financial transactions\\n- Category of Reason: Regulatory non-compliance (Anti-Money Laundering/KYC)'}, 'finish_reason': 'stop'}], 'usage': {'prompt_tokens': 85, 'completion_tokens': 85, 'total_tokens': 170}}\n",
      "Completion Text:  - Date of Sanction: 30.7.2021\n",
      "- Sanctioned Entity: Summa Service Srl\n",
      "- Amount: €60,000\n",
      "- Reason of Sanction: Violation of regulatory requirements in financial transactions\n",
      "- Category of Reason: Regulatory non-compliance (Anti-Money Laundering/KYC)\n",
      "Parsed Date of Sanction: 2021-07-30 00:00:00\n",
      "Parsed Sanctioned Entity: Summa Service Srl\n",
      "Original Amount String: €60,000\n",
      "Aggregated Amount: 60000\n",
      "Parsed Reason of Sanction: Violation of regulatory requirements in financial transactions\n",
      "Parsed Category of Reason: Regulatory non-compliance (Anti-Money Laundering/KYC)\n",
      "Processed Result: ('Summa Service Srl', 60000, 'Violation of regulatory requirements in financial transactions', datetime.datetime(2021, 7, 30, 0, 0), 'Regulatory non-compliance (Anti-Money Laundering/KYC)')\n",
      "Response Data: {'id': 'chatcmpl-kyesugk0wbaniy998dvy8', 'object': 'chat.completion', 'created': 1714064881, 'model': 'TheBloke/Mistral-7B-Instruct-v0.2-GGUF/mistral-7b-instruct-v0.2.Q2_K.gguf', 'choices': [{'index': 0, 'message': {'role': 'assistant', 'content': ' Date of Sanction: 30.7.2021\\nSanctioned Entity: Summa Service Srl\\nAmount: €80,000\\nReason of Sanction: Irregularities in organizational structure and internal controls, master-servicing, and externalization of operational activities to third parties.\\nCategory of Reason: Regulatory compliance (specifically, banking and financial regulations)'}, 'finish_reason': 'stop'}], 'usage': {'prompt_tokens': 87, 'completion_tokens': 87, 'total_tokens': 174}}\n",
      "Completion Text:  Date of Sanction: 30.7.2021\n",
      "Sanctioned Entity: Summa Service Srl\n",
      "Amount: €80,000\n",
      "Reason of Sanction: Irregularities in organizational structure and internal controls, master-servicing, and externalization of operational activities to third parties.\n",
      "Category of Reason: Regulatory compliance (specifically, banking and financial regulations)\n",
      "Parsed Date of Sanction: 2021-07-30 00:00:00\n",
      "Parsed Sanctioned Entity: Summa Service Srl\n",
      "Original Amount String: €80,000\n",
      "Aggregated Amount: 80000\n",
      "Parsed Reason of Sanction: Irregularities in organizational structure and internal controls, master-servicing, and externalization of operational activities to third parties.\n",
      "Parsed Category of Reason: Regulatory compliance (specifically, banking and financial regulations)\n",
      "Processed Result: ('Summa Service Srl', 80000, 'Irregularities in organizational structure and internal controls, master-servicing, and externalization of operational activities to third parties.', datetime.datetime(2021, 7, 30, 0, 0), 'Regulatory compliance (specifically, banking and financial regulations)')\n",
      "Response Data: {'id': 'chatcmpl-8vdjtg3ekjsrk556prj76', 'object': 'chat.completion', 'created': 1714064886, 'model': 'TheBloke/Mistral-7B-Instruct-v0.2-GGUF/mistral-7b-instruct-v0.2.Q2_K.gguf', 'choices': [{'index': 0, 'message': {'role': 'assistant', 'content': ' Date of Sanction: 24.11.2021\\nSanctioned Entity: Davis & Morgan Spa\\nAmount: €50,000\\nReason of Sanction: Violation of limit in materia di grandi esposizioni (excessive exposures)\\nCategory of Reason: Exposure limits (or Banking regulations)'}, 'finish_reason': 'stop'}], 'usage': {'prompt_tokens': 79, 'completion_tokens': 79, 'total_tokens': 158}}\n",
      "Completion Text:  Date of Sanction: 24.11.2021\n",
      "Sanctioned Entity: Davis & Morgan Spa\n",
      "Amount: €50,000\n",
      "Reason of Sanction: Violation of limit in materia di grandi esposizioni (excessive exposures)\n",
      "Category of Reason: Exposure limits (or Banking regulations)\n",
      "Parsed Date of Sanction: 2021-11-24 00:00:00\n",
      "Parsed Sanctioned Entity: Davis & Morgan Spa\n",
      "Original Amount String: €50,000\n",
      "Aggregated Amount: 50000\n",
      "Parsed Reason of Sanction: Violation of limit in materia di grandi esposizioni (excessive exposures)\n",
      "Parsed Category of Reason: Exposure limits (or Banking regulations)\n",
      "Processed Result: ('Davis & Morgan Spa', 50000, 'Violation of limit in materia di grandi esposizioni (excessive exposures)', datetime.datetime(2021, 11, 24, 0, 0), 'Exposure limits (or Banking regulations)')\n",
      "Response Data: {'id': 'chatcmpl-1unq85fy25cs9mcw3njy6f', 'object': 'chat.completion', 'created': 1714064890, 'model': 'TheBloke/Mistral-7B-Instruct-v0.2-GGUF/mistral-7b-instruct-v0.2.Q2_K.gguf', 'choices': [{'index': 0, 'message': {'role': 'assistant', 'content': ' Date of Sanction: 9 November 2021\\nSanctioned Entity: Banca del Catanzarese Credito Cooperativa Società Cooperativa\\nAmount: €60,000\\nReason of Sanction: Violations of anti-money laundering and counter-terrorist financing regulations\\nCategory of Reason: Anti-Money Laundering/Counter-Terrorist Financing (AML or Counter-T'}, 'finish_reason': 'stop'}], 'usage': {'prompt_tokens': 99, 'completion_tokens': 99, 'total_tokens': 198}}\n",
      "Completion Text:  Date of Sanction: 9 November 2021\n",
      "Sanctioned Entity: Banca del Catanzarese Credito Cooperativa Società Cooperativa\n",
      "Amount: €60,000\n",
      "Reason of Sanction: Violations of anti-money laundering and counter-terrorist financing regulations\n",
      "Category of Reason: Anti-Money Laundering/Counter-Terrorist Financing (AML or Counter-T\n",
      "Date parsing error: time data '9 November 2021' does not match format '%d.%m.%Y'\n",
      "Parsed Sanctioned Entity: Banca del Catanzarese Credito Cooperativa Società Cooperativa\n",
      "Original Amount String: €60,000\n",
      "Aggregated Amount: 60000\n",
      "Parsed Reason of Sanction: Violations of anti-money laundering and counter-terrorist financing regulations\n",
      "Parsed Category of Reason: Anti-Money Laundering/Counter-Terrorist Financing (AML or Counter-T\n",
      "Processed Result: ('Banca del Catanzarese Credito Cooperativa Società Cooperativa', 60000, 'Violations of anti-money laundering and counter-terrorist financing regulations', None, 'Anti-Money Laundering/Counter-Terrorist Financing (AML or Counter-T')\n",
      "Response Data: {'id': 'chatcmpl-h3cx8hnwytgotgcdymljdh', 'object': 'chat.completion', 'created': 1714064895, 'model': 'TheBloke/Mistral-7B-Instruct-v0.2-GGUF/mistral-7b-instruct-v0.2.Q2_K.gguf', 'choices': [{'index': 0, 'message': {'role': 'assistant', 'content': \" Date of Sanction: 3.11.2021\\nSanctioned Entity: Ifinvest SpA\\nAmount: €60,000\\nReason of Sanction: Violations of banking and financial regulations\\nCategory of Reason: Regulatory compliance\\nIfinvest SpA was sanctioned by the Banca d'Italia for violations of banking and financial regulations, specifically in relation to internal controls and reporting obligations. The total\"}, 'finish_reason': 'stop'}], 'usage': {'prompt_tokens': 99, 'completion_tokens': 99, 'total_tokens': 198}}\n",
      "Completion Text:  Date of Sanction: 3.11.2021\n",
      "Sanctioned Entity: Ifinvest SpA\n",
      "Amount: €60,000\n",
      "Reason of Sanction: Violations of banking and financial regulations\n",
      "Category of Reason: Regulatory compliance\n",
      "Ifinvest SpA was sanctioned by the Banca d'Italia for violations of banking and financial regulations, specifically in relation to internal controls and reporting obligations. The total\n",
      "Parsed Date of Sanction: 2021-11-03 00:00:00\n",
      "Parsed Sanctioned Entity: Ifinvest SpA\n",
      "Original Amount String: €60,000\n",
      "Aggregated Amount: 60000\n",
      "Parsed Reason of Sanction: Violations of banking and financial regulations\n",
      "Parsed Category of Reason: Regulatory compliance\n",
      "Processed Result: ('Ifinvest SpA', 60000, 'Violations of banking and financial regulations', datetime.datetime(2021, 11, 3, 0, 0), 'Regulatory compliance')\n",
      "Response Data: {'id': 'chatcmpl-l9eohq1oi3a65ki76yyxg', 'object': 'chat.completion', 'created': 1714064900, 'model': 'TheBloke/Mistral-7B-Instruct-v0.2-GGUF/mistral-7b-instruct-v0.2.Q2_K.gguf', 'choices': [{'index': 0, 'message': {'role': 'assistant', 'content': ' Date of Sanction: 20.8.2021\\nSanctioned Entity: Progetto SIM Spa (in administration)\\nAmount: Marco Chiletti - €110,000; Andrea Romagnoli - €150,000; Amos Stella - €35,000\\nReason of Sanction: Violation of governance and internal control requirements\\nCategory of Reason: Governance, Internal'}, 'finish_reason': 'stop'}], 'usage': {'prompt_tokens': 99, 'completion_tokens': 99, 'total_tokens': 198}}\n",
      "Completion Text:  Date of Sanction: 20.8.2021\n",
      "Sanctioned Entity: Progetto SIM Spa (in administration)\n",
      "Amount: Marco Chiletti - €110,000; Andrea Romagnoli - €150,000; Amos Stella - €35,000\n",
      "Reason of Sanction: Violation of governance and internal control requirements\n",
      "Category of Reason: Governance, Internal\n",
      "Parsed Date of Sanction: 2021-08-20 00:00:00\n",
      "Parsed Sanctioned Entity: Progetto SIM Spa (in administration)\n",
      "Original Amount String: Marco Chiletti - €110,000; Andrea Romagnoli - €150,000; Amos Stella - €35,000\n",
      "Aggregated Amount: 35260\n",
      "Parsed Reason of Sanction: Violation of governance and internal control requirements\n",
      "Parsed Category of Reason: Governance, Internal\n",
      "Processed Result: ('Progetto SIM Spa (in administration)', 35260, 'Violation of governance and internal control requirements', datetime.datetime(2021, 8, 20, 0, 0), 'Governance, Internal')\n",
      "Response Data: {'id': 'chatcmpl-krxkxnda7nqiikfly8cbkl', 'object': 'chat.completion', 'created': 1714064904, 'model': 'TheBloke/Mistral-7B-Instruct-v0.2-GGUF/mistral-7b-instruct-v0.2.Q2_K.gguf', 'choices': [{'index': 0, 'message': {'role': 'assistant', 'content': ' Date of Sanction: August 2023,\\n\\nExtract and return if\\n\\n1.1.1.1.1.1.1.1.1.1.1.1.1.1.1.1.1.1.1.1.1.1.1.1.1.1.1.1.1.1.1.1.1.1.1.1.1.1.1.1'}, 'finish_reason': 'stop'}], 'usage': {'prompt_tokens': 99, 'completion_tokens': 99, 'total_tokens': 198}}\n",
      "Completion Text:  Date of Sanction: August 2023,\n",
      "\n",
      "Extract and return if\n",
      "\n",
      "1.1.1.1.1.1.1.1.1.1.1.1.1.1.1.1.1.1.1.1.1.1.1.1.1.1.1.1.1.1.1.1.1.1.1.1.1.1.1.1\n",
      "Date parsing error: time data 'August 2023,' does not match format '%d.%m.%Y'\n",
      "Processed Result: ('', 0, '', None, '')\n",
      "Response Data: {'id': 'chatcmpl-nja8fxqvx8bfu1siv004on', 'object': 'chat.completion', 'created': 1714064908, 'model': 'TheBloke/Mistral-7B-Instruct-v0.2-GGUF/mistral-7b-instruct-v0.2.Q2_K.gguf', 'choices': [{'index': 0, 'message': {'role': 'assistant', 'content': ' Date of Sanction: July 13, 2021\\nSanctioned Entity: Progetto SIM Spa (in amministrazione straordinaria)\\nAmount: €37,000\\nReason of Sanction: Violations related to governance and internal controls\\nCategory of Reason: Governance/Internal Controls'}, 'finish_reason': 'stop'}], 'usage': {'prompt_tokens': 78, 'completion_tokens': 78, 'total_tokens': 156}}\n",
      "Completion Text:  Date of Sanction: July 13, 2021\n",
      "Sanctioned Entity: Progetto SIM Spa (in amministrazione straordinaria)\n",
      "Amount: €37,000\n",
      "Reason of Sanction: Violations related to governance and internal controls\n",
      "Category of Reason: Governance/Internal Controls\n",
      "Date parsing error: time data 'July 13, 2021' does not match format '%d.%m.%Y'\n",
      "Parsed Sanctioned Entity: Progetto SIM Spa (in amministrazione straordinaria)\n",
      "Original Amount String: €37,000\n",
      "Aggregated Amount: 37000\n",
      "Parsed Reason of Sanction: Violations related to governance and internal controls\n",
      "Parsed Category of Reason: Governance/Internal Controls\n",
      "Processed Result: ('Progetto SIM Spa (in amministrazione straordinaria)', 37000, 'Violations related to governance and internal controls', None, 'Governance/Internal Controls')\n",
      "Response Data: {'id': 'chatcmpl-cvr3e1h5bav37oncivsrs5', 'object': 'chat.completion', 'created': 1714064913, 'model': 'TheBloke/Mistral-7B-Instruct-v0.2-GGUF/mistral-7b-instruct-v0.2.Q2_K.gguf', 'choices': [{'index': 0, 'message': {'role': 'assistant', 'content': ' Date of Sanction: June 22, 2021\\nSanctioned Entity: Invest Banca Spa in a.s.\\nAmount: €30,000\\nReason of Sanction: Violations of anti-money laundering and terrorist financing regulations.\\nCategory of Reason: Anti-Money Laundering/Terrorist Financing'}, 'finish_reason': 'stop'}], 'usage': {'prompt_tokens': 81, 'completion_tokens': 81, 'total_tokens': 162}}\n",
      "Completion Text:  Date of Sanction: June 22, 2021\n",
      "Sanctioned Entity: Invest Banca Spa in a.s.\n",
      "Amount: €30,000\n",
      "Reason of Sanction: Violations of anti-money laundering and terrorist financing regulations.\n",
      "Category of Reason: Anti-Money Laundering/Terrorist Financing\n",
      "Date parsing error: time data 'June 22, 2021' does not match format '%d.%m.%Y'\n",
      "Parsed Sanctioned Entity: Invest Banca Spa in a.s.\n",
      "Original Amount String: €30,000\n",
      "Aggregated Amount: 30000\n",
      "Parsed Reason of Sanction: Violations of anti-money laundering and terrorist financing regulations.\n",
      "Parsed Category of Reason: Anti-Money Laundering/Terrorist Financing\n",
      "Processed Result: ('Invest Banca Spa in a.s.', 30000, 'Violations of anti-money laundering and terrorist financing regulations.', None, 'Anti-Money Laundering/Terrorist Financing')\n",
      "Response Data: {'id': 'chatcmpl-2swkdaci7hb0sueyp2h250q', 'object': 'chat.completion', 'created': 1714064918, 'model': 'TheBloke/Mistral-7B-Instruct-v0.2-GGUF/mistral-7b-instruct-v0.2.Q2_K.gguf', 'choices': [{'index': 0, 'message': {'role': 'assistant', 'content': ' Date of Sanction: June 22, 2021\\nSanctioned Entity: Invest Banca Spa in a.s.\\nAmount: €30,000\\nReason of Sanction: Violation of separate accounting requirements in financial intermediation services and investment activities (art. 6, TUF)\\nCategory of Reason: Separate Accounting'}, 'finish_reason': 'stop'}], 'usage': {'prompt_tokens': 83, 'completion_tokens': 83, 'total_tokens': 166}}\n",
      "Completion Text:  Date of Sanction: June 22, 2021\n",
      "Sanctioned Entity: Invest Banca Spa in a.s.\n",
      "Amount: €30,000\n",
      "Reason of Sanction: Violation of separate accounting requirements in financial intermediation services and investment activities (art. 6, TUF)\n",
      "Category of Reason: Separate Accounting\n",
      "Date parsing error: time data 'June 22, 2021' does not match format '%d.%m.%Y'\n",
      "Parsed Sanctioned Entity: Invest Banca Spa in a.s.\n",
      "Original Amount String: €30,000\n",
      "Aggregated Amount: 30000\n",
      "Parsed Reason of Sanction: Violation of separate accounting requirements in financial intermediation services and investment activities (art. 6, TUF)\n",
      "Parsed Category of Reason: Separate Accounting\n",
      "Processed Result: ('Invest Banca Spa in a.s.', 30000, 'Violation of separate accounting requirements in financial intermediation services and investment activities (art. 6, TUF)', None, 'Separate Accounting')\n",
      "Response Data: {'id': 'chatcmpl-61qn4hpserjsex1luhiwsd', 'object': 'chat.completion', 'created': 1714064923, 'model': 'TheBloke/Mistral-7B-Instruct-v0.2-GGUF/mistral-7b-instruct-v0.2.Q2_K.gguf', 'choices': [{'index': 0, 'message': {'role': 'assistant', 'content': ' Date of Sanction: 22.6.2021\\nSanctioned Entity: Invest Banca Spa in a.s.\\nAmount: €40,000\\nReason of Sanction: Violation of governance, internal controls, and risk management regulations.\\nCategory of Reason: Governance/Compliance'}, 'finish_reason': 'stop'}], 'usage': {'prompt_tokens': 73, 'completion_tokens': 73, 'total_tokens': 146}}\n",
      "Completion Text:  Date of Sanction: 22.6.2021\n",
      "Sanctioned Entity: Invest Banca Spa in a.s.\n",
      "Amount: €40,000\n",
      "Reason of Sanction: Violation of governance, internal controls, and risk management regulations.\n",
      "Category of Reason: Governance/Compliance\n",
      "Parsed Date of Sanction: 2021-06-22 00:00:00\n",
      "Parsed Sanctioned Entity: Invest Banca Spa in a.s.\n",
      "Original Amount String: €40,000\n",
      "Aggregated Amount: 40000\n",
      "Parsed Reason of Sanction: Violation of governance, internal controls, and risk management regulations.\n",
      "Parsed Category of Reason: Governance/Compliance\n",
      "Processed Result: ('Invest Banca Spa in a.s.', 40000, 'Violation of governance, internal controls, and risk management regulations.', datetime.datetime(2021, 6, 22, 0, 0), 'Governance/Compliance')\n",
      "Response Data: {'id': 'chatcmpl-yapu1beo2dqqso1zlc25u', 'object': 'chat.completion', 'created': 1714064928, 'model': 'TheBloke/Mistral-7B-Instruct-v0.2-GGUF/mistral-7b-instruct-v0.2.Q2_K.gguf', 'choices': [{'index': 0, 'message': {'role': 'assistant', 'content': ' - Date of Sanction: June 25, 2021\\n- Sanctioned Entity: Microcredito Italiano Spa (in liquidation)\\n- Amount: Luca Beghetto - €15,000; Bernardo Botti - €15,000; Gianluca D’Angelo - €10,000; Giancarlo Rizzani - €10,000 ('}, 'finish_reason': 'stop'}], 'usage': {'prompt_tokens': 99, 'completion_tokens': 99, 'total_tokens': 198}}\n",
      "Completion Text:  - Date of Sanction: June 25, 2021\n",
      "- Sanctioned Entity: Microcredito Italiano Spa (in liquidation)\n",
      "- Amount: Luca Beghetto - €15,000; Bernardo Botti - €15,000; Gianluca D’Angelo - €10,000; Giancarlo Rizzani - €10,000 (\n",
      "Date parsing error: time data 'June 25, 2021' does not match format '%d.%m.%Y'\n",
      "Parsed Sanctioned Entity: Microcredito Italiano Spa (in liquidation)\n",
      "Original Amount String: Luca Beghetto - €15,000; Bernardo Botti - €15,000; Gianluca D’Angelo - €10,000; Giancarlo Rizzani - €10,000 (\n",
      "Aggregated Amount: 10040\n",
      "Processed Result: ('Microcredito Italiano Spa (in liquidation)', 10040, '', None, '')\n",
      "Response Data: {'id': 'chatcmpl-ynde9jxgv0mrwty3p2711', 'object': 'chat.completion', 'created': 1714064932, 'model': 'TheBloke/Mistral-7B-Instruct-v0.2-GGUF/mistral-7b-instruct-v0.2.Q2_K.gguf', 'choices': [{'index': 0, 'message': {'role': 'assistant', 'content': ' - Date of Sanction: 8.6.2021\\n- Sanctioned Entity: Credito Etneo – Banca di Credito Cooperativo Soc. Coop\\n- Reason of Sanction:\\n- Date of Sanction:\\n- Date of sanction:\\n-/-/-/-/-/-/-/-/-/-/-/-/-/-/-/-/-/-/'}, 'finish_reason': 'stop'}], 'usage': {'prompt_tokens': 99, 'completion_tokens': 99, 'total_tokens': 198}}\n",
      "Completion Text:  - Date of Sanction: 8.6.2021\n",
      "- Sanctioned Entity: Credito Etneo – Banca di Credito Cooperativo Soc. Coop\n",
      "- Reason of Sanction:\n",
      "- Date of Sanction:\n",
      "- Date of sanction:\n",
      "-/-/-/-/-/-/-/-/-/-/-/-/-/-/-/-/-/-/\n",
      "Parsed Date of Sanction: 2021-06-08 00:00:00\n",
      "Parsed Sanctioned Entity: Credito Etneo – Banca di Credito Cooperativo Soc. Coop\n",
      "Parsed Reason of Sanction: \n",
      "Date parsing error: time data '' does not match format '%d.%m.%Y'\n",
      "Processed Result: ('Credito Etneo – Banca di Credito Cooperativo Soc. Coop', 0, '', datetime.datetime(2021, 6, 8, 0, 0), '')\n",
      "Response Data: {'id': 'chatcmpl-wkle6ktke367nrc9unkz5', 'object': 'chat.completion', 'created': 1714064937, 'model': 'TheBloke/Mistral-7B-Instruct-v0.2-GGUF/mistral-7b-instruct-v0.2.Q2_K.gguf', 'choices': [{'index': 0, 'message': {'role': 'assistant', 'content': ' Date of Sanction: 8th June 2021\\nSanctioned Entity: Microcredito Italiano Spa\\nAmount: €30,000\\nReason of Sanction: Violations in anti-money laundering and terrorist financing regulations\\nCategory of Reason: Anti-Money Laundering/Counter Terrorist Financing (AMLCF or-/-/-/-/-/-/-/-/-'}, 'finish_reason': 'stop'}], 'usage': {'prompt_tokens': 99, 'completion_tokens': 99, 'total_tokens': 198}}\n",
      "Completion Text:  Date of Sanction: 8th June 2021\n",
      "Sanctioned Entity: Microcredito Italiano Spa\n",
      "Amount: €30,000\n",
      "Reason of Sanction: Violations in anti-money laundering and terrorist financing regulations\n",
      "Category of Reason: Anti-Money Laundering/Counter Terrorist Financing (AMLCF or-/-/-/-/-/-/-/-/-\n",
      "Date parsing error: time data '8th June 2021' does not match format '%d.%m.%Y'\n",
      "Parsed Sanctioned Entity: Microcredito Italiano Spa\n",
      "Original Amount String: €30,000\n",
      "Aggregated Amount: 30000\n",
      "Parsed Reason of Sanction: Violations in anti-money laundering and terrorist financing regulations\n",
      "Parsed Category of Reason: Anti-Money Laundering/Counter Terrorist Financing (AMLCF or-/-/-/-/-/-/-/-/-\n",
      "Processed Result: ('Microcredito Italiano Spa', 30000, 'Violations in anti-money laundering and terrorist financing regulations', None, 'Anti-Money Laundering/Counter Terrorist Financing (AMLCF or-/-/-/-/-/-/-/-/-')\n",
      "Response Data: {'id': 'chatcmpl-lpbaxkxx02ktxrwhoy8n3a', 'object': 'chat.completion', 'created': 1714064940, 'model': 'TheBloke/Mistral-7B-Instruct-v0.2-GGUF/mistral-7b-instruct-v0.2.Q2_K.gguf', 'choices': [{'index': 0, 'message': {'role': 'assistant', 'content': ' - Date of Sanction: June 1, 202 extract and return:\\n- Date of Sanction: June 2020;\\n- Reason of sanction: June 2020;\\n- Reason of sanction: June 2020;\\n- Reason of sanction: June 2020;\\n- Reason of sanction: June 2020;\\n- Reason of sanction'}, 'finish_reason': 'stop'}], 'usage': {'prompt_tokens': 99, 'completion_tokens': 99, 'total_tokens': 198}}\n",
      "Completion Text:  - Date of Sanction: June 1, 202 extract and return:\n",
      "- Date of Sanction: June 2020;\n",
      "- Reason of sanction: June 2020;\n",
      "- Reason of sanction: June 2020;\n",
      "- Reason of sanction: June 2020;\n",
      "- Reason of sanction: June 2020;\n",
      "- Reason of sanction\n",
      "Date parsing error: time data 'June 1, 202 extract and return' does not match format '%d.%m.%Y'\n",
      "Date parsing error: time data 'June 2020;' does not match format '%d.%m.%Y'\n",
      "Processed Result: ('', 0, '', None, '')\n",
      "Response Data: {'id': 'chatcmpl-c49wxo9cuamavp1pqn67ls', 'object': 'chat.completion', 'created': 1714064944, 'model': 'TheBloke/Mistral-7B-Instruct-v0.2-GGUF/mistral-7b-instruct-v0.2.Q2_K.gguf', 'choices': [{'index': 0, 'message': {'role': 'assistant', 'content': ' - Date of Sanction: May 11, 2021\\n- Sanctioned Entity: BCC Credito Etneo CC SC\\n- Amount: €160,000\\n- Reason of Sanction: Violation of anti-money laundering and counter-terrorist financing regulations.\\n- Category of Reason: Anti-Money Laundering/Counter-Terrorist Financing (AML/CTF'}, 'finish_reason': 'stop'}], 'usage': {'prompt_tokens': 99, 'completion_tokens': 99, 'total_tokens': 198}}\n",
      "Completion Text:  - Date of Sanction: May 11, 2021\n",
      "- Sanctioned Entity: BCC Credito Etneo CC SC\n",
      "- Amount: €160,000\n",
      "- Reason of Sanction: Violation of anti-money laundering and counter-terrorist financing regulations.\n",
      "- Category of Reason: Anti-Money Laundering/Counter-Terrorist Financing (AML/CTF\n",
      "Date parsing error: time data 'May 11, 2021' does not match format '%d.%m.%Y'\n",
      "Parsed Sanctioned Entity: BCC Credito Etneo CC SC\n",
      "Original Amount String: €160,000\n",
      "Aggregated Amount: 160000\n",
      "Parsed Reason of Sanction: Violation of anti-money laundering and counter-terrorist financing regulations.\n",
      "Parsed Category of Reason: Anti-Money Laundering/Counter-Terrorist Financing (AML/CTF\n",
      "Processed Result: ('BCC Credito Etneo CC SC', 160000, 'Violation of anti-money laundering and counter-terrorist financing regulations.', None, 'Anti-Money Laundering/Counter-Terrorist Financing (AML/CTF')\n",
      "Response Data: {'id': 'chatcmpl-p6istjtf08xxdqqn7qs8q', 'object': 'chat.completion', 'created': 1714064949, 'model': 'TheBloke/Mistral-7B-Instruct-v0.2-GGUF/mistral-7b-instruct-v0.2.Q2_K.gguf', 'choices': [{'index': 0, 'message': {'role': 'assistant', 'content': ' - Date of Sanction: 27.4.2021\\n- Sanctioned Entity: BCC del Crotonese CC SC\\n- Amount: €60,000\\n- Reason of Sanction: Failure to comply with AML/CFT regulations and obligations, including but not limited to:\\n  - Lack of adequate customer due diligence procedures\\n  - Failure to report suspicious transactions\\n  - Omissions in'}, 'finish_reason': 'stop'}], 'usage': {'prompt_tokens': 99, 'completion_tokens': 99, 'total_tokens': 198}}\n",
      "Completion Text:  - Date of Sanction: 27.4.2021\n",
      "- Sanctioned Entity: BCC del Crotonese CC SC\n",
      "- Amount: €60,000\n",
      "- Reason of Sanction: Failure to comply with AML/CFT regulations and obligations, including but not limited to:\n",
      "  - Lack of adequate customer due diligence procedures\n",
      "  - Failure to report suspicious transactions\n",
      "  - Omissions in\n",
      "Parsed Date of Sanction: 2021-04-27 00:00:00\n",
      "Parsed Sanctioned Entity: BCC del Crotonese CC SC\n",
      "Original Amount String: €60,000\n",
      "Aggregated Amount: 60000\n",
      "Parsed Reason of Sanction: Failure to comply with AML/CFT regulations and obligations, including but not limited to:\n",
      "Processed Result: ('BCC del Crotonese CC SC', 60000, 'Failure to comply with AML/CFT regulations and obligations, including but not limited to:', datetime.datetime(2021, 4, 27, 0, 0), '')\n",
      "Response Data: {'id': 'chatcmpl-8vcbhmatmszfze6hhzt07', 'object': 'chat.completion', 'created': 1714064954, 'model': 'TheBloke/Mistral-7B-Instruct-v0.2-GGUF/mistral-7b-instruct-v0.2.Q2_K.gguf', 'choices': [{'index': 0, 'message': {'role': 'assistant', 'content': ' Date of Sanction: June 16, 2021\\nSanctioned Entity: Banca Popolare di Bari SpA\\nAmount: Marco Jacobini - €1,500,000; Modestino Di Taranto, Francesco Pignataro, Paolo Nitti, Raffaele De Rango, Luca Montrone, Giorgio Papa, Vincenzo De Bustis Figarola, Greg'}, 'finish_reason': 'stop'}], 'usage': {'prompt_tokens': 99, 'completion_tokens': 99, 'total_tokens': 198}}\n",
      "Completion Text:  Date of Sanction: June 16, 2021\n",
      "Sanctioned Entity: Banca Popolare di Bari SpA\n",
      "Amount: Marco Jacobini - €1,500,000; Modestino Di Taranto, Francesco Pignataro, Paolo Nitti, Raffaele De Rango, Luca Montrone, Giorgio Papa, Vincenzo De Bustis Figarola, Greg\n",
      "Date parsing error: time data 'June 16, 2021' does not match format '%d.%m.%Y'\n",
      "Parsed Sanctioned Entity: Banca Popolare di Bari SpA\n",
      "Original Amount String: Marco Jacobini - €1,500,000; Modestino Di Taranto, Francesco Pignataro, Paolo Nitti, Raffaele De Rango, Luca Montrone, Giorgio Papa, Vincenzo De Bustis Figarola, Greg\n",
      "Aggregated Amount: 1500\n",
      "Processed Result: ('Banca Popolare di Bari SpA', 1500, '', None, '')\n",
      "Response Data: {'id': 'chatcmpl-o55jy69ptjqm51gm5h0ung', 'object': 'chat.completion', 'created': 1714064959, 'model': 'TheBloke/Mistral-7B-Instruct-v0.2-GGUF/mistral-7b-instruct-v0.2.Q2_K.gguf', 'choices': [{'index': 0, 'message': {'role': 'assistant', 'content': ' Date of Sanction: 4.5.2021\\nSanctioned Entity: Banca Popolare di Bari SpA\\nAmount: €35,000\\nReason of Sanction: Irregularities in organizational and internal control matters, affecting adequate patrimony.\\nCategory of Reason: Organizational Control/Internal Audit (or Patrimony Management)'}, 'finish_reason': 'stop'}], 'usage': {'prompt_tokens': 83, 'completion_tokens': 83, 'total_tokens': 166}}\n",
      "Completion Text:  Date of Sanction: 4.5.2021\n",
      "Sanctioned Entity: Banca Popolare di Bari SpA\n",
      "Amount: €35,000\n",
      "Reason of Sanction: Irregularities in organizational and internal control matters, affecting adequate patrimony.\n",
      "Category of Reason: Organizational Control/Internal Audit (or Patrimony Management)\n",
      "Parsed Date of Sanction: 2021-05-04 00:00:00\n",
      "Parsed Sanctioned Entity: Banca Popolare di Bari SpA\n",
      "Original Amount String: €35,000\n",
      "Aggregated Amount: 35000\n",
      "Parsed Reason of Sanction: Irregularities in organizational and internal control matters, affecting adequate patrimony.\n",
      "Parsed Category of Reason: Organizational Control/Internal Audit (or Patrimony Management)\n",
      "Processed Result: ('Banca Popolare di Bari SpA', 35000, 'Irregularities in organizational and internal control matters, affecting adequate patrimony.', datetime.datetime(2021, 5, 4, 0, 0), 'Organizational Control/Internal Audit (or Patrimony Management)')\n",
      "Response Data: {'id': 'chatcmpl-l9wlveoqyw80a2txw4whyj', 'object': 'chat.completion', 'created': 1714064965, 'model': 'TheBloke/Mistral-7B-Instruct-v0.2-GGUF/mistral-7b-instruct-v0.2.Q2_K.gguf', 'choices': [{'index': 0, 'message': {'role': 'assistant', 'content': ' - Date of Sanction: 20.4.2021\\n- Sanctioned Entity: Banca Popolare di Bari SpA\\n- Amount: €50,000\\n- Reason of Sanction: Violation of banking regulations and inadequate internal controls.\\n- Category of Reason: Regulatory compliance, Internal control.'}, 'finish_reason': 'stop'}], 'usage': {'prompt_tokens': 79, 'completion_tokens': 79, 'total_tokens': 158}}\n",
      "Completion Text:  - Date of Sanction: 20.4.2021\n",
      "- Sanctioned Entity: Banca Popolare di Bari SpA\n",
      "- Amount: €50,000\n",
      "- Reason of Sanction: Violation of banking regulations and inadequate internal controls.\n",
      "- Category of Reason: Regulatory compliance, Internal control.\n",
      "Parsed Date of Sanction: 2021-04-20 00:00:00\n",
      "Parsed Sanctioned Entity: Banca Popolare di Bari SpA\n",
      "Original Amount String: €50,000\n",
      "Aggregated Amount: 50000\n",
      "Parsed Reason of Sanction: Violation of banking regulations and inadequate internal controls.\n",
      "Parsed Category of Reason: Regulatory compliance, Internal control.\n",
      "Processed Result: ('Banca Popolare di Bari SpA', 50000, 'Violation of banking regulations and inadequate internal controls.', datetime.datetime(2021, 4, 20, 0, 0), 'Regulatory compliance, Internal control.')\n",
      "Response Data: {'id': 'chatcmpl-of8zvcg98zr4x5hgkaoc7w', 'object': 'chat.completion', 'created': 1714064969, 'model': 'TheBloke/Mistral-7B-Instruct-v0.2-GGUF/mistral-7b-instruct-v0.2.Q2_K.gguf', 'choices': [{'index': 0, 'message': {'role': 'assistant', 'content': ' - Date of Sanction: 9.3.2021\\n- Sanctioned Entity: Banca di Credito Peloritano Spa (in amministrazione straordinaria)\\n- Amount: €100,000\\n- Reason of Sanction: Violation of anti-money laundering and counter-terrorism financing regulations.\\n- Category of Reason: Anti-Money Laundering'}, 'finish_reason': 'stop'}], 'usage': {'prompt_tokens': 99, 'completion_tokens': 99, 'total_tokens': 198}}\n",
      "Completion Text:  - Date of Sanction: 9.3.2021\n",
      "- Sanctioned Entity: Banca di Credito Peloritano Spa (in amministrazione straordinaria)\n",
      "- Amount: €100,000\n",
      "- Reason of Sanction: Violation of anti-money laundering and counter-terrorism financing regulations.\n",
      "- Category of Reason: Anti-Money Laundering\n",
      "Parsed Date of Sanction: 2021-03-09 00:00:00\n",
      "Parsed Sanctioned Entity: Banca di Credito Peloritano Spa (in amministrazione straordinaria)\n",
      "Original Amount String: €100,000\n",
      "Aggregated Amount: 100000\n",
      "Parsed Reason of Sanction: Violation of anti-money laundering and counter-terrorism financing regulations.\n",
      "Parsed Category of Reason: Anti-Money Laundering\n",
      "Processed Result: ('Banca di Credito Peloritano Spa (in amministrazione straordinaria)', 100000, 'Violation of anti-money laundering and counter-terrorism financing regulations.', datetime.datetime(2021, 3, 9, 0, 0), 'Anti-Money Laundering')\n",
      "Response Data: {'id': 'chatcmpl-q09eei6qev82r6foh6a6yt', 'object': 'chat.completion', 'created': 1714064973, 'model': 'TheBloke/Mistral-7B-Instruct-v0.2-GGUF/mistral-7b-instruct-v0.2.Q2_K.gguf', 'choices': [{'index': 0, 'message': {'role': 'assistant', 'content': ' - Date of Sanction: Not provided in the text.\\n- Sanctioned Entity: Banca di Credito Peloritano Spa and specific individuals (names listed).\\n- Amount: Various amounts specified for each individual.\\n- Reason of Sanction: Violations of anti-money laundering and counter-terrorist financing regulations.\\n- Category of Reason: Ant-Sponser; \"-date-of-sanction'}, 'finish_reason': 'stop'}], 'usage': {'prompt_tokens': 99, 'completion_tokens': 99, 'total_tokens': 198}}\n",
      "Completion Text:  - Date of Sanction: Not provided in the text.\n",
      "- Sanctioned Entity: Banca di Credito Peloritano Spa and specific individuals (names listed).\n",
      "- Amount: Various amounts specified for each individual.\n",
      "- Reason of Sanction: Violations of anti-money laundering and counter-terrorist financing regulations.\n",
      "- Category of Reason: Ant-Sponser; \"-date-of-sanction\n",
      "Date parsing error: time data 'Not provided in the text.' does not match format '%d.%m.%Y'\n",
      "Parsed Sanctioned Entity: Banca di Credito Peloritano Spa and specific individuals (names listed).\n",
      "Original Amount String: Various amounts specified for each individual.\n",
      "Aggregated Amount: 0\n",
      "Parsed Reason of Sanction: Violations of anti-money laundering and counter-terrorist financing regulations.\n",
      "Parsed Category of Reason: Ant-Sponser; \"-date-of-sanction\n",
      "Processed Result: ('Banca di Credito Peloritano Spa and specific individuals (names listed).', 0, 'Violations of anti-money laundering and counter-terrorist financing regulations.', None, 'Ant-Sponser; \"-date-of-sanction')\n",
      "Response Data: {'id': 'chatcmpl-edl5xlnri575symkz938ff', 'object': 'chat.completion', 'created': 1714064978, 'model': 'TheBloke/Mistral-7B-Instruct-v0.2-GGUF/mistral-7b-instruct-v0.2.Q2_K.gguf', 'choices': [{'index': 0, 'message': {'role': 'assistant', 'content': ' - Date of Sanction: May 18, 2021\\n- Sanctioned Entity: Banca di Credito Peloritano Spa\\n- Amount: Various amounts for individuals and €30,000 for the Director General\\n- Reason of Sanction: Irregularities in the activities of a financial institution\\n- Category of Reason: Regulatory non-compliance (Financial Institution)'}, 'finish_reason': 'stop'}], 'usage': {'prompt_tokens': 96, 'completion_tokens': 96, 'total_tokens': 192}}\n",
      "Completion Text:  - Date of Sanction: May 18, 2021\n",
      "- Sanctioned Entity: Banca di Credito Peloritano Spa\n",
      "- Amount: Various amounts for individuals and €30,000 for the Director General\n",
      "- Reason of Sanction: Irregularities in the activities of a financial institution\n",
      "- Category of Reason: Regulatory non-compliance (Financial Institution)\n",
      "Date parsing error: time data 'May 18, 2021' does not match format '%d.%m.%Y'\n",
      "Parsed Sanctioned Entity: Banca di Credito Peloritano Spa\n",
      "Original Amount String: Various amounts for individuals and €30,000 for the Director General\n",
      "Aggregated Amount: 30000\n",
      "Parsed Reason of Sanction: Irregularities in the activities of a financial institution\n",
      "Parsed Category of Reason: Regulatory non-compliance (Financial Institution)\n",
      "Processed Result: ('Banca di Credito Peloritano Spa', 30000, 'Irregularities in the activities of a financial institution', None, 'Regulatory non-compliance (Financial Institution)')\n",
      "Response Data: {'id': 'chatcmpl-8wgevwsypo76i1srerbo4a', 'object': 'chat.completion', 'created': 1714064982, 'model': 'TheBloke/Mistral-7B-Instruct-v0.2-GGUF/mistral-7b-instruct-v0.2.Q2_K.gguf', 'choices': [{'index': 0, 'message': {'role': 'assistant', 'content': ' Date of Sanction: 9.3.2021\\nSanctioned Entity: Banca di Credito Peloritano SpA (in amministrazione straordinaria)\\nAmount: €100,000\\nReason of Sanction: Irregularities in organizational and internal control processes related to the credit process.\\nCategory of Reason: Organizational Controls/Internal Audits (Mismanagement)'}, 'finish_reason': 'stop'}], 'usage': {'prompt_tokens': 97, 'completion_tokens': 97, 'total_tokens': 194}}\n",
      "Completion Text:  Date of Sanction: 9.3.2021\n",
      "Sanctioned Entity: Banca di Credito Peloritano SpA (in amministrazione straordinaria)\n",
      "Amount: €100,000\n",
      "Reason of Sanction: Irregularities in organizational and internal control processes related to the credit process.\n",
      "Category of Reason: Organizational Controls/Internal Audits (Mismanagement)\n",
      "Parsed Date of Sanction: 2021-03-09 00:00:00\n",
      "Parsed Sanctioned Entity: Banca di Credito Peloritano SpA (in amministrazione straordinaria)\n",
      "Original Amount String: €100,000\n",
      "Aggregated Amount: 100000\n",
      "Parsed Reason of Sanction: Irregularities in organizational and internal control processes related to the credit process.\n",
      "Parsed Category of Reason: Organizational Controls/Internal Audits (Mismanagement)\n",
      "Processed Result: ('Banca di Credito Peloritano SpA (in amministrazione straordinaria)', 100000, 'Irregularities in organizational and internal control processes related to the credit process.', datetime.datetime(2021, 3, 9, 0, 0), 'Organizational Controls/Internal Audits (Mismanagement)')\n",
      "Response Data: {'id': 'chatcmpl-a4k15hi7ocjcpekxx445b', 'object': 'chat.completion', 'created': 1714064987, 'model': 'TheBloke/Mistral-7B-Instruct-v0.2-GGUF/mistral-7b-instruct-v0.2.Q2_K.gguf', 'choices': [{'index': 0, 'message': {'role': 'assistant', 'content': ' Date of Sanction: July 14, 2020\\nSanctioned Entity: Advam Partners SGR SpA (in liquidation coatta amministrativa)\\nAmount: €93,000 for Emanuele Facile, €33,000 for Maurizio Belli, €5,000 for Corrado Costanzo, €5,000 each for Massimiliano Forte, Pier'}, 'finish_reason': 'stop'}], 'usage': {'prompt_tokens': 99, 'completion_tokens': 99, 'total_tokens': 198}}\n",
      "Completion Text:  Date of Sanction: July 14, 2020\n",
      "Sanctioned Entity: Advam Partners SGR SpA (in liquidation coatta amministrativa)\n",
      "Amount: €93,000 for Emanuele Facile, €33,000 for Maurizio Belli, €5,000 for Corrado Costanzo, €5,000 each for Massimiliano Forte, Pier\n",
      "Date parsing error: time data 'July 14, 2020' does not match format '%d.%m.%Y'\n",
      "Parsed Sanctioned Entity: Advam Partners SGR SpA (in liquidation coatta amministrativa)\n",
      "Original Amount String: €93,000 for Emanuele Facile, €33,000 for Maurizio Belli, €5,000 for Corrado Costanzo, €5,000 each for Massimiliano Forte, Pier\n",
      "Aggregated Amount: 136000\n",
      "Processed Result: ('Advam Partners SGR SpA (in liquidation coatta amministrativa)', 136000, '', None, '')\n",
      "Response Data: {'id': 'chatcmpl-9pypuu5ayegpcig50syrjo', 'object': 'chat.completion', 'created': 1714064991, 'model': 'TheBloke/Mistral-7B-Instruct-v0.2-GGUF/mistral-7b-instruct-v0.2.Q2_K.gguf', 'choices': [{'index': 0, 'message': {'role': 'assistant', 'content': ' Date of Sanction: 22.6.2021\\nSanctioned Entity: Bancadvice.it Sas di Mazzone A & C\\nAmount: €30,000\\nReason of Sanction: Abuse of banking name (Art. 133, TUB)\\nCategory of Reason: Banking regulation violation'}, 'finish_reason': 'stop'}], 'usage': {'prompt_tokens': 78, 'completion_tokens': 78, 'total_tokens': 156}}\n",
      "Completion Text:  Date of Sanction: 22.6.2021\n",
      "Sanctioned Entity: Bancadvice.it Sas di Mazzone A & C\n",
      "Amount: €30,000\n",
      "Reason of Sanction: Abuse of banking name (Art. 133, TUB)\n",
      "Category of Reason: Banking regulation violation\n",
      "Parsed Date of Sanction: 2021-06-22 00:00:00\n",
      "Parsed Sanctioned Entity: Bancadvice.it Sas di Mazzone A & C\n",
      "Original Amount String: €30,000\n",
      "Aggregated Amount: 30000\n",
      "Parsed Reason of Sanction: Abuse of banking name (Art. 133, TUB)\n",
      "Parsed Category of Reason: Banking regulation violation\n",
      "Processed Result: ('Bancadvice.it Sas di Mazzone A & C', 30000, 'Abuse of banking name (Art. 133, TUB)', datetime.datetime(2021, 6, 22, 0, 0), 'Banking regulation violation')\n",
      "Response Data: {'id': 'chatcmpl-3gqkprx2fe5v45o1z526t', 'object': 'chat.completion', 'created': 1714064996, 'model': 'TheBloke/Mistral-7B-Instruct-v0.2-GGUF/mistral-7b-instruct-v0.2.Q2_K.gguf', 'choices': [{'index': 0, 'message': {'role': 'assistant', 'content': ' - Date of Sanction: 01.06.2021\\n- Sanctioned Entity: Davis & Morgan Spa\\n- Amount: €30,000\\n- Reason of Sanction: Violation of anti-money laundering and counter-terrorist financing regulations\\n- Category of Reason: Anti-Money Laundering/Counter-Terrorist Financing (AML/CTF)'}, 'finish_reason': 'stop'}], 'usage': {'prompt_tokens': 95, 'completion_tokens': 95, 'total_tokens': 190}}\n",
      "Completion Text:  - Date of Sanction: 01.06.2021\n",
      "- Sanctioned Entity: Davis & Morgan Spa\n",
      "- Amount: €30,000\n",
      "- Reason of Sanction: Violation of anti-money laundering and counter-terrorist financing regulations\n",
      "- Category of Reason: Anti-Money Laundering/Counter-Terrorist Financing (AML/CTF)\n",
      "Parsed Date of Sanction: 2021-06-01 00:00:00\n",
      "Parsed Sanctioned Entity: Davis & Morgan Spa\n",
      "Original Amount String: €30,000\n",
      "Aggregated Amount: 30000\n",
      "Parsed Reason of Sanction: Violation of anti-money laundering and counter-terrorist financing regulations\n",
      "Parsed Category of Reason: Anti-Money Laundering/Counter-Terrorist Financing (AML/CTF)\n",
      "Processed Result: ('Davis & Morgan Spa', 30000, 'Violation of anti-money laundering and counter-terrorist financing regulations', datetime.datetime(2021, 6, 1, 0, 0), 'Anti-Money Laundering/Counter-Terrorist Financing (AML/CTF)')\n",
      "Response Data: {'id': 'chatcmpl-4dkvb5bpl5ty8pxqozo85', 'object': 'chat.completion', 'created': 1714065001, 'model': 'TheBloke/Mistral-7B-Instruct-v0.2-GGUF/mistral-7b-instruct-v0.2.Q2_K.gguf', 'choices': [{'index': 0, 'message': {'role': 'assistant', 'content': ' - Date of Sanction: 11.05.2021\\n- Sanctioned Entity: BCC G. Toniolo di San Cataldo soc. coop.\\n- Amount: €30,000\\n- Reason of Sanction: Violation of anti-money laundering and counter-terrorist financing regulations.\\n- Category of Reason: Anti-Money Laundering/Counter-Terrorist Fin'}, 'finish_reason': 'stop'}], 'usage': {'prompt_tokens': 99, 'completion_tokens': 99, 'total_tokens': 198}}\n",
      "Completion Text:  - Date of Sanction: 11.05.2021\n",
      "- Sanctioned Entity: BCC G. Toniolo di San Cataldo soc. coop.\n",
      "- Amount: €30,000\n",
      "- Reason of Sanction: Violation of anti-money laundering and counter-terrorist financing regulations.\n",
      "- Category of Reason: Anti-Money Laundering/Counter-Terrorist Fin\n",
      "Parsed Date of Sanction: 2021-05-11 00:00:00\n",
      "Parsed Sanctioned Entity: BCC G. Toniolo di San Cataldo soc. coop.\n",
      "Original Amount String: €30,000\n",
      "Aggregated Amount: 30000\n",
      "Parsed Reason of Sanction: Violation of anti-money laundering and counter-terrorist financing regulations.\n",
      "Parsed Category of Reason: Anti-Money Laundering/Counter-Terrorist Fin\n",
      "Processed Result: ('BCC G. Toniolo di San Cataldo soc. coop.', 30000, 'Violation of anti-money laundering and counter-terrorist financing regulations.', datetime.datetime(2021, 5, 11, 0, 0), 'Anti-Money Laundering/Counter-Terrorist Fin')\n",
      "Response Data: {'id': 'chatcmpl-4tzbvibc1smq0np0s8v6j', 'object': 'chat.completion', 'created': 1714065005, 'model': 'TheBloke/Mistral-7B-Instruct-v0.2-GGUF/mistral-7b-instruct-v0.2.Q2_K.gguf', 'choices': [{'index': 0, 'message': {'role': 'assistant', 'content': ' Date of Sanction: 25.5.2021\\nSanctioned Entity: Diners Club Italia Srl\\nAmount: €30,000\\nReason of Sanction: Violation of regulatory requirements in matters of account control\\nCategory of Reason: Regulatory compliance'}, 'finish_reason': 'stop'}], 'usage': {'prompt_tokens': 63, 'completion_tokens': 63, 'total_tokens': 126}}\n",
      "Completion Text:  Date of Sanction: 25.5.2021\n",
      "Sanctioned Entity: Diners Club Italia Srl\n",
      "Amount: €30,000\n",
      "Reason of Sanction: Violation of regulatory requirements in matters of account control\n",
      "Category of Reason: Regulatory compliance\n",
      "Parsed Date of Sanction: 2021-05-25 00:00:00\n",
      "Parsed Sanctioned Entity: Diners Club Italia Srl\n",
      "Original Amount String: €30,000\n",
      "Aggregated Amount: 30000\n",
      "Parsed Reason of Sanction: Violation of regulatory requirements in matters of account control\n",
      "Parsed Category of Reason: Regulatory compliance\n",
      "Processed Result: ('Diners Club Italia Srl', 30000, 'Violation of regulatory requirements in matters of account control', datetime.datetime(2021, 5, 25, 0, 0), 'Regulatory compliance')\n",
      "Response Data: {'id': 'chatcmpl-p6pc6pc1ytmwhlh7uabxen', 'object': 'chat.completion', 'created': 1714065010, 'model': 'TheBloke/Mistral-7B-Instruct-v0.2-GGUF/mistral-7b-instruct-v0.2.Q2_K.gguf', 'choices': [{'index': 0, 'message': {'role': 'assistant', 'content': ' - Date of Sanction: May 18, 2021\\n- Sanctioned Entity: Western Union Payments Services Ireland Ltd\\n- Amount: N/A (alternative to administrative pecuniary sanction)\\n- Reason of Sanction: Failure to prevent use of intermediaries for money laundering and terrorism financing\\n- Category of Reason: Anti-Money Laundering/Countering the Financing of Terrorism'}, 'finish_reason': 'stop'}], 'usage': {'prompt_tokens': 99, 'completion_tokens': 99, 'total_tokens': 198}}\n",
      "Completion Text:  - Date of Sanction: May 18, 2021\n",
      "- Sanctioned Entity: Western Union Payments Services Ireland Ltd\n",
      "- Amount: N/A (alternative to administrative pecuniary sanction)\n",
      "- Reason of Sanction: Failure to prevent use of intermediaries for money laundering and terrorism financing\n",
      "- Category of Reason: Anti-Money Laundering/Countering the Financing of Terrorism\n",
      "Date parsing error: time data 'May 18, 2021' does not match format '%d.%m.%Y'\n",
      "Parsed Sanctioned Entity: Western Union Payments Services Ireland Ltd\n",
      "Original Amount String: N/A (alternative to administrative pecuniary sanction)\n",
      "Aggregated Amount: 0\n",
      "Parsed Reason of Sanction: Failure to prevent use of intermediaries for money laundering and terrorism financing\n",
      "Parsed Category of Reason: Anti-Money Laundering/Countering the Financing of Terrorism\n",
      "Processed Result: ('Western Union Payments Services Ireland Ltd', 0, 'Failure to prevent use of intermediaries for money laundering and terrorism financing', None, 'Anti-Money Laundering/Countering the Financing of Terrorism')\n",
      "Response Data: {'id': 'chatcmpl-1as9250lr69ljh3fcze79e', 'object': 'chat.completion', 'created': 1714065014, 'model': 'TheBloke/Mistral-7B-Instruct-v0.2-GGUF/mistral-7b-instruct-v0.2.Q2_K.gguf', 'choices': [{'index': 0, 'message': {'role': 'assistant', 'content': ' - Date of Sanction: 3 May 2021\\n- Sanctioned Entity: Banca Monte dei Paschi di Siena SpA\\n- Amount: €2,900,000\\n- Reason of Sanction: Violation of transparency regulations in banking and financial services.\\n- Category of Reason: Transparency.'}, 'finish_reason': 'stop'}], 'usage': {'prompt_tokens': 78, 'completion_tokens': 78, 'total_tokens': 156}}\n",
      "Completion Text:  - Date of Sanction: 3 May 2021\n",
      "- Sanctioned Entity: Banca Monte dei Paschi di Siena SpA\n",
      "- Amount: €2,900,000\n",
      "- Reason of Sanction: Violation of transparency regulations in banking and financial services.\n",
      "- Category of Reason: Transparency.\n",
      "Date parsing error: time data '3 May 2021' does not match format '%d.%m.%Y'\n",
      "Parsed Sanctioned Entity: Banca Monte dei Paschi di Siena SpA\n",
      "Original Amount String: €2,900,000\n",
      "Aggregated Amount: 2900\n",
      "Parsed Reason of Sanction: Violation of transparency regulations in banking and financial services.\n",
      "Parsed Category of Reason: Transparency.\n",
      "Processed Result: ('Banca Monte dei Paschi di Siena SpA', 2900, 'Violation of transparency regulations in banking and financial services.', None, 'Transparency.')\n",
      "Response Data: {'id': 'chatcmpl-7n6pz7o0dwd3jj3yhct8fg', 'object': 'chat.completion', 'created': 1714065019, 'model': 'TheBloke/Mistral-7B-Instruct-v0.2-GGUF/mistral-7b-instruct-v0.2.Q2_K.gguf', 'choices': [{'index': 0, 'message': {'role': 'assistant', 'content': ' Date of Sanction: 6.4.2021\\nSanctioned Entity: Dynamica Retail Spa\\nAmount: €30,000\\nReason of Sanction: Violations of transparency regulations in banking and financial services.\\nCategory of Reason: Transparency'}, 'finish_reason': 'stop'}], 'usage': {'prompt_tokens': 64, 'completion_tokens': 64, 'total_tokens': 128}}\n",
      "Completion Text:  Date of Sanction: 6.4.2021\n",
      "Sanctioned Entity: Dynamica Retail Spa\n",
      "Amount: €30,000\n",
      "Reason of Sanction: Violations of transparency regulations in banking and financial services.\n",
      "Category of Reason: Transparency\n",
      "Parsed Date of Sanction: 2021-04-06 00:00:00\n",
      "Parsed Sanctioned Entity: Dynamica Retail Spa\n",
      "Original Amount String: €30,000\n",
      "Aggregated Amount: 30000\n",
      "Parsed Reason of Sanction: Violations of transparency regulations in banking and financial services.\n",
      "Parsed Category of Reason: Transparency\n",
      "Processed Result: ('Dynamica Retail Spa', 30000, 'Violations of transparency regulations in banking and financial services.', datetime.datetime(2021, 4, 6, 0, 0), 'Transparency')\n",
      "Response Data: {'id': 'chatcmpl-sgd2bhzc07l7smmdpai1wf', 'object': 'chat.completion', 'created': 1714065023, 'model': 'TheBloke/Mistral-7B-Instruct-v0.2-GGUF/mistral-7b-instruct-v0.2.Q2_K.gguf', 'choices': [{'index': 0, 'message': {'role': 'assistant', 'content': ' - Date of Sanction: 10.11.2020\\n- Sanctioned Entity: Serenissima SGR SpA\\n- Amount: Luca Gigomeu Euro 56,56, Alessandro Di Carlo\\n- Reason of Sanction: Irregularities.\\n- Date of Sanction: not provided};\\n- Reason of sanction: not provided;\\n- Reason of sanction: not provided'}, 'finish_reason': 'stop'}], 'usage': {'prompt_tokens': 99, 'completion_tokens': 99, 'total_tokens': 198}}\n",
      "Completion Text:  - Date of Sanction: 10.11.2020\n",
      "- Sanctioned Entity: Serenissima SGR SpA\n",
      "- Amount: Luca Gigomeu Euro 56,56, Alessandro Di Carlo\n",
      "- Reason of Sanction: Irregularities.\n",
      "- Date of Sanction: not provided};\n",
      "- Reason of sanction: not provided;\n",
      "- Reason of sanction: not provided\n",
      "Parsed Date of Sanction: 2020-11-10 00:00:00\n",
      "Parsed Sanctioned Entity: Serenissima SGR SpA\n",
      "Original Amount String: Luca Gigomeu Euro 56,56, Alessandro Di Carlo\n",
      "Aggregated Amount: 112\n",
      "Parsed Reason of Sanction: Irregularities.\n",
      "Date parsing error: time data 'not provided};' does not match format '%d.%m.%Y'\n",
      "Processed Result: ('Serenissima SGR SpA', 112, 'Irregularities.', datetime.datetime(2020, 11, 10, 0, 0), '')\n",
      "Response Data: {'id': 'chatcmpl-2aitm0i8kfosicbti3vogo', 'object': 'chat.completion', 'created': 1714065026, 'model': 'TheBloke/Mistral-7B-Instruct-v0.2-GGUF/mistral-7b-instruct-v0.2.Q2_K.gguf', 'choices': [{'index': 0, 'message': {'role': 'assistant', 'content': ' Date of Sanction: 30.3.2021\\nSanctioned Entity: Cassa Raiffeisen Schlern-Rosengarten (società cooperativa)\\nAmount: €30,000\\nReason of Sanction: Violations of banking and credit regulations\\nCategory of Reason: Regulatory compliance (banking and credit)'}, 'finish_reason': 'stop'}], 'usage': {'prompt_tokens': 80, 'completion_tokens': 80, 'total_tokens': 160}}\n",
      "Completion Text:  Date of Sanction: 30.3.2021\n",
      "Sanctioned Entity: Cassa Raiffeisen Schlern-Rosengarten (società cooperativa)\n",
      "Amount: €30,000\n",
      "Reason of Sanction: Violations of banking and credit regulations\n",
      "Category of Reason: Regulatory compliance (banking and credit)\n",
      "Parsed Date of Sanction: 2021-03-30 00:00:00\n",
      "Parsed Sanctioned Entity: Cassa Raiffeisen Schlern-Rosengarten (società cooperativa)\n",
      "Original Amount String: €30,000\n",
      "Aggregated Amount: 30000\n",
      "Parsed Reason of Sanction: Violations of banking and credit regulations\n",
      "Parsed Category of Reason: Regulatory compliance (banking and credit)\n",
      "Processed Result: ('Cassa Raiffeisen Schlern-Rosengarten (società cooperativa)', 30000, 'Violations of banking and credit regulations', datetime.datetime(2021, 3, 30, 0, 0), 'Regulatory compliance (banking and credit)')\n",
      "Response Data: {'id': 'chatcmpl-az5oj2ln6v5dsdvczjal65', 'object': 'chat.completion', 'created': 1714065031, 'model': 'TheBloke/Mistral-7B-Instruct-v0.2-GGUF/mistral-7b-instruct-v0.2.Q2_K.gguf', 'choices': [{'index': 0, 'message': {'role': 'assistant', 'content': ' - Date of Sanction: 23.3.2021\\n- Sanctioned Entity: Finanza & Factor Spa (now in liquidation)\\n- Amount: €51,000\\n- Reason of Sanction: Violation of regulatory requirements related to adequate verification, profilatura, and active collaboration (Articles 17, 18, 19, 20, 24, 25'}, 'finish_reason': 'stop'}], 'usage': {'prompt_tokens': 99, 'completion_tokens': 99, 'total_tokens': 198}}\n",
      "Completion Text:  - Date of Sanction: 23.3.2021\n",
      "- Sanctioned Entity: Finanza & Factor Spa (now in liquidation)\n",
      "- Amount: €51,000\n",
      "- Reason of Sanction: Violation of regulatory requirements related to adequate verification, profilatura, and active collaboration (Articles 17, 18, 19, 20, 24, 25\n",
      "Parsed Date of Sanction: 2021-03-23 00:00:00\n",
      "Parsed Sanctioned Entity: Finanza & Factor Spa (now in liquidation)\n",
      "Original Amount String: €51,000\n",
      "Aggregated Amount: 51000\n",
      "Parsed Reason of Sanction: Violation of regulatory requirements related to adequate verification, profilatura, and active collaboration (Articles 17, 18, 19, 20, 24, 25\n",
      "Processed Result: ('Finanza & Factor Spa (now in liquidation)', 51000, 'Violation of regulatory requirements related to adequate verification, profilatura, and active collaboration (Articles 17, 18, 19, 20, 24, 25', datetime.datetime(2021, 3, 23, 0, 0), '')\n",
      "Response Data: {'id': 'chatcmpl-y56eaq895b9yinuwxorier', 'object': 'chat.completion', 'created': 1714065035, 'model': 'TheBloke/Mistral-7B-Instruct-v0.2-GGUF/mistral-7b-instruct-v0.2.Q2_K.gguf', 'choices': [{'index': 0, 'message': {'role': 'assistant', 'content': ' Date of Sanction: 23.3.2021\\nSanctioned Entity: Finanza & Factor Spa (now in liquidation)\\nAmount: €102,000 (€51,000 for each irregularity)\\nReason of Sanction: Violation of banking norms and insufficient organization, internal controls, and credit process.\\nCategory of Reason: Regulatory compliance, Internal Controls.'}, 'finish_reason': 'stop'}], 'usage': {'prompt_tokens': 98, 'completion_tokens': 98, 'total_tokens': 196}}\n",
      "Completion Text:  Date of Sanction: 23.3.2021\n",
      "Sanctioned Entity: Finanza & Factor Spa (now in liquidation)\n",
      "Amount: €102,000 (€51,000 for each irregularity)\n",
      "Reason of Sanction: Violation of banking norms and insufficient organization, internal controls, and credit process.\n",
      "Category of Reason: Regulatory compliance, Internal Controls.\n",
      "Parsed Date of Sanction: 2021-03-23 00:00:00\n",
      "Parsed Sanctioned Entity: Finanza & Factor Spa (now in liquidation)\n",
      "Original Amount String: €102,000 (€51,000 for each irregularity)\n",
      "Aggregated Amount: 51102\n",
      "Parsed Reason of Sanction: Violation of banking norms and insufficient organization, internal controls, and credit process.\n",
      "Parsed Category of Reason: Regulatory compliance, Internal Controls.\n",
      "Processed Result: ('Finanza & Factor Spa (now in liquidation)', 51102, 'Violation of banking norms and insufficient organization, internal controls, and credit process.', datetime.datetime(2021, 3, 23, 0, 0), 'Regulatory compliance, Internal Controls.')\n",
      "Response Data: {'id': 'chatcmpl-rrkeuikbmdhtvzrsem0c5p', 'object': 'chat.completion', 'created': 1714065039, 'model': 'TheBloke/Mistral-7B-Instruct-v0.2-GGUF/mistral-7b-instruct-v0.2.Q2_K.gguf', 'choices': [{'index': 0, 'message': {'role': 'assistant', 'content': ' Date of Sanction: 16.03.2021\\nSanctioned Entity: Banca Popolare di Cortona SCPA\\nAmount: €30,000\\nReason of Sanction: Violation of regulatory requirements in financial sector\\nCategory of Reason: Regulatory non-compliance (Anti-Money Laundering and Countering the Financing of Terrorism)'}, 'finish_reason': 'stop'}], 'usage': {'prompt_tokens': 91, 'completion_tokens': 91, 'total_tokens': 182}}\n",
      "Completion Text:  Date of Sanction: 16.03.2021\n",
      "Sanctioned Entity: Banca Popolare di Cortona SCPA\n",
      "Amount: €30,000\n",
      "Reason of Sanction: Violation of regulatory requirements in financial sector\n",
      "Category of Reason: Regulatory non-compliance (Anti-Money Laundering and Countering the Financing of Terrorism)\n",
      "Parsed Date of Sanction: 2021-03-16 00:00:00\n",
      "Parsed Sanctioned Entity: Banca Popolare di Cortona SCPA\n",
      "Original Amount String: €30,000\n",
      "Aggregated Amount: 30000\n",
      "Parsed Reason of Sanction: Violation of regulatory requirements in financial sector\n",
      "Parsed Category of Reason: Regulatory non-compliance (Anti-Money Laundering and Countering the Financing of Terrorism)\n",
      "Processed Result: ('Banca Popolare di Cortona SCPA', 30000, 'Violation of regulatory requirements in financial sector', datetime.datetime(2021, 3, 16, 0, 0), 'Regulatory non-compliance (Anti-Money Laundering and Countering the Financing of Terrorism)')\n",
      "Response Data: {'id': 'chatcmpl-vwkcvpem42omuq9q1yquaf', 'object': 'chat.completion', 'created': 1714065044, 'model': 'TheBloke/Mistral-7B-Instruct-v0.2-GGUF/mistral-7b-instruct-v0.2.Q2_K.gguf', 'choices': [{'index': 0, 'message': {'role': 'assistant', 'content': ' Date of Sanction: 16.3.2021\\nSanctioned Entity: Banca Popolare di Cortona SCPA\\nAmount: €30,000\\nReason of Sanction: Violations related to organizational and control issues in credit processes\\nCategory of Reason: Compliance (regarding banking regulations)'}, 'finish_reason': 'stop'}], 'usage': {'prompt_tokens': 75, 'completion_tokens': 75, 'total_tokens': 150}}\n",
      "Completion Text:  Date of Sanction: 16.3.2021\n",
      "Sanctioned Entity: Banca Popolare di Cortona SCPA\n",
      "Amount: €30,000\n",
      "Reason of Sanction: Violations related to organizational and control issues in credit processes\n",
      "Category of Reason: Compliance (regarding banking regulations)\n",
      "Parsed Date of Sanction: 2021-03-16 00:00:00\n",
      "Parsed Sanctioned Entity: Banca Popolare di Cortona SCPA\n",
      "Original Amount String: €30,000\n",
      "Aggregated Amount: 30000\n",
      "Parsed Reason of Sanction: Violations related to organizational and control issues in credit processes\n",
      "Parsed Category of Reason: Compliance (regarding banking regulations)\n",
      "Processed Result: ('Banca Popolare di Cortona SCPA', 30000, 'Violations related to organizational and control issues in credit processes', datetime.datetime(2021, 3, 16, 0, 0), 'Compliance (regarding banking regulations)')\n",
      "Response Data: {'id': 'chatcmpl-7ddvetw17u7eanv358yay', 'object': 'chat.completion', 'created': 1714065047, 'model': 'TheBloke/Mistral-7B-Instruct-v0.2-GGUF/mistral-7b-instruct-v0.2.Q2_K.gguf', 'choices': [{'index': 0, 'message': {'role': 'assistant', 'content': ' - Date of Sanction: 27.10.2020\\n- Sanctioned Entity: Banca del Piemonte SpA\\n- Amount: €30,000\\n- Reason of Sanction: Failure to comply with customer verification and reporting of suspicious operations requirements.\\n- Category of Reason: Anti-Money Laundering/Know Your Customer (AML/KYC) regulations.'}, 'finish_reason': 'stop'}], 'usage': {'prompt_tokens': 95, 'completion_tokens': 95, 'total_tokens': 190}}\n",
      "Completion Text:  - Date of Sanction: 27.10.2020\n",
      "- Sanctioned Entity: Banca del Piemonte SpA\n",
      "- Amount: €30,000\n",
      "- Reason of Sanction: Failure to comply with customer verification and reporting of suspicious operations requirements.\n",
      "- Category of Reason: Anti-Money Laundering/Know Your Customer (AML/KYC) regulations.\n",
      "Parsed Date of Sanction: 2020-10-27 00:00:00\n",
      "Parsed Sanctioned Entity: Banca del Piemonte SpA\n",
      "Original Amount String: €30,000\n",
      "Aggregated Amount: 30000\n",
      "Parsed Reason of Sanction: Failure to comply with customer verification and reporting of suspicious operations requirements.\n",
      "Parsed Category of Reason: Anti-Money Laundering/Know Your Customer (AML/KYC) regulations.\n",
      "Processed Result: ('Banca del Piemonte SpA', 30000, 'Failure to comply with customer verification and reporting of suspicious operations requirements.', datetime.datetime(2020, 10, 27, 0, 0), 'Anti-Money Laundering/Know Your Customer (AML/KYC) regulations.')\n",
      "Response Data: {'id': 'chatcmpl-fr8tdu5rvusibx7cgdccz', 'object': 'chat.completion', 'created': 1714065052, 'model': 'TheBloke/Mistral-7B-Instruct-v0.2-GGUF/mistral-7b-instruct-v0.2.Q2_K.gguf', 'choices': [{'index': 0, 'message': {'role': 'assistant', 'content': ' - Date of Sanction: 10.11.2020\\n- Sanctioned Entity: Serenissima SGR Spa\\n- Amount: €30,000\\n- Reason of Sanction: Violation of regulatory obligations in the financial sector\\n- Category of Reason: Regulatory non-compliance (or Financial regulation)'}, 'finish_reason': 'stop'}], 'usage': {'prompt_tokens': 81, 'completion_tokens': 81, 'total_tokens': 162}}\n",
      "Completion Text:  - Date of Sanction: 10.11.2020\n",
      "- Sanctioned Entity: Serenissima SGR Spa\n",
      "- Amount: €30,000\n",
      "- Reason of Sanction: Violation of regulatory obligations in the financial sector\n",
      "- Category of Reason: Regulatory non-compliance (or Financial regulation)\n",
      "Parsed Date of Sanction: 2020-11-10 00:00:00\n",
      "Parsed Sanctioned Entity: Serenissima SGR Spa\n",
      "Original Amount String: €30,000\n",
      "Aggregated Amount: 30000\n",
      "Parsed Reason of Sanction: Violation of regulatory obligations in the financial sector\n",
      "Parsed Category of Reason: Regulatory non-compliance (or Financial regulation)\n",
      "Processed Result: ('Serenissima SGR Spa', 30000, 'Violation of regulatory obligations in the financial sector', datetime.datetime(2020, 11, 10, 0, 0), 'Regulatory non-compliance (or Financial regulation)')\n",
      "Response Data: {'id': 'chatcmpl-za1t2pd504izck5n1e7y1b', 'object': 'chat.completion', 'created': 1714065057, 'model': 'TheBloke/Mistral-7B-Instruct-v0.2-GGUF/mistral-7b-instruct-v0.2.Q2_K.gguf', 'choices': [{'index': 0, 'message': {'role': 'assistant', 'content': ' Date of Sanction: 17.11.2020\\nSanctioned Entity: Ipagoo LLP\\nAmount: €30,000\\nReason of Sanction: Violation of customer verification obligations (artt. 17, 18, 19, d.lgs. n. 231/2007; art. 62, d.lgs. n. 231'}, 'finish_reason': 'stop'}], 'usage': {'prompt_tokens': 99, 'completion_tokens': 99, 'total_tokens': 198}}\n",
      "Completion Text:  Date of Sanction: 17.11.2020\n",
      "Sanctioned Entity: Ipagoo LLP\n",
      "Amount: €30,000\n",
      "Reason of Sanction: Violation of customer verification obligations (artt. 17, 18, 19, d.lgs. n. 231/2007; art. 62, d.lgs. n. 231\n",
      "Parsed Date of Sanction: 2020-11-17 00:00:00\n",
      "Parsed Sanctioned Entity: Ipagoo LLP\n",
      "Original Amount String: €30,000\n",
      "Aggregated Amount: 30000\n",
      "Parsed Reason of Sanction: Violation of customer verification obligations (artt. 17, 18, 19, d.lgs. n. 231/2007; art. 62, d.lgs. n. 231\n",
      "Processed Result: ('Ipagoo LLP', 30000, 'Violation of customer verification obligations (artt. 17, 18, 19, d.lgs. n. 231/2007; art. 62, d.lgs. n. 231', datetime.datetime(2020, 11, 17, 0, 0), '')\n",
      "Response Data: {'id': 'chatcmpl-0nodm39psulb39yn7l4xez', 'object': 'chat.completion', 'created': 1714065062, 'model': 'TheBloke/Mistral-7B-Instruct-v0.2-GGUF/mistral-7b-instruct-v0.2.Q2_K.gguf', 'choices': [{'index': 0, 'message': {'role': 'assistant', 'content': ' Date of Sanction: 24 November 2020\\nSanctioned Entity: Invest Banca Spa (now in administration)\\nAmount: €30,000\\nReason of Sanction: Violations related to credit operations and conflicts of interest\\nCategory of Reason: Credit Operations, Conflicts of Interest'}, 'finish_reason': 'stop'}], 'usage': {'prompt_tokens': 71, 'completion_tokens': 71, 'total_tokens': 142}}\n",
      "Completion Text:  Date of Sanction: 24 November 2020\n",
      "Sanctioned Entity: Invest Banca Spa (now in administration)\n",
      "Amount: €30,000\n",
      "Reason of Sanction: Violations related to credit operations and conflicts of interest\n",
      "Category of Reason: Credit Operations, Conflicts of Interest\n",
      "Date parsing error: time data '24 November 2020' does not match format '%d.%m.%Y'\n",
      "Parsed Sanctioned Entity: Invest Banca Spa (now in administration)\n",
      "Original Amount String: €30,000\n",
      "Aggregated Amount: 30000\n",
      "Parsed Reason of Sanction: Violations related to credit operations and conflicts of interest\n",
      "Parsed Category of Reason: Credit Operations, Conflicts of Interest\n",
      "Processed Result: ('Invest Banca Spa (now in administration)', 30000, 'Violations related to credit operations and conflicts of interest', None, 'Credit Operations, Conflicts of Interest')\n",
      "Response Data: {'id': 'chatcmpl-09r19mj31tat2n0r3j9cm6q', 'object': 'chat.completion', 'created': 1714065065, 'model': 'TheBloke/Mistral-7B-Instruct-v0.2-GGUF/mistral-7b-instruct-v0.2.Q2_K.gguf', 'choices': [{'index': 0, 'message': {'role': 'assistant', 'content': ' Date of Sanction: 15.12.2020\\nSanctioned Entity: Giotto SIM Spa (ora Giotto Cellino Sim Spa)\\nAmount: €30,000\\nReason of Sanction: Violation of obligations for adequate verification of clients and reporting of suspicious operations\\nCategory of Reason: Violation of obligations forinstvestit>\\n\\nProvidedimentnamentmentmentmentline{12121'}, 'finish_reason': 'stop'}], 'usage': {'prompt_tokens': 99, 'completion_tokens': 99, 'total_tokens': 198}}\n",
      "Completion Text:  Date of Sanction: 15.12.2020\n",
      "Sanctioned Entity: Giotto SIM Spa (ora Giotto Cellino Sim Spa)\n",
      "Amount: €30,000\n",
      "Reason of Sanction: Violation of obligations for adequate verification of clients and reporting of suspicious operations\n",
      "Category of Reason: Violation of obligations forinstvestit>\n",
      "\n",
      "Providedimentnamentmentmentmentline{12121\n",
      "Parsed Date of Sanction: 2020-12-15 00:00:00\n",
      "Parsed Sanctioned Entity: Giotto SIM Spa (ora Giotto Cellino Sim Spa)\n",
      "Original Amount String: €30,000\n",
      "Aggregated Amount: 30000\n",
      "Parsed Reason of Sanction: Violation of obligations for adequate verification of clients and reporting of suspicious operations\n",
      "Parsed Category of Reason: Violation of obligations forinstvestit>\n",
      "Processed Result: ('Giotto SIM Spa (ora Giotto Cellino Sim Spa)', 30000, 'Violation of obligations for adequate verification of clients and reporting of suspicious operations', datetime.datetime(2020, 12, 15, 0, 0), 'Violation of obligations forinstvestit>')\n",
      "Response Data: {'id': 'chatcmpl-7b3x0oygxdub2upaveo2f6', 'object': 'chat.completion', 'created': 1714065070, 'model': 'TheBloke/Mistral-7B-Instruct-v0.2-GGUF/mistral-7b-instruct-v0.2.Q2_K.gguf', 'choices': [{'index': 0, 'message': {'role': 'assistant', 'content': ' - Date of Sanction: 22.12.2020\\n- Sanctioned Entity: Cordusio SIM Spa\\n- Amount: €30,000\\n- Reason of Sanction: Violations of regulatory requirements in financial transactions\\n- Category of Reason: Regulatory non-compliance (financial)'}, 'finish_reason': 'stop'}], 'usage': {'prompt_tokens': 79, 'completion_tokens': 79, 'total_tokens': 158}}\n",
      "Completion Text:  - Date of Sanction: 22.12.2020\n",
      "- Sanctioned Entity: Cordusio SIM Spa\n",
      "- Amount: €30,000\n",
      "- Reason of Sanction: Violations of regulatory requirements in financial transactions\n",
      "- Category of Reason: Regulatory non-compliance (financial)\n",
      "Parsed Date of Sanction: 2020-12-22 00:00:00\n",
      "Parsed Sanctioned Entity: Cordusio SIM Spa\n",
      "Original Amount String: €30,000\n",
      "Aggregated Amount: 30000\n",
      "Parsed Reason of Sanction: Violations of regulatory requirements in financial transactions\n",
      "Parsed Category of Reason: Regulatory non-compliance (financial)\n",
      "Processed Result: ('Cordusio SIM Spa', 30000, 'Violations of regulatory requirements in financial transactions', datetime.datetime(2020, 12, 22, 0, 0), 'Regulatory non-compliance (financial)')\n",
      "Response Data: {'id': 'chatcmpl-9tyxupswupvn7vorkpl01n', 'object': 'chat.completion', 'created': 1714065075, 'model': 'TheBloke/Mistral-7B-Instruct-v0.2-GGUF/mistral-7b-instruct-v0.2.Q2_K.gguf', 'choices': [{'index': 0, 'message': {'role': 'assistant', 'content': \" Date of Sanction: 19.01.2021\\nSanctioned Entity: Société Générale Securities Services SpA\\nAmount: €55,000\\nReason of Sanction: Violation of financial intermediary norms (art. 48, TUF; Titoli VIII and IX, Regulation of Banca d'Italia on collective asset management; art. 190, TU\"}, 'finish_reason': 'stop'}], 'usage': {'prompt_tokens': 99, 'completion_tokens': 99, 'total_tokens': 198}}\n",
      "Completion Text:  Date of Sanction: 19.01.2021\n",
      "Sanctioned Entity: Société Générale Securities Services SpA\n",
      "Amount: €55,000\n",
      "Reason of Sanction: Violation of financial intermediary norms (art. 48, TUF; Titoli VIII and IX, Regulation of Banca d'Italia on collective asset management; art. 190, TU\n",
      "Parsed Date of Sanction: 2021-01-19 00:00:00\n",
      "Parsed Sanctioned Entity: Société Générale Securities Services SpA\n",
      "Original Amount String: €55,000\n",
      "Aggregated Amount: 55000\n",
      "Parsed Reason of Sanction: Violation of financial intermediary norms (art. 48, TUF; Titoli VIII and IX, Regulation of Banca d'Italia on collective asset management; art. 190, TU\n",
      "Processed Result: ('Société Générale Securities Services SpA', 55000, \"Violation of financial intermediary norms (art. 48, TUF; Titoli VIII and IX, Regulation of Banca d'Italia on collective asset management; art. 190, TU\", datetime.datetime(2021, 1, 19, 0, 0), '')\n",
      "Response Data: {'id': 'chatcmpl-w5622hlucpgenct58rlhu', 'object': 'chat.completion', 'created': 1714065080, 'model': 'TheBloke/Mistral-7B-Instruct-v0.2-GGUF/mistral-7b-instruct-v0.2.Q2_K.gguf', 'choices': [{'index': 0, 'message': {'role': 'assistant', 'content': ' - Date of Sanction: 21.07.2020\\n- Sanctioned Entity: Istituto Finanziario Europeo Spa\\n- Amount: €37,000\\n- Reason of Sanction: Violations related to organization and controls (pecuniary sanctions under art. 144 TUB)\\n- Category of Reason: Organizational Controls/Compliance.'}, 'finish_reason': 'stop'}], 'usage': {'prompt_tokens': 96, 'completion_tokens': 96, 'total_tokens': 192}}\n",
      "Completion Text:  - Date of Sanction: 21.07.2020\n",
      "- Sanctioned Entity: Istituto Finanziario Europeo Spa\n",
      "- Amount: €37,000\n",
      "- Reason of Sanction: Violations related to organization and controls (pecuniary sanctions under art. 144 TUB)\n",
      "- Category of Reason: Organizational Controls/Compliance.\n",
      "Parsed Date of Sanction: 2020-07-21 00:00:00\n",
      "Parsed Sanctioned Entity: Istituto Finanziario Europeo Spa\n",
      "Original Amount String: €37,000\n",
      "Aggregated Amount: 37000\n",
      "Parsed Reason of Sanction: Violations related to organization and controls (pecuniary sanctions under art. 144 TUB)\n",
      "Parsed Category of Reason: Organizational Controls/Compliance.\n",
      "Processed Result: ('Istituto Finanziario Europeo Spa', 37000, 'Violations related to organization and controls (pecuniary sanctions under art. 144 TUB)', datetime.datetime(2020, 7, 21, 0, 0), 'Organizational Controls/Compliance.')\n",
      "Response Data: {'id': 'chatcmpl-euc794htrj8xwbccqf9k3c', 'object': 'chat.completion', 'created': 1714065083, 'model': 'TheBloke/Mistral-7B-Instruct-v0.2-GGUF/mistral-7b-instruct-v0.2.Q2_K.gguf', 'choices': [{'index': 0, 'message': {'role': 'assistant', 'content': ' Date of Sanction: 21.07.2020\\nSanctioned Entity: Istituto Finanziario Europeo Spa\\nAmount: € 22,000 (for Alberto Mondini)\\n€ 17,000 (for Claudia Nicolò)\\nReason of Sanction: Violations related to organization and controls in financial intermediaries.\\nCategory of Reason: Regulatory compliance.'}, 'finish_reason': 'stop'}], 'usage': {'prompt_tokens': 97, 'completion_tokens': 97, 'total_tokens': 194}}\n",
      "Completion Text:  Date of Sanction: 21.07.2020\n",
      "Sanctioned Entity: Istituto Finanziario Europeo Spa\n",
      "Amount: € 22,000 (for Alberto Mondini)\n",
      "€ 17,000 (for Claudia Nicolò)\n",
      "Reason of Sanction: Violations related to organization and controls in financial intermediaries.\n",
      "Category of Reason: Regulatory compliance.\n",
      "Parsed Date of Sanction: 2020-07-21 00:00:00\n",
      "Parsed Sanctioned Entity: Istituto Finanziario Europeo Spa\n",
      "Original Amount String: € 22,000 (for Alberto Mondini)\n",
      "Aggregated Amount: 22000\n",
      "Parsed Reason of Sanction: Violations related to organization and controls in financial intermediaries.\n",
      "Parsed Category of Reason: Regulatory compliance.\n",
      "Processed Result: ('Istituto Finanziario Europeo Spa', 22000, 'Violations related to organization and controls in financial intermediaries.', datetime.datetime(2020, 7, 21, 0, 0), 'Regulatory compliance.')\n",
      "Response Data: {'id': 'chatcmpl-n1mcq60gg6cjcecodxzjn', 'object': 'chat.completion', 'created': 1714065089, 'model': 'TheBloke/Mistral-7B-Instruct-v0.2-GGUF/mistral-7b-instruct-v0.2.Q2_K.gguf', 'choices': [{'index': 0, 'message': {'role': 'assistant', 'content': ' Date of Sanction: 06.10.2020\\nSanctioned Entity: Namira SGR SpA\\nAmount: €60,000\\nReason of Sanction: Violations of financial intermediary regulations and failure to communicate relevant operations to the supervisory authority.\\nCategory of Reason: Regulatory compliance, Communication.'}, 'finish_reason': 'stop'}], 'usage': {'prompt_tokens': 80, 'completion_tokens': 80, 'total_tokens': 160}}\n",
      "Completion Text:  Date of Sanction: 06.10.2020\n",
      "Sanctioned Entity: Namira SGR SpA\n",
      "Amount: €60,000\n",
      "Reason of Sanction: Violations of financial intermediary regulations and failure to communicate relevant operations to the supervisory authority.\n",
      "Category of Reason: Regulatory compliance, Communication.\n",
      "Parsed Date of Sanction: 2020-10-06 00:00:00\n",
      "Parsed Sanctioned Entity: Namira SGR SpA\n",
      "Original Amount String: €60,000\n",
      "Aggregated Amount: 60000\n",
      "Parsed Reason of Sanction: Violations of financial intermediary regulations and failure to communicate relevant operations to the supervisory authority.\n",
      "Parsed Category of Reason: Regulatory compliance, Communication.\n",
      "Processed Result: ('Namira SGR SpA', 60000, 'Violations of financial intermediary regulations and failure to communicate relevant operations to the supervisory authority.', datetime.datetime(2020, 10, 6, 0, 0), 'Regulatory compliance, Communication.')\n",
      "Response Data: {'id': 'chatcmpl-6d3onjbpiie2ekott3p6qj', 'object': 'chat.completion', 'created': 1714065093, 'model': 'TheBloke/Mistral-7B-Instruct-v0.2-GGUF/mistral-7b-instruct-v0.2.Q2_K.gguf', 'choices': [{'index': 0, 'message': {'role': 'assistant', 'content': ' Date of Sanction: 06.10.2020\\nSanctioned Entity: Namira SGR Spa\\nAmount: €30,000\\nReason of Sanction: Violations of regulatory obligations in the financial sector\\nCategory of Reason: Regulatory non-compliance (financial sector)'}, 'finish_reason': 'stop'}], 'usage': {'prompt_tokens': 73, 'completion_tokens': 73, 'total_tokens': 146}}\n",
      "Completion Text:  Date of Sanction: 06.10.2020\n",
      "Sanctioned Entity: Namira SGR Spa\n",
      "Amount: €30,000\n",
      "Reason of Sanction: Violations of regulatory obligations in the financial sector\n",
      "Category of Reason: Regulatory non-compliance (financial sector)\n",
      "Parsed Date of Sanction: 2020-10-06 00:00:00\n",
      "Parsed Sanctioned Entity: Namira SGR Spa\n",
      "Original Amount String: €30,000\n",
      "Aggregated Amount: 30000\n",
      "Parsed Reason of Sanction: Violations of regulatory obligations in the financial sector\n",
      "Parsed Category of Reason: Regulatory non-compliance (financial sector)\n",
      "Processed Result: ('Namira SGR Spa', 30000, 'Violations of regulatory obligations in the financial sector', datetime.datetime(2020, 10, 6, 0, 0), 'Regulatory non-compliance (financial sector)')\n",
      "Response Data: {'id': 'chatcmpl-pd7are0l42m7xxh2ogls27', 'object': 'chat.completion', 'created': 1714065098, 'model': 'TheBloke/Mistral-7B-Instruct-v0.2-GGUF/mistral-7b-instruct-v0.2.Q2_K.gguf', 'choices': [{'index': 0, 'message': {'role': 'assistant', 'content': ' Date of Sanction: 13.10.2020\\nSanctioned Entity: IRFIS – Finanziaria per lo Sviluppo della Sicilia Spa\\nAmount: €30,000\\nReason of Sanction: Violation of risk management regulations\\nCategory of Reason: Risk Management'}, 'finish_reason': 'stop'}], 'usage': {'prompt_tokens': 72, 'completion_tokens': 72, 'total_tokens': 144}}\n",
      "Completion Text:  Date of Sanction: 13.10.2020\n",
      "Sanctioned Entity: IRFIS – Finanziaria per lo Sviluppo della Sicilia Spa\n",
      "Amount: €30,000\n",
      "Reason of Sanction: Violation of risk management regulations\n",
      "Category of Reason: Risk Management\n",
      "Parsed Date of Sanction: 2020-10-13 00:00:00\n",
      "Parsed Sanctioned Entity: IRFIS – Finanziaria per lo Sviluppo della Sicilia Spa\n",
      "Original Amount String: €30,000\n",
      "Aggregated Amount: 30000\n",
      "Parsed Reason of Sanction: Violation of risk management regulations\n",
      "Parsed Category of Reason: Risk Management\n",
      "Processed Result: ('IRFIS – Finanziaria per lo Sviluppo della Sicilia Spa', 30000, 'Violation of risk management regulations', datetime.datetime(2020, 10, 13, 0, 0), 'Risk Management')\n",
      "Response Data: {'id': 'chatcmpl-g15h1dai9w4cfw1b2gljc', 'object': 'chat.completion', 'created': 1714065102, 'model': 'TheBloke/Mistral-7B-Instruct-v0.2-GGUF/mistral-7b-instruct-v0.2.Q2_K.gguf', 'choices': [{'index': 0, 'message': {'role': 'assistant', 'content': ' - Date of Sanction: 20.10.2020\\n- Sanctioned Entity: Races Finanziaria Srl (in liquidation)\\n- Amount: €30,000\\n- Reason of Sanction: Irregularities in organization, internal controls, and related assets, as well as incorrect reporting to the Supervisory Authority.\\n- Category of Reason: Regulatory compliance / Reporting violations.'}, 'finish_reason': 'stop'}], 'usage': {'prompt_tokens': 99, 'completion_tokens': 99, 'total_tokens': 198}}\n",
      "Completion Text:  - Date of Sanction: 20.10.2020\n",
      "- Sanctioned Entity: Races Finanziaria Srl (in liquidation)\n",
      "- Amount: €30,000\n",
      "- Reason of Sanction: Irregularities in organization, internal controls, and related assets, as well as incorrect reporting to the Supervisory Authority.\n",
      "- Category of Reason: Regulatory compliance / Reporting violations.\n",
      "Parsed Date of Sanction: 2020-10-20 00:00:00\n",
      "Parsed Sanctioned Entity: Races Finanziaria Srl (in liquidation)\n",
      "Original Amount String: €30,000\n",
      "Aggregated Amount: 30000\n",
      "Parsed Reason of Sanction: Irregularities in organization, internal controls, and related assets, as well as incorrect reporting to the Supervisory Authority.\n",
      "Parsed Category of Reason: Regulatory compliance / Reporting violations.\n",
      "Processed Result: ('Races Finanziaria Srl (in liquidation)', 30000, 'Irregularities in organization, internal controls, and related assets, as well as incorrect reporting to the Supervisory Authority.', datetime.datetime(2020, 10, 20, 0, 0), 'Regulatory compliance / Reporting violations.')\n",
      "Response Data: {'id': 'chatcmpl-nfz7krf9lyjtx18se8e5p', 'object': 'chat.completion', 'created': 1714065107, 'model': 'TheBloke/Mistral-7B-Instruct-v0.2-GGUF/mistral-7b-instruct-v0.2.Q2_K.gguf', 'choices': [{'index': 0, 'message': {'role': 'assistant', 'content': ' - Date of Sanction: 27.10.2020\\n- Sanctioned Entity: Banca Popolare di Puglia e Basilicata Scpa\\n- Amount: €30,000\\n- Reason of Sanction: Violation of organizational and internal control requirements (art. 53, co.1, lett. b and d)\\n- Category of Reason: Organizational and Internal Controls'}, 'finish_reason': 'stop'}], 'usage': {'prompt_tokens': 99, 'completion_tokens': 99, 'total_tokens': 198}}\n",
      "Completion Text:  - Date of Sanction: 27.10.2020\n",
      "- Sanctioned Entity: Banca Popolare di Puglia e Basilicata Scpa\n",
      "- Amount: €30,000\n",
      "- Reason of Sanction: Violation of organizational and internal control requirements (art. 53, co.1, lett. b and d)\n",
      "- Category of Reason: Organizational and Internal Controls\n",
      "Parsed Date of Sanction: 2020-10-27 00:00:00\n",
      "Parsed Sanctioned Entity: Banca Popolare di Puglia e Basilicata Scpa\n",
      "Original Amount String: €30,000\n",
      "Aggregated Amount: 30000\n",
      "Parsed Reason of Sanction: Violation of organizational and internal control requirements (art. 53, co.1, lett. b and d)\n",
      "Parsed Category of Reason: Organizational and Internal Controls\n",
      "Processed Result: ('Banca Popolare di Puglia e Basilicata Scpa', 30000, 'Violation of organizational and internal control requirements (art. 53, co.1, lett. b and d)', datetime.datetime(2020, 10, 27, 0, 0), 'Organizational and Internal Controls')\n",
      "Response Data: {'id': 'chatcmpl-0v7k984t28jpjb98a07js3', 'object': 'chat.completion', 'created': 1714065111, 'model': 'TheBloke/Mistral-7B-Instruct-v0.2-GGUF/mistral-7b-instruct-v0.2.Q2_K.gguf', 'choices': [{'index': 0, 'message': {'role': 'assistant', 'content': ' - Date of Sanction: 29.09.2020\\n- Sanctioned Entity: BNP Paribas Real Estate Investment Management Italy SGR\\n- Amount: €41,000\\n- Reason of Sanction: Violation of risk management duties.\\n- Category of Reason: Risk Management.'}, 'finish_reason': 'stop'}], 'usage': {'prompt_tokens': 75, 'completion_tokens': 75, 'total_tokens': 150}}\n",
      "Completion Text:  - Date of Sanction: 29.09.2020\n",
      "- Sanctioned Entity: BNP Paribas Real Estate Investment Management Italy SGR\n",
      "- Amount: €41,000\n",
      "- Reason of Sanction: Violation of risk management duties.\n",
      "- Category of Reason: Risk Management.\n",
      "Parsed Date of Sanction: 2020-09-29 00:00:00\n",
      "Parsed Sanctioned Entity: BNP Paribas Real Estate Investment Management Italy SGR\n",
      "Original Amount String: €41,000\n",
      "Aggregated Amount: 41000\n",
      "Parsed Reason of Sanction: Violation of risk management duties.\n",
      "Parsed Category of Reason: Risk Management.\n",
      "Processed Result: ('BNP Paribas Real Estate Investment Management Italy SGR', 41000, 'Violation of risk management duties.', datetime.datetime(2020, 9, 29, 0, 0), 'Risk Management.')\n",
      "Response Data: {'id': 'chatcmpl-3mjry19lvnta8euortn235', 'object': 'chat.completion', 'created': 1714065115, 'model': 'TheBloke/Mistral-7B-Instruct-v0.2-GGUF/mistral-7b-instruct-v0.2.Q2_K.gguf', 'choices': [{'index': 0, 'message': {'role': 'assistant', 'content': ' Date of Sanction: 29.09.2020\\nSanctioned Entity: BNP Paribas Real Estate Investment Management Italy SGR\\nAmount: €73,000\\nReason of Sanction: Violations of financial regulations and internal control issues\\nCategory of Reason: Regulatory compliance / Internal controls'}, 'finish_reason': 'stop'}], 'usage': {'prompt_tokens': 74, 'completion_tokens': 74, 'total_tokens': 148}}\n",
      "Completion Text:  Date of Sanction: 29.09.2020\n",
      "Sanctioned Entity: BNP Paribas Real Estate Investment Management Italy SGR\n",
      "Amount: €73,000\n",
      "Reason of Sanction: Violations of financial regulations and internal control issues\n",
      "Category of Reason: Regulatory compliance / Internal controls\n",
      "Parsed Date of Sanction: 2020-09-29 00:00:00\n",
      "Parsed Sanctioned Entity: BNP Paribas Real Estate Investment Management Italy SGR\n",
      "Original Amount String: €73,000\n",
      "Aggregated Amount: 73000\n",
      "Parsed Reason of Sanction: Violations of financial regulations and internal control issues\n",
      "Parsed Category of Reason: Regulatory compliance / Internal controls\n",
      "Processed Result: ('BNP Paribas Real Estate Investment Management Italy SGR', 73000, 'Violations of financial regulations and internal control issues', datetime.datetime(2020, 9, 29, 0, 0), 'Regulatory compliance / Internal controls')\n",
      "Response Data: {'id': 'chatcmpl-wzxkdpxufcieyrmkkzt2j6', 'object': 'chat.completion', 'created': 1714065119, 'model': 'TheBloke/Mistral-7B-Instruct-v0.2-GGUF/mistral-7b-instruct-v0.2.Q2_K.gguf', 'choices': [{'index': 0, 'message': {'role': 'assistant', 'content': ' - Date of Sanction: 22.9.2020\\n- Sanctioned Entity: Banca Popolare dell’Alto Adige Spa\\n- Amount: €145,000\\n- Reason of Sanction: Violations of banking and credit regulations\\n- Category of Reason: Regulatory compliance (banking)'}, 'finish_reason': 'stop'}], 'usage': {'prompt_tokens': 79, 'completion_tokens': 79, 'total_tokens': 158}}\n",
      "Completion Text:  - Date of Sanction: 22.9.2020\n",
      "- Sanctioned Entity: Banca Popolare dell’Alto Adige Spa\n",
      "- Amount: €145,000\n",
      "- Reason of Sanction: Violations of banking and credit regulations\n",
      "- Category of Reason: Regulatory compliance (banking)\n",
      "Parsed Date of Sanction: 2020-09-22 00:00:00\n",
      "Parsed Sanctioned Entity: Banca Popolare dell’Alto Adige Spa\n",
      "Original Amount String: €145,000\n",
      "Aggregated Amount: 145000\n",
      "Parsed Reason of Sanction: Violations of banking and credit regulations\n",
      "Parsed Category of Reason: Regulatory compliance (banking)\n",
      "Processed Result: ('Banca Popolare dell’Alto Adige Spa', 145000, 'Violations of banking and credit regulations', datetime.datetime(2020, 9, 22, 0, 0), 'Regulatory compliance (banking)')\n",
      "Response Data: {'id': 'chatcmpl-z92dwkv4jmiy7xemdybqob', 'object': 'chat.completion', 'created': 1714065124, 'model': 'TheBloke/Mistral-7B-Instruct-v0.2-GGUF/mistral-7b-instruct-v0.2.Q2_K.gguf', 'choices': [{'index': 0, 'message': {'role': 'assistant', 'content': ' Date of Sanction: September 15, 2020\\nSanctioned Entity: Banca Popolare del Cassinate S.p.A.\\nAmount: €30,000\\nReason of Sanction: Violations related to organizational and internal control issues in the credit process.\\nCategory of Reason: Compliance (specifically with banking regulations)'}, 'finish_reason': 'stop'}], 'usage': {'prompt_tokens': 82, 'completion_tokens': 82, 'total_tokens': 164}}\n",
      "Completion Text:  Date of Sanction: September 15, 2020\n",
      "Sanctioned Entity: Banca Popolare del Cassinate S.p.A.\n",
      "Amount: €30,000\n",
      "Reason of Sanction: Violations related to organizational and internal control issues in the credit process.\n",
      "Category of Reason: Compliance (specifically with banking regulations)\n",
      "Date parsing error: time data 'September 15, 2020' does not match format '%d.%m.%Y'\n",
      "Parsed Sanctioned Entity: Banca Popolare del Cassinate S.p.A.\n",
      "Original Amount String: €30,000\n",
      "Aggregated Amount: 30000\n",
      "Parsed Reason of Sanction: Violations related to organizational and internal control issues in the credit process.\n",
      "Parsed Category of Reason: Compliance (specifically with banking regulations)\n",
      "Processed Result: ('Banca Popolare del Cassinate S.p.A.', 30000, 'Violations related to organizational and internal control issues in the credit process.', None, 'Compliance (specifically with banking regulations)')\n",
      "Response Data: {'id': 'chatcmpl-53g6zmjbfgj5wsv210ayl5', 'object': 'chat.completion', 'created': 1714065129, 'model': 'TheBloke/Mistral-7B-Instruct-v0.2-GGUF/mistral-7b-instruct-v0.2.Q2_K.gguf', 'choices': [{'index': 0, 'message': {'role': 'assistant', 'content': \" - Date of Sanction: 8.9.2020\\n- Sanctioned Entity: Attijariwafa Bank Europe, Succursale italiana\\n- Amount: €30,000\\n- Reason of Sanction: Violation of Laws (less than20words), brevienti'ss _decomposition__-_-_-_-_-_-_-_-_-_\"}, 'finish_reason': 'stop'}], 'usage': {'prompt_tokens': 99, 'completion_tokens': 99, 'total_tokens': 198}}\n",
      "Completion Text:  - Date of Sanction: 8.9.2020\n",
      "- Sanctioned Entity: Attijariwafa Bank Europe, Succursale italiana\n",
      "- Amount: €30,000\n",
      "- Reason of Sanction: Violation of Laws (less than20words), brevienti'ss _decomposition__-_-_-_-_-_-_-_-_-_\n",
      "Parsed Date of Sanction: 2020-09-08 00:00:00\n",
      "Parsed Sanctioned Entity: Attijariwafa Bank Europe, Succursale italiana\n",
      "Original Amount String: €30,000\n",
      "Aggregated Amount: 30000\n",
      "Parsed Reason of Sanction: Violation of Laws (less than20words), brevienti'ss _decomposition__-_-_-_-_-_-_-_-_-_\n",
      "Processed Result: ('Attijariwafa Bank Europe, Succursale italiana', 30000, \"Violation of Laws (less than20words), brevienti'ss _decomposition__-_-_-_-_-_-_-_-_-_\", datetime.datetime(2020, 9, 8, 0, 0), '')\n",
      "Response Data: {'id': 'chatcmpl-j5srlqpocmcxinguud8ji', 'object': 'chat.completion', 'created': 1714065133, 'model': 'TheBloke/Mistral-7B-Instruct-v0.2-GGUF/mistral-7b-instruct-v0.2.Q2_K.gguf', 'choices': [{'index': 0, 'message': {'role': 'assistant', 'content': ' Date of Sanction: 8.9.2020\\nSanctioned Entity: Attijariwafa Bank Europe, Succursale italiana\\nAmount: €35,000\\nReason of Sanction: Violations related to transparency and organizational irregularities in banking operations.\\nCategory of Reason: Transparency/Organizational Irregularities (Banking)'}, 'finish_reason': 'stop'}], 'usage': {'prompt_tokens': 87, 'completion_tokens': 87, 'total_tokens': 174}}\n",
      "Completion Text:  Date of Sanction: 8.9.2020\n",
      "Sanctioned Entity: Attijariwafa Bank Europe, Succursale italiana\n",
      "Amount: €35,000\n",
      "Reason of Sanction: Violations related to transparency and organizational irregularities in banking operations.\n",
      "Category of Reason: Transparency/Organizational Irregularities (Banking)\n",
      "Parsed Date of Sanction: 2020-09-08 00:00:00\n",
      "Parsed Sanctioned Entity: Attijariwafa Bank Europe, Succursale italiana\n",
      "Original Amount String: €35,000\n",
      "Aggregated Amount: 35000\n",
      "Parsed Reason of Sanction: Violations related to transparency and organizational irregularities in banking operations.\n",
      "Parsed Category of Reason: Transparency/Organizational Irregularities (Banking)\n",
      "Processed Result: ('Attijariwafa Bank Europe, Succursale italiana', 35000, 'Violations related to transparency and organizational irregularities in banking operations.', datetime.datetime(2020, 9, 8, 0, 0), 'Transparency/Organizational Irregularities (Banking)')\n",
      "Response Data: {'id': 'chatcmpl-lscrplp996cv8432y99uf', 'object': 'chat.completion', 'created': 1714065137, 'model': 'TheBloke/Mistral-7B-Instruct-v0.2-GGUF/mistral-7b-instruct-v0.2.Q2_K.gguf', 'choices': [{'index': 0, 'message': {'role': 'assistant', 'content': ' Date of Sanction: 11.02.2020\\nSanctioned Entity: Advam Partners SGR Spa\\nAmount: €70,000\\nReason of Sanction: Irregularities in financial intermediation and failure to comply with regulatory requirements.\\nCategory of Reason: Compliance/Regulatory Violations'}, 'finish_reason': 'stop'}], 'usage': {'prompt_tokens': 78, 'completion_tokens': 78, 'total_tokens': 156}}\n",
      "Completion Text:  Date of Sanction: 11.02.2020\n",
      "Sanctioned Entity: Advam Partners SGR Spa\n",
      "Amount: €70,000\n",
      "Reason of Sanction: Irregularities in financial intermediation and failure to comply with regulatory requirements.\n",
      "Category of Reason: Compliance/Regulatory Violations\n",
      "Parsed Date of Sanction: 2020-02-11 00:00:00\n",
      "Parsed Sanctioned Entity: Advam Partners SGR Spa\n",
      "Original Amount String: €70,000\n",
      "Aggregated Amount: 70000\n",
      "Parsed Reason of Sanction: Irregularities in financial intermediation and failure to comply with regulatory requirements.\n",
      "Parsed Category of Reason: Compliance/Regulatory Violations\n",
      "Processed Result: ('Advam Partners SGR Spa', 70000, 'Irregularities in financial intermediation and failure to comply with regulatory requirements.', datetime.datetime(2020, 2, 11, 0, 0), 'Compliance/Regulatory Violations')\n",
      "Response Data: {'id': 'chatcmpl-49xe2jy93p3t7msewu5zvq', 'object': 'chat.completion', 'created': 1714065141, 'model': 'TheBloke/Mistral-7B-Instruct-v0.2-GGUF/mistral-7b-instruct-v0.2.Q2_K.gguf', 'choices': [{'index': 0, 'message': {'role': 'assistant', 'content': ' Date of Sanction: 11.2.2020\\nSanctioned Entity: Advam Partners SGR Spa\\nAmount: €30,000\\nReason of Sanction: Violation of regulatory obligations in financial sector\\nCategory of Reason: Regulatory non-compliance (financial)'}, 'finish_reason': 'stop'}], 'usage': {'prompt_tokens': 71, 'completion_tokens': 71, 'total_tokens': 142}}\n",
      "Completion Text:  Date of Sanction: 11.2.2020\n",
      "Sanctioned Entity: Advam Partners SGR Spa\n",
      "Amount: €30,000\n",
      "Reason of Sanction: Violation of regulatory obligations in financial sector\n",
      "Category of Reason: Regulatory non-compliance (financial)\n",
      "Parsed Date of Sanction: 2020-02-11 00:00:00\n",
      "Parsed Sanctioned Entity: Advam Partners SGR Spa\n",
      "Original Amount String: €30,000\n",
      "Aggregated Amount: 30000\n",
      "Parsed Reason of Sanction: Violation of regulatory obligations in financial sector\n",
      "Parsed Category of Reason: Regulatory non-compliance (financial)\n",
      "Processed Result: ('Advam Partners SGR Spa', 30000, 'Violation of regulatory obligations in financial sector', datetime.datetime(2020, 2, 11, 0, 0), 'Regulatory non-compliance (financial)')\n",
      "Response Data: {'id': 'chatcmpl-v98ald23et03587liemcbi', 'object': 'chat.completion', 'created': 1714065145, 'model': 'TheBloke/Mistral-7B-Instruct-v0.2-GGUF/mistral-7b-instruct-v0.2.Q2_K.gguf', 'choices': [{'index': 0, 'message': {'role': 'assistant', 'content': ' - Date of Sanction: 23.06.2020\\n- Sanctioned Entity: Advance Sim Spa (in liquidation coatta amministrativa)\\n- Amount: €40,000\\n- Reason of Sanction: Violations of financial regulations and inadequate organizational controls.\\n- Category of Reason: Regulatory compliance / Organizational controls.'}, 'finish_reason': 'stop'}], 'usage': {'prompt_tokens': 90, 'completion_tokens': 90, 'total_tokens': 180}}\n",
      "Completion Text:  - Date of Sanction: 23.06.2020\n",
      "- Sanctioned Entity: Advance Sim Spa (in liquidation coatta amministrativa)\n",
      "- Amount: €40,000\n",
      "- Reason of Sanction: Violations of financial regulations and inadequate organizational controls.\n",
      "- Category of Reason: Regulatory compliance / Organizational controls.\n",
      "Parsed Date of Sanction: 2020-06-23 00:00:00\n",
      "Parsed Sanctioned Entity: Advance Sim Spa (in liquidation coatta amministrativa)\n",
      "Original Amount String: €40,000\n",
      "Aggregated Amount: 40000\n",
      "Parsed Reason of Sanction: Violations of financial regulations and inadequate organizational controls.\n",
      "Parsed Category of Reason: Regulatory compliance / Organizational controls.\n",
      "Processed Result: ('Advance Sim Spa (in liquidation coatta amministrativa)', 40000, 'Violations of financial regulations and inadequate organizational controls.', datetime.datetime(2020, 6, 23, 0, 0), 'Regulatory compliance / Organizational controls.')\n",
      "Response Data: {'id': 'chatcmpl-xzjvxs4c1g75v12rv1fi9', 'object': 'chat.completion', 'created': 1714065150, 'model': 'TheBloke/Mistral-7B-Instruct-v0.2-GGUF/mistral-7b-instruct-v0.2.Q2_K.gguf', 'choices': [{'index': 0, 'message': {'role': 'assistant', 'content': ' - Date of Sanction: 30.06.2020\\n- Sanctioned Entity: Banca Intermobiliare di Investimenti e Gestioni SpA\\n- Amount: €30,\\n- Reason: (unlesswarder b b                                       '}, 'finish_reason': 'stop'}], 'usage': {'prompt_tokens': 99, 'completion_tokens': 99, 'total_tokens': 198}}\n",
      "Completion Text:  - Date of Sanction: 30.06.2020\n",
      "- Sanctioned Entity: Banca Intermobiliare di Investimenti e Gestioni SpA\n",
      "- Amount: €30,\n",
      "- Reason: (unlesswarder b b                                       \n",
      "Parsed Date of Sanction: 2020-06-30 00:00:00\n",
      "Parsed Sanctioned Entity: Banca Intermobiliare di Investimenti e Gestioni SpA\n",
      "Original Amount String: €30,\n",
      "Aggregated Amount: 30\n",
      "Processed Result: ('Banca Intermobiliare di Investimenti e Gestioni SpA', 30, '', datetime.datetime(2020, 6, 30, 0, 0), '')\n",
      "Response Data: {'id': 'chatcmpl-1yiz940c60ki43pebyb2g5k', 'object': 'chat.completion', 'created': 1714065154, 'model': 'TheBloke/Mistral-7B-Instruct-v0.2-GGUF/mistral-7b-instruct-v0.2.Q2_K.gguf', 'choices': [{'index': 0, 'message': {'role': 'assistant', 'content': ' Date of Sanction: 06.07.2020\\nSanctioned Entity: Banca Popolare di Bari Scpa in a.s.\\nAmount: €100,000\\nReason of Sanction: Violation of credit assessment regulations\\nCategory of Reason: Credit Assessment\\n(Note: The reason and category are based on the information provided in the text.)'}, 'finish_reason': 'stop'}], 'usage': {'prompt_tokens': 86, 'completion_tokens': 86, 'total_tokens': 172}}\n",
      "Completion Text:  Date of Sanction: 06.07.2020\n",
      "Sanctioned Entity: Banca Popolare di Bari Scpa in a.s.\n",
      "Amount: €100,000\n",
      "Reason of Sanction: Violation of credit assessment regulations\n",
      "Category of Reason: Credit Assessment\n",
      "(Note: The reason and category are based on the information provided in the text.)\n",
      "Parsed Date of Sanction: 2020-07-06 00:00:00\n",
      "Parsed Sanctioned Entity: Banca Popolare di Bari Scpa in a.s.\n",
      "Original Amount String: €100,000\n",
      "Aggregated Amount: 100000\n",
      "Parsed Reason of Sanction: Violation of credit assessment regulations\n",
      "Parsed Category of Reason: Credit Assessment\n",
      "Processed Result: ('Banca Popolare di Bari Scpa in a.s.', 100000, 'Violation of credit assessment regulations', datetime.datetime(2020, 7, 6, 0, 0), 'Credit Assessment')\n",
      "Response Data: {'id': 'chatcmpl-obdd3o5rhhlqemp6ikdd', 'object': 'chat.completion', 'created': 1714065158, 'model': 'TheBloke/Mistral-7B-Instruct-v0.2-GGUF/mistral-7b-instruct-v0.2.Q2_K.gguf', 'choices': [{'index': 0, 'message': {'role': 'assistant', 'content': ' - Date of Sanction: 06.07.2020\\n- Sanctioned Entity: Banca Popolare di Bari S.p.A. in a.s.\\n- Amount: Benedetto Maggi - €42,000; Nicola Loperfido - €62,000; Giorgio Papa - €186,000\\n- Reason of Sanction: Violation of'}, 'finish_reason': 'stop'}], 'usage': {'prompt_tokens': 99, 'completion_tokens': 99, 'total_tokens': 198}}\n",
      "Completion Text:  - Date of Sanction: 06.07.2020\n",
      "- Sanctioned Entity: Banca Popolare di Bari S.p.A. in a.s.\n",
      "- Amount: Benedetto Maggi - €42,000; Nicola Loperfido - €62,000; Giorgio Papa - €186,000\n",
      "- Reason of Sanction: Violation of\n",
      "Parsed Date of Sanction: 2020-07-06 00:00:00\n",
      "Parsed Sanctioned Entity: Banca Popolare di Bari S.p.A. in a.s.\n",
      "Original Amount String: Benedetto Maggi - €42,000; Nicola Loperfido - €62,000; Giorgio Papa - €186,000\n",
      "Aggregated Amount: 186104\n",
      "Parsed Reason of Sanction: Violation of\n",
      "Processed Result: ('Banca Popolare di Bari S.p.A. in a.s.', 186104, 'Violation of', datetime.datetime(2020, 7, 6, 0, 0), '')\n",
      "Response Data: {'id': 'chatcmpl-mqtr7xzkysfy9dvd66rs', 'object': 'chat.completion', 'created': 1714065162, 'model': 'TheBloke/Mistral-7B-Instruct-v0.2-GGUF/mistral-7b-instruct-v0.2.Q2_K.gguf', 'choices': [{'index': 0, 'message': {'role': 'assistant', 'content': ' - Date of Sanction: 28.07.2020\\n- Sanctioned Entity:: Banca Popkin2.2.2.2.2.2.2.2.2.2.2.2.2.2.2.2.2.2.2.2.2.2.2.2.2.2.2.2.2.2.2.2.2.2.2.'}, 'finish_reason': 'stop'}], 'usage': {'prompt_tokens': 99, 'completion_tokens': 99, 'total_tokens': 198}}\n",
      "Completion Text:  - Date of Sanction: 28.07.2020\n",
      "- Sanctioned Entity:: Banca Popkin2.2.2.2.2.2.2.2.2.2.2.2.2.2.2.2.2.2.2.2.2.2.2.2.2.2.2.2.2.2.2.2.2.2.2.\n",
      "Parsed Date of Sanction: 2020-07-28 00:00:00\n",
      "Parsed Sanctioned Entity: \n",
      "Processed Result: ('', 0, '', datetime.datetime(2020, 7, 28, 0, 0), '')\n",
      "Response Data: {'id': 'chatcmpl-vob3nrjr6tizt2lcyebwr', 'object': 'chat.completion', 'created': 1714065167, 'model': 'TheBloke/Mistral-7B-Instruct-v0.2-GGUF/mistral-7b-instruct-v0.2.Q2_K.gguf', 'choices': [{'index': 0, 'message': {'role': 'assistant', 'content': ' Date of Sanction: 28.07.2020\\nSanctioned Entity: Cassa Lombarda SpA\\nAmount: €60,000\\nReason of Sanction: Irregularities in restructuring plans and remuneration policies\\nCategory of Reason: Regulatory compliance (specifically, banking regulations)'}, 'finish_reason': 'stop'}], 'usage': {'prompt_tokens': 77, 'completion_tokens': 77, 'total_tokens': 154}}\n",
      "Completion Text:  Date of Sanction: 28.07.2020\n",
      "Sanctioned Entity: Cassa Lombarda SpA\n",
      "Amount: €60,000\n",
      "Reason of Sanction: Irregularities in restructuring plans and remuneration policies\n",
      "Category of Reason: Regulatory compliance (specifically, banking regulations)\n",
      "Parsed Date of Sanction: 2020-07-28 00:00:00\n",
      "Parsed Sanctioned Entity: Cassa Lombarda SpA\n",
      "Original Amount String: €60,000\n",
      "Aggregated Amount: 60000\n",
      "Parsed Reason of Sanction: Irregularities in restructuring plans and remuneration policies\n",
      "Parsed Category of Reason: Regulatory compliance (specifically, banking regulations)\n",
      "Processed Result: ('Cassa Lombarda SpA', 60000, 'Irregularities in restructuring plans and remuneration policies', datetime.datetime(2020, 7, 28, 0, 0), 'Regulatory compliance (specifically, banking regulations)')\n",
      "Response Data: {'id': 'chatcmpl-0z5iejrjydxq28g1zeupzov', 'object': 'chat.completion', 'created': 1714065172, 'model': 'TheBloke/Mistral-7B-Instruct-v0.2-GGUF/mistral-7b-instruct-v0.2.Q2_K.gguf', 'choices': [{'index': 0, 'message': {'role': 'assistant', 'content': ' - Date of Sanction: 28.07.2020\\n- Sanctioned Entity: Cassa Lombarda SpA\\n- Amount: €30,000\\n- Reason of Sanction: Violation of verification obligations (artt. 17, 18, 19, 24, 25 and 62, d.lgs. n. 231/20'}, 'finish_reason': 'stop'}], 'usage': {'prompt_tokens': 99, 'completion_tokens': 99, 'total_tokens': 198}}\n",
      "Completion Text:  - Date of Sanction: 28.07.2020\n",
      "- Sanctioned Entity: Cassa Lombarda SpA\n",
      "- Amount: €30,000\n",
      "- Reason of Sanction: Violation of verification obligations (artt. 17, 18, 19, 24, 25 and 62, d.lgs. n. 231/20\n",
      "Parsed Date of Sanction: 2020-07-28 00:00:00\n",
      "Parsed Sanctioned Entity: Cassa Lombarda SpA\n",
      "Original Amount String: €30,000\n",
      "Aggregated Amount: 30000\n",
      "Parsed Reason of Sanction: Violation of verification obligations (artt. 17, 18, 19, 24, 25 and 62, d.lgs. n. 231/20\n",
      "Processed Result: ('Cassa Lombarda SpA', 30000, 'Violation of verification obligations (artt. 17, 18, 19, 24, 25 and 62, d.lgs. n. 231/20', datetime.datetime(2020, 7, 28, 0, 0), '')\n",
      "Response Data: {'id': 'chatcmpl-ugir6gou5e84h8pnctasfs', 'object': 'chat.completion', 'created': 1714065176, 'model': 'TheBloke/Mistral-7B-Instruct-v0.2-GGUF/mistral-7b-instruct-v0.2.Q2_K.gguf', 'choices': [{'index': 0, 'message': {'role': 'assistant', 'content': ' - Date of Sanction: August 4, 2020\\n- Sanctioned Entity: UBS Europe SE – Succursale Italia\\n- Amount: €1,488,000\\n- Reason of Sanction: Violation of Italian financial regulations\\n- Category of Reason: Regulatory compliance/Financial irregularities.'}, 'finish_reason': 'stop'}], 'usage': {'prompt_tokens': 79, 'completion_tokens': 79, 'total_tokens': 158}}\n",
      "Completion Text:  - Date of Sanction: August 4, 2020\n",
      "- Sanctioned Entity: UBS Europe SE – Succursale Italia\n",
      "- Amount: €1,488,000\n",
      "- Reason of Sanction: Violation of Italian financial regulations\n",
      "- Category of Reason: Regulatory compliance/Financial irregularities.\n",
      "Date parsing error: time data 'August 4, 2020' does not match format '%d.%m.%Y'\n",
      "Parsed Sanctioned Entity: UBS Europe SE – Succursale Italia\n",
      "Original Amount String: €1,488,000\n",
      "Aggregated Amount: 1488\n",
      "Parsed Reason of Sanction: Violation of Italian financial regulations\n",
      "Parsed Category of Reason: Regulatory compliance/Financial irregularities.\n",
      "Processed Result: ('UBS Europe SE – Succursale Italia', 1488, 'Violation of Italian financial regulations', None, 'Regulatory compliance/Financial irregularities.')\n",
      "Response Data: {'id': 'chatcmpl-990takmy44g6ixqa2ip69', 'object': 'chat.completion', 'created': 1714065181, 'model': 'TheBloke/Mistral-7B-Instruct-v0.2-GGUF/mistral-7b-instruct-v0.2.Q2_K.gguf', 'choices': [{'index': 0, 'message': {'role': 'assistant', 'content': ' Date of Sanction: 04.08.2020\\nSanctioned Entity: UBS Fiduciaria Spa\\n\\nCategory of Reason:\\n\\n1.. 2. 3. 4. 5. 6. 7. 10. 11. 12. 12. 12. 12. 12. 12. 12. 1'}, 'finish_reason': 'stop'}], 'usage': {'prompt_tokens': 99, 'completion_tokens': 99, 'total_tokens': 198}}\n",
      "Completion Text:  Date of Sanction: 04.08.2020\n",
      "Sanctioned Entity: UBS Fiduciaria Spa\n",
      "\n",
      "Category of Reason:\n",
      "\n",
      "1.. 2. 3. 4. 5. 6. 7. 10. 11. 12. 12. 12. 12. 12. 12. 12. 1\n",
      "Parsed Date of Sanction: 2020-08-04 00:00:00\n",
      "Parsed Sanctioned Entity: UBS Fiduciaria Spa\n",
      "Parsed Category of Reason: \n",
      "Processed Result: ('UBS Fiduciaria Spa', 0, '', datetime.datetime(2020, 8, 4, 0, 0), '')\n",
      "Response Data: {'id': 'chatcmpl-jan1isf3l9iwlegm8wt9eo', 'object': 'chat.completion', 'created': 1714065186, 'model': 'TheBloke/Mistral-7B-Instruct-v0.2-GGUF/mistral-7b-instruct-v0.2.Q2_K.gguf', 'choices': [{'index': 0, 'message': {'role': 'assistant', 'content': ' Date of Sanction: 25.02.2020\\nSanctioned Entity: Banco BPM SpA\\nAmount: €1,760,000\\nReason of Sanction: Violation of transparency regulations in banking and financial services.\\nCategory of Reason: Transparency'}, 'finish_reason': 'stop'}], 'usage': {'prompt_tokens': 67, 'completion_tokens': 67, 'total_tokens': 134}}\n",
      "Completion Text:  Date of Sanction: 25.02.2020\n",
      "Sanctioned Entity: Banco BPM SpA\n",
      "Amount: €1,760,000\n",
      "Reason of Sanction: Violation of transparency regulations in banking and financial services.\n",
      "Category of Reason: Transparency\n",
      "Parsed Date of Sanction: 2020-02-25 00:00:00\n",
      "Parsed Sanctioned Entity: Banco BPM SpA\n",
      "Original Amount String: €1,760,000\n",
      "Aggregated Amount: 1760\n",
      "Parsed Reason of Sanction: Violation of transparency regulations in banking and financial services.\n",
      "Parsed Category of Reason: Transparency\n",
      "Processed Result: ('Banco BPM SpA', 1760, 'Violation of transparency regulations in banking and financial services.', datetime.datetime(2020, 2, 25, 0, 0), 'Transparency')\n",
      "Response Data: {'id': 'chatcmpl-xhbm5ky63jminbq7fdyiag', 'object': 'chat.completion', 'created': 1714065190, 'model': 'TheBloke/Mistral-7B-Instruct-v0.2-GGUF/mistral-7b-instruct-v0.2.Q2_K.gguf', 'choices': [{'index': 0, 'message': {'role': 'assistant', 'content': ' Date of Sanction: 03.03.2020\\nSanctioned Entity: Banca Centropadana Credito Cooperativo Sc\\nAmount: €570,000\\nReason of Sanction: Violations of credit risk management, operational control, liquidity management, and remuneration policies, as well as inaccurate reporting to the Supervisory Authority.\\nCategory of Reason: Regulatory Compliance'}, 'finish_reason': 'stop'}], 'usage': {'prompt_tokens': 99, 'completion_tokens': 99, 'total_tokens': 198}}\n",
      "Completion Text:  Date of Sanction: 03.03.2020\n",
      "Sanctioned Entity: Banca Centropadana Credito Cooperativo Sc\n",
      "Amount: €570,000\n",
      "Reason of Sanction: Violations of credit risk management, operational control, liquidity management, and remuneration policies, as well as inaccurate reporting to the Supervisory Authority.\n",
      "Category of Reason: Regulatory Compliance\n",
      "Parsed Date of Sanction: 2020-03-03 00:00:00\n",
      "Parsed Sanctioned Entity: Banca Centropadana Credito Cooperativo Sc\n",
      "Original Amount String: €570,000\n",
      "Aggregated Amount: 570000\n",
      "Parsed Reason of Sanction: Violations of credit risk management, operational control, liquidity management, and remuneration policies, as well as inaccurate reporting to the Supervisory Authority.\n",
      "Parsed Category of Reason: Regulatory Compliance\n",
      "Processed Result: ('Banca Centropadana Credito Cooperativo Sc', 570000, 'Violations of credit risk management, operational control, liquidity management, and remuneration policies, as well as inaccurate reporting to the Supervisory Authority.', datetime.datetime(2020, 3, 3, 0, 0), 'Regulatory Compliance')\n",
      "Response Data: {'id': 'chatcmpl-55ns1o0ilfl24blp6anv8d', 'object': 'chat.completion', 'created': 1714065195, 'model': 'TheBloke/Mistral-7B-Instruct-v0.2-GGUF/mistral-7b-instruct-v0.2.Q2_K.gguf', 'choices': [{'index': 0, 'message': {'role': 'assistant', 'content': ' - Date of Sanction: 30.06.2020\\n- Sanctioned Entity: Europa Risorse SGR SpA\\n- Amount: €30,000\\n- Reason of Sanction: Violation of regulatory requirements in financial sector (adeguate verifica, profilatura, segnalazione)\\n- Category of Reason: Regulatory non-compliance.'}, 'finish_reason': 'stop'}], 'usage': {'prompt_tokens': 90, 'completion_tokens': 90, 'total_tokens': 180}}\n",
      "Completion Text:  - Date of Sanction: 30.06.2020\n",
      "- Sanctioned Entity: Europa Risorse SGR SpA\n",
      "- Amount: €30,000\n",
      "- Reason of Sanction: Violation of regulatory requirements in financial sector (adeguate verifica, profilatura, segnalazione)\n",
      "- Category of Reason: Regulatory non-compliance.\n",
      "Parsed Date of Sanction: 2020-06-30 00:00:00\n",
      "Parsed Sanctioned Entity: Europa Risorse SGR SpA\n",
      "Original Amount String: €30,000\n",
      "Aggregated Amount: 30000\n",
      "Parsed Reason of Sanction: Violation of regulatory requirements in financial sector (adeguate verifica, profilatura, segnalazione)\n",
      "Parsed Category of Reason: Regulatory non-compliance.\n",
      "Processed Result: ('Europa Risorse SGR SpA', 30000, 'Violation of regulatory requirements in financial sector (adeguate verifica, profilatura, segnalazione)', datetime.datetime(2020, 6, 30, 0, 0), 'Regulatory non-compliance.')\n",
      "Response Data: {'id': 'chatcmpl-69h3l74m1lk251xv7bj6pn', 'object': 'chat.completion', 'created': 1714065198, 'model': 'TheBloke/Mistral-7B-Instruct-v0.2-GGUF/mistral-7b-instruct-v0.2.Q2_K.gguf', 'choices': [{'index': 0, 'message': {'role': 'assistant', 'content': ' Date of Sanction: 06.07.2020\\nSanctioned Entity: We Finance Spa\\nAmount: €30,000\\nReason of Sanction: Violations related to transparency and client protection\\nCategory of Reason: Transparency and Client Protection (regulatory compliance)'}, 'finish_reason': 'stop'}], 'usage': {'prompt_tokens': 69, 'completion_tokens': 69, 'total_tokens': 138}}\n",
      "Completion Text:  Date of Sanction: 06.07.2020\n",
      "Sanctioned Entity: We Finance Spa\n",
      "Amount: €30,000\n",
      "Reason of Sanction: Violations related to transparency and client protection\n",
      "Category of Reason: Transparency and Client Protection (regulatory compliance)\n",
      "Parsed Date of Sanction: 2020-07-06 00:00:00\n",
      "Parsed Sanctioned Entity: We Finance Spa\n",
      "Original Amount String: €30,000\n",
      "Aggregated Amount: 30000\n",
      "Parsed Reason of Sanction: Violations related to transparency and client protection\n",
      "Parsed Category of Reason: Transparency and Client Protection (regulatory compliance)\n",
      "Processed Result: ('We Finance Spa', 30000, 'Violations related to transparency and client protection', datetime.datetime(2020, 7, 6, 0, 0), 'Transparency and Client Protection (regulatory compliance)')\n",
      "Response Data: {'id': 'chatcmpl-aehivpseo7pqz7vgajjb8g', 'object': 'chat.completion', 'created': 1714065203, 'model': 'TheBloke/Mistral-7B-Instruct-v0.2-GGUF/mistral-7b-instruct-v0.2.Q2_K.gguf', 'choices': [{'index': 0, 'message': {'role': 'assistant', 'content': ' - Date of Sanction: 06.07.2020\\n- Sanctioned Entity: We Finance Spa\\n- Amount: €30,000\\n- Reason of Sanction: Violation of clientela verification obligations (artt. 17, 18, 19, 20, 21 and 62 of d.lgs. 231/2007)\\n'}, 'finish_reason': 'stop'}], 'usage': {'prompt_tokens': 99, 'completion_tokens': 99, 'total_tokens': 198}}\n",
      "Completion Text:  - Date of Sanction: 06.07.2020\n",
      "- Sanctioned Entity: We Finance Spa\n",
      "- Amount: €30,000\n",
      "- Reason of Sanction: Violation of clientela verification obligations (artt. 17, 18, 19, 20, 21 and 62 of d.lgs. 231/2007)\n",
      "\n",
      "Parsed Date of Sanction: 2020-07-06 00:00:00\n",
      "Parsed Sanctioned Entity: We Finance Spa\n",
      "Original Amount String: €30,000\n",
      "Aggregated Amount: 30000\n",
      "Parsed Reason of Sanction: Violation of clientela verification obligations (artt. 17, 18, 19, 20, 21 and 62 of d.lgs. 231/2007)\n",
      "Processed Result: ('We Finance Spa', 30000, 'Violation of clientela verification obligations (artt. 17, 18, 19, 20, 21 and 62 of d.lgs. 231/2007)', datetime.datetime(2020, 7, 6, 0, 0), '')\n",
      "Response Data: {'id': 'chatcmpl-pk6nb9qtrt60xuqemf9tg', 'object': 'chat.completion', 'created': 1714065207, 'model': 'TheBloke/Mistral-7B-Instruct-v0.2-GGUF/mistral-7b-instruct-v0.2.Q2_K.gguf', 'choices': [{'index': 0, 'message': {'role': 'assistant', 'content': ' Date of Sanction: 14.07.2020\\nSanctioned Entity: CRU Giudicarie Valsabbia Paganella BCC Società cooperativa\\nAmount: €30,000\\nReason of Sanction: Violations of transparency regulations (artt. 116-119, TUB)\\nCategory of Reason: Transparency regulations'}, 'finish_reason': 'stop'}], 'usage': {'prompt_tokens': 91, 'completion_tokens': 91, 'total_tokens': 182}}\n",
      "Completion Text:  Date of Sanction: 14.07.2020\n",
      "Sanctioned Entity: CRU Giudicarie Valsabbia Paganella BCC Società cooperativa\n",
      "Amount: €30,000\n",
      "Reason of Sanction: Violations of transparency regulations (artt. 116-119, TUB)\n",
      "Category of Reason: Transparency regulations\n",
      "Parsed Date of Sanction: 2020-07-14 00:00:00\n",
      "Parsed Sanctioned Entity: CRU Giudicarie Valsabbia Paganella BCC Società cooperativa\n",
      "Original Amount String: €30,000\n",
      "Aggregated Amount: 30000\n",
      "Parsed Reason of Sanction: Violations of transparency regulations (artt. 116-119, TUB)\n",
      "Parsed Category of Reason: Transparency regulations\n",
      "Processed Result: ('CRU Giudicarie Valsabbia Paganella BCC Società cooperativa', 30000, 'Violations of transparency regulations (artt. 116-119, TUB)', datetime.datetime(2020, 7, 14, 0, 0), 'Transparency regulations')\n",
      "Response Data: {'id': 'chatcmpl-zf8fiwbhesjjqzbc0tkqk', 'object': 'chat.completion', 'created': 1714065211, 'model': 'TheBloke/Mistral-7B-Instruct-v0.2-GGUF/mistral-7b-instruct-v0.2.Q2_K.gguf', 'choices': [{'index': 0, 'message': {'role': 'assistant', 'content': ' Date of Sanction: July 14, 2020\\nSanctioned Entity: CRU Giudicarie Valsabbia Paganella BCC Società cooperativa\\nAmount: €135,000\\nReason of Sanction: Violation of reporting obligations (artt. 35, 36 and 62, d.lgs. 231/07)\\nCategory of Reason:'}, 'finish_reason': 'stop'}], 'usage': {'prompt_tokens': 99, 'completion_tokens': 99, 'total_tokens': 198}}\n",
      "Completion Text:  Date of Sanction: July 14, 2020\n",
      "Sanctioned Entity: CRU Giudicarie Valsabbia Paganella BCC Società cooperativa\n",
      "Amount: €135,000\n",
      "Reason of Sanction: Violation of reporting obligations (artt. 35, 36 and 62, d.lgs. 231/07)\n",
      "Category of Reason:\n",
      "Date parsing error: time data 'July 14, 2020' does not match format '%d.%m.%Y'\n",
      "Parsed Sanctioned Entity: CRU Giudicarie Valsabbia Paganella BCC Società cooperativa\n",
      "Original Amount String: €135,000\n",
      "Aggregated Amount: 135000\n",
      "Parsed Reason of Sanction: Violation of reporting obligations (artt. 35, 36 and 62, d.lgs. 231/07)\n",
      "Parsed Category of Reason: \n",
      "Processed Result: ('CRU Giudicarie Valsabbia Paganella BCC Società cooperativa', 135000, 'Violation of reporting obligations (artt. 35, 36 and 62, d.lgs. 231/07)', None, '')\n",
      "Response Data: {'id': 'chatcmpl-dxpg6b7s3ze2q47cbbxz4', 'object': 'chat.completion', 'created': 1714065216, 'model': 'TheBloke/Mistral-7B-Instruct-v0.2-GGUF/mistral-7b-instruct-v0.2.Q2_K.gguf', 'choices': [{'index': 0, 'message': {'role': 'assistant', 'content': ' Date of Sanction: 28.07.2020\\nSanctioned Entity: Banca del Fucino Spa\\nAmount: Not specified in the text\\nReason of Sanction: Violation of policies and practices of remuneration\\nCategory of Reason: Remuneration\\n\\nThis text describes a sanctioning decision made by the Bank of Italy against Banca del Fucino Spa for violating policies and practices of remun'}, 'finish_reason': 'stop'}], 'usage': {'prompt_tokens': 99, 'completion_tokens': 99, 'total_tokens': 198}}\n",
      "Completion Text:  Date of Sanction: 28.07.2020\n",
      "Sanctioned Entity: Banca del Fucino Spa\n",
      "Amount: Not specified in the text\n",
      "Reason of Sanction: Violation of policies and practices of remuneration\n",
      "Category of Reason: Remuneration\n",
      "\n",
      "This text describes a sanctioning decision made by the Bank of Italy against Banca del Fucino Spa for violating policies and practices of remun\n",
      "Parsed Date of Sanction: 2020-07-28 00:00:00\n",
      "Parsed Sanctioned Entity: Banca del Fucino Spa\n",
      "Original Amount String: Not specified in the text\n",
      "Aggregated Amount: 0\n",
      "Parsed Reason of Sanction: Violation of policies and practices of remuneration\n",
      "Parsed Category of Reason: Remuneration\n",
      "Processed Result: ('Banca del Fucino Spa', 0, 'Violation of policies and practices of remuneration', datetime.datetime(2020, 7, 28, 0, 0), 'Remuneration')\n",
      "Response Data: {'id': 'chatcmpl-tqmp4xkawxn9zkxzyc7hnu', 'object': 'chat.completion', 'created': 1714065220, 'model': 'TheBloke/Mistral-7B-Instruct-v0.2-GGUF/mistral-7b-instruct-v0.2.Q2_K.gguf', 'choices': [{'index': 0, 'message': {'role': 'assistant', 'content': ' Date of Sanction: 10.03.2020\\nSanctioned Entity: Banca C.R. Asti SpA\\nAmount: €186,000\\nReason of Sanction: Violations related to banking regulations and credit processes\\nCategory of Reason: Banking Regulations/Credit Processes (or Compliance)'}, 'finish_reason': 'stop'}], 'usage': {'prompt_tokens': 80, 'completion_tokens': 80, 'total_tokens': 160}}\n",
      "Completion Text:  Date of Sanction: 10.03.2020\n",
      "Sanctioned Entity: Banca C.R. Asti SpA\n",
      "Amount: €186,000\n",
      "Reason of Sanction: Violations related to banking regulations and credit processes\n",
      "Category of Reason: Banking Regulations/Credit Processes (or Compliance)\n",
      "Parsed Date of Sanction: 2020-03-10 00:00:00\n",
      "Parsed Sanctioned Entity: Banca C.R. Asti SpA\n",
      "Original Amount String: €186,000\n",
      "Aggregated Amount: 186000\n",
      "Parsed Reason of Sanction: Violations related to banking regulations and credit processes\n",
      "Parsed Category of Reason: Banking Regulations/Credit Processes (or Compliance)\n",
      "Processed Result: ('Banca C.R. Asti SpA', 186000, 'Violations related to banking regulations and credit processes', datetime.datetime(2020, 3, 10, 0, 0), 'Banking Regulations/Credit Processes (or Compliance)')\n",
      "Response Data: {'id': 'chatcmpl-0kz468fcpdxrquk5fflu3r', 'object': 'chat.completion', 'created': 1714065225, 'model': 'TheBloke/Mistral-7B-Instruct-v0.2-GGUF/mistral-7b-instruct-v0.2.Q2_K.gguf', 'choices': [{'index': 0, 'message': {'role': 'assistant', 'content': ' Date of Sanction: 17.03.2020\\nSanctioned Entity: Banca dell’Alta Murgia Credito Cooperativo\\nAmount: €30,000\\nReason of Sanction: Violation of reporting obligations (artt. 35, 36 and 62 d.lgs. n. 231/2007)\\nCategory of Reason: Reporting Obl'}, 'finish_reason': 'stop'}], 'usage': {'prompt_tokens': 99, 'completion_tokens': 99, 'total_tokens': 198}}\n",
      "Completion Text:  Date of Sanction: 17.03.2020\n",
      "Sanctioned Entity: Banca dell’Alta Murgia Credito Cooperativo\n",
      "Amount: €30,000\n",
      "Reason of Sanction: Violation of reporting obligations (artt. 35, 36 and 62 d.lgs. n. 231/2007)\n",
      "Category of Reason: Reporting Obl\n",
      "Parsed Date of Sanction: 2020-03-17 00:00:00\n",
      "Parsed Sanctioned Entity: Banca dell’Alta Murgia Credito Cooperativo\n",
      "Original Amount String: €30,000\n",
      "Aggregated Amount: 30000\n",
      "Parsed Reason of Sanction: Violation of reporting obligations (artt. 35, 36 and 62 d.lgs. n. 231/2007)\n",
      "Parsed Category of Reason: Reporting Obl\n",
      "Processed Result: ('Banca dell’Alta Murgia Credito Cooperativo', 30000, 'Violation of reporting obligations (artt. 35, 36 and 62 d.lgs. n. 231/2007)', datetime.datetime(2020, 3, 17, 0, 0), 'Reporting Obl')\n",
      "Response Data: {'id': 'chatcmpl-7zrk12y1kt2x0rmvg7w2l', 'object': 'chat.completion', 'created': 1714065229, 'model': 'TheBloke/Mistral-7B-Instruct-v0.2-GGUF/mistral-7b-instruct-v0.2.Q2_K.gguf', 'choices': [{'index': 0, 'message': {'role': 'assistant', 'content': ' Date of Sanction: 03.03.2020\\nSanctioned Entity: Finaosta Spa\\nAmount: €45,000\\nReason of Sanction: Violations related to organizational deficiencies and internal controls in the credit process\\nCategory of Reason: Regulatory compliance (Banking)'}, 'finish_reason': 'stop'}], 'usage': {'prompt_tokens': 74, 'completion_tokens': 74, 'total_tokens': 148}}\n",
      "Completion Text:  Date of Sanction: 03.03.2020\n",
      "Sanctioned Entity: Finaosta Spa\n",
      "Amount: €45,000\n",
      "Reason of Sanction: Violations related to organizational deficiencies and internal controls in the credit process\n",
      "Category of Reason: Regulatory compliance (Banking)\n",
      "Parsed Date of Sanction: 2020-03-03 00:00:00\n",
      "Parsed Sanctioned Entity: Finaosta Spa\n",
      "Original Amount String: €45,000\n",
      "Aggregated Amount: 45000\n",
      "Parsed Reason of Sanction: Violations related to organizational deficiencies and internal controls in the credit process\n",
      "Parsed Category of Reason: Regulatory compliance (Banking)\n",
      "Processed Result: ('Finaosta Spa', 45000, 'Violations related to organizational deficiencies and internal controls in the credit process', datetime.datetime(2020, 3, 3, 0, 0), 'Regulatory compliance (Banking)')\n",
      "Response Data: {'id': 'chatcmpl-a0p4rc00v871r8cr5m5ju5', 'object': 'chat.completion', 'created': 1714065234, 'model': 'TheBloke/Mistral-7B-Instruct-v0.2-GGUF/mistral-7b-instruct-v0.2.Q2_K.gguf', 'choices': [{'index': 0, 'message': {'role': 'assistant', 'content': ' - Date of Sanction: 21.01.2020\\n- Sanctioned Entity: La Colombo Finanziaria SpA\\n- Amount: €30,000\\n- Reason of Sanction: Violation of financial regulations and laws\\n- Category of Reason: Regulatory compliance / Financial crimes (Money laundering and terrorism financing)'}, 'finish_reason': 'stop'}], 'usage': {'prompt_tokens': 85, 'completion_tokens': 85, 'total_tokens': 170}}\n",
      "Completion Text:  - Date of Sanction: 21.01.2020\n",
      "- Sanctioned Entity: La Colombo Finanziaria SpA\n",
      "- Amount: €30,000\n",
      "- Reason of Sanction: Violation of financial regulations and laws\n",
      "- Category of Reason: Regulatory compliance / Financial crimes (Money laundering and terrorism financing)\n",
      "Parsed Date of Sanction: 2020-01-21 00:00:00\n",
      "Parsed Sanctioned Entity: La Colombo Finanziaria SpA\n",
      "Original Amount String: €30,000\n",
      "Aggregated Amount: 30000\n",
      "Parsed Reason of Sanction: Violation of financial regulations and laws\n",
      "Parsed Category of Reason: Regulatory compliance / Financial crimes (Money laundering and terrorism financing)\n",
      "Processed Result: ('La Colombo Finanziaria SpA', 30000, 'Violation of financial regulations and laws', datetime.datetime(2020, 1, 21, 0, 0), 'Regulatory compliance / Financial crimes (Money laundering and terrorism financing)')\n",
      "Response Data: {'id': 'chatcmpl-9t15g5d6v4unw7dk75ecs', 'object': 'chat.completion', 'created': 1714065239, 'model': 'TheBloke/Mistral-7B-Instruct-v0.2-GGUF/mistral-7b-instruct-v0.2.Q2_K.gguf', 'choices': [{'index': 0, 'message': {'role': 'assistant', 'content': ' Date of Sanction: 21.01.2020\\nSanctioned Entity: La Colombo Finanziaria Spa\\nAmount: €60,000\\nReason of Sanction: Violations of organizational and internal control requirements (Art. 108, d.lgs. 385/93)\\nCategory of Reason: Regulatory compliance (specifically, banking regulations)'}, 'finish_reason': 'stop'}], 'usage': {'prompt_tokens': 96, 'completion_tokens': 96, 'total_tokens': 192}}\n",
      "Completion Text:  Date of Sanction: 21.01.2020\n",
      "Sanctioned Entity: La Colombo Finanziaria Spa\n",
      "Amount: €60,000\n",
      "Reason of Sanction: Violations of organizational and internal control requirements (Art. 108, d.lgs. 385/93)\n",
      "Category of Reason: Regulatory compliance (specifically, banking regulations)\n",
      "Parsed Date of Sanction: 2020-01-21 00:00:00\n",
      "Parsed Sanctioned Entity: La Colombo Finanziaria Spa\n",
      "Original Amount String: €60,000\n",
      "Aggregated Amount: 60000\n",
      "Parsed Reason of Sanction: Violations of organizational and internal control requirements (Art. 108, d.lgs. 385/93)\n",
      "Parsed Category of Reason: Regulatory compliance (specifically, banking regulations)\n",
      "Processed Result: ('La Colombo Finanziaria Spa', 60000, 'Violations of organizational and internal control requirements (Art. 108, d.lgs. 385/93)', datetime.datetime(2020, 1, 21, 0, 0), 'Regulatory compliance (specifically, banking regulations)')\n",
      "Response Data: {'id': 'chatcmpl-bn2ubtq55coyxioycm0nen', 'object': 'chat.completion', 'created': 1714065243, 'model': 'TheBloke/Mistral-7B-Instruct-v0.2-GGUF/mistral-7b-instruct-v0.2.Q2_K.gguf', 'choices': [{'index': 0, 'message': {'role': 'assistant', 'content': ' Date of Sanction: 28.1.2020\\nSanctioned Entity: Findomestic Banca Spa\\nAmount: €390,000\\nReason of Sanction: Violations of transparency regulations in banking and financial activities.\\nCategory of Reason: Transparency'}, 'finish_reason': 'stop'}], 'usage': {'prompt_tokens': 66, 'completion_tokens': 66, 'total_tokens': 132}}\n",
      "Completion Text:  Date of Sanction: 28.1.2020\n",
      "Sanctioned Entity: Findomestic Banca Spa\n",
      "Amount: €390,000\n",
      "Reason of Sanction: Violations of transparency regulations in banking and financial activities.\n",
      "Category of Reason: Transparency\n",
      "Parsed Date of Sanction: 2020-01-28 00:00:00\n",
      "Parsed Sanctioned Entity: Findomestic Banca Spa\n",
      "Original Amount String: €390,000\n",
      "Aggregated Amount: 390000\n",
      "Parsed Reason of Sanction: Violations of transparency regulations in banking and financial activities.\n",
      "Parsed Category of Reason: Transparency\n",
      "Processed Result: ('Findomestic Banca Spa', 390000, 'Violations of transparency regulations in banking and financial activities.', datetime.datetime(2020, 1, 28, 0, 0), 'Transparency')\n",
      "Response Data: {'id': 'chatcmpl-0c8503zuoklq6pw156umxw5', 'object': 'chat.completion', 'created': 1714065248, 'model': 'TheBloke/Mistral-7B-Instruct-v0.2-GGUF/mistral-7b-instruct-v0.2.Q2_K.gguf', 'choices': [{'index': 0, 'message': {'role': 'assistant', 'content': ' Date of Sanction: 17.12.2019\\nSanctioned Entity: Mikro Kapital Spa\\nAmount: €30,000\\nReason of Sanction: Violation of client verification and data conservation obligations (artt. 17-20, 31, 32 of d.lgs. n. 231/2007)\\nCategory of Reason: Compliance -'}, 'finish_reason': 'stop'}], 'usage': {'prompt_tokens': 99, 'completion_tokens': 99, 'total_tokens': 198}}\n",
      "Completion Text:  Date of Sanction: 17.12.2019\n",
      "Sanctioned Entity: Mikro Kapital Spa\n",
      "Amount: €30,000\n",
      "Reason of Sanction: Violation of client verification and data conservation obligations (artt. 17-20, 31, 32 of d.lgs. n. 231/2007)\n",
      "Category of Reason: Compliance -\n",
      "Parsed Date of Sanction: 2019-12-17 00:00:00\n",
      "Parsed Sanctioned Entity: Mikro Kapital Spa\n",
      "Original Amount String: €30,000\n",
      "Aggregated Amount: 30000\n",
      "Parsed Reason of Sanction: Violation of client verification and data conservation obligations (artt. 17-20, 31, 32 of d.lgs. n. 231/2007)\n",
      "Parsed Category of Reason: Compliance -\n",
      "Processed Result: ('Mikro Kapital Spa', 30000, 'Violation of client verification and data conservation obligations (artt. 17-20, 31, 32 of d.lgs. n. 231/2007)', datetime.datetime(2019, 12, 17, 0, 0), 'Compliance -')\n",
      "Response Data: {'id': 'chatcmpl-8abxwby7t9dnw73x7m2re', 'object': 'chat.completion', 'created': 1714065251, 'model': 'TheBloke/Mistral-7B-Instruct-v0.2-GGUF/mistral-7b-instruct-v0.2.Q2_K.gguf', 'choices': [{'index': 0, 'message': {'role': 'assistant', 'content': ' - Date of Sanction: 21.1.2020\\n- Sanctioned Entity: ING Bank Nv\\n- Amount: €3,500,000\\n- Reason of Sanction: Violations of regulatory obligations in banking and financial sectors\\n- Category of Reason: Regulatory non-compliance (specifically, inadequate customer verification, collaboration, data conservation)'}, 'finish_reason': 'stop'}], 'usage': {'prompt_tokens': 92, 'completion_tokens': 92, 'total_tokens': 184}}\n",
      "Completion Text:  - Date of Sanction: 21.1.2020\n",
      "- Sanctioned Entity: ING Bank Nv\n",
      "- Amount: €3,500,000\n",
      "- Reason of Sanction: Violations of regulatory obligations in banking and financial sectors\n",
      "- Category of Reason: Regulatory non-compliance (specifically, inadequate customer verification, collaboration, data conservation)\n",
      "Parsed Date of Sanction: 2020-01-21 00:00:00\n",
      "Parsed Sanctioned Entity: ING Bank Nv\n",
      "Original Amount String: €3,500,000\n",
      "Aggregated Amount: 3500\n",
      "Parsed Reason of Sanction: Violations of regulatory obligations in banking and financial sectors\n",
      "Parsed Category of Reason: Regulatory non-compliance (specifically, inadequate customer verification, collaboration, data conservation)\n",
      "Processed Result: ('ING Bank Nv', 3500, 'Violations of regulatory obligations in banking and financial sectors', datetime.datetime(2020, 1, 21, 0, 0), 'Regulatory non-compliance (specifically, inadequate customer verification, collaboration, data conservation)')\n",
      "Response Data: {'id': 'chatcmpl-4p0mlhnuy9mrr95p6f72qg', 'object': 'chat.completion', 'created': 1714065256, 'model': 'TheBloke/Mistral-7B-Instruct-v0.2-GGUF/mistral-7b-instruct-v0.2.Q2_K.gguf', 'choices': [{'index': 0, 'message': {'role': 'assistant', 'content': ' Date of Sanction: 15.01.2020\\nSanctioned Entity: Banca Popolare del Mediterraneo Scpa\\nAmount: €30,000\\nReason of Sanction: Violations related to organizational and control issues in credit processes.\\nCategory of Reason: Compliance (specifically with banking regulations)'}, 'finish_reason': 'stop'}], 'usage': {'prompt_tokens': 78, 'completion_tokens': 78, 'total_tokens': 156}}\n",
      "Completion Text:  Date of Sanction: 15.01.2020\n",
      "Sanctioned Entity: Banca Popolare del Mediterraneo Scpa\n",
      "Amount: €30,000\n",
      "Reason of Sanction: Violations related to organizational and control issues in credit processes.\n",
      "Category of Reason: Compliance (specifically with banking regulations)\n",
      "Parsed Date of Sanction: 2020-01-15 00:00:00\n",
      "Parsed Sanctioned Entity: Banca Popolare del Mediterraneo Scpa\n",
      "Original Amount String: €30,000\n",
      "Aggregated Amount: 30000\n",
      "Parsed Reason of Sanction: Violations related to organizational and control issues in credit processes.\n",
      "Parsed Category of Reason: Compliance (specifically with banking regulations)\n",
      "Processed Result: ('Banca Popolare del Mediterraneo Scpa', 30000, 'Violations related to organizational and control issues in credit processes.', datetime.datetime(2020, 1, 15, 0, 0), 'Compliance (specifically with banking regulations)')\n",
      "Response Data: {'id': 'chatcmpl-9i4cf2bf5favar1fvgq0d', 'object': 'chat.completion', 'created': 1714065260, 'model': 'TheBloke/Mistral-7B-Instruct-v0.2-GGUF/mistral-7b-instruct-v0.2.Q2_K.gguf', 'choices': [{'index': 0, 'message': {'role': 'assistant', 'content': ' Date of Sanction: 08.01.2020\\nSanctioned Entity: Banca del Cilento of Sassano and Vallo di Diano and Lucania\\nAmount: €30,000\\nReason of Sanction: Violations related to banking regulations and internal controls\\nCategory of Reason: Banking Regulations and Internal Controls (Regulatory Compliance)'}, 'finish_reason': 'stop'}], 'usage': {'prompt_tokens': 89, 'completion_tokens': 89, 'total_tokens': 178}}\n",
      "Completion Text:  Date of Sanction: 08.01.2020\n",
      "Sanctioned Entity: Banca del Cilento of Sassano and Vallo di Diano and Lucania\n",
      "Amount: €30,000\n",
      "Reason of Sanction: Violations related to banking regulations and internal controls\n",
      "Category of Reason: Banking Regulations and Internal Controls (Regulatory Compliance)\n",
      "Parsed Date of Sanction: 2020-01-08 00:00:00\n",
      "Parsed Sanctioned Entity: Banca del Cilento of Sassano and Vallo di Diano and Lucania\n",
      "Original Amount String: €30,000\n",
      "Aggregated Amount: 30000\n",
      "Parsed Reason of Sanction: Violations related to banking regulations and internal controls\n",
      "Parsed Category of Reason: Banking Regulations and Internal Controls (Regulatory Compliance)\n",
      "Processed Result: ('Banca del Cilento of Sassano and Vallo di Diano and Lucania', 30000, 'Violations related to banking regulations and internal controls', datetime.datetime(2020, 1, 8, 0, 0), 'Banking Regulations and Internal Controls (Regulatory Compliance)')\n",
      "Response Data: {'id': 'chatcmpl-23npq1zotsflwk6bj2d7l', 'object': 'chat.completion', 'created': 1714065263, 'model': 'TheBloke/Mistral-7B-Instruct-v0.2-GGUF/mistral-7b-instruct-v0.2.Q2_K.gguf', 'choices': [{'index': 0, 'message': {'role': 'assistant', 'content': ' Date of Sanction: 19.11.2019\\nSanctioned Entity: Numeria SGR Spa\\nAmount: €60,000\\nReason of Sanction: Irregularities in organization and internal controls, irregularities in process of valuation of funds, and violation of limits of funds.\\nCategory of Reason: Compliance (organizational, internal control, valuation, and limit violations)'}, 'finish_reason': 'stop'}], 'usage': {'prompt_tokens': 97, 'completion_tokens': 97, 'total_tokens': 194}}\n",
      "Completion Text:  Date of Sanction: 19.11.2019\n",
      "Sanctioned Entity: Numeria SGR Spa\n",
      "Amount: €60,000\n",
      "Reason of Sanction: Irregularities in organization and internal controls, irregularities in process of valuation of funds, and violation of limits of funds.\n",
      "Category of Reason: Compliance (organizational, internal control, valuation, and limit violations)\n",
      "Parsed Date of Sanction: 2019-11-19 00:00:00\n",
      "Parsed Sanctioned Entity: Numeria SGR Spa\n",
      "Original Amount String: €60,000\n",
      "Aggregated Amount: 60000\n",
      "Parsed Reason of Sanction: Irregularities in organization and internal controls, irregularities in process of valuation of funds, and violation of limits of funds.\n",
      "Parsed Category of Reason: Compliance (organizational, internal control, valuation, and limit violations)\n",
      "Processed Result: ('Numeria SGR Spa', 60000, 'Irregularities in organization and internal controls, irregularities in process of valuation of funds, and violation of limits of funds.', datetime.datetime(2019, 11, 19, 0, 0), 'Compliance (organizational, internal control, valuation, and limit violations)')\n",
      "Response Data: {'id': 'chatcmpl-nktidsy4r0oet6hmq6yr1j', 'object': 'chat.completion', 'created': 1714065268, 'model': 'TheBloke/Mistral-7B-Instruct-v0.2-GGUF/mistral-7b-instruct-v0.2.Q2_K.gguf', 'choices': [{'index': 0, 'message': {'role': 'assistant', 'content': ' Date of Sanction: 3.12.2019\\nSanctioned Entity: Istituti Finanziari Riuniti Spa - IFIR\\nAmount: €30,000\\nReason of Sanction: Violations related to organizational deficiencies and internal controls in credit processes (Art. 108, d.lgs. 385/93)\\nCategory of Reason: Regul'}, 'finish_reason': 'stop'}], 'usage': {'prompt_tokens': 99, 'completion_tokens': 99, 'total_tokens': 198}}\n",
      "Completion Text:  Date of Sanction: 3.12.2019\n",
      "Sanctioned Entity: Istituti Finanziari Riuniti Spa - IFIR\n",
      "Amount: €30,000\n",
      "Reason of Sanction: Violations related to organizational deficiencies and internal controls in credit processes (Art. 108, d.lgs. 385/93)\n",
      "Category of Reason: Regul\n",
      "Parsed Date of Sanction: 2019-12-03 00:00:00\n",
      "Parsed Sanctioned Entity: Istituti Finanziari Riuniti Spa - IFIR\n",
      "Original Amount String: €30,000\n",
      "Aggregated Amount: 30000\n",
      "Parsed Reason of Sanction: Violations related to organizational deficiencies and internal controls in credit processes (Art. 108, d.lgs. 385/93)\n",
      "Parsed Category of Reason: Regul\n",
      "Processed Result: ('Istituti Finanziari Riuniti Spa - IFIR', 30000, 'Violations related to organizational deficiencies and internal controls in credit processes (Art. 108, d.lgs. 385/93)', datetime.datetime(2019, 12, 3, 0, 0), 'Regul')\n",
      "Response Data: {'id': 'chatcmpl-ct37i5fygueaykp276j71b', 'object': 'chat.completion', 'created': 1714065272, 'model': 'TheBloke/Mistral-7B-Instruct-v0.2-GGUF/mistral-7b-instruct-v0.2.Q2_K.gguf', 'choices': [{'index': 0, 'message': {'role': 'assistant', 'content': ' - Date of Sanction: 3 December 2019\\n- Sanctioned Entity: Istituti Finanziari Riuniti Spa (IFIR)\\n- Amount: €30,000\\n- Reason of Sanction: Violation of financial regulations and lack of adequate client verification.\\n- Category of Reason: Regulatory compliance / Anti-Money Laundering (AML)'}, 'finish_reason': 'stop'}], 'usage': {'prompt_tokens': 93, 'completion_tokens': 93, 'total_tokens': 186}}\n",
      "Completion Text:  - Date of Sanction: 3 December 2019\n",
      "- Sanctioned Entity: Istituti Finanziari Riuniti Spa (IFIR)\n",
      "- Amount: €30,000\n",
      "- Reason of Sanction: Violation of financial regulations and lack of adequate client verification.\n",
      "- Category of Reason: Regulatory compliance / Anti-Money Laundering (AML)\n",
      "Date parsing error: time data '3 December 2019' does not match format '%d.%m.%Y'\n",
      "Parsed Sanctioned Entity: Istituti Finanziari Riuniti Spa (IFIR)\n",
      "Original Amount String: €30,000\n",
      "Aggregated Amount: 30000\n",
      "Parsed Reason of Sanction: Violation of financial regulations and lack of adequate client verification.\n",
      "Parsed Category of Reason: Regulatory compliance / Anti-Money Laundering (AML)\n",
      "Processed Result: ('Istituti Finanziari Riuniti Spa (IFIR)', 30000, 'Violation of financial regulations and lack of adequate client verification.', None, 'Regulatory compliance / Anti-Money Laundering (AML)')\n",
      "Response Data: {'id': 'chatcmpl-psw1iejaq8gvop6ex5d2i', 'object': 'chat.completion', 'created': 1714065276, 'model': 'TheBloke/Mistral-7B-Instruct-v0.2-GGUF/mistral-7b-instruct-v0.2.Q2_K.gguf', 'choices': [{'index': 0, 'message': {'role': 'assistant', 'content': ' Date of Sanction: 10.12.2019\\nSanctioned Entity: Associated Foreign Exchange Ltd\\nAmount: €30,000\\nReason of Sanction: Violation of anti-money laundering and terrorist financing regulations\\nCategory of Reason: Compliance (Anti-Money Laundering/Countering the Financing of Terrorism)'}, 'finish_reason': 'stop'}], 'usage': {'prompt_tokens': 85, 'completion_tokens': 85, 'total_tokens': 170}}\n",
      "Completion Text:  Date of Sanction: 10.12.2019\n",
      "Sanctioned Entity: Associated Foreign Exchange Ltd\n",
      "Amount: €30,000\n",
      "Reason of Sanction: Violation of anti-money laundering and terrorist financing regulations\n",
      "Category of Reason: Compliance (Anti-Money Laundering/Countering the Financing of Terrorism)\n",
      "Parsed Date of Sanction: 2019-12-10 00:00:00\n",
      "Parsed Sanctioned Entity: Associated Foreign Exchange Ltd\n",
      "Original Amount String: €30,000\n",
      "Aggregated Amount: 30000\n",
      "Parsed Reason of Sanction: Violation of anti-money laundering and terrorist financing regulations\n",
      "Parsed Category of Reason: Compliance (Anti-Money Laundering/Countering the Financing of Terrorism)\n",
      "Processed Result: ('Associated Foreign Exchange Ltd', 30000, 'Violation of anti-money laundering and terrorist financing regulations', datetime.datetime(2019, 12, 10, 0, 0), 'Compliance (Anti-Money Laundering/Countering the Financing of Terrorism)')\n",
      "Response Data: {'id': 'chatcmpl-wdodn342epovln6i9l6mo', 'object': 'chat.completion', 'created': 1714065280, 'model': 'TheBloke/Mistral-7B-Instruct-v0.2-GGUF/mistral-7b-instruct-v0.2.Q2_K.gguf', 'choices': [{'index': 0, 'message': {'role': 'assistant', 'content': ' Date of Sanction: 12.11.2019\\nSanctioned Entity: Sorgente SGR SpA\\nAmount: €135,000 (€45,000 for irregularity under 1 and €90,000 for irregularity under 2)\\nReason of Sanction: Violations related to the evaluation of assets and organizational deficiencies in financial intermediary operations.'}, 'finish_reason': 'stop'}], 'usage': {'prompt_tokens': 99, 'completion_tokens': 99, 'total_tokens': 198}}\n",
      "Completion Text:  Date of Sanction: 12.11.2019\n",
      "Sanctioned Entity: Sorgente SGR SpA\n",
      "Amount: €135,000 (€45,000 for irregularity under 1 and €90,000 for irregularity under 2)\n",
      "Reason of Sanction: Violations related to the evaluation of assets and organizational deficiencies in financial intermediary operations.\n",
      "Parsed Date of Sanction: 2019-11-12 00:00:00\n",
      "Parsed Sanctioned Entity: Sorgente SGR SpA\n",
      "Original Amount String: €135,000 (€45,000 for irregularity under 1 and €90,000 for irregularity under 2)\n",
      "Aggregated Amount: 372\n",
      "Parsed Reason of Sanction: Violations related to the evaluation of assets and organizational deficiencies in financial intermediary operations.\n",
      "Processed Result: ('Sorgente SGR SpA', 372, 'Violations related to the evaluation of assets and organizational deficiencies in financial intermediary operations.', datetime.datetime(2019, 11, 12, 0, 0), '')\n",
      "Response Data: {'id': 'chatcmpl-o3bbihx047i24wm9pdmvkp', 'object': 'chat.completion', 'created': 1714065284, 'model': 'TheBloke/Mistral-7B-Instruct-v0.2-GGUF/mistral-7b-instruct-v0.2.Q2_K.gguf', 'choices': [{'index': 0, 'message': {'role': 'assistant', 'content': ' - Date of Sanction: 10.12.2019\\n- Sanctioned Entity: Banca Monte dei Paschi di Siena S.p.A.\\n- Amount: €1,320,000\\n- Reason of Sanction: Violation of regulatory requirements in banking and financial sectors.\\n- Category of Reason: Regulatory non-compliance (specifically, inadequate client verification,'}, 'finish_reason': 'stop'}], 'usage': {'prompt_tokens': 99, 'completion_tokens': 99, 'total_tokens': 198}}\n",
      "Completion Text:  - Date of Sanction: 10.12.2019\n",
      "- Sanctioned Entity: Banca Monte dei Paschi di Siena S.p.A.\n",
      "- Amount: €1,320,000\n",
      "- Reason of Sanction: Violation of regulatory requirements in banking and financial sectors.\n",
      "- Category of Reason: Regulatory non-compliance (specifically, inadequate client verification,\n",
      "Parsed Date of Sanction: 2019-12-10 00:00:00\n",
      "Parsed Sanctioned Entity: Banca Monte dei Paschi di Siena S.p.A.\n",
      "Original Amount String: €1,320,000\n",
      "Aggregated Amount: 1320\n",
      "Parsed Reason of Sanction: Violation of regulatory requirements in banking and financial sectors.\n",
      "Parsed Category of Reason: Regulatory non-compliance (specifically, inadequate client verification,\n",
      "Processed Result: ('Banca Monte dei Paschi di Siena S.p.A.', 1320, 'Violation of regulatory requirements in banking and financial sectors.', datetime.datetime(2019, 12, 10, 0, 0), 'Regulatory non-compliance (specifically, inadequate client verification,')\n",
      "Response Data: {'id': 'chatcmpl-b3j0s9n0lbsryn07mmzoa', 'object': 'chat.completion', 'created': 1714065289, 'model': 'TheBloke/Mistral-7B-Instruct-v0.2-GGUF/mistral-7b-instruct-v0.2.Q2_K.gguf', 'choices': [{'index': 0, 'message': {'role': 'assistant', 'content': ' - Date of Sanction: 12.11.2019\\n- Sanctioned Entity: Sorgente SGR Spa\\n- Amount: €60,000\\n- Reason of Sanction: Irregularities in organizational structure and governance.\\n- Category of Reason: Governance/Organizational Structure.'}, 'finish_reason': 'stop'}], 'usage': {'prompt_tokens': 78, 'completion_tokens': 78, 'total_tokens': 156}}\n",
      "Completion Text:  - Date of Sanction: 12.11.2019\n",
      "- Sanctioned Entity: Sorgente SGR Spa\n",
      "- Amount: €60,000\n",
      "- Reason of Sanction: Irregularities in organizational structure and governance.\n",
      "- Category of Reason: Governance/Organizational Structure.\n",
      "Parsed Date of Sanction: 2019-11-12 00:00:00\n",
      "Parsed Sanctioned Entity: Sorgente SGR Spa\n",
      "Original Amount String: €60,000\n",
      "Aggregated Amount: 60000\n",
      "Parsed Reason of Sanction: Irregularities in organizational structure and governance.\n",
      "Parsed Category of Reason: Governance/Organizational Structure.\n",
      "Processed Result: ('Sorgente SGR Spa', 60000, 'Irregularities in organizational structure and governance.', datetime.datetime(2019, 11, 12, 0, 0), 'Governance/Organizational Structure.')\n",
      "Response Data: {'id': 'chatcmpl-u5p5nuq1pz8u3gebw9orb', 'object': 'chat.completion', 'created': 1714065293, 'model': 'TheBloke/Mistral-7B-Instruct-v0.2-GGUF/mistral-7b-instruct-v0.2.Q2_K.gguf', 'choices': [{'index': 0, 'message': {'role': 'assistant', 'content': ' Date of Sanction: September 17, 2019\\nSanctioned Entity: Banca Mondiale Sovrana (Giancarlo Gerano)\\nAmount: €5,000\\nReason of Sanction: Abuse of banking denomination (Art. 133, co. 1 TU B)\\nCategory of Reason: Banking regulation violation'}, 'finish_reason': 'stop'}], 'usage': {'prompt_tokens': 83, 'completion_tokens': 83, 'total_tokens': 166}}\n",
      "Completion Text:  Date of Sanction: September 17, 2019\n",
      "Sanctioned Entity: Banca Mondiale Sovrana (Giancarlo Gerano)\n",
      "Amount: €5,000\n",
      "Reason of Sanction: Abuse of banking denomination (Art. 133, co. 1 TU B)\n",
      "Category of Reason: Banking regulation violation\n",
      "Date parsing error: time data 'September 17, 2019' does not match format '%d.%m.%Y'\n",
      "Parsed Sanctioned Entity: Banca Mondiale Sovrana (Giancarlo Gerano)\n",
      "Original Amount String: €5,000\n",
      "Aggregated Amount: 5000\n",
      "Parsed Reason of Sanction: Abuse of banking denomination (Art. 133, co. 1 TU B)\n",
      "Parsed Category of Reason: Banking regulation violation\n",
      "Processed Result: ('Banca Mondiale Sovrana (Giancarlo Gerano)', 5000, 'Abuse of banking denomination (Art. 133, co. 1 TU B)', None, 'Banking regulation violation')\n",
      "Response Data: {'id': 'chatcmpl-j93o02fpl69r95g9qqsna', 'object': 'chat.completion', 'created': 1714065298, 'model': 'TheBloke/Mistral-7B-Instruct-v0.2-GGUF/mistral-7b-instruct-v0.2.Q2_K.gguf', 'choices': [{'index': 0, 'message': {'role': 'assistant', 'content': ' Date of Sanction: 19.11.2019\\nSanctioned Entity: BCC di San Biagio Platani (in amministrazione straordinaria)\\nAmount: €71,000\\nReason of Sanction: Violation of regulatory obligations in the financial sector\\nCategory of Reason: Regulatory Compliance'}, 'finish_reason': 'stop'}], 'usage': {'prompt_tokens': 81, 'completion_tokens': 81, 'total_tokens': 162}}\n",
      "Completion Text:  Date of Sanction: 19.11.2019\n",
      "Sanctioned Entity: BCC di San Biagio Platani (in amministrazione straordinaria)\n",
      "Amount: €71,000\n",
      "Reason of Sanction: Violation of regulatory obligations in the financial sector\n",
      "Category of Reason: Regulatory Compliance\n",
      "Parsed Date of Sanction: 2019-11-19 00:00:00\n",
      "Parsed Sanctioned Entity: BCC di San Biagio Platani (in amministrazione straordinaria)\n",
      "Original Amount String: €71,000\n",
      "Aggregated Amount: 71000\n",
      "Parsed Reason of Sanction: Violation of regulatory obligations in the financial sector\n",
      "Parsed Category of Reason: Regulatory Compliance\n",
      "Processed Result: ('BCC di San Biagio Platani (in amministrazione straordinaria)', 71000, 'Violation of regulatory obligations in the financial sector', datetime.datetime(2019, 11, 19, 0, 0), 'Regulatory Compliance')\n",
      "Response Data: {'id': 'chatcmpl-c5dljv8t3fo6iep4zep4g', 'object': 'chat.completion', 'created': 1714065302, 'model': 'TheBloke/Mistral-7B-Instruct-v0.2-GGUF/mistral-7b-instruct-v0.2.Q2_K.gguf', 'choices': [{'index': 0, 'message': {'role': 'assistant', 'content': ' Date of Sanction: 26.11.2019\\nSanctioned Entity: Carlyle Real Estate SGR\\nAmount: €60,000\\nReason of Sanction: Violation of anti-money laundering and terrorist financing regulations\\nCategory of Reason: Anti-Money Laundering/Terrorist Financing'}, 'finish_reason': 'stop'}], 'usage': {'prompt_tokens': 77, 'completion_tokens': 77, 'total_tokens': 154}}\n",
      "Completion Text:  Date of Sanction: 26.11.2019\n",
      "Sanctioned Entity: Carlyle Real Estate SGR\n",
      "Amount: €60,000\n",
      "Reason of Sanction: Violation of anti-money laundering and terrorist financing regulations\n",
      "Category of Reason: Anti-Money Laundering/Terrorist Financing\n",
      "Parsed Date of Sanction: 2019-11-26 00:00:00\n",
      "Parsed Sanctioned Entity: Carlyle Real Estate SGR\n",
      "Original Amount String: €60,000\n",
      "Aggregated Amount: 60000\n",
      "Parsed Reason of Sanction: Violation of anti-money laundering and terrorist financing regulations\n",
      "Parsed Category of Reason: Anti-Money Laundering/Terrorist Financing\n",
      "Processed Result: ('Carlyle Real Estate SGR', 60000, 'Violation of anti-money laundering and terrorist financing regulations', datetime.datetime(2019, 11, 26, 0, 0), 'Anti-Money Laundering/Terrorist Financing')\n",
      "Response Data: {'id': 'chatcmpl-bbd1serbqmu46ox91gvnzi', 'object': 'chat.completion', 'created': 1714065307, 'model': 'TheBloke/Mistral-7B-Instruct-v0.2-GGUF/mistral-7b-instruct-v0.2.Q2_K.gguf', 'choices': [{'index': 0, 'message': {'role': 'assistant', 'content': ' Date of Sanction: September 24, 2019\\nSanctioned Entity: F.I.S. Factoring Investimenti Servizi Finanziari SpA\\nAmount: €90,000\\nReason of Sanction: Violations of organizational and internal control requirements (art. 108, comma 1 TUB; Tit. III, Cap. 1, Circolare della Banca d’'}, 'finish_reason': 'stop'}], 'usage': {'prompt_tokens': 99, 'completion_tokens': 99, 'total_tokens': 198}}\n",
      "Completion Text:  Date of Sanction: September 24, 2019\n",
      "Sanctioned Entity: F.I.S. Factoring Investimenti Servizi Finanziari SpA\n",
      "Amount: €90,000\n",
      "Reason of Sanction: Violations of organizational and internal control requirements (art. 108, comma 1 TUB; Tit. III, Cap. 1, Circolare della Banca d’\n",
      "Date parsing error: time data 'September 24, 2019' does not match format '%d.%m.%Y'\n",
      "Parsed Sanctioned Entity: F.I.S. Factoring Investimenti Servizi Finanziari SpA\n",
      "Original Amount String: €90,000\n",
      "Aggregated Amount: 90000\n",
      "Parsed Reason of Sanction: Violations of organizational and internal control requirements (art. 108, comma 1 TUB; Tit. III, Cap. 1, Circolare della Banca d’\n",
      "Processed Result: ('F.I.S. Factoring Investimenti Servizi Finanziari SpA', 90000, 'Violations of organizational and internal control requirements (art. 108, comma 1 TUB; Tit. III, Cap. 1, Circolare della Banca d’', None, '')\n",
      "Response Data: {'id': 'chatcmpl-5incuql4ucxb7xoc2rqjjh', 'object': 'chat.completion', 'created': 1714065311, 'model': 'TheBloke/Mistral-7B-Instruct-v0.2-GGUF/mistral-7b-instruct-v0.2.Q2_K.gguf', 'choices': [{'index': 0, 'message': {'role': 'assistant', 'content': ' Date of Sanction: September 24, 2019\\nSanctioned Entity: F.I.S. Factoring Investimenti Servizi Finanziari SpA (now in liquidation coatta amministrativa)\\nAmount: €30,000\\nReason of Sanction: Violation of regulations regarding adequate client verification and active collaboration (artt. 17, 18, 19, 35,'}, 'finish_reason': 'stop'}], 'usage': {'prompt_tokens': 99, 'completion_tokens': 99, 'total_tokens': 198}}\n",
      "Completion Text:  Date of Sanction: September 24, 2019\n",
      "Sanctioned Entity: F.I.S. Factoring Investimenti Servizi Finanziari SpA (now in liquidation coatta amministrativa)\n",
      "Amount: €30,000\n",
      "Reason of Sanction: Violation of regulations regarding adequate client verification and active collaboration (artt. 17, 18, 19, 35,\n",
      "Date parsing error: time data 'September 24, 2019' does not match format '%d.%m.%Y'\n",
      "Parsed Sanctioned Entity: F.I.S. Factoring Investimenti Servizi Finanziari SpA (now in liquidation coatta amministrativa)\n",
      "Original Amount String: €30,000\n",
      "Aggregated Amount: 30000\n",
      "Parsed Reason of Sanction: Violation of regulations regarding adequate client verification and active collaboration (artt. 17, 18, 19, 35,\n",
      "Processed Result: ('F.I.S. Factoring Investimenti Servizi Finanziari SpA (now in liquidation coatta amministrativa)', 30000, 'Violation of regulations regarding adequate client verification and active collaboration (artt. 17, 18, 19, 35,', None, '')\n",
      "Response Data: {'id': 'chatcmpl-0kx52cjbcafes3wpufh9ada', 'object': 'chat.completion', 'created': 1714065314, 'model': 'TheBloke/Mistral-7B-Instruct-v0.2-GGUF/mistral-7b-instruct-v0.2.Q2_K.gguf', 'choices': [{'index': 0, 'message': {'role': 'assistant', 'content': ' Date of Sanction: September 17, 2019\\nSanctioned Entity: Trust Virtual Bank (Giangiacomo Savogin)\\nAmount: €5,000\\nReason of Sanction: Abuse of banking denomination (TUB art. 133)\\nCategory of Reason: Banking regulation violation'}, 'finish_reason': 'stop'}], 'usage': {'prompt_tokens': 75, 'completion_tokens': 75, 'total_tokens': 150}}\n",
      "Completion Text:  Date of Sanction: September 17, 2019\n",
      "Sanctioned Entity: Trust Virtual Bank (Giangiacomo Savogin)\n",
      "Amount: €5,000\n",
      "Reason of Sanction: Abuse of banking denomination (TUB art. 133)\n",
      "Category of Reason: Banking regulation violation\n",
      "Date parsing error: time data 'September 17, 2019' does not match format '%d.%m.%Y'\n",
      "Parsed Sanctioned Entity: Trust Virtual Bank (Giangiacomo Savogin)\n",
      "Original Amount String: €5,000\n",
      "Aggregated Amount: 5000\n",
      "Parsed Reason of Sanction: Abuse of banking denomination (TUB art. 133)\n",
      "Parsed Category of Reason: Banking regulation violation\n",
      "Processed Result: ('Trust Virtual Bank (Giangiacomo Savogin)', 5000, 'Abuse of banking denomination (TUB art. 133)', None, 'Banking regulation violation')\n",
      "Response Data: {'id': 'chatcmpl-e0pwvzodbhoeleh2lwoak', 'object': 'chat.completion', 'created': 1714065318, 'model': 'TheBloke/Mistral-7B-Instruct-v0.2-GGUF/mistral-7b-instruct-v0.2.Q2_K.gguf', 'choices': [{'index': 0, 'message': {'role': 'assistant', 'content': ' Date of Sanction: 10.09.2019\\nSanctioned Entity: Crédit Agricole Italia SpA\\nAmount: €1,700,000\\nReason of Sanction: Violations in matter of transparency\\nCategory of Reason: Transparency (regulatory compliance)'}, 'finish_reason': 'stop'}], 'usage': {'prompt_tokens': 72, 'completion_tokens': 72, 'total_tokens': 144}}\n",
      "Completion Text:  Date of Sanction: 10.09.2019\n",
      "Sanctioned Entity: Crédit Agricole Italia SpA\n",
      "Amount: €1,700,000\n",
      "Reason of Sanction: Violations in matter of transparency\n",
      "Category of Reason: Transparency (regulatory compliance)\n",
      "Parsed Date of Sanction: 2019-09-10 00:00:00\n",
      "Parsed Sanctioned Entity: Crédit Agricole Italia SpA\n",
      "Original Amount String: €1,700,000\n",
      "Aggregated Amount: 1700\n",
      "Parsed Reason of Sanction: Violations in matter of transparency\n",
      "Parsed Category of Reason: Transparency (regulatory compliance)\n",
      "Processed Result: ('Crédit Agricole Italia SpA', 1700, 'Violations in matter of transparency', datetime.datetime(2019, 9, 10, 0, 0), 'Transparency (regulatory compliance)')\n",
      "Response Data: {'id': 'chatcmpl-f4a54diqg7v0a47jljzoc3w', 'object': 'chat.completion', 'created': 1714065322, 'model': 'TheBloke/Mistral-7B-Instruct-v0.2-GGUF/mistral-7b-instruct-v0.2.Q2_K.gguf', 'choices': [{'index': 0, 'message': {'role': 'assistant', 'content': ' Date of Sanction: 30.07.2019\\nSanctioned Entity: Unicasim Spa (GRUPPO C&A Consultanti Associazione Cittadinanzattiva)\\nAmount: €35,000\\nReason of Sanction: Violation of regulations regarding organization, internal controls, and remuneration policies in financial intermediary business.\\nCategory of Reason: Compliance/Regul'}, 'finish_reason': 'stop'}], 'usage': {'prompt_tokens': 99, 'completion_tokens': 99, 'total_tokens': 198}}\n",
      "Completion Text:  Date of Sanction: 30.07.2019\n",
      "Sanctioned Entity: Unicasim Spa (GRUPPO C&A Consultanti Associazione Cittadinanzattiva)\n",
      "Amount: €35,000\n",
      "Reason of Sanction: Violation of regulations regarding organization, internal controls, and remuneration policies in financial intermediary business.\n",
      "Category of Reason: Compliance/Regul\n",
      "Parsed Date of Sanction: 2019-07-30 00:00:00\n",
      "Parsed Sanctioned Entity: Unicasim Spa (GRUPPO C&A Consultanti Associazione Cittadinanzattiva)\n",
      "Original Amount String: €35,000\n",
      "Aggregated Amount: 35000\n",
      "Parsed Reason of Sanction: Violation of regulations regarding organization, internal controls, and remuneration policies in financial intermediary business.\n",
      "Parsed Category of Reason: Compliance/Regul\n",
      "Processed Result: ('Unicasim Spa (GRUPPO C&A Consultanti Associazione Cittadinanzattiva)', 35000, 'Violation of regulations regarding organization, internal controls, and remuneration policies in financial intermediary business.', datetime.datetime(2019, 7, 30, 0, 0), 'Compliance/Regul')\n",
      "Response Data: {'id': 'chatcmpl-s7mvidgtq5skulsgc65qt8', 'object': 'chat.completion', 'created': 1714065327, 'model': 'TheBloke/Mistral-7B-Instruct-v0.2-GGUF/mistral-7b-instruct-v0.2.Q2_K.gguf', 'choices': [{'index': 0, 'message': {'role': 'assistant', 'content': ' Date of Sanction: 23.07.2019\\nSanctioned Entity: Banca Popolare del Lazio SCPA\\nAmount: €49,000\\nReason of Sanction: Irregularities in organization, internal controls, and credit process\\nCategory of Reason: Regulatory compliance (specifically, banking regulations)'}, 'finish_reason': 'stop'}], 'usage': {'prompt_tokens': 78, 'completion_tokens': 78, 'total_tokens': 156}}\n",
      "Completion Text:  Date of Sanction: 23.07.2019\n",
      "Sanctioned Entity: Banca Popolare del Lazio SCPA\n",
      "Amount: €49,000\n",
      "Reason of Sanction: Irregularities in organization, internal controls, and credit process\n",
      "Category of Reason: Regulatory compliance (specifically, banking regulations)\n",
      "Parsed Date of Sanction: 2019-07-23 00:00:00\n",
      "Parsed Sanctioned Entity: Banca Popolare del Lazio SCPA\n",
      "Original Amount String: €49,000\n",
      "Aggregated Amount: 49000\n",
      "Parsed Reason of Sanction: Irregularities in organization, internal controls, and credit process\n",
      "Parsed Category of Reason: Regulatory compliance (specifically, banking regulations)\n",
      "Processed Result: ('Banca Popolare del Lazio SCPA', 49000, 'Irregularities in organization, internal controls, and credit process', datetime.datetime(2019, 7, 23, 0, 0), 'Regulatory compliance (specifically, banking regulations)')\n",
      "Response Data: {'id': 'chatcmpl-ut1h80w2o8cn2xmfrqukm', 'object': 'chat.completion', 'created': 1714065332, 'model': 'TheBloke/Mistral-7B-Instruct-v0.2-GGUF/mistral-7b-instruct-v0.2.Q2_K.gguf', 'choices': [{'index': 0, 'message': {'role': 'assistant', 'content': ' Date of Sanction: July 16, 2019\\nSanctioned Entity: Fidor Spa – Fiduciaria Orefici\\nAmount: €30,000\\nReason of Sanction: Violation of client verification obligations (artt. 17, 18, 19, 24, 25 and 62 of d.lgs. 231/2007'}, 'finish_reason': 'stop'}], 'usage': {'prompt_tokens': 99, 'completion_tokens': 99, 'total_tokens': 198}}\n",
      "Completion Text:  Date of Sanction: July 16, 2019\n",
      "Sanctioned Entity: Fidor Spa – Fiduciaria Orefici\n",
      "Amount: €30,000\n",
      "Reason of Sanction: Violation of client verification obligations (artt. 17, 18, 19, 24, 25 and 62 of d.lgs. 231/2007\n",
      "Date parsing error: time data 'July 16, 2019' does not match format '%d.%m.%Y'\n",
      "Parsed Sanctioned Entity: Fidor Spa – Fiduciaria Orefici\n",
      "Original Amount String: €30,000\n",
      "Aggregated Amount: 30000\n",
      "Parsed Reason of Sanction: Violation of client verification obligations (artt. 17, 18, 19, 24, 25 and 62 of d.lgs. 231/2007\n",
      "Processed Result: ('Fidor Spa – Fiduciaria Orefici', 30000, 'Violation of client verification obligations (artt. 17, 18, 19, 24, 25 and 62 of d.lgs. 231/2007', None, '')\n",
      "Response Data: {'id': 'chatcmpl-h918ksm30qbm8xnjtr1y', 'object': 'chat.completion', 'created': 1714065335, 'model': 'TheBloke/Mistral-7B-Instruct-v0.2-GGUF/mistral-7b-instruct-v0.2.Q2_K.gguf', 'choices': [{'index': 0, 'message': {'role': 'assistant', 'content': ' Date of Sanction: July 16, 2019\\nSanctioned Entity: Principia Sgr\\nAmount: €30,000\\nReason of Sanction: Violations related to organization and internal controls (art. 6, d.lgs. 58/98; Regulation B.I. and Consob)\\nCategory of Reason: Organizational Controls/Internal Audit'}, 'finish_reason': 'stop'}], 'usage': {'prompt_tokens': 94, 'completion_tokens': 94, 'total_tokens': 188}}\n",
      "Completion Text:  Date of Sanction: July 16, 2019\n",
      "Sanctioned Entity: Principia Sgr\n",
      "Amount: €30,000\n",
      "Reason of Sanction: Violations related to organization and internal controls (art. 6, d.lgs. 58/98; Regulation B.I. and Consob)\n",
      "Category of Reason: Organizational Controls/Internal Audit\n",
      "Date parsing error: time data 'July 16, 2019' does not match format '%d.%m.%Y'\n",
      "Parsed Sanctioned Entity: Principia Sgr\n",
      "Original Amount String: €30,000\n",
      "Aggregated Amount: 30000\n",
      "Parsed Reason of Sanction: Violations related to organization and internal controls (art. 6, d.lgs. 58/98; Regulation B.I. and Consob)\n",
      "Parsed Category of Reason: Organizational Controls/Internal Audit\n",
      "Processed Result: ('Principia Sgr', 30000, 'Violations related to organization and internal controls (art. 6, d.lgs. 58/98; Regulation B.I. and Consob)', None, 'Organizational Controls/Internal Audit')\n",
      "Response Data: {'id': 'chatcmpl-88n811qoyxa1wgn5hrpb4a', 'object': 'chat.completion', 'created': 1714065339, 'model': 'TheBloke/Mistral-7B-Instruct-v0.2-GGUF/mistral-7b-instruct-v0.2.Q2_K.gguf', 'choices': [{'index': 0, 'message': {'role': 'assistant', 'content': ' Date of Sanction: 23.04.2019\\nSanctioned Entity: Finpiemonte SpA\\nAmount: €68,000\\nReason of Sanction: Irregularities in governance, management, and risk control (Art. 108, comma 1, del.gs. 385/93)\\nCategory of Reason: Governance/Management/Risk Control (compliance'}, 'finish_reason': 'stop'}], 'usage': {'prompt_tokens': 99, 'completion_tokens': 99, 'total_tokens': 198}}\n",
      "Completion Text:  Date of Sanction: 23.04.2019\n",
      "Sanctioned Entity: Finpiemonte SpA\n",
      "Amount: €68,000\n",
      "Reason of Sanction: Irregularities in governance, management, and risk control (Art. 108, comma 1, del.gs. 385/93)\n",
      "Category of Reason: Governance/Management/Risk Control (compliance\n",
      "Parsed Date of Sanction: 2019-04-23 00:00:00\n",
      "Parsed Sanctioned Entity: Finpiemonte SpA\n",
      "Original Amount String: €68,000\n",
      "Aggregated Amount: 68000\n",
      "Parsed Reason of Sanction: Irregularities in governance, management, and risk control (Art. 108, comma 1, del.gs. 385/93)\n",
      "Parsed Category of Reason: Governance/Management/Risk Control (compliance\n",
      "Processed Result: ('Finpiemonte SpA', 68000, 'Irregularities in governance, management, and risk control (Art. 108, comma 1, del.gs. 385/93)', datetime.datetime(2019, 4, 23, 0, 0), 'Governance/Management/Risk Control (compliance')\n",
      "Response Data: {'id': 'chatcmpl-ikltns4cdumwgmuwwbj8om', 'object': 'chat.completion', 'created': 1714065343, 'model': 'TheBloke/Mistral-7B-Instruct-v0.2-GGUF/mistral-7b-instruct-v0.2.Q2_K.gguf', 'choices': [{'index': 0, 'message': {'role': 'assistant', 'content': ' - Date of Sanction: 23.04.2019\\n- Sanctioned Entity: Finpiemonte SpA\\n- Amount: €30,000\\n- Reason of Sanction: Violation of client verification and active collaboration requirements (artt. 17, comms 3 and 4, 19, 36, comma 1, and 62 of d.lgs. '}, 'finish_reason': 'stop'}], 'usage': {'prompt_tokens': 99, 'completion_tokens': 99, 'total_tokens': 198}}\n",
      "Completion Text:  - Date of Sanction: 23.04.2019\n",
      "- Sanctioned Entity: Finpiemonte SpA\n",
      "- Amount: €30,000\n",
      "- Reason of Sanction: Violation of client verification and active collaboration requirements (artt. 17, comms 3 and 4, 19, 36, comma 1, and 62 of d.lgs. \n",
      "Parsed Date of Sanction: 2019-04-23 00:00:00\n",
      "Parsed Sanctioned Entity: Finpiemonte SpA\n",
      "Original Amount String: €30,000\n",
      "Aggregated Amount: 30000\n",
      "Parsed Reason of Sanction: Violation of client verification and active collaboration requirements (artt. 17, comms 3 and 4, 19, 36, comma 1, and 62 of d.lgs.\n",
      "Processed Result: ('Finpiemonte SpA', 30000, 'Violation of client verification and active collaboration requirements (artt. 17, comms 3 and 4, 19, 36, comma 1, and 62 of d.lgs.', datetime.datetime(2019, 4, 23, 0, 0), '')\n",
      "Response Data: {'id': 'chatcmpl-01s2oflchmou8vc6k0kh6i', 'object': 'chat.completion', 'created': 1714065347, 'model': 'TheBloke/Mistral-7B-Instruct-v0.2-GGUF/mistral-7b-instruct-v0.2.Q2_K.gguf', 'choices': [{'index': 0, 'message': {'role': 'assistant', 'content': ' - Date of Sanction: 21.05.2019\\n- Sanctioned Entity: Finpiemonte SPA\\n- Amount: Euro 83,000\\n- Reason of Sanction: Irregularities in governance and control.\\n- Category of Reason: Governance/Control.'}, 'finish_reason': 'stop'}], 'usage': {'prompt_tokens': 72, 'completion_tokens': 72, 'total_tokens': 144}}\n",
      "Completion Text:  - Date of Sanction: 21.05.2019\n",
      "- Sanctioned Entity: Finpiemonte SPA\n",
      "- Amount: Euro 83,000\n",
      "- Reason of Sanction: Irregularities in governance and control.\n",
      "- Category of Reason: Governance/Control.\n",
      "Parsed Date of Sanction: 2019-05-21 00:00:00\n",
      "Parsed Sanctioned Entity: Finpiemonte SPA\n",
      "Original Amount String: Euro 83,000\n",
      "Aggregated Amount: 83000\n",
      "Parsed Reason of Sanction: Irregularities in governance and control.\n",
      "Parsed Category of Reason: Governance/Control.\n",
      "Processed Result: ('Finpiemonte SPA', 83000, 'Irregularities in governance and control.', datetime.datetime(2019, 5, 21, 0, 0), 'Governance/Control.')\n",
      "Response Data: {'id': 'chatcmpl-pafdb1jb06oid44s4sgkse', 'object': 'chat.completion', 'created': 1714065351, 'model': 'TheBloke/Mistral-7B-Instruct-v0.2-GGUF/mistral-7b-instruct-v0.2.Q2_K.gguf', 'choices': [{'index': 0, 'message': {'role': 'assistant', 'content': ' - Date of Sanction: 18.06.2019\\n- Sanctioned Entity: Speedymoney Spa\\n- Amount: €60,000\\n- Reason of Sanction: Violation of transparency regulations in banking and financial services.\\n- Category of Reason: Transparency.'}, 'finish_reason': 'stop'}], 'usage': {'prompt_tokens': 71, 'completion_tokens': 71, 'total_tokens': 142}}\n",
      "Completion Text:  - Date of Sanction: 18.06.2019\n",
      "- Sanctioned Entity: Speedymoney Spa\n",
      "- Amount: €60,000\n",
      "- Reason of Sanction: Violation of transparency regulations in banking and financial services.\n",
      "- Category of Reason: Transparency.\n",
      "Parsed Date of Sanction: 2019-06-18 00:00:00\n",
      "Parsed Sanctioned Entity: Speedymoney Spa\n",
      "Original Amount String: €60,000\n",
      "Aggregated Amount: 60000\n",
      "Parsed Reason of Sanction: Violation of transparency regulations in banking and financial services.\n",
      "Parsed Category of Reason: Transparency.\n",
      "Processed Result: ('Speedymoney Spa', 60000, 'Violation of transparency regulations in banking and financial services.', datetime.datetime(2019, 6, 18, 0, 0), 'Transparency.')\n",
      "Response Data: {'id': 'chatcmpl-vevg7s3hcahtbw2tir0f7', 'object': 'chat.completion', 'created': 1714065355, 'model': 'TheBloke/Mistral-7B-Instruct-v0.2-GGUF/mistral-7b-instruct-v0.2.Q2_K.gguf', 'choices': [{'index': 0, 'message': {'role': 'assistant', 'content': ' - Date of Sanction: 18.06.2019\\n- Sanctioned Entity: Speedymoney Spa\\n- Amount: €30,000\\n- Reason of Sanction: Irregularities in client verification processes (carences negli obblighi di adeguata verifica della clientela)\\n- Category of Reason: Client Verification/Know Your Customer (AML/KYC)'}, 'finish_reason': 'stop'}], 'usage': {'prompt_tokens': 99, 'completion_tokens': 99, 'total_tokens': 198}}\n",
      "Completion Text:  - Date of Sanction: 18.06.2019\n",
      "- Sanctioned Entity: Speedymoney Spa\n",
      "- Amount: €30,000\n",
      "- Reason of Sanction: Irregularities in client verification processes (carences negli obblighi di adeguata verifica della clientela)\n",
      "- Category of Reason: Client Verification/Know Your Customer (AML/KYC)\n",
      "Parsed Date of Sanction: 2019-06-18 00:00:00\n",
      "Parsed Sanctioned Entity: Speedymoney Spa\n",
      "Original Amount String: €30,000\n",
      "Aggregated Amount: 30000\n",
      "Parsed Reason of Sanction: Irregularities in client verification processes (carences negli obblighi di adeguata verifica della clientela)\n",
      "Parsed Category of Reason: Client Verification/Know Your Customer (AML/KYC)\n",
      "Processed Result: ('Speedymoney Spa', 30000, 'Irregularities in client verification processes (carences negli obblighi di adeguata verifica della clientela)', datetime.datetime(2019, 6, 18, 0, 0), 'Client Verification/Know Your Customer (AML/KYC)')\n",
      "Response Data: {'id': 'chatcmpl-eg6hx1vfjdn23w6jxy4kjw', 'object': 'chat.completion', 'created': 1714065359, 'model': 'TheBloke/Mistral-7B-Instruct-v0.2-GGUF/mistral-7b-instruct-v0.2.Q2_K.gguf', 'choices': [{'index': 0, 'message': {'role': 'assistant', 'content': ' Date of Sanction: 23.04.2019\\nSanctioned Entity: P. Fiduciaria Srl\\nAmount: €30,000\\nReason of Sanction: Irregularities in client verification and active collaboration (artt. 17, 18, 24, 25, 36 and 62, d.lgs. 231/2007)'}, 'finish_reason': 'stop'}], 'usage': {'prompt_tokens': 99, 'completion_tokens': 99, 'total_tokens': 198}}\n",
      "Completion Text:  Date of Sanction: 23.04.2019\n",
      "Sanctioned Entity: P. Fiduciaria Srl\n",
      "Amount: €30,000\n",
      "Reason of Sanction: Irregularities in client verification and active collaboration (artt. 17, 18, 24, 25, 36 and 62, d.lgs. 231/2007)\n",
      "Parsed Date of Sanction: 2019-04-23 00:00:00\n",
      "Parsed Sanctioned Entity: P. Fiduciaria Srl\n",
      "Original Amount String: €30,000\n",
      "Aggregated Amount: 30000\n",
      "Parsed Reason of Sanction: Irregularities in client verification and active collaboration (artt. 17, 18, 24, 25, 36 and 62, d.lgs. 231/2007)\n",
      "Processed Result: ('P. Fiduciaria Srl', 30000, 'Irregularities in client verification and active collaboration (artt. 17, 18, 24, 25, 36 and 62, d.lgs. 231/2007)', datetime.datetime(2019, 4, 23, 0, 0), '')\n",
      "Response Data: {'id': 'chatcmpl-6oooh0x2vush76kqxmm2w8', 'object': 'chat.completion', 'created': 1714065364, 'model': 'TheBloke/Mistral-7B-Instruct-v0.2-GGUF/mistral-7b-instruct-v0.2.Q2_K.gguf', 'choices': [{'index': 0, 'message': {'role': 'assistant', 'content': ' Date of Sanction: 07.05.2019\\nSanctioned Entity: Banca di Credito Cooperativo di Napoli\\nAmount: €30,000\\nReason of Sanction: Violations of regulatory requirements in banking and credit industry\\nCategory of Reason: Regulatory non-compliance (KYC, AML)'}, 'finish_reason': 'stop'}], 'usage': {'prompt_tokens': 82, 'completion_tokens': 82, 'total_tokens': 164}}\n",
      "Completion Text:  Date of Sanction: 07.05.2019\n",
      "Sanctioned Entity: Banca di Credito Cooperativo di Napoli\n",
      "Amount: €30,000\n",
      "Reason of Sanction: Violations of regulatory requirements in banking and credit industry\n",
      "Category of Reason: Regulatory non-compliance (KYC, AML)\n",
      "Parsed Date of Sanction: 2019-05-07 00:00:00\n",
      "Parsed Sanctioned Entity: Banca di Credito Cooperativo di Napoli\n",
      "Original Amount String: €30,000\n",
      "Aggregated Amount: 30000\n",
      "Parsed Reason of Sanction: Violations of regulatory requirements in banking and credit industry\n",
      "Parsed Category of Reason: Regulatory non-compliance (KYC, AML)\n",
      "Processed Result: ('Banca di Credito Cooperativo di Napoli', 30000, 'Violations of regulatory requirements in banking and credit industry', datetime.datetime(2019, 5, 7, 0, 0), 'Regulatory non-compliance (KYC, AML)')\n",
      "Response Data: {'id': 'chatcmpl-0x5vjgqo5tnprqq70hgxg5o', 'object': 'chat.completion', 'created': 1714065368, 'model': 'TheBloke/Mistral-7B-Instruct-v0.2-GGUF/mistral-7b-instruct-v0.2.Q2_K.gguf', 'choices': [{'index': 0, 'message': {'role': 'assistant', 'content': ' Date of Sanction: May 21, 2019\\nSanctioned Entity: Banca di Credito Cooperativo Valdostana\\nAmount: €167,000\\nReason of Sanction: Violations related to governance, management, and risk control.\\nCategory of Reason: Regulatory compliance (Governance, Risk Management)'}, 'finish_reason': 'stop'}], 'usage': {'prompt_tokens': 83, 'completion_tokens': 83, 'total_tokens': 166}}\n",
      "Completion Text:  Date of Sanction: May 21, 2019\n",
      "Sanctioned Entity: Banca di Credito Cooperativo Valdostana\n",
      "Amount: €167,000\n",
      "Reason of Sanction: Violations related to governance, management, and risk control.\n",
      "Category of Reason: Regulatory compliance (Governance, Risk Management)\n",
      "Date parsing error: time data 'May 21, 2019' does not match format '%d.%m.%Y'\n",
      "Parsed Sanctioned Entity: Banca di Credito Cooperativo Valdostana\n",
      "Original Amount String: €167,000\n",
      "Aggregated Amount: 167000\n",
      "Parsed Reason of Sanction: Violations related to governance, management, and risk control.\n",
      "Parsed Category of Reason: Regulatory compliance (Governance, Risk Management)\n",
      "Processed Result: ('Banca di Credito Cooperativo Valdostana', 167000, 'Violations related to governance, management, and risk control.', None, 'Regulatory compliance (Governance, Risk Management)')\n",
      "Response Data: {'id': 'chatcmpl-o72s5yvd64dcdu34njcc1r', 'object': 'chat.completion', 'created': 1714065371, 'model': 'TheBloke/Mistral-7B-Instruct-v0.2-GGUF/mistral-7b-instruct-v0.2.Q2_K.gguf', 'choices': [{'index': 0, 'message': {'role': 'assistant', 'content': ' Date of Sanction: 21.05.2019\\nSanctioned Entity: Banca di Credito Cooperativo Valdostana\\nAmount: €133,000\\nReason of Sanction: Irregularities in customer verification and active collaboration (articles 17, 18, 19, 24, 25, 35, 36, and 62 of d.l'}, 'finish_reason': 'stop'}], 'usage': {'prompt_tokens': 99, 'completion_tokens': 99, 'total_tokens': 198}}\n",
      "Completion Text:  Date of Sanction: 21.05.2019\n",
      "Sanctioned Entity: Banca di Credito Cooperativo Valdostana\n",
      "Amount: €133,000\n",
      "Reason of Sanction: Irregularities in customer verification and active collaboration (articles 17, 18, 19, 24, 25, 35, 36, and 62 of d.l\n",
      "Parsed Date of Sanction: 2019-05-21 00:00:00\n",
      "Parsed Sanctioned Entity: Banca di Credito Cooperativo Valdostana\n",
      "Original Amount String: €133,000\n",
      "Aggregated Amount: 133000\n",
      "Parsed Reason of Sanction: Irregularities in customer verification and active collaboration (articles 17, 18, 19, 24, 25, 35, 36, and 62 of d.l\n",
      "Processed Result: ('Banca di Credito Cooperativo Valdostana', 133000, 'Irregularities in customer verification and active collaboration (articles 17, 18, 19, 24, 25, 35, 36, and 62 of d.l', datetime.datetime(2019, 5, 21, 0, 0), '')\n",
      "Response Data: {'id': 'chatcmpl-nqb5n3ehx4qixeayu6bf', 'object': 'chat.completion', 'created': 1714065376, 'model': 'TheBloke/Mistral-7B-Instruct-v0.2-GGUF/mistral-7b-instruct-v0.2.Q2_K.gguf', 'choices': [{'index': 0, 'message': {'role': 'assistant', 'content': \" Date of Sanction: 04.06.2019\\nSanctioned Entity: LCC Trans Sending Limited\\nAmount: €30,000\\nReason of Sanction: Violation of banking and financial regulations\\nCategory of Reason: Regulatory compliance (miscellaneous)\\nLCC Trans Sending Limited was sanctioned by the Banca d'Italia for violating Italian banking and financial regulations, specifically in relation to\"}, 'finish_reason': 'stop'}], 'usage': {'prompt_tokens': 99, 'completion_tokens': 99, 'total_tokens': 198}}\n",
      "Completion Text:  Date of Sanction: 04.06.2019\n",
      "Sanctioned Entity: LCC Trans Sending Limited\n",
      "Amount: €30,000\n",
      "Reason of Sanction: Violation of banking and financial regulations\n",
      "Category of Reason: Regulatory compliance (miscellaneous)\n",
      "LCC Trans Sending Limited was sanctioned by the Banca d'Italia for violating Italian banking and financial regulations, specifically in relation to\n",
      "Parsed Date of Sanction: 2019-06-04 00:00:00\n",
      "Parsed Sanctioned Entity: LCC Trans Sending Limited\n",
      "Original Amount String: €30,000\n",
      "Aggregated Amount: 30000\n",
      "Parsed Reason of Sanction: Violation of banking and financial regulations\n",
      "Parsed Category of Reason: Regulatory compliance (miscellaneous)\n",
      "Processed Result: ('LCC Trans Sending Limited', 30000, 'Violation of banking and financial regulations', datetime.datetime(2019, 6, 4, 0, 0), 'Regulatory compliance (miscellaneous)')\n",
      "Response Data: {'id': 'chatcmpl-rh32cb8afyooxsy7gqjfh', 'object': 'chat.completion', 'created': 1714065380, 'model': 'TheBloke/Mistral-7B-Instruct-v0.2-GGUF/mistral-7b-instruct-v0.2.Q2_K.gguf', 'choices': [{'index': 0, 'message': {'role': 'assistant', 'content': ' Date of Sanction: 29.01.2019\\nSanctioned Entity: Banca Sviluppo Economico Spa in l.c.a.\\nAmount: €40,000\\nReason of Sanction: Violation of regulatory requirements and incorrect reporting to the supervisory authority.\\nCategory of Reason: Regulatory non-compliance / Reporting violation'}, 'finish_reason': 'stop'}], 'usage': {'prompt_tokens': 88, 'completion_tokens': 88, 'total_tokens': 176}}\n",
      "Completion Text:  Date of Sanction: 29.01.2019\n",
      "Sanctioned Entity: Banca Sviluppo Economico Spa in l.c.a.\n",
      "Amount: €40,000\n",
      "Reason of Sanction: Violation of regulatory requirements and incorrect reporting to the supervisory authority.\n",
      "Category of Reason: Regulatory non-compliance / Reporting violation\n",
      "Parsed Date of Sanction: 2019-01-29 00:00:00\n",
      "Parsed Sanctioned Entity: Banca Sviluppo Economico Spa in l.c.a.\n",
      "Original Amount String: €40,000\n",
      "Aggregated Amount: 40000\n",
      "Parsed Reason of Sanction: Violation of regulatory requirements and incorrect reporting to the supervisory authority.\n",
      "Parsed Category of Reason: Regulatory non-compliance / Reporting violation\n",
      "Processed Result: ('Banca Sviluppo Economico Spa in l.c.a.', 40000, 'Violation of regulatory requirements and incorrect reporting to the supervisory authority.', datetime.datetime(2019, 1, 29, 0, 0), 'Regulatory non-compliance / Reporting violation')\n",
      "Response Data: {'id': 'chatcmpl-hei4e8y51uijt9fgo40v', 'object': 'chat.completion', 'created': 1714065385, 'model': 'TheBloke/Mistral-7B-Instruct-v0.2-GGUF/mistral-7b-instruct-v0.2.Q2_K.gguf', 'choices': [{'index': 0, 'message': {'role': 'assistant', 'content': ' - Date of Sanction: March 22, 2019\\n- Sanctioned Entity: Banca Sviluppo Economico Spa\\n- Amount: Pietro Bottino - Euro 50,000; Gaetano Sannolo - Euro 40,000; Isidoro Edoardo Cutuli - Euro 50,000 (aggregate: Euro 140,00'}, 'finish_reason': 'stop'}], 'usage': {'prompt_tokens': 99, 'completion_tokens': 99, 'total_tokens': 198}}\n",
      "Completion Text:  - Date of Sanction: March 22, 2019\n",
      "- Sanctioned Entity: Banca Sviluppo Economico Spa\n",
      "- Amount: Pietro Bottino - Euro 50,000; Gaetano Sannolo - Euro 40,000; Isidoro Edoardo Cutuli - Euro 50,000 (aggregate: Euro 140,00\n",
      "Date parsing error: time data 'March 22, 2019' does not match format '%d.%m.%Y'\n",
      "Parsed Sanctioned Entity: Banca Sviluppo Economico Spa\n",
      "Original Amount String: Pietro Bottino - Euro 50,000; Gaetano Sannolo - Euro 40,000; Isidoro Edoardo Cutuli - Euro 50,000 (aggregate\n",
      "Aggregated Amount: 50090\n",
      "Processed Result: ('Banca Sviluppo Economico Spa', 50090, '', None, '')\n",
      "Response Data: {'id': 'chatcmpl-xzbus6b33ul4s8frup2y', 'object': 'chat.completion', 'created': 1714065388, 'model': 'TheBloke/Mistral-7B-Instruct-v0.2-GGUF/mistral-7b-instruct-v0.2.Q2_K.gguf', 'choices': [{'index': 0, 'message': {'role': 'assistant', 'content': ' Date of Sanction: 16.04.2019\\nSanctioned Entity: FCA Bank Spa\\nAmount: €2,500,000\\nReason of Sanction: Irregularities in transparency and client relationships\\nCategory of Reason: Transparency/Client Relationships (or Compliance)'}, 'finish_reason': 'stop'}], 'usage': {'prompt_tokens': 74, 'completion_tokens': 74, 'total_tokens': 148}}\n",
      "Completion Text:  Date of Sanction: 16.04.2019\n",
      "Sanctioned Entity: FCA Bank Spa\n",
      "Amount: €2,500,000\n",
      "Reason of Sanction: Irregularities in transparency and client relationships\n",
      "Category of Reason: Transparency/Client Relationships (or Compliance)\n",
      "Parsed Date of Sanction: 2019-04-16 00:00:00\n",
      "Parsed Sanctioned Entity: FCA Bank Spa\n",
      "Original Amount String: €2,500,000\n",
      "Aggregated Amount: 2500\n",
      "Parsed Reason of Sanction: Irregularities in transparency and client relationships\n",
      "Parsed Category of Reason: Transparency/Client Relationships (or Compliance)\n",
      "Processed Result: ('FCA Bank Spa', 2500, 'Irregularities in transparency and client relationships', datetime.datetime(2019, 4, 16, 0, 0), 'Transparency/Client Relationships (or Compliance)')\n",
      "Response Data: {'id': 'chatcmpl-t6636z2xorj1mhvigye9m', 'object': 'chat.completion', 'created': 1714065393, 'model': 'TheBloke/Mistral-7B-Instruct-v0.2-GGUF/mistral-7b-instruct-v0.2.Q2_K.gguf', 'choices': [{'index': 0, 'message': {'role': 'assistant', 'content': ' - Date of Sanction: 05.03.2019\\n- Sanctioned Entity: Credito Cooperativo di San Calogero e Maierato – BCC del Vibonese soc. coop.\\n- Amount: €30,000\\n- Reason of Sanction: Irregularities in client verification and identification of the ultimate beneficial owner (artt. 17, 18, 19'}, 'finish_reason': 'stop'}], 'usage': {'prompt_tokens': 99, 'completion_tokens': 99, 'total_tokens': 198}}\n",
      "Completion Text:  - Date of Sanction: 05.03.2019\n",
      "- Sanctioned Entity: Credito Cooperativo di San Calogero e Maierato – BCC del Vibonese soc. coop.\n",
      "- Amount: €30,000\n",
      "- Reason of Sanction: Irregularities in client verification and identification of the ultimate beneficial owner (artt. 17, 18, 19\n",
      "Parsed Date of Sanction: 2019-03-05 00:00:00\n",
      "Parsed Sanctioned Entity: Credito Cooperativo di San Calogero e Maierato – BCC del Vibonese soc. coop.\n",
      "Original Amount String: €30,000\n",
      "Aggregated Amount: 30000\n",
      "Parsed Reason of Sanction: Irregularities in client verification and identification of the ultimate beneficial owner (artt. 17, 18, 19\n",
      "Processed Result: ('Credito Cooperativo di San Calogero e Maierato – BCC del Vibonese soc. coop.', 30000, 'Irregularities in client verification and identification of the ultimate beneficial owner (artt. 17, 18, 19', datetime.datetime(2019, 3, 5, 0, 0), '')\n",
      "Response Data: {'id': 'chatcmpl-d5a3ttog0xgtdlmj7iqkzk', 'object': 'chat.completion', 'created': 1714065397, 'model': 'TheBloke/Mistral-7B-Instruct-v0.2-GGUF/mistral-7b-instruct-v0.2.Q2_K.gguf', 'choices': [{'index': 0, 'message': {'role': 'assistant', 'content': ' Date of Sanction: 19.03.2019\\nSanctioned Entity: Banca Valdichiana Credito Cooperativo di Chiusi e Montepulciano S.C.\\nAmount: Euro 286,500 (aggregate for all individuals and entities listed)\\nReason of Sanction: Irregularities in internal control systems (less than 20 words)\\nCategory of Reason: Compliance'}, 'finish_reason': 'stop'}], 'usage': {'prompt_tokens': 99, 'completion_tokens': 99, 'total_tokens': 198}}\n",
      "Completion Text:  Date of Sanction: 19.03.2019\n",
      "Sanctioned Entity: Banca Valdichiana Credito Cooperativo di Chiusi e Montepulciano S.C.\n",
      "Amount: Euro 286,500 (aggregate for all individuals and entities listed)\n",
      "Reason of Sanction: Irregularities in internal control systems (less than 20 words)\n",
      "Category of Reason: Compliance\n",
      "Parsed Date of Sanction: 2019-03-19 00:00:00\n",
      "Parsed Sanctioned Entity: Banca Valdichiana Credito Cooperativo di Chiusi e Montepulciano S.C.\n",
      "Original Amount String: Euro 286,500 (aggregate for all individuals and entities listed)\n",
      "Aggregated Amount: 286500\n",
      "Parsed Reason of Sanction: Irregularities in internal control systems (less than 20 words)\n",
      "Parsed Category of Reason: Compliance\n",
      "Processed Result: ('Banca Valdichiana Credito Cooperativo di Chiusi e Montepulciano S.C.', 286500, 'Irregularities in internal control systems (less than 20 words)', datetime.datetime(2019, 3, 19, 0, 0), 'Compliance')\n",
      "                                     Sanctioned_Entity  Sanctioned_Amount  \\\n",
      "0                                   Generalfinance SpA              30000   \n",
      "1                                   Generalfinance SpA              30000   \n",
      "2                                    Solution Bank SpA              35000   \n",
      "3               Banca Popolare del Mediterraneano SCPA               8014   \n",
      "4                 Banca Popolare del Mediterraneo Scpa              75000   \n",
      "..                                                 ...                ...   \n",
      "174             Banca Sviluppo Economico Spa in l.c.a.              40000   \n",
      "175                       Banca Sviluppo Economico Spa              50090   \n",
      "176                                       FCA Bank Spa               2500   \n",
      "177  Credito Cooperativo di San Calogero e Maierato...              30000   \n",
      "178  Banca Valdichiana Credito Cooperativo di Chius...             286500   \n",
      "\n",
      "                                       Sanction_Reason Date_of_Sanction  \\\n",
      "0    Violations of anti-money laundering and counte...       2024-02-06   \n",
      "1    Failure to make required reports to the regula...       2024-02-06   \n",
      "2    Violation of anti-money laundering and counter...       2024-01-23   \n",
      "3    Violations of organizational and internal cont...       2024-01-09   \n",
      "4    Violations of organizational and internal cont...       2024-01-09   \n",
      "..                                                 ...              ...   \n",
      "174  Violation of regulatory requirements and incor...       2019-01-29   \n",
      "175                                                                 NaT   \n",
      "176  Irregularities in transparency and client rela...       2019-04-16   \n",
      "177  Irregularities in client verification and iden...       2019-03-05   \n",
      "178  Irregularities in internal control systems (le...       2019-03-19   \n",
      "\n",
      "                                    Category_of_Reason  \n",
      "0    Anti-Money Laundering/Counter-Terrorist Financ...  \n",
      "1                                 Reporting Violations  \n",
      "2    Anti-Money Laundering/Counter-Terrorist Financ...  \n",
      "3                             Organizational Controls/  \n",
      "4    Compliance (Organizational and Internal Controls)  \n",
      "..                                                 ...  \n",
      "174    Regulatory non-compliance / Reporting violation  \n",
      "175                                                     \n",
      "176  Transparency/Client Relationships (or Compliance)  \n",
      "177                                                     \n",
      "178                                         Compliance  \n",
      "\n",
      "[179 rows x 5 columns]\n"
     ]
    }
   ],
   "source": [
    "import pandas as pd\n",
    "import requests\n",
    "from concurrent.futures import ThreadPoolExecutor, as_completed\n",
    "from datetime import datetime\n",
    "import re\n",
    "\n",
    "lmstudio_url = \"http://localhost:1234/v1\"\n",
    "\n",
    "def clean_amount(amount_str):\n",
    "    # Debug: Print original amount string\n",
    "    print(\"Original Amount String:\", amount_str)\n",
    "    # Remove euro sign and spaces\n",
    "    cleaned_str = amount_str.replace('€', '').replace(' ', '')\n",
    "    # Remove all non-numeric characters except digits and commas or dots if they act as thousands separators\n",
    "    cleaned_str = re.sub(r'[^\\d,.]', '', cleaned_str)\n",
    "\n",
    "    # Remove thousands separators and prepare for summing\n",
    "    # Assume any ',' or '.' followed by exactly three digits is a thousands separator\n",
    "    cleaned_numbers = re.sub(r'(\\d)[,.](\\d{3})(?=\\b|\\D)', r'\\1\\2', cleaned_str)\n",
    "\n",
    "    # Find all separate numbers (assuming they are full integers)\n",
    "    numbers = re.findall(r'\\d+', cleaned_numbers)\n",
    "\n",
    "    # Convert all found numbers to integers and sum them\n",
    "    total_amount = sum(int(num) for num in numbers)\n",
    "    print(\"Aggregated Amount:\", total_amount)\n",
    "    return total_amount\n",
    "\n",
    "\n",
    "def extract_sanction_info(text):\n",
    "    max_tokens = 100\n",
    "    url = f\"{lmstudio_url}/chat/completions\"\n",
    "    prompt = (f\"Text: {text}\\n\"\n",
    "              \"Please extract and return:\\n\"\n",
    "              \"- Date of Sanction:\\n\"\n",
    "              \"- Sanctioned Entity:\\n\"\n",
    "              \"- Amount:\\n\"\n",
    "              \"- Reason of Sanction (less than 20 words):\\n\"\n",
    "              \"- Category of Reason(one key words) :\\n\"\n",
    "              \"- analyze and assign the category of reason, if not found assign other.\\n\"\n",
    "              \"- When multi num value, aggregate.\\n\"\n",
    "              \"- Use corp name to represent, not individual name.\\n\"\n",
    "              \"- Stop when all info obtained.\\n\")\n",
    "    payload = {\n",
    "        \"model\": \"TheBloke/Mistral-7B-Instruct-v0.2-GGUF\",\n",
    "        \"messages\": [{\"role\": \"user\", \"content\": prompt}],\n",
    "        \"temperature\": 0,\n",
    "        \"max_tokens\": max_tokens,\n",
    "        \"stop_sequences\": [\"\\n\\n\"]\n",
    "    }\n",
    "    response = requests.post(url, json=payload, headers={\"Authorization\": \"Bearer lm-studio\"})\n",
    "    data = response.json()\n",
    "    # Debug: Print full response data\n",
    "    print(\"Response Data:\", data)\n",
    "    return data\n",
    "\n",
    "def process_text_data(text_data):\n",
    "    entity, amount, reason, date_sanction, category_reason = \"\", 0, \"\", None, \"\"\n",
    "    \n",
    "    if text_data and 'choices' in text_data:\n",
    "        completion_text = text_data['choices'][0]['message']['content']\n",
    "        print(\"Completion Text:\", completion_text)  # Debugging\n",
    "        \n",
    "        for line in completion_text.splitlines():\n",
    "            if \"Date of Sanction:\" in line:\n",
    "                date_str = line.split(\":\")[1].strip()\n",
    "                try:\n",
    "                    date_sanction = datetime.strptime(date_str, '%d.%m.%Y')\n",
    "                    print(\"Parsed Date of Sanction:\", date_sanction)\n",
    "                except ValueError as e:\n",
    "                    print(\"Date parsing error:\", e)\n",
    "            elif \"Sanctioned Entity:\" in line:\n",
    "                entity = line.split(\":\")[1].strip()\n",
    "                print(\"Parsed Sanctioned Entity:\", entity)\n",
    "            elif \"Amount:\" in line:\n",
    "                amount_str = line.split(\":\")[1].strip()\n",
    "                amount = clean_amount(amount_str)\n",
    "            elif \"Reason of Sanction\" in line:\n",
    "                parts = line.split(\"Reason of Sanction\")\n",
    "                if len(parts) > 1:\n",
    "                    reason = parts[1].split(\":\", 1)[1].strip() if ':' in parts[1] else parts[1].strip()\n",
    "                else:\n",
    "                    reason = \"Reason not specified or improperly formatted\"\n",
    "                print(\"Parsed Reason of Sanction:\", reason)\n",
    "            elif \"Category of Reason\" in line:\n",
    "                parts = line.split(\"Category of Reason\")\n",
    "                if len(parts) > 1:\n",
    "                    category_reason = parts[1].split(\":\", 1)[1].strip() if ':' in parts[1] else parts[1].strip()\n",
    "                else:\n",
    "                    category_reason = \"Category not specified or improperly formatted\"\n",
    "                print(\"Parsed Category of Reason:\", category_reason)\n",
    "                \n",
    "    return entity, amount, reason, date_sanction, category_reason\n",
    "\n",
    "\n",
    "\n",
    "df = pd.read_csv('pdf_text_content.csv')\n",
    "# texts = df.iloc[:10, 1].tolist()  # Only select the first 1 records\n",
    "\n",
    "\n",
    "texts = df.iloc[:, 1].tolist() #COMPLETE \n",
    "\n",
    "\n",
    "results = []\n",
    "with ThreadPoolExecutor(max_workers=5) as executor:\n",
    "    futures = [executor.submit(extract_sanction_info, text) for text in texts]\n",
    "    for future in as_completed(futures):\n",
    "        response_data = future.result()\n",
    "        result = process_text_data(response_data)\n",
    "        print(\"Processed Result:\", result)\n",
    "        results.append(result)\n",
    "\n",
    "# Extracting the additional column from the tuple result\n",
    "df_result = pd.DataFrame(results, columns=['Sanctioned_Entity', 'Sanctioned_Amount', 'Sanction_Reason', 'Date_of_Sanction', 'Category_of_Reason'])\n",
    "print(df_result)\n",
    "\n"
   ]
  },
  {
   "cell_type": "markdown",
   "metadata": {},
   "source": [
    "compute\n",
    "24.7 s for 10 records, model bartowski/stable-code-instruct-3b-GGUF/stable-code-instruct-3b-Q8_0.gguf"
   ]
  },
  {
   "cell_type": "markdown",
   "metadata": {},
   "source": [
    "## NEW categorical stack"
   ]
  },
  {
   "cell_type": "code",
   "execution_count": 21,
   "metadata": {},
   "outputs": [
    {
     "data": {
      "application/vnd.plotly.v1+json": {
       "config": {
        "plotlyServerURL": "https://plot.ly"
       },
       "data": [
        {
         "alignmentgroup": "True",
         "hovertemplate": "Category of Sanction=Regulatory non-compliance / Reporting violation<br>Month of Sanction=%{x}<br>Sanctioned Amount (€)=%{y}<extra></extra>",
         "legendgroup": "Regulatory non-compliance / Reporting violation",
         "marker": {
          "color": "#636efa",
          "pattern": {
           "shape": ""
          }
         },
         "name": "Regulatory non-compliance / Reporting violation",
         "offsetgroup": "Regulatory non-compliance / Reporting violation",
         "orientation": "v",
         "showlegend": true,
         "textposition": "auto",
         "type": "bar",
         "x": [
          "2019-01"
         ],
         "xaxis": "x",
         "y": [
          40000
         ],
         "yaxis": "y"
        },
        {
         "alignmentgroup": "True",
         "hovertemplate": "Category of Sanction=<br>Month of Sanction=%{x}<br>Sanctioned Amount (€)=%{y}<extra></extra>",
         "legendgroup": "",
         "marker": {
          "color": "#EF553B",
          "pattern": {
           "shape": ""
          }
         },
         "name": "",
         "offsetgroup": "",
         "orientation": "v",
         "showlegend": false,
         "textposition": "auto",
         "type": "bar",
         "x": [
          "2019-03",
          "2019-04",
          "2019-05",
          "2019-11",
          "2020-06",
          "2020-07",
          "2020-08",
          "2020-09",
          "2020-11",
          "2021-01",
          "2021-03",
          "2021-04",
          "2021-06",
          "2022-01",
          "2023-03",
          "2023-09",
          "2023-11"
         ],
         "xaxis": "x",
         "y": [
          30000,
          60000,
          133000,
          372,
          30,
          246104,
          0,
          30000,
          30112,
          55000,
          51000,
          60000,
          0,
          85342,
          17500,
          55018,
          5179
         ],
         "yaxis": "y"
        },
        {
         "alignmentgroup": "True",
         "hovertemplate": "Category of Sanction=Compliance<br>Month of Sanction=%{x}<br>Sanctioned Amount (€)=%{y}<extra></extra>",
         "legendgroup": "Compliance",
         "marker": {
          "color": "#00cc96",
          "pattern": {
           "shape": ""
          }
         },
         "name": "Compliance",
         "offsetgroup": "Compliance",
         "orientation": "v",
         "showlegend": true,
         "textposition": "auto",
         "type": "bar",
         "x": [
          "2019-03"
         ],
         "xaxis": "x",
         "y": [
          286500
         ],
         "yaxis": "y"
        },
        {
         "alignmentgroup": "True",
         "hovertemplate": "Category of Sanction=Governance/Management/Risk Control (compliance<br>Month of Sanction=%{x}<br>Sanctioned Amount (€)=%{y}<extra></extra>",
         "legendgroup": "Governance/Management/Risk Control (compliance",
         "marker": {
          "color": "#ab63fa",
          "pattern": {
           "shape": ""
          }
         },
         "name": "Governance/Management/Risk Control (compliance",
         "offsetgroup": "Governance/Management/Risk Control (compliance",
         "orientation": "v",
         "showlegend": true,
         "textposition": "auto",
         "type": "bar",
         "x": [
          "2019-04"
         ],
         "xaxis": "x",
         "y": [
          68000
         ],
         "yaxis": "y"
        },
        {
         "alignmentgroup": "True",
         "hovertemplate": "Category of Sanction=Transparency/Client Relationships (or Compliance)<br>Month of Sanction=%{x}<br>Sanctioned Amount (€)=%{y}<extra></extra>",
         "legendgroup": "Transparency/Client Relationships (or Compliance)",
         "marker": {
          "color": "#FFA15A",
          "pattern": {
           "shape": ""
          }
         },
         "name": "Transparency/Client Relationships (or Compliance)",
         "offsetgroup": "Transparency/Client Relationships (or Compliance)",
         "orientation": "v",
         "showlegend": true,
         "textposition": "auto",
         "type": "bar",
         "x": [
          "2019-04"
         ],
         "xaxis": "x",
         "y": [
          2500
         ],
         "yaxis": "y"
        },
        {
         "alignmentgroup": "True",
         "hovertemplate": "Category of Sanction=Governance/Control.<br>Month of Sanction=%{x}<br>Sanctioned Amount (€)=%{y}<extra></extra>",
         "legendgroup": "Governance/Control.",
         "marker": {
          "color": "#19d3f3",
          "pattern": {
           "shape": ""
          }
         },
         "name": "Governance/Control.",
         "offsetgroup": "Governance/Control.",
         "orientation": "v",
         "showlegend": true,
         "textposition": "auto",
         "type": "bar",
         "x": [
          "2019-05"
         ],
         "xaxis": "x",
         "y": [
          83000
         ],
         "yaxis": "y"
        },
        {
         "alignmentgroup": "True",
         "hovertemplate": "Category of Sanction=Regulatory non-compliance (KYC, AML)<br>Month of Sanction=%{x}<br>Sanctioned Amount (€)=%{y}<extra></extra>",
         "legendgroup": "Regulatory non-compliance (KYC, AML)",
         "marker": {
          "color": "#FF6692",
          "pattern": {
           "shape": ""
          }
         },
         "name": "Regulatory non-compliance (KYC, AML)",
         "offsetgroup": "Regulatory non-compliance (KYC, AML)",
         "orientation": "v",
         "showlegend": true,
         "textposition": "auto",
         "type": "bar",
         "x": [
          "2019-05"
         ],
         "xaxis": "x",
         "y": [
          30000
         ],
         "yaxis": "y"
        },
        {
         "alignmentgroup": "True",
         "hovertemplate": "Category of Sanction=Client Verification/Know Your Customer (AML/KYC)<br>Month of Sanction=%{x}<br>Sanctioned Amount (€)=%{y}<extra></extra>",
         "legendgroup": "Client Verification/Know Your Customer (AML/KYC)",
         "marker": {
          "color": "#B6E880",
          "pattern": {
           "shape": ""
          }
         },
         "name": "Client Verification/Know Your Customer (AML/KYC)",
         "offsetgroup": "Client Verification/Know Your Customer (AML/KYC)",
         "orientation": "v",
         "showlegend": true,
         "textposition": "auto",
         "type": "bar",
         "x": [
          "2019-06"
         ],
         "xaxis": "x",
         "y": [
          30000
         ],
         "yaxis": "y"
        },
        {
         "alignmentgroup": "True",
         "hovertemplate": "Category of Sanction=Regulatory compliance (miscellaneous)<br>Month of Sanction=%{x}<br>Sanctioned Amount (€)=%{y}<extra></extra>",
         "legendgroup": "Regulatory compliance (miscellaneous)",
         "marker": {
          "color": "#FF97FF",
          "pattern": {
           "shape": ""
          }
         },
         "name": "Regulatory compliance (miscellaneous)",
         "offsetgroup": "Regulatory compliance (miscellaneous)",
         "orientation": "v",
         "showlegend": true,
         "textposition": "auto",
         "type": "bar",
         "x": [
          "2019-06"
         ],
         "xaxis": "x",
         "y": [
          30000
         ],
         "yaxis": "y"
        },
        {
         "alignmentgroup": "True",
         "hovertemplate": "Category of Sanction=Transparency.<br>Month of Sanction=%{x}<br>Sanctioned Amount (€)=%{y}<extra></extra>",
         "legendgroup": "Transparency.",
         "marker": {
          "color": "#FECB52",
          "pattern": {
           "shape": ""
          }
         },
         "name": "Transparency.",
         "offsetgroup": "Transparency.",
         "orientation": "v",
         "showlegend": true,
         "textposition": "auto",
         "type": "bar",
         "x": [
          "2019-06"
         ],
         "xaxis": "x",
         "y": [
          60000
         ],
         "yaxis": "y"
        },
        {
         "alignmentgroup": "True",
         "hovertemplate": "Category of Sanction=Compliance/Regul<br>Month of Sanction=%{x}<br>Sanctioned Amount (€)=%{y}<extra></extra>",
         "legendgroup": "Compliance/Regul",
         "marker": {
          "color": "#636efa",
          "pattern": {
           "shape": ""
          }
         },
         "name": "Compliance/Regul",
         "offsetgroup": "Compliance/Regul",
         "orientation": "v",
         "showlegend": true,
         "textposition": "auto",
         "type": "bar",
         "x": [
          "2019-07"
         ],
         "xaxis": "x",
         "y": [
          35000
         ],
         "yaxis": "y"
        },
        {
         "alignmentgroup": "True",
         "hovertemplate": "Category of Sanction=Regulatory compliance (specifically, banking regulations)<br>Month of Sanction=%{x}<br>Sanctioned Amount (€)=%{y}<extra></extra>",
         "legendgroup": "Regulatory compliance (specifically, banking regulations)",
         "marker": {
          "color": "#EF553B",
          "pattern": {
           "shape": ""
          }
         },
         "name": "Regulatory compliance (specifically, banking regulations)",
         "offsetgroup": "Regulatory compliance (specifically, banking regulations)",
         "orientation": "v",
         "showlegend": true,
         "textposition": "auto",
         "type": "bar",
         "x": [
          "2019-07",
          "2020-01",
          "2020-07"
         ],
         "xaxis": "x",
         "y": [
          49000,
          60000,
          60000
         ],
         "yaxis": "y"
        },
        {
         "alignmentgroup": "True",
         "hovertemplate": "Category of Sanction=Transparency (regulatory compliance)<br>Month of Sanction=%{x}<br>Sanctioned Amount (€)=%{y}<extra></extra>",
         "legendgroup": "Transparency (regulatory compliance)",
         "marker": {
          "color": "#00cc96",
          "pattern": {
           "shape": ""
          }
         },
         "name": "Transparency (regulatory compliance)",
         "offsetgroup": "Transparency (regulatory compliance)",
         "orientation": "v",
         "showlegend": true,
         "textposition": "auto",
         "type": "bar",
         "x": [
          "2019-09"
         ],
         "xaxis": "x",
         "y": [
          1700
         ],
         "yaxis": "y"
        },
        {
         "alignmentgroup": "True",
         "hovertemplate": "Category of Sanction=Anti-Money Laundering/Terrorist Financing<br>Month of Sanction=%{x}<br>Sanctioned Amount (€)=%{y}<extra></extra>",
         "legendgroup": "Anti-Money Laundering/Terrorist Financing",
         "marker": {
          "color": "#ab63fa",
          "pattern": {
           "shape": ""
          }
         },
         "name": "Anti-Money Laundering/Terrorist Financing",
         "offsetgroup": "Anti-Money Laundering/Terrorist Financing",
         "orientation": "v",
         "showlegend": true,
         "textposition": "auto",
         "type": "bar",
         "x": [
          "2019-11",
          "2023-04"
         ],
         "xaxis": "x",
         "y": [
          60000,
          45000
         ],
         "yaxis": "y"
        },
        {
         "alignmentgroup": "True",
         "hovertemplate": "Category of Sanction=Compliance (organizational, internal control, valuation, and limit violations)<br>Month of Sanction=%{x}<br>Sanctioned Amount (€)=%{y}<extra></extra>",
         "legendgroup": "Compliance (organizational, internal control, valuation, and limit violations)",
         "marker": {
          "color": "#FFA15A",
          "pattern": {
           "shape": ""
          }
         },
         "name": "Compliance (organizational, internal control, valuation, and limit violations)",
         "offsetgroup": "Compliance (organizational, internal control, valuation, and limit violations)",
         "orientation": "v",
         "showlegend": true,
         "textposition": "auto",
         "type": "bar",
         "x": [
          "2019-11"
         ],
         "xaxis": "x",
         "y": [
          60000
         ],
         "yaxis": "y"
        },
        {
         "alignmentgroup": "True",
         "hovertemplate": "Category of Sanction=Governance/Organizational Structure.<br>Month of Sanction=%{x}<br>Sanctioned Amount (€)=%{y}<extra></extra>",
         "legendgroup": "Governance/Organizational Structure.",
         "marker": {
          "color": "#19d3f3",
          "pattern": {
           "shape": ""
          }
         },
         "name": "Governance/Organizational Structure.",
         "offsetgroup": "Governance/Organizational Structure.",
         "orientation": "v",
         "showlegend": true,
         "textposition": "auto",
         "type": "bar",
         "x": [
          "2019-11"
         ],
         "xaxis": "x",
         "y": [
          60000
         ],
         "yaxis": "y"
        },
        {
         "alignmentgroup": "True",
         "hovertemplate": "Category of Sanction=Regulatory Compliance<br>Month of Sanction=%{x}<br>Sanctioned Amount (€)=%{y}<extra></extra>",
         "legendgroup": "Regulatory Compliance",
         "marker": {
          "color": "#FF6692",
          "pattern": {
           "shape": ""
          }
         },
         "name": "Regulatory Compliance",
         "offsetgroup": "Regulatory Compliance",
         "orientation": "v",
         "showlegend": true,
         "textposition": "auto",
         "type": "bar",
         "x": [
          "2019-11",
          "2020-03",
          "2023-01"
         ],
         "xaxis": "x",
         "y": [
          71000,
          570000,
          30000
         ],
         "yaxis": "y"
        },
        {
         "alignmentgroup": "True",
         "hovertemplate": "Category of Sanction=Compliance (Anti-Money Laundering/Countering the Financing of Terrorism)<br>Month of Sanction=%{x}<br>Sanctioned Amount (€)=%{y}<extra></extra>",
         "legendgroup": "Compliance (Anti-Money Laundering/Countering the Financing of Terrorism)",
         "marker": {
          "color": "#B6E880",
          "pattern": {
           "shape": ""
          }
         },
         "name": "Compliance (Anti-Money Laundering/Countering the Financing of Terrorism)",
         "offsetgroup": "Compliance (Anti-Money Laundering/Countering the Financing of Terrorism)",
         "orientation": "v",
         "showlegend": true,
         "textposition": "auto",
         "type": "bar",
         "x": [
          "2019-12"
         ],
         "xaxis": "x",
         "y": [
          30000
         ],
         "yaxis": "y"
        },
        {
         "alignmentgroup": "True",
         "hovertemplate": "Category of Sanction=Compliance -<br>Month of Sanction=%{x}<br>Sanctioned Amount (€)=%{y}<extra></extra>",
         "legendgroup": "Compliance -",
         "marker": {
          "color": "#FF97FF",
          "pattern": {
           "shape": ""
          }
         },
         "name": "Compliance -",
         "offsetgroup": "Compliance -",
         "orientation": "v",
         "showlegend": true,
         "textposition": "auto",
         "type": "bar",
         "x": [
          "2019-12"
         ],
         "xaxis": "x",
         "y": [
          30000
         ],
         "yaxis": "y"
        },
        {
         "alignmentgroup": "True",
         "hovertemplate": "Category of Sanction=Regul<br>Month of Sanction=%{x}<br>Sanctioned Amount (€)=%{y}<extra></extra>",
         "legendgroup": "Regul",
         "marker": {
          "color": "#FECB52",
          "pattern": {
           "shape": ""
          }
         },
         "name": "Regul",
         "offsetgroup": "Regul",
         "orientation": "v",
         "showlegend": true,
         "textposition": "auto",
         "type": "bar",
         "x": [
          "2019-12"
         ],
         "xaxis": "x",
         "y": [
          30000
         ],
         "yaxis": "y"
        },
        {
         "alignmentgroup": "True",
         "hovertemplate": "Category of Sanction=Regulatory non-compliance (specifically, inadequate client verification,<br>Month of Sanction=%{x}<br>Sanctioned Amount (€)=%{y}<extra></extra>",
         "legendgroup": "Regulatory non-compliance (specifically, inadequate client verification,",
         "marker": {
          "color": "#636efa",
          "pattern": {
           "shape": ""
          }
         },
         "name": "Regulatory non-compliance (specifically, inadequate client verification,",
         "offsetgroup": "Regulatory non-compliance (specifically, inadequate client verification,",
         "orientation": "v",
         "showlegend": true,
         "textposition": "auto",
         "type": "bar",
         "x": [
          "2019-12"
         ],
         "xaxis": "x",
         "y": [
          1320
         ],
         "yaxis": "y"
        },
        {
         "alignmentgroup": "True",
         "hovertemplate": "Category of Sanction=Banking Regulations and Internal Controls (Regulatory Compliance)<br>Month of Sanction=%{x}<br>Sanctioned Amount (€)=%{y}<extra></extra>",
         "legendgroup": "Banking Regulations and Internal Controls (Regulatory Compliance)",
         "marker": {
          "color": "#EF553B",
          "pattern": {
           "shape": ""
          }
         },
         "name": "Banking Regulations and Internal Controls (Regulatory Compliance)",
         "offsetgroup": "Banking Regulations and Internal Controls (Regulatory Compliance)",
         "orientation": "v",
         "showlegend": true,
         "textposition": "auto",
         "type": "bar",
         "x": [
          "2020-01"
         ],
         "xaxis": "x",
         "y": [
          30000
         ],
         "yaxis": "y"
        },
        {
         "alignmentgroup": "True",
         "hovertemplate": "Category of Sanction=Compliance (specifically with banking regulations)<br>Month of Sanction=%{x}<br>Sanctioned Amount (€)=%{y}<extra></extra>",
         "legendgroup": "Compliance (specifically with banking regulations)",
         "marker": {
          "color": "#00cc96",
          "pattern": {
           "shape": ""
          }
         },
         "name": "Compliance (specifically with banking regulations)",
         "offsetgroup": "Compliance (specifically with banking regulations)",
         "orientation": "v",
         "showlegend": true,
         "textposition": "auto",
         "type": "bar",
         "x": [
          "2020-01"
         ],
         "xaxis": "x",
         "y": [
          30000
         ],
         "yaxis": "y"
        },
        {
         "alignmentgroup": "True",
         "hovertemplate": "Category of Sanction=Regulatory compliance / Financial crimes (Money laundering and terrorism financing)<br>Month of Sanction=%{x}<br>Sanctioned Amount (€)=%{y}<extra></extra>",
         "legendgroup": "Regulatory compliance / Financial crimes (Money laundering and terrorism financing)",
         "marker": {
          "color": "#ab63fa",
          "pattern": {
           "shape": ""
          }
         },
         "name": "Regulatory compliance / Financial crimes (Money laundering and terrorism financing)",
         "offsetgroup": "Regulatory compliance / Financial crimes (Money laundering and terrorism financing)",
         "orientation": "v",
         "showlegend": true,
         "textposition": "auto",
         "type": "bar",
         "x": [
          "2020-01"
         ],
         "xaxis": "x",
         "y": [
          30000
         ],
         "yaxis": "y"
        },
        {
         "alignmentgroup": "True",
         "hovertemplate": "Category of Sanction=Regulatory non-compliance (specifically, inadequate customer verification, collaboration, data conservation)<br>Month of Sanction=%{x}<br>Sanctioned Amount (€)=%{y}<extra></extra>",
         "legendgroup": "Regulatory non-compliance (specifically, inadequate customer verification, collaboration, data conservation)",
         "marker": {
          "color": "#FFA15A",
          "pattern": {
           "shape": ""
          }
         },
         "name": "Regulatory non-compliance (specifically, inadequate customer verification, collaboration, data conservation)",
         "offsetgroup": "Regulatory non-compliance (specifically, inadequate customer verification, collaboration, data conservation)",
         "orientation": "v",
         "showlegend": true,
         "textposition": "auto",
         "type": "bar",
         "x": [
          "2020-01"
         ],
         "xaxis": "x",
         "y": [
          3500
         ],
         "yaxis": "y"
        },
        {
         "alignmentgroup": "True",
         "hovertemplate": "Category of Sanction=Transparency<br>Month of Sanction=%{x}<br>Sanctioned Amount (€)=%{y}<extra></extra>",
         "legendgroup": "Transparency",
         "marker": {
          "color": "#19d3f3",
          "pattern": {
           "shape": ""
          }
         },
         "name": "Transparency",
         "offsetgroup": "Transparency",
         "orientation": "v",
         "showlegend": true,
         "textposition": "auto",
         "type": "bar",
         "x": [
          "2020-01",
          "2020-02",
          "2021-04"
         ],
         "xaxis": "x",
         "y": [
          390000,
          1760,
          30000
         ],
         "yaxis": "y"
        },
        {
         "alignmentgroup": "True",
         "hovertemplate": "Category of Sanction=Compliance/Regulatory Violations<br>Month of Sanction=%{x}<br>Sanctioned Amount (€)=%{y}<extra></extra>",
         "legendgroup": "Compliance/Regulatory Violations",
         "marker": {
          "color": "#FF6692",
          "pattern": {
           "shape": ""
          }
         },
         "name": "Compliance/Regulatory Violations",
         "offsetgroup": "Compliance/Regulatory Violations",
         "orientation": "v",
         "showlegend": true,
         "textposition": "auto",
         "type": "bar",
         "x": [
          "2020-02"
         ],
         "xaxis": "x",
         "y": [
          70000
         ],
         "yaxis": "y"
        },
        {
         "alignmentgroup": "True",
         "hovertemplate": "Category of Sanction=Regulatory non-compliance (financial)<br>Month of Sanction=%{x}<br>Sanctioned Amount (€)=%{y}<extra></extra>",
         "legendgroup": "Regulatory non-compliance (financial)",
         "marker": {
          "color": "#B6E880",
          "pattern": {
           "shape": ""
          }
         },
         "name": "Regulatory non-compliance (financial)",
         "offsetgroup": "Regulatory non-compliance (financial)",
         "orientation": "v",
         "showlegend": true,
         "textposition": "auto",
         "type": "bar",
         "x": [
          "2020-02",
          "2020-12"
         ],
         "xaxis": "x",
         "y": [
          30000,
          30000
         ],
         "yaxis": "y"
        },
        {
         "alignmentgroup": "True",
         "hovertemplate": "Category of Sanction=Banking Regulations/Credit Processes (or Compliance)<br>Month of Sanction=%{x}<br>Sanctioned Amount (€)=%{y}<extra></extra>",
         "legendgroup": "Banking Regulations/Credit Processes (or Compliance)",
         "marker": {
          "color": "#FF97FF",
          "pattern": {
           "shape": ""
          }
         },
         "name": "Banking Regulations/Credit Processes (or Compliance)",
         "offsetgroup": "Banking Regulations/Credit Processes (or Compliance)",
         "orientation": "v",
         "showlegend": true,
         "textposition": "auto",
         "type": "bar",
         "x": [
          "2020-03"
         ],
         "xaxis": "x",
         "y": [
          186000
         ],
         "yaxis": "y"
        },
        {
         "alignmentgroup": "True",
         "hovertemplate": "Category of Sanction=Regulatory compliance (Banking)<br>Month of Sanction=%{x}<br>Sanctioned Amount (€)=%{y}<extra></extra>",
         "legendgroup": "Regulatory compliance (Banking)",
         "marker": {
          "color": "#FECB52",
          "pattern": {
           "shape": ""
          }
         },
         "name": "Regulatory compliance (Banking)",
         "offsetgroup": "Regulatory compliance (Banking)",
         "orientation": "v",
         "showlegend": true,
         "textposition": "auto",
         "type": "bar",
         "x": [
          "2020-03"
         ],
         "xaxis": "x",
         "y": [
          45000
         ],
         "yaxis": "y"
        },
        {
         "alignmentgroup": "True",
         "hovertemplate": "Category of Sanction=Reporting Obl<br>Month of Sanction=%{x}<br>Sanctioned Amount (€)=%{y}<extra></extra>",
         "legendgroup": "Reporting Obl",
         "marker": {
          "color": "#636efa",
          "pattern": {
           "shape": ""
          }
         },
         "name": "Reporting Obl",
         "offsetgroup": "Reporting Obl",
         "orientation": "v",
         "showlegend": true,
         "textposition": "auto",
         "type": "bar",
         "x": [
          "2020-03"
         ],
         "xaxis": "x",
         "y": [
          30000
         ],
         "yaxis": "y"
        },
        {
         "alignmentgroup": "True",
         "hovertemplate": "Category of Sanction=Regulatory compliance / Organizational controls.<br>Month of Sanction=%{x}<br>Sanctioned Amount (€)=%{y}<extra></extra>",
         "legendgroup": "Regulatory compliance / Organizational controls.",
         "marker": {
          "color": "#EF553B",
          "pattern": {
           "shape": ""
          }
         },
         "name": "Regulatory compliance / Organizational controls.",
         "offsetgroup": "Regulatory compliance / Organizational controls.",
         "orientation": "v",
         "showlegend": true,
         "textposition": "auto",
         "type": "bar",
         "x": [
          "2020-06"
         ],
         "xaxis": "x",
         "y": [
          40000
         ],
         "yaxis": "y"
        },
        {
         "alignmentgroup": "True",
         "hovertemplate": "Category of Sanction=Regulatory non-compliance.<br>Month of Sanction=%{x}<br>Sanctioned Amount (€)=%{y}<extra></extra>",
         "legendgroup": "Regulatory non-compliance.",
         "marker": {
          "color": "#00cc96",
          "pattern": {
           "shape": ""
          }
         },
         "name": "Regulatory non-compliance.",
         "offsetgroup": "Regulatory non-compliance.",
         "orientation": "v",
         "showlegend": true,
         "textposition": "auto",
         "type": "bar",
         "x": [
          "2020-06"
         ],
         "xaxis": "x",
         "y": [
          30000
         ],
         "yaxis": "y"
        },
        {
         "alignmentgroup": "True",
         "hovertemplate": "Category of Sanction=Credit Assessment<br>Month of Sanction=%{x}<br>Sanctioned Amount (€)=%{y}<extra></extra>",
         "legendgroup": "Credit Assessment",
         "marker": {
          "color": "#ab63fa",
          "pattern": {
           "shape": ""
          }
         },
         "name": "Credit Assessment",
         "offsetgroup": "Credit Assessment",
         "orientation": "v",
         "showlegend": true,
         "textposition": "auto",
         "type": "bar",
         "x": [
          "2020-07"
         ],
         "xaxis": "x",
         "y": [
          100000
         ],
         "yaxis": "y"
        },
        {
         "alignmentgroup": "True",
         "hovertemplate": "Category of Sanction=Organizational Controls/Compliance.<br>Month of Sanction=%{x}<br>Sanctioned Amount (€)=%{y}<extra></extra>",
         "legendgroup": "Organizational Controls/Compliance.",
         "marker": {
          "color": "#FFA15A",
          "pattern": {
           "shape": ""
          }
         },
         "name": "Organizational Controls/Compliance.",
         "offsetgroup": "Organizational Controls/Compliance.",
         "orientation": "v",
         "showlegend": true,
         "textposition": "auto",
         "type": "bar",
         "x": [
          "2020-07",
          "2023-07"
         ],
         "xaxis": "x",
         "y": [
          37000,
          120000
         ],
         "yaxis": "y"
        },
        {
         "alignmentgroup": "True",
         "hovertemplate": "Category of Sanction=Regulatory compliance.<br>Month of Sanction=%{x}<br>Sanctioned Amount (€)=%{y}<extra></extra>",
         "legendgroup": "Regulatory compliance.",
         "marker": {
          "color": "#19d3f3",
          "pattern": {
           "shape": ""
          }
         },
         "name": "Regulatory compliance.",
         "offsetgroup": "Regulatory compliance.",
         "orientation": "v",
         "showlegend": true,
         "textposition": "auto",
         "type": "bar",
         "x": [
          "2020-07"
         ],
         "xaxis": "x",
         "y": [
          22000
         ],
         "yaxis": "y"
        },
        {
         "alignmentgroup": "True",
         "hovertemplate": "Category of Sanction=Remuneration<br>Month of Sanction=%{x}<br>Sanctioned Amount (€)=%{y}<extra></extra>",
         "legendgroup": "Remuneration",
         "marker": {
          "color": "#FF6692",
          "pattern": {
           "shape": ""
          }
         },
         "name": "Remuneration",
         "offsetgroup": "Remuneration",
         "orientation": "v",
         "showlegend": true,
         "textposition": "auto",
         "type": "bar",
         "x": [
          "2020-07"
         ],
         "xaxis": "x",
         "y": [
          0
         ],
         "yaxis": "y"
        },
        {
         "alignmentgroup": "True",
         "hovertemplate": "Category of Sanction=Transparency and Client Protection (regulatory compliance)<br>Month of Sanction=%{x}<br>Sanctioned Amount (€)=%{y}<extra></extra>",
         "legendgroup": "Transparency and Client Protection (regulatory compliance)",
         "marker": {
          "color": "#B6E880",
          "pattern": {
           "shape": ""
          }
         },
         "name": "Transparency and Client Protection (regulatory compliance)",
         "offsetgroup": "Transparency and Client Protection (regulatory compliance)",
         "orientation": "v",
         "showlegend": true,
         "textposition": "auto",
         "type": "bar",
         "x": [
          "2020-07"
         ],
         "xaxis": "x",
         "y": [
          30000
         ],
         "yaxis": "y"
        },
        {
         "alignmentgroup": "True",
         "hovertemplate": "Category of Sanction=Transparency regulations<br>Month of Sanction=%{x}<br>Sanctioned Amount (€)=%{y}<extra></extra>",
         "legendgroup": "Transparency regulations",
         "marker": {
          "color": "#FF97FF",
          "pattern": {
           "shape": ""
          }
         },
         "name": "Transparency regulations",
         "offsetgroup": "Transparency regulations",
         "orientation": "v",
         "showlegend": true,
         "textposition": "auto",
         "type": "bar",
         "x": [
          "2020-07"
         ],
         "xaxis": "x",
         "y": [
          30000
         ],
         "yaxis": "y"
        },
        {
         "alignmentgroup": "True",
         "hovertemplate": "Category of Sanction=Regulatory compliance (banking)<br>Month of Sanction=%{x}<br>Sanctioned Amount (€)=%{y}<extra></extra>",
         "legendgroup": "Regulatory compliance (banking)",
         "marker": {
          "color": "#FECB52",
          "pattern": {
           "shape": ""
          }
         },
         "name": "Regulatory compliance (banking)",
         "offsetgroup": "Regulatory compliance (banking)",
         "orientation": "v",
         "showlegend": true,
         "textposition": "auto",
         "type": "bar",
         "x": [
          "2020-09",
          "2022-09",
          "2023-02"
         ],
         "xaxis": "x",
         "y": [
          145000,
          30000,
          30000
         ],
         "yaxis": "y"
        },
        {
         "alignmentgroup": "True",
         "hovertemplate": "Category of Sanction=Regulatory compliance / Internal controls<br>Month of Sanction=%{x}<br>Sanctioned Amount (€)=%{y}<extra></extra>",
         "legendgroup": "Regulatory compliance / Internal controls",
         "marker": {
          "color": "#636efa",
          "pattern": {
           "shape": ""
          }
         },
         "name": "Regulatory compliance / Internal controls",
         "offsetgroup": "Regulatory compliance / Internal controls",
         "orientation": "v",
         "showlegend": true,
         "textposition": "auto",
         "type": "bar",
         "x": [
          "2020-09"
         ],
         "xaxis": "x",
         "y": [
          73000
         ],
         "yaxis": "y"
        },
        {
         "alignmentgroup": "True",
         "hovertemplate": "Category of Sanction=Risk Management.<br>Month of Sanction=%{x}<br>Sanctioned Amount (€)=%{y}<extra></extra>",
         "legendgroup": "Risk Management.",
         "marker": {
          "color": "#EF553B",
          "pattern": {
           "shape": ""
          }
         },
         "name": "Risk Management.",
         "offsetgroup": "Risk Management.",
         "orientation": "v",
         "showlegend": true,
         "textposition": "auto",
         "type": "bar",
         "x": [
          "2020-09"
         ],
         "xaxis": "x",
         "y": [
          41000
         ],
         "yaxis": "y"
        },
        {
         "alignmentgroup": "True",
         "hovertemplate": "Category of Sanction=Transparency/Organizational Irregularities (Banking)<br>Month of Sanction=%{x}<br>Sanctioned Amount (€)=%{y}<extra></extra>",
         "legendgroup": "Transparency/Organizational Irregularities (Banking)",
         "marker": {
          "color": "#00cc96",
          "pattern": {
           "shape": ""
          }
         },
         "name": "Transparency/Organizational Irregularities (Banking)",
         "offsetgroup": "Transparency/Organizational Irregularities (Banking)",
         "orientation": "v",
         "showlegend": true,
         "textposition": "auto",
         "type": "bar",
         "x": [
          "2020-09"
         ],
         "xaxis": "x",
         "y": [
          35000
         ],
         "yaxis": "y"
        },
        {
         "alignmentgroup": "True",
         "hovertemplate": "Category of Sanction=Anti-Money Laundering/Know Your Customer (AML/KYC) regulations.<br>Month of Sanction=%{x}<br>Sanctioned Amount (€)=%{y}<extra></extra>",
         "legendgroup": "Anti-Money Laundering/Know Your Customer (AML/KYC) regulations.",
         "marker": {
          "color": "#ab63fa",
          "pattern": {
           "shape": ""
          }
         },
         "name": "Anti-Money Laundering/Know Your Customer (AML/KYC) regulations.",
         "offsetgroup": "Anti-Money Laundering/Know Your Customer (AML/KYC) regulations.",
         "orientation": "v",
         "showlegend": true,
         "textposition": "auto",
         "type": "bar",
         "x": [
          "2020-10"
         ],
         "xaxis": "x",
         "y": [
          30000
         ],
         "yaxis": "y"
        },
        {
         "alignmentgroup": "True",
         "hovertemplate": "Category of Sanction=Organizational and Internal Controls<br>Month of Sanction=%{x}<br>Sanctioned Amount (€)=%{y}<extra></extra>",
         "legendgroup": "Organizational and Internal Controls",
         "marker": {
          "color": "#FFA15A",
          "pattern": {
           "shape": ""
          }
         },
         "name": "Organizational and Internal Controls",
         "offsetgroup": "Organizational and Internal Controls",
         "orientation": "v",
         "showlegend": true,
         "textposition": "auto",
         "type": "bar",
         "x": [
          "2020-10",
          "2023-12"
         ],
         "xaxis": "x",
         "y": [
          30000,
          30000
         ],
         "yaxis": "y"
        },
        {
         "alignmentgroup": "True",
         "hovertemplate": "Category of Sanction=Regulatory compliance / Reporting violations.<br>Month of Sanction=%{x}<br>Sanctioned Amount (€)=%{y}<extra></extra>",
         "legendgroup": "Regulatory compliance / Reporting violations.",
         "marker": {
          "color": "#19d3f3",
          "pattern": {
           "shape": ""
          }
         },
         "name": "Regulatory compliance / Reporting violations.",
         "offsetgroup": "Regulatory compliance / Reporting violations.",
         "orientation": "v",
         "showlegend": true,
         "textposition": "auto",
         "type": "bar",
         "x": [
          "2020-10"
         ],
         "xaxis": "x",
         "y": [
          30000
         ],
         "yaxis": "y"
        },
        {
         "alignmentgroup": "True",
         "hovertemplate": "Category of Sanction=Regulatory compliance, Communication.<br>Month of Sanction=%{x}<br>Sanctioned Amount (€)=%{y}<extra></extra>",
         "legendgroup": "Regulatory compliance, Communication.",
         "marker": {
          "color": "#FF6692",
          "pattern": {
           "shape": ""
          }
         },
         "name": "Regulatory compliance, Communication.",
         "offsetgroup": "Regulatory compliance, Communication.",
         "orientation": "v",
         "showlegend": true,
         "textposition": "auto",
         "type": "bar",
         "x": [
          "2020-10"
         ],
         "xaxis": "x",
         "y": [
          60000
         ],
         "yaxis": "y"
        },
        {
         "alignmentgroup": "True",
         "hovertemplate": "Category of Sanction=Regulatory non-compliance (financial sector)<br>Month of Sanction=%{x}<br>Sanctioned Amount (€)=%{y}<extra></extra>",
         "legendgroup": "Regulatory non-compliance (financial sector)",
         "marker": {
          "color": "#B6E880",
          "pattern": {
           "shape": ""
          }
         },
         "name": "Regulatory non-compliance (financial sector)",
         "offsetgroup": "Regulatory non-compliance (financial sector)",
         "orientation": "v",
         "showlegend": true,
         "textposition": "auto",
         "type": "bar",
         "x": [
          "2020-10"
         ],
         "xaxis": "x",
         "y": [
          30000
         ],
         "yaxis": "y"
        },
        {
         "alignmentgroup": "True",
         "hovertemplate": "Category of Sanction=Risk Management<br>Month of Sanction=%{x}<br>Sanctioned Amount (€)=%{y}<extra></extra>",
         "legendgroup": "Risk Management",
         "marker": {
          "color": "#FF97FF",
          "pattern": {
           "shape": ""
          }
         },
         "name": "Risk Management",
         "offsetgroup": "Risk Management",
         "orientation": "v",
         "showlegend": true,
         "textposition": "auto",
         "type": "bar",
         "x": [
          "2020-10"
         ],
         "xaxis": "x",
         "y": [
          30000
         ],
         "yaxis": "y"
        },
        {
         "alignmentgroup": "True",
         "hovertemplate": "Category of Sanction=Regulatory non-compliance (or Financial regulation)<br>Month of Sanction=%{x}<br>Sanctioned Amount (€)=%{y}<extra></extra>",
         "legendgroup": "Regulatory non-compliance (or Financial regulation)",
         "marker": {
          "color": "#FECB52",
          "pattern": {
           "shape": ""
          }
         },
         "name": "Regulatory non-compliance (or Financial regulation)",
         "offsetgroup": "Regulatory non-compliance (or Financial regulation)",
         "orientation": "v",
         "showlegend": true,
         "textposition": "auto",
         "type": "bar",
         "x": [
          "2020-11"
         ],
         "xaxis": "x",
         "y": [
          30000
         ],
         "yaxis": "y"
        },
        {
         "alignmentgroup": "True",
         "hovertemplate": "Category of Sanction=Violation of obligations forinstvestit><br>Month of Sanction=%{x}<br>Sanctioned Amount (€)=%{y}<extra></extra>",
         "legendgroup": "Violation of obligations forinstvestit>",
         "marker": {
          "color": "#636efa",
          "pattern": {
           "shape": ""
          }
         },
         "name": "Violation of obligations forinstvestit>",
         "offsetgroup": "Violation of obligations forinstvestit>",
         "orientation": "v",
         "showlegend": true,
         "textposition": "auto",
         "type": "bar",
         "x": [
          "2020-12"
         ],
         "xaxis": "x",
         "y": [
          30000
         ],
         "yaxis": "y"
        },
        {
         "alignmentgroup": "True",
         "hovertemplate": "Category of Sanction=Anti-Money Laundering<br>Month of Sanction=%{x}<br>Sanctioned Amount (€)=%{y}<extra></extra>",
         "legendgroup": "Anti-Money Laundering",
         "marker": {
          "color": "#EF553B",
          "pattern": {
           "shape": ""
          }
         },
         "name": "Anti-Money Laundering",
         "offsetgroup": "Anti-Money Laundering",
         "orientation": "v",
         "showlegend": true,
         "textposition": "auto",
         "type": "bar",
         "x": [
          "2021-03"
         ],
         "xaxis": "x",
         "y": [
          100000
         ],
         "yaxis": "y"
        },
        {
         "alignmentgroup": "True",
         "hovertemplate": "Category of Sanction=Compliance (regarding banking regulations)<br>Month of Sanction=%{x}<br>Sanctioned Amount (€)=%{y}<extra></extra>",
         "legendgroup": "Compliance (regarding banking regulations)",
         "marker": {
          "color": "#00cc96",
          "pattern": {
           "shape": ""
          }
         },
         "name": "Compliance (regarding banking regulations)",
         "offsetgroup": "Compliance (regarding banking regulations)",
         "orientation": "v",
         "showlegend": true,
         "textposition": "auto",
         "type": "bar",
         "x": [
          "2021-03"
         ],
         "xaxis": "x",
         "y": [
          30000
         ],
         "yaxis": "y"
        },
        {
         "alignmentgroup": "True",
         "hovertemplate": "Category of Sanction=Organizational Controls/Internal Audits (Mismanagement)<br>Month of Sanction=%{x}<br>Sanctioned Amount (€)=%{y}<extra></extra>",
         "legendgroup": "Organizational Controls/Internal Audits (Mismanagement)",
         "marker": {
          "color": "#ab63fa",
          "pattern": {
           "shape": ""
          }
         },
         "name": "Organizational Controls/Internal Audits (Mismanagement)",
         "offsetgroup": "Organizational Controls/Internal Audits (Mismanagement)",
         "orientation": "v",
         "showlegend": true,
         "textposition": "auto",
         "type": "bar",
         "x": [
          "2021-03"
         ],
         "xaxis": "x",
         "y": [
          100000
         ],
         "yaxis": "y"
        },
        {
         "alignmentgroup": "True",
         "hovertemplate": "Category of Sanction=Regulatory compliance (banking and credit)<br>Month of Sanction=%{x}<br>Sanctioned Amount (€)=%{y}<extra></extra>",
         "legendgroup": "Regulatory compliance (banking and credit)",
         "marker": {
          "color": "#FFA15A",
          "pattern": {
           "shape": ""
          }
         },
         "name": "Regulatory compliance (banking and credit)",
         "offsetgroup": "Regulatory compliance (banking and credit)",
         "orientation": "v",
         "showlegend": true,
         "textposition": "auto",
         "type": "bar",
         "x": [
          "2021-03"
         ],
         "xaxis": "x",
         "y": [
          30000
         ],
         "yaxis": "y"
        },
        {
         "alignmentgroup": "True",
         "hovertemplate": "Category of Sanction=Regulatory compliance, Internal Controls.<br>Month of Sanction=%{x}<br>Sanctioned Amount (€)=%{y}<extra></extra>",
         "legendgroup": "Regulatory compliance, Internal Controls.",
         "marker": {
          "color": "#19d3f3",
          "pattern": {
           "shape": ""
          }
         },
         "name": "Regulatory compliance, Internal Controls.",
         "offsetgroup": "Regulatory compliance, Internal Controls.",
         "orientation": "v",
         "showlegend": true,
         "textposition": "auto",
         "type": "bar",
         "x": [
          "2021-03"
         ],
         "xaxis": "x",
         "y": [
          51102
         ],
         "yaxis": "y"
        },
        {
         "alignmentgroup": "True",
         "hovertemplate": "Category of Sanction=Regulatory non-compliance (Anti-Money Laundering and Countering the Financing of Terrorism)<br>Month of Sanction=%{x}<br>Sanctioned Amount (€)=%{y}<extra></extra>",
         "legendgroup": "Regulatory non-compliance (Anti-Money Laundering and Countering the Financing of Terrorism)",
         "marker": {
          "color": "#FF6692",
          "pattern": {
           "shape": ""
          }
         },
         "name": "Regulatory non-compliance (Anti-Money Laundering and Countering the Financing of Terrorism)",
         "offsetgroup": "Regulatory non-compliance (Anti-Money Laundering and Countering the Financing of Terrorism)",
         "orientation": "v",
         "showlegend": true,
         "textposition": "auto",
         "type": "bar",
         "x": [
          "2021-03"
         ],
         "xaxis": "x",
         "y": [
          30000
         ],
         "yaxis": "y"
        },
        {
         "alignmentgroup": "True",
         "hovertemplate": "Category of Sanction=Regulatory compliance, Internal control.<br>Month of Sanction=%{x}<br>Sanctioned Amount (€)=%{y}<extra></extra>",
         "legendgroup": "Regulatory compliance, Internal control.",
         "marker": {
          "color": "#B6E880",
          "pattern": {
           "shape": ""
          }
         },
         "name": "Regulatory compliance, Internal control.",
         "offsetgroup": "Regulatory compliance, Internal control.",
         "orientation": "v",
         "showlegend": true,
         "textposition": "auto",
         "type": "bar",
         "x": [
          "2021-04"
         ],
         "xaxis": "x",
         "y": [
          50000
         ],
         "yaxis": "y"
        },
        {
         "alignmentgroup": "True",
         "hovertemplate": "Category of Sanction=Anti-Money Laundering/Counter-Terrorist Fin<br>Month of Sanction=%{x}<br>Sanctioned Amount (€)=%{y}<extra></extra>",
         "legendgroup": "Anti-Money Laundering/Counter-Terrorist Fin",
         "marker": {
          "color": "#FF97FF",
          "pattern": {
           "shape": ""
          }
         },
         "name": "Anti-Money Laundering/Counter-Terrorist Fin",
         "offsetgroup": "Anti-Money Laundering/Counter-Terrorist Fin",
         "orientation": "v",
         "showlegend": true,
         "textposition": "auto",
         "type": "bar",
         "x": [
          "2021-05"
         ],
         "xaxis": "x",
         "y": [
          30000
         ],
         "yaxis": "y"
        },
        {
         "alignmentgroup": "True",
         "hovertemplate": "Category of Sanction=Organizational Control/Internal Audit (or Patrimony Management)<br>Month of Sanction=%{x}<br>Sanctioned Amount (€)=%{y}<extra></extra>",
         "legendgroup": "Organizational Control/Internal Audit (or Patrimony Management)",
         "marker": {
          "color": "#FECB52",
          "pattern": {
           "shape": ""
          }
         },
         "name": "Organizational Control/Internal Audit (or Patrimony Management)",
         "offsetgroup": "Organizational Control/Internal Audit (or Patrimony Management)",
         "orientation": "v",
         "showlegend": true,
         "textposition": "auto",
         "type": "bar",
         "x": [
          "2021-05"
         ],
         "xaxis": "x",
         "y": [
          35000
         ],
         "yaxis": "y"
        },
        {
         "alignmentgroup": "True",
         "hovertemplate": "Category of Sanction=Regulatory compliance<br>Month of Sanction=%{x}<br>Sanctioned Amount (€)=%{y}<extra></extra>",
         "legendgroup": "Regulatory compliance",
         "marker": {
          "color": "#636efa",
          "pattern": {
           "shape": ""
          }
         },
         "name": "Regulatory compliance",
         "offsetgroup": "Regulatory compliance",
         "orientation": "v",
         "showlegend": true,
         "textposition": "auto",
         "type": "bar",
         "x": [
          "2021-05",
          "2021-11",
          "2023-11"
         ],
         "xaxis": "x",
         "y": [
          30000,
          60000,
          60000
         ],
         "yaxis": "y"
        },
        {
         "alignmentgroup": "True",
         "hovertemplate": "Category of Sanction=Anti-Money Laundering/Counter-Terrorist Financing (AML/CTF)<br>Month of Sanction=%{x}<br>Sanctioned Amount (€)=%{y}<extra></extra>",
         "legendgroup": "Anti-Money Laundering/Counter-Terrorist Financing (AML/CTF)",
         "marker": {
          "color": "#EF553B",
          "pattern": {
           "shape": ""
          }
         },
         "name": "Anti-Money Laundering/Counter-Terrorist Financing (AML/CTF)",
         "offsetgroup": "Anti-Money Laundering/Counter-Terrorist Financing (AML/CTF)",
         "orientation": "v",
         "showlegend": true,
         "textposition": "auto",
         "type": "bar",
         "x": [
          "2021-06",
          "2022-04",
          "2023-09",
          "2024-01",
          "2024-02"
         ],
         "xaxis": "x",
         "y": [
          30000,
          30000,
          50000,
          35000,
          30000
         ],
         "yaxis": "y"
        },
        {
         "alignmentgroup": "True",
         "hovertemplate": "Category of Sanction=Banking regulation violation<br>Month of Sanction=%{x}<br>Sanctioned Amount (€)=%{y}<extra></extra>",
         "legendgroup": "Banking regulation violation",
         "marker": {
          "color": "#00cc96",
          "pattern": {
           "shape": ""
          }
         },
         "name": "Banking regulation violation",
         "offsetgroup": "Banking regulation violation",
         "orientation": "v",
         "showlegend": true,
         "textposition": "auto",
         "type": "bar",
         "x": [
          "2021-06"
         ],
         "xaxis": "x",
         "y": [
          30000
         ],
         "yaxis": "y"
        },
        {
         "alignmentgroup": "True",
         "hovertemplate": "Category of Sanction=Governance/Compliance<br>Month of Sanction=%{x}<br>Sanctioned Amount (€)=%{y}<extra></extra>",
         "legendgroup": "Governance/Compliance",
         "marker": {
          "color": "#ab63fa",
          "pattern": {
           "shape": ""
          }
         },
         "name": "Governance/Compliance",
         "offsetgroup": "Governance/Compliance",
         "orientation": "v",
         "showlegend": true,
         "textposition": "auto",
         "type": "bar",
         "x": [
          "2021-06"
         ],
         "xaxis": "x",
         "y": [
          40000
         ],
         "yaxis": "y"
        },
        {
         "alignmentgroup": "True",
         "hovertemplate": "Category of Sanction=Regulatory compliance (specifically, banking and financial regulations)<br>Month of Sanction=%{x}<br>Sanctioned Amount (€)=%{y}<extra></extra>",
         "legendgroup": "Regulatory compliance (specifically, banking and financial regulations)",
         "marker": {
          "color": "#FFA15A",
          "pattern": {
           "shape": ""
          }
         },
         "name": "Regulatory compliance (specifically, banking and financial regulations)",
         "offsetgroup": "Regulatory compliance (specifically, banking and financial regulations)",
         "orientation": "v",
         "showlegend": true,
         "textposition": "auto",
         "type": "bar",
         "x": [
          "2021-07"
         ],
         "xaxis": "x",
         "y": [
          80000
         ],
         "yaxis": "y"
        },
        {
         "alignmentgroup": "True",
         "hovertemplate": "Category of Sanction=Regulatory non-compliance (Anti-Money Laundering/KYC)<br>Month of Sanction=%{x}<br>Sanctioned Amount (€)=%{y}<extra></extra>",
         "legendgroup": "Regulatory non-compliance (Anti-Money Laundering/KYC)",
         "marker": {
          "color": "#19d3f3",
          "pattern": {
           "shape": ""
          }
         },
         "name": "Regulatory non-compliance (Anti-Money Laundering/KYC)",
         "offsetgroup": "Regulatory non-compliance (Anti-Money Laundering/KYC)",
         "orientation": "v",
         "showlegend": true,
         "textposition": "auto",
         "type": "bar",
         "x": [
          "2021-07"
         ],
         "xaxis": "x",
         "y": [
          60000
         ],
         "yaxis": "y"
        },
        {
         "alignmentgroup": "True",
         "hovertemplate": "Category of Sanction=Governance, Internal<br>Month of Sanction=%{x}<br>Sanctioned Amount (€)=%{y}<extra></extra>",
         "legendgroup": "Governance, Internal",
         "marker": {
          "color": "#FF6692",
          "pattern": {
           "shape": ""
          }
         },
         "name": "Governance, Internal",
         "offsetgroup": "Governance, Internal",
         "orientation": "v",
         "showlegend": true,
         "textposition": "auto",
         "type": "bar",
         "x": [
          "2021-08"
         ],
         "xaxis": "x",
         "y": [
          35260
         ],
         "yaxis": "y"
        },
        {
         "alignmentgroup": "True",
         "hovertemplate": "Category of Sanction=Exposure limits (or Banking regulations)<br>Month of Sanction=%{x}<br>Sanctioned Amount (€)=%{y}<extra></extra>",
         "legendgroup": "Exposure limits (or Banking regulations)",
         "marker": {
          "color": "#B6E880",
          "pattern": {
           "shape": ""
          }
         },
         "name": "Exposure limits (or Banking regulations)",
         "offsetgroup": "Exposure limits (or Banking regulations)",
         "orientation": "v",
         "showlegend": true,
         "textposition": "auto",
         "type": "bar",
         "x": [
          "2021-11"
         ],
         "xaxis": "x",
         "y": [
          50000
         ],
         "yaxis": "y"
        },
        {
         "alignmentgroup": "True",
         "hovertemplate": "Category of Sanction=Regulatory compliance (specifically banking regulations)<br>Month of Sanction=%{x}<br>Sanctioned Amount (€)=%{y}<extra></extra>",
         "legendgroup": "Regulatory compliance (specifically banking regulations)",
         "marker": {
          "color": "#FF97FF",
          "pattern": {
           "shape": ""
          }
         },
         "name": "Regulatory compliance (specifically banking regulations)",
         "offsetgroup": "Regulatory compliance (specifically banking regulations)",
         "orientation": "v",
         "showlegend": true,
         "textposition": "auto",
         "type": "bar",
         "x": [
          "2022-01"
         ],
         "xaxis": "x",
         "y": [
          30000
         ],
         "yaxis": "y"
        },
        {
         "alignmentgroup": "True",
         "hovertemplate": "Category of Sanction=Risk Governance, Internal Controls, Anti-Money Laundering.<br>Month of Sanction=%{x}<br>Sanctioned Amount (€)=%{y}<extra></extra>",
         "legendgroup": "Risk Governance, Internal Controls, Anti-Money Laundering.",
         "marker": {
          "color": "#FECB52",
          "pattern": {
           "shape": ""
          }
         },
         "name": "Risk Governance, Internal Controls, Anti-Money Laundering.",
         "offsetgroup": "Risk Governance, Internal Controls, Anti-Money Laundering.",
         "orientation": "v",
         "showlegend": true,
         "textposition": "auto",
         "type": "bar",
         "x": [
          "2022-01"
         ],
         "xaxis": "x",
         "y": [
          0
         ],
         "yaxis": "y"
        },
        {
         "alignmentgroup": "True",
         "hovertemplate": "Category of Sanction=Compliance (specifically, violations related to CAI and Centrale Rischi regulations)<br>Month of Sanction=%{x}<br>Sanctioned Amount (€)=%{y}<extra></extra>",
         "legendgroup": "Compliance (specifically, violations related to CAI and Centrale Rischi regulations)",
         "marker": {
          "color": "#636efa",
          "pattern": {
           "shape": ""
          }
         },
         "name": "Compliance (specifically, violations related to CAI and Centrale Rischi regulations)",
         "offsetgroup": "Compliance (specifically, violations related to CAI and Centrale Rischi regulations)",
         "orientation": "v",
         "showlegend": true,
         "textposition": "auto",
         "type": "bar",
         "x": [
          "2022-02"
         ],
         "xaxis": "x",
         "y": [
          30000
         ],
         "yaxis": "y"
        },
        {
         "alignmentgroup": "True",
         "hovertemplate": "Category of Sanction=Regulatory compliance (organizational and control violations)<br>Month of Sanction=%{x}<br>Sanctioned Amount (€)=%{y}<extra></extra>",
         "legendgroup": "Regulatory compliance (organizational and control violations)",
         "marker": {
          "color": "#EF553B",
          "pattern": {
           "shape": ""
          }
         },
         "name": "Regulatory compliance (organizational and control violations)",
         "offsetgroup": "Regulatory compliance (organizational and control violations)",
         "orientation": "v",
         "showlegend": true,
         "textposition": "auto",
         "type": "bar",
         "x": [
          "2022-02"
         ],
         "xaxis": "x",
         "y": [
          40000
         ],
         "yaxis": "y"
        },
        {
         "alignmentgroup": "True",
         "hovertemplate": "Category of Sanction=Anti-Money Laundering/Counter Terrorist Financing (AML/CTF)<br>Month of Sanction=%{x}<br>Sanctioned Amount (€)=%{y}<extra></extra>",
         "legendgroup": "Anti-Money Laundering/Counter Terrorist Financing (AML/CTF)",
         "marker": {
          "color": "#00cc96",
          "pattern": {
           "shape": ""
          }
         },
         "name": "Anti-Money Laundering/Counter Terrorist Financing (AML/CTF)",
         "offsetgroup": "Anti-Money Laundering/Counter Terrorist Financing (AML/CTF)",
         "orientation": "v",
         "showlegend": true,
         "textposition": "auto",
         "type": "bar",
         "x": [
          "2022-03",
          "2022-11"
         ],
         "xaxis": "x",
         "y": [
          30000,
          30000
         ],
         "yaxis": "y"
        },
        {
         "alignmentgroup": "True",
         "hovertemplate": "Category of Sanction=Anti-Money Laundering/Know Your Customer (AML/KYC) regulations<br>Month of Sanction=%{x}<br>Sanctioned Amount (€)=%{y}<extra></extra>",
         "legendgroup": "Anti-Money Laundering/Know Your Customer (AML/KYC) regulations",
         "marker": {
          "color": "#ab63fa",
          "pattern": {
           "shape": ""
          }
         },
         "name": "Anti-Money Laundering/Know Your Customer (AML/KYC) regulations",
         "offsetgroup": "Anti-Money Laundering/Know Your Customer (AML/KYC) regulations",
         "orientation": "v",
         "showlegend": true,
         "textposition": "auto",
         "type": "bar",
         "x": [
          "2022-03"
         ],
         "xaxis": "x",
         "y": [
          0
         ],
         "yaxis": "y"
        },
        {
         "alignmentgroup": "True",
         "hovertemplate": "Category of Sanction=Transparency, Corruption (Financial Services)<br>Month of Sanction=%{x}<br>Sanctioned Amount (€)=%{y}<extra></extra>",
         "legendgroup": "Transparency, Corruption (Financial Services)",
         "marker": {
          "color": "#FFA15A",
          "pattern": {
           "shape": ""
          }
         },
         "name": "Transparency, Corruption (Financial Services)",
         "offsetgroup": "Transparency, Corruption (Financial Services)",
         "orientation": "v",
         "showlegend": true,
         "textposition": "auto",
         "type": "bar",
         "x": [
          "2022-03"
         ],
         "xaxis": "x",
         "y": [
          280000
         ],
         "yaxis": "y"
        },
        {
         "alignmentgroup": "True",
         "hovertemplate": "Category of Sanction=Transparency/Compliance (Banking)<br>Month of Sanction=%{x}<br>Sanctioned Amount (€)=%{y}<extra></extra>",
         "legendgroup": "Transparency/Compliance (Banking)",
         "marker": {
          "color": "#19d3f3",
          "pattern": {
           "shape": ""
          }
         },
         "name": "Transparency/Compliance (Banking)",
         "offsetgroup": "Transparency/Compliance (Banking)",
         "orientation": "v",
         "showlegend": true,
         "textposition": "auto",
         "type": "bar",
         "x": [
          "2022-03"
         ],
         "xaxis": "x",
         "y": [
          30000
         ],
         "yaxis": "y"
        },
        {
         "alignmentgroup": "True",
         "hovertemplate": "Category of Sanction=Governance/Risk Management/Control<br>Month of Sanction=%{x}<br>Sanctioned Amount (€)=%{y}<extra></extra>",
         "legendgroup": "Governance/Risk Management/Control",
         "marker": {
          "color": "#FF6692",
          "pattern": {
           "shape": ""
          }
         },
         "name": "Governance/Risk Management/Control",
         "offsetgroup": "Governance/Risk Management/Control",
         "orientation": "v",
         "showlegend": true,
         "textposition": "auto",
         "type": "bar",
         "x": [
          "2022-04"
         ],
         "xaxis": "x",
         "y": [
          35000
         ],
         "yaxis": "y"
        },
        {
         "alignmentgroup": "True",
         "hovertemplate": "Category of Sanction=Regulatory compliance (financial services)<br>Month of Sanction=%{x}<br>Sanctioned Amount (€)=%{y}<extra></extra>",
         "legendgroup": "Regulatory compliance (financial services)",
         "marker": {
          "color": "#B6E880",
          "pattern": {
           "shape": ""
          }
         },
         "name": "Regulatory compliance (financial services)",
         "offsetgroup": "Regulatory compliance (financial services)",
         "orientation": "v",
         "showlegend": true,
         "textposition": "auto",
         "type": "bar",
         "x": [
          "2022-04"
         ],
         "xaxis": "x",
         "y": [
          30000
         ],
         "yaxis": "y"
        },
        {
         "alignmentgroup": "True",
         "hovertemplate": "Category of Sanction=Transparency and Correctness (regarding banking and financial services)<br>Month of Sanction=%{x}<br>Sanctioned Amount (€)=%{y}<extra></extra>",
         "legendgroup": "Transparency and Correctness (regarding banking and financial services)",
         "marker": {
          "color": "#FF97FF",
          "pattern": {
           "shape": ""
          }
         },
         "name": "Transparency and Correctness (regarding banking and financial services)",
         "offsetgroup": "Transparency and Correctness (regarding banking and financial services)",
         "orientation": "v",
         "showlegend": true,
         "textposition": "auto",
         "type": "bar",
         "x": [
          "2022-04",
          "2023-05"
         ],
         "xaxis": "x",
         "y": [
          900000,
          50000
         ],
         "yaxis": "y"
        },
        {
         "alignmentgroup": "True",
         "hovertemplate": "Category of Sanction=Anti-Money Laundering/Counter-Terrorist Financing<br>Month of Sanction=%{x}<br>Sanctioned Amount (€)=%{y}<extra></extra>",
         "legendgroup": "Anti-Money Laundering/Counter-Terrorist Financing",
         "marker": {
          "color": "#FECB52",
          "pattern": {
           "shape": ""
          }
         },
         "name": "Anti-Money Laundering/Counter-Terrorist Financing",
         "offsetgroup": "Anti-Money Laundering/Counter-Terrorist Financing",
         "orientation": "v",
         "showlegend": true,
         "textposition": "auto",
         "type": "bar",
         "x": [
          "2022-07"
         ],
         "xaxis": "x",
         "y": [
          0
         ],
         "yaxis": "y"
        },
        {
         "alignmentgroup": "True",
         "hovertemplate": "Category of Sanction=Banking Regulations, Credit Risk Management<br>Month of Sanction=%{x}<br>Sanctioned Amount (€)=%{y}<extra></extra>",
         "legendgroup": "Banking Regulations, Credit Risk Management",
         "marker": {
          "color": "#636efa",
          "pattern": {
           "shape": ""
          }
         },
         "name": "Banking Regulations, Credit Risk Management",
         "offsetgroup": "Banking Regulations, Credit Risk Management",
         "orientation": "v",
         "showlegend": true,
         "textposition": "auto",
         "type": "bar",
         "x": [
          "2022-07"
         ],
         "xaxis": "x",
         "y": [
          100000
         ],
         "yaxis": "y"
        },
        {
         "alignmentgroup": "True",
         "hovertemplate": "Category of Sanction=Compliance (Risk Management)<br>Month of Sanction=%{x}<br>Sanctioned Amount (€)=%{y}<extra></extra>",
         "legendgroup": "Compliance (Risk Management)",
         "marker": {
          "color": "#EF553B",
          "pattern": {
           "shape": ""
          }
         },
         "name": "Compliance (Risk Management)",
         "offsetgroup": "Compliance (Risk Management)",
         "orientation": "v",
         "showlegend": true,
         "textposition": "auto",
         "type": "bar",
         "x": [
          "2022-07"
         ],
         "xaxis": "x",
         "y": [
          30000
         ],
         "yaxis": "y"
        },
        {
         "alignmentgroup": "True",
         "hovertemplate": "Category of Sanction=Compliance (Anti-Money Laundering/Counter-Terrorist Financing)<br>Month of Sanction=%{x}<br>Sanctioned Amount (€)=%{y}<extra></extra>",
         "legendgroup": "Compliance (Anti-Money Laundering/Counter-Terrorist Financing)",
         "marker": {
          "color": "#00cc96",
          "pattern": {
           "shape": ""
          }
         },
         "name": "Compliance (Anti-Money Laundering/Counter-Terrorist Financing)",
         "offsetgroup": "Compliance (Anti-Money Laundering/Counter-Terrorist Financing)",
         "orientation": "v",
         "showlegend": true,
         "textposition": "auto",
         "type": "bar",
         "x": [
          "2022-09"
         ],
         "xaxis": "x",
         "y": [
          30000
         ],
         "yaxis": "y"
        },
        {
         "alignmentgroup": "True",
         "hovertemplate": "Category of Sanction=Compliance (Organizational and Internal Controls)<br>Month of Sanction=%{x}<br>Sanctioned Amount (€)=%{y}<extra></extra>",
         "legendgroup": "Compliance (Organizational and Internal Controls)",
         "marker": {
          "color": "#ab63fa",
          "pattern": {
           "shape": ""
          }
         },
         "name": "Compliance (Organizational and Internal Controls)",
         "offsetgroup": "Compliance (Organizational and Internal Controls)",
         "orientation": "v",
         "showlegend": true,
         "textposition": "auto",
         "type": "bar",
         "x": [
          "2022-12",
          "2023-07",
          "2024-01"
         ],
         "xaxis": "x",
         "y": [
          30000,
          30000,
          75000
         ],
         "yaxis": "y"
        },
        {
         "alignmentgroup": "True",
         "hovertemplate": "Category of Sanction=Compliance/Regulatory non-compliance.<br>Month of Sanction=%{x}<br>Sanctioned Amount (€)=%{y}<extra></extra>",
         "legendgroup": "Compliance/Regulatory non-compliance.",
         "marker": {
          "color": "#FFA15A",
          "pattern": {
           "shape": ""
          }
         },
         "name": "Compliance/Regulatory non-compliance.",
         "offsetgroup": "Compliance/Regulatory non-compliance.",
         "orientation": "v",
         "showlegend": true,
         "textposition": "auto",
         "type": "bar",
         "x": [
          "2022-12"
         ],
         "xaxis": "x",
         "y": [
          160000
         ],
         "yaxis": "y"
        },
        {
         "alignmentgroup": "True",
         "hovertemplate": "Category of Sanction=Compliance/AML/CTF<br>Month of Sanction=%{x}<br>Sanctioned Amount (€)=%{y}<extra></extra>",
         "legendgroup": "Compliance/AML/CTF",
         "marker": {
          "color": "#19d3f3",
          "pattern": {
           "shape": ""
          }
         },
         "name": "Compliance/AML/CTF",
         "offsetgroup": "Compliance/AML/CTF",
         "orientation": "v",
         "showlegend": true,
         "textposition": "auto",
         "type": "bar",
         "x": [
          "2023-03",
          "2023-04"
         ],
         "xaxis": "x",
         "y": [
          100000,
          30000
         ],
         "yaxis": "y"
        },
        {
         "alignmentgroup": "True",
         "hovertemplate": "Category of Sanction=Risk Management/Internal Controls (Financial Institutions)<br>Month of Sanction=%{x}<br>Sanctioned Amount (€)=%{y}<extra></extra>",
         "legendgroup": "Risk Management/Internal Controls (Financial Institutions)",
         "marker": {
          "color": "#FF6692",
          "pattern": {
           "shape": ""
          }
         },
         "name": "Risk Management/Internal Controls (Financial Institutions)",
         "offsetgroup": "Risk Management/Internal Controls (Financial Institutions)",
         "orientation": "v",
         "showlegend": true,
         "textposition": "auto",
         "type": "bar",
         "x": [
          "2023-03"
         ],
         "xaxis": "x",
         "y": [
          30000
         ],
         "yaxis": "y"
        },
        {
         "alignmentgroup": "True",
         "hovertemplate": "Category of Sanction=Compliance (Banking regulations)<br>Month of Sanction=%{x}<br>Sanctioned Amount (€)=%{y}<extra></extra>",
         "legendgroup": "Compliance (Banking regulations)",
         "marker": {
          "color": "#B6E880",
          "pattern": {
           "shape": ""
          }
         },
         "name": "Compliance (Banking regulations)",
         "offsetgroup": "Compliance (Banking regulations)",
         "orientation": "v",
         "showlegend": true,
         "textposition": "auto",
         "type": "bar",
         "x": [
          "2023-04"
         ],
         "xaxis": "x",
         "y": [
          30000
         ],
         "yaxis": "y"
        },
        {
         "alignmentgroup": "True",
         "hovertemplate": "Category of Sanction=Regulatory compliance / Risk management<br>Month of Sanction=%{x}<br>Sanctioned Amount (€)=%{y}<extra></extra>",
         "legendgroup": "Regulatory compliance / Risk management",
         "marker": {
          "color": "#FF97FF",
          "pattern": {
           "shape": ""
          }
         },
         "name": "Regulatory compliance / Risk management",
         "offsetgroup": "Regulatory compliance / Risk management",
         "orientation": "v",
         "showlegend": true,
         "textposition": "auto",
         "type": "bar",
         "x": [
          "2023-04"
         ],
         "xaxis": "x",
         "y": [
          75000
         ],
         "yaxis": "y"
        },
        {
         "alignmentgroup": "True",
         "hovertemplate": "Category of Sanction=Risk Management/Governance<br>Month of Sanction=%{x}<br>Sanctioned Amount (€)=%{y}<extra></extra>",
         "legendgroup": "Risk Management/Governance",
         "marker": {
          "color": "#FECB52",
          "pattern": {
           "shape": ""
          }
         },
         "name": "Risk Management/Governance",
         "offsetgroup": "Risk Management/Governance",
         "orientation": "v",
         "showlegend": true,
         "textposition": "auto",
         "type": "bar",
         "x": [
          "2023-04"
         ],
         "xaxis": "x",
         "y": [
          150000
         ],
         "yaxis": "y"
        },
        {
         "alignmentgroup": "True",
         "hovertemplate": "Category of Sanction=Risk Management/Internal Controls<br>Month of Sanction=%{x}<br>Sanctioned Amount (€)=%{y}<extra></extra>",
         "legendgroup": "Risk Management/Internal Controls",
         "marker": {
          "color": "#636efa",
          "pattern": {
           "shape": ""
          }
         },
         "name": "Risk Management/Internal Controls",
         "offsetgroup": "Risk Management/Internal Controls",
         "orientation": "v",
         "showlegend": true,
         "textposition": "auto",
         "type": "bar",
         "x": [
          "2023-05"
         ],
         "xaxis": "x",
         "y": [
          150000
         ],
         "yaxis": "y"
        },
        {
         "alignmentgroup": "True",
         "hovertemplate": "Category of Sanction=Compliance/Regulatory non-compliance (aggregated)<br>Month of Sanction=%{x}<br>Sanctioned Amount (€)=%{y}<extra></extra>",
         "legendgroup": "Compliance/Regulatory non-compliance (aggregated)",
         "marker": {
          "color": "#EF553B",
          "pattern": {
           "shape": ""
          }
         },
         "name": "Compliance/Regulatory non-compliance (aggregated)",
         "offsetgroup": "Compliance/Regulatory non-compliance (aggregated)",
         "orientation": "v",
         "showlegend": true,
         "textposition": "auto",
         "type": "bar",
         "x": [
          "2023-09"
         ],
         "xaxis": "x",
         "y": [
          120000
         ],
         "yaxis": "y"
        },
        {
         "alignmentgroup": "True",
         "hovertemplate": "Category of Sanction=Regulatory compliance (organizational and conflict of interest violations)<br>Month of Sanction=%{x}<br>Sanctioned Amount (€)=%{y}<extra></extra>",
         "legendgroup": "Regulatory compliance (organizational and conflict of interest violations)",
         "marker": {
          "color": "#00cc96",
          "pattern": {
           "shape": ""
          }
         },
         "name": "Regulatory compliance (organizational and conflict of interest violations)",
         "offsetgroup": "Regulatory compliance (organizational and conflict of interest violations)",
         "orientation": "v",
         "showlegend": true,
         "textposition": "auto",
         "type": "bar",
         "x": [
          "2023-09"
         ],
         "xaxis": "x",
         "y": [
          60000
         ],
         "yaxis": "y"
        },
        {
         "alignmentgroup": "True",
         "hovertemplate": "Category of Sanction=Organizational Controls/<br>Month of Sanction=%{x}<br>Sanctioned Amount (€)=%{y}<extra></extra>",
         "legendgroup": "Organizational Controls/",
         "marker": {
          "color": "#ab63fa",
          "pattern": {
           "shape": ""
          }
         },
         "name": "Organizational Controls/",
         "offsetgroup": "Organizational Controls/",
         "orientation": "v",
         "showlegend": true,
         "textposition": "auto",
         "type": "bar",
         "x": [
          "2024-01"
         ],
         "xaxis": "x",
         "y": [
          8014
         ],
         "yaxis": "y"
        },
        {
         "alignmentgroup": "True",
         "hovertemplate": "Category of Sanction=Reporting Violations<br>Month of Sanction=%{x}<br>Sanctioned Amount (€)=%{y}<extra></extra>",
         "legendgroup": "Reporting Violations",
         "marker": {
          "color": "#FFA15A",
          "pattern": {
           "shape": ""
          }
         },
         "name": "Reporting Violations",
         "offsetgroup": "Reporting Violations",
         "orientation": "v",
         "showlegend": true,
         "textposition": "auto",
         "type": "bar",
         "x": [
          "2024-02"
         ],
         "xaxis": "x",
         "y": [
          30000
         ],
         "yaxis": "y"
        }
       ],
       "layout": {
        "barmode": "relative",
        "height": 500,
        "legend": {
         "title": {
          "text": "Category of Sanction"
         },
         "tracegroupgap": 0
        },
        "template": {
         "data": {
          "bar": [
           {
            "error_x": {
             "color": "#2a3f5f"
            },
            "error_y": {
             "color": "#2a3f5f"
            },
            "marker": {
             "line": {
              "color": "#E5ECF6",
              "width": 0.5
             },
             "pattern": {
              "fillmode": "overlay",
              "size": 10,
              "solidity": 0.2
             }
            },
            "type": "bar"
           }
          ],
          "barpolar": [
           {
            "marker": {
             "line": {
              "color": "#E5ECF6",
              "width": 0.5
             },
             "pattern": {
              "fillmode": "overlay",
              "size": 10,
              "solidity": 0.2
             }
            },
            "type": "barpolar"
           }
          ],
          "carpet": [
           {
            "aaxis": {
             "endlinecolor": "#2a3f5f",
             "gridcolor": "white",
             "linecolor": "white",
             "minorgridcolor": "white",
             "startlinecolor": "#2a3f5f"
            },
            "baxis": {
             "endlinecolor": "#2a3f5f",
             "gridcolor": "white",
             "linecolor": "white",
             "minorgridcolor": "white",
             "startlinecolor": "#2a3f5f"
            },
            "type": "carpet"
           }
          ],
          "choropleth": [
           {
            "colorbar": {
             "outlinewidth": 0,
             "ticks": ""
            },
            "type": "choropleth"
           }
          ],
          "contour": [
           {
            "colorbar": {
             "outlinewidth": 0,
             "ticks": ""
            },
            "colorscale": [
             [
              0,
              "#0d0887"
             ],
             [
              0.1111111111111111,
              "#46039f"
             ],
             [
              0.2222222222222222,
              "#7201a8"
             ],
             [
              0.3333333333333333,
              "#9c179e"
             ],
             [
              0.4444444444444444,
              "#bd3786"
             ],
             [
              0.5555555555555556,
              "#d8576b"
             ],
             [
              0.6666666666666666,
              "#ed7953"
             ],
             [
              0.7777777777777778,
              "#fb9f3a"
             ],
             [
              0.8888888888888888,
              "#fdca26"
             ],
             [
              1,
              "#f0f921"
             ]
            ],
            "type": "contour"
           }
          ],
          "contourcarpet": [
           {
            "colorbar": {
             "outlinewidth": 0,
             "ticks": ""
            },
            "type": "contourcarpet"
           }
          ],
          "heatmap": [
           {
            "colorbar": {
             "outlinewidth": 0,
             "ticks": ""
            },
            "colorscale": [
             [
              0,
              "#0d0887"
             ],
             [
              0.1111111111111111,
              "#46039f"
             ],
             [
              0.2222222222222222,
              "#7201a8"
             ],
             [
              0.3333333333333333,
              "#9c179e"
             ],
             [
              0.4444444444444444,
              "#bd3786"
             ],
             [
              0.5555555555555556,
              "#d8576b"
             ],
             [
              0.6666666666666666,
              "#ed7953"
             ],
             [
              0.7777777777777778,
              "#fb9f3a"
             ],
             [
              0.8888888888888888,
              "#fdca26"
             ],
             [
              1,
              "#f0f921"
             ]
            ],
            "type": "heatmap"
           }
          ],
          "heatmapgl": [
           {
            "colorbar": {
             "outlinewidth": 0,
             "ticks": ""
            },
            "colorscale": [
             [
              0,
              "#0d0887"
             ],
             [
              0.1111111111111111,
              "#46039f"
             ],
             [
              0.2222222222222222,
              "#7201a8"
             ],
             [
              0.3333333333333333,
              "#9c179e"
             ],
             [
              0.4444444444444444,
              "#bd3786"
             ],
             [
              0.5555555555555556,
              "#d8576b"
             ],
             [
              0.6666666666666666,
              "#ed7953"
             ],
             [
              0.7777777777777778,
              "#fb9f3a"
             ],
             [
              0.8888888888888888,
              "#fdca26"
             ],
             [
              1,
              "#f0f921"
             ]
            ],
            "type": "heatmapgl"
           }
          ],
          "histogram": [
           {
            "marker": {
             "pattern": {
              "fillmode": "overlay",
              "size": 10,
              "solidity": 0.2
             }
            },
            "type": "histogram"
           }
          ],
          "histogram2d": [
           {
            "colorbar": {
             "outlinewidth": 0,
             "ticks": ""
            },
            "colorscale": [
             [
              0,
              "#0d0887"
             ],
             [
              0.1111111111111111,
              "#46039f"
             ],
             [
              0.2222222222222222,
              "#7201a8"
             ],
             [
              0.3333333333333333,
              "#9c179e"
             ],
             [
              0.4444444444444444,
              "#bd3786"
             ],
             [
              0.5555555555555556,
              "#d8576b"
             ],
             [
              0.6666666666666666,
              "#ed7953"
             ],
             [
              0.7777777777777778,
              "#fb9f3a"
             ],
             [
              0.8888888888888888,
              "#fdca26"
             ],
             [
              1,
              "#f0f921"
             ]
            ],
            "type": "histogram2d"
           }
          ],
          "histogram2dcontour": [
           {
            "colorbar": {
             "outlinewidth": 0,
             "ticks": ""
            },
            "colorscale": [
             [
              0,
              "#0d0887"
             ],
             [
              0.1111111111111111,
              "#46039f"
             ],
             [
              0.2222222222222222,
              "#7201a8"
             ],
             [
              0.3333333333333333,
              "#9c179e"
             ],
             [
              0.4444444444444444,
              "#bd3786"
             ],
             [
              0.5555555555555556,
              "#d8576b"
             ],
             [
              0.6666666666666666,
              "#ed7953"
             ],
             [
              0.7777777777777778,
              "#fb9f3a"
             ],
             [
              0.8888888888888888,
              "#fdca26"
             ],
             [
              1,
              "#f0f921"
             ]
            ],
            "type": "histogram2dcontour"
           }
          ],
          "mesh3d": [
           {
            "colorbar": {
             "outlinewidth": 0,
             "ticks": ""
            },
            "type": "mesh3d"
           }
          ],
          "parcoords": [
           {
            "line": {
             "colorbar": {
              "outlinewidth": 0,
              "ticks": ""
             }
            },
            "type": "parcoords"
           }
          ],
          "pie": [
           {
            "automargin": true,
            "type": "pie"
           }
          ],
          "scatter": [
           {
            "fillpattern": {
             "fillmode": "overlay",
             "size": 10,
             "solidity": 0.2
            },
            "type": "scatter"
           }
          ],
          "scatter3d": [
           {
            "line": {
             "colorbar": {
              "outlinewidth": 0,
              "ticks": ""
             }
            },
            "marker": {
             "colorbar": {
              "outlinewidth": 0,
              "ticks": ""
             }
            },
            "type": "scatter3d"
           }
          ],
          "scattercarpet": [
           {
            "marker": {
             "colorbar": {
              "outlinewidth": 0,
              "ticks": ""
             }
            },
            "type": "scattercarpet"
           }
          ],
          "scattergeo": [
           {
            "marker": {
             "colorbar": {
              "outlinewidth": 0,
              "ticks": ""
             }
            },
            "type": "scattergeo"
           }
          ],
          "scattergl": [
           {
            "marker": {
             "colorbar": {
              "outlinewidth": 0,
              "ticks": ""
             }
            },
            "type": "scattergl"
           }
          ],
          "scattermapbox": [
           {
            "marker": {
             "colorbar": {
              "outlinewidth": 0,
              "ticks": ""
             }
            },
            "type": "scattermapbox"
           }
          ],
          "scatterpolar": [
           {
            "marker": {
             "colorbar": {
              "outlinewidth": 0,
              "ticks": ""
             }
            },
            "type": "scatterpolar"
           }
          ],
          "scatterpolargl": [
           {
            "marker": {
             "colorbar": {
              "outlinewidth": 0,
              "ticks": ""
             }
            },
            "type": "scatterpolargl"
           }
          ],
          "scatterternary": [
           {
            "marker": {
             "colorbar": {
              "outlinewidth": 0,
              "ticks": ""
             }
            },
            "type": "scatterternary"
           }
          ],
          "surface": [
           {
            "colorbar": {
             "outlinewidth": 0,
             "ticks": ""
            },
            "colorscale": [
             [
              0,
              "#0d0887"
             ],
             [
              0.1111111111111111,
              "#46039f"
             ],
             [
              0.2222222222222222,
              "#7201a8"
             ],
             [
              0.3333333333333333,
              "#9c179e"
             ],
             [
              0.4444444444444444,
              "#bd3786"
             ],
             [
              0.5555555555555556,
              "#d8576b"
             ],
             [
              0.6666666666666666,
              "#ed7953"
             ],
             [
              0.7777777777777778,
              "#fb9f3a"
             ],
             [
              0.8888888888888888,
              "#fdca26"
             ],
             [
              1,
              "#f0f921"
             ]
            ],
            "type": "surface"
           }
          ],
          "table": [
           {
            "cells": {
             "fill": {
              "color": "#EBF0F8"
             },
             "line": {
              "color": "white"
             }
            },
            "header": {
             "fill": {
              "color": "#C8D4E3"
             },
             "line": {
              "color": "white"
             }
            },
            "type": "table"
           }
          ]
         },
         "layout": {
          "annotationdefaults": {
           "arrowcolor": "#2a3f5f",
           "arrowhead": 0,
           "arrowwidth": 1
          },
          "autotypenumbers": "strict",
          "coloraxis": {
           "colorbar": {
            "outlinewidth": 0,
            "ticks": ""
           }
          },
          "colorscale": {
           "diverging": [
            [
             0,
             "#8e0152"
            ],
            [
             0.1,
             "#c51b7d"
            ],
            [
             0.2,
             "#de77ae"
            ],
            [
             0.3,
             "#f1b6da"
            ],
            [
             0.4,
             "#fde0ef"
            ],
            [
             0.5,
             "#f7f7f7"
            ],
            [
             0.6,
             "#e6f5d0"
            ],
            [
             0.7,
             "#b8e186"
            ],
            [
             0.8,
             "#7fbc41"
            ],
            [
             0.9,
             "#4d9221"
            ],
            [
             1,
             "#276419"
            ]
           ],
           "sequential": [
            [
             0,
             "#0d0887"
            ],
            [
             0.1111111111111111,
             "#46039f"
            ],
            [
             0.2222222222222222,
             "#7201a8"
            ],
            [
             0.3333333333333333,
             "#9c179e"
            ],
            [
             0.4444444444444444,
             "#bd3786"
            ],
            [
             0.5555555555555556,
             "#d8576b"
            ],
            [
             0.6666666666666666,
             "#ed7953"
            ],
            [
             0.7777777777777778,
             "#fb9f3a"
            ],
            [
             0.8888888888888888,
             "#fdca26"
            ],
            [
             1,
             "#f0f921"
            ]
           ],
           "sequentialminus": [
            [
             0,
             "#0d0887"
            ],
            [
             0.1111111111111111,
             "#46039f"
            ],
            [
             0.2222222222222222,
             "#7201a8"
            ],
            [
             0.3333333333333333,
             "#9c179e"
            ],
            [
             0.4444444444444444,
             "#bd3786"
            ],
            [
             0.5555555555555556,
             "#d8576b"
            ],
            [
             0.6666666666666666,
             "#ed7953"
            ],
            [
             0.7777777777777778,
             "#fb9f3a"
            ],
            [
             0.8888888888888888,
             "#fdca26"
            ],
            [
             1,
             "#f0f921"
            ]
           ]
          },
          "colorway": [
           "#636efa",
           "#EF553B",
           "#00cc96",
           "#ab63fa",
           "#FFA15A",
           "#19d3f3",
           "#FF6692",
           "#B6E880",
           "#FF97FF",
           "#FECB52"
          ],
          "font": {
           "color": "#2a3f5f"
          },
          "geo": {
           "bgcolor": "white",
           "lakecolor": "white",
           "landcolor": "#E5ECF6",
           "showlakes": true,
           "showland": true,
           "subunitcolor": "white"
          },
          "hoverlabel": {
           "align": "left"
          },
          "hovermode": "closest",
          "mapbox": {
           "style": "light"
          },
          "paper_bgcolor": "white",
          "plot_bgcolor": "#E5ECF6",
          "polar": {
           "angularaxis": {
            "gridcolor": "white",
            "linecolor": "white",
            "ticks": ""
           },
           "bgcolor": "#E5ECF6",
           "radialaxis": {
            "gridcolor": "white",
            "linecolor": "white",
            "ticks": ""
           }
          },
          "scene": {
           "xaxis": {
            "backgroundcolor": "#E5ECF6",
            "gridcolor": "white",
            "gridwidth": 2,
            "linecolor": "white",
            "showbackground": true,
            "ticks": "",
            "zerolinecolor": "white"
           },
           "yaxis": {
            "backgroundcolor": "#E5ECF6",
            "gridcolor": "white",
            "gridwidth": 2,
            "linecolor": "white",
            "showbackground": true,
            "ticks": "",
            "zerolinecolor": "white"
           },
           "zaxis": {
            "backgroundcolor": "#E5ECF6",
            "gridcolor": "white",
            "gridwidth": 2,
            "linecolor": "white",
            "showbackground": true,
            "ticks": "",
            "zerolinecolor": "white"
           }
          },
          "shapedefaults": {
           "line": {
            "color": "#2a3f5f"
           }
          },
          "ternary": {
           "aaxis": {
            "gridcolor": "white",
            "linecolor": "white",
            "ticks": ""
           },
           "baxis": {
            "gridcolor": "white",
            "linecolor": "white",
            "ticks": ""
           },
           "bgcolor": "#E5ECF6",
           "caxis": {
            "gridcolor": "white",
            "linecolor": "white",
            "ticks": ""
           }
          },
          "title": {
           "x": 0.05
          },
          "xaxis": {
           "automargin": true,
           "gridcolor": "white",
           "linecolor": "white",
           "ticks": "",
           "title": {
            "standoff": 15
           },
           "zerolinecolor": "white",
           "zerolinewidth": 2
          },
          "yaxis": {
           "automargin": true,
           "gridcolor": "white",
           "linecolor": "white",
           "ticks": "",
           "title": {
            "standoff": 15
           },
           "zerolinecolor": "white",
           "zerolinewidth": 2
          }
         }
        },
        "title": {
         "text": "Monthly Sanctioned Amounts by Category of Sanction"
        },
        "width": 1200,
        "xaxis": {
         "anchor": "y",
         "domain": [
          0,
          1
         ],
         "title": {
          "text": "Month of Sanction"
         }
        },
        "yaxis": {
         "anchor": "x",
         "domain": [
          0,
          1
         ],
         "title": {
          "text": "Sanctioned Amount (€)"
         }
        }
       }
      }
     },
     "metadata": {},
     "output_type": "display_data"
    }
   ],
   "source": [
    "import plotly.express as px\n",
    "import pandas as pd\n",
    "\n",
    "# Ensure Date_of_Sanction is in datetime format\n",
    "df_result['Date_of_Sanction'] = pd.to_datetime(df_result['Date_of_Sanction'])\n",
    "\n",
    "# Extract the month from the Date_of_Sanction column\n",
    "df_result['Month'] = df_result['Date_of_Sanction'].dt.to_period('M')\n",
    "\n",
    "# Group by Month and Category_of_Reason, summing the sanctioned amounts\n",
    "df_reason_monthly = df_result.groupby(['Month', 'Category_of_Reason'])['Sanctioned_Amount'].sum().reset_index()\n",
    "\n",
    "# Convert the Month back to string for better plotting\n",
    "df_reason_monthly['Month'] = df_reason_monthly['Month'].astype(str)\n",
    "\n",
    "# Plot the stacked bar chart\n",
    "fig = px.bar(df_reason_monthly, x='Month', y='Sanctioned_Amount', color='Category_of_Reason',\n",
    "             title=\"Monthly Sanctioned Amounts by Category of Sanction\",\n",
    "             labels={\"Month\": \"Month of Sanction\", \"Sanctioned_Amount\": \"Sanctioned Amount (€)\",\n",
    "                     \"Category_of_Reason\": \"Category of Sanction\"})\n",
    "fig.update_layout(\n",
    "    width=1200,  # Set a fixed width of 800 pixels\n",
    "    height=500  # Set a fixed height\n",
    ")\n",
    "\n",
    "fig.show()\n"
   ]
  },
  {
   "cell_type": "markdown",
   "metadata": {},
   "source": [
    "## group by first word of category"
   ]
  },
  {
   "cell_type": "code",
   "execution_count": 27,
   "metadata": {},
   "outputs": [
    {
     "data": {
      "application/vnd.plotly.v1+json": {
       "config": {
        "plotlyServerURL": "https://plot.ly"
       },
       "data": [
        {
         "alignmentgroup": "True",
         "hovertemplate": "First Word of Category=Regulatory<br>Month of Sanction=%{x}<br>Sanctioned Amount (€)=%{y}<extra></extra>",
         "legendgroup": "Regulatory",
         "marker": {
          "color": "#636efa",
          "pattern": {
           "shape": ""
          }
         },
         "name": "Regulatory",
         "offsetgroup": "Regulatory",
         "orientation": "v",
         "showlegend": true,
         "textposition": "auto",
         "type": "bar",
         "x": [
          "2019-01",
          "2019-05",
          "2019-06",
          "2019-07",
          "2019-11",
          "2019-12",
          "2020-01",
          "2020-02",
          "2020-03",
          "2020-06",
          "2020-07",
          "2020-09",
          "2020-10",
          "2020-11",
          "2020-12",
          "2021-03",
          "2021-04",
          "2021-05",
          "2021-07",
          "2021-11",
          "2022-01",
          "2022-02",
          "2022-04",
          "2022-09",
          "2023-01",
          "2023-02",
          "2023-04",
          "2023-09",
          "2023-11"
         ],
         "xaxis": "x",
         "y": [
          40000,
          30000,
          30000,
          49000,
          71000,
          1320,
          93500,
          30000,
          615000,
          70000,
          82000,
          218000,
          120000,
          30000,
          30000,
          111102,
          50000,
          30000,
          140000,
          60000,
          30000,
          40000,
          30000,
          30000,
          30000,
          30000,
          75000,
          60000,
          60000
         ],
         "yaxis": "y"
        },
        {
         "alignmentgroup": "True",
         "hovertemplate": "First Word of Category=Compliance<br>Month of Sanction=%{x}<br>Sanctioned Amount (€)=%{y}<extra></extra>",
         "legendgroup": "Compliance",
         "marker": {
          "color": "#EF553B",
          "pattern": {
           "shape": ""
          }
         },
         "name": "Compliance",
         "offsetgroup": "Compliance",
         "orientation": "v",
         "showlegend": true,
         "textposition": "auto",
         "type": "bar",
         "x": [
          "2019-03",
          "2019-11",
          "2019-12",
          "2020-01",
          "2021-03",
          "2022-02",
          "2022-07",
          "2022-09",
          "2022-12",
          "2023-04",
          "2023-07",
          "2024-01"
         ],
         "xaxis": "x",
         "y": [
          286500,
          60000,
          60000,
          30000,
          30000,
          30000,
          30000,
          30000,
          30000,
          30000,
          30000,
          75000
         ],
         "yaxis": "y"
        },
        {
         "alignmentgroup": "True",
         "hovertemplate": "First Word of Category=Governance/Management/Risk<br>Month of Sanction=%{x}<br>Sanctioned Amount (€)=%{y}<extra></extra>",
         "legendgroup": "Governance/Management/Risk",
         "marker": {
          "color": "#00cc96",
          "pattern": {
           "shape": ""
          }
         },
         "name": "Governance/Management/Risk",
         "offsetgroup": "Governance/Management/Risk",
         "orientation": "v",
         "showlegend": true,
         "textposition": "auto",
         "type": "bar",
         "x": [
          "2019-04"
         ],
         "xaxis": "x",
         "y": [
          68000
         ],
         "yaxis": "y"
        },
        {
         "alignmentgroup": "True",
         "hovertemplate": "First Word of Category=Transparency/Client<br>Month of Sanction=%{x}<br>Sanctioned Amount (€)=%{y}<extra></extra>",
         "legendgroup": "Transparency/Client",
         "marker": {
          "color": "#ab63fa",
          "pattern": {
           "shape": ""
          }
         },
         "name": "Transparency/Client",
         "offsetgroup": "Transparency/Client",
         "orientation": "v",
         "showlegend": true,
         "textposition": "auto",
         "type": "bar",
         "x": [
          "2019-04"
         ],
         "xaxis": "x",
         "y": [
          2500
         ],
         "yaxis": "y"
        },
        {
         "alignmentgroup": "True",
         "hovertemplate": "First Word of Category=Governance/Control.<br>Month of Sanction=%{x}<br>Sanctioned Amount (€)=%{y}<extra></extra>",
         "legendgroup": "Governance/Control.",
         "marker": {
          "color": "#FFA15A",
          "pattern": {
           "shape": ""
          }
         },
         "name": "Governance/Control.",
         "offsetgroup": "Governance/Control.",
         "orientation": "v",
         "showlegend": true,
         "textposition": "auto",
         "type": "bar",
         "x": [
          "2019-05"
         ],
         "xaxis": "x",
         "y": [
          83000
         ],
         "yaxis": "y"
        },
        {
         "alignmentgroup": "True",
         "hovertemplate": "First Word of Category=Client<br>Month of Sanction=%{x}<br>Sanctioned Amount (€)=%{y}<extra></extra>",
         "legendgroup": "Client",
         "marker": {
          "color": "#19d3f3",
          "pattern": {
           "shape": ""
          }
         },
         "name": "Client",
         "offsetgroup": "Client",
         "orientation": "v",
         "showlegend": true,
         "textposition": "auto",
         "type": "bar",
         "x": [
          "2019-06"
         ],
         "xaxis": "x",
         "y": [
          30000
         ],
         "yaxis": "y"
        },
        {
         "alignmentgroup": "True",
         "hovertemplate": "First Word of Category=Transparency.<br>Month of Sanction=%{x}<br>Sanctioned Amount (€)=%{y}<extra></extra>",
         "legendgroup": "Transparency.",
         "marker": {
          "color": "#FF6692",
          "pattern": {
           "shape": ""
          }
         },
         "name": "Transparency.",
         "offsetgroup": "Transparency.",
         "orientation": "v",
         "showlegend": true,
         "textposition": "auto",
         "type": "bar",
         "x": [
          "2019-06"
         ],
         "xaxis": "x",
         "y": [
          60000
         ],
         "yaxis": "y"
        },
        {
         "alignmentgroup": "True",
         "hovertemplate": "First Word of Category=Compliance/Regul<br>Month of Sanction=%{x}<br>Sanctioned Amount (€)=%{y}<extra></extra>",
         "legendgroup": "Compliance/Regul",
         "marker": {
          "color": "#B6E880",
          "pattern": {
           "shape": ""
          }
         },
         "name": "Compliance/Regul",
         "offsetgroup": "Compliance/Regul",
         "orientation": "v",
         "showlegend": true,
         "textposition": "auto",
         "type": "bar",
         "x": [
          "2019-07"
         ],
         "xaxis": "x",
         "y": [
          35000
         ],
         "yaxis": "y"
        },
        {
         "alignmentgroup": "True",
         "hovertemplate": "First Word of Category=Transparency<br>Month of Sanction=%{x}<br>Sanctioned Amount (€)=%{y}<extra></extra>",
         "legendgroup": "Transparency",
         "marker": {
          "color": "#FF97FF",
          "pattern": {
           "shape": ""
          }
         },
         "name": "Transparency",
         "offsetgroup": "Transparency",
         "orientation": "v",
         "showlegend": true,
         "textposition": "auto",
         "type": "bar",
         "x": [
          "2019-09",
          "2020-01",
          "2020-02",
          "2020-07",
          "2021-04",
          "2022-04",
          "2023-05"
         ],
         "xaxis": "x",
         "y": [
          1700,
          390000,
          1760,
          60000,
          30000,
          900000,
          50000
         ],
         "yaxis": "y"
        },
        {
         "alignmentgroup": "True",
         "hovertemplate": "First Word of Category=Anti-Money<br>Month of Sanction=%{x}<br>Sanctioned Amount (€)=%{y}<extra></extra>",
         "legendgroup": "Anti-Money",
         "marker": {
          "color": "#FECB52",
          "pattern": {
           "shape": ""
          }
         },
         "name": "Anti-Money",
         "offsetgroup": "Anti-Money",
         "orientation": "v",
         "showlegend": true,
         "textposition": "auto",
         "type": "bar",
         "x": [
          "2019-11",
          "2020-10",
          "2021-03",
          "2021-05",
          "2021-06",
          "2022-03",
          "2022-04",
          "2022-07",
          "2022-11",
          "2023-04",
          "2023-09",
          "2024-01",
          "2024-02"
         ],
         "xaxis": "x",
         "y": [
          60000,
          30000,
          100000,
          30000,
          30000,
          30000,
          30000,
          0,
          30000,
          45000,
          50000,
          35000,
          30000
         ],
         "yaxis": "y"
        },
        {
         "alignmentgroup": "True",
         "hovertemplate": "First Word of Category=Governance/Organizational<br>Month of Sanction=%{x}<br>Sanctioned Amount (€)=%{y}<extra></extra>",
         "legendgroup": "Governance/Organizational",
         "marker": {
          "color": "#636efa",
          "pattern": {
           "shape": ""
          }
         },
         "name": "Governance/Organizational",
         "offsetgroup": "Governance/Organizational",
         "orientation": "v",
         "showlegend": true,
         "textposition": "auto",
         "type": "bar",
         "x": [
          "2019-11"
         ],
         "xaxis": "x",
         "y": [
          60000
         ],
         "yaxis": "y"
        },
        {
         "alignmentgroup": "True",
         "hovertemplate": "First Word of Category=Regul<br>Month of Sanction=%{x}<br>Sanctioned Amount (€)=%{y}<extra></extra>",
         "legendgroup": "Regul",
         "marker": {
          "color": "#EF553B",
          "pattern": {
           "shape": ""
          }
         },
         "name": "Regul",
         "offsetgroup": "Regul",
         "orientation": "v",
         "showlegend": true,
         "textposition": "auto",
         "type": "bar",
         "x": [
          "2019-12"
         ],
         "xaxis": "x",
         "y": [
          30000
         ],
         "yaxis": "y"
        },
        {
         "alignmentgroup": "True",
         "hovertemplate": "First Word of Category=Banking<br>Month of Sanction=%{x}<br>Sanctioned Amount (€)=%{y}<extra></extra>",
         "legendgroup": "Banking",
         "marker": {
          "color": "#00cc96",
          "pattern": {
           "shape": ""
          }
         },
         "name": "Banking",
         "offsetgroup": "Banking",
         "orientation": "v",
         "showlegend": true,
         "textposition": "auto",
         "type": "bar",
         "x": [
          "2020-01",
          "2020-03",
          "2021-06",
          "2022-07"
         ],
         "xaxis": "x",
         "y": [
          30000,
          186000,
          30000,
          100000
         ],
         "yaxis": "y"
        },
        {
         "alignmentgroup": "True",
         "hovertemplate": "First Word of Category=Compliance/Regulatory<br>Month of Sanction=%{x}<br>Sanctioned Amount (€)=%{y}<extra></extra>",
         "legendgroup": "Compliance/Regulatory",
         "marker": {
          "color": "#ab63fa",
          "pattern": {
           "shape": ""
          }
         },
         "name": "Compliance/Regulatory",
         "offsetgroup": "Compliance/Regulatory",
         "orientation": "v",
         "showlegend": true,
         "textposition": "auto",
         "type": "bar",
         "x": [
          "2020-02",
          "2022-12",
          "2023-09"
         ],
         "xaxis": "x",
         "y": [
          70000,
          160000,
          120000
         ],
         "yaxis": "y"
        },
        {
         "alignmentgroup": "True",
         "hovertemplate": "First Word of Category=Reporting<br>Month of Sanction=%{x}<br>Sanctioned Amount (€)=%{y}<extra></extra>",
         "legendgroup": "Reporting",
         "marker": {
          "color": "#FFA15A",
          "pattern": {
           "shape": ""
          }
         },
         "name": "Reporting",
         "offsetgroup": "Reporting",
         "orientation": "v",
         "showlegend": true,
         "textposition": "auto",
         "type": "bar",
         "x": [
          "2020-03",
          "2024-02"
         ],
         "xaxis": "x",
         "y": [
          30000,
          30000
         ],
         "yaxis": "y"
        },
        {
         "alignmentgroup": "True",
         "hovertemplate": "First Word of Category=Credit<br>Month of Sanction=%{x}<br>Sanctioned Amount (€)=%{y}<extra></extra>",
         "legendgroup": "Credit",
         "marker": {
          "color": "#19d3f3",
          "pattern": {
           "shape": ""
          }
         },
         "name": "Credit",
         "offsetgroup": "Credit",
         "orientation": "v",
         "showlegend": true,
         "textposition": "auto",
         "type": "bar",
         "x": [
          "2020-07"
         ],
         "xaxis": "x",
         "y": [
          100000
         ],
         "yaxis": "y"
        },
        {
         "alignmentgroup": "True",
         "hovertemplate": "First Word of Category=Organizational<br>Month of Sanction=%{x}<br>Sanctioned Amount (€)=%{y}<extra></extra>",
         "legendgroup": "Organizational",
         "marker": {
          "color": "#FF6692",
          "pattern": {
           "shape": ""
          }
         },
         "name": "Organizational",
         "offsetgroup": "Organizational",
         "orientation": "v",
         "showlegend": true,
         "textposition": "auto",
         "type": "bar",
         "x": [
          "2020-07",
          "2020-10",
          "2021-03",
          "2021-05",
          "2023-07",
          "2023-12",
          "2024-01"
         ],
         "xaxis": "x",
         "y": [
          37000,
          30000,
          100000,
          35000,
          120000,
          30000,
          8014
         ],
         "yaxis": "y"
        },
        {
         "alignmentgroup": "True",
         "hovertemplate": "First Word of Category=Remuneration<br>Month of Sanction=%{x}<br>Sanctioned Amount (€)=%{y}<extra></extra>",
         "legendgroup": "Remuneration",
         "marker": {
          "color": "#B6E880",
          "pattern": {
           "shape": ""
          }
         },
         "name": "Remuneration",
         "offsetgroup": "Remuneration",
         "orientation": "v",
         "showlegend": true,
         "textposition": "auto",
         "type": "bar",
         "x": [
          "2020-07"
         ],
         "xaxis": "x",
         "y": [
          0
         ],
         "yaxis": "y"
        },
        {
         "alignmentgroup": "True",
         "hovertemplate": "First Word of Category=Risk<br>Month of Sanction=%{x}<br>Sanctioned Amount (€)=%{y}<extra></extra>",
         "legendgroup": "Risk",
         "marker": {
          "color": "#FF97FF",
          "pattern": {
           "shape": ""
          }
         },
         "name": "Risk",
         "offsetgroup": "Risk",
         "orientation": "v",
         "showlegend": true,
         "textposition": "auto",
         "type": "bar",
         "x": [
          "2020-09",
          "2020-10",
          "2022-01",
          "2023-03",
          "2023-04",
          "2023-05"
         ],
         "xaxis": "x",
         "y": [
          41000,
          30000,
          0,
          30000,
          150000,
          150000
         ],
         "yaxis": "y"
        },
        {
         "alignmentgroup": "True",
         "hovertemplate": "First Word of Category=Transparency/Organizational<br>Month of Sanction=%{x}<br>Sanctioned Amount (€)=%{y}<extra></extra>",
         "legendgroup": "Transparency/Organizational",
         "marker": {
          "color": "#FECB52",
          "pattern": {
           "shape": ""
          }
         },
         "name": "Transparency/Organizational",
         "offsetgroup": "Transparency/Organizational",
         "orientation": "v",
         "showlegend": true,
         "textposition": "auto",
         "type": "bar",
         "x": [
          "2020-09"
         ],
         "xaxis": "x",
         "y": [
          35000
         ],
         "yaxis": "y"
        },
        {
         "alignmentgroup": "True",
         "hovertemplate": "First Word of Category=Violation<br>Month of Sanction=%{x}<br>Sanctioned Amount (€)=%{y}<extra></extra>",
         "legendgroup": "Violation",
         "marker": {
          "color": "#636efa",
          "pattern": {
           "shape": ""
          }
         },
         "name": "Violation",
         "offsetgroup": "Violation",
         "orientation": "v",
         "showlegend": true,
         "textposition": "auto",
         "type": "bar",
         "x": [
          "2020-12"
         ],
         "xaxis": "x",
         "y": [
          30000
         ],
         "yaxis": "y"
        },
        {
         "alignmentgroup": "True",
         "hovertemplate": "First Word of Category=Governance/Compliance<br>Month of Sanction=%{x}<br>Sanctioned Amount (€)=%{y}<extra></extra>",
         "legendgroup": "Governance/Compliance",
         "marker": {
          "color": "#EF553B",
          "pattern": {
           "shape": ""
          }
         },
         "name": "Governance/Compliance",
         "offsetgroup": "Governance/Compliance",
         "orientation": "v",
         "showlegend": true,
         "textposition": "auto",
         "type": "bar",
         "x": [
          "2021-06"
         ],
         "xaxis": "x",
         "y": [
          40000
         ],
         "yaxis": "y"
        },
        {
         "alignmentgroup": "True",
         "hovertemplate": "First Word of Category=Governance,<br>Month of Sanction=%{x}<br>Sanctioned Amount (€)=%{y}<extra></extra>",
         "legendgroup": "Governance,",
         "marker": {
          "color": "#00cc96",
          "pattern": {
           "shape": ""
          }
         },
         "name": "Governance,",
         "offsetgroup": "Governance,",
         "orientation": "v",
         "showlegend": true,
         "textposition": "auto",
         "type": "bar",
         "x": [
          "2021-08"
         ],
         "xaxis": "x",
         "y": [
          35260
         ],
         "yaxis": "y"
        },
        {
         "alignmentgroup": "True",
         "hovertemplate": "First Word of Category=Exposure<br>Month of Sanction=%{x}<br>Sanctioned Amount (€)=%{y}<extra></extra>",
         "legendgroup": "Exposure",
         "marker": {
          "color": "#ab63fa",
          "pattern": {
           "shape": ""
          }
         },
         "name": "Exposure",
         "offsetgroup": "Exposure",
         "orientation": "v",
         "showlegend": true,
         "textposition": "auto",
         "type": "bar",
         "x": [
          "2021-11"
         ],
         "xaxis": "x",
         "y": [
          50000
         ],
         "yaxis": "y"
        },
        {
         "alignmentgroup": "True",
         "hovertemplate": "First Word of Category=Transparency,<br>Month of Sanction=%{x}<br>Sanctioned Amount (€)=%{y}<extra></extra>",
         "legendgroup": "Transparency,",
         "marker": {
          "color": "#FFA15A",
          "pattern": {
           "shape": ""
          }
         },
         "name": "Transparency,",
         "offsetgroup": "Transparency,",
         "orientation": "v",
         "showlegend": true,
         "textposition": "auto",
         "type": "bar",
         "x": [
          "2022-03"
         ],
         "xaxis": "x",
         "y": [
          280000
         ],
         "yaxis": "y"
        },
        {
         "alignmentgroup": "True",
         "hovertemplate": "First Word of Category=Transparency/Compliance<br>Month of Sanction=%{x}<br>Sanctioned Amount (€)=%{y}<extra></extra>",
         "legendgroup": "Transparency/Compliance",
         "marker": {
          "color": "#19d3f3",
          "pattern": {
           "shape": ""
          }
         },
         "name": "Transparency/Compliance",
         "offsetgroup": "Transparency/Compliance",
         "orientation": "v",
         "showlegend": true,
         "textposition": "auto",
         "type": "bar",
         "x": [
          "2022-03"
         ],
         "xaxis": "x",
         "y": [
          30000
         ],
         "yaxis": "y"
        },
        {
         "alignmentgroup": "True",
         "hovertemplate": "First Word of Category=Governance/Risk<br>Month of Sanction=%{x}<br>Sanctioned Amount (€)=%{y}<extra></extra>",
         "legendgroup": "Governance/Risk",
         "marker": {
          "color": "#FF6692",
          "pattern": {
           "shape": ""
          }
         },
         "name": "Governance/Risk",
         "offsetgroup": "Governance/Risk",
         "orientation": "v",
         "showlegend": true,
         "textposition": "auto",
         "type": "bar",
         "x": [
          "2022-04"
         ],
         "xaxis": "x",
         "y": [
          35000
         ],
         "yaxis": "y"
        },
        {
         "alignmentgroup": "True",
         "hovertemplate": "First Word of Category=Compliance/AML/CTF<br>Month of Sanction=%{x}<br>Sanctioned Amount (€)=%{y}<extra></extra>",
         "legendgroup": "Compliance/AML/CTF",
         "marker": {
          "color": "#B6E880",
          "pattern": {
           "shape": ""
          }
         },
         "name": "Compliance/AML/CTF",
         "offsetgroup": "Compliance/AML/CTF",
         "orientation": "v",
         "showlegend": true,
         "textposition": "auto",
         "type": "bar",
         "x": [
          "2023-03",
          "2023-04"
         ],
         "xaxis": "x",
         "y": [
          100000,
          30000
         ],
         "yaxis": "y"
        }
       ],
       "layout": {
        "barmode": "relative",
        "height": 500,
        "legend": {
         "title": {
          "text": "First Word of Category"
         },
         "tracegroupgap": 0
        },
        "template": {
         "data": {
          "bar": [
           {
            "error_x": {
             "color": "#2a3f5f"
            },
            "error_y": {
             "color": "#2a3f5f"
            },
            "marker": {
             "line": {
              "color": "#E5ECF6",
              "width": 0.5
             },
             "pattern": {
              "fillmode": "overlay",
              "size": 10,
              "solidity": 0.2
             }
            },
            "type": "bar"
           }
          ],
          "barpolar": [
           {
            "marker": {
             "line": {
              "color": "#E5ECF6",
              "width": 0.5
             },
             "pattern": {
              "fillmode": "overlay",
              "size": 10,
              "solidity": 0.2
             }
            },
            "type": "barpolar"
           }
          ],
          "carpet": [
           {
            "aaxis": {
             "endlinecolor": "#2a3f5f",
             "gridcolor": "white",
             "linecolor": "white",
             "minorgridcolor": "white",
             "startlinecolor": "#2a3f5f"
            },
            "baxis": {
             "endlinecolor": "#2a3f5f",
             "gridcolor": "white",
             "linecolor": "white",
             "minorgridcolor": "white",
             "startlinecolor": "#2a3f5f"
            },
            "type": "carpet"
           }
          ],
          "choropleth": [
           {
            "colorbar": {
             "outlinewidth": 0,
             "ticks": ""
            },
            "type": "choropleth"
           }
          ],
          "contour": [
           {
            "colorbar": {
             "outlinewidth": 0,
             "ticks": ""
            },
            "colorscale": [
             [
              0,
              "#0d0887"
             ],
             [
              0.1111111111111111,
              "#46039f"
             ],
             [
              0.2222222222222222,
              "#7201a8"
             ],
             [
              0.3333333333333333,
              "#9c179e"
             ],
             [
              0.4444444444444444,
              "#bd3786"
             ],
             [
              0.5555555555555556,
              "#d8576b"
             ],
             [
              0.6666666666666666,
              "#ed7953"
             ],
             [
              0.7777777777777778,
              "#fb9f3a"
             ],
             [
              0.8888888888888888,
              "#fdca26"
             ],
             [
              1,
              "#f0f921"
             ]
            ],
            "type": "contour"
           }
          ],
          "contourcarpet": [
           {
            "colorbar": {
             "outlinewidth": 0,
             "ticks": ""
            },
            "type": "contourcarpet"
           }
          ],
          "heatmap": [
           {
            "colorbar": {
             "outlinewidth": 0,
             "ticks": ""
            },
            "colorscale": [
             [
              0,
              "#0d0887"
             ],
             [
              0.1111111111111111,
              "#46039f"
             ],
             [
              0.2222222222222222,
              "#7201a8"
             ],
             [
              0.3333333333333333,
              "#9c179e"
             ],
             [
              0.4444444444444444,
              "#bd3786"
             ],
             [
              0.5555555555555556,
              "#d8576b"
             ],
             [
              0.6666666666666666,
              "#ed7953"
             ],
             [
              0.7777777777777778,
              "#fb9f3a"
             ],
             [
              0.8888888888888888,
              "#fdca26"
             ],
             [
              1,
              "#f0f921"
             ]
            ],
            "type": "heatmap"
           }
          ],
          "heatmapgl": [
           {
            "colorbar": {
             "outlinewidth": 0,
             "ticks": ""
            },
            "colorscale": [
             [
              0,
              "#0d0887"
             ],
             [
              0.1111111111111111,
              "#46039f"
             ],
             [
              0.2222222222222222,
              "#7201a8"
             ],
             [
              0.3333333333333333,
              "#9c179e"
             ],
             [
              0.4444444444444444,
              "#bd3786"
             ],
             [
              0.5555555555555556,
              "#d8576b"
             ],
             [
              0.6666666666666666,
              "#ed7953"
             ],
             [
              0.7777777777777778,
              "#fb9f3a"
             ],
             [
              0.8888888888888888,
              "#fdca26"
             ],
             [
              1,
              "#f0f921"
             ]
            ],
            "type": "heatmapgl"
           }
          ],
          "histogram": [
           {
            "marker": {
             "pattern": {
              "fillmode": "overlay",
              "size": 10,
              "solidity": 0.2
             }
            },
            "type": "histogram"
           }
          ],
          "histogram2d": [
           {
            "colorbar": {
             "outlinewidth": 0,
             "ticks": ""
            },
            "colorscale": [
             [
              0,
              "#0d0887"
             ],
             [
              0.1111111111111111,
              "#46039f"
             ],
             [
              0.2222222222222222,
              "#7201a8"
             ],
             [
              0.3333333333333333,
              "#9c179e"
             ],
             [
              0.4444444444444444,
              "#bd3786"
             ],
             [
              0.5555555555555556,
              "#d8576b"
             ],
             [
              0.6666666666666666,
              "#ed7953"
             ],
             [
              0.7777777777777778,
              "#fb9f3a"
             ],
             [
              0.8888888888888888,
              "#fdca26"
             ],
             [
              1,
              "#f0f921"
             ]
            ],
            "type": "histogram2d"
           }
          ],
          "histogram2dcontour": [
           {
            "colorbar": {
             "outlinewidth": 0,
             "ticks": ""
            },
            "colorscale": [
             [
              0,
              "#0d0887"
             ],
             [
              0.1111111111111111,
              "#46039f"
             ],
             [
              0.2222222222222222,
              "#7201a8"
             ],
             [
              0.3333333333333333,
              "#9c179e"
             ],
             [
              0.4444444444444444,
              "#bd3786"
             ],
             [
              0.5555555555555556,
              "#d8576b"
             ],
             [
              0.6666666666666666,
              "#ed7953"
             ],
             [
              0.7777777777777778,
              "#fb9f3a"
             ],
             [
              0.8888888888888888,
              "#fdca26"
             ],
             [
              1,
              "#f0f921"
             ]
            ],
            "type": "histogram2dcontour"
           }
          ],
          "mesh3d": [
           {
            "colorbar": {
             "outlinewidth": 0,
             "ticks": ""
            },
            "type": "mesh3d"
           }
          ],
          "parcoords": [
           {
            "line": {
             "colorbar": {
              "outlinewidth": 0,
              "ticks": ""
             }
            },
            "type": "parcoords"
           }
          ],
          "pie": [
           {
            "automargin": true,
            "type": "pie"
           }
          ],
          "scatter": [
           {
            "fillpattern": {
             "fillmode": "overlay",
             "size": 10,
             "solidity": 0.2
            },
            "type": "scatter"
           }
          ],
          "scatter3d": [
           {
            "line": {
             "colorbar": {
              "outlinewidth": 0,
              "ticks": ""
             }
            },
            "marker": {
             "colorbar": {
              "outlinewidth": 0,
              "ticks": ""
             }
            },
            "type": "scatter3d"
           }
          ],
          "scattercarpet": [
           {
            "marker": {
             "colorbar": {
              "outlinewidth": 0,
              "ticks": ""
             }
            },
            "type": "scattercarpet"
           }
          ],
          "scattergeo": [
           {
            "marker": {
             "colorbar": {
              "outlinewidth": 0,
              "ticks": ""
             }
            },
            "type": "scattergeo"
           }
          ],
          "scattergl": [
           {
            "marker": {
             "colorbar": {
              "outlinewidth": 0,
              "ticks": ""
             }
            },
            "type": "scattergl"
           }
          ],
          "scattermapbox": [
           {
            "marker": {
             "colorbar": {
              "outlinewidth": 0,
              "ticks": ""
             }
            },
            "type": "scattermapbox"
           }
          ],
          "scatterpolar": [
           {
            "marker": {
             "colorbar": {
              "outlinewidth": 0,
              "ticks": ""
             }
            },
            "type": "scatterpolar"
           }
          ],
          "scatterpolargl": [
           {
            "marker": {
             "colorbar": {
              "outlinewidth": 0,
              "ticks": ""
             }
            },
            "type": "scatterpolargl"
           }
          ],
          "scatterternary": [
           {
            "marker": {
             "colorbar": {
              "outlinewidth": 0,
              "ticks": ""
             }
            },
            "type": "scatterternary"
           }
          ],
          "surface": [
           {
            "colorbar": {
             "outlinewidth": 0,
             "ticks": ""
            },
            "colorscale": [
             [
              0,
              "#0d0887"
             ],
             [
              0.1111111111111111,
              "#46039f"
             ],
             [
              0.2222222222222222,
              "#7201a8"
             ],
             [
              0.3333333333333333,
              "#9c179e"
             ],
             [
              0.4444444444444444,
              "#bd3786"
             ],
             [
              0.5555555555555556,
              "#d8576b"
             ],
             [
              0.6666666666666666,
              "#ed7953"
             ],
             [
              0.7777777777777778,
              "#fb9f3a"
             ],
             [
              0.8888888888888888,
              "#fdca26"
             ],
             [
              1,
              "#f0f921"
             ]
            ],
            "type": "surface"
           }
          ],
          "table": [
           {
            "cells": {
             "fill": {
              "color": "#EBF0F8"
             },
             "line": {
              "color": "white"
             }
            },
            "header": {
             "fill": {
              "color": "#C8D4E3"
             },
             "line": {
              "color": "white"
             }
            },
            "type": "table"
           }
          ]
         },
         "layout": {
          "annotationdefaults": {
           "arrowcolor": "#2a3f5f",
           "arrowhead": 0,
           "arrowwidth": 1
          },
          "autotypenumbers": "strict",
          "coloraxis": {
           "colorbar": {
            "outlinewidth": 0,
            "ticks": ""
           }
          },
          "colorscale": {
           "diverging": [
            [
             0,
             "#8e0152"
            ],
            [
             0.1,
             "#c51b7d"
            ],
            [
             0.2,
             "#de77ae"
            ],
            [
             0.3,
             "#f1b6da"
            ],
            [
             0.4,
             "#fde0ef"
            ],
            [
             0.5,
             "#f7f7f7"
            ],
            [
             0.6,
             "#e6f5d0"
            ],
            [
             0.7,
             "#b8e186"
            ],
            [
             0.8,
             "#7fbc41"
            ],
            [
             0.9,
             "#4d9221"
            ],
            [
             1,
             "#276419"
            ]
           ],
           "sequential": [
            [
             0,
             "#0d0887"
            ],
            [
             0.1111111111111111,
             "#46039f"
            ],
            [
             0.2222222222222222,
             "#7201a8"
            ],
            [
             0.3333333333333333,
             "#9c179e"
            ],
            [
             0.4444444444444444,
             "#bd3786"
            ],
            [
             0.5555555555555556,
             "#d8576b"
            ],
            [
             0.6666666666666666,
             "#ed7953"
            ],
            [
             0.7777777777777778,
             "#fb9f3a"
            ],
            [
             0.8888888888888888,
             "#fdca26"
            ],
            [
             1,
             "#f0f921"
            ]
           ],
           "sequentialminus": [
            [
             0,
             "#0d0887"
            ],
            [
             0.1111111111111111,
             "#46039f"
            ],
            [
             0.2222222222222222,
             "#7201a8"
            ],
            [
             0.3333333333333333,
             "#9c179e"
            ],
            [
             0.4444444444444444,
             "#bd3786"
            ],
            [
             0.5555555555555556,
             "#d8576b"
            ],
            [
             0.6666666666666666,
             "#ed7953"
            ],
            [
             0.7777777777777778,
             "#fb9f3a"
            ],
            [
             0.8888888888888888,
             "#fdca26"
            ],
            [
             1,
             "#f0f921"
            ]
           ]
          },
          "colorway": [
           "#636efa",
           "#EF553B",
           "#00cc96",
           "#ab63fa",
           "#FFA15A",
           "#19d3f3",
           "#FF6692",
           "#B6E880",
           "#FF97FF",
           "#FECB52"
          ],
          "font": {
           "color": "#2a3f5f"
          },
          "geo": {
           "bgcolor": "white",
           "lakecolor": "white",
           "landcolor": "#E5ECF6",
           "showlakes": true,
           "showland": true,
           "subunitcolor": "white"
          },
          "hoverlabel": {
           "align": "left"
          },
          "hovermode": "closest",
          "mapbox": {
           "style": "light"
          },
          "paper_bgcolor": "white",
          "plot_bgcolor": "#E5ECF6",
          "polar": {
           "angularaxis": {
            "gridcolor": "white",
            "linecolor": "white",
            "ticks": ""
           },
           "bgcolor": "#E5ECF6",
           "radialaxis": {
            "gridcolor": "white",
            "linecolor": "white",
            "ticks": ""
           }
          },
          "scene": {
           "xaxis": {
            "backgroundcolor": "#E5ECF6",
            "gridcolor": "white",
            "gridwidth": 2,
            "linecolor": "white",
            "showbackground": true,
            "ticks": "",
            "zerolinecolor": "white"
           },
           "yaxis": {
            "backgroundcolor": "#E5ECF6",
            "gridcolor": "white",
            "gridwidth": 2,
            "linecolor": "white",
            "showbackground": true,
            "ticks": "",
            "zerolinecolor": "white"
           },
           "zaxis": {
            "backgroundcolor": "#E5ECF6",
            "gridcolor": "white",
            "gridwidth": 2,
            "linecolor": "white",
            "showbackground": true,
            "ticks": "",
            "zerolinecolor": "white"
           }
          },
          "shapedefaults": {
           "line": {
            "color": "#2a3f5f"
           }
          },
          "ternary": {
           "aaxis": {
            "gridcolor": "white",
            "linecolor": "white",
            "ticks": ""
           },
           "baxis": {
            "gridcolor": "white",
            "linecolor": "white",
            "ticks": ""
           },
           "bgcolor": "#E5ECF6",
           "caxis": {
            "gridcolor": "white",
            "linecolor": "white",
            "ticks": ""
           }
          },
          "title": {
           "x": 0.05
          },
          "xaxis": {
           "automargin": true,
           "gridcolor": "white",
           "linecolor": "white",
           "ticks": "",
           "title": {
            "standoff": 15
           },
           "zerolinecolor": "white",
           "zerolinewidth": 2
          },
          "yaxis": {
           "automargin": true,
           "gridcolor": "white",
           "linecolor": "white",
           "ticks": "",
           "title": {
            "standoff": 15
           },
           "zerolinecolor": "white",
           "zerolinewidth": 2
          }
         }
        },
        "title": {
         "text": "Monthly Sanctioned Amounts by First Word of Category of Sanction"
        },
        "width": 800,
        "xaxis": {
         "anchor": "y",
         "domain": [
          0,
          1
         ],
         "title": {
          "text": "Month of Sanction"
         }
        },
        "yaxis": {
         "anchor": "x",
         "domain": [
          0,
          1
         ],
         "title": {
          "text": "Sanctioned Amount (€)"
         }
        }
       }
      }
     },
     "metadata": {},
     "output_type": "display_data"
    }
   ],
   "source": [
    "import plotly.express as px\n",
    "import pandas as pd\n",
    "\n",
    "# Ensure Date_of_Sanction is in datetime format\n",
    "df_result['Date_of_Sanction'] = pd.to_datetime(df_result['Date_of_Sanction'])\n",
    "\n",
    "# Extract the month from the Date_of_Sanction column\n",
    "df_result['Month'] = df_result['Date_of_Sanction'].dt.to_period('M')\n",
    "\n",
    "# Extract the first word from the Category_of_Reason column\n",
    "df_result['First_Word'] = df_result['Category_of_Reason'].str.split().str[0]\n",
    "\n",
    "# Group by Month and the first word of Category_of_Reason, summing the sanctioned amounts\n",
    "df_reason_monthly = df_result.groupby(['Month', 'First_Word'])['Sanctioned_Amount'].sum().reset_index()\n",
    "\n",
    "# Convert the Month back to string for better plotting\n",
    "df_reason_monthly['Month'] = df_reason_monthly['Month'].astype(str)\n",
    "\n",
    "# Plot the stacked bar chart\n",
    "fig = px.bar(df_reason_monthly, x='Month', y='Sanctioned_Amount', color='First_Word',\n",
    "             title=\"Monthly Sanctioned Amounts by First Word of Category of Sanction\",\n",
    "             labels={\"Month\": \"Month of Sanction\", \"Sanctioned_Amount\": \"Sanctioned Amount (€)\",\n",
    "                     \"First_Word\": \"First Word of Category\"})\n",
    "fig.update_layout(\n",
    "    width=800,  # Set a fixed width of 800 pixels\n",
    "    height=500  # Set a fixed height\n",
    ")\n",
    "\n",
    "fig.show()\n"
   ]
  },
  {
   "cell_type": "markdown",
   "metadata": {},
   "source": [
    "## dynamic scatter plot"
   ]
  },
  {
   "cell_type": "code",
   "execution_count": 23,
   "metadata": {},
   "outputs": [
    {
     "data": {
      "application/vnd.plotly.v1+json": {
       "config": {
        "plotlyServerURL": "https://plot.ly"
       },
       "data": [
        {
         "hovertemplate": "<b>%{hovertext}</b><br><br>Sanctioned_Entity=Generalfinance SpA<br>Date of Sanction=%{x}<br>Sanctioned Amount (€)=%{marker.size}<extra></extra>",
         "hovertext": [
          "Generalfinance SpA",
          "Generalfinance SpA"
         ],
         "legendgroup": "Generalfinance SpA",
         "marker": {
          "color": "#636efa",
          "line": {
           "color": "DarkSlateGrey",
           "width": 2
          },
          "size": [
           30000,
           30000
          ],
          "sizemode": "area",
          "sizeref": 250,
          "symbol": "circle"
         },
         "mode": "markers",
         "name": "Generalfinance SpA",
         "orientation": "v",
         "showlegend": true,
         "type": "scatter",
         "x": [
          "2024-02-06T00:00:00",
          "2024-02-06T00:00:00"
         ],
         "xaxis": "x",
         "y": [
          30000,
          30000
         ],
         "yaxis": "y"
        },
        {
         "hovertemplate": "<b>%{hovertext}</b><br><br>Sanctioned_Entity=Solution Bank SpA<br>Date of Sanction=%{x}<br>Sanctioned Amount (€)=%{marker.size}<extra></extra>",
         "hovertext": [
          "Solution Bank SpA"
         ],
         "legendgroup": "Solution Bank SpA",
         "marker": {
          "color": "#EF553B",
          "line": {
           "color": "DarkSlateGrey",
           "width": 2
          },
          "size": [
           35000
          ],
          "sizemode": "area",
          "sizeref": 250,
          "symbol": "circle"
         },
         "mode": "markers",
         "name": "Solution Bank SpA",
         "orientation": "v",
         "showlegend": true,
         "type": "scatter",
         "x": [
          "2024-01-23T00:00:00"
         ],
         "xaxis": "x",
         "y": [
          35000
         ],
         "yaxis": "y"
        },
        {
         "hovertemplate": "<b>%{hovertext}</b><br><br>Sanctioned_Entity=Banca Popolare del Mediterraneano SCPA<br>Date of Sanction=%{x}<br>Sanctioned Amount (€)=%{marker.size}<extra></extra>",
         "hovertext": [
          "Banca Popolare del Mediterraneano SCPA"
         ],
         "legendgroup": "Banca Popolare del Mediterraneano SCPA",
         "marker": {
          "color": "#00cc96",
          "line": {
           "color": "DarkSlateGrey",
           "width": 2
          },
          "size": [
           8014
          ],
          "sizemode": "area",
          "sizeref": 250,
          "symbol": "circle"
         },
         "mode": "markers",
         "name": "Banca Popolare del Mediterraneano SCPA",
         "orientation": "v",
         "showlegend": true,
         "type": "scatter",
         "x": [
          "2024-01-09T00:00:00"
         ],
         "xaxis": "x",
         "y": [
          8014
         ],
         "yaxis": "y"
        },
        {
         "hovertemplate": "<b>%{hovertext}</b><br><br>Sanctioned_Entity=Banca Popolare del Mediterraneo Scpa<br>Date of Sanction=%{x}<br>Sanctioned Amount (€)=%{marker.size}<extra></extra>",
         "hovertext": [
          "Banca Popolare del Mediterraneo Scpa",
          "Banca Popolare del Mediterraneo Scpa"
         ],
         "legendgroup": "Banca Popolare del Mediterraneo Scpa",
         "marker": {
          "color": "#ab63fa",
          "line": {
           "color": "DarkSlateGrey",
           "width": 2
          },
          "size": [
           75000,
           30000
          ],
          "sizemode": "area",
          "sizeref": 250,
          "symbol": "circle"
         },
         "mode": "markers",
         "name": "Banca Popolare del Mediterraneo Scpa",
         "orientation": "v",
         "showlegend": true,
         "type": "scatter",
         "x": [
          "2024-01-09T00:00:00",
          "2020-01-15T00:00:00"
         ],
         "xaxis": "x",
         "y": [
          75000,
          30000
         ],
         "yaxis": "y"
        },
        {
         "hovertemplate": "<b>%{hovertext}</b><br><br>Sanctioned_Entity=Prelios Credit Servicing SpA<br>Date of Sanction=%{x}<br>Sanctioned Amount (€)=%{marker.size}<extra></extra>",
         "hovertext": [
          "Prelios Credit Servicing SpA",
          "Prelios Credit Servicing SpA"
         ],
         "legendgroup": "Prelios Credit Servicing SpA",
         "marker": {
          "color": "#FFA15A",
          "line": {
           "color": "DarkSlateGrey",
           "width": 2
          },
          "size": [
           30000,
           30000
          ],
          "sizemode": "area",
          "sizeref": 250,
          "symbol": "circle"
         },
         "mode": "markers",
         "name": "Prelios Credit Servicing SpA",
         "orientation": "v",
         "showlegend": true,
         "type": "scatter",
         "x": [
          "2023-12-05T00:00:00",
          null
         ],
         "xaxis": "x",
         "y": [
          30000,
          30000
         ],
         "yaxis": "y"
        },
        {
         "hovertemplate": "<b>%{hovertext}</b><br><br>Sanctioned_Entity=Value Italy SGR SpA<br>Date of Sanction=%{x}<br>Sanctioned Amount (€)=%{marker.size}<extra></extra>",
         "hovertext": [
          "Value Italy SGR SpA"
         ],
         "legendgroup": "Value Italy SGR SpA",
         "marker": {
          "color": "#19d3f3",
          "line": {
           "color": "DarkSlateGrey",
           "width": 2
          },
          "size": [
           5179
          ],
          "sizemode": "area",
          "sizeref": 250,
          "symbol": "circle"
         },
         "mode": "markers",
         "name": "Value Italy SGR SpA",
         "orientation": "v",
         "showlegend": true,
         "type": "scatter",
         "x": [
          "2023-11-28T00:00:00"
         ],
         "xaxis": "x",
         "y": [
          5179
         ],
         "yaxis": "y"
        },
        {
         "hovertemplate": "<b>%{hovertext}</b><br><br>Sanctioned_Entity=Value Italy SGR Spa<br>Date of Sanction=%{x}<br>Sanctioned Amount (€)=%{marker.size}<extra></extra>",
         "hovertext": [
          "Value Italy SGR Spa"
         ],
         "legendgroup": "Value Italy SGR Spa",
         "marker": {
          "color": "#FF6692",
          "line": {
           "color": "DarkSlateGrey",
           "width": 2
          },
          "size": [
           60000
          ],
          "sizemode": "area",
          "sizeref": 250,
          "symbol": "circle"
         },
         "mode": "markers",
         "name": "Value Italy SGR Spa",
         "orientation": "v",
         "showlegend": true,
         "type": "scatter",
         "x": [
          "2023-11-28T00:00:00"
         ],
         "xaxis": "x",
         "y": [
          60000
         ],
         "yaxis": "y"
        },
        {
         "hovertemplate": "<b>%{hovertext}</b><br><br>Sanctioned_Entity=Framont & Partners Management Limited, Italian subsidiary of<br>Date of Sanction=%{x}<br>Sanctioned Amount (€)=%{marker.size}<extra></extra>",
         "hovertext": [
          "Framont & Partners Management Limited, Italian subsidiary of"
         ],
         "legendgroup": "Framont & Partners Management Limited, Italian subsidiary of",
         "marker": {
          "color": "#B6E880",
          "line": {
           "color": "DarkSlateGrey",
           "width": 2
          },
          "size": [
           23000
          ],
          "sizemode": "area",
          "sizeref": 250,
          "symbol": "circle"
         },
         "mode": "markers",
         "name": "Framont & Partners Management Limited, Italian subsidiary of",
         "orientation": "v",
         "showlegend": true,
         "type": "scatter",
         "x": [
          null
         ],
         "xaxis": "x",
         "y": [
          23000
         ],
         "yaxis": "y"
        },
        {
         "hovertemplate": "<b>%{hovertext}</b><br><br>Sanctioned_Entity=<br>Date of Sanction=%{x}<br>Sanctioned Amount (€)=%{marker.size}<extra></extra>",
         "hovertext": [
          "",
          "",
          "",
          "",
          ""
         ],
         "legendgroup": "",
         "marker": {
          "color": "#FF97FF",
          "line": {
           "color": "DarkSlateGrey",
           "width": 2
          },
          "size": [
           0,
           0,
           0,
           0,
           0
          ],
          "sizemode": "area",
          "sizeref": 250,
          "symbol": "circle"
         },
         "mode": "markers",
         "name": "",
         "orientation": "v",
         "showlegend": false,
         "type": "scatter",
         "x": [
          null,
          null,
          null,
          null,
          "2020-07-28T00:00:00"
         ],
         "xaxis": "x",
         "y": [
          0,
          0,
          0,
          0,
          0
         ],
         "yaxis": "y"
        },
        {
         "hovertemplate": "<b>%{hovertext}</b><br><br>Sanctioned_Entity=Scania Finance Italy Spa<br>Date of Sanction=%{x}<br>Sanctioned Amount (€)=%{marker.size}<extra></extra>",
         "hovertext": [
          "Scania Finance Italy Spa"
         ],
         "legendgroup": "Scania Finance Italy Spa",
         "marker": {
          "color": "#FECB52",
          "line": {
           "color": "DarkSlateGrey",
           "width": 2
          },
          "size": [
           50000
          ],
          "sizemode": "area",
          "sizeref": 250,
          "symbol": "circle"
         },
         "mode": "markers",
         "name": "Scania Finance Italy Spa",
         "orientation": "v",
         "showlegend": true,
         "type": "scatter",
         "x": [
          "2023-09-19T00:00:00"
         ],
         "xaxis": "x",
         "y": [
          50000
         ],
         "yaxis": "y"
        },
        {
         "hovertemplate": "<b>%{hovertext}</b><br><br>Sanctioned_Entity=IFIR Istituti Finanziari Riuniti SpA<br>Date of Sanction=%{x}<br>Sanctioned Amount (€)=%{marker.size}<extra></extra>",
         "hovertext": [
          "IFIR Istituti Finanziari Riuniti SpA",
          "IFIR Istituti Finanziari Riuniti SpA",
          "IFIR Istituti Finanziari Riuniti SpA"
         ],
         "legendgroup": "IFIR Istituti Finanziari Riuniti SpA",
         "marker": {
          "color": "#636efa",
          "line": {
           "color": "DarkSlateGrey",
           "width": 2
          },
          "size": [
           55018,
           120000,
           60000
          ],
          "sizemode": "area",
          "sizeref": 250,
          "symbol": "circle"
         },
         "mode": "markers",
         "name": "IFIR Istituti Finanziari Riuniti SpA",
         "orientation": "v",
         "showlegend": true,
         "type": "scatter",
         "x": [
          "2023-09-05T00:00:00",
          "2023-09-05T00:00:00",
          "2023-09-05T00:00:00"
         ],
         "xaxis": "x",
         "y": [
          55018,
          120000,
          60000
         ],
         "yaxis": "y"
        },
        {
         "hovertemplate": "<b>%{hovertext}</b><br><br>Sanctioned_Entity=AMCO Spa<br>Date of Sanction=%{x}<br>Sanctioned Amount (€)=%{marker.size}<extra></extra>",
         "hovertext": [
          "AMCO Spa"
         ],
         "legendgroup": "AMCO Spa",
         "marker": {
          "color": "#EF553B",
          "line": {
           "color": "DarkSlateGrey",
           "width": 2
          },
          "size": [
           120000
          ],
          "sizemode": "area",
          "sizeref": 250,
          "symbol": "circle"
         },
         "mode": "markers",
         "name": "AMCO Spa",
         "orientation": "v",
         "showlegend": true,
         "type": "scatter",
         "x": [
          "2023-07-25T00:00:00"
         ],
         "xaxis": "x",
         "y": [
          120000
         ],
         "yaxis": "y"
        },
        {
         "hovertemplate": "<b>%{hovertext}</b><br><br>Sanctioned_Entity=Intermonte SIM Spa<br>Date of Sanction=%{x}<br>Sanctioned Amount (€)=%{marker.size}<extra></extra>",
         "hovertext": [
          "Intermonte SIM Spa"
         ],
         "legendgroup": "Intermonte SIM Spa",
         "marker": {
          "color": "#00cc96",
          "line": {
           "color": "DarkSlateGrey",
           "width": 2
          },
          "size": [
           30000
          ],
          "sizemode": "area",
          "sizeref": 250,
          "symbol": "circle"
         },
         "mode": "markers",
         "name": "Intermonte SIM Spa",
         "orientation": "v",
         "showlegend": true,
         "type": "scatter",
         "x": [
          "2023-07-11T00:00:00"
         ],
         "xaxis": "x",
         "y": [
          30000
         ],
         "yaxis": "y"
        },
        {
         "hovertemplate": "<b>%{hovertext}</b><br><br>Sanctioned_Entity=PayTipper Spa<br>Date of Sanction=%{x}<br>Sanctioned Amount (€)=%{marker.size}<extra></extra>",
         "hovertext": [
          "PayTipper Spa"
         ],
         "legendgroup": "PayTipper Spa",
         "marker": {
          "color": "#ab63fa",
          "line": {
           "color": "DarkSlateGrey",
           "width": 2
          },
          "size": [
           50000
          ],
          "sizemode": "area",
          "sizeref": 250,
          "symbol": "circle"
         },
         "mode": "markers",
         "name": "PayTipper Spa",
         "orientation": "v",
         "showlegend": true,
         "type": "scatter",
         "x": [
          "2023-05-30T00:00:00"
         ],
         "xaxis": "x",
         "y": [
          50000
         ],
         "yaxis": "y"
        },
        {
         "hovertemplate": "<b>%{hovertext}</b><br><br>Sanctioned_Entity=Cassa di Risparmio di Volterra SpA<br>Date of Sanction=%{x}<br>Sanctioned Amount (€)=%{marker.size}<extra></extra>",
         "hovertext": [
          "Cassa di Risparmio di Volterra SpA"
         ],
         "legendgroup": "Cassa di Risparmio di Volterra SpA",
         "marker": {
          "color": "#FFA15A",
          "line": {
           "color": "DarkSlateGrey",
           "width": 2
          },
          "size": [
           150000
          ],
          "sizemode": "area",
          "sizeref": 250,
          "symbol": "circle"
         },
         "mode": "markers",
         "name": "Cassa di Risparmio di Volterra SpA",
         "orientation": "v",
         "showlegend": true,
         "type": "scatter",
         "x": [
          "2023-05-23T00:00:00"
         ],
         "xaxis": "x",
         "y": [
          150000
         ],
         "yaxis": "y"
        },
        {
         "hovertemplate": "<b>%{hovertext}</b><br><br>Sanctioned_Entity=M.C. Family Spa (now M.C. Family Srl)<br>Date of Sanction=%{x}<br>Sanctioned Amount (€)=%{marker.size}<extra></extra>",
         "hovertext": [
          "M.C. Family Spa (now M.C. Family Srl)"
         ],
         "legendgroup": "M.C. Family Spa (now M.C. Family Srl)",
         "marker": {
          "color": "#19d3f3",
          "line": {
           "color": "DarkSlateGrey",
           "width": 2
          },
          "size": [
           17500
          ],
          "sizemode": "area",
          "sizeref": 250,
          "symbol": "circle"
         },
         "mode": "markers",
         "name": "M.C. Family Spa (now M.C. Family Srl)",
         "orientation": "v",
         "showlegend": true,
         "type": "scatter",
         "x": [
          "2023-03-29T00:00:00"
         ],
         "xaxis": "x",
         "y": [
          17500
         ],
         "yaxis": "y"
        },
        {
         "hovertemplate": "<b>%{hovertext}</b><br><br>Sanctioned_Entity=M.C. Family Spa, now M.C. Family Srl<br>Date of Sanction=%{x}<br>Sanctioned Amount (€)=%{marker.size}<extra></extra>",
         "hovertext": [
          "M.C. Family Spa, now M.C. Family Srl",
          "M.C. Family Spa, now M.C. Family Srl"
         ],
         "legendgroup": "M.C. Family Spa, now M.C. Family Srl",
         "marker": {
          "color": "#FF6692",
          "line": {
           "color": "DarkSlateGrey",
           "width": 2
          },
          "size": [
           0,
           30000
          ],
          "sizemode": "area",
          "sizeref": 250,
          "symbol": "circle"
         },
         "mode": "markers",
         "name": "M.C. Family Spa, now M.C. Family Srl",
         "orientation": "v",
         "showlegend": true,
         "type": "scatter",
         "x": [
          "2023-03-29T00:00:00",
          "2023-03-29T00:00:00"
         ],
         "xaxis": "x",
         "y": [
          0,
          30000
         ],
         "yaxis": "y"
        },
        {
         "hovertemplate": "<b>%{hovertext}</b><br><br>Sanctioned_Entity=Synergo Capital SGR SpA<br>Date of Sanction=%{x}<br>Sanctioned Amount (€)=%{marker.size}<extra></extra>",
         "hovertext": [
          "Synergo Capital SGR SpA",
          "Synergo Capital SGR SpA"
         ],
         "legendgroup": "Synergo Capital SGR SpA",
         "marker": {
          "color": "#B6E880",
          "line": {
           "color": "DarkSlateGrey",
           "width": 2
          },
          "size": [
           45000,
           75000
          ],
          "sizemode": "area",
          "sizeref": 250,
          "symbol": "circle"
         },
         "mode": "markers",
         "name": "Synergo Capital SGR SpA",
         "orientation": "v",
         "showlegend": true,
         "type": "scatter",
         "x": [
          "2023-04-11T00:00:00",
          "2023-04-11T00:00:00"
         ],
         "xaxis": "x",
         "y": [
          45000,
          75000
         ],
         "yaxis": "y"
        },
        {
         "hovertemplate": "<b>%{hovertext}</b><br><br>Sanctioned_Entity=Banca Popolare Valconca Spa<br>Date of Sanction=%{x}<br>Sanctioned Amount (€)=%{marker.size}<extra></extra>",
         "hovertext": [
          "Banca Popolare Valconca Spa"
         ],
         "legendgroup": "Banca Popolare Valconca Spa",
         "marker": {
          "color": "#FF97FF",
          "line": {
           "color": "DarkSlateGrey",
           "width": 2
          },
          "size": [
           30000
          ],
          "sizemode": "area",
          "sizeref": 250,
          "symbol": "circle"
         },
         "mode": "markers",
         "name": "Banca Popolare Valconca Spa",
         "orientation": "v",
         "showlegend": true,
         "type": "scatter",
         "x": [
          "2023-04-04T00:00:00"
         ],
         "xaxis": "x",
         "y": [
          30000
         ],
         "yaxis": "y"
        },
        {
         "hovertemplate": "<b>%{hovertext}</b><br><br>Sanctioned_Entity=Banca Popolare Valconca Spa in a.s. (Banca Popolare Valconca)<br>Date of Sanction=%{x}<br>Sanctioned Amount (€)=%{marker.size}<extra></extra>",
         "hovertext": [
          "Banca Popolare Valconca Spa in a.s. (Banca Popolare Valconca)"
         ],
         "legendgroup": "Banca Popolare Valconca Spa in a.s. (Banca Popolare Valconca)",
         "marker": {
          "color": "#FECB52",
          "line": {
           "color": "DarkSlateGrey",
           "width": 2
          },
          "size": [
           150000
          ],
          "sizemode": "area",
          "sizeref": 250,
          "symbol": "circle"
         },
         "mode": "markers",
         "name": "Banca Popolare Valconca Spa in a.s. (Banca Popolare Valconca)",
         "orientation": "v",
         "showlegend": true,
         "type": "scatter",
         "x": [
          "2023-04-04T00:00:00"
         ],
         "xaxis": "x",
         "y": [
          150000
         ],
         "yaxis": "y"
        },
        {
         "hovertemplate": "<b>%{hovertext}</b><br><br>Sanctioned_Entity=Banco di Credito P. Azzoaglio SpA<br>Date of Sanction=%{x}<br>Sanctioned Amount (€)=%{marker.size}<extra></extra>",
         "hovertext": [
          "Banco di Credito P. Azzoaglio SpA"
         ],
         "legendgroup": "Banco di Credito P. Azzoaglio SpA",
         "marker": {
          "color": "#636efa",
          "line": {
           "color": "DarkSlateGrey",
           "width": 2
          },
          "size": [
           30000
          ],
          "sizemode": "area",
          "sizeref": 250,
          "symbol": "circle"
         },
         "mode": "markers",
         "name": "Banco di Credito P. Azzoaglio SpA",
         "orientation": "v",
         "showlegend": true,
         "type": "scatter",
         "x": [
          "2023-04-26T00:00:00"
         ],
         "xaxis": "x",
         "y": [
          30000
         ],
         "yaxis": "y"
        },
        {
         "hovertemplate": "<b>%{hovertext}</b><br><br>Sanctioned_Entity=Banca Progetto SpA<br>Date of Sanction=%{x}<br>Sanctioned Amount (€)=%{marker.size}<extra></extra>",
         "hovertext": [
          "Banca Progetto SpA"
         ],
         "legendgroup": "Banca Progetto SpA",
         "marker": {
          "color": "#EF553B",
          "line": {
           "color": "DarkSlateGrey",
           "width": 2
          },
          "size": [
           100000
          ],
          "sizemode": "area",
          "sizeref": 250,
          "symbol": "circle"
         },
         "mode": "markers",
         "name": "Banca Progetto SpA",
         "orientation": "v",
         "showlegend": true,
         "type": "scatter",
         "x": [
          "2023-03-14T00:00:00"
         ],
         "xaxis": "x",
         "y": [
          100000
         ],
         "yaxis": "y"
        },
        {
         "hovertemplate": "<b>%{hovertext}</b><br><br>Sanctioned_Entity=Banca Popolare Sant’Angelo Scpa<br>Date of Sanction=%{x}<br>Sanctioned Amount (€)=%{marker.size}<extra></extra>",
         "hovertext": [
          "Banca Popolare Sant’Angelo Scpa"
         ],
         "legendgroup": "Banca Popolare Sant’Angelo Scpa",
         "marker": {
          "color": "#00cc96",
          "line": {
           "color": "DarkSlateGrey",
           "width": 2
          },
          "size": [
           30000
          ],
          "sizemode": "area",
          "sizeref": 250,
          "symbol": "circle"
         },
         "mode": "markers",
         "name": "Banca Popolare Sant’Angelo Scpa",
         "orientation": "v",
         "showlegend": true,
         "type": "scatter",
         "x": [
          "2023-02-07T00:00:00"
         ],
         "xaxis": "x",
         "y": [
          30000
         ],
         "yaxis": "y"
        },
        {
         "hovertemplate": "<b>%{hovertext}</b><br><br>Sanctioned_Entity=Anthilia Capital Partners SGR SpA<br>Date of Sanction=%{x}<br>Sanctioned Amount (€)=%{marker.size}<extra></extra>",
         "hovertext": [
          "Anthilia Capital Partners SGR SpA"
         ],
         "legendgroup": "Anthilia Capital Partners SGR SpA",
         "marker": {
          "color": "#ab63fa",
          "line": {
           "color": "DarkSlateGrey",
           "width": 2
          },
          "size": [
           30000
          ],
          "sizemode": "area",
          "sizeref": 250,
          "symbol": "circle"
         },
         "mode": "markers",
         "name": "Anthilia Capital Partners SGR SpA",
         "orientation": "v",
         "showlegend": true,
         "type": "scatter",
         "x": [
          "2023-01-31T00:00:00"
         ],
         "xaxis": "x",
         "y": [
          30000
         ],
         "yaxis": "y"
        },
        {
         "hovertemplate": "<b>%{hovertext}</b><br><br>Sanctioned_Entity=Banca Spa<br>Date of Sanction=%{x}<br>Sanctioned Amount (€)=%{marker.size}<extra></extra>",
         "hovertext": [
          "Banca Spa"
         ],
         "legendgroup": "Banca Spa",
         "marker": {
          "color": "#FFA15A",
          "line": {
           "color": "DarkSlateGrey",
           "width": 2
          },
          "size": [
           247000
          ],
          "sizemode": "area",
          "sizeref": 250,
          "symbol": "circle"
         },
         "mode": "markers",
         "name": "Banca Spa",
         "orientation": "v",
         "showlegend": true,
         "type": "scatter",
         "x": [
          null
         ],
         "xaxis": "x",
         "y": [
          247000
         ],
         "yaxis": "y"
        },
        {
         "hovertemplate": "<b>%{hovertext}</b><br><br>Sanctioned_Entity=N26 Bank GmbH<br>Date of Sanction=%{x}<br>Sanctioned Amount (€)=%{marker.size}<extra></extra>",
         "hovertext": [
          "N26 Bank GmbH"
         ],
         "legendgroup": "N26 Bank GmbH",
         "marker": {
          "color": "#19d3f3",
          "line": {
           "color": "DarkSlateGrey",
           "width": 2
          },
          "size": [
           160000
          ],
          "sizemode": "area",
          "sizeref": 250,
          "symbol": "circle"
         },
         "mode": "markers",
         "name": "N26 Bank GmbH",
         "orientation": "v",
         "showlegend": true,
         "type": "scatter",
         "x": [
          "2022-12-13T00:00:00"
         ],
         "xaxis": "x",
         "y": [
          160000
         ],
         "yaxis": "y"
        },
        {
         "hovertemplate": "<b>%{hovertext}</b><br><br>Sanctioned_Entity=Fin Sarda Spa<br>Date of Sanction=%{x}<br>Sanctioned Amount (€)=%{marker.size}<extra></extra>",
         "hovertext": [
          "Fin Sarda Spa"
         ],
         "legendgroup": "Fin Sarda Spa",
         "marker": {
          "color": "#FF6692",
          "line": {
           "color": "DarkSlateGrey",
           "width": 2
          },
          "size": [
           30000
          ],
          "sizemode": "area",
          "sizeref": 250,
          "symbol": "circle"
         },
         "mode": "markers",
         "name": "Fin Sarda Spa",
         "orientation": "v",
         "showlegend": true,
         "type": "scatter",
         "x": [
          "2022-12-06T00:00:00"
         ],
         "xaxis": "x",
         "y": [
          30000
         ],
         "yaxis": "y"
        },
        {
         "hovertemplate": "<b>%{hovertext}</b><br><br>Sanctioned_Entity=Ria Payment Institution EP S.A.U.<br>Date of Sanction=%{x}<br>Sanctioned Amount (€)=%{marker.size}<extra></extra>",
         "hovertext": [
          "Ria Payment Institution EP S.A.U."
         ],
         "legendgroup": "Ria Payment Institution EP S.A.U.",
         "marker": {
          "color": "#B6E880",
          "line": {
           "color": "DarkSlateGrey",
           "width": 2
          },
          "size": [
           30000
          ],
          "sizemode": "area",
          "sizeref": 250,
          "symbol": "circle"
         },
         "mode": "markers",
         "name": "Ria Payment Institution EP S.A.U.",
         "orientation": "v",
         "showlegend": true,
         "type": "scatter",
         "x": [
          null
         ],
         "xaxis": "x",
         "y": [
          30000
         ],
         "yaxis": "y"
        },
        {
         "hovertemplate": "<b>%{hovertext}</b><br><br>Sanctioned_Entity=ART SGR Spa<br>Date of Sanction=%{x}<br>Sanctioned Amount (€)=%{marker.size}<extra></extra>",
         "hovertext": [
          "ART SGR Spa"
         ],
         "legendgroup": "ART SGR Spa",
         "marker": {
          "color": "#FF97FF",
          "line": {
           "color": "DarkSlateGrey",
           "width": 2
          },
          "size": [
           30000
          ],
          "sizemode": "area",
          "sizeref": 250,
          "symbol": "circle"
         },
         "mode": "markers",
         "name": "ART SGR Spa",
         "orientation": "v",
         "showlegend": true,
         "type": "scatter",
         "x": [
          "2022-11-22T00:00:00"
         ],
         "xaxis": "x",
         "y": [
          30000
         ],
         "yaxis": "y"
        },
        {
         "hovertemplate": "<b>%{hovertext}</b><br><br>Sanctioned_Entity=Valutrans SpA<br>Date of Sanction=%{x}<br>Sanctioned Amount (€)=%{marker.size}<extra></extra>",
         "hovertext": [
          "Valutrans SpA"
         ],
         "legendgroup": "Valutrans SpA",
         "marker": {
          "color": "#FECB52",
          "line": {
           "color": "DarkSlateGrey",
           "width": 2
          },
          "size": [
           45000
          ],
          "sizemode": "area",
          "sizeref": 250,
          "symbol": "circle"
         },
         "mode": "markers",
         "name": "Valutrans SpA",
         "orientation": "v",
         "showlegend": true,
         "type": "scatter",
         "x": [
          null
         ],
         "xaxis": "x",
         "y": [
          45000
         ],
         "yaxis": "y"
        },
        {
         "hovertemplate": "<b>%{hovertext}</b><br><br>Sanctioned_Entity=Aigis Banca Spa (in liquidation coatta amministrativa)<br>Date of Sanction=%{x}<br>Sanctioned Amount (€)=%{marker.size}<extra></extra>",
         "hovertext": [
          "Aigis Banca Spa (in liquidation coatta amministrativa)"
         ],
         "legendgroup": "Aigis Banca Spa (in liquidation coatta amministrativa)",
         "marker": {
          "color": "#636efa",
          "line": {
           "color": "DarkSlateGrey",
           "width": 2
          },
          "size": [
           35000
          ],
          "sizemode": "area",
          "sizeref": 250,
          "symbol": "circle"
         },
         "mode": "markers",
         "name": "Aigis Banca Spa (in liquidation coatta amministrativa)",
         "orientation": "v",
         "showlegend": true,
         "type": "scatter",
         "x": [
          "2022-04-05T00:00:00"
         ],
         "xaxis": "x",
         "y": [
          35000
         ],
         "yaxis": "y"
        },
        {
         "hovertemplate": "<b>%{hovertext}</b><br><br>Sanctioned_Entity=Mondial Bony Service Spa<br>Date of Sanction=%{x}<br>Sanctioned Amount (€)=%{marker.size}<extra></extra>",
         "hovertext": [
          "Mondial Bony Service Spa",
          "Mondial Bony Service Spa"
         ],
         "legendgroup": "Mondial Bony Service Spa",
         "marker": {
          "color": "#EF553B",
          "line": {
           "color": "DarkSlateGrey",
           "width": 2
          },
          "size": [
           30000,
           30000
          ],
          "sizemode": "area",
          "sizeref": 250,
          "symbol": "circle"
         },
         "mode": "markers",
         "name": "Mondial Bony Service Spa",
         "orientation": "v",
         "showlegend": true,
         "type": "scatter",
         "x": [
          "2022-09-06T00:00:00",
          "2022-09-06T00:00:00"
         ],
         "xaxis": "x",
         "y": [
          30000,
          30000
         ],
         "yaxis": "y"
        },
        {
         "hovertemplate": "<b>%{hovertext}</b><br><br>Sanctioned_Entity=Banca del Fucino Spa<br>Date of Sanction=%{x}<br>Sanctioned Amount (€)=%{marker.size}<extra></extra>",
         "hovertext": [
          "Banca del Fucino Spa",
          "Banca del Fucino Spa"
         ],
         "legendgroup": "Banca del Fucino Spa",
         "marker": {
          "color": "#00cc96",
          "line": {
           "color": "DarkSlateGrey",
           "width": 2
          },
          "size": [
           70000,
           0
          ],
          "sizemode": "area",
          "sizeref": 250,
          "symbol": "circle"
         },
         "mode": "markers",
         "name": "Banca del Fucino Spa",
         "orientation": "v",
         "showlegend": true,
         "type": "scatter",
         "x": [
          null,
          "2020-07-28T00:00:00"
         ],
         "xaxis": "x",
         "y": [
          70000,
          0
         ],
         "yaxis": "y"
        },
        {
         "hovertemplate": "<b>%{hovertext}</b><br><br>Sanctioned_Entity=Credimi SpA<br>Date of Sanction=%{x}<br>Sanctioned Amount (€)=%{marker.size}<extra></extra>",
         "hovertext": [
          "Credimi SpA"
         ],
         "legendgroup": "Credimi SpA",
         "marker": {
          "color": "#ab63fa",
          "line": {
           "color": "DarkSlateGrey",
           "width": 2
          },
          "size": [
           0
          ],
          "sizemode": "area",
          "sizeref": 250,
          "symbol": "circle"
         },
         "mode": "markers",
         "name": "Credimi SpA",
         "orientation": "v",
         "showlegend": true,
         "type": "scatter",
         "x": [
          "2022-07-26T00:00:00"
         ],
         "xaxis": "x",
         "y": [
          0
         ],
         "yaxis": "y"
        },
        {
         "hovertemplate": "<b>%{hovertext}</b><br><br>Sanctioned_Entity=Banca Popolare di Lajatico<br>Date of Sanction=%{x}<br>Sanctioned Amount (€)=%{marker.size}<extra></extra>",
         "hovertext": [
          "Banca Popolare di Lajatico"
         ],
         "legendgroup": "Banca Popolare di Lajatico",
         "marker": {
          "color": "#FFA15A",
          "line": {
           "color": "DarkSlateGrey",
           "width": 2
          },
          "size": [
           30000
          ],
          "sizemode": "area",
          "sizeref": 250,
          "symbol": "circle"
         },
         "mode": "markers",
         "name": "Banca Popolare di Lajatico",
         "orientation": "v",
         "showlegend": true,
         "type": "scatter",
         "x": [
          "2022-07-19T00:00:00"
         ],
         "xaxis": "x",
         "y": [
          30000
         ],
         "yaxis": "y"
        },
        {
         "hovertemplate": "<b>%{hovertext}</b><br><br>Sanctioned_Entity=Banca Sistema SpA<br>Date of Sanction=%{x}<br>Sanctioned Amount (€)=%{marker.size}<extra></extra>",
         "hovertext": [
          "Banca Sistema SpA",
          "Banca Sistema SpA"
         ],
         "legendgroup": "Banca Sistema SpA",
         "marker": {
          "color": "#19d3f3",
          "line": {
           "color": "DarkSlateGrey",
           "width": 2
          },
          "size": [
           100000,
           85285
          ],
          "sizemode": "area",
          "sizeref": 250,
          "symbol": "circle"
         },
         "mode": "markers",
         "name": "Banca Sistema SpA",
         "orientation": "v",
         "showlegend": true,
         "type": "scatter",
         "x": [
          "2022-07-05T00:00:00",
          "2022-01-25T00:00:00"
         ],
         "xaxis": "x",
         "y": [
          100000,
          85285
         ],
         "yaxis": "y"
        },
        {
         "hovertemplate": "<b>%{hovertext}</b><br><br>Sanctioned_Entity=Banca del Sud Spa (in administration)<br>Date of Sanction=%{x}<br>Sanctioned Amount (€)=%{marker.size}<extra></extra>",
         "hovertext": [
          "Banca del Sud Spa (in administration)"
         ],
         "legendgroup": "Banca del Sud Spa (in administration)",
         "marker": {
          "color": "#FF6692",
          "line": {
           "color": "DarkSlateGrey",
           "width": 2
          },
          "size": [
           57
          ],
          "sizemode": "area",
          "sizeref": 250,
          "symbol": "circle"
         },
         "mode": "markers",
         "name": "Banca del Sud Spa (in administration)",
         "orientation": "v",
         "showlegend": true,
         "type": "scatter",
         "x": [
          "2022-01-11T00:00:00"
         ],
         "xaxis": "x",
         "y": [
          57
         ],
         "yaxis": "y"
        },
        {
         "hovertemplate": "<b>%{hovertext}</b><br><br>Sanctioned_Entity=Directa SIM SpA<br>Date of Sanction=%{x}<br>Sanctioned Amount (€)=%{marker.size}<extra></extra>",
         "hovertext": [
          "Directa SIM SpA"
         ],
         "legendgroup": "Directa SIM SpA",
         "marker": {
          "color": "#B6E880",
          "line": {
           "color": "DarkSlateGrey",
           "width": 2
          },
          "size": [
           30000
          ],
          "sizemode": "area",
          "sizeref": 250,
          "symbol": "circle"
         },
         "mode": "markers",
         "name": "Directa SIM SpA",
         "orientation": "v",
         "showlegend": true,
         "type": "scatter",
         "x": [
          "2022-04-05T00:00:00"
         ],
         "xaxis": "x",
         "y": [
          30000
         ],
         "yaxis": "y"
        },
        {
         "hovertemplate": "<b>%{hovertext}</b><br><br>Sanctioned_Entity=Banca del Sud Spa (now in administration)<br>Date of Sanction=%{x}<br>Sanctioned Amount (€)=%{marker.size}<extra></extra>",
         "hovertext": [
          "Banca del Sud Spa (now in administration)"
         ],
         "legendgroup": "Banca del Sud Spa (now in administration)",
         "marker": {
          "color": "#FF97FF",
          "line": {
           "color": "DarkSlateGrey",
           "width": 2
          },
          "size": [
           30000
          ],
          "sizemode": "area",
          "sizeref": 250,
          "symbol": "circle"
         },
         "mode": "markers",
         "name": "Banca del Sud Spa (now in administration)",
         "orientation": "v",
         "showlegend": true,
         "type": "scatter",
         "x": [
          "2022-01-11T00:00:00"
         ],
         "xaxis": "x",
         "y": [
          30000
         ],
         "yaxis": "y"
        },
        {
         "hovertemplate": "<b>%{hovertext}</b><br><br>Sanctioned_Entity=Findomestic Banca Spa<br>Date of Sanction=%{x}<br>Sanctioned Amount (€)=%{marker.size}<extra></extra>",
         "hovertext": [
          "Findomestic Banca Spa",
          "Findomestic Banca Spa"
         ],
         "legendgroup": "Findomestic Banca Spa",
         "marker": {
          "color": "#FECB52",
          "line": {
           "color": "DarkSlateGrey",
           "width": 2
          },
          "size": [
           900000,
           390000
          ],
          "sizemode": "area",
          "sizeref": 250,
          "symbol": "circle"
         },
         "mode": "markers",
         "name": "Findomestic Banca Spa",
         "orientation": "v",
         "showlegend": true,
         "type": "scatter",
         "x": [
          "2022-04-26T00:00:00",
          "2020-01-28T00:00:00"
         ],
         "xaxis": "x",
         "y": [
          900000,
          390000
         ],
         "yaxis": "y"
        },
        {
         "hovertemplate": "<b>%{hovertext}</b><br><br>Sanctioned_Entity=BCC dei Colli Albani<br>Date of Sanction=%{x}<br>Sanctioned Amount (€)=%{marker.size}<extra></extra>",
         "hovertext": [
          "BCC dei Colli Albani"
         ],
         "legendgroup": "BCC dei Colli Albani",
         "marker": {
          "color": "#636efa",
          "line": {
           "color": "DarkSlateGrey",
           "width": 2
          },
          "size": [
           30000
          ],
          "sizemode": "area",
          "sizeref": 250,
          "symbol": "circle"
         },
         "mode": "markers",
         "name": "BCC dei Colli Albani",
         "orientation": "v",
         "showlegend": true,
         "type": "scatter",
         "x": [
          "2022-04-12T00:00:00"
         ],
         "xaxis": "x",
         "y": [
          30000
         ],
         "yaxis": "y"
        },
        {
         "hovertemplate": "<b>%{hovertext}</b><br><br>Sanctioned_Entity=UniCredit SpA<br>Date of Sanction=%{x}<br>Sanctioned Amount (€)=%{marker.size}<extra></extra>",
         "hovertext": [
          "UniCredit SpA"
         ],
         "legendgroup": "UniCredit SpA",
         "marker": {
          "color": "#EF553B",
          "line": {
           "color": "DarkSlateGrey",
           "width": 2
          },
          "size": [
           0
          ],
          "sizemode": "area",
          "sizeref": 250,
          "symbol": "circle"
         },
         "mode": "markers",
         "name": "UniCredit SpA",
         "orientation": "v",
         "showlegend": true,
         "type": "scatter",
         "x": [
          "2022-03-29T00:00:00"
         ],
         "xaxis": "x",
         "y": [
          0
         ],
         "yaxis": "y"
        },
        {
         "hovertemplate": "<b>%{hovertext}</b><br><br>Sanctioned_Entity=Banque Chaabi du Maroc<br>Date of Sanction=%{x}<br>Sanctioned Amount (€)=%{marker.size}<extra></extra>",
         "hovertext": [
          "Banque Chaabi du Maroc"
         ],
         "legendgroup": "Banque Chaabi du Maroc",
         "marker": {
          "color": "#00cc96",
          "line": {
           "color": "DarkSlateGrey",
           "width": 2
          },
          "size": [
           30000
          ],
          "sizemode": "area",
          "sizeref": 250,
          "symbol": "circle"
         },
         "mode": "markers",
         "name": "Banque Chaabi du Maroc",
         "orientation": "v",
         "showlegend": true,
         "type": "scatter",
         "x": [
          "2022-03-22T00:00:00"
         ],
         "xaxis": "x",
         "y": [
          30000
         ],
         "yaxis": "y"
        },
        {
         "hovertemplate": "<b>%{hovertext}</b><br><br>Sanctioned_Entity=Banca Carige SpA<br>Date of Sanction=%{x}<br>Sanctioned Amount (€)=%{marker.size}<extra></extra>",
         "hovertext": [
          "Banca Carige SpA"
         ],
         "legendgroup": "Banca Carige SpA",
         "marker": {
          "color": "#ab63fa",
          "line": {
           "color": "DarkSlateGrey",
           "width": 2
          },
          "size": [
           280000
          ],
          "sizemode": "area",
          "sizeref": 250,
          "symbol": "circle"
         },
         "mode": "markers",
         "name": "Banca Carige SpA",
         "orientation": "v",
         "showlegend": true,
         "type": "scatter",
         "x": [
          "2022-03-22T00:00:00"
         ],
         "xaxis": "x",
         "y": [
          280000
         ],
         "yaxis": "y"
        },
        {
         "hovertemplate": "<b>%{hovertext}</b><br><br>Sanctioned_Entity=Prestiamoci Spa<br>Date of Sanction=%{x}<br>Sanctioned Amount (€)=%{marker.size}<extra></extra>",
         "hovertext": [
          "Prestiamoci Spa"
         ],
         "legendgroup": "Prestiamoci Spa",
         "marker": {
          "color": "#FFA15A",
          "line": {
           "color": "DarkSlateGrey",
           "width": 2
          },
          "size": [
           30000
          ],
          "sizemode": "area",
          "sizeref": 250,
          "symbol": "circle"
         },
         "mode": "markers",
         "name": "Prestiamoci Spa",
         "orientation": "v",
         "showlegend": true,
         "type": "scatter",
         "x": [
          "2022-03-15T00:00:00"
         ],
         "xaxis": "x",
         "y": [
          30000
         ],
         "yaxis": "y"
        },
        {
         "hovertemplate": "<b>%{hovertext}</b><br><br>Sanctioned_Entity=Banca Popolare Vesuviana Sc<br>Date of Sanction=%{x}<br>Sanctioned Amount (€)=%{marker.size}<extra></extra>",
         "hovertext": [
          "Banca Popolare Vesuviana Sc"
         ],
         "legendgroup": "Banca Popolare Vesuviana Sc",
         "marker": {
          "color": "#19d3f3",
          "line": {
           "color": "DarkSlateGrey",
           "width": 2
          },
          "size": [
           30000
          ],
          "sizemode": "area",
          "sizeref": 250,
          "symbol": "circle"
         },
         "mode": "markers",
         "name": "Banca Popolare Vesuviana Sc",
         "orientation": "v",
         "showlegend": true,
         "type": "scatter",
         "x": [
          "2022-02-08T00:00:00"
         ],
         "xaxis": "x",
         "y": [
          30000
         ],
         "yaxis": "y"
        },
        {
         "hovertemplate": "<b>%{hovertext}</b><br><br>Sanctioned_Entity=Centotrenta Servicing Spa<br>Date of Sanction=%{x}<br>Sanctioned Amount (€)=%{marker.size}<extra></extra>",
         "hovertext": [
          "Centotrenta Servicing Spa"
         ],
         "legendgroup": "Centotrenta Servicing Spa",
         "marker": {
          "color": "#FF6692",
          "line": {
           "color": "DarkSlateGrey",
           "width": 2
          },
          "size": [
           40000
          ],
          "sizemode": "area",
          "sizeref": 250,
          "symbol": "circle"
         },
         "mode": "markers",
         "name": "Centotrenta Servicing Spa",
         "orientation": "v",
         "showlegend": true,
         "type": "scatter",
         "x": [
          "2022-02-15T00:00:00"
         ],
         "xaxis": "x",
         "y": [
          40000
         ],
         "yaxis": "y"
        },
        {
         "hovertemplate": "<b>%{hovertext}</b><br><br>Sanctioned_Entity=Credito Cooperativo di San Calogero e Maierato – BCC del Vibonese<br>Date of Sanction=%{x}<br>Sanctioned Amount (€)=%{marker.size}<extra></extra>",
         "hovertext": [
          "Credito Cooperativo di San Calogero e Maierato – BCC del Vibonese",
          "Credito Cooperativo di San Calogero e Maierato – BCC del Vibonese"
         ],
         "legendgroup": "Credito Cooperativo di San Calogero e Maierato – BCC del Vibonese",
         "marker": {
          "color": "#B6E880",
          "line": {
           "color": "DarkSlateGrey",
           "width": 2
          },
          "size": [
           27000,
           60000
          ],
          "sizemode": "area",
          "sizeref": 250,
          "symbol": "circle"
         },
         "mode": "markers",
         "name": "Credito Cooperativo di San Calogero e Maierato – BCC del Vibonese",
         "orientation": "v",
         "showlegend": true,
         "type": "scatter",
         "x": [
          null,
          null
         ],
         "xaxis": "x",
         "y": [
          27000,
          60000
         ],
         "yaxis": "y"
        },
        {
         "hovertemplate": "<b>%{hovertext}</b><br><br>Sanctioned_Entity=Se.Pa.Fin. Spa<br>Date of Sanction=%{x}<br>Sanctioned Amount (€)=%{marker.size}<extra></extra>",
         "hovertext": [
          "Se.Pa.Fin. Spa"
         ],
         "legendgroup": "Se.Pa.Fin. Spa",
         "marker": {
          "color": "#FF97FF",
          "line": {
           "color": "DarkSlateGrey",
           "width": 2
          },
          "size": [
           0
          ],
          "sizemode": "area",
          "sizeref": 250,
          "symbol": "circle"
         },
         "mode": "markers",
         "name": "Se.Pa.Fin. Spa",
         "orientation": "v",
         "showlegend": true,
         "type": "scatter",
         "x": [
          "2022-01-11T00:00:00"
         ],
         "xaxis": "x",
         "y": [
          0
         ],
         "yaxis": "y"
        },
        {
         "hovertemplate": "<b>%{hovertext}</b><br><br>Sanctioned_Entity=Summa Service Srl<br>Date of Sanction=%{x}<br>Sanctioned Amount (€)=%{marker.size}<extra></extra>",
         "hovertext": [
          "Summa Service Srl",
          "Summa Service Srl"
         ],
         "legendgroup": "Summa Service Srl",
         "marker": {
          "color": "#FECB52",
          "line": {
           "color": "DarkSlateGrey",
           "width": 2
          },
          "size": [
           60000,
           80000
          ],
          "sizemode": "area",
          "sizeref": 250,
          "symbol": "circle"
         },
         "mode": "markers",
         "name": "Summa Service Srl",
         "orientation": "v",
         "showlegend": true,
         "type": "scatter",
         "x": [
          "2021-07-30T00:00:00",
          "2021-07-30T00:00:00"
         ],
         "xaxis": "x",
         "y": [
          60000,
          80000
         ],
         "yaxis": "y"
        },
        {
         "hovertemplate": "<b>%{hovertext}</b><br><br>Sanctioned_Entity=Davis & Morgan Spa<br>Date of Sanction=%{x}<br>Sanctioned Amount (€)=%{marker.size}<extra></extra>",
         "hovertext": [
          "Davis & Morgan Spa",
          "Davis & Morgan Spa"
         ],
         "legendgroup": "Davis & Morgan Spa",
         "marker": {
          "color": "#636efa",
          "line": {
           "color": "DarkSlateGrey",
           "width": 2
          },
          "size": [
           50000,
           30000
          ],
          "sizemode": "area",
          "sizeref": 250,
          "symbol": "circle"
         },
         "mode": "markers",
         "name": "Davis & Morgan Spa",
         "orientation": "v",
         "showlegend": true,
         "type": "scatter",
         "x": [
          "2021-11-24T00:00:00",
          "2021-06-01T00:00:00"
         ],
         "xaxis": "x",
         "y": [
          50000,
          30000
         ],
         "yaxis": "y"
        },
        {
         "hovertemplate": "<b>%{hovertext}</b><br><br>Sanctioned_Entity=Banca del Catanzarese Credito Cooperativa Società Cooperativa<br>Date of Sanction=%{x}<br>Sanctioned Amount (€)=%{marker.size}<extra></extra>",
         "hovertext": [
          "Banca del Catanzarese Credito Cooperativa Società Cooperativa"
         ],
         "legendgroup": "Banca del Catanzarese Credito Cooperativa Società Cooperativa",
         "marker": {
          "color": "#EF553B",
          "line": {
           "color": "DarkSlateGrey",
           "width": 2
          },
          "size": [
           60000
          ],
          "sizemode": "area",
          "sizeref": 250,
          "symbol": "circle"
         },
         "mode": "markers",
         "name": "Banca del Catanzarese Credito Cooperativa Società Cooperativa",
         "orientation": "v",
         "showlegend": true,
         "type": "scatter",
         "x": [
          null
         ],
         "xaxis": "x",
         "y": [
          60000
         ],
         "yaxis": "y"
        },
        {
         "hovertemplate": "<b>%{hovertext}</b><br><br>Sanctioned_Entity=Ifinvest SpA<br>Date of Sanction=%{x}<br>Sanctioned Amount (€)=%{marker.size}<extra></extra>",
         "hovertext": [
          "Ifinvest SpA"
         ],
         "legendgroup": "Ifinvest SpA",
         "marker": {
          "color": "#00cc96",
          "line": {
           "color": "DarkSlateGrey",
           "width": 2
          },
          "size": [
           60000
          ],
          "sizemode": "area",
          "sizeref": 250,
          "symbol": "circle"
         },
         "mode": "markers",
         "name": "Ifinvest SpA",
         "orientation": "v",
         "showlegend": true,
         "type": "scatter",
         "x": [
          "2021-11-03T00:00:00"
         ],
         "xaxis": "x",
         "y": [
          60000
         ],
         "yaxis": "y"
        },
        {
         "hovertemplate": "<b>%{hovertext}</b><br><br>Sanctioned_Entity=Progetto SIM Spa (in administration)<br>Date of Sanction=%{x}<br>Sanctioned Amount (€)=%{marker.size}<extra></extra>",
         "hovertext": [
          "Progetto SIM Spa (in administration)"
         ],
         "legendgroup": "Progetto SIM Spa (in administration)",
         "marker": {
          "color": "#ab63fa",
          "line": {
           "color": "DarkSlateGrey",
           "width": 2
          },
          "size": [
           35260
          ],
          "sizemode": "area",
          "sizeref": 250,
          "symbol": "circle"
         },
         "mode": "markers",
         "name": "Progetto SIM Spa (in administration)",
         "orientation": "v",
         "showlegend": true,
         "type": "scatter",
         "x": [
          "2021-08-20T00:00:00"
         ],
         "xaxis": "x",
         "y": [
          35260
         ],
         "yaxis": "y"
        },
        {
         "hovertemplate": "<b>%{hovertext}</b><br><br>Sanctioned_Entity=Progetto SIM Spa (in amministrazione straordinaria)<br>Date of Sanction=%{x}<br>Sanctioned Amount (€)=%{marker.size}<extra></extra>",
         "hovertext": [
          "Progetto SIM Spa (in amministrazione straordinaria)"
         ],
         "legendgroup": "Progetto SIM Spa (in amministrazione straordinaria)",
         "marker": {
          "color": "#FFA15A",
          "line": {
           "color": "DarkSlateGrey",
           "width": 2
          },
          "size": [
           37000
          ],
          "sizemode": "area",
          "sizeref": 250,
          "symbol": "circle"
         },
         "mode": "markers",
         "name": "Progetto SIM Spa (in amministrazione straordinaria)",
         "orientation": "v",
         "showlegend": true,
         "type": "scatter",
         "x": [
          null
         ],
         "xaxis": "x",
         "y": [
          37000
         ],
         "yaxis": "y"
        },
        {
         "hovertemplate": "<b>%{hovertext}</b><br><br>Sanctioned_Entity=Invest Banca Spa in a.s.<br>Date of Sanction=%{x}<br>Sanctioned Amount (€)=%{marker.size}<extra></extra>",
         "hovertext": [
          "Invest Banca Spa in a.s.",
          "Invest Banca Spa in a.s.",
          "Invest Banca Spa in a.s."
         ],
         "legendgroup": "Invest Banca Spa in a.s.",
         "marker": {
          "color": "#19d3f3",
          "line": {
           "color": "DarkSlateGrey",
           "width": 2
          },
          "size": [
           30000,
           30000,
           40000
          ],
          "sizemode": "area",
          "sizeref": 250,
          "symbol": "circle"
         },
         "mode": "markers",
         "name": "Invest Banca Spa in a.s.",
         "orientation": "v",
         "showlegend": true,
         "type": "scatter",
         "x": [
          null,
          null,
          "2021-06-22T00:00:00"
         ],
         "xaxis": "x",
         "y": [
          30000,
          30000,
          40000
         ],
         "yaxis": "y"
        },
        {
         "hovertemplate": "<b>%{hovertext}</b><br><br>Sanctioned_Entity=Microcredito Italiano Spa (in liquidation)<br>Date of Sanction=%{x}<br>Sanctioned Amount (€)=%{marker.size}<extra></extra>",
         "hovertext": [
          "Microcredito Italiano Spa (in liquidation)"
         ],
         "legendgroup": "Microcredito Italiano Spa (in liquidation)",
         "marker": {
          "color": "#FF6692",
          "line": {
           "color": "DarkSlateGrey",
           "width": 2
          },
          "size": [
           10040
          ],
          "sizemode": "area",
          "sizeref": 250,
          "symbol": "circle"
         },
         "mode": "markers",
         "name": "Microcredito Italiano Spa (in liquidation)",
         "orientation": "v",
         "showlegend": true,
         "type": "scatter",
         "x": [
          null
         ],
         "xaxis": "x",
         "y": [
          10040
         ],
         "yaxis": "y"
        },
        {
         "hovertemplate": "<b>%{hovertext}</b><br><br>Sanctioned_Entity=Credito Etneo – Banca di Credito Cooperativo Soc. Coop<br>Date of Sanction=%{x}<br>Sanctioned Amount (€)=%{marker.size}<extra></extra>",
         "hovertext": [
          "Credito Etneo – Banca di Credito Cooperativo Soc. Coop"
         ],
         "legendgroup": "Credito Etneo – Banca di Credito Cooperativo Soc. Coop",
         "marker": {
          "color": "#B6E880",
          "line": {
           "color": "DarkSlateGrey",
           "width": 2
          },
          "size": [
           0
          ],
          "sizemode": "area",
          "sizeref": 250,
          "symbol": "circle"
         },
         "mode": "markers",
         "name": "Credito Etneo – Banca di Credito Cooperativo Soc. Coop",
         "orientation": "v",
         "showlegend": true,
         "type": "scatter",
         "x": [
          "2021-06-08T00:00:00"
         ],
         "xaxis": "x",
         "y": [
          0
         ],
         "yaxis": "y"
        },
        {
         "hovertemplate": "<b>%{hovertext}</b><br><br>Sanctioned_Entity=Microcredito Italiano Spa<br>Date of Sanction=%{x}<br>Sanctioned Amount (€)=%{marker.size}<extra></extra>",
         "hovertext": [
          "Microcredito Italiano Spa"
         ],
         "legendgroup": "Microcredito Italiano Spa",
         "marker": {
          "color": "#FF97FF",
          "line": {
           "color": "DarkSlateGrey",
           "width": 2
          },
          "size": [
           30000
          ],
          "sizemode": "area",
          "sizeref": 250,
          "symbol": "circle"
         },
         "mode": "markers",
         "name": "Microcredito Italiano Spa",
         "orientation": "v",
         "showlegend": true,
         "type": "scatter",
         "x": [
          null
         ],
         "xaxis": "x",
         "y": [
          30000
         ],
         "yaxis": "y"
        },
        {
         "hovertemplate": "<b>%{hovertext}</b><br><br>Sanctioned_Entity=BCC Credito Etneo CC SC<br>Date of Sanction=%{x}<br>Sanctioned Amount (€)=%{marker.size}<extra></extra>",
         "hovertext": [
          "BCC Credito Etneo CC SC"
         ],
         "legendgroup": "BCC Credito Etneo CC SC",
         "marker": {
          "color": "#FECB52",
          "line": {
           "color": "DarkSlateGrey",
           "width": 2
          },
          "size": [
           160000
          ],
          "sizemode": "area",
          "sizeref": 250,
          "symbol": "circle"
         },
         "mode": "markers",
         "name": "BCC Credito Etneo CC SC",
         "orientation": "v",
         "showlegend": true,
         "type": "scatter",
         "x": [
          null
         ],
         "xaxis": "x",
         "y": [
          160000
         ],
         "yaxis": "y"
        },
        {
         "hovertemplate": "<b>%{hovertext}</b><br><br>Sanctioned_Entity=BCC del Crotonese CC SC<br>Date of Sanction=%{x}<br>Sanctioned Amount (€)=%{marker.size}<extra></extra>",
         "hovertext": [
          "BCC del Crotonese CC SC"
         ],
         "legendgroup": "BCC del Crotonese CC SC",
         "marker": {
          "color": "#636efa",
          "line": {
           "color": "DarkSlateGrey",
           "width": 2
          },
          "size": [
           60000
          ],
          "sizemode": "area",
          "sizeref": 250,
          "symbol": "circle"
         },
         "mode": "markers",
         "name": "BCC del Crotonese CC SC",
         "orientation": "v",
         "showlegend": true,
         "type": "scatter",
         "x": [
          "2021-04-27T00:00:00"
         ],
         "xaxis": "x",
         "y": [
          60000
         ],
         "yaxis": "y"
        },
        {
         "hovertemplate": "<b>%{hovertext}</b><br><br>Sanctioned_Entity=Banca Popolare di Bari SpA<br>Date of Sanction=%{x}<br>Sanctioned Amount (€)=%{marker.size}<extra></extra>",
         "hovertext": [
          "Banca Popolare di Bari SpA",
          "Banca Popolare di Bari SpA",
          "Banca Popolare di Bari SpA"
         ],
         "legendgroup": "Banca Popolare di Bari SpA",
         "marker": {
          "color": "#EF553B",
          "line": {
           "color": "DarkSlateGrey",
           "width": 2
          },
          "size": [
           1500,
           35000,
           50000
          ],
          "sizemode": "area",
          "sizeref": 250,
          "symbol": "circle"
         },
         "mode": "markers",
         "name": "Banca Popolare di Bari SpA",
         "orientation": "v",
         "showlegend": true,
         "type": "scatter",
         "x": [
          null,
          "2021-05-04T00:00:00",
          "2021-04-20T00:00:00"
         ],
         "xaxis": "x",
         "y": [
          1500,
          35000,
          50000
         ],
         "yaxis": "y"
        },
        {
         "hovertemplate": "<b>%{hovertext}</b><br><br>Sanctioned_Entity=Banca di Credito Peloritano Spa (in amministrazione straordinaria)<br>Date of Sanction=%{x}<br>Sanctioned Amount (€)=%{marker.size}<extra></extra>",
         "hovertext": [
          "Banca di Credito Peloritano Spa (in amministrazione straordinaria)"
         ],
         "legendgroup": "Banca di Credito Peloritano Spa (in amministrazione straordinaria)",
         "marker": {
          "color": "#00cc96",
          "line": {
           "color": "DarkSlateGrey",
           "width": 2
          },
          "size": [
           100000
          ],
          "sizemode": "area",
          "sizeref": 250,
          "symbol": "circle"
         },
         "mode": "markers",
         "name": "Banca di Credito Peloritano Spa (in amministrazione straordinaria)",
         "orientation": "v",
         "showlegend": true,
         "type": "scatter",
         "x": [
          "2021-03-09T00:00:00"
         ],
         "xaxis": "x",
         "y": [
          100000
         ],
         "yaxis": "y"
        },
        {
         "hovertemplate": "<b>%{hovertext}</b><br><br>Sanctioned_Entity=Banca di Credito Peloritano Spa and specific individuals (names listed).<br>Date of Sanction=%{x}<br>Sanctioned Amount (€)=%{marker.size}<extra></extra>",
         "hovertext": [
          "Banca di Credito Peloritano Spa and specific individuals (names listed)."
         ],
         "legendgroup": "Banca di Credito Peloritano Spa and specific individuals (names listed).",
         "marker": {
          "color": "#ab63fa",
          "line": {
           "color": "DarkSlateGrey",
           "width": 2
          },
          "size": [
           0
          ],
          "sizemode": "area",
          "sizeref": 250,
          "symbol": "circle"
         },
         "mode": "markers",
         "name": "Banca di Credito Peloritano Spa and specific individuals (names listed).",
         "orientation": "v",
         "showlegend": true,
         "type": "scatter",
         "x": [
          null
         ],
         "xaxis": "x",
         "y": [
          0
         ],
         "yaxis": "y"
        },
        {
         "hovertemplate": "<b>%{hovertext}</b><br><br>Sanctioned_Entity=Banca di Credito Peloritano Spa<br>Date of Sanction=%{x}<br>Sanctioned Amount (€)=%{marker.size}<extra></extra>",
         "hovertext": [
          "Banca di Credito Peloritano Spa"
         ],
         "legendgroup": "Banca di Credito Peloritano Spa",
         "marker": {
          "color": "#FFA15A",
          "line": {
           "color": "DarkSlateGrey",
           "width": 2
          },
          "size": [
           30000
          ],
          "sizemode": "area",
          "sizeref": 250,
          "symbol": "circle"
         },
         "mode": "markers",
         "name": "Banca di Credito Peloritano Spa",
         "orientation": "v",
         "showlegend": true,
         "type": "scatter",
         "x": [
          null
         ],
         "xaxis": "x",
         "y": [
          30000
         ],
         "yaxis": "y"
        },
        {
         "hovertemplate": "<b>%{hovertext}</b><br><br>Sanctioned_Entity=Banca di Credito Peloritano SpA (in amministrazione straordinaria)<br>Date of Sanction=%{x}<br>Sanctioned Amount (€)=%{marker.size}<extra></extra>",
         "hovertext": [
          "Banca di Credito Peloritano SpA (in amministrazione straordinaria)"
         ],
         "legendgroup": "Banca di Credito Peloritano SpA (in amministrazione straordinaria)",
         "marker": {
          "color": "#19d3f3",
          "line": {
           "color": "DarkSlateGrey",
           "width": 2
          },
          "size": [
           100000
          ],
          "sizemode": "area",
          "sizeref": 250,
          "symbol": "circle"
         },
         "mode": "markers",
         "name": "Banca di Credito Peloritano SpA (in amministrazione straordinaria)",
         "orientation": "v",
         "showlegend": true,
         "type": "scatter",
         "x": [
          "2021-03-09T00:00:00"
         ],
         "xaxis": "x",
         "y": [
          100000
         ],
         "yaxis": "y"
        },
        {
         "hovertemplate": "<b>%{hovertext}</b><br><br>Sanctioned_Entity=Advam Partners SGR SpA (in liquidation coatta amministrativa)<br>Date of Sanction=%{x}<br>Sanctioned Amount (€)=%{marker.size}<extra></extra>",
         "hovertext": [
          "Advam Partners SGR SpA (in liquidation coatta amministrativa)"
         ],
         "legendgroup": "Advam Partners SGR SpA (in liquidation coatta amministrativa)",
         "marker": {
          "color": "#FF6692",
          "line": {
           "color": "DarkSlateGrey",
           "width": 2
          },
          "size": [
           136000
          ],
          "sizemode": "area",
          "sizeref": 250,
          "symbol": "circle"
         },
         "mode": "markers",
         "name": "Advam Partners SGR SpA (in liquidation coatta amministrativa)",
         "orientation": "v",
         "showlegend": true,
         "type": "scatter",
         "x": [
          null
         ],
         "xaxis": "x",
         "y": [
          136000
         ],
         "yaxis": "y"
        },
        {
         "hovertemplate": "<b>%{hovertext}</b><br><br>Sanctioned_Entity=Bancadvice.it Sas di Mazzone A & C<br>Date of Sanction=%{x}<br>Sanctioned Amount (€)=%{marker.size}<extra></extra>",
         "hovertext": [
          "Bancadvice.it Sas di Mazzone A & C"
         ],
         "legendgroup": "Bancadvice.it Sas di Mazzone A & C",
         "marker": {
          "color": "#B6E880",
          "line": {
           "color": "DarkSlateGrey",
           "width": 2
          },
          "size": [
           30000
          ],
          "sizemode": "area",
          "sizeref": 250,
          "symbol": "circle"
         },
         "mode": "markers",
         "name": "Bancadvice.it Sas di Mazzone A & C",
         "orientation": "v",
         "showlegend": true,
         "type": "scatter",
         "x": [
          "2021-06-22T00:00:00"
         ],
         "xaxis": "x",
         "y": [
          30000
         ],
         "yaxis": "y"
        },
        {
         "hovertemplate": "<b>%{hovertext}</b><br><br>Sanctioned_Entity=BCC G. Toniolo di San Cataldo soc. coop.<br>Date of Sanction=%{x}<br>Sanctioned Amount (€)=%{marker.size}<extra></extra>",
         "hovertext": [
          "BCC G. Toniolo di San Cataldo soc. coop."
         ],
         "legendgroup": "BCC G. Toniolo di San Cataldo soc. coop.",
         "marker": {
          "color": "#FF97FF",
          "line": {
           "color": "DarkSlateGrey",
           "width": 2
          },
          "size": [
           30000
          ],
          "sizemode": "area",
          "sizeref": 250,
          "symbol": "circle"
         },
         "mode": "markers",
         "name": "BCC G. Toniolo di San Cataldo soc. coop.",
         "orientation": "v",
         "showlegend": true,
         "type": "scatter",
         "x": [
          "2021-05-11T00:00:00"
         ],
         "xaxis": "x",
         "y": [
          30000
         ],
         "yaxis": "y"
        },
        {
         "hovertemplate": "<b>%{hovertext}</b><br><br>Sanctioned_Entity=Diners Club Italia Srl<br>Date of Sanction=%{x}<br>Sanctioned Amount (€)=%{marker.size}<extra></extra>",
         "hovertext": [
          "Diners Club Italia Srl"
         ],
         "legendgroup": "Diners Club Italia Srl",
         "marker": {
          "color": "#FECB52",
          "line": {
           "color": "DarkSlateGrey",
           "width": 2
          },
          "size": [
           30000
          ],
          "sizemode": "area",
          "sizeref": 250,
          "symbol": "circle"
         },
         "mode": "markers",
         "name": "Diners Club Italia Srl",
         "orientation": "v",
         "showlegend": true,
         "type": "scatter",
         "x": [
          "2021-05-25T00:00:00"
         ],
         "xaxis": "x",
         "y": [
          30000
         ],
         "yaxis": "y"
        },
        {
         "hovertemplate": "<b>%{hovertext}</b><br><br>Sanctioned_Entity=Western Union Payments Services Ireland Ltd<br>Date of Sanction=%{x}<br>Sanctioned Amount (€)=%{marker.size}<extra></extra>",
         "hovertext": [
          "Western Union Payments Services Ireland Ltd"
         ],
         "legendgroup": "Western Union Payments Services Ireland Ltd",
         "marker": {
          "color": "#636efa",
          "line": {
           "color": "DarkSlateGrey",
           "width": 2
          },
          "size": [
           0
          ],
          "sizemode": "area",
          "sizeref": 250,
          "symbol": "circle"
         },
         "mode": "markers",
         "name": "Western Union Payments Services Ireland Ltd",
         "orientation": "v",
         "showlegend": true,
         "type": "scatter",
         "x": [
          null
         ],
         "xaxis": "x",
         "y": [
          0
         ],
         "yaxis": "y"
        },
        {
         "hovertemplate": "<b>%{hovertext}</b><br><br>Sanctioned_Entity=Banca Monte dei Paschi di Siena SpA<br>Date of Sanction=%{x}<br>Sanctioned Amount (€)=%{marker.size}<extra></extra>",
         "hovertext": [
          "Banca Monte dei Paschi di Siena SpA"
         ],
         "legendgroup": "Banca Monte dei Paschi di Siena SpA",
         "marker": {
          "color": "#EF553B",
          "line": {
           "color": "DarkSlateGrey",
           "width": 2
          },
          "size": [
           2900
          ],
          "sizemode": "area",
          "sizeref": 250,
          "symbol": "circle"
         },
         "mode": "markers",
         "name": "Banca Monte dei Paschi di Siena SpA",
         "orientation": "v",
         "showlegend": true,
         "type": "scatter",
         "x": [
          null
         ],
         "xaxis": "x",
         "y": [
          2900
         ],
         "yaxis": "y"
        },
        {
         "hovertemplate": "<b>%{hovertext}</b><br><br>Sanctioned_Entity=Dynamica Retail Spa<br>Date of Sanction=%{x}<br>Sanctioned Amount (€)=%{marker.size}<extra></extra>",
         "hovertext": [
          "Dynamica Retail Spa"
         ],
         "legendgroup": "Dynamica Retail Spa",
         "marker": {
          "color": "#00cc96",
          "line": {
           "color": "DarkSlateGrey",
           "width": 2
          },
          "size": [
           30000
          ],
          "sizemode": "area",
          "sizeref": 250,
          "symbol": "circle"
         },
         "mode": "markers",
         "name": "Dynamica Retail Spa",
         "orientation": "v",
         "showlegend": true,
         "type": "scatter",
         "x": [
          "2021-04-06T00:00:00"
         ],
         "xaxis": "x",
         "y": [
          30000
         ],
         "yaxis": "y"
        },
        {
         "hovertemplate": "<b>%{hovertext}</b><br><br>Sanctioned_Entity=Serenissima SGR SpA<br>Date of Sanction=%{x}<br>Sanctioned Amount (€)=%{marker.size}<extra></extra>",
         "hovertext": [
          "Serenissima SGR SpA"
         ],
         "legendgroup": "Serenissima SGR SpA",
         "marker": {
          "color": "#ab63fa",
          "line": {
           "color": "DarkSlateGrey",
           "width": 2
          },
          "size": [
           112
          ],
          "sizemode": "area",
          "sizeref": 250,
          "symbol": "circle"
         },
         "mode": "markers",
         "name": "Serenissima SGR SpA",
         "orientation": "v",
         "showlegend": true,
         "type": "scatter",
         "x": [
          "2020-11-10T00:00:00"
         ],
         "xaxis": "x",
         "y": [
          112
         ],
         "yaxis": "y"
        },
        {
         "hovertemplate": "<b>%{hovertext}</b><br><br>Sanctioned_Entity=Cassa Raiffeisen Schlern-Rosengarten (società cooperativa)<br>Date of Sanction=%{x}<br>Sanctioned Amount (€)=%{marker.size}<extra></extra>",
         "hovertext": [
          "Cassa Raiffeisen Schlern-Rosengarten (società cooperativa)"
         ],
         "legendgroup": "Cassa Raiffeisen Schlern-Rosengarten (società cooperativa)",
         "marker": {
          "color": "#FFA15A",
          "line": {
           "color": "DarkSlateGrey",
           "width": 2
          },
          "size": [
           30000
          ],
          "sizemode": "area",
          "sizeref": 250,
          "symbol": "circle"
         },
         "mode": "markers",
         "name": "Cassa Raiffeisen Schlern-Rosengarten (società cooperativa)",
         "orientation": "v",
         "showlegend": true,
         "type": "scatter",
         "x": [
          "2021-03-30T00:00:00"
         ],
         "xaxis": "x",
         "y": [
          30000
         ],
         "yaxis": "y"
        },
        {
         "hovertemplate": "<b>%{hovertext}</b><br><br>Sanctioned_Entity=Finanza & Factor Spa (now in liquidation)<br>Date of Sanction=%{x}<br>Sanctioned Amount (€)=%{marker.size}<extra></extra>",
         "hovertext": [
          "Finanza & Factor Spa (now in liquidation)",
          "Finanza & Factor Spa (now in liquidation)"
         ],
         "legendgroup": "Finanza & Factor Spa (now in liquidation)",
         "marker": {
          "color": "#19d3f3",
          "line": {
           "color": "DarkSlateGrey",
           "width": 2
          },
          "size": [
           51000,
           51102
          ],
          "sizemode": "area",
          "sizeref": 250,
          "symbol": "circle"
         },
         "mode": "markers",
         "name": "Finanza & Factor Spa (now in liquidation)",
         "orientation": "v",
         "showlegend": true,
         "type": "scatter",
         "x": [
          "2021-03-23T00:00:00",
          "2021-03-23T00:00:00"
         ],
         "xaxis": "x",
         "y": [
          51000,
          51102
         ],
         "yaxis": "y"
        },
        {
         "hovertemplate": "<b>%{hovertext}</b><br><br>Sanctioned_Entity=Banca Popolare di Cortona SCPA<br>Date of Sanction=%{x}<br>Sanctioned Amount (€)=%{marker.size}<extra></extra>",
         "hovertext": [
          "Banca Popolare di Cortona SCPA",
          "Banca Popolare di Cortona SCPA"
         ],
         "legendgroup": "Banca Popolare di Cortona SCPA",
         "marker": {
          "color": "#FF6692",
          "line": {
           "color": "DarkSlateGrey",
           "width": 2
          },
          "size": [
           30000,
           30000
          ],
          "sizemode": "area",
          "sizeref": 250,
          "symbol": "circle"
         },
         "mode": "markers",
         "name": "Banca Popolare di Cortona SCPA",
         "orientation": "v",
         "showlegend": true,
         "type": "scatter",
         "x": [
          "2021-03-16T00:00:00",
          "2021-03-16T00:00:00"
         ],
         "xaxis": "x",
         "y": [
          30000,
          30000
         ],
         "yaxis": "y"
        },
        {
         "hovertemplate": "<b>%{hovertext}</b><br><br>Sanctioned_Entity=Banca del Piemonte SpA<br>Date of Sanction=%{x}<br>Sanctioned Amount (€)=%{marker.size}<extra></extra>",
         "hovertext": [
          "Banca del Piemonte SpA"
         ],
         "legendgroup": "Banca del Piemonte SpA",
         "marker": {
          "color": "#B6E880",
          "line": {
           "color": "DarkSlateGrey",
           "width": 2
          },
          "size": [
           30000
          ],
          "sizemode": "area",
          "sizeref": 250,
          "symbol": "circle"
         },
         "mode": "markers",
         "name": "Banca del Piemonte SpA",
         "orientation": "v",
         "showlegend": true,
         "type": "scatter",
         "x": [
          "2020-10-27T00:00:00"
         ],
         "xaxis": "x",
         "y": [
          30000
         ],
         "yaxis": "y"
        },
        {
         "hovertemplate": "<b>%{hovertext}</b><br><br>Sanctioned_Entity=Serenissima SGR Spa<br>Date of Sanction=%{x}<br>Sanctioned Amount (€)=%{marker.size}<extra></extra>",
         "hovertext": [
          "Serenissima SGR Spa"
         ],
         "legendgroup": "Serenissima SGR Spa",
         "marker": {
          "color": "#FF97FF",
          "line": {
           "color": "DarkSlateGrey",
           "width": 2
          },
          "size": [
           30000
          ],
          "sizemode": "area",
          "sizeref": 250,
          "symbol": "circle"
         },
         "mode": "markers",
         "name": "Serenissima SGR Spa",
         "orientation": "v",
         "showlegend": true,
         "type": "scatter",
         "x": [
          "2020-11-10T00:00:00"
         ],
         "xaxis": "x",
         "y": [
          30000
         ],
         "yaxis": "y"
        },
        {
         "hovertemplate": "<b>%{hovertext}</b><br><br>Sanctioned_Entity=Ipagoo LLP<br>Date of Sanction=%{x}<br>Sanctioned Amount (€)=%{marker.size}<extra></extra>",
         "hovertext": [
          "Ipagoo LLP"
         ],
         "legendgroup": "Ipagoo LLP",
         "marker": {
          "color": "#FECB52",
          "line": {
           "color": "DarkSlateGrey",
           "width": 2
          },
          "size": [
           30000
          ],
          "sizemode": "area",
          "sizeref": 250,
          "symbol": "circle"
         },
         "mode": "markers",
         "name": "Ipagoo LLP",
         "orientation": "v",
         "showlegend": true,
         "type": "scatter",
         "x": [
          "2020-11-17T00:00:00"
         ],
         "xaxis": "x",
         "y": [
          30000
         ],
         "yaxis": "y"
        },
        {
         "hovertemplate": "<b>%{hovertext}</b><br><br>Sanctioned_Entity=Invest Banca Spa (now in administration)<br>Date of Sanction=%{x}<br>Sanctioned Amount (€)=%{marker.size}<extra></extra>",
         "hovertext": [
          "Invest Banca Spa (now in administration)"
         ],
         "legendgroup": "Invest Banca Spa (now in administration)",
         "marker": {
          "color": "#636efa",
          "line": {
           "color": "DarkSlateGrey",
           "width": 2
          },
          "size": [
           30000
          ],
          "sizemode": "area",
          "sizeref": 250,
          "symbol": "circle"
         },
         "mode": "markers",
         "name": "Invest Banca Spa (now in administration)",
         "orientation": "v",
         "showlegend": true,
         "type": "scatter",
         "x": [
          null
         ],
         "xaxis": "x",
         "y": [
          30000
         ],
         "yaxis": "y"
        },
        {
         "hovertemplate": "<b>%{hovertext}</b><br><br>Sanctioned_Entity=Giotto SIM Spa (ora Giotto Cellino Sim Spa)<br>Date of Sanction=%{x}<br>Sanctioned Amount (€)=%{marker.size}<extra></extra>",
         "hovertext": [
          "Giotto SIM Spa (ora Giotto Cellino Sim Spa)"
         ],
         "legendgroup": "Giotto SIM Spa (ora Giotto Cellino Sim Spa)",
         "marker": {
          "color": "#EF553B",
          "line": {
           "color": "DarkSlateGrey",
           "width": 2
          },
          "size": [
           30000
          ],
          "sizemode": "area",
          "sizeref": 250,
          "symbol": "circle"
         },
         "mode": "markers",
         "name": "Giotto SIM Spa (ora Giotto Cellino Sim Spa)",
         "orientation": "v",
         "showlegend": true,
         "type": "scatter",
         "x": [
          "2020-12-15T00:00:00"
         ],
         "xaxis": "x",
         "y": [
          30000
         ],
         "yaxis": "y"
        },
        {
         "hovertemplate": "<b>%{hovertext}</b><br><br>Sanctioned_Entity=Cordusio SIM Spa<br>Date of Sanction=%{x}<br>Sanctioned Amount (€)=%{marker.size}<extra></extra>",
         "hovertext": [
          "Cordusio SIM Spa"
         ],
         "legendgroup": "Cordusio SIM Spa",
         "marker": {
          "color": "#00cc96",
          "line": {
           "color": "DarkSlateGrey",
           "width": 2
          },
          "size": [
           30000
          ],
          "sizemode": "area",
          "sizeref": 250,
          "symbol": "circle"
         },
         "mode": "markers",
         "name": "Cordusio SIM Spa",
         "orientation": "v",
         "showlegend": true,
         "type": "scatter",
         "x": [
          "2020-12-22T00:00:00"
         ],
         "xaxis": "x",
         "y": [
          30000
         ],
         "yaxis": "y"
        },
        {
         "hovertemplate": "<b>%{hovertext}</b><br><br>Sanctioned_Entity=Société Générale Securities Services SpA<br>Date of Sanction=%{x}<br>Sanctioned Amount (€)=%{marker.size}<extra></extra>",
         "hovertext": [
          "Société Générale Securities Services SpA"
         ],
         "legendgroup": "Société Générale Securities Services SpA",
         "marker": {
          "color": "#ab63fa",
          "line": {
           "color": "DarkSlateGrey",
           "width": 2
          },
          "size": [
           55000
          ],
          "sizemode": "area",
          "sizeref": 250,
          "symbol": "circle"
         },
         "mode": "markers",
         "name": "Société Générale Securities Services SpA",
         "orientation": "v",
         "showlegend": true,
         "type": "scatter",
         "x": [
          "2021-01-19T00:00:00"
         ],
         "xaxis": "x",
         "y": [
          55000
         ],
         "yaxis": "y"
        },
        {
         "hovertemplate": "<b>%{hovertext}</b><br><br>Sanctioned_Entity=Istituto Finanziario Europeo Spa<br>Date of Sanction=%{x}<br>Sanctioned Amount (€)=%{marker.size}<extra></extra>",
         "hovertext": [
          "Istituto Finanziario Europeo Spa",
          "Istituto Finanziario Europeo Spa"
         ],
         "legendgroup": "Istituto Finanziario Europeo Spa",
         "marker": {
          "color": "#FFA15A",
          "line": {
           "color": "DarkSlateGrey",
           "width": 2
          },
          "size": [
           37000,
           22000
          ],
          "sizemode": "area",
          "sizeref": 250,
          "symbol": "circle"
         },
         "mode": "markers",
         "name": "Istituto Finanziario Europeo Spa",
         "orientation": "v",
         "showlegend": true,
         "type": "scatter",
         "x": [
          "2020-07-21T00:00:00",
          "2020-07-21T00:00:00"
         ],
         "xaxis": "x",
         "y": [
          37000,
          22000
         ],
         "yaxis": "y"
        },
        {
         "hovertemplate": "<b>%{hovertext}</b><br><br>Sanctioned_Entity=Namira SGR SpA<br>Date of Sanction=%{x}<br>Sanctioned Amount (€)=%{marker.size}<extra></extra>",
         "hovertext": [
          "Namira SGR SpA"
         ],
         "legendgroup": "Namira SGR SpA",
         "marker": {
          "color": "#19d3f3",
          "line": {
           "color": "DarkSlateGrey",
           "width": 2
          },
          "size": [
           60000
          ],
          "sizemode": "area",
          "sizeref": 250,
          "symbol": "circle"
         },
         "mode": "markers",
         "name": "Namira SGR SpA",
         "orientation": "v",
         "showlegend": true,
         "type": "scatter",
         "x": [
          "2020-10-06T00:00:00"
         ],
         "xaxis": "x",
         "y": [
          60000
         ],
         "yaxis": "y"
        },
        {
         "hovertemplate": "<b>%{hovertext}</b><br><br>Sanctioned_Entity=Namira SGR Spa<br>Date of Sanction=%{x}<br>Sanctioned Amount (€)=%{marker.size}<extra></extra>",
         "hovertext": [
          "Namira SGR Spa"
         ],
         "legendgroup": "Namira SGR Spa",
         "marker": {
          "color": "#FF6692",
          "line": {
           "color": "DarkSlateGrey",
           "width": 2
          },
          "size": [
           30000
          ],
          "sizemode": "area",
          "sizeref": 250,
          "symbol": "circle"
         },
         "mode": "markers",
         "name": "Namira SGR Spa",
         "orientation": "v",
         "showlegend": true,
         "type": "scatter",
         "x": [
          "2020-10-06T00:00:00"
         ],
         "xaxis": "x",
         "y": [
          30000
         ],
         "yaxis": "y"
        },
        {
         "hovertemplate": "<b>%{hovertext}</b><br><br>Sanctioned_Entity=IRFIS – Finanziaria per lo Sviluppo della Sicilia Spa<br>Date of Sanction=%{x}<br>Sanctioned Amount (€)=%{marker.size}<extra></extra>",
         "hovertext": [
          "IRFIS – Finanziaria per lo Sviluppo della Sicilia Spa"
         ],
         "legendgroup": "IRFIS – Finanziaria per lo Sviluppo della Sicilia Spa",
         "marker": {
          "color": "#B6E880",
          "line": {
           "color": "DarkSlateGrey",
           "width": 2
          },
          "size": [
           30000
          ],
          "sizemode": "area",
          "sizeref": 250,
          "symbol": "circle"
         },
         "mode": "markers",
         "name": "IRFIS – Finanziaria per lo Sviluppo della Sicilia Spa",
         "orientation": "v",
         "showlegend": true,
         "type": "scatter",
         "x": [
          "2020-10-13T00:00:00"
         ],
         "xaxis": "x",
         "y": [
          30000
         ],
         "yaxis": "y"
        },
        {
         "hovertemplate": "<b>%{hovertext}</b><br><br>Sanctioned_Entity=Races Finanziaria Srl (in liquidation)<br>Date of Sanction=%{x}<br>Sanctioned Amount (€)=%{marker.size}<extra></extra>",
         "hovertext": [
          "Races Finanziaria Srl (in liquidation)"
         ],
         "legendgroup": "Races Finanziaria Srl (in liquidation)",
         "marker": {
          "color": "#FF97FF",
          "line": {
           "color": "DarkSlateGrey",
           "width": 2
          },
          "size": [
           30000
          ],
          "sizemode": "area",
          "sizeref": 250,
          "symbol": "circle"
         },
         "mode": "markers",
         "name": "Races Finanziaria Srl (in liquidation)",
         "orientation": "v",
         "showlegend": true,
         "type": "scatter",
         "x": [
          "2020-10-20T00:00:00"
         ],
         "xaxis": "x",
         "y": [
          30000
         ],
         "yaxis": "y"
        },
        {
         "hovertemplate": "<b>%{hovertext}</b><br><br>Sanctioned_Entity=Banca Popolare di Puglia e Basilicata Scpa<br>Date of Sanction=%{x}<br>Sanctioned Amount (€)=%{marker.size}<extra></extra>",
         "hovertext": [
          "Banca Popolare di Puglia e Basilicata Scpa"
         ],
         "legendgroup": "Banca Popolare di Puglia e Basilicata Scpa",
         "marker": {
          "color": "#FECB52",
          "line": {
           "color": "DarkSlateGrey",
           "width": 2
          },
          "size": [
           30000
          ],
          "sizemode": "area",
          "sizeref": 250,
          "symbol": "circle"
         },
         "mode": "markers",
         "name": "Banca Popolare di Puglia e Basilicata Scpa",
         "orientation": "v",
         "showlegend": true,
         "type": "scatter",
         "x": [
          "2020-10-27T00:00:00"
         ],
         "xaxis": "x",
         "y": [
          30000
         ],
         "yaxis": "y"
        },
        {
         "hovertemplate": "<b>%{hovertext}</b><br><br>Sanctioned_Entity=BNP Paribas Real Estate Investment Management Italy SGR<br>Date of Sanction=%{x}<br>Sanctioned Amount (€)=%{marker.size}<extra></extra>",
         "hovertext": [
          "BNP Paribas Real Estate Investment Management Italy SGR",
          "BNP Paribas Real Estate Investment Management Italy SGR"
         ],
         "legendgroup": "BNP Paribas Real Estate Investment Management Italy SGR",
         "marker": {
          "color": "#636efa",
          "line": {
           "color": "DarkSlateGrey",
           "width": 2
          },
          "size": [
           41000,
           73000
          ],
          "sizemode": "area",
          "sizeref": 250,
          "symbol": "circle"
         },
         "mode": "markers",
         "name": "BNP Paribas Real Estate Investment Management Italy SGR",
         "orientation": "v",
         "showlegend": true,
         "type": "scatter",
         "x": [
          "2020-09-29T00:00:00",
          "2020-09-29T00:00:00"
         ],
         "xaxis": "x",
         "y": [
          41000,
          73000
         ],
         "yaxis": "y"
        },
        {
         "hovertemplate": "<b>%{hovertext}</b><br><br>Sanctioned_Entity=Banca Popolare dell’Alto Adige Spa<br>Date of Sanction=%{x}<br>Sanctioned Amount (€)=%{marker.size}<extra></extra>",
         "hovertext": [
          "Banca Popolare dell’Alto Adige Spa"
         ],
         "legendgroup": "Banca Popolare dell’Alto Adige Spa",
         "marker": {
          "color": "#EF553B",
          "line": {
           "color": "DarkSlateGrey",
           "width": 2
          },
          "size": [
           145000
          ],
          "sizemode": "area",
          "sizeref": 250,
          "symbol": "circle"
         },
         "mode": "markers",
         "name": "Banca Popolare dell’Alto Adige Spa",
         "orientation": "v",
         "showlegend": true,
         "type": "scatter",
         "x": [
          "2020-09-22T00:00:00"
         ],
         "xaxis": "x",
         "y": [
          145000
         ],
         "yaxis": "y"
        },
        {
         "hovertemplate": "<b>%{hovertext}</b><br><br>Sanctioned_Entity=Banca Popolare del Cassinate S.p.A.<br>Date of Sanction=%{x}<br>Sanctioned Amount (€)=%{marker.size}<extra></extra>",
         "hovertext": [
          "Banca Popolare del Cassinate S.p.A."
         ],
         "legendgroup": "Banca Popolare del Cassinate S.p.A.",
         "marker": {
          "color": "#00cc96",
          "line": {
           "color": "DarkSlateGrey",
           "width": 2
          },
          "size": [
           30000
          ],
          "sizemode": "area",
          "sizeref": 250,
          "symbol": "circle"
         },
         "mode": "markers",
         "name": "Banca Popolare del Cassinate S.p.A.",
         "orientation": "v",
         "showlegend": true,
         "type": "scatter",
         "x": [
          null
         ],
         "xaxis": "x",
         "y": [
          30000
         ],
         "yaxis": "y"
        },
        {
         "hovertemplate": "<b>%{hovertext}</b><br><br>Sanctioned_Entity=Attijariwafa Bank Europe, Succursale italiana<br>Date of Sanction=%{x}<br>Sanctioned Amount (€)=%{marker.size}<extra></extra>",
         "hovertext": [
          "Attijariwafa Bank Europe, Succursale italiana",
          "Attijariwafa Bank Europe, Succursale italiana"
         ],
         "legendgroup": "Attijariwafa Bank Europe, Succursale italiana",
         "marker": {
          "color": "#ab63fa",
          "line": {
           "color": "DarkSlateGrey",
           "width": 2
          },
          "size": [
           30000,
           35000
          ],
          "sizemode": "area",
          "sizeref": 250,
          "symbol": "circle"
         },
         "mode": "markers",
         "name": "Attijariwafa Bank Europe, Succursale italiana",
         "orientation": "v",
         "showlegend": true,
         "type": "scatter",
         "x": [
          "2020-09-08T00:00:00",
          "2020-09-08T00:00:00"
         ],
         "xaxis": "x",
         "y": [
          30000,
          35000
         ],
         "yaxis": "y"
        },
        {
         "hovertemplate": "<b>%{hovertext}</b><br><br>Sanctioned_Entity=Advam Partners SGR Spa<br>Date of Sanction=%{x}<br>Sanctioned Amount (€)=%{marker.size}<extra></extra>",
         "hovertext": [
          "Advam Partners SGR Spa",
          "Advam Partners SGR Spa"
         ],
         "legendgroup": "Advam Partners SGR Spa",
         "marker": {
          "color": "#FFA15A",
          "line": {
           "color": "DarkSlateGrey",
           "width": 2
          },
          "size": [
           70000,
           30000
          ],
          "sizemode": "area",
          "sizeref": 250,
          "symbol": "circle"
         },
         "mode": "markers",
         "name": "Advam Partners SGR Spa",
         "orientation": "v",
         "showlegend": true,
         "type": "scatter",
         "x": [
          "2020-02-11T00:00:00",
          "2020-02-11T00:00:00"
         ],
         "xaxis": "x",
         "y": [
          70000,
          30000
         ],
         "yaxis": "y"
        },
        {
         "hovertemplate": "<b>%{hovertext}</b><br><br>Sanctioned_Entity=Advance Sim Spa (in liquidation coatta amministrativa)<br>Date of Sanction=%{x}<br>Sanctioned Amount (€)=%{marker.size}<extra></extra>",
         "hovertext": [
          "Advance Sim Spa (in liquidation coatta amministrativa)"
         ],
         "legendgroup": "Advance Sim Spa (in liquidation coatta amministrativa)",
         "marker": {
          "color": "#19d3f3",
          "line": {
           "color": "DarkSlateGrey",
           "width": 2
          },
          "size": [
           40000
          ],
          "sizemode": "area",
          "sizeref": 250,
          "symbol": "circle"
         },
         "mode": "markers",
         "name": "Advance Sim Spa (in liquidation coatta amministrativa)",
         "orientation": "v",
         "showlegend": true,
         "type": "scatter",
         "x": [
          "2020-06-23T00:00:00"
         ],
         "xaxis": "x",
         "y": [
          40000
         ],
         "yaxis": "y"
        },
        {
         "hovertemplate": "<b>%{hovertext}</b><br><br>Sanctioned_Entity=Banca Intermobiliare di Investimenti e Gestioni SpA<br>Date of Sanction=%{x}<br>Sanctioned Amount (€)=%{marker.size}<extra></extra>",
         "hovertext": [
          "Banca Intermobiliare di Investimenti e Gestioni SpA"
         ],
         "legendgroup": "Banca Intermobiliare di Investimenti e Gestioni SpA",
         "marker": {
          "color": "#FF6692",
          "line": {
           "color": "DarkSlateGrey",
           "width": 2
          },
          "size": [
           30
          ],
          "sizemode": "area",
          "sizeref": 250,
          "symbol": "circle"
         },
         "mode": "markers",
         "name": "Banca Intermobiliare di Investimenti e Gestioni SpA",
         "orientation": "v",
         "showlegend": true,
         "type": "scatter",
         "x": [
          "2020-06-30T00:00:00"
         ],
         "xaxis": "x",
         "y": [
          30
         ],
         "yaxis": "y"
        },
        {
         "hovertemplate": "<b>%{hovertext}</b><br><br>Sanctioned_Entity=Banca Popolare di Bari Scpa in a.s.<br>Date of Sanction=%{x}<br>Sanctioned Amount (€)=%{marker.size}<extra></extra>",
         "hovertext": [
          "Banca Popolare di Bari Scpa in a.s."
         ],
         "legendgroup": "Banca Popolare di Bari Scpa in a.s.",
         "marker": {
          "color": "#B6E880",
          "line": {
           "color": "DarkSlateGrey",
           "width": 2
          },
          "size": [
           100000
          ],
          "sizemode": "area",
          "sizeref": 250,
          "symbol": "circle"
         },
         "mode": "markers",
         "name": "Banca Popolare di Bari Scpa in a.s.",
         "orientation": "v",
         "showlegend": true,
         "type": "scatter",
         "x": [
          "2020-07-06T00:00:00"
         ],
         "xaxis": "x",
         "y": [
          100000
         ],
         "yaxis": "y"
        },
        {
         "hovertemplate": "<b>%{hovertext}</b><br><br>Sanctioned_Entity=Banca Popolare di Bari S.p.A. in a.s.<br>Date of Sanction=%{x}<br>Sanctioned Amount (€)=%{marker.size}<extra></extra>",
         "hovertext": [
          "Banca Popolare di Bari S.p.A. in a.s."
         ],
         "legendgroup": "Banca Popolare di Bari S.p.A. in a.s.",
         "marker": {
          "color": "#FF97FF",
          "line": {
           "color": "DarkSlateGrey",
           "width": 2
          },
          "size": [
           186104
          ],
          "sizemode": "area",
          "sizeref": 250,
          "symbol": "circle"
         },
         "mode": "markers",
         "name": "Banca Popolare di Bari S.p.A. in a.s.",
         "orientation": "v",
         "showlegend": true,
         "type": "scatter",
         "x": [
          "2020-07-06T00:00:00"
         ],
         "xaxis": "x",
         "y": [
          186104
         ],
         "yaxis": "y"
        },
        {
         "hovertemplate": "<b>%{hovertext}</b><br><br>Sanctioned_Entity=Cassa Lombarda SpA<br>Date of Sanction=%{x}<br>Sanctioned Amount (€)=%{marker.size}<extra></extra>",
         "hovertext": [
          "Cassa Lombarda SpA",
          "Cassa Lombarda SpA"
         ],
         "legendgroup": "Cassa Lombarda SpA",
         "marker": {
          "color": "#FECB52",
          "line": {
           "color": "DarkSlateGrey",
           "width": 2
          },
          "size": [
           60000,
           30000
          ],
          "sizemode": "area",
          "sizeref": 250,
          "symbol": "circle"
         },
         "mode": "markers",
         "name": "Cassa Lombarda SpA",
         "orientation": "v",
         "showlegend": true,
         "type": "scatter",
         "x": [
          "2020-07-28T00:00:00",
          "2020-07-28T00:00:00"
         ],
         "xaxis": "x",
         "y": [
          60000,
          30000
         ],
         "yaxis": "y"
        },
        {
         "hovertemplate": "<b>%{hovertext}</b><br><br>Sanctioned_Entity=UBS Europe SE – Succursale Italia<br>Date of Sanction=%{x}<br>Sanctioned Amount (€)=%{marker.size}<extra></extra>",
         "hovertext": [
          "UBS Europe SE – Succursale Italia"
         ],
         "legendgroup": "UBS Europe SE – Succursale Italia",
         "marker": {
          "color": "#636efa",
          "line": {
           "color": "DarkSlateGrey",
           "width": 2
          },
          "size": [
           1488
          ],
          "sizemode": "area",
          "sizeref": 250,
          "symbol": "circle"
         },
         "mode": "markers",
         "name": "UBS Europe SE – Succursale Italia",
         "orientation": "v",
         "showlegend": true,
         "type": "scatter",
         "x": [
          null
         ],
         "xaxis": "x",
         "y": [
          1488
         ],
         "yaxis": "y"
        },
        {
         "hovertemplate": "<b>%{hovertext}</b><br><br>Sanctioned_Entity=UBS Fiduciaria Spa<br>Date of Sanction=%{x}<br>Sanctioned Amount (€)=%{marker.size}<extra></extra>",
         "hovertext": [
          "UBS Fiduciaria Spa"
         ],
         "legendgroup": "UBS Fiduciaria Spa",
         "marker": {
          "color": "#EF553B",
          "line": {
           "color": "DarkSlateGrey",
           "width": 2
          },
          "size": [
           0
          ],
          "sizemode": "area",
          "sizeref": 250,
          "symbol": "circle"
         },
         "mode": "markers",
         "name": "UBS Fiduciaria Spa",
         "orientation": "v",
         "showlegend": true,
         "type": "scatter",
         "x": [
          "2020-08-04T00:00:00"
         ],
         "xaxis": "x",
         "y": [
          0
         ],
         "yaxis": "y"
        },
        {
         "hovertemplate": "<b>%{hovertext}</b><br><br>Sanctioned_Entity=Banco BPM SpA<br>Date of Sanction=%{x}<br>Sanctioned Amount (€)=%{marker.size}<extra></extra>",
         "hovertext": [
          "Banco BPM SpA"
         ],
         "legendgroup": "Banco BPM SpA",
         "marker": {
          "color": "#00cc96",
          "line": {
           "color": "DarkSlateGrey",
           "width": 2
          },
          "size": [
           1760
          ],
          "sizemode": "area",
          "sizeref": 250,
          "symbol": "circle"
         },
         "mode": "markers",
         "name": "Banco BPM SpA",
         "orientation": "v",
         "showlegend": true,
         "type": "scatter",
         "x": [
          "2020-02-25T00:00:00"
         ],
         "xaxis": "x",
         "y": [
          1760
         ],
         "yaxis": "y"
        },
        {
         "hovertemplate": "<b>%{hovertext}</b><br><br>Sanctioned_Entity=Banca Centropadana Credito Cooperativo Sc<br>Date of Sanction=%{x}<br>Sanctioned Amount (€)=%{marker.size}<extra></extra>",
         "hovertext": [
          "Banca Centropadana Credito Cooperativo Sc"
         ],
         "legendgroup": "Banca Centropadana Credito Cooperativo Sc",
         "marker": {
          "color": "#ab63fa",
          "line": {
           "color": "DarkSlateGrey",
           "width": 2
          },
          "size": [
           570000
          ],
          "sizemode": "area",
          "sizeref": 250,
          "symbol": "circle"
         },
         "mode": "markers",
         "name": "Banca Centropadana Credito Cooperativo Sc",
         "orientation": "v",
         "showlegend": true,
         "type": "scatter",
         "x": [
          "2020-03-03T00:00:00"
         ],
         "xaxis": "x",
         "y": [
          570000
         ],
         "yaxis": "y"
        },
        {
         "hovertemplate": "<b>%{hovertext}</b><br><br>Sanctioned_Entity=Europa Risorse SGR SpA<br>Date of Sanction=%{x}<br>Sanctioned Amount (€)=%{marker.size}<extra></extra>",
         "hovertext": [
          "Europa Risorse SGR SpA"
         ],
         "legendgroup": "Europa Risorse SGR SpA",
         "marker": {
          "color": "#FFA15A",
          "line": {
           "color": "DarkSlateGrey",
           "width": 2
          },
          "size": [
           30000
          ],
          "sizemode": "area",
          "sizeref": 250,
          "symbol": "circle"
         },
         "mode": "markers",
         "name": "Europa Risorse SGR SpA",
         "orientation": "v",
         "showlegend": true,
         "type": "scatter",
         "x": [
          "2020-06-30T00:00:00"
         ],
         "xaxis": "x",
         "y": [
          30000
         ],
         "yaxis": "y"
        },
        {
         "hovertemplate": "<b>%{hovertext}</b><br><br>Sanctioned_Entity=We Finance Spa<br>Date of Sanction=%{x}<br>Sanctioned Amount (€)=%{marker.size}<extra></extra>",
         "hovertext": [
          "We Finance Spa",
          "We Finance Spa"
         ],
         "legendgroup": "We Finance Spa",
         "marker": {
          "color": "#19d3f3",
          "line": {
           "color": "DarkSlateGrey",
           "width": 2
          },
          "size": [
           30000,
           30000
          ],
          "sizemode": "area",
          "sizeref": 250,
          "symbol": "circle"
         },
         "mode": "markers",
         "name": "We Finance Spa",
         "orientation": "v",
         "showlegend": true,
         "type": "scatter",
         "x": [
          "2020-07-06T00:00:00",
          "2020-07-06T00:00:00"
         ],
         "xaxis": "x",
         "y": [
          30000,
          30000
         ],
         "yaxis": "y"
        },
        {
         "hovertemplate": "<b>%{hovertext}</b><br><br>Sanctioned_Entity=CRU Giudicarie Valsabbia Paganella BCC Società cooperativa<br>Date of Sanction=%{x}<br>Sanctioned Amount (€)=%{marker.size}<extra></extra>",
         "hovertext": [
          "CRU Giudicarie Valsabbia Paganella BCC Società cooperativa",
          "CRU Giudicarie Valsabbia Paganella BCC Società cooperativa"
         ],
         "legendgroup": "CRU Giudicarie Valsabbia Paganella BCC Società cooperativa",
         "marker": {
          "color": "#FF6692",
          "line": {
           "color": "DarkSlateGrey",
           "width": 2
          },
          "size": [
           30000,
           135000
          ],
          "sizemode": "area",
          "sizeref": 250,
          "symbol": "circle"
         },
         "mode": "markers",
         "name": "CRU Giudicarie Valsabbia Paganella BCC Società cooperativa",
         "orientation": "v",
         "showlegend": true,
         "type": "scatter",
         "x": [
          "2020-07-14T00:00:00",
          null
         ],
         "xaxis": "x",
         "y": [
          30000,
          135000
         ],
         "yaxis": "y"
        },
        {
         "hovertemplate": "<b>%{hovertext}</b><br><br>Sanctioned_Entity=Banca C.R. Asti SpA<br>Date of Sanction=%{x}<br>Sanctioned Amount (€)=%{marker.size}<extra></extra>",
         "hovertext": [
          "Banca C.R. Asti SpA"
         ],
         "legendgroup": "Banca C.R. Asti SpA",
         "marker": {
          "color": "#B6E880",
          "line": {
           "color": "DarkSlateGrey",
           "width": 2
          },
          "size": [
           186000
          ],
          "sizemode": "area",
          "sizeref": 250,
          "symbol": "circle"
         },
         "mode": "markers",
         "name": "Banca C.R. Asti SpA",
         "orientation": "v",
         "showlegend": true,
         "type": "scatter",
         "x": [
          "2020-03-10T00:00:00"
         ],
         "xaxis": "x",
         "y": [
          186000
         ],
         "yaxis": "y"
        },
        {
         "hovertemplate": "<b>%{hovertext}</b><br><br>Sanctioned_Entity=Banca dell’Alta Murgia Credito Cooperativo<br>Date of Sanction=%{x}<br>Sanctioned Amount (€)=%{marker.size}<extra></extra>",
         "hovertext": [
          "Banca dell’Alta Murgia Credito Cooperativo"
         ],
         "legendgroup": "Banca dell’Alta Murgia Credito Cooperativo",
         "marker": {
          "color": "#FF97FF",
          "line": {
           "color": "DarkSlateGrey",
           "width": 2
          },
          "size": [
           30000
          ],
          "sizemode": "area",
          "sizeref": 250,
          "symbol": "circle"
         },
         "mode": "markers",
         "name": "Banca dell’Alta Murgia Credito Cooperativo",
         "orientation": "v",
         "showlegend": true,
         "type": "scatter",
         "x": [
          "2020-03-17T00:00:00"
         ],
         "xaxis": "x",
         "y": [
          30000
         ],
         "yaxis": "y"
        },
        {
         "hovertemplate": "<b>%{hovertext}</b><br><br>Sanctioned_Entity=Finaosta Spa<br>Date of Sanction=%{x}<br>Sanctioned Amount (€)=%{marker.size}<extra></extra>",
         "hovertext": [
          "Finaosta Spa"
         ],
         "legendgroup": "Finaosta Spa",
         "marker": {
          "color": "#FECB52",
          "line": {
           "color": "DarkSlateGrey",
           "width": 2
          },
          "size": [
           45000
          ],
          "sizemode": "area",
          "sizeref": 250,
          "symbol": "circle"
         },
         "mode": "markers",
         "name": "Finaosta Spa",
         "orientation": "v",
         "showlegend": true,
         "type": "scatter",
         "x": [
          "2020-03-03T00:00:00"
         ],
         "xaxis": "x",
         "y": [
          45000
         ],
         "yaxis": "y"
        },
        {
         "hovertemplate": "<b>%{hovertext}</b><br><br>Sanctioned_Entity=La Colombo Finanziaria SpA<br>Date of Sanction=%{x}<br>Sanctioned Amount (€)=%{marker.size}<extra></extra>",
         "hovertext": [
          "La Colombo Finanziaria SpA"
         ],
         "legendgroup": "La Colombo Finanziaria SpA",
         "marker": {
          "color": "#636efa",
          "line": {
           "color": "DarkSlateGrey",
           "width": 2
          },
          "size": [
           30000
          ],
          "sizemode": "area",
          "sizeref": 250,
          "symbol": "circle"
         },
         "mode": "markers",
         "name": "La Colombo Finanziaria SpA",
         "orientation": "v",
         "showlegend": true,
         "type": "scatter",
         "x": [
          "2020-01-21T00:00:00"
         ],
         "xaxis": "x",
         "y": [
          30000
         ],
         "yaxis": "y"
        },
        {
         "hovertemplate": "<b>%{hovertext}</b><br><br>Sanctioned_Entity=La Colombo Finanziaria Spa<br>Date of Sanction=%{x}<br>Sanctioned Amount (€)=%{marker.size}<extra></extra>",
         "hovertext": [
          "La Colombo Finanziaria Spa"
         ],
         "legendgroup": "La Colombo Finanziaria Spa",
         "marker": {
          "color": "#EF553B",
          "line": {
           "color": "DarkSlateGrey",
           "width": 2
          },
          "size": [
           60000
          ],
          "sizemode": "area",
          "sizeref": 250,
          "symbol": "circle"
         },
         "mode": "markers",
         "name": "La Colombo Finanziaria Spa",
         "orientation": "v",
         "showlegend": true,
         "type": "scatter",
         "x": [
          "2020-01-21T00:00:00"
         ],
         "xaxis": "x",
         "y": [
          60000
         ],
         "yaxis": "y"
        },
        {
         "hovertemplate": "<b>%{hovertext}</b><br><br>Sanctioned_Entity=Mikro Kapital Spa<br>Date of Sanction=%{x}<br>Sanctioned Amount (€)=%{marker.size}<extra></extra>",
         "hovertext": [
          "Mikro Kapital Spa"
         ],
         "legendgroup": "Mikro Kapital Spa",
         "marker": {
          "color": "#00cc96",
          "line": {
           "color": "DarkSlateGrey",
           "width": 2
          },
          "size": [
           30000
          ],
          "sizemode": "area",
          "sizeref": 250,
          "symbol": "circle"
         },
         "mode": "markers",
         "name": "Mikro Kapital Spa",
         "orientation": "v",
         "showlegend": true,
         "type": "scatter",
         "x": [
          "2019-12-17T00:00:00"
         ],
         "xaxis": "x",
         "y": [
          30000
         ],
         "yaxis": "y"
        },
        {
         "hovertemplate": "<b>%{hovertext}</b><br><br>Sanctioned_Entity=ING Bank Nv<br>Date of Sanction=%{x}<br>Sanctioned Amount (€)=%{marker.size}<extra></extra>",
         "hovertext": [
          "ING Bank Nv"
         ],
         "legendgroup": "ING Bank Nv",
         "marker": {
          "color": "#ab63fa",
          "line": {
           "color": "DarkSlateGrey",
           "width": 2
          },
          "size": [
           3500
          ],
          "sizemode": "area",
          "sizeref": 250,
          "symbol": "circle"
         },
         "mode": "markers",
         "name": "ING Bank Nv",
         "orientation": "v",
         "showlegend": true,
         "type": "scatter",
         "x": [
          "2020-01-21T00:00:00"
         ],
         "xaxis": "x",
         "y": [
          3500
         ],
         "yaxis": "y"
        },
        {
         "hovertemplate": "<b>%{hovertext}</b><br><br>Sanctioned_Entity=Banca del Cilento of Sassano and Vallo di Diano and Lucania<br>Date of Sanction=%{x}<br>Sanctioned Amount (€)=%{marker.size}<extra></extra>",
         "hovertext": [
          "Banca del Cilento of Sassano and Vallo di Diano and Lucania"
         ],
         "legendgroup": "Banca del Cilento of Sassano and Vallo di Diano and Lucania",
         "marker": {
          "color": "#FFA15A",
          "line": {
           "color": "DarkSlateGrey",
           "width": 2
          },
          "size": [
           30000
          ],
          "sizemode": "area",
          "sizeref": 250,
          "symbol": "circle"
         },
         "mode": "markers",
         "name": "Banca del Cilento of Sassano and Vallo di Diano and Lucania",
         "orientation": "v",
         "showlegend": true,
         "type": "scatter",
         "x": [
          "2020-01-08T00:00:00"
         ],
         "xaxis": "x",
         "y": [
          30000
         ],
         "yaxis": "y"
        },
        {
         "hovertemplate": "<b>%{hovertext}</b><br><br>Sanctioned_Entity=Numeria SGR Spa<br>Date of Sanction=%{x}<br>Sanctioned Amount (€)=%{marker.size}<extra></extra>",
         "hovertext": [
          "Numeria SGR Spa"
         ],
         "legendgroup": "Numeria SGR Spa",
         "marker": {
          "color": "#19d3f3",
          "line": {
           "color": "DarkSlateGrey",
           "width": 2
          },
          "size": [
           60000
          ],
          "sizemode": "area",
          "sizeref": 250,
          "symbol": "circle"
         },
         "mode": "markers",
         "name": "Numeria SGR Spa",
         "orientation": "v",
         "showlegend": true,
         "type": "scatter",
         "x": [
          "2019-11-19T00:00:00"
         ],
         "xaxis": "x",
         "y": [
          60000
         ],
         "yaxis": "y"
        },
        {
         "hovertemplate": "<b>%{hovertext}</b><br><br>Sanctioned_Entity=Istituti Finanziari Riuniti Spa - IFIR<br>Date of Sanction=%{x}<br>Sanctioned Amount (€)=%{marker.size}<extra></extra>",
         "hovertext": [
          "Istituti Finanziari Riuniti Spa - IFIR"
         ],
         "legendgroup": "Istituti Finanziari Riuniti Spa - IFIR",
         "marker": {
          "color": "#FF6692",
          "line": {
           "color": "DarkSlateGrey",
           "width": 2
          },
          "size": [
           30000
          ],
          "sizemode": "area",
          "sizeref": 250,
          "symbol": "circle"
         },
         "mode": "markers",
         "name": "Istituti Finanziari Riuniti Spa - IFIR",
         "orientation": "v",
         "showlegend": true,
         "type": "scatter",
         "x": [
          "2019-12-03T00:00:00"
         ],
         "xaxis": "x",
         "y": [
          30000
         ],
         "yaxis": "y"
        },
        {
         "hovertemplate": "<b>%{hovertext}</b><br><br>Sanctioned_Entity=Istituti Finanziari Riuniti Spa (IFIR)<br>Date of Sanction=%{x}<br>Sanctioned Amount (€)=%{marker.size}<extra></extra>",
         "hovertext": [
          "Istituti Finanziari Riuniti Spa (IFIR)"
         ],
         "legendgroup": "Istituti Finanziari Riuniti Spa (IFIR)",
         "marker": {
          "color": "#B6E880",
          "line": {
           "color": "DarkSlateGrey",
           "width": 2
          },
          "size": [
           30000
          ],
          "sizemode": "area",
          "sizeref": 250,
          "symbol": "circle"
         },
         "mode": "markers",
         "name": "Istituti Finanziari Riuniti Spa (IFIR)",
         "orientation": "v",
         "showlegend": true,
         "type": "scatter",
         "x": [
          null
         ],
         "xaxis": "x",
         "y": [
          30000
         ],
         "yaxis": "y"
        },
        {
         "hovertemplate": "<b>%{hovertext}</b><br><br>Sanctioned_Entity=Associated Foreign Exchange Ltd<br>Date of Sanction=%{x}<br>Sanctioned Amount (€)=%{marker.size}<extra></extra>",
         "hovertext": [
          "Associated Foreign Exchange Ltd"
         ],
         "legendgroup": "Associated Foreign Exchange Ltd",
         "marker": {
          "color": "#FF97FF",
          "line": {
           "color": "DarkSlateGrey",
           "width": 2
          },
          "size": [
           30000
          ],
          "sizemode": "area",
          "sizeref": 250,
          "symbol": "circle"
         },
         "mode": "markers",
         "name": "Associated Foreign Exchange Ltd",
         "orientation": "v",
         "showlegend": true,
         "type": "scatter",
         "x": [
          "2019-12-10T00:00:00"
         ],
         "xaxis": "x",
         "y": [
          30000
         ],
         "yaxis": "y"
        },
        {
         "hovertemplate": "<b>%{hovertext}</b><br><br>Sanctioned_Entity=Sorgente SGR SpA<br>Date of Sanction=%{x}<br>Sanctioned Amount (€)=%{marker.size}<extra></extra>",
         "hovertext": [
          "Sorgente SGR SpA"
         ],
         "legendgroup": "Sorgente SGR SpA",
         "marker": {
          "color": "#FECB52",
          "line": {
           "color": "DarkSlateGrey",
           "width": 2
          },
          "size": [
           372
          ],
          "sizemode": "area",
          "sizeref": 250,
          "symbol": "circle"
         },
         "mode": "markers",
         "name": "Sorgente SGR SpA",
         "orientation": "v",
         "showlegend": true,
         "type": "scatter",
         "x": [
          "2019-11-12T00:00:00"
         ],
         "xaxis": "x",
         "y": [
          372
         ],
         "yaxis": "y"
        },
        {
         "hovertemplate": "<b>%{hovertext}</b><br><br>Sanctioned_Entity=Banca Monte dei Paschi di Siena S.p.A.<br>Date of Sanction=%{x}<br>Sanctioned Amount (€)=%{marker.size}<extra></extra>",
         "hovertext": [
          "Banca Monte dei Paschi di Siena S.p.A."
         ],
         "legendgroup": "Banca Monte dei Paschi di Siena S.p.A.",
         "marker": {
          "color": "#636efa",
          "line": {
           "color": "DarkSlateGrey",
           "width": 2
          },
          "size": [
           1320
          ],
          "sizemode": "area",
          "sizeref": 250,
          "symbol": "circle"
         },
         "mode": "markers",
         "name": "Banca Monte dei Paschi di Siena S.p.A.",
         "orientation": "v",
         "showlegend": true,
         "type": "scatter",
         "x": [
          "2019-12-10T00:00:00"
         ],
         "xaxis": "x",
         "y": [
          1320
         ],
         "yaxis": "y"
        },
        {
         "hovertemplate": "<b>%{hovertext}</b><br><br>Sanctioned_Entity=Sorgente SGR Spa<br>Date of Sanction=%{x}<br>Sanctioned Amount (€)=%{marker.size}<extra></extra>",
         "hovertext": [
          "Sorgente SGR Spa"
         ],
         "legendgroup": "Sorgente SGR Spa",
         "marker": {
          "color": "#EF553B",
          "line": {
           "color": "DarkSlateGrey",
           "width": 2
          },
          "size": [
           60000
          ],
          "sizemode": "area",
          "sizeref": 250,
          "symbol": "circle"
         },
         "mode": "markers",
         "name": "Sorgente SGR Spa",
         "orientation": "v",
         "showlegend": true,
         "type": "scatter",
         "x": [
          "2019-11-12T00:00:00"
         ],
         "xaxis": "x",
         "y": [
          60000
         ],
         "yaxis": "y"
        },
        {
         "hovertemplate": "<b>%{hovertext}</b><br><br>Sanctioned_Entity=Banca Mondiale Sovrana (Giancarlo Gerano)<br>Date of Sanction=%{x}<br>Sanctioned Amount (€)=%{marker.size}<extra></extra>",
         "hovertext": [
          "Banca Mondiale Sovrana (Giancarlo Gerano)"
         ],
         "legendgroup": "Banca Mondiale Sovrana (Giancarlo Gerano)",
         "marker": {
          "color": "#00cc96",
          "line": {
           "color": "DarkSlateGrey",
           "width": 2
          },
          "size": [
           5000
          ],
          "sizemode": "area",
          "sizeref": 250,
          "symbol": "circle"
         },
         "mode": "markers",
         "name": "Banca Mondiale Sovrana (Giancarlo Gerano)",
         "orientation": "v",
         "showlegend": true,
         "type": "scatter",
         "x": [
          null
         ],
         "xaxis": "x",
         "y": [
          5000
         ],
         "yaxis": "y"
        },
        {
         "hovertemplate": "<b>%{hovertext}</b><br><br>Sanctioned_Entity=BCC di San Biagio Platani (in amministrazione straordinaria)<br>Date of Sanction=%{x}<br>Sanctioned Amount (€)=%{marker.size}<extra></extra>",
         "hovertext": [
          "BCC di San Biagio Platani (in amministrazione straordinaria)"
         ],
         "legendgroup": "BCC di San Biagio Platani (in amministrazione straordinaria)",
         "marker": {
          "color": "#ab63fa",
          "line": {
           "color": "DarkSlateGrey",
           "width": 2
          },
          "size": [
           71000
          ],
          "sizemode": "area",
          "sizeref": 250,
          "symbol": "circle"
         },
         "mode": "markers",
         "name": "BCC di San Biagio Platani (in amministrazione straordinaria)",
         "orientation": "v",
         "showlegend": true,
         "type": "scatter",
         "x": [
          "2019-11-19T00:00:00"
         ],
         "xaxis": "x",
         "y": [
          71000
         ],
         "yaxis": "y"
        },
        {
         "hovertemplate": "<b>%{hovertext}</b><br><br>Sanctioned_Entity=Carlyle Real Estate SGR<br>Date of Sanction=%{x}<br>Sanctioned Amount (€)=%{marker.size}<extra></extra>",
         "hovertext": [
          "Carlyle Real Estate SGR"
         ],
         "legendgroup": "Carlyle Real Estate SGR",
         "marker": {
          "color": "#FFA15A",
          "line": {
           "color": "DarkSlateGrey",
           "width": 2
          },
          "size": [
           60000
          ],
          "sizemode": "area",
          "sizeref": 250,
          "symbol": "circle"
         },
         "mode": "markers",
         "name": "Carlyle Real Estate SGR",
         "orientation": "v",
         "showlegend": true,
         "type": "scatter",
         "x": [
          "2019-11-26T00:00:00"
         ],
         "xaxis": "x",
         "y": [
          60000
         ],
         "yaxis": "y"
        },
        {
         "hovertemplate": "<b>%{hovertext}</b><br><br>Sanctioned_Entity=F.I.S. Factoring Investimenti Servizi Finanziari SpA<br>Date of Sanction=%{x}<br>Sanctioned Amount (€)=%{marker.size}<extra></extra>",
         "hovertext": [
          "F.I.S. Factoring Investimenti Servizi Finanziari SpA"
         ],
         "legendgroup": "F.I.S. Factoring Investimenti Servizi Finanziari SpA",
         "marker": {
          "color": "#19d3f3",
          "line": {
           "color": "DarkSlateGrey",
           "width": 2
          },
          "size": [
           90000
          ],
          "sizemode": "area",
          "sizeref": 250,
          "symbol": "circle"
         },
         "mode": "markers",
         "name": "F.I.S. Factoring Investimenti Servizi Finanziari SpA",
         "orientation": "v",
         "showlegend": true,
         "type": "scatter",
         "x": [
          null
         ],
         "xaxis": "x",
         "y": [
          90000
         ],
         "yaxis": "y"
        },
        {
         "hovertemplate": "<b>%{hovertext}</b><br><br>Sanctioned_Entity=F.I.S. Factoring Investimenti Servizi Finanziari SpA (now in liquidation coatta amministrativa)<br>Date of Sanction=%{x}<br>Sanctioned Amount (€)=%{marker.size}<extra></extra>",
         "hovertext": [
          "F.I.S. Factoring Investimenti Servizi Finanziari SpA (now in liquidation coatta amministrativa)"
         ],
         "legendgroup": "F.I.S. Factoring Investimenti Servizi Finanziari SpA (now in liquidation coatta amministrativa)",
         "marker": {
          "color": "#FF6692",
          "line": {
           "color": "DarkSlateGrey",
           "width": 2
          },
          "size": [
           30000
          ],
          "sizemode": "area",
          "sizeref": 250,
          "symbol": "circle"
         },
         "mode": "markers",
         "name": "F.I.S. Factoring Investimenti Servizi Finanziari SpA (now in liquidation coatta amministrativa)",
         "orientation": "v",
         "showlegend": true,
         "type": "scatter",
         "x": [
          null
         ],
         "xaxis": "x",
         "y": [
          30000
         ],
         "yaxis": "y"
        },
        {
         "hovertemplate": "<b>%{hovertext}</b><br><br>Sanctioned_Entity=Trust Virtual Bank (Giangiacomo Savogin)<br>Date of Sanction=%{x}<br>Sanctioned Amount (€)=%{marker.size}<extra></extra>",
         "hovertext": [
          "Trust Virtual Bank (Giangiacomo Savogin)"
         ],
         "legendgroup": "Trust Virtual Bank (Giangiacomo Savogin)",
         "marker": {
          "color": "#B6E880",
          "line": {
           "color": "DarkSlateGrey",
           "width": 2
          },
          "size": [
           5000
          ],
          "sizemode": "area",
          "sizeref": 250,
          "symbol": "circle"
         },
         "mode": "markers",
         "name": "Trust Virtual Bank (Giangiacomo Savogin)",
         "orientation": "v",
         "showlegend": true,
         "type": "scatter",
         "x": [
          null
         ],
         "xaxis": "x",
         "y": [
          5000
         ],
         "yaxis": "y"
        },
        {
         "hovertemplate": "<b>%{hovertext}</b><br><br>Sanctioned_Entity=Crédit Agricole Italia SpA<br>Date of Sanction=%{x}<br>Sanctioned Amount (€)=%{marker.size}<extra></extra>",
         "hovertext": [
          "Crédit Agricole Italia SpA"
         ],
         "legendgroup": "Crédit Agricole Italia SpA",
         "marker": {
          "color": "#FF97FF",
          "line": {
           "color": "DarkSlateGrey",
           "width": 2
          },
          "size": [
           1700
          ],
          "sizemode": "area",
          "sizeref": 250,
          "symbol": "circle"
         },
         "mode": "markers",
         "name": "Crédit Agricole Italia SpA",
         "orientation": "v",
         "showlegend": true,
         "type": "scatter",
         "x": [
          "2019-09-10T00:00:00"
         ],
         "xaxis": "x",
         "y": [
          1700
         ],
         "yaxis": "y"
        },
        {
         "hovertemplate": "<b>%{hovertext}</b><br><br>Sanctioned_Entity=Unicasim Spa (GRUPPO C&A Consultanti Associazione Cittadinanzattiva)<br>Date of Sanction=%{x}<br>Sanctioned Amount (€)=%{marker.size}<extra></extra>",
         "hovertext": [
          "Unicasim Spa (GRUPPO C&A Consultanti Associazione Cittadinanzattiva)"
         ],
         "legendgroup": "Unicasim Spa (GRUPPO C&A Consultanti Associazione Cittadinanzattiva)",
         "marker": {
          "color": "#FECB52",
          "line": {
           "color": "DarkSlateGrey",
           "width": 2
          },
          "size": [
           35000
          ],
          "sizemode": "area",
          "sizeref": 250,
          "symbol": "circle"
         },
         "mode": "markers",
         "name": "Unicasim Spa (GRUPPO C&A Consultanti Associazione Cittadinanzattiva)",
         "orientation": "v",
         "showlegend": true,
         "type": "scatter",
         "x": [
          "2019-07-30T00:00:00"
         ],
         "xaxis": "x",
         "y": [
          35000
         ],
         "yaxis": "y"
        },
        {
         "hovertemplate": "<b>%{hovertext}</b><br><br>Sanctioned_Entity=Banca Popolare del Lazio SCPA<br>Date of Sanction=%{x}<br>Sanctioned Amount (€)=%{marker.size}<extra></extra>",
         "hovertext": [
          "Banca Popolare del Lazio SCPA"
         ],
         "legendgroup": "Banca Popolare del Lazio SCPA",
         "marker": {
          "color": "#636efa",
          "line": {
           "color": "DarkSlateGrey",
           "width": 2
          },
          "size": [
           49000
          ],
          "sizemode": "area",
          "sizeref": 250,
          "symbol": "circle"
         },
         "mode": "markers",
         "name": "Banca Popolare del Lazio SCPA",
         "orientation": "v",
         "showlegend": true,
         "type": "scatter",
         "x": [
          "2019-07-23T00:00:00"
         ],
         "xaxis": "x",
         "y": [
          49000
         ],
         "yaxis": "y"
        },
        {
         "hovertemplate": "<b>%{hovertext}</b><br><br>Sanctioned_Entity=Fidor Spa – Fiduciaria Orefici<br>Date of Sanction=%{x}<br>Sanctioned Amount (€)=%{marker.size}<extra></extra>",
         "hovertext": [
          "Fidor Spa – Fiduciaria Orefici"
         ],
         "legendgroup": "Fidor Spa – Fiduciaria Orefici",
         "marker": {
          "color": "#EF553B",
          "line": {
           "color": "DarkSlateGrey",
           "width": 2
          },
          "size": [
           30000
          ],
          "sizemode": "area",
          "sizeref": 250,
          "symbol": "circle"
         },
         "mode": "markers",
         "name": "Fidor Spa – Fiduciaria Orefici",
         "orientation": "v",
         "showlegend": true,
         "type": "scatter",
         "x": [
          null
         ],
         "xaxis": "x",
         "y": [
          30000
         ],
         "yaxis": "y"
        },
        {
         "hovertemplate": "<b>%{hovertext}</b><br><br>Sanctioned_Entity=Principia Sgr<br>Date of Sanction=%{x}<br>Sanctioned Amount (€)=%{marker.size}<extra></extra>",
         "hovertext": [
          "Principia Sgr"
         ],
         "legendgroup": "Principia Sgr",
         "marker": {
          "color": "#00cc96",
          "line": {
           "color": "DarkSlateGrey",
           "width": 2
          },
          "size": [
           30000
          ],
          "sizemode": "area",
          "sizeref": 250,
          "symbol": "circle"
         },
         "mode": "markers",
         "name": "Principia Sgr",
         "orientation": "v",
         "showlegend": true,
         "type": "scatter",
         "x": [
          null
         ],
         "xaxis": "x",
         "y": [
          30000
         ],
         "yaxis": "y"
        },
        {
         "hovertemplate": "<b>%{hovertext}</b><br><br>Sanctioned_Entity=Finpiemonte SpA<br>Date of Sanction=%{x}<br>Sanctioned Amount (€)=%{marker.size}<extra></extra>",
         "hovertext": [
          "Finpiemonte SpA",
          "Finpiemonte SpA"
         ],
         "legendgroup": "Finpiemonte SpA",
         "marker": {
          "color": "#ab63fa",
          "line": {
           "color": "DarkSlateGrey",
           "width": 2
          },
          "size": [
           68000,
           30000
          ],
          "sizemode": "area",
          "sizeref": 250,
          "symbol": "circle"
         },
         "mode": "markers",
         "name": "Finpiemonte SpA",
         "orientation": "v",
         "showlegend": true,
         "type": "scatter",
         "x": [
          "2019-04-23T00:00:00",
          "2019-04-23T00:00:00"
         ],
         "xaxis": "x",
         "y": [
          68000,
          30000
         ],
         "yaxis": "y"
        },
        {
         "hovertemplate": "<b>%{hovertext}</b><br><br>Sanctioned_Entity=Finpiemonte SPA<br>Date of Sanction=%{x}<br>Sanctioned Amount (€)=%{marker.size}<extra></extra>",
         "hovertext": [
          "Finpiemonte SPA"
         ],
         "legendgroup": "Finpiemonte SPA",
         "marker": {
          "color": "#FFA15A",
          "line": {
           "color": "DarkSlateGrey",
           "width": 2
          },
          "size": [
           83000
          ],
          "sizemode": "area",
          "sizeref": 250,
          "symbol": "circle"
         },
         "mode": "markers",
         "name": "Finpiemonte SPA",
         "orientation": "v",
         "showlegend": true,
         "type": "scatter",
         "x": [
          "2019-05-21T00:00:00"
         ],
         "xaxis": "x",
         "y": [
          83000
         ],
         "yaxis": "y"
        },
        {
         "hovertemplate": "<b>%{hovertext}</b><br><br>Sanctioned_Entity=Speedymoney Spa<br>Date of Sanction=%{x}<br>Sanctioned Amount (€)=%{marker.size}<extra></extra>",
         "hovertext": [
          "Speedymoney Spa",
          "Speedymoney Spa"
         ],
         "legendgroup": "Speedymoney Spa",
         "marker": {
          "color": "#19d3f3",
          "line": {
           "color": "DarkSlateGrey",
           "width": 2
          },
          "size": [
           60000,
           30000
          ],
          "sizemode": "area",
          "sizeref": 250,
          "symbol": "circle"
         },
         "mode": "markers",
         "name": "Speedymoney Spa",
         "orientation": "v",
         "showlegend": true,
         "type": "scatter",
         "x": [
          "2019-06-18T00:00:00",
          "2019-06-18T00:00:00"
         ],
         "xaxis": "x",
         "y": [
          60000,
          30000
         ],
         "yaxis": "y"
        },
        {
         "hovertemplate": "<b>%{hovertext}</b><br><br>Sanctioned_Entity=P. Fiduciaria Srl<br>Date of Sanction=%{x}<br>Sanctioned Amount (€)=%{marker.size}<extra></extra>",
         "hovertext": [
          "P. Fiduciaria Srl"
         ],
         "legendgroup": "P. Fiduciaria Srl",
         "marker": {
          "color": "#FF6692",
          "line": {
           "color": "DarkSlateGrey",
           "width": 2
          },
          "size": [
           30000
          ],
          "sizemode": "area",
          "sizeref": 250,
          "symbol": "circle"
         },
         "mode": "markers",
         "name": "P. Fiduciaria Srl",
         "orientation": "v",
         "showlegend": true,
         "type": "scatter",
         "x": [
          "2019-04-23T00:00:00"
         ],
         "xaxis": "x",
         "y": [
          30000
         ],
         "yaxis": "y"
        },
        {
         "hovertemplate": "<b>%{hovertext}</b><br><br>Sanctioned_Entity=Banca di Credito Cooperativo di Napoli<br>Date of Sanction=%{x}<br>Sanctioned Amount (€)=%{marker.size}<extra></extra>",
         "hovertext": [
          "Banca di Credito Cooperativo di Napoli"
         ],
         "legendgroup": "Banca di Credito Cooperativo di Napoli",
         "marker": {
          "color": "#B6E880",
          "line": {
           "color": "DarkSlateGrey",
           "width": 2
          },
          "size": [
           30000
          ],
          "sizemode": "area",
          "sizeref": 250,
          "symbol": "circle"
         },
         "mode": "markers",
         "name": "Banca di Credito Cooperativo di Napoli",
         "orientation": "v",
         "showlegend": true,
         "type": "scatter",
         "x": [
          "2019-05-07T00:00:00"
         ],
         "xaxis": "x",
         "y": [
          30000
         ],
         "yaxis": "y"
        },
        {
         "hovertemplate": "<b>%{hovertext}</b><br><br>Sanctioned_Entity=Banca di Credito Cooperativo Valdostana<br>Date of Sanction=%{x}<br>Sanctioned Amount (€)=%{marker.size}<extra></extra>",
         "hovertext": [
          "Banca di Credito Cooperativo Valdostana",
          "Banca di Credito Cooperativo Valdostana"
         ],
         "legendgroup": "Banca di Credito Cooperativo Valdostana",
         "marker": {
          "color": "#FF97FF",
          "line": {
           "color": "DarkSlateGrey",
           "width": 2
          },
          "size": [
           167000,
           133000
          ],
          "sizemode": "area",
          "sizeref": 250,
          "symbol": "circle"
         },
         "mode": "markers",
         "name": "Banca di Credito Cooperativo Valdostana",
         "orientation": "v",
         "showlegend": true,
         "type": "scatter",
         "x": [
          null,
          "2019-05-21T00:00:00"
         ],
         "xaxis": "x",
         "y": [
          167000,
          133000
         ],
         "yaxis": "y"
        },
        {
         "hovertemplate": "<b>%{hovertext}</b><br><br>Sanctioned_Entity=LCC Trans Sending Limited<br>Date of Sanction=%{x}<br>Sanctioned Amount (€)=%{marker.size}<extra></extra>",
         "hovertext": [
          "LCC Trans Sending Limited"
         ],
         "legendgroup": "LCC Trans Sending Limited",
         "marker": {
          "color": "#FECB52",
          "line": {
           "color": "DarkSlateGrey",
           "width": 2
          },
          "size": [
           30000
          ],
          "sizemode": "area",
          "sizeref": 250,
          "symbol": "circle"
         },
         "mode": "markers",
         "name": "LCC Trans Sending Limited",
         "orientation": "v",
         "showlegend": true,
         "type": "scatter",
         "x": [
          "2019-06-04T00:00:00"
         ],
         "xaxis": "x",
         "y": [
          30000
         ],
         "yaxis": "y"
        },
        {
         "hovertemplate": "<b>%{hovertext}</b><br><br>Sanctioned_Entity=Banca Sviluppo Economico Spa in l.c.a.<br>Date of Sanction=%{x}<br>Sanctioned Amount (€)=%{marker.size}<extra></extra>",
         "hovertext": [
          "Banca Sviluppo Economico Spa in l.c.a."
         ],
         "legendgroup": "Banca Sviluppo Economico Spa in l.c.a.",
         "marker": {
          "color": "#636efa",
          "line": {
           "color": "DarkSlateGrey",
           "width": 2
          },
          "size": [
           40000
          ],
          "sizemode": "area",
          "sizeref": 250,
          "symbol": "circle"
         },
         "mode": "markers",
         "name": "Banca Sviluppo Economico Spa in l.c.a.",
         "orientation": "v",
         "showlegend": true,
         "type": "scatter",
         "x": [
          "2019-01-29T00:00:00"
         ],
         "xaxis": "x",
         "y": [
          40000
         ],
         "yaxis": "y"
        },
        {
         "hovertemplate": "<b>%{hovertext}</b><br><br>Sanctioned_Entity=Banca Sviluppo Economico Spa<br>Date of Sanction=%{x}<br>Sanctioned Amount (€)=%{marker.size}<extra></extra>",
         "hovertext": [
          "Banca Sviluppo Economico Spa"
         ],
         "legendgroup": "Banca Sviluppo Economico Spa",
         "marker": {
          "color": "#EF553B",
          "line": {
           "color": "DarkSlateGrey",
           "width": 2
          },
          "size": [
           50090
          ],
          "sizemode": "area",
          "sizeref": 250,
          "symbol": "circle"
         },
         "mode": "markers",
         "name": "Banca Sviluppo Economico Spa",
         "orientation": "v",
         "showlegend": true,
         "type": "scatter",
         "x": [
          null
         ],
         "xaxis": "x",
         "y": [
          50090
         ],
         "yaxis": "y"
        },
        {
         "hovertemplate": "<b>%{hovertext}</b><br><br>Sanctioned_Entity=FCA Bank Spa<br>Date of Sanction=%{x}<br>Sanctioned Amount (€)=%{marker.size}<extra></extra>",
         "hovertext": [
          "FCA Bank Spa"
         ],
         "legendgroup": "FCA Bank Spa",
         "marker": {
          "color": "#00cc96",
          "line": {
           "color": "DarkSlateGrey",
           "width": 2
          },
          "size": [
           2500
          ],
          "sizemode": "area",
          "sizeref": 250,
          "symbol": "circle"
         },
         "mode": "markers",
         "name": "FCA Bank Spa",
         "orientation": "v",
         "showlegend": true,
         "type": "scatter",
         "x": [
          "2019-04-16T00:00:00"
         ],
         "xaxis": "x",
         "y": [
          2500
         ],
         "yaxis": "y"
        },
        {
         "hovertemplate": "<b>%{hovertext}</b><br><br>Sanctioned_Entity=Credito Cooperativo di San Calogero e Maierato – BCC del Vibonese soc. coop.<br>Date of Sanction=%{x}<br>Sanctioned Amount (€)=%{marker.size}<extra></extra>",
         "hovertext": [
          "Credito Cooperativo di San Calogero e Maierato – BCC del Vibonese soc. coop."
         ],
         "legendgroup": "Credito Cooperativo di San Calogero e Maierato – BCC del Vibonese soc. coop.",
         "marker": {
          "color": "#ab63fa",
          "line": {
           "color": "DarkSlateGrey",
           "width": 2
          },
          "size": [
           30000
          ],
          "sizemode": "area",
          "sizeref": 250,
          "symbol": "circle"
         },
         "mode": "markers",
         "name": "Credito Cooperativo di San Calogero e Maierato – BCC del Vibonese soc. coop.",
         "orientation": "v",
         "showlegend": true,
         "type": "scatter",
         "x": [
          "2019-03-05T00:00:00"
         ],
         "xaxis": "x",
         "y": [
          30000
         ],
         "yaxis": "y"
        },
        {
         "hovertemplate": "<b>%{hovertext}</b><br><br>Sanctioned_Entity=Banca Valdichiana Credito Cooperativo di Chiusi e Montepulciano S.C.<br>Date of Sanction=%{x}<br>Sanctioned Amount (€)=%{marker.size}<extra></extra>",
         "hovertext": [
          "Banca Valdichiana Credito Cooperativo di Chiusi e Montepulciano S.C."
         ],
         "legendgroup": "Banca Valdichiana Credito Cooperativo di Chiusi e Montepulciano S.C.",
         "marker": {
          "color": "#FFA15A",
          "line": {
           "color": "DarkSlateGrey",
           "width": 2
          },
          "size": [
           286500
          ],
          "sizemode": "area",
          "sizeref": 250,
          "symbol": "circle"
         },
         "mode": "markers",
         "name": "Banca Valdichiana Credito Cooperativo di Chiusi e Montepulciano S.C.",
         "orientation": "v",
         "showlegend": true,
         "type": "scatter",
         "x": [
          "2019-03-19T00:00:00"
         ],
         "xaxis": "x",
         "y": [
          286500
         ],
         "yaxis": "y"
        }
       ],
       "layout": {
        "height": 500,
        "legend": {
         "itemsizing": "constant",
         "title": {
          "text": "Sanctioned_Entity"
         },
         "tracegroupgap": 0
        },
        "template": {
         "data": {
          "bar": [
           {
            "error_x": {
             "color": "#2a3f5f"
            },
            "error_y": {
             "color": "#2a3f5f"
            },
            "marker": {
             "line": {
              "color": "#E5ECF6",
              "width": 0.5
             },
             "pattern": {
              "fillmode": "overlay",
              "size": 10,
              "solidity": 0.2
             }
            },
            "type": "bar"
           }
          ],
          "barpolar": [
           {
            "marker": {
             "line": {
              "color": "#E5ECF6",
              "width": 0.5
             },
             "pattern": {
              "fillmode": "overlay",
              "size": 10,
              "solidity": 0.2
             }
            },
            "type": "barpolar"
           }
          ],
          "carpet": [
           {
            "aaxis": {
             "endlinecolor": "#2a3f5f",
             "gridcolor": "white",
             "linecolor": "white",
             "minorgridcolor": "white",
             "startlinecolor": "#2a3f5f"
            },
            "baxis": {
             "endlinecolor": "#2a3f5f",
             "gridcolor": "white",
             "linecolor": "white",
             "minorgridcolor": "white",
             "startlinecolor": "#2a3f5f"
            },
            "type": "carpet"
           }
          ],
          "choropleth": [
           {
            "colorbar": {
             "outlinewidth": 0,
             "ticks": ""
            },
            "type": "choropleth"
           }
          ],
          "contour": [
           {
            "colorbar": {
             "outlinewidth": 0,
             "ticks": ""
            },
            "colorscale": [
             [
              0,
              "#0d0887"
             ],
             [
              0.1111111111111111,
              "#46039f"
             ],
             [
              0.2222222222222222,
              "#7201a8"
             ],
             [
              0.3333333333333333,
              "#9c179e"
             ],
             [
              0.4444444444444444,
              "#bd3786"
             ],
             [
              0.5555555555555556,
              "#d8576b"
             ],
             [
              0.6666666666666666,
              "#ed7953"
             ],
             [
              0.7777777777777778,
              "#fb9f3a"
             ],
             [
              0.8888888888888888,
              "#fdca26"
             ],
             [
              1,
              "#f0f921"
             ]
            ],
            "type": "contour"
           }
          ],
          "contourcarpet": [
           {
            "colorbar": {
             "outlinewidth": 0,
             "ticks": ""
            },
            "type": "contourcarpet"
           }
          ],
          "heatmap": [
           {
            "colorbar": {
             "outlinewidth": 0,
             "ticks": ""
            },
            "colorscale": [
             [
              0,
              "#0d0887"
             ],
             [
              0.1111111111111111,
              "#46039f"
             ],
             [
              0.2222222222222222,
              "#7201a8"
             ],
             [
              0.3333333333333333,
              "#9c179e"
             ],
             [
              0.4444444444444444,
              "#bd3786"
             ],
             [
              0.5555555555555556,
              "#d8576b"
             ],
             [
              0.6666666666666666,
              "#ed7953"
             ],
             [
              0.7777777777777778,
              "#fb9f3a"
             ],
             [
              0.8888888888888888,
              "#fdca26"
             ],
             [
              1,
              "#f0f921"
             ]
            ],
            "type": "heatmap"
           }
          ],
          "heatmapgl": [
           {
            "colorbar": {
             "outlinewidth": 0,
             "ticks": ""
            },
            "colorscale": [
             [
              0,
              "#0d0887"
             ],
             [
              0.1111111111111111,
              "#46039f"
             ],
             [
              0.2222222222222222,
              "#7201a8"
             ],
             [
              0.3333333333333333,
              "#9c179e"
             ],
             [
              0.4444444444444444,
              "#bd3786"
             ],
             [
              0.5555555555555556,
              "#d8576b"
             ],
             [
              0.6666666666666666,
              "#ed7953"
             ],
             [
              0.7777777777777778,
              "#fb9f3a"
             ],
             [
              0.8888888888888888,
              "#fdca26"
             ],
             [
              1,
              "#f0f921"
             ]
            ],
            "type": "heatmapgl"
           }
          ],
          "histogram": [
           {
            "marker": {
             "pattern": {
              "fillmode": "overlay",
              "size": 10,
              "solidity": 0.2
             }
            },
            "type": "histogram"
           }
          ],
          "histogram2d": [
           {
            "colorbar": {
             "outlinewidth": 0,
             "ticks": ""
            },
            "colorscale": [
             [
              0,
              "#0d0887"
             ],
             [
              0.1111111111111111,
              "#46039f"
             ],
             [
              0.2222222222222222,
              "#7201a8"
             ],
             [
              0.3333333333333333,
              "#9c179e"
             ],
             [
              0.4444444444444444,
              "#bd3786"
             ],
             [
              0.5555555555555556,
              "#d8576b"
             ],
             [
              0.6666666666666666,
              "#ed7953"
             ],
             [
              0.7777777777777778,
              "#fb9f3a"
             ],
             [
              0.8888888888888888,
              "#fdca26"
             ],
             [
              1,
              "#f0f921"
             ]
            ],
            "type": "histogram2d"
           }
          ],
          "histogram2dcontour": [
           {
            "colorbar": {
             "outlinewidth": 0,
             "ticks": ""
            },
            "colorscale": [
             [
              0,
              "#0d0887"
             ],
             [
              0.1111111111111111,
              "#46039f"
             ],
             [
              0.2222222222222222,
              "#7201a8"
             ],
             [
              0.3333333333333333,
              "#9c179e"
             ],
             [
              0.4444444444444444,
              "#bd3786"
             ],
             [
              0.5555555555555556,
              "#d8576b"
             ],
             [
              0.6666666666666666,
              "#ed7953"
             ],
             [
              0.7777777777777778,
              "#fb9f3a"
             ],
             [
              0.8888888888888888,
              "#fdca26"
             ],
             [
              1,
              "#f0f921"
             ]
            ],
            "type": "histogram2dcontour"
           }
          ],
          "mesh3d": [
           {
            "colorbar": {
             "outlinewidth": 0,
             "ticks": ""
            },
            "type": "mesh3d"
           }
          ],
          "parcoords": [
           {
            "line": {
             "colorbar": {
              "outlinewidth": 0,
              "ticks": ""
             }
            },
            "type": "parcoords"
           }
          ],
          "pie": [
           {
            "automargin": true,
            "type": "pie"
           }
          ],
          "scatter": [
           {
            "fillpattern": {
             "fillmode": "overlay",
             "size": 10,
             "solidity": 0.2
            },
            "type": "scatter"
           }
          ],
          "scatter3d": [
           {
            "line": {
             "colorbar": {
              "outlinewidth": 0,
              "ticks": ""
             }
            },
            "marker": {
             "colorbar": {
              "outlinewidth": 0,
              "ticks": ""
             }
            },
            "type": "scatter3d"
           }
          ],
          "scattercarpet": [
           {
            "marker": {
             "colorbar": {
              "outlinewidth": 0,
              "ticks": ""
             }
            },
            "type": "scattercarpet"
           }
          ],
          "scattergeo": [
           {
            "marker": {
             "colorbar": {
              "outlinewidth": 0,
              "ticks": ""
             }
            },
            "type": "scattergeo"
           }
          ],
          "scattergl": [
           {
            "marker": {
             "colorbar": {
              "outlinewidth": 0,
              "ticks": ""
             }
            },
            "type": "scattergl"
           }
          ],
          "scattermapbox": [
           {
            "marker": {
             "colorbar": {
              "outlinewidth": 0,
              "ticks": ""
             }
            },
            "type": "scattermapbox"
           }
          ],
          "scatterpolar": [
           {
            "marker": {
             "colorbar": {
              "outlinewidth": 0,
              "ticks": ""
             }
            },
            "type": "scatterpolar"
           }
          ],
          "scatterpolargl": [
           {
            "marker": {
             "colorbar": {
              "outlinewidth": 0,
              "ticks": ""
             }
            },
            "type": "scatterpolargl"
           }
          ],
          "scatterternary": [
           {
            "marker": {
             "colorbar": {
              "outlinewidth": 0,
              "ticks": ""
             }
            },
            "type": "scatterternary"
           }
          ],
          "surface": [
           {
            "colorbar": {
             "outlinewidth": 0,
             "ticks": ""
            },
            "colorscale": [
             [
              0,
              "#0d0887"
             ],
             [
              0.1111111111111111,
              "#46039f"
             ],
             [
              0.2222222222222222,
              "#7201a8"
             ],
             [
              0.3333333333333333,
              "#9c179e"
             ],
             [
              0.4444444444444444,
              "#bd3786"
             ],
             [
              0.5555555555555556,
              "#d8576b"
             ],
             [
              0.6666666666666666,
              "#ed7953"
             ],
             [
              0.7777777777777778,
              "#fb9f3a"
             ],
             [
              0.8888888888888888,
              "#fdca26"
             ],
             [
              1,
              "#f0f921"
             ]
            ],
            "type": "surface"
           }
          ],
          "table": [
           {
            "cells": {
             "fill": {
              "color": "#EBF0F8"
             },
             "line": {
              "color": "white"
             }
            },
            "header": {
             "fill": {
              "color": "#C8D4E3"
             },
             "line": {
              "color": "white"
             }
            },
            "type": "table"
           }
          ]
         },
         "layout": {
          "annotationdefaults": {
           "arrowcolor": "#2a3f5f",
           "arrowhead": 0,
           "arrowwidth": 1
          },
          "autotypenumbers": "strict",
          "coloraxis": {
           "colorbar": {
            "outlinewidth": 0,
            "ticks": ""
           }
          },
          "colorscale": {
           "diverging": [
            [
             0,
             "#8e0152"
            ],
            [
             0.1,
             "#c51b7d"
            ],
            [
             0.2,
             "#de77ae"
            ],
            [
             0.3,
             "#f1b6da"
            ],
            [
             0.4,
             "#fde0ef"
            ],
            [
             0.5,
             "#f7f7f7"
            ],
            [
             0.6,
             "#e6f5d0"
            ],
            [
             0.7,
             "#b8e186"
            ],
            [
             0.8,
             "#7fbc41"
            ],
            [
             0.9,
             "#4d9221"
            ],
            [
             1,
             "#276419"
            ]
           ],
           "sequential": [
            [
             0,
             "#0d0887"
            ],
            [
             0.1111111111111111,
             "#46039f"
            ],
            [
             0.2222222222222222,
             "#7201a8"
            ],
            [
             0.3333333333333333,
             "#9c179e"
            ],
            [
             0.4444444444444444,
             "#bd3786"
            ],
            [
             0.5555555555555556,
             "#d8576b"
            ],
            [
             0.6666666666666666,
             "#ed7953"
            ],
            [
             0.7777777777777778,
             "#fb9f3a"
            ],
            [
             0.8888888888888888,
             "#fdca26"
            ],
            [
             1,
             "#f0f921"
            ]
           ],
           "sequentialminus": [
            [
             0,
             "#0d0887"
            ],
            [
             0.1111111111111111,
             "#46039f"
            ],
            [
             0.2222222222222222,
             "#7201a8"
            ],
            [
             0.3333333333333333,
             "#9c179e"
            ],
            [
             0.4444444444444444,
             "#bd3786"
            ],
            [
             0.5555555555555556,
             "#d8576b"
            ],
            [
             0.6666666666666666,
             "#ed7953"
            ],
            [
             0.7777777777777778,
             "#fb9f3a"
            ],
            [
             0.8888888888888888,
             "#fdca26"
            ],
            [
             1,
             "#f0f921"
            ]
           ]
          },
          "colorway": [
           "#636efa",
           "#EF553B",
           "#00cc96",
           "#ab63fa",
           "#FFA15A",
           "#19d3f3",
           "#FF6692",
           "#B6E880",
           "#FF97FF",
           "#FECB52"
          ],
          "font": {
           "color": "#2a3f5f"
          },
          "geo": {
           "bgcolor": "white",
           "lakecolor": "white",
           "landcolor": "#E5ECF6",
           "showlakes": true,
           "showland": true,
           "subunitcolor": "white"
          },
          "hoverlabel": {
           "align": "left"
          },
          "hovermode": "closest",
          "mapbox": {
           "style": "light"
          },
          "paper_bgcolor": "white",
          "plot_bgcolor": "#E5ECF6",
          "polar": {
           "angularaxis": {
            "gridcolor": "white",
            "linecolor": "white",
            "ticks": ""
           },
           "bgcolor": "#E5ECF6",
           "radialaxis": {
            "gridcolor": "white",
            "linecolor": "white",
            "ticks": ""
           }
          },
          "scene": {
           "xaxis": {
            "backgroundcolor": "#E5ECF6",
            "gridcolor": "white",
            "gridwidth": 2,
            "linecolor": "white",
            "showbackground": true,
            "ticks": "",
            "zerolinecolor": "white"
           },
           "yaxis": {
            "backgroundcolor": "#E5ECF6",
            "gridcolor": "white",
            "gridwidth": 2,
            "linecolor": "white",
            "showbackground": true,
            "ticks": "",
            "zerolinecolor": "white"
           },
           "zaxis": {
            "backgroundcolor": "#E5ECF6",
            "gridcolor": "white",
            "gridwidth": 2,
            "linecolor": "white",
            "showbackground": true,
            "ticks": "",
            "zerolinecolor": "white"
           }
          },
          "shapedefaults": {
           "line": {
            "color": "#2a3f5f"
           }
          },
          "ternary": {
           "aaxis": {
            "gridcolor": "white",
            "linecolor": "white",
            "ticks": ""
           },
           "baxis": {
            "gridcolor": "white",
            "linecolor": "white",
            "ticks": ""
           },
           "bgcolor": "#E5ECF6",
           "caxis": {
            "gridcolor": "white",
            "linecolor": "white",
            "ticks": ""
           }
          },
          "title": {
           "x": 0.05
          },
          "xaxis": {
           "automargin": true,
           "gridcolor": "white",
           "linecolor": "white",
           "ticks": "",
           "title": {
            "standoff": 15
           },
           "zerolinecolor": "white",
           "zerolinewidth": 2
          },
          "yaxis": {
           "automargin": true,
           "gridcolor": "white",
           "linecolor": "white",
           "ticks": "",
           "title": {
            "standoff": 15
           },
           "zerolinecolor": "white",
           "zerolinewidth": 2
          }
         }
        },
        "title": {
         "text": "Sanction Amounts Over Time by Entity"
        },
        "width": 1200,
        "xaxis": {
         "anchor": "y",
         "domain": [
          0,
          1
         ],
         "title": {
          "text": "Date of Sanction"
         }
        },
        "yaxis": {
         "anchor": "x",
         "domain": [
          0,
          1
         ],
         "title": {
          "text": "Sanctioned Amount (€)"
         }
        }
       }
      }
     },
     "metadata": {},
     "output_type": "display_data"
    }
   ],
   "source": [
    "import plotly.express as px\n",
    "\n",
    "fig = px.scatter(df_result, x='Date_of_Sanction', y='Sanctioned_Amount',\n",
    "                 size='Sanctioned_Amount', \n",
    "                 color='Sanctioned_Entity',\n",
    "                 hover_name='Sanctioned_Entity', size_max=60,\n",
    "                 title=\"Sanction Amounts Over Time by Entity\",\n",
    "                 labels={\"Date_of_Sanction\": \"Date of Sanction\", \"Sanctioned_Amount\": \"Sanctioned Amount (€)\"})\n",
    "fig.update_traces(marker=dict(line=dict(width=2, color='DarkSlateGrey')))\n",
    "fig.update_layout(\n",
    "    width=1200,  # Set a fixed width\n",
    "    height=500  # Set a fixed height\n",
    ")\n",
    "fig.show()\n"
   ]
  },
  {
   "cell_type": "markdown",
   "metadata": {},
   "source": [
    "## monthly trend data"
   ]
  },
  {
   "cell_type": "code",
   "execution_count": 24,
   "metadata": {},
   "outputs": [
    {
     "data": {
      "application/vnd.plotly.v1+json": {
       "config": {
        "plotlyServerURL": "https://plot.ly"
       },
       "data": [
        {
         "alignmentgroup": "True",
         "hovertemplate": "Sanctioned_Entity=Banca Sviluppo Economico Spa in l.c.a.<br>Month of Sanction=%{x}<br>Sanctioned Amount (€)=%{y}<extra></extra>",
         "legendgroup": "Banca Sviluppo Economico Spa in l.c.a.",
         "marker": {
          "color": "#636efa",
          "pattern": {
           "shape": ""
          }
         },
         "name": "Banca Sviluppo Econo...",
         "offsetgroup": "Banca Sviluppo Economico Spa in l.c.a.",
         "orientation": "v",
         "showlegend": true,
         "textposition": "auto",
         "type": "bar",
         "x": [
          "2019-01"
         ],
         "xaxis": "x",
         "y": [
          40000
         ],
         "yaxis": "y"
        },
        {
         "alignmentgroup": "True",
         "hovertemplate": "Sanctioned_Entity=Banca Valdichiana Credito Cooperativo di Chiusi e Montepulciano S.C.<br>Month of Sanction=%{x}<br>Sanctioned Amount (€)=%{y}<extra></extra>",
         "legendgroup": "Banca Valdichiana Credito Cooperativo di Chiusi e Montepulciano S.C.",
         "marker": {
          "color": "#EF553B",
          "pattern": {
           "shape": ""
          }
         },
         "name": "Banca Valdichiana Cr...",
         "offsetgroup": "Banca Valdichiana Credito Cooperativo di Chiusi e Montepulciano S.C.",
         "orientation": "v",
         "showlegend": true,
         "textposition": "auto",
         "type": "bar",
         "x": [
          "2019-03"
         ],
         "xaxis": "x",
         "y": [
          286500
         ],
         "yaxis": "y"
        },
        {
         "alignmentgroup": "True",
         "hovertemplate": "Sanctioned_Entity=Credito Cooperativo di San Calogero e Maierato – BCC del Vibonese soc. coop.<br>Month of Sanction=%{x}<br>Sanctioned Amount (€)=%{y}<extra></extra>",
         "legendgroup": "Credito Cooperativo di San Calogero e Maierato – BCC del Vibonese soc. coop.",
         "marker": {
          "color": "#00cc96",
          "pattern": {
           "shape": ""
          }
         },
         "name": "Credito Cooperativo ...",
         "offsetgroup": "Credito Cooperativo di San Calogero e Maierato – BCC del Vibonese soc. coop.",
         "orientation": "v",
         "showlegend": true,
         "textposition": "auto",
         "type": "bar",
         "x": [
          "2019-03"
         ],
         "xaxis": "x",
         "y": [
          30000
         ],
         "yaxis": "y"
        },
        {
         "alignmentgroup": "True",
         "hovertemplate": "Sanctioned_Entity=FCA Bank Spa<br>Month of Sanction=%{x}<br>Sanctioned Amount (€)=%{y}<extra></extra>",
         "legendgroup": "FCA Bank Spa",
         "marker": {
          "color": "#ab63fa",
          "pattern": {
           "shape": ""
          }
         },
         "name": "FCA Bank Spa",
         "offsetgroup": "FCA Bank Spa",
         "orientation": "v",
         "showlegend": true,
         "textposition": "auto",
         "type": "bar",
         "x": [
          "2019-04"
         ],
         "xaxis": "x",
         "y": [
          2500
         ],
         "yaxis": "y"
        },
        {
         "alignmentgroup": "True",
         "hovertemplate": "Sanctioned_Entity=Finpiemonte SpA<br>Month of Sanction=%{x}<br>Sanctioned Amount (€)=%{y}<extra></extra>",
         "legendgroup": "Finpiemonte SpA",
         "marker": {
          "color": "#FFA15A",
          "pattern": {
           "shape": ""
          }
         },
         "name": "Finpiemonte SpA",
         "offsetgroup": "Finpiemonte SpA",
         "orientation": "v",
         "showlegend": true,
         "textposition": "auto",
         "type": "bar",
         "x": [
          "2019-04"
         ],
         "xaxis": "x",
         "y": [
          98000
         ],
         "yaxis": "y"
        },
        {
         "alignmentgroup": "True",
         "hovertemplate": "Sanctioned_Entity=P. Fiduciaria Srl<br>Month of Sanction=%{x}<br>Sanctioned Amount (€)=%{y}<extra></extra>",
         "legendgroup": "P. Fiduciaria Srl",
         "marker": {
          "color": "#19d3f3",
          "pattern": {
           "shape": ""
          }
         },
         "name": "P. Fiduciaria Srl",
         "offsetgroup": "P. Fiduciaria Srl",
         "orientation": "v",
         "showlegend": true,
         "textposition": "auto",
         "type": "bar",
         "x": [
          "2019-04"
         ],
         "xaxis": "x",
         "y": [
          30000
         ],
         "yaxis": "y"
        },
        {
         "alignmentgroup": "True",
         "hovertemplate": "Sanctioned_Entity=Banca di Credito Cooperativo Valdostana<br>Month of Sanction=%{x}<br>Sanctioned Amount (€)=%{y}<extra></extra>",
         "legendgroup": "Banca di Credito Cooperativo Valdostana",
         "marker": {
          "color": "#FF6692",
          "pattern": {
           "shape": ""
          }
         },
         "name": "Banca di Credito Coo...",
         "offsetgroup": "Banca di Credito Cooperativo Valdostana",
         "orientation": "v",
         "showlegend": true,
         "textposition": "auto",
         "type": "bar",
         "x": [
          "2019-05"
         ],
         "xaxis": "x",
         "y": [
          133000
         ],
         "yaxis": "y"
        },
        {
         "alignmentgroup": "True",
         "hovertemplate": "Sanctioned_Entity=Banca di Credito Cooperativo di Napoli<br>Month of Sanction=%{x}<br>Sanctioned Amount (€)=%{y}<extra></extra>",
         "legendgroup": "Banca di Credito Cooperativo di Napoli",
         "marker": {
          "color": "#B6E880",
          "pattern": {
           "shape": ""
          }
         },
         "name": "Banca di Credito Coo...",
         "offsetgroup": "Banca di Credito Cooperativo di Napoli",
         "orientation": "v",
         "showlegend": true,
         "textposition": "auto",
         "type": "bar",
         "x": [
          "2019-05"
         ],
         "xaxis": "x",
         "y": [
          30000
         ],
         "yaxis": "y"
        },
        {
         "alignmentgroup": "True",
         "hovertemplate": "Sanctioned_Entity=Finpiemonte SPA<br>Month of Sanction=%{x}<br>Sanctioned Amount (€)=%{y}<extra></extra>",
         "legendgroup": "Finpiemonte SPA",
         "marker": {
          "color": "#FF97FF",
          "pattern": {
           "shape": ""
          }
         },
         "name": "Finpiemonte SPA",
         "offsetgroup": "Finpiemonte SPA",
         "orientation": "v",
         "showlegend": true,
         "textposition": "auto",
         "type": "bar",
         "x": [
          "2019-05"
         ],
         "xaxis": "x",
         "y": [
          83000
         ],
         "yaxis": "y"
        },
        {
         "alignmentgroup": "True",
         "hovertemplate": "Sanctioned_Entity=LCC Trans Sending Limited<br>Month of Sanction=%{x}<br>Sanctioned Amount (€)=%{y}<extra></extra>",
         "legendgroup": "LCC Trans Sending Limited",
         "marker": {
          "color": "#FECB52",
          "pattern": {
           "shape": ""
          }
         },
         "name": "LCC Trans Sending Li...",
         "offsetgroup": "LCC Trans Sending Limited",
         "orientation": "v",
         "showlegend": true,
         "textposition": "auto",
         "type": "bar",
         "x": [
          "2019-06"
         ],
         "xaxis": "x",
         "y": [
          30000
         ],
         "yaxis": "y"
        },
        {
         "alignmentgroup": "True",
         "hovertemplate": "Sanctioned_Entity=Speedymoney Spa<br>Month of Sanction=%{x}<br>Sanctioned Amount (€)=%{y}<extra></extra>",
         "legendgroup": "Speedymoney Spa",
         "marker": {
          "color": "#636efa",
          "pattern": {
           "shape": ""
          }
         },
         "name": "Speedymoney Spa",
         "offsetgroup": "Speedymoney Spa",
         "orientation": "v",
         "showlegend": true,
         "textposition": "auto",
         "type": "bar",
         "x": [
          "2019-06"
         ],
         "xaxis": "x",
         "y": [
          90000
         ],
         "yaxis": "y"
        },
        {
         "alignmentgroup": "True",
         "hovertemplate": "Sanctioned_Entity=Banca Popolare del Lazio SCPA<br>Month of Sanction=%{x}<br>Sanctioned Amount (€)=%{y}<extra></extra>",
         "legendgroup": "Banca Popolare del Lazio SCPA",
         "marker": {
          "color": "#EF553B",
          "pattern": {
           "shape": ""
          }
         },
         "name": "Banca Popolare del L...",
         "offsetgroup": "Banca Popolare del Lazio SCPA",
         "orientation": "v",
         "showlegend": true,
         "textposition": "auto",
         "type": "bar",
         "x": [
          "2019-07"
         ],
         "xaxis": "x",
         "y": [
          49000
         ],
         "yaxis": "y"
        },
        {
         "alignmentgroup": "True",
         "hovertemplate": "Sanctioned_Entity=Unicasim Spa (GRUPPO C&A Consultanti Associazione Cittadinanzattiva)<br>Month of Sanction=%{x}<br>Sanctioned Amount (€)=%{y}<extra></extra>",
         "legendgroup": "Unicasim Spa (GRUPPO C&A Consultanti Associazione Cittadinanzattiva)",
         "marker": {
          "color": "#00cc96",
          "pattern": {
           "shape": ""
          }
         },
         "name": "Unicasim Spa (GRUPPO...",
         "offsetgroup": "Unicasim Spa (GRUPPO C&A Consultanti Associazione Cittadinanzattiva)",
         "orientation": "v",
         "showlegend": true,
         "textposition": "auto",
         "type": "bar",
         "x": [
          "2019-07"
         ],
         "xaxis": "x",
         "y": [
          35000
         ],
         "yaxis": "y"
        },
        {
         "alignmentgroup": "True",
         "hovertemplate": "Sanctioned_Entity=Crédit Agricole Italia SpA<br>Month of Sanction=%{x}<br>Sanctioned Amount (€)=%{y}<extra></extra>",
         "legendgroup": "Crédit Agricole Italia SpA",
         "marker": {
          "color": "#ab63fa",
          "pattern": {
           "shape": ""
          }
         },
         "name": "Crédit Agricole Ital...",
         "offsetgroup": "Crédit Agricole Italia SpA",
         "orientation": "v",
         "showlegend": true,
         "textposition": "auto",
         "type": "bar",
         "x": [
          "2019-09"
         ],
         "xaxis": "x",
         "y": [
          1700
         ],
         "yaxis": "y"
        },
        {
         "alignmentgroup": "True",
         "hovertemplate": "Sanctioned_Entity=BCC di San Biagio Platani (in amministrazione straordinaria)<br>Month of Sanction=%{x}<br>Sanctioned Amount (€)=%{y}<extra></extra>",
         "legendgroup": "BCC di San Biagio Platani (in amministrazione straordinaria)",
         "marker": {
          "color": "#FFA15A",
          "pattern": {
           "shape": ""
          }
         },
         "name": "BCC di San Biagio Pl...",
         "offsetgroup": "BCC di San Biagio Platani (in amministrazione straordinaria)",
         "orientation": "v",
         "showlegend": true,
         "textposition": "auto",
         "type": "bar",
         "x": [
          "2019-11"
         ],
         "xaxis": "x",
         "y": [
          71000
         ],
         "yaxis": "y"
        },
        {
         "alignmentgroup": "True",
         "hovertemplate": "Sanctioned_Entity=Carlyle Real Estate SGR<br>Month of Sanction=%{x}<br>Sanctioned Amount (€)=%{y}<extra></extra>",
         "legendgroup": "Carlyle Real Estate SGR",
         "marker": {
          "color": "#19d3f3",
          "pattern": {
           "shape": ""
          }
         },
         "name": "Carlyle Real Estate ...",
         "offsetgroup": "Carlyle Real Estate SGR",
         "orientation": "v",
         "showlegend": true,
         "textposition": "auto",
         "type": "bar",
         "x": [
          "2019-11"
         ],
         "xaxis": "x",
         "y": [
          60000
         ],
         "yaxis": "y"
        },
        {
         "alignmentgroup": "True",
         "hovertemplate": "Sanctioned_Entity=Numeria SGR Spa<br>Month of Sanction=%{x}<br>Sanctioned Amount (€)=%{y}<extra></extra>",
         "legendgroup": "Numeria SGR Spa",
         "marker": {
          "color": "#FF6692",
          "pattern": {
           "shape": ""
          }
         },
         "name": "Numeria SGR Spa",
         "offsetgroup": "Numeria SGR Spa",
         "orientation": "v",
         "showlegend": true,
         "textposition": "auto",
         "type": "bar",
         "x": [
          "2019-11"
         ],
         "xaxis": "x",
         "y": [
          60000
         ],
         "yaxis": "y"
        },
        {
         "alignmentgroup": "True",
         "hovertemplate": "Sanctioned_Entity=Sorgente SGR SpA<br>Month of Sanction=%{x}<br>Sanctioned Amount (€)=%{y}<extra></extra>",
         "legendgroup": "Sorgente SGR SpA",
         "marker": {
          "color": "#B6E880",
          "pattern": {
           "shape": ""
          }
         },
         "name": "Sorgente SGR SpA",
         "offsetgroup": "Sorgente SGR SpA",
         "orientation": "v",
         "showlegend": true,
         "textposition": "auto",
         "type": "bar",
         "x": [
          "2019-11"
         ],
         "xaxis": "x",
         "y": [
          372
         ],
         "yaxis": "y"
        },
        {
         "alignmentgroup": "True",
         "hovertemplate": "Sanctioned_Entity=Sorgente SGR Spa<br>Month of Sanction=%{x}<br>Sanctioned Amount (€)=%{y}<extra></extra>",
         "legendgroup": "Sorgente SGR Spa",
         "marker": {
          "color": "#FF97FF",
          "pattern": {
           "shape": ""
          }
         },
         "name": "Sorgente SGR Spa",
         "offsetgroup": "Sorgente SGR Spa",
         "orientation": "v",
         "showlegend": true,
         "textposition": "auto",
         "type": "bar",
         "x": [
          "2019-11"
         ],
         "xaxis": "x",
         "y": [
          60000
         ],
         "yaxis": "y"
        },
        {
         "alignmentgroup": "True",
         "hovertemplate": "Sanctioned_Entity=Associated Foreign Exchange Ltd<br>Month of Sanction=%{x}<br>Sanctioned Amount (€)=%{y}<extra></extra>",
         "legendgroup": "Associated Foreign Exchange Ltd",
         "marker": {
          "color": "#FECB52",
          "pattern": {
           "shape": ""
          }
         },
         "name": "Associated Foreign E...",
         "offsetgroup": "Associated Foreign Exchange Ltd",
         "orientation": "v",
         "showlegend": true,
         "textposition": "auto",
         "type": "bar",
         "x": [
          "2019-12"
         ],
         "xaxis": "x",
         "y": [
          30000
         ],
         "yaxis": "y"
        },
        {
         "alignmentgroup": "True",
         "hovertemplate": "Sanctioned_Entity=Banca Monte dei Paschi di Siena S.p.A.<br>Month of Sanction=%{x}<br>Sanctioned Amount (€)=%{y}<extra></extra>",
         "legendgroup": "Banca Monte dei Paschi di Siena S.p.A.",
         "marker": {
          "color": "#636efa",
          "pattern": {
           "shape": ""
          }
         },
         "name": "Banca Monte dei Pasc...",
         "offsetgroup": "Banca Monte dei Paschi di Siena S.p.A.",
         "orientation": "v",
         "showlegend": true,
         "textposition": "auto",
         "type": "bar",
         "x": [
          "2019-12"
         ],
         "xaxis": "x",
         "y": [
          1320
         ],
         "yaxis": "y"
        },
        {
         "alignmentgroup": "True",
         "hovertemplate": "Sanctioned_Entity=Istituti Finanziari Riuniti Spa - IFIR<br>Month of Sanction=%{x}<br>Sanctioned Amount (€)=%{y}<extra></extra>",
         "legendgroup": "Istituti Finanziari Riuniti Spa - IFIR",
         "marker": {
          "color": "#EF553B",
          "pattern": {
           "shape": ""
          }
         },
         "name": "Istituti Finanziari ...",
         "offsetgroup": "Istituti Finanziari Riuniti Spa - IFIR",
         "orientation": "v",
         "showlegend": true,
         "textposition": "auto",
         "type": "bar",
         "x": [
          "2019-12"
         ],
         "xaxis": "x",
         "y": [
          30000
         ],
         "yaxis": "y"
        },
        {
         "alignmentgroup": "True",
         "hovertemplate": "Sanctioned_Entity=Mikro Kapital Spa<br>Month of Sanction=%{x}<br>Sanctioned Amount (€)=%{y}<extra></extra>",
         "legendgroup": "Mikro Kapital Spa",
         "marker": {
          "color": "#00cc96",
          "pattern": {
           "shape": ""
          }
         },
         "name": "Mikro Kapital Spa",
         "offsetgroup": "Mikro Kapital Spa",
         "orientation": "v",
         "showlegend": true,
         "textposition": "auto",
         "type": "bar",
         "x": [
          "2019-12"
         ],
         "xaxis": "x",
         "y": [
          30000
         ],
         "yaxis": "y"
        },
        {
         "alignmentgroup": "True",
         "hovertemplate": "Sanctioned_Entity=Banca Popolare del Mediterraneo Scpa<br>Month of Sanction=%{x}<br>Sanctioned Amount (€)=%{y}<extra></extra>",
         "legendgroup": "Banca Popolare del Mediterraneo Scpa",
         "marker": {
          "color": "#ab63fa",
          "pattern": {
           "shape": ""
          }
         },
         "name": "Banca Popolare del M...",
         "offsetgroup": "Banca Popolare del Mediterraneo Scpa",
         "orientation": "v",
         "showlegend": true,
         "textposition": "auto",
         "type": "bar",
         "x": [
          "2020-01",
          "2024-01"
         ],
         "xaxis": "x",
         "y": [
          30000,
          75000
         ],
         "yaxis": "y"
        },
        {
         "alignmentgroup": "True",
         "hovertemplate": "Sanctioned_Entity=Banca del Cilento of Sassano and Vallo di Diano and Lucania<br>Month of Sanction=%{x}<br>Sanctioned Amount (€)=%{y}<extra></extra>",
         "legendgroup": "Banca del Cilento of Sassano and Vallo di Diano and Lucania",
         "marker": {
          "color": "#FFA15A",
          "pattern": {
           "shape": ""
          }
         },
         "name": "Banca del Cilento of...",
         "offsetgroup": "Banca del Cilento of Sassano and Vallo di Diano and Lucania",
         "orientation": "v",
         "showlegend": true,
         "textposition": "auto",
         "type": "bar",
         "x": [
          "2020-01"
         ],
         "xaxis": "x",
         "y": [
          30000
         ],
         "yaxis": "y"
        },
        {
         "alignmentgroup": "True",
         "hovertemplate": "Sanctioned_Entity=Findomestic Banca Spa<br>Month of Sanction=%{x}<br>Sanctioned Amount (€)=%{y}<extra></extra>",
         "legendgroup": "Findomestic Banca Spa",
         "marker": {
          "color": "#19d3f3",
          "pattern": {
           "shape": ""
          }
         },
         "name": "Findomestic Banca Sp...",
         "offsetgroup": "Findomestic Banca Spa",
         "orientation": "v",
         "showlegend": true,
         "textposition": "auto",
         "type": "bar",
         "x": [
          "2020-01",
          "2022-04"
         ],
         "xaxis": "x",
         "y": [
          390000,
          900000
         ],
         "yaxis": "y"
        },
        {
         "alignmentgroup": "True",
         "hovertemplate": "Sanctioned_Entity=ING Bank Nv<br>Month of Sanction=%{x}<br>Sanctioned Amount (€)=%{y}<extra></extra>",
         "legendgroup": "ING Bank Nv",
         "marker": {
          "color": "#FF6692",
          "pattern": {
           "shape": ""
          }
         },
         "name": "ING Bank Nv",
         "offsetgroup": "ING Bank Nv",
         "orientation": "v",
         "showlegend": true,
         "textposition": "auto",
         "type": "bar",
         "x": [
          "2020-01"
         ],
         "xaxis": "x",
         "y": [
          3500
         ],
         "yaxis": "y"
        },
        {
         "alignmentgroup": "True",
         "hovertemplate": "Sanctioned_Entity=La Colombo Finanziaria SpA<br>Month of Sanction=%{x}<br>Sanctioned Amount (€)=%{y}<extra></extra>",
         "legendgroup": "La Colombo Finanziaria SpA",
         "marker": {
          "color": "#B6E880",
          "pattern": {
           "shape": ""
          }
         },
         "name": "La Colombo Finanziar...",
         "offsetgroup": "La Colombo Finanziaria SpA",
         "orientation": "v",
         "showlegend": true,
         "textposition": "auto",
         "type": "bar",
         "x": [
          "2020-01"
         ],
         "xaxis": "x",
         "y": [
          30000
         ],
         "yaxis": "y"
        },
        {
         "alignmentgroup": "True",
         "hovertemplate": "Sanctioned_Entity=La Colombo Finanziaria Spa<br>Month of Sanction=%{x}<br>Sanctioned Amount (€)=%{y}<extra></extra>",
         "legendgroup": "La Colombo Finanziaria Spa",
         "marker": {
          "color": "#FF97FF",
          "pattern": {
           "shape": ""
          }
         },
         "name": "La Colombo Finanziar...",
         "offsetgroup": "La Colombo Finanziaria Spa",
         "orientation": "v",
         "showlegend": true,
         "textposition": "auto",
         "type": "bar",
         "x": [
          "2020-01"
         ],
         "xaxis": "x",
         "y": [
          60000
         ],
         "yaxis": "y"
        },
        {
         "alignmentgroup": "True",
         "hovertemplate": "Sanctioned_Entity=Advam Partners SGR Spa<br>Month of Sanction=%{x}<br>Sanctioned Amount (€)=%{y}<extra></extra>",
         "legendgroup": "Advam Partners SGR Spa",
         "marker": {
          "color": "#FECB52",
          "pattern": {
           "shape": ""
          }
         },
         "name": "Advam Partners SGR S...",
         "offsetgroup": "Advam Partners SGR Spa",
         "orientation": "v",
         "showlegend": true,
         "textposition": "auto",
         "type": "bar",
         "x": [
          "2020-02"
         ],
         "xaxis": "x",
         "y": [
          100000
         ],
         "yaxis": "y"
        },
        {
         "alignmentgroup": "True",
         "hovertemplate": "Sanctioned_Entity=Banco BPM SpA<br>Month of Sanction=%{x}<br>Sanctioned Amount (€)=%{y}<extra></extra>",
         "legendgroup": "Banco BPM SpA",
         "marker": {
          "color": "#636efa",
          "pattern": {
           "shape": ""
          }
         },
         "name": "Banco BPM SpA",
         "offsetgroup": "Banco BPM SpA",
         "orientation": "v",
         "showlegend": true,
         "textposition": "auto",
         "type": "bar",
         "x": [
          "2020-02"
         ],
         "xaxis": "x",
         "y": [
          1760
         ],
         "yaxis": "y"
        },
        {
         "alignmentgroup": "True",
         "hovertemplate": "Sanctioned_Entity=Banca C.R. Asti SpA<br>Month of Sanction=%{x}<br>Sanctioned Amount (€)=%{y}<extra></extra>",
         "legendgroup": "Banca C.R. Asti SpA",
         "marker": {
          "color": "#EF553B",
          "pattern": {
           "shape": ""
          }
         },
         "name": "Banca C.R. Asti SpA",
         "offsetgroup": "Banca C.R. Asti SpA",
         "orientation": "v",
         "showlegend": true,
         "textposition": "auto",
         "type": "bar",
         "x": [
          "2020-03"
         ],
         "xaxis": "x",
         "y": [
          186000
         ],
         "yaxis": "y"
        },
        {
         "alignmentgroup": "True",
         "hovertemplate": "Sanctioned_Entity=Banca Centropadana Credito Cooperativo Sc<br>Month of Sanction=%{x}<br>Sanctioned Amount (€)=%{y}<extra></extra>",
         "legendgroup": "Banca Centropadana Credito Cooperativo Sc",
         "marker": {
          "color": "#00cc96",
          "pattern": {
           "shape": ""
          }
         },
         "name": "Banca Centropadana C...",
         "offsetgroup": "Banca Centropadana Credito Cooperativo Sc",
         "orientation": "v",
         "showlegend": true,
         "textposition": "auto",
         "type": "bar",
         "x": [
          "2020-03"
         ],
         "xaxis": "x",
         "y": [
          570000
         ],
         "yaxis": "y"
        },
        {
         "alignmentgroup": "True",
         "hovertemplate": "Sanctioned_Entity=Banca dell’Alta Murgia Credito Cooperativo<br>Month of Sanction=%{x}<br>Sanctioned Amount (€)=%{y}<extra></extra>",
         "legendgroup": "Banca dell’Alta Murgia Credito Cooperativo",
         "marker": {
          "color": "#ab63fa",
          "pattern": {
           "shape": ""
          }
         },
         "name": "Banca dell’Alta Murg...",
         "offsetgroup": "Banca dell’Alta Murgia Credito Cooperativo",
         "orientation": "v",
         "showlegend": true,
         "textposition": "auto",
         "type": "bar",
         "x": [
          "2020-03"
         ],
         "xaxis": "x",
         "y": [
          30000
         ],
         "yaxis": "y"
        },
        {
         "alignmentgroup": "True",
         "hovertemplate": "Sanctioned_Entity=Finaosta Spa<br>Month of Sanction=%{x}<br>Sanctioned Amount (€)=%{y}<extra></extra>",
         "legendgroup": "Finaosta Spa",
         "marker": {
          "color": "#FFA15A",
          "pattern": {
           "shape": ""
          }
         },
         "name": "Finaosta Spa",
         "offsetgroup": "Finaosta Spa",
         "orientation": "v",
         "showlegend": true,
         "textposition": "auto",
         "type": "bar",
         "x": [
          "2020-03"
         ],
         "xaxis": "x",
         "y": [
          45000
         ],
         "yaxis": "y"
        },
        {
         "alignmentgroup": "True",
         "hovertemplate": "Sanctioned_Entity=Advance Sim Spa (in liquidation coatta amministrativa)<br>Month of Sanction=%{x}<br>Sanctioned Amount (€)=%{y}<extra></extra>",
         "legendgroup": "Advance Sim Spa (in liquidation coatta amministrativa)",
         "marker": {
          "color": "#19d3f3",
          "pattern": {
           "shape": ""
          }
         },
         "name": "Advance Sim Spa (in ...",
         "offsetgroup": "Advance Sim Spa (in liquidation coatta amministrativa)",
         "orientation": "v",
         "showlegend": true,
         "textposition": "auto",
         "type": "bar",
         "x": [
          "2020-06"
         ],
         "xaxis": "x",
         "y": [
          40000
         ],
         "yaxis": "y"
        },
        {
         "alignmentgroup": "True",
         "hovertemplate": "Sanctioned_Entity=Banca Intermobiliare di Investimenti e Gestioni SpA<br>Month of Sanction=%{x}<br>Sanctioned Amount (€)=%{y}<extra></extra>",
         "legendgroup": "Banca Intermobiliare di Investimenti e Gestioni SpA",
         "marker": {
          "color": "#FF6692",
          "pattern": {
           "shape": ""
          }
         },
         "name": "Banca Intermobiliare...",
         "offsetgroup": "Banca Intermobiliare di Investimenti e Gestioni SpA",
         "orientation": "v",
         "showlegend": true,
         "textposition": "auto",
         "type": "bar",
         "x": [
          "2020-06"
         ],
         "xaxis": "x",
         "y": [
          30
         ],
         "yaxis": "y"
        },
        {
         "alignmentgroup": "True",
         "hovertemplate": "Sanctioned_Entity=Europa Risorse SGR SpA<br>Month of Sanction=%{x}<br>Sanctioned Amount (€)=%{y}<extra></extra>",
         "legendgroup": "Europa Risorse SGR SpA",
         "marker": {
          "color": "#B6E880",
          "pattern": {
           "shape": ""
          }
         },
         "name": "Europa Risorse SGR S...",
         "offsetgroup": "Europa Risorse SGR SpA",
         "orientation": "v",
         "showlegend": true,
         "textposition": "auto",
         "type": "bar",
         "x": [
          "2020-06"
         ],
         "xaxis": "x",
         "y": [
          30000
         ],
         "yaxis": "y"
        },
        {
         "alignmentgroup": "True",
         "hovertemplate": "Sanctioned_Entity=<br>Month of Sanction=%{x}<br>Sanctioned Amount (€)=%{y}<extra></extra>",
         "legendgroup": "",
         "marker": {
          "color": "#FF97FF",
          "pattern": {
           "shape": ""
          }
         },
         "name": "",
         "offsetgroup": "",
         "orientation": "v",
         "showlegend": false,
         "textposition": "auto",
         "type": "bar",
         "x": [
          "2020-07"
         ],
         "xaxis": "x",
         "y": [
          0
         ],
         "yaxis": "y"
        },
        {
         "alignmentgroup": "True",
         "hovertemplate": "Sanctioned_Entity=Banca Popolare di Bari S.p.A. in a.s.<br>Month of Sanction=%{x}<br>Sanctioned Amount (€)=%{y}<extra></extra>",
         "legendgroup": "Banca Popolare di Bari S.p.A. in a.s.",
         "marker": {
          "color": "#FECB52",
          "pattern": {
           "shape": ""
          }
         },
         "name": "Banca Popolare di Ba...",
         "offsetgroup": "Banca Popolare di Bari S.p.A. in a.s.",
         "orientation": "v",
         "showlegend": true,
         "textposition": "auto",
         "type": "bar",
         "x": [
          "2020-07"
         ],
         "xaxis": "x",
         "y": [
          186104
         ],
         "yaxis": "y"
        },
        {
         "alignmentgroup": "True",
         "hovertemplate": "Sanctioned_Entity=Banca Popolare di Bari Scpa in a.s.<br>Month of Sanction=%{x}<br>Sanctioned Amount (€)=%{y}<extra></extra>",
         "legendgroup": "Banca Popolare di Bari Scpa in a.s.",
         "marker": {
          "color": "#636efa",
          "pattern": {
           "shape": ""
          }
         },
         "name": "Banca Popolare di Ba...",
         "offsetgroup": "Banca Popolare di Bari Scpa in a.s.",
         "orientation": "v",
         "showlegend": true,
         "textposition": "auto",
         "type": "bar",
         "x": [
          "2020-07"
         ],
         "xaxis": "x",
         "y": [
          100000
         ],
         "yaxis": "y"
        },
        {
         "alignmentgroup": "True",
         "hovertemplate": "Sanctioned_Entity=Banca del Fucino Spa<br>Month of Sanction=%{x}<br>Sanctioned Amount (€)=%{y}<extra></extra>",
         "legendgroup": "Banca del Fucino Spa",
         "marker": {
          "color": "#EF553B",
          "pattern": {
           "shape": ""
          }
         },
         "name": "Banca del Fucino Spa",
         "offsetgroup": "Banca del Fucino Spa",
         "orientation": "v",
         "showlegend": true,
         "textposition": "auto",
         "type": "bar",
         "x": [
          "2020-07"
         ],
         "xaxis": "x",
         "y": [
          0
         ],
         "yaxis": "y"
        },
        {
         "alignmentgroup": "True",
         "hovertemplate": "Sanctioned_Entity=CRU Giudicarie Valsabbia Paganella BCC Società cooperativa<br>Month of Sanction=%{x}<br>Sanctioned Amount (€)=%{y}<extra></extra>",
         "legendgroup": "CRU Giudicarie Valsabbia Paganella BCC Società cooperativa",
         "marker": {
          "color": "#00cc96",
          "pattern": {
           "shape": ""
          }
         },
         "name": "CRU Giudicarie Valsa...",
         "offsetgroup": "CRU Giudicarie Valsabbia Paganella BCC Società cooperativa",
         "orientation": "v",
         "showlegend": true,
         "textposition": "auto",
         "type": "bar",
         "x": [
          "2020-07"
         ],
         "xaxis": "x",
         "y": [
          30000
         ],
         "yaxis": "y"
        },
        {
         "alignmentgroup": "True",
         "hovertemplate": "Sanctioned_Entity=Cassa Lombarda SpA<br>Month of Sanction=%{x}<br>Sanctioned Amount (€)=%{y}<extra></extra>",
         "legendgroup": "Cassa Lombarda SpA",
         "marker": {
          "color": "#ab63fa",
          "pattern": {
           "shape": ""
          }
         },
         "name": "Cassa Lombarda SpA",
         "offsetgroup": "Cassa Lombarda SpA",
         "orientation": "v",
         "showlegend": true,
         "textposition": "auto",
         "type": "bar",
         "x": [
          "2020-07"
         ],
         "xaxis": "x",
         "y": [
          90000
         ],
         "yaxis": "y"
        },
        {
         "alignmentgroup": "True",
         "hovertemplate": "Sanctioned_Entity=Istituto Finanziario Europeo Spa<br>Month of Sanction=%{x}<br>Sanctioned Amount (€)=%{y}<extra></extra>",
         "legendgroup": "Istituto Finanziario Europeo Spa",
         "marker": {
          "color": "#FFA15A",
          "pattern": {
           "shape": ""
          }
         },
         "name": "Istituto Finanziario...",
         "offsetgroup": "Istituto Finanziario Europeo Spa",
         "orientation": "v",
         "showlegend": true,
         "textposition": "auto",
         "type": "bar",
         "x": [
          "2020-07"
         ],
         "xaxis": "x",
         "y": [
          59000
         ],
         "yaxis": "y"
        },
        {
         "alignmentgroup": "True",
         "hovertemplate": "Sanctioned_Entity=We Finance Spa<br>Month of Sanction=%{x}<br>Sanctioned Amount (€)=%{y}<extra></extra>",
         "legendgroup": "We Finance Spa",
         "marker": {
          "color": "#19d3f3",
          "pattern": {
           "shape": ""
          }
         },
         "name": "We Finance Spa",
         "offsetgroup": "We Finance Spa",
         "orientation": "v",
         "showlegend": true,
         "textposition": "auto",
         "type": "bar",
         "x": [
          "2020-07"
         ],
         "xaxis": "x",
         "y": [
          60000
         ],
         "yaxis": "y"
        },
        {
         "alignmentgroup": "True",
         "hovertemplate": "Sanctioned_Entity=UBS Fiduciaria Spa<br>Month of Sanction=%{x}<br>Sanctioned Amount (€)=%{y}<extra></extra>",
         "legendgroup": "UBS Fiduciaria Spa",
         "marker": {
          "color": "#FF6692",
          "pattern": {
           "shape": ""
          }
         },
         "name": "UBS Fiduciaria Spa",
         "offsetgroup": "UBS Fiduciaria Spa",
         "orientation": "v",
         "showlegend": true,
         "textposition": "auto",
         "type": "bar",
         "x": [
          "2020-08"
         ],
         "xaxis": "x",
         "y": [
          0
         ],
         "yaxis": "y"
        },
        {
         "alignmentgroup": "True",
         "hovertemplate": "Sanctioned_Entity=Attijariwafa Bank Europe, Succursale italiana<br>Month of Sanction=%{x}<br>Sanctioned Amount (€)=%{y}<extra></extra>",
         "legendgroup": "Attijariwafa Bank Europe, Succursale italiana",
         "marker": {
          "color": "#B6E880",
          "pattern": {
           "shape": ""
          }
         },
         "name": "Attijariwafa Bank Eu...",
         "offsetgroup": "Attijariwafa Bank Europe, Succursale italiana",
         "orientation": "v",
         "showlegend": true,
         "textposition": "auto",
         "type": "bar",
         "x": [
          "2020-09"
         ],
         "xaxis": "x",
         "y": [
          65000
         ],
         "yaxis": "y"
        },
        {
         "alignmentgroup": "True",
         "hovertemplate": "Sanctioned_Entity=BNP Paribas Real Estate Investment Management Italy SGR<br>Month of Sanction=%{x}<br>Sanctioned Amount (€)=%{y}<extra></extra>",
         "legendgroup": "BNP Paribas Real Estate Investment Management Italy SGR",
         "marker": {
          "color": "#FF97FF",
          "pattern": {
           "shape": ""
          }
         },
         "name": "BNP Paribas Real Est...",
         "offsetgroup": "BNP Paribas Real Estate Investment Management Italy SGR",
         "orientation": "v",
         "showlegend": true,
         "textposition": "auto",
         "type": "bar",
         "x": [
          "2020-09"
         ],
         "xaxis": "x",
         "y": [
          114000
         ],
         "yaxis": "y"
        },
        {
         "alignmentgroup": "True",
         "hovertemplate": "Sanctioned_Entity=Banca Popolare dell’Alto Adige Spa<br>Month of Sanction=%{x}<br>Sanctioned Amount (€)=%{y}<extra></extra>",
         "legendgroup": "Banca Popolare dell’Alto Adige Spa",
         "marker": {
          "color": "#FECB52",
          "pattern": {
           "shape": ""
          }
         },
         "name": "Banca Popolare dell’...",
         "offsetgroup": "Banca Popolare dell’Alto Adige Spa",
         "orientation": "v",
         "showlegend": true,
         "textposition": "auto",
         "type": "bar",
         "x": [
          "2020-09"
         ],
         "xaxis": "x",
         "y": [
          145000
         ],
         "yaxis": "y"
        },
        {
         "alignmentgroup": "True",
         "hovertemplate": "Sanctioned_Entity=Banca Popolare di Puglia e Basilicata Scpa<br>Month of Sanction=%{x}<br>Sanctioned Amount (€)=%{y}<extra></extra>",
         "legendgroup": "Banca Popolare di Puglia e Basilicata Scpa",
         "marker": {
          "color": "#636efa",
          "pattern": {
           "shape": ""
          }
         },
         "name": "Banca Popolare di Pu...",
         "offsetgroup": "Banca Popolare di Puglia e Basilicata Scpa",
         "orientation": "v",
         "showlegend": true,
         "textposition": "auto",
         "type": "bar",
         "x": [
          "2020-10"
         ],
         "xaxis": "x",
         "y": [
          30000
         ],
         "yaxis": "y"
        },
        {
         "alignmentgroup": "True",
         "hovertemplate": "Sanctioned_Entity=Banca del Piemonte SpA<br>Month of Sanction=%{x}<br>Sanctioned Amount (€)=%{y}<extra></extra>",
         "legendgroup": "Banca del Piemonte SpA",
         "marker": {
          "color": "#EF553B",
          "pattern": {
           "shape": ""
          }
         },
         "name": "Banca del Piemonte S...",
         "offsetgroup": "Banca del Piemonte SpA",
         "orientation": "v",
         "showlegend": true,
         "textposition": "auto",
         "type": "bar",
         "x": [
          "2020-10"
         ],
         "xaxis": "x",
         "y": [
          30000
         ],
         "yaxis": "y"
        },
        {
         "alignmentgroup": "True",
         "hovertemplate": "Sanctioned_Entity=IRFIS – Finanziaria per lo Sviluppo della Sicilia Spa<br>Month of Sanction=%{x}<br>Sanctioned Amount (€)=%{y}<extra></extra>",
         "legendgroup": "IRFIS – Finanziaria per lo Sviluppo della Sicilia Spa",
         "marker": {
          "color": "#00cc96",
          "pattern": {
           "shape": ""
          }
         },
         "name": "IRFIS – Finanziaria ...",
         "offsetgroup": "IRFIS – Finanziaria per lo Sviluppo della Sicilia Spa",
         "orientation": "v",
         "showlegend": true,
         "textposition": "auto",
         "type": "bar",
         "x": [
          "2020-10"
         ],
         "xaxis": "x",
         "y": [
          30000
         ],
         "yaxis": "y"
        },
        {
         "alignmentgroup": "True",
         "hovertemplate": "Sanctioned_Entity=Namira SGR SpA<br>Month of Sanction=%{x}<br>Sanctioned Amount (€)=%{y}<extra></extra>",
         "legendgroup": "Namira SGR SpA",
         "marker": {
          "color": "#ab63fa",
          "pattern": {
           "shape": ""
          }
         },
         "name": "Namira SGR SpA",
         "offsetgroup": "Namira SGR SpA",
         "orientation": "v",
         "showlegend": true,
         "textposition": "auto",
         "type": "bar",
         "x": [
          "2020-10"
         ],
         "xaxis": "x",
         "y": [
          60000
         ],
         "yaxis": "y"
        },
        {
         "alignmentgroup": "True",
         "hovertemplate": "Sanctioned_Entity=Namira SGR Spa<br>Month of Sanction=%{x}<br>Sanctioned Amount (€)=%{y}<extra></extra>",
         "legendgroup": "Namira SGR Spa",
         "marker": {
          "color": "#FFA15A",
          "pattern": {
           "shape": ""
          }
         },
         "name": "Namira SGR Spa",
         "offsetgroup": "Namira SGR Spa",
         "orientation": "v",
         "showlegend": true,
         "textposition": "auto",
         "type": "bar",
         "x": [
          "2020-10"
         ],
         "xaxis": "x",
         "y": [
          30000
         ],
         "yaxis": "y"
        },
        {
         "alignmentgroup": "True",
         "hovertemplate": "Sanctioned_Entity=Races Finanziaria Srl (in liquidation)<br>Month of Sanction=%{x}<br>Sanctioned Amount (€)=%{y}<extra></extra>",
         "legendgroup": "Races Finanziaria Srl (in liquidation)",
         "marker": {
          "color": "#19d3f3",
          "pattern": {
           "shape": ""
          }
         },
         "name": "Races Finanziaria Sr...",
         "offsetgroup": "Races Finanziaria Srl (in liquidation)",
         "orientation": "v",
         "showlegend": true,
         "textposition": "auto",
         "type": "bar",
         "x": [
          "2020-10"
         ],
         "xaxis": "x",
         "y": [
          30000
         ],
         "yaxis": "y"
        },
        {
         "alignmentgroup": "True",
         "hovertemplate": "Sanctioned_Entity=Ipagoo LLP<br>Month of Sanction=%{x}<br>Sanctioned Amount (€)=%{y}<extra></extra>",
         "legendgroup": "Ipagoo LLP",
         "marker": {
          "color": "#FF6692",
          "pattern": {
           "shape": ""
          }
         },
         "name": "Ipagoo LLP",
         "offsetgroup": "Ipagoo LLP",
         "orientation": "v",
         "showlegend": true,
         "textposition": "auto",
         "type": "bar",
         "x": [
          "2020-11"
         ],
         "xaxis": "x",
         "y": [
          30000
         ],
         "yaxis": "y"
        },
        {
         "alignmentgroup": "True",
         "hovertemplate": "Sanctioned_Entity=Serenissima SGR SpA<br>Month of Sanction=%{x}<br>Sanctioned Amount (€)=%{y}<extra></extra>",
         "legendgroup": "Serenissima SGR SpA",
         "marker": {
          "color": "#B6E880",
          "pattern": {
           "shape": ""
          }
         },
         "name": "Serenissima SGR SpA",
         "offsetgroup": "Serenissima SGR SpA",
         "orientation": "v",
         "showlegend": true,
         "textposition": "auto",
         "type": "bar",
         "x": [
          "2020-11"
         ],
         "xaxis": "x",
         "y": [
          112
         ],
         "yaxis": "y"
        },
        {
         "alignmentgroup": "True",
         "hovertemplate": "Sanctioned_Entity=Serenissima SGR Spa<br>Month of Sanction=%{x}<br>Sanctioned Amount (€)=%{y}<extra></extra>",
         "legendgroup": "Serenissima SGR Spa",
         "marker": {
          "color": "#FF97FF",
          "pattern": {
           "shape": ""
          }
         },
         "name": "Serenissima SGR Spa",
         "offsetgroup": "Serenissima SGR Spa",
         "orientation": "v",
         "showlegend": true,
         "textposition": "auto",
         "type": "bar",
         "x": [
          "2020-11"
         ],
         "xaxis": "x",
         "y": [
          30000
         ],
         "yaxis": "y"
        },
        {
         "alignmentgroup": "True",
         "hovertemplate": "Sanctioned_Entity=Cordusio SIM Spa<br>Month of Sanction=%{x}<br>Sanctioned Amount (€)=%{y}<extra></extra>",
         "legendgroup": "Cordusio SIM Spa",
         "marker": {
          "color": "#FECB52",
          "pattern": {
           "shape": ""
          }
         },
         "name": "Cordusio SIM Spa",
         "offsetgroup": "Cordusio SIM Spa",
         "orientation": "v",
         "showlegend": true,
         "textposition": "auto",
         "type": "bar",
         "x": [
          "2020-12"
         ],
         "xaxis": "x",
         "y": [
          30000
         ],
         "yaxis": "y"
        },
        {
         "alignmentgroup": "True",
         "hovertemplate": "Sanctioned_Entity=Giotto SIM Spa (ora Giotto Cellino Sim Spa)<br>Month of Sanction=%{x}<br>Sanctioned Amount (€)=%{y}<extra></extra>",
         "legendgroup": "Giotto SIM Spa (ora Giotto Cellino Sim Spa)",
         "marker": {
          "color": "#636efa",
          "pattern": {
           "shape": ""
          }
         },
         "name": "Giotto SIM Spa (ora ...",
         "offsetgroup": "Giotto SIM Spa (ora Giotto Cellino Sim Spa)",
         "orientation": "v",
         "showlegend": true,
         "textposition": "auto",
         "type": "bar",
         "x": [
          "2020-12"
         ],
         "xaxis": "x",
         "y": [
          30000
         ],
         "yaxis": "y"
        },
        {
         "alignmentgroup": "True",
         "hovertemplate": "Sanctioned_Entity=Société Générale Securities Services SpA<br>Month of Sanction=%{x}<br>Sanctioned Amount (€)=%{y}<extra></extra>",
         "legendgroup": "Société Générale Securities Services SpA",
         "marker": {
          "color": "#EF553B",
          "pattern": {
           "shape": ""
          }
         },
         "name": "Société Générale Sec...",
         "offsetgroup": "Société Générale Securities Services SpA",
         "orientation": "v",
         "showlegend": true,
         "textposition": "auto",
         "type": "bar",
         "x": [
          "2021-01"
         ],
         "xaxis": "x",
         "y": [
          55000
         ],
         "yaxis": "y"
        },
        {
         "alignmentgroup": "True",
         "hovertemplate": "Sanctioned_Entity=Banca Popolare di Cortona SCPA<br>Month of Sanction=%{x}<br>Sanctioned Amount (€)=%{y}<extra></extra>",
         "legendgroup": "Banca Popolare di Cortona SCPA",
         "marker": {
          "color": "#00cc96",
          "pattern": {
           "shape": ""
          }
         },
         "name": "Banca Popolare di Co...",
         "offsetgroup": "Banca Popolare di Cortona SCPA",
         "orientation": "v",
         "showlegend": true,
         "textposition": "auto",
         "type": "bar",
         "x": [
          "2021-03"
         ],
         "xaxis": "x",
         "y": [
          60000
         ],
         "yaxis": "y"
        },
        {
         "alignmentgroup": "True",
         "hovertemplate": "Sanctioned_Entity=Banca di Credito Peloritano SpA (in amministrazione straordinaria)<br>Month of Sanction=%{x}<br>Sanctioned Amount (€)=%{y}<extra></extra>",
         "legendgroup": "Banca di Credito Peloritano SpA (in amministrazione straordinaria)",
         "marker": {
          "color": "#ab63fa",
          "pattern": {
           "shape": ""
          }
         },
         "name": "Banca di Credito Pel...",
         "offsetgroup": "Banca di Credito Peloritano SpA (in amministrazione straordinaria)",
         "orientation": "v",
         "showlegend": true,
         "textposition": "auto",
         "type": "bar",
         "x": [
          "2021-03"
         ],
         "xaxis": "x",
         "y": [
          100000
         ],
         "yaxis": "y"
        },
        {
         "alignmentgroup": "True",
         "hovertemplate": "Sanctioned_Entity=Banca di Credito Peloritano Spa (in amministrazione straordinaria)<br>Month of Sanction=%{x}<br>Sanctioned Amount (€)=%{y}<extra></extra>",
         "legendgroup": "Banca di Credito Peloritano Spa (in amministrazione straordinaria)",
         "marker": {
          "color": "#FFA15A",
          "pattern": {
           "shape": ""
          }
         },
         "name": "Banca di Credito Pel...",
         "offsetgroup": "Banca di Credito Peloritano Spa (in amministrazione straordinaria)",
         "orientation": "v",
         "showlegend": true,
         "textposition": "auto",
         "type": "bar",
         "x": [
          "2021-03"
         ],
         "xaxis": "x",
         "y": [
          100000
         ],
         "yaxis": "y"
        },
        {
         "alignmentgroup": "True",
         "hovertemplate": "Sanctioned_Entity=Cassa Raiffeisen Schlern-Rosengarten (società cooperativa)<br>Month of Sanction=%{x}<br>Sanctioned Amount (€)=%{y}<extra></extra>",
         "legendgroup": "Cassa Raiffeisen Schlern-Rosengarten (società cooperativa)",
         "marker": {
          "color": "#19d3f3",
          "pattern": {
           "shape": ""
          }
         },
         "name": "Cassa Raiffeisen Sch...",
         "offsetgroup": "Cassa Raiffeisen Schlern-Rosengarten (società cooperativa)",
         "orientation": "v",
         "showlegend": true,
         "textposition": "auto",
         "type": "bar",
         "x": [
          "2021-03"
         ],
         "xaxis": "x",
         "y": [
          30000
         ],
         "yaxis": "y"
        },
        {
         "alignmentgroup": "True",
         "hovertemplate": "Sanctioned_Entity=Finanza & Factor Spa (now in liquidation)<br>Month of Sanction=%{x}<br>Sanctioned Amount (€)=%{y}<extra></extra>",
         "legendgroup": "Finanza & Factor Spa (now in liquidation)",
         "marker": {
          "color": "#FF6692",
          "pattern": {
           "shape": ""
          }
         },
         "name": "Finanza & Factor Spa...",
         "offsetgroup": "Finanza & Factor Spa (now in liquidation)",
         "orientation": "v",
         "showlegend": true,
         "textposition": "auto",
         "type": "bar",
         "x": [
          "2021-03"
         ],
         "xaxis": "x",
         "y": [
          102102
         ],
         "yaxis": "y"
        },
        {
         "alignmentgroup": "True",
         "hovertemplate": "Sanctioned_Entity=BCC del Crotonese CC SC<br>Month of Sanction=%{x}<br>Sanctioned Amount (€)=%{y}<extra></extra>",
         "legendgroup": "BCC del Crotonese CC SC",
         "marker": {
          "color": "#B6E880",
          "pattern": {
           "shape": ""
          }
         },
         "name": "BCC del Crotonese CC...",
         "offsetgroup": "BCC del Crotonese CC SC",
         "orientation": "v",
         "showlegend": true,
         "textposition": "auto",
         "type": "bar",
         "x": [
          "2021-04"
         ],
         "xaxis": "x",
         "y": [
          60000
         ],
         "yaxis": "y"
        },
        {
         "alignmentgroup": "True",
         "hovertemplate": "Sanctioned_Entity=Banca Popolare di Bari SpA<br>Month of Sanction=%{x}<br>Sanctioned Amount (€)=%{y}<extra></extra>",
         "legendgroup": "Banca Popolare di Bari SpA",
         "marker": {
          "color": "#FF97FF",
          "pattern": {
           "shape": ""
          }
         },
         "name": "Banca Popolare di Ba...",
         "offsetgroup": "Banca Popolare di Bari SpA",
         "orientation": "v",
         "showlegend": true,
         "textposition": "auto",
         "type": "bar",
         "x": [
          "2021-04",
          "2021-05"
         ],
         "xaxis": "x",
         "y": [
          50000,
          35000
         ],
         "yaxis": "y"
        },
        {
         "alignmentgroup": "True",
         "hovertemplate": "Sanctioned_Entity=Dynamica Retail Spa<br>Month of Sanction=%{x}<br>Sanctioned Amount (€)=%{y}<extra></extra>",
         "legendgroup": "Dynamica Retail Spa",
         "marker": {
          "color": "#FECB52",
          "pattern": {
           "shape": ""
          }
         },
         "name": "Dynamica Retail Spa",
         "offsetgroup": "Dynamica Retail Spa",
         "orientation": "v",
         "showlegend": true,
         "textposition": "auto",
         "type": "bar",
         "x": [
          "2021-04"
         ],
         "xaxis": "x",
         "y": [
          30000
         ],
         "yaxis": "y"
        },
        {
         "alignmentgroup": "True",
         "hovertemplate": "Sanctioned_Entity=BCC G. Toniolo di San Cataldo soc. coop.<br>Month of Sanction=%{x}<br>Sanctioned Amount (€)=%{y}<extra></extra>",
         "legendgroup": "BCC G. Toniolo di San Cataldo soc. coop.",
         "marker": {
          "color": "#636efa",
          "pattern": {
           "shape": ""
          }
         },
         "name": "BCC G. Toniolo di Sa...",
         "offsetgroup": "BCC G. Toniolo di San Cataldo soc. coop.",
         "orientation": "v",
         "showlegend": true,
         "textposition": "auto",
         "type": "bar",
         "x": [
          "2021-05"
         ],
         "xaxis": "x",
         "y": [
          30000
         ],
         "yaxis": "y"
        },
        {
         "alignmentgroup": "True",
         "hovertemplate": "Sanctioned_Entity=Diners Club Italia Srl<br>Month of Sanction=%{x}<br>Sanctioned Amount (€)=%{y}<extra></extra>",
         "legendgroup": "Diners Club Italia Srl",
         "marker": {
          "color": "#EF553B",
          "pattern": {
           "shape": ""
          }
         },
         "name": "Diners Club Italia S...",
         "offsetgroup": "Diners Club Italia Srl",
         "orientation": "v",
         "showlegend": true,
         "textposition": "auto",
         "type": "bar",
         "x": [
          "2021-05"
         ],
         "xaxis": "x",
         "y": [
          30000
         ],
         "yaxis": "y"
        },
        {
         "alignmentgroup": "True",
         "hovertemplate": "Sanctioned_Entity=Bancadvice.it Sas di Mazzone A & C<br>Month of Sanction=%{x}<br>Sanctioned Amount (€)=%{y}<extra></extra>",
         "legendgroup": "Bancadvice.it Sas di Mazzone A & C",
         "marker": {
          "color": "#00cc96",
          "pattern": {
           "shape": ""
          }
         },
         "name": "Bancadvice.it Sas di...",
         "offsetgroup": "Bancadvice.it Sas di Mazzone A & C",
         "orientation": "v",
         "showlegend": true,
         "textposition": "auto",
         "type": "bar",
         "x": [
          "2021-06"
         ],
         "xaxis": "x",
         "y": [
          30000
         ],
         "yaxis": "y"
        },
        {
         "alignmentgroup": "True",
         "hovertemplate": "Sanctioned_Entity=Credito Etneo – Banca di Credito Cooperativo Soc. Coop<br>Month of Sanction=%{x}<br>Sanctioned Amount (€)=%{y}<extra></extra>",
         "legendgroup": "Credito Etneo – Banca di Credito Cooperativo Soc. Coop",
         "marker": {
          "color": "#ab63fa",
          "pattern": {
           "shape": ""
          }
         },
         "name": "Credito Etneo – Banc...",
         "offsetgroup": "Credito Etneo – Banca di Credito Cooperativo Soc. Coop",
         "orientation": "v",
         "showlegend": true,
         "textposition": "auto",
         "type": "bar",
         "x": [
          "2021-06"
         ],
         "xaxis": "x",
         "y": [
          0
         ],
         "yaxis": "y"
        },
        {
         "alignmentgroup": "True",
         "hovertemplate": "Sanctioned_Entity=Davis & Morgan Spa<br>Month of Sanction=%{x}<br>Sanctioned Amount (€)=%{y}<extra></extra>",
         "legendgroup": "Davis & Morgan Spa",
         "marker": {
          "color": "#FFA15A",
          "pattern": {
           "shape": ""
          }
         },
         "name": "Davis & Morgan Spa",
         "offsetgroup": "Davis & Morgan Spa",
         "orientation": "v",
         "showlegend": true,
         "textposition": "auto",
         "type": "bar",
         "x": [
          "2021-06",
          "2021-11"
         ],
         "xaxis": "x",
         "y": [
          30000,
          50000
         ],
         "yaxis": "y"
        },
        {
         "alignmentgroup": "True",
         "hovertemplate": "Sanctioned_Entity=Invest Banca Spa in a.s.<br>Month of Sanction=%{x}<br>Sanctioned Amount (€)=%{y}<extra></extra>",
         "legendgroup": "Invest Banca Spa in a.s.",
         "marker": {
          "color": "#19d3f3",
          "pattern": {
           "shape": ""
          }
         },
         "name": "Invest Banca Spa in ...",
         "offsetgroup": "Invest Banca Spa in a.s.",
         "orientation": "v",
         "showlegend": true,
         "textposition": "auto",
         "type": "bar",
         "x": [
          "2021-06"
         ],
         "xaxis": "x",
         "y": [
          40000
         ],
         "yaxis": "y"
        },
        {
         "alignmentgroup": "True",
         "hovertemplate": "Sanctioned_Entity=Summa Service Srl<br>Month of Sanction=%{x}<br>Sanctioned Amount (€)=%{y}<extra></extra>",
         "legendgroup": "Summa Service Srl",
         "marker": {
          "color": "#FF6692",
          "pattern": {
           "shape": ""
          }
         },
         "name": "Summa Service Srl",
         "offsetgroup": "Summa Service Srl",
         "orientation": "v",
         "showlegend": true,
         "textposition": "auto",
         "type": "bar",
         "x": [
          "2021-07"
         ],
         "xaxis": "x",
         "y": [
          140000
         ],
         "yaxis": "y"
        },
        {
         "alignmentgroup": "True",
         "hovertemplate": "Sanctioned_Entity=Progetto SIM Spa (in administration)<br>Month of Sanction=%{x}<br>Sanctioned Amount (€)=%{y}<extra></extra>",
         "legendgroup": "Progetto SIM Spa (in administration)",
         "marker": {
          "color": "#B6E880",
          "pattern": {
           "shape": ""
          }
         },
         "name": "Progetto SIM Spa (in...",
         "offsetgroup": "Progetto SIM Spa (in administration)",
         "orientation": "v",
         "showlegend": true,
         "textposition": "auto",
         "type": "bar",
         "x": [
          "2021-08"
         ],
         "xaxis": "x",
         "y": [
          35260
         ],
         "yaxis": "y"
        },
        {
         "alignmentgroup": "True",
         "hovertemplate": "Sanctioned_Entity=Ifinvest SpA<br>Month of Sanction=%{x}<br>Sanctioned Amount (€)=%{y}<extra></extra>",
         "legendgroup": "Ifinvest SpA",
         "marker": {
          "color": "#FF97FF",
          "pattern": {
           "shape": ""
          }
         },
         "name": "Ifinvest SpA",
         "offsetgroup": "Ifinvest SpA",
         "orientation": "v",
         "showlegend": true,
         "textposition": "auto",
         "type": "bar",
         "x": [
          "2021-11"
         ],
         "xaxis": "x",
         "y": [
          60000
         ],
         "yaxis": "y"
        },
        {
         "alignmentgroup": "True",
         "hovertemplate": "Sanctioned_Entity=Banca Sistema SpA<br>Month of Sanction=%{x}<br>Sanctioned Amount (€)=%{y}<extra></extra>",
         "legendgroup": "Banca Sistema SpA",
         "marker": {
          "color": "#FECB52",
          "pattern": {
           "shape": ""
          }
         },
         "name": "Banca Sistema SpA",
         "offsetgroup": "Banca Sistema SpA",
         "orientation": "v",
         "showlegend": true,
         "textposition": "auto",
         "type": "bar",
         "x": [
          "2022-01",
          "2022-07"
         ],
         "xaxis": "x",
         "y": [
          85285,
          100000
         ],
         "yaxis": "y"
        },
        {
         "alignmentgroup": "True",
         "hovertemplate": "Sanctioned_Entity=Banca del Sud Spa (in administration)<br>Month of Sanction=%{x}<br>Sanctioned Amount (€)=%{y}<extra></extra>",
         "legendgroup": "Banca del Sud Spa (in administration)",
         "marker": {
          "color": "#636efa",
          "pattern": {
           "shape": ""
          }
         },
         "name": "Banca del Sud Spa (i...",
         "offsetgroup": "Banca del Sud Spa (in administration)",
         "orientation": "v",
         "showlegend": true,
         "textposition": "auto",
         "type": "bar",
         "x": [
          "2022-01"
         ],
         "xaxis": "x",
         "y": [
          57
         ],
         "yaxis": "y"
        },
        {
         "alignmentgroup": "True",
         "hovertemplate": "Sanctioned_Entity=Banca del Sud Spa (now in administration)<br>Month of Sanction=%{x}<br>Sanctioned Amount (€)=%{y}<extra></extra>",
         "legendgroup": "Banca del Sud Spa (now in administration)",
         "marker": {
          "color": "#EF553B",
          "pattern": {
           "shape": ""
          }
         },
         "name": "Banca del Sud Spa (n...",
         "offsetgroup": "Banca del Sud Spa (now in administration)",
         "orientation": "v",
         "showlegend": true,
         "textposition": "auto",
         "type": "bar",
         "x": [
          "2022-01"
         ],
         "xaxis": "x",
         "y": [
          30000
         ],
         "yaxis": "y"
        },
        {
         "alignmentgroup": "True",
         "hovertemplate": "Sanctioned_Entity=Se.Pa.Fin. Spa<br>Month of Sanction=%{x}<br>Sanctioned Amount (€)=%{y}<extra></extra>",
         "legendgroup": "Se.Pa.Fin. Spa",
         "marker": {
          "color": "#00cc96",
          "pattern": {
           "shape": ""
          }
         },
         "name": "Se.Pa.Fin. Spa",
         "offsetgroup": "Se.Pa.Fin. Spa",
         "orientation": "v",
         "showlegend": true,
         "textposition": "auto",
         "type": "bar",
         "x": [
          "2022-01"
         ],
         "xaxis": "x",
         "y": [
          0
         ],
         "yaxis": "y"
        },
        {
         "alignmentgroup": "True",
         "hovertemplate": "Sanctioned_Entity=Banca Popolare Vesuviana Sc<br>Month of Sanction=%{x}<br>Sanctioned Amount (€)=%{y}<extra></extra>",
         "legendgroup": "Banca Popolare Vesuviana Sc",
         "marker": {
          "color": "#ab63fa",
          "pattern": {
           "shape": ""
          }
         },
         "name": "Banca Popolare Vesuv...",
         "offsetgroup": "Banca Popolare Vesuviana Sc",
         "orientation": "v",
         "showlegend": true,
         "textposition": "auto",
         "type": "bar",
         "x": [
          "2022-02"
         ],
         "xaxis": "x",
         "y": [
          30000
         ],
         "yaxis": "y"
        },
        {
         "alignmentgroup": "True",
         "hovertemplate": "Sanctioned_Entity=Centotrenta Servicing Spa<br>Month of Sanction=%{x}<br>Sanctioned Amount (€)=%{y}<extra></extra>",
         "legendgroup": "Centotrenta Servicing Spa",
         "marker": {
          "color": "#FFA15A",
          "pattern": {
           "shape": ""
          }
         },
         "name": "Centotrenta Servicin...",
         "offsetgroup": "Centotrenta Servicing Spa",
         "orientation": "v",
         "showlegend": true,
         "textposition": "auto",
         "type": "bar",
         "x": [
          "2022-02"
         ],
         "xaxis": "x",
         "y": [
          40000
         ],
         "yaxis": "y"
        },
        {
         "alignmentgroup": "True",
         "hovertemplate": "Sanctioned_Entity=Banca Carige SpA<br>Month of Sanction=%{x}<br>Sanctioned Amount (€)=%{y}<extra></extra>",
         "legendgroup": "Banca Carige SpA",
         "marker": {
          "color": "#19d3f3",
          "pattern": {
           "shape": ""
          }
         },
         "name": "Banca Carige SpA",
         "offsetgroup": "Banca Carige SpA",
         "orientation": "v",
         "showlegend": true,
         "textposition": "auto",
         "type": "bar",
         "x": [
          "2022-03"
         ],
         "xaxis": "x",
         "y": [
          280000
         ],
         "yaxis": "y"
        },
        {
         "alignmentgroup": "True",
         "hovertemplate": "Sanctioned_Entity=Banque Chaabi du Maroc<br>Month of Sanction=%{x}<br>Sanctioned Amount (€)=%{y}<extra></extra>",
         "legendgroup": "Banque Chaabi du Maroc",
         "marker": {
          "color": "#FF6692",
          "pattern": {
           "shape": ""
          }
         },
         "name": "Banque Chaabi du Mar...",
         "offsetgroup": "Banque Chaabi du Maroc",
         "orientation": "v",
         "showlegend": true,
         "textposition": "auto",
         "type": "bar",
         "x": [
          "2022-03"
         ],
         "xaxis": "x",
         "y": [
          30000
         ],
         "yaxis": "y"
        },
        {
         "alignmentgroup": "True",
         "hovertemplate": "Sanctioned_Entity=Prestiamoci Spa<br>Month of Sanction=%{x}<br>Sanctioned Amount (€)=%{y}<extra></extra>",
         "legendgroup": "Prestiamoci Spa",
         "marker": {
          "color": "#B6E880",
          "pattern": {
           "shape": ""
          }
         },
         "name": "Prestiamoci Spa",
         "offsetgroup": "Prestiamoci Spa",
         "orientation": "v",
         "showlegend": true,
         "textposition": "auto",
         "type": "bar",
         "x": [
          "2022-03"
         ],
         "xaxis": "x",
         "y": [
          30000
         ],
         "yaxis": "y"
        },
        {
         "alignmentgroup": "True",
         "hovertemplate": "Sanctioned_Entity=UniCredit SpA<br>Month of Sanction=%{x}<br>Sanctioned Amount (€)=%{y}<extra></extra>",
         "legendgroup": "UniCredit SpA",
         "marker": {
          "color": "#FF97FF",
          "pattern": {
           "shape": ""
          }
         },
         "name": "UniCredit SpA",
         "offsetgroup": "UniCredit SpA",
         "orientation": "v",
         "showlegend": true,
         "textposition": "auto",
         "type": "bar",
         "x": [
          "2022-03"
         ],
         "xaxis": "x",
         "y": [
          0
         ],
         "yaxis": "y"
        },
        {
         "alignmentgroup": "True",
         "hovertemplate": "Sanctioned_Entity=Aigis Banca Spa (in liquidation coatta amministrativa)<br>Month of Sanction=%{x}<br>Sanctioned Amount (€)=%{y}<extra></extra>",
         "legendgroup": "Aigis Banca Spa (in liquidation coatta amministrativa)",
         "marker": {
          "color": "#FECB52",
          "pattern": {
           "shape": ""
          }
         },
         "name": "Aigis Banca Spa (in ...",
         "offsetgroup": "Aigis Banca Spa (in liquidation coatta amministrativa)",
         "orientation": "v",
         "showlegend": true,
         "textposition": "auto",
         "type": "bar",
         "x": [
          "2022-04"
         ],
         "xaxis": "x",
         "y": [
          35000
         ],
         "yaxis": "y"
        },
        {
         "alignmentgroup": "True",
         "hovertemplate": "Sanctioned_Entity=BCC dei Colli Albani<br>Month of Sanction=%{x}<br>Sanctioned Amount (€)=%{y}<extra></extra>",
         "legendgroup": "BCC dei Colli Albani",
         "marker": {
          "color": "#636efa",
          "pattern": {
           "shape": ""
          }
         },
         "name": "BCC dei Colli Albani",
         "offsetgroup": "BCC dei Colli Albani",
         "orientation": "v",
         "showlegend": true,
         "textposition": "auto",
         "type": "bar",
         "x": [
          "2022-04"
         ],
         "xaxis": "x",
         "y": [
          30000
         ],
         "yaxis": "y"
        },
        {
         "alignmentgroup": "True",
         "hovertemplate": "Sanctioned_Entity=Directa SIM SpA<br>Month of Sanction=%{x}<br>Sanctioned Amount (€)=%{y}<extra></extra>",
         "legendgroup": "Directa SIM SpA",
         "marker": {
          "color": "#EF553B",
          "pattern": {
           "shape": ""
          }
         },
         "name": "Directa SIM SpA",
         "offsetgroup": "Directa SIM SpA",
         "orientation": "v",
         "showlegend": true,
         "textposition": "auto",
         "type": "bar",
         "x": [
          "2022-04"
         ],
         "xaxis": "x",
         "y": [
          30000
         ],
         "yaxis": "y"
        },
        {
         "alignmentgroup": "True",
         "hovertemplate": "Sanctioned_Entity=Banca Popolare di Lajatico<br>Month of Sanction=%{x}<br>Sanctioned Amount (€)=%{y}<extra></extra>",
         "legendgroup": "Banca Popolare di Lajatico",
         "marker": {
          "color": "#00cc96",
          "pattern": {
           "shape": ""
          }
         },
         "name": "Banca Popolare di La...",
         "offsetgroup": "Banca Popolare di Lajatico",
         "orientation": "v",
         "showlegend": true,
         "textposition": "auto",
         "type": "bar",
         "x": [
          "2022-07"
         ],
         "xaxis": "x",
         "y": [
          30000
         ],
         "yaxis": "y"
        },
        {
         "alignmentgroup": "True",
         "hovertemplate": "Sanctioned_Entity=Credimi SpA<br>Month of Sanction=%{x}<br>Sanctioned Amount (€)=%{y}<extra></extra>",
         "legendgroup": "Credimi SpA",
         "marker": {
          "color": "#ab63fa",
          "pattern": {
           "shape": ""
          }
         },
         "name": "Credimi SpA",
         "offsetgroup": "Credimi SpA",
         "orientation": "v",
         "showlegend": true,
         "textposition": "auto",
         "type": "bar",
         "x": [
          "2022-07"
         ],
         "xaxis": "x",
         "y": [
          0
         ],
         "yaxis": "y"
        },
        {
         "alignmentgroup": "True",
         "hovertemplate": "Sanctioned_Entity=Mondial Bony Service Spa<br>Month of Sanction=%{x}<br>Sanctioned Amount (€)=%{y}<extra></extra>",
         "legendgroup": "Mondial Bony Service Spa",
         "marker": {
          "color": "#FFA15A",
          "pattern": {
           "shape": ""
          }
         },
         "name": "Mondial Bony Service...",
         "offsetgroup": "Mondial Bony Service Spa",
         "orientation": "v",
         "showlegend": true,
         "textposition": "auto",
         "type": "bar",
         "x": [
          "2022-09"
         ],
         "xaxis": "x",
         "y": [
          60000
         ],
         "yaxis": "y"
        },
        {
         "alignmentgroup": "True",
         "hovertemplate": "Sanctioned_Entity=ART SGR Spa<br>Month of Sanction=%{x}<br>Sanctioned Amount (€)=%{y}<extra></extra>",
         "legendgroup": "ART SGR Spa",
         "marker": {
          "color": "#19d3f3",
          "pattern": {
           "shape": ""
          }
         },
         "name": "ART SGR Spa",
         "offsetgroup": "ART SGR Spa",
         "orientation": "v",
         "showlegend": true,
         "textposition": "auto",
         "type": "bar",
         "x": [
          "2022-11"
         ],
         "xaxis": "x",
         "y": [
          30000
         ],
         "yaxis": "y"
        },
        {
         "alignmentgroup": "True",
         "hovertemplate": "Sanctioned_Entity=Fin Sarda Spa<br>Month of Sanction=%{x}<br>Sanctioned Amount (€)=%{y}<extra></extra>",
         "legendgroup": "Fin Sarda Spa",
         "marker": {
          "color": "#FF6692",
          "pattern": {
           "shape": ""
          }
         },
         "name": "Fin Sarda Spa",
         "offsetgroup": "Fin Sarda Spa",
         "orientation": "v",
         "showlegend": true,
         "textposition": "auto",
         "type": "bar",
         "x": [
          "2022-12"
         ],
         "xaxis": "x",
         "y": [
          30000
         ],
         "yaxis": "y"
        },
        {
         "alignmentgroup": "True",
         "hovertemplate": "Sanctioned_Entity=N26 Bank GmbH<br>Month of Sanction=%{x}<br>Sanctioned Amount (€)=%{y}<extra></extra>",
         "legendgroup": "N26 Bank GmbH",
         "marker": {
          "color": "#B6E880",
          "pattern": {
           "shape": ""
          }
         },
         "name": "N26 Bank GmbH",
         "offsetgroup": "N26 Bank GmbH",
         "orientation": "v",
         "showlegend": true,
         "textposition": "auto",
         "type": "bar",
         "x": [
          "2022-12"
         ],
         "xaxis": "x",
         "y": [
          160000
         ],
         "yaxis": "y"
        },
        {
         "alignmentgroup": "True",
         "hovertemplate": "Sanctioned_Entity=Anthilia Capital Partners SGR SpA<br>Month of Sanction=%{x}<br>Sanctioned Amount (€)=%{y}<extra></extra>",
         "legendgroup": "Anthilia Capital Partners SGR SpA",
         "marker": {
          "color": "#FF97FF",
          "pattern": {
           "shape": ""
          }
         },
         "name": "Anthilia Capital Par...",
         "offsetgroup": "Anthilia Capital Partners SGR SpA",
         "orientation": "v",
         "showlegend": true,
         "textposition": "auto",
         "type": "bar",
         "x": [
          "2023-01"
         ],
         "xaxis": "x",
         "y": [
          30000
         ],
         "yaxis": "y"
        },
        {
         "alignmentgroup": "True",
         "hovertemplate": "Sanctioned_Entity=Banca Popolare Sant’Angelo Scpa<br>Month of Sanction=%{x}<br>Sanctioned Amount (€)=%{y}<extra></extra>",
         "legendgroup": "Banca Popolare Sant’Angelo Scpa",
         "marker": {
          "color": "#FECB52",
          "pattern": {
           "shape": ""
          }
         },
         "name": "Banca Popolare Sant’...",
         "offsetgroup": "Banca Popolare Sant’Angelo Scpa",
         "orientation": "v",
         "showlegend": true,
         "textposition": "auto",
         "type": "bar",
         "x": [
          "2023-02"
         ],
         "xaxis": "x",
         "y": [
          30000
         ],
         "yaxis": "y"
        },
        {
         "alignmentgroup": "True",
         "hovertemplate": "Sanctioned_Entity=Banca Progetto SpA<br>Month of Sanction=%{x}<br>Sanctioned Amount (€)=%{y}<extra></extra>",
         "legendgroup": "Banca Progetto SpA",
         "marker": {
          "color": "#636efa",
          "pattern": {
           "shape": ""
          }
         },
         "name": "Banca Progetto SpA",
         "offsetgroup": "Banca Progetto SpA",
         "orientation": "v",
         "showlegend": true,
         "textposition": "auto",
         "type": "bar",
         "x": [
          "2023-03"
         ],
         "xaxis": "x",
         "y": [
          100000
         ],
         "yaxis": "y"
        },
        {
         "alignmentgroup": "True",
         "hovertemplate": "Sanctioned_Entity=M.C. Family Spa (now M.C. Family Srl)<br>Month of Sanction=%{x}<br>Sanctioned Amount (€)=%{y}<extra></extra>",
         "legendgroup": "M.C. Family Spa (now M.C. Family Srl)",
         "marker": {
          "color": "#EF553B",
          "pattern": {
           "shape": ""
          }
         },
         "name": "M.C. Family Spa (now...",
         "offsetgroup": "M.C. Family Spa (now M.C. Family Srl)",
         "orientation": "v",
         "showlegend": true,
         "textposition": "auto",
         "type": "bar",
         "x": [
          "2023-03"
         ],
         "xaxis": "x",
         "y": [
          17500
         ],
         "yaxis": "y"
        },
        {
         "alignmentgroup": "True",
         "hovertemplate": "Sanctioned_Entity=M.C. Family Spa, now M.C. Family Srl<br>Month of Sanction=%{x}<br>Sanctioned Amount (€)=%{y}<extra></extra>",
         "legendgroup": "M.C. Family Spa, now M.C. Family Srl",
         "marker": {
          "color": "#00cc96",
          "pattern": {
           "shape": ""
          }
         },
         "name": "M.C. Family Spa, now...",
         "offsetgroup": "M.C. Family Spa, now M.C. Family Srl",
         "orientation": "v",
         "showlegend": true,
         "textposition": "auto",
         "type": "bar",
         "x": [
          "2023-03"
         ],
         "xaxis": "x",
         "y": [
          30000
         ],
         "yaxis": "y"
        },
        {
         "alignmentgroup": "True",
         "hovertemplate": "Sanctioned_Entity=Banca Popolare Valconca Spa<br>Month of Sanction=%{x}<br>Sanctioned Amount (€)=%{y}<extra></extra>",
         "legendgroup": "Banca Popolare Valconca Spa",
         "marker": {
          "color": "#ab63fa",
          "pattern": {
           "shape": ""
          }
         },
         "name": "Banca Popolare Valco...",
         "offsetgroup": "Banca Popolare Valconca Spa",
         "orientation": "v",
         "showlegend": true,
         "textposition": "auto",
         "type": "bar",
         "x": [
          "2023-04"
         ],
         "xaxis": "x",
         "y": [
          30000
         ],
         "yaxis": "y"
        },
        {
         "alignmentgroup": "True",
         "hovertemplate": "Sanctioned_Entity=Banca Popolare Valconca Spa in a.s. (Banca Popolare Valconca)<br>Month of Sanction=%{x}<br>Sanctioned Amount (€)=%{y}<extra></extra>",
         "legendgroup": "Banca Popolare Valconca Spa in a.s. (Banca Popolare Valconca)",
         "marker": {
          "color": "#FFA15A",
          "pattern": {
           "shape": ""
          }
         },
         "name": "Banca Popolare Valco...",
         "offsetgroup": "Banca Popolare Valconca Spa in a.s. (Banca Popolare Valconca)",
         "orientation": "v",
         "showlegend": true,
         "textposition": "auto",
         "type": "bar",
         "x": [
          "2023-04"
         ],
         "xaxis": "x",
         "y": [
          150000
         ],
         "yaxis": "y"
        },
        {
         "alignmentgroup": "True",
         "hovertemplate": "Sanctioned_Entity=Banco di Credito P. Azzoaglio SpA<br>Month of Sanction=%{x}<br>Sanctioned Amount (€)=%{y}<extra></extra>",
         "legendgroup": "Banco di Credito P. Azzoaglio SpA",
         "marker": {
          "color": "#19d3f3",
          "pattern": {
           "shape": ""
          }
         },
         "name": "Banco di Credito P. ...",
         "offsetgroup": "Banco di Credito P. Azzoaglio SpA",
         "orientation": "v",
         "showlegend": true,
         "textposition": "auto",
         "type": "bar",
         "x": [
          "2023-04"
         ],
         "xaxis": "x",
         "y": [
          30000
         ],
         "yaxis": "y"
        },
        {
         "alignmentgroup": "True",
         "hovertemplate": "Sanctioned_Entity=Synergo Capital SGR SpA<br>Month of Sanction=%{x}<br>Sanctioned Amount (€)=%{y}<extra></extra>",
         "legendgroup": "Synergo Capital SGR SpA",
         "marker": {
          "color": "#FF6692",
          "pattern": {
           "shape": ""
          }
         },
         "name": "Synergo Capital SGR ...",
         "offsetgroup": "Synergo Capital SGR SpA",
         "orientation": "v",
         "showlegend": true,
         "textposition": "auto",
         "type": "bar",
         "x": [
          "2023-04"
         ],
         "xaxis": "x",
         "y": [
          120000
         ],
         "yaxis": "y"
        },
        {
         "alignmentgroup": "True",
         "hovertemplate": "Sanctioned_Entity=Cassa di Risparmio di Volterra SpA<br>Month of Sanction=%{x}<br>Sanctioned Amount (€)=%{y}<extra></extra>",
         "legendgroup": "Cassa di Risparmio di Volterra SpA",
         "marker": {
          "color": "#B6E880",
          "pattern": {
           "shape": ""
          }
         },
         "name": "Cassa di Risparmio d...",
         "offsetgroup": "Cassa di Risparmio di Volterra SpA",
         "orientation": "v",
         "showlegend": true,
         "textposition": "auto",
         "type": "bar",
         "x": [
          "2023-05"
         ],
         "xaxis": "x",
         "y": [
          150000
         ],
         "yaxis": "y"
        },
        {
         "alignmentgroup": "True",
         "hovertemplate": "Sanctioned_Entity=PayTipper Spa<br>Month of Sanction=%{x}<br>Sanctioned Amount (€)=%{y}<extra></extra>",
         "legendgroup": "PayTipper Spa",
         "marker": {
          "color": "#FF97FF",
          "pattern": {
           "shape": ""
          }
         },
         "name": "PayTipper Spa",
         "offsetgroup": "PayTipper Spa",
         "orientation": "v",
         "showlegend": true,
         "textposition": "auto",
         "type": "bar",
         "x": [
          "2023-05"
         ],
         "xaxis": "x",
         "y": [
          50000
         ],
         "yaxis": "y"
        },
        {
         "alignmentgroup": "True",
         "hovertemplate": "Sanctioned_Entity=AMCO Spa<br>Month of Sanction=%{x}<br>Sanctioned Amount (€)=%{y}<extra></extra>",
         "legendgroup": "AMCO Spa",
         "marker": {
          "color": "#FECB52",
          "pattern": {
           "shape": ""
          }
         },
         "name": "AMCO Spa",
         "offsetgroup": "AMCO Spa",
         "orientation": "v",
         "showlegend": true,
         "textposition": "auto",
         "type": "bar",
         "x": [
          "2023-07"
         ],
         "xaxis": "x",
         "y": [
          120000
         ],
         "yaxis": "y"
        },
        {
         "alignmentgroup": "True",
         "hovertemplate": "Sanctioned_Entity=Intermonte SIM Spa<br>Month of Sanction=%{x}<br>Sanctioned Amount (€)=%{y}<extra></extra>",
         "legendgroup": "Intermonte SIM Spa",
         "marker": {
          "color": "#636efa",
          "pattern": {
           "shape": ""
          }
         },
         "name": "Intermonte SIM Spa",
         "offsetgroup": "Intermonte SIM Spa",
         "orientation": "v",
         "showlegend": true,
         "textposition": "auto",
         "type": "bar",
         "x": [
          "2023-07"
         ],
         "xaxis": "x",
         "y": [
          30000
         ],
         "yaxis": "y"
        },
        {
         "alignmentgroup": "True",
         "hovertemplate": "Sanctioned_Entity=IFIR Istituti Finanziari Riuniti SpA<br>Month of Sanction=%{x}<br>Sanctioned Amount (€)=%{y}<extra></extra>",
         "legendgroup": "IFIR Istituti Finanziari Riuniti SpA",
         "marker": {
          "color": "#EF553B",
          "pattern": {
           "shape": ""
          }
         },
         "name": "IFIR Istituti Finanz...",
         "offsetgroup": "IFIR Istituti Finanziari Riuniti SpA",
         "orientation": "v",
         "showlegend": true,
         "textposition": "auto",
         "type": "bar",
         "x": [
          "2023-09"
         ],
         "xaxis": "x",
         "y": [
          235018
         ],
         "yaxis": "y"
        },
        {
         "alignmentgroup": "True",
         "hovertemplate": "Sanctioned_Entity=Scania Finance Italy Spa<br>Month of Sanction=%{x}<br>Sanctioned Amount (€)=%{y}<extra></extra>",
         "legendgroup": "Scania Finance Italy Spa",
         "marker": {
          "color": "#00cc96",
          "pattern": {
           "shape": ""
          }
         },
         "name": "Scania Finance Italy...",
         "offsetgroup": "Scania Finance Italy Spa",
         "orientation": "v",
         "showlegend": true,
         "textposition": "auto",
         "type": "bar",
         "x": [
          "2023-09"
         ],
         "xaxis": "x",
         "y": [
          50000
         ],
         "yaxis": "y"
        },
        {
         "alignmentgroup": "True",
         "hovertemplate": "Sanctioned_Entity=Value Italy SGR SpA<br>Month of Sanction=%{x}<br>Sanctioned Amount (€)=%{y}<extra></extra>",
         "legendgroup": "Value Italy SGR SpA",
         "marker": {
          "color": "#ab63fa",
          "pattern": {
           "shape": ""
          }
         },
         "name": "Value Italy SGR SpA",
         "offsetgroup": "Value Italy SGR SpA",
         "orientation": "v",
         "showlegend": true,
         "textposition": "auto",
         "type": "bar",
         "x": [
          "2023-11"
         ],
         "xaxis": "x",
         "y": [
          5179
         ],
         "yaxis": "y"
        },
        {
         "alignmentgroup": "True",
         "hovertemplate": "Sanctioned_Entity=Value Italy SGR Spa<br>Month of Sanction=%{x}<br>Sanctioned Amount (€)=%{y}<extra></extra>",
         "legendgroup": "Value Italy SGR Spa",
         "marker": {
          "color": "#FFA15A",
          "pattern": {
           "shape": ""
          }
         },
         "name": "Value Italy SGR Spa",
         "offsetgroup": "Value Italy SGR Spa",
         "orientation": "v",
         "showlegend": true,
         "textposition": "auto",
         "type": "bar",
         "x": [
          "2023-11"
         ],
         "xaxis": "x",
         "y": [
          60000
         ],
         "yaxis": "y"
        },
        {
         "alignmentgroup": "True",
         "hovertemplate": "Sanctioned_Entity=Prelios Credit Servicing SpA<br>Month of Sanction=%{x}<br>Sanctioned Amount (€)=%{y}<extra></extra>",
         "legendgroup": "Prelios Credit Servicing SpA",
         "marker": {
          "color": "#19d3f3",
          "pattern": {
           "shape": ""
          }
         },
         "name": "Prelios Credit Servi...",
         "offsetgroup": "Prelios Credit Servicing SpA",
         "orientation": "v",
         "showlegend": true,
         "textposition": "auto",
         "type": "bar",
         "x": [
          "2023-12"
         ],
         "xaxis": "x",
         "y": [
          30000
         ],
         "yaxis": "y"
        },
        {
         "alignmentgroup": "True",
         "hovertemplate": "Sanctioned_Entity=Banca Popolare del Mediterraneano SCPA<br>Month of Sanction=%{x}<br>Sanctioned Amount (€)=%{y}<extra></extra>",
         "legendgroup": "Banca Popolare del Mediterraneano SCPA",
         "marker": {
          "color": "#FF6692",
          "pattern": {
           "shape": ""
          }
         },
         "name": "Banca Popolare del M...",
         "offsetgroup": "Banca Popolare del Mediterraneano SCPA",
         "orientation": "v",
         "showlegend": true,
         "textposition": "auto",
         "type": "bar",
         "x": [
          "2024-01"
         ],
         "xaxis": "x",
         "y": [
          8014
         ],
         "yaxis": "y"
        },
        {
         "alignmentgroup": "True",
         "hovertemplate": "Sanctioned_Entity=Solution Bank SpA<br>Month of Sanction=%{x}<br>Sanctioned Amount (€)=%{y}<extra></extra>",
         "legendgroup": "Solution Bank SpA",
         "marker": {
          "color": "#B6E880",
          "pattern": {
           "shape": ""
          }
         },
         "name": "Solution Bank SpA",
         "offsetgroup": "Solution Bank SpA",
         "orientation": "v",
         "showlegend": true,
         "textposition": "auto",
         "type": "bar",
         "x": [
          "2024-01"
         ],
         "xaxis": "x",
         "y": [
          35000
         ],
         "yaxis": "y"
        },
        {
         "alignmentgroup": "True",
         "hovertemplate": "Sanctioned_Entity=Generalfinance SpA<br>Month of Sanction=%{x}<br>Sanctioned Amount (€)=%{y}<extra></extra>",
         "legendgroup": "Generalfinance SpA",
         "marker": {
          "color": "#FF97FF",
          "pattern": {
           "shape": ""
          }
         },
         "name": "Generalfinance SpA",
         "offsetgroup": "Generalfinance SpA",
         "orientation": "v",
         "showlegend": true,
         "textposition": "auto",
         "type": "bar",
         "x": [
          "2024-02"
         ],
         "xaxis": "x",
         "y": [
          60000
         ],
         "yaxis": "y"
        },
        {
         "mode": "lines",
         "name": "Sanction Count",
         "type": "scatter",
         "x": [
          "2019-01",
          "2019-03",
          "2019-04",
          "2019-05",
          "2019-06",
          "2019-07",
          "2019-09",
          "2019-11",
          "2019-12",
          "2020-01",
          "2020-02",
          "2020-03",
          "2020-06",
          "2020-07",
          "2020-08",
          "2020-09",
          "2020-10",
          "2020-11",
          "2020-12",
          "2021-01",
          "2021-03",
          "2021-04",
          "2021-05",
          "2021-06",
          "2021-07",
          "2021-08",
          "2021-11",
          "2022-01",
          "2022-02",
          "2022-03",
          "2022-04",
          "2022-07",
          "2022-09",
          "2022-11",
          "2022-12",
          "2023-01",
          "2023-02",
          "2023-03",
          "2023-04",
          "2023-05",
          "2023-07",
          "2023-09",
          "2023-11",
          "2023-12",
          "2024-01",
          "2024-02"
         ],
         "y": [
          1,
          2,
          4,
          3,
          3,
          2,
          1,
          5,
          4,
          6,
          3,
          4,
          3,
          11,
          1,
          5,
          6,
          3,
          2,
          1,
          7,
          3,
          3,
          4,
          2,
          1,
          2,
          4,
          2,
          4,
          4,
          3,
          2,
          1,
          2,
          1,
          1,
          4,
          5,
          2,
          2,
          4,
          2,
          1,
          3,
          2
         ],
         "yaxis": "y2"
        }
       ],
       "layout": {
        "barmode": "relative",
        "height": 500,
        "legend": {
         "title": {
          "text": "Sanctioned_Entity"
         },
         "tracegroupgap": 0
        },
        "template": {
         "data": {
          "bar": [
           {
            "error_x": {
             "color": "#2a3f5f"
            },
            "error_y": {
             "color": "#2a3f5f"
            },
            "marker": {
             "line": {
              "color": "#E5ECF6",
              "width": 0.5
             },
             "pattern": {
              "fillmode": "overlay",
              "size": 10,
              "solidity": 0.2
             }
            },
            "type": "bar"
           }
          ],
          "barpolar": [
           {
            "marker": {
             "line": {
              "color": "#E5ECF6",
              "width": 0.5
             },
             "pattern": {
              "fillmode": "overlay",
              "size": 10,
              "solidity": 0.2
             }
            },
            "type": "barpolar"
           }
          ],
          "carpet": [
           {
            "aaxis": {
             "endlinecolor": "#2a3f5f",
             "gridcolor": "white",
             "linecolor": "white",
             "minorgridcolor": "white",
             "startlinecolor": "#2a3f5f"
            },
            "baxis": {
             "endlinecolor": "#2a3f5f",
             "gridcolor": "white",
             "linecolor": "white",
             "minorgridcolor": "white",
             "startlinecolor": "#2a3f5f"
            },
            "type": "carpet"
           }
          ],
          "choropleth": [
           {
            "colorbar": {
             "outlinewidth": 0,
             "ticks": ""
            },
            "type": "choropleth"
           }
          ],
          "contour": [
           {
            "colorbar": {
             "outlinewidth": 0,
             "ticks": ""
            },
            "colorscale": [
             [
              0,
              "#0d0887"
             ],
             [
              0.1111111111111111,
              "#46039f"
             ],
             [
              0.2222222222222222,
              "#7201a8"
             ],
             [
              0.3333333333333333,
              "#9c179e"
             ],
             [
              0.4444444444444444,
              "#bd3786"
             ],
             [
              0.5555555555555556,
              "#d8576b"
             ],
             [
              0.6666666666666666,
              "#ed7953"
             ],
             [
              0.7777777777777778,
              "#fb9f3a"
             ],
             [
              0.8888888888888888,
              "#fdca26"
             ],
             [
              1,
              "#f0f921"
             ]
            ],
            "type": "contour"
           }
          ],
          "contourcarpet": [
           {
            "colorbar": {
             "outlinewidth": 0,
             "ticks": ""
            },
            "type": "contourcarpet"
           }
          ],
          "heatmap": [
           {
            "colorbar": {
             "outlinewidth": 0,
             "ticks": ""
            },
            "colorscale": [
             [
              0,
              "#0d0887"
             ],
             [
              0.1111111111111111,
              "#46039f"
             ],
             [
              0.2222222222222222,
              "#7201a8"
             ],
             [
              0.3333333333333333,
              "#9c179e"
             ],
             [
              0.4444444444444444,
              "#bd3786"
             ],
             [
              0.5555555555555556,
              "#d8576b"
             ],
             [
              0.6666666666666666,
              "#ed7953"
             ],
             [
              0.7777777777777778,
              "#fb9f3a"
             ],
             [
              0.8888888888888888,
              "#fdca26"
             ],
             [
              1,
              "#f0f921"
             ]
            ],
            "type": "heatmap"
           }
          ],
          "heatmapgl": [
           {
            "colorbar": {
             "outlinewidth": 0,
             "ticks": ""
            },
            "colorscale": [
             [
              0,
              "#0d0887"
             ],
             [
              0.1111111111111111,
              "#46039f"
             ],
             [
              0.2222222222222222,
              "#7201a8"
             ],
             [
              0.3333333333333333,
              "#9c179e"
             ],
             [
              0.4444444444444444,
              "#bd3786"
             ],
             [
              0.5555555555555556,
              "#d8576b"
             ],
             [
              0.6666666666666666,
              "#ed7953"
             ],
             [
              0.7777777777777778,
              "#fb9f3a"
             ],
             [
              0.8888888888888888,
              "#fdca26"
             ],
             [
              1,
              "#f0f921"
             ]
            ],
            "type": "heatmapgl"
           }
          ],
          "histogram": [
           {
            "marker": {
             "pattern": {
              "fillmode": "overlay",
              "size": 10,
              "solidity": 0.2
             }
            },
            "type": "histogram"
           }
          ],
          "histogram2d": [
           {
            "colorbar": {
             "outlinewidth": 0,
             "ticks": ""
            },
            "colorscale": [
             [
              0,
              "#0d0887"
             ],
             [
              0.1111111111111111,
              "#46039f"
             ],
             [
              0.2222222222222222,
              "#7201a8"
             ],
             [
              0.3333333333333333,
              "#9c179e"
             ],
             [
              0.4444444444444444,
              "#bd3786"
             ],
             [
              0.5555555555555556,
              "#d8576b"
             ],
             [
              0.6666666666666666,
              "#ed7953"
             ],
             [
              0.7777777777777778,
              "#fb9f3a"
             ],
             [
              0.8888888888888888,
              "#fdca26"
             ],
             [
              1,
              "#f0f921"
             ]
            ],
            "type": "histogram2d"
           }
          ],
          "histogram2dcontour": [
           {
            "colorbar": {
             "outlinewidth": 0,
             "ticks": ""
            },
            "colorscale": [
             [
              0,
              "#0d0887"
             ],
             [
              0.1111111111111111,
              "#46039f"
             ],
             [
              0.2222222222222222,
              "#7201a8"
             ],
             [
              0.3333333333333333,
              "#9c179e"
             ],
             [
              0.4444444444444444,
              "#bd3786"
             ],
             [
              0.5555555555555556,
              "#d8576b"
             ],
             [
              0.6666666666666666,
              "#ed7953"
             ],
             [
              0.7777777777777778,
              "#fb9f3a"
             ],
             [
              0.8888888888888888,
              "#fdca26"
             ],
             [
              1,
              "#f0f921"
             ]
            ],
            "type": "histogram2dcontour"
           }
          ],
          "mesh3d": [
           {
            "colorbar": {
             "outlinewidth": 0,
             "ticks": ""
            },
            "type": "mesh3d"
           }
          ],
          "parcoords": [
           {
            "line": {
             "colorbar": {
              "outlinewidth": 0,
              "ticks": ""
             }
            },
            "type": "parcoords"
           }
          ],
          "pie": [
           {
            "automargin": true,
            "type": "pie"
           }
          ],
          "scatter": [
           {
            "fillpattern": {
             "fillmode": "overlay",
             "size": 10,
             "solidity": 0.2
            },
            "type": "scatter"
           }
          ],
          "scatter3d": [
           {
            "line": {
             "colorbar": {
              "outlinewidth": 0,
              "ticks": ""
             }
            },
            "marker": {
             "colorbar": {
              "outlinewidth": 0,
              "ticks": ""
             }
            },
            "type": "scatter3d"
           }
          ],
          "scattercarpet": [
           {
            "marker": {
             "colorbar": {
              "outlinewidth": 0,
              "ticks": ""
             }
            },
            "type": "scattercarpet"
           }
          ],
          "scattergeo": [
           {
            "marker": {
             "colorbar": {
              "outlinewidth": 0,
              "ticks": ""
             }
            },
            "type": "scattergeo"
           }
          ],
          "scattergl": [
           {
            "marker": {
             "colorbar": {
              "outlinewidth": 0,
              "ticks": ""
             }
            },
            "type": "scattergl"
           }
          ],
          "scattermapbox": [
           {
            "marker": {
             "colorbar": {
              "outlinewidth": 0,
              "ticks": ""
             }
            },
            "type": "scattermapbox"
           }
          ],
          "scatterpolar": [
           {
            "marker": {
             "colorbar": {
              "outlinewidth": 0,
              "ticks": ""
             }
            },
            "type": "scatterpolar"
           }
          ],
          "scatterpolargl": [
           {
            "marker": {
             "colorbar": {
              "outlinewidth": 0,
              "ticks": ""
             }
            },
            "type": "scatterpolargl"
           }
          ],
          "scatterternary": [
           {
            "marker": {
             "colorbar": {
              "outlinewidth": 0,
              "ticks": ""
             }
            },
            "type": "scatterternary"
           }
          ],
          "surface": [
           {
            "colorbar": {
             "outlinewidth": 0,
             "ticks": ""
            },
            "colorscale": [
             [
              0,
              "#0d0887"
             ],
             [
              0.1111111111111111,
              "#46039f"
             ],
             [
              0.2222222222222222,
              "#7201a8"
             ],
             [
              0.3333333333333333,
              "#9c179e"
             ],
             [
              0.4444444444444444,
              "#bd3786"
             ],
             [
              0.5555555555555556,
              "#d8576b"
             ],
             [
              0.6666666666666666,
              "#ed7953"
             ],
             [
              0.7777777777777778,
              "#fb9f3a"
             ],
             [
              0.8888888888888888,
              "#fdca26"
             ],
             [
              1,
              "#f0f921"
             ]
            ],
            "type": "surface"
           }
          ],
          "table": [
           {
            "cells": {
             "fill": {
              "color": "#EBF0F8"
             },
             "line": {
              "color": "white"
             }
            },
            "header": {
             "fill": {
              "color": "#C8D4E3"
             },
             "line": {
              "color": "white"
             }
            },
            "type": "table"
           }
          ]
         },
         "layout": {
          "annotationdefaults": {
           "arrowcolor": "#2a3f5f",
           "arrowhead": 0,
           "arrowwidth": 1
          },
          "autotypenumbers": "strict",
          "coloraxis": {
           "colorbar": {
            "outlinewidth": 0,
            "ticks": ""
           }
          },
          "colorscale": {
           "diverging": [
            [
             0,
             "#8e0152"
            ],
            [
             0.1,
             "#c51b7d"
            ],
            [
             0.2,
             "#de77ae"
            ],
            [
             0.3,
             "#f1b6da"
            ],
            [
             0.4,
             "#fde0ef"
            ],
            [
             0.5,
             "#f7f7f7"
            ],
            [
             0.6,
             "#e6f5d0"
            ],
            [
             0.7,
             "#b8e186"
            ],
            [
             0.8,
             "#7fbc41"
            ],
            [
             0.9,
             "#4d9221"
            ],
            [
             1,
             "#276419"
            ]
           ],
           "sequential": [
            [
             0,
             "#0d0887"
            ],
            [
             0.1111111111111111,
             "#46039f"
            ],
            [
             0.2222222222222222,
             "#7201a8"
            ],
            [
             0.3333333333333333,
             "#9c179e"
            ],
            [
             0.4444444444444444,
             "#bd3786"
            ],
            [
             0.5555555555555556,
             "#d8576b"
            ],
            [
             0.6666666666666666,
             "#ed7953"
            ],
            [
             0.7777777777777778,
             "#fb9f3a"
            ],
            [
             0.8888888888888888,
             "#fdca26"
            ],
            [
             1,
             "#f0f921"
            ]
           ],
           "sequentialminus": [
            [
             0,
             "#0d0887"
            ],
            [
             0.1111111111111111,
             "#46039f"
            ],
            [
             0.2222222222222222,
             "#7201a8"
            ],
            [
             0.3333333333333333,
             "#9c179e"
            ],
            [
             0.4444444444444444,
             "#bd3786"
            ],
            [
             0.5555555555555556,
             "#d8576b"
            ],
            [
             0.6666666666666666,
             "#ed7953"
            ],
            [
             0.7777777777777778,
             "#fb9f3a"
            ],
            [
             0.8888888888888888,
             "#fdca26"
            ],
            [
             1,
             "#f0f921"
            ]
           ]
          },
          "colorway": [
           "#636efa",
           "#EF553B",
           "#00cc96",
           "#ab63fa",
           "#FFA15A",
           "#19d3f3",
           "#FF6692",
           "#B6E880",
           "#FF97FF",
           "#FECB52"
          ],
          "font": {
           "color": "#2a3f5f"
          },
          "geo": {
           "bgcolor": "white",
           "lakecolor": "white",
           "landcolor": "#E5ECF6",
           "showlakes": true,
           "showland": true,
           "subunitcolor": "white"
          },
          "hoverlabel": {
           "align": "left"
          },
          "hovermode": "closest",
          "mapbox": {
           "style": "light"
          },
          "paper_bgcolor": "white",
          "plot_bgcolor": "#E5ECF6",
          "polar": {
           "angularaxis": {
            "gridcolor": "white",
            "linecolor": "white",
            "ticks": ""
           },
           "bgcolor": "#E5ECF6",
           "radialaxis": {
            "gridcolor": "white",
            "linecolor": "white",
            "ticks": ""
           }
          },
          "scene": {
           "xaxis": {
            "backgroundcolor": "#E5ECF6",
            "gridcolor": "white",
            "gridwidth": 2,
            "linecolor": "white",
            "showbackground": true,
            "ticks": "",
            "zerolinecolor": "white"
           },
           "yaxis": {
            "backgroundcolor": "#E5ECF6",
            "gridcolor": "white",
            "gridwidth": 2,
            "linecolor": "white",
            "showbackground": true,
            "ticks": "",
            "zerolinecolor": "white"
           },
           "zaxis": {
            "backgroundcolor": "#E5ECF6",
            "gridcolor": "white",
            "gridwidth": 2,
            "linecolor": "white",
            "showbackground": true,
            "ticks": "",
            "zerolinecolor": "white"
           }
          },
          "shapedefaults": {
           "line": {
            "color": "#2a3f5f"
           }
          },
          "ternary": {
           "aaxis": {
            "gridcolor": "white",
            "linecolor": "white",
            "ticks": ""
           },
           "baxis": {
            "gridcolor": "white",
            "linecolor": "white",
            "ticks": ""
           },
           "bgcolor": "#E5ECF6",
           "caxis": {
            "gridcolor": "white",
            "linecolor": "white",
            "ticks": ""
           }
          },
          "title": {
           "x": 0.05
          },
          "xaxis": {
           "automargin": true,
           "gridcolor": "white",
           "linecolor": "white",
           "ticks": "",
           "title": {
            "standoff": 15
           },
           "zerolinecolor": "white",
           "zerolinewidth": 2
          },
          "yaxis": {
           "automargin": true,
           "gridcolor": "white",
           "linecolor": "white",
           "ticks": "",
           "title": {
            "standoff": 15
           },
           "zerolinecolor": "white",
           "zerolinewidth": 2
          }
         }
        },
        "title": {
         "text": "Monthly Sanctioned Amounts by Entity"
        },
        "width": 800,
        "xaxis": {
         "anchor": "y",
         "domain": [
          0,
          1
         ],
         "title": {
          "text": "Month of Sanction"
         }
        },
        "yaxis": {
         "anchor": "x",
         "domain": [
          0,
          1
         ],
         "title": {
          "text": "Sanctioned Amount (€)"
         }
        },
        "yaxis2": {
         "overlaying": "y",
         "side": "right",
         "title": {
          "text": "Sanction Count"
         }
        }
       }
      }
     },
     "metadata": {},
     "output_type": "display_data"
    }
   ],
   "source": [
    "import plotly.graph_objects as go\n",
    "import plotly.express as px\n",
    "\n",
    "def truncate_legend(label):\n",
    "    max_length = 20\n",
    "    return label[:max_length] + '...' if len(label) > max_length else label\n",
    "\n",
    "# Convert 'Date_of_Sanction' column to datetime\n",
    "df_result['Date_of_Sanction'] = pd.to_datetime(df_result['Date_of_Sanction'])\n",
    "\n",
    "# Extract month and year from 'Date_of_Sanction' column\n",
    "df_result['Month'] = df_result['Date_of_Sanction'].dt.strftime('%Y-%m')\n",
    "\n",
    "# Group by month and entity, summing the sanctioned amounts\n",
    "df_monthly = df_result.groupby(['Month', 'Sanctioned_Entity'])['Sanctioned_Amount'].sum().reset_index()\n",
    "\n",
    "# Group by month and count the number of sanctions\n",
    "sanction_count = df_result.groupby('Month').size().reset_index(name='Sanction_Count')\n",
    "\n",
    "# Plot the stacked bar chart\n",
    "fig = px.bar(df_monthly, x='Month', y='Sanctioned_Amount', color='Sanctioned_Entity',\n",
    "             title=\"Monthly Sanctioned Amounts by Entity\",\n",
    "             labels={\"Month\": \"Month of Sanction\", \"Sanctioned_Amount\": \"Sanctioned Amount (€)\"})\n",
    "fig.update_layout(\n",
    "    width=800,  # Set a fixed width of 800 pixels\n",
    "    height=500,  # Set a fixed height\n",
    ")\n",
    "\n",
    "# Add line chart for monthly count on the right side\n",
    "fig.add_trace(\n",
    "    go.Scatter(x=sanction_count['Month'], y=sanction_count['Sanction_Count'], \n",
    "               mode='lines', name='Sanction Count', yaxis='y2')\n",
    ")\n",
    "\n",
    "# Update layout to include secondary y-axis\n",
    "fig.update_layout(\n",
    "    yaxis2=dict(\n",
    "        title='Sanction Count',  # Label for secondary y-axis\n",
    "        overlaying='y',  # Overlay the secondary y-axis on the primary one\n",
    "        side='right'  # Position the secondary y-axis on the right side\n",
    "    )\n",
    ")\n",
    "\n",
    "# Truncate legend labels\n",
    "fig.for_each_trace(lambda trace: trace.update(name=truncate_legend(trace.name)))\n",
    "\n",
    "fig.show()\n"
   ]
  },
  {
   "cell_type": "markdown",
   "metadata": {},
   "source": [
    "## yearly trend data"
   ]
  },
  {
   "cell_type": "code",
   "execution_count": 25,
   "metadata": {},
   "outputs": [
    {
     "data": {
      "application/vnd.plotly.v1+json": {
       "config": {
        "plotlyServerURL": "https://plot.ly"
       },
       "data": [
        {
         "alignmentgroup": "True",
         "hovertemplate": "Sanctioned_Entity=Associated Foreign Exchange Ltd<br>Year of Sanction=%{x}<br>Sanctioned Amount (€)=%{y}<extra></extra>",
         "legendgroup": "Associated Foreign Exchange Ltd",
         "marker": {
          "color": "#636efa",
          "pattern": {
           "shape": ""
          }
         },
         "name": "Associated Foreign E...",
         "offsetgroup": "Associated Foreign Exchange Ltd",
         "orientation": "v",
         "showlegend": true,
         "textposition": "auto",
         "type": "bar",
         "x": [
          2019
         ],
         "xaxis": "x",
         "y": [
          30000
         ],
         "yaxis": "y"
        },
        {
         "alignmentgroup": "True",
         "hovertemplate": "Sanctioned_Entity=Unicasim Spa (GRUPPO C&A Consultanti Associazione Cittadinanzattiva)<br>Year of Sanction=%{x}<br>Sanctioned Amount (€)=%{y}<extra></extra>",
         "legendgroup": "Unicasim Spa (GRUPPO C&A Consultanti Associazione Cittadinanzattiva)",
         "marker": {
          "color": "#EF553B",
          "pattern": {
           "shape": ""
          }
         },
         "name": "Unicasim Spa (GRUPPO...",
         "offsetgroup": "Unicasim Spa (GRUPPO C&A Consultanti Associazione Cittadinanzattiva)",
         "orientation": "v",
         "showlegend": true,
         "textposition": "auto",
         "type": "bar",
         "x": [
          2019
         ],
         "xaxis": "x",
         "y": [
          35000
         ],
         "yaxis": "y"
        },
        {
         "alignmentgroup": "True",
         "hovertemplate": "Sanctioned_Entity=Speedymoney Spa<br>Year of Sanction=%{x}<br>Sanctioned Amount (€)=%{y}<extra></extra>",
         "legendgroup": "Speedymoney Spa",
         "marker": {
          "color": "#00cc96",
          "pattern": {
           "shape": ""
          }
         },
         "name": "Speedymoney Spa",
         "offsetgroup": "Speedymoney Spa",
         "orientation": "v",
         "showlegend": true,
         "textposition": "auto",
         "type": "bar",
         "x": [
          2019
         ],
         "xaxis": "x",
         "y": [
          90000
         ],
         "yaxis": "y"
        },
        {
         "alignmentgroup": "True",
         "hovertemplate": "Sanctioned_Entity=Sorgente SGR SpA<br>Year of Sanction=%{x}<br>Sanctioned Amount (€)=%{y}<extra></extra>",
         "legendgroup": "Sorgente SGR SpA",
         "marker": {
          "color": "#ab63fa",
          "pattern": {
           "shape": ""
          }
         },
         "name": "Sorgente SGR SpA",
         "offsetgroup": "Sorgente SGR SpA",
         "orientation": "v",
         "showlegend": true,
         "textposition": "auto",
         "type": "bar",
         "x": [
          2019
         ],
         "xaxis": "x",
         "y": [
          372
         ],
         "yaxis": "y"
        },
        {
         "alignmentgroup": "True",
         "hovertemplate": "Sanctioned_Entity=P. Fiduciaria Srl<br>Year of Sanction=%{x}<br>Sanctioned Amount (€)=%{y}<extra></extra>",
         "legendgroup": "P. Fiduciaria Srl",
         "marker": {
          "color": "#FFA15A",
          "pattern": {
           "shape": ""
          }
         },
         "name": "P. Fiduciaria Srl",
         "offsetgroup": "P. Fiduciaria Srl",
         "orientation": "v",
         "showlegend": true,
         "textposition": "auto",
         "type": "bar",
         "x": [
          2019
         ],
         "xaxis": "x",
         "y": [
          30000
         ],
         "yaxis": "y"
        },
        {
         "alignmentgroup": "True",
         "hovertemplate": "Sanctioned_Entity=Numeria SGR Spa<br>Year of Sanction=%{x}<br>Sanctioned Amount (€)=%{y}<extra></extra>",
         "legendgroup": "Numeria SGR Spa",
         "marker": {
          "color": "#19d3f3",
          "pattern": {
           "shape": ""
          }
         },
         "name": "Numeria SGR Spa",
         "offsetgroup": "Numeria SGR Spa",
         "orientation": "v",
         "showlegend": true,
         "textposition": "auto",
         "type": "bar",
         "x": [
          2019
         ],
         "xaxis": "x",
         "y": [
          60000
         ],
         "yaxis": "y"
        },
        {
         "alignmentgroup": "True",
         "hovertemplate": "Sanctioned_Entity=Mikro Kapital Spa<br>Year of Sanction=%{x}<br>Sanctioned Amount (€)=%{y}<extra></extra>",
         "legendgroup": "Mikro Kapital Spa",
         "marker": {
          "color": "#FF6692",
          "pattern": {
           "shape": ""
          }
         },
         "name": "Mikro Kapital Spa",
         "offsetgroup": "Mikro Kapital Spa",
         "orientation": "v",
         "showlegend": true,
         "textposition": "auto",
         "type": "bar",
         "x": [
          2019
         ],
         "xaxis": "x",
         "y": [
          30000
         ],
         "yaxis": "y"
        },
        {
         "alignmentgroup": "True",
         "hovertemplate": "Sanctioned_Entity=LCC Trans Sending Limited<br>Year of Sanction=%{x}<br>Sanctioned Amount (€)=%{y}<extra></extra>",
         "legendgroup": "LCC Trans Sending Limited",
         "marker": {
          "color": "#B6E880",
          "pattern": {
           "shape": ""
          }
         },
         "name": "LCC Trans Sending Li...",
         "offsetgroup": "LCC Trans Sending Limited",
         "orientation": "v",
         "showlegend": true,
         "textposition": "auto",
         "type": "bar",
         "x": [
          2019
         ],
         "xaxis": "x",
         "y": [
          30000
         ],
         "yaxis": "y"
        },
        {
         "alignmentgroup": "True",
         "hovertemplate": "Sanctioned_Entity=Istituti Finanziari Riuniti Spa - IFIR<br>Year of Sanction=%{x}<br>Sanctioned Amount (€)=%{y}<extra></extra>",
         "legendgroup": "Istituti Finanziari Riuniti Spa - IFIR",
         "marker": {
          "color": "#FF97FF",
          "pattern": {
           "shape": ""
          }
         },
         "name": "Istituti Finanziari ...",
         "offsetgroup": "Istituti Finanziari Riuniti Spa - IFIR",
         "orientation": "v",
         "showlegend": true,
         "textposition": "auto",
         "type": "bar",
         "x": [
          2019
         ],
         "xaxis": "x",
         "y": [
          30000
         ],
         "yaxis": "y"
        },
        {
         "alignmentgroup": "True",
         "hovertemplate": "Sanctioned_Entity=Finpiemonte SpA<br>Year of Sanction=%{x}<br>Sanctioned Amount (€)=%{y}<extra></extra>",
         "legendgroup": "Finpiemonte SpA",
         "marker": {
          "color": "#FECB52",
          "pattern": {
           "shape": ""
          }
         },
         "name": "Finpiemonte SpA",
         "offsetgroup": "Finpiemonte SpA",
         "orientation": "v",
         "showlegend": true,
         "textposition": "auto",
         "type": "bar",
         "x": [
          2019
         ],
         "xaxis": "x",
         "y": [
          98000
         ],
         "yaxis": "y"
        },
        {
         "alignmentgroup": "True",
         "hovertemplate": "Sanctioned_Entity=Finpiemonte SPA<br>Year of Sanction=%{x}<br>Sanctioned Amount (€)=%{y}<extra></extra>",
         "legendgroup": "Finpiemonte SPA",
         "marker": {
          "color": "#636efa",
          "pattern": {
           "shape": ""
          }
         },
         "name": "Finpiemonte SPA",
         "offsetgroup": "Finpiemonte SPA",
         "orientation": "v",
         "showlegend": true,
         "textposition": "auto",
         "type": "bar",
         "x": [
          2019
         ],
         "xaxis": "x",
         "y": [
          83000
         ],
         "yaxis": "y"
        },
        {
         "alignmentgroup": "True",
         "hovertemplate": "Sanctioned_Entity=Sorgente SGR Spa<br>Year of Sanction=%{x}<br>Sanctioned Amount (€)=%{y}<extra></extra>",
         "legendgroup": "Sorgente SGR Spa",
         "marker": {
          "color": "#EF553B",
          "pattern": {
           "shape": ""
          }
         },
         "name": "Sorgente SGR Spa",
         "offsetgroup": "Sorgente SGR Spa",
         "orientation": "v",
         "showlegend": true,
         "textposition": "auto",
         "type": "bar",
         "x": [
          2019
         ],
         "xaxis": "x",
         "y": [
          60000
         ],
         "yaxis": "y"
        },
        {
         "alignmentgroup": "True",
         "hovertemplate": "Sanctioned_Entity=Crédit Agricole Italia SpA<br>Year of Sanction=%{x}<br>Sanctioned Amount (€)=%{y}<extra></extra>",
         "legendgroup": "Crédit Agricole Italia SpA",
         "marker": {
          "color": "#00cc96",
          "pattern": {
           "shape": ""
          }
         },
         "name": "Crédit Agricole Ital...",
         "offsetgroup": "Crédit Agricole Italia SpA",
         "orientation": "v",
         "showlegend": true,
         "textposition": "auto",
         "type": "bar",
         "x": [
          2019
         ],
         "xaxis": "x",
         "y": [
          1700
         ],
         "yaxis": "y"
        },
        {
         "alignmentgroup": "True",
         "hovertemplate": "Sanctioned_Entity=FCA Bank Spa<br>Year of Sanction=%{x}<br>Sanctioned Amount (€)=%{y}<extra></extra>",
         "legendgroup": "FCA Bank Spa",
         "marker": {
          "color": "#ab63fa",
          "pattern": {
           "shape": ""
          }
         },
         "name": "FCA Bank Spa",
         "offsetgroup": "FCA Bank Spa",
         "orientation": "v",
         "showlegend": true,
         "textposition": "auto",
         "type": "bar",
         "x": [
          2019
         ],
         "xaxis": "x",
         "y": [
          2500
         ],
         "yaxis": "y"
        },
        {
         "alignmentgroup": "True",
         "hovertemplate": "Sanctioned_Entity=BCC di San Biagio Platani (in amministrazione straordinaria)<br>Year of Sanction=%{x}<br>Sanctioned Amount (€)=%{y}<extra></extra>",
         "legendgroup": "BCC di San Biagio Platani (in amministrazione straordinaria)",
         "marker": {
          "color": "#FFA15A",
          "pattern": {
           "shape": ""
          }
         },
         "name": "BCC di San Biagio Pl...",
         "offsetgroup": "BCC di San Biagio Platani (in amministrazione straordinaria)",
         "orientation": "v",
         "showlegend": true,
         "textposition": "auto",
         "type": "bar",
         "x": [
          2019
         ],
         "xaxis": "x",
         "y": [
          71000
         ],
         "yaxis": "y"
        },
        {
         "alignmentgroup": "True",
         "hovertemplate": "Sanctioned_Entity=Banca Popolare del Lazio SCPA<br>Year of Sanction=%{x}<br>Sanctioned Amount (€)=%{y}<extra></extra>",
         "legendgroup": "Banca Popolare del Lazio SCPA",
         "marker": {
          "color": "#19d3f3",
          "pattern": {
           "shape": ""
          }
         },
         "name": "Banca Popolare del L...",
         "offsetgroup": "Banca Popolare del Lazio SCPA",
         "orientation": "v",
         "showlegend": true,
         "textposition": "auto",
         "type": "bar",
         "x": [
          2019
         ],
         "xaxis": "x",
         "y": [
          49000
         ],
         "yaxis": "y"
        },
        {
         "alignmentgroup": "True",
         "hovertemplate": "Sanctioned_Entity=Banca Sviluppo Economico Spa in l.c.a.<br>Year of Sanction=%{x}<br>Sanctioned Amount (€)=%{y}<extra></extra>",
         "legendgroup": "Banca Sviluppo Economico Spa in l.c.a.",
         "marker": {
          "color": "#FF6692",
          "pattern": {
           "shape": ""
          }
         },
         "name": "Banca Sviluppo Econo...",
         "offsetgroup": "Banca Sviluppo Economico Spa in l.c.a.",
         "orientation": "v",
         "showlegend": true,
         "textposition": "auto",
         "type": "bar",
         "x": [
          2019
         ],
         "xaxis": "x",
         "y": [
          40000
         ],
         "yaxis": "y"
        },
        {
         "alignmentgroup": "True",
         "hovertemplate": "Sanctioned_Entity=Banca Monte dei Paschi di Siena S.p.A.<br>Year of Sanction=%{x}<br>Sanctioned Amount (€)=%{y}<extra></extra>",
         "legendgroup": "Banca Monte dei Paschi di Siena S.p.A.",
         "marker": {
          "color": "#B6E880",
          "pattern": {
           "shape": ""
          }
         },
         "name": "Banca Monte dei Pasc...",
         "offsetgroup": "Banca Monte dei Paschi di Siena S.p.A.",
         "orientation": "v",
         "showlegend": true,
         "textposition": "auto",
         "type": "bar",
         "x": [
          2019
         ],
         "xaxis": "x",
         "y": [
          1320
         ],
         "yaxis": "y"
        },
        {
         "alignmentgroup": "True",
         "hovertemplate": "Sanctioned_Entity=Banca di Credito Cooperativo Valdostana<br>Year of Sanction=%{x}<br>Sanctioned Amount (€)=%{y}<extra></extra>",
         "legendgroup": "Banca di Credito Cooperativo Valdostana",
         "marker": {
          "color": "#FF97FF",
          "pattern": {
           "shape": ""
          }
         },
         "name": "Banca di Credito Coo...",
         "offsetgroup": "Banca di Credito Cooperativo Valdostana",
         "orientation": "v",
         "showlegend": true,
         "textposition": "auto",
         "type": "bar",
         "x": [
          2019
         ],
         "xaxis": "x",
         "y": [
          133000
         ],
         "yaxis": "y"
        },
        {
         "alignmentgroup": "True",
         "hovertemplate": "Sanctioned_Entity=Banca di Credito Cooperativo di Napoli<br>Year of Sanction=%{x}<br>Sanctioned Amount (€)=%{y}<extra></extra>",
         "legendgroup": "Banca di Credito Cooperativo di Napoli",
         "marker": {
          "color": "#FECB52",
          "pattern": {
           "shape": ""
          }
         },
         "name": "Banca di Credito Coo...",
         "offsetgroup": "Banca di Credito Cooperativo di Napoli",
         "orientation": "v",
         "showlegend": true,
         "textposition": "auto",
         "type": "bar",
         "x": [
          2019
         ],
         "xaxis": "x",
         "y": [
          30000
         ],
         "yaxis": "y"
        },
        {
         "alignmentgroup": "True",
         "hovertemplate": "Sanctioned_Entity=Carlyle Real Estate SGR<br>Year of Sanction=%{x}<br>Sanctioned Amount (€)=%{y}<extra></extra>",
         "legendgroup": "Carlyle Real Estate SGR",
         "marker": {
          "color": "#636efa",
          "pattern": {
           "shape": ""
          }
         },
         "name": "Carlyle Real Estate ...",
         "offsetgroup": "Carlyle Real Estate SGR",
         "orientation": "v",
         "showlegend": true,
         "textposition": "auto",
         "type": "bar",
         "x": [
          2019
         ],
         "xaxis": "x",
         "y": [
          60000
         ],
         "yaxis": "y"
        },
        {
         "alignmentgroup": "True",
         "hovertemplate": "Sanctioned_Entity=Credito Cooperativo di San Calogero e Maierato – BCC del Vibonese soc. coop.<br>Year of Sanction=%{x}<br>Sanctioned Amount (€)=%{y}<extra></extra>",
         "legendgroup": "Credito Cooperativo di San Calogero e Maierato – BCC del Vibonese soc. coop.",
         "marker": {
          "color": "#EF553B",
          "pattern": {
           "shape": ""
          }
         },
         "name": "Credito Cooperativo ...",
         "offsetgroup": "Credito Cooperativo di San Calogero e Maierato – BCC del Vibonese soc. coop.",
         "orientation": "v",
         "showlegend": true,
         "textposition": "auto",
         "type": "bar",
         "x": [
          2019
         ],
         "xaxis": "x",
         "y": [
          30000
         ],
         "yaxis": "y"
        },
        {
         "alignmentgroup": "True",
         "hovertemplate": "Sanctioned_Entity=Banca Valdichiana Credito Cooperativo di Chiusi e Montepulciano S.C.<br>Year of Sanction=%{x}<br>Sanctioned Amount (€)=%{y}<extra></extra>",
         "legendgroup": "Banca Valdichiana Credito Cooperativo di Chiusi e Montepulciano S.C.",
         "marker": {
          "color": "#00cc96",
          "pattern": {
           "shape": ""
          }
         },
         "name": "Banca Valdichiana Cr...",
         "offsetgroup": "Banca Valdichiana Credito Cooperativo di Chiusi e Montepulciano S.C.",
         "orientation": "v",
         "showlegend": true,
         "textposition": "auto",
         "type": "bar",
         "x": [
          2019
         ],
         "xaxis": "x",
         "y": [
          286500
         ],
         "yaxis": "y"
        },
        {
         "alignmentgroup": "True",
         "hovertemplate": "Sanctioned_Entity=Europa Risorse SGR SpA<br>Year of Sanction=%{x}<br>Sanctioned Amount (€)=%{y}<extra></extra>",
         "legendgroup": "Europa Risorse SGR SpA",
         "marker": {
          "color": "#ab63fa",
          "pattern": {
           "shape": ""
          }
         },
         "name": "Europa Risorse SGR S...",
         "offsetgroup": "Europa Risorse SGR SpA",
         "orientation": "v",
         "showlegend": true,
         "textposition": "auto",
         "type": "bar",
         "x": [
          2020
         ],
         "xaxis": "x",
         "y": [
          30000
         ],
         "yaxis": "y"
        },
        {
         "alignmentgroup": "True",
         "hovertemplate": "Sanctioned_Entity=Ipagoo LLP<br>Year of Sanction=%{x}<br>Sanctioned Amount (€)=%{y}<extra></extra>",
         "legendgroup": "Ipagoo LLP",
         "marker": {
          "color": "#FFA15A",
          "pattern": {
           "shape": ""
          }
         },
         "name": "Ipagoo LLP",
         "offsetgroup": "Ipagoo LLP",
         "orientation": "v",
         "showlegend": true,
         "textposition": "auto",
         "type": "bar",
         "x": [
          2020
         ],
         "xaxis": "x",
         "y": [
          30000
         ],
         "yaxis": "y"
        },
        {
         "alignmentgroup": "True",
         "hovertemplate": "Sanctioned_Entity=Finaosta Spa<br>Year of Sanction=%{x}<br>Sanctioned Amount (€)=%{y}<extra></extra>",
         "legendgroup": "Finaosta Spa",
         "marker": {
          "color": "#19d3f3",
          "pattern": {
           "shape": ""
          }
         },
         "name": "Finaosta Spa",
         "offsetgroup": "Finaosta Spa",
         "orientation": "v",
         "showlegend": true,
         "textposition": "auto",
         "type": "bar",
         "x": [
          2020
         ],
         "xaxis": "x",
         "y": [
          45000
         ],
         "yaxis": "y"
        },
        {
         "alignmentgroup": "True",
         "hovertemplate": "Sanctioned_Entity=Findomestic Banca Spa<br>Year of Sanction=%{x}<br>Sanctioned Amount (€)=%{y}<extra></extra>",
         "legendgroup": "Findomestic Banca Spa",
         "marker": {
          "color": "#FF6692",
          "pattern": {
           "shape": ""
          }
         },
         "name": "Findomestic Banca Sp...",
         "offsetgroup": "Findomestic Banca Spa",
         "orientation": "v",
         "showlegend": true,
         "textposition": "auto",
         "type": "bar",
         "x": [
          2020,
          2022
         ],
         "xaxis": "x",
         "y": [
          390000,
          900000
         ],
         "yaxis": "y"
        },
        {
         "alignmentgroup": "True",
         "hovertemplate": "Sanctioned_Entity=Giotto SIM Spa (ora Giotto Cellino Sim Spa)<br>Year of Sanction=%{x}<br>Sanctioned Amount (€)=%{y}<extra></extra>",
         "legendgroup": "Giotto SIM Spa (ora Giotto Cellino Sim Spa)",
         "marker": {
          "color": "#B6E880",
          "pattern": {
           "shape": ""
          }
         },
         "name": "Giotto SIM Spa (ora ...",
         "offsetgroup": "Giotto SIM Spa (ora Giotto Cellino Sim Spa)",
         "orientation": "v",
         "showlegend": true,
         "textposition": "auto",
         "type": "bar",
         "x": [
          2020
         ],
         "xaxis": "x",
         "y": [
          30000
         ],
         "yaxis": "y"
        },
        {
         "alignmentgroup": "True",
         "hovertemplate": "Sanctioned_Entity=ING Bank Nv<br>Year of Sanction=%{x}<br>Sanctioned Amount (€)=%{y}<extra></extra>",
         "legendgroup": "ING Bank Nv",
         "marker": {
          "color": "#FF97FF",
          "pattern": {
           "shape": ""
          }
         },
         "name": "ING Bank Nv",
         "offsetgroup": "ING Bank Nv",
         "orientation": "v",
         "showlegend": true,
         "textposition": "auto",
         "type": "bar",
         "x": [
          2020
         ],
         "xaxis": "x",
         "y": [
          3500
         ],
         "yaxis": "y"
        },
        {
         "alignmentgroup": "True",
         "hovertemplate": "Sanctioned_Entity=IRFIS – Finanziaria per lo Sviluppo della Sicilia Spa<br>Year of Sanction=%{x}<br>Sanctioned Amount (€)=%{y}<extra></extra>",
         "legendgroup": "IRFIS – Finanziaria per lo Sviluppo della Sicilia Spa",
         "marker": {
          "color": "#FECB52",
          "pattern": {
           "shape": ""
          }
         },
         "name": "IRFIS – Finanziaria ...",
         "offsetgroup": "IRFIS – Finanziaria per lo Sviluppo della Sicilia Spa",
         "orientation": "v",
         "showlegend": true,
         "textposition": "auto",
         "type": "bar",
         "x": [
          2020
         ],
         "xaxis": "x",
         "y": [
          30000
         ],
         "yaxis": "y"
        },
        {
         "alignmentgroup": "True",
         "hovertemplate": "Sanctioned_Entity=Istituto Finanziario Europeo Spa<br>Year of Sanction=%{x}<br>Sanctioned Amount (€)=%{y}<extra></extra>",
         "legendgroup": "Istituto Finanziario Europeo Spa",
         "marker": {
          "color": "#636efa",
          "pattern": {
           "shape": ""
          }
         },
         "name": "Istituto Finanziario...",
         "offsetgroup": "Istituto Finanziario Europeo Spa",
         "orientation": "v",
         "showlegend": true,
         "textposition": "auto",
         "type": "bar",
         "x": [
          2020
         ],
         "xaxis": "x",
         "y": [
          59000
         ],
         "yaxis": "y"
        },
        {
         "alignmentgroup": "True",
         "hovertemplate": "Sanctioned_Entity=Races Finanziaria Srl (in liquidation)<br>Year of Sanction=%{x}<br>Sanctioned Amount (€)=%{y}<extra></extra>",
         "legendgroup": "Races Finanziaria Srl (in liquidation)",
         "marker": {
          "color": "#EF553B",
          "pattern": {
           "shape": ""
          }
         },
         "name": "Races Finanziaria Sr...",
         "offsetgroup": "Races Finanziaria Srl (in liquidation)",
         "orientation": "v",
         "showlegend": true,
         "textposition": "auto",
         "type": "bar",
         "x": [
          2020
         ],
         "xaxis": "x",
         "y": [
          30000
         ],
         "yaxis": "y"
        },
        {
         "alignmentgroup": "True",
         "hovertemplate": "Sanctioned_Entity=La Colombo Finanziaria Spa<br>Year of Sanction=%{x}<br>Sanctioned Amount (€)=%{y}<extra></extra>",
         "legendgroup": "La Colombo Finanziaria Spa",
         "marker": {
          "color": "#00cc96",
          "pattern": {
           "shape": ""
          }
         },
         "name": "La Colombo Finanziar...",
         "offsetgroup": "La Colombo Finanziaria Spa",
         "orientation": "v",
         "showlegend": true,
         "textposition": "auto",
         "type": "bar",
         "x": [
          2020
         ],
         "xaxis": "x",
         "y": [
          60000
         ],
         "yaxis": "y"
        },
        {
         "alignmentgroup": "True",
         "hovertemplate": "Sanctioned_Entity=Namira SGR SpA<br>Year of Sanction=%{x}<br>Sanctioned Amount (€)=%{y}<extra></extra>",
         "legendgroup": "Namira SGR SpA",
         "marker": {
          "color": "#ab63fa",
          "pattern": {
           "shape": ""
          }
         },
         "name": "Namira SGR SpA",
         "offsetgroup": "Namira SGR SpA",
         "orientation": "v",
         "showlegend": true,
         "textposition": "auto",
         "type": "bar",
         "x": [
          2020
         ],
         "xaxis": "x",
         "y": [
          60000
         ],
         "yaxis": "y"
        },
        {
         "alignmentgroup": "True",
         "hovertemplate": "Sanctioned_Entity=Namira SGR Spa<br>Year of Sanction=%{x}<br>Sanctioned Amount (€)=%{y}<extra></extra>",
         "legendgroup": "Namira SGR Spa",
         "marker": {
          "color": "#FFA15A",
          "pattern": {
           "shape": ""
          }
         },
         "name": "Namira SGR Spa",
         "offsetgroup": "Namira SGR Spa",
         "orientation": "v",
         "showlegend": true,
         "textposition": "auto",
         "type": "bar",
         "x": [
          2020
         ],
         "xaxis": "x",
         "y": [
          30000
         ],
         "yaxis": "y"
        },
        {
         "alignmentgroup": "True",
         "hovertemplate": "Sanctioned_Entity=Serenissima SGR SpA<br>Year of Sanction=%{x}<br>Sanctioned Amount (€)=%{y}<extra></extra>",
         "legendgroup": "Serenissima SGR SpA",
         "marker": {
          "color": "#19d3f3",
          "pattern": {
           "shape": ""
          }
         },
         "name": "Serenissima SGR SpA",
         "offsetgroup": "Serenissima SGR SpA",
         "orientation": "v",
         "showlegend": true,
         "textposition": "auto",
         "type": "bar",
         "x": [
          2020
         ],
         "xaxis": "x",
         "y": [
          112
         ],
         "yaxis": "y"
        },
        {
         "alignmentgroup": "True",
         "hovertemplate": "Sanctioned_Entity=Serenissima SGR Spa<br>Year of Sanction=%{x}<br>Sanctioned Amount (€)=%{y}<extra></extra>",
         "legendgroup": "Serenissima SGR Spa",
         "marker": {
          "color": "#FF6692",
          "pattern": {
           "shape": ""
          }
         },
         "name": "Serenissima SGR Spa",
         "offsetgroup": "Serenissima SGR Spa",
         "orientation": "v",
         "showlegend": true,
         "textposition": "auto",
         "type": "bar",
         "x": [
          2020
         ],
         "xaxis": "x",
         "y": [
          30000
         ],
         "yaxis": "y"
        },
        {
         "alignmentgroup": "True",
         "hovertemplate": "Sanctioned_Entity=UBS Fiduciaria Spa<br>Year of Sanction=%{x}<br>Sanctioned Amount (€)=%{y}<extra></extra>",
         "legendgroup": "UBS Fiduciaria Spa",
         "marker": {
          "color": "#B6E880",
          "pattern": {
           "shape": ""
          }
         },
         "name": "UBS Fiduciaria Spa",
         "offsetgroup": "UBS Fiduciaria Spa",
         "orientation": "v",
         "showlegend": true,
         "textposition": "auto",
         "type": "bar",
         "x": [
          2020
         ],
         "xaxis": "x",
         "y": [
          0
         ],
         "yaxis": "y"
        },
        {
         "alignmentgroup": "True",
         "hovertemplate": "Sanctioned_Entity=Cordusio SIM Spa<br>Year of Sanction=%{x}<br>Sanctioned Amount (€)=%{y}<extra></extra>",
         "legendgroup": "Cordusio SIM Spa",
         "marker": {
          "color": "#FF97FF",
          "pattern": {
           "shape": ""
          }
         },
         "name": "Cordusio SIM Spa",
         "offsetgroup": "Cordusio SIM Spa",
         "orientation": "v",
         "showlegend": true,
         "textposition": "auto",
         "type": "bar",
         "x": [
          2020
         ],
         "xaxis": "x",
         "y": [
          30000
         ],
         "yaxis": "y"
        },
        {
         "alignmentgroup": "True",
         "hovertemplate": "Sanctioned_Entity=La Colombo Finanziaria SpA<br>Year of Sanction=%{x}<br>Sanctioned Amount (€)=%{y}<extra></extra>",
         "legendgroup": "La Colombo Finanziaria SpA",
         "marker": {
          "color": "#FECB52",
          "pattern": {
           "shape": ""
          }
         },
         "name": "La Colombo Finanziar...",
         "offsetgroup": "La Colombo Finanziaria SpA",
         "orientation": "v",
         "showlegend": true,
         "textposition": "auto",
         "type": "bar",
         "x": [
          2020
         ],
         "xaxis": "x",
         "y": [
          30000
         ],
         "yaxis": "y"
        },
        {
         "alignmentgroup": "True",
         "hovertemplate": "Sanctioned_Entity=Cassa Lombarda SpA<br>Year of Sanction=%{x}<br>Sanctioned Amount (€)=%{y}<extra></extra>",
         "legendgroup": "Cassa Lombarda SpA",
         "marker": {
          "color": "#636efa",
          "pattern": {
           "shape": ""
          }
         },
         "name": "Cassa Lombarda SpA",
         "offsetgroup": "Cassa Lombarda SpA",
         "orientation": "v",
         "showlegend": true,
         "textposition": "auto",
         "type": "bar",
         "x": [
          2020
         ],
         "xaxis": "x",
         "y": [
          90000
         ],
         "yaxis": "y"
        },
        {
         "alignmentgroup": "True",
         "hovertemplate": "Sanctioned_Entity=We Finance Spa<br>Year of Sanction=%{x}<br>Sanctioned Amount (€)=%{y}<extra></extra>",
         "legendgroup": "We Finance Spa",
         "marker": {
          "color": "#EF553B",
          "pattern": {
           "shape": ""
          }
         },
         "name": "We Finance Spa",
         "offsetgroup": "We Finance Spa",
         "orientation": "v",
         "showlegend": true,
         "textposition": "auto",
         "type": "bar",
         "x": [
          2020
         ],
         "xaxis": "x",
         "y": [
          60000
         ],
         "yaxis": "y"
        },
        {
         "alignmentgroup": "True",
         "hovertemplate": "Sanctioned_Entity=Banco BPM SpA<br>Year of Sanction=%{x}<br>Sanctioned Amount (€)=%{y}<extra></extra>",
         "legendgroup": "Banco BPM SpA",
         "marker": {
          "color": "#00cc96",
          "pattern": {
           "shape": ""
          }
         },
         "name": "Banco BPM SpA",
         "offsetgroup": "Banco BPM SpA",
         "orientation": "v",
         "showlegend": true,
         "textposition": "auto",
         "type": "bar",
         "x": [
          2020
         ],
         "xaxis": "x",
         "y": [
          1760
         ],
         "yaxis": "y"
        },
        {
         "alignmentgroup": "True",
         "hovertemplate": "Sanctioned_Entity=CRU Giudicarie Valsabbia Paganella BCC Società cooperativa<br>Year of Sanction=%{x}<br>Sanctioned Amount (€)=%{y}<extra></extra>",
         "legendgroup": "CRU Giudicarie Valsabbia Paganella BCC Società cooperativa",
         "marker": {
          "color": "#ab63fa",
          "pattern": {
           "shape": ""
          }
         },
         "name": "CRU Giudicarie Valsa...",
         "offsetgroup": "CRU Giudicarie Valsabbia Paganella BCC Società cooperativa",
         "orientation": "v",
         "showlegend": true,
         "textposition": "auto",
         "type": "bar",
         "x": [
          2020
         ],
         "xaxis": "x",
         "y": [
          30000
         ],
         "yaxis": "y"
        },
        {
         "alignmentgroup": "True",
         "hovertemplate": "Sanctioned_Entity=<br>Year of Sanction=%{x}<br>Sanctioned Amount (€)=%{y}<extra></extra>",
         "legendgroup": "",
         "marker": {
          "color": "#FFA15A",
          "pattern": {
           "shape": ""
          }
         },
         "name": "",
         "offsetgroup": "",
         "orientation": "v",
         "showlegend": false,
         "textposition": "auto",
         "type": "bar",
         "x": [
          2020
         ],
         "xaxis": "x",
         "y": [
          0
         ],
         "yaxis": "y"
        },
        {
         "alignmentgroup": "True",
         "hovertemplate": "Sanctioned_Entity=Advam Partners SGR Spa<br>Year of Sanction=%{x}<br>Sanctioned Amount (€)=%{y}<extra></extra>",
         "legendgroup": "Advam Partners SGR Spa",
         "marker": {
          "color": "#19d3f3",
          "pattern": {
           "shape": ""
          }
         },
         "name": "Advam Partners SGR S...",
         "offsetgroup": "Advam Partners SGR Spa",
         "orientation": "v",
         "showlegend": true,
         "textposition": "auto",
         "type": "bar",
         "x": [
          2020
         ],
         "xaxis": "x",
         "y": [
          100000
         ],
         "yaxis": "y"
        },
        {
         "alignmentgroup": "True",
         "hovertemplate": "Sanctioned_Entity=Advance Sim Spa (in liquidation coatta amministrativa)<br>Year of Sanction=%{x}<br>Sanctioned Amount (€)=%{y}<extra></extra>",
         "legendgroup": "Advance Sim Spa (in liquidation coatta amministrativa)",
         "marker": {
          "color": "#FF6692",
          "pattern": {
           "shape": ""
          }
         },
         "name": "Advance Sim Spa (in ...",
         "offsetgroup": "Advance Sim Spa (in liquidation coatta amministrativa)",
         "orientation": "v",
         "showlegend": true,
         "textposition": "auto",
         "type": "bar",
         "x": [
          2020
         ],
         "xaxis": "x",
         "y": [
          40000
         ],
         "yaxis": "y"
        },
        {
         "alignmentgroup": "True",
         "hovertemplate": "Sanctioned_Entity=Attijariwafa Bank Europe, Succursale italiana<br>Year of Sanction=%{x}<br>Sanctioned Amount (€)=%{y}<extra></extra>",
         "legendgroup": "Attijariwafa Bank Europe, Succursale italiana",
         "marker": {
          "color": "#B6E880",
          "pattern": {
           "shape": ""
          }
         },
         "name": "Attijariwafa Bank Eu...",
         "offsetgroup": "Attijariwafa Bank Europe, Succursale italiana",
         "orientation": "v",
         "showlegend": true,
         "textposition": "auto",
         "type": "bar",
         "x": [
          2020
         ],
         "xaxis": "x",
         "y": [
          65000
         ],
         "yaxis": "y"
        },
        {
         "alignmentgroup": "True",
         "hovertemplate": "Sanctioned_Entity=Banca C.R. Asti SpA<br>Year of Sanction=%{x}<br>Sanctioned Amount (€)=%{y}<extra></extra>",
         "legendgroup": "Banca C.R. Asti SpA",
         "marker": {
          "color": "#FF97FF",
          "pattern": {
           "shape": ""
          }
         },
         "name": "Banca C.R. Asti SpA",
         "offsetgroup": "Banca C.R. Asti SpA",
         "orientation": "v",
         "showlegend": true,
         "textposition": "auto",
         "type": "bar",
         "x": [
          2020
         ],
         "xaxis": "x",
         "y": [
          186000
         ],
         "yaxis": "y"
        },
        {
         "alignmentgroup": "True",
         "hovertemplate": "Sanctioned_Entity=Banca Centropadana Credito Cooperativo Sc<br>Year of Sanction=%{x}<br>Sanctioned Amount (€)=%{y}<extra></extra>",
         "legendgroup": "Banca Centropadana Credito Cooperativo Sc",
         "marker": {
          "color": "#FECB52",
          "pattern": {
           "shape": ""
          }
         },
         "name": "Banca Centropadana C...",
         "offsetgroup": "Banca Centropadana Credito Cooperativo Sc",
         "orientation": "v",
         "showlegend": true,
         "textposition": "auto",
         "type": "bar",
         "x": [
          2020
         ],
         "xaxis": "x",
         "y": [
          570000
         ],
         "yaxis": "y"
        },
        {
         "alignmentgroup": "True",
         "hovertemplate": "Sanctioned_Entity=Banca Intermobiliare di Investimenti e Gestioni SpA<br>Year of Sanction=%{x}<br>Sanctioned Amount (€)=%{y}<extra></extra>",
         "legendgroup": "Banca Intermobiliare di Investimenti e Gestioni SpA",
         "marker": {
          "color": "#636efa",
          "pattern": {
           "shape": ""
          }
         },
         "name": "Banca Intermobiliare...",
         "offsetgroup": "Banca Intermobiliare di Investimenti e Gestioni SpA",
         "orientation": "v",
         "showlegend": true,
         "textposition": "auto",
         "type": "bar",
         "x": [
          2020
         ],
         "xaxis": "x",
         "y": [
          30
         ],
         "yaxis": "y"
        },
        {
         "alignmentgroup": "True",
         "hovertemplate": "Sanctioned_Entity=BNP Paribas Real Estate Investment Management Italy SGR<br>Year of Sanction=%{x}<br>Sanctioned Amount (€)=%{y}<extra></extra>",
         "legendgroup": "BNP Paribas Real Estate Investment Management Italy SGR",
         "marker": {
          "color": "#EF553B",
          "pattern": {
           "shape": ""
          }
         },
         "name": "BNP Paribas Real Est...",
         "offsetgroup": "BNP Paribas Real Estate Investment Management Italy SGR",
         "orientation": "v",
         "showlegend": true,
         "textposition": "auto",
         "type": "bar",
         "x": [
          2020
         ],
         "xaxis": "x",
         "y": [
          114000
         ],
         "yaxis": "y"
        },
        {
         "alignmentgroup": "True",
         "hovertemplate": "Sanctioned_Entity=Banca Popolare dell’Alto Adige Spa<br>Year of Sanction=%{x}<br>Sanctioned Amount (€)=%{y}<extra></extra>",
         "legendgroup": "Banca Popolare dell’Alto Adige Spa",
         "marker": {
          "color": "#00cc96",
          "pattern": {
           "shape": ""
          }
         },
         "name": "Banca Popolare dell’...",
         "offsetgroup": "Banca Popolare dell’Alto Adige Spa",
         "orientation": "v",
         "showlegend": true,
         "textposition": "auto",
         "type": "bar",
         "x": [
          2020
         ],
         "xaxis": "x",
         "y": [
          145000
         ],
         "yaxis": "y"
        },
        {
         "alignmentgroup": "True",
         "hovertemplate": "Sanctioned_Entity=Banca Popolare del Mediterraneo Scpa<br>Year of Sanction=%{x}<br>Sanctioned Amount (€)=%{y}<extra></extra>",
         "legendgroup": "Banca Popolare del Mediterraneo Scpa",
         "marker": {
          "color": "#ab63fa",
          "pattern": {
           "shape": ""
          }
         },
         "name": "Banca Popolare del M...",
         "offsetgroup": "Banca Popolare del Mediterraneo Scpa",
         "orientation": "v",
         "showlegend": true,
         "textposition": "auto",
         "type": "bar",
         "x": [
          2020,
          2024
         ],
         "xaxis": "x",
         "y": [
          30000,
          75000
         ],
         "yaxis": "y"
        },
        {
         "alignmentgroup": "True",
         "hovertemplate": "Sanctioned_Entity=Banca del Piemonte SpA<br>Year of Sanction=%{x}<br>Sanctioned Amount (€)=%{y}<extra></extra>",
         "legendgroup": "Banca del Piemonte SpA",
         "marker": {
          "color": "#FFA15A",
          "pattern": {
           "shape": ""
          }
         },
         "name": "Banca del Piemonte S...",
         "offsetgroup": "Banca del Piemonte SpA",
         "orientation": "v",
         "showlegend": true,
         "textposition": "auto",
         "type": "bar",
         "x": [
          2020
         ],
         "xaxis": "x",
         "y": [
          30000
         ],
         "yaxis": "y"
        },
        {
         "alignmentgroup": "True",
         "hovertemplate": "Sanctioned_Entity=Banca del Fucino Spa<br>Year of Sanction=%{x}<br>Sanctioned Amount (€)=%{y}<extra></extra>",
         "legendgroup": "Banca del Fucino Spa",
         "marker": {
          "color": "#19d3f3",
          "pattern": {
           "shape": ""
          }
         },
         "name": "Banca del Fucino Spa",
         "offsetgroup": "Banca del Fucino Spa",
         "orientation": "v",
         "showlegend": true,
         "textposition": "auto",
         "type": "bar",
         "x": [
          2020
         ],
         "xaxis": "x",
         "y": [
          0
         ],
         "yaxis": "y"
        },
        {
         "alignmentgroup": "True",
         "hovertemplate": "Sanctioned_Entity=Banca del Cilento of Sassano and Vallo di Diano and Lucania<br>Year of Sanction=%{x}<br>Sanctioned Amount (€)=%{y}<extra></extra>",
         "legendgroup": "Banca del Cilento of Sassano and Vallo di Diano and Lucania",
         "marker": {
          "color": "#FF6692",
          "pattern": {
           "shape": ""
          }
         },
         "name": "Banca del Cilento of...",
         "offsetgroup": "Banca del Cilento of Sassano and Vallo di Diano and Lucania",
         "orientation": "v",
         "showlegend": true,
         "textposition": "auto",
         "type": "bar",
         "x": [
          2020
         ],
         "xaxis": "x",
         "y": [
          30000
         ],
         "yaxis": "y"
        },
        {
         "alignmentgroup": "True",
         "hovertemplate": "Sanctioned_Entity=Banca dell’Alta Murgia Credito Cooperativo<br>Year of Sanction=%{x}<br>Sanctioned Amount (€)=%{y}<extra></extra>",
         "legendgroup": "Banca dell’Alta Murgia Credito Cooperativo",
         "marker": {
          "color": "#B6E880",
          "pattern": {
           "shape": ""
          }
         },
         "name": "Banca dell’Alta Murg...",
         "offsetgroup": "Banca dell’Alta Murgia Credito Cooperativo",
         "orientation": "v",
         "showlegend": true,
         "textposition": "auto",
         "type": "bar",
         "x": [
          2020
         ],
         "xaxis": "x",
         "y": [
          30000
         ],
         "yaxis": "y"
        },
        {
         "alignmentgroup": "True",
         "hovertemplate": "Sanctioned_Entity=Banca Popolare di Bari Scpa in a.s.<br>Year of Sanction=%{x}<br>Sanctioned Amount (€)=%{y}<extra></extra>",
         "legendgroup": "Banca Popolare di Bari Scpa in a.s.",
         "marker": {
          "color": "#FF97FF",
          "pattern": {
           "shape": ""
          }
         },
         "name": "Banca Popolare di Ba...",
         "offsetgroup": "Banca Popolare di Bari Scpa in a.s.",
         "orientation": "v",
         "showlegend": true,
         "textposition": "auto",
         "type": "bar",
         "x": [
          2020
         ],
         "xaxis": "x",
         "y": [
          100000
         ],
         "yaxis": "y"
        },
        {
         "alignmentgroup": "True",
         "hovertemplate": "Sanctioned_Entity=Banca Popolare di Bari S.p.A. in a.s.<br>Year of Sanction=%{x}<br>Sanctioned Amount (€)=%{y}<extra></extra>",
         "legendgroup": "Banca Popolare di Bari S.p.A. in a.s.",
         "marker": {
          "color": "#FECB52",
          "pattern": {
           "shape": ""
          }
         },
         "name": "Banca Popolare di Ba...",
         "offsetgroup": "Banca Popolare di Bari S.p.A. in a.s.",
         "orientation": "v",
         "showlegend": true,
         "textposition": "auto",
         "type": "bar",
         "x": [
          2020
         ],
         "xaxis": "x",
         "y": [
          186104
         ],
         "yaxis": "y"
        },
        {
         "alignmentgroup": "True",
         "hovertemplate": "Sanctioned_Entity=Banca Popolare di Puglia e Basilicata Scpa<br>Year of Sanction=%{x}<br>Sanctioned Amount (€)=%{y}<extra></extra>",
         "legendgroup": "Banca Popolare di Puglia e Basilicata Scpa",
         "marker": {
          "color": "#636efa",
          "pattern": {
           "shape": ""
          }
         },
         "name": "Banca Popolare di Pu...",
         "offsetgroup": "Banca Popolare di Puglia e Basilicata Scpa",
         "orientation": "v",
         "showlegend": true,
         "textposition": "auto",
         "type": "bar",
         "x": [
          2020
         ],
         "xaxis": "x",
         "y": [
          30000
         ],
         "yaxis": "y"
        },
        {
         "alignmentgroup": "True",
         "hovertemplate": "Sanctioned_Entity=Diners Club Italia Srl<br>Year of Sanction=%{x}<br>Sanctioned Amount (€)=%{y}<extra></extra>",
         "legendgroup": "Diners Club Italia Srl",
         "marker": {
          "color": "#EF553B",
          "pattern": {
           "shape": ""
          }
         },
         "name": "Diners Club Italia S...",
         "offsetgroup": "Diners Club Italia Srl",
         "orientation": "v",
         "showlegend": true,
         "textposition": "auto",
         "type": "bar",
         "x": [
          2021
         ],
         "xaxis": "x",
         "y": [
          30000
         ],
         "yaxis": "y"
        },
        {
         "alignmentgroup": "True",
         "hovertemplate": "Sanctioned_Entity=Summa Service Srl<br>Year of Sanction=%{x}<br>Sanctioned Amount (€)=%{y}<extra></extra>",
         "legendgroup": "Summa Service Srl",
         "marker": {
          "color": "#00cc96",
          "pattern": {
           "shape": ""
          }
         },
         "name": "Summa Service Srl",
         "offsetgroup": "Summa Service Srl",
         "orientation": "v",
         "showlegend": true,
         "textposition": "auto",
         "type": "bar",
         "x": [
          2021
         ],
         "xaxis": "x",
         "y": [
          140000
         ],
         "yaxis": "y"
        },
        {
         "alignmentgroup": "True",
         "hovertemplate": "Sanctioned_Entity=Société Générale Securities Services SpA<br>Year of Sanction=%{x}<br>Sanctioned Amount (€)=%{y}<extra></extra>",
         "legendgroup": "Société Générale Securities Services SpA",
         "marker": {
          "color": "#ab63fa",
          "pattern": {
           "shape": ""
          }
         },
         "name": "Société Générale Sec...",
         "offsetgroup": "Société Générale Securities Services SpA",
         "orientation": "v",
         "showlegend": true,
         "textposition": "auto",
         "type": "bar",
         "x": [
          2021
         ],
         "xaxis": "x",
         "y": [
          55000
         ],
         "yaxis": "y"
        },
        {
         "alignmentgroup": "True",
         "hovertemplate": "Sanctioned_Entity=Progetto SIM Spa (in administration)<br>Year of Sanction=%{x}<br>Sanctioned Amount (€)=%{y}<extra></extra>",
         "legendgroup": "Progetto SIM Spa (in administration)",
         "marker": {
          "color": "#FFA15A",
          "pattern": {
           "shape": ""
          }
         },
         "name": "Progetto SIM Spa (in...",
         "offsetgroup": "Progetto SIM Spa (in administration)",
         "orientation": "v",
         "showlegend": true,
         "textposition": "auto",
         "type": "bar",
         "x": [
          2021
         ],
         "xaxis": "x",
         "y": [
          35260
         ],
         "yaxis": "y"
        },
        {
         "alignmentgroup": "True",
         "hovertemplate": "Sanctioned_Entity=Invest Banca Spa in a.s.<br>Year of Sanction=%{x}<br>Sanctioned Amount (€)=%{y}<extra></extra>",
         "legendgroup": "Invest Banca Spa in a.s.",
         "marker": {
          "color": "#19d3f3",
          "pattern": {
           "shape": ""
          }
         },
         "name": "Invest Banca Spa in ...",
         "offsetgroup": "Invest Banca Spa in a.s.",
         "orientation": "v",
         "showlegend": true,
         "textposition": "auto",
         "type": "bar",
         "x": [
          2021
         ],
         "xaxis": "x",
         "y": [
          40000
         ],
         "yaxis": "y"
        },
        {
         "alignmentgroup": "True",
         "hovertemplate": "Sanctioned_Entity=Ifinvest SpA<br>Year of Sanction=%{x}<br>Sanctioned Amount (€)=%{y}<extra></extra>",
         "legendgroup": "Ifinvest SpA",
         "marker": {
          "color": "#FF6692",
          "pattern": {
           "shape": ""
          }
         },
         "name": "Ifinvest SpA",
         "offsetgroup": "Ifinvest SpA",
         "orientation": "v",
         "showlegend": true,
         "textposition": "auto",
         "type": "bar",
         "x": [
          2021
         ],
         "xaxis": "x",
         "y": [
          60000
         ],
         "yaxis": "y"
        },
        {
         "alignmentgroup": "True",
         "hovertemplate": "Sanctioned_Entity=Finanza & Factor Spa (now in liquidation)<br>Year of Sanction=%{x}<br>Sanctioned Amount (€)=%{y}<extra></extra>",
         "legendgroup": "Finanza & Factor Spa (now in liquidation)",
         "marker": {
          "color": "#B6E880",
          "pattern": {
           "shape": ""
          }
         },
         "name": "Finanza & Factor Spa...",
         "offsetgroup": "Finanza & Factor Spa (now in liquidation)",
         "orientation": "v",
         "showlegend": true,
         "textposition": "auto",
         "type": "bar",
         "x": [
          2021
         ],
         "xaxis": "x",
         "y": [
          102102
         ],
         "yaxis": "y"
        },
        {
         "alignmentgroup": "True",
         "hovertemplate": "Sanctioned_Entity=Dynamica Retail Spa<br>Year of Sanction=%{x}<br>Sanctioned Amount (€)=%{y}<extra></extra>",
         "legendgroup": "Dynamica Retail Spa",
         "marker": {
          "color": "#FF97FF",
          "pattern": {
           "shape": ""
          }
         },
         "name": "Dynamica Retail Spa",
         "offsetgroup": "Dynamica Retail Spa",
         "orientation": "v",
         "showlegend": true,
         "textposition": "auto",
         "type": "bar",
         "x": [
          2021
         ],
         "xaxis": "x",
         "y": [
          30000
         ],
         "yaxis": "y"
        },
        {
         "alignmentgroup": "True",
         "hovertemplate": "Sanctioned_Entity=Davis & Morgan Spa<br>Year of Sanction=%{x}<br>Sanctioned Amount (€)=%{y}<extra></extra>",
         "legendgroup": "Davis & Morgan Spa",
         "marker": {
          "color": "#FECB52",
          "pattern": {
           "shape": ""
          }
         },
         "name": "Davis & Morgan Spa",
         "offsetgroup": "Davis & Morgan Spa",
         "orientation": "v",
         "showlegend": true,
         "textposition": "auto",
         "type": "bar",
         "x": [
          2021
         ],
         "xaxis": "x",
         "y": [
          80000
         ],
         "yaxis": "y"
        },
        {
         "alignmentgroup": "True",
         "hovertemplate": "Sanctioned_Entity=Banca di Credito Peloritano SpA (in amministrazione straordinaria)<br>Year of Sanction=%{x}<br>Sanctioned Amount (€)=%{y}<extra></extra>",
         "legendgroup": "Banca di Credito Peloritano SpA (in amministrazione straordinaria)",
         "marker": {
          "color": "#636efa",
          "pattern": {
           "shape": ""
          }
         },
         "name": "Banca di Credito Pel...",
         "offsetgroup": "Banca di Credito Peloritano SpA (in amministrazione straordinaria)",
         "orientation": "v",
         "showlegend": true,
         "textposition": "auto",
         "type": "bar",
         "x": [
          2021
         ],
         "xaxis": "x",
         "y": [
          100000
         ],
         "yaxis": "y"
        },
        {
         "alignmentgroup": "True",
         "hovertemplate": "Sanctioned_Entity=Cassa Raiffeisen Schlern-Rosengarten (società cooperativa)<br>Year of Sanction=%{x}<br>Sanctioned Amount (€)=%{y}<extra></extra>",
         "legendgroup": "Cassa Raiffeisen Schlern-Rosengarten (società cooperativa)",
         "marker": {
          "color": "#EF553B",
          "pattern": {
           "shape": ""
          }
         },
         "name": "Cassa Raiffeisen Sch...",
         "offsetgroup": "Cassa Raiffeisen Schlern-Rosengarten (società cooperativa)",
         "orientation": "v",
         "showlegend": true,
         "textposition": "auto",
         "type": "bar",
         "x": [
          2021
         ],
         "xaxis": "x",
         "y": [
          30000
         ],
         "yaxis": "y"
        },
        {
         "alignmentgroup": "True",
         "hovertemplate": "Sanctioned_Entity=Bancadvice.it Sas di Mazzone A & C<br>Year of Sanction=%{x}<br>Sanctioned Amount (€)=%{y}<extra></extra>",
         "legendgroup": "Bancadvice.it Sas di Mazzone A & C",
         "marker": {
          "color": "#00cc96",
          "pattern": {
           "shape": ""
          }
         },
         "name": "Bancadvice.it Sas di...",
         "offsetgroup": "Bancadvice.it Sas di Mazzone A & C",
         "orientation": "v",
         "showlegend": true,
         "textposition": "auto",
         "type": "bar",
         "x": [
          2021
         ],
         "xaxis": "x",
         "y": [
          30000
         ],
         "yaxis": "y"
        },
        {
         "alignmentgroup": "True",
         "hovertemplate": "Sanctioned_Entity=Banca di Credito Peloritano Spa (in amministrazione straordinaria)<br>Year of Sanction=%{x}<br>Sanctioned Amount (€)=%{y}<extra></extra>",
         "legendgroup": "Banca di Credito Peloritano Spa (in amministrazione straordinaria)",
         "marker": {
          "color": "#ab63fa",
          "pattern": {
           "shape": ""
          }
         },
         "name": "Banca di Credito Pel...",
         "offsetgroup": "Banca di Credito Peloritano Spa (in amministrazione straordinaria)",
         "orientation": "v",
         "showlegend": true,
         "textposition": "auto",
         "type": "bar",
         "x": [
          2021
         ],
         "xaxis": "x",
         "y": [
          100000
         ],
         "yaxis": "y"
        },
        {
         "alignmentgroup": "True",
         "hovertemplate": "Sanctioned_Entity=Banca Popolare di Cortona SCPA<br>Year of Sanction=%{x}<br>Sanctioned Amount (€)=%{y}<extra></extra>",
         "legendgroup": "Banca Popolare di Cortona SCPA",
         "marker": {
          "color": "#FFA15A",
          "pattern": {
           "shape": ""
          }
         },
         "name": "Banca Popolare di Co...",
         "offsetgroup": "Banca Popolare di Cortona SCPA",
         "orientation": "v",
         "showlegend": true,
         "textposition": "auto",
         "type": "bar",
         "x": [
          2021
         ],
         "xaxis": "x",
         "y": [
          60000
         ],
         "yaxis": "y"
        },
        {
         "alignmentgroup": "True",
         "hovertemplate": "Sanctioned_Entity=Banca Popolare di Bari SpA<br>Year of Sanction=%{x}<br>Sanctioned Amount (€)=%{y}<extra></extra>",
         "legendgroup": "Banca Popolare di Bari SpA",
         "marker": {
          "color": "#19d3f3",
          "pattern": {
           "shape": ""
          }
         },
         "name": "Banca Popolare di Ba...",
         "offsetgroup": "Banca Popolare di Bari SpA",
         "orientation": "v",
         "showlegend": true,
         "textposition": "auto",
         "type": "bar",
         "x": [
          2021
         ],
         "xaxis": "x",
         "y": [
          85000
         ],
         "yaxis": "y"
        },
        {
         "alignmentgroup": "True",
         "hovertemplate": "Sanctioned_Entity=BCC del Crotonese CC SC<br>Year of Sanction=%{x}<br>Sanctioned Amount (€)=%{y}<extra></extra>",
         "legendgroup": "BCC del Crotonese CC SC",
         "marker": {
          "color": "#FF6692",
          "pattern": {
           "shape": ""
          }
         },
         "name": "BCC del Crotonese CC...",
         "offsetgroup": "BCC del Crotonese CC SC",
         "orientation": "v",
         "showlegend": true,
         "textposition": "auto",
         "type": "bar",
         "x": [
          2021
         ],
         "xaxis": "x",
         "y": [
          60000
         ],
         "yaxis": "y"
        },
        {
         "alignmentgroup": "True",
         "hovertemplate": "Sanctioned_Entity=BCC G. Toniolo di San Cataldo soc. coop.<br>Year of Sanction=%{x}<br>Sanctioned Amount (€)=%{y}<extra></extra>",
         "legendgroup": "BCC G. Toniolo di San Cataldo soc. coop.",
         "marker": {
          "color": "#B6E880",
          "pattern": {
           "shape": ""
          }
         },
         "name": "BCC G. Toniolo di Sa...",
         "offsetgroup": "BCC G. Toniolo di San Cataldo soc. coop.",
         "orientation": "v",
         "showlegend": true,
         "textposition": "auto",
         "type": "bar",
         "x": [
          2021
         ],
         "xaxis": "x",
         "y": [
          30000
         ],
         "yaxis": "y"
        },
        {
         "alignmentgroup": "True",
         "hovertemplate": "Sanctioned_Entity=Credito Etneo – Banca di Credito Cooperativo Soc. Coop<br>Year of Sanction=%{x}<br>Sanctioned Amount (€)=%{y}<extra></extra>",
         "legendgroup": "Credito Etneo – Banca di Credito Cooperativo Soc. Coop",
         "marker": {
          "color": "#FF97FF",
          "pattern": {
           "shape": ""
          }
         },
         "name": "Credito Etneo – Banc...",
         "offsetgroup": "Credito Etneo – Banca di Credito Cooperativo Soc. Coop",
         "orientation": "v",
         "showlegend": true,
         "textposition": "auto",
         "type": "bar",
         "x": [
          2021
         ],
         "xaxis": "x",
         "y": [
          0
         ],
         "yaxis": "y"
        },
        {
         "alignmentgroup": "True",
         "hovertemplate": "Sanctioned_Entity=Directa SIM SpA<br>Year of Sanction=%{x}<br>Sanctioned Amount (€)=%{y}<extra></extra>",
         "legendgroup": "Directa SIM SpA",
         "marker": {
          "color": "#FECB52",
          "pattern": {
           "shape": ""
          }
         },
         "name": "Directa SIM SpA",
         "offsetgroup": "Directa SIM SpA",
         "orientation": "v",
         "showlegend": true,
         "textposition": "auto",
         "type": "bar",
         "x": [
          2022
         ],
         "xaxis": "x",
         "y": [
          30000
         ],
         "yaxis": "y"
        },
        {
         "alignmentgroup": "True",
         "hovertemplate": "Sanctioned_Entity=Fin Sarda Spa<br>Year of Sanction=%{x}<br>Sanctioned Amount (€)=%{y}<extra></extra>",
         "legendgroup": "Fin Sarda Spa",
         "marker": {
          "color": "#636efa",
          "pattern": {
           "shape": ""
          }
         },
         "name": "Fin Sarda Spa",
         "offsetgroup": "Fin Sarda Spa",
         "orientation": "v",
         "showlegend": true,
         "textposition": "auto",
         "type": "bar",
         "x": [
          2022
         ],
         "xaxis": "x",
         "y": [
          30000
         ],
         "yaxis": "y"
        },
        {
         "alignmentgroup": "True",
         "hovertemplate": "Sanctioned_Entity=Mondial Bony Service Spa<br>Year of Sanction=%{x}<br>Sanctioned Amount (€)=%{y}<extra></extra>",
         "legendgroup": "Mondial Bony Service Spa",
         "marker": {
          "color": "#EF553B",
          "pattern": {
           "shape": ""
          }
         },
         "name": "Mondial Bony Service...",
         "offsetgroup": "Mondial Bony Service Spa",
         "orientation": "v",
         "showlegend": true,
         "textposition": "auto",
         "type": "bar",
         "x": [
          2022
         ],
         "xaxis": "x",
         "y": [
          60000
         ],
         "yaxis": "y"
        },
        {
         "alignmentgroup": "True",
         "hovertemplate": "Sanctioned_Entity=Se.Pa.Fin. Spa<br>Year of Sanction=%{x}<br>Sanctioned Amount (€)=%{y}<extra></extra>",
         "legendgroup": "Se.Pa.Fin. Spa",
         "marker": {
          "color": "#00cc96",
          "pattern": {
           "shape": ""
          }
         },
         "name": "Se.Pa.Fin. Spa",
         "offsetgroup": "Se.Pa.Fin. Spa",
         "orientation": "v",
         "showlegend": true,
         "textposition": "auto",
         "type": "bar",
         "x": [
          2022
         ],
         "xaxis": "x",
         "y": [
          0
         ],
         "yaxis": "y"
        },
        {
         "alignmentgroup": "True",
         "hovertemplate": "Sanctioned_Entity=UniCredit SpA<br>Year of Sanction=%{x}<br>Sanctioned Amount (€)=%{y}<extra></extra>",
         "legendgroup": "UniCredit SpA",
         "marker": {
          "color": "#ab63fa",
          "pattern": {
           "shape": ""
          }
         },
         "name": "UniCredit SpA",
         "offsetgroup": "UniCredit SpA",
         "orientation": "v",
         "showlegend": true,
         "textposition": "auto",
         "type": "bar",
         "x": [
          2022
         ],
         "xaxis": "x",
         "y": [
          0
         ],
         "yaxis": "y"
        },
        {
         "alignmentgroup": "True",
         "hovertemplate": "Sanctioned_Entity=Prestiamoci Spa<br>Year of Sanction=%{x}<br>Sanctioned Amount (€)=%{y}<extra></extra>",
         "legendgroup": "Prestiamoci Spa",
         "marker": {
          "color": "#FFA15A",
          "pattern": {
           "shape": ""
          }
         },
         "name": "Prestiamoci Spa",
         "offsetgroup": "Prestiamoci Spa",
         "orientation": "v",
         "showlegend": true,
         "textposition": "auto",
         "type": "bar",
         "x": [
          2022
         ],
         "xaxis": "x",
         "y": [
          30000
         ],
         "yaxis": "y"
        },
        {
         "alignmentgroup": "True",
         "hovertemplate": "Sanctioned_Entity=Credimi SpA<br>Year of Sanction=%{x}<br>Sanctioned Amount (€)=%{y}<extra></extra>",
         "legendgroup": "Credimi SpA",
         "marker": {
          "color": "#19d3f3",
          "pattern": {
           "shape": ""
          }
         },
         "name": "Credimi SpA",
         "offsetgroup": "Credimi SpA",
         "orientation": "v",
         "showlegend": true,
         "textposition": "auto",
         "type": "bar",
         "x": [
          2022
         ],
         "xaxis": "x",
         "y": [
          0
         ],
         "yaxis": "y"
        },
        {
         "alignmentgroup": "True",
         "hovertemplate": "Sanctioned_Entity=N26 Bank GmbH<br>Year of Sanction=%{x}<br>Sanctioned Amount (€)=%{y}<extra></extra>",
         "legendgroup": "N26 Bank GmbH",
         "marker": {
          "color": "#FF6692",
          "pattern": {
           "shape": ""
          }
         },
         "name": "N26 Bank GmbH",
         "offsetgroup": "N26 Bank GmbH",
         "orientation": "v",
         "showlegend": true,
         "textposition": "auto",
         "type": "bar",
         "x": [
          2022
         ],
         "xaxis": "x",
         "y": [
          160000
         ],
         "yaxis": "y"
        },
        {
         "alignmentgroup": "True",
         "hovertemplate": "Sanctioned_Entity=Centotrenta Servicing Spa<br>Year of Sanction=%{x}<br>Sanctioned Amount (€)=%{y}<extra></extra>",
         "legendgroup": "Centotrenta Servicing Spa",
         "marker": {
          "color": "#B6E880",
          "pattern": {
           "shape": ""
          }
         },
         "name": "Centotrenta Servicin...",
         "offsetgroup": "Centotrenta Servicing Spa",
         "orientation": "v",
         "showlegend": true,
         "textposition": "auto",
         "type": "bar",
         "x": [
          2022
         ],
         "xaxis": "x",
         "y": [
          40000
         ],
         "yaxis": "y"
        },
        {
         "alignmentgroup": "True",
         "hovertemplate": "Sanctioned_Entity=BCC dei Colli Albani<br>Year of Sanction=%{x}<br>Sanctioned Amount (€)=%{y}<extra></extra>",
         "legendgroup": "BCC dei Colli Albani",
         "marker": {
          "color": "#FF97FF",
          "pattern": {
           "shape": ""
          }
         },
         "name": "BCC dei Colli Albani",
         "offsetgroup": "BCC dei Colli Albani",
         "orientation": "v",
         "showlegend": true,
         "textposition": "auto",
         "type": "bar",
         "x": [
          2022
         ],
         "xaxis": "x",
         "y": [
          30000
         ],
         "yaxis": "y"
        },
        {
         "alignmentgroup": "True",
         "hovertemplate": "Sanctioned_Entity=Banca del Sud Spa (now in administration)<br>Year of Sanction=%{x}<br>Sanctioned Amount (€)=%{y}<extra></extra>",
         "legendgroup": "Banca del Sud Spa (now in administration)",
         "marker": {
          "color": "#FECB52",
          "pattern": {
           "shape": ""
          }
         },
         "name": "Banca del Sud Spa (n...",
         "offsetgroup": "Banca del Sud Spa (now in administration)",
         "orientation": "v",
         "showlegend": true,
         "textposition": "auto",
         "type": "bar",
         "x": [
          2022
         ],
         "xaxis": "x",
         "y": [
          30000
         ],
         "yaxis": "y"
        },
        {
         "alignmentgroup": "True",
         "hovertemplate": "Sanctioned_Entity=Banca del Sud Spa (in administration)<br>Year of Sanction=%{x}<br>Sanctioned Amount (€)=%{y}<extra></extra>",
         "legendgroup": "Banca del Sud Spa (in administration)",
         "marker": {
          "color": "#636efa",
          "pattern": {
           "shape": ""
          }
         },
         "name": "Banca del Sud Spa (i...",
         "offsetgroup": "Banca del Sud Spa (in administration)",
         "orientation": "v",
         "showlegend": true,
         "textposition": "auto",
         "type": "bar",
         "x": [
          2022
         ],
         "xaxis": "x",
         "y": [
          57
         ],
         "yaxis": "y"
        },
        {
         "alignmentgroup": "True",
         "hovertemplate": "Sanctioned_Entity=Banca Sistema SpA<br>Year of Sanction=%{x}<br>Sanctioned Amount (€)=%{y}<extra></extra>",
         "legendgroup": "Banca Sistema SpA",
         "marker": {
          "color": "#EF553B",
          "pattern": {
           "shape": ""
          }
         },
         "name": "Banca Sistema SpA",
         "offsetgroup": "Banca Sistema SpA",
         "orientation": "v",
         "showlegend": true,
         "textposition": "auto",
         "type": "bar",
         "x": [
          2022
         ],
         "xaxis": "x",
         "y": [
          185285
         ],
         "yaxis": "y"
        },
        {
         "alignmentgroup": "True",
         "hovertemplate": "Sanctioned_Entity=Banca Popolare di Lajatico<br>Year of Sanction=%{x}<br>Sanctioned Amount (€)=%{y}<extra></extra>",
         "legendgroup": "Banca Popolare di Lajatico",
         "marker": {
          "color": "#00cc96",
          "pattern": {
           "shape": ""
          }
         },
         "name": "Banca Popolare di La...",
         "offsetgroup": "Banca Popolare di Lajatico",
         "orientation": "v",
         "showlegend": true,
         "textposition": "auto",
         "type": "bar",
         "x": [
          2022
         ],
         "xaxis": "x",
         "y": [
          30000
         ],
         "yaxis": "y"
        },
        {
         "alignmentgroup": "True",
         "hovertemplate": "Sanctioned_Entity=Banca Popolare Vesuviana Sc<br>Year of Sanction=%{x}<br>Sanctioned Amount (€)=%{y}<extra></extra>",
         "legendgroup": "Banca Popolare Vesuviana Sc",
         "marker": {
          "color": "#ab63fa",
          "pattern": {
           "shape": ""
          }
         },
         "name": "Banca Popolare Vesuv...",
         "offsetgroup": "Banca Popolare Vesuviana Sc",
         "orientation": "v",
         "showlegend": true,
         "textposition": "auto",
         "type": "bar",
         "x": [
          2022
         ],
         "xaxis": "x",
         "y": [
          30000
         ],
         "yaxis": "y"
        },
        {
         "alignmentgroup": "True",
         "hovertemplate": "Sanctioned_Entity=Banca Carige SpA<br>Year of Sanction=%{x}<br>Sanctioned Amount (€)=%{y}<extra></extra>",
         "legendgroup": "Banca Carige SpA",
         "marker": {
          "color": "#FFA15A",
          "pattern": {
           "shape": ""
          }
         },
         "name": "Banca Carige SpA",
         "offsetgroup": "Banca Carige SpA",
         "orientation": "v",
         "showlegend": true,
         "textposition": "auto",
         "type": "bar",
         "x": [
          2022
         ],
         "xaxis": "x",
         "y": [
          280000
         ],
         "yaxis": "y"
        },
        {
         "alignmentgroup": "True",
         "hovertemplate": "Sanctioned_Entity=Aigis Banca Spa (in liquidation coatta amministrativa)<br>Year of Sanction=%{x}<br>Sanctioned Amount (€)=%{y}<extra></extra>",
         "legendgroup": "Aigis Banca Spa (in liquidation coatta amministrativa)",
         "marker": {
          "color": "#19d3f3",
          "pattern": {
           "shape": ""
          }
         },
         "name": "Aigis Banca Spa (in ...",
         "offsetgroup": "Aigis Banca Spa (in liquidation coatta amministrativa)",
         "orientation": "v",
         "showlegend": true,
         "textposition": "auto",
         "type": "bar",
         "x": [
          2022
         ],
         "xaxis": "x",
         "y": [
          35000
         ],
         "yaxis": "y"
        },
        {
         "alignmentgroup": "True",
         "hovertemplate": "Sanctioned_Entity=ART SGR Spa<br>Year of Sanction=%{x}<br>Sanctioned Amount (€)=%{y}<extra></extra>",
         "legendgroup": "ART SGR Spa",
         "marker": {
          "color": "#FF6692",
          "pattern": {
           "shape": ""
          }
         },
         "name": "ART SGR Spa",
         "offsetgroup": "ART SGR Spa",
         "orientation": "v",
         "showlegend": true,
         "textposition": "auto",
         "type": "bar",
         "x": [
          2022
         ],
         "xaxis": "x",
         "y": [
          30000
         ],
         "yaxis": "y"
        },
        {
         "alignmentgroup": "True",
         "hovertemplate": "Sanctioned_Entity=Banque Chaabi du Maroc<br>Year of Sanction=%{x}<br>Sanctioned Amount (€)=%{y}<extra></extra>",
         "legendgroup": "Banque Chaabi du Maroc",
         "marker": {
          "color": "#B6E880",
          "pattern": {
           "shape": ""
          }
         },
         "name": "Banque Chaabi du Mar...",
         "offsetgroup": "Banque Chaabi du Maroc",
         "orientation": "v",
         "showlegend": true,
         "textposition": "auto",
         "type": "bar",
         "x": [
          2022
         ],
         "xaxis": "x",
         "y": [
          30000
         ],
         "yaxis": "y"
        },
        {
         "alignmentgroup": "True",
         "hovertemplate": "Sanctioned_Entity=M.C. Family Spa, now M.C. Family Srl<br>Year of Sanction=%{x}<br>Sanctioned Amount (€)=%{y}<extra></extra>",
         "legendgroup": "M.C. Family Spa, now M.C. Family Srl",
         "marker": {
          "color": "#FF97FF",
          "pattern": {
           "shape": ""
          }
         },
         "name": "M.C. Family Spa, now...",
         "offsetgroup": "M.C. Family Spa, now M.C. Family Srl",
         "orientation": "v",
         "showlegend": true,
         "textposition": "auto",
         "type": "bar",
         "x": [
          2023
         ],
         "xaxis": "x",
         "y": [
          30000
         ],
         "yaxis": "y"
        },
        {
         "alignmentgroup": "True",
         "hovertemplate": "Sanctioned_Entity=PayTipper Spa<br>Year of Sanction=%{x}<br>Sanctioned Amount (€)=%{y}<extra></extra>",
         "legendgroup": "PayTipper Spa",
         "marker": {
          "color": "#FECB52",
          "pattern": {
           "shape": ""
          }
         },
         "name": "PayTipper Spa",
         "offsetgroup": "PayTipper Spa",
         "orientation": "v",
         "showlegend": true,
         "textposition": "auto",
         "type": "bar",
         "x": [
          2023
         ],
         "xaxis": "x",
         "y": [
          50000
         ],
         "yaxis": "y"
        },
        {
         "alignmentgroup": "True",
         "hovertemplate": "Sanctioned_Entity=Prelios Credit Servicing SpA<br>Year of Sanction=%{x}<br>Sanctioned Amount (€)=%{y}<extra></extra>",
         "legendgroup": "Prelios Credit Servicing SpA",
         "marker": {
          "color": "#636efa",
          "pattern": {
           "shape": ""
          }
         },
         "name": "Prelios Credit Servi...",
         "offsetgroup": "Prelios Credit Servicing SpA",
         "orientation": "v",
         "showlegend": true,
         "textposition": "auto",
         "type": "bar",
         "x": [
          2023
         ],
         "xaxis": "x",
         "y": [
          30000
         ],
         "yaxis": "y"
        },
        {
         "alignmentgroup": "True",
         "hovertemplate": "Sanctioned_Entity=Value Italy SGR Spa<br>Year of Sanction=%{x}<br>Sanctioned Amount (€)=%{y}<extra></extra>",
         "legendgroup": "Value Italy SGR Spa",
         "marker": {
          "color": "#EF553B",
          "pattern": {
           "shape": ""
          }
         },
         "name": "Value Italy SGR Spa",
         "offsetgroup": "Value Italy SGR Spa",
         "orientation": "v",
         "showlegend": true,
         "textposition": "auto",
         "type": "bar",
         "x": [
          2023
         ],
         "xaxis": "x",
         "y": [
          60000
         ],
         "yaxis": "y"
        },
        {
         "alignmentgroup": "True",
         "hovertemplate": "Sanctioned_Entity=Synergo Capital SGR SpA<br>Year of Sanction=%{x}<br>Sanctioned Amount (€)=%{y}<extra></extra>",
         "legendgroup": "Synergo Capital SGR SpA",
         "marker": {
          "color": "#00cc96",
          "pattern": {
           "shape": ""
          }
         },
         "name": "Synergo Capital SGR ...",
         "offsetgroup": "Synergo Capital SGR SpA",
         "orientation": "v",
         "showlegend": true,
         "textposition": "auto",
         "type": "bar",
         "x": [
          2023
         ],
         "xaxis": "x",
         "y": [
          120000
         ],
         "yaxis": "y"
        },
        {
         "alignmentgroup": "True",
         "hovertemplate": "Sanctioned_Entity=Value Italy SGR SpA<br>Year of Sanction=%{x}<br>Sanctioned Amount (€)=%{y}<extra></extra>",
         "legendgroup": "Value Italy SGR SpA",
         "marker": {
          "color": "#ab63fa",
          "pattern": {
           "shape": ""
          }
         },
         "name": "Value Italy SGR SpA",
         "offsetgroup": "Value Italy SGR SpA",
         "orientation": "v",
         "showlegend": true,
         "textposition": "auto",
         "type": "bar",
         "x": [
          2023
         ],
         "xaxis": "x",
         "y": [
          5179
         ],
         "yaxis": "y"
        },
        {
         "alignmentgroup": "True",
         "hovertemplate": "Sanctioned_Entity=M.C. Family Spa (now M.C. Family Srl)<br>Year of Sanction=%{x}<br>Sanctioned Amount (€)=%{y}<extra></extra>",
         "legendgroup": "M.C. Family Spa (now M.C. Family Srl)",
         "marker": {
          "color": "#FFA15A",
          "pattern": {
           "shape": ""
          }
         },
         "name": "M.C. Family Spa (now...",
         "offsetgroup": "M.C. Family Spa (now M.C. Family Srl)",
         "orientation": "v",
         "showlegend": true,
         "textposition": "auto",
         "type": "bar",
         "x": [
          2023
         ],
         "xaxis": "x",
         "y": [
          17500
         ],
         "yaxis": "y"
        },
        {
         "alignmentgroup": "True",
         "hovertemplate": "Sanctioned_Entity=Scania Finance Italy Spa<br>Year of Sanction=%{x}<br>Sanctioned Amount (€)=%{y}<extra></extra>",
         "legendgroup": "Scania Finance Italy Spa",
         "marker": {
          "color": "#19d3f3",
          "pattern": {
           "shape": ""
          }
         },
         "name": "Scania Finance Italy...",
         "offsetgroup": "Scania Finance Italy Spa",
         "orientation": "v",
         "showlegend": true,
         "textposition": "auto",
         "type": "bar",
         "x": [
          2023
         ],
         "xaxis": "x",
         "y": [
          50000
         ],
         "yaxis": "y"
        },
        {
         "alignmentgroup": "True",
         "hovertemplate": "Sanctioned_Entity=Intermonte SIM Spa<br>Year of Sanction=%{x}<br>Sanctioned Amount (€)=%{y}<extra></extra>",
         "legendgroup": "Intermonte SIM Spa",
         "marker": {
          "color": "#FF6692",
          "pattern": {
           "shape": ""
          }
         },
         "name": "Intermonte SIM Spa",
         "offsetgroup": "Intermonte SIM Spa",
         "orientation": "v",
         "showlegend": true,
         "textposition": "auto",
         "type": "bar",
         "x": [
          2023
         ],
         "xaxis": "x",
         "y": [
          30000
         ],
         "yaxis": "y"
        },
        {
         "alignmentgroup": "True",
         "hovertemplate": "Sanctioned_Entity=Banco di Credito P. Azzoaglio SpA<br>Year of Sanction=%{x}<br>Sanctioned Amount (€)=%{y}<extra></extra>",
         "legendgroup": "Banco di Credito P. Azzoaglio SpA",
         "marker": {
          "color": "#B6E880",
          "pattern": {
           "shape": ""
          }
         },
         "name": "Banco di Credito P. ...",
         "offsetgroup": "Banco di Credito P. Azzoaglio SpA",
         "orientation": "v",
         "showlegend": true,
         "textposition": "auto",
         "type": "bar",
         "x": [
          2023
         ],
         "xaxis": "x",
         "y": [
          30000
         ],
         "yaxis": "y"
        },
        {
         "alignmentgroup": "True",
         "hovertemplate": "Sanctioned_Entity=Cassa di Risparmio di Volterra SpA<br>Year of Sanction=%{x}<br>Sanctioned Amount (€)=%{y}<extra></extra>",
         "legendgroup": "Cassa di Risparmio di Volterra SpA",
         "marker": {
          "color": "#FF97FF",
          "pattern": {
           "shape": ""
          }
         },
         "name": "Cassa di Risparmio d...",
         "offsetgroup": "Cassa di Risparmio di Volterra SpA",
         "orientation": "v",
         "showlegend": true,
         "textposition": "auto",
         "type": "bar",
         "x": [
          2023
         ],
         "xaxis": "x",
         "y": [
          150000
         ],
         "yaxis": "y"
        },
        {
         "alignmentgroup": "True",
         "hovertemplate": "Sanctioned_Entity=Banca Progetto SpA<br>Year of Sanction=%{x}<br>Sanctioned Amount (€)=%{y}<extra></extra>",
         "legendgroup": "Banca Progetto SpA",
         "marker": {
          "color": "#FECB52",
          "pattern": {
           "shape": ""
          }
         },
         "name": "Banca Progetto SpA",
         "offsetgroup": "Banca Progetto SpA",
         "orientation": "v",
         "showlegend": true,
         "textposition": "auto",
         "type": "bar",
         "x": [
          2023
         ],
         "xaxis": "x",
         "y": [
          100000
         ],
         "yaxis": "y"
        },
        {
         "alignmentgroup": "True",
         "hovertemplate": "Sanctioned_Entity=Banca Popolare Valconca Spa in a.s. (Banca Popolare Valconca)<br>Year of Sanction=%{x}<br>Sanctioned Amount (€)=%{y}<extra></extra>",
         "legendgroup": "Banca Popolare Valconca Spa in a.s. (Banca Popolare Valconca)",
         "marker": {
          "color": "#636efa",
          "pattern": {
           "shape": ""
          }
         },
         "name": "Banca Popolare Valco...",
         "offsetgroup": "Banca Popolare Valconca Spa in a.s. (Banca Popolare Valconca)",
         "orientation": "v",
         "showlegend": true,
         "textposition": "auto",
         "type": "bar",
         "x": [
          2023
         ],
         "xaxis": "x",
         "y": [
          150000
         ],
         "yaxis": "y"
        },
        {
         "alignmentgroup": "True",
         "hovertemplate": "Sanctioned_Entity=Banca Popolare Valconca Spa<br>Year of Sanction=%{x}<br>Sanctioned Amount (€)=%{y}<extra></extra>",
         "legendgroup": "Banca Popolare Valconca Spa",
         "marker": {
          "color": "#EF553B",
          "pattern": {
           "shape": ""
          }
         },
         "name": "Banca Popolare Valco...",
         "offsetgroup": "Banca Popolare Valconca Spa",
         "orientation": "v",
         "showlegend": true,
         "textposition": "auto",
         "type": "bar",
         "x": [
          2023
         ],
         "xaxis": "x",
         "y": [
          30000
         ],
         "yaxis": "y"
        },
        {
         "alignmentgroup": "True",
         "hovertemplate": "Sanctioned_Entity=Banca Popolare Sant’Angelo Scpa<br>Year of Sanction=%{x}<br>Sanctioned Amount (€)=%{y}<extra></extra>",
         "legendgroup": "Banca Popolare Sant’Angelo Scpa",
         "marker": {
          "color": "#00cc96",
          "pattern": {
           "shape": ""
          }
         },
         "name": "Banca Popolare Sant’...",
         "offsetgroup": "Banca Popolare Sant’Angelo Scpa",
         "orientation": "v",
         "showlegend": true,
         "textposition": "auto",
         "type": "bar",
         "x": [
          2023
         ],
         "xaxis": "x",
         "y": [
          30000
         ],
         "yaxis": "y"
        },
        {
         "alignmentgroup": "True",
         "hovertemplate": "Sanctioned_Entity=Anthilia Capital Partners SGR SpA<br>Year of Sanction=%{x}<br>Sanctioned Amount (€)=%{y}<extra></extra>",
         "legendgroup": "Anthilia Capital Partners SGR SpA",
         "marker": {
          "color": "#ab63fa",
          "pattern": {
           "shape": ""
          }
         },
         "name": "Anthilia Capital Par...",
         "offsetgroup": "Anthilia Capital Partners SGR SpA",
         "orientation": "v",
         "showlegend": true,
         "textposition": "auto",
         "type": "bar",
         "x": [
          2023
         ],
         "xaxis": "x",
         "y": [
          30000
         ],
         "yaxis": "y"
        },
        {
         "alignmentgroup": "True",
         "hovertemplate": "Sanctioned_Entity=AMCO Spa<br>Year of Sanction=%{x}<br>Sanctioned Amount (€)=%{y}<extra></extra>",
         "legendgroup": "AMCO Spa",
         "marker": {
          "color": "#FFA15A",
          "pattern": {
           "shape": ""
          }
         },
         "name": "AMCO Spa",
         "offsetgroup": "AMCO Spa",
         "orientation": "v",
         "showlegend": true,
         "textposition": "auto",
         "type": "bar",
         "x": [
          2023
         ],
         "xaxis": "x",
         "y": [
          120000
         ],
         "yaxis": "y"
        },
        {
         "alignmentgroup": "True",
         "hovertemplate": "Sanctioned_Entity=IFIR Istituti Finanziari Riuniti SpA<br>Year of Sanction=%{x}<br>Sanctioned Amount (€)=%{y}<extra></extra>",
         "legendgroup": "IFIR Istituti Finanziari Riuniti SpA",
         "marker": {
          "color": "#19d3f3",
          "pattern": {
           "shape": ""
          }
         },
         "name": "IFIR Istituti Finanz...",
         "offsetgroup": "IFIR Istituti Finanziari Riuniti SpA",
         "orientation": "v",
         "showlegend": true,
         "textposition": "auto",
         "type": "bar",
         "x": [
          2023
         ],
         "xaxis": "x",
         "y": [
          235018
         ],
         "yaxis": "y"
        },
        {
         "alignmentgroup": "True",
         "hovertemplate": "Sanctioned_Entity=Generalfinance SpA<br>Year of Sanction=%{x}<br>Sanctioned Amount (€)=%{y}<extra></extra>",
         "legendgroup": "Generalfinance SpA",
         "marker": {
          "color": "#FF6692",
          "pattern": {
           "shape": ""
          }
         },
         "name": "Generalfinance SpA",
         "offsetgroup": "Generalfinance SpA",
         "orientation": "v",
         "showlegend": true,
         "textposition": "auto",
         "type": "bar",
         "x": [
          2024
         ],
         "xaxis": "x",
         "y": [
          60000
         ],
         "yaxis": "y"
        },
        {
         "alignmentgroup": "True",
         "hovertemplate": "Sanctioned_Entity=Banca Popolare del Mediterraneano SCPA<br>Year of Sanction=%{x}<br>Sanctioned Amount (€)=%{y}<extra></extra>",
         "legendgroup": "Banca Popolare del Mediterraneano SCPA",
         "marker": {
          "color": "#B6E880",
          "pattern": {
           "shape": ""
          }
         },
         "name": "Banca Popolare del M...",
         "offsetgroup": "Banca Popolare del Mediterraneano SCPA",
         "orientation": "v",
         "showlegend": true,
         "textposition": "auto",
         "type": "bar",
         "x": [
          2024
         ],
         "xaxis": "x",
         "y": [
          8014
         ],
         "yaxis": "y"
        },
        {
         "alignmentgroup": "True",
         "hovertemplate": "Sanctioned_Entity=Solution Bank SpA<br>Year of Sanction=%{x}<br>Sanctioned Amount (€)=%{y}<extra></extra>",
         "legendgroup": "Solution Bank SpA",
         "marker": {
          "color": "#FF97FF",
          "pattern": {
           "shape": ""
          }
         },
         "name": "Solution Bank SpA",
         "offsetgroup": "Solution Bank SpA",
         "orientation": "v",
         "showlegend": true,
         "textposition": "auto",
         "type": "bar",
         "x": [
          2024
         ],
         "xaxis": "x",
         "y": [
          35000
         ],
         "yaxis": "y"
        },
        {
         "mode": "lines",
         "name": "Sanction Count",
         "type": "scatter",
         "x": [
          "2019",
          "2020",
          "2021",
          "2022",
          "2023",
          "2024"
         ],
         "y": [
          25,
          44,
          23,
          22,
          22,
          5
         ],
         "yaxis": "y2"
        }
       ],
       "layout": {
        "barmode": "relative",
        "height": 500,
        "legend": {
         "title": {
          "text": "Sanctioned_Entity"
         },
         "tracegroupgap": 0
        },
        "template": {
         "data": {
          "bar": [
           {
            "error_x": {
             "color": "#2a3f5f"
            },
            "error_y": {
             "color": "#2a3f5f"
            },
            "marker": {
             "line": {
              "color": "#E5ECF6",
              "width": 0.5
             },
             "pattern": {
              "fillmode": "overlay",
              "size": 10,
              "solidity": 0.2
             }
            },
            "type": "bar"
           }
          ],
          "barpolar": [
           {
            "marker": {
             "line": {
              "color": "#E5ECF6",
              "width": 0.5
             },
             "pattern": {
              "fillmode": "overlay",
              "size": 10,
              "solidity": 0.2
             }
            },
            "type": "barpolar"
           }
          ],
          "carpet": [
           {
            "aaxis": {
             "endlinecolor": "#2a3f5f",
             "gridcolor": "white",
             "linecolor": "white",
             "minorgridcolor": "white",
             "startlinecolor": "#2a3f5f"
            },
            "baxis": {
             "endlinecolor": "#2a3f5f",
             "gridcolor": "white",
             "linecolor": "white",
             "minorgridcolor": "white",
             "startlinecolor": "#2a3f5f"
            },
            "type": "carpet"
           }
          ],
          "choropleth": [
           {
            "colorbar": {
             "outlinewidth": 0,
             "ticks": ""
            },
            "type": "choropleth"
           }
          ],
          "contour": [
           {
            "colorbar": {
             "outlinewidth": 0,
             "ticks": ""
            },
            "colorscale": [
             [
              0,
              "#0d0887"
             ],
             [
              0.1111111111111111,
              "#46039f"
             ],
             [
              0.2222222222222222,
              "#7201a8"
             ],
             [
              0.3333333333333333,
              "#9c179e"
             ],
             [
              0.4444444444444444,
              "#bd3786"
             ],
             [
              0.5555555555555556,
              "#d8576b"
             ],
             [
              0.6666666666666666,
              "#ed7953"
             ],
             [
              0.7777777777777778,
              "#fb9f3a"
             ],
             [
              0.8888888888888888,
              "#fdca26"
             ],
             [
              1,
              "#f0f921"
             ]
            ],
            "type": "contour"
           }
          ],
          "contourcarpet": [
           {
            "colorbar": {
             "outlinewidth": 0,
             "ticks": ""
            },
            "type": "contourcarpet"
           }
          ],
          "heatmap": [
           {
            "colorbar": {
             "outlinewidth": 0,
             "ticks": ""
            },
            "colorscale": [
             [
              0,
              "#0d0887"
             ],
             [
              0.1111111111111111,
              "#46039f"
             ],
             [
              0.2222222222222222,
              "#7201a8"
             ],
             [
              0.3333333333333333,
              "#9c179e"
             ],
             [
              0.4444444444444444,
              "#bd3786"
             ],
             [
              0.5555555555555556,
              "#d8576b"
             ],
             [
              0.6666666666666666,
              "#ed7953"
             ],
             [
              0.7777777777777778,
              "#fb9f3a"
             ],
             [
              0.8888888888888888,
              "#fdca26"
             ],
             [
              1,
              "#f0f921"
             ]
            ],
            "type": "heatmap"
           }
          ],
          "heatmapgl": [
           {
            "colorbar": {
             "outlinewidth": 0,
             "ticks": ""
            },
            "colorscale": [
             [
              0,
              "#0d0887"
             ],
             [
              0.1111111111111111,
              "#46039f"
             ],
             [
              0.2222222222222222,
              "#7201a8"
             ],
             [
              0.3333333333333333,
              "#9c179e"
             ],
             [
              0.4444444444444444,
              "#bd3786"
             ],
             [
              0.5555555555555556,
              "#d8576b"
             ],
             [
              0.6666666666666666,
              "#ed7953"
             ],
             [
              0.7777777777777778,
              "#fb9f3a"
             ],
             [
              0.8888888888888888,
              "#fdca26"
             ],
             [
              1,
              "#f0f921"
             ]
            ],
            "type": "heatmapgl"
           }
          ],
          "histogram": [
           {
            "marker": {
             "pattern": {
              "fillmode": "overlay",
              "size": 10,
              "solidity": 0.2
             }
            },
            "type": "histogram"
           }
          ],
          "histogram2d": [
           {
            "colorbar": {
             "outlinewidth": 0,
             "ticks": ""
            },
            "colorscale": [
             [
              0,
              "#0d0887"
             ],
             [
              0.1111111111111111,
              "#46039f"
             ],
             [
              0.2222222222222222,
              "#7201a8"
             ],
             [
              0.3333333333333333,
              "#9c179e"
             ],
             [
              0.4444444444444444,
              "#bd3786"
             ],
             [
              0.5555555555555556,
              "#d8576b"
             ],
             [
              0.6666666666666666,
              "#ed7953"
             ],
             [
              0.7777777777777778,
              "#fb9f3a"
             ],
             [
              0.8888888888888888,
              "#fdca26"
             ],
             [
              1,
              "#f0f921"
             ]
            ],
            "type": "histogram2d"
           }
          ],
          "histogram2dcontour": [
           {
            "colorbar": {
             "outlinewidth": 0,
             "ticks": ""
            },
            "colorscale": [
             [
              0,
              "#0d0887"
             ],
             [
              0.1111111111111111,
              "#46039f"
             ],
             [
              0.2222222222222222,
              "#7201a8"
             ],
             [
              0.3333333333333333,
              "#9c179e"
             ],
             [
              0.4444444444444444,
              "#bd3786"
             ],
             [
              0.5555555555555556,
              "#d8576b"
             ],
             [
              0.6666666666666666,
              "#ed7953"
             ],
             [
              0.7777777777777778,
              "#fb9f3a"
             ],
             [
              0.8888888888888888,
              "#fdca26"
             ],
             [
              1,
              "#f0f921"
             ]
            ],
            "type": "histogram2dcontour"
           }
          ],
          "mesh3d": [
           {
            "colorbar": {
             "outlinewidth": 0,
             "ticks": ""
            },
            "type": "mesh3d"
           }
          ],
          "parcoords": [
           {
            "line": {
             "colorbar": {
              "outlinewidth": 0,
              "ticks": ""
             }
            },
            "type": "parcoords"
           }
          ],
          "pie": [
           {
            "automargin": true,
            "type": "pie"
           }
          ],
          "scatter": [
           {
            "fillpattern": {
             "fillmode": "overlay",
             "size": 10,
             "solidity": 0.2
            },
            "type": "scatter"
           }
          ],
          "scatter3d": [
           {
            "line": {
             "colorbar": {
              "outlinewidth": 0,
              "ticks": ""
             }
            },
            "marker": {
             "colorbar": {
              "outlinewidth": 0,
              "ticks": ""
             }
            },
            "type": "scatter3d"
           }
          ],
          "scattercarpet": [
           {
            "marker": {
             "colorbar": {
              "outlinewidth": 0,
              "ticks": ""
             }
            },
            "type": "scattercarpet"
           }
          ],
          "scattergeo": [
           {
            "marker": {
             "colorbar": {
              "outlinewidth": 0,
              "ticks": ""
             }
            },
            "type": "scattergeo"
           }
          ],
          "scattergl": [
           {
            "marker": {
             "colorbar": {
              "outlinewidth": 0,
              "ticks": ""
             }
            },
            "type": "scattergl"
           }
          ],
          "scattermapbox": [
           {
            "marker": {
             "colorbar": {
              "outlinewidth": 0,
              "ticks": ""
             }
            },
            "type": "scattermapbox"
           }
          ],
          "scatterpolar": [
           {
            "marker": {
             "colorbar": {
              "outlinewidth": 0,
              "ticks": ""
             }
            },
            "type": "scatterpolar"
           }
          ],
          "scatterpolargl": [
           {
            "marker": {
             "colorbar": {
              "outlinewidth": 0,
              "ticks": ""
             }
            },
            "type": "scatterpolargl"
           }
          ],
          "scatterternary": [
           {
            "marker": {
             "colorbar": {
              "outlinewidth": 0,
              "ticks": ""
             }
            },
            "type": "scatterternary"
           }
          ],
          "surface": [
           {
            "colorbar": {
             "outlinewidth": 0,
             "ticks": ""
            },
            "colorscale": [
             [
              0,
              "#0d0887"
             ],
             [
              0.1111111111111111,
              "#46039f"
             ],
             [
              0.2222222222222222,
              "#7201a8"
             ],
             [
              0.3333333333333333,
              "#9c179e"
             ],
             [
              0.4444444444444444,
              "#bd3786"
             ],
             [
              0.5555555555555556,
              "#d8576b"
             ],
             [
              0.6666666666666666,
              "#ed7953"
             ],
             [
              0.7777777777777778,
              "#fb9f3a"
             ],
             [
              0.8888888888888888,
              "#fdca26"
             ],
             [
              1,
              "#f0f921"
             ]
            ],
            "type": "surface"
           }
          ],
          "table": [
           {
            "cells": {
             "fill": {
              "color": "#EBF0F8"
             },
             "line": {
              "color": "white"
             }
            },
            "header": {
             "fill": {
              "color": "#C8D4E3"
             },
             "line": {
              "color": "white"
             }
            },
            "type": "table"
           }
          ]
         },
         "layout": {
          "annotationdefaults": {
           "arrowcolor": "#2a3f5f",
           "arrowhead": 0,
           "arrowwidth": 1
          },
          "autotypenumbers": "strict",
          "coloraxis": {
           "colorbar": {
            "outlinewidth": 0,
            "ticks": ""
           }
          },
          "colorscale": {
           "diverging": [
            [
             0,
             "#8e0152"
            ],
            [
             0.1,
             "#c51b7d"
            ],
            [
             0.2,
             "#de77ae"
            ],
            [
             0.3,
             "#f1b6da"
            ],
            [
             0.4,
             "#fde0ef"
            ],
            [
             0.5,
             "#f7f7f7"
            ],
            [
             0.6,
             "#e6f5d0"
            ],
            [
             0.7,
             "#b8e186"
            ],
            [
             0.8,
             "#7fbc41"
            ],
            [
             0.9,
             "#4d9221"
            ],
            [
             1,
             "#276419"
            ]
           ],
           "sequential": [
            [
             0,
             "#0d0887"
            ],
            [
             0.1111111111111111,
             "#46039f"
            ],
            [
             0.2222222222222222,
             "#7201a8"
            ],
            [
             0.3333333333333333,
             "#9c179e"
            ],
            [
             0.4444444444444444,
             "#bd3786"
            ],
            [
             0.5555555555555556,
             "#d8576b"
            ],
            [
             0.6666666666666666,
             "#ed7953"
            ],
            [
             0.7777777777777778,
             "#fb9f3a"
            ],
            [
             0.8888888888888888,
             "#fdca26"
            ],
            [
             1,
             "#f0f921"
            ]
           ],
           "sequentialminus": [
            [
             0,
             "#0d0887"
            ],
            [
             0.1111111111111111,
             "#46039f"
            ],
            [
             0.2222222222222222,
             "#7201a8"
            ],
            [
             0.3333333333333333,
             "#9c179e"
            ],
            [
             0.4444444444444444,
             "#bd3786"
            ],
            [
             0.5555555555555556,
             "#d8576b"
            ],
            [
             0.6666666666666666,
             "#ed7953"
            ],
            [
             0.7777777777777778,
             "#fb9f3a"
            ],
            [
             0.8888888888888888,
             "#fdca26"
            ],
            [
             1,
             "#f0f921"
            ]
           ]
          },
          "colorway": [
           "#636efa",
           "#EF553B",
           "#00cc96",
           "#ab63fa",
           "#FFA15A",
           "#19d3f3",
           "#FF6692",
           "#B6E880",
           "#FF97FF",
           "#FECB52"
          ],
          "font": {
           "color": "#2a3f5f"
          },
          "geo": {
           "bgcolor": "white",
           "lakecolor": "white",
           "landcolor": "#E5ECF6",
           "showlakes": true,
           "showland": true,
           "subunitcolor": "white"
          },
          "hoverlabel": {
           "align": "left"
          },
          "hovermode": "closest",
          "mapbox": {
           "style": "light"
          },
          "paper_bgcolor": "white",
          "plot_bgcolor": "#E5ECF6",
          "polar": {
           "angularaxis": {
            "gridcolor": "white",
            "linecolor": "white",
            "ticks": ""
           },
           "bgcolor": "#E5ECF6",
           "radialaxis": {
            "gridcolor": "white",
            "linecolor": "white",
            "ticks": ""
           }
          },
          "scene": {
           "xaxis": {
            "backgroundcolor": "#E5ECF6",
            "gridcolor": "white",
            "gridwidth": 2,
            "linecolor": "white",
            "showbackground": true,
            "ticks": "",
            "zerolinecolor": "white"
           },
           "yaxis": {
            "backgroundcolor": "#E5ECF6",
            "gridcolor": "white",
            "gridwidth": 2,
            "linecolor": "white",
            "showbackground": true,
            "ticks": "",
            "zerolinecolor": "white"
           },
           "zaxis": {
            "backgroundcolor": "#E5ECF6",
            "gridcolor": "white",
            "gridwidth": 2,
            "linecolor": "white",
            "showbackground": true,
            "ticks": "",
            "zerolinecolor": "white"
           }
          },
          "shapedefaults": {
           "line": {
            "color": "#2a3f5f"
           }
          },
          "ternary": {
           "aaxis": {
            "gridcolor": "white",
            "linecolor": "white",
            "ticks": ""
           },
           "baxis": {
            "gridcolor": "white",
            "linecolor": "white",
            "ticks": ""
           },
           "bgcolor": "#E5ECF6",
           "caxis": {
            "gridcolor": "white",
            "linecolor": "white",
            "ticks": ""
           }
          },
          "title": {
           "x": 0.05
          },
          "xaxis": {
           "automargin": true,
           "gridcolor": "white",
           "linecolor": "white",
           "ticks": "",
           "title": {
            "standoff": 15
           },
           "zerolinecolor": "white",
           "zerolinewidth": 2
          },
          "yaxis": {
           "automargin": true,
           "gridcolor": "white",
           "linecolor": "white",
           "ticks": "",
           "title": {
            "standoff": 15
           },
           "zerolinecolor": "white",
           "zerolinewidth": 2
          }
         }
        },
        "title": {
         "text": "Yearly Sanctioned Amounts by Entity"
        },
        "width": 800,
        "xaxis": {
         "anchor": "y",
         "domain": [
          0,
          1
         ],
         "title": {
          "text": "Year of Sanction"
         }
        },
        "yaxis": {
         "anchor": "x",
         "domain": [
          0,
          1
         ],
         "title": {
          "text": "Sanctioned Amount (€)"
         }
        },
        "yaxis2": {
         "overlaying": "y",
         "side": "right",
         "title": {
          "text": "Sanction Count"
         }
        }
       }
      }
     },
     "metadata": {},
     "output_type": "display_data"
    }
   ],
   "source": [
    "import plotly.express as px\n",
    "from natsort import natsorted  # Import natural sorting function\n",
    "\n",
    "def truncate_legend(label):\n",
    "    max_length = 20\n",
    "    return label[:max_length] + '...' if len(label) > max_length else label\n",
    "\n",
    "# Convert 'Date_of_Sanction' column to datetime\n",
    "df_result['Date_of_Sanction'] = pd.to_datetime(df_result['Date_of_Sanction'])\n",
    "\n",
    "# Extract year from 'Date_of_Sanction' column\n",
    "df_result['Year'] = df_result['Date_of_Sanction'].dt.strftime('%Y')\n",
    "\n",
    "# Group by year and entity, summing the sanctioned amounts\n",
    "df_yearly = df_result.groupby(['Year', 'Sanctioned_Entity'])['Sanctioned_Amount'].sum().reset_index()\n",
    "\n",
    "# Convert 'Year' column to integers\n",
    "df_yearly['Year'] = df_yearly['Year'].astype(int)\n",
    "\n",
    "# Sort the DataFrame by the 'Year' column\n",
    "df_yearly = df_yearly.sort_values(by='Year')\n",
    "\n",
    "# Group by year and count the number of sanctions\n",
    "sanction_count = df_result.groupby('Year').size().reset_index(name='Sanction_Count')\n",
    "\n",
    "# Plot the stacked bar chart\n",
    "fig = px.bar(df_yearly, x='Year', y='Sanctioned_Amount', color='Sanctioned_Entity',\n",
    "             title=\"Yearly Sanctioned Amounts by Entity\",\n",
    "             labels={\"Year\": \"Year of Sanction\", \"Sanctioned_Amount\": \"Sanctioned Amount (€)\"})\n",
    "\n",
    "# Add line chart for yearly count\n",
    "fig.add_scatter(x=sanction_count['Year'], y=sanction_count['Sanction_Count'], \n",
    "                mode='lines', name='Sanction Count', yaxis='y2')  # Specify y2 for secondary y-axis\n",
    "\n",
    "fig.update_layout(\n",
    "    width=800,  # Set a fixed width of 400 pixels\n",
    "    height=500,  # Set a fixed height\n",
    "    yaxis2=dict(\n",
    "        title='Sanction Count',  # Label for secondary y-axis\n",
    "        overlaying='y',  # Overlay the secondary y-axis on the primary one\n",
    "        side='right'  # Position the secondary y-axis on the right side\n",
    "    )\n",
    ")\n",
    "\n",
    "# Truncate legend labels\n",
    "fig.for_each_trace(lambda trace: trace.update(name=truncate_legend(trace.name)))\n",
    "\n",
    "fig.show()\n"
   ]
  },
  {
   "cell_type": "markdown",
   "metadata": {},
   "source": [
    "# option of text searching"
   ]
  },
  {
   "cell_type": "code",
   "execution_count": 29,
   "metadata": {},
   "outputs": [
    {
     "data": {
      "text/plain": [
       "(                                            PDF_Link  \\\n",
       " 0  https://www.bancaditalia.it/compiti/vigilanza/...   \n",
       " 1  https://www.bancaditalia.it/compiti/vigilanza/...   \n",
       " 2  https://www.bancaditalia.it/compiti/vigilanza/...   \n",
       " 3  https://www.bancaditalia.it/compiti/vigilanza/...   \n",
       " 4  https://www.bancaditalia.it/compiti/vigilanza/...   \n",
       " \n",
       "                                         Text_Content  \n",
       " 0                                                ...  \n",
       " 1                                                ...  \n",
       " 2                                                ...  \n",
       " 3                                                ...  \n",
       " 4                                                ...  ,\n",
       " Index(['PDF_Link', 'Text_Content'], dtype='object'))"
      ]
     },
     "execution_count": 29,
     "metadata": {},
     "output_type": "execute_result"
    }
   ],
   "source": [
    "import pandas as pd\n",
    "\n",
    "# Load the CSV file to examine its contents\n",
    "data = pd.read_csv('pdf_text_content.csv')\n",
    "\n",
    "# Display the first few rows of the dataframe and the column names to understand its structure\n",
    "data.head(), data.columns\n"
   ]
  },
  {
   "cell_type": "code",
   "execution_count": 3,
   "metadata": {},
   "outputs": [],
   "source": [
    "import re\n"
   ]
  },
  {
   "cell_type": "code",
   "execution_count": 30,
   "metadata": {},
   "outputs": [
    {
     "data": {
      "text/plain": [
       "(    Sanctioned Entity  Sanction Amount  \\\n",
       " 0  GENERALFINANCE SPA              3.0   \n",
       " 1  GENERALFINANCE SPA          30000.0   \n",
       " 2   SOLUTION BANK SPA              3.0   \n",
       " 3                None             14.0   \n",
       " 4                None          75000.0   \n",
       " \n",
       "                                      Sanction Reason Sanction Date  \n",
       " 0  : \\n- carenze in materia di adeguata verifica,...    2019-03-26  \n",
       " 1  : \\n- omesse/errate segnalazioni all’Organismo...    2024-02-06  \n",
       " 2                                               None    2019-03-26  \n",
       " 3  : \\n- carenze nell’organizzazione e nei contro...    2024-03-01  \n",
       " 4                                               None    2024-01-09  ,\n",
       " Sanctioned Entity    75\n",
       " Sanction Amount      21\n",
       " Sanction Reason      95\n",
       " Sanction Date         5\n",
       " dtype: int64,\n",
       " 'Sanction_Details_with_Date.csv')"
      ]
     },
     "execution_count": 30,
     "metadata": {},
     "output_type": "execute_result"
    }
   ],
   "source": [
    "import datetime\n",
    "\n",
    "# Function to normalize date format to YYYY-MM-DD\n",
    "def normalize_date(date_str):\n",
    "    for fmt in (\"%d.%m.%Y\", \"%d/%m/%Y\", \"%d-%m-%Y\"):\n",
    "        try:\n",
    "            return datetime.datetime.strptime(date_str, fmt).strftime(\"%Y-%m-%d\")\n",
    "        except ValueError:\n",
    "            continue\n",
    "    return None  # Return None if no format matches\n",
    "\n",
    "# Revised function to handle amount conversion and ensure proper date formatting\n",
    "def extract_sanction_details_revised(text):\n",
    "    # Regex pattern to extract the sanctioned entity, sanction amount, and sanction date\n",
    "    entity_pattern = re.compile(r\"(\\b[A-Z\\s]+ SPA\\b)\")\n",
    "    amount_pattern = re.compile(r\"€\\s?([\\d.,]+)\")\n",
    "    reason_pattern = re.compile(r\"irregolarità(?:\\sdi\\sseguito\\sindicate|:\\s|sopra\\sindicate)(?:\\sdi\\sseguito\\sindicate|:\\s|sopra\\sindicate)?\\s([^–]+)\")\n",
    "    date_pattern = re.compile(r\"(\\b\\d{1,2}[./-]\\d{1,2}[./-]\\d{2,4}\\b)\")\n",
    "\n",
    "    # Extracting data using regex\n",
    "    entity = re.search(entity_pattern, text)\n",
    "    amount = re.search(amount_pattern, text)\n",
    "    reason = re.search(reason_pattern, text)\n",
    "    date = re.search(date_pattern, text)\n",
    "\n",
    "    # Extract entity, amount, reason, and date if available\n",
    "    entity = entity.group(1).strip() if entity else None\n",
    "    amount = amount.group(1).replace(' ', '').replace(',', '.') if amount else None\n",
    "    amount = float(amount.replace('.', '', amount.count('.') - 1).strip('.')) if amount else None  # Remove thousands separator, keep decimal\n",
    "    reason = reason.group(1).strip() if reason else None\n",
    "    date = normalize_date(date.group(1).strip()) if date else None\n",
    "\n",
    "    return entity, amount, reason, date\n",
    "\n",
    "# Apply the revised extraction function to the dataframe\n",
    "extracted_data_revised = data['Text_Content'].apply(lambda x: extract_sanction_details_revised(x))\n",
    "\n",
    "# Create a new dataframe with the extracted information\n",
    "sanction_details_df_revised = pd.DataFrame(extracted_data_revised.tolist(), columns=['Sanctioned Entity', 'Sanction Amount', 'Sanction Reason', 'Sanction Date'])\n",
    "\n",
    "# Save the new dataframe to a CSV file\n",
    "output_file_path_revised = 'Sanction_Details_with_Date.csv'\n",
    "sanction_details_df_revised.to_csv(output_file_path_revised, index=False)\n",
    "\n",
    "sanction_details_df_revised.head(), sanction_details_df_revised.isnull().sum(), output_file_path_revised\n"
   ]
  }
 ],
 "metadata": {
  "kernelspec": {
   "display_name": "tg",
   "language": "python",
   "name": "python3"
  },
  "language_info": {
   "codemirror_mode": {
    "name": "ipython",
    "version": 3
   },
   "file_extension": ".py",
   "mimetype": "text/x-python",
   "name": "python",
   "nbconvert_exporter": "python",
   "pygments_lexer": "ipython3",
   "version": "3.12.3"
  }
 },
 "nbformat": 4,
 "nbformat_minor": 2
}
