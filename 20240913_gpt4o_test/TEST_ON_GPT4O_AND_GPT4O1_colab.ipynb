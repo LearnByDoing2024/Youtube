{
  "cells": [
    {
      "cell_type": "markdown",
      "metadata": {
        "id": "hIQ0FP_ycPlk"
      },
      "source": [
        "GPT4O"
      ]
    },
    {
      "cell_type": "code",
      "execution_count": 2,
      "metadata": {},
      "outputs": [
        {
          "name": "stdout",
          "output_type": "stream",
          "text": [
            "Defaulting to user installation because normal site-packages is not writeableNote: you may need to restart the kernel to use updated packages.\n",
            "\n"
          ]
        },
        {
          "name": "stderr",
          "output_type": "stream",
          "text": [
            "ERROR: Could not find a version that satisfies the requirement google.colab (from versions: none)\n",
            "ERROR: No matching distribution found for google.colab\n"
          ]
        }
      ],
      "source": [
        "pip install google.colab"
      ]
    },
    {
      "cell_type": "code",
      "execution_count": 3,
      "metadata": {
        "id": "A61PRZ-pbeGV"
      },
      "outputs": [
        {
          "ename": "ModuleNotFoundError",
          "evalue": "No module named 'google.colab'",
          "output_type": "error",
          "traceback": [
            "\u001b[1;31m---------------------------------------------------------------------------\u001b[0m",
            "\u001b[1;31mModuleNotFoundError\u001b[0m                       Traceback (most recent call last)",
            "Cell \u001b[1;32mIn[3], line 1\u001b[0m\n\u001b[1;32m----> 1\u001b[0m \u001b[38;5;28;01mfrom\u001b[39;00m \u001b[38;5;21;01mgoogle\u001b[39;00m\u001b[38;5;21;01m.\u001b[39;00m\u001b[38;5;21;01mcolab\u001b[39;00m \u001b[38;5;28;01mimport\u001b[39;00m output\n",
            "\u001b[1;31mModuleNotFoundError\u001b[0m: No module named 'google.colab'"
          ]
        }
      ],
      "source": [
        "from google.colab import output"
      ]
    },
    {
      "cell_type": "code",
      "execution_count": 4,
      "metadata": {
        "id": "yr-elZGWbB20"
      },
      "outputs": [
        {
          "name": "stdout",
          "output_type": "stream",
          "text": [
            "Defaulting to user installation because normal site-packages is not writeable\n",
            "Collecting ipywidgets\n",
            "  Downloading ipywidgets-8.1.5-py3-none-any.whl.metadata (2.3 kB)\n",
            "Collecting ipycanvas\n",
            "  Downloading ipycanvas-0.13.3-py2.py3-none-any.whl.metadata (6.3 kB)\n",
            "Requirement already satisfied: matplotlib in c:\\users\\wjbea\\appdata\\local\\packages\\pythonsoftwarefoundation.python.3.12_qbz5n2kfra8p0\\localcache\\local-packages\\python312\\site-packages (3.9.2)\n",
            "Collecting plotly\n",
            "  Downloading plotly-5.24.1-py3-none-any.whl.metadata (7.3 kB)\n",
            "Requirement already satisfied: comm>=0.1.3 in c:\\users\\wjbea\\appdata\\local\\packages\\pythonsoftwarefoundation.python.3.12_qbz5n2kfra8p0\\localcache\\local-packages\\python312\\site-packages (from ipywidgets) (0.2.2)\n",
            "Requirement already satisfied: ipython>=6.1.0 in c:\\users\\wjbea\\appdata\\local\\packages\\pythonsoftwarefoundation.python.3.12_qbz5n2kfra8p0\\localcache\\local-packages\\python312\\site-packages (from ipywidgets) (8.27.0)\n",
            "Requirement already satisfied: traitlets>=4.3.1 in c:\\users\\wjbea\\appdata\\local\\packages\\pythonsoftwarefoundation.python.3.12_qbz5n2kfra8p0\\localcache\\local-packages\\python312\\site-packages (from ipywidgets) (5.14.3)\n",
            "Collecting widgetsnbextension~=4.0.12 (from ipywidgets)\n",
            "  Downloading widgetsnbextension-4.0.13-py3-none-any.whl.metadata (1.6 kB)\n",
            "Collecting jupyterlab-widgets~=3.0.12 (from ipywidgets)\n",
            "  Downloading jupyterlab_widgets-3.0.13-py3-none-any.whl.metadata (4.1 kB)\n",
            "Requirement already satisfied: numpy in c:\\users\\wjbea\\appdata\\local\\packages\\pythonsoftwarefoundation.python.3.12_qbz5n2kfra8p0\\localcache\\local-packages\\python312\\site-packages (from ipycanvas) (1.26.4)\n",
            "Requirement already satisfied: pillow>=6.0 in c:\\users\\wjbea\\appdata\\local\\packages\\pythonsoftwarefoundation.python.3.12_qbz5n2kfra8p0\\localcache\\local-packages\\python312\\site-packages (from ipycanvas) (10.4.0)\n",
            "Requirement already satisfied: contourpy>=1.0.1 in c:\\users\\wjbea\\appdata\\local\\packages\\pythonsoftwarefoundation.python.3.12_qbz5n2kfra8p0\\localcache\\local-packages\\python312\\site-packages (from matplotlib) (1.3.0)\n",
            "Requirement already satisfied: cycler>=0.10 in c:\\users\\wjbea\\appdata\\local\\packages\\pythonsoftwarefoundation.python.3.12_qbz5n2kfra8p0\\localcache\\local-packages\\python312\\site-packages (from matplotlib) (0.12.1)\n",
            "Requirement already satisfied: fonttools>=4.22.0 in c:\\users\\wjbea\\appdata\\local\\packages\\pythonsoftwarefoundation.python.3.12_qbz5n2kfra8p0\\localcache\\local-packages\\python312\\site-packages (from matplotlib) (4.53.1)\n",
            "Requirement already satisfied: kiwisolver>=1.3.1 in c:\\users\\wjbea\\appdata\\local\\packages\\pythonsoftwarefoundation.python.3.12_qbz5n2kfra8p0\\localcache\\local-packages\\python312\\site-packages (from matplotlib) (1.4.7)\n",
            "Requirement already satisfied: packaging>=20.0 in c:\\users\\wjbea\\appdata\\local\\packages\\pythonsoftwarefoundation.python.3.12_qbz5n2kfra8p0\\localcache\\local-packages\\python312\\site-packages (from matplotlib) (24.1)\n",
            "Requirement already satisfied: pyparsing>=2.3.1 in c:\\users\\wjbea\\appdata\\local\\packages\\pythonsoftwarefoundation.python.3.12_qbz5n2kfra8p0\\localcache\\local-packages\\python312\\site-packages (from matplotlib) (3.1.4)\n",
            "Requirement already satisfied: python-dateutil>=2.7 in c:\\users\\wjbea\\appdata\\local\\packages\\pythonsoftwarefoundation.python.3.12_qbz5n2kfra8p0\\localcache\\local-packages\\python312\\site-packages (from matplotlib) (2.9.0.post0)\n",
            "Requirement already satisfied: tenacity>=6.2.0 in c:\\users\\wjbea\\appdata\\local\\packages\\pythonsoftwarefoundation.python.3.12_qbz5n2kfra8p0\\localcache\\local-packages\\python312\\site-packages (from plotly) (8.5.0)\n",
            "Requirement already satisfied: decorator in c:\\users\\wjbea\\appdata\\local\\packages\\pythonsoftwarefoundation.python.3.12_qbz5n2kfra8p0\\localcache\\local-packages\\python312\\site-packages (from ipython>=6.1.0->ipywidgets) (5.1.1)\n",
            "Requirement already satisfied: jedi>=0.16 in c:\\users\\wjbea\\appdata\\local\\packages\\pythonsoftwarefoundation.python.3.12_qbz5n2kfra8p0\\localcache\\local-packages\\python312\\site-packages (from ipython>=6.1.0->ipywidgets) (0.19.1)\n",
            "Requirement already satisfied: matplotlib-inline in c:\\users\\wjbea\\appdata\\local\\packages\\pythonsoftwarefoundation.python.3.12_qbz5n2kfra8p0\\localcache\\local-packages\\python312\\site-packages (from ipython>=6.1.0->ipywidgets) (0.1.7)\n",
            "Requirement already satisfied: prompt-toolkit<3.1.0,>=3.0.41 in c:\\users\\wjbea\\appdata\\local\\packages\\pythonsoftwarefoundation.python.3.12_qbz5n2kfra8p0\\localcache\\local-packages\\python312\\site-packages (from ipython>=6.1.0->ipywidgets) (3.0.47)\n",
            "Requirement already satisfied: pygments>=2.4.0 in c:\\users\\wjbea\\appdata\\local\\packages\\pythonsoftwarefoundation.python.3.12_qbz5n2kfra8p0\\localcache\\local-packages\\python312\\site-packages (from ipython>=6.1.0->ipywidgets) (2.18.0)\n",
            "Requirement already satisfied: stack-data in c:\\users\\wjbea\\appdata\\local\\packages\\pythonsoftwarefoundation.python.3.12_qbz5n2kfra8p0\\localcache\\local-packages\\python312\\site-packages (from ipython>=6.1.0->ipywidgets) (0.6.3)\n",
            "Requirement already satisfied: colorama in c:\\users\\wjbea\\appdata\\local\\packages\\pythonsoftwarefoundation.python.3.12_qbz5n2kfra8p0\\localcache\\local-packages\\python312\\site-packages (from ipython>=6.1.0->ipywidgets) (0.4.6)\n",
            "Requirement already satisfied: six>=1.5 in c:\\users\\wjbea\\appdata\\local\\packages\\pythonsoftwarefoundation.python.3.12_qbz5n2kfra8p0\\localcache\\local-packages\\python312\\site-packages (from python-dateutil>=2.7->matplotlib) (1.16.0)\n",
            "Requirement already satisfied: parso<0.9.0,>=0.8.3 in c:\\users\\wjbea\\appdata\\local\\packages\\pythonsoftwarefoundation.python.3.12_qbz5n2kfra8p0\\localcache\\local-packages\\python312\\site-packages (from jedi>=0.16->ipython>=6.1.0->ipywidgets) (0.8.4)\n",
            "Requirement already satisfied: wcwidth in c:\\users\\wjbea\\appdata\\local\\packages\\pythonsoftwarefoundation.python.3.12_qbz5n2kfra8p0\\localcache\\local-packages\\python312\\site-packages (from prompt-toolkit<3.1.0,>=3.0.41->ipython>=6.1.0->ipywidgets) (0.2.13)\n",
            "Requirement already satisfied: executing>=1.2.0 in c:\\users\\wjbea\\appdata\\local\\packages\\pythonsoftwarefoundation.python.3.12_qbz5n2kfra8p0\\localcache\\local-packages\\python312\\site-packages (from stack-data->ipython>=6.1.0->ipywidgets) (2.1.0)\n",
            "Requirement already satisfied: asttokens>=2.1.0 in c:\\users\\wjbea\\appdata\\local\\packages\\pythonsoftwarefoundation.python.3.12_qbz5n2kfra8p0\\localcache\\local-packages\\python312\\site-packages (from stack-data->ipython>=6.1.0->ipywidgets) (2.4.1)\n",
            "Requirement already satisfied: pure-eval in c:\\users\\wjbea\\appdata\\local\\packages\\pythonsoftwarefoundation.python.3.12_qbz5n2kfra8p0\\localcache\\local-packages\\python312\\site-packages (from stack-data->ipython>=6.1.0->ipywidgets) (0.2.3)\n",
            "Downloading ipywidgets-8.1.5-py3-none-any.whl (139 kB)\n",
            "Downloading ipycanvas-0.13.3-py2.py3-none-any.whl (125 kB)\n",
            "Downloading plotly-5.24.1-py3-none-any.whl (19.1 MB)\n",
            "   ---------------------------------------- 0.0/19.1 MB ? eta -:--:--\n",
            "   ------------------- -------------------- 9.4/19.1 MB 45.2 MB/s eta 0:00:01\n",
            "   ---------------------------------------  18.6/19.1 MB 45.2 MB/s eta 0:00:01\n",
            "   ---------------------------------------- 19.1/19.1 MB 37.6 MB/s eta 0:00:00\n",
            "Downloading jupyterlab_widgets-3.0.13-py3-none-any.whl (214 kB)\n",
            "Downloading widgetsnbextension-4.0.13-py3-none-any.whl (2.3 MB)\n",
            "   ---------------------------------------- 0.0/2.3 MB ? eta -:--:--\n",
            "   ---------------------------------------- 2.3/2.3 MB 26.2 MB/s eta 0:00:00\n",
            "Installing collected packages: widgetsnbextension, plotly, jupyterlab-widgets, ipywidgets, ipycanvas\n",
            "Successfully installed ipycanvas-0.13.3 ipywidgets-8.1.5 jupyterlab-widgets-3.0.13 plotly-5.24.1 widgetsnbextension-4.0.13\n"
          ]
        },
        {
          "ename": "NameError",
          "evalue": "name 'output' is not defined",
          "output_type": "error",
          "traceback": [
            "\u001b[1;31m---------------------------------------------------------------------------\u001b[0m",
            "\u001b[1;31mNameError\u001b[0m                                 Traceback (most recent call last)",
            "Cell \u001b[1;32mIn[4], line 2\u001b[0m\n\u001b[0;32m      1\u001b[0m get_ipython()\u001b[38;5;241m.\u001b[39msystem(\u001b[38;5;124m'\u001b[39m\u001b[38;5;124mpip install ipywidgets ipycanvas matplotlib plotly\u001b[39m\u001b[38;5;124m'\u001b[39m)\n\u001b[1;32m----> 2\u001b[0m \u001b[43moutput\u001b[49m\u001b[38;5;241m.\u001b[39mclear()\n",
            "\u001b[1;31mNameError\u001b[0m: name 'output' is not defined"
          ]
        }
      ],
      "source": [
        "!pip install ipywidgets ipycanvas matplotlib plotly\n",
        "output.clear()"
      ]
    },
    {
      "cell_type": "code",
      "execution_count": 5,
      "metadata": {
        "cellView": "form",
        "colab": {
          "base_uri": "https://localhost:8080/",
          "height": 498,
          "referenced_widgets": [
            "91254ddeee514886b0405ddcb85cfd35",
            "ea30b36312084509a7b09a8db853f74c",
            "3b2eaa2521ec4384ba87e0d825bed908",
            "1c4148972ecf456ea1d6236f5460828b",
            "8272fdae4d014c889bc9523d8e383991",
            "48d8f982e69c4d51a9d0eb00fd458407",
            "4b729cda061948dca7b45df152153c5b",
            "ea6f13c0433543a8be244828bd0f25f0",
            "88f410ef03b44bc58cc20c5c09a0b4a9"
          ]
        },
        "id": "YWfYtQKGYfg1",
        "outputId": "6a0b1c27-e503-4def-9101-6bce94774ae3"
      },
      "outputs": [
        {
          "data": {
            "application/vnd.jupyter.widget-view+json": {
              "model_id": "949e72b9c817444786f7715dfadfdd2e",
              "version_major": 2,
              "version_minor": 0
            },
            "text/plain": [
              "IntSlider(value=3, description='Input Neurons', max=10, min=1)"
            ]
          },
          "metadata": {},
          "output_type": "display_data"
        },
        {
          "data": {
            "application/vnd.jupyter.widget-view+json": {
              "model_id": "dd8fa9c616bf47b4aa0180c2f1b8c4b8",
              "version_major": 2,
              "version_minor": 0
            },
            "text/plain": [
              "IntSlider(value=5, description='Hidden Neurons', max=10, min=1)"
            ]
          },
          "metadata": {},
          "output_type": "display_data"
        },
        {
          "data": {
            "application/vnd.jupyter.widget-view+json": {
              "model_id": "35921329fb7c43ac80846bd68a3336a6",
              "version_major": 2,
              "version_minor": 0
            },
            "text/plain": [
              "IntSlider(value=1, description='Output Neurons', max=10, min=1)"
            ]
          },
          "metadata": {},
          "output_type": "display_data"
        },
        {
          "data": {
            "image/png": "[encoded data removed]",
            "text/plain": [
              "<Figure size 640x480 with 1 Axes>"
            ]
          },
          "metadata": {},
          "output_type": "display_data"
        }
      ],
      "source": [
        "#@title part 1\n",
        "import ipywidgets as widgets\n",
        "import matplotlib.pyplot as plt\n",
        "import numpy as np\n",
        "from IPython.display import display\n",
        "\n",
        "# Basic neuron visualization\n",
        "def plot_network(num_inputs, num_hidden, num_outputs):\n",
        "    fig, ax = plt.subplots()\n",
        "\n",
        "    # Input layer\n",
        "    for i in range(num_inputs):\n",
        "        ax.plot([0], [i], 'o', color='blue')\n",
        "\n",
        "    # Hidden layer\n",
        "    for j in range(num_hidden):\n",
        "        ax.plot([1], [j], 'o', color='green')\n",
        "\n",
        "    # Output layer\n",
        "    for k in range(num_outputs):\n",
        "        ax.plot([2], [k], 'o', color='red')\n",
        "\n",
        "    # Connecting layers\n",
        "    for i in range(num_inputs):\n",
        "        for j in range(num_hidden):\n",
        "            ax.plot([0, 1], [i, j], color='gray')\n",
        "    for j in range(num_hidden):\n",
        "        for k in range(num_outputs):\n",
        "            ax.plot([1, 2], [j, k], color='gray')\n",
        "\n",
        "    ax.set_xticks([])\n",
        "    ax.set_yticks([])\n",
        "    plt.show()\n",
        "\n",
        "# Sliders to adjust the number of neurons\n",
        "input_slider = widgets.IntSlider(value=3, min=1, max=10, description='Input Neurons')\n",
        "hidden_slider = widgets.IntSlider(value=5, min=1, max=10, description='Hidden Neurons')\n",
        "output_slider = widgets.IntSlider(value=1, min=1, max=10, description='Output Neurons')\n",
        "\n",
        "# Function to update plot on slider change\n",
        "def update_plot(change):\n",
        "    plot_network(input_slider.value, hidden_slider.value, output_slider.value)\n",
        "\n",
        "# Display UI\n",
        "input_slider.observe(update_plot, names='value')\n",
        "hidden_slider.observe(update_plot, names='value')\n",
        "output_slider.observe(update_plot, names='value')\n",
        "\n",
        "display(input_slider, hidden_slider, output_slider)\n",
        "update_plot(None)  # Initial plot\n"
      ]
    },
    {
      "cell_type": "code",
      "execution_count": null,
      "metadata": {
        "cellView": "form",
        "colab": {
          "base_uri": "https://localhost:8080/",
          "height": 49,
          "referenced_widgets": [
            "a87b6ec9c29b4de7bea8005914e62360",
            "fa423718a8944563bafc0a0ca19dd716",
            "41573fa8b9884aee9ac01a8371ff91c1",
            "b349c5dd149e4df28af62d28dc988a90"
          ]
        },
        "id": "7ySwI1E6b8GV",
        "outputId": "3bff16d0-5233-4f97-e50c-46ef36085c51"
      },
      "outputs": [
        {
          "data": {
            "application/vnd.jupyter.widget-view+json": {
              "model_id": "a87b6ec9c29b4de7bea8005914e62360",
              "version_major": 2,
              "version_minor": 0
            },
            "text/plain": [
              "Canvas(height=300, width=400)"
            ]
          },
          "metadata": {},
          "output_type": "display_data"
        },
        {
          "data": {
            "application/vnd.jupyter.widget-view+json": {
              "model_id": "fa423718a8944563bafc0a0ca19dd716",
              "version_major": 2,
              "version_minor": 0
            },
            "text/plain": [
              "Button(description='Run Forward Pass', style=ButtonStyle())"
            ]
          },
          "metadata": {},
          "output_type": "display_data"
        }
      ],
      "source": [
        "#@title part 2\n",
        "from ipycanvas import Canvas\n",
        "import time\n",
        "import numpy as np\n",
        "\n",
        "# Initialize Canvas\n",
        "canvas = Canvas(width=400, height=300)\n",
        "\n",
        "# Function to simulate neural network forward pass\n",
        "def forward_pass(canvas, num_inputs, num_hidden, num_outputs):\n",
        "    canvas.clear()\n",
        "\n",
        "    # Draw input neurons\n",
        "    for i in range(num_inputs):\n",
        "        canvas.fill_circle(50, 50 + i*50, 10)\n",
        "\n",
        "    # Draw hidden neurons\n",
        "    for j in range(num_hidden):\n",
        "        canvas.fill_circle(200, 50 + j*50, 10)\n",
        "\n",
        "    # Draw output neurons\n",
        "    for k in range(num_outputs):\n",
        "        canvas.fill_circle(350, 50 + k*50, 10)\n",
        "\n",
        "    # Connect layers with lines (weights)\n",
        "    for i in range(num_inputs):\n",
        "        for j in range(num_hidden):\n",
        "            canvas.stroke_line(50, 50 + i*50, 200, 50 + j*50)\n",
        "    for j in range(num_hidden):\n",
        "        for k in range(num_outputs):\n",
        "            canvas.stroke_line(200, 50 + j*50, 350, 50 + k*50)\n",
        "\n",
        "# Function to run the forward pass\n",
        "def simulate_network(*args):\n",
        "    forward_pass(canvas, input_slider.value, hidden_slider.value, output_slider.value)\n",
        "\n",
        "# Add Button for Forward Pass\n",
        "button = widgets.Button(description=\"Run Forward Pass\")\n",
        "button.on_click(simulate_network)\n",
        "\n",
        "# Display widgets and canvas\n",
        "display(canvas)\n",
        "display(button)\n"
      ]
    },
    {
      "cell_type": "markdown",
      "metadata": {
        "id": "uXaPym7RcZBi"
      },
      "source": [
        "GPT4o1"
      ]
    },
    {
      "cell_type": "code",
      "execution_count": null,
      "metadata": {
        "colab": {
          "base_uri": "https://localhost:8080/"
        },
        "collapsed": true,
        "id": "nwYGn33ickXj",
        "outputId": "76ff0710-5699-42bc-a2e7-628c2b863907"
      },
      "outputs": [],
      "source": [
        "pip install ipywidgets numpy matplotlib\n"
      ]
    },
    {
      "cell_type": "code",
      "execution_count": 1,
      "metadata": {
        "colab": {
          "base_uri": "https://localhost:8080/",
          "height": 106
        },
        "collapsed": true,
        "id": "auk9t2PtcnDA",
        "outputId": "9a0021f2-0e49-4b2a-b104-263c02d2f22e"
      },
      "outputs": [
        {
          "ename": "SyntaxError",
          "evalue": "invalid syntax (629580002.py, line 1)",
          "output_type": "error",
          "traceback": [
            "\u001b[1;36m  Cell \u001b[1;32mIn[1], line 1\u001b[1;36m\u001b[0m\n\u001b[1;33m    jupyter nbextension enable --py widgetsnbextension\u001b[0m\n\u001b[1;37m            ^\u001b[0m\n\u001b[1;31mSyntaxError\u001b[0m\u001b[1;31m:\u001b[0m invalid syntax\n"
          ]
        }
      ],
      "source": [
        "jupyter nbextension enable --py widgetsnbextension\n"
      ]
    },
    {
      "cell_type": "code",
      "execution_count": 2,
      "metadata": {
        "id": "btPrklr5cpXY"
      },
      "outputs": [],
      "source": [
        "import numpy as np\n",
        "import matplotlib.pyplot as plt\n",
        "from ipywidgets import interact, FloatSlider, IntSlider, Dropdown\n",
        "import ipywidgets as widgets\n"
      ]
    },
    {
      "cell_type": "code",
      "execution_count": 3,
      "metadata": {
        "id": "uxs-Rww-cr1j"
      },
      "outputs": [],
      "source": [
        "def sigmoid(x):\n",
        "    return 1 / (1 + np.exp(-x))\n",
        "\n",
        "def tanh(x):\n",
        "    return np.tanh(x)\n",
        "\n",
        "def relu(x):\n",
        "    return np.maximum(0, x)\n"
      ]
    },
    {
      "cell_type": "code",
      "execution_count": 4,
      "metadata": {
        "id": "ZhxPVC_8ctEt"
      },
      "outputs": [],
      "source": [
        "def neural_network(X, weights, biases, activation_func):\n",
        "    z = np.dot(X, weights) + biases\n",
        "    return activation_func(z)\n"
      ]
    },
    {
      "cell_type": "code",
      "execution_count": 5,
      "metadata": {
        "id": "m9RMdM_2cuUG"
      },
      "outputs": [],
      "source": [
        "# Define the input data\n",
        "X = np.linspace(-10, 10, 400).reshape(-1, 1)\n"
      ]
    },
    {
      "cell_type": "code",
      "execution_count": 6,
      "metadata": {
        "id": "lCkFjMGLcvgo"
      },
      "outputs": [],
      "source": [
        "def interactive_plot(weight=1.0, bias=0.0, activation='sigmoid'):\n",
        "    # Select activation function\n",
        "    if activation == 'sigmoid':\n",
        "        act_func = sigmoid\n",
        "    elif activation == 'tanh':\n",
        "        act_func = tanh\n",
        "    elif activation == 'relu':\n",
        "        act_func = relu\n",
        "\n",
        "    # Compute neural network output\n",
        "    weights = np.array([[weight]])\n",
        "    biases = np.array([bias])\n",
        "    y = neural_network(X, weights, biases, act_func)\n",
        "\n",
        "    # Plot the results\n",
        "    plt.figure(figsize=(8, 5))\n",
        "    plt.plot(X, y, label=f'Activation: {activation}')\n",
        "    plt.title('Neural Network Output')\n",
        "    plt.xlabel('Input X')\n",
        "    plt.ylabel('Output Y')\n",
        "    plt.grid(True)\n",
        "    plt.legend()\n",
        "    plt.show()\n"
      ]
    },
    {
      "cell_type": "code",
      "execution_count": 7,
      "metadata": {
        "id": "XGk6PP0Jc-MS"
      },
      "outputs": [],
      "source": [
        "weight_slider = FloatSlider(value=1.0, min=-5.0, max=5.0, step=0.1, description='Weight:')\n",
        "bias_slider = FloatSlider(value=0.0, min=-5.0, max=5.0, step=0.1, description='Bias:')\n",
        "activation_dropdown = Dropdown(options=['sigmoid', 'tanh', 'relu'], value='sigmoid', description='Activation:')\n"
      ]
    },
    {
      "cell_type": "code",
      "execution_count": 8,
      "metadata": {
        "colab": {
          "base_uri": "https://localhost:8080/",
          "height": 670,
          "referenced_widgets": [
            "10673001ab68431ea77d95b121cbf3b3",
            "c04af87b25864ed9a6ec280c4167f6de",
            "aa1508b254f344609802a15f4ff7e3cb",
            "7c5201ac19684333ac3d905a05ec33c1",
            "aca8d495172547efb5d6dfcf58c553eb",
            "d2c5e7a79c7843659e5ed26d6f580635",
            "44e4b87a0b284baa9bdb424f67110fdf",
            "2e2537e67a8c4bc4b8422760c4eebe67",
            "97cf3174ca814106a057fda39b0c573c",
            "94778f12a388499dac81a47eae79e5a0",
            "ab6482455b2c4276bea7d67f298147d6",
            "e232b70b383246cbba76bf7c29bb37fe",
            "bd5209cc4e284acf8a289ec079381820"
          ]
        },
        "id": "ErxhFBFzc_th",
        "outputId": "5dd40edf-0355-488b-cf86-7947efa121fc"
      },
      "outputs": [
        {
          "data": {
            "application/vnd.jupyter.widget-view+json": {
              "model_id": "d95c9d4cd14d4743a384bab364606142",
              "version_major": 2,
              "version_minor": 0
            },
            "text/plain": [
              "interactive(children=(FloatSlider(value=1.0, description='Weight:', max=5.0, min=-5.0), FloatSlider(value=0.0,…"
            ]
          },
          "metadata": {},
          "output_type": "display_data"
        },
        {
          "data": {
            "text/plain": [
              "<function __main__.interactive_plot(weight=1.0, bias=0.0, activation='sigmoid')>"
            ]
          },
          "execution_count": 8,
          "metadata": {},
          "output_type": "execute_result"
        }
      ],
      "source": [
        "interact(\n",
        "    interactive_plot,\n",
        "    weight=weight_slider,\n",
        "    bias=bias_slider,\n",
        "    activation=activation_dropdown\n",
        ")\n"
      ]
    },
    {
      "cell_type": "code",
      "execution_count": 9,
      "metadata": {
        "id": "abN_AAW8dICQ"
      },
      "outputs": [],
      "source": [
        "def two_layer_nn(X, weights1, biases1, weights2, biases2, activation_func):\n",
        "    # First layer\n",
        "    z1 = np.dot(X, weights1) + biases1\n",
        "    a1 = activation_func(z1)\n",
        "\n",
        "    # Second layer\n",
        "    z2 = np.dot(a1, weights2) + biases2\n",
        "    output = activation_func(z2)\n",
        "    return output\n"
      ]
    },
    {
      "cell_type": "code",
      "execution_count": 10,
      "metadata": {
        "id": "-S_08sDwdJRz"
      },
      "outputs": [],
      "source": [
        "def interactive_two_layer(weight1=1.0, bias1=0.0, weight2=1.0, bias2=0.0, activation='sigmoid'):\n",
        "    # Select activation function\n",
        "    if activation == 'sigmoid':\n",
        "        act_func = sigmoid\n",
        "    elif activation == 'tanh':\n",
        "        act_func = tanh\n",
        "    elif activation == 'relu':\n",
        "        act_func = relu\n",
        "\n",
        "    # Weights and biases for two layers\n",
        "    weights1 = np.array([[weight1]])\n",
        "    biases1 = np.array([bias1])\n",
        "    weights2 = np.array([[weight2]])\n",
        "    biases2 = np.array([bias2])\n",
        "\n",
        "    # Compute neural network output\n",
        "    y = two_layer_nn(X, weights1, biases1, weights2, biases2, act_func)\n",
        "\n",
        "    # Plot the results\n",
        "    plt.figure(figsize=(8, 5))\n",
        "    plt.plot(X, y, label=f'Activation: {activation}')\n",
        "    plt.title('Two-Layer Neural Network Output')\n",
        "    plt.xlabel('Input X')\n",
        "    plt.ylabel('Output Y')\n",
        "    plt.grid(True)\n",
        "    plt.legend()\n",
        "    plt.show()\n"
      ]
    },
    {
      "cell_type": "code",
      "execution_count": 11,
      "metadata": {
        "id": "vY3Up-sEdKhH"
      },
      "outputs": [],
      "source": [
        "weight1_slider = FloatSlider(value=1.0, min=-5.0, max=5.0, step=0.1, description='Weight1:')\n",
        "bias1_slider = FloatSlider(value=0.0, min=-5.0, max=5.0, step=0.1, description='Bias1:')\n",
        "weight2_slider = FloatSlider(value=1.0, min=-5.0, max=5.0, step=0.1, description='Weight2:')\n",
        "bias2_slider = FloatSlider(value=0.0, min=-5.0, max=5.0, step=0.1, description='Bias2:')\n",
        "activation_dropdown = Dropdown(options=['sigmoid', 'tanh', 'relu'], value='sigmoid', description='Activation:')\n"
      ]
    },
    {
      "cell_type": "code",
      "execution_count": 12,
      "metadata": {
        "colab": {
          "base_uri": "https://localhost:8080/",
          "height": 734,
          "referenced_widgets": [
            "155e7f5c925b4643bf86805c47bcbe3c",
            "3422c65648dc4c43be00f9a2ca44850c",
            "145e1f68d3ef4e43bb78cec7eab1183f",
            "d8702d2e7aed42649ee0b16a6bdba812",
            "6dd9693114ad4830a481abd5dc8ecbf2",
            "b3883e017ceb4a2bbe6a6b3acc89fd62",
            "3c8b931c1b014527b77577d190810a8e",
            "445674cc661c42029544975dae6484b9",
            "df84a76d7c224ecc9059a680f2e2f07e",
            "6c3ae5c2983d4df6ad706b6897caabcf",
            "f847676c99b5459389abc9eb1e30fb12",
            "ea68f981cd82401ea93a1d62213d29ad",
            "20753ffe051d48bc94257c8f8056b2cd",
            "2d234b70cc8544dea9b95e244dbd4994",
            "df513f275eb84c17aacdaddcfd98c83d",
            "75262d8721584bb1b747f4681a42aea4",
            "0a805a0942d042bcb5c5db4a0d5427ef",
            "9e6957e77e394ab7a49666cebad90ea7",
            "d31911ff3f8d44939af1be5b97720c94"
          ]
        },
        "id": "GOh_aH_DdMRA",
        "outputId": "2e627f32-fcc5-4c60-d308-9f686e66ae07"
      },
      "outputs": [
        {
          "data": {
            "application/vnd.jupyter.widget-view+json": {
              "model_id": "ea7bf955100344a99b96760f714d94bb",
              "version_major": 2,
              "version_minor": 0
            },
            "text/plain": [
              "interactive(children=(FloatSlider(value=1.0, description='Weight1:', max=5.0, min=-5.0), FloatSlider(value=0.0…"
            ]
          },
          "metadata": {},
          "output_type": "display_data"
        },
        {
          "data": {
            "text/plain": [
              "<function __main__.interactive_two_layer(weight1=1.0, bias1=0.0, weight2=1.0, bias2=0.0, activation='sigmoid')>"
            ]
          },
          "execution_count": 12,
          "metadata": {},
          "output_type": "execute_result"
        }
      ],
      "source": [
        "interact(\n",
        "    interactive_two_layer,\n",
        "    weight1=weight1_slider,\n",
        "    bias1=bias1_slider,\n",
        "    weight2=weight2_slider,\n",
        "    bias2=bias2_slider,\n",
        "    activation=activation_dropdown\n",
        ")\n"
      ]
    },
    {
      "cell_type": "code",
      "execution_count": 16,
      "metadata": {},
      "outputs": [
        {
          "name": "stdout",
          "output_type": "stream",
          "text": [
            "Defaulting to user installation because normal site-packages is not writeable\n",
            "Collecting scikit-learn\n",
            "  Downloading scikit_learn-1.5.2-cp312-cp312-win_amd64.whl.metadata (13 kB)\n",
            "Requirement already satisfied: numpy>=1.19.5 in c:\\users\\wjbea\\appdata\\local\\packages\\pythonsoftwarefoundation.python.3.12_qbz5n2kfra8p0\\localcache\\local-packages\\python312\\site-packages (from scikit-learn) (1.26.4)\n",
            "Collecting scipy>=1.6.0 (from scikit-learn)\n",
            "  Downloading scipy-1.14.1-cp312-cp312-win_amd64.whl.metadata (60 kB)\n",
            "Collecting joblib>=1.2.0 (from scikit-learn)\n",
            "  Using cached joblib-1.4.2-py3-none-any.whl.metadata (5.4 kB)\n",
            "Collecting threadpoolctl>=3.1.0 (from scikit-learn)\n",
            "  Using cached threadpoolctl-3.5.0-py3-none-any.whl.metadata (13 kB)\n",
            "Downloading scikit_learn-1.5.2-cp312-cp312-win_amd64.whl (11.0 MB)\n",
            "   ---------------------------------------- 0.0/11.0 MB ? eta -:--:--\n",
            "   ---------------------------------------  10.7/11.0 MB 51.7 MB/s eta 0:00:01\n",
            "   ---------------------------------------- 11.0/11.0 MB 36.2 MB/s eta 0:00:00\n",
            "Using cached joblib-1.4.2-py3-none-any.whl (301 kB)\n",
            "Downloading scipy-1.14.1-cp312-cp312-win_amd64.whl (44.5 MB)\n",
            "   ---------------------------------------- 0.0/44.5 MB ? eta -:--:--\n",
            "   ----------- ---------------------------- 12.3/44.5 MB 59.4 MB/s eta 0:00:01\n",
            "   ----------------------- ---------------- 26.5/44.5 MB 62.1 MB/s eta 0:00:01\n",
            "   ----------------------------------- ---- 39.8/44.5 MB 61.8 MB/s eta 0:00:01\n",
            "   ---------------------------------------- 44.5/44.5 MB 52.5 MB/s eta 0:00:00\n",
            "Using cached threadpoolctl-3.5.0-py3-none-any.whl (18 kB)\n",
            "Installing collected packages: threadpoolctl, scipy, joblib, scikit-learn\n",
            "Successfully installed joblib-1.4.2 scikit-learn-1.5.2 scipy-1.14.1 threadpoolctl-3.5.0\n",
            "Note: you may need to restart the kernel to use updated packages.\n"
          ]
        }
      ],
      "source": [
        "pip install scikit-learn"
      ]
    },
    {
      "cell_type": "code",
      "execution_count": 17,
      "metadata": {
        "id": "k4ECZ99OdTgl"
      },
      "outputs": [],
      "source": [
        "from sklearn.datasets import make_blobs\n",
        "\n",
        "# Generate synthetic data\n",
        "X_blob, y_blob = make_blobs(n_samples=200, centers=2, random_state=42)\n"
      ]
    },
    {
      "cell_type": "code",
      "execution_count": 18,
      "metadata": {
        "id": "C63Ut-EvdUM4"
      },
      "outputs": [],
      "source": [
        "def plot_decision_boundary(weight1, weight2, bias, activation='sigmoid'):\n",
        "    # Select activation function\n",
        "    if activation == 'sigmoid':\n",
        "        act_func = sigmoid\n",
        "    elif activation == 'tanh':\n",
        "        act_func = tanh\n",
        "    elif activation == 'relu':\n",
        "        act_func = relu\n",
        "\n",
        "    # Create meshgrid\n",
        "    x_min, x_max = X_blob[:, 0].min() - 1, X_blob[:, 0].max() + 1\n",
        "    y_min, y_max = X_blob[:, 1].min() - 1, X_blob[:, 1].max() + 1\n",
        "    xx, yy = np.meshgrid(np.linspace(x_min, x_max, 100),\n",
        "                         np.linspace(y_min, y_max, 100))\n",
        "\n",
        "    # Flatten and stack grid\n",
        "    grid = np.c_[xx.ravel(), yy.ravel()]\n",
        "\n",
        "    # Compute neural network output\n",
        "    weights = np.array([weight1, weight2])\n",
        "    biases = bias\n",
        "    Z = neural_network(grid, weights, biases, act_func)\n",
        "    Z = Z.reshape(xx.shape)\n",
        "\n",
        "    # Plot contour and data points\n",
        "    plt.figure(figsize=(8, 5))\n",
        "    plt.contourf(xx, yy, Z, levels=[0, 0.5, 1], colors=['red', 'blue'], alpha=0.3)\n",
        "    plt.scatter(X_blob[:, 0], X_blob[:, 1], c=y_blob, edgecolor='k')\n",
        "    plt.title('Decision Boundary')\n",
        "    plt.xlabel('Feature 1')\n",
        "    plt.ylabel('Feature 2')\n",
        "    plt.show()\n"
      ]
    },
    {
      "cell_type": "code",
      "execution_count": 19,
      "metadata": {
        "id": "TKZeJtwsdVUW"
      },
      "outputs": [],
      "source": [
        "weight1_slider = FloatSlider(value=1.0, min=-10.0, max=10.0, step=0.1, description='Weight1:')\n",
        "weight2_slider = FloatSlider(value=1.0, min=-10.0, max=10.0, step=0.1, description='Weight2:')\n",
        "bias_slider = FloatSlider(value=0.0, min=-10.0, max=10.0, step=0.1, description='Bias:')\n",
        "activation_dropdown = Dropdown(options=['sigmoid', 'tanh', 'relu'], value='sigmoid', description='Activation:')\n"
      ]
    },
    {
      "cell_type": "code",
      "execution_count": 20,
      "metadata": {
        "colab": {
          "base_uri": "https://localhost:8080/",
          "height": 702,
          "referenced_widgets": [
            "33a2cd8025904efa964450f90d554563",
            "39cad0e6c11e427ba41e2f8acdabb643",
            "ffe22caa9ee441439c7b6ae51394e5b4",
            "814c386cceb042c88a6267238b052186",
            "b9ac9190687845ea96af6c64242414a2",
            "13d77cb00fb04a8d92deac1068d900e2",
            "d730039288d04de581ba35dd3c31ab40",
            "92aa3f2e082e4c40b03cb4a572ef1947",
            "14861841fd3b4956ac36f9a10d1333d2",
            "f45adf7a8b974e8fb259f5b29db4ec61",
            "b622c0ae140944c1befeeb0085e125bd",
            "3402c8e7ac6e41bc826e162087b63771",
            "de203ee090ea483f9b04b7df0ca17517",
            "88be9f0a11e14435b6570878be083500",
            "840262834e3e4a6a9fc458f2c4f8b259",
            "e4b22b971ed441c48070bfc527a1e0d8"
          ]
        },
        "id": "ursSqNoDdX5X",
        "outputId": "08aea623-084a-4abf-f35f-098a923980e5"
      },
      "outputs": [
        {
          "data": {
            "application/vnd.jupyter.widget-view+json": {
              "model_id": "455ef407cebe44589227328535c7b20c",
              "version_major": 2,
              "version_minor": 0
            },
            "text/plain": [
              "interactive(children=(FloatSlider(value=1.0, description='Weight1:', max=10.0, min=-10.0), FloatSlider(value=1…"
            ]
          },
          "metadata": {},
          "output_type": "display_data"
        },
        {
          "data": {
            "text/plain": [
              "<function __main__.plot_decision_boundary(weight1, weight2, bias, activation='sigmoid')>"
            ]
          },
          "execution_count": 20,
          "metadata": {},
          "output_type": "execute_result"
        }
      ],
      "source": [
        "interact(\n",
        "    plot_decision_boundary,\n",
        "    weight1=weight1_slider,\n",
        "    weight2=weight2_slider,\n",
        "    bias=bias_slider,\n",
        "    activation=activation_dropdown\n",
        ")\n"
      ]
    },
    {
      "cell_type": "code",
      "execution_count": 21,
      "metadata": {
        "colab": {
          "base_uri": "https://localhost:8080/",
          "height": 766,
          "referenced_widgets": [
            "de499adc9c41470692107c229c8d132f",
            "39cad0e6c11e427ba41e2f8acdabb643",
            "ffe22caa9ee441439c7b6ae51394e5b4",
            "814c386cceb042c88a6267238b052186",
            "b9ac9190687845ea96af6c64242414a2",
            "30cd236fccb14383b641fa85322545db",
            "b9950eebeb654ec3a4a54da478bce634",
            "92aa3f2e082e4c40b03cb4a572ef1947",
            "14861841fd3b4956ac36f9a10d1333d2",
            "f45adf7a8b974e8fb259f5b29db4ec61",
            "b622c0ae140944c1befeeb0085e125bd",
            "3402c8e7ac6e41bc826e162087b63771",
            "de203ee090ea483f9b04b7df0ca17517",
            "88be9f0a11e14435b6570878be083500",
            "840262834e3e4a6a9fc458f2c4f8b259",
            "d3de92353bda41f08f5b2ad5997dc324",
            "c1b8b673afb24323988a7ab123cb444d",
            "f419c192095647cb8205d7ef4976dd30",
            "cbcdfe80930e48c69a25b6f40a177876",
            "e071258aa7944e0bbe124f2f894480da",
            "2e95f9b1508b4ad0813f7fa779c6f404",
            "361355230eae434cb9612587b18d54b9"
          ]
        },
        "id": "VyhO-hxPdglh",
        "outputId": "4b91ac72-8553-4698-b227-d08cc8b87460"
      },
      "outputs": [
        {
          "data": {
            "application/vnd.jupyter.widget-view+json": {
              "model_id": "d64f52054df44f88bee757b7c2daffd7",
              "version_major": 2,
              "version_minor": 0
            },
            "text/plain": [
              "interactive(children=(FloatSlider(value=1.0, description='Weight1:', max=10.0, min=-10.0), FloatSlider(value=1…"
            ]
          },
          "metadata": {},
          "output_type": "display_data"
        },
        {
          "data": {
            "application/vnd.jupyter.widget-view+json": {
              "model_id": "6eab33c2095f46c181e046a4210fa598",
              "version_major": 2,
              "version_minor": 0
            },
            "text/plain": [
              "VBox(children=(HBox(children=(FloatSlider(value=1.0, description='Weight1:', max=10.0, min=-10.0), FloatSlider…"
            ]
          },
          "metadata": {},
          "output_type": "display_data"
        },
        {
          "data": {
            "text/plain": [
              "<function __main__.plot_decision_boundary(weight1, weight2, bias, activation='sigmoid')>"
            ]
          },
          "metadata": {},
          "output_type": "display_data"
        }
      ],
      "source": [
        "from ipywidgets import HBox, VBox\n",
        "\n",
        "# Arrange widgets\n",
        "ui = VBox([\n",
        "    HBox([weight1_slider, weight2_slider]),\n",
        "    HBox([bias_slider, activation_dropdown])\n",
        "])\n",
        "\n",
        "# Update interact function\n",
        "interactive_plot_decision_boundary = interact(\n",
        "    plot_decision_boundary,\n",
        "    weight1=weight1_slider,\n",
        "    weight2=weight2_slider,\n",
        "    bias=bias_slider,\n",
        "    activation=activation_dropdown\n",
        ")\n",
        "\n",
        "display(ui, interactive_plot_decision_boundary)\n"
      ]
    },
    {
      "cell_type": "code",
      "execution_count": null,
      "metadata": {
        "id": "rAAeipNLdtGo"
      },
      "outputs": [],
      "source": [
        "!pip install voila\n",
        "output.clear()"
      ]
    },
    {
      "cell_type": "code",
      "execution_count": 23,
      "metadata": {
        "colab": {
          "base_uri": "https://localhost:8080/",
          "height": 106
        },
        "collapsed": true,
        "id": "sg9furoEd0xI",
        "outputId": "91c0e216-88cb-48a2-8153-ace72d9ce832"
      },
      "outputs": [
        {
          "ename": "SyntaxError",
          "evalue": "invalid syntax (429124548.py, line 1)",
          "output_type": "error",
          "traceback": [
            "\u001b[1;36m  Cell \u001b[1;32mIn[23], line 1\u001b[1;36m\u001b[0m\n\u001b[1;33m    voila your_notebook.ipynb\u001b[0m\n\u001b[1;37m          ^\u001b[0m\n\u001b[1;31mSyntaxError\u001b[0m\u001b[1;31m:\u001b[0m invalid syntax\n"
          ]
        }
      ],
      "source": [
        "voila your_notebook.ipynb"
      ]
    }
  ],
  "metadata": {
    "colab": {
      "provenance": []
    },
    "kernelspec": {
      "display_name": "Python 3",
      "name": "python3"
    },
    "language_info": {
      "codemirror_mode": {
        "name": "ipython",
        "version": 3
      },
      "file_extension": ".py",
      "mimetype": "text/x-python",
      "name": "python",
      "nbconvert_exporter": "python",
      "pygments_lexer": "ipython3",
      "version": "3.12.6"
    },
    "widgets": {
      "application/vnd.jupyter.widget-state+json": {
        "0a805a0942d042bcb5c5db4a0d5427ef": {
          "model_module": "@jupyter-widgets/base",
          "model_module_version": "1.2.0",
          "model_name": "LayoutModel",
          "state": {
            "_model_module": "@jupyter-widgets/base",
            "_model_module_version": "1.2.0",
            "_model_name": "LayoutModel",
            "_view_count": null,
            "_view_module": "@jupyter-widgets/base",
            "_view_module_version": "1.2.0",
            "_view_name": "LayoutView",
            "align_content": null,
            "align_items": null,
            "align_self": null,
            "border": null,
            "bottom": null,
            "display": null,
            "flex": null,
            "flex_flow": null,
            "grid_area": null,
            "grid_auto_columns": null,
            "grid_auto_flow": null,
            "grid_auto_rows": null,
            "grid_column": null,
            "grid_gap": null,
            "grid_row": null,
            "grid_template_areas": null,
            "grid_template_columns": null,
            "grid_template_rows": null,
            "height": null,
            "justify_content": null,
            "justify_items": null,
            "left": null,
            "margin": null,
            "max_height": null,
            "max_width": null,
            "min_height": null,
            "min_width": null,
            "object_fit": null,
            "object_position": null,
            "order": null,
            "overflow": null,
            "overflow_x": null,
            "overflow_y": null,
            "padding": null,
            "right": null,
            "top": null,
            "visibility": null,
            "width": null
          }
        },
        "10673001ab68431ea77d95b121cbf3b3": {
          "model_module": "@jupyter-widgets/controls",
          "model_module_version": "1.5.0",
          "model_name": "VBoxModel",
          "state": {
            "_dom_classes": [
              "widget-interact"
            ],
            "_model_module": "@jupyter-widgets/controls",
            "_model_module_version": "1.5.0",
            "_model_name": "VBoxModel",
            "_view_count": null,
            "_view_module": "@jupyter-widgets/controls",
            "_view_module_version": "1.5.0",
            "_view_name": "VBoxView",
            "box_style": "",
            "children": [
              "IPY_MODEL_c04af87b25864ed9a6ec280c4167f6de",
              "IPY_MODEL_aa1508b254f344609802a15f4ff7e3cb",
              "IPY_MODEL_7c5201ac19684333ac3d905a05ec33c1",
              "IPY_MODEL_aca8d495172547efb5d6dfcf58c553eb"
            ],
            "layout": "IPY_MODEL_d2c5e7a79c7843659e5ed26d6f580635"
          }
        },
        "13d77cb00fb04a8d92deac1068d900e2": {
          "model_module": "@jupyter-widgets/output",
          "model_module_version": "1.0.0",
          "model_name": "OutputModel",
          "state": {
            "_dom_classes": [],
            "_model_module": "@jupyter-widgets/output",
            "_model_module_version": "1.0.0",
            "_model_name": "OutputModel",
            "_view_count": null,
            "_view_module": "@jupyter-widgets/output",
            "_view_module_version": "1.0.0",
            "_view_name": "OutputView",
            "layout": "IPY_MODEL_e4b22b971ed441c48070bfc527a1e0d8",
            "msg_id": "",
            "outputs": [
              {
                "data": {
                  "image/png": "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\n",
                  "text/plain": "<Figure size 800x500 with 1 Axes>"
                },
                "metadata": {},
                "output_type": "display_data"
              }
            ]
          }
        },
        "145e1f68d3ef4e43bb78cec7eab1183f": {
          "model_module": "@jupyter-widgets/controls",
          "model_module_version": "1.5.0",
          "model_name": "FloatSliderModel",
          "state": {
            "_dom_classes": [],
            "_model_module": "@jupyter-widgets/controls",
            "_model_module_version": "1.5.0",
            "_model_name": "FloatSliderModel",
            "_view_count": null,
            "_view_module": "@jupyter-widgets/controls",
            "_view_module_version": "1.5.0",
            "_view_name": "FloatSliderView",
            "continuous_update": true,
            "description": "Bias1:",
            "description_tooltip": null,
            "disabled": false,
            "layout": "IPY_MODEL_f847676c99b5459389abc9eb1e30fb12",
            "max": 5,
            "min": -5,
            "orientation": "horizontal",
            "readout": true,
            "readout_format": ".2f",
            "step": 0.1,
            "style": "IPY_MODEL_ea68f981cd82401ea93a1d62213d29ad",
            "value": -2.1
          }
        },
        "14861841fd3b4956ac36f9a10d1333d2": {
          "model_module": "@jupyter-widgets/controls",
          "model_module_version": "1.5.0",
          "model_name": "SliderStyleModel",
          "state": {
            "_model_module": "@jupyter-widgets/controls",
            "_model_module_version": "1.5.0",
            "_model_name": "SliderStyleModel",
            "_view_count": null,
            "_view_module": "@jupyter-widgets/base",
            "_view_module_version": "1.2.0",
            "_view_name": "StyleView",
            "description_width": "",
            "handle_color": null
          }
        },
        "155e7f5c925b4643bf86805c47bcbe3c": {
          "model_module": "@jupyter-widgets/controls",
          "model_module_version": "1.5.0",
          "model_name": "VBoxModel",
          "state": {
            "_dom_classes": [
              "widget-interact"
            ],
            "_model_module": "@jupyter-widgets/controls",
            "_model_module_version": "1.5.0",
            "_model_name": "VBoxModel",
            "_view_count": null,
            "_view_module": "@jupyter-widgets/controls",
            "_view_module_version": "1.5.0",
            "_view_name": "VBoxView",
            "box_style": "",
            "children": [
              "IPY_MODEL_3422c65648dc4c43be00f9a2ca44850c",
              "IPY_MODEL_145e1f68d3ef4e43bb78cec7eab1183f",
              "IPY_MODEL_d8702d2e7aed42649ee0b16a6bdba812",
              "IPY_MODEL_6dd9693114ad4830a481abd5dc8ecbf2",
              "IPY_MODEL_b3883e017ceb4a2bbe6a6b3acc89fd62",
              "IPY_MODEL_3c8b931c1b014527b77577d190810a8e"
            ],
            "layout": "IPY_MODEL_445674cc661c42029544975dae6484b9"
          }
        },
        "1c4148972ecf456ea1d6236f5460828b": {
          "model_module": "@jupyter-widgets/controls",
          "model_module_version": "1.5.0",
          "model_name": "IntSliderModel",
          "state": {
            "_dom_classes": [],
            "_model_module": "@jupyter-widgets/controls",
            "_model_module_version": "1.5.0",
            "_model_name": "IntSliderModel",
            "_view_count": null,
            "_view_module": "@jupyter-widgets/controls",
            "_view_module_version": "1.5.0",
            "_view_name": "IntSliderView",
            "continuous_update": true,
            "description": "Hidden Neurons",
            "description_tooltip": null,
            "disabled": false,
            "layout": "IPY_MODEL_8272fdae4d014c889bc9523d8e383991",
            "max": 10,
            "min": 1,
            "orientation": "horizontal",
            "readout": true,
            "readout_format": "d",
            "step": 1,
            "style": "IPY_MODEL_48d8f982e69c4d51a9d0eb00fd458407",
            "value": 5
          }
        },
        "20753ffe051d48bc94257c8f8056b2cd": {
          "model_module": "@jupyter-widgets/base",
          "model_module_version": "1.2.0",
          "model_name": "LayoutModel",
          "state": {
            "_model_module": "@jupyter-widgets/base",
            "_model_module_version": "1.2.0",
            "_model_name": "LayoutModel",
            "_view_count": null,
            "_view_module": "@jupyter-widgets/base",
            "_view_module_version": "1.2.0",
            "_view_name": "LayoutView",
            "align_content": null,
            "align_items": null,
            "align_self": null,
            "border": null,
            "bottom": null,
            "display": null,
            "flex": null,
            "flex_flow": null,
            "grid_area": null,
            "grid_auto_columns": null,
            "grid_auto_flow": null,
            "grid_auto_rows": null,
            "grid_column": null,
            "grid_gap": null,
            "grid_row": null,
            "grid_template_areas": null,
            "grid_template_columns": null,
            "grid_template_rows": null,
            "height": null,
            "justify_content": null,
            "justify_items": null,
            "left": null,
            "margin": null,
            "max_height": null,
            "max_width": null,
            "min_height": null,
            "min_width": null,
            "object_fit": null,
            "object_position": null,
            "order": null,
            "overflow": null,
            "overflow_x": null,
            "overflow_y": null,
            "padding": null,
            "right": null,
            "top": null,
            "visibility": null,
            "width": null
          }
        },
        "2d234b70cc8544dea9b95e244dbd4994": {
          "model_module": "@jupyter-widgets/controls",
          "model_module_version": "1.5.0",
          "model_name": "SliderStyleModel",
          "state": {
            "_model_module": "@jupyter-widgets/controls",
            "_model_module_version": "1.5.0",
            "_model_name": "SliderStyleModel",
            "_view_count": null,
            "_view_module": "@jupyter-widgets/base",
            "_view_module_version": "1.2.0",
            "_view_name": "StyleView",
            "description_width": "",
            "handle_color": null
          }
        },
        "2e2537e67a8c4bc4b8422760c4eebe67": {
          "model_module": "@jupyter-widgets/controls",
          "model_module_version": "1.5.0",
          "model_name": "SliderStyleModel",
          "state": {
            "_model_module": "@jupyter-widgets/controls",
            "_model_module_version": "1.5.0",
            "_model_name": "SliderStyleModel",
            "_view_count": null,
            "_view_module": "@jupyter-widgets/base",
            "_view_module_version": "1.2.0",
            "_view_name": "StyleView",
            "description_width": "",
            "handle_color": null
          }
        },
        "2e95f9b1508b4ad0813f7fa779c6f404": {
          "model_module": "@jupyter-widgets/base",
          "model_module_version": "1.2.0",
          "model_name": "LayoutModel",
          "state": {
            "_model_module": "@jupyter-widgets/base",
            "_model_module_version": "1.2.0",
            "_model_name": "LayoutModel",
            "_view_count": null,
            "_view_module": "@jupyter-widgets/base",
            "_view_module_version": "1.2.0",
            "_view_name": "LayoutView",
            "align_content": null,
            "align_items": null,
            "align_self": null,
            "border": null,
            "bottom": null,
            "display": null,
            "flex": null,
            "flex_flow": null,
            "grid_area": null,
            "grid_auto_columns": null,
            "grid_auto_flow": null,
            "grid_auto_rows": null,
            "grid_column": null,
            "grid_gap": null,
            "grid_row": null,
            "grid_template_areas": null,
            "grid_template_columns": null,
            "grid_template_rows": null,
            "height": null,
            "justify_content": null,
            "justify_items": null,
            "left": null,
            "margin": null,
            "max_height": null,
            "max_width": null,
            "min_height": null,
            "min_width": null,
            "object_fit": null,
            "object_position": null,
            "order": null,
            "overflow": null,
            "overflow_x": null,
            "overflow_y": null,
            "padding": null,
            "right": null,
            "top": null,
            "visibility": null,
            "width": null
          }
        },
        "30cd236fccb14383b641fa85322545db": {
          "model_module": "@jupyter-widgets/output",
          "model_module_version": "1.0.0",
          "model_name": "OutputModel",
          "state": {
            "_dom_classes": [],
            "_model_module": "@jupyter-widgets/output",
            "_model_module_version": "1.0.0",
            "_model_name": "OutputModel",
            "_view_count": null,
            "_view_module": "@jupyter-widgets/output",
            "_view_module_version": "1.0.0",
            "_view_name": "OutputView",
            "layout": "IPY_MODEL_d3de92353bda41f08f5b2ad5997dc324",
            "msg_id": "",
            "outputs": [
              {
                "data": {
                  "image/png": "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\n",
                  "text/plain": "<Figure size 800x500 with 1 Axes>"
                },
                "metadata": {},
                "output_type": "display_data"
              }
            ]
          }
        },
        "33a2cd8025904efa964450f90d554563": {
          "model_module": "@jupyter-widgets/controls",
          "model_module_version": "1.5.0",
          "model_name": "VBoxModel",
          "state": {
            "_dom_classes": [
              "widget-interact"
            ],
            "_model_module": "@jupyter-widgets/controls",
            "_model_module_version": "1.5.0",
            "_model_name": "VBoxModel",
            "_view_count": null,
            "_view_module": "@jupyter-widgets/controls",
            "_view_module_version": "1.5.0",
            "_view_name": "VBoxView",
            "box_style": "",
            "children": [
              "IPY_MODEL_39cad0e6c11e427ba41e2f8acdabb643",
              "IPY_MODEL_ffe22caa9ee441439c7b6ae51394e5b4",
              "IPY_MODEL_814c386cceb042c88a6267238b052186",
              "IPY_MODEL_b9ac9190687845ea96af6c64242414a2",
              "IPY_MODEL_13d77cb00fb04a8d92deac1068d900e2"
            ],
            "layout": "IPY_MODEL_d730039288d04de581ba35dd3c31ab40"
          }
        },
        "3402c8e7ac6e41bc826e162087b63771": {
          "model_module": "@jupyter-widgets/base",
          "model_module_version": "1.2.0",
          "model_name": "LayoutModel",
          "state": {
            "_model_module": "@jupyter-widgets/base",
            "_model_module_version": "1.2.0",
            "_model_name": "LayoutModel",
            "_view_count": null,
            "_view_module": "@jupyter-widgets/base",
            "_view_module_version": "1.2.0",
            "_view_name": "LayoutView",
            "align_content": null,
            "align_items": null,
            "align_self": null,
            "border": null,
            "bottom": null,
            "display": null,
            "flex": null,
            "flex_flow": null,
            "grid_area": null,
            "grid_auto_columns": null,
            "grid_auto_flow": null,
            "grid_auto_rows": null,
            "grid_column": null,
            "grid_gap": null,
            "grid_row": null,
            "grid_template_areas": null,
            "grid_template_columns": null,
            "grid_template_rows": null,
            "height": null,
            "justify_content": null,
            "justify_items": null,
            "left": null,
            "margin": null,
            "max_height": null,
            "max_width": null,
            "min_height": null,
            "min_width": null,
            "object_fit": null,
            "object_position": null,
            "order": null,
            "overflow": null,
            "overflow_x": null,
            "overflow_y": null,
            "padding": null,
            "right": null,
            "top": null,
            "visibility": null,
            "width": null
          }
        },
        "3422c65648dc4c43be00f9a2ca44850c": {
          "model_module": "@jupyter-widgets/controls",
          "model_module_version": "1.5.0",
          "model_name": "FloatSliderModel",
          "state": {
            "_dom_classes": [],
            "_model_module": "@jupyter-widgets/controls",
            "_model_module_version": "1.5.0",
            "_model_name": "FloatSliderModel",
            "_view_count": null,
            "_view_module": "@jupyter-widgets/controls",
            "_view_module_version": "1.5.0",
            "_view_name": "FloatSliderView",
            "continuous_update": true,
            "description": "Weight1:",
            "description_tooltip": null,
            "disabled": false,
            "layout": "IPY_MODEL_df84a76d7c224ecc9059a680f2e2f07e",
            "max": 5,
            "min": -5,
            "orientation": "horizontal",
            "readout": true,
            "readout_format": ".2f",
            "step": 0.1,
            "style": "IPY_MODEL_6c3ae5c2983d4df6ad706b6897caabcf",
            "value": -2.3
          }
        },
        "361355230eae434cb9612587b18d54b9": {
          "model_module": "@jupyter-widgets/base",
          "model_module_version": "1.2.0",
          "model_name": "LayoutModel",
          "state": {
            "_model_module": "@jupyter-widgets/base",
            "_model_module_version": "1.2.0",
            "_model_name": "LayoutModel",
            "_view_count": null,
            "_view_module": "@jupyter-widgets/base",
            "_view_module_version": "1.2.0",
            "_view_name": "LayoutView",
            "align_content": null,
            "align_items": null,
            "align_self": null,
            "border": null,
            "bottom": null,
            "display": null,
            "flex": null,
            "flex_flow": null,
            "grid_area": null,
            "grid_auto_columns": null,
            "grid_auto_flow": null,
            "grid_auto_rows": null,
            "grid_column": null,
            "grid_gap": null,
            "grid_row": null,
            "grid_template_areas": null,
            "grid_template_columns": null,
            "grid_template_rows": null,
            "height": null,
            "justify_content": null,
            "justify_items": null,
            "left": null,
            "margin": null,
            "max_height": null,
            "max_width": null,
            "min_height": null,
            "min_width": null,
            "object_fit": null,
            "object_position": null,
            "order": null,
            "overflow": null,
            "overflow_x": null,
            "overflow_y": null,
            "padding": null,
            "right": null,
            "top": null,
            "visibility": null,
            "width": null
          }
        },
        "39cad0e6c11e427ba41e2f8acdabb643": {
          "model_module": "@jupyter-widgets/controls",
          "model_module_version": "1.5.0",
          "model_name": "FloatSliderModel",
          "state": {
            "_dom_classes": [],
            "_model_module": "@jupyter-widgets/controls",
            "_model_module_version": "1.5.0",
            "_model_name": "FloatSliderModel",
            "_view_count": null,
            "_view_module": "@jupyter-widgets/controls",
            "_view_module_version": "1.5.0",
            "_view_name": "FloatSliderView",
            "continuous_update": true,
            "description": "Weight1:",
            "description_tooltip": null,
            "disabled": false,
            "layout": "IPY_MODEL_92aa3f2e082e4c40b03cb4a572ef1947",
            "max": 10,
            "min": -10,
            "orientation": "horizontal",
            "readout": true,
            "readout_format": ".2f",
            "step": 0.1,
            "style": "IPY_MODEL_14861841fd3b4956ac36f9a10d1333d2",
            "value": -4.5
          }
        },
        "3b2eaa2521ec4384ba87e0d825bed908": {
          "model_module": "@jupyter-widgets/controls",
          "model_module_version": "1.5.0",
          "model_name": "SliderStyleModel",
          "state": {
            "_model_module": "@jupyter-widgets/controls",
            "_model_module_version": "1.5.0",
            "_model_name": "SliderStyleModel",
            "_view_count": null,
            "_view_module": "@jupyter-widgets/base",
            "_view_module_version": "1.2.0",
            "_view_name": "StyleView",
            "description_width": "",
            "handle_color": null
          }
        },
        "3c8b931c1b014527b77577d190810a8e": {
          "model_module": "@jupyter-widgets/output",
          "model_module_version": "1.0.0",
          "model_name": "OutputModel",
          "state": {
            "_dom_classes": [],
            "_model_module": "@jupyter-widgets/output",
            "_model_module_version": "1.0.0",
            "_model_name": "OutputModel",
            "_view_count": null,
            "_view_module": "@jupyter-widgets/output",
            "_view_module_version": "1.0.0",
            "_view_name": "OutputView",
            "layout": "IPY_MODEL_d31911ff3f8d44939af1be5b97720c94",
            "msg_id": "",
            "outputs": [
              {
                "data": {
                  "image/png": "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\n",
                  "text/plain": "<Figure size 800x500 with 1 Axes>"
                },
                "metadata": {},
                "output_type": "display_data"
              }
            ]
          }
        },
        "41573fa8b9884aee9ac01a8371ff91c1": {
          "model_module": "@jupyter-widgets/base",
          "model_module_version": "1.2.0",
          "model_name": "LayoutModel",
          "state": {
            "_model_module": "@jupyter-widgets/base",
            "_model_module_version": "1.2.0",
            "_model_name": "LayoutModel",
            "_view_count": null,
            "_view_module": "@jupyter-widgets/base",
            "_view_module_version": "1.2.0",
            "_view_name": "LayoutView",
            "align_content": null,
            "align_items": null,
            "align_self": null,
            "border": null,
            "bottom": null,
            "display": null,
            "flex": null,
            "flex_flow": null,
            "grid_area": null,
            "grid_auto_columns": null,
            "grid_auto_flow": null,
            "grid_auto_rows": null,
            "grid_column": null,
            "grid_gap": null,
            "grid_row": null,
            "grid_template_areas": null,
            "grid_template_columns": null,
            "grid_template_rows": null,
            "height": null,
            "justify_content": null,
            "justify_items": null,
            "left": null,
            "margin": null,
            "max_height": null,
            "max_width": null,
            "min_height": null,
            "min_width": null,
            "object_fit": null,
            "object_position": null,
            "order": null,
            "overflow": null,
            "overflow_x": null,
            "overflow_y": null,
            "padding": null,
            "right": null,
            "top": null,
            "visibility": null,
            "width": null
          }
        },
        "445674cc661c42029544975dae6484b9": {
          "model_module": "@jupyter-widgets/base",
          "model_module_version": "1.2.0",
          "model_name": "LayoutModel",
          "state": {
            "_model_module": "@jupyter-widgets/base",
            "_model_module_version": "1.2.0",
            "_model_name": "LayoutModel",
            "_view_count": null,
            "_view_module": "@jupyter-widgets/base",
            "_view_module_version": "1.2.0",
            "_view_name": "LayoutView",
            "align_content": null,
            "align_items": null,
            "align_self": null,
            "border": null,
            "bottom": null,
            "display": null,
            "flex": null,
            "flex_flow": null,
            "grid_area": null,
            "grid_auto_columns": null,
            "grid_auto_flow": null,
            "grid_auto_rows": null,
            "grid_column": null,
            "grid_gap": null,
            "grid_row": null,
            "grid_template_areas": null,
            "grid_template_columns": null,
            "grid_template_rows": null,
            "height": null,
            "justify_content": null,
            "justify_items": null,
            "left": null,
            "margin": null,
            "max_height": null,
            "max_width": null,
            "min_height": null,
            "min_width": null,
            "object_fit": null,
            "object_position": null,
            "order": null,
            "overflow": null,
            "overflow_x": null,
            "overflow_y": null,
            "padding": null,
            "right": null,
            "top": null,
            "visibility": null,
            "width": null
          }
        },
        "44e4b87a0b284baa9bdb424f67110fdf": {
          "model_module": "@jupyter-widgets/base",
          "model_module_version": "1.2.0",
          "model_name": "LayoutModel",
          "state": {
            "_model_module": "@jupyter-widgets/base",
            "_model_module_version": "1.2.0",
            "_model_name": "LayoutModel",
            "_view_count": null,
            "_view_module": "@jupyter-widgets/base",
            "_view_module_version": "1.2.0",
            "_view_name": "LayoutView",
            "align_content": null,
            "align_items": null,
            "align_self": null,
            "border": null,
            "bottom": null,
            "display": null,
            "flex": null,
            "flex_flow": null,
            "grid_area": null,
            "grid_auto_columns": null,
            "grid_auto_flow": null,
            "grid_auto_rows": null,
            "grid_column": null,
            "grid_gap": null,
            "grid_row": null,
            "grid_template_areas": null,
            "grid_template_columns": null,
            "grid_template_rows": null,
            "height": null,
            "justify_content": null,
            "justify_items": null,
            "left": null,
            "margin": null,
            "max_height": null,
            "max_width": null,
            "min_height": null,
            "min_width": null,
            "object_fit": null,
            "object_position": null,
            "order": null,
            "overflow": null,
            "overflow_x": null,
            "overflow_y": null,
            "padding": null,
            "right": null,
            "top": null,
            "visibility": null,
            "width": null
          }
        },
        "48d8f982e69c4d51a9d0eb00fd458407": {
          "model_module": "@jupyter-widgets/controls",
          "model_module_version": "1.5.0",
          "model_name": "SliderStyleModel",
          "state": {
            "_model_module": "@jupyter-widgets/controls",
            "_model_module_version": "1.5.0",
            "_model_name": "SliderStyleModel",
            "_view_count": null,
            "_view_module": "@jupyter-widgets/base",
            "_view_module_version": "1.2.0",
            "_view_name": "StyleView",
            "description_width": "",
            "handle_color": null
          }
        },
        "4b729cda061948dca7b45df152153c5b": {
          "model_module": "@jupyter-widgets/controls",
          "model_module_version": "1.5.0",
          "model_name": "IntSliderModel",
          "state": {
            "_dom_classes": [],
            "_model_module": "@jupyter-widgets/controls",
            "_model_module_version": "1.5.0",
            "_model_name": "IntSliderModel",
            "_view_count": null,
            "_view_module": "@jupyter-widgets/controls",
            "_view_module_version": "1.5.0",
            "_view_name": "IntSliderView",
            "continuous_update": true,
            "description": "Output Neurons",
            "description_tooltip": null,
            "disabled": false,
            "layout": "IPY_MODEL_ea6f13c0433543a8be244828bd0f25f0",
            "max": 10,
            "min": 1,
            "orientation": "horizontal",
            "readout": true,
            "readout_format": "d",
            "step": 1,
            "style": "IPY_MODEL_88f410ef03b44bc58cc20c5c09a0b4a9",
            "value": 1
          }
        },
        "6c3ae5c2983d4df6ad706b6897caabcf": {
          "model_module": "@jupyter-widgets/controls",
          "model_module_version": "1.5.0",
          "model_name": "SliderStyleModel",
          "state": {
            "_model_module": "@jupyter-widgets/controls",
            "_model_module_version": "1.5.0",
            "_model_name": "SliderStyleModel",
            "_view_count": null,
            "_view_module": "@jupyter-widgets/base",
            "_view_module_version": "1.2.0",
            "_view_name": "StyleView",
            "description_width": "",
            "handle_color": null
          }
        },
        "6dd9693114ad4830a481abd5dc8ecbf2": {
          "model_module": "@jupyter-widgets/controls",
          "model_module_version": "1.5.0",
          "model_name": "FloatSliderModel",
          "state": {
            "_dom_classes": [],
            "_model_module": "@jupyter-widgets/controls",
            "_model_module_version": "1.5.0",
            "_model_name": "FloatSliderModel",
            "_view_count": null,
            "_view_module": "@jupyter-widgets/controls",
            "_view_module_version": "1.5.0",
            "_view_name": "FloatSliderView",
            "continuous_update": true,
            "description": "Bias2:",
            "description_tooltip": null,
            "disabled": false,
            "layout": "IPY_MODEL_df513f275eb84c17aacdaddcfd98c83d",
            "max": 5,
            "min": -5,
            "orientation": "horizontal",
            "readout": true,
            "readout_format": ".2f",
            "step": 0.1,
            "style": "IPY_MODEL_75262d8721584bb1b747f4681a42aea4",
            "value": -1.9
          }
        },
        "75262d8721584bb1b747f4681a42aea4": {
          "model_module": "@jupyter-widgets/controls",
          "model_module_version": "1.5.0",
          "model_name": "SliderStyleModel",
          "state": {
            "_model_module": "@jupyter-widgets/controls",
            "_model_module_version": "1.5.0",
            "_model_name": "SliderStyleModel",
            "_view_count": null,
            "_view_module": "@jupyter-widgets/base",
            "_view_module_version": "1.2.0",
            "_view_name": "StyleView",
            "description_width": "",
            "handle_color": null
          }
        },
        "7c5201ac19684333ac3d905a05ec33c1": {
          "model_module": "@jupyter-widgets/controls",
          "model_module_version": "1.5.0",
          "model_name": "DropdownModel",
          "state": {
            "_dom_classes": [],
            "_model_module": "@jupyter-widgets/controls",
            "_model_module_version": "1.5.0",
            "_model_name": "DropdownModel",
            "_options_labels": [
              "sigmoid",
              "tanh",
              "relu"
            ],
            "_view_count": null,
            "_view_module": "@jupyter-widgets/controls",
            "_view_module_version": "1.5.0",
            "_view_name": "DropdownView",
            "description": "Activation:",
            "description_tooltip": null,
            "disabled": false,
            "index": 2,
            "layout": "IPY_MODEL_ab6482455b2c4276bea7d67f298147d6",
            "style": "IPY_MODEL_e232b70b383246cbba76bf7c29bb37fe"
          }
        },
        "814c386cceb042c88a6267238b052186": {
          "model_module": "@jupyter-widgets/controls",
          "model_module_version": "1.5.0",
          "model_name": "FloatSliderModel",
          "state": {
            "_dom_classes": [],
            "_model_module": "@jupyter-widgets/controls",
            "_model_module_version": "1.5.0",
            "_model_name": "FloatSliderModel",
            "_view_count": null,
            "_view_module": "@jupyter-widgets/controls",
            "_view_module_version": "1.5.0",
            "_view_name": "FloatSliderView",
            "continuous_update": true,
            "description": "Bias:",
            "description_tooltip": null,
            "disabled": false,
            "layout": "IPY_MODEL_3402c8e7ac6e41bc826e162087b63771",
            "max": 10,
            "min": -10,
            "orientation": "horizontal",
            "readout": true,
            "readout_format": ".2f",
            "step": 0.1,
            "style": "IPY_MODEL_de203ee090ea483f9b04b7df0ca17517",
            "value": 0
          }
        },
        "8272fdae4d014c889bc9523d8e383991": {
          "model_module": "@jupyter-widgets/base",
          "model_module_version": "1.2.0",
          "model_name": "LayoutModel",
          "state": {
            "_model_module": "@jupyter-widgets/base",
            "_model_module_version": "1.2.0",
            "_model_name": "LayoutModel",
            "_view_count": null,
            "_view_module": "@jupyter-widgets/base",
            "_view_module_version": "1.2.0",
            "_view_name": "LayoutView",
            "align_content": null,
            "align_items": null,
            "align_self": null,
            "border": null,
            "bottom": null,
            "display": null,
            "flex": null,
            "flex_flow": null,
            "grid_area": null,
            "grid_auto_columns": null,
            "grid_auto_flow": null,
            "grid_auto_rows": null,
            "grid_column": null,
            "grid_gap": null,
            "grid_row": null,
            "grid_template_areas": null,
            "grid_template_columns": null,
            "grid_template_rows": null,
            "height": null,
            "justify_content": null,
            "justify_items": null,
            "left": null,
            "margin": null,
            "max_height": null,
            "max_width": null,
            "min_height": null,
            "min_width": null,
            "object_fit": null,
            "object_position": null,
            "order": null,
            "overflow": null,
            "overflow_x": null,
            "overflow_y": null,
            "padding": null,
            "right": null,
            "top": null,
            "visibility": null,
            "width": null
          }
        },
        "840262834e3e4a6a9fc458f2c4f8b259": {
          "model_module": "@jupyter-widgets/controls",
          "model_module_version": "1.5.0",
          "model_name": "DescriptionStyleModel",
          "state": {
            "_model_module": "@jupyter-widgets/controls",
            "_model_module_version": "1.5.0",
            "_model_name": "DescriptionStyleModel",
            "_view_count": null,
            "_view_module": "@jupyter-widgets/base",
            "_view_module_version": "1.2.0",
            "_view_name": "StyleView",
            "description_width": ""
          }
        },
        "88be9f0a11e14435b6570878be083500": {
          "model_module": "@jupyter-widgets/base",
          "model_module_version": "1.2.0",
          "model_name": "LayoutModel",
          "state": {
            "_model_module": "@jupyter-widgets/base",
            "_model_module_version": "1.2.0",
            "_model_name": "LayoutModel",
            "_view_count": null,
            "_view_module": "@jupyter-widgets/base",
            "_view_module_version": "1.2.0",
            "_view_name": "LayoutView",
            "align_content": null,
            "align_items": null,
            "align_self": null,
            "border": null,
            "bottom": null,
            "display": null,
            "flex": null,
            "flex_flow": null,
            "grid_area": null,
            "grid_auto_columns": null,
            "grid_auto_flow": null,
            "grid_auto_rows": null,
            "grid_column": null,
            "grid_gap": null,
            "grid_row": null,
            "grid_template_areas": null,
            "grid_template_columns": null,
            "grid_template_rows": null,
            "height": null,
            "justify_content": null,
            "justify_items": null,
            "left": null,
            "margin": null,
            "max_height": null,
            "max_width": null,
            "min_height": null,
            "min_width": null,
            "object_fit": null,
            "object_position": null,
            "order": null,
            "overflow": null,
            "overflow_x": null,
            "overflow_y": null,
            "padding": null,
            "right": null,
            "top": null,
            "visibility": null,
            "width": null
          }
        },
        "88f410ef03b44bc58cc20c5c09a0b4a9": {
          "model_module": "@jupyter-widgets/controls",
          "model_module_version": "1.5.0",
          "model_name": "SliderStyleModel",
          "state": {
            "_model_module": "@jupyter-widgets/controls",
            "_model_module_version": "1.5.0",
            "_model_name": "SliderStyleModel",
            "_view_count": null,
            "_view_module": "@jupyter-widgets/base",
            "_view_module_version": "1.2.0",
            "_view_name": "StyleView",
            "description_width": "",
            "handle_color": null
          }
        },
        "91254ddeee514886b0405ddcb85cfd35": {
          "model_module": "@jupyter-widgets/controls",
          "model_module_version": "1.5.0",
          "model_name": "IntSliderModel",
          "state": {
            "_dom_classes": [],
            "_model_module": "@jupyter-widgets/controls",
            "_model_module_version": "1.5.0",
            "_model_name": "IntSliderModel",
            "_view_count": null,
            "_view_module": "@jupyter-widgets/controls",
            "_view_module_version": "1.5.0",
            "_view_name": "IntSliderView",
            "continuous_update": true,
            "description": "Input Neurons",
            "description_tooltip": null,
            "disabled": false,
            "layout": "IPY_MODEL_ea30b36312084509a7b09a8db853f74c",
            "max": 10,
            "min": 1,
            "orientation": "horizontal",
            "readout": true,
            "readout_format": "d",
            "step": 1,
            "style": "IPY_MODEL_3b2eaa2521ec4384ba87e0d825bed908",
            "value": 3
          }
        },
        "92aa3f2e082e4c40b03cb4a572ef1947": {
          "model_module": "@jupyter-widgets/base",
          "model_module_version": "1.2.0",
          "model_name": "LayoutModel",
          "state": {
            "_model_module": "@jupyter-widgets/base",
            "_model_module_version": "1.2.0",
            "_model_name": "LayoutModel",
            "_view_count": null,
            "_view_module": "@jupyter-widgets/base",
            "_view_module_version": "1.2.0",
            "_view_name": "LayoutView",
            "align_content": null,
            "align_items": null,
            "align_self": null,
            "border": null,
            "bottom": null,
            "display": null,
            "flex": null,
            "flex_flow": null,
            "grid_area": null,
            "grid_auto_columns": null,
            "grid_auto_flow": null,
            "grid_auto_rows": null,
            "grid_column": null,
            "grid_gap": null,
            "grid_row": null,
            "grid_template_areas": null,
            "grid_template_columns": null,
            "grid_template_rows": null,
            "height": null,
            "justify_content": null,
            "justify_items": null,
            "left": null,
            "margin": null,
            "max_height": null,
            "max_width": null,
            "min_height": null,
            "min_width": null,
            "object_fit": null,
            "object_position": null,
            "order": null,
            "overflow": null,
            "overflow_x": null,
            "overflow_y": null,
            "padding": null,
            "right": null,
            "top": null,
            "visibility": null,
            "width": null
          }
        },
        "94778f12a388499dac81a47eae79e5a0": {
          "model_module": "@jupyter-widgets/controls",
          "model_module_version": "1.5.0",
          "model_name": "SliderStyleModel",
          "state": {
            "_model_module": "@jupyter-widgets/controls",
            "_model_module_version": "1.5.0",
            "_model_name": "SliderStyleModel",
            "_view_count": null,
            "_view_module": "@jupyter-widgets/base",
            "_view_module_version": "1.2.0",
            "_view_name": "StyleView",
            "description_width": "",
            "handle_color": null
          }
        },
        "97cf3174ca814106a057fda39b0c573c": {
          "model_module": "@jupyter-widgets/base",
          "model_module_version": "1.2.0",
          "model_name": "LayoutModel",
          "state": {
            "_model_module": "@jupyter-widgets/base",
            "_model_module_version": "1.2.0",
            "_model_name": "LayoutModel",
            "_view_count": null,
            "_view_module": "@jupyter-widgets/base",
            "_view_module_version": "1.2.0",
            "_view_name": "LayoutView",
            "align_content": null,
            "align_items": null,
            "align_self": null,
            "border": null,
            "bottom": null,
            "display": null,
            "flex": null,
            "flex_flow": null,
            "grid_area": null,
            "grid_auto_columns": null,
            "grid_auto_flow": null,
            "grid_auto_rows": null,
            "grid_column": null,
            "grid_gap": null,
            "grid_row": null,
            "grid_template_areas": null,
            "grid_template_columns": null,
            "grid_template_rows": null,
            "height": null,
            "justify_content": null,
            "justify_items": null,
            "left": null,
            "margin": null,
            "max_height": null,
            "max_width": null,
            "min_height": null,
            "min_width": null,
            "object_fit": null,
            "object_position": null,
            "order": null,
            "overflow": null,
            "overflow_x": null,
            "overflow_y": null,
            "padding": null,
            "right": null,
            "top": null,
            "visibility": null,
            "width": null
          }
        },
        "9e6957e77e394ab7a49666cebad90ea7": {
          "model_module": "@jupyter-widgets/controls",
          "model_module_version": "1.5.0",
          "model_name": "DescriptionStyleModel",
          "state": {
            "_model_module": "@jupyter-widgets/controls",
            "_model_module_version": "1.5.0",
            "_model_name": "DescriptionStyleModel",
            "_view_count": null,
            "_view_module": "@jupyter-widgets/base",
            "_view_module_version": "1.2.0",
            "_view_name": "StyleView",
            "description_width": ""
          }
        },
        "a87b6ec9c29b4de7bea8005914e62360": {
          "model_module": "ipycanvas",
          "model_module_version": "^0.13",
          "model_name": "CanvasModel",
          "state": {
            "_canvas_manager": "IPY_MODEL_8f2c91b693ec431b90c045546883c156",
            "_dom_classes": [],
            "_model_module": "ipycanvas",
            "_model_module_version": "^0.13",
            "_model_name": "CanvasModel",
            "_send_client_ready_event": true,
            "_view_count": null,
            "_view_module": "ipycanvas",
            "_view_module_version": "^0.13",
            "_view_name": "CanvasView",
            "height": 300,
            "image_data": null,
            "layout": "IPY_MODEL_6378eabaae3d4539ab86a0b1b058bf3d",
            "sync_image_data": false,
            "width": 400
          }
        },
        "aa1508b254f344609802a15f4ff7e3cb": {
          "model_module": "@jupyter-widgets/controls",
          "model_module_version": "1.5.0",
          "model_name": "FloatSliderModel",
          "state": {
            "_dom_classes": [],
            "_model_module": "@jupyter-widgets/controls",
            "_model_module_version": "1.5.0",
            "_model_name": "FloatSliderModel",
            "_view_count": null,
            "_view_module": "@jupyter-widgets/controls",
            "_view_module_version": "1.5.0",
            "_view_name": "FloatSliderView",
            "continuous_update": true,
            "description": "Bias:",
            "description_tooltip": null,
            "disabled": false,
            "layout": "IPY_MODEL_97cf3174ca814106a057fda39b0c573c",
            "max": 5,
            "min": -5,
            "orientation": "horizontal",
            "readout": true,
            "readout_format": ".2f",
            "step": 0.1,
            "style": "IPY_MODEL_94778f12a388499dac81a47eae79e5a0",
            "value": -3.3
          }
        },
        "ab6482455b2c4276bea7d67f298147d6": {
          "model_module": "@jupyter-widgets/base",
          "model_module_version": "1.2.0",
          "model_name": "LayoutModel",
          "state": {
            "_model_module": "@jupyter-widgets/base",
            "_model_module_version": "1.2.0",
            "_model_name": "LayoutModel",
            "_view_count": null,
            "_view_module": "@jupyter-widgets/base",
            "_view_module_version": "1.2.0",
            "_view_name": "LayoutView",
            "align_content": null,
            "align_items": null,
            "align_self": null,
            "border": null,
            "bottom": null,
            "display": null,
            "flex": null,
            "flex_flow": null,
            "grid_area": null,
            "grid_auto_columns": null,
            "grid_auto_flow": null,
            "grid_auto_rows": null,
            "grid_column": null,
            "grid_gap": null,
            "grid_row": null,
            "grid_template_areas": null,
            "grid_template_columns": null,
            "grid_template_rows": null,
            "height": null,
            "justify_content": null,
            "justify_items": null,
            "left": null,
            "margin": null,
            "max_height": null,
            "max_width": null,
            "min_height": null,
            "min_width": null,
            "object_fit": null,
            "object_position": null,
            "order": null,
            "overflow": null,
            "overflow_x": null,
            "overflow_y": null,
            "padding": null,
            "right": null,
            "top": null,
            "visibility": null,
            "width": null
          }
        },
        "aca8d495172547efb5d6dfcf58c553eb": {
          "model_module": "@jupyter-widgets/output",
          "model_module_version": "1.0.0",
          "model_name": "OutputModel",
          "state": {
            "_dom_classes": [],
            "_model_module": "@jupyter-widgets/output",
            "_model_module_version": "1.0.0",
            "_model_name": "OutputModel",
            "_view_count": null,
            "_view_module": "@jupyter-widgets/output",
            "_view_module_version": "1.0.0",
            "_view_name": "OutputView",
            "layout": "IPY_MODEL_bd5209cc4e284acf8a289ec079381820",
            "msg_id": "",
            "outputs": [
              {
                "data": {
                  "image/png": "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\n",
                  "text/plain": "<Figure size 800x500 with 1 Axes>"
                },
                "metadata": {},
                "output_type": "display_data"
              }
            ]
          }
        },
        "b349c5dd149e4df28af62d28dc988a90": {
          "model_module": "@jupyter-widgets/controls",
          "model_module_version": "1.5.0",
          "model_name": "ButtonStyleModel",
          "state": {
            "_model_module": "@jupyter-widgets/controls",
            "_model_module_version": "1.5.0",
            "_model_name": "ButtonStyleModel",
            "_view_count": null,
            "_view_module": "@jupyter-widgets/base",
            "_view_module_version": "1.2.0",
            "_view_name": "StyleView",
            "button_color": null,
            "font_weight": ""
          }
        },
        "b3883e017ceb4a2bbe6a6b3acc89fd62": {
          "model_module": "@jupyter-widgets/controls",
          "model_module_version": "1.5.0",
          "model_name": "DropdownModel",
          "state": {
            "_dom_classes": [],
            "_model_module": "@jupyter-widgets/controls",
            "_model_module_version": "1.5.0",
            "_model_name": "DropdownModel",
            "_options_labels": [
              "sigmoid",
              "tanh",
              "relu"
            ],
            "_view_count": null,
            "_view_module": "@jupyter-widgets/controls",
            "_view_module_version": "1.5.0",
            "_view_name": "DropdownView",
            "description": "Activation:",
            "description_tooltip": null,
            "disabled": false,
            "index": 0,
            "layout": "IPY_MODEL_0a805a0942d042bcb5c5db4a0d5427ef",
            "style": "IPY_MODEL_9e6957e77e394ab7a49666cebad90ea7"
          }
        },
        "b622c0ae140944c1befeeb0085e125bd": {
          "model_module": "@jupyter-widgets/controls",
          "model_module_version": "1.5.0",
          "model_name": "SliderStyleModel",
          "state": {
            "_model_module": "@jupyter-widgets/controls",
            "_model_module_version": "1.5.0",
            "_model_name": "SliderStyleModel",
            "_view_count": null,
            "_view_module": "@jupyter-widgets/base",
            "_view_module_version": "1.2.0",
            "_view_name": "StyleView",
            "description_width": "",
            "handle_color": null
          }
        },
        "b9950eebeb654ec3a4a54da478bce634": {
          "model_module": "@jupyter-widgets/base",
          "model_module_version": "1.2.0",
          "model_name": "LayoutModel",
          "state": {
            "_model_module": "@jupyter-widgets/base",
            "_model_module_version": "1.2.0",
            "_model_name": "LayoutModel",
            "_view_count": null,
            "_view_module": "@jupyter-widgets/base",
            "_view_module_version": "1.2.0",
            "_view_name": "LayoutView",
            "align_content": null,
            "align_items": null,
            "align_self": null,
            "border": null,
            "bottom": null,
            "display": null,
            "flex": null,
            "flex_flow": null,
            "grid_area": null,
            "grid_auto_columns": null,
            "grid_auto_flow": null,
            "grid_auto_rows": null,
            "grid_column": null,
            "grid_gap": null,
            "grid_row": null,
            "grid_template_areas": null,
            "grid_template_columns": null,
            "grid_template_rows": null,
            "height": null,
            "justify_content": null,
            "justify_items": null,
            "left": null,
            "margin": null,
            "max_height": null,
            "max_width": null,
            "min_height": null,
            "min_width": null,
            "object_fit": null,
            "object_position": null,
            "order": null,
            "overflow": null,
            "overflow_x": null,
            "overflow_y": null,
            "padding": null,
            "right": null,
            "top": null,
            "visibility": null,
            "width": null
          }
        },
        "b9ac9190687845ea96af6c64242414a2": {
          "model_module": "@jupyter-widgets/controls",
          "model_module_version": "1.5.0",
          "model_name": "DropdownModel",
          "state": {
            "_dom_classes": [],
            "_model_module": "@jupyter-widgets/controls",
            "_model_module_version": "1.5.0",
            "_model_name": "DropdownModel",
            "_options_labels": [
              "sigmoid",
              "tanh",
              "relu"
            ],
            "_view_count": null,
            "_view_module": "@jupyter-widgets/controls",
            "_view_module_version": "1.5.0",
            "_view_name": "DropdownView",
            "description": "Activation:",
            "description_tooltip": null,
            "disabled": false,
            "index": 0,
            "layout": "IPY_MODEL_88be9f0a11e14435b6570878be083500",
            "style": "IPY_MODEL_840262834e3e4a6a9fc458f2c4f8b259"
          }
        },
        "bd5209cc4e284acf8a289ec079381820": {
          "model_module": "@jupyter-widgets/base",
          "model_module_version": "1.2.0",
          "model_name": "LayoutModel",
          "state": {
            "_model_module": "@jupyter-widgets/base",
            "_model_module_version": "1.2.0",
            "_model_name": "LayoutModel",
            "_view_count": null,
            "_view_module": "@jupyter-widgets/base",
            "_view_module_version": "1.2.0",
            "_view_name": "LayoutView",
            "align_content": null,
            "align_items": null,
            "align_self": null,
            "border": null,
            "bottom": null,
            "display": null,
            "flex": null,
            "flex_flow": null,
            "grid_area": null,
            "grid_auto_columns": null,
            "grid_auto_flow": null,
            "grid_auto_rows": null,
            "grid_column": null,
            "grid_gap": null,
            "grid_row": null,
            "grid_template_areas": null,
            "grid_template_columns": null,
            "grid_template_rows": null,
            "height": null,
            "justify_content": null,
            "justify_items": null,
            "left": null,
            "margin": null,
            "max_height": null,
            "max_width": null,
            "min_height": null,
            "min_width": null,
            "object_fit": null,
            "object_position": null,
            "order": null,
            "overflow": null,
            "overflow_x": null,
            "overflow_y": null,
            "padding": null,
            "right": null,
            "top": null,
            "visibility": null,
            "width": null
          }
        },
        "c04af87b25864ed9a6ec280c4167f6de": {
          "model_module": "@jupyter-widgets/controls",
          "model_module_version": "1.5.0",
          "model_name": "FloatSliderModel",
          "state": {
            "_dom_classes": [],
            "_model_module": "@jupyter-widgets/controls",
            "_model_module_version": "1.5.0",
            "_model_name": "FloatSliderModel",
            "_view_count": null,
            "_view_module": "@jupyter-widgets/controls",
            "_view_module_version": "1.5.0",
            "_view_name": "FloatSliderView",
            "continuous_update": true,
            "description": "Weight:",
            "description_tooltip": null,
            "disabled": false,
            "layout": "IPY_MODEL_44e4b87a0b284baa9bdb424f67110fdf",
            "max": 5,
            "min": -5,
            "orientation": "horizontal",
            "readout": true,
            "readout_format": ".2f",
            "step": 0.1,
            "style": "IPY_MODEL_2e2537e67a8c4bc4b8422760c4eebe67",
            "value": -2.3
          }
        },
        "c1b8b673afb24323988a7ab123cb444d": {
          "model_module": "@jupyter-widgets/controls",
          "model_module_version": "1.5.0",
          "model_name": "VBoxModel",
          "state": {
            "_dom_classes": [],
            "_model_module": "@jupyter-widgets/controls",
            "_model_module_version": "1.5.0",
            "_model_name": "VBoxModel",
            "_view_count": null,
            "_view_module": "@jupyter-widgets/controls",
            "_view_module_version": "1.5.0",
            "_view_name": "VBoxView",
            "box_style": "",
            "children": [
              "IPY_MODEL_f419c192095647cb8205d7ef4976dd30",
              "IPY_MODEL_cbcdfe80930e48c69a25b6f40a177876"
            ],
            "layout": "IPY_MODEL_e071258aa7944e0bbe124f2f894480da"
          }
        },
        "cbcdfe80930e48c69a25b6f40a177876": {
          "model_module": "@jupyter-widgets/controls",
          "model_module_version": "1.5.0",
          "model_name": "HBoxModel",
          "state": {
            "_dom_classes": [],
            "_model_module": "@jupyter-widgets/controls",
            "_model_module_version": "1.5.0",
            "_model_name": "HBoxModel",
            "_view_count": null,
            "_view_module": "@jupyter-widgets/controls",
            "_view_module_version": "1.5.0",
            "_view_name": "HBoxView",
            "box_style": "",
            "children": [
              "IPY_MODEL_814c386cceb042c88a6267238b052186",
              "IPY_MODEL_b9ac9190687845ea96af6c64242414a2"
            ],
            "layout": "IPY_MODEL_361355230eae434cb9612587b18d54b9"
          }
        },
        "d2c5e7a79c7843659e5ed26d6f580635": {
          "model_module": "@jupyter-widgets/base",
          "model_module_version": "1.2.0",
          "model_name": "LayoutModel",
          "state": {
            "_model_module": "@jupyter-widgets/base",
            "_model_module_version": "1.2.0",
            "_model_name": "LayoutModel",
            "_view_count": null,
            "_view_module": "@jupyter-widgets/base",
            "_view_module_version": "1.2.0",
            "_view_name": "LayoutView",
            "align_content": null,
            "align_items": null,
            "align_self": null,
            "border": null,
            "bottom": null,
            "display": null,
            "flex": null,
            "flex_flow": null,
            "grid_area": null,
            "grid_auto_columns": null,
            "grid_auto_flow": null,
            "grid_auto_rows": null,
            "grid_column": null,
            "grid_gap": null,
            "grid_row": null,
            "grid_template_areas": null,
            "grid_template_columns": null,
            "grid_template_rows": null,
            "height": null,
            "justify_content": null,
            "justify_items": null,
            "left": null,
            "margin": null,
            "max_height": null,
            "max_width": null,
            "min_height": null,
            "min_width": null,
            "object_fit": null,
            "object_position": null,
            "order": null,
            "overflow": null,
            "overflow_x": null,
            "overflow_y": null,
            "padding": null,
            "right": null,
            "top": null,
            "visibility": null,
            "width": null
          }
        },
        "d31911ff3f8d44939af1be5b97720c94": {
          "model_module": "@jupyter-widgets/base",
          "model_module_version": "1.2.0",
          "model_name": "LayoutModel",
          "state": {
            "_model_module": "@jupyter-widgets/base",
            "_model_module_version": "1.2.0",
            "_model_name": "LayoutModel",
            "_view_count": null,
            "_view_module": "@jupyter-widgets/base",
            "_view_module_version": "1.2.0",
            "_view_name": "LayoutView",
            "align_content": null,
            "align_items": null,
            "align_self": null,
            "border": null,
            "bottom": null,
            "display": null,
            "flex": null,
            "flex_flow": null,
            "grid_area": null,
            "grid_auto_columns": null,
            "grid_auto_flow": null,
            "grid_auto_rows": null,
            "grid_column": null,
            "grid_gap": null,
            "grid_row": null,
            "grid_template_areas": null,
            "grid_template_columns": null,
            "grid_template_rows": null,
            "height": null,
            "justify_content": null,
            "justify_items": null,
            "left": null,
            "margin": null,
            "max_height": null,
            "max_width": null,
            "min_height": null,
            "min_width": null,
            "object_fit": null,
            "object_position": null,
            "order": null,
            "overflow": null,
            "overflow_x": null,
            "overflow_y": null,
            "padding": null,
            "right": null,
            "top": null,
            "visibility": null,
            "width": null
          }
        },
        "d3de92353bda41f08f5b2ad5997dc324": {
          "model_module": "@jupyter-widgets/base",
          "model_module_version": "1.2.0",
          "model_name": "LayoutModel",
          "state": {
            "_model_module": "@jupyter-widgets/base",
            "_model_module_version": "1.2.0",
            "_model_name": "LayoutModel",
            "_view_count": null,
            "_view_module": "@jupyter-widgets/base",
            "_view_module_version": "1.2.0",
            "_view_name": "LayoutView",
            "align_content": null,
            "align_items": null,
            "align_self": null,
            "border": null,
            "bottom": null,
            "display": null,
            "flex": null,
            "flex_flow": null,
            "grid_area": null,
            "grid_auto_columns": null,
            "grid_auto_flow": null,
            "grid_auto_rows": null,
            "grid_column": null,
            "grid_gap": null,
            "grid_row": null,
            "grid_template_areas": null,
            "grid_template_columns": null,
            "grid_template_rows": null,
            "height": null,
            "justify_content": null,
            "justify_items": null,
            "left": null,
            "margin": null,
            "max_height": null,
            "max_width": null,
            "min_height": null,
            "min_width": null,
            "object_fit": null,
            "object_position": null,
            "order": null,
            "overflow": null,
            "overflow_x": null,
            "overflow_y": null,
            "padding": null,
            "right": null,
            "top": null,
            "visibility": null,
            "width": null
          }
        },
        "d730039288d04de581ba35dd3c31ab40": {
          "model_module": "@jupyter-widgets/base",
          "model_module_version": "1.2.0",
          "model_name": "LayoutModel",
          "state": {
            "_model_module": "@jupyter-widgets/base",
            "_model_module_version": "1.2.0",
            "_model_name": "LayoutModel",
            "_view_count": null,
            "_view_module": "@jupyter-widgets/base",
            "_view_module_version": "1.2.0",
            "_view_name": "LayoutView",
            "align_content": null,
            "align_items": null,
            "align_self": null,
            "border": null,
            "bottom": null,
            "display": null,
            "flex": null,
            "flex_flow": null,
            "grid_area": null,
            "grid_auto_columns": null,
            "grid_auto_flow": null,
            "grid_auto_rows": null,
            "grid_column": null,
            "grid_gap": null,
            "grid_row": null,
            "grid_template_areas": null,
            "grid_template_columns": null,
            "grid_template_rows": null,
            "height": null,
            "justify_content": null,
            "justify_items": null,
            "left": null,
            "margin": null,
            "max_height": null,
            "max_width": null,
            "min_height": null,
            "min_width": null,
            "object_fit": null,
            "object_position": null,
            "order": null,
            "overflow": null,
            "overflow_x": null,
            "overflow_y": null,
            "padding": null,
            "right": null,
            "top": null,
            "visibility": null,
            "width": null
          }
        },
        "d8702d2e7aed42649ee0b16a6bdba812": {
          "model_module": "@jupyter-widgets/controls",
          "model_module_version": "1.5.0",
          "model_name": "FloatSliderModel",
          "state": {
            "_dom_classes": [],
            "_model_module": "@jupyter-widgets/controls",
            "_model_module_version": "1.5.0",
            "_model_name": "FloatSliderModel",
            "_view_count": null,
            "_view_module": "@jupyter-widgets/controls",
            "_view_module_version": "1.5.0",
            "_view_name": "FloatSliderView",
            "continuous_update": true,
            "description": "Weight2:",
            "description_tooltip": null,
            "disabled": false,
            "layout": "IPY_MODEL_20753ffe051d48bc94257c8f8056b2cd",
            "max": 5,
            "min": -5,
            "orientation": "horizontal",
            "readout": true,
            "readout_format": ".2f",
            "step": 0.1,
            "style": "IPY_MODEL_2d234b70cc8544dea9b95e244dbd4994",
            "value": -1.9
          }
        },
        "de203ee090ea483f9b04b7df0ca17517": {
          "model_module": "@jupyter-widgets/controls",
          "model_module_version": "1.5.0",
          "model_name": "SliderStyleModel",
          "state": {
            "_model_module": "@jupyter-widgets/controls",
            "_model_module_version": "1.5.0",
            "_model_name": "SliderStyleModel",
            "_view_count": null,
            "_view_module": "@jupyter-widgets/base",
            "_view_module_version": "1.2.0",
            "_view_name": "StyleView",
            "description_width": "",
            "handle_color": null
          }
        },
        "de499adc9c41470692107c229c8d132f": {
          "model_module": "@jupyter-widgets/controls",
          "model_module_version": "1.5.0",
          "model_name": "VBoxModel",
          "state": {
            "_dom_classes": [
              "widget-interact"
            ],
            "_model_module": "@jupyter-widgets/controls",
            "_model_module_version": "1.5.0",
            "_model_name": "VBoxModel",
            "_view_count": null,
            "_view_module": "@jupyter-widgets/controls",
            "_view_module_version": "1.5.0",
            "_view_name": "VBoxView",
            "box_style": "",
            "children": [
              "IPY_MODEL_39cad0e6c11e427ba41e2f8acdabb643",
              "IPY_MODEL_ffe22caa9ee441439c7b6ae51394e5b4",
              "IPY_MODEL_814c386cceb042c88a6267238b052186",
              "IPY_MODEL_b9ac9190687845ea96af6c64242414a2",
              "IPY_MODEL_30cd236fccb14383b641fa85322545db"
            ],
            "layout": "IPY_MODEL_b9950eebeb654ec3a4a54da478bce634"
          }
        },
        "df513f275eb84c17aacdaddcfd98c83d": {
          "model_module": "@jupyter-widgets/base",
          "model_module_version": "1.2.0",
          "model_name": "LayoutModel",
          "state": {
            "_model_module": "@jupyter-widgets/base",
            "_model_module_version": "1.2.0",
            "_model_name": "LayoutModel",
            "_view_count": null,
            "_view_module": "@jupyter-widgets/base",
            "_view_module_version": "1.2.0",
            "_view_name": "LayoutView",
            "align_content": null,
            "align_items": null,
            "align_self": null,
            "border": null,
            "bottom": null,
            "display": null,
            "flex": null,
            "flex_flow": null,
            "grid_area": null,
            "grid_auto_columns": null,
            "grid_auto_flow": null,
            "grid_auto_rows": null,
            "grid_column": null,
            "grid_gap": null,
            "grid_row": null,
            "grid_template_areas": null,
            "grid_template_columns": null,
            "grid_template_rows": null,
            "height": null,
            "justify_content": null,
            "justify_items": null,
            "left": null,
            "margin": null,
            "max_height": null,
            "max_width": null,
            "min_height": null,
            "min_width": null,
            "object_fit": null,
            "object_position": null,
            "order": null,
            "overflow": null,
            "overflow_x": null,
            "overflow_y": null,
            "padding": null,
            "right": null,
            "top": null,
            "visibility": null,
            "width": null
          }
        },
        "df84a76d7c224ecc9059a680f2e2f07e": {
          "model_module": "@jupyter-widgets/base",
          "model_module_version": "1.2.0",
          "model_name": "LayoutModel",
          "state": {
            "_model_module": "@jupyter-widgets/base",
            "_model_module_version": "1.2.0",
            "_model_name": "LayoutModel",
            "_view_count": null,
            "_view_module": "@jupyter-widgets/base",
            "_view_module_version": "1.2.0",
            "_view_name": "LayoutView",
            "align_content": null,
            "align_items": null,
            "align_self": null,
            "border": null,
            "bottom": null,
            "display": null,
            "flex": null,
            "flex_flow": null,
            "grid_area": null,
            "grid_auto_columns": null,
            "grid_auto_flow": null,
            "grid_auto_rows": null,
            "grid_column": null,
            "grid_gap": null,
            "grid_row": null,
            "grid_template_areas": null,
            "grid_template_columns": null,
            "grid_template_rows": null,
            "height": null,
            "justify_content": null,
            "justify_items": null,
            "left": null,
            "margin": null,
            "max_height": null,
            "max_width": null,
            "min_height": null,
            "min_width": null,
            "object_fit": null,
            "object_position": null,
            "order": null,
            "overflow": null,
            "overflow_x": null,
            "overflow_y": null,
            "padding": null,
            "right": null,
            "top": null,
            "visibility": null,
            "width": null
          }
        },
        "e071258aa7944e0bbe124f2f894480da": {
          "model_module": "@jupyter-widgets/base",
          "model_module_version": "1.2.0",
          "model_name": "LayoutModel",
          "state": {
            "_model_module": "@jupyter-widgets/base",
            "_model_module_version": "1.2.0",
            "_model_name": "LayoutModel",
            "_view_count": null,
            "_view_module": "@jupyter-widgets/base",
            "_view_module_version": "1.2.0",
            "_view_name": "LayoutView",
            "align_content": null,
            "align_items": null,
            "align_self": null,
            "border": null,
            "bottom": null,
            "display": null,
            "flex": null,
            "flex_flow": null,
            "grid_area": null,
            "grid_auto_columns": null,
            "grid_auto_flow": null,
            "grid_auto_rows": null,
            "grid_column": null,
            "grid_gap": null,
            "grid_row": null,
            "grid_template_areas": null,
            "grid_template_columns": null,
            "grid_template_rows": null,
            "height": null,
            "justify_content": null,
            "justify_items": null,
            "left": null,
            "margin": null,
            "max_height": null,
            "max_width": null,
            "min_height": null,
            "min_width": null,
            "object_fit": null,
            "object_position": null,
            "order": null,
            "overflow": null,
            "overflow_x": null,
            "overflow_y": null,
            "padding": null,
            "right": null,
            "top": null,
            "visibility": null,
            "width": null
          }
        },
        "e232b70b383246cbba76bf7c29bb37fe": {
          "model_module": "@jupyter-widgets/controls",
          "model_module_version": "1.5.0",
          "model_name": "DescriptionStyleModel",
          "state": {
            "_model_module": "@jupyter-widgets/controls",
            "_model_module_version": "1.5.0",
            "_model_name": "DescriptionStyleModel",
            "_view_count": null,
            "_view_module": "@jupyter-widgets/base",
            "_view_module_version": "1.2.0",
            "_view_name": "StyleView",
            "description_width": ""
          }
        },
        "e4b22b971ed441c48070bfc527a1e0d8": {
          "model_module": "@jupyter-widgets/base",
          "model_module_version": "1.2.0",
          "model_name": "LayoutModel",
          "state": {
            "_model_module": "@jupyter-widgets/base",
            "_model_module_version": "1.2.0",
            "_model_name": "LayoutModel",
            "_view_count": null,
            "_view_module": "@jupyter-widgets/base",
            "_view_module_version": "1.2.0",
            "_view_name": "LayoutView",
            "align_content": null,
            "align_items": null,
            "align_self": null,
            "border": null,
            "bottom": null,
            "display": null,
            "flex": null,
            "flex_flow": null,
            "grid_area": null,
            "grid_auto_columns": null,
            "grid_auto_flow": null,
            "grid_auto_rows": null,
            "grid_column": null,
            "grid_gap": null,
            "grid_row": null,
            "grid_template_areas": null,
            "grid_template_columns": null,
            "grid_template_rows": null,
            "height": null,
            "justify_content": null,
            "justify_items": null,
            "left": null,
            "margin": null,
            "max_height": null,
            "max_width": null,
            "min_height": null,
            "min_width": null,
            "object_fit": null,
            "object_position": null,
            "order": null,
            "overflow": null,
            "overflow_x": null,
            "overflow_y": null,
            "padding": null,
            "right": null,
            "top": null,
            "visibility": null,
            "width": null
          }
        },
        "ea30b36312084509a7b09a8db853f74c": {
          "model_module": "@jupyter-widgets/base",
          "model_module_version": "1.2.0",
          "model_name": "LayoutModel",
          "state": {
            "_model_module": "@jupyter-widgets/base",
            "_model_module_version": "1.2.0",
            "_model_name": "LayoutModel",
            "_view_count": null,
            "_view_module": "@jupyter-widgets/base",
            "_view_module_version": "1.2.0",
            "_view_name": "LayoutView",
            "align_content": null,
            "align_items": null,
            "align_self": null,
            "border": null,
            "bottom": null,
            "display": null,
            "flex": null,
            "flex_flow": null,
            "grid_area": null,
            "grid_auto_columns": null,
            "grid_auto_flow": null,
            "grid_auto_rows": null,
            "grid_column": null,
            "grid_gap": null,
            "grid_row": null,
            "grid_template_areas": null,
            "grid_template_columns": null,
            "grid_template_rows": null,
            "height": null,
            "justify_content": null,
            "justify_items": null,
            "left": null,
            "margin": null,
            "max_height": null,
            "max_width": null,
            "min_height": null,
            "min_width": null,
            "object_fit": null,
            "object_position": null,
            "order": null,
            "overflow": null,
            "overflow_x": null,
            "overflow_y": null,
            "padding": null,
            "right": null,
            "top": null,
            "visibility": null,
            "width": null
          }
        },
        "ea68f981cd82401ea93a1d62213d29ad": {
          "model_module": "@jupyter-widgets/controls",
          "model_module_version": "1.5.0",
          "model_name": "SliderStyleModel",
          "state": {
            "_model_module": "@jupyter-widgets/controls",
            "_model_module_version": "1.5.0",
            "_model_name": "SliderStyleModel",
            "_view_count": null,
            "_view_module": "@jupyter-widgets/base",
            "_view_module_version": "1.2.0",
            "_view_name": "StyleView",
            "description_width": "",
            "handle_color": null
          }
        },
        "ea6f13c0433543a8be244828bd0f25f0": {
          "model_module": "@jupyter-widgets/base",
          "model_module_version": "1.2.0",
          "model_name": "LayoutModel",
          "state": {
            "_model_module": "@jupyter-widgets/base",
            "_model_module_version": "1.2.0",
            "_model_name": "LayoutModel",
            "_view_count": null,
            "_view_module": "@jupyter-widgets/base",
            "_view_module_version": "1.2.0",
            "_view_name": "LayoutView",
            "align_content": null,
            "align_items": null,
            "align_self": null,
            "border": null,
            "bottom": null,
            "display": null,
            "flex": null,
            "flex_flow": null,
            "grid_area": null,
            "grid_auto_columns": null,
            "grid_auto_flow": null,
            "grid_auto_rows": null,
            "grid_column": null,
            "grid_gap": null,
            "grid_row": null,
            "grid_template_areas": null,
            "grid_template_columns": null,
            "grid_template_rows": null,
            "height": null,
            "justify_content": null,
            "justify_items": null,
            "left": null,
            "margin": null,
            "max_height": null,
            "max_width": null,
            "min_height": null,
            "min_width": null,
            "object_fit": null,
            "object_position": null,
            "order": null,
            "overflow": null,
            "overflow_x": null,
            "overflow_y": null,
            "padding": null,
            "right": null,
            "top": null,
            "visibility": null,
            "width": null
          }
        },
        "f419c192095647cb8205d7ef4976dd30": {
          "model_module": "@jupyter-widgets/controls",
          "model_module_version": "1.5.0",
          "model_name": "HBoxModel",
          "state": {
            "_dom_classes": [],
            "_model_module": "@jupyter-widgets/controls",
            "_model_module_version": "1.5.0",
            "_model_name": "HBoxModel",
            "_view_count": null,
            "_view_module": "@jupyter-widgets/controls",
            "_view_module_version": "1.5.0",
            "_view_name": "HBoxView",
            "box_style": "",
            "children": [
              "IPY_MODEL_39cad0e6c11e427ba41e2f8acdabb643",
              "IPY_MODEL_ffe22caa9ee441439c7b6ae51394e5b4"
            ],
            "layout": "IPY_MODEL_2e95f9b1508b4ad0813f7fa779c6f404"
          }
        },
        "f45adf7a8b974e8fb259f5b29db4ec61": {
          "model_module": "@jupyter-widgets/base",
          "model_module_version": "1.2.0",
          "model_name": "LayoutModel",
          "state": {
            "_model_module": "@jupyter-widgets/base",
            "_model_module_version": "1.2.0",
            "_model_name": "LayoutModel",
            "_view_count": null,
            "_view_module": "@jupyter-widgets/base",
            "_view_module_version": "1.2.0",
            "_view_name": "LayoutView",
            "align_content": null,
            "align_items": null,
            "align_self": null,
            "border": null,
            "bottom": null,
            "display": null,
            "flex": null,
            "flex_flow": null,
            "grid_area": null,
            "grid_auto_columns": null,
            "grid_auto_flow": null,
            "grid_auto_rows": null,
            "grid_column": null,
            "grid_gap": null,
            "grid_row": null,
            "grid_template_areas": null,
            "grid_template_columns": null,
            "grid_template_rows": null,
            "height": null,
            "justify_content": null,
            "justify_items": null,
            "left": null,
            "margin": null,
            "max_height": null,
            "max_width": null,
            "min_height": null,
            "min_width": null,
            "object_fit": null,
            "object_position": null,
            "order": null,
            "overflow": null,
            "overflow_x": null,
            "overflow_y": null,
            "padding": null,
            "right": null,
            "top": null,
            "visibility": null,
            "width": null
          }
        },
        "f847676c99b5459389abc9eb1e30fb12": {
          "model_module": "@jupyter-widgets/base",
          "model_module_version": "1.2.0",
          "model_name": "LayoutModel",
          "state": {
            "_model_module": "@jupyter-widgets/base",
            "_model_module_version": "1.2.0",
            "_model_name": "LayoutModel",
            "_view_count": null,
            "_view_module": "@jupyter-widgets/base",
            "_view_module_version": "1.2.0",
            "_view_name": "LayoutView",
            "align_content": null,
            "align_items": null,
            "align_self": null,
            "border": null,
            "bottom": null,
            "display": null,
            "flex": null,
            "flex_flow": null,
            "grid_area": null,
            "grid_auto_columns": null,
            "grid_auto_flow": null,
            "grid_auto_rows": null,
            "grid_column": null,
            "grid_gap": null,
            "grid_row": null,
            "grid_template_areas": null,
            "grid_template_columns": null,
            "grid_template_rows": null,
            "height": null,
            "justify_content": null,
            "justify_items": null,
            "left": null,
            "margin": null,
            "max_height": null,
            "max_width": null,
            "min_height": null,
            "min_width": null,
            "object_fit": null,
            "object_position": null,
            "order": null,
            "overflow": null,
            "overflow_x": null,
            "overflow_y": null,
            "padding": null,
            "right": null,
            "top": null,
            "visibility": null,
            "width": null
          }
        },
        "fa423718a8944563bafc0a0ca19dd716": {
          "model_module": "@jupyter-widgets/controls",
          "model_module_version": "1.5.0",
          "model_name": "ButtonModel",
          "state": {
            "_dom_classes": [],
            "_model_module": "@jupyter-widgets/controls",
            "_model_module_version": "1.5.0",
            "_model_name": "ButtonModel",
            "_view_count": null,
            "_view_module": "@jupyter-widgets/controls",
            "_view_module_version": "1.5.0",
            "_view_name": "ButtonView",
            "button_style": "",
            "description": "Run Forward Pass",
            "disabled": false,
            "icon": "",
            "layout": "IPY_MODEL_41573fa8b9884aee9ac01a8371ff91c1",
            "style": "IPY_MODEL_b349c5dd149e4df28af62d28dc988a90",
            "tooltip": ""
          }
        },
        "ffe22caa9ee441439c7b6ae51394e5b4": {
          "model_module": "@jupyter-widgets/controls",
          "model_module_version": "1.5.0",
          "model_name": "FloatSliderModel",
          "state": {
            "_dom_classes": [],
            "_model_module": "@jupyter-widgets/controls",
            "_model_module_version": "1.5.0",
            "_model_name": "FloatSliderModel",
            "_view_count": null,
            "_view_module": "@jupyter-widgets/controls",
            "_view_module_version": "1.5.0",
            "_view_name": "FloatSliderView",
            "continuous_update": true,
            "description": "Weight2:",
            "description_tooltip": null,
            "disabled": false,
            "layout": "IPY_MODEL_f45adf7a8b974e8fb259f5b29db4ec61",
            "max": 10,
            "min": -10,
            "orientation": "horizontal",
            "readout": true,
            "readout_format": ".2f",
            "step": 0.1,
            "style": "IPY_MODEL_b622c0ae140944c1befeeb0085e125bd",
            "value": -4.8
          }
        }
      }
    }
  },
  "nbformat": 4,
  "nbformat_minor": 0
}
