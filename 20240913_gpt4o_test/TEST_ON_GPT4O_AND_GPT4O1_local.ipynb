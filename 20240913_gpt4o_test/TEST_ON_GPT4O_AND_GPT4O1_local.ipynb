version https://git-lfs.github.com/spec/v1
oid sha256:bda1ef36d01a468c87c77bcd3fc91a9cf667f88cc22d66c11e804538c06e16c6
size 341211
