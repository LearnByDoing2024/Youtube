{
  "cells": [
    {
      "cell_type": "markdown",
      "metadata": {
        "id": "view-in-github",
        "colab_type": "text"
      },
      "source": [
        "<a href=\"https://colab.research.google.com/github/LearnByDoing2024/Youtube/blob/main/Episode2%2C_numpy_intro_transformerplayground_notebook.ipynb\" target=\"_parent\"><img src=\"https://colab.research.google.com/assets/colab-badge.svg\" alt=\"Open In Colab\"/></a>"
      ]
    },
    {
      "cell_type": "markdown",
      "source": [
        "### Vector\n",
        "A **vector** is a 1-dimensional array of numbers. It can be thought of as a point in space that has both **magnitude** and **direction**.\n",
        "\n",
        "For example, a 2D vector looks like this:  \n",
        "$$ \\mathbf{v} = \\begin{bmatrix} 3 \\\\ 4 \\end{bmatrix} $$\n",
        "- Magnitude: $$ \\sqrt{3^2 + 4^2} = 5 $$\n",
        "\n",
        "### Array\n",
        "An **array** is a collection of numbers or values arranged in a specific order. It can be 1-dimensional (like a vector) or multi-dimensional.\n",
        "\n",
        "- 1D array: $$[1, 2, 3]$$\n",
        "- 2D array (matrix): $$[[1, 2], [3, 4]]$$\n",
        "\n",
        "### Matrix\n",
        "A **matrix** is a 2-dimensional array of numbers arranged in rows and columns. It's used in various mathematical operations like transformations, solving equations, and more.\n",
        "\n",
        "For example:\n",
        "$$ \\mathbf{A} = \\begin{bmatrix} 1 & 2 \\\\ 3 & 4 \\end{bmatrix} $$\n",
        "\n",
        "### Determinant\n",
        "The **determinant** is a special number that can be calculated from a square matrix. It gives information about the matrix, such as whether it is invertible or the scale of transformation.\n",
        "\n",
        "For a 2x2 matrix:\n",
        "$$ \\text{det}(A) = ad - bc $$\n",
        "\n",
        "For the matrix:\n",
        "$$ \\mathbf{A} = \\begin{bmatrix} a & b \\\\ c & d \\end{bmatrix} $$\n",
        "\n",
        "The determinant is $$ \\text{det}(A) = ad - bc $$. If the determinant is 0, the matrix is **singular** (not invertible)."
      ],
      "metadata": {
        "id": "v7_Q-L0397NB"
      },
      "id": "v7_Q-L0397NB"
    },
    {
      "cell_type": "markdown",
      "metadata": {
        "id": "Hs-ijpWnszAG"
      },
      "source": [
        "# NumPy from Beginner to Advanced\n",
        "This notebook will guide you through key features of NumPy, from basic array operations to advanced linear algebra.\n"
      ],
      "id": "Hs-ijpWnszAG"
    },
    {
      "cell_type": "markdown",
      "metadata": {
        "id": "2RIDdDwSszAI"
      },
      "source": [
        "## 1. Beginner Level\n",
        "\n",
        "### 1.1 Introduction to NumPy\n",
        "NumPy is a powerful library for numerical computations in Python. It allows efficient handling of arrays and matrices.\n"
      ],
      "id": "2RIDdDwSszAI"
    },
    {
      "cell_type": "code",
      "metadata": {
        "colab": {
          "base_uri": "https://localhost:8080/"
        },
        "id": "mFoj3hBIszAI",
        "outputId": "9dd92b63-af13-418c-e2ff-c11d68ae36f5"
      },
      "source": [
        "# Importing NumPy\n",
        "import numpy as np\n",
        "\n",
        "# Creating a simple array\n",
        "arr = np.array([1, 2, 3, 4, 5])\n",
        "print(\"Array:\", arr)"
      ],
      "id": "mFoj3hBIszAI",
      "execution_count": 2,
      "outputs": [
        {
          "output_type": "stream",
          "name": "stdout",
          "text": [
            "Array: [1 2 3 4 5]\n"
          ]
        }
      ]
    },
    {
      "cell_type": "markdown",
      "metadata": {
        "id": "W0TaE2w-szAJ"
      },
      "source": [
        "### 1.2 Basic Array Operations\n",
        "Array operations such as indexing, slicing, and reshaping are fundamental to using NumPy."
      ],
      "id": "W0TaE2w-szAJ"
    },
    {
      "cell_type": "code",
      "metadata": {
        "colab": {
          "base_uri": "https://localhost:8080/"
        },
        "id": "yzhN8GQgszAJ",
        "outputId": "702f463b-8fca-4b91-b34a-6d12a3327aa5"
      },
      "source": [
        "# Indexing and slicing\n",
        "arr_slice = arr[1:4]\n",
        "print(\"Sliced Array:\", arr_slice)\n",
        "\n",
        "# Reshaping\n",
        "reshaped_arr = np.reshape(arr, (5, 1))\n",
        "print(\"Reshaped Array:\\n\", reshaped_arr)"
      ],
      "id": "yzhN8GQgszAJ",
      "execution_count": 4,
      "outputs": [
        {
          "output_type": "stream",
          "name": "stdout",
          "text": [
            "Sliced Array: [2 3 4]\n",
            "Reshaped Array:\n",
            " [[1]\n",
            " [2]\n",
            " [3]\n",
            " [4]\n",
            " [5]]\n"
          ]
        }
      ]
    },
    {
      "cell_type": "markdown",
      "metadata": {
        "id": "6cLH1D-UszAJ"
      },
      "source": [
        "## 2. Intermediate Level\n",
        "\n",
        "### 2.1 Mathematical Operations\n",
        "NumPy supports element-wise operations and broadcasting, allowing efficient operations over arrays."
      ],
      "id": "6cLH1D-UszAJ"
    },
    {
      "cell_type": "code",
      "metadata": {
        "colab": {
          "base_uri": "https://localhost:8080/"
        },
        "id": "6Enua0M0szAK",
        "outputId": "5e1acc9f-2210-4c28-bc9a-2c0548138eb3"
      },
      "source": [
        "# Element-wise addition\n",
        "arr2 = np.array([10, 20, 30, 40, 50])\n",
        "sum_arr = arr + arr2\n",
        "print(\"Sum of arrays:\", sum_arr)\n",
        "\n",
        "# Broadcasting example\n",
        "broadcast_arr = arr + 10\n",
        "print(\"Broadcasted Array:\", broadcast_arr)"
      ],
      "id": "6Enua0M0szAK",
      "execution_count": 5,
      "outputs": [
        {
          "output_type": "stream",
          "name": "stdout",
          "text": [
            "Sum of arrays: [11 22 33 44 55]\n",
            "Broadcasted Array: [11 12 13 14 15]\n"
          ]
        }
      ]
    },
    {
      "cell_type": "markdown",
      "metadata": {
        "id": "AsKjnyFtszAK"
      },
      "source": [
        "### 2.2 Statistical Functions\n",
        "NumPy provides a wide range of statistical functions, such as calculating the mean and standard deviation."
      ],
      "id": "AsKjnyFtszAK"
    },
    {
      "cell_type": "code",
      "metadata": {
        "colab": {
          "base_uri": "https://localhost:8080/"
        },
        "id": "qW_1C3iAszAK",
        "outputId": "9ceb22ba-8c25-4f79-ff35-cbf67f3dea03"
      },
      "source": [
        "# Statistical operations\n",
        "mean_value = np.mean(arr)\n",
        "std_dev = np.std(arr)\n",
        "print(\"Mean:\", mean_value)\n",
        "print(\"Standard Deviation:\", std_dev)"
      ],
      "id": "qW_1C3iAszAK",
      "execution_count": 4,
      "outputs": [
        {
          "output_type": "stream",
          "name": "stdout",
          "text": [
            "Mean: 3.0\n",
            "Standard Deviation: 1.4142135623730951\n"
          ]
        }
      ]
    },
    {
      "cell_type": "markdown",
      "metadata": {
        "id": "b1o3ssoUszAK"
      },
      "source": [
        "## 3. Advanced Level\n",
        "\n",
        "### 3.1 Working with Multidimensional Arrays\n",
        "Learn how to create and manipulate multidimensional arrays, also known as matrices."
      ],
      "id": "b1o3ssoUszAK"
    },
    {
      "cell_type": "code",
      "metadata": {
        "colab": {
          "base_uri": "https://localhost:8080/"
        },
        "id": "Wy2kXHo1szAK",
        "outputId": "8f4bafb0-a5ad-46fa-ccfe-b688879a2259"
      },
      "source": [
        "# Creating a 2D array (matrix)\n",
        "matrix = np.array([[1, 2, 3], [4, 5, 6]])\n",
        "print(\"2D Array (Matrix):\\n\", matrix)\n",
        "\n",
        "# Matrix multiplication\n",
        "matrix2 = np.array([[7, 8], [9, 10], [11, 12]])\n",
        "product = np.dot(matrix, matrix2)\n",
        "print(\"Matrix Product:\\n\", product)"
      ],
      "id": "Wy2kXHo1szAK",
      "execution_count": 5,
      "outputs": [
        {
          "output_type": "stream",
          "name": "stdout",
          "text": [
            "2D Array (Matrix):\n",
            " [[1 2 3]\n",
            " [4 5 6]]\n",
            "Matrix Product:\n",
            " [[ 58  64]\n",
            " [139 154]]\n"
          ]
        }
      ]
    },
    {
      "cell_type": "markdown",
      "metadata": {
        "id": "wabbL08NszAK"
      },
      "source": [
        "### 3.2 Random Number Generation\n",
        "NumPy can generate random numbers, useful for simulations and modeling.\n"
      ],
      "id": "wabbL08NszAK"
    },
    {
      "cell_type": "code",
      "metadata": {
        "colab": {
          "base_uri": "https://localhost:8080/"
        },
        "id": "wdSm1AOLszAL",
        "outputId": "6a466b05-880c-4ded-ca8d-4b8a267c1c95"
      },
      "source": [
        "# Generating random numbers\n",
        "random_arr = np.random.random((3, 3))\n",
        "print(\"Random Array:\\n\", random_arr)\n",
        "\n",
        "# Random integers\n",
        "random_ints = np.random.randint(1, 100, size=(3, 3))\n",
        "print(\"Random Integers:\\n\", random_ints)"
      ],
      "id": "wdSm1AOLszAL",
      "execution_count": 6,
      "outputs": [
        {
          "output_type": "stream",
          "name": "stdout",
          "text": [
            "Random Array:\n",
            " [[0.74353091 0.19679905 0.78589128]\n",
            " [0.09581776 0.30821031 0.03616223]\n",
            " [0.95344653 0.15733689 0.06067068]]\n",
            "Random Integers:\n",
            " [[66  2 32]\n",
            " [15 48 18]\n",
            " [53  7 53]]\n"
          ]
        }
      ]
    },
    {
      "cell_type": "markdown",
      "metadata": {
        "id": "17aMY6t4szAL"
      },
      "source": [
        "### 3.3 Linear Algebra and Advanced Functions\n",
        "NumPy's linear algebra capabilities include solving systems of equations and computing determinants."
      ],
      "id": "17aMY6t4szAL"
    },
    {
      "cell_type": "code",
      "metadata": {
        "colab": {
          "base_uri": "https://localhost:8080/"
        },
        "id": "QHd7M4BqszAL",
        "outputId": "9b22cf7e-bb42-4cef-8e00-931a9feda8fc"
      },
      "source": [
        "# Solving systems of equations\n",
        "coeff_matrix = np.array([[3, 1], [1, 2]])\n",
        "const_matrix = np.array([9, 8])\n",
        "solutions = np.linalg.solve(coeff_matrix, const_matrix)\n",
        "print(\"Solutions to the system of equations:\", solutions)\n",
        "\n",
        "# Determinant of a matrix\n",
        "det = np.linalg.det(coeff_matrix)\n",
        "print(\"Determinant of the matrix:\", det)"
      ],
      "id": "QHd7M4BqszAL",
      "execution_count": 7,
      "outputs": [
        {
          "output_type": "stream",
          "name": "stdout",
          "text": [
            "Solutions to the system of equations: [2. 3.]\n",
            "Determinant of the matrix: 5.000000000000001\n"
          ]
        }
      ]
    },
    {
      "cell_type": "markdown",
      "source": [
        "#### Explanation:\n",
        "- **`coeff_matrix`** represents the coefficients of the variables in the system of equations.\n",
        "  - This matrix represents the system:\n",
        "    $$\n",
        "    3x + 1y = 9$$\n",
        "    $$1x + 2y = 8\n",
        "    $$\n",
        "- **`const_matrix`** is the constants on the right-hand side of the equations.\n",
        "- **`np.linalg.solve(coeff_matrix, const_matrix)`** finds the values of `x` and `y` that satisfy both equations simultaneously. This is done using linear algebra techniques like Gaussian elimination.\n",
        "- The solution will be the values of `x` and `y`.\n",
        "\n",
        "Output:\n",
        "```\n",
        "Solutions to the system of equations: [2. 3.]\n",
        "```\n",
        "So, $$ x = 2 $$ and $$ y = 3 $$.\n",
        "\n",
        "### 2. Determinant of a Matrix\n",
        "The **determinant** of a matrix is a special number that gives important information about the matrix, such as whether the matrix is invertible or how much it scales the space it acts on. NumPy provides `np.linalg.det()` to calculate the determinant of a matrix.\n",
        "\n",
        "#### Explanation:\n",
        "- **`np.linalg.det(coeff_matrix)`** calculates the determinant of the coefficient matrix.\n",
        "  - For a 2x2 matrix $$\n",
        "  \\mathbf{A} = \\begin{bmatrix} a & b \\\\ c & d \\end{bmatrix}\n",
        "  $$\n",
        "  The determinant is given by:\n",
        "  $$\n",
        "  \\text{det}(A) = ad - bc\n",
        "  $$\n",
        "  In this case, for the matrix:\n",
        "  $$\n",
        "  \\begin{bmatrix} 3 & 1 \\\\ 1 & 2 \\end{bmatrix}\n",
        "  $$\n",
        "  The determinant is:\n",
        "  $$\n",
        "  \\text{det} = (3 \\times 2) - (1 \\times 1) = 6 - 1 = 5\n",
        "  $$\n",
        "\n",
        "Output:\n",
        "```\n",
        "Determinant of the matrix: 5.000000000000001\n",
        "```\n",
        "The determinant is 5, which is non-zero, meaning the matrix is invertible and the system of equations has a unique solution."
      ],
      "metadata": {
        "id": "2f60HJTwC6Kx"
      },
      "id": "2f60HJTwC6Kx"
    },
    {
      "cell_type": "markdown",
      "metadata": {
        "id": "uU1MnQlIszAL"
      },
      "source": [
        "## Conclusion\n",
        "NumPy is a versatile tool that boosts the performance of mathematical computations in Python. Continue exploring its documentation for more advanced topics."
      ],
      "id": "uU1MnQlIszAL"
    }
  ],
  "metadata": {
    "kernelspec": {
      "display_name": "Python 3",
      "language": "python",
      "name": "python3"
    },
    "language_info": {
      "codemirror_mode": {
        "name": "ipython",
        "version": 3
      },
      "file_extension": ".py",
      "mimetype": "text/x-python",
      "name": "python",
      "nbconvert_exporter": "python",
      "version": "3.7.10"
    },
    "colab": {
      "provenance": [],
      "include_colab_link": true
    }
  },
  "nbformat": 4,
  "nbformat_minor": 5
}